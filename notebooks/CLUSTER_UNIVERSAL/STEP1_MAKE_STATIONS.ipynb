{
 "cells": [
  {
   "cell_type": "markdown",
   "metadata": {},
   "source": [
    "# STEP1: Notebook for extracting stations (every 10 model points, no stations within 10 points of boundary) and visualizing\n",
    "\n",
    "# Stations get extracted as a .nc to ./DATASETS"
   ]
  },
  {
   "cell_type": "code",
   "execution_count": 44,
   "metadata": {},
   "outputs": [
    {
     "data": {
      "text/html": [
       "<script>\n",
       "code_show=true; \n",
       "function code_toggle() {\n",
       " if (code_show){\n",
       " $('div.input').hide();\n",
       " } else {\n",
       " $('div.input').show();\n",
       " }\n",
       " code_show = !code_show\n",
       "} \n",
       "$( document ).ready(code_toggle);\n",
       "</script>\n",
       "<form action=\"javascript:code_toggle()\"><input type=\"submit\" value=\"Click here to toggle on/off the raw code.\"></form>"
      ],
      "text/plain": [
       "<IPython.core.display.HTML object>"
      ]
     },
     "execution_count": 44,
     "metadata": {},
     "output_type": "execute_result"
    }
   ],
   "source": [
    "from IPython.display import HTML\n",
    "\n",
    "HTML('''<script>\n",
    "code_show=true; \n",
    "function code_toggle() {\n",
    " if (code_show){\n",
    " $('div.input').hide();\n",
    " } else {\n",
    " $('div.input').show();\n",
    " }\n",
    " code_show = !code_show\n",
    "} \n",
    "$( document ).ready(code_toggle);\n",
    "</script>\n",
    "<form action=\"javascript:code_toggle()\"><input type=\"submit\" value=\"Click here to toggle on/off the raw code.\"></form>''')"
   ]
  },
  {
   "cell_type": "code",
   "execution_count": 45,
   "metadata": {},
   "outputs": [],
   "source": [
    "import xarray as xr\n",
    "import numpy as np\n",
    "import netCDF4 as nc\n",
    "from salishsea_tools import (\n",
    "    viz_tools)\n",
    "import matplotlib.pyplot as plt"
   ]
  },
  {
   "cell_type": "markdown",
   "metadata": {},
   "source": [
    "###### set extract_station to True if you want to extract stations"
   ]
  },
  {
   "cell_type": "code",
   "execution_count": 46,
   "metadata": {},
   "outputs": [],
   "source": [
    "extract_station = False"
   ]
  },
  {
   "cell_type": "code",
   "execution_count": 47,
   "metadata": {},
   "outputs": [],
   "source": [
    "\n",
    "def make_stns(spacing):\n",
    "    \n",
    "    #take every nth x and y in domain, where n is given by spacing\n",
    "    xs =[]\n",
    "    ys =[]\n",
    "    count = 0\n",
    "    stn_x = []\n",
    "    stn_y = []\n",
    "    for i in range (0,200):\n",
    "        x = 2+i*spacing\n",
    "        if(x>397):\n",
    "            break\n",
    "        else:\n",
    "            xs.append(x)\n",
    "        \n",
    "    for j in range(0,400):\n",
    "        y = 2+j*spacing\n",
    "        if(y>897):\n",
    "            break\n",
    "        else:\n",
    "            ys.append(y)\n",
    "            \n",
    "    for a in range(0,len(xs)):\n",
    "        for b in range(0,len(ys)):\n",
    "            ts_x = xs[a]\n",
    "            ts_y = ys[b]\n",
    "            stn_x.append(ts_x)\n",
    "            stn_y.append(ts_y)\n",
    "            \n",
    "    return stn_x, stn_y\n",
    "\n",
    "def filter_stn_in_domain(stn_x,stn_y,fmask):\n",
    "    \n",
    "    # only append the stations that are in water\n",
    "    d_stn_x = []\n",
    "    d_stn_y = []\n",
    "    for s in range(0,len(stn_x)):\n",
    "        x = stn_x[s]\n",
    "        y = stn_y[s]\n",
    "        stn = fmask.values[y-1:y+2,x-1:x+2]\n",
    "        #if there are no zeroes in s\n",
    "        if((0 in stn) == False):\n",
    "            d_stn_x.append(x)\n",
    "            d_stn_y.append(y)\n",
    "            \n",
    "    return d_stn_x, d_stn_y\n",
    "\n"
   ]
  },
  {
   "cell_type": "markdown",
   "metadata": {},
   "source": [
    "## only runs if extract_station = True"
   ]
  },
  {
   "cell_type": "code",
   "execution_count": 34,
   "metadata": {},
   "outputs": [],
   "source": [
    "if extract_station:\n",
    "    bath = '/data/tjarniko/MEOPAR/NEMO-forcing/grid/mesh_mask201702.nc'\n",
    "    grid = xr.open_dataset(bath)\n",
    "    fmask = (grid.fmask[0,0,:,:]) \n",
    "    print(np.shape(fmask))\n",
    "\n",
    "    stn_x, stn_y = make_stns(10)\n",
    "    d_stn_x, d_stn_y = filter_stn_in_domain(stn_x,stn_y,fmask)\n",
    "\n",
    "    d_stn_xar0 = np.array(d_stn_x)\n",
    "    d_stn_yar0 = np.array(d_stn_y)\n",
    "\n",
    "    edge = np.where((d_stn_xar0<=10) | (d_stn_yar0>=888))\n",
    "    np.squeeze(edge)\n",
    "    np.shape(edge)\n",
    "    edgear = np.array(edge)\n",
    "    edgear = edgear[0]\n",
    "    print(edge)\n",
    "    d_stn_xar =np.delete(d_stn_xar0,edge)\n",
    "    d_stn_yar = np.delete(d_stn_yar0,edge)\n",
    "    print(np.size(d_stn_xar))\n",
    "\n",
    "\n",
    "    ncname = './DATASETS/X_AND_Y_COORDS.nc'\n",
    "    f = nc.Dataset(ncname,'w', format='NETCDF4') #'w' stands for write\n",
    "    #g = f.createGroup('model_output')\n",
    "    f.createDimension('ref', len(d_stn_xar))\n",
    "    ts2 = f.createVariable('stn_ycoords','f4',('ref'))\n",
    "    ts2[:] = d_stn_yar[:]\n",
    "    ts3 = f.createVariable('stn_xcoords','f4',('ref'))\n",
    "    ts3[:] = d_stn_xar[:]\n",
    "\n",
    "    f.close()\n",
    "    \n",
    "    \n",
    "    \n"
   ]
  },
  {
   "cell_type": "code",
   "execution_count": 35,
   "metadata": {},
   "outputs": [
    {
     "name": "stdout",
     "output_type": "stream",
     "text": [
      "<class 'netCDF4._netCDF4.Dataset'>\n",
      "root group (NETCDF4 data model, file format HDF5):\n",
      "    dimensions(sizes): ref(611)\n",
      "    variables(dimensions): float32 \u001b[4mstn_ycoords\u001b[0m(ref), float32 \u001b[4mstn_xcoords\u001b[0m(ref)\n",
      "    groups: \n",
      "\n"
     ]
    }
   ],
   "source": [
    "stns = nc.Dataset('./DATASETS/X_AND_Y_COORDS.nc')\n",
    "print(stns)"
   ]
  },
  {
   "cell_type": "markdown",
   "metadata": {},
   "source": [
    "## MAP STATIONS"
   ]
  },
  {
   "cell_type": "code",
   "execution_count": 49,
   "metadata": {},
   "outputs": [
    {
     "data": {
      "text/plain": [
       "Text(0.5, 0.98, '611 stations for clustering')"
      ]
     },
     "execution_count": 49,
     "metadata": {},
     "output_type": "execute_result"
    },
    {
     "data": {
      "image/png": "[encoded data removed]",
      "text/plain": [
       "<Figure size 1008x705.6 with 1 Axes>"
      ]
     },
     "metadata": {},
     "output_type": "display_data"
    }
   ],
   "source": [
    "fact = 0.7\n",
    "markersize = 10\n",
    "fig, ax = plt.subplots(1,1, figsize=(20*fact, 14*fact), facecolor='w', edgecolor='k')\n",
    "plt.rcParams['image.cmap'] = 'YlGnBu'\n",
    "\n",
    "viz_tools.set_aspect(ax)   \n",
    "fmask = (grid.fmask[0,0,:,:])    \n",
    "mesh = ax.pcolormesh(fmask, vmin=0, vmax=1, )\n",
    "pts = ax.scatter(stns['stn_xcoords'][:],stns['stn_ycoords'][:],\\\n",
    "                 s=markersize,c='red',marker='o')\n",
    "plt.suptitle('611 stations for clustering')\n"
   ]
  },
  {
   "cell_type": "code",
   "execution_count": null,
   "metadata": {},
   "outputs": [],
   "source": []
  }
 ],
 "metadata": {
  "kernelspec": {
   "display_name": "Python 3",
   "language": "python",
   "name": "python3"
  },
  "language_info": {
   "codemirror_mode": {
    "name": "ipython",
    "version": 3
   },
   "file_extension": ".py",
   "mimetype": "text/x-python",
   "name": "python",
   "nbconvert_exporter": "python",
   "pygments_lexer": "ipython3",
   "version": "3.7.4"
  }
 },
 "nbformat": 4,
 "nbformat_minor": 2
}
