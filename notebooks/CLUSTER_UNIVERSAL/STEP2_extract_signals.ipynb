{
 "cells": [
  {
   "cell_type": "markdown",
   "metadata": {},
   "source": [
    "# Step 2: Notebook for extracting depth-integrated mesozooplankton for a set of stations by day (for a given year)\n",
    "\n",
    "\n",
    "#### (for running your own extractions, it may be best to put this notebook in a .py script and run under tmux or something - this is in STEP2_extract.py)\n",
    "\n",
    "- (it's run in parallel using Process), which should speed everything up ~6x - a year of signal extracting should take ~3 hours and one click"
   ]
  },
  {
   "cell_type": "code",
   "execution_count": 1,
   "metadata": {},
   "outputs": [],
   "source": [
    "import arrow\n",
    "import netCDF4 as nc\n",
    "import glob\n",
    "import numpy as np\n"
   ]
  },
  {
   "cell_type": "code",
   "execution_count": 2,
   "metadata": {},
   "outputs": [
    {
     "data": {
      "text/html": [
       "<script>\n",
       "code_show=true; \n",
       "function code_toggle() {\n",
       " if (code_show){\n",
       " $('div.input').hide();\n",
       " } else {\n",
       " $('div.input').show();\n",
       " }\n",
       " code_show = !code_show\n",
       "} \n",
       "$( document ).ready(code_toggle);\n",
       "</script>\n",
       "<form action=\"javascript:code_toggle()\"><input type=\"submit\" value=\"Click here to toggle on/off the raw code.\"></form>"
      ],
      "text/plain": [
       "<IPython.core.display.HTML object>"
      ]
     },
     "execution_count": 2,
     "metadata": {},
     "output_type": "execute_result"
    }
   ],
   "source": [
    "from IPython.display import HTML\n",
    "\n",
    "HTML('''<script>\n",
    "code_show=true; \n",
    "function code_toggle() {\n",
    " if (code_show){\n",
    " $('div.input').hide();\n",
    " } else {\n",
    " $('div.input').show();\n",
    " }\n",
    " code_show = !code_show\n",
    "} \n",
    "$( document ).ready(code_toggle);\n",
    "</script>\n",
    "<form action=\"javascript:code_toggle()\"><input type=\"submit\" value=\"Click here to toggle on/off the raw code.\"></form>''')"
   ]
  },
  {
   "cell_type": "markdown",
   "metadata": {},
   "source": [
    "#### open the grid file and find cell volumes in m3, and cell thicknesses (for multiplying by mesozooplankton concentrations)\n",
    "\n",
    "variable: domain_volume, e3t_0"
   ]
  },
  {
   "cell_type": "code",
   "execution_count": 3,
   "metadata": {},
   "outputs": [],
   "source": [
    "grid = nc.Dataset('/data/tjarniko/MEOPAR/grid/mesh_mask201702.nc')\n",
    "\n",
    "tmask = grid['tmask'][0,:,:,:]\n",
    "e1t = grid['e1t'][0,:,:]\n",
    "e2t = grid['e2t'][0,:,:]\n",
    "e3t_0 = grid['e3t_0'][0,:,:,:]\n",
    "\n",
    "e1t_proj = np.zeros([40,898,398])\n",
    "e2t_proj = np.zeros([40,898,398])\n",
    "for d in range(0,40):\n",
    "    e1t_proj[d,:] = e1t\n",
    "    e2t_proj[d,:] = e2t\n",
    "    \n",
    "domain_volume = tmask*e1t_proj*e2t_proj*e3t_0\n",
    "\n"
   ]
  },
  {
   "cell_type": "markdown",
   "metadata": {},
   "source": [
    "#### Make a list of ncfile-path strings and ymd strings based on a start and end date that you give the function\n",
    "\n",
    "variables: nclist, ymdlist"
   ]
  },
  {
   "cell_type": "code",
   "execution_count": 4,
   "metadata": {},
   "outputs": [
    {
     "name": "stdout",
     "output_type": "stream",
     "text": [
      "0\n",
      "50\n",
      "100\n",
      "150\n",
      "200\n",
      "250\n",
      "300\n",
      "350\n",
      "first day nc: /results2/SalishSea/nowcast-green.201905/01jan12/SalishSea_1d_20120101_20120101_ptrc_T.nc\n",
      "last day nc: /results2/SalishSea/nowcast-green.201905/31dec12/SalishSea_1d_20121231_20121231_ptrc_T.nc\n"
     ]
    }
   ],
   "source": [
    "start ='2012-01-01'\n",
    "end ='2012-12-31'\n",
    "\n",
    "def get_list_of_model_ncs(start,end, verbose = False, \\\n",
    "                          ncpath = '/results2/SalishSea/nowcast-green.201905',\\\n",
    "                          filetype = 'ptrc_T'):\n",
    "    \"returns a list of model output, need to specify \"\n",
    "    \n",
    "    nclist = []\n",
    "    ymdlist = []\n",
    "\n",
    "    start_run = arrow.get(start)\n",
    "    end_run = arrow.get(end)\n",
    "\n",
    "    arrow_array = []\n",
    "\n",
    "    for r in arrow.Arrow.span_range('day', start_run, end_run):\n",
    "        arrow_array.append(r)\n",
    "\n",
    "    dayslen = len(arrow_array)    \n",
    "\n",
    "    for i in range(0,dayslen):\n",
    "        if i%50 == 0:\n",
    "            print(i)\n",
    "        tdate = arrow_array[i][0]\n",
    "        ymd = tdate.format('YYYYMMDD')\n",
    "        ymdlist.append(ymd)\n",
    "        ncnam = f'{ncpath}/*/SalishSea_1d*{ymd}*{filetype}.nc'            \n",
    "        t_nc = glob.glob(ncnam)\n",
    "        nclist.append(t_nc[0])\n",
    "        \n",
    "        \n",
    "    if verbose:\n",
    "        print(f'first day nc: {nclist[0]}')\n",
    "        print(f'last day nc: {nclist[-1]}')\n",
    "        \n",
    "    return ymdlist, nclist\n",
    "        \n",
    "ymdlist, nclist = get_list_of_model_ncs(start,end, verbose = True, \\\n",
    "                          ncpath = '/results2/SalishSea/nowcast-green.201905',\\\n",
    "                         filetype = 'ptrc_T')\n"
   ]
  },
  {
   "cell_type": "markdown",
   "metadata": {},
   "source": [
    "### Load the station coordinates found in step 1\n",
    "\n",
    "variables: ycoords, xcoords"
   ]
  },
  {
   "cell_type": "code",
   "execution_count": 5,
   "metadata": {},
   "outputs": [],
   "source": [
    "stns = nc.Dataset('./DATASETS/X_AND_Y_COORDS.nc')\n",
    "\n",
    "ycoords = stns['stn_ycoords']\n",
    "xcoords = stns['stn_xcoords']"
   ]
  },
  {
   "cell_type": "markdown",
   "metadata": {},
   "source": [
    "### write an extraction function for depth-integrated mesozoo (change for whatever else you want)\n",
    "### test for one day"
   ]
  },
  {
   "cell_type": "code",
   "execution_count": 6,
   "metadata": {},
   "outputs": [
    {
     "name": "stdout",
     "output_type": "stream",
     "text": [
      "test of integrated mesozooplankton (Jan 1, 2012, mmol N/m2): 45.968838563620764\n"
     ]
    }
   ],
   "source": [
    "stn_x = 250; stn_y = 250\n",
    "ncfile = '/results2/SalishSea/nowcast-green.201905/01jan12/SalishSea_1d_20120101_20120101_ptrc_T.nc'\n",
    "\n",
    "def extract_signal_mesozoo(stn_x,stn_y,ncfile):\n",
    "    \n",
    "    t_nc = nc.Dataset(ncfile)\n",
    "    #get depth profile of mesozoo at a given station\n",
    "    t_mesozoo = (t_nc['mesozooplankton'][0,:,stn_y,stn_x])\n",
    "    \n",
    "    #multiply out by cell thickness and sum to get depth_integrated mesozo\n",
    "    meso_integ = np.nansum(t_mesozoo*e3t_0[:,stn_y,stn_x])\n",
    "    \n",
    "    #this returns meso_integ in mmol N / m2\n",
    "    return meso_integ\n",
    "    \n",
    "meso_integ = extract_signal_mesozoo(stn_x,stn_y,ncfile)\n",
    "\n",
    "print(f'test of integrated mesozooplankton (Jan 1, 2012, mmol N/m2): {meso_integ}')"
   ]
  },
  {
   "cell_type": "markdown",
   "metadata": {},
   "source": [
    "### write a looping function called big_extractor that extracts depth-integrated mesozooplankton for each day and station\n",
    "- takes nclist, ymdlist, ycoords, xcoords, start_index, end_index, ncstring \n",
    "- (start_index and end_index are DOY, this is to make it parallelizable!)\n",
    "- ncstring gives the pattern that the extracted file will be saved under \n",
    "- saves by-day in ./DATASETS, as an nc file.  (one ncfile per day of extraction)\n",
    "- one day of extracting the signal for ~600 stations takes about 3 minutes\n",
    "- if you wanted to extract a different signal, you would put something else in place of extract_signal_mesozoo\n"
   ]
  },
  {
   "cell_type": "code",
   "execution_count": 12,
   "metadata": {},
   "outputs": [
    {
     "name": "stdout",
     "output_type": "stream",
     "text": [
      "20121027\n",
      "0\n",
      "50\n",
      "100\n",
      "150\n",
      "200\n",
      "250\n",
      "300\n",
      "350\n",
      "400\n",
      "450\n",
      "500\n",
      "550\n",
      "600\n",
      "130.2552342414856\n"
     ]
    }
   ],
   "source": [
    "import time\n",
    "\n",
    "def big_extractor(nclist, ymdlist,ycoords,xcoords, start_index, end_index, ncstring):\n",
    "    \n",
    "    for day in range(start_index,end_index):\n",
    "        \n",
    "        #ymd\n",
    "        t_ymd = ymdlist[day]\n",
    "        print(t_ymd)\n",
    "        t_nc = nclist[day]\n",
    "        \n",
    "        #for each day, extract the signal for each station\n",
    "        extracted_signals = np.zeros(len(xcoords))\n",
    "        \n",
    "        for stn in range(0,len(xcoords)):\n",
    "            if stn%50 == 0:\n",
    "                print(stn)\n",
    "            stn_x = int(xcoords[stn]); stn_y = int(ycoords[stn])\n",
    "            extracted_signals[stn] = extract_signal_mesozoo(stn_x,stn_y,t_nc)\n",
    "            \n",
    "        ### save those signals in an ncfile    \n",
    "        ncname = f'./DATASETS/{ncstring}_{t_ymd}.nc'\n",
    "        f = nc.Dataset(ncname,'w', format='NETCDF4') #'w' stands for write\n",
    "        #g = f.createGroup('model_output')\n",
    "        f.createDimension('stn', len(xcoords))\n",
    "        ts2 = f.createVariable('depthint_mesozoo','f4',('stn'))\n",
    "        ts2[:] = extracted_signals\n",
    "        f.close()\n",
    "    \n",
    "ncstring = 'DEPTHINT_MESOZOO'\n",
    "w = time.time()\n",
    "big_extractor(nclist, ymdlist,ycoords,xcoords, 300, 301, ncstring)\n",
    "w2 = time.time()\n",
    "print(w2-w)"
   ]
  },
  {
   "cell_type": "markdown",
   "metadata": {},
   "source": [
    "## use multiprocessing.Process to run big_extractor in parallel. If 1 day takes 3 minutes and 6 processes are running in parallel, this should take roughly 3 hours?\n",
    "\n",
    "note that I started at i = 1, not i = 0, because i = 0 was done in the cell above!"
   ]
  },
  {
   "cell_type": "code",
   "execution_count": 8,
   "metadata": {},
   "outputs": [
    {
     "name": "stdout",
     "output_type": "stream",
     "text": [
      "func1: starting\n",
      "20120102\n",
      "func2: starting\n",
      "20120301\n",
      "func3: starting\n",
      "20120430\n",
      "func4: starting\n",
      "20120629\n",
      "func5: starting\n",
      "20120828\n",
      "func6: starting\n",
      "20121027\n",
      "20120829\n"
     ]
    },
    {
     "name": "stderr",
     "output_type": "stream",
     "text": [
      "Process Process-1:\n",
      "Traceback (most recent call last):\n",
      "  File \"/home/tjarniko/anaconda3/lib/python3.7/multiprocessing/process.py\", line 297, in _bootstrap\n",
      "    self.run()\n",
      "  File \"/home/tjarniko/anaconda3/lib/python3.7/multiprocessing/process.py\", line 99, in run\n",
      "    self._target(*self._args, **self._kwargs)\n",
      "  File \"<ipython-input-8-abda31d42e40>\", line 5, in func1\n",
      "    big_extractor(nclist, ymdlist,ycoords,xcoords, 1, 60, ncstring)\n",
      "  File \"<ipython-input-7-a8dd4d9d7a95>\", line 21, in big_extractor\n",
      "    f = nc.Dataset(ncname,'w', format='NETCDF4') #'w' stands for write\n",
      "  File \"netCDF4/_netCDF4.pyx\", line 2135, in netCDF4._netCDF4.Dataset.__init__\n",
      "  File \"netCDF4/_netCDF4.pyx\", line 1752, in netCDF4._netCDF4._ensure_nc_success\n",
      "PermissionError: [Errno 13] Permission denied: b'./DATASETS/DEPTHINT_MESOZOO_20120102.nc'\n",
      "Process Process-6:\n",
      "Traceback (most recent call last):\n",
      "  File \"/home/tjarniko/anaconda3/lib/python3.7/multiprocessing/process.py\", line 297, in _bootstrap\n",
      "    self.run()\n",
      "  File \"/home/tjarniko/anaconda3/lib/python3.7/multiprocessing/process.py\", line 99, in run\n",
      "    self._target(*self._args, **self._kwargs)\n",
      "  File \"<ipython-input-8-abda31d42e40>\", line 25, in func6\n",
      "    big_extractor(nclist, ymdlist,ycoords,xcoords, 300, 365, ncstring)\n",
      "  File \"<ipython-input-7-a8dd4d9d7a95>\", line 21, in big_extractor\n",
      "    f = nc.Dataset(ncname,'w', format='NETCDF4') #'w' stands for write\n"
     ]
    },
    {
     "name": "stdout",
     "output_type": "stream",
     "text": [
      "20120501\n"
     ]
    },
    {
     "name": "stderr",
     "output_type": "stream",
     "text": [
      "  File \"netCDF4/_netCDF4.pyx\", line 2135, in netCDF4._netCDF4.Dataset.__init__\n",
      "  File \"netCDF4/_netCDF4.pyx\", line 1752, in netCDF4._netCDF4._ensure_nc_success\n",
      "PermissionError: [Errno 13] Permission denied: b'./DATASETS/DEPTHINT_MESOZOO_20121027.nc'\n"
     ]
    },
    {
     "name": "stdout",
     "output_type": "stream",
     "text": [
      "20120302\n",
      "20120630\n"
     ]
    },
    {
     "name": "stderr",
     "output_type": "stream",
     "text": [
      "Process Process-5:\n",
      "Traceback (most recent call last):\n",
      "  File \"/home/tjarniko/anaconda3/lib/python3.7/multiprocessing/process.py\", line 297, in _bootstrap\n",
      "    self.run()\n",
      "  File \"/home/tjarniko/anaconda3/lib/python3.7/multiprocessing/process.py\", line 99, in run\n",
      "    self._target(*self._args, **self._kwargs)\n",
      "  File \"<ipython-input-8-abda31d42e40>\", line 21, in func5\n",
      "    big_extractor(nclist, ymdlist,ycoords,xcoords, 240, 300, ncstring)\n",
      "  File \"<ipython-input-7-a8dd4d9d7a95>\", line 17, in big_extractor\n",
      "    extracted_signals[stn] = extract_signal_mesozoo(stn_x,stn_y,t_nc)\n",
      "  File \"<ipython-input-6-1da739072178>\", line 6, in extract_signal_mesozoo\n",
      "    t_nc = nc.Dataset(ncfile)\n",
      "  File \"netCDF4/_netCDF4.pyx\", line 2157, in netCDF4._netCDF4.Dataset.__init__\n",
      "  File \"netCDF4/_netCDF4.pyx\", line 1741, in netCDF4._netCDF4._get_vars\n",
      "  File \"netCDF4/_netCDF4.pyx\", line 3640, in netCDF4._netCDF4.Variable.__init__\n",
      "  File \"/home/tjarniko/anaconda3/lib/python3.7/site-packages/netCDF4/utils.py\", line 40, in _find_dim\n",
      "    def _find_dim(grp, dimname):\n",
      "KeyboardInterrupt\n",
      "Process Process-2:\n",
      "Process Process-4:\n",
      "Process Process-3:\n",
      "Traceback (most recent call last):\n",
      "Traceback (most recent call last):\n",
      "Traceback (most recent call last):\n",
      "  File \"/home/tjarniko/anaconda3/lib/python3.7/multiprocessing/process.py\", line 297, in _bootstrap\n",
      "    self.run()\n",
      "  File \"/home/tjarniko/anaconda3/lib/python3.7/multiprocessing/process.py\", line 297, in _bootstrap\n",
      "    self.run()\n",
      "  File \"/home/tjarniko/anaconda3/lib/python3.7/multiprocessing/process.py\", line 99, in run\n",
      "    self._target(*self._args, **self._kwargs)\n",
      "  File \"/home/tjarniko/anaconda3/lib/python3.7/multiprocessing/process.py\", line 297, in _bootstrap\n",
      "    self.run()\n",
      "  File \"/home/tjarniko/anaconda3/lib/python3.7/multiprocessing/process.py\", line 99, in run\n",
      "    self._target(*self._args, **self._kwargs)\n",
      "  File \"<ipython-input-8-abda31d42e40>\", line 9, in func2\n",
      "    big_extractor(nclist, ymdlist,ycoords,xcoords, 60, 120, ncstring)\n",
      "  File \"/home/tjarniko/anaconda3/lib/python3.7/multiprocessing/process.py\", line 99, in run\n",
      "    self._target(*self._args, **self._kwargs)\n",
      "  File \"<ipython-input-8-abda31d42e40>\", line 17, in func4\n",
      "    big_extractor(nclist, ymdlist,ycoords,xcoords, 180, 240, ncstring)\n",
      "  File \"<ipython-input-7-a8dd4d9d7a95>\", line 17, in big_extractor\n",
      "    extracted_signals[stn] = extract_signal_mesozoo(stn_x,stn_y,t_nc)\n",
      "  File \"<ipython-input-8-abda31d42e40>\", line 13, in func3\n",
      "    big_extractor(nclist, ymdlist,ycoords,xcoords, 120, 180, ncstring)\n",
      "  File \"<ipython-input-7-a8dd4d9d7a95>\", line 17, in big_extractor\n",
      "    extracted_signals[stn] = extract_signal_mesozoo(stn_x,stn_y,t_nc)\n",
      "  File \"<ipython-input-6-1da739072178>\", line 8, in extract_signal_mesozoo\n",
      "    t_mesozoo = (t_nc['mesozooplankton'][0,:,stn_y,stn_x])\n",
      "  File \"<ipython-input-7-a8dd4d9d7a95>\", line 17, in big_extractor\n",
      "    extracted_signals[stn] = extract_signal_mesozoo(stn_x,stn_y,t_nc)\n",
      "  File \"<ipython-input-6-1da739072178>\", line 8, in extract_signal_mesozoo\n",
      "    t_mesozoo = (t_nc['mesozooplankton'][0,:,stn_y,stn_x])\n",
      "  File \"netCDF4/_netCDF4.pyx\", line 4157, in netCDF4._netCDF4.Variable.__getitem__\n",
      "  File \"<ipython-input-6-1da739072178>\", line 8, in extract_signal_mesozoo\n",
      "    t_mesozoo = (t_nc['mesozooplankton'][0,:,stn_y,stn_x])\n",
      "  File \"netCDF4/_netCDF4.pyx\", line 4157, in netCDF4._netCDF4.Variable.__getitem__\n",
      "  File \"netCDF4/_netCDF4.pyx\", line 4247, in netCDF4._netCDF4.Variable._toma\n",
      "  File \"netCDF4/_netCDF4.pyx\", line 4157, in netCDF4._netCDF4.Variable.__getitem__\n",
      "  File \"netCDF4/_netCDF4.pyx\", line 4247, in netCDF4._netCDF4.Variable._toma\n",
      "  File \"netCDF4/_netCDF4.pyx\", line 4456, in netCDF4._netCDF4.Variable._check_safecast\n",
      "  File \"netCDF4/_netCDF4.pyx\", line 4247, in netCDF4._netCDF4.Variable._toma\n",
      "  File \"netCDF4/_netCDF4.pyx\", line 4456, in netCDF4._netCDF4.Variable._check_safecast\n",
      "  File \"/home/tjarniko/anaconda3/lib/python3.7/site-packages/netCDF4/utils.py\", line 23, in _safecast\n",
      "    def _safecast(a,b):\n",
      "  File \"netCDF4/_netCDF4.pyx\", line 4456, in netCDF4._netCDF4.Variable._check_safecast\n",
      "  File \"/home/tjarniko/anaconda3/lib/python3.7/site-packages/netCDF4/utils.py\", line 23, in _safecast\n",
      "    def _safecast(a,b):\n",
      "  File \"/home/tjarniko/anaconda3/lib/python3.7/site-packages/netCDF4/utils.py\", line 23, in _safecast\n",
      "    def _safecast(a,b):\n",
      "KeyboardInterrupt\n",
      "KeyboardInterrupt\n",
      "KeyboardInterrupt\n"
     ]
    },
    {
     "ename": "KeyboardInterrupt",
     "evalue": "",
     "output_type": "error",
     "traceback": [
      "\u001b[0;31m---------------------------------------\u001b[0m",
      "\u001b[0;31mKeyboardInterrupt\u001b[0mTraceback (most recent call last)",
      "\u001b[0;32m<ipython-input-8-abda31d42e40>\u001b[0m in \u001b[0;36m<module>\u001b[0;34m\u001b[0m\n\u001b[1;32m     40\u001b[0m \u001b[0;34m\u001b[0m\u001b[0m\n\u001b[1;32m     41\u001b[0m   \u001b[0mp1\u001b[0m\u001b[0;34m.\u001b[0m\u001b[0mjoin\u001b[0m\u001b[0;34m(\u001b[0m\u001b[0;34m)\u001b[0m\u001b[0;34m\u001b[0m\u001b[0;34m\u001b[0m\u001b[0m\n\u001b[0;32m---> 42\u001b[0;31m   \u001b[0mp2\u001b[0m\u001b[0;34m.\u001b[0m\u001b[0mjoin\u001b[0m\u001b[0;34m(\u001b[0m\u001b[0;34m)\u001b[0m\u001b[0;34m\u001b[0m\u001b[0;34m\u001b[0m\u001b[0m\n\u001b[0m\u001b[1;32m     43\u001b[0m   \u001b[0mp3\u001b[0m\u001b[0;34m.\u001b[0m\u001b[0mjoin\u001b[0m\u001b[0;34m(\u001b[0m\u001b[0;34m)\u001b[0m\u001b[0;34m\u001b[0m\u001b[0;34m\u001b[0m\u001b[0m\n\u001b[1;32m     44\u001b[0m   \u001b[0mp4\u001b[0m\u001b[0;34m.\u001b[0m\u001b[0mjoin\u001b[0m\u001b[0;34m(\u001b[0m\u001b[0;34m)\u001b[0m\u001b[0;34m\u001b[0m\u001b[0;34m\u001b[0m\u001b[0m\n",
      "\u001b[0;32m~/anaconda3/lib/python3.7/multiprocessing/process.py\u001b[0m in \u001b[0;36mjoin\u001b[0;34m(self, timeout)\u001b[0m\n\u001b[1;32m    138\u001b[0m         \u001b[0;32massert\u001b[0m \u001b[0mself\u001b[0m\u001b[0;34m.\u001b[0m\u001b[0m_parent_pid\u001b[0m \u001b[0;34m==\u001b[0m \u001b[0mos\u001b[0m\u001b[0;34m.\u001b[0m\u001b[0mgetpid\u001b[0m\u001b[0;34m(\u001b[0m\u001b[0;34m)\u001b[0m\u001b[0;34m,\u001b[0m \u001b[0;34m'can only join a child process'\u001b[0m\u001b[0;34m\u001b[0m\u001b[0;34m\u001b[0m\u001b[0m\n\u001b[1;32m    139\u001b[0m         \u001b[0;32massert\u001b[0m \u001b[0mself\u001b[0m\u001b[0;34m.\u001b[0m\u001b[0m_popen\u001b[0m \u001b[0;32mis\u001b[0m \u001b[0;32mnot\u001b[0m \u001b[0;32mNone\u001b[0m\u001b[0;34m,\u001b[0m \u001b[0;34m'can only join a started process'\u001b[0m\u001b[0;34m\u001b[0m\u001b[0;34m\u001b[0m\u001b[0m\n\u001b[0;32m--> 140\u001b[0;31m         \u001b[0mres\u001b[0m \u001b[0;34m=\u001b[0m \u001b[0mself\u001b[0m\u001b[0;34m.\u001b[0m\u001b[0m_popen\u001b[0m\u001b[0;34m.\u001b[0m\u001b[0mwait\u001b[0m\u001b[0;34m(\u001b[0m\u001b[0mtimeout\u001b[0m\u001b[0;34m)\u001b[0m\u001b[0;34m\u001b[0m\u001b[0;34m\u001b[0m\u001b[0m\n\u001b[0m\u001b[1;32m    141\u001b[0m         \u001b[0;32mif\u001b[0m \u001b[0mres\u001b[0m \u001b[0;32mis\u001b[0m \u001b[0;32mnot\u001b[0m \u001b[0;32mNone\u001b[0m\u001b[0;34m:\u001b[0m\u001b[0;34m\u001b[0m\u001b[0;34m\u001b[0m\u001b[0m\n\u001b[1;32m    142\u001b[0m             \u001b[0m_children\u001b[0m\u001b[0;34m.\u001b[0m\u001b[0mdiscard\u001b[0m\u001b[0;34m(\u001b[0m\u001b[0mself\u001b[0m\u001b[0;34m)\u001b[0m\u001b[0;34m\u001b[0m\u001b[0;34m\u001b[0m\u001b[0m\n",
      "\u001b[0;32m~/anaconda3/lib/python3.7/multiprocessing/popen_fork.py\u001b[0m in \u001b[0;36mwait\u001b[0;34m(self, timeout)\u001b[0m\n\u001b[1;32m     46\u001b[0m                     \u001b[0;32mreturn\u001b[0m \u001b[0;32mNone\u001b[0m\u001b[0;34m\u001b[0m\u001b[0;34m\u001b[0m\u001b[0m\n\u001b[1;32m     47\u001b[0m             \u001b[0;31m# This shouldn't block if wait() returned successfully.\u001b[0m\u001b[0;34m\u001b[0m\u001b[0;34m\u001b[0m\u001b[0;34m\u001b[0m\u001b[0m\n\u001b[0;32m---> 48\u001b[0;31m             \u001b[0;32mreturn\u001b[0m \u001b[0mself\u001b[0m\u001b[0;34m.\u001b[0m\u001b[0mpoll\u001b[0m\u001b[0;34m(\u001b[0m\u001b[0mos\u001b[0m\u001b[0;34m.\u001b[0m\u001b[0mWNOHANG\u001b[0m \u001b[0;32mif\u001b[0m \u001b[0mtimeout\u001b[0m \u001b[0;34m==\u001b[0m \u001b[0;36m0.0\u001b[0m \u001b[0;32melse\u001b[0m \u001b[0;36m0\u001b[0m\u001b[0;34m)\u001b[0m\u001b[0;34m\u001b[0m\u001b[0;34m\u001b[0m\u001b[0m\n\u001b[0m\u001b[1;32m     49\u001b[0m         \u001b[0;32mreturn\u001b[0m \u001b[0mself\u001b[0m\u001b[0;34m.\u001b[0m\u001b[0mreturncode\u001b[0m\u001b[0;34m\u001b[0m\u001b[0;34m\u001b[0m\u001b[0m\n\u001b[1;32m     50\u001b[0m \u001b[0;34m\u001b[0m\u001b[0m\n",
      "\u001b[0;32m~/anaconda3/lib/python3.7/multiprocessing/popen_fork.py\u001b[0m in \u001b[0;36mpoll\u001b[0;34m(self, flag)\u001b[0m\n\u001b[1;32m     26\u001b[0m         \u001b[0;32mif\u001b[0m \u001b[0mself\u001b[0m\u001b[0;34m.\u001b[0m\u001b[0mreturncode\u001b[0m \u001b[0;32mis\u001b[0m \u001b[0;32mNone\u001b[0m\u001b[0;34m:\u001b[0m\u001b[0;34m\u001b[0m\u001b[0;34m\u001b[0m\u001b[0m\n\u001b[1;32m     27\u001b[0m             \u001b[0;32mtry\u001b[0m\u001b[0;34m:\u001b[0m\u001b[0;34m\u001b[0m\u001b[0;34m\u001b[0m\u001b[0m\n\u001b[0;32m---> 28\u001b[0;31m                 \u001b[0mpid\u001b[0m\u001b[0;34m,\u001b[0m \u001b[0msts\u001b[0m \u001b[0;34m=\u001b[0m \u001b[0mos\u001b[0m\u001b[0;34m.\u001b[0m\u001b[0mwaitpid\u001b[0m\u001b[0;34m(\u001b[0m\u001b[0mself\u001b[0m\u001b[0;34m.\u001b[0m\u001b[0mpid\u001b[0m\u001b[0;34m,\u001b[0m \u001b[0mflag\u001b[0m\u001b[0;34m)\u001b[0m\u001b[0;34m\u001b[0m\u001b[0;34m\u001b[0m\u001b[0m\n\u001b[0m\u001b[1;32m     29\u001b[0m             \u001b[0;32mexcept\u001b[0m \u001b[0mOSError\u001b[0m \u001b[0;32mas\u001b[0m \u001b[0me\u001b[0m\u001b[0;34m:\u001b[0m\u001b[0;34m\u001b[0m\u001b[0;34m\u001b[0m\u001b[0m\n\u001b[1;32m     30\u001b[0m                 \u001b[0;31m# Child process not yet created. See #1731717\u001b[0m\u001b[0;34m\u001b[0m\u001b[0;34m\u001b[0m\u001b[0;34m\u001b[0m\u001b[0m\n",
      "\u001b[0;31mKeyboardInterrupt\u001b[0m: "
     ]
    }
   ],
   "source": [
    "from multiprocessing import Process\n",
    "    \n",
    "def func1():\n",
    "    print('func1: starting')\n",
    "    big_extractor(nclist, ymdlist,ycoords,xcoords, 1, 60, ncstring)\n",
    "\n",
    "def func2():\n",
    "    print('func2: starting')\n",
    "    big_extractor(nclist, ymdlist,ycoords,xcoords, 60, 120, ncstring)\n",
    "      \n",
    "def func3():\n",
    "    print('func3: starting')\n",
    "    big_extractor(nclist, ymdlist,ycoords,xcoords, 120, 180, ncstring)    \n",
    "    \n",
    "def func4():\n",
    "    print('func4: starting')\n",
    "    big_extractor(nclist, ymdlist,ycoords,xcoords, 180, 240, ncstring)\n",
    "        \n",
    "def func5():\n",
    "    print('func5: starting')\n",
    "    big_extractor(nclist, ymdlist,ycoords,xcoords, 240, 300, ncstring)\n",
    "        \n",
    "def func6():\n",
    "    print('func6: starting')\n",
    "    big_extractor(nclist, ymdlist,ycoords,xcoords, 300, 365, ncstring)\n",
    "    \n",
    "if __name__ == '__main__':\n",
    "  p1 = Process(target=func1)\n",
    "  p1.start()\n",
    "  p2 = Process(target=func2)\n",
    "  p2.start()\n",
    "  p3 = Process(target=func3)\n",
    "  p3.start()\n",
    "  p4 = Process(target=func4)\n",
    "  p4.start()\n",
    "  p5 = Process(target=func5)\n",
    "  p5.start()\n",
    "  p6 = Process(target=func6)\n",
    "  p6.start()                \n",
    "    \n",
    "  p1.join()\n",
    "  p2.join()\n",
    "  p3.join()\n",
    "  p4.join()\n",
    "  p5.join()\n",
    "  p6.join()"
   ]
  },
  {
   "cell_type": "markdown",
   "metadata": {},
   "source": []
  }
 ],
 "metadata": {
  "kernelspec": {
   "display_name": "Python 3",
   "language": "python",
   "name": "python3"
  },
  "language_info": {
   "codemirror_mode": {
    "name": "ipython",
    "version": 3
   },
   "file_extension": ".py",
   "mimetype": "text/x-python",
   "name": "python",
   "nbconvert_exporter": "python",
   "pygments_lexer": "ipython3",
   "version": "3.7.4"
  }
 },
 "nbformat": 4,
 "nbformat_minor": 2
}
