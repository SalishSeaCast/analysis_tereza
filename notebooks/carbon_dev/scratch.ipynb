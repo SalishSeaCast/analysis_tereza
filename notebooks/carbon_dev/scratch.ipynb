{
 "cells": [
  {
   "cell_type": "code",
   "execution_count": 3,
   "metadata": {},
   "outputs": [
    {
     "name": "stdout",
     "output_type": "stream",
     "text": [
      "<class 'netCDF4._netCDF4.Dataset'>\n",
      "root group (NETCDF4 data model, file format HDF5):\n",
      "    Conventions: CF-1.6\n",
      "    title: Bathymetry 201702\n",
      "    institution: Dept of Earth, Ocean & Atmospheric Sciences, University of British Columbia\n",
      "    source: https://bitbucket.org/salishsea/tools/src/tip/ProcessNewRiverBathymetry.ipynb\n",
      "    references: NEMO-forcing/grid/bathymetry_201702.nc\n",
      "    history: [2017-09-30 12:34:48] Created netCDF4 zlib=True dataset.\n",
      "    comment: Bathymetry processed from Michaels New Full River Bathymetry with correction on smoothing\n",
      "    dimensions(sizes): y(898), x(398)\n",
      "    variables(dimensions): float64 \u001b[4mnav_lon\u001b[0m(y,x), float64 \u001b[4mnav_lat\u001b[0m(y,x), float64 \u001b[4mBathymetry\u001b[0m(y,x)\n",
      "    groups: \n",
      "\n"
     ]
    }
   ],
   "source": [
    "import netCDF4 as nc\n",
    "w = nc.Dataset('/data/tjarniko/MEOPAR/grid/bathymetry_201702.nc')\n",
    "print(w)\n",
    "\n",
    "w2 = nc.Dataset('/results/SalishSea/nowcast-blue.201812/05nov19/SalishSea_1d_20191105_20191105_grid_T.nc')"
   ]
  },
  {
   "cell_type": "code",
   "execution_count": 15,
   "metadata": {},
   "outputs": [
    {
     "name": "stdout",
     "output_type": "stream",
     "text": [
      "26.932377\n",
      "2.056547\n",
      "\n"
     ]
    }
   ],
   "source": [
    "import numpy as np\n",
    "surf_d = w2['e3t'][0,39,:,:]\n",
    "print(np.max(surf_d))\n",
    "print(np.min(surf_d))\n",
    "\n",
    "print()"
   ]
  },
  {
   "cell_type": "code",
   "execution_count": null,
   "metadata": {
    "collapsed": true
   },
   "outputs": [],
   "source": []
  }
 ],
 "metadata": {
  "kernelspec": {
   "display_name": "Python 3",
   "language": "python",
   "name": "python3"
  },
  "language_info": {
   "codemirror_mode": {
    "name": "ipython",
    "version": 3
   },
   "file_extension": ".py",
   "mimetype": "text/x-python",
   "name": "python",
   "nbconvert_exporter": "python",
   "pygments_lexer": "ipython3",
   "version": "3.6.0"
  }
 },
 "nbformat": 4,
 "nbformat_minor": 2
}
