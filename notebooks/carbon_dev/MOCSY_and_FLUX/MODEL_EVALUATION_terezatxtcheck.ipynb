{
 "cells": [
  {
   "cell_type": "markdown",
   "metadata": {},
   "source": [
    "## Notebook description/goals\n",
    "\n",
    "    -Learning the MOCSY toolbox for calc. carbonate chemistry. \n",
    "    -Development of pipeline for MOCSY-based calculation of air-sea co2 flux\n",
    "    -examples https://github.com/jamesorr/mocsy/blob/master/notebooks/mocsy_examples.ipynb\n",
    "    \n",
    "### steps\n",
    "\n",
    "    -import model output and make arrays from: temp, sal, alk, dic, sil (?) phos? \n",
    "    \n",
    "    -figure out how to get wind (do i need to interpolate it?)\n",
    "    \n",
    "    -write down equation for air-sea flux of CO2 and perform sanity check. \n",
    "    \n",
    "    -eventually: put this into an automatic script that:\n",
    "        -retrieves model output\n",
    "        -retreives wind\n",
    "        -calculates air-sea flux of co2 and o2 and puts them into a netcdf (probably along with wind speed)"
   ]
  },
  {
   "cell_type": "code",
   "execution_count": 1,
   "metadata": {},
   "outputs": [
    {
     "name": "stdout",
     "output_type": "stream",
     "text": [
      "Once deleted, variables cannot be recovered. Proceed (y/[n])? y\n"
     ]
    }
   ],
   "source": [
    "%reset "
   ]
  },
  {
   "cell_type": "code",
   "execution_count": 2,
   "metadata": {
    "collapsed": true
   },
   "outputs": [],
   "source": [
    "import sys\n",
    "#sys.path.append('/data/tjarniko/MEOPAR/mocsy')\n",
    "sys.path.append('/data/tjarniko/mocsy')\n",
    "sys.path.append('/data/tjarniko/MEOPAR/at3/notebooks/carbon_dev/VIZ')\n",
    "import mocsy\n",
    "import VIZ_plots as VP\n",
    "\n",
    "import time\n",
    "import numpy as np\n",
    "import matplotlib.pyplot as plt\n",
    "import matplotlib.patches as patches\n",
    "from oct2py import octave\n",
    "import seawater as sw\n",
    "from __future__ import print_function\n",
    "from numpy import *\n",
    "from scipy import *\n",
    "import matplotlib.pyplot as plt\n",
    "import seawater as sw\n",
    "\n",
    "import matplotlib.pyplot as plt\n",
    "from matplotlib import reload\n",
    "plt.style.use('seaborn-bright')\n",
    "import netCDF4 as nc\n",
    "import numpy as np\n",
    "import cmocean as cm\n",
    "\n",
    "\"\"\n",
    "from salishsea_tools import (\n",
    "    nc_tools,\n",
    "    viz_tools,\n",
    "    geo_tools,\n",
    "    tidetools\n",
    ")\n",
    "\n",
    "%matplotlib inline"
   ]
  },
  {
   "cell_type": "markdown",
   "metadata": {},
   "source": [
    "## load dataset"
   ]
  },
  {
   "cell_type": "code",
   "execution_count": 3,
   "metadata": {},
   "outputs": [
    {
     "name": "stdout",
     "output_type": "stream",
     "text": [
      "<module 'mocsy' from '/data/tjarniko/mocsy/mocsy.cpython-36m-x86_64-linux-gnu.so'>\n"
     ]
    }
   ],
   "source": [
    "print(mocsy)"
   ]
  },
  {
   "cell_type": "code",
   "execution_count": 4,
   "metadata": {
    "collapsed": true
   },
   "outputs": [],
   "source": [
    "infil = loadtxt('../MODEL_EVAL/tereza.txt')"
   ]
  },
  {
   "cell_type": "code",
   "execution_count": 5,
   "metadata": {
    "collapsed": true
   },
   "outputs": [],
   "source": [
    "\n",
    "crid= infil[:,0]\n",
    "ln = infil[:,2]\n",
    "stn = infil[:,3]\n",
    "mon = infil[:,4]\n",
    "day = infil[:,5]\n",
    "lat_or = infil[:,6]\n",
    "lon_or = infil[:,7]\n",
    "# lat = infil_cor[:,6]\n",
    "# lon = infil_cor[:,7]\n",
    "P = infil[:,8]\n",
    "T = infil[:,9]\n",
    "S = infil[:,10]\n",
    "ox = infil[:,11]\n",
    "ox_qf = infil[:,12]\n",
    "dic = infil[:,13]\n",
    "alk = infil[:,15]\n",
    "dic_qf = infil[:,14]\n",
    "alk_qf = infil[:,16]\n",
    "no3 = infil[:,17]\n",
    "no3_qf = infil[:,18]\n",
    "si = infil[:,19]\n",
    "si_qf = infil[:, 20]\n",
    "po4 = infil[:,21]\n",
    "po4_qf = infil[:, 22]\n",
    "\n"
   ]
  },
  {
   "cell_type": "code",
   "execution_count": 6,
   "metadata": {
    "collapsed": true
   },
   "outputs": [],
   "source": [
    "dens = sw.dens(S,T,P)\n",
    "dic_conv=dic *1e-6\n",
    "alk_conv=alk *1e-6\n",
    "si_conv = si*1e-6\n",
    "po4_conv = po4*1e-6"
   ]
  },
  {
   "cell_type": "code",
   "execution_count": 7,
   "metadata": {},
   "outputs": [
    {
     "name": "stdout",
     "output_type": "stream",
     "text": [
      "[ 1024.10773013  1025.76483947  1026.86751858]\n",
      "[ 1995.42  2162.43  2234.39]\n",
      "[ 0.00199542  0.00216243  0.00223439]\n"
     ]
    }
   ],
   "source": [
    "print(dens)\n",
    "print(dic)\n",
    "print(dic_conv)"
   ]
  },
  {
   "cell_type": "code",
   "execution_count": 8,
   "metadata": {},
   "outputs": [
    {
     "name": "stdout",
     "output_type": "stream",
     "text": [
      "[ 10.  10.  10.]\n"
     ]
    }
   ],
   "source": [
    "PATM = np.zeros_like(dic)\n",
    "PATM[:] = 10.0\n",
    "print(PATM)"
   ]
  },
  {
   "cell_type": "code",
   "execution_count": 9,
   "metadata": {
    "collapsed": true
   },
   "outputs": [],
   "source": [
    "pH,pco2,fco2,co2,hco3,co3,OmegaA,OmegaC,BetaD,DENis,p,Tis \\\n",
    "    = mocsy.mvars(temp=T , sal=S , alk=alk_conv, dic=dic_conv, sil=si_conv, phos=po4_conv, \n",
    "                            patm=PATM, depth=P, lat=lat_or, optcon='mol/kg', optt='Tinsitu', optp='db',\n",
    "                            optb = 'l10', optk1k2='m10', optkf = 'dg', optgas = 'Pinsitu' )"
   ]
  },
  {
   "cell_type": "code",
   "execution_count": 10,
   "metadata": {},
   "outputs": [
    {
     "name": "stdout",
     "output_type": "stream",
     "text": [
      "[ 8.0913865   7.76458247  7.63150298] [  368.52097551   856.39270226  1226.43618246] [  354.66266175   814.25078649  1131.42757907] [  1.36428925e-05   3.68089484e-05   5.34128074e-05] [ 0.00182909  0.00205796  0.00213158] [  1.52687243e-04   6.76576339e-05   4.93996498e-05] [ 2.35936768  1.02629738  0.73592221] [ 3.69907876  1.62149087  1.16311237] [ 11.41077978  17.26132801  18.40156289] [ 1024.10774199  1025.7648567   1026.86753655] [   4.9   29.3  102.8] [ 14.195   8.94    7.258]\n"
     ]
    }
   ],
   "source": [
    "print(pH,pco2,fco2,co2,hco3,co3,OmegaA,OmegaC,BetaD,DENis,p,Tis)"
   ]
  },
  {
   "cell_type": "markdown",
   "metadata": {},
   "source": [
    "###### HERE IS THE CO2SYS OUTPUT to compare\n",
    "##### pH is on the TOtal scale - PCO2 (uatm) - balk (umol/kg) - PH (umol/kg)\n",
    "#\n",
    "#z [  4.9  29.3 102.8]\n",
    "#dic [1995.42 2162.43 2234.39]\n",
    "#pco2 [ 346.43071199  795.59072662 1096.50343874]\n",
    "#pH [8.09712784 7.76907771 7.63518989]\n",
    "#omega_arag [2.3880103  1.03658638 0.74203948]\n",
    "#borate alk [71.04906401 33.37843368 24.81288429]\n",
    "#OH- (oh) [2.62367006 0.73844744 0.46316284]"
   ]
  },
  {
   "cell_type": "code",
   "execution_count": 11,
   "metadata": {},
   "outputs": [
    {
     "name": "stdout",
     "output_type": "stream",
     "text": [
      "pco2 is:\n",
      "[  368.52097551   856.39270226  1226.43618246]\n"
     ]
    }
   ],
   "source": [
    "print('pco2 is:')\n",
    "print(pco2)"
   ]
  },
  {
   "cell_type": "code",
   "execution_count": 12,
   "metadata": {},
   "outputs": [
    {
     "name": "stdout",
     "output_type": "stream",
     "text": [
      "aragonite is:\n",
      "[ 2.35936768  1.02629738  0.73592221]\n"
     ]
    }
   ],
   "source": [
    "print('aragonite is:')\n",
    "print(OmegaA)"
   ]
  },
  {
   "cell_type": "code",
   "execution_count": 13,
   "metadata": {},
   "outputs": [
    {
     "name": "stdout",
     "output_type": "stream",
     "text": [
      "pH is:\n",
      "[ 8.0913865   7.76458247  7.63150298]\n"
     ]
    }
   ],
   "source": [
    "print('pH is:')\n",
    "print(pH)"
   ]
  },
  {
   "cell_type": "code",
   "execution_count": 14,
   "metadata": {
    "collapsed": true
   },
   "outputs": [],
   "source": [
    "# pH,pco2,fco2,co2,hco3,co3,OmegaA,OmegaC,BetaD,DENis,p,Tis = \\\n",
    "#     mocsy.mvars(temp=15, sal=32, alk=2100, dic=2100, sil=0, phos=0, \n",
    "#                 patm=1, depth=0, lat=0, \n",
    "#                 optcon='mol/kg', optt='Tinsitu', optp='db', \n",
    "#                 optb=\"u74\", optk1k2='l', optkf=\"dg\", optgas='Pinsitu')\n",
    "# print(pH,pco2,fco2,co2,hco3,co3,OmegaA,OmegaC,BetaD,DENis,p,Tis)\n",
    "# print('**')\n",
    "# print(co2)"
   ]
  }
 ],
 "metadata": {
  "kernelspec": {
   "display_name": "Python 3",
   "language": "python",
   "name": "python3"
  },
  "language_info": {
   "codemirror_mode": {
    "name": "ipython",
    "version": 3
   },
   "file_extension": ".py",
   "mimetype": "text/x-python",
   "name": "python",
   "nbconvert_exporter": "python",
   "pygments_lexer": "ipython3",
   "version": "3.6.0"
  }
 },
 "nbformat": 4,
 "nbformat_minor": 2
}
