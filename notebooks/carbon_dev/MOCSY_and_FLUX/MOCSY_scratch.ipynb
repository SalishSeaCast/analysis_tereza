{
 "cells": [
  {
   "cell_type": "markdown",
   "metadata": {},
   "source": [
    "## Notebook description/goals\n",
    "\n",
    "    -Learning the MOCSY toolbox for calc. carbonate chemistry. \n",
    "    -Development of pipeline for MOCSY-based calculation of air-sea co2 flux\n",
    "    -examples https://github.com/jamesorr/mocsy/blob/master/notebooks/mocsy_examples.ipynb\n",
    "    \n",
    "### steps\n",
    "\n",
    "    -import model output and make arrays from: temp, sal, alk, dic, sil (?) phos? \n",
    "    \n",
    "    -figure out how to get wind (do i need to interpolate it?)\n",
    "    \n",
    "    -write down equation for air-sea flux of CO2 and perform sanity check. \n",
    "    \n",
    "    -eventually: put this into an automatic script that:\n",
    "        -retrieves model output\n",
    "        -retreives wind\n",
    "        -calculates air-sea flux of co2 and o2 and puts them into a netcdf (probably along with wind speed)"
   ]
  },
  {
   "cell_type": "code",
   "execution_count": 18,
   "metadata": {},
   "outputs": [
    {
     "name": "stdout",
     "output_type": "stream",
     "text": [
      "Once deleted, variables cannot be recovered. Proceed (y/[n])? y\n"
     ]
    }
   ],
   "source": [
    "%reset "
   ]
  },
  {
   "cell_type": "code",
   "execution_count": 1,
   "metadata": {
    "collapsed": true
   },
   "outputs": [],
   "source": [
    "import sys\n",
    "#sys.path.append('/data/tjarniko/MEOPAR/mocsy')\n",
    "sys.path.append('/data/tjarniko/mocsy')\n",
    "sys.path.append('/data/tjarniko/MEOPAR/at3/notebooks/carbon_dev/VIZ')\n",
    "import mocsy\n",
    "import VIZ_plots as VP\n",
    "\n",
    "import time\n",
    "import numpy as np\n",
    "import matplotlib.pyplot as plt\n",
    "import matplotlib.patches as patches\n",
    "from oct2py import octave\n",
    "import seawater as sw\n",
    "from __future__ import print_function\n",
    "from numpy import *\n",
    "from scipy import *\n",
    "import matplotlib.pyplot as plt\n",
    "\n",
    "import matplotlib.pyplot as plt\n",
    "from matplotlib import reload\n",
    "plt.style.use('seaborn-bright')\n",
    "import netCDF4 as nc\n",
    "import numpy as np\n",
    "import cmocean as cm\n",
    "\n",
    "\"\"\n",
    "from salishsea_tools import (\n",
    "    nc_tools,\n",
    "    viz_tools,\n",
    "    geo_tools,\n",
    "    tidetools\n",
    ")\n",
    "\n",
    "%matplotlib inline"
   ]
  },
  {
   "cell_type": "markdown",
   "metadata": {},
   "source": [
    "## load dataset"
   ]
  },
  {
   "cell_type": "code",
   "execution_count": 2,
   "metadata": {},
   "outputs": [
    {
     "name": "stdout",
     "output_type": "stream",
     "text": [
      "<module 'mocsy' from '/data/tjarniko/mocsy/mocsy.cpython-36m-x86_64-linux-gnu.so'>\n"
     ]
    }
   ],
   "source": [
    "print(mocsy)"
   ]
  },
  {
   "cell_type": "code",
   "execution_count": 3,
   "metadata": {},
   "outputs": [
    {
     "name": "stdout",
     "output_type": "stream",
     "text": [
      "(1,)\n",
      "<class 'numpy.ndarray'>\n"
     ]
    }
   ],
   "source": [
    "# w = nc.Dataset('/data/tjarniko/results/may10_a8/SKOG_1d_20160415_20160429_ptrc_T.nc')\n",
    "# wp = nc.Dataset('/data/tjarniko/results/may10_a8/SKOG_1d_20160415_20160429_grid_T.nc')\n",
    "\n",
    "\n",
    "# tDIC = w.variables['dissolved_inorganic_carbon'][0,0,:,:]\n",
    "# tTA = w.variables['total_alkalinity'][0,0,:,:]\n",
    "# tTEMP = wp.variables['votemper'][0,0,:,:]\n",
    "# tSAL = wp.variables['vosaline'][0,0,:,:]\n",
    "# tZERO = np.zeros_like(tTEMP)\n",
    "\n",
    "tDIC = np.array([2200])\n",
    "tTA = np.array([2200])\n",
    "tTEMP = np.array([10])\n",
    "tSAL = np.array([30])\n",
    "print(tDIC.shape)\n",
    "\n",
    "print(type(tTEMP))\n",
    "\n"
   ]
  },
  {
   "cell_type": "code",
   "execution_count": 4,
   "metadata": {},
   "outputs": [
    {
     "name": "stdout",
     "output_type": "stream",
     "text": [
      "<class 'numpy.ndarray'>\n"
     ]
    }
   ],
   "source": [
    "print(type(tSAL))"
   ]
  },
  {
   "cell_type": "code",
   "execution_count": 5,
   "metadata": {},
   "outputs": [
    {
     "ename": "NameError",
     "evalue": "name 'ttera' is not defined",
     "output_type": "error",
     "traceback": [
      "\u001b[0;31m---------------------------------------------------------------------\u001b[0m",
      "\u001b[0;31mNameError\u001b[0m                           Traceback (most recent call last)",
      "\u001b[0;32m<ipython-input-5-c01fa60b9100>\u001b[0m in \u001b[0;36m<module>\u001b[0;34m()\u001b[0m\n\u001b[0;32m----> 1\u001b[0;31m response_tup = mocsy.mvars(temp=ttera, sal=tsra, alk=ttara, dic=tdra, \n\u001b[0m\u001b[1;32m      2\u001b[0m                        \u001b[0msil\u001b[0m\u001b[0;34m=\u001b[0m\u001b[0mtzero\u001b[0m\u001b[0;34m,\u001b[0m \u001b[0mphos\u001b[0m\u001b[0;34m=\u001b[0m\u001b[0mtzero\u001b[0m\u001b[0;34m,\u001b[0m \u001b[0mpatm\u001b[0m\u001b[0;34m=\u001b[0m\u001b[0mtpressure\u001b[0m\u001b[0;34m,\u001b[0m \u001b[0mdepth\u001b[0m\u001b[0;34m=\u001b[0m\u001b[0mtdepthra\u001b[0m\u001b[0;34m,\u001b[0m \u001b[0mlat\u001b[0m\u001b[0;34m=\u001b[0m\u001b[0mtzero\u001b[0m\u001b[0;34m,\u001b[0m\u001b[0;34m\u001b[0m\u001b[0m\n\u001b[1;32m      3\u001b[0m                         \u001b[0moptcon\u001b[0m\u001b[0;34m=\u001b[0m\u001b[0;34m'mol/kg'\u001b[0m\u001b[0;34m,\u001b[0m \u001b[0moptt\u001b[0m\u001b[0;34m=\u001b[0m\u001b[0;34m'Tinsitu'\u001b[0m\u001b[0;34m,\u001b[0m \u001b[0moptp\u001b[0m\u001b[0;34m=\u001b[0m\u001b[0;34m'db'\u001b[0m\u001b[0;34m,\u001b[0m\u001b[0;34m\u001b[0m\u001b[0m\n\u001b[1;32m      4\u001b[0m                         optb = 'u74', optk1k2='m10', optkf = 'pf', optgas = 'Pinsitu')\n\u001b[1;32m      5\u001b[0m \u001b[0mpH\u001b[0m\u001b[0;34m,\u001b[0m\u001b[0mpco2\u001b[0m\u001b[0;34m,\u001b[0m\u001b[0mfco2\u001b[0m\u001b[0;34m,\u001b[0m\u001b[0mco2\u001b[0m\u001b[0;34m,\u001b[0m\u001b[0mhco3\u001b[0m\u001b[0;34m,\u001b[0m\u001b[0mco3\u001b[0m\u001b[0;34m,\u001b[0m\u001b[0mOmegaA\u001b[0m\u001b[0;34m,\u001b[0m\u001b[0mOmegaC\u001b[0m\u001b[0;34m,\u001b[0m\u001b[0mBetaD\u001b[0m\u001b[0;34m,\u001b[0m\u001b[0mDENis\u001b[0m\u001b[0;34m,\u001b[0m\u001b[0mp\u001b[0m\u001b[0;34m,\u001b[0m\u001b[0mTis\u001b[0m \u001b[0;34m=\u001b[0m \u001b[0mresponse_tup\u001b[0m\u001b[0;34m\u001b[0m\u001b[0m\n",
      "\u001b[0;31mNameError\u001b[0m: name 'ttera' is not defined"
     ]
    }
   ],
   "source": [
    "response_tup = mocsy.mvars(temp=ttera, sal=tsra, alk=ttara, dic=tdra, \n",
    "                       sil=tzero, phos=tzero, patm=tpressure, depth=tdepthra, lat=tzero, \n",
    "                        optcon='mol/kg', optt='Tinsitu', optp='db',\n",
    "                        optb = 'u74', optk1k2='m10', optkf = 'pf', optgas = 'Pinsitu')\n",
    "pH,pco2,fco2,co2,hco3,co3,OmegaA,OmegaC,BetaD,DENis,p,Tis = response_tup"
   ]
  },
  {
   "cell_type": "code",
   "execution_count": 23,
   "metadata": {},
   "outputs": [
    {
     "ename": "AttributeError",
     "evalue": "module 'mocsy' has no attribute 'mvars'",
     "output_type": "error",
     "traceback": [
      "\u001b[0;31m---------------------------------------------------------------------\u001b[0m",
      "\u001b[0;31mAttributeError\u001b[0m                      Traceback (most recent call last)",
      "\u001b[0;32m<ipython-input-23-c1b64ac62e53>\u001b[0m in \u001b[0;36m<module>\u001b[0;34m()\u001b[0m\n\u001b[1;32m      1\u001b[0m \u001b[0;34m\u001b[0m\u001b[0m\n\u001b[1;32m      2\u001b[0m \u001b[0;34m\u001b[0m\u001b[0m\n\u001b[0;32m----> 3\u001b[0;31m pH,pco2,fco2,co2,hco3,co3,OmegaA,OmegaC,BetaD,DENis,p,Tis =     mocsy.mvars(temp=4, sal=32, alk=1800.e-6, dic=1800.e-6, sil=0, phos=0, \n\u001b[0m\u001b[1;32m      4\u001b[0m                 \u001b[0mpatm\u001b[0m\u001b[0;34m=\u001b[0m\u001b[0;36m1\u001b[0m\u001b[0;34m,\u001b[0m \u001b[0mdepth\u001b[0m\u001b[0;34m=\u001b[0m\u001b[0;36m0\u001b[0m\u001b[0;34m,\u001b[0m \u001b[0mlat\u001b[0m\u001b[0;34m=\u001b[0m\u001b[0;36m90\u001b[0m\u001b[0;34m,\u001b[0m\u001b[0;34m\u001b[0m\u001b[0m\n\u001b[1;32m      5\u001b[0m                 \u001b[0moptcon\u001b[0m\u001b[0;34m=\u001b[0m\u001b[0;34m'mol/kg'\u001b[0m\u001b[0;34m,\u001b[0m \u001b[0moptt\u001b[0m\u001b[0;34m=\u001b[0m\u001b[0;34m'Tinsitu'\u001b[0m\u001b[0;34m,\u001b[0m \u001b[0moptp\u001b[0m\u001b[0;34m=\u001b[0m\u001b[0;34m'db'\u001b[0m\u001b[0;34m,\u001b[0m\u001b[0;34m\u001b[0m\u001b[0m\n",
      "\u001b[0;31mAttributeError\u001b[0m: module 'mocsy' has no attribute 'mvars'"
     ]
    }
   ],
   "source": [
    "\n",
    "\n",
    "pH,pco2,fco2,co2,hco3,co3,OmegaA,OmegaC,BetaD,DENis,p,Tis = \\\n",
    "    mocsy.mvars(temp=4, sal=32, alk=1800.e-6, dic=1800.e-6, sil=0, phos=0, \n",
    "                patm=1, depth=0, lat=90, \n",
    "                optcon='mol/kg', optt='Tinsitu', optp='db', \n",
    "                optb=\"u74\", optk1k2='l', optkf=\"dg\", optgas='Pinsitu')\n",
    "print(pH,pco2,fco2,co2,hco3,co3,OmegaA,OmegaC,BetaD,DENis,p,Tis)\n",
    "print('**')\n",
    "print(co2)"
   ]
  },
  {
   "cell_type": "code",
   "execution_count": null,
   "metadata": {
    "collapsed": true
   },
   "outputs": [],
   "source": [
    "pH,pco2,fco2,co2,hco3,co3,OmegaA,OmegaC,BetaD,DENis,p,Tis = \\\n",
    "    mocsy.mvars(temp=15, sal=32, alk=2100, dic=2100, sil=0, phos=0, \n",
    "                patm=1, depth=0, lat=0, \n",
    "                optcon='mol/kg', optt='Tinsitu', optp='db', \n",
    "                optb=\"u74\", optk1k2='l', optkf=\"dg\", optgas='Pinsitu')\n",
    "print(pH,pco2,fco2,co2,hco3,co3,OmegaA,OmegaC,BetaD,DENis,p,Tis)\n",
    "print('**')\n",
    "print(co2)"
   ]
  },
  {
   "cell_type": "code",
   "execution_count": 17,
   "metadata": {},
   "outputs": [
    {
     "ename": "AttributeError",
     "evalue": "module 'mocsy' has no attribute 'mvars'",
     "output_type": "error",
     "traceback": [
      "\u001b[0;31m---------------------------------------------------------------------\u001b[0m",
      "\u001b[0;31mAttributeError\u001b[0m                      Traceback (most recent call last)",
      "\u001b[0;32m<ipython-input-17-c6936b3b1a46>\u001b[0m in \u001b[0;36m<module>\u001b[0;34m()\u001b[0m\n\u001b[0;32m----> 1\u001b[0;31m \u001b[0mmocsy\u001b[0m\u001b[0;34m.\u001b[0m\u001b[0mmvars\u001b[0m\u001b[0;34m\u001b[0m\u001b[0m\n\u001b[0m",
      "\u001b[0;31mAttributeError\u001b[0m: module 'mocsy' has no attribute 'mvars'"
     ]
    }
   ],
   "source": [
    "mocsy.mvars"
   ]
  },
  {
   "cell_type": "code",
   "execution_count": null,
   "metadata": {
    "collapsed": true
   },
   "outputs": [],
   "source": []
  },
  {
   "cell_type": "code",
   "execution_count": null,
   "metadata": {
    "collapsed": true
   },
   "outputs": [],
   "source": [
    "\n",
    "print(temp.shape)\n",
    "sal = np.array([[32,33],[32,33]])\n",
    "print(sal.shape)\n",
    "alk = np.array([[2100,2000],[2100,2000]])\n",
    "dic = np.array([[2300,2100],[2300,2100]])\n",
    "tzero = np.array(zeros_like(dic))\n",
    "print(tzero.shape)\n",
    "patm = np.array(ones_like(dic))\n",
    "\n",
    "temp = np.ravel(temp)\n",
    "print(temp.shape)\n",
    "print(temp)\n",
    "sal = np.ravel(sal)\n",
    "alk = np.ravel(alk)\n",
    "dic = np.ravel(dic)\n",
    "patm = np.ravel(patm)\n",
    "tzero = np.ravel(tzero)\n",
    "\n",
    "response_tup = mocsy.mvars(temp=temp, sal=sal, alk=alk, dic=dic, \n",
    "                           sil=tzero, phos=tzero, patm=patm, depth=tzero, lat=tzero, \n",
    "                           optcon='mol/m3', optt='Tpot', optp='m')\n",
    "pH,pco2,fco2,co2,hco3,co3,OmegaA,OmegaC,BetaD,DENis,p,Tis = response_tup\n",
    "\n"
   ]
  },
  {
   "cell_type": "code",
   "execution_count": null,
   "metadata": {
    "collapsed": true
   },
   "outputs": [],
   "source": [
    "temp = np.array([[10,13,15],[11,12,14]])\n",
    "print(temp)\n",
    "temp1 = np.ravel(temp)\n",
    "print(temp1)\n",
    "temp2 = temp1.reshape(2,3)\n",
    "print(temp2)"
   ]
  },
  {
   "cell_type": "code",
   "execution_count": null,
   "metadata": {
    "collapsed": true
   },
   "outputs": [],
   "source": []
  }
 ],
 "metadata": {
  "kernelspec": {
   "display_name": "Python 3",
   "language": "python",
   "name": "python3"
  },
  "language_info": {
   "codemirror_mode": {
    "name": "ipython",
    "version": 3
   },
   "file_extension": ".py",
   "mimetype": "text/x-python",
   "name": "python",
   "nbconvert_exporter": "python",
   "pygments_lexer": "ipython3",
   "version": "3.6.0"
  }
 },
 "nbformat": 4,
 "nbformat_minor": 2
}
