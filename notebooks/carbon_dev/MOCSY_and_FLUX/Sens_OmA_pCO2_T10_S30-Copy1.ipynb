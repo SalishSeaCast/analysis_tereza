{
 "cells": [
  {
   "cell_type": "code",
   "execution_count": 1,
   "metadata": {},
   "outputs": [
    {
     "data": {
      "text/html": [
       "<script>\n",
       "code_show=true; \n",
       "function code_toggle() {\n",
       " if (code_show){\n",
       " $('div.input').hide();\n",
       " } else {\n",
       " $('div.input').show();\n",
       " }\n",
       " code_show = !code_show\n",
       "} \n",
       "$( document ).ready(code_toggle);\n",
       "</script>\n",
       "<form action=\"javascript:code_toggle()\"><input type=\"submit\" value=\"Click here to toggle on/off the raw code.\"></form>"
      ],
      "text/plain": [
       "<IPython.core.display.HTML object>"
      ]
     },
     "execution_count": 1,
     "metadata": {},
     "output_type": "execute_result"
    }
   ],
   "source": [
    "from IPython.display import HTML\n",
    "\n",
    "HTML('''<script>\n",
    "code_show=true; \n",
    "function code_toggle() {\n",
    " if (code_show){\n",
    " $('div.input').hide();\n",
    " } else {\n",
    " $('div.input').show();\n",
    " }\n",
    " code_show = !code_show\n",
    "} \n",
    "$( document ).ready(code_toggle);\n",
    "</script>\n",
    "<form action=\"javascript:code_toggle()\"><input type=\"submit\" value=\"Click here to toggle on/off the raw code.\"></form>''')"
   ]
  },
  {
   "cell_type": "markdown",
   "metadata": {},
   "source": [
    "# Sensitivity of cchem parameterspace to temperature, salinity, DIC, TA, nut. \n",
    " \n",
    "    PLOT omega, pH for : \n",
    "        TA=DIC=2000 at T = 5-25, S = 0 - 35\n",
    "        \n"
   ]
  },
  {
   "cell_type": "code",
   "execution_count": 2,
   "metadata": {},
   "outputs": [
    {
     "name": "stdout",
     "output_type": "stream",
     "text": [
      "Once deleted, variables cannot be recovered. Proceed (y/[n])? y\n"
     ]
    }
   ],
   "source": [
    "%reset"
   ]
  },
  {
   "cell_type": "code",
   "execution_count": 3,
   "metadata": {
    "collapsed": true
   },
   "outputs": [],
   "source": [
    "import sys\n",
    "sys.path.append('/data/tjarniko/mocsy')\n",
    "sys.path.append('/data/tjarniko/MEOPAR/at3/notebooks/carbon_dev/VIZ')\n",
    "import mocsy\n",
    "import VIZ_plots as VP\n",
    "\n",
    "import time\n",
    "import numpy as np\n",
    "import matplotlib.pyplot as plt\n",
    "import matplotlib.patches as patches\n",
    "from oct2py import octave\n",
    "import seawater as sw\n",
    "from __future__ import print_function\n",
    "from numpy import *\n",
    "from scipy import *\n",
    "import matplotlib.pyplot as plt\n",
    "\n",
    "import matplotlib.pyplot as plt\n",
    "from matplotlib import reload\n",
    "plt.style.use('ggplot')\n",
    "import netCDF4 as nc\n",
    "import numpy as np\n",
    "import cmocean as cm\n",
    "\n",
    "\"\"\n",
    "from salishsea_tools import (\n",
    "    nc_tools,\n",
    "    viz_tools,\n",
    "    geo_tools,\n",
    "    tidetools\n",
    ")\n",
    "\n",
    "%matplotlib inline"
   ]
  },
  {
   "cell_type": "code",
   "execution_count": 4,
   "metadata": {},
   "outputs": [
    {
     "name": "stdout",
     "output_type": "stream",
     "text": [
      "50.0\n"
     ]
    }
   ],
   "source": [
    "xdim = 30\n",
    "ydim = 30\n",
    "TA = np.zeros([ydim,xdim])\n",
    "DIC = np.zeros([ydim,xdim])\n",
    "\n",
    "S = np.zeros_like(DIC)\n",
    "T = np.zeros_like(DIC)\n",
    "P = np.zeros_like(DIC)\n",
    "S[:] = 30\n",
    "T[:] = 10\n",
    "P[:] = 1\n",
    "\n",
    "topDIC = 2500\n",
    "lowDIC = 1000\n",
    "\n",
    "topTA = 2500\n",
    "lowTA = 1000\n",
    "\n",
    "step = (topDIC-lowDIC)/ydim\n",
    "print(step)\n",
    "\n",
    "for i in range(0,ydim):\n",
    "    DIC[i,:] = lowDIC + (topDIC-lowDIC)/ydim *(i)\n",
    "for i in range(0,xdim):\n",
    "    TA[:,i] = lowTA + (topTA-lowTA)/ydim *(i)\n",
    "\n",
    "# print(DIC)\n",
    "# print(TA)\n",
    "\n",
    "\n",
    "Sr = np.ravel(S)\n",
    "Tr = np.ravel(T)  \n",
    "Pr = np.ravel(P)  \n",
    "DICr = np.ravel(DIC) * 1e-3\n",
    "TAr = np.ravel(TA) * 1e-3\n",
    "\n",
    "zero = DICr *0\n",
    "\n",
    "response_tup = mocsy.mvars(temp=Tr, sal=Sr, alk=TAr, dic=DICr, \n",
    "                   sil=zero, phos=zero, patm=Pr, depth=zero, lat=zero, \n",
    "                    optcon='mol/m3', optt='Tinsitu', optp='m',\n",
    "                    optb = 'l10', optk1k2='m10', optkf = 'dg', optgas = 'Pinsitu')\n",
    "pH,pco2,fco2,co2,hco3,co3,OmegaA,OmegaC,BetaD,DENis,p,Tis = response_tup\n",
    "\n",
    "pHr = pH.reshape(xdim,ydim)\n",
    "OmegaAr = OmegaA.reshape(xdim,ydim) \n",
    "pco2r = pco2.reshape(xdim,ydim) \n",
    "\n",
    "# print('*OMA*')\n",
    "# print(OmegaA)"
   ]
  },
  {
   "cell_type": "code",
   "execution_count": null,
   "metadata": {
    "collapsed": true
   },
   "outputs": [],
   "source": []
  },
  {
   "cell_type": "code",
   "execution_count": null,
   "metadata": {
    "collapsed": true
   },
   "outputs": [],
   "source": []
  },
  {
   "cell_type": "code",
   "execution_count": 5,
   "metadata": {},
   "outputs": [
    {
     "ename": "AttributeError",
     "evalue": "module 'cmocean.cm' has no attribute 'tarn'",
     "output_type": "error",
     "traceback": [
      "\u001b[0;31m--------------------------------------------------------\u001b[0m",
      "\u001b[0;31mAttributeError\u001b[0m         Traceback (most recent call last)",
      "\u001b[0;32m<ipython-input-5-e68ae6970e17>\u001b[0m in \u001b[0;36m<module>\u001b[0;34m()\u001b[0m\n\u001b[1;32m     46\u001b[0m         \u001b[0mv_max\u001b[0m \u001b[0;34m=\u001b[0m \u001b[0;36m2\u001b[0m\u001b[0;34m\u001b[0m\u001b[0m\n\u001b[1;32m     47\u001b[0m         \u001b[0mtplt\u001b[0m \u001b[0;34m=\u001b[0m \u001b[0mOmegaAr\u001b[0m\u001b[0;34m\u001b[0m\u001b[0m\n\u001b[0;32m---> 48\u001b[0;31m         \u001b[0mmesh\u001b[0m \u001b[0;34m=\u001b[0m \u001b[0max\u001b[0m\u001b[0;34m.\u001b[0m\u001b[0mpcolormesh\u001b[0m\u001b[0;34m(\u001b[0m\u001b[0mtplt\u001b[0m\u001b[0;34m,\u001b[0m \u001b[0mcmap\u001b[0m\u001b[0;34m=\u001b[0m\u001b[0mcm\u001b[0m\u001b[0;34m.\u001b[0m\u001b[0mcm\u001b[0m\u001b[0;34m.\u001b[0m\u001b[0mtarn\u001b[0m\u001b[0;34m,\u001b[0m \u001b[0mvmin\u001b[0m\u001b[0;34m=\u001b[0m\u001b[0mv_min\u001b[0m\u001b[0;34m,\u001b[0m \u001b[0mvmax\u001b[0m\u001b[0;34m=\u001b[0m\u001b[0mv_max\u001b[0m\u001b[0;34m)\u001b[0m\u001b[0;34m\u001b[0m\u001b[0m\n\u001b[0m\u001b[1;32m     49\u001b[0m         \u001b[0mcbar\u001b[0m \u001b[0;34m=\u001b[0m \u001b[0mfig\u001b[0m\u001b[0;34m.\u001b[0m\u001b[0mcolorbar\u001b[0m\u001b[0;34m(\u001b[0m\u001b[0mmesh\u001b[0m\u001b[0;34m,\u001b[0m \u001b[0max\u001b[0m\u001b[0;34m=\u001b[0m\u001b[0max\u001b[0m\u001b[0;34m)\u001b[0m\u001b[0;34m\u001b[0m\u001b[0m\n\u001b[1;32m     50\u001b[0m         \u001b[0mmajor_xSP\u001b[0m \u001b[0;34m=\u001b[0m \u001b[0mnp\u001b[0m\u001b[0;34m.\u001b[0m\u001b[0marange\u001b[0m\u001b[0;34m(\u001b[0m\u001b[0;36m0\u001b[0m\u001b[0;34m,\u001b[0m \u001b[0mxdim\u001b[0m\u001b[0;34m,\u001b[0m \u001b[0;34m(\u001b[0m\u001b[0;36m1\u001b[0m \u001b[0;34m*\u001b[0m \u001b[0mfact\u001b[0m\u001b[0;34m)\u001b[0m\u001b[0;34m)\u001b[0m\u001b[0;34m\u001b[0m\u001b[0m\n",
      "\u001b[0;31mAttributeError\u001b[0m: module 'cmocean.cm' has no attribute 'tarn'"
     ]
    },
    {
     "data": {
      "image/png": "[encoded data removed]",
      "text/plain": [
       "<matplotlib.figure.Figure at 0x7f792b94ef98>"
      ]
     },
     "metadata": {},
     "output_type": "display_data"
    }
   ],
   "source": [
    "fact = 2\n",
    "fig = plt.figure(figsize=(8,3))\n",
    "nop = 3\n",
    "for i in range(1,nop+1):\n",
    "    ax = fig.add_subplot(1,nop,i)\n",
    "\n",
    "    if i == 1:\n",
    "        v_min = lowDIC\n",
    "        v_max = topDIC\n",
    "        \n",
    "        tplt = DIC\n",
    "        mesh = ax.pcolormesh(tplt, cmap=cm.cm.matter, vmin=v_min, vmax=v_max)\n",
    "\n",
    "        major_ySP = np.arange(0, ydim, (1 * fact))\n",
    "        y_labSP = np.arange(lowDIC, topDIC, (step* fact))\n",
    "        ax.set_yticks(major_ySP)\n",
    "        ax.set_yticklabels(y_labSP) \n",
    "        ax.set_xticklabels([])\n",
    "        ax.set_xticks([])\n",
    "        plt.title('DIC umol/L')\n",
    "        ax.set_xlim([0,xdim])\n",
    "        ax.set_ylim([0,ydim])\n",
    "#         major_xSP = np.arange(0, xdim, 1)\n",
    "\n",
    "\n",
    "    \n",
    "    if i == 2:\n",
    "        v_min = lowTA\n",
    "        v_max = topTA\n",
    "        tplt = TA\n",
    "        mesh = ax.pcolormesh(tplt, cmap=cm.cm.matter, vmin=v_min, vmax=v_max)\n",
    "        \n",
    "        major_xSP = np.arange(0, xdim, (1 * fact))\n",
    "        x_labSP = np.arange(v_min, v_max, (step* fact))\n",
    "        ax.set_xticks(major_xSP)\n",
    "        ax.set_xticklabels(x_labSP,rotation='vertical') \n",
    "        ax.set_yticklabels([])\n",
    "        ax.set_yticks([])\n",
    "        plt.title('TA umol/L')\n",
    "        ax.set_xlim([0,xdim])\n",
    "        ax.set_ylim([0,ydim])\n",
    "#         major_xSP = np.arange(0, xdim, 1)\n",
    "        \n",
    "    if i == 3:\n",
    "        v_min = 0\n",
    "        v_max = 2\n",
    "        tplt = OmegaAr\n",
    "        mesh = ax.pcolormesh(tplt, cmap=cm.cm.curl, vmin=v_min, vmax=v_max)\n",
    "        cbar = fig.colorbar(mesh, ax=ax)\n",
    "        major_xSP = np.arange(0, xdim, (1 * fact))\n",
    "        x_labSP = np.arange(lowTA, topTA, (step* fact))\n",
    "        ax.set_xticks(major_xSP)\n",
    "        ax.set_xticklabels(x_labSP,rotation='vertical') \n",
    "        \n",
    "        major_ySP = np.arange(0, ydim, (1 * fact))\n",
    "        y_labSP = np.arange(lowDIC, topDIC, (step* fact))\n",
    "        ax.set_yticks(major_ySP)\n",
    "        ax.set_yticklabels(y_labSP)\n",
    "        ax.set_ylabel('DIC umol/L')\n",
    "        ax.set_xlabel('TA umol/L')\n",
    "        ax.set_xlim([0,xdim])\n",
    "        ax.set_ylim([0,ydim])\n",
    "        plt.title('Omega A')\n",
    "            \n",
    "    \n",
    "fig.tight_layout()  # otherwise the right y-label is slightly clipped\n",
    "plt.show()"
   ]
  },
  {
   "cell_type": "code",
   "execution_count": null,
   "metadata": {},
   "outputs": [],
   "source": [
    "fact = 2\n",
    "tf = 0.9\n",
    "fig = plt.figure(figsize=(8.7*tf,8*tf))\n",
    "nop = 1\n",
    "for i in range(1,nop+1):\n",
    "    ax = fig.add_subplot(1,nop,i)\n",
    "\n",
    "        \n",
    "    if i == 1:\n",
    "        v_min = 0\n",
    "        v_max = 2\n",
    "        tplt = OmegaAr\n",
    "        mesh = ax.pcolormesh(tplt, cmap=cm.cm.curl, vmin=v_min, vmax=v_max)\n",
    "        cbar = fig.colorbar(mesh, ax=ax)\n",
    "        cbar.set_label('Omega A')\n",
    "        major_xSP = np.arange(0, xdim, (1 * fact))\n",
    "        x_labSP = np.arange(lowTA, topTA, (step* fact))\n",
    "        ax.set_xticks(major_xSP)\n",
    "        ax.set_xticklabels(x_labSP,rotation='vertical') \n",
    "        \n",
    "        major_ySP = np.arange(0, ydim, (1 * fact))\n",
    "        y_labSP = np.arange(lowDIC, topDIC, (step* fact))\n",
    "        ax.set_yticks(major_ySP)\n",
    "        ax.set_yticklabels(y_labSP)\n",
    "        ax.set_ylabel('DIC umol/L')\n",
    "        ax.set_xlabel('TA umol/L')\n",
    "        ax.set_xlim([0,xdim])\n",
    "        ax.set_ylim([0,ydim])\n",
    "        plt.title('Temp.: '+ str(int(T[0,0])) + ' C, Sal.: '+str(int(S[0,0])) + ' psu')\n",
    "\n",
    "            \n",
    "    \n",
    "fig.tight_layout()  # otherwise the right y-label is slightly clipped\n",
    "plt.show()"
   ]
  },
  {
   "cell_type": "code",
   "execution_count": null,
   "metadata": {},
   "outputs": [],
   "source": [
    "fact = 2\n",
    "tf = 0.9\n",
    "fig = plt.figure(figsize=(8.7*tf,8*tf))\n",
    "nop = 1\n",
    "for i in range(1,nop+1):\n",
    "    ax = fig.add_subplot(1,nop,i)\n",
    "\n",
    "        \n",
    "    if i == 1:\n",
    "        v_min = 0\n",
    "        v_max = 800\n",
    "        tplt = pco2r\n",
    "        mesh = ax.pcolormesh(tplt, cmap=cm.cm.curl, vmin=v_min, vmax=v_max)\n",
    "        cbar = fig.colorbar(mesh, ax=ax)\n",
    "        cbar.set_label('pCO2')\n",
    "        major_xSP = np.arange(0, xdim, (1 * fact))\n",
    "        x_labSP = np.arange(lowTA, topTA, (step* fact))\n",
    "        ax.set_xticks(major_xSP)\n",
    "        ax.set_xticklabels(x_labSP,rotation='vertical') \n",
    "        \n",
    "        major_ySP = np.arange(0, ydim, (1 * fact))\n",
    "        y_labSP = np.arange(lowDIC, topDIC, (step* fact))\n",
    "        ax.set_yticks(major_ySP)\n",
    "        ax.set_yticklabels(y_labSP)\n",
    "        ax.set_ylabel('DIC umol/L')\n",
    "        ax.set_xlabel('TA umol/L')\n",
    "        ax.set_xlim([0,xdim])\n",
    "        ax.set_ylim([0,ydim])\n",
    "        plt.title('Temp.: '+ str(int(T[0,0])) + ' C, Sal.: '+str(int(S[0,0])) + ' psu')\n",
    "\n",
    "            \n",
    "    \n",
    "fig.tight_layout()  # otherwise the right y-label is slightly clipped\n",
    "plt.show()"
   ]
  },
  {
   "cell_type": "code",
   "execution_count": null,
   "metadata": {
    "collapsed": true
   },
   "outputs": [],
   "source": [
    "Tr = 10\n",
    "Sr = 25\n",
    "TAr = 2300 * 1e-3\n",
    "DICr = 1800 * 1e-3\n",
    "zero = 0 \n",
    "\n",
    "response_tup = mocsy.mvars(temp=Tr, sal=Sr, alk=TAr, dic=DICr, \n",
    "                   sil=zero, phos=zero, patm=zero, depth=zero, lat=zero, \n",
    "                    optcon='mol/m3', optt='Tinsitu', optp='m',\n",
    "                    optb = 'l10', optk1k2='m10', optkf = 'dg', optgas = 'Pinsitu')\n",
    "pH,pco2,fco2,co2,hco3,co3,OmegaA,OmegaC,BetaD,DENis,p,Tis = response_tup\n",
    "\n",
    "print(pH)\n",
    "print(pco2)\n",
    "print(OmegaA)"
   ]
  },
  {
   "cell_type": "code",
   "execution_count": null,
   "metadata": {
    "collapsed": true
   },
   "outputs": [],
   "source": [
    "x = np.random.randint(low=0,high=100,size=(5,5) )\n",
    "print(x)"
   ]
  },
  {
   "cell_type": "code",
   "execution_count": null,
   "metadata": {
    "collapsed": true
   },
   "outputs": [],
   "source": [
    "v_min = 0\n",
    "v_max = 100\n",
    "fig = plt.figure(figsize=(8,3))\n",
    "nop = 3\n",
    "for i in range(1,nop+1):\n",
    "    ax = fig.add_subplot(1,nop,i)\n",
    "\n",
    "    if i == 1:\n",
    "        tplt = x\n",
    "        mesh = ax.pcolormesh(tplt, cmap=cm.cm.matter, vmin=v_min, vmax=v_max)\n",
    "\n",
    "    \n",
    "    if i == 2:\n",
    "        tplt = x\n",
    "        mesh = ax.pcolormesh(tplt, cmap=cm.cm.matter, vmin=v_min, vmax=v_max)\n",
    "\n",
    "    if i == 3:\n",
    "        tplt = x\n",
    "        mesh = ax.pcolormesh(tplt, cmap=cm.cm.matter, vmin=v_min, vmax=v_max)\n",
    "\n",
    "\n",
    "            \n",
    "    \n",
    "fig.tight_layout()  # otherwise the right y-label is slightly clipped\n",
    "plt.show()"
   ]
  },
  {
   "cell_type": "code",
   "execution_count": null,
   "metadata": {
    "collapsed": true
   },
   "outputs": [],
   "source": []
  }
 ],
 "metadata": {
  "kernelspec": {
   "display_name": "Python 3",
   "language": "python",
   "name": "python3"
  },
  "language_info": {
   "codemirror_mode": {
    "name": "ipython",
    "version": 3
   },
   "file_extension": ".py",
   "mimetype": "text/x-python",
   "name": "python",
   "nbconvert_exporter": "python",
   "pygments_lexer": "ipython3",
   "version": "3.6.0"
  }
 },
 "nbformat": 4,
 "nbformat_minor": 2
}
