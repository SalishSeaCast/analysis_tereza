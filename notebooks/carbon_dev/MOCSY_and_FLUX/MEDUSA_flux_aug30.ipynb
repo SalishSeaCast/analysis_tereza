{
 "cells": [
  {
   "cell_type": "markdown",
   "metadata": {},
   "source": [
    "## Notebook description/goals\n"
   ]
  },
  {
   "cell_type": "code",
   "execution_count": 9,
   "metadata": {},
   "outputs": [
    {
     "data": {
      "text/html": [
       "<script>\n",
       "code_show=true; \n",
       "function code_toggle() {\n",
       " if (code_show){\n",
       " $('div.input').hide();\n",
       " } else {\n",
       " $('div.input').show();\n",
       " }\n",
       " code_show = !code_show\n",
       "} \n",
       "$( document ).ready(code_toggle);\n",
       "</script>\n",
       "<form action=\"javascript:code_toggle()\"><input type=\"submit\" value=\"Click here to toggle on/off the raw code.\"></form>"
      ],
      "text/plain": [
       "<IPython.core.display.HTML object>"
      ]
     },
     "execution_count": 9,
     "metadata": {},
     "output_type": "execute_result"
    }
   ],
   "source": [
    "from IPython.display import HTML\n",
    "\n",
    "HTML('''<script>\n",
    "code_show=true; \n",
    "function code_toggle() {\n",
    " if (code_show){\n",
    " $('div.input').hide();\n",
    " } else {\n",
    " $('div.input').show();\n",
    " }\n",
    " code_show = !code_show\n",
    "} \n",
    "$( document ).ready(code_toggle);\n",
    "</script>\n",
    "<form action=\"javascript:code_toggle()\"><input type=\"submit\" value=\"Click here to toggle on/off the raw code.\"></form>''')"
   ]
  },
  {
   "cell_type": "code",
   "execution_count": 10,
   "metadata": {
    "collapsed": true
   },
   "outputs": [],
   "source": [
    "import sys\n",
    "sys.path.append('/data/tjarniko/MEOPAR/mocsy')\n",
    "sys.path.append('/data/tjarniko/MEOPAR/at3/notebooks/carbon_dev/VIZ')\n",
    "import mocsy\n",
    "import VIZ_plots as VP\n",
    "\n",
    "import time\n",
    "import numpy as np\n",
    "import matplotlib.pyplot as plt\n",
    "from oct2py import octave\n",
    "import seawater as sw\n",
    "from __future__ import print_function\n",
    "from numpy import *\n",
    "from scipy import *\n",
    "import matplotlib.pyplot as plt\n",
    "\n",
    "import matplotlib.pyplot as plt\n",
    "from matplotlib import reload\n",
    "plt.style.use('seaborn-white')\n",
    "import netCDF4 as nc\n",
    "import numpy as np\n",
    "import cmocean as cm\n",
    "\n",
    "\"\"\n",
    "from salishsea_tools import (\n",
    "    nc_tools,\n",
    "    viz_tools,\n",
    "    geo_tools,\n",
    "    tidetools\n",
    ")\n",
    "\n",
    "%matplotlib inline"
   ]
  },
  {
   "cell_type": "code",
   "execution_count": 11,
   "metadata": {},
   "outputs": [
    {
     "data": {
      "text/plain": [
       "<module 'VIZ_plots' from '/data/tjarniko/MEOPAR/at3/notebooks/carbon_dev/VIZ/VIZ_plots.py'>"
      ]
     },
     "execution_count": 11,
     "metadata": {},
     "output_type": "execute_result"
    }
   ],
   "source": [
    "reload(VP)"
   ]
  },
  {
   "cell_type": "markdown",
   "metadata": {},
   "source": [
    "## Printouts of diagnostics from point 250, 250 at timestep 0 "
   ]
  },
  {
   "cell_type": "code",
   "execution_count": 12,
   "metadata": {},
   "outputs": [
    {
     "name": "stdout",
     "output_type": "stream",
     "text": [
      "<class 'netCDF4._netCDF4.Dataset'>\n",
      "root group (NETCDF4 data model, file format HDF5):\n",
      "    name: SalishSea_1ts_20171026_20171026\n",
      "    description: biogeochemical variables\n",
      "    title: biogeochemical variables\n",
      "    Conventions: CF-1.6\n",
      "    timeStamp: 2018-Aug-30 19:10:53 GMT\n",
      "    uuid: ac565765-d369-4be7-9acd-b2c3d444bfc6\n",
      "    dimensions(sizes): axis_nbounds(2), x(398), y(898), nvertex(4), deptht(40), time_counter(3)\n",
      "    variables(dimensions): float32 \u001b[4mnav_lat\u001b[0m(y,x), float32 \u001b[4mnav_lon\u001b[0m(y,x), float32 \u001b[4mbounds_lon\u001b[0m(y,x,nvertex), float32 \u001b[4mbounds_lat\u001b[0m(y,x,nvertex), float32 \u001b[4marea\u001b[0m(y,x), float32 \u001b[4mdeptht\u001b[0m(deptht), float32 \u001b[4mdeptht_bounds\u001b[0m(deptht,axis_nbounds), float32 \u001b[4mnitrate\u001b[0m(time_counter,deptht,y,x), float64 \u001b[4mtime_centered\u001b[0m(time_counter), float64 \u001b[4mtime_centered_bounds\u001b[0m(time_counter,axis_nbounds), float64 \u001b[4mtime_counter\u001b[0m(time_counter), float64 \u001b[4mtime_counter_bounds\u001b[0m(time_counter,axis_nbounds), float32 \u001b[4mammonium\u001b[0m(time_counter,deptht,y,x), float32 \u001b[4msilicon\u001b[0m(time_counter,deptht,y,x), float32 \u001b[4mdiatoms\u001b[0m(time_counter,deptht,y,x), float32 \u001b[4mflagellates\u001b[0m(time_counter,deptht,y,x), float32 \u001b[4mciliates\u001b[0m(time_counter,deptht,y,x), float32 \u001b[4mmicrozooplankton\u001b[0m(time_counter,deptht,y,x), float32 \u001b[4mdissolved_organic_nitrogen\u001b[0m(time_counter,deptht,y,x), float32 \u001b[4mparticulate_organic_nitrogen\u001b[0m(time_counter,deptht,y,x), float32 \u001b[4mbiogenic_silicon\u001b[0m(time_counter,deptht,y,x), float32 \u001b[4mFraser_tracer\u001b[0m(time_counter,deptht,y,x), float32 \u001b[4mmesozooplankton\u001b[0m(time_counter,deptht,y,x), float32 \u001b[4mdissolved_inorganic_carbon\u001b[0m(time_counter,deptht,y,x), float32 \u001b[4mtotal_alkalinity\u001b[0m(time_counter,deptht,y,x), float32 \u001b[4mdissolved_oxygen\u001b[0m(time_counter,deptht,y,x), float32 \u001b[4mf_ph\u001b[0m(time_counter,y,x), float32 \u001b[4mf_pco2w\u001b[0m(time_counter,y,x), float32 \u001b[4mf_fco2w\u001b[0m(time_counter,y,x), float32 \u001b[4mf_co2w\u001b[0m(time_counter,y,x), float32 \u001b[4mf_hco3\u001b[0m(time_counter,y,x), float32 \u001b[4mf_co3\u001b[0m(time_counter,y,x), float32 \u001b[4mf_omarg\u001b[0m(time_counter,y,x), float32 \u001b[4mf_omcal\u001b[0m(time_counter,y,x), float32 \u001b[4mf_BetaD\u001b[0m(time_counter,y,x), float32 \u001b[4mf_rhosw\u001b[0m(time_counter,y,x), float32 \u001b[4mf_opres\u001b[0m(time_counter,y,x), float32 \u001b[4mf_insitut\u001b[0m(time_counter,y,x), float32 \u001b[4mf_pco2atm\u001b[0m(time_counter,y,x), float32 \u001b[4mf_fco2atm\u001b[0m(time_counter,y,x), float32 \u001b[4mf_schmidtco2\u001b[0m(time_counter,y,x), float32 \u001b[4mf_kwco2\u001b[0m(time_counter,y,x), float32 \u001b[4mf_K0\u001b[0m(time_counter,y,x), float32 \u001b[4mf_co2starair\u001b[0m(time_counter,y,x), float32 \u001b[4mf_co2flux\u001b[0m(time_counter,y,x), float32 \u001b[4mf_dpco2\u001b[0m(time_counter,y,x)\n",
      "    groups: \n",
      "\n",
      "temp:  12.8125\n",
      "sal:  30.6875\n"
     ]
    }
   ],
   "source": [
    "\n",
    "td = nc.Dataset('/data/tjarniko/results/a31_6/SalishSea_1ts_20171026_20171026_ptrc_T.nc')\n",
    "print(td)\n",
    "tdg = nc.Dataset('/data/tjarniko/results/a30_1/SalishSea_1ts_20171026_20171026_grid_T.nc')\n",
    "#print(tdg)\n",
    "\n",
    "temp = tdg.variables['votemper'][:]\n",
    "sal = tdg.variables['vosaline'][:]\n",
    "print('temp: ', temp[0,0,250,250])\n",
    "print('sal: ', sal[0,0,250,250])"
   ]
  },
  {
   "cell_type": "code",
   "execution_count": 13,
   "metadata": {},
   "outputs": [
    {
     "name": "stdout",
     "output_type": "stream",
     "text": [
      "f_ph\n",
      "7.74114\n",
      "f_pco2w\n",
      "803.021\n",
      "f_omarg\n",
      "0.996381\n",
      "f_co2flux\n",
      "-2.96733e-05\n"
     ]
    }
   ],
   "source": [
    "f_ph = td.variables['f_ph'][:]\n",
    "f_pco2w = td.variables['f_pco2w'][:]\n",
    "# f_fco2w = td.variables['f_fco2w'][:]\n",
    "# f_co2w = td.variables['f_co2w'][:]\n",
    "# f_hco3 = td.variables['f_hco3'][:]\n",
    "\n",
    "#f_co3 = td.variables['f_co3'][:]\n",
    "f_omarg = td.variables['f_omarg'][:]\n",
    "# f_omcal = td.variables['f_omcal'][:]\n",
    "# f_BetaD = td.variables['f_BetaD'][:]\n",
    "# f_rhosw = td.variables['f_rhosw'][:]\n",
    "\n",
    "# f_opres = td.variables['f_opres'][:]\n",
    "# f_insitut = td.variables['f_insitut'][:]\n",
    "# f_pco2atm = td.variables['f_pco2atm'][:]\n",
    "# f_fco2atm = td.variables['f_fco2atm'][:]\n",
    "# f_schmidtco2 = td.variables['f_schmidtco2'][:]\n",
    "\n",
    "# f_kwco2 = td.variables['f_kwco2'][:]\n",
    "# f_K0 = td.variables['f_K0'][:]\n",
    "# f_co2starair = td.variables['f_co2starair'][:]\n",
    "f_co2flux = td.variables['f_co2flux'][:]\n",
    "# f_dpco2 = td.variables['f_dpco2'][:]\n",
    "\n",
    "\n",
    "dar = [f_ph, f_pco2w, f_omarg, f_co2flux]\n",
    "\n",
    "darn = ['f_ph', 'f_pco2w', 'f_omarg', 'f_co2flux']\n",
    "\n",
    "for i in range(0,len(dar)):\n",
    "    print(darn[i])\n",
    "    print(dar[i][0,250,250])"
   ]
  },
  {
   "cell_type": "markdown",
   "metadata": {},
   "source": [
    "## schmidt\n",
    "    subroutine schmidt_co2(pt, N, co2_schmidt)\n",
    "\n",
    "      USE mocsy_singledouble\n",
    "\n",
    "      implicit none\n",
    "    !\n",
    "      INTEGER, INTENT(in) :: N\n",
    "      real(kind=wp), INTENT(in),  DIMENSION(N) :: pt\n",
    "      real(kind=wp), INTENT(out), DIMENSION(N) :: co2_schmidt\n",
    "    !\n",
    "      real(kind=wp)              :: a0, a1, a2, a3, a4\n",
    "\n",
    "      data a0 /    2116.8 /\n",
    "      data a1 /   -136.25 /\n",
    "      data a2 /    4.7353 /\n",
    "      data a3 / -0.092307 /\n",
    "      data a4 / 0.0007555 /\n",
    "    !\n",
    "    ! Wanninkhof (1992)\n",
    "    !     co2_schmidt = a0 + pt*(a1 + pt*(a2 + pt*a3))\n",
    "\n",
    "    ! Wanninkhof (2014) adds in an extra term\n",
    "      co2_schmidt = a0 + pt*(a1 + pt*(a2 + pt*(a3 + pt*a4)))\n",
    "\n",
    "      return\n",
    "      end subroutine schmidt_co2"
   ]
  },
  {
   "cell_type": "markdown",
   "metadata": {},
   "source": [
    "    SUBROUTINE x2pCO2atm(xCO2, temp, salt, Patm, N, pCO2atm)\n",
    "      !    Purpose:\n",
    "      !    Compute pCO2atm from arrays of xCO2, in situ T, S, & atm pressure\n",
    "\n",
    "      USE mocsy_singledouble\n",
    "\n",
    "      IMPLICIT NONE\n",
    "\n",
    "      !> number of records\n",
    "      INTEGER, intent(in) :: N\n",
    "\n",
    "    ! INPUT variables\n",
    "      !> mole fraction of CO2 [ppm]\n",
    "      REAL(kind=wp), INTENT(in), DIMENSION(N) :: xCO2\n",
    "      !> in situ temperature [C]\n",
    "      REAL(kind=wp), INTENT(in), DIMENSION(N) :: temp\n",
    "      !> salinity [psu]\n",
    "      REAL(kind=wp), INTENT(in), DIMENSION(N) :: salt\n",
    "      !> atmospheric pressure [atm]\n",
    "      REAL(kind=wp), INTENT(in), DIMENSION(N) :: Patm\n",
    "    !f2py optional , depend(temp) :: n=len(temp)\n",
    "\n",
    "    ! OUTPUT variables:\n",
    "      !> oceanic partial pressure of CO2 [uatm]\n",
    "      REAL(kind=wp), INTENT(out), DIMENSION(N) :: pCO2atm\n",
    "\n",
    "    ! LOCAL variables:\n",
    "      REAL(kind=wp) :: dxCO2, dPatm\n",
    "      REAL(kind=wp), DIMENSION(N) :: pH20\n",
    "      REAL(kind=wp) :: dpCO2atm\n",
    "\n",
    "      INTEGER :: i\n",
    "\n",
    "    ! Compute vapor pressure of seawater [in atm]\n",
    "      call vapress(temp, salt, N, pH20)\n",
    "\n",
    "      DO i = 1,N\n",
    "         dxCO2     = DBLE(xCO2(i))\n",
    "         dPatm     = DBLE(Patm(i))\n",
    "         dpCO2atm = (dPatm - pH20(i)) * dxCO2\n",
    "         pCO2atm(i) = REAL(dpCO2atm)\n",
    "      END DO\n",
    "\n",
    "      RETURN\n",
    "    END SUBROUTINE x2pCO2atm"
   ]
  },
  {
   "cell_type": "markdown",
   "metadata": {},
   "source": [
    "## Schmidt number - python rewrite"
   ]
  },
  {
   "cell_type": "code",
   "execution_count": 14,
   "metadata": {},
   "outputs": [
    {
     "name": "stdout",
     "output_type": "stream",
     "text": [
      "974.654599734\n"
     ]
    }
   ],
   "source": [
    "pt = temp[0,0,250,250]\n",
    "\n",
    "a0 = 2116.8 \n",
    "a1 =  -136.25 \n",
    "a2 =   4.7353 \n",
    "a3 = -0.092307 \n",
    "a4 = 0.0007555 \n",
    "\n",
    "# Wanninkhof (1992)\n",
    "#     co2_schmidt = a0 + pt*(a1 + pt*(a2 + pt*a3))\n",
    "\n",
    "# Wanninkhof (2014) adds in an extra term\n",
    "co2_schmidt = a0 + pt*(a1 + pt*(a2 + pt*(a3 + pt*a4)))\n",
    "print(co2_schmidt)"
   ]
  },
  {
   "cell_type": "code",
   "execution_count": null,
   "metadata": {
    "collapsed": true
   },
   "outputs": [],
   "source": []
  },
  {
   "cell_type": "markdown",
   "metadata": {},
   "source": [
    "##  Compute pCO2atm from xCO2 - fortran\n",
    "\n",
    "    SUBROUTINE x2pCO2atm(xCO2, temp, salt, Patm, N, pCO2atm)\n",
    "      !    Purpose:\n",
    "      !    Compute pCO2atm from arrays of xCO2, in situ T, S, & atm pressure\n",
    "\n",
    "      USE mocsy_singledouble\n",
    "\n",
    "      IMPLICIT NONE\n",
    "\n",
    "      !> number of records\n",
    "      INTEGER, intent(in) :: N\n",
    "\n",
    "    ! INPUT variables\n",
    "      !> mole fraction of CO2 [ppm]\n",
    "      REAL(kind=wp), INTENT(in), DIMENSION(N) :: xCO2\n",
    "      !> in situ temperature [C]\n",
    "      REAL(kind=wp), INTENT(in), DIMENSION(N) :: temp\n",
    "      !> salinity [psu]\n",
    "      REAL(kind=wp), INTENT(in), DIMENSION(N) :: salt\n",
    "      !> atmospheric pressure [atm]\n",
    "      REAL(kind=wp), INTENT(in), DIMENSION(N) :: Patm\n",
    "    !f2py optional , depend(temp) :: n=len(temp)\n",
    "\n",
    "    ! OUTPUT variables:\n",
    "      !> oceanic partial pressure of CO2 [uatm]\n",
    "      REAL(kind=wp), INTENT(out), DIMENSION(N) :: pCO2atm\n",
    "\n",
    "    ! LOCAL variables:\n",
    "      REAL(kind=wp) :: dxCO2, dPatm\n",
    "      REAL(kind=wp), DIMENSION(N) :: pH20\n",
    "      REAL(kind=wp) :: dpCO2atm\n",
    "\n",
    "      INTEGER :: i\n",
    "\n",
    "    ! Compute vapor pressure of seawater [in atm]\n",
    "      call vapress(temp, salt, N, pH20)\n",
    "\n",
    "      DO i = 1,N\n",
    "         dxCO2     = DBLE(xCO2(i))\n",
    "         dPatm     = DBLE(Patm(i))\n",
    "         dpCO2atm = (dPatm - pH20(i)) * dxCO2\n",
    "         pCO2atm(i) = REAL(dpCO2atm)\n",
    "      END DO\n",
    "\n",
    "      RETURN\n",
    "    END SUBROUTINE x2pCO2atm\n",
    "\n",
    "    ! --------------------------------------------------------------------\n",
    "    !  Calculate seawater vapor pressure\n",
    "    ! --------------------------------------------------------------------\n",
    "    !\n",
    "    !>    Compute vapor pressure of seawater (atm) following preocedure from Weiss & Price (1980)\n",
    "    SUBROUTINE vapress(temp, salt, N, vpsw)\n",
    "      !    Purpose:\n",
    "      !    Compute vapor pressure of seawater (atm) following preocedure from Weiss & Price (1980)\n",
    "\n",
    "      USE mocsy_singledouble\n",
    "      IMPLICIT NONE\n",
    "\n",
    "      !> number of records\n",
    "      INTEGER, intent(in) :: N\n",
    "\n",
    "    ! INPUT variables\n",
    "      !> in situ temperature [C]\n",
    "      REAL(kind=wp), INTENT(in), DIMENSION(N) :: temp\n",
    "      !> salinity [psu]\n",
    "      REAL(kind=wp), INTENT(in), DIMENSION(N) :: salt\n",
    "    !f2py optional , depend(temp) :: n=len(temp)\n",
    "\n",
    "    ! OUTPUT variables:\n",
    "      !> vapor pressure of seawater [atm]\n",
    "      REAL(kind=wp), INTENT(out), DIMENSION(N) :: vpsw\n",
    "\n",
    "    ! LOCAL variables:\n",
    "      REAL(kind=wp) :: tk, dsalt\n",
    "\n",
    "      INTEGER :: i\n",
    "\n",
    "      DO i = 1,N\n",
    "         dsalt = DBLE(salt(i))\n",
    "         tk = 273.15d0 + DBLE(temp(i))     !Absolute temperature (Kelvin)\n",
    "         vpsw(i) = exp(24.4543d0 - 67.4509d0*(100.0d0/tk) - 4.8489d0*log(tk/100) - 0.000544d0*dsalt)\n",
    "      END DO\n",
    "\n",
    "      RETURN\n",
    "    END SUBROUTINE vapress"
   ]
  },
  {
   "cell_type": "markdown",
   "metadata": {},
   "source": [
    "## Python rewrite of SUBROUTINE x2pCO2atm"
   ]
  },
  {
   "cell_type": "code",
   "execution_count": 15,
   "metadata": {
    "collapsed": true
   },
   "outputs": [],
   "source": [
    "\n",
    "\n",
    "temp = 12.8125\n",
    "salt = 30.6875\n",
    "patm = 1\n",
    "xco2 = 412\n",
    "\n",
    "def x2pco2atm(xco2,temp,salt,patm):    \n",
    "    \n",
    "    pH20 = vapress(temp,salt)\n",
    "    \n",
    "    pco2atm = (patm - pH20)  * xco2\n",
    "    \n",
    "    return(pco2atm)\n",
    "\n",
    "\n",
    "def vapress(temp,salt):\n",
    "\n",
    "\n",
    "    tk = 273.15 + temp    #!Absolute temperature (Kelvin)\n",
    "    vpsw = exp(24.4543 - 67.4509*(100.0/tk) - 4.8489*np.log(tk/100) - 0.000544*salt)\n",
    "\n",
    "    return vpsw\n",
    "\n"
   ]
  },
  {
   "cell_type": "code",
   "execution_count": 16,
   "metadata": {},
   "outputs": [
    {
     "data": {
      "text/plain": [
       "406.0901958978028"
      ]
     },
     "execution_count": 16,
     "metadata": {},
     "output_type": "execute_result"
    }
   ],
   "source": [
    "x2pco2atm(xco2,temp,salt,patm)"
   ]
  },
  {
   "cell_type": "code",
   "execution_count": null,
   "metadata": {
    "collapsed": true
   },
   "outputs": [],
   "source": []
  }
 ],
 "metadata": {
  "kernelspec": {
   "display_name": "Python 3",
   "language": "python",
   "name": "python3"
  },
  "language_info": {
   "codemirror_mode": {
    "name": "ipython",
    "version": 3
   },
   "file_extension": ".py",
   "mimetype": "text/x-python",
   "name": "python",
   "nbconvert_exporter": "python",
   "pygments_lexer": "ipython3",
   "version": "3.6.0"
  }
 },
 "nbformat": 4,
 "nbformat_minor": 2
}
