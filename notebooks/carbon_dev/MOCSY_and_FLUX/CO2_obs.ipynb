{
 "cells": [
  {
   "cell_type": "code",
   "execution_count": 1,
   "metadata": {},
   "outputs": [
    {
     "name": "stdout",
     "output_type": "stream",
     "text": [
      "Once deleted, variables cannot be recovered. Proceed (y/[n])? y\n"
     ]
    }
   ],
   "source": [
    "%reset\n",
    "from numpy import *\n",
    "from scipy import *\n",
    "\n",
    "from scipy import stats \n",
    "from scipy import interpolate\n",
    "# from scipy.interpolate import InterpolatedUnivariateSpline as IUS\n",
    "\n",
    "\n",
    "\n",
    "import netCDF4 as nc\n",
    "import numpy as np\n",
    "from scipy.optimize import curve_fit\n",
    "from numpy import exp, linspace, random\n",
    "# import scipy as sp\n",
    "import cmocean\n",
    "import glob\n",
    "import seawater\n",
    "import pandas as pd \n",
    "import matplotlib.pyplot as plt\n",
    "%matplotlib inline\n",
    "import cmocean as cm\n",
    "\n",
    "from salishsea_tools import (\n",
    "    nc_tools,\n",
    "    viz_tools,\n",
    "    geo_tools,\n",
    "    tidetools\n",
    ")\n",
    "\n",
    "import warnings\n",
    "warnings.filterwarnings('ignore')"
   ]
  },
  {
   "cell_type": "code",
   "execution_count": 2,
   "metadata": {},
   "outputs": [
    {
     "data": {
      "text/html": [
       "<script>\n",
       "code_show=true; \n",
       "function code_toggle() {\n",
       " if (code_show){\n",
       " $('div.input').hide();\n",
       " } else {\n",
       " $('div.input').show();\n",
       " }\n",
       " code_show = !code_show\n",
       "} \n",
       "$( document ).ready(code_toggle);\n",
       "</script>\n",
       "<form action=\"javascript:code_toggle()\"><input type=\"submit\" value=\"Click here to toggle on/off the raw code.\"></form>"
      ],
      "text/plain": [
       "<IPython.core.display.HTML object>"
      ]
     },
     "execution_count": 2,
     "metadata": {},
     "output_type": "execute_result"
    }
   ],
   "source": [
    "from IPython.display import HTML\n",
    "\n",
    "HTML('''<script>\n",
    "code_show=true; \n",
    "function code_toggle() {\n",
    " if (code_show){\n",
    " $('div.input').hide();\n",
    " } else {\n",
    " $('div.input').show();\n",
    " }\n",
    " code_show = !code_show\n",
    "} \n",
    "$( document ).ready(code_toggle);\n",
    "</script>\n",
    "<form action=\"javascript:code_toggle()\"><input type=\"submit\" value=\"Click here to toggle on/off the raw code.\"></form>''')"
   ]
  },
  {
   "cell_type": "code",
   "execution_count": 3,
   "metadata": {
    "collapsed": true
   },
   "outputs": [],
   "source": [
    "dpath = '/data/tjarniko/MEOPAR/at3/notebooks/carbon_dev/DATASETS/'\n",
    "MON_ljo=  (dpath+'co2dat/monthly/monthly_flask_co2_ljo.csv')\n",
    "MON_ptb=  (dpath+'co2dat/monthly/monthly_flask_co2_ptb.csv')\n",
    "MON_stp=  (dpath+'co2dat/monthly/monthly_flask_co2_stp.csv')\n",
    "\n",
    "DAI_ljo=  (dpath+'co2dat/daily/daily_flask_co2_ljo.csv')\n",
    "DAI_ptb=  (dpath+'co2dat/daily/daily_flask_co2_ptb.csv')\n",
    "DAI_stp=  (dpath+'co2dat/daily/daily_flask_co2_stp.csv')\n",
    "\n",
    "\n",
    "\n",
    "DMON_ljo = pd.read_csv(MON_ljo) \n",
    "DMON_ptb = pd.read_csv(MON_ptb) \n",
    "DMON_stp = pd.read_csv(MON_stp)\n",
    "\n",
    "DDAI_ljo = pd.read_csv(DAI_ljo) \n",
    "DDAI_ptb = pd.read_csv(DAI_ptb) \n",
    "DDAI_stp = pd.read_csv(DAI_stp) "
   ]
  },
  {
   "cell_type": "code",
   "execution_count": 4,
   "metadata": {
    "collapsed": true
   },
   "outputs": [],
   "source": [
    "ljo_val = DMON_ljo['Col5']\n",
    "ptb_val = DMON_ptb['Col5']\n",
    "stp_val = DMON_stp['Col5']\n",
    "\n",
    "ljo_date = DMON_ljo['Decdate']\n",
    "ptb_date = DMON_ptb['Decdate']\n",
    "stp_date = DMON_stp['Decdate']\n",
    "\n",
    "ljo_valD = DDAI_ljo['Val']\n",
    "ptb_valD = DDAI_ptb['Val']\n",
    "stp_valD = DDAI_stp['Val']\n",
    "\n",
    "ljo_FlagD = DDAI_ljo['Flag']\n",
    "ptb_FlagD = DDAI_ptb['Flag']\n",
    "stp_FlagD = DDAI_stp['Flag']\n",
    "\n",
    "ljo_dateD = DDAI_ljo['Decdate']\n",
    "ptb_dateD = DDAI_ptb['Decdate']\n",
    "stp_dateD = DDAI_stp['Decdate']\n",
    "\n",
    "ljo_DD = ljo_dateD.values\n",
    "ptb_DD = ptb_dateD.values\n",
    "stp_DD = stp_dateD.values\n",
    "\n",
    "ljo_VD = ljo_valD.values\n",
    "ptb_VD = ptb_valD.values\n",
    "stp_VD = stp_valD.values\n",
    "\n",
    "ljo_VM = ljo_val.values\n",
    "ptb_VM = ptb_val.values\n",
    "stp_VM = stp_val.values\n",
    "\n",
    "ljo_DM = ljo_date.values\n",
    "ptb_DM = ptb_date.values\n",
    "stp_DM = stp_date.values\n",
    "\n",
    "ljo_VM[ljo_VM < -99] = nan\n",
    "ptb_VM[ptb_VM < -99] = nan\n",
    "stp_VM[stp_VM < -99] = nan\n",
    "\n",
    "ptb_VD[ptb_VD > 1400] = nan\n",
    "\n",
    "ljo_VD[ljo_FlagD != 0] = nan\n",
    "ptb_VD[ptb_FlagD != 0] = nan\n",
    "stp_VD[stp_FlagD != 0] = nan"
   ]
  },
  {
   "cell_type": "code",
   "execution_count": 5,
   "metadata": {
    "collapsed": true
   },
   "outputs": [],
   "source": [
    "# ptb_date = DMON_ptb['Decdate']\n",
    "# stp_date = DMON_stp['Decdate']"
   ]
  },
  {
   "cell_type": "code",
   "execution_count": 6,
   "metadata": {},
   "outputs": [
    {
     "data": {
      "image/png": "[encoded data removed]",
      "text/plain": [
       "<matplotlib.figure.Figure at 0x7f6e9e63a358>"
      ]
     },
     "metadata": {},
     "output_type": "display_data"
    }
   ],
   "source": [
    "fig = plt.figure(figsize=(8,8))\n",
    "\n",
    "for i in range(1,3):\n",
    "    if i == 1:\n",
    "        ax = fig.add_subplot(2,1,i)\n",
    "        ax.plot(ljo_DD,ljo_VD,color = 'midnightblue',linewidth = 2,label = 'LJO')\n",
    "        ax.plot(ptb_DD,ptb_VD,color = 'darkseagreen',linewidth = 2,label = 'PTB')\n",
    "        \n",
    "        #linear trend\n",
    "        mask =   (~np.isnan(ljo_VD) & (ljo_VD <1000))\n",
    "        mask2 =   (~np.isnan(ljo_VD) & (ljo_VD <1000) & (ljo_DD >= 2000))\n",
    "        slope_ljo, intercept_ljo, r_value_ljo, p_value_ljo, std_err = stats.linregress(ljo_DD[mask],ljo_VD[mask])\n",
    "        slope_ljo2, intercept_ljo2, r_value_ljo, p_value_ljo, std_err = stats.linregress(ljo_DD[mask2],ljo_VD[mask2])\n",
    "        line_ljo = slope_ljo*ljo_DD+intercept_ljo\n",
    "        line_ljo2 = slope_ljo2*ljo_DD+intercept_ljo2\n",
    "        ax.plot(ljo_DD,line_ljo, color = 'midnightblue', linewidth = 2, label = 'LJO lin trend')\n",
    "        ax.plot(ljo_DD,line_ljo2, color = 'royalblue', linewidth = 2, label = 'LJO lin trend since 2000')\n",
    "        \n",
    "        #linear trend\n",
    "        mask =   (~np.isnan(ptb_VD) & (ptb_VD <1000))\n",
    "        mask2 =   (~np.isnan(ptb_VD) & (ptb_VD <1000) & (ptb_DD >= 2000))\n",
    "        slope_ptb, intercept_ptb, r_value_ptb, p_value_ptb, std_err = stats.linregress(ptb_DD[mask],ptb_VD[mask])\n",
    "        slope_ptb2, intercept_ptb2, r_value_ptb, p_value_ptb, std_err = stats.linregress(ptb_DD[mask2],ptb_VD[mask2])\n",
    "        line_ptb = slope_ptb*ptb_DD+intercept_ptb\n",
    "        line_ptb2 = slope_ptb2*ptb_DD+intercept_ptb2\n",
    "        ax.plot(ptb_DD,line_ptb, color = 'darkseagreen', linewidth = 2, label = 'PTB lin trend')\n",
    "        ax.plot(ptb_DD,line_ptb2, color = 'lightseagreen', linewidth = 2, label = 'PTB lin trend since 2000')\n",
    "\n",
    "        ax.legend(loc='best',fontsize = 11)\n",
    "\n",
    "    if i == 2:\n",
    "        ax = fig.add_subplot(2,1,i)\n",
    "        ax = fig.add_subplot(2,1,i)\n",
    "        ax.plot(ljo_DD,ljo_VD,color = 'midnightblue',linewidth = 2,label = 'LJO')\n",
    "        ax.plot(ptb_DD,ptb_VD,color = 'darkseagreen',linewidth = 2,label = 'PTB')\n",
    "        \n",
    "        #linear trend\n",
    "        mask =   (~np.isnan(ljo_VD) & (ljo_VD <1000))\n",
    "        mask2 =   (~np.isnan(ljo_VD) & (ljo_VD <1000) & (ljo_DD >= 2000))\n",
    "        slope_ljo, intercept_ljo, r_value_ljo, p_value_ljo, std_err = stats.linregress(ljo_DD[mask],ljo_VD[mask])\n",
    "        slope_ljo2, intercept_ljo2, r_value_ljo, p_value_ljo, std_err = stats.linregress(ljo_DD[mask2],ljo_VD[mask2])\n",
    "        line_ljo = slope_ljo*ljo_DD+intercept_ljo\n",
    "        line_ljo2 = slope_ljo2*ljo_DD+intercept_ljo2\n",
    "        ax.plot(ljo_DD,line_ljo, color = 'midnightblue', linewidth = 2, label = 'LJO lin trend')\n",
    "        ax.plot(ljo_DD,line_ljo2, color = 'royalblue', linewidth = 2, label = 'LJO lin trend since 2000')\n",
    "        \n",
    "        #linear trend\n",
    "        mask =   (~np.isnan(ptb_VD) & (ptb_VD <1000))\n",
    "        mask2 =   (~np.isnan(ptb_VD) & (ptb_VD <1000) & (ptb_DD >= 2000))\n",
    "        slope_ptb, intercept_ptb, r_value_ptb, p_value_ptb, std_err = stats.linregress(ptb_DD[mask],ptb_VD[mask])\n",
    "        slope_ptb2, intercept_ptb2, r_value_ptb, p_value_ptb, std_err = stats.linregress(ptb_DD[mask2],ptb_VD[mask2])\n",
    "        line_ptb = slope_ptb*ptb_DD+intercept_ptb\n",
    "        line_ptb2 = slope_ptb2*ptb_DD+intercept_ptb2\n",
    "        ax.plot(ptb_DD,line_ptb, color = 'darkseagreen', linewidth = 2, label = 'PTB lin trend')\n",
    "        ax.plot(ptb_DD,line_ptb2, color = 'lightseagreen', linewidth = 2, label = 'PTB lin trend since 2000')\n",
    "\n",
    "        #ax.legend(loc='best',fontsize = 11)\n",
    "        ax.set_xlim([2000,2020])\n",
    "        ax.set_ylim([350,430])"
   ]
  },
  {
   "cell_type": "code",
   "execution_count": 7,
   "metadata": {
    "collapsed": true
   },
   "outputs": [],
   "source": [
    "cmap = cm.cm.thermal  # define the colormap\n",
    "# extract all colors from the .jet map\n",
    "\n",
    "cmaplist = [cmap(i) for i in range(cmap.N)]\n"
   ]
  },
  {
   "cell_type": "code",
   "execution_count": 8,
   "metadata": {
    "collapsed": true
   },
   "outputs": [],
   "source": [
    "mask =   (~np.isnan(ljo_VD) & (ljo_VD <1000))\n",
    "mask2 =   (~np.isnan(ljo_VD) & (ljo_VD <1000) & (ljo_DD >= 2000))\n",
    "slope_ljo, intercept_ljo, r_value_ljo, p_value_ljo, std_err = stats.linregress(ljo_DD[mask],ljo_VD[mask])\n",
    "slope_ljo2, intercept_ljo2, r_value_ljo, p_value_ljo, std_err = stats.linregress(ljo_DD[mask2],ljo_VD[mask2])\n",
    "line_ljo = slope_ljo*ljo_DD+intercept_ljo\n",
    "line_ljo2 = slope_ljo2*ljo_DD+intercept_ljo2\n",
    "\n",
    "mask_ptb =   (~np.isnan(ptb_VD) & (ptb_VD <1000))\n",
    "mask2_ptb =   (~np.isnan(ptb_VD) & (ptb_VD <1000) & (ptb_DD >= 2000))\n",
    "slope_ptb, intercept_ptb, r_value_ptb, p_value_ptb, std_err = stats.linregress(ptb_DD[mask_ptb],ptb_VD[mask_ptb])\n",
    "slope_ptb2, intercept_ptb2, r_value_ptb, p_value_ptb, std_err = stats.linregress(ptb_DD[mask2_ptb],ptb_VD[mask2_ptb])\n",
    "line_ptb = slope_ptb*ptb_DD+intercept_ptb\n",
    "line_ptb2 = slope_ptb2*ptb_DD+intercept_ptb2\n",
    "ptb_detrend = ptb_VD - line_ptb\n",
    "ptb_detrend2000 = ptb_VD - line_ptb2\n",
    "ljo_detrend = ljo_VD - line_ljo\n",
    "ljo_detrend2000 = ljo_VD - line_ljo2"
   ]
  },
  {
   "cell_type": "code",
   "execution_count": 9,
   "metadata": {},
   "outputs": [
    {
     "ename": "ImportError",
     "evalue": "cannot import name 'interp1d'",
     "output_type": "error",
     "traceback": [
      "\u001b[0;31m---------------------------------------\u001b[0m",
      "\u001b[0;31mImportError\u001b[0mTraceback (most recent call last)",
      "\u001b[0;32m<ipython-input-9-63e8fbde58d2>\u001b[0m in \u001b[0;36m<module>\u001b[0;34m()\u001b[0m\n\u001b[0;32m----> 1\u001b[0;31m \u001b[0;32mfrom\u001b[0m \u001b[0mscipy\u001b[0m\u001b[0;34m.\u001b[0m\u001b[0minterpolate\u001b[0m \u001b[0;32mimport\u001b[0m \u001b[0minterp1d\u001b[0m\u001b[0;34m\u001b[0m\u001b[0m\n\u001b[0m\u001b[1;32m      2\u001b[0m \u001b[0;34m\u001b[0m\u001b[0m\n\u001b[1;32m      3\u001b[0m \u001b[0;34m\u001b[0m\u001b[0m\n\u001b[1;32m      4\u001b[0m \u001b[0mw_ptb\u001b[0m \u001b[0;34m=\u001b[0m \u001b[0mnp\u001b[0m\u001b[0;34m.\u001b[0m\u001b[0mzeros\u001b[0m\u001b[0;34m(\u001b[0m\u001b[0;34m[\u001b[0m\u001b[0;36m10000\u001b[0m\u001b[0;34m,\u001b[0m\u001b[0;36m18\u001b[0m\u001b[0;34m]\u001b[0m\u001b[0;34m)\u001b[0m\u001b[0;34m\u001b[0m\u001b[0m\n\u001b[1;32m      5\u001b[0m \u001b[0mw_ljo\u001b[0m \u001b[0;34m=\u001b[0m \u001b[0mnp\u001b[0m\u001b[0;34m.\u001b[0m\u001b[0mzeros\u001b[0m\u001b[0;34m(\u001b[0m\u001b[0;34m[\u001b[0m\u001b[0;36m10000\u001b[0m\u001b[0;34m,\u001b[0m\u001b[0;36m18\u001b[0m\u001b[0;34m]\u001b[0m\u001b[0;34m)\u001b[0m\u001b[0;34m\u001b[0m\u001b[0m\n",
      "\u001b[0;31mImportError\u001b[0m: cannot import name 'interp1d'"
     ]
    }
   ],
   "source": [
    "from scipy.interpolate import interp1d\n",
    "\n",
    "\n",
    "w_ptb = np.zeros([10000,18]) \n",
    "w_ljo = np.zeros([10000,18]) \n",
    "\n",
    "for y in range(2000,2018):\n",
    "    ind = 2000-y\n",
    "    cind = int(((y-2000)/20) *256)\n",
    "    mask =   ((ljo_DD>=y) & (ljo_DD <y+1)) \n",
    "    tx = ljo_DD[mask]-y\n",
    "    ty = ljo_detrend2000[mask]\n",
    "    tmin = min(tx)\n",
    "    tmax = max(tx)\n",
    "    xnew = np.arange(tmin, tmax, 0.0001)\n",
    "    f = interp1d(tx,ty)\n",
    "    f = interpolate.interp1d(tx, ty)\n",
    "#     f = sp.interpolate.interp1d(tx,ty)\n",
    "#     #f = interpolate.interp1d(tx, ty)\n",
    "#     ynew = f(xnew)\n",
    "#     firstx = int(min(xnew)*10000)\n",
    "#     w_ljo[firstx:firstx+len(xnew),ind] = ynew\n",
    "#     t_xs = np.arange(0,1,0.0001)\n",
    "#     w_ljo[w_ljo==0] = nan\n",
    "    \n",
    "# for y in range(2000,2018):\n",
    "#     ind = 2000-y\n",
    "#     cind = int(((y-2000)/20) *256)\n",
    "#     mask =   ((ptb_DD>=y) & (ptb_DD <y+1)) \n",
    "#     tx = ptb_DD[mask]-y\n",
    "#     ty = ptb_detrend2000[mask]\n",
    "#     tmin = min(tx)\n",
    "#     tmax = max(tx)\n",
    "#     #             minlist.append(tmin)\n",
    "#     #             maxlist.append(tmax)\n",
    "#     #             span = tmax-tmin\n",
    "#     #             days_span = span * 365\n",
    "#     xnew = np.arange(tmin, tmax, 0.0001)\n",
    "#     f = interpolate.interp1d(tx, ty)\n",
    "#     ynew = f(xnew)\n",
    "#     firstx = int(min(xnew)*10000)\n",
    "#     w_ptb[firstx:firstx+len(xnew),ind] = ynew\n",
    "#     t_xs = np.arange(0,1,0.0001)\n",
    "#     w_ptb[w_ptb==0] = nan\n",
    "    \n",
    "# w_ljo_smoothed = np.zeros([10000,1])\n",
    "# w_ptb_smoothed = np.zeros([10000,1])\n",
    "\n",
    "# w_ljo_COPY = np.copy(w_ljo)\n",
    "# w_ptb_COPY = np.copy(w_ptb)\n",
    "# for i in range(0,len(w_ljo[:,0])):\n",
    "#     t_val = w_ljo_COPY[i,:]\n",
    "#     cutoff_up = np.nanmean(t_val) + 1* np.nanstd(t_val)\n",
    "#     cutoff_down = np.nanmean(t_val) - 1* np.nanstd(t_val)\n",
    "#     t_val[t_val>cutoff_up] = np.nan\n",
    "#     t_val[t_val<cutoff_down] = np.nan\n",
    "#     w_ljo_smoothed[i] = np.nanmean(t_val)\n",
    "    \n",
    "#     t_val2 = w_ptb_COPY[i,:]\n",
    "#     cutoff_up2 = np.nanmean(t_val2) + 1* np.nanstd(t_val2)\n",
    "#     cutoff_down2 = np.nanmean(t_val2) - 1* np.nanstd(t_val2)\n",
    "#     t_val2[t_val2>cutoff_up2] = np.nan\n",
    "#     t_val2[t_val2<cutoff_down2] = np.nan\n",
    "#     w_ptb_smoothed[i] = np.nanmean(t_val2)"
   ]
  },
  {
   "cell_type": "code",
   "execution_count": null,
   "metadata": {
    "collapsed": true
   },
   "outputs": [],
   "source": [
    "w_ljo_COPY2 = np.copy(w_ljo)\n"
   ]
  },
  {
   "cell_type": "code",
   "execution_count": null,
   "metadata": {
    "collapsed": true
   },
   "outputs": [],
   "source": [
    "\n",
    "nop = 8\n",
    "fig = plt.figure(figsize=(12,8))\n",
    "for i in range(1,nop+1):\n",
    "    if i == 1:\n",
    "        ax = fig.add_subplot(nop/2,2,i)\n",
    "        ax.plot(ljo_DD,ljo_VD-line_ljo, color = 'midnightblue', linewidth = 2)\n",
    "        ax.plot(ljo_DD,ljo_VD-line_ljo2, color = 'royalblue', linewidth = 2)\n",
    "        ax.set_xlim([2000,2020])\n",
    "        ax.set_ylim([-20,20])\n",
    "        \n",
    "    if i == 2:\n",
    "        ax = fig.add_subplot(nop/2,2,i)\n",
    "        ax.plot(ptb_DD,ptb_VD-line_ptb, color = 'darkseagreen', linewidth = 2)\n",
    "        ax.plot(ptb_DD,ptb_VD-line_ptb2, color = 'lightseagreen', linewidth = 2)\n",
    "        ax.set_xlim([2000,2020])\n",
    "        ax.set_ylim([-20,20])\n",
    "\n",
    "        #la jolla yearly cycle\n",
    "    if i == 3:\n",
    "        ax = fig.add_subplot(nop/2,2,i)\n",
    "        #lajolla\n",
    "        ljo_detrend = ljo_VD-line_ljo\n",
    "        ljo_detrend2000 = ljo_VD-line_ljo2\n",
    "        for y in range(2000,2020):\n",
    "            cind = int(((y-2000)/20) *256)\n",
    "            mask =   ((ljo_DD>=y) & (ljo_DD <y+1)) \n",
    "            ax.plot(ljo_DD[mask]-y,ljo_detrend[mask], color = cmaplist[cind], linewidth = 1)\n",
    "        \n",
    "\n",
    "    if i == 5:\n",
    "        ax = fig.add_subplot(nop/2,2,i)\n",
    "        #lajolla\n",
    "        ljo_detrend = ljo_VD-line_ljo\n",
    "        ljo_detrend2000 = ljo_VD-line_ljo2\n",
    "        for y in range(2000,2020):\n",
    "            cind = int(((y-2000)/20) *256)\n",
    "            mask =   ((ljo_DD>=y) & (ljo_DD <y+1)) \n",
    "            ax.plot(ljo_DD[mask]-y,ljo_detrend2000[mask], color = cmaplist[cind], linewidth = 1)\n",
    "\n",
    "    if i == 4:\n",
    "        ax = fig.add_subplot(nop/2,2,i)\n",
    "        #lajolla\n",
    "        ptb_detrend = ptb_VD-line_ptb\n",
    "        ptb_detrend2000 = ptb_VD-line_ptb2\n",
    "        for y in range(2000,2020):\n",
    "            cind = int(((y-2000)/20) *256)\n",
    "            mask =   ((ptb_DD>=y) & (ptb_DD <y+1)) \n",
    "            ax.plot(ptb_DD[mask]-y,ptb_detrend[mask], color = cmaplist[cind], linewidth = 1)\n",
    "        ax.title\n",
    "\n",
    "    if i == 6:\n",
    "        ax = fig.add_subplot(nop/2,2,i)\n",
    "        #lajolla\n",
    "        ptb_detrend = ptb_VD-line_ptb\n",
    "        ptb_detrend2000 = ptb_VD-line_ptb2\n",
    "        for y in range(2000,2020):\n",
    "            cind = int(((y-2000)/20) *256)\n",
    "            mask =   ((ptb_DD>=y) & (ptb_DD <y+1)) \n",
    "            ax.plot(ptb_DD[mask]-y,ptb_detrend2000[mask], color = cmaplist[cind], linewidth = 1)\n",
    "\n",
    "    if i == 7:\n",
    "        ax = fig.add_subplot(nop/2,2,i)\n",
    "        ax.plot(t_xs, np.nanmean(w_ljo,axis=1), '-',color ='royalblue', linewidth = 2)\n",
    "        ax.set_ylim([-15,10])\n",
    "        w_ljoDONE = w_ljo\n",
    "        \n",
    "   \n",
    "    if i == 8:\n",
    "        ax = fig.add_subplot(nop/2,2,i)\n",
    "        ax.plot(t_xs, np.nanmean(w_ptb,axis=1), '-',color ='lightseagreen', linewidth = 2)\n",
    "        ax.set_ylim([-15,10])\n",
    "        w_ptbDONE = w_ptb\n",
    "        "
   ]
  },
  {
   "cell_type": "markdown",
   "metadata": {},
   "source": []
  },
  {
   "cell_type": "code",
   "execution_count": null,
   "metadata": {
    "collapsed": true
   },
   "outputs": [],
   "source": []
  },
  {
   "cell_type": "code",
   "execution_count": null,
   "metadata": {
    "collapsed": true
   },
   "outputs": [],
   "source": []
  },
  {
   "cell_type": "code",
   "execution_count": null,
   "metadata": {
    "collapsed": true
   },
   "outputs": [],
   "source": []
  },
  {
   "cell_type": "code",
   "execution_count": null,
   "metadata": {
    "collapsed": true
   },
   "outputs": [],
   "source": [
    "\n",
    "nop = 8\n",
    "fig = plt.figure(figsize=(12,8))\n",
    "for i in range(1,nop+1):\n",
    "    if i == 1:\n",
    "        ax = fig.add_subplot(nop/2,2,i)\n",
    "        ax.plot(ljo_DD,ljo_VD-line_ljo, color = 'midnightblue', linewidth = 2)\n",
    "        ax.plot(ljo_DD,ljo_VD-line_ljo2, color = 'royalblue', linewidth = 2)\n",
    "        ax.set_xlim([2000,2020])\n",
    "        ax.set_ylim([-20,20])\n",
    "        \n",
    "    if i == 2:\n",
    "        ax = fig.add_subplot(nop/2,2,i)\n",
    "        ax.plot(ptb_DD,ptb_VD-line_ptb, color = 'darkseagreen', linewidth = 2)\n",
    "        ax.plot(ptb_DD,ptb_VD-line_ptb2, color = 'lightseagreen', linewidth = 2)\n",
    "        ax.set_xlim([2000,2020])\n",
    "        ax.set_ylim([-20,20])\n",
    "\n",
    "        #la jolla yearly cycle\n",
    "    if i == 3:\n",
    "        ax = fig.add_subplot(nop/2,2,i)\n",
    "        #lajolla\n",
    "        ljo_detrend = ljo_VD-line_ljo\n",
    "        ljo_detrend2000 = ljo_VD-line_ljo2\n",
    "        for y in range(2000,2020):\n",
    "            cind = int(((y-2000)/20) *256)\n",
    "            mask =   ((ljo_DD>=y) & (ljo_DD <y+1)) \n",
    "            ax.plot(ljo_DD[mask]-y,ljo_detrend[mask], color = cmaplist[cind], linewidth = 1)\n",
    "        \n",
    "\n",
    "    if i == 5:\n",
    "        ax = fig.add_subplot(nop/2,2,i)\n",
    "        #lajolla\n",
    "        ljo_detrend = ljo_VD-line_ljo\n",
    "        ljo_detrend2000 = ljo_VD-line_ljo2\n",
    "        for y in range(2000,2020):\n",
    "            cind = int(((y-2000)/20) *256)\n",
    "            mask =   ((ljo_DD>=y) & (ljo_DD <y+1)) \n",
    "            ax.plot(ljo_DD[mask]-y,ljo_detrend2000[mask], color = cmaplist[cind], linewidth = 1)\n",
    "\n",
    "    if i == 4:\n",
    "        ax = fig.add_subplot(nop/2,2,i)\n",
    "        #lajolla\n",
    "        ptb_detrend = ptb_VD-line_ptb\n",
    "        ptb_detrend2000 = ptb_VD-line_ptb2\n",
    "        for y in range(2000,2020):\n",
    "            cind = int(((y-2000)/20) *256)\n",
    "            mask =   ((ptb_DD>=y) & (ptb_DD <y+1)) \n",
    "            ax.plot(ptb_DD[mask]-y,ptb_detrend[mask], color = cmaplist[cind], linewidth = 1)\n",
    "        ax.title\n",
    "\n",
    "    if i == 6:\n",
    "        ax = fig.add_subplot(nop/2,2,i)\n",
    "        #lajolla\n",
    "        ptb_detrend = ptb_VD-line_ptb\n",
    "        ptb_detrend2000 = ptb_VD-line_ptb2\n",
    "        for y in range(2000,2020):\n",
    "            cind = int(((y-2000)/20) *256)\n",
    "            mask =   ((ptb_DD>=y) & (ptb_DD <y+1)) \n",
    "            ax.plot(ptb_DD[mask]-y,ptb_detrend2000[mask], color = cmaplist[cind], linewidth = 1)\n",
    "\n",
    "    if i == 7:\n",
    "        ax = fig.add_subplot(nop/2,2,i)\n",
    "        ax.plot(t_xs, np.nanmean(w_ljo,axis=1), '-',color ='royalblue', linewidth = 2)\n",
    "        ax.plot(t_xs, w_ljo_smoothed, '-',color ='red', linewidth = 2)\n",
    "        ax.set_ylim([-15,10])\n",
    "\n",
    "   \n",
    "    if i == 8:\n",
    "        ax = fig.add_subplot(nop/2,2,i)\n",
    "        ax.plot(t_xs, np.nanmean(w_ptb,axis=1), '-',color ='lightseagreen', linewidth = 2)\n",
    "        ax.plot(t_xs, w_ptb_smoothed, '-',color ='red', linewidth = 2)\n",
    "        \n",
    "        ax.set_ylim([-15,10])\n",
    "\n",
    "        "
   ]
  },
  {
   "cell_type": "code",
   "execution_count": null,
   "metadata": {
    "collapsed": true
   },
   "outputs": [],
   "source": [
    "w_salishsea_smoothed = (w_ljo_smoothed + w_ptb_smoothed)/2"
   ]
  },
  {
   "cell_type": "code",
   "execution_count": null,
   "metadata": {
    "collapsed": true
   },
   "outputs": [],
   "source": [
    "\n",
    "nop = 1\n",
    "fig = plt.figure(figsize=(12,8))\n",
    "for i in range(1,nop+1):\n",
    "    if i == 1:\n",
    "        ax = fig.add_subplot(1,1,i)\n",
    "        #ax.plot(t_xs, np.nanmean(w_ljoDONE,axis=1), '-',color ='', linewidth = 2)\n",
    "        ax.plot(t_xs, w_ljo_smoothed, linestyle = '-',color ='royalblue', linewidth = 3, label = 'LJO smoothed')\n",
    "        ax.plot(t_xs, w_ptb_smoothed, linestyle = '-',color ='lightseagreen', linewidth = 3, label = 'PTB smoothed')\n",
    "        ax.plot(t_xs,w_salishsea_smoothed,linestyle = '-',color ='red', linewidth = 3, label = 'avg LJO-PTB (smoothed)')\n",
    "        ax.plot(t_xs, np.nanmean(w_ptb,axis=1), '-',color ='lightseagreen', linewidth = 1, label = 'PTB raw')\n",
    "        ax.plot(t_xs, np.nanmean(w_ljo,axis=1), '-',color ='royalblue', linewidth = 1, label = 'LJO raw')\n",
    "        ax.legend(loc = 'best')\n",
    "        ax.set_ylim([-15,10])\n",
    "        \n",
    "        ax.set_title('Raw and smoothed LJO and PTB seasonal cycles of co2, with red average')\n",
    "        \n",
    "\n",
    "    "
   ]
  },
  {
   "cell_type": "code",
   "execution_count": null,
   "metadata": {
    "collapsed": true
   },
   "outputs": [],
   "source": [
    "xs_nonans = []\n",
    "ys_nonans = []\n",
    "for i in range(0,len(t_xs)):\n",
    "    if ~np.isnan(t_xs[i]) & ~np.isnan(w_salishsea_smoothed[i]):\n",
    "        xs_nonans.append(t_xs[i])\n",
    "        ys_nonans.append(w_salishsea_smoothed[i])\n",
    "        \n",
    "print(len(xs_nonans))\n",
    "        \n",
    "print(np.shape(xs_nonans))\n",
    "xs_comp = np.squeeze(xs_nonans)\n",
    "ys_comp = np.squeeze(ys_nonans)\n",
    "print(np.shape(xs_comp))\n",
    "print(type(xs_comp))"
   ]
  },
  {
   "cell_type": "code",
   "execution_count": null,
   "metadata": {
    "collapsed": true
   },
   "outputs": [],
   "source": []
  },
  {
   "cell_type": "code",
   "execution_count": null,
   "metadata": {
    "collapsed": true
   },
   "outputs": [],
   "source": [
    "from scipy.optimize import curve_fit\n",
    "import numpy as np\n",
    "import matplotlib.pyplot as plt\n",
    "\n",
    "x = xs_comp * 365\n",
    "y = ys_comp\n",
    "\n",
    "\n",
    "def func(x, *params):\n",
    "    y = np.zeros_like(x)\n",
    "    for i in range(0, len(params), 3):\n",
    "        ctr = params[i]\n",
    "        amp = params[i+1]\n",
    "        wid = params[i+2]\n",
    "        y = y + amp * np.exp( -((x - ctr)/wid)**2)\n",
    "    return y\n",
    "\n",
    "guess2 = [0.3*365, 6, 0.5*365,0.88*365, 12, 0.5*365]\n",
    "\n",
    "popt2_fin, pcov2 = curve_fit(func, x, y, p0=guess2)\n",
    "fit2 = func(x, *popt2_fin)\n",
    "\n",
    "y2 = np.zeros_like(x)\n",
    "ctr =167.98738197   \n",
    "amp = 5.48937161  \n",
    "wid = 186.32369138  \n",
    "ctr2 = 232.85253244  \n",
    "amp2 = -15.36389755\n",
    "wid2 = -61.42562232\n",
    "y2 = y2 + amp * np.exp( -((x - ctr)/wid)**2) + amp2 * np.exp( -((x - ctr2)/wid2)**2)\n",
    "\n",
    "\n",
    "print('*')\n",
    "# print(*popt2)\n",
    "# print(popt2)\n",
    "plt.plot(x, y)\n",
    "\n",
    "plt.plot(x, fit2 , 'k-')\n",
    "plt.plot(x, y2, 'r:',linewidth = 2)\n",
    "plt.title('2 gaussian fit to raw data')\n",
    "plt.show()"
   ]
  },
  {
   "cell_type": "code",
   "execution_count": null,
   "metadata": {
    "collapsed": true
   },
   "outputs": [],
   "source": []
  },
  {
   "cell_type": "code",
   "execution_count": null,
   "metadata": {
    "collapsed": true
   },
   "outputs": [],
   "source": []
  },
  {
   "cell_type": "code",
   "execution_count": null,
   "metadata": {
    "collapsed": true
   },
   "outputs": [],
   "source": [
    "from scipy.optimize import curve_fit\n",
    "import numpy as np\n",
    "import matplotlib.pyplot as plt\n",
    "\n",
    "x = xs_comp * 365\n",
    "y = ys_comp\n",
    "\n",
    "\n",
    "def func(x, *params):\n",
    "    y = np.zeros_like(x)\n",
    "    for i in range(0, len(params), 3):\n",
    "        ctr = params[i]\n",
    "        amp = params[i+1]\n",
    "        wid = params[i+2]\n",
    "        y = y + amp * np.exp( -((x - ctr)/wid)**2)\n",
    "    return y\n",
    "\n",
    "guess2 = [0.3*365, 6, 0.5*365,0.88*365, 12, 0.5*365, 350,3.5,0.3*365]\n",
    "guess2 = [0.3*365, 6, 0.5*365,0.88*365, 12, 0.5*365, 352,3.4,0.3*365]\n",
    "\n",
    "popt2_fin, pcov2 = curve_fit(func, x, y, p0=guess2)\n",
    "print(popt2_fin)\n",
    "fit2 = func(x, *popt2_fin)\n",
    "print()\n",
    "#[ 161.89823312    7.08257648   44.70337477  \n",
    "# 218.83206615  -19.00385308  87.88258456  \n",
    "#199.4298405     8.02562064 -185.92035586]\n",
    "y2 = np.zeros_like(x)\n",
    "ctr =161.89823312   \n",
    "amp = 7.08257648  \n",
    "wid = 44.70337477  \n",
    "\n",
    "ctr2 = 218.83206615  \n",
    "amp2 = -19.00385308\n",
    "wid2 = 87.88258456\n",
    "\n",
    "ctr3 = 199.4298405\n",
    "amp3 = 8.02562064\n",
    "wid3 = -185.92035586\n",
    "\n",
    "y2 = y2 + amp * np.exp( -((x - ctr)/wid)**2)\\\n",
    "+ amp2 * np.exp( -((x - ctr2)/wid2)**2)\\\n",
    "+ amp3 * np.exp( -((x - ctr3)/wid3)**2)\n",
    "#     print(y2)\n",
    "\n",
    "# finval = (year+yearday/365)*LR_slope+LR_intercept + y2 #+ 14.6023001473/2\n",
    "\n",
    "print('*')\n",
    "# print(*popt2)\n",
    "# print(popt2)\n",
    "plt.plot(x, y)\n",
    "plt.plot(x, y2)\n",
    "# print(fit2[364])\n",
    "# print(fit2[0])\n",
    "# print(y[364])\n",
    "\n",
    "plt.plot(x, fit2 , 'k-')\n",
    "plt.title('3-gaussian fit to averaged co2 seasonal cycle (between barrow and la jolla)')\n",
    "#plt.plot(x, y2, 'r:',linewidth = 2)\n",
    "# amplit = max(fit2) - min(fit2)\n",
    "# print(amplit)"
   ]
  },
  {
   "cell_type": "code",
   "execution_count": null,
   "metadata": {
    "collapsed": true
   },
   "outputs": [],
   "source": [
    "def atm_co2_gauss(year, yearday, LR_slope, LR_intercept):\n",
    "    \n",
    "    y2 = 0\n",
    "    x = yearday\n",
    "#     [ 161.89823312    7.08257648   44.70337477  218.83206615  -19.00385308\n",
    "#    87.88258456  199.4298405     8.02562064 -185.92035586]\n",
    "    ctr =161.89823312   \n",
    "    amp = 7.08257648  \n",
    "    wid = 44.70337477  \n",
    "\n",
    "    ctr2 = 218.83206615  \n",
    "    amp2 = -19.00385308\n",
    "    wid2 = 87.88258456\n",
    "\n",
    "    ctr3 = 199.4298405\n",
    "    amp3 = 8.02562064\n",
    "    wid3 = -185.92035586\n",
    "\n",
    "    y2 = y2 + amp * np.exp( -((x - ctr)/wid)**2)\\\n",
    "    + amp2 * np.exp( -((x - ctr2)/wid2)**2)\\\n",
    "    + amp3 * np.exp( -((x - ctr3)/wid3)**2)\n",
    "    \n",
    "    finval = (year+yearday/365)*LR_slope+LR_intercept + y2 \n",
    "#     print(finval)\n",
    "    return finval\n",
    "\n",
    "\n",
    "\n",
    "    "
   ]
  },
  {
   "cell_type": "code",
   "execution_count": null,
   "metadata": {
    "collapsed": true
   },
   "outputs": [],
   "source": [
    "test_years = np.arange(2000,2020,.01)\n",
    "test_data_ljo = np.zeros_like(test_years)\n",
    "test_data_ptb = np.zeros_like(test_years)\n",
    "test_data_notrend = np.zeros_like(test_years)"
   ]
  },
  {
   "cell_type": "code",
   "execution_count": null,
   "metadata": {
    "collapsed": true
   },
   "outputs": [],
   "source": [
    "LR_slope_ljo = slope_ljo2\n",
    "LR_intercept_ljo = intercept_ljo2\n",
    "\n",
    "LR_slope_ptb = slope_ptb2\n",
    "LR_intercept_ptb = intercept_ptb2\n",
    "\n",
    "LR_slope_notrend = 0\n",
    "LR_intercept_notrend = 0\n",
    "\n",
    "for i in range(0,len(test_years)):\n",
    "    t_year = int(test_years[i])\n",
    "    t_yearday = (test_years[i]-int(test_years[i]))*365\n",
    "    fin_val_ljo = atm_co2_gauss(t_year, t_yearday, LR_slope_ljo, LR_intercept_ljo)\n",
    "    fin_val_ptb = atm_co2_gauss(t_year, t_yearday, LR_slope_ptb, LR_intercept_ptb)\n",
    "    fin_val_notrend = atm_co2_gauss(t_year, t_yearday, 0, 0)\n",
    "    test_data_ljo[i] = fin_val_ljo\n",
    "    test_data_ptb[i] = fin_val_ptb\n",
    "    test_data_notrend[i] = fin_val_notrend"
   ]
  },
  {
   "cell_type": "code",
   "execution_count": null,
   "metadata": {
    "collapsed": true
   },
   "outputs": [],
   "source": [
    "plt.plot(test_years,test_data_ljo, color = 'royalblue',linewidth = 2, label = 'gauss - LJO lin.reg')\n",
    "plt.plot(test_years,test_data_ptb, color = 'lightseagreen', label = 'gauss - PTB lin.reg')\n",
    "plt.plot(ljo_DD,ljo_VD,color = 'midnightblue',linewidth = 2,label = 'LJO RAW')\n",
    "plt.plot(ptb_DD,ptb_VD,color = 'darkseagreen',linewidth = 2,label = 'PTB RAW')\n",
    "plt.xlim([2015,2016])\n",
    "plt.ylim([380,420])\n",
    "plt.title('year 2015, gaussian fit and raw data')\n",
    "plt.legend(loc ='best')\n"
   ]
  },
  {
   "cell_type": "code",
   "execution_count": null,
   "metadata": {
    "collapsed": true
   },
   "outputs": [],
   "source": [
    "plt.plot(test_years,test_data_ljo, color = 'royalblue',linewidth = 2, label = 'gauss - LJO lin.reg')\n",
    "plt.plot(test_years,test_data_ptb, color = 'lightseagreen', label = 'gauss - PTB lin.reg')\n",
    "plt.plot(ljo_DD,ljo_VD,color = 'midnightblue',linewidth = 2,label = 'LJO RAW')\n",
    "plt.plot(ptb_DD,ptb_VD,color = 'darkseagreen',linewidth = 2,label = 'PTB RAW')\n",
    "plt.xlim([2010,2020])\n",
    "plt.ylim([380,420])\n",
    "plt.legend(loc ='best')\n",
    "plt.title('year 2010-2020, gaussian fit and raw data')"
   ]
  },
  {
   "cell_type": "code",
   "execution_count": null,
   "metadata": {
    "collapsed": true
   },
   "outputs": [],
   "source": [
    "print('DONE')"
   ]
  }
 ],
 "metadata": {
  "kernelspec": {
   "display_name": "Python 3",
   "language": "python",
   "name": "python3"
  },
  "language_info": {
   "codemirror_mode": {
    "name": "ipython",
    "version": 3
   },
   "file_extension": ".py",
   "mimetype": "text/x-python",
   "name": "python",
   "nbconvert_exporter": "python",
   "pygments_lexer": "ipython3",
   "version": "3.6.0"
  }
 },
 "nbformat": 4,
 "nbformat_minor": 2
}
