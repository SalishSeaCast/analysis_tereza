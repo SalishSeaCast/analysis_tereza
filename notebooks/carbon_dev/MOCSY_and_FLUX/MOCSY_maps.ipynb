{
 "cells": [
  {
   "cell_type": "markdown",
   "metadata": {},
   "source": [
    "## Notebook description/aim\n",
    "\n",
    "### mapping OmegaA, pco2, pH, using formulations given in MOCSY_sanity_check"
   ]
  },
  {
   "cell_type": "code",
   "execution_count": 72,
   "metadata": {},
   "outputs": [
    {
     "data": {
      "text/html": [
       "<script>\n",
       "code_show=true; \n",
       "function code_toggle() {\n",
       " if (code_show){\n",
       " $('div.input').hide();\n",
       " } else {\n",
       " $('div.input').show();\n",
       " }\n",
       " code_show = !code_show\n",
       "} \n",
       "$( document ).ready(code_toggle);\n",
       "</script>\n",
       "<form action=\"javascript:code_toggle()\"><input type=\"submit\" value=\"Click here to toggle on/off the raw code.\"></form>"
      ],
      "text/plain": [
       "<IPython.core.display.HTML object>"
      ]
     },
     "execution_count": 72,
     "metadata": {},
     "output_type": "execute_result"
    }
   ],
   "source": [
    "from IPython.display import HTML\n",
    "\n",
    "HTML('''<script>\n",
    "code_show=true; \n",
    "function code_toggle() {\n",
    " if (code_show){\n",
    " $('div.input').hide();\n",
    " } else {\n",
    " $('div.input').show();\n",
    " }\n",
    " code_show = !code_show\n",
    "} \n",
    "$( document ).ready(code_toggle);\n",
    "</script>\n",
    "<form action=\"javascript:code_toggle()\"><input type=\"submit\" value=\"Click here to toggle on/off the raw code.\"></form>''')"
   ]
  },
  {
   "cell_type": "code",
   "execution_count": 73,
   "metadata": {
    "collapsed": true
   },
   "outputs": [],
   "source": [
    "import sys\n",
    "sys.path.append('/data/tjarniko/MEOPAR/mocsy')\n",
    "sys.path.append('/data/tjarniko/MEOPAR/at3/notebooks/carbon_dev/VIZ')\n",
    "import mocsy\n",
    "import VIZ_plots as VP\n",
    "\n",
    "import time\n",
    "import numpy as np\n",
    "import matplotlib.pyplot as plt\n",
    "from oct2py import octave\n",
    "import seawater as sw\n",
    "from __future__ import print_function\n",
    "from numpy import *\n",
    "from scipy import *\n",
    "import matplotlib.pyplot as plt\n",
    "\n",
    "import matplotlib.pyplot as plt\n",
    "from matplotlib import reload\n",
    "plt.style.use('seaborn')\n",
    "import netCDF4 as nc\n",
    "import numpy as np\n",
    "import cmocean as cm\n",
    "\n",
    "\"\"\n",
    "from salishsea_tools import (\n",
    "    nc_tools,\n",
    "    viz_tools,\n",
    "    geo_tools,\n",
    "    tidetools\n",
    ")\n",
    "\n",
    "%matplotlib inline"
   ]
  },
  {
   "cell_type": "code",
   "execution_count": 74,
   "metadata": {},
   "outputs": [
    {
     "data": {
      "text/plain": [
       "<module 'VIZ_plots' from '/data/tjarniko/MEOPAR/at3/notebooks/carbon_dev/VIZ/VIZ_plots.py'>"
      ]
     },
     "execution_count": 74,
     "metadata": {},
     "output_type": "execute_result"
    }
   ],
   "source": [
    "reload(VP)"
   ]
  },
  {
   "cell_type": "markdown",
   "metadata": {},
   "source": [
    "## load dataset and reshape "
   ]
  },
  {
   "cell_type": "code",
   "execution_count": 75,
   "metadata": {
    "collapsed": true
   },
   "outputs": [],
   "source": [
    "w = nc.Dataset('/data/tjarniko/results/may10_a8/SKOG_1d_20160415_20160429_ptrc_T.nc')\n",
    "wp = nc.Dataset('/data/tjarniko/results/may10_a8/SKOG_1d_20160415_20160429_grid_T.nc')\n",
    "\n",
    "\n",
    "tDIC = w.variables['dissolved_inorganic_carbon'][0,0,:,:] * 1.e-6\n",
    "tTA = w.variables['total_alkalinity'][0,0,:,:] * 1.e-6\n",
    "tTEMP = wp.variables['votemper'][0,0,:,:]\n",
    "tSAL = wp.variables['vosaline'][0,0,:,:]\n",
    "tZERO = np.zeros_like(tTEMP)\n",
    "\n",
    "trDIC = np.ravel(tDIC) \n",
    "trTA = np.ravel(tTA)\n",
    "trTEMP = np.ravel(tTEMP)\n",
    "trSAL = np.ravel(tSAL)\n",
    "trZERO = np.ravel(tZERO)\n",
    "trPATM = np.zeros_like(trZERO)\n"
   ]
  },
  {
   "cell_type": "markdown",
   "metadata": {},
   "source": []
  },
  {
   "cell_type": "code",
   "execution_count": 76,
   "metadata": {},
   "outputs": [
    {
     "name": "stdout",
     "output_type": "stream",
     "text": [
      "0.5583744049072266\n"
     ]
    }
   ],
   "source": [
    "start = time.time()\n",
    "response_tup = mocsy.mvars(temp=trTEMP, sal=trSAL, alk=trTA, dic=trDIC, \n",
    "                           sil=trZERO, phos=trZERO, patm=trPATM, depth=trZERO, lat=trZERO, \n",
    "                            optcon='mol/kg', optt='Tpot', optp='m',\n",
    "                            optb='l10', optk1k2='m10',  optkf='pf', optgas='Ppot')\n",
    "pH,pco2,fco2,co2,hco3,co3,OmegaA,OmegaC,BetaD,DENis,p,Tis = response_tup\n",
    "\n",
    "\n",
    "\"the code you want to test stays here\"\n",
    "end = time.time()\n",
    "print(end - start)"
   ]
  },
  {
   "cell_type": "code",
   "execution_count": 77,
   "metadata": {
    "collapsed": true
   },
   "outputs": [],
   "source": [
    "#task: reshape vars back \n",
    "\n",
    "tpH = pH.reshape(898,398)\n",
    "tpco2 = pco2.reshape(898,398)\n",
    "tfco2 = fco2.reshape(898,398)\n",
    "tco2 = co2.reshape(898,398)\n",
    "thco3 = hco3.reshape(898,398)\n",
    "tco3 = co3.reshape(898,398)\n",
    "tOmegaA = OmegaA.reshape(898,398)\n",
    "tOmegaC = OmegaC.reshape(898,398)"
   ]
  },
  {
   "cell_type": "code",
   "execution_count": 78,
   "metadata": {
    "collapsed": true
   },
   "outputs": [],
   "source": [
    "# VP.phpco2om_plot \\\n",
    "#     (tpH,tpco2,tOmegaA,'pH','pCO2','OmegaA',cm.cm.speed,cm.cm.matter, \\\n",
    "#      cm.cm.balance,18,11,7.6,8.2,0,800,0,2,'pH','pCO2','Omega A','Carbonate Chemistry Parameters')"
   ]
  },
  {
   "cell_type": "code",
   "execution_count": 79,
   "metadata": {},
   "outputs": [
    {
     "name": "stdout",
     "output_type": "stream",
     "text": [
      "00\n",
      "01\n",
      "02\n",
      "03\n",
      "04\n",
      "05\n",
      "06\n",
      "07\n",
      "08\n",
      "09\n",
      "10\n",
      "11\n",
      "12\n",
      "13\n",
      "14\n"
     ]
    }
   ],
   "source": [
    "w = nc.Dataset('/data/tjarniko/results/may10_a7/SKOG_1d_20160331_20160414_ptrc_T.nc')\n",
    "wp = nc.Dataset('/data/tjarniko/results/may10_a7/SKOG_1d_20160331_20160414_grid_T.nc')\n",
    "\n",
    "for i in range(0,15):\n",
    "    day = i\n",
    "    tDIC = w.variables['dissolved_inorganic_carbon'][i,0,:,:] * 1.e-6\n",
    "    tTA = w.variables['total_alkalinity'][i,0,:,:] * 1.e-6\n",
    "    tTEMP = wp.variables['votemper'][i,0,:,:]\n",
    "    tSAL = wp.variables['vosaline'][i,0,:,:]\n",
    "    tZERO = np.zeros_like(tTEMP)\n",
    "\n",
    "    trDIC = np.ravel(tDIC) \n",
    "    trTA = np.ravel(tTA)\n",
    "    trTEMP = np.ravel(tTEMP)\n",
    "    trSAL = np.ravel(tSAL)\n",
    "    trZERO = np.ravel(tZERO)\n",
    "    trPATM = np.zeros_like(trZERO)\n",
    "\n",
    "    response_tup = mocsy.mvars(temp=trTEMP, sal=trSAL, alk=trTA, dic=trDIC, \n",
    "                               sil=trZERO, phos=trZERO, patm=trPATM, depth=trZERO, lat=trZERO, \n",
    "                                optcon='mol/kg', optt='Tinsitu', optp='db',\n",
    "                                optb = 'u74', optk1k2='l', optkf = 'pf', optgas = 'Pinsitu')\n",
    "    pH,pco2,fco2,co2,hco3,co3,OmegaA,OmegaC,BetaD,DENis,p,Tis = response_tup\n",
    "\n",
    "    tpH = pH.reshape(898,398)\n",
    "    tpco2 = pco2.reshape(898,398)\n",
    "    tfco2 = fco2.reshape(898,398)\n",
    "    tco2 = co2.reshape(898,398)\n",
    "    thco3 = hco3.reshape(898,398)\n",
    "    tco3 = co3.reshape(898,398)\n",
    "    tOmegaA = OmegaA.reshape(898,398)\n",
    "    tOmegaC = OmegaC.reshape(898,398)\n",
    "    tOmegaA = np.ma.masked_values(tOmegaA,1e+20)\n",
    "    tpH = np.ma.masked_values(tpH,1e+20)\n",
    "    tpco2 = np.ma.masked_values(tpco2,1e+20)\n",
    "    ind = i\n",
    "    if i < 10:\n",
    "        ind = '0' + str(i)\n",
    "    tit = 'Carbonate Chemistry Parameters, Day ' + str(ind)\n",
    "    \n",
    "    VP.phpco2om_plot \\\n",
    "        (tpH,tpco2,tOmegaA,'pH','pCO2','OmegaA',cm.cm.speed,cm.cm.matter, \\\n",
    "         cm.cm.balance,18,11,7.6,8.2,0,800,0,2,'pH','pCO2','Omega A',tit,'./',ind)\n",
    "\n",
    "#     dirstr = './'\n",
    "#     figtit = 'CCpar_day_' + str(i)\n",
    "#     total_fig = dirstr+figtit + '.png'\n",
    "#     fig.savefig(total_fig)\n",
    "\n",
    "    \n",
    "    print(ind)"
   ]
  },
  {
   "cell_type": "code",
   "execution_count": 80,
   "metadata": {},
   "outputs": [
    {
     "name": "stdout",
     "output_type": "stream",
     "text": [
      "15\n",
      "16\n",
      "17\n",
      "18\n",
      "19\n",
      "20\n",
      "21\n",
      "22\n",
      "23\n",
      "24\n",
      "25\n",
      "26\n",
      "27\n",
      "28\n",
      "29\n"
     ]
    }
   ],
   "source": [
    "w = nc.Dataset('/data/tjarniko/results/may10_a8/SKOG_1d_20160415_20160429_ptrc_T.nc')\n",
    "wp = nc.Dataset('/data/tjarniko/results/may10_a8/SKOG_1d_20160415_20160429_grid_T.nc')\n",
    "\n",
    "\n",
    "for i in range(0,15):\n",
    "    day = i\n",
    "    tDIC = w.variables['dissolved_inorganic_carbon'][i,0,:,:] * 1.e-6\n",
    "    tTA = w.variables['total_alkalinity'][i,0,:,:] * 1.e-6\n",
    "    tTEMP = wp.variables['votemper'][i,0,:,:]\n",
    "    tSAL = wp.variables['vosaline'][i,0,:,:]\n",
    "    tZERO = np.zeros_like(tTEMP)\n",
    "\n",
    "    trDIC = np.ravel(tDIC) \n",
    "    trTA = np.ravel(tTA)\n",
    "    trTEMP = np.ravel(tTEMP)\n",
    "    trSAL = np.ravel(tSAL)\n",
    "    trZERO = np.ravel(tZERO)\n",
    "    trPATM = np.zeros_like(trZERO)\n",
    "\n",
    "    response_tup = mocsy.mvars(temp=trTEMP, sal=trSAL, alk=trTA, dic=trDIC, \n",
    "                               sil=trZERO, phos=trZERO, patm=trPATM, depth=trZERO, lat=trZERO, \n",
    "                                optcon='mol/kg', optt='Tinsitu', optp='db',\n",
    "                                optb = 'u74', optk1k2='l', optkf = 'pf', optgas = 'Pinsitu')\n",
    "    pH,pco2,fco2,co2,hco3,co3,OmegaA,OmegaC,BetaD,DENis,p,Tis = response_tup\n",
    "\n",
    "    tpH = pH.reshape(898,398)\n",
    "    tpco2 = pco2.reshape(898,398)\n",
    "    tfco2 = fco2.reshape(898,398)\n",
    "    tco2 = co2.reshape(898,398)\n",
    "    thco3 = hco3.reshape(898,398)\n",
    "    tco3 = co3.reshape(898,398)\n",
    "    tOmegaA = OmegaA.reshape(898,398)\n",
    "    tOmegaC = OmegaC.reshape(898,398)\n",
    "    tOmegaA = np.ma.masked_values(tOmegaA,1e+20)\n",
    "    tpH = np.ma.masked_values(tpH,1e+20)\n",
    "    tpco2 = np.ma.masked_values(tpco2,1e+20)\n",
    "\n",
    "    ind = i+15\n",
    "    \n",
    "    tit = 'Carbonate Chemistry Parameters, Day ' + str(ind)\n",
    "    \n",
    "    VP.phpco2om_plot \\\n",
    "        (tpH,tpco2,tOmegaA,'pH','pCO2','OmegaA',cm.cm.speed,cm.cm.matter, \\\n",
    "         cm.cm.balance,18,11,7.6,8.2,0,800,0,2,'pH','pCO2','Omega A',tit,'./',ind)\n",
    "\n",
    "#     dirstr = './'\n",
    "#     figtit = 'CCpar_day_' + str(i)\n",
    "#     total_fig = dirstr+figtit + '.png'\n",
    "#     fig.savefig(total_fig)\n",
    "    #plt.show()\n",
    "    \n",
    "    print(ind)"
   ]
  },
  {
   "cell_type": "code",
   "execution_count": 81,
   "metadata": {},
   "outputs": [
    {
     "data": {
      "text/html": [
       "\n",
       "<video width=\"960\" height=\"720\" controls>\n",
       "  <source src=\"./movie_CCpar_day_.mp4\" type=\"video/mp4\">\n",
       "</video>\n"
      ],
      "text/plain": [
       "<IPython.core.display.HTML object>"
      ]
     },
     "execution_count": 81,
     "metadata": {},
     "output_type": "execute_result"
    }
   ],
   "source": [
    "HTML(\"\"\"\n",
    "<video width=\"960\" height=\"720\" controls>\n",
    "  <source src=\"./movie_CCpar_day_.mp4\" type=\"video/mp4\">\n",
    "</video>\n",
    "\"\"\")"
   ]
  },
  {
   "cell_type": "code",
   "execution_count": 1,
   "metadata": {},
   "outputs": [
    {
     "ename": "NameError",
     "evalue": "name 'nc' is not defined",
     "output_type": "error",
     "traceback": [
      "\u001b[0;31m-------------------------------------------------------------------------\u001b[0m",
      "\u001b[0;31mNameError\u001b[0m                               Traceback (most recent call last)",
      "\u001b[0;32m<ipython-input-1-e4701b845980>\u001b[0m in \u001b[0;36m<module>\u001b[0;34m()\u001b[0m\n\u001b[0;32m----> 1\u001b[0;31m \u001b[0mw\u001b[0m \u001b[0;34m=\u001b[0m \u001b[0mnc\u001b[0m\u001b[0;34m.\u001b[0m\u001b[0mDataset\u001b[0m\u001b[0;34m(\u001b[0m\u001b[0;34m'/data/tjarniko/results/may10_a8/SKOG_1d_20160415_20160429_ptrc_T.nc'\u001b[0m\u001b[0;34m)\u001b[0m\u001b[0;34m\u001b[0m\u001b[0m\n\u001b[0m\u001b[1;32m      2\u001b[0m \u001b[0mwp\u001b[0m \u001b[0;34m=\u001b[0m \u001b[0mnc\u001b[0m\u001b[0;34m.\u001b[0m\u001b[0mDataset\u001b[0m\u001b[0;34m(\u001b[0m\u001b[0;34m'/data/tjarniko/results/may10_a8/SKOG_1d_20160415_20160429_grid_T.nc'\u001b[0m\u001b[0;34m)\u001b[0m\u001b[0;34m\u001b[0m\u001b[0m\n",
      "\u001b[0;31mNameError\u001b[0m: name 'nc' is not defined"
     ]
    }
   ],
   "source": []
  },
  {
   "cell_type": "code",
   "execution_count": null,
   "metadata": {
    "collapsed": true
   },
   "outputs": [],
   "source": []
  }
 ],
 "metadata": {
  "kernelspec": {
   "display_name": "Python 3",
   "language": "python",
   "name": "python3"
  },
  "language_info": {
   "codemirror_mode": {
    "name": "ipython",
    "version": 3
   },
   "file_extension": ".py",
   "mimetype": "text/x-python",
   "name": "python",
   "nbconvert_exporter": "python",
   "pygments_lexer": "ipython3",
   "version": "3.6.0"
  }
 },
 "nbformat": 4,
 "nbformat_minor": 2
}
