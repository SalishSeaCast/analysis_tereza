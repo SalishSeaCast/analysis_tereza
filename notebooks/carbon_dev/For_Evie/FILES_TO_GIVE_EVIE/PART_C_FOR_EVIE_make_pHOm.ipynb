{
 "cells": [
  {
   "cell_type": "code",
   "execution_count": 10,
   "metadata": {},
   "outputs": [
    {
     "name": "stdout",
     "output_type": "stream",
     "text": [
      "Once deleted, variables cannot be recovered. Proceed (y/[n])? y\n"
     ]
    }
   ],
   "source": [
    "%reset"
   ]
  },
  {
   "cell_type": "code",
   "execution_count": 11,
   "metadata": {},
   "outputs": [
    {
     "data": {
      "text/html": [
       "<script>\n",
       "code_show=true; \n",
       "function code_toggle() {\n",
       " if (code_show){\n",
       " $('div.input').hide();\n",
       " } else {\n",
       " $('div.input').show();\n",
       " }\n",
       " code_show = !code_show\n",
       "} \n",
       "$( document ).ready(code_toggle);\n",
       "</script>\n",
       "<form action=\"javascript:code_toggle()\"><input type=\"submit\" value=\"Click here to toggle on/off the raw code.\"></form>"
      ],
      "text/plain": [
       "<IPython.core.display.HTML object>"
      ]
     },
     "execution_count": 11,
     "metadata": {},
     "output_type": "execute_result"
    }
   ],
   "source": [
    "from IPython.display import HTML\n",
    "\n",
    "HTML('''<script>\n",
    "code_show=true; \n",
    "function code_toggle() {\n",
    " if (code_show){\n",
    " $('div.input').hide();\n",
    " } else {\n",
    " $('div.input').show();\n",
    " }\n",
    " code_show = !code_show\n",
    "} \n",
    "$( document ).ready(code_toggle);\n",
    "</script>\n",
    "<form action=\"javascript:code_toggle()\"><input type=\"submit\" value=\"Click here to toggle on/off the raw code.\"></form>''')"
   ]
  },
  {
   "cell_type": "code",
   "execution_count": 12,
   "metadata": {
    "collapsed": true
   },
   "outputs": [],
   "source": [
    "import netCDF4 as nc\n",
    "import sys\n",
    "sys.path.append('/data/tjarniko/mocsy')\n",
    "import mocsy\n",
    "import numpy as np\n",
    "\n",
    "import gsw\n",
    "import arrow\n",
    "import glob\n",
    "import cmocean as cm\n",
    "import matplotlib.pyplot as plt\n",
    "\n",
    "from salishsea_tools import (\n",
    "    nc_tools,\n",
    "    viz_tools,\n",
    "    geo_tools,\n",
    "    tidetools\n",
    ")\n",
    "\n",
    "%matplotlib inline"
   ]
  },
  {
   "cell_type": "markdown",
   "metadata": {},
   "source": [
    "## Purpose of notebook\n",
    "\n",
    "Here I'm going to take the DIC, TA, S, and T we've found in, eg, carp_timeseries_2013.nc, and calculate the pH, $\\Omega_A$, and $\\Omega_C$ with them. The python package I use for this is called [mocsy](http://ocmip5.ipsl.jussieu.fr/mocsy/), and it's relatively fancy - and installing it on your own computer can be a bit of a pain. If you have access to the Waterhole cluster, you can just use the path to the installation that I listed above. Below I've written a wrapper code for it (oned_moxy). \n",
    "\n",
    "\n"
   ]
  },
  {
   "cell_type": "code",
   "execution_count": 13,
   "metadata": {
    "collapsed": true
   },
   "outputs": [],
   "source": [
    "t_nc = nc.Dataset('./EXTRACTED_timeseries/carp_timeseries_2016.nc')\n",
    "t_str = 'pHOm_timeseries_2016.nc'"
   ]
  },
  {
   "cell_type": "markdown",
   "metadata": {},
   "source": [
    "#### TJSJ wrapper code for mocsy"
   ]
  },
  {
   "cell_type": "code",
   "execution_count": 14,
   "metadata": {
    "collapsed": true
   },
   "outputs": [],
   "source": [
    "def oned_moxy(tsal, ttemp, tdic, tta, pres_atm, depth_this):\n",
    "\n",
    "    size_box = np.shape(tdic)\n",
    "    size_0 = size_box[0]\n",
    "    size_1= size_box[1]\n",
    "\n",
    "    tsra = np.ravel(tsal)\n",
    "    ttera = np.ravel(ttemp)\n",
    "    ttara = np.ravel(tta) * 1e-3\n",
    "    tdra = np.ravel(tdic) * 1e-3\n",
    "    tzero = np.zeros_like(tsra)\n",
    "    tpressure = np.zeros_like(tsra)\n",
    "    tdepth = np.zeros_like(tsra)\n",
    "    tdepth[:] = depth_this\n",
    "     \n",
    "    tpressure[:] = pres_atm\n",
    "    tzero = tpressure * 0 \n",
    "        \n",
    "    tsra_psu = tsra*35/35.16504\n",
    "    ttera_is = gsw.t_from_CT(tsra,ttera,tzero)\n",
    "\n",
    "    response_tup = mocsy.mvars(temp=ttera_is, sal=tsra_psu, alk=ttara, dic=tdra, \n",
    "                       sil=tzero, phos=tzero, patm=tpressure, depth=tdepth, lat=tzero, \n",
    "                        optcon='mol/m3', optt='Tinsitu', optp='m',\n",
    "                        optb = 'l10', optk1k2='m10', optkf = 'dg', optgas = 'Pinsitu')\n",
    "    pH,pco2,fco2,co2,hco3,co3,OmegaA,OmegaC,BetaD,DENis,p,Tis = response_tup\n",
    "\n",
    "    pHr = pH.reshape(size_0,size_1)\n",
    "    OmAr = OmegaA.reshape(size_0,size_1)\n",
    "    OmCr = OmegaC.reshape(size_0,size_1)\n",
    "    pco2r = pco2.reshape(size_0,size_1)\n",
    "    \n",
    "    return pHr, OmAr, OmCr, pco2r"
   ]
  },
  {
   "cell_type": "markdown",
   "metadata": {},
   "source": [
    "#### TJSJ let's make a dict in which to store the OmA and pH timeseries"
   ]
  },
  {
   "cell_type": "code",
   "execution_count": 15,
   "metadata": {
    "collapsed": true
   },
   "outputs": [],
   "source": [
    "PLACES_withdat = {\n",
    "'Deep Bay': {\n",
    "'NEMO grid ji': (599, 126),\n",
    "    'OmA_timeseries':np.zeros([40,365]),\n",
    "    'OmC_timeseries':np.zeros([40,365]),\n",
    "    'pH_timeseries':np.zeros([40,365])\n",
    "\n",
    "},\n",
    "    \n",
    "'Southern Baynes': {\n",
    "'NEMO grid ji': (602, 127),\n",
    "    'OmA_timeseries':np.zeros([40,365]),\n",
    "    'OmC_timeseries':np.zeros([40,365]),\n",
    "    'pH_timeseries':np.zeros([40,365])\n",
    "},\n",
    "\n",
    "'Northern Baynes': {\n",
    "'NEMO grid ji': (646, 127),\n",
    "    'OmA_timeseries':np.zeros([40,365]),\n",
    "    'OmC_timeseries':np.zeros([40,365]),\n",
    "    'pH_timeseries':np.zeros([40,365])},\n",
    "\n",
    "'Fanny Bay': {\n",
    "'NEMO grid ji': (614, 120),\n",
    "    'OmA_timeseries':np.zeros([40,365]),\n",
    "    'OmC_timeseries':np.zeros([40,365]),\n",
    "    'pH_timeseries':np.zeros([40,365])},\n",
    "\n",
    "'Maple Bay': {\n",
    "'NEMO grid ji': (392, 213),\n",
    "    'OmA_timeseries':np.zeros([40,365]),\n",
    "    'OmC_timeseries':np.zeros([40,365]),\n",
    "    'pH_timeseries':np.zeros([40,365])\n",
    "},\n",
    "\n",
    "'Salt Spring': {\n",
    "'NEMO grid ji': (386, 218),\n",
    "    'OmA_timeseries':np.zeros([40,365]),\n",
    "    'OmC_timeseries':np.zeros([40,365]),\n",
    "    'pH_timeseries':np.zeros([40,365])\n",
    "},\n",
    "\n",
    "'Nanoose Bay': {\n",
    "'NEMO grid ji': (517, 190),\n",
    "    'OmA_timeseries':np.zeros([40,365]),\n",
    "    'OmC_timeseries':np.zeros([40,365]),\n",
    "    'pH_timeseries':np.zeros([40,365])\n",
    "},\n",
    "\n",
    "'Lasqueti Island': {\n",
    "'NEMO grid ji': (586, 195),\n",
    "    'OmA_timeseries':np.zeros([40,365]),\n",
    "    'OmC_timeseries':np.zeros([40,365]),\n",
    "    'pH_timeseries':np.zeros([40,365])\n",
    "},\n",
    "\n",
    "'Main SoG': {\n",
    "'NEMO grid ji': (450, 253),\n",
    "    'OmA_timeseries':np.zeros([40,365]),\n",
    "    'OmC_timeseries':np.zeros([40,365]),\n",
    "    'pH_timeseries':np.zeros([40,365])\n",
    "\n",
    "},\n",
    "\n",
    "'Cortes/Marina': {\n",
    "'NEMO grid ji': (732, 157),\n",
    "    'OmA_timeseries':np.zeros([40,365]),\n",
    "    'OmC_timeseries':np.zeros([40,365]),\n",
    "    'pH_timeseries':np.zeros([40,365])},\n",
    "\n",
    "'Lund/Desolation Sound': {\n",
    "'NEMO grid ji': (702, 187),\n",
    "    'OmA_timeseries':np.zeros([40,365]),\n",
    "    'OmC_timeseries':np.zeros([40,365]),\n",
    "    'pH_timeseries':np.zeros([40,365])},\n",
    "\n",
    "'Mouth of Okeover': {\n",
    "'NEMO grid ji': (726, 192),\n",
    "    'OmA_timeseries':np.zeros([40,365]),\n",
    "    'OmC_timeseries':np.zeros([40,365]),\n",
    "    'pH_timeseries':np.zeros([40,365])},\n",
    "\n",
    "}\n",
    "\n",
    "list_places = ['Deep Bay', 'Southern Baynes', 'Northern Baynes', \\\n",
    "               'Fanny Bay', 'Maple Bay', 'Salt Spring', 'Nanoose Bay',\\\n",
    "               'Lasqueti Island', 'Main SoG', 'Cortes/Marina', \\\n",
    "               'Lund/Desolation Sound', 'Mouth of Okeover']\n"
   ]
  },
  {
   "cell_type": "markdown",
   "metadata": {},
   "source": [
    "#### TJSJ let's open the .nc we made in part B, extract the DIC, TA, S, T, variables and run mocsy on them to get pH and Omega A, then store these in the dictionary we just made"
   ]
  },
  {
   "cell_type": "code",
   "execution_count": null,
   "metadata": {
    "collapsed": true
   },
   "outputs": [],
   "source": []
  },
  {
   "cell_type": "code",
   "execution_count": 16,
   "metadata": {
    "collapsed": true
   },
   "outputs": [],
   "source": [
    "for i in range(0,len(list_places)):\n",
    "    stn = list_places[i]\n",
    "\n",
    "    DIC = t_nc[stn]['DIC_timeseries'][:,:]\n",
    "    TA = t_nc[stn]['TA_timeseries'][:,:]\n",
    "    TEMP = t_nc[stn]['T_timeseries'][:,:]\n",
    "    SAL = t_nc[stn]['S_timeseries'][:,:]\n",
    "\n",
    "    pHr, OmAr, OmCr, pco2r =oned_moxy(SAL, TEMP, DIC, TA, 1, 0)\n",
    "\n",
    "    PLACES_withdat[stn]['OmA_timeseries'] = OmAr\n",
    "    PLACES_withdat[stn]['OmC_timeseries'] = OmCr\n",
    "    PLACES_withdat[stn]['pH_timeseries'] = pHr\n"
   ]
  },
  {
   "cell_type": "code",
   "execution_count": 17,
   "metadata": {
    "collapsed": true
   },
   "outputs": [],
   "source": [
    "\n",
    "\n",
    "f = nc.Dataset(t_str, 'w')\n",
    "g = f.createGroup('Deep Bay')\n",
    "g.createDimension('depths', 40)\n",
    "g.createDimension('days',365)\n",
    "ts = g.createVariable('OmA_timeseries','f4',('depths','days'))\n",
    "ts[:] = PLACES_withdat['Deep Bay']['OmA_timeseries'][:]\n",
    "ts = g.createVariable('OmC_timeseries','f4',('depths','days'))\n",
    "ts[:] = PLACES_withdat['Deep Bay']['OmC_timeseries'][:]\n",
    "ts = g.createVariable('pH_timeseries','f4',('depths','days'))\n",
    "ts[:] = PLACES_withdat['Deep Bay']['pH_timeseries'][:]\n",
    "\n",
    "\n",
    "g = f.createGroup('Southern Baynes')\n",
    "g.createDimension('depths', 40)\n",
    "g.createDimension('days',365)\n",
    "ts = g.createVariable('OmA_timeseries','f4',('depths','days'))\n",
    "ts[:] = PLACES_withdat['Southern Baynes']['OmA_timeseries'][:]\n",
    "ts = g.createVariable('OmC_timeseries','f4',('depths','days'))\n",
    "ts[:] = PLACES_withdat['Southern Baynes']['OmC_timeseries'][:]\n",
    "ts = g.createVariable('pH_timeseries','f4',('depths','days'))\n",
    "ts[:] = PLACES_withdat['Southern Baynes']['pH_timeseries'][:]\n",
    "\n",
    "\n",
    "g = f.createGroup('Northern Baynes')\n",
    "g.createDimension('depths', 40)\n",
    "g.createDimension('days',365)\n",
    "ts = g.createVariable('OmA_timeseries','f4',('depths','days'))\n",
    "ts[:] = PLACES_withdat['Northern Baynes']['OmA_timeseries'][:]\n",
    "ts = g.createVariable('OmC_timeseries','f4',('depths','days'))\n",
    "ts[:] = PLACES_withdat['Northern Baynes']['OmC_timeseries'][:]\n",
    "ts = g.createVariable('pH_timeseries','f4',('depths','days'))\n",
    "ts[:] = PLACES_withdat['Northern Baynes']['pH_timeseries'][:]\n",
    "\n",
    "\n",
    "g = f.createGroup('Fanny Bay')\n",
    "g.createDimension('depths', 40)\n",
    "g.createDimension('days',365)\n",
    "ts = g.createVariable('OmA_timeseries','f4',('depths','days'))\n",
    "ts[:] = PLACES_withdat['Fanny Bay']['OmA_timeseries'][:]\n",
    "ts = g.createVariable('OmC_timeseries','f4',('depths','days'))\n",
    "ts[:] = PLACES_withdat['Fanny Bay']['OmC_timeseries'][:]\n",
    "ts = g.createVariable('pH_timeseries','f4',('depths','days'))\n",
    "ts[:] = PLACES_withdat['Fanny Bay']['pH_timeseries'][:]\n",
    "\n",
    "\n",
    "g = f.createGroup('Maple Bay')\n",
    "g.createDimension('depths', 40)\n",
    "g.createDimension('days',365)\n",
    "ts = g.createVariable('OmA_timeseries','f4',('depths','days'))\n",
    "ts[:] = PLACES_withdat['Maple Bay']['OmA_timeseries'][:]\n",
    "ts = g.createVariable('OmC_timeseries','f4',('depths','days'))\n",
    "ts[:] = PLACES_withdat['Maple Bay']['OmC_timeseries'][:]\n",
    "ts = g.createVariable('pH_timeseries','f4',('depths','days'))\n",
    "ts[:] = PLACES_withdat['Maple Bay']['pH_timeseries'][:]\n",
    "\n",
    "g = f.createGroup('Salt Spring')\n",
    "g.createDimension('depths', 40)\n",
    "g.createDimension('days',365)\n",
    "ts = g.createVariable('OmA_timeseries','f4',('depths','days'))\n",
    "ts[:] = PLACES_withdat['Salt Spring']['OmA_timeseries'][:]\n",
    "ts = g.createVariable('OmC_timeseries','f4',('depths','days'))\n",
    "ts[:] = PLACES_withdat['Salt Spring']['OmC_timeseries'][:]\n",
    "ts = g.createVariable('pH_timeseries','f4',('depths','days'))\n",
    "ts[:] = PLACES_withdat['Salt Spring']['pH_timeseries'][:]\n",
    "\n",
    "\n",
    "g = f.createGroup('Nanoose Bay')\n",
    "g.createDimension('depths', 40)\n",
    "g.createDimension('days',365)\n",
    "ts = g.createVariable('OmA_timeseries','f4',('depths','days'))\n",
    "ts[:] = PLACES_withdat['Nanoose Bay']['OmA_timeseries'][:]\n",
    "ts = g.createVariable('OmC_timeseries','f4',('depths','days'))\n",
    "ts[:] = PLACES_withdat['Nanoose Bay']['OmC_timeseries'][:]\n",
    "ts = g.createVariable('pH_timeseries','f4',('depths','days'))\n",
    "ts[:] = PLACES_withdat['Nanoose Bay']['pH_timeseries'][:]\n",
    "\n",
    "g = f.createGroup('Lasqueti Island')\n",
    "g.createDimension('depths', 40)\n",
    "g.createDimension('days',365)\n",
    "ts = g.createVariable('OmA_timeseries','f4',('depths','days'))\n",
    "ts[:] = PLACES_withdat['Lasqueti Island']['OmA_timeseries'][:]\n",
    "ts = g.createVariable('OmC_timeseries','f4',('depths','days'))\n",
    "ts[:] = PLACES_withdat['Lasqueti Island']['OmC_timeseries'][:]\n",
    "ts = g.createVariable('pH_timeseries','f4',('depths','days'))\n",
    "ts[:] = PLACES_withdat['Lasqueti Island']['pH_timeseries'][:]\n",
    "\n",
    "g = f.createGroup('Main SoG')\n",
    "g.createDimension('depths', 40)\n",
    "g.createDimension('days',365)\n",
    "ts = g.createVariable('OmA_timeseries','f4',('depths','days'))\n",
    "ts[:] = PLACES_withdat['Main SoG']['OmA_timeseries'][:]\n",
    "ts = g.createVariable('OmC_timeseries','f4',('depths','days'))\n",
    "ts[:] = PLACES_withdat['Main SoG']['OmC_timeseries'][:]\n",
    "ts = g.createVariable('pH_timeseries','f4',('depths','days'))\n",
    "ts[:] = PLACES_withdat['Main SoG']['pH_timeseries'][:]\n",
    "\n",
    "\n",
    "g = f.createGroup('Cortes/Marina')\n",
    "g.createDimension('depths', 40)\n",
    "g.createDimension('days',365)\n",
    "ts = g.createVariable('OmA_timeseries','f4',('depths','days'))\n",
    "ts[:] = PLACES_withdat['Cortes/Marina']['OmA_timeseries'][:]\n",
    "ts = g.createVariable('OmC_timeseries','f4',('depths','days'))\n",
    "ts[:] = PLACES_withdat['Cortes/Marina']['OmC_timeseries'][:]\n",
    "ts = g.createVariable('pH_timeseries','f4',('depths','days'))\n",
    "ts[:] = PLACES_withdat['Cortes/Marina']['pH_timeseries'][:]\n",
    "\n",
    "\n",
    "g = f.createGroup('Lund/Desolation Sound')\n",
    "g.createDimension('depths', 40)\n",
    "g.createDimension('days',365)\n",
    "ts = g.createVariable('OmA_timeseries','f4',('depths','days'))\n",
    "ts[:] = PLACES_withdat['Lund/Desolation Sound']['OmA_timeseries'][:]\n",
    "ts = g.createVariable('OmC_timeseries','f4',('depths','days'))\n",
    "ts[:] = PLACES_withdat['Lund/Desolation Sound']['OmC_timeseries'][:]\n",
    "ts = g.createVariable('pH_timeseries','f4',('depths','days'))\n",
    "ts[:] = PLACES_withdat['Lund/Desolation Sound']['pH_timeseries'][:]\n",
    "\n",
    "\n",
    "g = f.createGroup('Mouth of Okeover')\n",
    "g.createDimension('depths', 40)\n",
    "g.createDimension('days',365)\n",
    "ts = g.createVariable('OmA_timeseries','f4',('depths','days'))\n",
    "ts[:] = PLACES_withdat['Mouth of Okeover']['OmA_timeseries'][:]\n",
    "ts = g.createVariable('OmC_timeseries','f4',('depths','days'))\n",
    "ts[:] = PLACES_withdat['Mouth of Okeover']['OmC_timeseries'][:]\n",
    "ts = g.createVariable('pH_timeseries','f4',('depths','days'))\n",
    "ts[:] = PLACES_withdat['Mouth of Okeover']['pH_timeseries'][:]\n",
    "\n",
    "\n",
    "\n",
    "f.close()"
   ]
  },
  {
   "cell_type": "code",
   "execution_count": 18,
   "metadata": {},
   "outputs": [
    {
     "name": "stdout",
     "output_type": "stream",
     "text": [
      "done, yo\n"
     ]
    }
   ],
   "source": [
    "print('done, yo')"
   ]
  }
 ],
 "metadata": {
  "kernelspec": {
   "display_name": "Python 3",
   "language": "python",
   "name": "python3"
  },
  "language_info": {
   "codemirror_mode": {
    "name": "ipython",
    "version": 3
   },
   "file_extension": ".py",
   "mimetype": "text/x-python",
   "name": "python",
   "nbconvert_exporter": "python",
   "pygments_lexer": "ipython3",
   "version": "3.6.0"
  }
 },
 "nbformat": 4,
 "nbformat_minor": 2
}
