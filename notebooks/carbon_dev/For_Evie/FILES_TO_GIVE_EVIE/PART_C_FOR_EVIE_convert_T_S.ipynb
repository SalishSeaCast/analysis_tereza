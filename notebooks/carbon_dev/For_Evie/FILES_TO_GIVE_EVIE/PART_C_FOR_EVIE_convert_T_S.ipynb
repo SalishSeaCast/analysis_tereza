{
 "cells": [
  {
   "cell_type": "code",
   "execution_count": 1,
   "metadata": {},
   "outputs": [
    {
     "name": "stdout",
     "output_type": "stream",
     "text": [
      "Once deleted, variables cannot be recovered. Proceed (y/[n])? y\n"
     ]
    }
   ],
   "source": [
    "%reset"
   ]
  },
  {
   "cell_type": "code",
   "execution_count": 2,
   "metadata": {},
   "outputs": [
    {
     "data": {
      "text/html": [
       "<script>\n",
       "code_show=true; \n",
       "function code_toggle() {\n",
       " if (code_show){\n",
       " $('div.input').hide();\n",
       " } else {\n",
       " $('div.input').show();\n",
       " }\n",
       " code_show = !code_show\n",
       "} \n",
       "$( document ).ready(code_toggle);\n",
       "</script>\n",
       "<form action=\"javascript:code_toggle()\"><input type=\"submit\" value=\"Click here to toggle on/off the raw code.\"></form>"
      ],
      "text/plain": [
       "<IPython.core.display.HTML object>"
      ]
     },
     "execution_count": 2,
     "metadata": {},
     "output_type": "execute_result"
    }
   ],
   "source": [
    "from IPython.display import HTML\n",
    "\n",
    "HTML('''<script>\n",
    "code_show=true; \n",
    "function code_toggle() {\n",
    " if (code_show){\n",
    " $('div.input').hide();\n",
    " } else {\n",
    " $('div.input').show();\n",
    " }\n",
    " code_show = !code_show\n",
    "} \n",
    "$( document ).ready(code_toggle);\n",
    "</script>\n",
    "<form action=\"javascript:code_toggle()\"><input type=\"submit\" value=\"Click here to toggle on/off the raw code.\"></form>''')"
   ]
  },
  {
   "cell_type": "code",
   "execution_count": 3,
   "metadata": {
    "collapsed": true
   },
   "outputs": [],
   "source": [
    "import netCDF4 as nc\n",
    "import sys\n",
    "sys.path.append('/data/tjarniko/mocsy')\n",
    "import mocsy\n",
    "import numpy as np\n",
    "\n",
    "import gsw\n",
    "import arrow\n",
    "import glob\n",
    "import cmocean as cm\n",
    "import matplotlib.pyplot as plt\n",
    "\n",
    "from salishsea_tools import (\n",
    "    nc_tools,\n",
    "    viz_tools,\n",
    "    geo_tools,\n",
    "    tidetools\n",
    ")\n",
    "\n",
    "%matplotlib inline"
   ]
  },
  {
   "cell_type": "markdown",
   "metadata": {},
   "source": [
    "## Purpose of notebook\n",
    "\n",
    "Here I'm going to take the S, and T we've found in, eg, carp_timeseries_2013.nc, and convert them into the format you want .  The python package I use for this is called [mocsy](http://ocmip5.ipsl.jussieu.fr/mocsy/), and it's relatively fancy - and installing it on your own computer can be a bit of a pain. If you have access to the Waterhole cluster, you can just use the path to the installation that I listed above. Below I've written a wrapper code for it (oned_moxy). \n",
    "\n",
    "\n"
   ]
  },
  {
   "cell_type": "markdown",
   "metadata": {
    "collapsed": true
   },
   "source": [
    "#### TJSJ let's make a dict with placenames, colors, and then code a map to visualise the stations"
   ]
  },
  {
   "cell_type": "code",
   "execution_count": 4,
   "metadata": {
    "collapsed": true
   },
   "outputs": [],
   "source": [
    "t_nc = nc.Dataset('./EXTRACTED_timeseries/carp_timeseries_2016.nc')\n",
    "t_str = 'TS_timeseries_2016.nc'"
   ]
  },
  {
   "cell_type": "code",
   "execution_count": 5,
   "metadata": {
    "collapsed": true
   },
   "outputs": [],
   "source": [
    "PLACES = {\n",
    "'Deep Bay': {\n",
    "    \n",
    "'lon lat': (-124.7392, 49.4606),\n",
    "\n",
    "'color': 'red', 'NEMO grid ji': (599, 126),\n",
    "\n",
    "},\n",
    "\n",
    "'Southern Baynes': {\n",
    "\n",
    "'lon lat': (-124.7457, 49.4760),\n",
    "\n",
    "'color': 'sienna', 'NEMO grid ji': (602, 127),\n",
    "\n",
    "},\n",
    "\n",
    "'Northern Baynes': {\n",
    "\n",
    "'lon lat': (-124.8924, 49.6492),\n",
    "\n",
    "'color': 'orange', 'NEMO grid ji': (646, 127),\n",
    "\n",
    "},\n",
    "\n",
    "'Fanny Bay': {\n",
    "\n",
    "'lon lat': (-124.8227, 49.5086),\n",
    "\n",
    "'color': 'gold', 'NEMO grid ji': (614, 120),\n",
    "\n",
    "},\n",
    "\n",
    "'Maple Bay': {\n",
    "\n",
    "'lon lat': (-123.5947, 48.8140),\n",
    "\n",
    "'color': 'olivedrab', 'NEMO grid ji': (392, 213),\n",
    "\n",
    "},\n",
    "\n",
    "'Salt Spring': {\n",
    "\n",
    "'lon lat': (-123.5513, 48.7993),\n",
    "\n",
    "'color': 'lightgreen', 'NEMO grid ji': (386, 218),\n",
    "\n",
    "},\n",
    "\n",
    "'Nanoose Bay': {\n",
    "\n",
    "'lon lat': (-124.1359, 49.2609),\n",
    "\n",
    "'color': 'turquoise', 'NEMO grid ji': (517, 190),\n",
    "\n",
    "},\n",
    "\n",
    "'Lasqueti Island': {\n",
    "\n",
    "# deg E, deg N\n",
    "\n",
    "'lon lat': (-124.3384, 49.5442),\n",
    "\n",
    "'color': 'dodgerblue', 'NEMO grid ji': (586, 195),\n",
    "\n",
    "},\n",
    "\n",
    "'Main SoG': {\n",
    "\n",
    "'lon lat': (-123.5832, 49.1177),\n",
    "\n",
    "'color': 'slategray', 'NEMO grid ji': (450, 253),\n",
    "\n",
    "},\n",
    "\n",
    "'Cortes/Marina': {\n",
    "\n",
    "'lon lat': (-125.0194, 50.0418),\n",
    "\n",
    "'color': 'royalblue', 'NEMO grid ji': (732, 157),\n",
    "\n",
    "},\n",
    "\n",
    "'Lund/Desolation Sound': {\n",
    "\n",
    "'lon lat': (-124.7666, 49.9804),\n",
    "\n",
    "'color': 'darkviolet', 'NEMO grid ji': (702, 187),\n",
    "\n",
    "},\n",
    "\n",
    "'Mouth of Okeover': {\n",
    "\n",
    "'lon lat': (-124.8174, 50.0805),\n",
    "\n",
    "'color': 'pink', 'NEMO grid ji': (726, 192),\n",
    "\n",
    "},\n",
    "}\n",
    "\n",
    "list_places = ['Deep Bay', 'Southern Baynes', 'Northern Baynes', \\\n",
    "               'Fanny Bay', 'Maple Bay', 'Salt Spring', 'Nanoose Bay',\\\n",
    "               'Lasqueti Island', 'Main SoG', 'Cortes/Marina', \\\n",
    "               'Lund/Desolation Sound', 'Mouth of Okeover']"
   ]
  },
  {
   "cell_type": "code",
   "execution_count": 23,
   "metadata": {},
   "outputs": [
    {
     "data": {
      "text/plain": [
       "(array([30.85450777]), array([10.32061518]))"
      ]
     },
     "execution_count": 23,
     "metadata": {},
     "output_type": "execute_result"
    }
   ],
   "source": [
    "def conv_TS2(tsal, ttemp, prs):\n",
    "\n",
    "#     size_box = np.shape(tsal)\n",
    "#     size_0 = size_box[0]\n",
    "#     size_1= size_box[1]\n",
    "\n",
    "    tsra = np.ravel(tsal)\n",
    "    ttera = np.ravel(ttemp)\n",
    "    tzero = np.zeros_like(tsra)\n",
    "       \n",
    "    tsra_psu = tsra*35/35.16504\n",
    "    ttera_is = gsw.t_from_CT(tsra,ttera,prs)\n",
    "\n",
    "\n",
    "    tsra_psuR = tsra_psu\n",
    "    ttera_isR = ttera_is\n",
    "    \n",
    "    return tsra_psuR, ttera_isR\n",
    "\n",
    "tsal = 31\n",
    "ttemp = 10\n",
    "prs = 3000\n",
    "conv_TS2(tsal, ttemp, prs)"
   ]
  },
  {
   "cell_type": "code",
   "execution_count": 11,
   "metadata": {},
   "outputs": [
    {
     "ename": "NameError",
     "evalue": "name 'conv_TS2' is not defined",
     "output_type": "error",
     "traceback": [
      "\u001b[0;31m---------------------------------------------------------------------------\u001b[0m",
      "\u001b[0;31mNameError\u001b[0m                                 Traceback (most recent call last)",
      "\u001b[0;32m<ipython-input-11-fc632a7c7740>\u001b[0m in \u001b[0;36m<module>\u001b[0;34m()\u001b[0m\n\u001b[1;32m      2\u001b[0m \u001b[0mttemp\u001b[0m \u001b[0;34m=\u001b[0m \u001b[0;36m10\u001b[0m\u001b[0;34m\u001b[0m\u001b[0m\n\u001b[1;32m      3\u001b[0m \u001b[0mprs\u001b[0m \u001b[0;34m=\u001b[0m \u001b[0;36m0\u001b[0m\u001b[0;34m\u001b[0m\u001b[0m\n\u001b[0;32m----> 4\u001b[0;31m \u001b[0mS\u001b[0m\u001b[0;34m,\u001b[0m \u001b[0mT\u001b[0m \u001b[0;34m=\u001b[0m \u001b[0mconv_TS2\u001b[0m\u001b[0;34m(\u001b[0m\u001b[0mtsal\u001b[0m\u001b[0;34m,\u001b[0m \u001b[0mttemp\u001b[0m\u001b[0;34m,\u001b[0m \u001b[0mprs\u001b[0m\u001b[0;34m)\u001b[0m\u001b[0;34m\u001b[0m\u001b[0m\n\u001b[0m\u001b[1;32m      5\u001b[0m \u001b[0mprint\u001b[0m\u001b[0;34m(\u001b[0m\u001b[0mT\u001b[0m\u001b[0;34m)\u001b[0m\u001b[0;34m\u001b[0m\u001b[0m\n",
      "\u001b[0;31mNameError\u001b[0m: name 'conv_TS2' is not defined"
     ]
    }
   ],
   "source": [
    "tsal = 31\n",
    "ttemp = 10\n",
    "prs = 0\n",
    "S, T = conv_TS2(tsal, ttemp, prs)\n",
    "print(T)"
   ]
  },
  {
   "cell_type": "code",
   "execution_count": 6,
   "metadata": {
    "collapsed": true
   },
   "outputs": [],
   "source": [
    "def conv_TS(tsal, ttemp):\n",
    "\n",
    "    size_box = np.shape(tsal)\n",
    "    size_0 = size_box[0]\n",
    "    size_1= size_box[1]\n",
    "\n",
    "    tsra = np.ravel(tsal)\n",
    "    ttera = np.ravel(ttemp)\n",
    "    tzero = np.zeros_like(tsra)\n",
    "       \n",
    "    tsra_psu = tsra*35/35.16504\n",
    "    ttera_is = gsw.t_from_CT(tsra,ttera,tzero)\n",
    "\n",
    "\n",
    "    tsra_psuR = tsra_psu.reshape(size_0,size_1)\n",
    "    ttera_isR = ttera_is.reshape(size_0,size_1)\n",
    "    \n",
    "    return tsra_psuR, ttera_isR"
   ]
  },
  {
   "cell_type": "markdown",
   "metadata": {},
   "source": [
    "#### TJSJ let's make a dict in which to store the OmA and pH timeseries"
   ]
  },
  {
   "cell_type": "code",
   "execution_count": 7,
   "metadata": {
    "collapsed": true
   },
   "outputs": [],
   "source": [
    "PLACES_withdat = {\n",
    "'Deep Bay': {\n",
    "'NEMO grid ji': (599, 126),\n",
    "    'T_timeseries':np.zeros([40,365]),\n",
    "    'S_timeseries':np.zeros([40,365]),\n",
    "\n",
    "},\n",
    "'Southern Baynes': {\n",
    "'NEMO grid ji': (602, 127),\n",
    "    'T_timeseries':np.zeros([40,365]),\n",
    "    'S_timeseries':np.zeros([40,365]),\n",
    "},\n",
    "\n",
    "'Northern Baynes': {\n",
    "'NEMO grid ji': (646, 127),\n",
    "    'T_timeseries':np.zeros([40,365]),\n",
    "    'S_timeseries':np.zeros([40,365]),\n",
    "    },\n",
    "\n",
    "'Fanny Bay': {\n",
    "'NEMO grid ji': (614, 120),\n",
    "    'T_timeseries':np.zeros([40,365]),\n",
    "    'S_timeseries':np.zeros([40,365]),\n",
    "    },\n",
    "\n",
    "'Maple Bay': {\n",
    "'NEMO grid ji': (392, 213),\n",
    "    'T_timeseries':np.zeros([40,365]),\n",
    "    'S_timeseries':np.zeros([40,365]),\n",
    "},\n",
    "\n",
    "'Salt Spring': {\n",
    "'NEMO grid ji': (386, 218),\n",
    "    'T_timeseries':np.zeros([40,365]),\n",
    "    'S_timeseries':np.zeros([40,365]),\n",
    "},\n",
    "\n",
    "'Nanoose Bay': {\n",
    "'NEMO grid ji': (517, 190),\n",
    "    'T_timeseries':np.zeros([40,365]),\n",
    "    'S_timeseries':np.zeros([40,365]),\n",
    "},\n",
    "\n",
    "'Lasqueti Island': {\n",
    "'NEMO grid ji': (586, 195),\n",
    "    'T_timeseries':np.zeros([40,365]),\n",
    "    'S_timeseries':np.zeros([40,365]),\n",
    "},\n",
    "\n",
    "'Main SoG': {\n",
    "'NEMO grid ji': (450, 253),\n",
    "    'T_timeseries':np.zeros([40,365]),\n",
    "    'S_timeseries':np.zeros([40,365]),\n",
    "\n",
    "},\n",
    "\n",
    "'Cortes/Marina': {\n",
    "'NEMO grid ji': (732, 157),\n",
    "    'T_timeseries':np.zeros([40,365]),\n",
    "    'S_timeseries':np.zeros([40,365]),\n",
    "    },\n",
    "\n",
    "'Lund/Desolation Sound': {\n",
    "'NEMO grid ji': (702, 187),\n",
    "    'T_timeseries':np.zeros([40,365]),\n",
    "    'S_timeseries':np.zeros([40,365]),\n",
    "    },\n",
    "\n",
    "'Mouth of Okeover': {\n",
    "'NEMO grid ji': (726, 192),\n",
    "    'T_timeseries':np.zeros([40,365]),\n",
    "    'S_timeseries':np.zeros([40,365]),\n",
    "    },\n",
    "\n",
    "}\n",
    "\n",
    "list_places = ['Deep Bay', 'Southern Baynes', 'Northern Baynes', \\\n",
    "               'Fanny Bay', 'Maple Bay', 'Salt Spring', 'Nanoose Bay',\\\n",
    "               'Lasqueti Island', 'Main SoG', 'Cortes/Marina', \\\n",
    "               'Lund/Desolation Sound', 'Mouth of Okeover']\n"
   ]
  },
  {
   "cell_type": "markdown",
   "metadata": {},
   "source": [
    "#### TJSJ let's open the .nc we made in part B, extract the DIC, TA, S, T, variables and run mocsy on them to get pH and Omega A, then store these in the dictionary we just made"
   ]
  },
  {
   "cell_type": "code",
   "execution_count": null,
   "metadata": {
    "collapsed": true
   },
   "outputs": [],
   "source": []
  },
  {
   "cell_type": "code",
   "execution_count": 8,
   "metadata": {
    "collapsed": true
   },
   "outputs": [],
   "source": [
    "for i in range(0,len(list_places)):\n",
    "    stn = list_places[i]\n",
    "\n",
    "    TEMP = t_nc[stn]['T_timeseries'][:,:]\n",
    "    SAL = t_nc[stn]['S_timeseries'][:,:]\n",
    "\n",
    "    SAL_psu, TEMP_is = conv_TS(SAL, TEMP)\n",
    "    \n",
    "    PLACES_withdat[stn]['S_timeseries'] = SAL_psu\n",
    "    PLACES_withdat[stn]['T_timeseries'] = TEMP_is\n",
    "\n"
   ]
  },
  {
   "cell_type": "code",
   "execution_count": 9,
   "metadata": {
    "collapsed": true
   },
   "outputs": [],
   "source": [
    "\n",
    "\n",
    "f = nc.Dataset(t_str, 'w')\n",
    "g = f.createGroup('Deep Bay')\n",
    "g.createDimension('depths', 40)\n",
    "g.createDimension('days',365)\n",
    "ts = g.createVariable('T_timeseries','f4',('depths','days'))\n",
    "ts[:] = PLACES_withdat['Deep Bay']['T_timeseries'][:]\n",
    "ts = g.createVariable('S_timeseries','f4',('depths','days'))\n",
    "ts[:] = PLACES_withdat['Deep Bay']['S_timeseries'][:]\n",
    "\n",
    "g = f.createGroup('Southern Baynes')\n",
    "g.createDimension('depths', 40)\n",
    "g.createDimension('days',365)\n",
    "ts = g.createVariable('T_timeseries','f4',('depths','days'))\n",
    "ts[:] = PLACES_withdat['Southern Baynes']['T_timeseries'][:]\n",
    "ts = g.createVariable('S_timeseries','f4',('depths','days'))\n",
    "ts[:] = PLACES_withdat['Southern Baynes']['S_timeseries'][:]\n",
    "\n",
    "g = f.createGroup('Northern Baynes')\n",
    "g.createDimension('depths', 40)\n",
    "g.createDimension('days',365)\n",
    "ts = g.createVariable('T_timeseries','f4',('depths','days'))\n",
    "ts[:] = PLACES_withdat['Northern Baynes']['T_timeseries'][:]\n",
    "ts = g.createVariable('S_timeseries','f4',('depths','days'))\n",
    "ts[:] = PLACES_withdat['Northern Baynes']['S_timeseries'][:]\n",
    "\n",
    "g = f.createGroup('Fanny Bay')\n",
    "g.createDimension('depths', 40)\n",
    "g.createDimension('days',365)\n",
    "ts = g.createVariable('T_timeseries','f4',('depths','days'))\n",
    "ts[:] = PLACES_withdat['Fanny Bay']['T_timeseries'][:]\n",
    "ts = g.createVariable('S_timeseries','f4',('depths','days'))\n",
    "ts[:] = PLACES_withdat['Fanny Bay']['S_timeseries'][:]\n",
    "\n",
    "g = f.createGroup('Maple Bay')\n",
    "g.createDimension('depths', 40)\n",
    "g.createDimension('days',365)\n",
    "ts = g.createVariable('T_timeseries','f4',('depths','days'))\n",
    "ts[:] = PLACES_withdat['Maple Bay']['T_timeseries'][:]\n",
    "ts = g.createVariable('S_timeseries','f4',('depths','days'))\n",
    "ts[:] = PLACES_withdat['Maple Bay']['S_timeseries'][:]\n",
    "\n",
    "g = f.createGroup('Salt Spring')\n",
    "g.createDimension('depths', 40)\n",
    "g.createDimension('days',365)\n",
    "ts = g.createVariable('T_timeseries','f4',('depths','days'))\n",
    "ts[:] = PLACES_withdat['Salt Spring']['T_timeseries'][:]\n",
    "ts = g.createVariable('S_timeseries','f4',('depths','days'))\n",
    "ts[:] = PLACES_withdat['Salt Spring']['S_timeseries'][:]\n",
    "\n",
    "g = f.createGroup('Nanoose Bay')\n",
    "g.createDimension('depths', 40)\n",
    "g.createDimension('days',365)\n",
    "ts = g.createVariable('T_timeseries','f4',('depths','days'))\n",
    "ts[:] = PLACES_withdat['Nanoose Bay']['T_timeseries'][:]\n",
    "ts = g.createVariable('S_timeseries','f4',('depths','days'))\n",
    "ts[:] = PLACES_withdat['Nanoose Bay']['S_timeseries'][:]\n",
    "\n",
    "g = f.createGroup('Lasqueti Island')\n",
    "g.createDimension('depths', 40)\n",
    "g.createDimension('days',365)\n",
    "ts = g.createVariable('T_timeseries','f4',('depths','days'))\n",
    "ts[:] = PLACES_withdat['Lasqueti Island']['T_timeseries'][:]\n",
    "ts = g.createVariable('S_timeseries','f4',('depths','days'))\n",
    "ts[:] = PLACES_withdat['Lasqueti Island']['S_timeseries'][:]\n",
    "\n",
    "g = f.createGroup('Main SoG')\n",
    "g.createDimension('depths', 40)\n",
    "g.createDimension('days',365)\n",
    "ts = g.createVariable('T_timeseries','f4',('depths','days'))\n",
    "ts[:] = PLACES_withdat['Main SoG']['T_timeseries'][:]\n",
    "ts = g.createVariable('S_timeseries','f4',('depths','days'))\n",
    "ts[:] = PLACES_withdat['Main SoG']['S_timeseries'][:]\n",
    "\n",
    "g = f.createGroup('Cortes/Marina')\n",
    "g.createDimension('depths', 40)\n",
    "g.createDimension('days',365)\n",
    "ts = g.createVariable('T_timeseries','f4',('depths','days'))\n",
    "ts[:] = PLACES_withdat['Cortes/Marina']['T_timeseries'][:]\n",
    "ts = g.createVariable('S_timeseries','f4',('depths','days'))\n",
    "ts[:] = PLACES_withdat['Cortes/Marina']['S_timeseries'][:]\n",
    "\n",
    "g = f.createGroup('Lund/Desolation Sound')\n",
    "g.createDimension('depths', 40)\n",
    "g.createDimension('days',365)\n",
    "ts = g.createVariable('T_timeseries','f4',('depths','days'))\n",
    "ts[:] = PLACES_withdat['Lund/Desolation Sound']['T_timeseries'][:]\n",
    "ts = g.createVariable('S_timeseries','f4',('depths','days'))\n",
    "ts[:] = PLACES_withdat['Lund/Desolation Sound']['S_timeseries'][:]\n",
    "\n",
    "g = f.createGroup('Mouth of Okeover')\n",
    "g.createDimension('depths', 40)\n",
    "g.createDimension('days',365)\n",
    "ts = g.createVariable('T_timeseries','f4',('depths','days'))\n",
    "ts[:] = PLACES_withdat['Mouth of Okeover']['T_timeseries'][:]\n",
    "ts = g.createVariable('S_timeseries','f4',('depths','days'))\n",
    "ts[:] = PLACES_withdat['Mouth of Okeover']['S_timeseries'][:]\n",
    "\n",
    "f.close()"
   ]
  },
  {
   "cell_type": "code",
   "execution_count": 10,
   "metadata": {},
   "outputs": [
    {
     "name": "stdout",
     "output_type": "stream",
     "text": [
      "done, yo\n"
     ]
    }
   ],
   "source": [
    "print('done, yo')"
   ]
  }
 ],
 "metadata": {
  "kernelspec": {
   "display_name": "Python 3",
   "language": "python",
   "name": "python3"
  },
  "language_info": {
   "codemirror_mode": {
    "name": "ipython",
    "version": 3
   },
   "file_extension": ".py",
   "mimetype": "text/x-python",
   "name": "python",
   "nbconvert_exporter": "python",
   "pygments_lexer": "ipython3",
   "version": "3.6.0"
  }
 },
 "nbformat": 4,
 "nbformat_minor": 2
}
