{
 "cells": [
  {
   "cell_type": "code",
   "execution_count": 1,
   "metadata": {},
   "outputs": [
    {
     "name": "stdout",
     "output_type": "stream",
     "text": [
      "Once deleted, variables cannot be recovered. Proceed (y/[n])? y\n"
     ]
    }
   ],
   "source": [
    "%reset"
   ]
  },
  {
   "cell_type": "code",
   "execution_count": 2,
   "metadata": {},
   "outputs": [
    {
     "data": {
      "text/html": [
       "<script>\n",
       "code_show=true; \n",
       "function code_toggle() {\n",
       " if (code_show){\n",
       " $('div.input').hide();\n",
       " } else {\n",
       " $('div.input').show();\n",
       " }\n",
       " code_show = !code_show\n",
       "} \n",
       "$( document ).ready(code_toggle);\n",
       "</script>\n",
       "<form action=\"javascript:code_toggle()\"><input type=\"submit\" value=\"Click here to toggle on/off the raw code.\"></form>"
      ],
      "text/plain": [
       "<IPython.core.display.HTML object>"
      ]
     },
     "execution_count": 2,
     "metadata": {},
     "output_type": "execute_result"
    }
   ],
   "source": [
    "from IPython.display import HTML\n",
    "\n",
    "HTML('''<script>\n",
    "code_show=true; \n",
    "function code_toggle() {\n",
    " if (code_show){\n",
    " $('div.input').hide();\n",
    " } else {\n",
    " $('div.input').show();\n",
    " }\n",
    " code_show = !code_show\n",
    "} \n",
    "$( document ).ready(code_toggle);\n",
    "</script>\n",
    "<form action=\"javascript:code_toggle()\"><input type=\"submit\" value=\"Click here to toggle on/off the raw code.\"></form>''')"
   ]
  },
  {
   "cell_type": "code",
   "execution_count": 3,
   "metadata": {
    "collapsed": true
   },
   "outputs": [],
   "source": [
    "import netCDF4 as nc\n",
    "import sys\n",
    "sys.path.append('/data/tjarniko/mocsy')\n",
    "import mocsy\n",
    "import numpy as np\n",
    "\n",
    "import gsw\n",
    "import arrow\n",
    "import glob\n",
    "import cmocean as cm\n",
    "import matplotlib.pyplot as plt\n",
    "\n",
    "from salishsea_tools import (\n",
    "    nc_tools,\n",
    "    viz_tools,\n",
    "    geo_tools,\n",
    "    tidetools\n",
    ")\n",
    "\n",
    "%matplotlib inline"
   ]
  },
  {
   "cell_type": "markdown",
   "metadata": {},
   "source": [
    "## Purpose of notebook\n",
    "\n",
    "Here I'm going to take the S, and T we've found in, eg, carp_timeseries_2013.nc, and convert them into the format you want.\n",
    "\n",
    "\n"
   ]
  },
  {
   "cell_type": "code",
   "execution_count": 4,
   "metadata": {
    "collapsed": true
   },
   "outputs": [],
   "source": [
    "t_nc = nc.Dataset('./EXTRACTED_timeseries/carp_timeseries_2016.nc')\n",
    "t_str = 'TS_timeseries_2016.nc'"
   ]
  },
  {
   "cell_type": "code",
   "execution_count": 5,
   "metadata": {
    "collapsed": true
   },
   "outputs": [],
   "source": [
    "def conv_TS(tsal, ttemp):\n",
    "\n",
    "    size_box = np.shape(tsal)\n",
    "    size_0 = size_box[0]\n",
    "    size_1= size_box[1]\n",
    "\n",
    "    tsra = np.ravel(tsal)\n",
    "    ttera = np.ravel(ttemp)\n",
    "    tzero = np.zeros_like(tsra)\n",
    "       \n",
    "    tsra_psu = tsra*35/35.16504\n",
    "    ttera_is = gsw.t_from_CT(tsra,ttera,tzero)\n",
    "\n",
    "\n",
    "    tsra_psuR = tsra_psu.reshape(size_0,size_1)\n",
    "    ttera_isR = ttera_is.reshape(size_0,size_1)\n",
    "    \n",
    "    return tsra_psuR, ttera_isR"
   ]
  },
  {
   "cell_type": "markdown",
   "metadata": {},
   "source": [
    "#### TJSJ let's make a dict in which to store the OmA and pH timeseries"
   ]
  },
  {
   "cell_type": "code",
   "execution_count": 6,
   "metadata": {
    "collapsed": true
   },
   "outputs": [],
   "source": [
    "PLACES_withdat = {\n",
    "'Deep Bay': {\n",
    "'NEMO grid ji': (599, 126),\n",
    "    'T_timeseries':np.zeros([40,365]),\n",
    "    'S_timeseries':np.zeros([40,365]),\n",
    "\n",
    "},\n",
    "'Southern Baynes': {\n",
    "'NEMO grid ji': (602, 127),\n",
    "    'T_timeseries':np.zeros([40,365]),\n",
    "    'S_timeseries':np.zeros([40,365]),\n",
    "},\n",
    "\n",
    "'Northern Baynes': {\n",
    "'NEMO grid ji': (646, 127),\n",
    "    'T_timeseries':np.zeros([40,365]),\n",
    "    'S_timeseries':np.zeros([40,365]),\n",
    "    },\n",
    "\n",
    "'Fanny Bay': {\n",
    "'NEMO grid ji': (614, 120),\n",
    "    'T_timeseries':np.zeros([40,365]),\n",
    "    'S_timeseries':np.zeros([40,365]),\n",
    "    },\n",
    "\n",
    "'Maple Bay': {\n",
    "'NEMO grid ji': (392, 213),\n",
    "    'T_timeseries':np.zeros([40,365]),\n",
    "    'S_timeseries':np.zeros([40,365]),\n",
    "},\n",
    "\n",
    "'Salt Spring': {\n",
    "'NEMO grid ji': (386, 218),\n",
    "    'T_timeseries':np.zeros([40,365]),\n",
    "    'S_timeseries':np.zeros([40,365]),\n",
    "},\n",
    "\n",
    "'Nanoose Bay': {\n",
    "'NEMO grid ji': (517, 190),\n",
    "    'T_timeseries':np.zeros([40,365]),\n",
    "    'S_timeseries':np.zeros([40,365]),\n",
    "},\n",
    "\n",
    "'Lasqueti Island': {\n",
    "'NEMO grid ji': (586, 195),\n",
    "    'T_timeseries':np.zeros([40,365]),\n",
    "    'S_timeseries':np.zeros([40,365]),\n",
    "},\n",
    "\n",
    "'Main SoG': {\n",
    "'NEMO grid ji': (450, 253),\n",
    "    'T_timeseries':np.zeros([40,365]),\n",
    "    'S_timeseries':np.zeros([40,365]),\n",
    "\n",
    "},\n",
    "\n",
    "'Cortes/Marina': {\n",
    "'NEMO grid ji': (732, 157),\n",
    "    'T_timeseries':np.zeros([40,365]),\n",
    "    'S_timeseries':np.zeros([40,365]),\n",
    "    },\n",
    "\n",
    "'Lund/Desolation Sound': {\n",
    "'NEMO grid ji': (702, 187),\n",
    "    'T_timeseries':np.zeros([40,365]),\n",
    "    'S_timeseries':np.zeros([40,365]),\n",
    "    },\n",
    "\n",
    "'Mouth of Okeover': {\n",
    "'NEMO grid ji': (726, 192),\n",
    "    'T_timeseries':np.zeros([40,365]),\n",
    "    'S_timeseries':np.zeros([40,365]),\n",
    "    },\n",
    "\n",
    "}\n",
    "\n",
    "list_places = ['Deep Bay', 'Southern Baynes', 'Northern Baynes', \\\n",
    "               'Fanny Bay', 'Maple Bay', 'Salt Spring', 'Nanoose Bay',\\\n",
    "               'Lasqueti Island', 'Main SoG', 'Cortes/Marina', \\\n",
    "               'Lund/Desolation Sound', 'Mouth of Okeover']\n"
   ]
  },
  {
   "cell_type": "markdown",
   "metadata": {},
   "source": [
    "#### TJSJ let's open the .nc we made in part B, extract the DIC, TA, S, T, variables and run mocsy on them to get pH and Omega A, then store these in the dictionary we just made"
   ]
  },
  {
   "cell_type": "code",
   "execution_count": null,
   "metadata": {
    "collapsed": true
   },
   "outputs": [],
   "source": []
  },
  {
   "cell_type": "code",
   "execution_count": 7,
   "metadata": {
    "collapsed": true
   },
   "outputs": [],
   "source": [
    "for i in range(0,len(list_places)):\n",
    "    stn = list_places[i]\n",
    "\n",
    "    TEMP = t_nc[stn]['T_timeseries'][:,:]\n",
    "    SAL = t_nc[stn]['S_timeseries'][:,:]\n",
    "\n",
    "    SAL_psu, TEMP_is = conv_TS(SAL, TEMP)\n",
    "    \n",
    "    PLACES_withdat[stn]['S_timeseries'] = SAL_psu\n",
    "    PLACES_withdat[stn]['T_timeseries'] = TEMP_is\n",
    "\n"
   ]
  },
  {
   "cell_type": "code",
   "execution_count": 8,
   "metadata": {
    "collapsed": true
   },
   "outputs": [],
   "source": [
    "\n",
    "\n",
    "f = nc.Dataset(t_str, 'w')\n",
    "g = f.createGroup('Deep Bay')\n",
    "g.createDimension('depths', 40)\n",
    "g.createDimension('days',365)\n",
    "ts = g.createVariable('T_timeseries','f4',('depths','days'))\n",
    "ts[:] = PLACES_withdat['Deep Bay']['T_timeseries'][:]\n",
    "ts = g.createVariable('S_timeseries','f4',('depths','days'))\n",
    "ts[:] = PLACES_withdat['Deep Bay']['S_timeseries'][:]\n",
    "\n",
    "g = f.createGroup('Southern Baynes')\n",
    "g.createDimension('depths', 40)\n",
    "g.createDimension('days',365)\n",
    "ts = g.createVariable('T_timeseries','f4',('depths','days'))\n",
    "ts[:] = PLACES_withdat['Southern Baynes']['T_timeseries'][:]\n",
    "ts = g.createVariable('S_timeseries','f4',('depths','days'))\n",
    "ts[:] = PLACES_withdat['Southern Baynes']['S_timeseries'][:]\n",
    "\n",
    "g = f.createGroup('Northern Baynes')\n",
    "g.createDimension('depths', 40)\n",
    "g.createDimension('days',365)\n",
    "ts = g.createVariable('T_timeseries','f4',('depths','days'))\n",
    "ts[:] = PLACES_withdat['Northern Baynes']['T_timeseries'][:]\n",
    "ts = g.createVariable('S_timeseries','f4',('depths','days'))\n",
    "ts[:] = PLACES_withdat['Northern Baynes']['S_timeseries'][:]\n",
    "\n",
    "g = f.createGroup('Fanny Bay')\n",
    "g.createDimension('depths', 40)\n",
    "g.createDimension('days',365)\n",
    "ts = g.createVariable('T_timeseries','f4',('depths','days'))\n",
    "ts[:] = PLACES_withdat['Fanny Bay']['T_timeseries'][:]\n",
    "ts = g.createVariable('S_timeseries','f4',('depths','days'))\n",
    "ts[:] = PLACES_withdat['Fanny Bay']['S_timeseries'][:]\n",
    "\n",
    "g = f.createGroup('Maple Bay')\n",
    "g.createDimension('depths', 40)\n",
    "g.createDimension('days',365)\n",
    "ts = g.createVariable('T_timeseries','f4',('depths','days'))\n",
    "ts[:] = PLACES_withdat['Maple Bay']['T_timeseries'][:]\n",
    "ts = g.createVariable('S_timeseries','f4',('depths','days'))\n",
    "ts[:] = PLACES_withdat['Maple Bay']['S_timeseries'][:]\n",
    "\n",
    "g = f.createGroup('Salt Spring')\n",
    "g.createDimension('depths', 40)\n",
    "g.createDimension('days',365)\n",
    "ts = g.createVariable('T_timeseries','f4',('depths','days'))\n",
    "ts[:] = PLACES_withdat['Salt Spring']['T_timeseries'][:]\n",
    "ts = g.createVariable('S_timeseries','f4',('depths','days'))\n",
    "ts[:] = PLACES_withdat['Salt Spring']['S_timeseries'][:]\n",
    "\n",
    "g = f.createGroup('Nanoose Bay')\n",
    "g.createDimension('depths', 40)\n",
    "g.createDimension('days',365)\n",
    "ts = g.createVariable('T_timeseries','f4',('depths','days'))\n",
    "ts[:] = PLACES_withdat['Nanoose Bay']['T_timeseries'][:]\n",
    "ts = g.createVariable('S_timeseries','f4',('depths','days'))\n",
    "ts[:] = PLACES_withdat['Nanoose Bay']['S_timeseries'][:]\n",
    "\n",
    "g = f.createGroup('Lasqueti Island')\n",
    "g.createDimension('depths', 40)\n",
    "g.createDimension('days',365)\n",
    "ts = g.createVariable('T_timeseries','f4',('depths','days'))\n",
    "ts[:] = PLACES_withdat['Lasqueti Island']['T_timeseries'][:]\n",
    "ts = g.createVariable('S_timeseries','f4',('depths','days'))\n",
    "ts[:] = PLACES_withdat['Lasqueti Island']['S_timeseries'][:]\n",
    "\n",
    "g = f.createGroup('Main SoG')\n",
    "g.createDimension('depths', 40)\n",
    "g.createDimension('days',365)\n",
    "ts = g.createVariable('T_timeseries','f4',('depths','days'))\n",
    "ts[:] = PLACES_withdat['Main SoG']['T_timeseries'][:]\n",
    "ts = g.createVariable('S_timeseries','f4',('depths','days'))\n",
    "ts[:] = PLACES_withdat['Main SoG']['S_timeseries'][:]\n",
    "\n",
    "g = f.createGroup('Cortes/Marina')\n",
    "g.createDimension('depths', 40)\n",
    "g.createDimension('days',365)\n",
    "ts = g.createVariable('T_timeseries','f4',('depths','days'))\n",
    "ts[:] = PLACES_withdat['Cortes/Marina']['T_timeseries'][:]\n",
    "ts = g.createVariable('S_timeseries','f4',('depths','days'))\n",
    "ts[:] = PLACES_withdat['Cortes/Marina']['S_timeseries'][:]\n",
    "\n",
    "g = f.createGroup('Lund/Desolation Sound')\n",
    "g.createDimension('depths', 40)\n",
    "g.createDimension('days',365)\n",
    "ts = g.createVariable('T_timeseries','f4',('depths','days'))\n",
    "ts[:] = PLACES_withdat['Lund/Desolation Sound']['T_timeseries'][:]\n",
    "ts = g.createVariable('S_timeseries','f4',('depths','days'))\n",
    "ts[:] = PLACES_withdat['Lund/Desolation Sound']['S_timeseries'][:]\n",
    "\n",
    "g = f.createGroup('Mouth of Okeover')\n",
    "g.createDimension('depths', 40)\n",
    "g.createDimension('days',365)\n",
    "ts = g.createVariable('T_timeseries','f4',('depths','days'))\n",
    "ts[:] = PLACES_withdat['Mouth of Okeover']['T_timeseries'][:]\n",
    "ts = g.createVariable('S_timeseries','f4',('depths','days'))\n",
    "ts[:] = PLACES_withdat['Mouth of Okeover']['S_timeseries'][:]\n",
    "\n",
    "f.close()"
   ]
  },
  {
   "cell_type": "code",
   "execution_count": 9,
   "metadata": {},
   "outputs": [
    {
     "name": "stdout",
     "output_type": "stream",
     "text": [
      "done, yo\n"
     ]
    }
   ],
   "source": [
    "print('done, yo')"
   ]
  }
 ],
 "metadata": {
  "kernelspec": {
   "display_name": "Python 3",
   "language": "python",
   "name": "python3"
  },
  "language_info": {
   "codemirror_mode": {
    "name": "ipython",
    "version": 3
   },
   "file_extension": ".py",
   "mimetype": "text/x-python",
   "name": "python",
   "nbconvert_exporter": "python",
   "pygments_lexer": "ipython3",
   "version": "3.6.0"
  }
 },
 "nbformat": 4,
 "nbformat_minor": 2
}
