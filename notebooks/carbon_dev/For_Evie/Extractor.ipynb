{
 "cells": [
  {
   "cell_type": "code",
   "execution_count": 1,
   "metadata": {
    "collapsed": true
   },
   "outputs": [],
   "source": [
    "import datetime as dt\n",
    "import subprocess\n",
    "import numpy as np\n",
    "import os\n",
    "import placesEvie as places\n",
    "import glob\n",
    "import time\n",
    "import sys\n",
    "import arrow\n",
    "import gsw"
   ]
  },
  {
   "cell_type": "code",
   "execution_count": 5,
   "metadata": {
    "collapsed": true
   },
   "outputs": [],
   "source": [
    "# # load one of the netcdf files. You will need to replace the path below with the path to the file on your system. \n",
    "# # If the file is in the same directory as your notebook, you should be able to load using only the name of the file:\n",
    "# # f1=nc.Dataset('ts_prodHC201812_2015_CortesMarina.nc')\n",
    "# f=nc.Dataset('/data/eolson/results/MEOPAR/SS36runs/calcFiles/prodForEvie/filesForEvie/ts_prodHC201812_2015_CortesMarina.nc')\n"
   ]
  },
  {
   "cell_type": "code",
   "execution_count": 12,
   "metadata": {},
   "outputs": [
    {
     "data": {
      "text/plain": [
       "(732, 157)"
      ]
     },
     "execution_count": 12,
     "metadata": {},
     "output_type": "execute_result"
    }
   ],
   "source": [
    "places.PLACES['Cortes/Marina']['NEMO grid ji']"
   ]
  },
  {
   "cell_type": "code",
   "execution_count": 14,
   "metadata": {},
   "outputs": [
    {
     "data": {
      "text/plain": [
       "{'Cortes/Marina': {'NEMO grid ji': (732, 157),\n",
       "  'lon lat': (-125.0194, 50.0418)},\n",
       " 'Deep Bay': {'NEMO grid ji': (599, 126), 'lon lat': (-124.7392, 49.4606)},\n",
       " 'Fanny Bay': {'NEMO grid ji': (614, 120), 'lon lat': (-124.8227, 49.5086)},\n",
       " 'Lasqueti Island': {'NEMO grid ji': (586, 195),\n",
       "  'lon lat': (-124.3384, 49.5442)},\n",
       " 'Lund/Desolation Sound': {'NEMO grid ji': (702, 187),\n",
       "  'lon lat': (-124.7666, 49.9804)},\n",
       " 'Main SoG': {'NEMO grid ji': (450, 253), 'lon lat': (-123.5832, 49.1177)},\n",
       " 'Maple Bay': {'NEMO grid ji': (392, 213), 'lon lat': (-123.5947, 48.814)},\n",
       " 'Mouth of Okeover': {'NEMO grid ji': (726, 192),\n",
       "  'lon lat': (-124.8174, 50.0805)},\n",
       " 'Nanoose Bay': {'NEMO grid ji': (517, 190), 'lon lat': (-124.1359, 49.2609)},\n",
       " 'Northern Baynes': {'NEMO grid ji': (646, 127),\n",
       "  'lon lat': (-124.8924, 49.6492)},\n",
       " 'Salt Spring': {'NEMO grid ji': (386, 218), 'lon lat': (-123.5513, 48.7993)},\n",
       " 'Southern Baynes': {'NEMO grid ji': (602, 127),\n",
       "  'lon lat': (-124.7457, 49.476)}}"
      ]
     },
     "execution_count": 14,
     "metadata": {},
     "output_type": "execute_result"
    }
   ],
   "source": [
    "plcnames = ['Cortes/Marina','Deep Bay','Fanny Bay','Lasqueti Island','Lund/Desolation Sound',\\\n",
    "           'Main SoG','Maple Bay','Mouth of Okeover','Nanoose Bay','Northern Baynes',\\\n",
    "           'Salt Spring','Southern Baynes']\n",
    "\n",
    "\n"
   ]
  },
  {
   "cell_type": "code",
   "execution_count": 19,
   "metadata": {
    "collapsed": true
   },
   "outputs": [],
   "source": [
    "start = '2015-01-01'\n",
    "end = '2015-12-31'\n",
    "\n",
    "start_run = arrow.get(start)\n",
    "end_run = arrow.get(end)\n",
    "arrow_array = []\n",
    "date_array = []\n",
    "for r in arrow.Arrow.span_range('day', start_run, end_run):\n",
    "    arrow_array.append(r)\n",
    "\n",
    "#print('days: '+str(len(arrow_array)))\n",
    "dayslen = len(arrow_array)\n",
    "\n",
    "for i in range(0,dayslen):\n",
    "    tdate = arrow_array[i][0]\n",
    "    ddmmmyy = tdate.format('YYYYMMDD').lower()\n",
    "    date_array.append(ddmmmyy)\n",
    "    \n",
    "    "
   ]
  },
  {
   "cell_type": "code",
   "execution_count": 41,
   "metadata": {},
   "outputs": [
    {
     "name": "stdout",
     "output_type": "stream",
     "text": [
      "157\n"
     ]
    }
   ],
   "source": []
  },
  {
   "cell_type": "code",
   "execution_count": 69,
   "metadata": {},
   "outputs": [
    {
     "name": "stdout",
     "output_type": "stream",
     "text": [
      "Cortes/Marina\n",
      "0\n",
      "Deep Bay\n",
      "0\n",
      "Fanny Bay\n",
      "0\n",
      "Lasqueti Island\n",
      "0\n",
      "Lund/Desolation Sound\n",
      "0\n",
      "Main SoG\n",
      "0\n",
      "Maple Bay\n",
      "0\n",
      "Mouth of Okeover\n",
      "0\n",
      "Nanoose Bay\n",
      "0\n",
      "Northern Baynes\n",
      "0\n",
      "Salt Spring\n",
      "0\n",
      "Southern Baynes\n",
      "0\n"
     ]
    }
   ],
   "source": [
    "import datetime as dt\n",
    "import subprocess\n",
    "import numpy as np\n",
    "import os\n",
    "import placesEvie as places\n",
    "import glob\n",
    "import time\n",
    "import sys\n",
    "import arrow\n",
    "\n",
    "start = '2015-01-01'\n",
    "end = '2015-12-31'\n",
    "\n",
    "start_run = arrow.get(start)\n",
    "end_run = arrow.get(end)\n",
    "arrow_array = []\n",
    "date_array = []\n",
    "for r in arrow.Arrow.span_range('day', start_run, end_run):\n",
    "    arrow_array.append(r)\n",
    "\n",
    "#print('days: '+str(len(arrow_array)))\n",
    "dayslen = len(arrow_array)\n",
    "\n",
    "for i in range(0,dayslen):\n",
    "    tdate = arrow_array[i][0]\n",
    "    ddmmmyy = tdate.format('YYYYMMDD').lower()\n",
    "    date_array.append(ddmmmyy)\n",
    "\n",
    "plcnames = ['Cortes/Marina','Deep Bay','Fanny Bay','Lasqueti Island','Lund/Desolation Sound',\\\n",
    "           'Main SoG','Maple Bay','Mouth of Okeover','Nanoose Bay','Northern Baynes',\\\n",
    "           'Salt Spring','Southern Baynes']\n",
    "\n",
    "plcnamesf = ['CortesMarina','DeepBay','FannyBay','LasquetiIsland','LundDesolation Sound',\\\n",
    "           'MainSoG','MapleBay','MouthofOkeover','NanooseBay','NorthernBaynes',\\\n",
    "           'SaltSpring','SouthernBaynes']\n",
    "\n",
    "\n",
    "for p in range(0,len(plcnames)):\n",
    "    \n",
    "    tplc = plcnames[p]\n",
    "    tplcf = plcnamesf[p]\n",
    "    print(tplc)\n",
    "    \n",
    "    ji = places.PLACES[tplc]['NEMO grid ji']\n",
    "    tj = ji[0]\n",
    "    ti = ji[1]\n",
    "\n",
    "    TA_stor = np.zeros([365,40])\n",
    "    DIC_stor = np.zeros([365,40])\n",
    "    SAL_stor = np.zeros([365,40])\n",
    "    TEMP_stor = np.zeros([365,40])\n",
    "\n",
    "    for i in range(0,len(date_array)):\n",
    "        ymd = date_array[i]\n",
    "        if i % 50 == 0:\n",
    "            print(i)\n",
    "        sdir = '/data/tjarniko/results/BR_1st_2015/ncs/'\n",
    "        carp = sdir + '/SKOG_1d_*'+ 'carp_T_' + ymd + '-' + ymd + '.nc'\n",
    "        grid = sdir + '/SKOG_1d_*'+ 'grid_T_' + ymd + '-' + ymd + '.nc'\n",
    "        tcarp = glob.glob(carp)\n",
    "        tgrid = glob.glob(grid)\n",
    "        carpnc = nc.Dataset(tcarp[0])\n",
    "        gridnc = nc.Dataset(tgrid[0])\n",
    "        TA = carpnc.variables['total_alkalinity']\n",
    "        DIC = carpnc.variables['dissolved_inorganic_carbon']\n",
    "        TEMP = gridnc.variables['votemper']\n",
    "        SAL = gridnc.variables['vosaline']\n",
    "\n",
    "        loc_ta = (TA[0,:,tj,ti])\n",
    "        loc_dic = (DIC[0,:,tj,ti])\n",
    "        loc_temp = TEMP[0,:,tj,ti]\n",
    "        loc_sal = SAL[0,:,tj,ti]\n",
    "\n",
    "        TA_stor[i,:] = loc_ta\n",
    "        DIC_stor[i,:] = loc_dic\n",
    "        TEMP_stor[i,:] = loc_temp\n",
    "        SAL_stor[i,:] = loc_sal\n",
    "\n",
    "    ncname = tplcf + '_2015TS.nc'\n",
    "    f = nc.Dataset(ncname,'w', format='NETCDF4') #'w' stands for write\n",
    "    g = f.createGroup('model_output')\n",
    "    #g.createDimension('days', len(NO3_mod))\n",
    "    g.createDimension('days', 365)\n",
    "    g.createDimension('depths', 40)\n",
    "    ts = g.createVariable('local_TA','f4',('days','depths'))\n",
    "    ts[:] = TA_stor\n",
    "    ts2 = g.createVariable('local_DIC','f4',('days','depths'))\n",
    "    ts2[:] = DIC_stor\n",
    "    ts3 = g.createVariable('local_TEMP','f4',('days','depths'))\n",
    "    ts3[:] = TEMP_stor\n",
    "    ts4 = g.createVariable('local_SAL','f4',('days','depths'))\n",
    "    ts4[:] = SAL_stor\n",
    "    f.close()"
   ]
  },
  {
   "cell_type": "code",
   "execution_count": 62,
   "metadata": {},
   "outputs": [
    {
     "name": "stdout",
     "output_type": "stream",
     "text": [
      "[  1.00000002e+20   1.00000002e+20   1.00000002e+20   1.00000002e+20\n",
      "   1.00000002e+20   1.00000002e+20   1.00000002e+20   1.00000002e+20\n",
      "   1.00000002e+20   1.00000002e+20   1.00000002e+20   1.00000002e+20\n",
      "   1.00000002e+20   1.00000002e+20   1.00000002e+20   1.00000002e+20\n",
      "   1.00000002e+20   1.00000002e+20   1.00000002e+20   1.00000002e+20\n",
      "   1.00000002e+20   1.00000002e+20   1.00000002e+20   1.00000002e+20\n",
      "   1.00000002e+20   1.00000002e+20   1.00000002e+20   1.00000002e+20\n",
      "   1.00000002e+20   1.00000002e+20   1.00000002e+20   1.00000002e+20\n",
      "   1.00000002e+20   1.00000002e+20   1.00000002e+20   1.00000002e+20\n",
      "   1.00000002e+20   1.00000002e+20   1.00000002e+20   1.00000002e+20]\n"
     ]
    }
   ],
   "source": [
    "w = nc.Dataset('Cortes_2015TS.nc')\n",
    "t = w['model_output']['mod_point'][:]\n",
    "print(t[0,:])"
   ]
  },
  {
   "cell_type": "code",
   "execution_count": 38,
   "metadata": {
    "collapsed": true
   },
   "outputs": [],
   "source": [
    "\n",
    "TA_stor = np.zeros([365,40,1,1])\n",
    "w = nc.Dataset(tnc_sens[0])\n"
   ]
  },
  {
   "cell_type": "code",
   "execution_count": 31,
   "metadata": {},
   "outputs": [
    {
     "name": "stdout",
     "output_type": "stream",
     "text": [
      "<class 'netCDF4._netCDF4.Dataset'>\n",
      "root group (NETCDF4 data model, file format HDF5):\n",
      "    name: SalishSea_1h_20150101_20150110\n",
      "    description: smelt diagnostics A\n",
      "    title: smelt diagnostics A\n",
      "    Conventions: CF-1.6\n",
      "    timeStamp: 2018-Dec-27 15:30:25 GMT\n",
      "    uuid: d2d18be9-7e6b-4445-be1c-6c9293dc4db2\n",
      "    history: Fri Mar  1 16:56:41 2019: ncrcat /data/eolson/MEOPAR/SS36runs/calcFiles/prodForEvie/temp/ts_prodHC201812_2015_CortesMarina_0.nc /data/eolson/MEOPAR/SS36runs/calcFiles/prodForEvie/temp/ts_prodHC201812_2015_CortesMarina_1.nc /data/eolson/MEOPAR/SS36runs/calcFiles/prodForEvie/temp/ts_prodHC201812_2015_CortesMarina_2.nc /data/eolson/MEOPAR/SS36runs/calcFiles/prodForEvie/temp/ts_prodHC201812_2015_CortesMarina_3.nc /data/eolson/MEOPAR/SS36runs/calcFiles/prodForEvie/temp/ts_prodHC201812_2015_CortesMarina_4.nc /data/eolson/MEOPAR/SS36runs/calcFiles/prodForEvie/temp/ts_prodHC201812_2015_CortesMarina_5.nc /data/eolson/MEOPAR/SS36runs/calcFiles/prodForEvie/temp/ts_prodHC201812_2015_CortesMarina_6.nc /data/eolson/MEOPAR/SS36runs/calcFiles/prodForEvie/temp/ts_prodHC201812_2015_CortesMarina_7.nc /data/eolson/MEOPAR/SS36runs/calcFiles/prodForEvie/temp/ts_prodHC201812_2015_CortesMarina_8.nc /data/eolson/MEOPAR/SS36runs/calcFiles/prodForEvie/temp/ts_prodHC201812_2015_CortesMarina_9.nc /data/eolson/MEOPAR/SS36runs/calcFiles/prodForEvie/temp/ts_prodHC201812_2015_CortesMarina_10.nc /data/eolson/MEOPAR/SS36runs/calcFiles/prodForEvie/temp/ts_prodHC201812_2015_CortesMarina_11.nc /data/eolson/MEOPAR/SS36runs/calcFiles/prodForEvie/temp/ts_prodHC201812_2015_CortesMarina_12.nc /data/eolson/MEOPAR/SS36runs/calcFiles/prodForEvie/temp/ts_prodHC201812_2015_CortesMarina_13.nc /data/eolson/MEOPAR/SS36runs/calcFiles/prodForEvie/temp/ts_prodHC201812_2015_CortesMarina_14.nc /data/eolson/MEOPAR/SS36runs/calcFiles/prodForEvie/temp/ts_prodHC201812_2015_CortesMarina_15.nc /data/eolson/MEOPAR/SS36runs/calcFiles/prodForEvie/temp/ts_prodHC201812_2015_CortesMarina_16.nc /data/eolson/MEOPAR/SS36runs/calcFiles/prodForEvie/temp/ts_prodHC201812_2015_CortesMarina_17.nc /data/eolson/MEOPAR/SS36runs/calcFiles/prodForEvie/temp/ts_prodHC201812_2015_CortesMarina_18.nc /data/eolson/MEOPAR/SS36runs/calcFiles/prodForEvie/ts_prodHC201812_2015_CortesMarina.nc\n",
      "Thu Feb 28 23:01:06 2019: ncrcat /data/eolson/MEOPAR/SS36runs/calcFiles/prodForEvie/temp/ptrc20150101-20150101CortesMarina.nc /data/eolson/MEOPAR/SS36runs/calcFiles/prodForEvie/temp/ptrc20150102-20150102CortesMarina.nc /data/eolson/MEOPAR/SS36runs/calcFiles/prodForEvie/temp/ptrc20150103-20150103CortesMarina.nc /data/eolson/MEOPAR/SS36runs/calcFiles/prodForEvie/temp/ptrc20150104-20150104CortesMarina.nc /data/eolson/MEOPAR/SS36runs/calcFiles/prodForEvie/temp/ptrc20150105-20150105CortesMarina.nc /data/eolson/MEOPAR/SS36runs/calcFiles/prodForEvie/temp/ptrc20150106-20150106CortesMarina.nc /data/eolson/MEOPAR/SS36runs/calcFiles/prodForEvie/temp/ptrc20150107-20150107CortesMarina.nc /data/eolson/MEOPAR/SS36runs/calcFiles/prodForEvie/temp/ptrc20150108-20150108CortesMarina.nc /data/eolson/MEOPAR/SS36runs/calcFiles/prodForEvie/temp/ptrc20150109-20150109CortesMarina.nc /data/eolson/MEOPAR/SS36runs/calcFiles/prodForEvie/temp/ptrc20150110-20150110CortesMarina.nc /data/eolson/MEOPAR/SS36runs/calcFiles/prodForEvie/temp/ptrc20150111-20150111CortesMarina.nc /data/eolson/MEOPAR/SS36runs/calcFiles/prodForEvie/temp/ptrc20150112-20150112CortesMarina.nc /data/eolson/MEOPAR/SS36runs/calcFiles/prodForEvie/temp/ptrc20150113-20150113CortesMarina.nc /data/eolson/MEOPAR/SS36runs/calcFiles/prodForEvie/temp/ptrc20150114-20150114CortesMarina.nc /data/eolson/MEOPAR/SS36runs/calcFiles/prodForEvie/temp/ptrc20150115-20150115CortesMarina.nc /data/eolson/MEOPAR/SS36runs/calcFiles/prodForEvie/temp/ptrc20150116-20150116CortesMarina.nc /data/eolson/MEOPAR/SS36runs/calcFiles/prodForEvie/temp/ptrc20150117-20150117CortesMarina.nc /data/eolson/MEOPAR/SS36runs/calcFiles/prodForEvie/temp/ptrc20150118-20150118CortesMarina.nc /data/eolson/MEOPAR/SS36runs/calcFiles/prodForEvie/temp/ptrc20150119-20150119CortesMarina.nc /data/eolson/MEOPAR/SS36runs/calcFiles/prodForEvie/temp/ptrc20150120-20150120CortesMarina.nc /data/eolson/MEOPAR/SS36runs/calcFiles/prodForEvie/temp/ts_prodHC201812_2015_CortesMarina_0.nc\n",
      "Thu Feb 28 22:25:48 2019: ncks -d x,157 -d y,732 /data/eolson/MEOPAR/SS36runs/calcFiles/prodForEvie/temp/ptrc20150101-20150101.nc /data/eolson/MEOPAR/SS36runs/calcFiles/prodForEvie/temp/ptrc20150101-20150101CortesMarina.nc\n",
      "Thu Feb 28 22:04:14 2019: ncks -A -v vosaline,votemper /data/eolson/MEOPAR/SS36runs/linkHC201812/01jan15/SalishSea_1h_20150101_20150101_grid_T.nc /data/eolson/MEOPAR/SS36runs/calcFiles/prodForEvie/temp/ptrc20150101-20150101.nc\n",
      "Thu Feb 28 22:01:41 2019: ncks -A -v e3t /data/eolson/MEOPAR/SS36runs/linkHC201812/01jan15/SalishSea_1h_20150101_20150101_carp_T.nc /data/eolson/MEOPAR/SS36runs/calcFiles/prodForEvie/temp/ptrc20150101-20150101.nc\n",
      "    history_of_appended_files: Thu Feb 28 22:04:14 2019: Appended file /data/eolson/MEOPAR/SS36runs/linkHC201812/01jan15/SalishSea_1h_20150101_20150101_grid_T.nc had no \"history\" attribute\n",
      "Thu Feb 28 22:01:41 2019: Appended file /data/eolson/MEOPAR/SS36runs/linkHC201812/01jan15/SalishSea_1h_20150101_20150101_carp_T.nc had no \"history\" attribute\n",
      "\n",
      "    NCO: 4.7.3\n",
      "    nco_openmp_thread_number: 1\n",
      "    dimensions(sizes): time_counter(8760), deptht(40), y(1), x(1), nvertex(4), axis_nbounds(2)\n",
      "    variables(dimensions): float32 \u001b[4mPPDIAT\u001b[0m(time_counter,deptht,y,x), float32 \u001b[4mPPDIATNO3\u001b[0m(time_counter,deptht,y,x), float32 \u001b[4mPPMRUB\u001b[0m(time_counter,deptht,y,x), float32 \u001b[4mPPMRUBNO3\u001b[0m(time_counter,deptht,y,x), float32 \u001b[4mPPPHY\u001b[0m(time_counter,deptht,y,x), float32 \u001b[4mPPPHYNO3\u001b[0m(time_counter,deptht,y,x), float32 \u001b[4mTQ10\u001b[0m(time_counter,deptht,y,x), float32 \u001b[4marea\u001b[0m(y,x), float32 \u001b[4mbounds_lat\u001b[0m(y,x,nvertex), float32 \u001b[4mbounds_lon\u001b[0m(y,x,nvertex), float32 \u001b[4mdeptht\u001b[0m(deptht), float32 \u001b[4mdeptht_bounds\u001b[0m(deptht,axis_nbounds), float32 \u001b[4me3t\u001b[0m(time_counter,deptht,y,x), float32 \u001b[4mnav_lat\u001b[0m(y,x), float32 \u001b[4mnav_lon\u001b[0m(y,x), float64 \u001b[4mtime_centered\u001b[0m(time_counter), float64 \u001b[4mtime_centered_bounds\u001b[0m(time_counter,axis_nbounds), float64 \u001b[4mtime_counter\u001b[0m(time_counter), float64 \u001b[4mtime_counter_bounds\u001b[0m(time_counter,axis_nbounds), float32 \u001b[4mvosaline\u001b[0m(time_counter,deptht,y,x), float32 \u001b[4mvotemper\u001b[0m(time_counter,deptht,y,x)\n",
      "    groups: \n",
      "\n"
     ]
    }
   ],
   "source": [
    "f=nc.Dataset('/data/eolson/results/MEOPAR/SS36runs/calcFiles/prodForEvie/filesForEvie/ts_prodHC201812_2015_CortesMarina.nc')\n",
    "print(f)"
   ]
  },
  {
   "cell_type": "code",
   "execution_count": 70,
   "metadata": {
    "collapsed": true
   },
   "outputs": [],
   "source": [
    "def oned_moxy(tsal, ttemp, tdic, tta, pres_atm, depth_this):\n",
    "    \n",
    "#     tsal = grid.variables['vosaline'][0,0,:,:]\n",
    "#     ttemp = grid.variables['votemper'][0,0,:,:]\n",
    "#     tdic = carp.variables['dissolved_inorganic_carbon'][0,0,:,:]\n",
    "#     tta = carp.variables['total_alkalinity'][0,0,:,:]\n",
    "\n",
    "    size_box = np.shape(tdic)\n",
    "    size_0 = size_box[0]\n",
    "    size_1= size_box[1]\n",
    "\n",
    "    tsra = np.ravel(tsal)\n",
    "    ttera = np.ravel(ttemp)\n",
    "    ttara = np.ravel(tta) * 1e-3\n",
    "    tdra = np.ravel(tdic) * 1e-3\n",
    "    tzero = np.zeros_like(tsra)\n",
    "    tpressure = np.zeros_like(tsra)\n",
    "    tdepth = np.zeros_like(tsra)\n",
    "    tpressure[:] = pres_atm\n",
    "    tdepth[:] = depth_this\n",
    "    tzero = tpressure * 0 \n",
    "        \n",
    "    tsra_psu = tsra*35/35.16504\n",
    "    ttera_is = gsw.t_from_CT(tsra,ttera,tzero)\n",
    "\n",
    "    response_tup = mocsy.mvars(temp=ttera_is, sal=tsra_psu, alk=ttara, dic=tdra, \n",
    "                       sil=tzero, phos=tzero, patm=tpressure, depth=tdepth, lat=tzero, \n",
    "                        optcon='mol/m3', optt='Tinsitu', optp='m',\n",
    "                        optb = 'l10', optk1k2='m10', optkf = 'dg', optgas = 'Pinsitu')\n",
    "    pH,pco2,fco2,co2,hco3,co3,OmegaA,OmegaC,BetaD,DENis,p,Tis = response_tup\n",
    "\n",
    "    pHr = pH.reshape(size_0,size_1)\n",
    "    OmAr = OmegaA.reshape(size_0,size_1)\n",
    "    pco2r = pco2.reshape(size_0,size_1)\n",
    "    \n",
    "    return pHr, OmAr, pco2r"
   ]
  },
  {
   "cell_type": "code",
   "execution_count": 72,
   "metadata": {
    "collapsed": true
   },
   "outputs": [],
   "source": [
    "w = nc.Dataset('/data/tjarniko/results/BR_1st_2015/ncs/SKOG_1d_20151127_20151231_ptrc_T_20151231-20151231.nc')"
   ]
  },
  {
   "cell_type": "code",
   "execution_count": 77,
   "metadata": {},
   "outputs": [
    {
     "name": "stdout",
     "output_type": "stream",
     "text": [
      "[   0.5000003     1.5000031     2.50001144    3.50003052    4.50007057\n",
      "    5.50015068    6.50031042    7.50062323    8.50123596    9.50243282\n",
      "   10.50476551   11.50931168   12.51816654   13.53541183   14.56898212\n",
      "   15.63428783   16.76117325   18.00713539   19.48178482   21.38997841\n",
      "   24.10025597   28.22991562   34.68575668   44.51772308   58.48433304\n",
      "   76.58558655   98.06295776  121.86651611  147.08946228  173.11448669\n",
      "  199.57304382  226.26029968  253.06663513  279.93453979  306.834198\n",
      "  333.75018311  360.67453003  387.60321045  414.53408813  441.46609497]\n"
     ]
    }
   ],
   "source": [
    "print(w['deptht'][:])"
   ]
  },
  {
   "cell_type": "code",
   "execution_count": 78,
   "metadata": {
    "collapsed": true
   },
   "outputs": [],
   "source": [
    "t = nc.Dataset('/data/tjarniko/MEOPAR/at3/notebooks/carbon_dev/For_Evie/FannyBay_2015TS.nc')"
   ]
  },
  {
   "cell_type": "code",
   "execution_count": 85,
   "metadata": {
    "collapsed": true
   },
   "outputs": [],
   "source": [
    "ta = t['model_output']['local_TA']\n",
    "dic = t['model_output']['local_DIC']"
   ]
  },
  {
   "cell_type": "code",
   "execution_count": 86,
   "metadata": {},
   "outputs": [
    {
     "data": {
      "text/plain": [
       "[<matplotlib.lines.Line2D at 0x7f81fdcb0128>]"
      ]
     },
     "execution_count": 86,
     "metadata": {},
     "output_type": "execute_result"
    },
    {
     "data": {
      "image/png": "[encoded data removed]",
      "text/plain": [
       "<matplotlib.figure.Figure at 0x7f81fdd29d30>"
      ]
     },
     "metadata": {},
     "output_type": "display_data"
    }
   ],
   "source": [
    "plt.plot(dic[:,0])"
   ]
  },
  {
   "cell_type": "code",
   "execution_count": 87,
   "metadata": {},
   "outputs": [
    {
     "data": {
      "text/plain": [
       "[<matplotlib.lines.Line2D at 0x7f81fdc47a90>]"
      ]
     },
     "execution_count": 87,
     "metadata": {},
     "output_type": "execute_result"
    },
    {
     "data": {
      "image/png": "[encoded data removed]",
      "text/plain": [
       "<matplotlib.figure.Figure at 0x7f820049ddd8>"
      ]
     },
     "metadata": {},
     "output_type": "display_data"
    }
   ],
   "source": [
    "plt.plot(ta[:,0])"
   ]
  },
  {
   "cell_type": "code",
   "execution_count": 88,
   "metadata": {},
   "outputs": [
    {
     "ename": "SyntaxError",
     "evalue": "invalid syntax (<ipython-input-88-3c874bf90070>, line 3)",
     "output_type": "error",
     "traceback": [
      "\u001b[0;36m  File \u001b[0;32m\"<ipython-input-88-3c874bf90070>\"\u001b[0;36m, line \u001b[0;32m3\u001b[0m\n\u001b[0;31m    w = nc.Dataset'/data/tjarniko/MEOPAR/at3/notebooks/carbon_dev/For_Evie/MainSoG_2015TS.nc'\u001b[0m\n\u001b[0m                                                                                            ^\u001b[0m\n\u001b[0;31mSyntaxError\u001b[0m\u001b[0;31m:\u001b[0m invalid syntax\n"
     ]
    }
   ],
   "source": [
    "plcnamesf = ['CortesMarina','DeepBay','FannyBay','LasquetiIsland','LundDesolation Sound',\\\n",
    "           'MainSoG','MapleBay','MouthofOkeover','NanooseBay','NorthernBaynes',\\\n",
    "           'SaltSpring','SouthernBaynes']\n",
    "\n",
    "w = nc.Dataset('/data/tjarniko/MEOPAR/at3/notebooks/carbon_dev/For_Evie/MainSoG_2015TS.nc')"
   ]
  },
  {
   "cell_type": "code",
   "execution_count": 92,
   "metadata": {},
   "outputs": [
    {
     "name": "stdout",
     "output_type": "stream",
     "text": [
      "<class 'netCDF4._netCDF4.Variable'>\n",
      "float32 local_TA(days, depths)\n",
      "path = /model_output\n",
      "unlimited dimensions: \n",
      "current shape = (365, 40)\n",
      "filling on, default _FillValue of 9.969209968386869e+36 used\n",
      "\n"
     ]
    }
   ],
   "source": [
    "w = nc.Dataset('/data/tjarniko/MEOPAR/at3/notebooks/carbon_dev/For_Evie/MainSoG_2015TS.nc')\n",
    "print(w['model_output']['local_TA'])"
   ]
  },
  {
   "cell_type": "code",
   "execution_count": 95,
   "metadata": {
    "collapsed": true
   },
   "outputs": [],
   "source": [
    "TA = w['model_output']['local_TA'][:]\n"
   ]
  },
  {
   "cell_type": "code",
   "execution_count": null,
   "metadata": {
    "collapsed": true
   },
   "outputs": [],
   "source": []
  }
 ],
 "metadata": {
  "kernelspec": {
   "display_name": "Python 3",
   "language": "python",
   "name": "python3"
  },
  "language_info": {
   "codemirror_mode": {
    "name": "ipython",
    "version": 3
   },
   "file_extension": ".py",
   "mimetype": "text/x-python",
   "name": "python",
   "nbconvert_exporter": "python",
   "pygments_lexer": "ipython3",
   "version": "3.6.0"
  }
 },
 "nbformat": 4,
 "nbformat_minor": 2
}
