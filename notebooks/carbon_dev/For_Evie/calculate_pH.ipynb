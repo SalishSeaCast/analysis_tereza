{
 "cells": [
  {
   "cell_type": "code",
   "execution_count": 1,
   "metadata": {
    "collapsed": true
   },
   "outputs": [],
   "source": [
    "import datetime as dt\n",
    "import subprocess\n",
    "import numpy as np\n",
    "import os\n",
    "import placesEvie as places\n",
    "import glob\n",
    "import time\n",
    "import sys\n",
    "import arrow\n",
    "import netCDF4 as nc\n",
    "import sys\n",
    "sys.path.append('/data/tjarniko/mocsy')\n",
    "sys.path.append('/data/tjarniko/MEOPAR/at3/notebooks/carbon_dev/VIZ')\n",
    "import mocsy\n",
    "import numpy as np\n",
    "import gsw\n",
    "import matplotlib.pyplot as plt\n",
    "import seawater as sw\n",
    "import netCDF4 as nc\n",
    "%matplotlib inline"
   ]
  },
  {
   "cell_type": "code",
   "execution_count": 18,
   "metadata": {},
   "outputs": [
    {
     "name": "stdout",
     "output_type": "stream",
     "text": [
      "[0.12753427 0.1391318  0.15112984 0.13797402 0.13824183 0.13600802\n",
      " 0.13638125 0.13448863 0.13117288 0.12316234 0.11501502 0.11273722\n",
      " 0.1099534  0.10876552 0.10590866 0.10308766 0.10051402 0.09800687\n",
      " 0.09757241 0.09676868 0.         0.         0.         0.\n",
      " 0.         0.         0.         0.         0.         0.\n",
      " 0.         0.         0.         0.         0.         0.\n",
      " 0.         0.         0.         0.        ]\n"
     ]
    }
   ],
   "source": [
    "# w = nc.Dataset('/data/tjarniko/results/BR_1st_2015/ncs/SKOG_1d_20151127_20151231_ptrc_T_20151231-20151231.nc')\n",
    "# depth = (w['deptht'][:])\n",
    "\n",
    "w2 = nc.Dataset('EVIE_PLACES_ptrc_04jan13.nc')\n",
    "print(w2['Deep Bay']['ciliates_timeseries'][:])"
   ]
  },
  {
   "cell_type": "code",
   "execution_count": 20,
   "metadata": {},
   "outputs": [
    {
     "name": "stdout",
     "output_type": "stream",
     "text": [
      "[4.8108404e-07 5.4236682e-07 5.5249478e-07 5.4630090e-07 5.3945325e-07\n",
      " 5.2414231e-07 5.0650095e-07 4.7647458e-07 4.4662926e-07 4.1792910e-07\n",
      " 3.8889794e-07 3.6772343e-07 3.4163511e-07 3.1922343e-07 2.9757734e-07\n",
      " 2.7042850e-07 2.4909400e-07 2.2584604e-07 2.0220526e-07 1.7608707e-07\n",
      " 0.0000000e+00 0.0000000e+00 0.0000000e+00 0.0000000e+00 0.0000000e+00\n",
      " 0.0000000e+00 0.0000000e+00 0.0000000e+00 0.0000000e+00 0.0000000e+00\n",
      " 0.0000000e+00 0.0000000e+00 0.0000000e+00 0.0000000e+00 0.0000000e+00\n",
      " 0.0000000e+00 0.0000000e+00 0.0000000e+00 0.0000000e+00 0.0000000e+00]\n"
     ]
    }
   ],
   "source": [
    "w2 = nc.Dataset('EVIE_PLACES_prod_01jan13.nc')\n",
    "print(w2['Deep Bay']['PPPHY_timeseries'][:])"
   ]
  },
  {
   "cell_type": "code",
   "execution_count": 19,
   "metadata": {},
   "outputs": [
    {
     "name": "stdout",
     "output_type": "stream",
     "text": [
      "[0.12896843 0.13724056 0.137447   0.13420756 0.13230515 0.13019626\n",
      " 0.1269085  0.12312844 0.11946406 0.11558687 0.11150673 0.11029599\n",
      " 0.10704217 0.10605326 0.10506669 0.10186756 0.09969392 0.09772235\n",
      " 0.09748641 0.09641048 0.         0.         0.         0.\n",
      " 0.         0.         0.         0.         0.         0.\n",
      " 0.         0.         0.         0.         0.         0.\n",
      " 0.         0.         0.         0.        ]\n"
     ]
    }
   ],
   "source": [
    "w2 = nc.Dataset('EVIE_PLACES_ptrc_04jan13.nc')\n",
    "print(w2['Deep Bay']['ciliates_timeseries'][:])"
   ]
  },
  {
   "cell_type": "code",
   "execution_count": 14,
   "metadata": {},
   "outputs": [
    {
     "name": "stdout",
     "output_type": "stream",
     "text": [
      "<class 'netCDF4._netCDF4.Dataset'>\n",
      "root group (NETCDF4 data model, file format HDF5):\n",
      "    name: SalishSea_1d_20160816_20160820\n",
      "    description: smelt diagnostics A\n",
      "    title: smelt diagnostics A\n",
      "    Conventions: CF-1.6\n",
      "    timeStamp: 2019-Sep-29 14:09:25 GMT\n",
      "    uuid: 807d45e0-095f-4320-a432-2a674d9b6bd5\n",
      "    dimensions(sizes): axis_nbounds(2), x(398), y(898), nvertex(4), deptht(40), time_counter(1)\n",
      "    variables(dimensions): float32 \u001b[4mnav_lat\u001b[0m(y,x), float32 \u001b[4mnav_lon\u001b[0m(y,x), float32 \u001b[4mbounds_lon\u001b[0m(y,x,nvertex), float32 \u001b[4mbounds_lat\u001b[0m(y,x,nvertex), float32 \u001b[4marea\u001b[0m(y,x), float32 \u001b[4mdeptht\u001b[0m(deptht), float32 \u001b[4mdeptht_bounds\u001b[0m(deptht,axis_nbounds), float32 \u001b[4mPPDIAT\u001b[0m(time_counter,deptht,y,x), float64 \u001b[4mtime_centered\u001b[0m(time_counter), float64 \u001b[4mtime_centered_bounds\u001b[0m(time_counter,axis_nbounds), float64 \u001b[4mtime_counter\u001b[0m(time_counter), float64 \u001b[4mtime_counter_bounds\u001b[0m(time_counter,axis_nbounds), float32 \u001b[4mPPPHY\u001b[0m(time_counter,deptht,y,x), float32 \u001b[4mPPMRUB\u001b[0m(time_counter,deptht,y,x), float32 \u001b[4mPPDIATNO3\u001b[0m(time_counter,deptht,y,x), float32 \u001b[4mPPPHYNO3\u001b[0m(time_counter,deptht,y,x), float32 \u001b[4mPPMRUBNO3\u001b[0m(time_counter,deptht,y,x), float32 \u001b[4mTQ10\u001b[0m(time_counter,deptht,y,x), float32 \u001b[4mco2_flux_mmol_m2_s\u001b[0m(time_counter,y,x)\n",
      "    groups: \n",
      "\n",
      "<class 'netCDF4._netCDF4.Variable'>\n",
      "float32 ciliates(time_counter, deptht, y, x)\n",
      "    standard_name: mole_concentration_of_mesodinium_rubrum_expressed_as_nitrogen_in_sea_water\n",
      "    long_name: Mesodinium rubrum Concentration\n",
      "    units: mmol m-3\n",
      "    online_operation: average\n",
      "    interval_operation: 40 s\n",
      "    interval_write: 1 h\n",
      "    cell_methods: time: mean (interval: 40 s)\n",
      "    cell_measures: area: area\n",
      "    _FillValue: 1e+20\n",
      "    missing_value: 1e+20\n",
      "    coordinates: time_centered deptht nav_lat nav_lon\n",
      "unlimited dimensions: time_counter\n",
      "current shape = (24, 40, 898, 398)\n",
      "filling on\n"
     ]
    }
   ],
   "source": [
    "resdir = '/results/SalishSea/hindcast.201905/16aug16/'\n",
    "w = nc.Dataset(resdir + 'SalishSea_1d_20160816_20160816_prod_T.nc')\n",
    "print(w)\n",
    "w2 = nc.Dataset(resdir + 'SalishSea_1h_20160816_20160816_ptrc_T.nc')\n",
    "print(w2['ciliates'])"
   ]
  },
  {
   "cell_type": "code",
   "execution_count": 5,
   "metadata": {},
   "outputs": [
    {
     "name": "stdout",
     "output_type": "stream",
     "text": [
      "<class 'netCDF4._netCDF4.Dataset'>\n",
      "root group (NETCDF4 data model, file format HDF5):\n",
      "    name: SalishSea_1d_20160816_20160820\n",
      "    description: smelt diagnostics A\n",
      "    title: smelt diagnostics A\n",
      "    Conventions: CF-1.6\n",
      "    timeStamp: 2019-Sep-29 14:09:25 GMT\n",
      "    uuid: 807d45e0-095f-4320-a432-2a674d9b6bd5\n",
      "    dimensions(sizes): axis_nbounds(2), x(398), y(898), nvertex(4), deptht(40), time_counter(1)\n",
      "    variables(dimensions): float32 \u001b[4mnav_lat\u001b[0m(y,x), float32 \u001b[4mnav_lon\u001b[0m(y,x), float32 \u001b[4mbounds_lon\u001b[0m(y,x,nvertex), float32 \u001b[4mbounds_lat\u001b[0m(y,x,nvertex), float32 \u001b[4marea\u001b[0m(y,x), float32 \u001b[4mdeptht\u001b[0m(deptht), float32 \u001b[4mdeptht_bounds\u001b[0m(deptht,axis_nbounds), float32 \u001b[4mPPDIAT\u001b[0m(time_counter,deptht,y,x), float64 \u001b[4mtime_centered\u001b[0m(time_counter), float64 \u001b[4mtime_centered_bounds\u001b[0m(time_counter,axis_nbounds), float64 \u001b[4mtime_counter\u001b[0m(time_counter), float64 \u001b[4mtime_counter_bounds\u001b[0m(time_counter,axis_nbounds), float32 \u001b[4mPPPHY\u001b[0m(time_counter,deptht,y,x), float32 \u001b[4mPPMRUB\u001b[0m(time_counter,deptht,y,x), float32 \u001b[4mPPDIATNO3\u001b[0m(time_counter,deptht,y,x), float32 \u001b[4mPPPHYNO3\u001b[0m(time_counter,deptht,y,x), float32 \u001b[4mPPMRUBNO3\u001b[0m(time_counter,deptht,y,x), float32 \u001b[4mTQ10\u001b[0m(time_counter,deptht,y,x), float32 \u001b[4mco2_flux_mmol_m2_s\u001b[0m(time_counter,y,x)\n",
      "    groups: \n",
      "\n"
     ]
    }
   ],
   "source": [
    "print(w)"
   ]
  },
  {
   "cell_type": "code",
   "execution_count": 4,
   "metadata": {},
   "outputs": [
    {
     "name": "stdout",
     "output_type": "stream",
     "text": [
      "<class 'netCDF4._netCDF4.Variable'>\n",
      "float32 PPDIAT(time_counter, deptht, y, x)\n",
      "    long_name: Primary production of diatoms\n",
      "    units: mmol N/m3/s\n",
      "    online_operation: average\n",
      "    interval_operation: 40 s\n",
      "    interval_write: 1 d\n",
      "    cell_methods: time: mean (interval: 40 s)\n",
      "    cell_measures: area: area\n",
      "    _FillValue: 1e+20\n",
      "    missing_value: 1e+20\n",
      "    coordinates: time_centered deptht nav_lat nav_lon\n",
      "unlimited dimensions: time_counter\n",
      "current shape = (1, 40, 898, 398)\n",
      "filling on\n"
     ]
    }
   ],
   "source": [
    "print(w['PPDIAT'])"
   ]
  },
  {
   "cell_type": "code",
   "execution_count": 3,
   "metadata": {
    "collapsed": true
   },
   "outputs": [],
   "source": [
    "plcnamesf = ['CortesMarina','DeepBay','FannyBay','LasquetiIsland','LundDesolationSound',\\\n",
    "           'MainSoG','MapleBay','MouthofOkeover','NanooseBay','NorthernBaynes',\\\n",
    "           'SaltSpring','SouthernBaynes']"
   ]
  },
  {
   "cell_type": "code",
   "execution_count": 4,
   "metadata": {
    "collapsed": true
   },
   "outputs": [],
   "source": [
    "def oned_moxy(tsal, ttemp, tdic, tta, pres_atm, depth_this):\n",
    "\n",
    "    size_box = np.shape(tdic)\n",
    "    size_0 = size_box[0]\n",
    "    size_1= size_box[1]\n",
    "\n",
    "    tsra = np.ravel(tsal)\n",
    "    ttera = np.ravel(ttemp)\n",
    "    ttara = np.ravel(tta) * 1e-3\n",
    "    tdra = np.ravel(tdic) * 1e-3\n",
    "    tzero = np.zeros_like(tsra)\n",
    "    tpressure = np.zeros_like(tsra)\n",
    "    tdepth = np.ravel(depth_this)\n",
    "    \n",
    "    tpressure[:] = pres_atm\n",
    "    tzero = tpressure * 0 \n",
    "        \n",
    "    tsra_psu = tsra*35/35.16504\n",
    "    ttera_is = gsw.t_from_CT(tsra,ttera,tzero)\n",
    "\n",
    "    response_tup = mocsy.mvars(temp=ttera_is, sal=tsra_psu, alk=ttara, dic=tdra, \n",
    "                       sil=tzero, phos=tzero, patm=tpressure, depth=tdepth, lat=tzero, \n",
    "                        optcon='mol/m3', optt='Tinsitu', optp='m',\n",
    "                        optb = 'l10', optk1k2='m10', optkf = 'dg', optgas = 'Pinsitu')\n",
    "    pH,pco2,fco2,co2,hco3,co3,OmegaA,OmegaC,BetaD,DENis,p,Tis = response_tup\n",
    "\n",
    "    pHr = pH.reshape(size_0,size_1)\n",
    "    OmAr = OmegaA.reshape(size_0,size_1)\n",
    "    pco2r = pco2.reshape(size_0,size_1)\n",
    "    \n",
    "    return pHr, OmAr, pco2r"
   ]
  },
  {
   "cell_type": "code",
   "execution_count": 5,
   "metadata": {},
   "outputs": [
    {
     "name": "stdout",
     "output_type": "stream",
     "text": [
      "CortesMarina\n",
      "CortesMarina_2015TS.nc\n",
      "DeepBay\n",
      "DeepBay_2015TS.nc\n",
      "FannyBay\n",
      "FannyBay_2015TS.nc\n",
      "LasquetiIsland\n",
      "LasquetiIsland_2015TS.nc\n",
      "LundDesolationSound\n",
      "LundDesolationSound_2015TS.nc\n",
      "MainSoG\n",
      "MainSoG_2015TS.nc\n",
      "MapleBay\n",
      "MapleBay_2015TS.nc\n",
      "MouthofOkeover\n",
      "MouthofOkeover_2015TS.nc\n",
      "NanooseBay\n",
      "NanooseBay_2015TS.nc\n",
      "NorthernBaynes\n",
      "NorthernBaynes_2015TS.nc\n",
      "SaltSpring\n",
      "SaltSpring_2015TS.nc\n",
      "SouthernBaynes\n",
      "SouthernBaynes_2015TS.nc\n"
     ]
    }
   ],
   "source": [
    "for p in range(0,len(plcnamesf)):\n",
    "    tplc = plcnamesf[p]\n",
    "    print(tplc)\n",
    "    t_ncname = tplc + '_2015TS.nc'\n",
    "    print(t_ncname)\n",
    "    t_nc = nc.Dataset(t_ncname)"
   ]
  },
  {
   "cell_type": "code",
   "execution_count": 6,
   "metadata": {
    "collapsed": true
   },
   "outputs": [],
   "source": [
    "t = nc.Dataset('/data/tjarniko/MEOPAR/at3/notebooks/carbon_dev/For_Evie/FannyBay_2015TS.nc')"
   ]
  },
  {
   "cell_type": "code",
   "execution_count": 19,
   "metadata": {},
   "outputs": [
    {
     "name": "stdout",
     "output_type": "stream",
     "text": [
      "(365, 40)\n"
     ]
    }
   ],
   "source": [
    "ta = t['model_output']['local_TA']\n",
    "dic = t['model_output']['local_DIC']\n",
    "sal = t['model_output']['local_SAL']\n",
    "temp = t['model_output']['local_TEMP']\n",
    "depth_ar = np.zeros_like(temp)\n",
    "\n",
    "for i in range(0,365):\n",
    "    depth_ar[i,:] = depth\n",
    "pHr, OmAr, pco2r = oned_moxy(sal, temp, dic, ta, 1, depth_ar)\n",
    "\n",
    "print(pHr.shape)"
   ]
  },
  {
   "cell_type": "code",
   "execution_count": 26,
   "metadata": {},
   "outputs": [
    {
     "data": {
      "text/plain": [
       "array([   0.5000003 ,    1.5000031 ,    2.50001144,    3.50003052,\n",
       "          4.50007057,    5.50015068,    6.50031042,    7.50062323,\n",
       "          8.50123596,    9.50243282,   10.50476551,   11.50931168,\n",
       "         12.51816654,   13.53541183,   14.56898212,   15.63428783,\n",
       "         16.76117325,   18.00713539,   19.48178482,   21.38997841,\n",
       "         24.10025597,   28.22991562,   34.68575668,   44.51772308,\n",
       "         58.48433304,   76.58558655,   98.06295776,  121.86651611,\n",
       "        147.08946228,  173.11448669,  199.57304382,  226.26029968,\n",
       "        253.06663513,  279.93453979,  306.834198  ,  333.75018311,\n",
       "        360.67453003,  387.60321045,  414.53408813,  441.46609497], dtype=float32)"
      ]
     },
     "execution_count": 26,
     "metadata": {},
     "output_type": "execute_result"
    }
   ],
   "source": [
    "depth"
   ]
  },
  {
   "cell_type": "code",
   "execution_count": 9,
   "metadata": {},
   "outputs": [
    {
     "data": {
      "text/plain": [
       "[<matplotlib.lines.Line2D at 0x7f85f24742e8>]"
      ]
     },
     "execution_count": 9,
     "metadata": {},
     "output_type": "execute_result"
    },
    {
     "data": {
      "image/png": "[encoded data removed]",
      "text/plain": [
       "<matplotlib.figure.Figure at 0x7f85f4bb7e48>"
      ]
     },
     "metadata": {},
     "output_type": "display_data"
    }
   ],
   "source": [
    "plt.plot(dic[:,0])"
   ]
  },
  {
   "cell_type": "code",
   "execution_count": 10,
   "metadata": {},
   "outputs": [
    {
     "data": {
      "text/plain": [
       "[<matplotlib.lines.Line2D at 0x7f85f23c0f28>]"
      ]
     },
     "execution_count": 10,
     "metadata": {},
     "output_type": "execute_result"
    },
    {
     "data": {
      "image/png": "[encoded data removed]",
      "text/plain": [
       "<matplotlib.figure.Figure at 0x7f85f4b74c18>"
      ]
     },
     "metadata": {},
     "output_type": "display_data"
    }
   ],
   "source": [
    "plt.plot(OmAr[:,0])"
   ]
  },
  {
   "cell_type": "code",
   "execution_count": 11,
   "metadata": {
    "collapsed": true
   },
   "outputs": [],
   "source": [
    "plcnamesf = ['CortesMarina','DeepBay','FannyBay','LasquetiIsland','LundDesolation Sound',\\\n",
    "           'MainSoG','MapleBay','MouthofOkeover','NanooseBay','NorthernBaynes',\\\n",
    "           'SaltSpring','SouthernBaynes']\n",
    "\n",
    "w = nc.Dataset('/data/tjarniko/MEOPAR/at3/notebooks/carbon_dev/For_Evie/MainSoG_2015TS.nc')"
   ]
  },
  {
   "cell_type": "code",
   "execution_count": 20,
   "metadata": {},
   "outputs": [
    {
     "name": "stdout",
     "output_type": "stream",
     "text": [
      "CortesMarina_2015TS.nc\n",
      "m\n",
      "DeepBay_2015TS.nc\n",
      "m\n",
      "FannyBay_2015TS.nc\n",
      "m\n",
      "LasquetiIsland_2015TS.nc\n",
      "m\n",
      "LundDesolationSound_2015TS.nc\n",
      "m\n",
      "MainSoG_2015TS.nc\n",
      "m\n",
      "MapleBay_2015TS.nc\n",
      "m\n",
      "MouthofOkeover_2015TS.nc\n",
      "m\n",
      "NanooseBay_2015TS.nc\n",
      "m\n",
      "NorthernBaynes_2015TS.nc\n",
      "m\n",
      "SaltSpring_2015TS.nc\n",
      "m\n",
      "SouthernBaynes_2015TS.nc\n",
      "m\n"
     ]
    }
   ],
   "source": [
    "plcnames = ['Cortes/Marina','Deep Bay','Fanny Bay','Lasqueti Island','Lund/Desolation Sound',\\\n",
    "           'Main SoG','Maple Bay','Mouth of Okeover','Nanoose Bay','Northern Baynes',\\\n",
    "           'Salt Spring','Southern Baynes']\n",
    "\n",
    "plcnamesf = ['CortesMarina','DeepBay','FannyBay','LasquetiIsland','LundDesolationSound',\\\n",
    "           'MainSoG','MapleBay','MouthofOkeover','NanooseBay','NorthernBaynes',\\\n",
    "           'SaltSpring','SouthernBaynes']\n",
    "\n",
    "\n",
    "for p in range(0,len(plcnames)):\n",
    "    \n",
    "    tplc = plcnames[p]\n",
    "    tplcf = plcnamesf[p]\n",
    "    t_ncname = tplcf + '_2015TS.nc'\n",
    "    t_nc = nc.Dataset(t_ncname)\n",
    "    print(t_ncname)\n",
    "\n",
    "    ta = t['model_output']['local_TA']\n",
    "    dic = t['model_output']['local_DIC']\n",
    "    sal = t['model_output']['local_SAL']\n",
    "    temp = t['model_output']['local_TEMP']\n",
    "    depth_ar = np.zeros_like(temp)\n",
    "\n",
    "    for i in range(0,365):\n",
    "        depth_ar[i,:] = depth\n",
    "    print('m')    \n",
    "    pHr, OmAr, pco2r = oned_moxy(sal, temp, dic, ta, 1, depth_ar)\n",
    "    \n",
    "    ncname = tplcf + '_2015TS_pH_OmAr.nc'\n",
    "    f = nc.Dataset(ncname,'w', format='NETCDF4') #'w' stands for write\n",
    "    g = f.createGroup('model_output')\n",
    "    #g.createDimension('days', len(NO3_mod))\n",
    "    g.createDimension('days', 365)\n",
    "    g.createDimension('depths', 40)\n",
    "    ts = g.createVariable('local_pH','f4',('days','depths'))\n",
    "    ts[:] = pHr\n",
    "    ts2 = g.createVariable('local_OmA','f4',('days','depths'))\n",
    "    ts2[:] = OmAr\n",
    "    f.close()"
   ]
  },
  {
   "cell_type": "code",
   "execution_count": 22,
   "metadata": {},
   "outputs": [
    {
     "name": "stdout",
     "output_type": "stream",
     "text": [
      "<class 'netCDF4._netCDF4.Dataset'>\n",
      "root group (NETCDF4 data model, file format HDF5):\n",
      "    dimensions(sizes): \n",
      "    variables(dimensions): \n",
      "    groups: model_output\n",
      "\n"
     ]
    }
   ],
   "source": [
    "w = nc.Dataset('SaltSpring_2015TS_pH_OmAr.nc')\n",
    "print(w)"
   ]
  },
  {
   "cell_type": "code",
   "execution_count": 23,
   "metadata": {
    "collapsed": true
   },
   "outputs": [],
   "source": [
    "pH = (w['model_output']['local_pH'])"
   ]
  },
  {
   "cell_type": "code",
   "execution_count": 27,
   "metadata": {
    "collapsed": true
   },
   "outputs": [],
   "source": [
    "ncname =  'SalishSea_depths.nc'\n",
    "f = nc.Dataset(ncname,'w', format='NETCDF4') #'w' stands for write\n",
    "g = f.createGroup('model_output')\n",
    "#g.createDimension('days', len(NO3_mod))\n",
    "g.createDimension('depths', 40)\n",
    "ts = g.createVariable('local_depth','f4',('depths'))\n",
    "ts[:] = depth\n",
    "\n",
    "f.close()"
   ]
  },
  {
   "cell_type": "code",
   "execution_count": null,
   "metadata": {
    "collapsed": true
   },
   "outputs": [],
   "source": []
  }
 ],
 "metadata": {
  "kernelspec": {
   "display_name": "Python 3",
   "language": "python",
   "name": "python3"
  },
  "language_info": {
   "codemirror_mode": {
    "name": "ipython",
    "version": 3
   },
   "file_extension": ".py",
   "mimetype": "text/x-python",
   "name": "python",
   "nbconvert_exporter": "python",
   "pygments_lexer": "ipython3",
   "version": "3.6.0"
  }
 },
 "nbformat": 4,
 "nbformat_minor": 2
}
