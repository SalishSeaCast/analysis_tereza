{
 "cells": [
  {
   "cell_type": "code",
   "execution_count": 76,
   "metadata": {},
   "outputs": [],
   "source": [
    "import netCDF4 as nc\n",
    "import numpy as np"
   ]
  },
  {
   "cell_type": "code",
   "execution_count": 111,
   "metadata": {},
   "outputs": [],
   "source": [
    "def halo_de(ncname,ts_x,ts_y):\n",
    "    \n",
    "    ''' given a path to a SalishSeaCast netcdf file and an x, y pair, \n",
    "        returns halocline depth, where halocline depth is defined a midway between \n",
    "        two cells that have the largest salinity gradient\n",
    "        ie max abs((sal1-sal2)/(depth1-depth2))\n",
    "\n",
    "            Parameters:\n",
    "                    ncname (str): path to a netcdf file containing \n",
    "                    a valid salinity variable (vosaline)\n",
    "                    ts_x (int): x-coordinate at which halocline is calculated\n",
    "                    tx_y (int): y-coordinate at which halocline is calculated\n",
    "            Returns:\n",
    "                    halocline_depth: depth in meters of maximum salinity gradient\n",
    "    '''\n",
    "    \n",
    "     # o\n",
    "    \n",
    "    halocline = 0\n",
    "    grid = nc.Dataset('/data/tjarniko/MEOPAR/grid/mesh_mask201702.nc')\n",
    "    nemo = nc.Dataset(ncname)\n",
    "    \n",
    "    #get the land mask\n",
    "    col_mask = grid['tmask'][0,:,ts_y,ts_x] \n",
    "    \n",
    "    #get the depths of the watercolumn and filter only cells that have water\n",
    "    col_depths = grid['gdept_0'][0,:,ts_y,ts_x]\n",
    "    col_depths = col_depths[col_mask==1]    \n",
    "\n",
    "    ### if there is no water, no halocline\n",
    "    if (len(col_depths) == 0):\n",
    "        halocline = np.nan\n",
    "    \n",
    "    else: \n",
    "        #get the salinity of the point, again filtering for where water exists\n",
    "        col_sal = nemo['vosaline'][0,:,ts_y,ts_x]\n",
    "        col_sal = col_sal[col_mask==1]\n",
    "\n",
    "        #get the gradient in salinity\n",
    "        sal_grad = np.zeros_like(col_sal)\n",
    "\n",
    "        for i in range(0, (len(col_sal)-1)):\n",
    "            sal_grad[i] = np.abs((col_sal[i]-col_sal[i+1])/(col_depths[i]-col_depths[i+1]))\n",
    "\n",
    "        #print(sal_grad)\n",
    "\n",
    "        loc_max = np.where(sal_grad == np.nanmax(sal_grad))\n",
    "        loc_max = (loc_max[0][0])\n",
    "\n",
    "        #halocline is halfway between the two cells\n",
    "        halocline = col_depths[loc_max] + 0.5*(col_depths[loc_max+1]-col_depths[loc_max])\n",
    "\n",
    "    \n",
    "    return halocline"
   ]
  },
  {
   "cell_type": "markdown",
   "metadata": {},
   "source": [
    "## test example for halo_de code"
   ]
  },
  {
   "cell_type": "code",
   "execution_count": 113,
   "metadata": {},
   "outputs": [
    {
     "name": "stdout",
     "output_type": "stream",
     "text": [
      "7.000466823577881\n"
     ]
    }
   ],
   "source": [
    "#help(halo_de)\n",
    "\n",
    "testnc = '/results2/SalishSea/nowcast-green.201905/05jan20/SalishSea_1d_20200105_20200105_grid_T.nc'\n",
    "\n",
    "ts_x = 260\n",
    "ts_y = 340\n",
    "halo = halo_de(testnc,ts_x,ts_y)\n",
    "print(halo)"
   ]
  },
  {
   "cell_type": "code",
   "execution_count": null,
   "metadata": {},
   "outputs": [],
   "source": []
  }
 ],
 "metadata": {
  "kernelspec": {
   "display_name": "Python 3",
   "language": "python",
   "name": "python3"
  },
  "language_info": {
   "codemirror_mode": {
    "name": "ipython",
    "version": 3
   },
   "file_extension": ".py",
   "mimetype": "text/x-python",
   "name": "python",
   "nbconvert_exporter": "python",
   "pygments_lexer": "ipython3",
   "version": "3.7.4"
  }
 },
 "nbformat": 4,
 "nbformat_minor": 2
}
