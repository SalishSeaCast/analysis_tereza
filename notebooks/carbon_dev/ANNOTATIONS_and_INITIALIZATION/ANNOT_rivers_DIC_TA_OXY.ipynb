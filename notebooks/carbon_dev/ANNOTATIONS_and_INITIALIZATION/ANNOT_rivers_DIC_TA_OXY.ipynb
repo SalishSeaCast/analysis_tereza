{
 "cells": [
  {
   "cell_type": "markdown",
   "metadata": {},
   "source": [
    "# River input conditions for DIC, TA, OXY\n",
    "\n",
    "    A notebook that annotates river chemistry datasets we use in the SKOG model.\n",
    "    QQ for question tagging\n",
    "    \n",
    "    To fill out for DIC, TA, OXY\n",
    "\n",
    "            1. dataset refs & locations for both, outstanding questions about potential future datasets\n",
    "            2. pointer to notebook where this .nc file is created\n",
    "            3. notes on where this is read in in model, outstanding questions"
   ]
  },
  {
   "cell_type": "code",
   "execution_count": null,
   "metadata": {
    "collapsed": true
   },
   "outputs": [],
   "source": []
  }
 ],
 "metadata": {
  "kernelspec": {
   "display_name": "Python 3",
   "language": "python",
   "name": "python3"
  },
  "language_info": {
   "codemirror_mode": {
    "name": "ipython",
    "version": 3
   },
   "file_extension": ".py",
   "mimetype": "text/x-python",
   "name": "python",
   "nbconvert_exporter": "python",
   "pygments_lexer": "ipython3",
   "version": "3.7.4"
  }
 },
 "nbformat": 4,
 "nbformat_minor": 2
}
