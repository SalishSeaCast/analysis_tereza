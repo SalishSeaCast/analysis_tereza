{
 "cells": [
  {
   "cell_type": "code",
   "execution_count": 36,
   "metadata": {},
   "outputs": [
    {
     "data": {
      "text/html": [
       "<script>\n",
       "code_show=true; \n",
       "function code_toggle() {\n",
       " if (code_show){\n",
       " $('div.input').hide();\n",
       " } else {\n",
       " $('div.input').show();\n",
       " }\n",
       " code_show = !code_show\n",
       "} \n",
       "$( document ).ready(code_toggle);\n",
       "</script>\n",
       "<form action=\"javascript:code_toggle()\"><input type=\"submit\" value=\"Click here to toggle on/off the raw code.\"></form>"
      ],
      "text/plain": [
       "<IPython.core.display.HTML object>"
      ]
     },
     "execution_count": 36,
     "metadata": {},
     "output_type": "execute_result"
    }
   ],
   "source": [
    "from IPython.display import HTML\n",
    "\n",
    "HTML('''<script>\n",
    "code_show=true; \n",
    "function code_toggle() {\n",
    " if (code_show){\n",
    " $('div.input').hide();\n",
    " } else {\n",
    " $('div.input').show();\n",
    " }\n",
    " code_show = !code_show\n",
    "} \n",
    "$( document ).ready(code_toggle);\n",
    "</script>\n",
    "<form action=\"javascript:code_toggle()\"><input type=\"submit\" value=\"Click here to toggle on/off the raw code.\"></form>''')"
   ]
  },
  {
   "cell_type": "code",
   "execution_count": 37,
   "metadata": {
    "collapsed": true
   },
   "outputs": [],
   "source": [
    "from __future__ import print_function\n",
    "from numpy import *\n",
    "from scipy import *\n",
    "import matplotlib.pyplot as plt\n",
    "\n",
    "import matplotlib.pyplot as plt\n",
    "import netCDF4 as nc\n",
    "import numpy as np\n",
    "import scipy as sp\n",
    "import cmocean\n",
    "\"\"\n",
    "from salishsea_tools import (\n",
    "    nc_tools,\n",
    "    viz_tools,\n",
    "    geo_tools,\n",
    "    tidetools\n",
    ")\n",
    "\n",
    "%matplotlib inline\n"
   ]
  },
  {
   "cell_type": "code",
   "execution_count": 38,
   "metadata": {},
   "outputs": [
    {
     "name": "stdout",
     "output_type": "stream",
     "text": [
      "ds from sea_initial\n",
      "<class 'netCDF4._netCDF4.Dataset'>\n",
      "root group (NETCDF4 data model, file format HDF5):\n",
      "    dimensions(sizes): xbT(300), yb(1), deptht(40), time_counter(2)\n",
      "    variables(dimensions): float32 \u001b[4mdeptht\u001b[0m(deptht), float32 \u001b[4mnav_lat\u001b[0m(yb,xbT), float32 \u001b[4mnav_lon\u001b[0m(yb,xbT), int32 \u001b[4mnbidta\u001b[0m(yb,xbT), int32 \u001b[4mnbjdta\u001b[0m(yb,xbT), int32 \u001b[4mnbrdta\u001b[0m(yb,xbT), float32 \u001b[4mtime_counter\u001b[0m(time_counter), float32 \u001b[4mNO3\u001b[0m(time_counter,deptht,yb,xbT), float32 \u001b[4mSi\u001b[0m(time_counter,deptht,yb,xbT), float32 \u001b[4mNH4\u001b[0m(time_counter,deptht,yb,xbT), float32 \u001b[4mDIA\u001b[0m(time_counter,deptht,yb,xbT), float32 \u001b[4mCRY\u001b[0m(time_counter,deptht,yb,xbT), float32 \u001b[4mMYRI\u001b[0m(time_counter,deptht,yb,xbT), float32 \u001b[4mMICZ\u001b[0m(time_counter,deptht,yb,xbT), float32 \u001b[4mPON\u001b[0m(time_counter,deptht,yb,xbT), float32 \u001b[4mDON\u001b[0m(time_counter,deptht,yb,xbT), float32 \u001b[4mbSi\u001b[0m(time_counter,deptht,yb,xbT), float32 \u001b[4mO2\u001b[0m(time_counter,deptht,yb,xbT), float32 \u001b[4mtur\u001b[0m(time_counter,deptht,yb,xbT), float64 \u001b[4mDIC\u001b[0m(time_counter,deptht,yb,xbT), float64 \u001b[4mTA\u001b[0m(time_counter,deptht,yb,xbT), float64 \u001b[4mOXY\u001b[0m(time_counter,deptht,yb,xbT)\n",
      "    groups: \n",
      "\n"
     ]
    }
   ],
   "source": [
    "dsin = nc.Dataset('/data/tjarniko/MEOPAR/SS-run-sets/SalishSea/nemo3.6/tereza/INIT_NC/tr_northDICTAOXY.nc')\n",
    "\n",
    "print('ds from sea_initial')\n",
    "print(dsin)"
   ]
  },
  {
   "cell_type": "code",
   "execution_count": 39,
   "metadata": {},
   "outputs": [],
   "source": [
    "OXY = dsin.variables['OXY']"
   ]
  },
  {
   "cell_type": "code",
   "execution_count": 40,
   "metadata": {},
   "outputs": [],
   "source": [
    "OXY = OXY[:] * 44.6596"
   ]
  },
  {
   "cell_type": "code",
   "execution_count": 41,
   "metadata": {},
   "outputs": [
    {
     "name": "stdout",
     "output_type": "stream",
     "text": [
      "xbT\n",
      "300\n",
      "yb\n",
      "1\n",
      "deptht\n",
      "40\n",
      "time_counter\n",
      "2\n",
      "float32\n",
      "float32\n",
      "float32\n",
      "int32\n",
      "int32\n",
      "int32\n",
      "float32\n",
      "float32\n",
      "float32\n",
      "float32\n",
      "float32\n",
      "float32\n",
      "float32\n",
      "float32\n",
      "float32\n",
      "float32\n",
      "float32\n",
      "float32\n",
      "float32\n",
      "float64\n",
      "float64\n",
      "float64\n"
     ]
    }
   ],
   "source": [
    "ncname = '/data/tjarniko/MEOPAR/SS-run-sets/SalishSea/nemo3.6/tereza/INIT_NC/tr_north_DICTAOXY_072718.nc'\n",
    "dsout = nc.Dataset(ncname, \"w\", format=\"NETCDF4\")\n",
    "#Copy dimensions\n",
    "for dname, the_dim in dsin.dimensions.items():\n",
    "    print(dname)\n",
    "    print(len(the_dim))\n",
    "    dsout.createDimension(dname, len(the_dim) if not the_dim.isunlimited() else None)\n",
    "# Copy variables\n",
    "for v_name, varin in dsin.variables.items():\n",
    "    outVar = dsout.createVariable(v_name, varin.datatype, varin.dimensions)\n",
    "    print(varin.datatype)\n",
    "    \n",
    "    # Copy variable attributes\n",
    "    outVar.setncatts({k: varin.getncattr(k) for k in varin.ncattrs()})\n",
    "    \n",
    "    outVar[:] = varin[:]"
   ]
  },
  {
   "cell_type": "code",
   "execution_count": 42,
   "metadata": {},
   "outputs": [],
   "source": [
    "dsout['OXY'][:] = OXY\n",
    "dsout.close()\n",
    "\n"
   ]
  },
  {
   "cell_type": "code",
   "execution_count": 43,
   "metadata": {},
   "outputs": [
    {
     "name": "stdout",
     "output_type": "stream",
     "text": [
      "[[[[ 183.97578303  183.97578303  183.97578303 ...,  183.97578303\n",
      "     183.97578303  183.97578303]]\n",
      "\n",
      "  [[ 182.91535945  182.91535945  182.91535945 ...,  182.91535945\n",
      "     182.91535945  182.91535945]]\n",
      "\n",
      "  [[ 182.22368626  182.22368626  182.22368626 ...,  182.22368626\n",
      "     182.22368626  182.22368626]]\n",
      "\n",
      "  ..., \n",
      "  [[  84.84155311   84.84155311   84.84155311 ...,   84.84155311\n",
      "      84.84155311   84.84155311]]\n",
      "\n",
      "  [[  82.07503072   82.07503072   82.07503072 ...,   82.07503072\n",
      "      82.07503072   82.07503072]]\n",
      "\n",
      "  [[  79.3086787    79.3086787    79.3086787  ...,   79.3086787\n",
      "      79.3086787    79.3086787 ]]]\n",
      "\n",
      "\n",
      " [[[ 183.97578303  183.97578303  183.97578303 ...,  183.97578303\n",
      "     183.97578303  183.97578303]]\n",
      "\n",
      "  [[ 182.91535945  182.91535945  182.91535945 ...,  182.91535945\n",
      "     182.91535945  182.91535945]]\n",
      "\n",
      "  [[ 182.22368626  182.22368626  182.22368626 ...,  182.22368626\n",
      "     182.22368626  182.22368626]]\n",
      "\n",
      "  ..., \n",
      "  [[  84.84155311   84.84155311   84.84155311 ...,   84.84155311\n",
      "      84.84155311   84.84155311]]\n",
      "\n",
      "  [[  82.07503072   82.07503072   82.07503072 ...,   82.07503072\n",
      "      82.07503072   82.07503072]]\n",
      "\n",
      "  [[  79.3086787    79.3086787    79.3086787  ...,   79.3086787\n",
      "      79.3086787    79.3086787 ]]]]\n"
     ]
    }
   ],
   "source": [
    "w = nc.Dataset('/data/tjarniko/MEOPAR/SS-run-sets/SalishSea/nemo3.6/tereza/INIT_NC/tr_north_DICTAOXY_072718.nc')\n",
    "q = w.variables['OXY']\n",
    "print(q[:])"
   ]
  },
  {
   "cell_type": "code",
   "execution_count": null,
   "metadata": {
    "collapsed": true
   },
   "outputs": [],
   "source": []
  }
 ],
 "metadata": {
  "kernelspec": {
   "display_name": "Python 3",
   "language": "python",
   "name": "python3"
  },
  "language_info": {
   "codemirror_mode": {
    "name": "ipython",
    "version": 3
   },
   "file_extension": ".py",
   "mimetype": "text/x-python",
   "name": "python",
   "nbconvert_exporter": "python",
   "pygments_lexer": "ipython3",
   "version": "3.6.0"
  }
 },
 "nbformat": 4,
 "nbformat_minor": 2
}
