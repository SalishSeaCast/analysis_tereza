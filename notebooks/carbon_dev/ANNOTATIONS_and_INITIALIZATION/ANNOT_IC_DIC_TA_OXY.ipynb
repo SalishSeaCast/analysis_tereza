{
 "cells": [
  {
   "cell_type": "markdown",
   "metadata": {
    "collapsed": true
   },
   "source": [
    "# Initial conditions for DIC, TA, OXY (no rivers)\n",
    "\n",
    "    A notebook that annotates initial conditions we use in the SKOG model.\n",
    "    Currently all initial conditions are calculated from relationships to salinity using D.Ianson's grl2016 dataset. \n",
    "    QQ for question tagging\n",
    "    \n",
    "    \n",
    "    To fill out for DIC, TA, OXY\n",
    "\n",
    "            1.  dataset refs & locations for both, outstanding questions about potential future datasets\n",
    "            2. Pointer to where salinity relationships are calculated and where .nc files for north and west are created\n",
    "            3. notes on where this is read in in model"
   ]
  },
  {
   "cell_type": "markdown",
   "metadata": {
    "collapsed": true
   },
   "source": [
    "## 1. dataset references\n",
    "\n",
    "    Current dataset being used for both boundary conditions, provided by debby:\n",
    "    \n",
    "        /data/tjarniko/MEOPAR/at3/notebooks/carbon_dev/DATASETS/grl2016_edit.txt\n",
    "\n",
    "    QQ:\n",
    "    Interesting Datasets from down south/ American fellows:\n",
    "        PRISM? (Feely's data from Puget Sound etc)\n",
    "    QQ: At what point does tracking down every rosette from the PNW ever stop making sense? - ie how much should I look for DIC/TA data from other groups in the Salish Sea? "
   ]
  },
  {
   "cell_type": "markdown",
   "metadata": {},
   "source": [
    "## 2. Pointer to where salinity relationships are calculated and where .nc files for DICTAOXY IC are made\n",
    "\n",
    "    This is a 3-step process.\n",
    "\n",
    "    1) First, take IC's for everything except DICTAOXY and make it fit the new bathymetry, here:\n",
    "    \n",
    "    /data/tjarniko/MEOPAR/at3/notebooks/carbon_dev/Initial_from_Restart_Bathy201702.ipynb\n",
    "    \n",
    "    Right now using the following as IC's\n",
    "        dataphys = nc.Dataset('/results/SalishSea/nowcast-green/07sep16/SalishSea_01602720_restart.nc')\n",
    "        databio = nc.Dataset('/results/SalishSea/nowcast-green/07sep16/SalishSea_01602720_restart_trc.nc')\n",
    "        \n",
    "        and creating a file called PhysBio_2sep16.nc\n",
    "        \n",
    "    2) Then take that file and use it as input for the\n",
    "        /data/tjarniko/MEOPAR/at3/notebooks/carbon_dev/INITIALIZING_CARBON notebook\n",
    "        \n",
    "    3) Then take that file and use it as input for the \n",
    "        /data/tjarniko/MEOPAR/at3/notebooks/carbon_dev/INITIALIZING_OXYGEN notebook\n",
    "        \n",
    "        \n",
    "        Datafilenames:\n",
    "        init_DICTAOXY_May04.nc\n",
    "        Copied to place I store created NC files: \n",
    "            /data/tjarniko/MEOPAR/at3/notebooks/carbon_dev/NCs\n",
    "        \n",
    "        Also copied to directory from which model reads it: \n",
    "            /data/tjarniko/MEOPAR/SS-run-sets/SalishSea/nemo3.6/tereza/INIT_NC\n",
    "        \n",
    "   *note this process could be made a whole lot less silly*"
   ]
  },
  {
   "cell_type": "markdown",
   "metadata": {},
   "source": [
    "## 3. notes on where this is read in in model\n",
    "\n",
    "    As of May 9 2018\n",
    "        SKOG code: /data/tjarniko/MEOPAR/NEMO-3.6-code/NEMOGCM/CONFIG/SKOG\n",
    "        run directory: /data/tjarniko/MEOPAR/SS-run-sets/SalishSea/nemo3.6/tereza/SKOG_debug/v2\n",
    "        yaml file: SS_SALISH_TS.yaml\n",
    "        ncs for init: /data/tjarniko/MEOPAR/SS-run-sets/SalishSea/nemo3.6/tereza/INIT_NC\n",
    "        where IC are read in - namelist_top_cfg\n",
    "        "
   ]
  },
  {
   "cell_type": "code",
   "execution_count": null,
   "metadata": {
    "collapsed": true
   },
   "outputs": [],
   "source": []
  }
 ],
 "metadata": {
  "kernelspec": {
   "display_name": "Python 3",
   "language": "python",
   "name": "python3"
  },
  "language_info": {
   "codemirror_mode": {
    "name": "ipython",
    "version": 3
   },
   "file_extension": ".py",
   "mimetype": "text/x-python",
   "name": "python",
   "nbconvert_exporter": "python",
   "pygments_lexer": "ipython3",
   "version": "3.6.0"
  }
 },
 "nbformat": 4,
 "nbformat_minor": 2
}
