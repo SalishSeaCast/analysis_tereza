{
 "cells": [
  {
   "cell_type": "markdown",
   "metadata": {},
   "source": [
    "## Goal of notebook\n",
    "\n",
    "    Look at boundary conditions for west, north\n",
    "    parametrize according to salinity relationships for JdF and northern strait from nb\n",
    "    make a new init file\n",
    "    \n",
    "    where does open_boundaries lead to? it must be:\n",
    "        /home/tjarnik/MEOPAR/tracers/north\n",
    "            bioOBC_full2_north.nc\n",
    "        /home/tjarnik/MEOPAR/tracers/west\n",
    "    but where is the link?\n",
    "            bioOBC_full2_west.nc\n",
    " \n",
    "    \n",
    "    \n",
    "    relationships DIC (JdF, N, S, Haro:\n",
    "    slopes:\n",
    "    [68.984506591824541, 75.046682176725568, 45.248982910520937, 62.275868280536201]\n",
    "    intercepts:\n",
    "    [-100.13978357455562, -210.80778641253437, 669.0670004789929, 128.20407948614184]\n",
    "\n",
    "    relationships alkalinity (JdF, N, S, Haro):\n",
    "    slopes:\n",
    "    [46.987083509452937, 41.703959570158162, 45.255106772714242, 48.099718320884534]\n",
    "    intercepts:\n",
    "    [666.6180299218554, 805.39142381007036, 712.25447700734412, 630.84821673141755]\n",
    "\n",
    "currently initializing to NO3"
   ]
  },
  {
   "cell_type": "code",
   "execution_count": 12,
   "metadata": {},
   "outputs": [
    {
     "name": "stdout",
     "output_type": "stream",
     "text": [
      "Once deleted, variables cannot be recovered. Proceed (y/[n])? y\n"
     ]
    }
   ],
   "source": [
    "#import all the things\n",
    "\n",
    "%reset\n",
    "import netCDF4 as nc\n",
    "import matplotlib.pyplot as plt\n",
    "import datetime\n",
    "import os\n",
    "import numpy as np\n",
    "import cmocean as cm\n",
    "from salishsea_tools import visualisations as vis\n",
    "from salishsea_tools import (teos_tools, tidetools, viz_tools)\n",
    "import xarray as xr \n",
    "import subprocess \n",
    "import cmocean\n",
    "\n",
    "%matplotlib inline"
   ]
  },
  {
   "cell_type": "code",
   "execution_count": 13,
   "metadata": {
    "collapsed": true
   },
   "outputs": [],
   "source": [
    "d_nor = '/data/tjarniko/MEOPAR/tracers/north/'\n",
    "f_nor = 'bioOBC_full2_north.nc'\n",
    "phys_nor = 'SalishSea_north_TEOS10.nc'\n",
    "d_wes = '/data/tjarniko/MEOPAR/tracers/west/'\n",
    "f_wes = 'bioOBC_full2_west.nc'\n",
    "phys_wes = 'SalishSea_west_TEOS10.nc'\n",
    "\n",
    "\n",
    "tr_north = nc.Dataset(d_nor+f_nor)\n",
    "tr_west = nc.Dataset(d_wes+f_wes)\n",
    "phys_north = nc.Dataset(d_nor+phys_nor)\n",
    "phys_west = nc.Dataset(d_wes+phys_wes)"
   ]
  },
  {
   "cell_type": "code",
   "execution_count": 14,
   "metadata": {
    "scrolled": false
   },
   "outputs": [
    {
     "name": "stdout",
     "output_type": "stream",
     "text": [
      "tracers north\n",
      "<class 'netCDF4._netCDF4.Dataset'>\n",
      "root group (NETCDF4 data model, file format HDF5):\n",
      "    dimensions(sizes): xbT(300), yb(1), deptht(40), time_counter(2)\n",
      "    variables(dimensions): float32 \u001b[4mdeptht\u001b[0m(deptht), float32 \u001b[4mnav_lat\u001b[0m(yb,xbT), float32 \u001b[4mnav_lon\u001b[0m(yb,xbT), int32 \u001b[4mnbidta\u001b[0m(yb,xbT), int32 \u001b[4mnbjdta\u001b[0m(yb,xbT), int32 \u001b[4mnbrdta\u001b[0m(yb,xbT), float32 \u001b[4mtime_counter\u001b[0m(time_counter), float32 \u001b[4mNO3\u001b[0m(time_counter,deptht,yb,xbT), float32 \u001b[4mSi\u001b[0m(time_counter,deptht,yb,xbT), float32 \u001b[4mNH4\u001b[0m(time_counter,deptht,yb,xbT), float32 \u001b[4mDIA\u001b[0m(time_counter,deptht,yb,xbT), float32 \u001b[4mCRY\u001b[0m(time_counter,deptht,yb,xbT), float32 \u001b[4mMYRI\u001b[0m(time_counter,deptht,yb,xbT), float32 \u001b[4mMICZ\u001b[0m(time_counter,deptht,yb,xbT), float32 \u001b[4mPON\u001b[0m(time_counter,deptht,yb,xbT), float32 \u001b[4mDON\u001b[0m(time_counter,deptht,yb,xbT), float32 \u001b[4mbSi\u001b[0m(time_counter,deptht,yb,xbT), float32 \u001b[4mO2\u001b[0m(time_counter,deptht,yb,xbT), float32 \u001b[4mtur\u001b[0m(time_counter,deptht,yb,xbT)\n",
      "    groups: \n",
      "\n",
      "tracers west\n",
      "<class 'netCDF4._netCDF4.Dataset'>\n",
      "root group (NETCDF4 data model, file format HDF5):\n",
      "    dimensions(sizes): deptht(40), yb(1), xbT(870), time_counter(52)\n",
      "    variables(dimensions): float32 \u001b[4mdeptht\u001b[0m(deptht), float32 \u001b[4mnav_lat\u001b[0m(yb,xbT), float32 \u001b[4mnav_lon\u001b[0m(yb,xbT), int32 \u001b[4mnbidta\u001b[0m(yb,xbT), int32 \u001b[4mnbjdta\u001b[0m(yb,xbT), int32 \u001b[4mnbrdta\u001b[0m(yb,xbT), float32 \u001b[4mtime_counter\u001b[0m(time_counter), float32 \u001b[4mNO3\u001b[0m(time_counter,deptht,yb,xbT), float32 \u001b[4mSi\u001b[0m(time_counter,deptht,yb,xbT), float32 \u001b[4mNH4\u001b[0m(time_counter,deptht,yb,xbT), float32 \u001b[4mDIA\u001b[0m(time_counter,deptht,yb,xbT), float32 \u001b[4mCRY\u001b[0m(time_counter,deptht,yb,xbT), float32 \u001b[4mMYRI\u001b[0m(time_counter,deptht,yb,xbT), float32 \u001b[4mMICZ\u001b[0m(time_counter,deptht,yb,xbT), float32 \u001b[4mPON\u001b[0m(time_counter,deptht,yb,xbT), float32 \u001b[4mDON\u001b[0m(time_counter,deptht,yb,xbT), float32 \u001b[4mbSi\u001b[0m(time_counter,deptht,yb,xbT), float32 \u001b[4mO2\u001b[0m(time_counter,deptht,yb,xbT), float32 \u001b[4mtur\u001b[0m(time_counter,deptht,yb,xbT)\n",
      "    groups: \n",
      "\n",
      "physics north\n",
      "<class 'netCDF4._netCDF4.Dataset'>\n",
      "root group (NETCDF4 data model, file format HDF5):\n",
      "    Conventions: CF-1.6\n",
      "    institution: Dept of Earth, Ocean & Atmospheric Sciences, University of British Columbia\n",
      "    title: Seasonal climatology of Temperature and Salinity at Johnstone Strait boundary in TEOS-10 variables - Conservative Temperature and Absolute Salinity\n",
      "    references: https://bitbucket.org/salishsea/nemo-forcing/src/tip/open_boundaries/north/SalishSea_north_TEOS10.nc\n",
      "    comment: Temperature and salinity are TEOS-10 variables: Conservative Temperature and Reference Salinity\n",
      "    source: https://bitbucket.org/salishsea/tools/src/tip/PrepareSimpleTS-Johnstone.ipynb\n",
      " https://bitbucket.org/salishsea/tools/src/tip/I_ForcingFiles/OBC/Temperature to conservative temperature in boundary conditions.ipynb\n",
      " https://bitbucket.org/salishsea/tools/I_ForcingFiles/OBC/create_TEOS-10_BCs.py\n",
      " https://bitbucket.org/salishsea/tools/I_ForcingFiles/OBC/reshape_BCs.py\n",
      "    history: \n",
      "[2014-02-02 18:26] Created\n",
      "[2014-03-18 16:10] grid point fixed (fortran/python)\n",
      "[2015-12-30 13:48] Extended salinity downwards to all depths\n",
      "[2016-03-12 11:40] uniform salinity (partial steps ignored)\n",
      "\n",
      " [2016-09-05 ] Converted temperature and salinity to Conservative Temperature and Reference Salinity\n",
      " [2016-11-10] Reshaped to structured format and drop variables nbidta, nbjdta, and nbrdta, with compression.\n",
      "    dimensions(sizes): deptht(40), time_counter(2), yb(10), xbT(30)\n",
      "    variables(dimensions): float32 \u001b[4mdeptht\u001b[0m(deptht), float32 \u001b[4mtime_counter\u001b[0m(time_counter), float32 \u001b[4mnav_lat\u001b[0m(yb,xbT), float32 \u001b[4mnav_lon\u001b[0m(yb,xbT), float32 \u001b[4mvotemper\u001b[0m(time_counter,deptht,yb,xbT), float32 \u001b[4mvosaline\u001b[0m(time_counter,deptht,yb,xbT)\n",
      "    groups: \n",
      "\n",
      "physics west\n",
      "<class 'netCDF4._netCDF4.Dataset'>\n",
      "root group (NETCDF4 data model, file format HDF5):\n",
      "    Conventions: CF-1.6\n",
      "    institution: Dept of Earth, Ocean & Atmospheric Sciences, University of British Columbia\n",
      "    NCO: 4.0.9\n",
      "    comment: Temperature and salinity are TEOS-10 variables: Conservative Temperature and Reference Salinity\n",
      "    title: Weekly climatology of Temperature and Salinity at Juan de Fuca boundary in TEOS-10 variables - Conservative Temperature and Absolute Salinity\n",
      "    references: https://bitbucket.org/salishsea/nemo-forcing/src/tip/open_boundaries/west/SalishSea_west_TEOS10.nc\n",
      "    source: \n",
      "https://bitbucket.org/salishsea/tools/src/tip/I_ForcingFiles/OBC/Improved TS Climatology Western Boundary.ipynb\n",
      "https://bitbucket.org/salishsea/analysys/src/tip/Nancy/strat/comparisons/JuandeFucaBCs.ipynb\n",
      "\n",
      " https://bitbucket.org/salishsea/tools/src/tip/I_ForcingFiles/OBC/Temperature to conservative temperature in boundary conditions.ipynb\n",
      " https://bitbucket.org/salishsea/tools/I_ForcingFiles/OBC/create_TEOS-10_BCs.py\n",
      " https://bitbucket.org/salishsea/tools/I_ForcingFiles/OBC/reshape_BCs.py\n",
      "    history: \n",
      "2014-01-03 13:15:17] Created netCDF4 zlib=True dataset.\n",
      "Sat Jan  4 13:05:15 2014: ncks -4 -L1 -d time_counter,0,51 SalishSea_TS_Masson.nc SalishSea_Masson_trunc.nc\n",
      "[2014-01-04 14:17] Formed weekly climatology from original SalishSea grided results\n",
      "[2014-01-24 ] Removed Nan's\n",
      "[2014-01-25 18:01 ] Corrected for partial cells\n",
      "[2015-10-19 ] Applied correction to increase deep salinity\n",
      "\n",
      " [2016-09-05 ] Converted temperature and salinity to Conservative Temperature and Reference Salinity\n",
      " [2016-11-10] Reshaped to structured format and drop variables nbidta, nbjdta, and nbrdta, with compression.\n",
      "    dimensions(sizes): deptht(40), time_counter(52), yb(10), xbT(87)\n",
      "    variables(dimensions): float32 \u001b[4mdeptht\u001b[0m(deptht), float32 \u001b[4mnav_lat\u001b[0m(yb,xbT), float32 \u001b[4mnav_lon\u001b[0m(yb,xbT), float32 \u001b[4mtime_counter\u001b[0m(time_counter), float32 \u001b[4mvosaline\u001b[0m(time_counter,deptht,yb,xbT), float32 \u001b[4mvotemper\u001b[0m(time_counter,deptht,yb,xbT)\n",
      "    groups: \n",
      "\n"
     ]
    }
   ],
   "source": [
    "print('tracers north')\n",
    "print(tr_north)\n",
    "print('tracers west')\n",
    "print(tr_west)\n",
    "print('physics north')\n",
    "print(phys_north)\n",
    "print('physics west')\n",
    "print(phys_west)"
   ]
  },
  {
   "cell_type": "code",
   "execution_count": 15,
   "metadata": {},
   "outputs": [
    {
     "name": "stdout",
     "output_type": "stream",
     "text": [
      "northern salinity\n",
      "western salinity\n",
      "<class 'netCDF4._netCDF4.Variable'>\n",
      "float32 vosaline(time_counter, deptht, yb, xbT)\n",
      "    coordinates: nav_lon nav_lat deptht time_counter\n",
      "    grid: SalishSea\n",
      "    units: g/kg\n",
      "    long_name: Reference Salinity\n",
      "unlimited dimensions: time_counter\n",
      "current shape = (52, 40, 10, 87)\n",
      "filling on, default _FillValue of 9.969209968386869e+36 used\n",
      "\n",
      "[ 29.95800018  29.95899963  29.95999908  29.95100021  29.95400047\n",
      "  29.95599937  29.95700073  29.95800018  29.95800018  29.95899963]\n",
      "<class 'netCDF4._netCDF4.Dataset'>\n",
      "root group (NETCDF4 data model, file format HDF5):\n",
      "    dimensions(sizes): deptht(40), yb(1), xbT(870), time_counter(52)\n",
      "    variables(dimensions): float32 \u001b[4mdeptht\u001b[0m(deptht), float32 \u001b[4mnav_lat\u001b[0m(yb,xbT), float32 \u001b[4mnav_lon\u001b[0m(yb,xbT), int32 \u001b[4mnbidta\u001b[0m(yb,xbT), int32 \u001b[4mnbjdta\u001b[0m(yb,xbT), int32 \u001b[4mnbrdta\u001b[0m(yb,xbT), float32 \u001b[4mtime_counter\u001b[0m(time_counter), float32 \u001b[4mNO3\u001b[0m(time_counter,deptht,yb,xbT), float32 \u001b[4mSi\u001b[0m(time_counter,deptht,yb,xbT), float32 \u001b[4mNH4\u001b[0m(time_counter,deptht,yb,xbT), float32 \u001b[4mDIA\u001b[0m(time_counter,deptht,yb,xbT), float32 \u001b[4mCRY\u001b[0m(time_counter,deptht,yb,xbT), float32 \u001b[4mMYRI\u001b[0m(time_counter,deptht,yb,xbT), float32 \u001b[4mMICZ\u001b[0m(time_counter,deptht,yb,xbT), float32 \u001b[4mPON\u001b[0m(time_counter,deptht,yb,xbT), float32 \u001b[4mDON\u001b[0m(time_counter,deptht,yb,xbT), float32 \u001b[4mbSi\u001b[0m(time_counter,deptht,yb,xbT), float32 \u001b[4mO2\u001b[0m(time_counter,deptht,yb,xbT), float32 \u001b[4mtur\u001b[0m(time_counter,deptht,yb,xbT)\n",
      "    groups: \n",
      "\n"
     ]
    }
   ],
   "source": [
    "sn_nor = phys_north.variables['vosaline']\n",
    "print('northern salinity')\n",
    "#print(sn_nor)\n",
    "#print(sn_nor[0,2,:,:])\n",
    "sn_wes = phys_west.variables['vosaline']\n",
    "print('western salinity')\n",
    "print(sn_wes)\n",
    "print(sn_wes[0,2,:,0])\n",
    "\n",
    "print(tr_west)\n",
    "\n",
    "NO3 = tr_west.variables['NO3']\n",
    "\n",
    "#print(NO3[0,2,:,0:870:87])"
   ]
  },
  {
   "cell_type": "code",
   "execution_count": 16,
   "metadata": {},
   "outputs": [
    {
     "name": "stdout",
     "output_type": "stream",
     "text": [
      "deptht\n",
      "40\n",
      "yb\n",
      "1\n",
      "xbT\n",
      "870\n",
      "time_counter\n",
      "52\n",
      "float32\n",
      "float32\n",
      "float32\n",
      "int32\n",
      "int32\n",
      "int32\n",
      "float32\n",
      "float32\n",
      "float32\n",
      "float32\n",
      "float32\n",
      "float32\n",
      "float32\n",
      "float32\n",
      "float32\n",
      "float32\n",
      "float32\n",
      "float32\n",
      "float32\n"
     ]
    }
   ],
   "source": [
    "dsin = tr_west\n",
    "\n",
    "#output file\n",
    "ncname = 'tr_westDICTAOXY.nc'\n",
    "dsout = nc.Dataset(ncname, \"w\", format=\"NETCDF4\")\n",
    "#Copy dimensions\n",
    "for dname, the_dim in dsin.dimensions.items():\n",
    "    print(dname)\n",
    "    print(len(the_dim))\n",
    "    dsout.createDimension(dname, len(the_dim) if not the_dim.isunlimited() else None)\n",
    "# Copy variables\n",
    "for v_name, varin in dsin.variables.items():\n",
    "    outVar = dsout.createVariable(v_name, varin.datatype, varin.dimensions)\n",
    "    print(varin.datatype)\n",
    "    \n",
    "    # Copy variable attributes\n",
    "    outVar.setncatts({k: varin.getncattr(k) for k in varin.ncattrs()})\n",
    "    \n",
    "    outVar[:] = varin[:]"
   ]
  },
  {
   "cell_type": "code",
   "execution_count": 17,
   "metadata": {
    "collapsed": true
   },
   "outputs": [],
   "source": [
    "DIC = dsout.createVariable('DIC',np.float64,('time_counter','deptht','yb','xbT'))\n",
    "TA = dsout.createVariable('TA',np.float64,('time_counter','deptht','yb','xbT'))\n",
    "OXY = dsout.createVariable('OXY',np.float64,('time_counter','deptht','yb','xbT'))"
   ]
  },
  {
   "cell_type": "code",
   "execution_count": 18,
   "metadata": {},
   "outputs": [
    {
     "name": "stdout",
     "output_type": "stream",
     "text": [
      "western DIC\n",
      "[[ 1956.4263916   1961.59997559  1966.4979248  ...,  2185.31689453\n",
      "   2185.31689453  2185.31689453]\n",
      " [ 1946.83740234  1952.28723145  1957.39196777 ...,  2182.35058594\n",
      "   2182.35058594  2182.35058594]\n",
      " [ 1941.80163574  1948.01013184  1953.94274902 ...,  2193.87084961\n",
      "   2193.87084961  2193.87084961]\n",
      " ..., \n",
      " [ 1976.50085449  1981.95056152  1987.67614746 ...,  2198.49267578\n",
      "   2198.49267578  2198.49267578]\n",
      " [ 1979.12219238  1984.0201416   1988.91809082 ...,  2193.25        2193.25\n",
      "   2193.25      ]\n",
      " [ 1969.25744629  1974.22424316  1979.05310059 ...,  2187.93798828\n",
      "   2187.93798828  2187.93798828]]\n",
      "western TA\n",
      "[[ 2067.39697266  2070.92089844  2074.25708008 ...,  2223.30029297\n",
      "   2223.30029297  2223.30029297]\n",
      " [ 2060.86572266  2064.57763672  2068.0546875  ...,  2221.27978516\n",
      "   2221.27978516  2221.27978516]\n",
      " [ 2057.43554688  2061.66455078  2065.70556641 ...,  2229.12646484\n",
      "   2229.12646484  2229.12646484]\n",
      " ..., \n",
      " [ 2081.0703125   2084.78222656  2088.68212891 ...,  2232.2746582\n",
      "   2232.2746582   2232.2746582 ]\n",
      " [ 2082.85571289  2086.19189453  2089.52783203 ...,  2228.70361328\n",
      "   2228.70361328  2228.70361328]\n",
      " [ 2076.13647461  2079.51953125  2082.80859375 ...,  2225.08544922\n",
      "   2225.08544922  2225.08544922]]\n",
      "western OXY\n",
      "[[ 6.41127777  6.32807922  6.24931335 ...,  2.73049927  2.73049927\n",
      "   2.73049927]\n",
      " [ 6.56547546  6.47783661  6.39574814 ...,  2.77820206  2.77820206\n",
      "   2.77820206]\n",
      " [ 6.64645767  6.5466156   6.45121384 ...,  2.59294128  2.59294128\n",
      "   2.59294128]\n",
      " ..., \n",
      " [ 6.08845901  6.00082397  5.90874863 ...,  2.51861954  2.51861954\n",
      "   2.51861954]\n",
      " [ 6.04630661  5.96754456  5.88877869 ...,  2.60292816  2.60292816\n",
      "   2.60292816]\n",
      " [ 6.2049408   6.12506866  6.04741669 ...,  2.68834686  2.68834686\n",
      "   2.68834686]]\n"
     ]
    }
   ],
   "source": [
    "# relationships DIC (JdF, N, S, Haro:\n",
    "#     slopes:\n",
    "#     [68.984506591824541, 75.046682176725568, 45.248982910520937, 62.275868280536201]\n",
    "#     intercepts:\n",
    "#     [-100.13978357455562, -210.80778641253437, 669.0670004789929, 128.20407948614184]\n",
    "\n",
    "#     relationships alkalinity (JdF, N, S, Haro):\n",
    "#     slopes:\n",
    "#     [46.987083509452937, 41.703959570158162, 45.255106772714242, 48.099718320884534]\n",
    "#     intercepts:\n",
    "#     [666.6180299218554, 805.39142381007036, 712.25447700734412, 630.84821673141755]\n",
    "\n",
    "# relationships OXY (Jdf, N, S, Haro:)\n",
    "# slopes:\n",
    "# [-1.1093358620615621, -1.0324527832500823, -0.72610938589358809, -0.74540955174472656]\n",
    "# intercepts:\n",
    "# [39.482801413558569, 35.238673873674337, 25.996793064314204, 27.695179997365347]\n",
    "\n",
    "sn_wes_val = sn_wes[:]\n",
    "DIC_wes_slope = 68.984506591824541\n",
    "DIC_wes_int = -100.13978357455562\n",
    "\n",
    "TA_wes_slope = 46.987083509452937\n",
    "TA_wes_int = 666.6180299218554\n",
    "\n",
    "OXY_wes_slope = -1.1093358620615621\n",
    "OXY_wes_int = 39.482801413558569\n",
    "\n",
    "DIC_wes = sn_wes_val*DIC_wes_slope + DIC_wes_int\n",
    "TA_wes = sn_wes_val*TA_wes_slope + TA_wes_int\n",
    "OXY_wes = sn_wes_val*OXY_wes_slope + OXY_wes_int\n",
    "\n",
    "print('western DIC')\n",
    "print(DIC_wes[:,:,0,0])\n",
    "print('western TA')\n",
    "print(TA_wes[:,:,0,0])\n",
    "print('western OXY')\n",
    "print(OXY_wes[:,:,0,0])"
   ]
  },
  {
   "cell_type": "code",
   "execution_count": null,
   "metadata": {
    "collapsed": true
   },
   "outputs": [],
   "source": []
  },
  {
   "cell_type": "code",
   "execution_count": 19,
   "metadata": {},
   "outputs": [
    {
     "name": "stdout",
     "output_type": "stream",
     "text": [
      "(52, 40, 1, 870)\n",
      "(52, 40, 10, 87)\n"
     ]
    }
   ],
   "source": [
    "no3 = tr_west.variables['NO3']\n",
    "print(no3.shape)\n",
    "print(DIC_wes.shape)\n",
    "\n",
    "DIC_resized = no3[:]\n",
    "TA_resized = no3[:]\n",
    "OXY_resized = no3[:]\n",
    "\n",
    "\n",
    "for i in range(0,10):\n",
    "    start = i * 87 \n",
    "    end = (i+1) * 87\n",
    "    DIC_resized[:,:,:,start:end] = DIC_wes[:,:,i:i+1,:]\n",
    "    TA_resized[:,:,:,start:end] = TA_wes[:,:,i:i+1,:]\n",
    "    OXY_resized[:,:,:,start:end] = OXY_wes[:,:,i:i+1,:]\n",
    "    \n",
    "    \n",
    "# #print(DIC_resized[0,0,:,:])\n",
    "# #print(sn_nor.shape)\n",
    "# # print(DIC_nor[0,0,9,:])\n",
    "# # print(sn_nor[0,0,9,:])\n",
    "\n",
    "# print(no3.shape)"
   ]
  },
  {
   "cell_type": "code",
   "execution_count": 20,
   "metadata": {
    "collapsed": true
   },
   "outputs": [],
   "source": [
    "dsout['DIC'][:] = DIC_resized\n",
    "dsout['TA'][:] = TA_resized\n",
    "dsout['OXY'][:] = OXY_resized\n"
   ]
  },
  {
   "cell_type": "code",
   "execution_count": 21,
   "metadata": {
    "collapsed": true
   },
   "outputs": [],
   "source": [
    "dsout.close()"
   ]
  },
  {
   "cell_type": "code",
   "execution_count": 22,
   "metadata": {},
   "outputs": [
    {
     "name": "stdout",
     "output_type": "stream",
     "text": [
      "<class 'netCDF4._netCDF4.Dataset'>\n",
      "root group (NETCDF4 data model, file format HDF5):\n",
      "    dimensions(sizes): deptht(40), yb(1), xbT(870), time_counter(52)\n",
      "    variables(dimensions): float32 \u001b[4mdeptht\u001b[0m(deptht), float32 \u001b[4mnav_lat\u001b[0m(yb,xbT), float32 \u001b[4mnav_lon\u001b[0m(yb,xbT), int32 \u001b[4mnbidta\u001b[0m(yb,xbT), int32 \u001b[4mnbjdta\u001b[0m(yb,xbT), int32 \u001b[4mnbrdta\u001b[0m(yb,xbT), float32 \u001b[4mtime_counter\u001b[0m(time_counter), float32 \u001b[4mNO3\u001b[0m(time_counter,deptht,yb,xbT), float32 \u001b[4mSi\u001b[0m(time_counter,deptht,yb,xbT), float32 \u001b[4mNH4\u001b[0m(time_counter,deptht,yb,xbT), float32 \u001b[4mDIA\u001b[0m(time_counter,deptht,yb,xbT), float32 \u001b[4mCRY\u001b[0m(time_counter,deptht,yb,xbT), float32 \u001b[4mMYRI\u001b[0m(time_counter,deptht,yb,xbT), float32 \u001b[4mMICZ\u001b[0m(time_counter,deptht,yb,xbT), float32 \u001b[4mPON\u001b[0m(time_counter,deptht,yb,xbT), float32 \u001b[4mDON\u001b[0m(time_counter,deptht,yb,xbT), float32 \u001b[4mbSi\u001b[0m(time_counter,deptht,yb,xbT), float32 \u001b[4mO2\u001b[0m(time_counter,deptht,yb,xbT), float32 \u001b[4mtur\u001b[0m(time_counter,deptht,yb,xbT), float64 \u001b[4mDIC\u001b[0m(time_counter,deptht,yb,xbT), float64 \u001b[4mTA\u001b[0m(time_counter,deptht,yb,xbT), float64 \u001b[4mOXY\u001b[0m(time_counter,deptht,yb,xbT)\n",
      "    groups: \n",
      "\n"
     ]
    }
   ],
   "source": [
    "#w = nc.Dataset('./tr_northDICTA.nc')\n",
    "w2 = nc.Dataset('./tr_westDICTAOXY.nc')\n",
    "#print(w)\n",
    "print(w2)"
   ]
  },
  {
   "cell_type": "code",
   "execution_count": 23,
   "metadata": {
    "collapsed": true
   },
   "outputs": [],
   "source": [
    "#print(w)"
   ]
  },
  {
   "cell_type": "code",
   "execution_count": null,
   "metadata": {
    "collapsed": true
   },
   "outputs": [],
   "source": []
  }
 ],
 "metadata": {
  "kernelspec": {
   "display_name": "Python 3",
   "language": "python",
   "name": "python3"
  },
  "language_info": {
   "codemirror_mode": {
    "name": "ipython",
    "version": 3
   },
   "file_extension": ".py",
   "mimetype": "text/x-python",
   "name": "python",
   "nbconvert_exporter": "python",
   "pygments_lexer": "ipython3",
   "version": "3.7.4"
  }
 },
 "nbformat": 4,
 "nbformat_minor": 2
}
