{
 "cells": [
  {
   "cell_type": "code",
   "execution_count": 7,
   "metadata": {},
   "outputs": [
    {
     "name": "stdout",
     "output_type": "stream",
     "text": [
      "DIC value for rivers\n",
      "[ 820.]\n",
      "TA value for rivers\n",
      "[ 750.]\n"
     ]
    }
   ],
   "source": [
    "import netCDF4 as nc\n",
    "\n",
    "mon = '06'\n",
    "day = '09'\n",
    "var = 'dic'\n",
    "var2 = 'ta'\n",
    "w2 = nc.Dataset('/data/tjarniko/MEOPAR/rivers-climatology/bio/rivers_bio_tracers_m' + mon + 'd' + day + '.nc')\n",
    "\n",
    "\n",
    "w = nc.Dataset('/data/tjarniko/MEOPAR/rivers-climatology/skog/rivers_skog_tracers_m' + mon + 'd' + day + '.nc')\n",
    "\n",
    "print('DIC value for rivers')\n",
    "print(w.variables[var][:,250,250])\n",
    "\n",
    "print('TA value for rivers')\n",
    "print(w.variables[var2][:,250,250])\n"
   ]
  },
  {
   "cell_type": "code",
   "execution_count": null,
   "metadata": {
    "collapsed": true
   },
   "outputs": [],
   "source": []
  }
 ],
 "metadata": {
  "kernelspec": {
   "display_name": "Python 3",
   "language": "python",
   "name": "python3"
  },
  "language_info": {
   "codemirror_mode": {
    "name": "ipython",
    "version": 3
   },
   "file_extension": ".py",
   "mimetype": "text/x-python",
   "name": "python",
   "nbconvert_exporter": "python",
   "pygments_lexer": "ipython3",
   "version": "3.6.0"
  }
 },
 "nbformat": 4,
 "nbformat_minor": 2
}
