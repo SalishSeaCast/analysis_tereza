{
 "cells": [
  {
   "cell_type": "markdown",
   "metadata": {},
   "source": [
    "# Surface chemistry and gas flux scheme in carbonate chemistry model\n",
    "\n",
    "    A notebook that keeps track of the gas flux scheme.\n",
    "    Compares between SKOG and SOG, also notes on questions I have (I use the QQ tag for easy searching). \n",
    "\n",
    "    To fill out for CO2 and O2:\n",
    "\n",
    "            1. code location (SKOG & SOG)\n",
    "            2. relevant literature references\n",
    "            3. outstanding questions\n"
   ]
  },
  {
   "cell_type": "markdown",
   "metadata": {},
   "source": []
  },
  {
   "cell_type": "markdown",
   "metadata": {
    "collapsed": true
   },
   "source": [
    "\n",
    "# gas flux \n",
    "Transfer of CO2 across the air/sea interface in the surface grid cell is parametrized according to Fick’s second law of diffusion\n",
    "\n",
    "$\\phi$ = -$k_w$($U_{10}$)$K_0 \\Delta p CO_2$\n",
    "\n",
    "\n",
    "### in SOG - in air_sea_fluxes.f90\n",
    "\n",
    "    ! Transfer velocity, Nightingale et al. 2000\n",
    "    kps = (0.22d0 * UU**2 + 0.33d0 * UU) * (sc/600.0d0)**(-0.5d0)\n",
    "    kps = kps * 2.778d-6   ! m/s\n",
    "\n",
    "    ! Gas flux\n",
    "    ! (m/s * mol/m^3atm * (1e3 mmol/mol) * atm = mmol m-2 s-1)\n",
    "    gasflux = kps * sol * 1.0d3 * (1.0d-6 * p_gas - p_air)\n",
    "\n",
    "    gasflux = kps * sol * 1.0d3 * (1.0d-6 * p_gas - p_air)\n",
    "\n",
    "\n",
    "###### NB/?:\n",
    "    Is there a problem here with brackets? shouldn't there be a bracket around p_gas - p_air?\n",
    "\n",
    "### in SKOG - in p4zflx.f90\n",
    "\n",
    "\n",
    "\n",
    "\n",
    "Implementing in SMELT_c4:\n",
    "\n",
    "    -where are the wind speeds in the model, rather where are they loaded?\n",
    "    -do we have wind speed at 10m or do we have to parameterize it?\n",
    "    -does using nightingale make sense? Better parameterizations have been shown...\n",
    "    -add schmidt number to namelist\n",
    "    -this depends on pCO2 in water, which we do not calculate & SOG did it offline\n",
    "\n",
    "\n"
   ]
  },
  {
   "cell_type": "code",
   "execution_count": null,
   "metadata": {
    "collapsed": true
   },
   "outputs": [],
   "source": []
  }
 ],
 "metadata": {
  "kernelspec": {
   "display_name": "Python 3",
   "language": "python",
   "name": "python3"
  },
  "language_info": {
   "codemirror_mode": {
    "name": "ipython",
    "version": 3
   },
   "file_extension": ".py",
   "mimetype": "text/x-python",
   "name": "python",
   "nbconvert_exporter": "python",
   "pygments_lexer": "ipython3",
   "version": "3.6.0"
  }
 },
 "nbformat": 4,
 "nbformat_minor": 2
}
