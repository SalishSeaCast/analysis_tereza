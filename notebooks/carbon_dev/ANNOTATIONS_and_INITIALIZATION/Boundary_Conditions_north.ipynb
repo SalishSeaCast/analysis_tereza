{
 "cells": [
  {
   "cell_type": "markdown",
   "metadata": {},
   "source": [
    "## Goal of notebook\n",
    "\n",
    "    Look at boundary conditions for west, north\n",
    "    parametrize according to salinity relationships for JdF and northern strait from this notebook:\n",
    "    /data/tjarniko/MEOPAR/at3/notebooks/carbon_dev/INITIALIZING_OXYGEN\n",
    "    /data/tjarniko/MEOPAR/at3/notebooks/carbon_dev/INITIALIZING_CARBON\n",
    "    \n",
    "    make a new init file\n",
    "    \n",
    "    where does open_boundaries lead to? it must be:\n",
    "        /home/tjarnik/MEOPAR/tracers/north\n",
    "            bioOBC_full2_north.nc\n",
    "        /home/tjarnik/MEOPAR/tracers/west\n",
    "    but where is the link?\n",
    "            bioOBC_full2_west.nc\n",
    " \n",
    "    \n",
    "    \n",
    "    relationships DIC (JdF, N, S, Haro):\n",
    "    slopes:\n",
    "    [68.984506591824541, 75.046682176725568, 45.248982910520937, 62.275868280536201]\n",
    "    intercepts:\n",
    "    [-100.13978357455562, -210.80778641253437, 669.0670004789929, 128.20407948614184]\n",
    "\n",
    "    relationships alkalinity (JdF, N, S, Haro):\n",
    "    slopes:\n",
    "    [46.987083509452937, 41.703959570158162, 45.255106772714242, 48.099718320884534]\n",
    "    intercepts:\n",
    "    [666.6180299218554, 805.39142381007036, 712.25447700734412, 630.84821673141755]\n",
    "    \n",
    "    # relationships OXY (Jdf, N, S, Haro:)\n",
    "    # slopes:\n",
    "    # [-1.1093358620615621, -1.0324527832500823, -0.72610938589358809, -0.74540955174472656]\n",
    "    # intercepts:\n",
    "    # [39.482801413558569, 35.238673873674337, 25.996793064314204, 27.695179997365347]\n",
    "    # ox at 26\n",
    "\n",
    "currently initializing to NO3"
   ]
  },
  {
   "cell_type": "code",
   "execution_count": 2,
   "metadata": {},
   "outputs": [
    {
     "name": "stdout",
     "output_type": "stream",
     "text": [
      "Once deleted, variables cannot be recovered. Proceed (y/[n])? y\n"
     ]
    }
   ],
   "source": [
    "#import all the things\n",
    "\n",
    "%reset\n",
    "import netCDF4 as nc\n",
    "import matplotlib.pyplot as plt\n",
    "import datetime\n",
    "import os\n",
    "import numpy as np\n",
    "import cmocean as cm\n",
    "from salishsea_tools import visualisations as vis\n",
    "from salishsea_tools import (teos_tools, tidetools, viz_tools)\n",
    "import xarray as xr \n",
    "import subprocess \n",
    "import cmocean\n",
    "\n",
    "%matplotlib inline"
   ]
  },
  {
   "cell_type": "code",
   "execution_count": 3,
   "metadata": {
    "collapsed": true
   },
   "outputs": [],
   "source": [
    "d_nor = '/data/tjarniko/MEOPAR/tracers/north/'\n",
    "f_nor = 'bioOBC_full2_north.nc'\n",
    "phys_nor = 'SalishSea_north_TEOS10.nc'\n",
    "d_wes = '/data/tjarniko/MEOPAR/tracers/west/'\n",
    "f_wes = 'bioOBC_full2_west.nc'\n",
    "phys_wes = 'SalishSea_west_TEOS10.nc'\n",
    "\n",
    "\n",
    "tr_north = nc.Dataset(d_nor+f_nor)\n",
    "tr_west = nc.Dataset(d_wes+f_wes)\n",
    "phys_north = nc.Dataset(d_nor+phys_nor)\n",
    "phys_west = nc.Dataset(d_wes+phys_wes)"
   ]
  },
  {
   "cell_type": "code",
   "execution_count": 4,
   "metadata": {
    "scrolled": false
   },
   "outputs": [
    {
     "name": "stdout",
     "output_type": "stream",
     "text": [
      "tracers north\n",
      "<class 'netCDF4._netCDF4.Dataset'>\n",
      "root group (NETCDF4 data model, file format HDF5):\n",
      "    dimensions(sizes): xbT(300), yb(1), deptht(40), time_counter(2)\n",
      "    variables(dimensions): float32 \u001b[4mdeptht\u001b[0m(deptht), float32 \u001b[4mnav_lat\u001b[0m(yb,xbT), float32 \u001b[4mnav_lon\u001b[0m(yb,xbT), int32 \u001b[4mnbidta\u001b[0m(yb,xbT), int32 \u001b[4mnbjdta\u001b[0m(yb,xbT), int32 \u001b[4mnbrdta\u001b[0m(yb,xbT), float32 \u001b[4mtime_counter\u001b[0m(time_counter), float32 \u001b[4mNO3\u001b[0m(time_counter,deptht,yb,xbT), float32 \u001b[4mSi\u001b[0m(time_counter,deptht,yb,xbT), float32 \u001b[4mNH4\u001b[0m(time_counter,deptht,yb,xbT), float32 \u001b[4mDIA\u001b[0m(time_counter,deptht,yb,xbT), float32 \u001b[4mCRY\u001b[0m(time_counter,deptht,yb,xbT), float32 \u001b[4mMYRI\u001b[0m(time_counter,deptht,yb,xbT), float32 \u001b[4mMICZ\u001b[0m(time_counter,deptht,yb,xbT), float32 \u001b[4mPON\u001b[0m(time_counter,deptht,yb,xbT), float32 \u001b[4mDON\u001b[0m(time_counter,deptht,yb,xbT), float32 \u001b[4mbSi\u001b[0m(time_counter,deptht,yb,xbT), float32 \u001b[4mO2\u001b[0m(time_counter,deptht,yb,xbT), float32 \u001b[4mtur\u001b[0m(time_counter,deptht,yb,xbT)\n",
      "    groups: \n",
      "\n",
      "tracers west\n",
      "<class 'netCDF4._netCDF4.Dataset'>\n",
      "root group (NETCDF4 data model, file format HDF5):\n",
      "    dimensions(sizes): deptht(40), yb(1), xbT(870), time_counter(52)\n",
      "    variables(dimensions): float32 \u001b[4mdeptht\u001b[0m(deptht), float32 \u001b[4mnav_lat\u001b[0m(yb,xbT), float32 \u001b[4mnav_lon\u001b[0m(yb,xbT), int32 \u001b[4mnbidta\u001b[0m(yb,xbT), int32 \u001b[4mnbjdta\u001b[0m(yb,xbT), int32 \u001b[4mnbrdta\u001b[0m(yb,xbT), float32 \u001b[4mtime_counter\u001b[0m(time_counter), float32 \u001b[4mNO3\u001b[0m(time_counter,deptht,yb,xbT), float32 \u001b[4mSi\u001b[0m(time_counter,deptht,yb,xbT), float32 \u001b[4mNH4\u001b[0m(time_counter,deptht,yb,xbT), float32 \u001b[4mDIA\u001b[0m(time_counter,deptht,yb,xbT), float32 \u001b[4mCRY\u001b[0m(time_counter,deptht,yb,xbT), float32 \u001b[4mMYRI\u001b[0m(time_counter,deptht,yb,xbT), float32 \u001b[4mMICZ\u001b[0m(time_counter,deptht,yb,xbT), float32 \u001b[4mPON\u001b[0m(time_counter,deptht,yb,xbT), float32 \u001b[4mDON\u001b[0m(time_counter,deptht,yb,xbT), float32 \u001b[4mbSi\u001b[0m(time_counter,deptht,yb,xbT), float32 \u001b[4mO2\u001b[0m(time_counter,deptht,yb,xbT), float32 \u001b[4mtur\u001b[0m(time_counter,deptht,yb,xbT)\n",
      "    groups: \n",
      "\n",
      "physics north\n",
      "<class 'netCDF4._netCDF4.Dataset'>\n",
      "root group (NETCDF4 data model, file format HDF5):\n",
      "    Conventions: CF-1.6\n",
      "    institution: Dept of Earth, Ocean & Atmospheric Sciences, University of British Columbia\n",
      "    title: Seasonal climatology of Temperature and Salinity at Johnstone Strait boundary in TEOS-10 variables - Conservative Temperature and Absolute Salinity\n",
      "    references: https://bitbucket.org/salishsea/nemo-forcing/src/tip/open_boundaries/north/SalishSea_north_TEOS10.nc\n",
      "    comment: Temperature and salinity are TEOS-10 variables: Conservative Temperature and Reference Salinity\n",
      "    source: https://bitbucket.org/salishsea/tools/src/tip/PrepareSimpleTS-Johnstone.ipynb\n",
      " https://bitbucket.org/salishsea/tools/src/tip/I_ForcingFiles/OBC/Temperature to conservative temperature in boundary conditions.ipynb\n",
      " https://bitbucket.org/salishsea/tools/I_ForcingFiles/OBC/create_TEOS-10_BCs.py\n",
      " https://bitbucket.org/salishsea/tools/I_ForcingFiles/OBC/reshape_BCs.py\n",
      "    history: \n",
      "[2014-02-02 18:26] Created\n",
      "[2014-03-18 16:10] grid point fixed (fortran/python)\n",
      "[2015-12-30 13:48] Extended salinity downwards to all depths\n",
      "[2016-03-12 11:40] uniform salinity (partial steps ignored)\n",
      "\n",
      " [2016-09-05 ] Converted temperature and salinity to Conservative Temperature and Reference Salinity\n",
      " [2016-11-10] Reshaped to structured format and drop variables nbidta, nbjdta, and nbrdta, with compression.\n",
      "    dimensions(sizes): deptht(40), time_counter(2), yb(10), xbT(30)\n",
      "    variables(dimensions): float32 \u001b[4mdeptht\u001b[0m(deptht), float32 \u001b[4mtime_counter\u001b[0m(time_counter), float32 \u001b[4mnav_lat\u001b[0m(yb,xbT), float32 \u001b[4mnav_lon\u001b[0m(yb,xbT), float32 \u001b[4mvotemper\u001b[0m(time_counter,deptht,yb,xbT), float32 \u001b[4mvosaline\u001b[0m(time_counter,deptht,yb,xbT)\n",
      "    groups: \n",
      "\n",
      "physics west\n",
      "<class 'netCDF4._netCDF4.Dataset'>\n",
      "root group (NETCDF4 data model, file format HDF5):\n",
      "    Conventions: CF-1.6\n",
      "    institution: Dept of Earth, Ocean & Atmospheric Sciences, University of British Columbia\n",
      "    NCO: 4.0.9\n",
      "    comment: Temperature and salinity are TEOS-10 variables: Conservative Temperature and Reference Salinity\n",
      "    title: Weekly climatology of Temperature and Salinity at Juan de Fuca boundary in TEOS-10 variables - Conservative Temperature and Absolute Salinity\n",
      "    references: https://bitbucket.org/salishsea/nemo-forcing/src/tip/open_boundaries/west/SalishSea_west_TEOS10.nc\n",
      "    source: \n",
      "https://bitbucket.org/salishsea/tools/src/tip/I_ForcingFiles/OBC/Improved TS Climatology Western Boundary.ipynb\n",
      "https://bitbucket.org/salishsea/analysys/src/tip/Nancy/strat/comparisons/JuandeFucaBCs.ipynb\n",
      "\n",
      " https://bitbucket.org/salishsea/tools/src/tip/I_ForcingFiles/OBC/Temperature to conservative temperature in boundary conditions.ipynb\n",
      " https://bitbucket.org/salishsea/tools/I_ForcingFiles/OBC/create_TEOS-10_BCs.py\n",
      " https://bitbucket.org/salishsea/tools/I_ForcingFiles/OBC/reshape_BCs.py\n",
      "    history: \n",
      "2014-01-03 13:15:17] Created netCDF4 zlib=True dataset.\n",
      "Sat Jan  4 13:05:15 2014: ncks -4 -L1 -d time_counter,0,51 SalishSea_TS_Masson.nc SalishSea_Masson_trunc.nc\n",
      "[2014-01-04 14:17] Formed weekly climatology from original SalishSea grided results\n",
      "[2014-01-24 ] Removed Nan's\n",
      "[2014-01-25 18:01 ] Corrected for partial cells\n",
      "[2015-10-19 ] Applied correction to increase deep salinity\n",
      "\n",
      " [2016-09-05 ] Converted temperature and salinity to Conservative Temperature and Reference Salinity\n",
      " [2016-11-10] Reshaped to structured format and drop variables nbidta, nbjdta, and nbrdta, with compression.\n",
      "    dimensions(sizes): deptht(40), time_counter(52), yb(10), xbT(87)\n",
      "    variables(dimensions): float32 \u001b[4mdeptht\u001b[0m(deptht), float32 \u001b[4mnav_lat\u001b[0m(yb,xbT), float32 \u001b[4mnav_lon\u001b[0m(yb,xbT), float32 \u001b[4mtime_counter\u001b[0m(time_counter), float32 \u001b[4mvosaline\u001b[0m(time_counter,deptht,yb,xbT), float32 \u001b[4mvotemper\u001b[0m(time_counter,deptht,yb,xbT)\n",
      "    groups: \n",
      "\n"
     ]
    }
   ],
   "source": [
    "print('tracers north')\n",
    "print(tr_north)\n",
    "print('tracers west')\n",
    "print(tr_west)\n",
    "print('physics north')\n",
    "print(phys_north)\n",
    "print('physics west')\n",
    "print(phys_west)"
   ]
  },
  {
   "cell_type": "code",
   "execution_count": 5,
   "metadata": {},
   "outputs": [
    {
     "name": "stdout",
     "output_type": "stream",
     "text": [
      "northern salinity\n",
      "western salinity\n",
      "<class 'netCDF4._netCDF4.Variable'>\n",
      "float32 vosaline(time_counter, deptht, yb, xbT)\n",
      "    coordinates: nav_lon nav_lat deptht time_counter\n",
      "    grid: SalishSea\n",
      "    units: g/kg\n",
      "    long_name: Reference Salinity\n",
      "unlimited dimensions: time_counter\n",
      "current shape = (52, 40, 10, 87)\n",
      "filling on, default _FillValue of 9.969209968386869e+36 used\n",
      "\n",
      "[ 29.95800018  29.95899963  29.95999908  29.95100021  29.95400047\n",
      "  29.95599937  29.95700073  29.95800018  29.95800018  29.95899963]\n",
      "<class 'netCDF4._netCDF4.Dataset'>\n",
      "root group (NETCDF4 data model, file format HDF5):\n",
      "    dimensions(sizes): deptht(40), yb(1), xbT(870), time_counter(52)\n",
      "    variables(dimensions): float32 \u001b[4mdeptht\u001b[0m(deptht), float32 \u001b[4mnav_lat\u001b[0m(yb,xbT), float32 \u001b[4mnav_lon\u001b[0m(yb,xbT), int32 \u001b[4mnbidta\u001b[0m(yb,xbT), int32 \u001b[4mnbjdta\u001b[0m(yb,xbT), int32 \u001b[4mnbrdta\u001b[0m(yb,xbT), float32 \u001b[4mtime_counter\u001b[0m(time_counter), float32 \u001b[4mNO3\u001b[0m(time_counter,deptht,yb,xbT), float32 \u001b[4mSi\u001b[0m(time_counter,deptht,yb,xbT), float32 \u001b[4mNH4\u001b[0m(time_counter,deptht,yb,xbT), float32 \u001b[4mDIA\u001b[0m(time_counter,deptht,yb,xbT), float32 \u001b[4mCRY\u001b[0m(time_counter,deptht,yb,xbT), float32 \u001b[4mMYRI\u001b[0m(time_counter,deptht,yb,xbT), float32 \u001b[4mMICZ\u001b[0m(time_counter,deptht,yb,xbT), float32 \u001b[4mPON\u001b[0m(time_counter,deptht,yb,xbT), float32 \u001b[4mDON\u001b[0m(time_counter,deptht,yb,xbT), float32 \u001b[4mbSi\u001b[0m(time_counter,deptht,yb,xbT), float32 \u001b[4mO2\u001b[0m(time_counter,deptht,yb,xbT), float32 \u001b[4mtur\u001b[0m(time_counter,deptht,yb,xbT)\n",
      "    groups: \n",
      "\n"
     ]
    }
   ],
   "source": [
    "sn_nor = phys_north.variables['vosaline']\n",
    "print('northern salinity')\n",
    "#print(sn_nor)\n",
    "#print(sn_nor[0,2,:,:])\n",
    "sn_wes = phys_west.variables['vosaline']\n",
    "print('western salinity')\n",
    "print(sn_wes)\n",
    "print(sn_wes[0,2,:,0])\n",
    "\n",
    "print(tr_west)\n",
    "\n",
    "NO3 = tr_west.variables['NO3']\n",
    "\n",
    "#print(NO3[0,2,:,0:870:87])"
   ]
  },
  {
   "cell_type": "code",
   "execution_count": 6,
   "metadata": {},
   "outputs": [
    {
     "name": "stdout",
     "output_type": "stream",
     "text": [
      "xbT\n",
      "300\n",
      "yb\n",
      "1\n",
      "deptht\n",
      "40\n",
      "time_counter\n",
      "2\n",
      "float32\n",
      "float32\n",
      "float32\n",
      "int32\n",
      "int32\n",
      "int32\n",
      "float32\n",
      "float32\n",
      "float32\n",
      "float32\n",
      "float32\n",
      "float32\n",
      "float32\n",
      "float32\n",
      "float32\n",
      "float32\n",
      "float32\n",
      "float32\n",
      "float32\n"
     ]
    }
   ],
   "source": [
    "dsin = tr_north\n",
    "\n",
    "#output file\n",
    "ncname = 'tr_northDICTAOXY.nc'\n",
    "dsout = nc.Dataset(ncname, \"w\", format=\"NETCDF4\")\n",
    "#Copy dimensions\n",
    "for dname, the_dim in dsin.dimensions.items():\n",
    "    print(dname)\n",
    "    print(len(the_dim))\n",
    "    dsout.createDimension(dname, len(the_dim) if not the_dim.isunlimited() else None)\n",
    "# Copy variables\n",
    "for v_name, varin in dsin.variables.items():\n",
    "    outVar = dsout.createVariable(v_name, varin.datatype, varin.dimensions)\n",
    "    print(varin.datatype)\n",
    "    \n",
    "    # Copy variable attributes\n",
    "    outVar.setncatts({k: varin.getncattr(k) for k in varin.ncattrs()})\n",
    "    \n",
    "    outVar[:] = varin[:]"
   ]
  },
  {
   "cell_type": "code",
   "execution_count": 7,
   "metadata": {
    "collapsed": true
   },
   "outputs": [],
   "source": [
    "DIC = dsout.createVariable('DIC',np.float64,('time_counter','deptht','yb','xbT'))\n",
    "TA = dsout.createVariable('TA',np.float64,('time_counter','deptht','yb','xbT'))\n",
    "OXY = dsout.createVariable('OXY',np.float64,('time_counter','deptht','yb','xbT'))"
   ]
  },
  {
   "cell_type": "code",
   "execution_count": 8,
   "metadata": {},
   "outputs": [
    {
     "name": "stdout",
     "output_type": "stream",
     "text": [
      "DIC at surface\n",
      "[[ 2051.17431641  2052.90039062  2054.02612305  2055.15185547\n",
      "   2056.27734375  2057.40307617  2058.52880859  2059.72949219\n",
      "   2060.85522461  2061.98095703  2063.10668945  2064.23242188  2065.3581543\n",
      "   2066.48364258  2067.68457031  2068.88525391  2070.16088867\n",
      "   2071.58691406  2073.23803711  2075.41430664  2078.49121094\n",
      "   2083.14404297  2090.42358398  2101.53051758  2117.36547852\n",
      "   2137.85302734  2162.09326172  2167.94702148  2172.22460938\n",
      "   2176.57739258  2181.00512695  2185.43286133  2189.93554688\n",
      "   2194.43823242  2198.94116211  2203.44384766  2208.02172852  2212.5246582\n",
      "   2217.02758789  2221.53027344]\n",
      " [ 2051.17431641  2052.90039062  2054.02612305  2055.15185547\n",
      "   2056.27734375  2057.40307617  2058.52880859  2059.72949219\n",
      "   2060.85522461  2061.98095703  2063.10668945  2064.23242188  2065.3581543\n",
      "   2066.48364258  2067.68457031  2068.88525391  2070.16088867\n",
      "   2071.58691406  2073.23803711  2075.41430664  2078.49121094\n",
      "   2083.14404297  2090.42358398  2101.53051758  2117.36547852\n",
      "   2137.85302734  2162.09326172  2167.94702148  2172.22460938\n",
      "   2176.57739258  2181.00512695  2185.43286133  2189.93554688\n",
      "   2194.43823242  2198.94116211  2203.44384766  2208.02172852  2212.5246582\n",
      "   2217.02758789  2221.53027344]]\n",
      "TA at surface\n",
      "[[ 2062.390625    2063.34960938  2063.9753418   2064.60083008\n",
      "   2065.22631836  2065.85205078  2066.47753906  2067.14477539\n",
      "   2067.77026367  2068.39575195  2069.02148438  2069.64697266\n",
      "   2070.27246094  2070.89794922  2071.56542969  2072.23266602\n",
      "   2072.94165039  2073.73388672  2074.65136719  2075.86083984\n",
      "   2077.57080078  2080.15625     2084.20166016  2090.3737793   2099.17333984\n",
      "   2110.55859375  2124.02880859  2127.28198242  2129.65893555\n",
      "   2132.07788086  2134.53833008  2136.9987793   2139.5012207   2142.00341797\n",
      "   2144.50561523  2147.0078125   2149.55175781  2152.05395508\n",
      "   2154.55639648  2157.05834961]\n",
      " [ 2062.390625    2063.34960938  2063.9753418   2064.60083008\n",
      "   2065.22631836  2065.85205078  2066.47753906  2067.14477539\n",
      "   2067.77026367  2068.39575195  2069.02148438  2069.64697266\n",
      "   2070.27246094  2070.89794922  2071.56542969  2072.23266602\n",
      "   2072.94165039  2073.73388672  2074.65136719  2075.86083984\n",
      "   2077.57080078  2080.15625     2084.20166016  2090.3737793   2099.17333984\n",
      "   2110.55859375  2124.02880859  2127.28198242  2129.65893555\n",
      "   2132.07788086  2134.53833008  2136.9987793   2139.5012207   2142.00341797\n",
      "   2144.50561523  2147.0078125   2149.55175781  2152.05395508\n",
      "   2154.55639648  2157.05834961]]\n",
      "Oxygen at surface\n",
      "[[ 4.11951256  4.09576797  4.0802803   4.06479263  4.04930687  4.0338192\n",
      "   4.01833344  4.0018158   3.98632622  3.97084045  3.95535469  3.93986702\n",
      "   3.92437935  3.90889359  3.89237404  3.87585449  3.85830498  3.83868599\n",
      "   3.81597328  3.78602982  3.74370193  3.67968941  3.57954216  3.42673683\n",
      "   3.20888901  2.92703247  2.59354782  2.51301575  2.45416641  2.39428329\n",
      "   2.33337021  2.27245712  2.21051025  2.14856339  2.0866127   2.02466965\n",
      "   1.961689    1.89973831  1.83779144  1.77584839]\n",
      " [ 4.11951256  4.09576797  4.0802803   4.06479263  4.04930687  4.0338192\n",
      "   4.01833344  4.0018158   3.98632622  3.97084045  3.95535469  3.93986702\n",
      "   3.92437935  3.90889359  3.89237404  3.87585449  3.85830498  3.83868599\n",
      "   3.81597328  3.78602982  3.74370193  3.67968941  3.57954216  3.42673683\n",
      "   3.20888901  2.92703247  2.59354782  2.51301575  2.45416641  2.39428329\n",
      "   2.33337021  2.27245712  2.21051025  2.14856339  2.0866127   2.02466965\n",
      "   1.961689    1.89973831  1.83779144  1.77584839]]\n"
     ]
    }
   ],
   "source": [
    "# relationships DIC (JdF, N, S, Haro:)\n",
    "#     slopes:\n",
    "#     [68.984506591824541, 75.046682176725568, 45.248982910520937, 62.275868280536201]\n",
    "#     intercepts:\n",
    "#     [-100.13978357455562, -210.80778641253437, 669.0670004789929, 128.20407948614184]\n",
    "\n",
    "#     relationships alkalinity (JdF, N, S, Haro):\n",
    "#     slopes:\n",
    "#     [46.987083509452937, 41.703959570158162, 45.255106772714242, 48.099718320884534]\n",
    "#     intercepts:\n",
    "#     [666.6180299218554, 805.39142381007036, 712.25447700734412, 630.84821673141755]\n",
    "\n",
    "# relationships OXY (Jdf, N, S, Haro:)\n",
    "# slopes:\n",
    "# [-1.1093358620615621, -1.0324527832500823, -0.72610938589358809, -0.74540955174472656]\n",
    "# intercepts:\n",
    "# [39.482801413558569, 35.238673873674337, 25.996793064314204, 27.695179997365347]\n",
    "# ox at 26\n",
    "\n",
    "sn_nor_val = sn_nor[:]\n",
    "DIC_nor_slope = 75.046682176725568\n",
    "DIC_nor_int = -210.80778641253437\n",
    "\n",
    "TA_nor_slope = 41.703959570158162\n",
    "TA_nor_int = 805.39142381007036\n",
    "\n",
    "OXY_nor_slope = -1.0324527832500823\n",
    "OXY_nor_int = 35.238673873674337\n",
    "\n",
    "DIC_nor = sn_nor_val*DIC_nor_slope + DIC_nor_int\n",
    "TA_nor = sn_nor_val*TA_nor_slope + TA_nor_int\n",
    "OXY_nor = sn_nor_val*OXY_nor_slope + OXY_nor_int\n",
    "\n",
    "print('DIC at surface')\n",
    "print(DIC_nor[:,:,0,0])\n",
    "print('TA at surface')\n",
    "print(TA_nor[:,:,0,0])\n",
    "print('Oxygen at surface')\n",
    "print(OXY_nor[:,:,0,0])"
   ]
  },
  {
   "cell_type": "code",
   "execution_count": null,
   "metadata": {
    "collapsed": true
   },
   "outputs": [],
   "source": []
  },
  {
   "cell_type": "code",
   "execution_count": 9,
   "metadata": {},
   "outputs": [
    {
     "name": "stdout",
     "output_type": "stream",
     "text": [
      "(2, 40, 1, 300)\n",
      "(2, 40, 10, 30)\n",
      "(2, 40, 1, 300)\n"
     ]
    }
   ],
   "source": [
    "no3 = tr_north.variables['NO3']\n",
    "print(no3.shape)\n",
    "print(DIC_nor.shape)\n",
    "\n",
    "DIC_resized = no3[:]\n",
    "TA_resized = no3[:]\n",
    "OXY_resized = no3[:]\n",
    "\n",
    "\n",
    "for i in range(0,10):\n",
    "    start = i * 30 \n",
    "    end = (i+1) * 30\n",
    "    DIC_resized[:,:,:,start:end] = DIC_nor[:,:,i:i+1,:]\n",
    "    TA_resized[:,:,:,start:end] = TA_nor[:,:,i:i+1,:]\n",
    "    OXY_resized[:,:,:,start:end] = OXY_nor[:,:,i:i+1,:]\n",
    "    \n",
    "    \n",
    "#print(DIC_resized[0,0,:,:])\n",
    "#print(sn_nor.shape)\n",
    "# print(DIC_nor[0,0,9,:])\n",
    "# print(sn_nor[0,0,9,:])\n",
    "\n",
    "print(no3.shape)"
   ]
  },
  {
   "cell_type": "code",
   "execution_count": 10,
   "metadata": {
    "collapsed": true
   },
   "outputs": [],
   "source": [
    "dsout['DIC'][:] = DIC_resized\n",
    "dsout['TA'][:] = TA_resized\n",
    "dsout['OXY'][:] = OXY_resized\n"
   ]
  },
  {
   "cell_type": "code",
   "execution_count": 11,
   "metadata": {
    "collapsed": true
   },
   "outputs": [],
   "source": [
    "dsout.close()"
   ]
  },
  {
   "cell_type": "code",
   "execution_count": 12,
   "metadata": {
    "collapsed": true
   },
   "outputs": [],
   "source": [
    "w = nc.Dataset('./tr_northDICTAOXY.nc')"
   ]
  },
  {
   "cell_type": "code",
   "execution_count": 13,
   "metadata": {},
   "outputs": [
    {
     "name": "stdout",
     "output_type": "stream",
     "text": [
      "<class 'netCDF4._netCDF4.Dataset'>\n",
      "root group (NETCDF4 data model, file format HDF5):\n",
      "    dimensions(sizes): xbT(300), yb(1), deptht(40), time_counter(2)\n",
      "    variables(dimensions): float32 \u001b[4mdeptht\u001b[0m(deptht), float32 \u001b[4mnav_lat\u001b[0m(yb,xbT), float32 \u001b[4mnav_lon\u001b[0m(yb,xbT), int32 \u001b[4mnbidta\u001b[0m(yb,xbT), int32 \u001b[4mnbjdta\u001b[0m(yb,xbT), int32 \u001b[4mnbrdta\u001b[0m(yb,xbT), float32 \u001b[4mtime_counter\u001b[0m(time_counter), float32 \u001b[4mNO3\u001b[0m(time_counter,deptht,yb,xbT), float32 \u001b[4mSi\u001b[0m(time_counter,deptht,yb,xbT), float32 \u001b[4mNH4\u001b[0m(time_counter,deptht,yb,xbT), float32 \u001b[4mDIA\u001b[0m(time_counter,deptht,yb,xbT), float32 \u001b[4mCRY\u001b[0m(time_counter,deptht,yb,xbT), float32 \u001b[4mMYRI\u001b[0m(time_counter,deptht,yb,xbT), float32 \u001b[4mMICZ\u001b[0m(time_counter,deptht,yb,xbT), float32 \u001b[4mPON\u001b[0m(time_counter,deptht,yb,xbT), float32 \u001b[4mDON\u001b[0m(time_counter,deptht,yb,xbT), float32 \u001b[4mbSi\u001b[0m(time_counter,deptht,yb,xbT), float32 \u001b[4mO2\u001b[0m(time_counter,deptht,yb,xbT), float32 \u001b[4mtur\u001b[0m(time_counter,deptht,yb,xbT), float64 \u001b[4mDIC\u001b[0m(time_counter,deptht,yb,xbT), float64 \u001b[4mTA\u001b[0m(time_counter,deptht,yb,xbT), float64 \u001b[4mOXY\u001b[0m(time_counter,deptht,yb,xbT)\n",
      "    groups: \n",
      "\n"
     ]
    }
   ],
   "source": [
    "print(w)"
   ]
  },
  {
   "cell_type": "code",
   "execution_count": null,
   "metadata": {
    "collapsed": true
   },
   "outputs": [],
   "source": []
  }
 ],
 "metadata": {
  "kernelspec": {
   "display_name": "Python 3",
   "language": "python",
   "name": "python3"
  },
  "language_info": {
   "codemirror_mode": {
    "name": "ipython",
    "version": 3
   },
   "file_extension": ".py",
   "mimetype": "text/x-python",
   "name": "python",
   "nbconvert_exporter": "python",
   "pygments_lexer": "ipython3",
   "version": "3.6.0"
  }
 },
 "nbformat": 4,
 "nbformat_minor": 2
}
