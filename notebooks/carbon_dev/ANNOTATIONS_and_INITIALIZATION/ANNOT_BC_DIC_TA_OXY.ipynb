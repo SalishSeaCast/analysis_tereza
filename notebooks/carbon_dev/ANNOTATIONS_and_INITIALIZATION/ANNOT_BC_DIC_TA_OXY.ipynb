{
 "cells": [
  {
   "cell_type": "markdown",
   "metadata": {},
   "source": [
    "# Boundary conditions for DIC, TA, OXY (no rivers)\n",
    "\n",
    "    A notebook that annotates boundary conditions (JdF and Johnstone strait) we use in the SKOG model.\n",
    "    QQ for question tagging\n",
    "    Currently all boundary conditions are calculated from relationships to salinity. \n",
    "    \n",
    "    To fill out for DIC, TA, OXY\n",
    "\n",
    "            1.  dataset refs & locations for both, outstanding questions about potential future datasets\n",
    "            2. Pointer to where salinity relationships are calculated and where .nc files for north and west are created\n",
    "            3. notes on where this is read in in model\n"
   ]
  },
  {
   "cell_type": "markdown",
   "metadata": {
    "collapsed": true
   },
   "source": [
    "## 1. dataset references\n",
    "\n",
    "    Current dataset being used for both boundary conditions, provided by debby:\n",
    "    \n",
    "        /data/tjarniko/MEOPAR/at3/notebooks/carbon_dev/DATASETS/grl2016_edit.txt\n",
    "   \n",
    "\n",
    "#### NORTH: Potential other dataset to use (for northern boundary) - not done yet:\n",
    "\n",
    "        /data/tjarniko/MEOPAR/at3/notebooks/carbon_dev/DATASETS/CPE.txt\n",
    "        \n",
    "        QQ: but should I just calculate the DIC = f(S[CPE]), TA = f(S[CPE]) from CPE.txt and use that as n. boundary data instead?\n",
    "        DD: get northern boundary conditions from both CPE and grl2016(north) and see how different DIC = f(S[CPE]), TA = f(S[CPE]) is from DIC = f(S[northern region of grl2016]), TA = f(S[northern region of grl2016])\n",
    "\n",
    "\n",
    "        \n",
    "#### WEST: Potential other relationship to use (for western boundary) - not done yet:        \n",
    "    \n",
    "    Bianucci relationships with OXY,T,S\n",
    "    QQ: Debby's letter dated 8 July 2013, called SUMMARY_dic_fit.txt - what data does this use? Relationships from Alin? It ultimately calculates DIC from temp and oxy. Does this have any bearing on my model initialization?\n",
    "    QQ: Debby's letter titled laura_bianucci.txt calculates DIC, TA. TA = f(S), but DIC = f(T,OXY) where for me currently OXY = f(S). So is there really any point in using that fro the western boundary\n",
    "    \n",
    "    DD: do it maybe and see how different DIC = f(OXY,T), where OXY = f(S[JdF region of grl2016]) is from DIC = f(S[JdF region of grl2016])\n",
    "    \n",
    "    QQ: Are there other western JdF datasets? There must be. The Americans head out there all the time, eg Feely's papers.\n",
    "    QQ: At what point does tracking down every rosette from the PNW ever stop making sense? - ie how much should I look for DIC/TA data from other groups in the Salish Sea? \n",
    "    \n",
    "    \n",
    "    "
   ]
  },
  {
   "cell_type": "markdown",
   "metadata": {},
   "source": [
    "## 2. Pointer to salinity relationship calculation, .nc file initialization\n",
    "\n",
    "    Salinity/CC relationship calc:\n",
    "    \n",
    "        /data/tjarniko/MEOPAR/at3/notebooks/carbon_dev/INITIALIZING_CARBON.ipynb\n",
    "        \n",
    "    Salinity/oxygen relationship calc:\n",
    "    \n",
    "        /data/tjarniko/MEOPAR/at3/notebooks/carbon_dev/INITIALIZING_OXYGEN.ipynb\n",
    "        \n",
    "    \n",
    "    Northern Boundary initialization:\n",
    "\n",
    "        /data/tjarniko/MEOPAR/at3/notebooks/carbon_dev/Boundary_Conditions_north.ipynb\n",
    "\n",
    "    Western Boundary initialization:\n",
    "    \n",
    "        /data/tjarniko/MEOPAR/at3/notebooks/carbon_dev/Boundary_Conditions_west.ipynb\n",
    "        \n",
    "    Datafilenames:\n",
    "        tr_northDICTAOXY.nc\n",
    "        tr_westDICTAOXY.nc\n",
    "        Copied to place I store created NC files: \n",
    "            /data/tjarniko/MEOPAR/at3/notebooks/carbon_dev/NCs\n",
    "        \n",
    "        Also copied to directory from which model reads it: \n",
    "            /data/tjarniko/MEOPAR/SS-run-sets/SalishSea/nemo3.6/tereza/INIT_NC\n",
    "    \n",
    "        "
   ]
  },
  {
   "cell_type": "markdown",
   "metadata": {},
   "source": [
    "## 3. notes on where this is read in in model\n",
    "    \n",
    "    As of May 4 2018\n",
    "        SKOG code: /data/tjarniko/MEOPAR/NEMO-3.6-code/NEMOGCM/CONFIG/SKOG\n",
    "        run directory: /data/tjarniko/MEOPAR/SS-run-sets/SalishSea/nemo3.6/tereza/SKOG_debug/v2\n",
    "        yaml file: SS_SALISH_TS.yaml\n",
    "        ncs for init: /data/tjarniko/MEOPAR/SS-run-sets/SalishSea/nemo3.6/tereza/INIT_NC\n",
    "        where boundary conditions are read in - namelist_top_cfg\n",
    "        \n",
    "        SKOG code changeset 1300 \n",
    "        run directory changeset 1831\n"
   ]
  },
  {
   "cell_type": "code",
   "execution_count": null,
   "metadata": {
    "collapsed": true
   },
   "outputs": [],
   "source": []
  }
 ],
 "metadata": {
  "kernelspec": {
   "display_name": "Python 3",
   "language": "python",
   "name": "python3"
  },
  "language_info": {
   "codemirror_mode": {
    "name": "ipython",
    "version": 3
   },
   "file_extension": ".py",
   "mimetype": "text/x-python",
   "name": "python",
   "nbconvert_exporter": "python",
   "pygments_lexer": "ipython3",
   "version": "3.7.4"
  }
 },
 "nbformat": 4,
 "nbformat_minor": 2
}
