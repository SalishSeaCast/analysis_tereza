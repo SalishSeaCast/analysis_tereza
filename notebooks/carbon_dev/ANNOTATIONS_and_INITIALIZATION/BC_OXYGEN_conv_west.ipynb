{
 "cells": [
  {
   "cell_type": "code",
   "execution_count": 1,
   "metadata": {},
   "outputs": [
    {
     "data": {
      "text/html": [
       "<script>\n",
       "code_show=true; \n",
       "function code_toggle() {\n",
       " if (code_show){\n",
       " $('div.input').hide();\n",
       " } else {\n",
       " $('div.input').show();\n",
       " }\n",
       " code_show = !code_show\n",
       "} \n",
       "$( document ).ready(code_toggle);\n",
       "</script>\n",
       "<form action=\"javascript:code_toggle()\"><input type=\"submit\" value=\"Click here to toggle on/off the raw code.\"></form>"
      ],
      "text/plain": [
       "<IPython.core.display.HTML object>"
      ]
     },
     "execution_count": 1,
     "metadata": {},
     "output_type": "execute_result"
    }
   ],
   "source": [
    "from IPython.display import HTML\n",
    "\n",
    "HTML('''<script>\n",
    "code_show=true; \n",
    "function code_toggle() {\n",
    " if (code_show){\n",
    " $('div.input').hide();\n",
    " } else {\n",
    " $('div.input').show();\n",
    " }\n",
    " code_show = !code_show\n",
    "} \n",
    "$( document ).ready(code_toggle);\n",
    "</script>\n",
    "<form action=\"javascript:code_toggle()\"><input type=\"submit\" value=\"Click here to toggle on/off the raw code.\"></form>''')"
   ]
  },
  {
   "cell_type": "code",
   "execution_count": 2,
   "metadata": {
    "collapsed": true
   },
   "outputs": [],
   "source": [
    "from __future__ import print_function\n",
    "from numpy import *\n",
    "from scipy import *\n",
    "import matplotlib.pyplot as plt\n",
    "\n",
    "import matplotlib.pyplot as plt\n",
    "import netCDF4 as nc\n",
    "import numpy as np\n",
    "import scipy as sp\n",
    "import cmocean\n",
    "\"\"\n",
    "from salishsea_tools import (\n",
    "    nc_tools,\n",
    "    viz_tools,\n",
    "    geo_tools,\n",
    "    tidetools\n",
    ")\n",
    "\n",
    "%matplotlib inline\n"
   ]
  },
  {
   "cell_type": "code",
   "execution_count": 3,
   "metadata": {},
   "outputs": [
    {
     "name": "stdout",
     "output_type": "stream",
     "text": [
      "ds from sea_initial\n",
      "<class 'netCDF4._netCDF4.Dataset'>\n",
      "root group (NETCDF4 data model, file format HDF5):\n",
      "    dimensions(sizes): deptht(40), yb(1), xbT(870), time_counter(52)\n",
      "    variables(dimensions): float32 \u001b[4mdeptht\u001b[0m(deptht), float32 \u001b[4mnav_lat\u001b[0m(yb,xbT), float32 \u001b[4mnav_lon\u001b[0m(yb,xbT), int32 \u001b[4mnbidta\u001b[0m(yb,xbT), int32 \u001b[4mnbjdta\u001b[0m(yb,xbT), int32 \u001b[4mnbrdta\u001b[0m(yb,xbT), float32 \u001b[4mtime_counter\u001b[0m(time_counter), float32 \u001b[4mNO3\u001b[0m(time_counter,deptht,yb,xbT), float32 \u001b[4mSi\u001b[0m(time_counter,deptht,yb,xbT), float32 \u001b[4mNH4\u001b[0m(time_counter,deptht,yb,xbT), float32 \u001b[4mDIA\u001b[0m(time_counter,deptht,yb,xbT), float32 \u001b[4mCRY\u001b[0m(time_counter,deptht,yb,xbT), float32 \u001b[4mMYRI\u001b[0m(time_counter,deptht,yb,xbT), float32 \u001b[4mMICZ\u001b[0m(time_counter,deptht,yb,xbT), float32 \u001b[4mPON\u001b[0m(time_counter,deptht,yb,xbT), float32 \u001b[4mDON\u001b[0m(time_counter,deptht,yb,xbT), float32 \u001b[4mbSi\u001b[0m(time_counter,deptht,yb,xbT), float32 \u001b[4mO2\u001b[0m(time_counter,deptht,yb,xbT), float32 \u001b[4mtur\u001b[0m(time_counter,deptht,yb,xbT), float64 \u001b[4mDIC\u001b[0m(time_counter,deptht,yb,xbT), float64 \u001b[4mTA\u001b[0m(time_counter,deptht,yb,xbT), float64 \u001b[4mOXY\u001b[0m(time_counter,deptht,yb,xbT)\n",
      "    groups: \n",
      "\n"
     ]
    }
   ],
   "source": [
    "dsin = nc.Dataset('/data/tjarniko/MEOPAR/SS-run-sets/SalishSea/nemo3.6/tereza/INIT_NC/tr_westDICTAOXY.nc')\n",
    "\n",
    "print('ds from sea_initial')\n",
    "print(dsin)"
   ]
  },
  {
   "cell_type": "code",
   "execution_count": 4,
   "metadata": {
    "collapsed": true
   },
   "outputs": [],
   "source": [
    "OXY = dsin.variables['OXY']"
   ]
  },
  {
   "cell_type": "code",
   "execution_count": 5,
   "metadata": {
    "collapsed": true
   },
   "outputs": [],
   "source": [
    "OXY = OXY[:] * 44.6596"
   ]
  },
  {
   "cell_type": "code",
   "execution_count": 6,
   "metadata": {},
   "outputs": [
    {
     "name": "stdout",
     "output_type": "stream",
     "text": [
      "deptht\n",
      "40\n",
      "yb\n",
      "1\n",
      "xbT\n",
      "870\n",
      "time_counter\n",
      "52\n",
      "float32\n",
      "float32\n",
      "float32\n",
      "int32\n",
      "int32\n",
      "int32\n",
      "float32\n",
      "float32\n",
      "float32\n",
      "float32\n",
      "float32\n",
      "float32\n",
      "float32\n",
      "float32\n",
      "float32\n",
      "float32\n",
      "float32\n",
      "float32\n",
      "float32\n",
      "float64\n",
      "float64\n",
      "float64\n"
     ]
    }
   ],
   "source": [
    "ncname = '/data/tjarniko/MEOPAR/SS-run-sets/SalishSea/nemo3.6/tereza/INIT_NC/tr_west_DICTAOXY_072718.nc'\n",
    "dsout = nc.Dataset(ncname, \"w\", format=\"NETCDF4\")\n",
    "#Copy dimensions\n",
    "for dname, the_dim in dsin.dimensions.items():\n",
    "    print(dname)\n",
    "    print(len(the_dim))\n",
    "    dsout.createDimension(dname, len(the_dim) if not the_dim.isunlimited() else None)\n",
    "# Copy variables\n",
    "for v_name, varin in dsin.variables.items():\n",
    "    outVar = dsout.createVariable(v_name, varin.datatype, varin.dimensions)\n",
    "    print(varin.datatype)\n",
    "    \n",
    "    # Copy variable attributes\n",
    "    outVar.setncatts({k: varin.getncattr(k) for k in varin.ncattrs()})\n",
    "    \n",
    "    outVar[:] = varin[:]"
   ]
  },
  {
   "cell_type": "code",
   "execution_count": 7,
   "metadata": {
    "collapsed": true
   },
   "outputs": [],
   "source": [
    "dsout['OXY'][:] = OXY\n",
    "dsout.close()\n",
    "\n"
   ]
  },
  {
   "cell_type": "code",
   "execution_count": 8,
   "metadata": {},
   "outputs": [
    {
     "name": "stdout",
     "output_type": "stream",
     "text": [
      "[[[[ 286.32510074  286.32510074  286.32510074 ...,  267.00356802\n",
      "     267.25127561  267.54855879]]\n",
      "\n",
      "  [[ 282.6094869   282.6094869   282.6094869  ...,  265.6163033\n",
      "     265.66587889  265.71545448]]\n",
      "\n",
      "  [[ 279.09183469  279.09183469  279.09183469 ...,  264.57589735\n",
      "     264.57589735  264.62547294]]\n",
      "\n",
      "  ..., \n",
      "  [[ 121.94300509  121.94300509  121.94300509 ...,  128.92873392\n",
      "     128.92873392  128.92873392]]\n",
      "\n",
      "  [[ 121.94300509  121.94300509  121.94300509 ...,  128.92873392\n",
      "     128.92873392  128.92873392]]\n",
      "\n",
      "  [[ 121.94300509  121.94300509  121.94300509 ...,  128.92873392\n",
      "     128.92873392  128.92873392]]]\n",
      "\n",
      "\n",
      " [[[ 293.21150803  293.21150803  293.21150803 ...,  272.65143735\n",
      "     272.89914494  273.19642812]]\n",
      "\n",
      "  [[ 289.29759182  289.29759182  289.29759182 ...,  271.16502145\n",
      "     271.21459704  271.26417263]]\n",
      "\n",
      "  [[ 285.63155356  285.63155356  285.63155356 ...,  270.07521028\n",
      "     270.07521028  270.12478587]]\n",
      "\n",
      "  ..., \n",
      "  [[ 124.07339258  124.07339258  124.07339258 ...,  130.91022427\n",
      "     130.91022427  130.91022427]]\n",
      "\n",
      "  [[ 124.07339258  124.07339258  124.07339258 ...,  130.91022427\n",
      "     130.91022427  130.91022427]]\n",
      "\n",
      "  [[ 124.07339258  124.07339258  124.07339258 ...,  130.91022427\n",
      "     130.91022427  130.91022427]]]\n",
      "\n",
      "\n",
      " [[[ 296.82814105  296.82814105  296.82814105 ...,  277.75414556\n",
      "     278.05142874  278.4478631 ]]\n",
      "\n",
      "  [[ 292.36923408  292.36923408  292.36923408 ...,  276.11934361\n",
      "     276.26807038  276.41662679]]\n",
      "\n",
      "  [[ 288.10862946  288.10862946  288.10862946 ...,  274.78165448\n",
      "     274.88080566  274.97978648]]\n",
      "\n",
      "  ..., \n",
      "  [[ 115.79972057  115.79972057  115.79972057 ...,  122.24028827\n",
      "     122.24028827  122.24028827]]\n",
      "\n",
      "  [[ 115.79972057  115.79972057  115.79972057 ...,  122.24028827\n",
      "     122.24028827  122.24028827]]\n",
      "\n",
      "  [[ 115.79972057  115.79972057  115.79972057 ...,  122.24028827\n",
      "     122.24028827  122.24028827]]]\n",
      "\n",
      "\n",
      " ..., \n",
      " [[[ 271.90814422  271.90814422  271.90814422 ...,  254.51886699\n",
      "     254.81615017  255.11343335]]\n",
      "\n",
      "  [[ 267.99439838  267.99439838  267.99439838 ...,  252.88389468\n",
      "     252.93347027  252.98304586]]\n",
      "\n",
      "  [[ 263.88235017  263.88235017  263.88235017 ...,  251.49680032\n",
      "     251.54620555  251.59578114]]\n",
      "\n",
      "  ..., \n",
      "  [[ 112.48054109  112.48054109  112.48054109 ...,  118.97068438\n",
      "     118.97068438  118.97068438]]\n",
      "\n",
      "  [[ 112.48054109  112.48054109  112.48054109 ...,  118.97068438\n",
      "     118.97068438  118.97068438]]\n",
      "\n",
      "  [[ 112.48054109  112.48054109  112.48054109 ...,  118.97068438\n",
      "     118.97068438  118.97068438]]]\n",
      "\n",
      "\n",
      " [[[ 270.02563468  270.02563468  270.02563468 ...,  254.81615017\n",
      "     255.11343335  255.46012176]]\n",
      "\n",
      "  [[ 266.50815284  266.50815284  266.50815284 ...,  253.52786627\n",
      "     253.62701745  253.77574422]]\n",
      "\n",
      "  [[ 262.99050063  262.99050063  262.99050063 ...,  252.43805509\n",
      "     252.48746032  252.5866115 ]]\n",
      "\n",
      "  ..., \n",
      "  [[ 116.24573053  116.24573053  116.24573053 ...,  123.33026981\n",
      "     123.33026981  123.33026981]]\n",
      "\n",
      "  [[ 116.24573053  116.24573053  116.24573053 ...,  123.33026981\n",
      "     123.33026981  123.33026981]]\n",
      "\n",
      "  [[ 116.24573053  116.24573053  116.24573053 ...,  123.33026981\n",
      "     123.33026981  123.33026981]]]\n",
      "\n",
      "\n",
      " [[[ 277.11017397  277.11017397  277.11017397 ...,  260.21614155\n",
      "     260.46384914  260.81070791]]\n",
      "\n",
      "  [[ 273.54311653  273.54311653  273.54311653 ...,  258.87862278\n",
      "     258.9776036   259.07675478]]\n",
      "\n",
      "  [[ 270.07521028  270.07521028  270.07521028 ...,  257.83821684\n",
      "     257.88779243  257.93719765]]\n",
      "\n",
      "  ..., \n",
      "  [[ 120.06049555  120.06049555  120.06049555 ...,  127.09545925\n",
      "     127.09545925  127.09545925]]\n",
      "\n",
      "  [[ 120.06049555  120.06049555  120.06049555 ...,  127.09545925\n",
      "     127.09545925  127.09545925]]\n",
      "\n",
      "  [[ 120.06049555  120.06049555  120.06049555 ...,  127.09545925\n",
      "     127.09545925  127.09545925]]]]\n"
     ]
    }
   ],
   "source": [
    "w = nc.Dataset('/data/tjarniko/MEOPAR/SS-run-sets/SalishSea/nemo3.6/tereza/INIT_NC/tr_west_DICTAOXY_072718.nc')\n",
    "q = w.variables['OXY']\n",
    "print(q[:])"
   ]
  },
  {
   "cell_type": "code",
   "execution_count": null,
   "metadata": {
    "collapsed": true
   },
   "outputs": [],
   "source": []
  }
 ],
 "metadata": {
  "kernelspec": {
   "display_name": "Python 3",
   "language": "python",
   "name": "python3"
  },
  "language_info": {
   "codemirror_mode": {
    "name": "ipython",
    "version": 3
   },
   "file_extension": ".py",
   "mimetype": "text/x-python",
   "name": "python",
   "nbconvert_exporter": "python",
   "pygments_lexer": "ipython3",
   "version": "3.6.0"
  }
 },
 "nbformat": 4,
 "nbformat_minor": 2
}
