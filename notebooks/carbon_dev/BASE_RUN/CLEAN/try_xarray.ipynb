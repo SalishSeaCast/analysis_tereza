{
 "cells": [
  {
   "cell_type": "code",
   "execution_count": 2,
   "metadata": {},
   "outputs": [
    {
     "name": "stdout",
     "output_type": "stream",
     "text": [
      "Once deleted, variables cannot be recovered. Proceed (y/[n])? y\n"
     ]
    }
   ],
   "source": [
    "%reset"
   ]
  },
  {
   "cell_type": "code",
   "execution_count": 3,
   "metadata": {},
   "outputs": [
    {
     "data": {
      "text/html": [
       "<script>\n",
       "code_show=true; \n",
       "function code_toggle() {\n",
       " if (code_show){\n",
       " $('div.input').hide();\n",
       " } else {\n",
       " $('div.input').show();\n",
       " }\n",
       " code_show = !code_show\n",
       "} \n",
       "$( document ).ready(code_toggle);\n",
       "</script>\n",
       "<form action=\"javascript:code_toggle()\"><input type=\"submit\" value=\"Click here to toggle on/off the raw code.\"></form>"
      ],
      "text/plain": [
       "<IPython.core.display.HTML object>"
      ]
     },
     "execution_count": 3,
     "metadata": {},
     "output_type": "execute_result"
    }
   ],
   "source": [
    "from IPython.display import HTML\n",
    "\n",
    "HTML('''<script>\n",
    "code_show=true; \n",
    "function code_toggle() {\n",
    " if (code_show){\n",
    " $('div.input').hide();\n",
    " } else {\n",
    " $('div.input').show();\n",
    " }\n",
    " code_show = !code_show\n",
    "} \n",
    "$( document ).ready(code_toggle);\n",
    "</script>\n",
    "<form action=\"javascript:code_toggle()\"><input type=\"submit\" value=\"Click here to toggle on/off the raw code.\"></form>''')"
   ]
  },
  {
   "cell_type": "code",
   "execution_count": 1,
   "metadata": {},
   "outputs": [
    {
     "name": "stderr",
     "output_type": "stream",
     "text": [
      "/home/tjarniko/anaconda3/lib/python3.6/site-packages/matplotlib/__init__.py:1357: UserWarning:  This call to matplotlib.use() has no effect\n",
      "because the backend has already been chosen;\n",
      "matplotlib.use() must be called *before* pylab, matplotlib.pyplot,\n",
      "or matplotlib.backends is imported for the first time.\n",
      "\n",
      "  warnings.warn(_use_error_msg)\n"
     ]
    }
   ],
   "source": [
    "from __future__ import print_function\n",
    "from numpy import *\n",
    "from scipy import *\n",
    "import matplotlib.pyplot as plt\n",
    "\n",
    "import matplotlib.pyplot as plt\n",
    "import netCDF4 as nc\n",
    "import numpy as np\n",
    "import scipy as sp\n",
    "import xarray as xr\n",
    "\n",
    "import seawater\n",
    "import datetime as dt\n",
    "\"\"\n",
    "from salishsea_tools import (\n",
    "    nc_tools,\n",
    "    viz_tools,\n",
    "    geo_tools,\n",
    "    tidetools\n",
    ")\n",
    "\n",
    "import matplotlib\n",
    "matplotlib.use('Agg')\n",
    "import matplotlib.pyplot as plt\n",
    "import matplotlib.patches as patches\n",
    "plt.style.use('seaborn-whitegrid')\n",
    "import netCDF4 as nc\n",
    "\n",
    "import cmocean as cm\n",
    "import glob\n",
    "import sys\n",
    "sys.path.append('/data/tjarniko/mocsy')\n",
    "sys.path.append('/data/tjarniko/MEOPAR/at3/notebooks/carbon_dev/CCCmaDEV/CCCma_src')\n",
    "import mocsy\n",
    "import CCCma\n",
    "import CCCma_stations as cs\n",
    "from matplotlib import reload\n",
    "import arrow\n",
    "import gsw\n",
    "%matplotlib inline"
   ]
  },
  {
   "cell_type": "code",
   "execution_count": 5,
   "metadata": {},
   "outputs": [
    {
     "name": "stdout",
     "output_type": "stream",
     "text": [
      "1\n",
      "31\n",
      "1\n",
      "365\n"
     ]
    }
   ],
   "source": [
    "sdir = '/data/tjarniko/results/BR_2nd_2015_cop/SKOG_2/ncs/'\n",
    "sdir3 = '/data/tjarniko/results/PREIND_2nd_2015/PI_2/ncs/'\n",
    "\n",
    "\n",
    "start = '2015-01-01'\n",
    "end = '2015-01-31'\n",
    "start3 = '2015-01-01'\n",
    "end3 = '2015-12-31'\n",
    "\n",
    "st = dt.datetime(2015,1,1)\n",
    "en = dt.datetime(2015,1,31)\n",
    "st3 = dt.datetime(2015,1,1)\n",
    "en3 = dt.datetime(2015,12,31)\n",
    "\n",
    "\n",
    "y_st = st.timetuple().tm_yday\n",
    "print(y_st)\n",
    "y_en = en.timetuple().tm_yday\n",
    "print(y_en)\n",
    "ts_BR = np.arange(y_st,y_en+1,1)\n",
    "\n",
    "#PI year\n",
    "y_st3 = st3.timetuple().tm_yday\n",
    "print(y_st3)\n",
    "y_en3 = en3.timetuple().tm_yday\n",
    "print(y_en3)\n",
    "ts_PI = np.arange(y_st3,y_en3+1,1)\n",
    "days_in = np.size(ts_PI)\n"
   ]
  },
  {
   "cell_type": "code",
   "execution_count": 3,
   "metadata": {
    "collapsed": true
   },
   "outputs": [],
   "source": [
    "\n",
    "\n",
    "def make_nclen(start,end,ftype, sdir):\n",
    "    base_ar = []\n",
    "    sens_ar = []\n",
    "    start_run = arrow.get(start)\n",
    "    end_run = arrow.get(end)\n",
    "    arrow_array = []\n",
    "    for r in arrow.Arrow.span_range('day', start_run, end_run):\n",
    "        arrow_array.append(r)\n",
    "\n",
    "    dayslen = len(arrow_array)\n",
    "    for i in range(0,dayslen):\n",
    "        tdate = arrow_array[i][0]\n",
    "        ddmmmyy = tdate.format('DDMMMYY').lower()\n",
    "        ymd = tdate.format('YYYYMMDD')\n",
    "        nc_sens = sdir + '/SKOG_1d_*'+ ftype +'*' + ymd + '-' + ymd + '.nc'\n",
    "        tnc_sens = glob.glob(nc_sens)\n",
    "        sens_ar.append(tnc_sens[0])\n",
    "    return sens_ar"
   ]
  },
  {
   "cell_type": "code",
   "execution_count": 7,
   "metadata": {},
   "outputs": [],
   "source": [
    "sens_ar = make_nclen(start,end,'carp',sdir)"
   ]
  },
  {
   "cell_type": "code",
   "execution_count": 9,
   "metadata": {},
   "outputs": [],
   "source": [
    "tdat = xr.open_mfdataset(sens_ar)"
   ]
  },
  {
   "cell_type": "code",
   "execution_count": 10,
   "metadata": {},
   "outputs": [
    {
     "name": "stdout",
     "output_type": "stream",
     "text": [
      "<xarray.Dataset>\n",
      "Dimensions:                     (axis_nbounds: 2, deptht: 40, nvertex: 4, time_counter: 31, x: 398, y: 898)\n",
      "Coordinates:\n",
      "  * deptht                      (deptht) float32 0.5 1.5 2.50001 3.50003 ...\n",
      "    nav_lat                     (y, x) float32 -1.0 -1.0 -1.0 -1.0 -1.0 -1.0 ...\n",
      "    nav_lon                     (y, x) float32 -1.0 -1.0 -1.0 -1.0 -1.0 -1.0 ...\n",
      "    time_centered               (time_counter) datetime64[ns] 2015-01-01T12:00:00 ...\n",
      "  * time_counter                (time_counter) datetime64[ns] 2015-01-01T12:00:00 ...\n",
      "Dimensions without coordinates: axis_nbounds, nvertex, x, y\n",
      "Data variables:\n",
      "    PAR                         (time_counter, deptht, y, x) float64 nan nan ...\n",
      "    area                        (time_counter, y, x) float32 -1.0 -1.0 -1.0 ...\n",
      "    bounds_nav_lat              (time_counter, y, x, nvertex) float32 -1.0 ...\n",
      "    bounds_nav_lon              (time_counter, y, x, nvertex) float32 -1.0 ...\n",
      "    co2_flux_mmol_m2_s          (time_counter, y, x) float64 nan nan nan nan ...\n",
      "    deptht_bounds               (time_counter, deptht, axis_nbounds) float32 0.0 ...\n",
      "    dissolved_inorganic_carbon  (time_counter, deptht, y, x) float64 nan nan ...\n",
      "    dissolved_oxygen            (time_counter, deptht, y, x) float64 nan nan ...\n",
      "    e3t                         (time_counter, deptht, y, x) float64 nan nan ...\n",
      "    sigma_theta                 (time_counter, deptht, y, x) float64 nan nan ...\n",
      "    time_centered_bounds        (time_counter, axis_nbounds) float64 3.629e+09 ...\n",
      "    time_counter_bounds         (time_counter, axis_nbounds) float64 3.629e+09 ...\n",
      "    total_alkalinity            (time_counter, deptht, y, x) float64 nan nan ...\n",
      "Attributes:\n",
      "    name:         SKOG_1d_20150101_20150130_carp_T\n",
      "    description:  auxilary variables\n",
      "    title:        auxilary variables\n",
      "    Conventions:  CF-1.6\n",
      "    timeStamp:    2019-May-07 16:48:44 GMT\n",
      "    uuid:         7fd5d2c2-992c-4fd9-9b4e-fe52ed2c8403\n",
      "    history:      Wed May 15 16:28:51 2019: ncks -4 -L4 -O /data/tjarniko/res...\n",
      "    NCO:          \"4.5.4\"\n"
     ]
    }
   ],
   "source": [
    "print(tdat)"
   ]
  },
  {
   "cell_type": "code",
   "execution_count": 11,
   "metadata": {
    "collapsed": true
   },
   "outputs": [],
   "source": [
    "car = tdat['dissolved_inorganic_carbon']"
   ]
  },
  {
   "cell_type": "code",
   "execution_count": 12,
   "metadata": {},
   "outputs": [
    {
     "name": "stdout",
     "output_type": "stream",
     "text": [
      "<xarray.DataArray 'dissolved_inorganic_carbon' (time_counter: 31, deptht: 40, y: 898, x: 398)>\n",
      "dask.array<concate..., shape=(31, 40, 898, 398), dtype=float64, chunksize=(1, 40, 898, 398)>\n",
      "Coordinates:\n",
      "  * deptht         (deptht) float32 0.5 1.5 2.50001 3.50003 4.50007 5.50015 ...\n",
      "    nav_lat        (y, x) float32 -1.0 -1.0 -1.0 -1.0 -1.0 -1.0 -1.0 -1.0 ...\n",
      "    nav_lon        (y, x) float32 -1.0 -1.0 -1.0 -1.0 -1.0 -1.0 -1.0 -1.0 ...\n",
      "    time_centered  (time_counter) datetime64[ns] 2015-01-01T12:00:00 ...\n",
      "  * time_counter   (time_counter) datetime64[ns] 2015-01-01T12:00:00 ...\n",
      "Dimensions without coordinates: y, x\n",
      "Attributes:\n",
      "    standard_name:       mole_concentration_of_dissolved_inorganic_carbon_in_...\n",
      "    long_name:           Dissolved Inorganic C Concentration\n",
      "    units:               mmol m-3\n",
      "    online_operation:    average\n",
      "    interval_operation:  40 s\n",
      "    interval_write:      1 d\n",
      "    cell_methods:        time: mean (interval: 40 s)\n",
      "    cell_measures:       area: area\n"
     ]
    }
   ],
   "source": [
    "print(car)"
   ]
  },
  {
   "cell_type": "code",
   "execution_count": null,
   "metadata": {
    "collapsed": true
   },
   "outputs": [],
   "source": []
  }
 ],
 "metadata": {
  "kernelspec": {
   "display_name": "Python 3",
   "language": "python",
   "name": "python3"
  },
  "language_info": {
   "codemirror_mode": {
    "name": "ipython",
    "version": 3
   },
   "file_extension": ".py",
   "mimetype": "text/x-python",
   "name": "python",
   "nbconvert_exporter": "python",
   "pygments_lexer": "ipython3",
   "version": "3.6.0"
  }
 },
 "nbformat": 4,
 "nbformat_minor": 2
}
