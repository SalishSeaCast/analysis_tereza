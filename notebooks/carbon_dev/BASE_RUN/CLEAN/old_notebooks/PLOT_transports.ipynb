{
 "cells": [
  {
   "cell_type": "markdown",
   "metadata": {},
   "source": [
    "## TRANSPORTS\n",
    "\n",
    "plots transports through JDF in mol/m2/s, daily, figures in ./FLUX_plot"
   ]
  },
  {
   "cell_type": "code",
   "execution_count": 1,
   "metadata": {},
   "outputs": [
    {
     "name": "stdout",
     "output_type": "stream",
     "text": [
      "Once deleted, variables cannot be recovered. Proceed (y/[n])? y\n"
     ]
    }
   ],
   "source": [
    "%reset"
   ]
  },
  {
   "cell_type": "code",
   "execution_count": 2,
   "metadata": {},
   "outputs": [
    {
     "data": {
      "text/html": [
       "<script>\n",
       "code_show=true; \n",
       "function code_toggle() {\n",
       " if (code_show){\n",
       " $('div.input').hide();\n",
       " } else {\n",
       " $('div.input').show();\n",
       " }\n",
       " code_show = !code_show\n",
       "} \n",
       "$( document ).ready(code_toggle);\n",
       "</script>\n",
       "<form action=\"javascript:code_toggle()\"><input type=\"submit\" value=\"Click here to toggle on/off the raw code.\"></form>"
      ],
      "text/plain": [
       "<IPython.core.display.HTML object>"
      ]
     },
     "execution_count": 2,
     "metadata": {},
     "output_type": "execute_result"
    }
   ],
   "source": [
    "from IPython.display import HTML\n",
    "\n",
    "HTML('''<script>\n",
    "code_show=true; \n",
    "function code_toggle() {\n",
    " if (code_show){\n",
    " $('div.input').hide();\n",
    " } else {\n",
    " $('div.input').show();\n",
    " }\n",
    " code_show = !code_show\n",
    "} \n",
    "$( document ).ready(code_toggle);\n",
    "</script>\n",
    "<form action=\"javascript:code_toggle()\"><input type=\"submit\" value=\"Click here to toggle on/off the raw code.\"></form>''')"
   ]
  },
  {
   "cell_type": "code",
   "execution_count": 3,
   "metadata": {},
   "outputs": [
    {
     "name": "stderr",
     "output_type": "stream",
     "text": [
      "/home/tjarniko/anaconda3/lib/python3.6/site-packages/matplotlib/__init__.py:1357: UserWarning:  This call to matplotlib.use() has no effect\n",
      "because the backend has already been chosen;\n",
      "matplotlib.use() must be called *before* pylab, matplotlib.pyplot,\n",
      "or matplotlib.backends is imported for the first time.\n",
      "\n",
      "  warnings.warn(_use_error_msg)\n"
     ]
    }
   ],
   "source": [
    "from __future__ import print_function\n",
    "from numpy import *\n",
    "from scipy import *\n",
    "import netCDF4 as nc\n",
    "import numpy as np\n",
    "import scipy as sp\n",
    "import seawater\n",
    "import datetime as dt\n",
    "\n",
    "\"\"\n",
    "from salishsea_tools import (\n",
    "    nc_tools,\n",
    "    viz_tools, \n",
    "    geo_tools,\n",
    "    tidetools\n",
    ")\n",
    "import matplotlib.pyplot as plt\n",
    "#matplotlib.use('Agg')\n",
    "import matplotlib.patches as patches\n",
    "plt.style.use('seaborn-whitegrid')\n",
    "import netCDF4 as nc\n",
    "\n",
    "import cmocean as cm\n",
    "import glob\n",
    "import sys\n",
    "sys.path.append('/data/tjarniko/mocsy')\n",
    "sys.path.append('/data/tjarniko/MEOPAR/at3/notebooks/carbon_dev/CCCmaDEV/CCCma_src')\n",
    "sys.path.append('/data/tjarniko/MEOPAR/tools/SalishSeaTools/salishsea_tools/')\n",
    "import mocsy\n",
    "import river_201702 as rv\n",
    "import mocsy\n",
    "import CCCma\n",
    "import CCCma_stations as cs\n",
    "from matplotlib import reload\n",
    "import arrow\n",
    "import gsw\n",
    "import datetime as dt\n",
    "\n",
    "%matplotlib inline"
   ]
  },
  {
   "cell_type": "code",
   "execution_count": 4,
   "metadata": {
    "collapsed": true
   },
   "outputs": [],
   "source": [
    "def make_nclen(start,end,ftype, sdir):\n",
    "    date_ar = []\n",
    "    sens_ar = []\n",
    "    doy_ar = []\n",
    "    start_run = arrow.get(start)\n",
    "    end_run = arrow.get(end)\n",
    "    arrow_array = []\n",
    "    for r in arrow.Arrow.span_range('day', start_run, end_run):\n",
    "        arrow_array.append(r)\n",
    "\n",
    "    dayslen = len(arrow_array)\n",
    "    for i in range(0,dayslen):\n",
    "        tdate = arrow_array[i][0]\n",
    "        ddmmmyy = tdate.format('DDMMMYY').lower()\n",
    "        ymd = tdate.format('YYYYMMDD')\n",
    "        dddd = tdate.format('DDDD')\n",
    "        nc_sens = sdir + '/SKOG_1d_*'+ ftype +'*' + ymd + '-' + ymd + '.nc'\n",
    "        tnc_sens = glob.glob(nc_sens)\n",
    "        sens_ar.append(tnc_sens[0])\n",
    "        date_ar.append(ddmmmyy)\n",
    "        doy_ar.append(dddd)\n",
    "    return date_ar, sens_ar, doy_ar"
   ]
  },
  {
   "cell_type": "code",
   "execution_count": 8,
   "metadata": {},
   "outputs": [
    {
     "name": "stdout",
     "output_type": "stream",
     "text": [
      "1\n",
      "365\n"
     ]
    }
   ],
   "source": [
    "start = '2015-01-01'\n",
    "end = '2015-12-31'\n",
    "\n",
    "st = dt.datetime(2015,1,1)\n",
    "en = dt.datetime(2015,12,31)\n",
    "\n",
    "y_st = st.timetuple().tm_yday\n",
    "print(y_st)\n",
    "y_en = en.timetuple().tm_yday\n",
    "print(y_en)\n",
    "ts_BR = np.arange(y_st,y_en+1,1)\n",
    "\n",
    "sdir_preind = '/data/tjarniko/results/BASERUN_EXP/PI_3rd_2015/ncs/'\n",
    "sdir_br = '/data/tjarniko/results/BASERUN_EXP/BR_2nd_2015/ncs/'\n",
    "\n",
    "dates_preind, files_preind, doy_preind = make_nclen(start,end,'dian_U', sdir_preind)\n",
    "dates_br, files_br, doy_br = make_nclen(start,end,'dian_U', sdir_br)\n"
   ]
  },
  {
   "cell_type": "code",
   "execution_count": 10,
   "metadata": {
    "collapsed": true
   },
   "outputs": [],
   "source": [
    "t_testU_BR = nc.Dataset(files_br[0])\n",
    "DIC_UT = t_testU_BR['DIC_UT']\n",
    "DIC_UT_jdfmouth_BR = DIC_UT[:,:,:,20]\n",
    "DIC_UT_jdfmouth2d_BR = np.squeeze(DIC_UT_jdfmouth_BR)\n",
    "\n",
    "\n",
    "depth_bounds = t_testU_BR['depthu_bounds']\n",
    "depth_cell = np.zeros(40)\n",
    "depth_cell[:] = depth_bounds[:,1]-depth_bounds[:,0]\n",
    "area_cells_all = np.zeros_like(DIC_UT_jdfmouth2d_BR)\n",
    "area_cell = depth_cell*440\n",
    "#     zlevels = physdat.variables['deptht']\n",
    "for i in range(0,898):\n",
    "    area_cells_all[:,i] = area_cell\n",
    "zlevels = t_testU_BR.variables['depthu']\n"
   ]
  },
  {
   "cell_type": "code",
   "execution_count": 11,
   "metadata": {},
   "outputs": [
    {
     "name": "stdout",
     "output_type": "stream",
     "text": [
      "[  0.5000003   1.5000031   2.5000114   3.5000305   4.5000706   5.5001507\n",
      "   6.5003104   7.500623    8.501236    9.502433   10.5047655  11.509312\n",
      "  12.518167   13.535412   14.568982   15.634288   16.761173   18.007135\n",
      "  19.481785   21.389978   24.100256   28.229916   34.685757   44.517723\n",
      "  58.484333   76.58559    98.06296   121.866516  147.08946   173.11449\n",
      " 199.57304   226.2603    253.06664   279.93454   306.8342    333.75018\n",
      " 360.67453   387.6032    414.5341    441.4661   ]\n"
     ]
    }
   ],
   "source": [
    "print(zlevels[:])"
   ]
  },
  {
   "cell_type": "code",
   "execution_count": 27,
   "metadata": {
    "scrolled": true
   },
   "outputs": [
    {
     "name": "stdout",
     "output_type": "stream",
     "text": [
      "150\n"
     ]
    },
    {
     "data": {
      "image/png": "[encoded data removed]",
      "text/plain": [
       "<matplotlib.figure.Figure at 0x7f7ff5cf0080>"
      ]
     },
     "metadata": {},
     "output_type": "display_data"
    }
   ],
   "source": [
    "for d in range(150,151):#,len(doy_br)):\n",
    "    if d % 10 == 0:\n",
    "        print(d)\n",
    "    doy = doy_br[d]\n",
    "    tdate = dates_br[d]\n",
    "\n",
    "    t_testU_BR = nc.Dataset(files_br[d])\n",
    "    DIC_UT = t_testU_BR['DIC_UT']\n",
    "    DIC_UT_jdfmouth_BR = DIC_UT[:,:,:,20]\n",
    "    DIC_UT_jdfmouth2d_BR = np.squeeze(DIC_UT_jdfmouth_BR)\n",
    "    DIC_mmol_m2_2_BR = DIC_UT_jdfmouth2d_BR/area_cells_all\n",
    "\n",
    "    t_testU_PI = nc.Dataset(files_preind[d])\n",
    "    DIC_UT = t_testU_PI['DIC_UT']\n",
    "    DIC_UT_jdfmouth_PI = DIC_UT[:,:,:,20]\n",
    "    DIC_UT_jdfmouth2d_PI = np.squeeze(DIC_UT_jdfmouth_PI)\n",
    "    DIC_mmol_m2_2_PI = DIC_UT_jdfmouth2d_PI/area_cells_all\n",
    "\n",
    "\n",
    "    fig = plt.figure(figsize=(6,5))\n",
    "#     nop = 4\n",
    "    #for i in range(1,nop+1):\n",
    "#         print(i)\n",
    "#         if i == 1:\n",
    "    ax1 = fig.add_subplot(1,1,1)\n",
    "    section_slice = np.arange(360, 460)\n",
    "    sd = (DIC_mmol_m2_2_BR[:,360:460])/1000\n",
    "    tplt = np.ma.masked_values(sd,0)\n",
    "    tcmap = cm.cm.balance\n",
    "    cmap = tcmap\n",
    "    mesh = ax1.pcolormesh(section_slice[:],zlevels[:],tplt, cmap = tcmap, vmin=-2, vmax=2 )\n",
    "    cbar = fig.colorbar(mesh, ax=ax1)\n",
    "    ax1.invert_yaxis()\n",
    "    land_colour = 'burlywood'\n",
    "    cmap.set_bad(land_colour)\n",
    "    plt.title('Juan de Fuca DIC transport, May 30, 2015', fontsize = 20) \n",
    "    cbar.set_label('DIC transport, (mol/m$^2$/s)', fontsize = 20)\n",
    "    #ax1.set_ylabel('depth (m)')\n",
    "    cbar.ax.tick_params(labelsize=16) \n",
    "    ax1.tick_params(axis='both', which='major', labelsize=16)\n",
    "    ax1.set_xticklabels([])\n",
    "    ax1.set_ylabel('Depth (m)', fontsize= 18)\n",
    "    \n",
    "\n",
    "#     #if i == 2:\n",
    "#     ax2 = fig.add_subplot(1,3,2)\n",
    "#     section_slice = np.arange(360, 460)\n",
    "#     sd = (DIC_mmol_m2_2_PI[:,360:460])/1000\n",
    "#     tplt = np.ma.masked_values(sd,0)\n",
    "#     tcmap = cm.cm.balance\n",
    "#     cmap = tcmap\n",
    "#     mesh = ax2.pcolormesh(section_slice[:],zlevels[:],tplt, cmap = tcmap, vmin=-2, vmax=2 )\n",
    "#     cbar = fig.colorbar(mesh, ax=ax2)\n",
    "#     ax2.invert_yaxis()\n",
    "#     land_colour = 'burlywood'\n",
    "#     cmap.set_bad(land_colour)\n",
    "#     plt.title('DIC trans. JDF (mol/m2/s) - PI')  \n",
    "#     ax2.set_yticklabels([])\n",
    "#     ax2.set_xticklabels([])\n",
    "\n",
    "    \n",
    "#     ax3 = fig.add_subplot(1,3,3)\n",
    "#     section_slice = np.arange(360, 460)\n",
    "#     sd = (DIC_mmol_m2_2_PI[:,360:460]-DIC_mmol_m2_2_BR[:,360:460])/1000\n",
    "#     tplt = np.ma.masked_values(sd,0)\n",
    "#     tcmap = cm.cm.balance\n",
    "#     cmap = tcmap\n",
    "#     mesh = ax3.pcolormesh(section_slice[:],zlevels[:],tplt, cmap = tcmap, vmin=-0.5, vmax=0.5 )\n",
    "#     cbar = fig.colorbar(mesh, ax=ax3)\n",
    "#     ax3.invert_yaxis()\n",
    "#     land_colour = 'burlywood'\n",
    "#     cmap.set_bad(land_colour)\n",
    "#     plt.title('DIC trans. JDF (mol/m2/s) - PI')  \n",
    "#     ax3.set_yticklabels([])\n",
    "#     ax3.set_xticklabels([])\n",
    "#         if i == 3:\n",
    "#             ax = fig.add_subplot(1,3,i)\n",
    "#             section_slice = np.arange(360, 460)\n",
    "#             sd = (DIC_mmol_m2_2_BR[:,360:460] - DIC_mmol_m2_2_PI[:,360:460])/1000\n",
    "#             tplt = np.ma.masked_values(sd,0)\n",
    "#             tcmap = cm.cm.balance\n",
    "#             cmap = tcmap\n",
    "#             mesh = ax.pcolormesh(section_slice[:],zlevels[:],tplt, cmap = tcmap, vmin=-1, vmax=1 )\n",
    "#             cbar = fig.colorbar(mesh, ax=ax)\n",
    "#             ax.invert_yaxis()\n",
    "#             land_colour = 'slategrey'\n",
    "#             cmap.set_bad(land_colour)\n",
    "#             ax.set_yticklabels([])\n",
    "#             ax.set_xticklabels([])\n",
    "#             fig.suptitle(tdate + ' flux differences, DOY '+ doy, fontsize = 25) \n",
    "\n",
    "    plt.show()\n",
    "        #plt.suptitle('YES', fontsize = 20)\n",
    "        #fname = './FLUX_plot/JDFDIFF_2NDYR_' + doy +'.png'\n",
    "        #fig.savefig(fname)\n",
    "        #plt.close()"
   ]
  },
  {
   "cell_type": "markdown",
   "metadata": {},
   "source": [
    " "
   ]
  },
  {
   "cell_type": "code",
   "execution_count": null,
   "metadata": {
    "collapsed": true
   },
   "outputs": [],
   "source": []
  },
  {
   "cell_type": "markdown",
   "metadata": {
    "collapsed": true
   },
   "source": [
    "then run bash mov5.sh ./FLUX_plot/ FLUXDIFF_2NDYR_"
   ]
  },
  {
   "cell_type": "code",
   "execution_count": null,
   "metadata": {
    "collapsed": true
   },
   "outputs": [],
   "source": []
  },
  {
   "cell_type": "code",
   "execution_count": null,
   "metadata": {
    "collapsed": true
   },
   "outputs": [],
   "source": []
  }
 ],
 "metadata": {
  "kernelspec": {
   "display_name": "Python 3",
   "language": "python",
   "name": "python3"
  },
  "language_info": {
   "codemirror_mode": {
    "name": "ipython",
    "version": 3
   },
   "file_extension": ".py",
   "mimetype": "text/x-python",
   "name": "python",
   "nbconvert_exporter": "python",
   "pygments_lexer": "ipython3",
   "version": "3.6.0"
  }
 },
 "nbformat": 4,
 "nbformat_minor": 2
}
