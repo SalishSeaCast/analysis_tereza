{
 "cells": [
  {
   "cell_type": "code",
   "execution_count": 4,
   "metadata": {},
   "outputs": [
    {
     "name": "stdout",
     "output_type": "stream",
     "text": [
      "Once deleted, variables cannot be recovered. Proceed (y/[n])? y\n"
     ]
    }
   ],
   "source": [
    "%reset"
   ]
  },
  {
   "cell_type": "code",
   "execution_count": 5,
   "metadata": {},
   "outputs": [
    {
     "data": {
      "text/html": [
       "<script>\n",
       "code_show=true; \n",
       "function code_toggle() {\n",
       " if (code_show){\n",
       " $('div.input').hide();\n",
       " } else {\n",
       " $('div.input').show();\n",
       " }\n",
       " code_show = !code_show\n",
       "} \n",
       "$( document ).ready(code_toggle);\n",
       "</script>\n",
       "<form action=\"javascript:code_toggle()\"><input type=\"submit\" value=\"Click here to toggle on/off the raw code.\"></form>"
      ],
      "text/plain": [
       "<IPython.core.display.HTML object>"
      ]
     },
     "execution_count": 5,
     "metadata": {},
     "output_type": "execute_result"
    }
   ],
   "source": [
    "from IPython.display import HTML\n",
    "\n",
    "HTML('''<script>\n",
    "code_show=true; \n",
    "function code_toggle() {\n",
    " if (code_show){\n",
    " $('div.input').hide();\n",
    " } else {\n",
    " $('div.input').show();\n",
    " }\n",
    " code_show = !code_show\n",
    "} \n",
    "$( document ).ready(code_toggle);\n",
    "</script>\n",
    "<form action=\"javascript:code_toggle()\"><input type=\"submit\" value=\"Click here to toggle on/off the raw code.\"></form>''')"
   ]
  },
  {
   "cell_type": "code",
   "execution_count": 2,
   "metadata": {},
   "outputs": [
    {
     "name": "stdout",
     "output_type": "stream",
     "text": [
      "12117254.434584927\n"
     ]
    },
    {
     "name": "stderr",
     "output_type": "stream",
     "text": [
      "/home/tjarniko/anaconda3/lib/python3.6/site-packages/matplotlib/__init__.py:1357: UserWarning:  This call to matplotlib.use() has no effect\n",
      "because the backend has already been chosen;\n",
      "matplotlib.use() must be called *before* pylab, matplotlib.pyplot,\n",
      "or matplotlib.backends is imported for the first time.\n",
      "\n",
      "  warnings.warn(_use_error_msg)\n"
     ]
    }
   ],
   "source": [
    "from __future__ import print_function\n",
    "\n",
    "j_st = 0\n",
    "j_en = 100\n",
    "ncname = 'OmA_horizon_2015_newalg_' + str(j_st) + '_' + str(j_en) + '.nc'\n",
    "\n",
    "from numpy import *\n",
    "from scipy import *\n",
    "import netCDF4 as nc\n",
    "import numpy as np\n",
    "import scipy as sp\n",
    "import seawater\n",
    "import datetime as dt\n",
    "\"\"\n",
    "from salishsea_tools import (\n",
    "    nc_tools,\n",
    "    viz_tools, \n",
    "    geo_tools,\n",
    "    tidetools\n",
    ")\n",
    "from salishsea_tools import visualisations as vis\n",
    "import matplotlib.pyplot as plt\n",
    "#matplotlib.use('Agg')\n",
    "import matplotlib.patches as patches\n",
    "plt.style.use('seaborn-whitegrid')\n",
    "import netCDF4 as nc\n",
    "\n",
    "import cmocean as cm\n",
    "import glob\n",
    "import sys\n",
    "sys.path.append('/data/tjarniko/mocsy')\n",
    "sys.path.append('/data/tjarniko/MEOPAR/at3/notebooks/carbon_dev/CCCmaDEV/CCCma_src')\n",
    "sys.path.append('/data/tjarniko/MEOPAR/tools/SalishSeaTools/salishsea_tools/')\n",
    "import mocsy\n",
    "import river_201702 as rv\n",
    "import mocsy\n",
    "import CCCma\n",
    "import CCCma_stations as cs\n",
    "from matplotlib import reload\n",
    "import arrow\n",
    "import gsw\n",
    "import datetime as dt\n",
    "import timeit\n",
    "start_time = timeit.default_timer()\n",
    "print(start_time)"
   ]
  },
  {
   "cell_type": "code",
   "execution_count": 2,
   "metadata": {
    "collapsed": true
   },
   "outputs": [],
   "source": [
    "def find_depth_shallowalg(dp,prof,water_depth):\n",
    "    #finds saturation horizon given a profile and corresponding depths\n",
    "    first_proper_undersat = np.nan\n",
    "    depth_undersat = np.nan    \n",
    "    dummy_var = 0\n",
    "    #tot masked\n",
    "    if prof.mask.all():\n",
    "        dummy_var = 0\n",
    "        depth_undersat = np.nan\n",
    "        #print('masks all around!')\n",
    "    elif np.ma.min(prof) >1:\n",
    "        depth_undersat = water_depth\n",
    "        #print('saturated column')\n",
    "    elif np.ma.max(prof) <1:\n",
    "        depth_undersat = 0\n",
    "        #print('undersat to surface')        \n",
    "    else:\n",
    "        t_ind = np.where(prof<1)\n",
    "        t_indar = t_ind[0][0]\n",
    "        t_indss = np.where(prof>=1)\n",
    "        t_indsssar = t_indss[0][0]\n",
    "        if t_indar.size == 0:\n",
    "            dummy_var = 0\n",
    "        else:\n",
    "            if (t_indar.size != 0) & (t_indsssar.size == 0):\n",
    "                depth_undersat = 0\n",
    "                first_proper_undersat = 0\n",
    "                dummy_var = 0\n",
    "                #print('undersat to surface!')\n",
    "                max_supsat = np.nan\n",
    "            else:    \n",
    "                max_supsat = np.max(t_indsssar)    \n",
    "                try:\n",
    "                    first_proper_undersat = np.min(t_indar)\n",
    "                except:\n",
    "                    dummy_var = 0\n",
    "                    #print(\"An exception occurred\")\n",
    "                if first_proper_undersat == 0:\n",
    "                    depth_undersat = dp[0]\n",
    "                if np.isnan(first_proper_undersat):\n",
    "                    dummy_var = 0\n",
    "                    #print('saturated watercolumn!')\n",
    "                else:\n",
    "                    depth_undersat = (dp[first_proper_undersat]+dp[first_proper_undersat-1])/2\n",
    "    return depth_undersat"
   ]
  },
  {
   "cell_type": "code",
   "execution_count": 3,
   "metadata": {
    "collapsed": true
   },
   "outputs": [],
   "source": [
    "def find_depth(dp,prof,water_depth):\n",
    "    #finds saturation horizon given a profile and corresponding depths\n",
    "    first_proper_undersat = np.nan\n",
    "    depth_undersat = np.nan    \n",
    "    dummy_var = 0\n",
    "    #tot masked\n",
    "    if prof.mask.all():\n",
    "        dummy_var = 0\n",
    "        depth_undersat = np.nan\n",
    "        #print('masks all around!')\n",
    "    elif np.ma.min(prof) >1:\n",
    "        depth_undersat = water_depth\n",
    "        #print('saturated column')\n",
    "    elif np.ma.max(prof) <1:\n",
    "        depth_undersat = 0\n",
    "        #print('undersat to surface')        \n",
    "    else:\n",
    "        t_ind = np.where(prof<1)\n",
    "        t_indar = t_ind[0][0]\n",
    "        t_indss = np.where(prof>=1)\n",
    "        t_indsssar = t_indss[0][0]\n",
    "        if t_indar.size == 0:\n",
    "            dummy_var = 0\n",
    "        else:\n",
    "            if (t_indar.size != 0) & (t_indsssar.size == 0):\n",
    "                depth_undersat = 0\n",
    "                first_proper_undersat = 0\n",
    "                dummy_var = 0\n",
    "                #print('undersat to surface!')\n",
    "                max_supsat = np.nan\n",
    "            else:    \n",
    "                max_supsat = np.max(t_indsssar)    \n",
    "                try:\n",
    "                    first_proper_undersat = np.min(t_indar[t_indar>max_supsat])\n",
    "                except:\n",
    "                    dummy_var = 0\n",
    "                    #print(\"An exception occurred\")\n",
    "                if first_proper_undersat == 0:\n",
    "                    depth_undersat = dp[0]\n",
    "                if np.isnan(first_proper_undersat):\n",
    "                    dummy_var = 0\n",
    "                    #print('saturated watercolumn!')\n",
    "                else:\n",
    "                    depth_undersat = (dp[first_proper_undersat]+dp[first_proper_undersat-1])/2\n",
    "    return depth_undersat"
   ]
  },
  {
   "cell_type": "code",
   "execution_count": 6,
   "metadata": {},
   "outputs": [
    {
     "name": "stdout",
     "output_type": "stream",
     "text": [
      "124.0625\n"
     ]
    }
   ],
   "source": [
    "bath = nc.Dataset('/home/sallen/MEOPAR/grid/bathymetry_201702.nc')\n",
    "bath1 = bath.variables['Bathymetry'][j,i]\n",
    "print(bath1)"
   ]
  },
  {
   "cell_type": "code",
   "execution_count": 12,
   "metadata": {},
   "outputs": [
    {
     "data": {
      "text/plain": [
       "<module 'deep_alg_as_fxn' from '/data/tjarniko/MEOPAR/analysis-tereza/notebooks/carbon_dev/BASE_RUN/CLEAN/OmA/deep_alg_as_fxn.py'>"
      ]
     },
     "execution_count": 12,
     "metadata": {},
     "output_type": "execute_result"
    }
   ],
   "source": [
    "import deep_alg_as_fxn as daf\n",
    "reload(daf)"
   ]
  },
  {
   "cell_type": "code",
   "execution_count": 13,
   "metadata": {},
   "outputs": [
    {
     "name": "stdout",
     "output_type": "stream",
     "text": [
      "using deep alg\n",
      "0\n",
      "0\n",
      "BR depth: nan PI depth: nan\n",
      "1\n",
      "0\n",
      "BR depth: nan PI depth: nan\n",
      "2\n",
      "0\n",
      "BR depth: nan PI depth: nan\n",
      "3\n",
      "0\n",
      "BR depth: nan PI depth: nan\n",
      "4\n",
      "0\n",
      "BR depth: nan PI depth: nan\n",
      "5\n",
      "0\n",
      "BR depth: nan PI depth: nan\n"
     ]
    },
    {
     "ename": "KeyboardInterrupt",
     "evalue": "",
     "output_type": "error",
     "traceback": [
      "\u001b[0;31m-----------------------------------------------------------------\u001b[0m",
      "\u001b[0;31mKeyboardInterrupt\u001b[0m               Traceback (most recent call last)",
      "\u001b[0;32m<ipython-input-13-edbe4ca03f06>\u001b[0m in \u001b[0;36m<module>\u001b[0;34m()\u001b[0m\n\u001b[0;32m----> 1\u001b[0;31m \u001b[0mdaf\u001b[0m\u001b[0;34m.\u001b[0m\u001b[0mfind_sathor\u001b[0m\u001b[0;34m(\u001b[0m\u001b[0;36m0\u001b[0m\u001b[0;34m,\u001b[0m\u001b[0;36m2\u001b[0m\u001b[0;34m,\u001b[0m\u001b[0;34m'tit'\u001b[0m\u001b[0;34m,\u001b[0m\u001b[0;32mFalse\u001b[0m\u001b[0;34m)\u001b[0m\u001b[0;34m\u001b[0m\u001b[0m\n\u001b[0m",
      "\u001b[0;32m/data/tjarniko/MEOPAR/analysis-tereza/notebooks/carbon_dev/BASE_RUN/CLEAN/OmA/deep_alg_as_fxn.py\u001b[0m in \u001b[0;36mfind_sathor\u001b[0;34m(j_st, j_en, tit, shallow)\u001b[0m\n\u001b[1;32m     29\u001b[0m                 \u001b[0mprint\u001b[0m\u001b[0;34m(\u001b[0m\u001b[0mj\u001b[0m\u001b[0;34m)\u001b[0m\u001b[0;34m\u001b[0m\u001b[0m\n\u001b[1;32m     30\u001b[0m             \u001b[0;32mfor\u001b[0m \u001b[0mi\u001b[0m \u001b[0;32min\u001b[0m \u001b[0mrange\u001b[0m\u001b[0;34m(\u001b[0m\u001b[0;36m0\u001b[0m\u001b[0;34m,\u001b[0m\u001b[0;36m398\u001b[0m\u001b[0;34m)\u001b[0m\u001b[0;34m:\u001b[0m\u001b[0;34m\u001b[0m\u001b[0m\n\u001b[0;32m---> 31\u001b[0;31m                 \u001b[0mOmA_BR_test\u001b[0m \u001b[0;34m=\u001b[0m \u001b[0mBR_omA\u001b[0m\u001b[0;34m[\u001b[0m\u001b[0mday\u001b[0m\u001b[0;34m,\u001b[0m\u001b[0;34m:\u001b[0m\u001b[0;34m,\u001b[0m\u001b[0mj\u001b[0m\u001b[0;34m,\u001b[0m\u001b[0mi\u001b[0m\u001b[0;34m]\u001b[0m\u001b[0;34m\u001b[0m\u001b[0m\n\u001b[0m\u001b[1;32m     32\u001b[0m                 \u001b[0mOmA_PI_test\u001b[0m \u001b[0;34m=\u001b[0m \u001b[0mPI_omA\u001b[0m\u001b[0;34m[\u001b[0m\u001b[0mday\u001b[0m\u001b[0;34m,\u001b[0m\u001b[0;34m:\u001b[0m\u001b[0;34m,\u001b[0m\u001b[0mj\u001b[0m\u001b[0;34m,\u001b[0m\u001b[0mi\u001b[0m\u001b[0;34m]\u001b[0m\u001b[0;34m\u001b[0m\u001b[0m\n\u001b[1;32m     33\u001b[0m \u001b[0;34m\u001b[0m\u001b[0m\n",
      "\u001b[0;32mnetCDF4/_netCDF4.pyx\u001b[0m in \u001b[0;36mnetCDF4._netCDF4.Variable.__getitem__ (netCDF4/_netCDF4.c:40328)\u001b[0;34m()\u001b[0m\n",
      "\u001b[0;32mnetCDF4/_netCDF4.pyx\u001b[0m in \u001b[0;36mnetCDF4._netCDF4.Variable._toma (netCDF4/_netCDF4.c:42293)\u001b[0;34m()\u001b[0m\n",
      "\u001b[0;32m/home/tjarniko/anaconda3/lib/python3.6/site-packages/numpy/ma/core.py\u001b[0m in \u001b[0;36m__new__\u001b[0;34m(cls, data, mask, dtype, copy, subok, ndmin, fill_value, keep_mask, hard_mask, shrink, order, **options)\u001b[0m\n\u001b[1;32m   2798\u001b[0m             \u001b[0m_data\u001b[0m \u001b[0;34m=\u001b[0m \u001b[0mndarray\u001b[0m\u001b[0;34m.\u001b[0m\u001b[0mview\u001b[0m\u001b[0;34m(\u001b[0m\u001b[0m_data\u001b[0m\u001b[0;34m,\u001b[0m \u001b[0mtype\u001b[0m\u001b[0;34m(\u001b[0m\u001b[0mdata\u001b[0m\u001b[0;34m)\u001b[0m\u001b[0;34m)\u001b[0m\u001b[0;34m\u001b[0m\u001b[0m\n\u001b[1;32m   2799\u001b[0m         \u001b[0;32melse\u001b[0m\u001b[0;34m:\u001b[0m\u001b[0;34m\u001b[0m\u001b[0m\n\u001b[0;32m-> 2800\u001b[0;31m             \u001b[0m_data\u001b[0m \u001b[0;34m=\u001b[0m \u001b[0mndarray\u001b[0m\u001b[0;34m.\u001b[0m\u001b[0mview\u001b[0m\u001b[0;34m(\u001b[0m\u001b[0m_data\u001b[0m\u001b[0;34m,\u001b[0m \u001b[0mcls\u001b[0m\u001b[0;34m)\u001b[0m\u001b[0;34m\u001b[0m\u001b[0m\n\u001b[0m\u001b[1;32m   2801\u001b[0m         \u001b[0;31m# Backwards compatibility w/ numpy.core.ma.\u001b[0m\u001b[0;34m\u001b[0m\u001b[0;34m\u001b[0m\u001b[0m\n\u001b[1;32m   2802\u001b[0m         \u001b[0;32mif\u001b[0m \u001b[0mhasattr\u001b[0m\u001b[0;34m(\u001b[0m\u001b[0mdata\u001b[0m\u001b[0;34m,\u001b[0m \u001b[0;34m'_mask'\u001b[0m\u001b[0;34m)\u001b[0m \u001b[0;32mand\u001b[0m \u001b[0;32mnot\u001b[0m \u001b[0misinstance\u001b[0m\u001b[0;34m(\u001b[0m\u001b[0mdata\u001b[0m\u001b[0;34m,\u001b[0m \u001b[0mndarray\u001b[0m\u001b[0;34m)\u001b[0m\u001b[0;34m:\u001b[0m\u001b[0;34m\u001b[0m\u001b[0m\n",
      "\u001b[0;32m/home/tjarniko/anaconda3/lib/python3.6/site-packages/numpy/ma/core.py\u001b[0m in \u001b[0;36m__array_finalize__\u001b[0;34m(self, obj)\u001b[0m\n\u001b[1;32m   2935\u001b[0m         \"\"\"\n\u001b[1;32m   2936\u001b[0m         \u001b[0;31m# Get main attributes.\u001b[0m\u001b[0;34m\u001b[0m\u001b[0;34m\u001b[0m\u001b[0m\n\u001b[0;32m-> 2937\u001b[0;31m         \u001b[0mself\u001b[0m\u001b[0;34m.\u001b[0m\u001b[0m_update_from\u001b[0m\u001b[0;34m(\u001b[0m\u001b[0mobj\u001b[0m\u001b[0;34m)\u001b[0m\u001b[0;34m\u001b[0m\u001b[0m\n\u001b[0m\u001b[1;32m   2938\u001b[0m \u001b[0;34m\u001b[0m\u001b[0m\n\u001b[1;32m   2939\u001b[0m         \u001b[0;31m# We have to decide how to initialize self.mask, based on\u001b[0m\u001b[0;34m\u001b[0m\u001b[0;34m\u001b[0m\u001b[0m\n",
      "\u001b[0;32m/home/tjarniko/anaconda3/lib/python3.6/site-packages/numpy/ma/core.py\u001b[0m in \u001b[0;36m_update_from\u001b[0;34m(self, obj)\u001b[0m\n\u001b[1;32m   2909\u001b[0m         \"\"\"\n\u001b[1;32m   2910\u001b[0m         \u001b[0;32mif\u001b[0m \u001b[0misinstance\u001b[0m\u001b[0;34m(\u001b[0m\u001b[0mobj\u001b[0m\u001b[0;34m,\u001b[0m \u001b[0mndarray\u001b[0m\u001b[0;34m)\u001b[0m\u001b[0;34m:\u001b[0m\u001b[0;34m\u001b[0m\u001b[0m\n\u001b[0;32m-> 2911\u001b[0;31m             \u001b[0m_baseclass\u001b[0m \u001b[0;34m=\u001b[0m \u001b[0mtype\u001b[0m\u001b[0;34m(\u001b[0m\u001b[0mobj\u001b[0m\u001b[0;34m)\u001b[0m\u001b[0;34m\u001b[0m\u001b[0m\n\u001b[0m\u001b[1;32m   2912\u001b[0m         \u001b[0;32melse\u001b[0m\u001b[0;34m:\u001b[0m\u001b[0;34m\u001b[0m\u001b[0m\n\u001b[1;32m   2913\u001b[0m             \u001b[0m_baseclass\u001b[0m \u001b[0;34m=\u001b[0m \u001b[0mndarray\u001b[0m\u001b[0;34m\u001b[0m\u001b[0m\n",
      "\u001b[0;31mKeyboardInterrupt\u001b[0m: "
     ]
    }
   ],
   "source": [
    "import deep_alg_as_fxn as daf\n",
    "daf.find_sathor(0,100,'DEEPALG_',False)\n",
    "\n",
    "import deep_alg_as_fxn as daf\n",
    "daf.find_sathor(100,200,'DEEPALG_',False)\n",
    "\n",
    "import deep_alg_as_fxn as daf\n",
    "daf.find_sathor(200,300,'DEEPALG_',False)\n",
    "\n",
    "import deep_alg_as_fxn as daf\n",
    "daf.find_sathor(300,400,'DEEPALG_',False)\n",
    "\n",
    "import deep_alg_as_fxn as daf\n",
    "daf.find_sathor(400,500,'DEEPALG_',False)\n",
    "\n",
    "import deep_alg_as_fxn as daf\n",
    "daf.find_sathor(500,600,'DEEPALG_',False)\n",
    "\n",
    "import deep_alg_as_fxn as daf\n",
    "daf.find_sathor(600,700,'DEEPALG_',False)\n",
    "\n",
    "import deep_alg_as_fxn as daf\n",
    "daf.find_sathor(700,800,'DEEPALG_',False)\n",
    "\n",
    "import deep_alg_as_fxn as daf\n",
    "daf.find_sathor(800,898,'DEEPALG_',False)\n",
    "\n",
    "import deep_alg_as_fxn as daf\n",
    "daf.find_sathor(0,100,'SHALLOWALG_',True)\n",
    "\n",
    "import deep_alg_as_fxn as daf\n",
    "daf.find_sathor(100,200,'SHALLOWALG_',True)\n",
    "\n",
    "import deep_alg_as_fxn as daf\n",
    "daf.find_sathor(200,300,'SHALLOWALG_',True)\n",
    "\n",
    "import deep_alg_as_fxn as daf\n",
    "daf.find_sathor(300,400,'SHALLOWALG_',True)\n",
    "\n",
    "import deep_alg_as_fxn as daf\n",
    "daf.find_sathor(400,500,'SHALLOWALG_',True)\n",
    "\n",
    "import deep_alg_as_fxn as daf\n",
    "daf.find_sathor(500,600,'SHALLOWALG_',True)\n",
    "\n",
    "import deep_alg_as_fxn as daf\n",
    "daf.find_sathor(600,700,'SHALLOWALG_',True)\n",
    "\n",
    "import deep_alg_as_fxn as daf\n",
    "daf.find_sathor(700,800,'SHALLOWALG_',True)\n",
    "\n",
    "import deep_alg_as_fxn as daf\n",
    "daf.find_sathor(800,898,'SHALLOWALG_',True)"
   ]
  },
  {
   "cell_type": "code",
   "execution_count": null,
   "metadata": {
    "collapsed": true
   },
   "outputs": [],
   "source": []
  }
 ],
 "metadata": {
  "kernelspec": {
   "display_name": "Python 3",
   "language": "python",
   "name": "python3"
  },
  "language_info": {
   "codemirror_mode": {
    "name": "ipython",
    "version": 3
   },
   "file_extension": ".py",
   "mimetype": "text/x-python",
   "name": "python",
   "nbconvert_exporter": "python",
   "pygments_lexer": "ipython3",
   "version": "3.6.0"
  }
 },
 "nbformat": 4,
 "nbformat_minor": 2
}
