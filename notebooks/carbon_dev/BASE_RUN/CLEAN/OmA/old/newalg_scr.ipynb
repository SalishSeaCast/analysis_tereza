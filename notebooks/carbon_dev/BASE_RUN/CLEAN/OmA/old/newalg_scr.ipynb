{
 "cells": [
  {
   "cell_type": "code",
   "execution_count": 4,
   "metadata": {},
   "outputs": [
    {
     "name": "stdout",
     "output_type": "stream",
     "text": [
      "Once deleted, variables cannot be recovered. Proceed (y/[n])? y\n"
     ]
    }
   ],
   "source": [
    "%reset"
   ]
  },
  {
   "cell_type": "code",
   "execution_count": 5,
   "metadata": {},
   "outputs": [
    {
     "data": {
      "text/html": [
       "<script>\n",
       "code_show=true; \n",
       "function code_toggle() {\n",
       " if (code_show){\n",
       " $('div.input').hide();\n",
       " } else {\n",
       " $('div.input').show();\n",
       " }\n",
       " code_show = !code_show\n",
       "} \n",
       "$( document ).ready(code_toggle);\n",
       "</script>\n",
       "<form action=\"javascript:code_toggle()\"><input type=\"submit\" value=\"Click here to toggle on/off the raw code.\"></form>"
      ],
      "text/plain": [
       "<IPython.core.display.HTML object>"
      ]
     },
     "execution_count": 5,
     "metadata": {},
     "output_type": "execute_result"
    }
   ],
   "source": [
    "from IPython.display import HTML\n",
    "\n",
    "HTML('''<script>\n",
    "code_show=true; \n",
    "function code_toggle() {\n",
    " if (code_show){\n",
    " $('div.input').hide();\n",
    " } else {\n",
    " $('div.input').show();\n",
    " }\n",
    " code_show = !code_show\n",
    "} \n",
    "$( document ).ready(code_toggle);\n",
    "</script>\n",
    "<form action=\"javascript:code_toggle()\"><input type=\"submit\" value=\"Click here to toggle on/off the raw code.\"></form>''')"
   ]
  },
  {
   "cell_type": "code",
   "execution_count": 6,
   "metadata": {},
   "outputs": [
    {
     "name": "stdout",
     "output_type": "stream",
     "text": [
      "11660454.9081832\n"
     ]
    }
   ],
   "source": [
    "from __future__ import print_function\n",
    "\n",
    "j_st = 0\n",
    "j_en = 100\n",
    "ncname = 'OmA_horizon_2015_newalg_' + str(j_st) + '_' + str(j_en) + '.nc'\n",
    "\n",
    "from numpy import *\n",
    "from scipy import *\n",
    "import netCDF4 as nc\n",
    "import numpy as np\n",
    "import scipy as sp\n",
    "import seawater\n",
    "import datetime as dt\n",
    "\"\"\n",
    "from salishsea_tools import (\n",
    "    nc_tools,\n",
    "    viz_tools, \n",
    "    geo_tools,\n",
    "    tidetools\n",
    ")\n",
    "from salishsea_tools import visualisations as vis\n",
    "import matplotlib.pyplot as plt\n",
    "#matplotlib.use('Agg')\n",
    "import matplotlib.patches as patches\n",
    "plt.style.use('seaborn-whitegrid')\n",
    "import netCDF4 as nc\n",
    "\n",
    "import cmocean as cm\n",
    "import glob\n",
    "import sys\n",
    "sys.path.append('/data/tjarniko/mocsy')\n",
    "sys.path.append('/data/tjarniko/MEOPAR/at3/notebooks/carbon_dev/CCCmaDEV/CCCma_src')\n",
    "sys.path.append('/data/tjarniko/MEOPAR/tools/SalishSeaTools/salishsea_tools/')\n",
    "import mocsy\n",
    "import river_201702 as rv\n",
    "import mocsy\n",
    "import CCCma\n",
    "import CCCma_stations as cs\n",
    "from matplotlib import reload\n",
    "import arrow\n",
    "import gsw\n",
    "import datetime as dt\n",
    "import timeit\n",
    "start_time = timeit.default_timer()\n",
    "print(start_time)"
   ]
  },
  {
   "cell_type": "code",
   "execution_count": 21,
   "metadata": {},
   "outputs": [
    {
     "name": "stdout",
     "output_type": "stream",
     "text": [
      "11660758.789597794\n",
      "0\n",
      "250\n",
      "[1.7881370782852173 1.7780309915542603 1.7670657634735107\n",
      " 1.750502109527588 1.7357971668243408 1.7191379070281982\n",
      " 1.7043709754943848 1.6913459300994873 1.679276943206787 1.668192982673645\n",
      " 1.6586180925369263 1.6502357721328735 1.6402058601379395\n",
      " 1.630528211593628 1.6208127737045288 1.6087963581085205\n",
      " 1.5997321605682373 1.586973786354065 1.5678389072418213\n",
      " 1.5471361875534058 1.5159765481948853 1.4519970417022705\n",
      " 1.3660722970962524 1.2192333936691284 1.0521870851516724\n",
      " 0.9292067289352417 0.8824480175971985 0.8594037294387817 -- -- -- -- --\n",
      " -- -- -- -- -- -- --]\n",
      "nan\n",
      "[1.8783012628555298 1.8677197694778442 1.8602780103683472\n",
      " 1.8449677228927612 1.8323917388916016 1.8113348484039307\n",
      " 1.7831604480743408 1.767972469329834 1.75031316280365 1.736624836921692\n",
      " 1.7255604267120361 1.7174897193908691 1.7091840505599976\n",
      " 1.7005614042282104 1.6916892528533936 1.6788759231567383\n",
      " 1.663877010345459 1.6477618217468262 1.6275854110717773 1.601494312286377\n",
      " 1.5628708600997925 1.5133541822433472 1.4222794771194458\n",
      " 1.2724645137786865 1.0848742723464966 0.9518439769744873\n",
      " 0.8972602486610413 0.8727803230285645 -- -- -- -- -- -- -- -- -- -- -- --]\n",
      "nan\n",
      "0.012713529169559479\n",
      "0.013529090210795403\n"
     ]
    }
   ],
   "source": []
  },
  {
   "cell_type": "code",
   "execution_count": 42,
   "metadata": {
    "collapsed": true
   },
   "outputs": [],
   "source": [
    "def is_empty(any_structure):\n",
    "    if any_structure:\n",
    "        print('Structure is not empty.')\n",
    "        return False\n",
    "    else:\n",
    "        print('Structure is empty.')\n",
    "        return True"
   ]
  },
  {
   "cell_type": "code",
   "execution_count": 45,
   "metadata": {},
   "outputs": [],
   "source": []
  },
  {
   "cell_type": "code",
   "execution_count": 47,
   "metadata": {},
   "outputs": [
    {
     "name": "stdout",
     "output_type": "stream",
     "text": [
      "11661518.414532248\n",
      "day is\n",
      "0\n",
      "j is\n",
      "250\n",
      "[1.7881370782852173 1.7780309915542603 1.7670657634735107\n",
      " 1.750502109527588 1.7357971668243408 1.7191379070281982\n",
      " 1.7043709754943848 1.6913459300994873 1.679276943206787 1.668192982673645\n",
      " 1.6586180925369263 1.6502357721328735 1.6402058601379395\n",
      " 1.630528211593628 1.6208127737045288 1.6087963581085205\n",
      " 1.5997321605682373 1.586973786354065 1.5678389072418213\n",
      " 1.5471361875534058 1.5159765481948853 1.4519970417022705\n",
      " 1.3660722970962524 1.2192333936691284 1.0521870851516724\n",
      " 0.9292067289352417 0.8824480175971985 0.8594037294387817 -- -- -- -- --\n",
      " -- -- -- -- -- -- --]\n",
      "(array([25, 26, 27]),)\n",
      "nan\n",
      "(array([25, 26, 27]),)\n",
      "nan\n",
      "0.007810546085238457\n",
      "0.008695444092154503\n"
     ]
    }
   ],
   "source": []
  },
  {
   "cell_type": "code",
   "execution_count": 75,
   "metadata": {},
   "outputs": [],
   "source": [
    "def find_depth(dp,prof):\n",
    "    #finds saturation horizon given a profile and corresponding depths\n",
    "    first_proper_undersat = np.nan\n",
    "    depth_undersat = np.nan    \n",
    "    dummy_var = 0\n",
    "    #tot masked\n",
    "    if prof.mask.all():\n",
    "        dummy_var = 0\n",
    "        depth_undersat = np.nan\n",
    "        #print('masks all around!')\n",
    "    elif np.ma.min(prof) >1:\n",
    "        depth_undersat = np.nan\n",
    "        #print('saturated column')\n",
    "    elif np.ma.max(prof) <1:\n",
    "        depth_undersat = 0\n",
    "        #print('undersat to surface')        \n",
    "    else:\n",
    "        t_ind = np.where(prof<1)\n",
    "        t_indar = t_ind[0][0]\n",
    "        t_indss = np.where(prof>=1)\n",
    "        t_indsssar = t_indss[0][0]\n",
    "        if t_indar.size == 0:\n",
    "            dummy_var = 0\n",
    "        else:\n",
    "            if (t_indar.size != 0) & (t_indsssar.size == 0):\n",
    "                depth_undersat = 0\n",
    "                first_proper_undersat = 0\n",
    "                dummy_var = 0\n",
    "                #print('undersat to surface!')\n",
    "                max_supsat = np.nan\n",
    "            else:    \n",
    "                max_supsat = np.max(t_indsssar)    \n",
    "                try:\n",
    "                    first_proper_undersat = np.min(t_indar[t_indar>max_supsat])\n",
    "                except:\n",
    "                    dummy_var = 0\n",
    "                    #print(\"An exception occurred\")\n",
    "                if first_proper_undersat == 0:\n",
    "                    depth_undersat = dp[0]\n",
    "                if np.isnan(first_proper_undersat):\n",
    "                    dummy_var = 0\n",
    "                    #print('saturated watercolumn!')\n",
    "                else:\n",
    "                    depth_undersat = (dp[first_proper_undersat]+dp[first_proper_undersat-1])/2\n",
    "    return depth_undersat"
   ]
  },
  {
   "cell_type": "code",
   "execution_count": 77,
   "metadata": {},
   "outputs": [
    {
     "name": "stdout",
     "output_type": "stream",
     "text": [
      "11662596.374663267\n",
      "day is\n",
      "0\n",
      "250\n",
      "BR depth: 67.53495788574219 PI depth: 67.53495788574219\n",
      "0.7543164398521185\n",
      "0.7546494472771883\n"
     ]
    }
   ],
   "source": [
    " \n",
    "OmA = nc.Dataset('OmA_2015.nc')\n",
    "#switch BR and PI\n",
    "BR_omA = OmA['model_output']['OmAr_pi']\n",
    "PI_omA = OmA['model_output']['OmAr_br']\n",
    "\n",
    "t_nc = nc.Dataset('/results2/SalishSea/nowcast-green.201806/01jan18/SalishSea_1h_20180101_20180101_grid_T.nc')\n",
    "zlevels = (t_nc['deptht'][:])\n",
    "\n",
    "\n",
    "import timeit\n",
    "start_time = timeit.default_timer()\n",
    "print(start_time)\n",
    "\n",
    "oma_d_PI = np.zeros([365,898,398])\n",
    "oma_d_BR = np.zeros([365,898,398])\n",
    "\n",
    "def find_depth(dp,prof):\n",
    "    #finds saturation horizon given a profile and corresponding depths\n",
    "    first_proper_undersat = np.nan\n",
    "    depth_undersat = np.nan    \n",
    "    dummy_var = 0\n",
    "    #tot masked\n",
    "    if prof.mask.all():\n",
    "        dummy_var = 0\n",
    "        depth_undersat = np.nan\n",
    "        #print('masks all around!')\n",
    "    elif np.ma.min(prof) >1:\n",
    "        depth_undersat = np.nan\n",
    "        #print('saturated column')\n",
    "    elif np.ma.max(prof) <1:\n",
    "        depth_undersat = 0\n",
    "        #print('undersat to surface')        \n",
    "    else:\n",
    "        t_ind = np.where(prof<1)\n",
    "        t_indar = t_ind[0][0]\n",
    "        t_indss = np.where(prof>=1)\n",
    "        t_indsssar = t_indss[0][0]\n",
    "        if t_indar.size == 0:\n",
    "            dummy_var = 0\n",
    "        else:\n",
    "            if (t_indar.size != 0) & (t_indsssar.size == 0):\n",
    "                depth_undersat = 0\n",
    "                first_proper_undersat = 0\n",
    "                dummy_var = 0\n",
    "                #print('undersat to surface!')\n",
    "                max_supsat = np.nan\n",
    "            else:    \n",
    "                max_supsat = np.max(t_indsssar)    \n",
    "                try:\n",
    "                    first_proper_undersat = np.min(t_indar[t_indar>max_supsat])\n",
    "                except:\n",
    "                    dummy_var = 0\n",
    "                    #print(\"An exception occurred\")\n",
    "                if first_proper_undersat == 0:\n",
    "                    depth_undersat = dp[0]\n",
    "                if np.isnan(first_proper_undersat):\n",
    "                    dummy_var = 0\n",
    "                    #print('saturated watercolumn!')\n",
    "                else:\n",
    "                    depth_undersat = (dp[first_proper_undersat]+dp[first_proper_undersat-1])/2\n",
    "    return depth_undersat\n",
    "\n",
    "for day in range(0,1):\n",
    "    print('day is')\n",
    "    print(day)\n",
    "    for j in range(250,251):\n",
    "        for i in range(0,398):\n",
    "            OmA_BR_test = BR_omA[day,:,j,i]\n",
    "            OmA_PI_test = PI_omA[day,:,j,i]\n",
    "\n",
    "            oma_dep_BR = find_depth(zlevels,OmA_BR_test)\n",
    "            oma_dep_PI = find_depth(zlevels,OmA_PI_test)\n",
    "            oma_d_PI[day,j,i] = oma_dep_PI\n",
    "            oma_d_BR[day,j,i] = oma_dep_BR\n",
    "            if (i == 250) & (j%10 == 0):\n",
    "                print('BR depth: '+str(oma_dep_BR), 'PI depth: '+str(oma_dep_PI))\n",
    "elapsed = timeit.default_timer() - start_time\n",
    "print(elapsed)\n",
    "    \n",
    "\n",
    "# f = nc.Dataset(ncname,'w', format='NETCDF4') #'w' stands for write\n",
    "# g = f.createGroup('model_output')\n",
    "# #g.createDimension('days', len(3))\n",
    "# g.createDimension('days', 365)\n",
    "# g.createDimension('ys', 898)\n",
    "# g.createDimension('xs', 398)\n",
    "# ts = g.createVariable('OmArHORIZON_pi','f4',('days','ys','xs'))\n",
    "# ts[:] = oma_d_PI\n",
    "# ts2 = g.createVariable('OmArHORIZON_br','f4',('days','ys','xs'))\n",
    "# ts2[:] = oma_d_BR\n",
    "# f.close()\n",
    "\n",
    "elapsed = timeit.default_timer() - start_time\n",
    "print(elapsed)"
   ]
  },
  {
   "cell_type": "code",
   "execution_count": null,
   "metadata": {
    "collapsed": true
   },
   "outputs": [],
   "source": []
  }
 ],
 "metadata": {
  "kernelspec": {
   "display_name": "Python 3",
   "language": "python",
   "name": "python3"
  },
  "language_info": {
   "codemirror_mode": {
    "name": "ipython",
    "version": 3
   },
   "file_extension": ".py",
   "mimetype": "text/x-python",
   "name": "python",
   "nbconvert_exporter": "python",
   "pygments_lexer": "ipython3",
   "version": "3.6.0"
  }
 },
 "nbformat": 4,
 "nbformat_minor": 2
}
