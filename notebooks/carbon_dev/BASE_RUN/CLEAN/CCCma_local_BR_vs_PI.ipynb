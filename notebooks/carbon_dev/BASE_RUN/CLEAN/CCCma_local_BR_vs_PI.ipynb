{
 "cells": [
  {
   "cell_type": "code",
   "execution_count": 1,
   "metadata": {},
   "outputs": [
    {
     "name": "stdout",
     "output_type": "stream",
     "text": [
      "Once deleted, variables cannot be recovered. Proceed (y/[n])? y\n"
     ]
    }
   ],
   "source": [
    "%reset"
   ]
  },
  {
   "cell_type": "code",
   "execution_count": 2,
   "metadata": {},
   "outputs": [
    {
     "data": {
      "text/html": [
       "<script>\n",
       "code_show=true; \n",
       "function code_toggle() {\n",
       " if (code_show){\n",
       " $('div.input').hide();\n",
       " } else {\n",
       " $('div.input').show();\n",
       " }\n",
       " code_show = !code_show\n",
       "} \n",
       "$( document ).ready(code_toggle);\n",
       "</script>\n",
       "<form action=\"javascript:code_toggle()\"><input type=\"submit\" value=\"Click here to toggle on/off the raw code.\"></form>"
      ],
      "text/plain": [
       "<IPython.core.display.HTML object>"
      ]
     },
     "execution_count": 2,
     "metadata": {},
     "output_type": "execute_result"
    }
   ],
   "source": [
    "from IPython.display import HTML\n",
    "\n",
    "HTML('''<script>\n",
    "code_show=true; \n",
    "function code_toggle() {\n",
    " if (code_show){\n",
    " $('div.input').hide();\n",
    " } else {\n",
    " $('div.input').show();\n",
    " }\n",
    " code_show = !code_show\n",
    "} \n",
    "$( document ).ready(code_toggle);\n",
    "</script>\n",
    "<form action=\"javascript:code_toggle()\"><input type=\"submit\" value=\"Click here to toggle on/off the raw code.\"></form>''')"
   ]
  },
  {
   "cell_type": "code",
   "execution_count": 16,
   "metadata": {},
   "outputs": [
    {
     "name": "stderr",
     "output_type": "stream",
     "text": [
      "/home/tjarniko/anaconda3/lib/python3.6/site-packages/matplotlib/__init__.py:1357: UserWarning:  This call to matplotlib.use() has no effect\n",
      "because the backend has already been chosen;\n",
      "matplotlib.use() must be called *before* pylab, matplotlib.pyplot,\n",
      "or matplotlib.backends is imported for the first time.\n",
      "\n",
      "  warnings.warn(_use_error_msg)\n"
     ]
    }
   ],
   "source": [
    "from __future__ import print_function\n",
    "from numpy import *\n",
    "from scipy import *\n",
    "import matplotlib.pyplot as plt\n",
    "\n",
    "import matplotlib.pyplot as plt\n",
    "import netCDF4 as nc\n",
    "import numpy as np\n",
    "import scipy as sp\n",
    "\n",
    "\n",
    "import seawater\n",
    "import datetime as dt\n",
    "\"\"\n",
    "from salishsea_tools import (\n",
    "    nc_tools,\n",
    "    viz_tools,\n",
    "    geo_tools,\n",
    "    tidetools\n",
    ")\n",
    "\n",
    "import matplotlib\n",
    "matplotlib.use('Agg')\n",
    "import matplotlib.pyplot as plt\n",
    "import matplotlib.patches as patches\n",
    "plt.style.use('seaborn-whitegrid')\n",
    "import netCDF4 as nc\n",
    "\n",
    "import cmocean as cm\n",
    "import glob\n",
    "import sys\n",
    "sys.path.append('/data/tjarniko/mocsy')\n",
    "import arrow\n",
    "sys.path.append('/data/tjarniko/MEOPAR/analysis-tereza/notebooks/carbon_dev/BASE_RUN/CLEAN/CCCma_src')\n",
    "import mocsy\n",
    "import CCCma\n",
    "import CCCma_fwk as Cfwk\n",
    "import CCCma_stations as cs\n",
    "from matplotlib import reload\n",
    "import arrow\n",
    "import gsw\n",
    "%matplotlib inline\n",
    "\n",
    "import xarray as xr\n",
    "from datetime import datetime\n",
    "from salishsea_tools import grid_tools, viz_tools\n"
   ]
  },
  {
   "cell_type": "code",
   "execution_count": 22,
   "metadata": {},
   "outputs": [
    {
     "data": {
      "text/plain": [
       "<module 'CCCma_fwk' from '/data/tjarniko/MEOPAR/analysis-tereza/notebooks/carbon_dev/BASE_RUN/CLEAN/CCCma_src/CCCma_fwk.py'>"
      ]
     },
     "execution_count": 22,
     "metadata": {},
     "output_type": "execute_result"
    }
   ],
   "source": []
  },
  {
   "cell_type": "code",
   "execution_count": 31,
   "metadata": {},
   "outputs": [
    {
     "name": "stdout",
     "output_type": "stream",
     "text": [
      "2015-12-02T00:00:00+00:00\n",
      "ANALYZING ANALYZING  Dec 02, 2015\n",
      "prof:  False , ncb:  True , surfmap:  False buffmap:  False , plume:  False , pspace:  False\n",
      "2161\n",
      "walrus if statements\n"
     ]
    },
    {
     "name": "stderr",
     "output_type": "stream",
     "text": [
      "/home/tjarniko/anaconda3/lib/python3.6/site-packages/numpy/lib/nanfunctions.py:1508: RuntimeWarning: overflow encountered in multiply\n",
      "  sqr = np.multiply(arr, arr, out=arr)\n",
      "/data/tjarniko/MEOPAR/analysis-tereza/notebooks/carbon_dev/BASE_RUN/CLEAN/CCCma_src/CCCma_profiles.py:234: RuntimeWarning: Mean of empty slice\n",
      "  sal_prof[b,:] = np.nanmean(tsr, axis = 1)\n",
      "/home/tjarniko/anaconda3/lib/python3.6/site-packages/numpy/lib/nanfunctions.py:1628: RuntimeWarning: Degrees of freedom <= 0 for slice.\n",
      "  keepdims=keepdims)\n",
      "/data/tjarniko/MEOPAR/analysis-tereza/notebooks/carbon_dev/BASE_RUN/CLEAN/CCCma_src/CCCma_profiles.py:237: RuntimeWarning: Mean of empty slice\n",
      "  temp_prof[b,:] = np.nanmean(tter, axis = 1)\n",
      "/data/tjarniko/MEOPAR/analysis-tereza/notebooks/carbon_dev/BASE_RUN/CLEAN/CCCma_src/CCCma_profiles.py:240: RuntimeWarning: Mean of empty slice\n",
      "  DIC_prof[b,:] = np.nanmean(tdr, axis = 1)\n",
      "/data/tjarniko/MEOPAR/analysis-tereza/notebooks/carbon_dev/BASE_RUN/CLEAN/CCCma_src/CCCma_profiles.py:243: RuntimeWarning: Mean of empty slice\n",
      "  TA_prof[b,:] = np.nanmean(ttar, axis = 1)\n"
     ]
    },
    {
     "name": "stdout",
     "output_type": "stream",
     "text": [
      "2015-12-03T00:00:00+00:00\n",
      "ANALYZING ANALYZING  Dec 03, 2015\n",
      "prof:  False , ncb:  True , surfmap:  False buffmap:  False , plume:  False , pspace:  False\n",
      "2162\n",
      "walrus if statements\n",
      "2015-12-04T00:00:00+00:00\n",
      "ANALYZING ANALYZING  Dec 04, 2015\n",
      "prof:  False , ncb:  True , surfmap:  False buffmap:  False , plume:  False , pspace:  False\n",
      "2163\n",
      "walrus if statements\n",
      "2015-12-05T00:00:00+00:00\n",
      "ANALYZING ANALYZING  Dec 05, 2015\n",
      "prof:  False , ncb:  True , surfmap:  False buffmap:  False , plume:  False , pspace:  False\n",
      "2164\n",
      "walrus if statements\n",
      "2015-12-06T00:00:00+00:00\n",
      "ANALYZING ANALYZING  Dec 06, 2015\n",
      "prof:  False , ncb:  True , surfmap:  False buffmap:  False , plume:  False , pspace:  False\n",
      "2165\n",
      "walrus if statements\n",
      "2015-12-07T00:00:00+00:00\n",
      "ANALYZING ANALYZING  Dec 07, 2015\n",
      "prof:  False , ncb:  True , surfmap:  False buffmap:  False , plume:  False , pspace:  False\n",
      "2166\n",
      "walrus if statements\n",
      "2015-12-08T00:00:00+00:00\n",
      "ANALYZING ANALYZING  Dec 08, 2015\n",
      "prof:  False , ncb:  True , surfmap:  False buffmap:  False , plume:  False , pspace:  False\n",
      "2167\n",
      "walrus if statements\n",
      "2015-12-09T00:00:00+00:00\n",
      "ANALYZING ANALYZING  Dec 09, 2015\n",
      "prof:  False , ncb:  True , surfmap:  False buffmap:  False , plume:  False , pspace:  False\n",
      "2168\n",
      "walrus if statements\n",
      "2015-12-10T00:00:00+00:00\n",
      "ANALYZING ANALYZING  Dec 10, 2015\n",
      "prof:  False , ncb:  True , surfmap:  False buffmap:  False , plume:  False , pspace:  False\n",
      "2169\n",
      "walrus if statements\n",
      "2015-12-11T00:00:00+00:00\n",
      "ANALYZING ANALYZING  Dec 11, 2015\n",
      "prof:  False , ncb:  True , surfmap:  False buffmap:  False , plume:  False , pspace:  False\n",
      "2170\n",
      "walrus if statements\n",
      "2015-12-12T00:00:00+00:00\n",
      "ANALYZING ANALYZING  Dec 12, 2015\n",
      "prof:  False , ncb:  True , surfmap:  False buffmap:  False , plume:  False , pspace:  False\n",
      "2171\n",
      "walrus if statements\n",
      "2015-12-13T00:00:00+00:00\n",
      "ANALYZING ANALYZING  Dec 13, 2015\n",
      "prof:  False , ncb:  True , surfmap:  False buffmap:  False , plume:  False , pspace:  False\n",
      "2172\n",
      "walrus if statements\n",
      "2015-12-14T00:00:00+00:00\n",
      "ANALYZING ANALYZING  Dec 14, 2015\n",
      "prof:  False , ncb:  True , surfmap:  False buffmap:  False , plume:  False , pspace:  False\n",
      "2173\n",
      "walrus if statements\n",
      "2015-12-15T00:00:00+00:00\n",
      "ANALYZING ANALYZING  Dec 15, 2015\n",
      "prof:  False , ncb:  True , surfmap:  False buffmap:  False , plume:  False , pspace:  False\n",
      "2174\n",
      "walrus if statements\n",
      "2015-12-16T00:00:00+00:00\n",
      "ANALYZING ANALYZING  Dec 16, 2015\n",
      "prof:  False , ncb:  True , surfmap:  False buffmap:  False , plume:  False , pspace:  False\n",
      "2175\n",
      "walrus if statements\n",
      "2015-12-17T00:00:00+00:00\n",
      "ANALYZING ANALYZING  Dec 17, 2015\n",
      "prof:  False , ncb:  True , surfmap:  False buffmap:  False , plume:  False , pspace:  False\n",
      "2176\n",
      "walrus if statements\n",
      "2015-12-18T00:00:00+00:00\n",
      "ANALYZING ANALYZING  Dec 18, 2015\n",
      "prof:  False , ncb:  True , surfmap:  False buffmap:  False , plume:  False , pspace:  False\n",
      "2177\n",
      "walrus if statements\n",
      "2015-12-19T00:00:00+00:00\n",
      "ANALYZING ANALYZING  Dec 19, 2015\n",
      "prof:  False , ncb:  True , surfmap:  False buffmap:  False , plume:  False , pspace:  False\n",
      "2178\n",
      "walrus if statements\n",
      "2015-12-20T00:00:00+00:00\n",
      "ANALYZING ANALYZING  Dec 20, 2015\n",
      "prof:  False , ncb:  True , surfmap:  False buffmap:  False , plume:  False , pspace:  False\n",
      "2179\n",
      "walrus if statements\n",
      "2015-12-21T00:00:00+00:00\n",
      "ANALYZING ANALYZING  Dec 21, 2015\n",
      "prof:  False , ncb:  True , surfmap:  False buffmap:  False , plume:  False , pspace:  False\n",
      "2180\n",
      "walrus if statements\n",
      "2015-12-22T00:00:00+00:00\n",
      "ANALYZING ANALYZING  Dec 22, 2015\n",
      "prof:  False , ncb:  True , surfmap:  False buffmap:  False , plume:  False , pspace:  False\n",
      "2181\n",
      "walrus if statements\n",
      "2015-12-23T00:00:00+00:00\n",
      "ANALYZING ANALYZING  Dec 23, 2015\n",
      "prof:  False , ncb:  True , surfmap:  False buffmap:  False , plume:  False , pspace:  False\n",
      "2182\n",
      "walrus if statements\n",
      "2015-12-24T00:00:00+00:00\n",
      "ANALYZING ANALYZING  Dec 24, 2015\n",
      "prof:  False , ncb:  True , surfmap:  False buffmap:  False , plume:  False , pspace:  False\n",
      "2183\n",
      "walrus if statements\n",
      "2015-12-25T00:00:00+00:00\n",
      "ANALYZING ANALYZING  Dec 25, 2015\n",
      "prof:  False , ncb:  True , surfmap:  False buffmap:  False , plume:  False , pspace:  False\n",
      "2184\n",
      "walrus if statements\n",
      "2015-12-26T00:00:00+00:00\n",
      "ANALYZING ANALYZING  Dec 26, 2015\n",
      "prof:  False , ncb:  True , surfmap:  False buffmap:  False , plume:  False , pspace:  False\n",
      "2185\n",
      "walrus if statements\n",
      "2015-12-27T00:00:00+00:00\n",
      "ANALYZING ANALYZING  Dec 27, 2015\n",
      "prof:  False , ncb:  True , surfmap:  False buffmap:  False , plume:  False , pspace:  False\n",
      "2186\n",
      "walrus if statements\n",
      "2015-12-28T00:00:00+00:00\n",
      "ANALYZING ANALYZING  Dec 28, 2015\n",
      "prof:  False , ncb:  True , surfmap:  False buffmap:  False , plume:  False , pspace:  False\n",
      "2187\n",
      "walrus if statements\n",
      "2015-12-29T00:00:00+00:00\n",
      "ANALYZING ANALYZING  Dec 29, 2015\n",
      "prof:  False , ncb:  True , surfmap:  False buffmap:  False , plume:  False , pspace:  False\n",
      "2188\n",
      "walrus if statements\n",
      "2015-12-30T00:00:00+00:00\n",
      "ANALYZING ANALYZING  Dec 30, 2015\n",
      "prof:  False , ncb:  True , surfmap:  False buffmap:  False , plume:  False , pspace:  False\n",
      "2189\n",
      "walrus if statements\n",
      "2015-12-31T00:00:00+00:00\n",
      "ANALYZING ANALYZING  Dec 31, 2015\n",
      "prof:  False , ncb:  True , surfmap:  False buffmap:  False , plume:  False , pspace:  False\n",
      "2190\n",
      "walrus if statements\n"
     ]
    }
   ],
   "source": [
    "reload(Cfwk)\n",
    "start = '2015-12-02'\n",
    "end = '2015-12-31'\n",
    "rdir = '/data/tjarniko/MEOPAR/analysis-tereza/notebooks/carbon_dev/BASE_RUN/CLEAN/pngs/BR2015_'\n",
    "tdir = '/data/tjarniko/results/BASERUN_EXP/BR_2nd_2015/ncs'\n",
    "Cfwk.range_analyzer(tdir, start,end, rdir, prof = False, ncb = True, surfmap = False, \\\n",
    "                   buffmap = False, plume = False, pspace = False, pH_T = False)"
   ]
  },
  {
   "cell_type": "code",
   "execution_count": null,
   "metadata": {
    "collapsed": true
   },
   "outputs": [],
   "source": []
  }
 ],
 "metadata": {
  "kernelspec": {
   "display_name": "Python 3",
   "language": "python",
   "name": "python3"
  },
  "language_info": {
   "codemirror_mode": {
    "name": "ipython",
    "version": 3
   },
   "file_extension": ".py",
   "mimetype": "text/x-python",
   "name": "python",
   "nbconvert_exporter": "python",
   "pygments_lexer": "ipython3",
   "version": "3.6.0"
  }
 },
 "nbformat": 4,
 "nbformat_minor": 2
}
