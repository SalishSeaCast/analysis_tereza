{
 "cells": [
  {
   "cell_type": "markdown",
   "metadata": {},
   "source": [
    "## TRANSPORTS 1 grid cell from boundary \n",
    "\n",
    "## NOTEBOOK DESCRIPTION\n",
    "\n",
    "Plots a cross-section of isopycnals and volume transports (U velocity * area of grid cell) for Feb 15 and Sep 15, 2015 (hindcast 201812), 1 grid cell away from the boundary (so, part of Parker's boundary conditions. 0 grid cells away from the boundary was behaving strangely, max rho = -0.2)\n",
    "\n",
    "most transport in in february occurs on isopycnals 25-26, in september this moves to 26-27\n",
    "\n",
    "note on bins: bins are by 0.2, from 20.0 to 26.8, and a bin for pycnal X includes the volume transports for all pyxcnals [X- 0.2, X].\n",
    "\n",
    "So transport coming in on isopycnal 24.21 gets counted in bin 24.4, transport coming in on isopycnal 24.19 is counted in bin 24.2"
   ]
  },
  {
   "cell_type": "code",
   "execution_count": 2,
   "metadata": {},
   "outputs": [
    {
     "name": "stdout",
     "output_type": "stream",
     "text": [
      "Once deleted, variables cannot be recovered. Proceed (y/[n])? y\n"
     ]
    }
   ],
   "source": [
    "%reset"
   ]
  },
  {
   "cell_type": "code",
   "execution_count": 3,
   "metadata": {},
   "outputs": [
    {
     "data": {
      "text/html": [
       "<script>\n",
       "code_show=true; \n",
       "function code_toggle() {\n",
       " if (code_show){\n",
       " $('div.input').hide();\n",
       " } else {\n",
       " $('div.input').show();\n",
       " }\n",
       " code_show = !code_show\n",
       "} \n",
       "$( document ).ready(code_toggle);\n",
       "</script>\n",
       "<form action=\"javascript:code_toggle()\"><input type=\"submit\" value=\"Click here to toggle on/off the raw code.\"></form>"
      ],
      "text/plain": [
       "<IPython.core.display.HTML object>"
      ]
     },
     "execution_count": 3,
     "metadata": {},
     "output_type": "execute_result"
    }
   ],
   "source": [
    "from IPython.display import HTML\n",
    "\n",
    "HTML('''<script>\n",
    "code_show=true; \n",
    "function code_toggle() {\n",
    " if (code_show){\n",
    " $('div.input').hide();\n",
    " } else {\n",
    " $('div.input').show();\n",
    " }\n",
    " code_show = !code_show\n",
    "} \n",
    "$( document ).ready(code_toggle);\n",
    "</script>\n",
    "<form action=\"javascript:code_toggle()\"><input type=\"submit\" value=\"Click here to toggle on/off the raw code.\"></form>''')"
   ]
  },
  {
   "cell_type": "code",
   "execution_count": 4,
   "metadata": {},
   "outputs": [
    {
     "name": "stderr",
     "output_type": "stream",
     "text": [
      "/home/tjarniko/anaconda3/lib/python3.6/site-packages/matplotlib/__init__.py:1357: UserWarning:  This call to matplotlib.use() has no effect\n",
      "because the backend has already been chosen;\n",
      "matplotlib.use() must be called *before* pylab, matplotlib.pyplot,\n",
      "or matplotlib.backends is imported for the first time.\n",
      "\n",
      "  warnings.warn(_use_error_msg)\n"
     ]
    }
   ],
   "source": [
    "from __future__ import print_function\n",
    "from numpy import *\n",
    "from scipy import *\n",
    "import netCDF4 as nc\n",
    "import numpy as np\n",
    "import scipy as sp\n",
    "import seawater\n",
    "import datetime as dt\n",
    "\n",
    "\"\"\n",
    "from salishsea_tools import (\n",
    "    nc_tools,\n",
    "    viz_tools, \n",
    "    geo_tools,\n",
    "    tidetools\n",
    ")\n",
    "import matplotlib.pyplot as plt\n",
    "#matplotlib.use('Agg')\n",
    "import matplotlib.patches as patches\n",
    "plt.style.use('seaborn-whitegrid')\n",
    "import netCDF4 as nc\n",
    "\n",
    "import cmocean as cm\n",
    "import glob\n",
    "import sys\n",
    "sys.path.append('/data/tjarniko/mocsy')\n",
    "sys.path.append('/data/tjarniko/MEOPAR/at3/notebooks/carbon_dev/CCCmaDEV/CCCma_src')\n",
    "sys.path.append('/data/tjarniko/MEOPAR/tools/SalishSeaTools/salishsea_tools/')\n",
    "import mocsy\n",
    "import river_201702 as rv\n",
    "import mocsy\n",
    "import CCCma\n",
    "import CCCma_stations as cs\n",
    "from matplotlib import reload\n",
    "import arrow\n",
    "import gsw\n",
    "import datetime as dt\n",
    "\n",
    "%matplotlib inline"
   ]
  },
  {
   "cell_type": "markdown",
   "metadata": {},
   "source": []
  },
  {
   "cell_type": "code",
   "execution_count": 5,
   "metadata": {
    "collapsed": true
   },
   "outputs": [],
   "source": [
    "def make_nclen_hindcast(start,end,ftype, sdir):\n",
    "    date_ar = []\n",
    "    sens_ar = []\n",
    "    doy_ar = []\n",
    "    start_run = arrow.get(start)\n",
    "    end_run = arrow.get(end)\n",
    "    arrow_array = []\n",
    "    for r in arrow.Arrow.span_range('day', start_run, end_run):\n",
    "        arrow_array.append(r)\n",
    "\n",
    "    dayslen = len(arrow_array)\n",
    "    for i in range(0,dayslen):\n",
    "        tdate = arrow_array[i][0]\n",
    "        ddmmmyy = tdate.format('DDMMMYY').lower()\n",
    "        ymd = tdate.format('YYYYMMDD')\n",
    "        dddd = tdate.format('DDDD')\n",
    "        nc_sens = f\"/results/SalishSea/hindcast.201812/{ddmmmyy}/*1d*{ymd}*{ftype}.nc\"\n",
    "        tnc_sens = glob.glob(nc_sens)\n",
    "        sens_ar.append(tnc_sens[0])\n",
    "        date_ar.append(ddmmmyy)\n",
    "        doy_ar.append(dddd)\n",
    "    return date_ar, sens_ar, doy_ar"
   ]
  },
  {
   "cell_type": "code",
   "execution_count": null,
   "metadata": {
    "collapsed": true
   },
   "outputs": [],
   "source": []
  },
  {
   "cell_type": "code",
   "execution_count": 6,
   "metadata": {},
   "outputs": [
    {
     "name": "stdout",
     "output_type": "stream",
     "text": [
      "1\n",
      "365\n"
     ]
    }
   ],
   "source": [
    "start = '2015-01-01'\n",
    "end = '2015-12-31'\n",
    "\n",
    "st = dt.datetime(2015,1,1)\n",
    "en = dt.datetime(2015,12,31)\n",
    "\n",
    "y_st = st.timetuple().tm_yday\n",
    "print(y_st)\n",
    "y_en = en.timetuple().tm_yday\n",
    "print(y_en)\n",
    "ts_BR = np.arange(y_st,y_en+1,1)\n",
    "\n",
    "sdir_hc = '/results/SalishSea/hindcast.201812/*15/'\n",
    "\n",
    "dates_hc, files_hc_dian, doy_hc = make_nclen_hindcast(start,end,'grid_U', sdir_hc)\n",
    "dates_hc, files_hc_grid, doy_hc = make_nclen_hindcast(start,end,'grid_T', sdir_hc)\n",
    "\n"
   ]
  },
  {
   "cell_type": "markdown",
   "metadata": {},
   "source": [
    " "
   ]
  },
  {
   "cell_type": "markdown",
   "metadata": {
    "collapsed": true
   },
   "source": []
  },
  {
   "cell_type": "code",
   "execution_count": 48,
   "metadata": {},
   "outputs": [
    {
     "data": {
      "text/plain": [
       "array([ 0, 20, 24, 26, 27, 28, 29, 29, 29, 30, 30, 31, 32, 32, 33, 34, 34,\n",
       "       35, 35, 35, 35, 35, 34, 34, 34, 34, 34, 33, 33, 33, 33, 33, 33, 32,\n",
       "       32, 32, 31, 31, 30, 30, 29, 29, 28, 28, 27, 27, 27, 27, 26, 26, 26,\n",
       "       26, 26, 26, 26, 26, 26, 26, 26, 25, 25, 25, 25, 25, 25, 25, 25, 25,\n",
       "       25, 24, 24, 24, 23, 23, 22, 20, 15,  8,  0], dtype=int16)"
      ]
     },
     "execution_count": 48,
     "metadata": {},
     "output_type": "execute_result"
    }
   ],
   "source": [
    "mmask = nc.Dataset('/data/tjarniko/MEOPAR/grid/mesh_mask_downbyone2.nc')\n",
    "tu = mmask['mbathy']\n",
    "tu[0,388:467,1]"
   ]
  },
  {
   "cell_type": "code",
   "execution_count": 23,
   "metadata": {},
   "outputs": [
    {
     "name": "stdout",
     "output_type": "stream",
     "text": [
      "(1, 40, 898, 398)\n",
      "[-- -- -- -- -- -- -- -- -- -- -- -- -- -- -- -- -- -- -- -- -- -- -- --\n",
      " -- -- -- -- -- -- -- -- -- -- -- -- -- -- -- -- -- -- -- -- -- -- -- --\n",
      " -- -- -- -- -- -- -- -- -- -- -- -- -- -- -- -- -- -- -- -- -- -- -- --\n",
      " -- -- -- -- -- -- -- -- -- -- -- -- -- -- -- -- -- -- -- -- -- -- -- --\n",
      " -- -- -- -- -- -- -- -- -- -- -- -- -- -- -- -- -- -- -- -- -- -- -- --\n",
      " -- -- -- -- -- -- -- -- -- -- -- -- -- -- -- -- -- -- -- -- -- -- -- --\n",
      " -- -- -- -- -- -- -- -- -- -- -- -- -- -- -- -- -- -- -- -- -- -- -- --\n",
      " -- -- -- -- -- -- -- -- -- -- -- -- -- -- -- -- -- -- -- -- -- -- -- --\n",
      " -- -- -- -- -- -- -- -- -- -- -- -- -- -- -- -- -- -- -- -- -- -- -- --\n",
      " -- -- -- -- -- -- -- -- -- -- -- -- -- -- -- -- -- -- -- -- -- -- -- --\n",
      " -- -- -- -- -- -- -- -- -- -- -- -- -- -- -- -- -- -- -- -- -- -- -- --\n",
      " -- -- -- -- -- -- -- -- -- -- -- -- -- -- -- -- -- -- -- -- -- -- -- --\n",
      " -- -- -- -- -- -- -- -- -- -- -- -- -- -- -- -- -- -- -- -- -- -- -- --\n",
      " -- -- -- -- -- -- -- -- -- -- -- -- -- -- -- -- -- -- -- -- -- -- -- --\n",
      " -- -- -- -- -- -- -- -- -- -- -- -- -- -- -- -- -- 0.0 0.0 0.0 0.0 0.0\n",
      " 0.0 0.0 0.0 0.0 0.0 0.0 0.0 0.0 0.0 0.0 0.0 0.0 0.0 0.0 0.0 0.0 0.0 0.0\n",
      " 0.0 0.0 0.0 0.0 0.0 0.0 0.0 0.0 0.0 0.0 0.0 0.0 0.0 0.0 0.0 0.0 0.0 0.0\n",
      " 0.0 0.0 0.0 0.0 0.0 0.0 0.0 0.0 0.0 0.0 0.0 0.0 0.0 0.0 0.0 0.0 0.0 0.0\n",
      " 0.0 0.0 0.0 0.0 0.0 0.0 0.0 0.0 0.0 0.0 0.0 0.0 0.0 0.0 0.0 0.0 0.0 0.0\n",
      " 0.0 0.0 0.0 0.0 0.0 0.0 0.0 0.0 0.0 0.0 0.0 0.0 0.0 0.0 0.0 0.0 0.0 0.0\n",
      " 0.0 0.0 0.0 0.0 0.0 0.0 0.0 0.0 0.0 0.0 0.0 0.0 0.0 0.0 0.0 0.0 0.0 0.0\n",
      " 0.0 0.0 0.0 0.0 0.0 0.0 0.0 0.0 0.0 0.0 0.0 0.0 0.0 0.0 0.0 0.0 0.0 0.0\n",
      " 0.0 -- -- -- -- -- -- -- -- -- -- -- -- -- -- -- -- -- -- -- -- -- -- --\n",
      " -- -- -- -- -- -- -- -- -- -- -- -- -- -- -- -- -- -- -- -- -- -- -- --\n",
      " -- -- -- -- -- -- -- -- -- -- -- -- -- -- -- -- -- -- -- -- -- -- -- --\n",
      " -- -- -- -- -- -- -- -- -- -- -- -- -- -- -- -- -- -- -- -- -- -- -- --\n",
      " -- -- -- -- -- -- -- -- -- -- -- -- -- -- -- -- -- -- -- -- -- -- -- --\n",
      " -- -- -- -- -- -- -- -- -- -- -- -- -- -- -- -- -- -- -- -- -- -- -- --\n",
      " -- -- -- -- -- -- -- -- -- -- -- -- -- -- -- -- -- -- -- -- -- -- -- --\n",
      " -- -- -- -- -- -- -- -- -- -- -- -- -- -- -- -- -- -- -- -- -- -- -- --\n",
      " -- -- -- -- -- -- -- -- -- -- -- -- -- -- -- -- -- -- -- -- -- -- -- --\n",
      " -- -- -- -- -- -- -- -- -- -- -- -- -- -- -- -- -- -- -- -- -- -- -- --\n",
      " -- -- -- -- -- -- -- -- -- -- -- -- -- -- -- -- -- -- -- -- -- -- -- --\n",
      " -- -- -- -- -- -- -- -- -- -- -- -- -- -- -- -- -- -- -- -- -- -- -- --\n",
      " -- -- -- -- -- -- -- -- -- -- -- -- -- -- -- -- -- -- -- -- -- -- -- --\n",
      " -- -- -- -- -- -- -- -- -- -- -- -- -- -- -- -- -- -- -- -- -- -- -- --\n",
      " -- -- -- -- -- -- -- -- -- -- -- -- -- -- -- -- -- -- -- -- -- -- -- --\n",
      " -- -- -- -- -- -- -- -- -- -- -- -- -- -- -- -- -- -- -- -- -- -- -- --\n",
      " -- -- -- -- -- -- -- -- -- -- -- -- -- -- -- -- -- -- -- -- -- -- -- --\n",
      " -- -- -- -- -- --]\n",
      "*\n",
      "[-- -- -- 0.0 0.0 0.0 0.0 0.0 0.0 0.0 0.0 0.0 0.0 0.0 0.0 0.0 0.0 0.0 0.0\n",
      " 0.0 0.0 0.0 0.0 0.0 0.0 0.0 0.0 0.0 0.0 0.0 0.0 0.0 0.0 0.0 0.0 0.0 0.0\n",
      " 0.0 0.0 0.0 0.0 0.0 0.0 0.0 0.0 0.0 0.0 0.0 0.0 0.0 0.0 0.0 0.0 0.0 0.0\n",
      " 0.0 0.0 0.0 0.0 0.0 0.0 0.0 0.0 0.0 0.0 0.0 0.0 0.0 0.0 0.0 0.0 0.0 0.0\n",
      " 0.0 0.0 0.0 0.0 0.0 0.0 0.0 0.0 0.0 0.0 0.0 0.0 0.0 0.0 0.0 0.0 0.0 0.0\n",
      " 0.0 0.0 0.0 0.0 0.0 0.0 0.0 0.0 0.0 0.0 0.0 0.0 0.0 0.0 0.0 0.0 0.0 0.0\n",
      " 0.0 0.0 0.0 0.0 0.0 0.0 0.0 0.0 0.0 0.0 0.0 0.0 0.0 0.0 0.0 0.0 0.0 0.0\n",
      " 0.0 0.0 0.0 0.0 0.0 0.0 0.0 0.0 -- -- -- -- --]\n"
     ]
    }
   ],
   "source": [
    "t_testU_BR = nc.Dataset('/results/SalishSea/hindcast.201812/01jan15/SalishSea_1d_20150101_20150101_grid_U.nc')\n",
    "UVEL = t_testU_BR['vozocrtx']\n",
    "print(np.shape(UVEL))\n",
    "UVEL2 = UVEL[0,0,:,0]\n",
    "print(UVEL2[:])\n",
    "print('*')\n",
    "print(UVEL2[350:490])"
   ]
  },
  {
   "cell_type": "code",
   "execution_count": 22,
   "metadata": {},
   "outputs": [
    {
     "data": {
      "text/plain": [
       "'/results/SalishSea/hindcast.201812/01jan15/SalishSea_1d_20150101_20150101_grid_U.nc'"
      ]
     },
     "execution_count": 22,
     "metadata": {},
     "output_type": "execute_result"
    }
   ],
   "source": [
    "files_hc_dian[0]"
   ]
  },
  {
   "cell_type": "code",
   "execution_count": 9,
   "metadata": {
    "collapsed": true
   },
   "outputs": [],
   "source": [
    "t_testU_BR = nc.Dataset(files_hc_dian[0])\n",
    "UVEL = t_testU_BR['vozocrtx']\n",
    "UVEL_jdfmouth_BR = UVEL[:,:,:,0]\n",
    "UVEL_jdfmouth2d_BR = np.squeeze(UVEL_jdfmouth_BR)\n",
    "\n",
    "depth_bounds = t_testU_BR['depthu_bounds']\n",
    "depth_cell = np.zeros(40)\n",
    "depth_cell[:] = depth_bounds[:,1]-depth_bounds[:,0]\n",
    "area_cells_all = np.zeros_like(UVEL_jdfmouth2d_BR)\n",
    "area_cell = depth_cell*440\n",
    "for i in range(0,898):\n",
    "    area_cells_all[:,i] = area_cell\n",
    "zlevels = t_testU_BR.variables['depthu']\n",
    "\n",
    "VOL_transports = area_cells_all * UVEL_jdfmouth2d_BR\n"
   ]
  },
  {
   "cell_type": "code",
   "execution_count": 10,
   "metadata": {
    "collapsed": true
   },
   "outputs": [],
   "source": [
    "sample_dates = np.arange(15,360,30)"
   ]
  },
  {
   "cell_type": "code",
   "execution_count": 11,
   "metadata": {
    "collapsed": true
   },
   "outputs": [],
   "source": [
    "VOLtrans_stor = np.zeros([12, 40, 898])\n",
    "rho_stor = np.zeros([12, 40, 898])\n",
    "dist_from_bdy = 1\n",
    "for d in range(0,len(sample_dates)):\n",
    "    t_sample = sample_dates[d]\n",
    "    doy = doy_hc[t_sample]\n",
    "    tdate = dates_hc[t_sample]\n",
    "\n",
    "    t_testU_BR = nc.Dataset(files_hc_dian[t_sample])\n",
    "    UVEL = t_testU_BR['vozocrtx']\n",
    "    UVEL_jdfmouth_BR = UVEL[:,:,:,dist_from_bdy]\n",
    "    UVEL_jdfmouth2d_BR = np.squeeze(UVEL_jdfmouth_BR)\n",
    "\n",
    "    depth_bounds = t_testU_BR['depthu_bounds']\n",
    "    VOL_transports = area_cells_all * UVEL_jdfmouth2d_BR\n",
    "    \n",
    "    t_grid_BR = nc.Dataset(files_hc_grid[t_sample])\n",
    "    S = t_grid_BR['vosaline']\n",
    "    T = t_grid_BR['votemper']\n",
    "    S_jdfmouth_BR = np.squeeze(S[:,:,:,dist_from_bdy])\n",
    "    T_jdfmouth_BR = np.squeeze(T[:,:,:,dist_from_bdy])\n",
    "\n",
    "    p_ref = 10.1325\n",
    "    rho_jdfmouth_BR = gsw.rho(S_jdfmouth_BR,T_jdfmouth_BR,p_ref)\n",
    "    rho_jdfmouth_BR_real = rho_jdfmouth_BR - 1000\n",
    "\n",
    "    VOLtrans_stor[d,:,:] = VOL_transports\n",
    "    rho_stor[d,:,:] = rho_jdfmouth_BR_real\n",
    "    \n",
    "feb_vol = VOLtrans_stor[1,:,360:480]\n",
    "feb_rho = rho_stor[1,:,360:480]\n",
    "\n",
    "\n",
    "sep_vol = VOLtrans_stor[8,:,360:480]\n",
    "sep_rho = rho_stor[8,:,360:480]"
   ]
  },
  {
   "cell_type": "code",
   "execution_count": null,
   "metadata": {
    "collapsed": true
   },
   "outputs": [],
   "source": []
  },
  {
   "cell_type": "code",
   "execution_count": null,
   "metadata": {
    "collapsed": true
   },
   "outputs": [],
   "source": []
  },
  {
   "cell_type": "code",
   "execution_count": null,
   "metadata": {
    "collapsed": true
   },
   "outputs": [],
   "source": [
    "pycnal_bins = np.arange(20.0,27,0.2)\n",
    "Spyc_post_sum = np.zeros_like(pycnal_bins)\n",
    "Spyc_negt_sum = np.zeros_like(pycnal_bins)\n",
    "Fpyc_post_sum = np.zeros_like(pycnal_bins)\n",
    "Fpyc_negt_sum = np.zeros_like(pycnal_bins)\n",
    "\n",
    "feb_volr = np.ravel(feb_vol)\n",
    "sep_volr = np.ravel(sep_vol)\n",
    "feb_rhor = np.ravel(feb_rho)\n",
    "sep_rhor = np.ravel(sep_rho)\n",
    "\n",
    "def find_nearest(array, value):\n",
    "    array = np.asarray(array)\n",
    "    idx = (np.abs(array - value)).argmin()\n",
    "    return idx, array[idx]\n",
    "\n",
    "for i in range(0,len(feb_volr)):\n",
    "    \n",
    "    t_fv = feb_volr[i]\n",
    "    t_frho = feb_rhor[i]\n",
    "    #find closest isopycnal\n",
    "    idx, clos = find_nearest(pycnal_bins,t_frho)\n",
    "    #if it's less than the number, move to one bin up\n",
    "    if clos <= t_frho:\n",
    "        idx_assign = idx+1\n",
    "    else:\n",
    "        idx_assign = idx\n",
    "    if (~isnan(t_fv)) & (t_fv >= 0):\n",
    "        Fpyc_post_sum[idx_assign] = Fpyc_post_sum[idx_assign] + t_fv\n",
    "    if (~isnan(t_fv)) & (t_fv < 0):\n",
    "        Fpyc_negt_sum[idx_assign] = Fpyc_negt_sum[idx_assign] + t_fv\n",
    "         \n",
    "for i in range(0,len(sep_volr)):\n",
    "    \n",
    "    t_fv = sep_volr[i]\n",
    "    t_frho = sep_rhor[i]\n",
    "    #find closest isopycnal\n",
    "    idx, clos = find_nearest(pycnal_bins,t_frho)\n",
    "    #if it's less than the number, move to one bin up\n",
    "    if clos <= t_frho:\n",
    "        idx_assign = idx+1\n",
    "    else:\n",
    "        idx_assign = idx\n",
    "    if (~isnan(t_fv)) & (t_fv >= 0):\n",
    "        Spyc_post_sum[idx_assign] = Spyc_post_sum[idx_assign] + t_fv\n",
    "    if (~isnan(t_fv)) & (t_fv < 0):\n",
    "        Spyc_negt_sum[idx_assign] = Spyc_negt_sum[idx_assign] + t_fv\n",
    "         "
   ]
  },
  {
   "cell_type": "code",
   "execution_count": null,
   "metadata": {},
   "outputs": [
    {
     "data": {
      "text/plain": [
       "<matplotlib.text.Text at 0x7f3f5636d0b8>"
      ]
     },
     "execution_count": 13,
     "metadata": {},
     "output_type": "execute_result"
    }
   ],
   "source": [
    "fig = plt.figure(figsize=(10,10))\n",
    "ax = fig.add_subplot(2,2,1)\n",
    "ax.plot(pycnal_bins,Fpyc_post_sum,'r.')\n",
    "ax.set_title('February 15 pos trans vol by isopycnal')\n",
    "ax = fig.add_subplot(2,2,2)\n",
    "ax.plot(pycnal_bins,Fpyc_negt_sum,'r.')\n",
    "ax.set_title('February 15 neg trans vol by isopycnal')\n",
    "ax = fig.add_subplot(2,2,3)\n",
    "ax.plot(pycnal_bins,Spyc_post_sum,'r.')\n",
    "ax.set_title('September 15 pos trans vol by isopycnal')\n",
    "ax = fig.add_subplot(2,2,4)\n",
    "ax.plot(pycnal_bins,Spyc_negt_sum,'r.')\n",
    "ax.set_title('September 15 neg trans vol by isopycnal')\n",
    "\n",
    "plt.suptitle('TRANSPORTS m3/s BY ISOPYCNAL ('+ str(dist_from_bdy) +\n",
    "             'grid cells in from bdy)')"
   ]
  },
  {
   "cell_type": "code",
   "execution_count": null,
   "metadata": {},
   "outputs": [],
   "source": [
    "fig = plt.figure(figsize=(10,10))\n",
    "\n",
    "for i in range(1,5):\n",
    "    ax = fig.add_subplot(2,2,i)\n",
    "    section_slice = np.arange(360,480)\n",
    "    if i == 1:\n",
    "        ax.invert_yaxis()\n",
    "        sd = feb_vol[:,:]\n",
    "        tplt = np.ma.masked_values(sd,0)\n",
    "        tcmap = cm.cm.balance\n",
    "        cmap = tcmap\n",
    "        mesh = ax.pcolormesh(section_slice[:],zlevels[:],tplt, cmap = tcmap, vmin=-5000, vmax=5000 )\n",
    "        ax.set_title('FEB VOL TRANSPORT M3/s')\n",
    "    if i == 2:\n",
    "        ax.invert_yaxis()\n",
    "        sd = sep_vol[:,:]\n",
    "        tplt = np.ma.masked_values(sd,0)\n",
    "        tcmap = cm.cm.balance\n",
    "        cmap = tcmap\n",
    "        mesh = ax.pcolormesh(section_slice[:],zlevels[:],tplt, cmap = tcmap, vmin=-5000, vmax=5000 )\n",
    "        cbar = fig.colorbar(mesh, ax=ax)\n",
    "        ax.set_title('SEPT VOL TRANSPORT M3/s')        \n",
    "    if i == 3:\n",
    "        ax.invert_yaxis()\n",
    "        sd = feb_rho[:,:]\n",
    "        tplt = np.ma.masked_values(sd,0)\n",
    "        tcmap = cm.cm.matter\n",
    "        cmap = tcmap\n",
    "        mesh = ax.pcolormesh(section_slice[:],zlevels[:],tplt, cmap = tcmap, vmin=22, vmax=28 )\n",
    "        ax.set_title('FEB RHO (POT DENS)')\n",
    "    if i == 4:\n",
    "        ax.invert_yaxis()\n",
    "        sd = sep_rho[:,:]\n",
    "        tplt = np.ma.masked_values(sd,0)\n",
    "        tcmap = cm.cm.matter\n",
    "        cmap = tcmap\n",
    "        mesh = ax.pcolormesh(section_slice[:],zlevels[:],tplt, cmap = tcmap, vmin=22, vmax=28 )\n",
    "        cbar = fig.colorbar(mesh, ax=ax)\n",
    "        ax.set_title('SEPT RHO (POT DENS)')\n",
    "#plt.suptitle('Jan 1, 2016, DIC transport and rho', fontsize = 20)\n",
    "fig.tight_layout()\n",
    "\n",
    "    #plt.close()\n",
    "plt.show()"
   ]
  },
  {
   "cell_type": "code",
   "execution_count": null,
   "metadata": {
    "collapsed": true
   },
   "outputs": [],
   "source": [
    "UVEL_jdfmouth_BR_test = UVEL[:,:,:,dist_from_bdy]\n",
    "UVEL_jdfmouth_BR_test = UVEL[:,:,:,dist_from_bdy]"
   ]
  },
  {
   "cell_type": "code",
   "execution_count": null,
   "metadata": {
    "collapsed": true
   },
   "outputs": [],
   "source": [
    "d = 1\n",
    "t_sample = sample_dates[d]\n",
    "doy = doy_hc[t_sample]\n",
    "tdate = dates_hc[t_sample]\n",
    "\n",
    "t_testU_BR = nc.Dataset(files_hc_dian[t_sample])\n",
    "UVEL = t_testU_BR['vozocrtx']\n",
    "UVEL_jdfmouth_BR = UVEL[:,:,:,dist_from_bdy]\n",
    "UVEL_jdfmouth2d_BR = np.squeeze(UVEL_jdfmouth_BR)\n"
   ]
  },
  {
   "cell_type": "code",
   "execution_count": null,
   "metadata": {
    "collapsed": true
   },
   "outputs": [],
   "source": [
    "# test_uvel = (UVEL_jdfmouth2d_BR)\n",
    "# print(UVEL_jdfmouth2d_BR[:,555:556])"
   ]
  },
  {
   "cell_type": "code",
   "execution_count": null,
   "metadata": {
    "collapsed": true
   },
   "outputs": [],
   "source": [
    "# (UVEL_jdfmouth_BR_test[:,:,510:511])\n",
    "# print(np.shape(feb_vol))\n",
    "# print((feb_vol[:,155:156]))"
   ]
  },
  {
   "cell_type": "code",
   "execution_count": null,
   "metadata": {
    "collapsed": true
   },
   "outputs": [],
   "source": [
    "# 27*440"
   ]
  },
  {
   "cell_type": "code",
   "execution_count": null,
   "metadata": {},
   "outputs": [],
   "source": [
    "np.nanmax(sep_rho)"
   ]
  },
  {
   "cell_type": "code",
   "execution_count": null,
   "metadata": {},
   "outputs": [],
   "source": [
    "print(pycnal_bins)\n",
    "print(Spyc_post_sum)"
   ]
  },
  {
   "cell_type": "code",
   "execution_count": null,
   "metadata": {
    "collapsed": true
   },
   "outputs": [],
   "source": []
  }
 ],
 "metadata": {
  "kernelspec": {
   "display_name": "Python 3",
   "language": "python",
   "name": "python3"
  },
  "language_info": {
   "codemirror_mode": {
    "name": "ipython",
    "version": 3
   },
   "file_extension": ".py",
   "mimetype": "text/x-python",
   "name": "python",
   "nbconvert_exporter": "python",
   "pygments_lexer": "ipython3",
   "version": "3.6.0"
  }
 },
 "nbformat": 4,
 "nbformat_minor": 2
}
