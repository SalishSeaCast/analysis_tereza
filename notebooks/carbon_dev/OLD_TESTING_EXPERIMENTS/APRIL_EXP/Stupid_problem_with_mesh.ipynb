{
 "cells": [
  {
   "cell_type": "markdown",
   "metadata": {},
   "source": [
    "geochecking Debby's station, with fixed lats, lons"
   ]
  },
  {
   "cell_type": "code",
   "execution_count": 30,
   "metadata": {},
   "outputs": [
    {
     "data": {
      "text/html": [
       "<script>\n",
       "code_show=true; \n",
       "function code_toggle() {\n",
       " if (code_show){\n",
       " $('div.input').hide();\n",
       " } else {\n",
       " $('div.input').show();\n",
       " }\n",
       " code_show = !code_show\n",
       "} \n",
       "$( document ).ready(code_toggle);\n",
       "</script>\n",
       "<form action=\"javascript:code_toggle()\"><input type=\"submit\" value=\"Click here to toggle on/off the raw code.\"></form>"
      ],
      "text/plain": [
       "<IPython.core.display.HTML object>"
      ]
     },
     "execution_count": 30,
     "metadata": {},
     "output_type": "execute_result"
    }
   ],
   "source": [
    "from IPython.display import HTML\n",
    "\n",
    "HTML('''<script>\n",
    "code_show=true; \n",
    "function code_toggle() {\n",
    " if (code_show){\n",
    " $('div.input').hide();\n",
    " } else {\n",
    " $('div.input').show();\n",
    " }\n",
    " code_show = !code_show\n",
    "} \n",
    "$( document ).ready(code_toggle);\n",
    "</script>\n",
    "<form action=\"javascript:code_toggle()\"><input type=\"submit\" value=\"Click here to toggle on/off the raw code.\"></form>''')"
   ]
  },
  {
   "cell_type": "code",
   "execution_count": 31,
   "metadata": {},
   "outputs": [
    {
     "name": "stdout",
     "output_type": "stream",
     "text": [
      "Once deleted, variables cannot be recovered. Proceed (y/[n])? y\n"
     ]
    }
   ],
   "source": [
    "%reset"
   ]
  },
  {
   "cell_type": "code",
   "execution_count": 32,
   "metadata": {},
   "outputs": [
    {
     "name": "stdout",
     "output_type": "stream",
     "text": [
      "Interactive namespace is empty.\n"
     ]
    }
   ],
   "source": [
    "whos"
   ]
  },
  {
   "cell_type": "code",
   "execution_count": 33,
   "metadata": {},
   "outputs": [
    {
     "name": "stderr",
     "output_type": "stream",
     "text": [
      "/home/tjarniko/anaconda3/lib/python3.6/site-packages/matplotlib/__init__.py:1401: UserWarning:  This call to matplotlib.use() has no effect\n",
      "because the backend has already been chosen;\n",
      "matplotlib.use() must be called *before* pylab, matplotlib.pyplot,\n",
      "or matplotlib.backends is imported for the first time.\n",
      "\n",
      "  warnings.warn(_use_error_msg)\n"
     ]
    }
   ],
   "source": [
    "import matplotlib\n",
    "matplotlib.use('Agg')\n",
    "import matplotlib.pyplot as plt\n",
    "from salishsea_tools import visualisations as vis\n",
    "from salishsea_tools import (teos_tools, tidetools, viz_tools)\n",
    "import cmocean as cm\n",
    "import matplotlib.pyplot as plt\n",
    "import netCDF4 as nc\n",
    "import numpy as np\n",
    "import glob\n",
    "from matplotlib import reload\n",
    "%matplotlib inline"
   ]
  },
  {
   "cell_type": "markdown",
   "metadata": {},
   "source": [
    "## Retrieve "
   ]
  },
  {
   "cell_type": "code",
   "execution_count": 34,
   "metadata": {},
   "outputs": [
    {
     "name": "stdout",
     "output_type": "stream",
     "text": [
      "variables retrieved\n",
      "setting minimum salinity at 0.1 to avoid divby0 errors\n",
      "normalizing dic to sal 32 as per D. Ianson\n",
      "shape and type of dic_norm\n",
      "(15, 40, 898, 398)\n",
      "<class 'numpy.ma.core.MaskedArray'>\n",
      "we finished normalizing\n"
     ]
    }
   ],
   "source": [
    "segment = 1\n",
    "deep = 22\n",
    "dirstr = './'\n",
    "\n",
    "resdir = 'may10_a1/'\n",
    "resdir = '/data/tjarniko/results/' + resdir \n",
    "\n",
    "depthus = nc.Dataset('/data/tjarniko/results/may10_a1/zlevels_1h.nc')\n",
    "zlevels = depthus.variables['depthu']\n",
    "w = glob.glob(resdir + 'SKOG_1d*ptrc_T.nc')\n",
    "w2 = glob.glob(resdir + 'SKOG_1d*grid_T.nc')\n",
    "\n",
    "trac =  nc.Dataset(w[0])\n",
    "ptrac =  nc.Dataset(w2[0])\n",
    "\n",
    "print('variables retrieved')\n",
    "\n",
    "t_dic = trac.variables['dissolved_inorganic_carbon'][:]\n",
    "t_sn = ptrac.variables['vosaline'][:]\n",
    "#avoid divby0\n",
    "print('setting minimum salinity at 0.1 to avoid divby0 errors')\n",
    "t_sn[t_sn<0.1] = 0.1\n",
    "print('normalizing dic to sal 32 as per D. Ianson')\n",
    "dic_norm = t_dic * (32/t_sn)\n",
    "plotdat = dic_norm\n",
    "print('shape and type of dic_norm')\n",
    "print(dic_norm.shape)\n",
    "print(type(dic_norm))\n",
    "print('we finished normalizing')\n"
   ]
  },
  {
   "cell_type": "markdown",
   "metadata": {},
   "source": [
    "## Plotdat is DIC as a NETcdf variable"
   ]
  },
  {
   "cell_type": "code",
   "execution_count": 40,
   "metadata": {},
   "outputs": [
    {
     "name": "stdout",
     "output_type": "stream",
     "text": [
      "type of plotdat\n",
      "<class 'netCDF4._netCDF4.Variable'>\n",
      "shape and type of plotdat - non subsetted plotting data\n",
      "(15, 40, 898, 398)\n",
      "<class 'netCDF4._netCDF4.Variable'>\n",
      "shape and type pdat - subsetted plotting data\n",
      "(40, 120)\n",
      "<class 'numpy.ma.core.MaskedArray'>\n",
      "contents of subsetted plotting data, at y = 20\n",
      "[-- -- -- -- -- -- -- -- -- -- -- -- -- -- 1954.4295654296875\n",
      " 1954.0384521484375 1952.8603515625 1952.041748046875 -- -- -- -- --\n",
      " 1981.7515869140625 1983.9837646484375 1983.572998046875 1983.078125\n",
      " 1982.6409912109375 1982.61962890625 1982.4593505859375 1982.191162109375\n",
      " -- 1981.2293701171875 1978.4952392578125 1977.607666015625\n",
      " 1977.0589599609375 1976.3885498046875 1975.2796630859375 1974.6142578125\n",
      " 1973.8594970703125 1973.0845947265625 1972.421630859375 1971.456787109375\n",
      " 1970.96533203125 1970.4271240234375 1969.70947265625 1968.7431640625\n",
      " 1968.5372314453125 1968.2821044921875 1968.219970703125 1968.2550048828125\n",
      " 1968.1851806640625 1968.0994873046875 1968.066162109375 1967.9283447265625\n",
      " 1967.635498046875 1967.0299072265625 1966.056396484375 1965.0439453125\n",
      " 1963.9892578125 1962.1055908203125 1960.6517333984375 1959.479736328125\n",
      " 1958.4180908203125 1958.36767578125 1958.685546875 1958.5106201171875 --\n",
      " -- -- -- -- -- -- -- -- -- -- -- 1960.936767578125 1960.66552734375\n",
      " 1961.5164794921875 1961.8770751953125 1961.7283935546875\n",
      " 1961.8121337890625 1961.9154052734375 1962.3375244140625 1962.4189453125\n",
      " 1962.4671630859375 1962.622314453125 1964.3052978515625 1964.1571044921875\n",
      " 1962.720458984375 1964.76318359375 1966.3311767578125 -- -- -- -- -- -- --\n",
      " -- -- -- -- -- -- -- -- -- -- -- -- -- -- -- -- -- --]\n",
      "shape of the meshgrid we created\n",
      "(40, 120)\n"
     ]
    },
    {
     "data": {
      "image/png": "[encoded data removed]",
      "text/plain": [
       "<matplotlib.figure.Figure at 0x7ff161393dd8>"
      ]
     },
     "metadata": {},
     "output_type": "display_data"
    }
   ],
   "source": [
    "tcmap = cm.cm.matter\n",
    "cblabel = 'DIC μmol/l'\n",
    "surtit = 'DIC norm 32 '\n",
    "\n",
    "dic = trac.variables['dissolved_inorganic_carbon']\n",
    "plotdat = dic\n",
    "print('type of plotdat')\n",
    "print(type(plotdat))\n",
    "section_slice = np.arange(110, 230)\n",
    "v_min = 2050\n",
    "v_max = 2150\n",
    "\n",
    "t = 0\n",
    "#depth slice\n",
    "deep = 22\n",
    "\n",
    "fig, ((ax1)) = plt.subplots(1,1, figsize = (5, 5))\n",
    "land_colour = 'slategrey'\n",
    "physdat = nc.Dataset('/data/tjarniko/results/may10_a1/tn_1h.nc')\n",
    "\n",
    "zlevels = physdat.variables['deptht']\n",
    "\n",
    "# AX 1 \n",
    "zmax, ylocn = 41, 647\n",
    "print('shape and type of plotdat - non subsetted plotting data')\n",
    "print(plotdat.shape)\n",
    "print(type(plotdat))\n",
    "\n",
    "print('shape and type pdat - subsetted plotting data')\n",
    "\n",
    "pdat = np.ma.masked_values(plotdat[t,:,ylocn,section_slice],0)\n",
    "print(pdat.shape)\n",
    "print(type(pdat))\n",
    "\n",
    "print('contents of subsetted plotting data, at y = 20')\n",
    "print(pdat[20,:])\n",
    "\n",
    "print('shape of the meshgrid we created')\n",
    "x, y, = np.meshgrid(section_slice,zlevels)\n",
    "print(x.shape)\n",
    "\n",
    "mesh = ax1.pcolormesh(\n",
    "    x, y, pdat, cmap=tcmap, vmin=v_min, vmax=v_max)\n",
    "ax1.invert_yaxis()\n",
    "\n",
    "ax1.set_xlabel('x Index', fontsize = 15)\n",
    "ax1.set_ylabel('depth (m)', fontsize = 15)\n",
    "# Axes limits and grid\n",
    "ax1.set_xlim(section_slice[1], section_slice[-1])\n",
    "ax1.set_ylim(zlevels[zmax - 2] + 20, 0)\n",
    "ax1.set_facecolor(land_colour)\n",
    "#ax1.grid()\n",
    "ax1.set_title('Crossection of Stn. 12', fontsize = 20, color = 'xkcd:bright blue')\n",
    "\n",
    "plt.show()"
   ]
  },
  {
   "cell_type": "markdown",
   "metadata": {},
   "source": [
    "## Plotdat is DIC as a numpy masked array"
   ]
  },
  {
   "cell_type": "code",
   "execution_count": 42,
   "metadata": {},
   "outputs": [
    {
     "name": "stdout",
     "output_type": "stream",
     "text": [
      "type of plotdat\n",
      "<class 'numpy.ma.core.MaskedArray'>\n",
      "shape and type of plotdat - non subsetted plotting data\n",
      "(15, 40, 898, 398)\n",
      "<class 'numpy.ma.core.MaskedArray'>\n",
      "shape and type pdat - subsetted plotting data\n",
      "(40, 120)\n",
      "<class 'numpy.ma.core.MaskedArray'>\n",
      "contents of subsetted plotting data, at y = 20\n",
      "[-- -- -- -- -- -- -- -- -- -- -- -- -- -- 1954.4295654296875\n",
      " 1954.0384521484375 1952.8603515625 1952.041748046875 -- -- -- -- --\n",
      " 1981.7515869140625 1983.9837646484375 1983.572998046875 1983.078125\n",
      " 1982.6409912109375 1982.61962890625 1982.4593505859375 1982.191162109375\n",
      " -- 1981.2293701171875 1978.4952392578125 1977.607666015625\n",
      " 1977.0589599609375 1976.3885498046875 1975.2796630859375 1974.6142578125\n",
      " 1973.8594970703125 1973.0845947265625 1972.421630859375 1971.456787109375\n",
      " 1970.96533203125 1970.4271240234375 1969.70947265625 1968.7431640625\n",
      " 1968.5372314453125 1968.2821044921875 1968.219970703125 1968.2550048828125\n",
      " 1968.1851806640625 1968.0994873046875 1968.066162109375 1967.9283447265625\n",
      " 1967.635498046875 1967.0299072265625 1966.056396484375 1965.0439453125\n",
      " 1963.9892578125 1962.1055908203125 1960.6517333984375 1959.479736328125\n",
      " 1958.4180908203125 1958.36767578125 1958.685546875 1958.5106201171875 --\n",
      " -- -- -- -- -- -- -- -- -- -- -- 1960.936767578125 1960.66552734375\n",
      " 1961.5164794921875 1961.8770751953125 1961.7283935546875\n",
      " 1961.8121337890625 1961.9154052734375 1962.3375244140625 1962.4189453125\n",
      " 1962.4671630859375 1962.622314453125 1964.3052978515625 1964.1571044921875\n",
      " 1962.720458984375 1964.76318359375 1966.3311767578125 -- -- -- -- -- -- --\n",
      " -- -- -- -- -- -- -- -- -- -- -- -- -- -- -- -- -- --]\n",
      "shape of the meshgrid we created\n",
      "(40, 120)\n"
     ]
    },
    {
     "data": {
      "image/png": "[encoded data removed]",
      "text/plain": [
       "<matplotlib.figure.Figure at 0x7ff1611a96a0>"
      ]
     },
     "metadata": {},
     "output_type": "display_data"
    }
   ],
   "source": [
    "tcmap = cm.cm.matter\n",
    "cblabel = 'DIC μmol/l'\n",
    "surtit = 'DIC norm 32 '\n",
    "\n",
    "dic = trac.variables['dissolved_inorganic_carbon'][:]\n",
    "plotdat = dic\n",
    "print('type of plotdat')\n",
    "print(type(plotdat))\n",
    "section_slice = np.arange(110, 230)\n",
    "v_min = 2050\n",
    "v_max = 2150\n",
    "\n",
    "t = 0\n",
    "#depth slice\n",
    "deep = 22\n",
    "\n",
    "fig, ((ax1)) = plt.subplots(1,1, figsize = (5, 5))\n",
    "land_colour = 'slategrey'\n",
    "physdat = nc.Dataset('/data/tjarniko/results/may10_a1/tn_1h.nc')\n",
    "\n",
    "zlevels = physdat.variables['deptht']\n",
    "\n",
    "# AX 1 \n",
    "zmax, ylocn = 41, 647\n",
    "print('shape and type of plotdat - non subsetted plotting data')\n",
    "print(plotdat.shape)\n",
    "print(type(plotdat))\n",
    "\n",
    "print('shape and type pdat - subsetted plotting data')\n",
    "\n",
    "pdat = np.ma.masked_values(plotdat[t,:,ylocn,section_slice],0)\n",
    "pdat = pdat.T\n",
    "print(pdat.shape)\n",
    "print(type(pdat))\n",
    "\n",
    "print('contents of subsetted plotting data, at y = 20')\n",
    "print(pdat[20,:])\n",
    "\n",
    "print('shape of the meshgrid we created')\n",
    "x, y, = np.meshgrid(section_slice,zlevels)\n",
    "print(x.shape)\n",
    "\n",
    "mesh = ax1.pcolormesh(\n",
    "    x, y, pdat, cmap=tcmap, vmin=v_min, vmax=v_max)\n",
    "ax1.invert_yaxis()\n",
    "\n",
    "ax1.set_xlabel('x Index', fontsize = 15)\n",
    "ax1.set_ylabel('depth (m)', fontsize = 15)\n",
    "# Axes limits and grid\n",
    "ax1.set_xlim(section_slice[1], section_slice[-1])\n",
    "ax1.set_ylim(zlevels[zmax - 2] + 20, 0)\n",
    "ax1.set_facecolor(land_colour)\n",
    "#ax1.grid()\n",
    "ax1.set_title('Crossection of Stn. 12', fontsize = 20, color = 'xkcd:bright blue')\n",
    "\n",
    "plt.show()"
   ]
  },
  {
   "cell_type": "code",
   "execution_count": null,
   "metadata": {
    "collapsed": true
   },
   "outputs": [],
   "source": []
  }
 ],
 "metadata": {
  "kernelspec": {
   "display_name": "Python 3",
   "language": "python",
   "name": "python3"
  },
  "language_info": {
   "codemirror_mode": {
    "name": "ipython",
    "version": 3
   },
   "file_extension": ".py",
   "mimetype": "text/x-python",
   "name": "python",
   "nbconvert_exporter": "python",
   "pygments_lexer": "ipython3",
   "version": "3.7.4"
  }
 },
 "nbformat": 4,
 "nbformat_minor": 2
}
