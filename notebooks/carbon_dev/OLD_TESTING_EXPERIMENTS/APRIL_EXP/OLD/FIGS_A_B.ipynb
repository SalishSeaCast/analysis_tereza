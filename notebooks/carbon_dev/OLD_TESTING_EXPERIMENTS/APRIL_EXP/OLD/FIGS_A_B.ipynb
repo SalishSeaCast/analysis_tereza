{
 "cells": [
  {
   "cell_type": "code",
   "execution_count": 152,
   "metadata": {},
   "outputs": [
    {
     "data": {
      "text/html": [
       "<script>\n",
       "code_show=true; \n",
       "function code_toggle() {\n",
       " if (code_show){\n",
       " $('div.input').hide();\n",
       " } else {\n",
       " $('div.input').show();\n",
       " }\n",
       " code_show = !code_show\n",
       "} \n",
       "$( document ).ready(code_toggle);\n",
       "</script>\n",
       "<form action=\"javascript:code_toggle()\"><input type=\"submit\" value=\"Click here to toggle on/off the raw code.\"></form>"
      ],
      "text/plain": [
       "<IPython.core.display.HTML object>"
      ]
     },
     "execution_count": 152,
     "metadata": {},
     "output_type": "execute_result"
    }
   ],
   "source": [
    "from IPython.display import HTML\n",
    "\n",
    "HTML('''<script>\n",
    "code_show=true; \n",
    "function code_toggle() {\n",
    " if (code_show){\n",
    " $('div.input').hide();\n",
    " } else {\n",
    " $('div.input').show();\n",
    " }\n",
    " code_show = !code_show\n",
    "} \n",
    "$( document ).ready(code_toggle);\n",
    "</script>\n",
    "<form action=\"javascript:code_toggle()\"><input type=\"submit\" value=\"Click here to toggle on/off the raw code.\"></form>''')"
   ]
  },
  {
   "cell_type": "code",
   "execution_count": 153,
   "metadata": {},
   "outputs": [
    {
     "name": "stdout",
     "output_type": "stream",
     "text": [
      "Once deleted, variables cannot be recovered. Proceed (y/[n])? y\n"
     ]
    }
   ],
   "source": [
    "#import all the things\n",
    "\n",
    "%reset\n",
    "import phys_map as pm\n",
    "import netCDF4 as nc\n",
    "import matplotlib.pyplot as plt\n",
    "import datetime\n",
    "import os\n",
    "import numpy as np\n",
    "import cmocean as cm\n",
    "from salishsea_tools import visualisations as vis\n",
    "from salishsea_tools import (teos_tools, tidetools, viz_tools)\n",
    "import xarray as xr \n",
    "import subprocess \n",
    "import cmocean\n",
    "from matplotlib import reload\n",
    "import glob\n",
    "from scipy.io import loadmat\n",
    "import netCDF4 as nc\n",
    "\n",
    "%matplotlib inline"
   ]
  },
  {
   "cell_type": "code",
   "execution_count": 154,
   "metadata": {},
   "outputs": [
    {
     "name": "stderr",
     "output_type": "stream",
     "text": [
      "/home/tjarniko/anaconda3/lib/python3.6/site-packages/matplotlib/__init__.py:1401: UserWarning:  This call to matplotlib.use() has no effect\n",
      "because the backend has already been chosen;\n",
      "matplotlib.use() must be called *before* pylab, matplotlib.pyplot,\n",
      "or matplotlib.backends is imported for the first time.\n",
      "\n",
      "  warnings.warn(_use_error_msg)\n"
     ]
    },
    {
     "data": {
      "text/plain": [
       "<module 'phys_map' from '/data/tjarniko/MEOPAR/at3/notebooks/carbon_dev/APRIL_EXP/phys_map.py'>"
      ]
     },
     "execution_count": 154,
     "metadata": {},
     "output_type": "execute_result"
    }
   ],
   "source": [
    "reload(pm)"
   ]
  },
  {
   "cell_type": "markdown",
   "metadata": {},
   "source": [
    "## CMOS presentation 2018\n",
    "\n",
    "\n",
    "\n",
    "1) the physical circulation - we need to show the signal of a discrete watermass, ideally from several angles, to succinctly convince the reader that this circulation happens\n",
    "\n",
    "    FIG IDEA A: surface streamlines; also streamlines at 30-200 meters' depth\n",
    "    FIG IDEA B: surface vectors/arrows; also streamlines at 30-200 meters' depth\n"
   ]
  },
  {
   "cell_type": "markdown",
   "metadata": {},
   "source": [
    "## Figure A\n",
    "\n",
    "    surface streamlines for the whole domain, also for a subset\n",
    "    problem: takes a very, very long time to render."
   ]
  },
  {
   "cell_type": "code",
   "execution_count": 155,
   "metadata": {
    "collapsed": true
   },
   "outputs": [],
   "source": [
    "# thistime = nc.Dataset('/data/tjarniko/results/may10_a1/timecount_1h.nc')\n",
    "# us = nc.Dataset('/data/tjarniko/results/may10_a1/u_1h.nc')\n",
    "# vs = nc.Dataset('/data/tjarniko/results/may10_a1/v_1h.nc')\n",
    "# depthus = nc.Dataset('/data/tjarniko/results/may10_a1/zlevels_1h.nc')\n",
    "\n",
    "# ugrid = us.variables['vozocrtx']\n",
    "# vgrid = vs.variables['vomecrty']\n",
    "# zlevels = depthus.variables['depthu']\n",
    "# timesteps = thistime.variables['time_counter']\n"
   ]
  },
  {
   "cell_type": "code",
   "execution_count": 156,
   "metadata": {
    "collapsed": true
   },
   "outputs": [],
   "source": [
    "# t, zlevel = 0, 0\n",
    "# y_slice = np.arange(0, 898)\n",
    "# x_slice = np.arange(0, 398)\n",
    "# print('slice defined')\n",
    "# ugrid_tzyx = np.ma.masked_values(ugrid[t, zlevel, y_slice, x_slice], 0)\n",
    "# vgrid_tzyx = np.ma.masked_values(vgrid[t, zlevel, y_slice, x_slice], 0)\n",
    "# u_tzyx, v_tzyx = viz_tools.unstagger(ugrid_tzyx, vgrid_tzyx)\n",
    "# print('done unstaggering')\n",
    "# fig, ax = plt.subplots(1, 1, figsize=(60, 30))\n",
    "# density = 10\n",
    "# # for ax, density in zip(axs, densities):\n",
    "# viz_tools.set_aspect(ax)\n",
    "\n",
    "# ax.streamplot(\n",
    "#     x_slice[1:], y_slice[1:], u_tzyx, v_tzyx,\n",
    "#     density=density,\n",
    "# )\n",
    "# viz_tools.plot_land_mask(ax, bathy, xslice=x_slice, yslice=y_slice)\n",
    "\n",
    "# ax.set_xlim(x_slice[0], x_slice[-1])\n",
    "# ax.set_ylim(y_slice[0], y_slice[-1])\n",
    "# ax.grid()\n",
    "\n",
    "# ax.set_xlabel('x Index')\n",
    "# ax.set_ylabel('y Index')\n",
    "# tit = pm.datestring_spitter(t)\n",
    "\n",
    "# ax.set_title(tit, fontsize = 18)\n"
   ]
  },
  {
   "cell_type": "code",
   "execution_count": 157,
   "metadata": {
    "collapsed": true
   },
   "outputs": [],
   "source": [
    "def streamfxn_drawer(ugrid, vgrid, t, zlevel, dirstr, figtit):\n",
    "    print('timestamp is ' + str(t))\n",
    "    print('zlevel is ')\n",
    "    # t, zlevel = 0, 0\n",
    "    y_slice = np.arange(180, 500)\n",
    "    x_slice = np.arange(100, 398)\n",
    "    print('slice defined')\n",
    "    ugrid_tzyx = np.ma.masked_values(ugrid[t, zlevel, y_slice, x_slice], 0)\n",
    "    vgrid_tzyx = np.ma.masked_values(vgrid[t, zlevel, y_slice, x_slice], 0)\n",
    "    u_tzyx, v_tzyx = viz_tools.unstagger(ugrid_tzyx, vgrid_tzyx)\n",
    "    print('done unstaggering')\n",
    "    fig, ax = plt.subplots(1, 1, figsize=(10, 10))\n",
    "    density = 10\n",
    "    # for ax, density in zip(axs, densities):\n",
    "    viz_tools.set_aspect(ax)\n",
    "\n",
    "    ax.streamplot(\n",
    "        x_slice[1:], y_slice[1:], u_tzyx, v_tzyx,\n",
    "        density=density,\n",
    "    )\n",
    "    viz_tools.plot_land_mask(ax, bathy, xslice=x_slice, yslice=y_slice)\n",
    "\n",
    "    ax.set_xlim(x_slice[0], x_slice[-1])\n",
    "    ax.set_ylim(y_slice[0], y_slice[-1])\n",
    "    ax.grid()\n",
    "\n",
    "    ax.set_xlabel('x Index')\n",
    "    ax.set_ylabel('y Index')\n",
    "    tit = pm.datestring_spitter(t)\n",
    "    total_fig = dirstr+figtit+str(t) + '.png'\n",
    "    fig.savefig(total_fig)\n",
    "    plt.close(fig)\n",
    "    ax.set_title(tit, fontsize = 18)\n"
   ]
  },
  {
   "cell_type": "code",
   "execution_count": 158,
   "metadata": {
    "collapsed": true
   },
   "outputs": [],
   "source": [
    "# t = 0 \n",
    "# zlevel = 0\n",
    "# #print(depthus[:])\n",
    "# dirstr = './'\n",
    "# figtit = 'SFXN_zlvl' + str(zlevel)\n",
    "# streamfxn_drawer(ugrid, vgrid, t, zlevel, dirstr, figtit)"
   ]
  },
  {
   "cell_type": "markdown",
   "metadata": {},
   "source": [
    "## Fig B surface arrows"
   ]
  },
  {
   "cell_type": "code",
   "execution_count": 159,
   "metadata": {
    "collapsed": true
   },
   "outputs": [],
   "source": [
    "# def velarrow_drawer(ugrid, vgrid, t, zlevel, dirstr, figtit,depthus):\n",
    "# # t, zlevel = 0, 0\n",
    "#     y_slice = np.arange(180, 500)\n",
    "#     x_slice = np.arange(100, 398)\n",
    "\n",
    "\n",
    "#     arrow_step = 3\n",
    "#     y_slice_a = y_slice[::arrow_step]\n",
    "#     x_slice_a = x_slice[::arrow_step]\n",
    "\n",
    "#     ugrid_tzyx = np.ma.masked_values(ugrid[t, zlevel, y_slice_a, x_slice_a], 0)\n",
    "#     vgrid_tzyx = np.ma.masked_values(vgrid[t, zlevel, y_slice_a, x_slice_a], 0)\n",
    "#     u_tzyx, v_tzyx = viz_tools.unstagger(ugrid_tzyx, vgrid_tzyx)\n",
    "#     speeds = np.sqrt(np.square(u_tzyx) + np.square(v_tzyx))\n",
    "\n",
    "#     fig, ax = plt.subplots(1, 1, figsize=(15, 15))\n",
    "#     viz_tools.set_aspect(ax)\n",
    "#     quiver = ax.quiver(\n",
    "#         x_slice_a[1:], y_slice_a[1:], u_tzyx, v_tzyx, speeds,\n",
    "#         pivot='mid', cmap=cm.cm.amp, width=0.005)\n",
    "#     viz_tools.plot_land_mask(ax, bathy, xslice=x_slice, yslice=y_slice)\n",
    "\n",
    "#     ax.set_xlim(x_slice[0], x_slice[-1])\n",
    "#     ax.set_ylim(y_slice[0], y_slice[-1])\n",
    "#     ax.grid()\n",
    "\n",
    "#     ax.set_xlabel('x Index')\n",
    "#     ax.set_ylabel('y Index')\n",
    "#     if zlevel == 0:\n",
    "#         tit1 = 'Surface Currents, '\n",
    "#     else:\n",
    "#         tdu = depthus.variables['depthu']\n",
    "#         td = tdu[zlevel]\n",
    "#         tit1 = 'Currents at depth ' + str(td)\n",
    "#     tit2 = pm.datestring_spitter(t)\n",
    "#     tit = tit1 + tit2\n",
    "    \n",
    "#     ax.set_title(tit, fontsize = 16)\n",
    "#     ax.quiverkey(quiver, 252, 302, 0.5, '0.5 m/s', coordinates='data', color='white', labelcolor='white')\n",
    "    \n",
    "#     total_fig = dirstr+figtit+str(t) + '.png'\n",
    "#     fig.savefig(total_fig)\n",
    "#     plt.close(fig)"
   ]
  },
  {
   "cell_type": "code",
   "execution_count": 163,
   "metadata": {},
   "outputs": [
    {
     "name": "stdout",
     "output_type": "stream",
     "text": [
      "index\n",
      "1056\n",
      "/data/tjarniko/results/may10_a4/\n",
      "number of frames\n",
      "(384,)\n",
      "February 14, 2016, 00:00  (1056 hours since January 1, 2016)\n",
      "February 14, 2016, 01:00  (1057 hours since January 1, 2016)\n",
      "February 14, 2016, 02:00  (1058 hours since January 1, 2016)\n"
     ]
    },
    {
     "ename": "KeyboardInterrupt",
     "evalue": "",
     "output_type": "error",
     "traceback": [
      "\u001b[0;31m--------------------------------------------------------------------\u001b[0m",
      "\u001b[0;31mKeyboardInterrupt\u001b[0m                  Traceback (most recent call last)",
      "\u001b[0;32m<ipython-input-163-3ff9b2cae096>\u001b[0m in \u001b[0;36m<module>\u001b[0;34m()\u001b[0m\n\u001b[1;32m      5\u001b[0m \u001b[0mfigtit\u001b[0m \u001b[0;34m=\u001b[0m \u001b[0;34m'VA_zl_'\u001b[0m \u001b[0;34m+\u001b[0m \u001b[0mstr\u001b[0m\u001b[0;34m(\u001b[0m\u001b[0mzlevel\u001b[0m\u001b[0;34m)\u001b[0m \u001b[0;34m+\u001b[0m \u001b[0;34m'_hr_'\u001b[0m\u001b[0;34m\u001b[0m\u001b[0m\n\u001b[1;32m      6\u001b[0m \u001b[0;34m\u001b[0m\u001b[0m\n\u001b[0;32m----> 7\u001b[0;31m \u001b[0mpm\u001b[0m\u001b[0;34m.\u001b[0m\u001b[0mMRAP\u001b[0m\u001b[0;34m(\u001b[0m\u001b[0mresdir\u001b[0m\u001b[0;34m,\u001b[0m\u001b[0mdirstr\u001b[0m\u001b[0;34m,\u001b[0m\u001b[0mfigtit\u001b[0m\u001b[0;34m,\u001b[0m\u001b[0msegment\u001b[0m\u001b[0;34m,\u001b[0m\u001b[0mzlevel\u001b[0m\u001b[0;34m)\u001b[0m\u001b[0;34m\u001b[0m\u001b[0m\n\u001b[0m",
      "\u001b[0;32m/data/tjarniko/MEOPAR/at3/notebooks/carbon_dev/APRIL_EXP/phys_map.py\u001b[0m in \u001b[0;36mMRAP\u001b[0;34m(resdir, dirstr, figtit, segment, zlevel)\u001b[0m\n\u001b[1;32m    150\u001b[0m \u001b[0;34m\u001b[0m\u001b[0m\n\u001b[1;32m    151\u001b[0m     \u001b[0;32mfor\u001b[0m \u001b[0mt\u001b[0m \u001b[0;32min\u001b[0m \u001b[0mrange\u001b[0m\u001b[0;34m(\u001b[0m\u001b[0;36m0\u001b[0m\u001b[0;34m,\u001b[0m\u001b[0mtimer\u001b[0m\u001b[0;34m)\u001b[0m\u001b[0;34m:\u001b[0m\u001b[0;34m\u001b[0m\u001b[0m\n\u001b[0;32m--> 152\u001b[0;31m         \u001b[0mvelarrow_drawer\u001b[0m\u001b[0;34m(\u001b[0m\u001b[0mugrid\u001b[0m\u001b[0;34m,\u001b[0m \u001b[0mvgrid\u001b[0m\u001b[0;34m,\u001b[0m \u001b[0mt\u001b[0m\u001b[0;34m,\u001b[0m \u001b[0mzlevel\u001b[0m\u001b[0;34m,\u001b[0m \u001b[0mdirstr\u001b[0m\u001b[0;34m,\u001b[0m \u001b[0mfigtit\u001b[0m\u001b[0;34m,\u001b[0m\u001b[0mdepthus\u001b[0m\u001b[0;34m,\u001b[0m\u001b[0mindexer\u001b[0m\u001b[0;34m)\u001b[0m\u001b[0;34m\u001b[0m\u001b[0m\n\u001b[0m\u001b[1;32m    153\u001b[0m \u001b[0;34m\u001b[0m\u001b[0m\n\u001b[1;32m    154\u001b[0m \u001b[0;34m\u001b[0m\u001b[0m\n",
      "\u001b[0;32m/data/tjarniko/MEOPAR/at3/notebooks/carbon_dev/APRIL_EXP/phys_map.py\u001b[0m in \u001b[0;36mvelarrow_drawer\u001b[0;34m(ugrid, vgrid, t, zlevel, dirstr, figtit, depthus, indexer)\u001b[0m\n\u001b[1;32m     87\u001b[0m     \u001b[0mx_slice_a\u001b[0m \u001b[0;34m=\u001b[0m \u001b[0mx_slice\u001b[0m\u001b[0;34m[\u001b[0m\u001b[0;34m:\u001b[0m\u001b[0;34m:\u001b[0m\u001b[0marrow_step\u001b[0m\u001b[0;34m]\u001b[0m\u001b[0;34m\u001b[0m\u001b[0m\n\u001b[1;32m     88\u001b[0m \u001b[0;34m\u001b[0m\u001b[0m\n\u001b[0;32m---> 89\u001b[0;31m     \u001b[0mugrid_tzyx\u001b[0m \u001b[0;34m=\u001b[0m \u001b[0mnp\u001b[0m\u001b[0;34m.\u001b[0m\u001b[0mma\u001b[0m\u001b[0;34m.\u001b[0m\u001b[0mmasked_values\u001b[0m\u001b[0;34m(\u001b[0m\u001b[0mugrid\u001b[0m\u001b[0;34m[\u001b[0m\u001b[0mt\u001b[0m\u001b[0;34m,\u001b[0m \u001b[0mzlevel\u001b[0m\u001b[0;34m,\u001b[0m \u001b[0my_slice_a\u001b[0m\u001b[0;34m,\u001b[0m \u001b[0mx_slice_a\u001b[0m\u001b[0;34m]\u001b[0m\u001b[0;34m,\u001b[0m \u001b[0;36m0\u001b[0m\u001b[0;34m)\u001b[0m\u001b[0;34m\u001b[0m\u001b[0m\n\u001b[0m\u001b[1;32m     90\u001b[0m     \u001b[0mvgrid_tzyx\u001b[0m \u001b[0;34m=\u001b[0m \u001b[0mnp\u001b[0m\u001b[0;34m.\u001b[0m\u001b[0mma\u001b[0m\u001b[0;34m.\u001b[0m\u001b[0mmasked_values\u001b[0m\u001b[0;34m(\u001b[0m\u001b[0mvgrid\u001b[0m\u001b[0;34m[\u001b[0m\u001b[0mt\u001b[0m\u001b[0;34m,\u001b[0m \u001b[0mzlevel\u001b[0m\u001b[0;34m,\u001b[0m \u001b[0my_slice_a\u001b[0m\u001b[0;34m,\u001b[0m \u001b[0mx_slice_a\u001b[0m\u001b[0;34m]\u001b[0m\u001b[0;34m,\u001b[0m \u001b[0;36m0\u001b[0m\u001b[0;34m)\u001b[0m\u001b[0;34m\u001b[0m\u001b[0m\n\u001b[1;32m     91\u001b[0m     \u001b[0mu_tzyx\u001b[0m\u001b[0;34m,\u001b[0m \u001b[0mv_tzyx\u001b[0m \u001b[0;34m=\u001b[0m \u001b[0mviz_tools\u001b[0m\u001b[0;34m.\u001b[0m\u001b[0munstagger\u001b[0m\u001b[0;34m(\u001b[0m\u001b[0mugrid_tzyx\u001b[0m\u001b[0;34m,\u001b[0m \u001b[0mvgrid_tzyx\u001b[0m\u001b[0;34m)\u001b[0m\u001b[0;34m\u001b[0m\u001b[0m\n",
      "\u001b[0;32mnetCDF4/_netCDF4.pyx\u001b[0m in \u001b[0;36mnetCDF4._netCDF4.Variable.__getitem__ (netCDF4/_netCDF4.c:40328)\u001b[0;34m()\u001b[0m\n",
      "\u001b[0;32mnetCDF4/_netCDF4.pyx\u001b[0m in \u001b[0;36mnetCDF4._netCDF4.Variable._toma (netCDF4/_netCDF4.c:41361)\u001b[0;34m()\u001b[0m\n",
      "\u001b[0;32m/home/tjarniko/anaconda3/lib/python3.6/site-packages/numpy/core/_methods.py\u001b[0m in \u001b[0;36m_any\u001b[0;34m(a, axis, dtype, out, keepdims)\u001b[0m\n\u001b[1;32m     35\u001b[0m     \u001b[0;32mreturn\u001b[0m \u001b[0mumr_prod\u001b[0m\u001b[0;34m(\u001b[0m\u001b[0ma\u001b[0m\u001b[0;34m,\u001b[0m \u001b[0maxis\u001b[0m\u001b[0;34m,\u001b[0m \u001b[0mdtype\u001b[0m\u001b[0;34m,\u001b[0m \u001b[0mout\u001b[0m\u001b[0;34m,\u001b[0m \u001b[0mkeepdims\u001b[0m\u001b[0;34m)\u001b[0m\u001b[0;34m\u001b[0m\u001b[0m\n\u001b[1;32m     36\u001b[0m \u001b[0;34m\u001b[0m\u001b[0m\n\u001b[0;32m---> 37\u001b[0;31m \u001b[0;32mdef\u001b[0m \u001b[0m_any\u001b[0m\u001b[0;34m(\u001b[0m\u001b[0ma\u001b[0m\u001b[0;34m,\u001b[0m \u001b[0maxis\u001b[0m\u001b[0;34m=\u001b[0m\u001b[0;32mNone\u001b[0m\u001b[0;34m,\u001b[0m \u001b[0mdtype\u001b[0m\u001b[0;34m=\u001b[0m\u001b[0;32mNone\u001b[0m\u001b[0;34m,\u001b[0m \u001b[0mout\u001b[0m\u001b[0;34m=\u001b[0m\u001b[0;32mNone\u001b[0m\u001b[0;34m,\u001b[0m \u001b[0mkeepdims\u001b[0m\u001b[0;34m=\u001b[0m\u001b[0;32mFalse\u001b[0m\u001b[0;34m)\u001b[0m\u001b[0;34m:\u001b[0m\u001b[0;34m\u001b[0m\u001b[0m\n\u001b[0m\u001b[1;32m     38\u001b[0m     \u001b[0;32mreturn\u001b[0m \u001b[0mumr_any\u001b[0m\u001b[0;34m(\u001b[0m\u001b[0ma\u001b[0m\u001b[0;34m,\u001b[0m \u001b[0maxis\u001b[0m\u001b[0;34m,\u001b[0m \u001b[0mdtype\u001b[0m\u001b[0;34m,\u001b[0m \u001b[0mout\u001b[0m\u001b[0;34m,\u001b[0m \u001b[0mkeepdims\u001b[0m\u001b[0;34m)\u001b[0m\u001b[0;34m\u001b[0m\u001b[0m\n\u001b[1;32m     39\u001b[0m \u001b[0;34m\u001b[0m\u001b[0m\n",
      "\u001b[0;31mKeyboardInterrupt\u001b[0m: "
     ]
    }
   ],
   "source": [
    "segment = 4\n",
    "resdir = 'may10_a4/'\n",
    "dirstr = './'\n",
    "zlevel = 4\n",
    "figtit = 'VA_zl_' + str(zlevel) + '_hr_'\n",
    "\n",
    "pm.MRAP(resdir,dirstr,figtit,segment,zlevel)"
   ]
  },
  {
   "cell_type": "code",
   "execution_count": null,
   "metadata": {
    "collapsed": true
   },
   "outputs": [],
   "source": [
    "# dirstr = './'\n",
    "# figtit = 'VEL_zl0_'\n",
    "# zlevel = 0\n",
    "\n",
    "# ugrid, vgrid, timesteps, zlevels, depthus = pm.dat_retrieve('may10_a1/')\n",
    "# print(timesteps)\n",
    "\n",
    "# t = 3\n",
    "\n",
    "# pm.velarrow_drawer(ugrid, vgrid, t, zlevel, dirstr, figtit, depthus)"
   ]
  },
  {
   "cell_type": "code",
   "execution_count": 173,
   "metadata": {},
   "outputs": [
    {
     "name": "stdout",
     "output_type": "stream",
     "text": [
      "76.5856\n"
     ]
    }
   ],
   "source": [
    "zlevel = 25\n",
    "depthus = nc.Dataset('/data/tjarniko/results/may10_a1/zlevels_1h.nc')\n",
    "tdu = depthus.variables['depthu']\n",
    "td = tdu[zlevel]\n",
    "print(td)"
   ]
  },
  {
   "cell_type": "code",
   "execution_count": null,
   "metadata": {
    "collapsed": true
   },
   "outputs": [],
   "source": [
    "# w = (timesteps.shape)\n",
    "# print(w[0])"
   ]
  },
  {
   "cell_type": "code",
   "execution_count": null,
   "metadata": {
    "collapsed": true
   },
   "outputs": [],
   "source": []
  }
 ],
 "metadata": {
  "kernelspec": {
   "display_name": "Python 3",
   "language": "python",
   "name": "python3"
  },
  "language_info": {
   "codemirror_mode": {
    "name": "ipython",
    "version": 3
   },
   "file_extension": ".py",
   "mimetype": "text/x-python",
   "name": "python",
   "nbconvert_exporter": "python",
   "pygments_lexer": "ipython3",
   "version": "3.6.0"
  }
 },
 "nbformat": 4,
 "nbformat_minor": 2
}
