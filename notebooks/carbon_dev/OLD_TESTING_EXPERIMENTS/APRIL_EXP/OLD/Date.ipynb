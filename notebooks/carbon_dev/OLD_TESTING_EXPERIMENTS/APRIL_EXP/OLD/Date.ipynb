{
 "cells": [
  {
   "cell_type": "code",
   "execution_count": 1,
   "metadata": {},
   "outputs": [
    {
     "name": "stdout",
     "output_type": "stream",
     "text": [
      "Once deleted, variables cannot be recovered. Proceed (y/[n])? y\n"
     ]
    }
   ],
   "source": [
    "#import all the things\n",
    "\n",
    "%reset\n",
    "import netCDF4 as nc\n",
    "import matplotlib.pyplot as plt\n",
    "import datetime\n",
    "import os\n",
    "import numpy as np\n",
    "import cmocean as cm\n",
    "from salishsea_tools import visualisations as vis\n",
    "from salishsea_tools import (teos_tools, tidetools, viz_tools)\n",
    "import xarray as xr \n",
    "import subprocess \n",
    "import cmocean\n",
    "import netCDF4 as nc\n",
    "import glob\n",
    "\n",
    "%matplotlib inline"
   ]
  },
  {
   "cell_type": "code",
   "execution_count": 2,
   "metadata": {
    "collapsed": true
   },
   "outputs": [],
   "source": [
    "\n",
    "\n",
    "# #    cn_exp      = \"SKOG\"  ! experience name\n",
    "# #    nn_it000    =           1  ! first time step\n",
    "# #    nn_itend    =       32400  ! last time step (std 1 day = 2160 re: rn_rdt=40 in &namdom)\n",
    "# print('a1')\n",
    "# w = 32400-1\n",
    "# print(w)\n",
    "# print((w+1)/2160)\n",
    "# print('*')\n",
    "# print('starts at hrs since jan 1 at midnight:')\n",
    "# print(15*0)\n",
    "# #    nn_date0    =  20160101    ! date at nn_it000 (format yyyymmdd) ie START OF THIS SEGMENT\n",
    "\n",
    "# #    cn_exp      = \"SKOG\"  ! experience name\n",
    "# #    nn_it000    =       32401  ! first time step\n",
    "# #    nn_itend    =       64800  ! last time step (std 1 day = 2160 re: rn_rdt=40 in &namdom)\n",
    "# print('a2')\n",
    "# w = 64800-32401\n",
    "# print(w)\n",
    "# print((w+1)/2160)\n",
    "# print('*')\n",
    "# print('starts at hrs since jan 1 at midnight:')\n",
    "# print(15*0)\n",
    "# #    nn_date0    =  20160116    ! date at nn_it000 (format yyyymmdd) ie START OF THIS SEGMENT\n",
    "\n",
    "# #    cn_exp      = \"SKOG\"  ! experience name\n",
    "# #    nn_it000    =       64801  ! first time step\n",
    "# #    nn_itend    =       97200  ! last time step (std 1 day = 2160 re: rn_rdt=40 in &namdom)\n",
    "# print('a3')\n",
    "# w = 97200-64801\n",
    "# print(w)\n",
    "# print((w+1)/2160)\n",
    "# print('*')\n",
    "# #    nn_date0    =  20160131    ! date at nn_it000 (format yyyymmdd) ie START OF THIS SEGMENT\n",
    "\n",
    "# #    cn_exp      = \"SKOG\"  ! experience name\n",
    "# #    nn_it000    =       95041  ! first time step\n",
    "# #    nn_itend    =       129600  ! last time step (std 1 day = 2160 re: rn_rdt=40 in &namdom)\n",
    "# print('a4')\n",
    "# w = 129600-95041\n",
    "# print(w)\n",
    "# print((w+1)/2160)\n",
    "# print('*')\n",
    "# #    nn_date0    =  20160214    ! date at nn_it000 (format yyyymmdd) ie START OF THIS SEGMENT\n",
    "\n",
    "# #    cn_exp      = \"SKOG\"  ! experience name\n",
    "# #    nn_it000    =       129601  ! first time step\n",
    "# #    nn_itend    =       162000  ! last time step (std 1 day = 2160 re: rn_rdt=40 in &namdom)\n",
    "# print('a5')\n",
    "# w = 162000-129601\n",
    "# print(w)\n",
    "# print((w+1)/2160)\n",
    "# print('*')\n",
    "# #    nn_date0    =  20160301    ! date at nn_it000 (format yyyymmdd) ie START OF THIS SEGMENT\n",
    "\n",
    "# #    cn_exp      = \"SKOG\"  ! experience name\n",
    "# #    nn_it000    =       162001  ! first time step\n",
    "# #    nn_itend    =       194400  ! last time step (std 1 day = 2160 re: rn_rdt=40 in &namdom)\n",
    "# print('a6')\n",
    "# w = 194400-162001\n",
    "# print(w)\n",
    "# print((w+1)/2160)\n",
    "# print('*')\n",
    "# #    nn_date0    =  20160316    ! date at nn_it000 (format yyyymmdd) ie START OF THIS SEGMENT\n",
    "\n",
    "# #    cn_exp      = \"SKOG\"  ! experience name\n",
    "# #    nn_it000    =       194401  ! first time step\n",
    "# #    nn_itend    =       226800  ! last time step (std 1 day = 2160 re: rn_rdt=40 in &namdom)\n",
    "# print('a7')\n",
    "# w = 226800-194401\n",
    "# print(w)\n",
    "# print((w+1)/2160)\n",
    "# print('*')\n",
    "# #    nn_date0    =  20160331    ! date at nn_it000 (format yyyymmdd) ie START OF THIS SEGMENT\n",
    "\n",
    "# #    cn_exp      = \"SKOG\"  ! experience name\n",
    "# #    nn_it000    =       226801  ! first time step\n",
    "# #    nn_itend    =       259200  ! last time step (std 1 day = 2160 re: rn_rdt=40 in &namdom)\n",
    "# print('a8')\n",
    "# w = 259200-226801\n",
    "# print(w)\n",
    "# print((w+1)/2160)\n",
    "# print('*')\n",
    "# #    nn_date0    =  20160415    ! date at nn_it000 (format yyyymmdd) ie START OF THIS SEGMENT"
   ]
  },
  {
   "cell_type": "code",
   "execution_count": 3,
   "metadata": {},
   "outputs": [
    {
     "data": {
      "text/plain": [
       "<function print>"
      ]
     },
     "execution_count": 3,
     "metadata": {},
     "output_type": "execute_result"
    }
   ],
   "source": [
    "#days january to april \n",
    "days = [31,29,31,30]\n"
   ]
  },
  {
   "cell_type": "code",
   "execution_count": 25,
   "metadata": {},
   "outputs": [
    {
     "name": "stdout",
     "output_type": "stream",
     "text": [
      "/data/tjarniko/results/may10_a4/\n",
      "['/data/tjarniko/results/may10_a4/SKOG_1h_20160214_20160229_grid_U.nc']\n",
      "(384,)\n"
     ]
    }
   ],
   "source": [
    "## code for checking length of files\n",
    "no = 4\n",
    "ptt = '/data/tjarniko/results/may10_a' + str(no) + '/'\n",
    "print(ptt)\n",
    "q = glob.glob(ptt+'SKOG_1h_*_grid_U.nc')\n",
    "print(q)\n",
    "w = nc.Dataset(q[0])\n",
    "ttime = (w.variables['time_counter'])\n",
    "print(ttime.shape)"
   ]
  },
  {
   "cell_type": "code",
   "execution_count": 89,
   "metadata": {},
   "outputs": [
    {
     "name": "stdout",
     "output_type": "stream",
     "text": [
      "[744 696 744 720]\n",
      "March 1, 2016, 00:00  (1440 hours since January 1, 2016)\n"
     ]
    },
    {
     "data": {
      "text/plain": [
       "'March 1, 2016, 00:00  (1440 hours since January 1, 2016)'"
      ]
     },
     "execution_count": 89,
     "metadata": {},
     "output_type": "execute_result"
    }
   ],
   "source": [
    "def datestring_spitter(hrs_since):\n",
    "    days = [31,29,31,30]\n",
    "    h=24\n",
    "    dayhr = h*np.array(days)\n",
    "    print(dayhr)\n",
    "\n",
    "    month = 'walrus'\n",
    "    day = 'walrus'\n",
    "    hour = 'walrus'\n",
    "    \n",
    "    if (hrs_since < (sum(dayhr[0:4]))):\n",
    "        month = 'April'\n",
    "        left = (hrs_since - sum(dayhr[0:3]))\n",
    "        day = np.floor(left/24)\n",
    "        day = day + 1\n",
    "        hour = left%24\n",
    "    if (hrs_since < (sum(dayhr[0:3]))):\n",
    "        month = 'March'\n",
    "        left = (hrs_since - sum(dayhr[0:2]))\n",
    "        day = np.floor(left/24)\n",
    "        day = day + 1\n",
    "        hour = left%24\n",
    "    if (hrs_since < (sum(dayhr[0:2]))):\n",
    "        month = 'February'\n",
    "        left = (hrs_since - sum(dayhr[0:1]))\n",
    "        day = np.floor(left/24)\n",
    "        day = day + 1\n",
    "        hour = left%24\n",
    "    if (hrs_since < (sum(dayhr[0:1]))):\n",
    "        month = 'January'\n",
    "        left = hrs_since \n",
    "        day = np.floor(left/24)\n",
    "        day = day + 1\n",
    "        hour = left%24\n",
    "\n",
    "    hour = str(hour)\n",
    "    if len(hour) == 1:\n",
    "        hour = '0' + hour + ':00'\n",
    "    else: \n",
    "        hour = hour + ':00'\n",
    "    \n",
    "    day = str(int(day))\n",
    "    \n",
    "    datestr = month + ' ' + day + ', 2016, ' + hour + '  (' + str(hrs_since) + ' hours since January 1, 2016)'\n",
    "    print(datestr)\n",
    "    return datestr\n",
    "datestring_spitter(1440)"
   ]
  },
  {
   "cell_type": "code",
   "execution_count": 37,
   "metadata": {},
   "outputs": [
    {
     "data": {
      "text/plain": [
       "60"
      ]
     },
     "execution_count": 37,
     "metadata": {},
     "output_type": "execute_result"
    }
   ],
   "source": [
    "days = [31,29,31,30]\n",
    "sum(days[0:2])"
   ]
  },
  {
   "cell_type": "code",
   "execution_count": null,
   "metadata": {
    "collapsed": true
   },
   "outputs": [],
   "source": []
  }
 ],
 "metadata": {
  "kernelspec": {
   "display_name": "Python 3",
   "language": "python",
   "name": "python3"
  },
  "language_info": {
   "codemirror_mode": {
    "name": "ipython",
    "version": 3
   },
   "file_extension": ".py",
   "mimetype": "text/x-python",
   "name": "python",
   "nbconvert_exporter": "python",
   "pygments_lexer": "ipython3",
   "version": "3.6.0"
  }
 },
 "nbformat": 4,
 "nbformat_minor": 2
}
