{
 "cells": [
  {
   "cell_type": "code",
   "execution_count": 1,
   "metadata": {},
   "outputs": [
    {
     "data": {
      "text/html": [
       "<script>\n",
       "code_show=true; \n",
       "function code_toggle() {\n",
       " if (code_show){\n",
       " $('div.input').hide();\n",
       " } else {\n",
       " $('div.input').show();\n",
       " }\n",
       " code_show = !code_show\n",
       "} \n",
       "$( document ).ready(code_toggle);\n",
       "</script>\n",
       "<form action=\"javascript:code_toggle()\"><input type=\"submit\" value=\"Click here to toggle on/off the raw code.\"></form>"
      ],
      "text/plain": [
       "<IPython.core.display.HTML object>"
      ]
     },
     "execution_count": 1,
     "metadata": {},
     "output_type": "execute_result"
    }
   ],
   "source": [
    "from IPython.display import HTML\n",
    "\n",
    "HTML('''<script>\n",
    "code_show=true; \n",
    "function code_toggle() {\n",
    " if (code_show){\n",
    " $('div.input').hide();\n",
    " } else {\n",
    " $('div.input').show();\n",
    " }\n",
    " code_show = !code_show\n",
    "} \n",
    "$( document ).ready(code_toggle);\n",
    "</script>\n",
    "<form action=\"javascript:code_toggle()\"><input type=\"submit\" value=\"Click here to toggle on/off the raw code.\"></form>''')"
   ]
  },
  {
   "cell_type": "code",
   "execution_count": 2,
   "metadata": {},
   "outputs": [
    {
     "name": "stdout",
     "output_type": "stream",
     "text": [
      "Once deleted, variables cannot be recovered. Proceed (y/[n])? y\n"
     ]
    }
   ],
   "source": [
    "#import all the things\n",
    "\n",
    "%reset\n",
    "import phys_map as pm\n",
    "import DAY_DIC_map as DDm\n",
    "import netCDF4 as nc\n",
    "import matplotlib.pyplot as plt\n",
    "import datetime\n",
    "import os\n",
    "import numpy as np\n",
    "import cmocean as cm\n",
    "from salishsea_tools import visualisations as vis\n",
    "from salishsea_tools import (teos_tools, tidetools, viz_tools, geo_tools)\n",
    "import xarray as xr \n",
    "import subprocess \n",
    "import cmocean\n",
    "from matplotlib import reload\n",
    "import glob\n",
    "from scipy.io import loadmat\n",
    "import netCDF4 as nc\n",
    "\"NOT TESTED\"\n",
    "import netCDF4 as nc\n",
    "import matplotlib.pyplot as plt\n",
    "import datetime\n",
    "import os\n",
    "import numpy as np\n",
    "import cmocean as cm\n",
    "from salishsea_tools import visualisations as vis\n",
    "from salishsea_tools import (teos_tools, tidetools, viz_tools)\n",
    "import cmocean\n",
    "import glob\n",
    "\n",
    "%matplotlib inline"
   ]
  },
  {
   "cell_type": "code",
   "execution_count": 3,
   "metadata": {},
   "outputs": [
    {
     "name": "stderr",
     "output_type": "stream",
     "text": [
      "/home/tjarniko/anaconda3/lib/python3.6/site-packages/matplotlib/__init__.py:1401: UserWarning:  This call to matplotlib.use() has no effect\n",
      "because the backend has already been chosen;\n",
      "matplotlib.use() must be called *before* pylab, matplotlib.pyplot,\n",
      "or matplotlib.backends is imported for the first time.\n",
      "\n",
      "  warnings.warn(_use_error_msg)\n"
     ]
    },
    {
     "data": {
      "text/plain": [
       "<module 'DAY_DIC_map' from '/data/tjarniko/MEOPAR/at3/notebooks/carbon_dev/APRIL_EXP/DAY_DIC_map.py'>"
      ]
     },
     "execution_count": 3,
     "metadata": {},
     "output_type": "execute_result"
    }
   ],
   "source": [
    "reload(DDm)"
   ]
  },
  {
   "cell_type": "markdown",
   "metadata": {},
   "source": [
    "\n",
    "## Figure E\n",
    "\n",
    "the physical circulation of IDC - we need to show the signal of a discrete watermass, ideally from several angles, to succinctly convince the reader that this circulation happens\n",
    "\n",
    "    DIC speed at a cross  section at station 42, with a bar through the cross section pointing out where station 42 is.\n",
    "\n",
    "##### Stn 42 coords\n",
    "        \n",
    "          49.03, -123.49"
   ]
  },
  {
   "cell_type": "code",
   "execution_count": null,
   "metadata": {
    "collapsed": true
   },
   "outputs": [],
   "source": []
  },
  {
   "cell_type": "code",
   "execution_count": null,
   "metadata": {
    "collapsed": true
   },
   "outputs": [],
   "source": []
  },
  {
   "cell_type": "code",
   "execution_count": null,
   "metadata": {
    "collapsed": true
   },
   "outputs": [],
   "source": []
  },
  {
   "cell_type": "code",
   "execution_count": null,
   "metadata": {},
   "outputs": [],
   "source": []
  },
  {
   "cell_type": "code",
   "execution_count": 6,
   "metadata": {},
   "outputs": [
    {
     "name": "stdout",
     "output_type": "stream",
     "text": [
      "index\n",
      "0\n",
      "/data/tjarniko/results/may10_a1/\n",
      "number of frames\n",
      "(15,)\n"
     ]
    },
    {
     "ename": "KeyError",
     "evalue": "'dissolved_inorganic_carbon'",
     "output_type": "error",
     "traceback": [
      "\u001b[0;31m---------------------------------------------------------------------------\u001b[0m",
      "\u001b[0;31mKeyError\u001b[0m                                  Traceback (most recent call last)",
      "\u001b[0;32m<ipython-input-6-b68f3e2a748f>\u001b[0m in \u001b[0;36m<module>\u001b[0;34m()\u001b[0m\n\u001b[1;32m      3\u001b[0m \u001b[0mdirstr\u001b[0m \u001b[0;34m=\u001b[0m \u001b[0;34m'./'\u001b[0m\u001b[0;34m\u001b[0m\u001b[0m\n\u001b[1;32m      4\u001b[0m \u001b[0mfigtit\u001b[0m \u001b[0;34m=\u001b[0m \u001b[0;34m'DIC_day_'\u001b[0m\u001b[0;34m\u001b[0m\u001b[0m\n\u001b[0;32m----> 5\u001b[0;31m \u001b[0mDDm\u001b[0m\u001b[0;34m.\u001b[0m\u001b[0mMRAP\u001b[0m\u001b[0;34m(\u001b[0m\u001b[0mresdir\u001b[0m\u001b[0;34m,\u001b[0m\u001b[0mdirstr\u001b[0m\u001b[0;34m,\u001b[0m\u001b[0mfigtit\u001b[0m\u001b[0;34m,\u001b[0m\u001b[0msegment\u001b[0m\u001b[0;34m)\u001b[0m\u001b[0;34m\u001b[0m\u001b[0m\n\u001b[0m",
      "\u001b[0;32m/data/tjarniko/MEOPAR/at3/notebooks/carbon_dev/APRIL_EXP/DAY_DIC_map.py\u001b[0m in \u001b[0;36mMRAP\u001b[0;34m(resdir, dirstr, figtit, segment)\u001b[0m\n\u001b[1;32m    157\u001b[0m     \u001b[0mprint\u001b[0m\u001b[0;34m(\u001b[0m\u001b[0mtimesteps\u001b[0m\u001b[0;34m.\u001b[0m\u001b[0mshape\u001b[0m\u001b[0;34m)\u001b[0m\u001b[0;34m\u001b[0m\u001b[0m\n\u001b[1;32m    158\u001b[0m \u001b[0;34m\u001b[0m\u001b[0m\n\u001b[0;32m--> 159\u001b[0;31m     \u001b[0mdic\u001b[0m \u001b[0;34m=\u001b[0m \u001b[0mptrac\u001b[0m\u001b[0;34m.\u001b[0m\u001b[0mvariables\u001b[0m\u001b[0;34m[\u001b[0m\u001b[0;34m'dissolved_inorganic_carbon'\u001b[0m\u001b[0;34m]\u001b[0m\u001b[0;34m\u001b[0m\u001b[0m\n\u001b[0m\u001b[1;32m    160\u001b[0m     \u001b[0mw\u001b[0m \u001b[0;34m=\u001b[0m \u001b[0;34m(\u001b[0m\u001b[0mtimesteps\u001b[0m\u001b[0;34m.\u001b[0m\u001b[0mshape\u001b[0m\u001b[0;34m)\u001b[0m\u001b[0;34m\u001b[0m\u001b[0m\n\u001b[1;32m    161\u001b[0m \u001b[0;34m\u001b[0m\u001b[0m\n",
      "\u001b[0;31mKeyError\u001b[0m: 'dissolved_inorganic_carbon'"
     ]
    }
   ],
   "source": [
    "segment = 1\n",
    "resdir = 'may10_a1/'\n",
    "dirstr = './'\n",
    "figtit = 'DIC_day_'\n",
    "DDm.MRAP(resdir,dirstr,figtit,segment)"
   ]
  },
  {
   "cell_type": "code",
   "execution_count": null,
   "metadata": {
    "collapsed": true
   },
   "outputs": [],
   "source": [
    "# resdir = '/data/tjarniko/results/may10_a1'\n",
    "# subprocess.call('ncks -v vozocrtx SKOG_1h_20160101_20160115_grid_U.nc u_1h.nc', shell=True,cwd=resdir)\n",
    "# print('u')\n",
    "# subprocess.call('ncks -v time_counter SKOG_1h_20160101_20160115_grid_U.nc timecount_1h.nc', shell=True,cwd=resdir)\n",
    "# print('t')\n",
    "# subprocess.call('ncks -v vomecrty SKOG_1h_20160101_20160115_grid_V.nc v_1h.nc', shell=True,cwd=resdir)\n",
    "# print('v')\n",
    "\n",
    "# print('a2')\n",
    "\n",
    "# resdir = '/data/tjarniko/results/may10_a2'\n",
    "\n",
    "# subprocess.call('ncks -v vozocrtx SKOG_1h_20160116_20160130_grid_U.nc u_1h.nc', shell=True,cwd=resdir)\n",
    "# print('u')\n",
    "# subprocess.call('ncks -v time_counter SKOG_1h_20160116_20160130_grid_U.nc timecount_1h.nc', shell=True,cwd=resdir)\n",
    "# print('t')\n",
    "# subprocess.call('ncks -v vomecrty SKOG_1h_20160116_20160130_grid_V.nc v_1h.nc', shell=True,cwd=resdir)\n",
    "# print('v')\n",
    "\n",
    "# resdir = '/data/tjarniko/results/may10_a3'\n",
    "# subprocess.call('ncks -v vozocrtx SKOG_1h_20160131_20160214_grid_U.nc u_1h.nc', shell=True,cwd=resdir)\n",
    "# print('u')\n",
    "# subprocess.call('ncks -v time_counter SKOG_1h_20160131_20160214_grid_U.nc timecount_1h.nc', shell=True,cwd=resdir)\n",
    "# print('t')\n",
    "# subprocess.call('ncks -v vomecrty SKOG_1h_20160131_20160214_grid_V.nc v_1h.nc', shell=True,cwd=resdir)\n",
    "# print('v')\n",
    "\n",
    "# print('a3')\n",
    "\n",
    "# resdir = '/data/tjarniko/results/may10_a4'\n",
    "# subprocess.call('ncks -v vozocrtx SKOG_1h_20160214_20160229_grid_U.nc u_1h.nc', shell=True,cwd=resdir)\n",
    "# print('u')\n",
    "# subprocess.call('ncks -v time_counter SKOG_1h_20160214_20160229_grid_U.nc timecount_1h.nc', shell=True,cwd=resdir)\n",
    "# print('t')\n",
    "# subprocess.call('ncks -v vomecrty SKOG_1h_20160214_20160229_grid_V.nc v_1h.nc', shell=True,cwd=resdir)\n",
    "# print('v')\n",
    "\n",
    "# print('a4')\n",
    "\n",
    "\n",
    "\n",
    "# print('a5')"
   ]
  },
  {
   "cell_type": "code",
   "execution_count": null,
   "metadata": {
    "collapsed": true
   },
   "outputs": [],
   "source": [
    "resdir = '/data/tjarniko/results/may10_a6'\n",
    "subprocess.call('ncks -v vozocrtx SKOG_1h_20160316_20160330_grid_U.nc u_1h.nc', shell=True,cwd=resdir)\n",
    "print('u')\n",
    "subprocess.call('ncks -v time_counter SKOG_1h_20160316_20160330_grid_U.nc timecount_1h.nc', shell=True,cwd=resdir)\n",
    "print('t')\n",
    "subprocess.call('ncks -v vomecrty SKOG_1h_20160316_20160330_grid_V.nc v_1h.nc', shell=True,cwd=resdir)\n",
    "print('v')"
   ]
  }
 ],
 "metadata": {
  "kernelspec": {
   "display_name": "Python 3",
   "language": "python",
   "name": "python3"
  },
  "language_info": {
   "codemirror_mode": {
    "name": "ipython",
    "version": 3
   },
   "file_extension": ".py",
   "mimetype": "text/x-python",
   "name": "python",
   "nbconvert_exporter": "python",
   "pygments_lexer": "ipython3",
   "version": "3.6.0"
  }
 },
 "nbformat": 4,
 "nbformat_minor": 2
}
