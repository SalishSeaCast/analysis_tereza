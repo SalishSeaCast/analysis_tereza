{
 "cells": [
  {
   "cell_type": "code",
   "execution_count": 1,
   "metadata": {},
   "outputs": [
    {
     "data": {
      "text/html": [
       "<script>\n",
       "code_show=true; \n",
       "function code_toggle() {\n",
       " if (code_show){\n",
       " $('div.input').hide();\n",
       " } else {\n",
       " $('div.input').show();\n",
       " }\n",
       " code_show = !code_show\n",
       "} \n",
       "$( document ).ready(code_toggle);\n",
       "</script>\n",
       "<form action=\"javascript:code_toggle()\"><input type=\"submit\" value=\"Click here to toggle on/off the raw code.\"></form>"
      ],
      "text/plain": [
       "<IPython.core.display.HTML object>"
      ]
     },
     "execution_count": 1,
     "metadata": {},
     "output_type": "execute_result"
    }
   ],
   "source": [
    "from IPython.display import HTML\n",
    "\n",
    "HTML('''<script>\n",
    "code_show=true; \n",
    "function code_toggle() {\n",
    " if (code_show){\n",
    " $('div.input').hide();\n",
    " } else {\n",
    " $('div.input').show();\n",
    " }\n",
    " code_show = !code_show\n",
    "} \n",
    "$( document ).ready(code_toggle);\n",
    "</script>\n",
    "<form action=\"javascript:code_toggle()\"><input type=\"submit\" value=\"Click here to toggle on/off the raw code.\"></form>''')"
   ]
  },
  {
   "cell_type": "code",
   "execution_count": 2,
   "metadata": {},
   "outputs": [
    {
     "name": "stdout",
     "output_type": "stream",
     "text": [
      "Once deleted, variables cannot be recovered. Proceed (y/[n])? y\n"
     ]
    },
    {
     "name": "stderr",
     "output_type": "stream",
     "text": [
      "/home/tjarniko/anaconda3/lib/python3.6/site-packages/matplotlib/__init__.py:1401: UserWarning:  This call to matplotlib.use() has no effect\n",
      "because the backend has already been chosen;\n",
      "matplotlib.use() must be called *before* pylab, matplotlib.pyplot,\n",
      "or matplotlib.backends is imported for the first time.\n",
      "\n",
      "  warnings.warn(_use_error_msg)\n"
     ]
    }
   ],
   "source": [
    "#import all the things\n",
    "\n",
    "%reset\n",
    "\n",
    "import netCDF4 as nc\n",
    "import matplotlib.pyplot as plt\n",
    "import datetime\n",
    "import os\n",
    "import numpy as np\n",
    "import cmocean as cm\n",
    "from salishsea_tools import visualisations as vis\n",
    "from salishsea_tools import (teos_tools, tidetools, viz_tools, geo_tools)\n",
    "import xarray as xr \n",
    "import subprocess \n",
    "import cmocean\n",
    "from matplotlib import reload\n",
    "import glob\n",
    "from scipy.io import loadmat\n",
    "import netCDF4 as nc\n",
    "import depth_prof as dp\n",
    "import phys_map as pm\n",
    "import DAY_depth_prof as Ddp\n",
    "\n",
    "%matplotlib inline"
   ]
  },
  {
   "cell_type": "code",
   "execution_count": 3,
   "metadata": {},
   "outputs": [
    {
     "name": "stderr",
     "output_type": "stream",
     "text": [
      "/home/tjarniko/anaconda3/lib/python3.6/site-packages/matplotlib/__init__.py:1401: UserWarning:  This call to matplotlib.use() has no effect\n",
      "because the backend has already been chosen;\n",
      "matplotlib.use() must be called *before* pylab, matplotlib.pyplot,\n",
      "or matplotlib.backends is imported for the first time.\n",
      "\n",
      "  warnings.warn(_use_error_msg)\n"
     ]
    },
    {
     "data": {
      "text/plain": [
       "<module 'DAY_depth_prof' from '/data/tjarniko/MEOPAR/at3/notebooks/carbon_dev/APRIL_EXP/DAY_depth_prof.py'>"
      ]
     },
     "execution_count": 3,
     "metadata": {},
     "output_type": "execute_result"
    }
   ],
   "source": [
    "reload(pm)\n",
    "reload(Ddp)"
   ]
  },
  {
   "cell_type": "markdown",
   "metadata": {},
   "source": [
    "\n",
    "## Figure D\n",
    "\n",
    "depth profiles to compare with D.Ianson, April 2016:\n",
    "\n",
    "<img src=\"./APRIL_PROFILES/fig_prof3_april-1.png\" alt=\"Drawing\" style=\"width: 700px;\">\n",
    "\n",
    "\n",
    "\n",
    "    Stn 42, real-life lon, lat:\n",
    "    -123.49\n",
    "    49.03\n",
    "    Closest model point lon, lat:\n",
    "    -123.49\n",
    "    49.0287\n",
    "    Distance between them\n",
    "    0.139418937287"
   ]
  },
  {
   "cell_type": "code",
   "execution_count": 4,
   "metadata": {
    "collapsed": true
   },
   "outputs": [],
   "source": [
    "\n",
    "\n",
    "# # 426\n",
    "# # 255\n",
    "\n",
    "\n",
    "# thistime = nc.Dataset('/data/tjarniko/results/may10_a1/timecount_1h.nc')\n",
    "# us = nc.Dataset('/data/tjarniko/results/may10_a1/u_1h.nc')\n",
    "# vs = nc.Dataset('/data/tjarniko/results/may10_a1/v_1h.nc')\n",
    "# depthus = nc.Dataset('/data/tjarniko/results/may10_a1/zlevels_1h.nc')\n",
    "# DIC =  nc.Dataset('/data/tjarniko/results/may10_a1/DIC_1h.nc')\n",
    "# OXY =  nc.Dataset('/data/tjarniko/results/may10_a1/OXY_1h.nc')\n",
    "# sn =  nc.Dataset('/data/tjarniko/results/may10_a1/sn_1h.nc')\n",
    "\n",
    "# ugrid = us.variables['vozocrtx']\n",
    "# vgrid = vs.variables['vomecrty']\n",
    "# zlevels = depthus.variables['depthu']\n",
    "# timesteps = thistime.variables['time_counter']\n"
   ]
  },
  {
   "cell_type": "code",
   "execution_count": 5,
   "metadata": {
    "collapsed": true
   },
   "outputs": [],
   "source": [
    "# t_y = 426\n",
    "# t_x = 255\n",
    "# dend = 33\n",
    "# sal_prof = sn.variables['vosaline'][0,:,t_y,t_x]\n",
    "# DIC_prof = DIC.variables['dissolved_inorganic_carbon'][0,:,t_y,t_x]\n",
    "# OXY_prof = OXY.variables['dissolved_oxygen'][0,:,t_y,t_x]\n",
    "# print(sal_prof.shape)\n",
    "# depth = sn.variables['deptht'][:]\n",
    "# print(depth.shape)\n",
    "# print(sal_prof[0:33])"
   ]
  },
  {
   "cell_type": "code",
   "execution_count": null,
   "metadata": {
    "collapsed": true
   },
   "outputs": [],
   "source": []
  },
  {
   "cell_type": "code",
   "execution_count": null,
   "metadata": {
    "collapsed": true
   },
   "outputs": [],
   "source": []
  },
  {
   "cell_type": "code",
   "execution_count": 6,
   "metadata": {
    "collapsed": true
   },
   "outputs": [],
   "source": [
    "# t = 0\n",
    "# indexer = 0 \n",
    "\n",
    "\n",
    "\n",
    "\n",
    "\n",
    "# DIC, OXY, sn, thistime, timesteps = dp.dat_retrieve(resdir)\n",
    "\n",
    "\n",
    "\n",
    "# dp.dicoxysal_prof(t,DIC,OXY,sn,dirstr,figtit,indexer)\n"
   ]
  },
  {
   "cell_type": "code",
   "execution_count": 7,
   "metadata": {},
   "outputs": [],
   "source": [
    "# dirstr = 'APR_dp_day/'\n",
    "# figtit = 'DP_day_'\n",
    "# resdir = 'may10_a1/'\n",
    "# segment = 1\n",
    "# Ddp.MRAP_day(resdir,dirstr,figtit,segment)\n",
    "# dirstr = 'APR_dp_day/'\n",
    "# figtit = 'DP_day_'\n",
    "# resdir = 'may10_a2/'\n",
    "# segment = 2\n",
    "# Ddp.MRAP_day(resdir,dirstr,figtit,segment)\n",
    "\n",
    "# dirstr = 'APR_dp_day/'\n",
    "# figtit = 'DP_day_'\n",
    "# resdir = 'may10_a3/'\n",
    "# segment = 3\n",
    "# Ddp.MRAP_day(resdir,dirstr,figtit,segment)\n",
    "# dirstr = 'APR_dp_day/'\n",
    "# figtit = 'DP_day_'\n",
    "# resdir = 'may10_a4/'\n",
    "# segment = 4\n",
    "# Ddp.MRAP_day(resdir,dirstr,figtit,segment)\n",
    "\n",
    "# dirstr = 'APR_dp_day/'\n",
    "# figtit = 'DP_day_'\n",
    "# resdir = 'may10_a5/'\n",
    "# segment = 5\n",
    "# Ddp.MRAP_day(resdir,dirstr,figtit,segment)\n",
    "\n",
    "\n",
    "# dirstr = 'APR_dp_day/'\n",
    "# figtit = 'DP_day_'\n",
    "# resdir = 'may10_a6/'\n",
    "# segment = 6\n",
    "# Ddp.MRAP_day(resdir,dirstr,figtit,segment)\n",
    "# dirstr = 'APR_dp_day/'\n",
    "# figtit = 'DP_day_'\n",
    "# resdir = 'may10_a7/'\n",
    "# segment = 7\n",
    "# Ddp.MRAP_day(resdir,dirstr,figtit,segment)"
   ]
  },
  {
   "cell_type": "code",
   "execution_count": 8,
   "metadata": {
    "collapsed": true
   },
   "outputs": [],
   "source": [
    "w = glob.glob('//data/tjarniko/results/may10_a1/SKOG_1d*ptrc_T.nc')\n",
    "w2 = glob.glob('/data/tjarniko/results/may10_a1/SKOG_1d*grid_T.nc')\n",
    "trac =  nc.Dataset(w[0])\n",
    "ptrac =  nc.Dataset(w2[0])       "
   ]
  },
  {
   "cell_type": "code",
   "execution_count": 9,
   "metadata": {},
   "outputs": [
    {
     "name": "stdout",
     "output_type": "stream",
     "text": [
      "[ 26.05116653  26.09928513  26.55041695  27.05275154  27.41138268\n",
      "  27.69628716  27.92741585  28.14949799  28.32285118  28.48845673\n",
      "  28.62202644  28.7519207   28.8609581   28.9621563   29.01966286\n",
      "  29.07490921  29.10639572  29.16320229  29.21694374  29.27675629\n",
      "  29.38297653  29.55419731  29.73553658  29.95015335  30.24300194\n",
      "  30.44340706  30.61943054  30.74725151  30.91618538  31.01185989\n",
      "  31.15606689  31.24231529  31.30121422   0.           0.           0.           0.\n",
      "   0.           0.           0.        ]\n",
      "[ 28.28844261  28.28882599  28.28970718  28.29191971  28.3031559\n",
      "  28.32834625  28.35396576  28.39166069  28.43122101  28.45911407\n",
      "  28.48166656  28.50329208  28.53453255  28.57418633  28.61923027\n",
      "  28.67429161  28.73722839  28.80683517  28.89512444  29.00788307\n",
      "  29.18809128  29.43235779  29.72990036  30.09638977  30.2763958\n",
      "  30.38652802  30.52174187  30.74491882  30.89579773  31.05563927\n",
      "  31.1327877   31.19189835  31.22872734   0.           0.           0.           0.\n",
      "   0.           0.           0.        ]\n"
     ]
    }
   ],
   "source": [
    "t = 0\n",
    "t_y = 426\n",
    "t_x = 255\n",
    "\n",
    "\n",
    "sal_prof = ptrac.variables['vosaline'][t,:,t_y,t_x]\n",
    "print(sal_prof)\n",
    "t = 14\n",
    "\n",
    "\n",
    "sal_prof = ptrac.variables['vosaline'][t,:,t_y,t_x]\n",
    "print(sal_prof)"
   ]
  },
  {
   "cell_type": "code",
   "execution_count": 10,
   "metadata": {},
   "outputs": [
    {
     "name": "stdout",
     "output_type": "stream",
     "text": [
      "index\n",
      "105\n",
      "/data/tjarniko/results/may10_a8/\n",
      "number of frames\n",
      "(15,)\n",
      "no look I pass it the right effing t\n",
      "0\n",
      "t is\n",
      "0\n",
      "April 15, 2016, (105 days since January 1, 2016)\n",
      "no look I pass it the right effing t\n",
      "1\n",
      "t is\n",
      "1\n",
      "April 16, 2016, (106 days since January 1, 2016)\n",
      "no look I pass it the right effing t\n",
      "2\n",
      "t is\n",
      "2\n",
      "April 17, 2016, (107 days since January 1, 2016)\n",
      "no look I pass it the right effing t\n",
      "3\n",
      "t is\n",
      "3\n",
      "April 18, 2016, (108 days since January 1, 2016)\n",
      "no look I pass it the right effing t\n",
      "4\n",
      "t is\n",
      "4\n",
      "April 19, 2016, (109 days since January 1, 2016)\n",
      "no look I pass it the right effing t\n",
      "5\n",
      "t is\n",
      "5\n",
      "April 20, 2016, (110 days since January 1, 2016)\n",
      "no look I pass it the right effing t\n",
      "6\n",
      "t is\n",
      "6\n",
      "April 21, 2016, (111 days since January 1, 2016)\n",
      "no look I pass it the right effing t\n",
      "7\n",
      "t is\n",
      "7\n",
      "April 22, 2016, (112 days since January 1, 2016)\n",
      "no look I pass it the right effing t\n",
      "8\n",
      "t is\n",
      "8\n",
      "April 23, 2016, (113 days since January 1, 2016)\n",
      "no look I pass it the right effing t\n",
      "9\n",
      "t is\n",
      "9\n",
      "April 24, 2016, (114 days since January 1, 2016)\n",
      "no look I pass it the right effing t\n",
      "10\n",
      "t is\n",
      "10\n",
      "April 25, 2016, (115 days since January 1, 2016)\n",
      "no look I pass it the right effing t\n",
      "11\n",
      "t is\n",
      "11\n",
      "April 26, 2016, (116 days since January 1, 2016)\n",
      "no look I pass it the right effing t\n",
      "12\n",
      "t is\n",
      "12\n",
      "April 27, 2016, (117 days since January 1, 2016)\n",
      "no look I pass it the right effing t\n",
      "13\n",
      "t is\n",
      "13\n",
      "April 28, 2016, (118 days since January 1, 2016)\n",
      "no look I pass it the right effing t\n",
      "14\n",
      "t is\n",
      "14\n",
      "April 29, 2016, (119 days since January 1, 2016)\n"
     ]
    }
   ],
   "source": [
    "dirstr = 'APR_dp_day/'\n",
    "figtit = 'DP_day_'\n",
    "resdir = 'may10_a8/'\n",
    "segment = 8\n",
    "Ddp.MRAP_day(resdir,dirstr,figtit,segment)"
   ]
  }
 ],
 "metadata": {
  "kernelspec": {
   "display_name": "Python 3",
   "language": "python",
   "name": "python3"
  },
  "language_info": {
   "codemirror_mode": {
    "name": "ipython",
    "version": 3
   },
   "file_extension": ".py",
   "mimetype": "text/x-python",
   "name": "python",
   "nbconvert_exporter": "python",
   "pygments_lexer": "ipython3",
   "version": "3.6.0"
  }
 },
 "nbformat": 4,
 "nbformat_minor": 2
}
