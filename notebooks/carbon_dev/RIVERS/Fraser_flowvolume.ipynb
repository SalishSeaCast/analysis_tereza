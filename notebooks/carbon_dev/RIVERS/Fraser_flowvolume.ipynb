{
 "cells": [
  {
   "cell_type": "code",
   "execution_count": 1,
   "metadata": {},
   "outputs": [
    {
     "name": "stdout",
     "output_type": "stream",
     "text": [
      "Once deleted, variables cannot be recovered. Proceed (y/[n])? y\n"
     ]
    }
   ],
   "source": [
    "%reset"
   ]
  },
  {
   "cell_type": "code",
   "execution_count": 5,
   "metadata": {},
   "outputs": [],
   "source": [
    "import sys\n",
    "#sys.path.append('/data/tjarniko/MEOPAR/mocsy')\n",
    "sys.path.append('/data/tjarniko/mocsy')\n",
    "sys.path.append('/data/tjarniko/MEOPAR/at3/notebooks/carbon_dev/VIZ')\n",
    "sys.path.append('/data/tjarniko/MEOPAR/tools/SalishSeaTools/salishsea_tools/')\n",
    "import mocsy\n",
    "import river_201702 as rv\n",
    "import VIZ_plots as VP\n",
    "\n",
    "import time\n",
    "import numpy as np\n",
    "import matplotlib.pyplot as plt\n",
    "import matplotlib.patches as patches\n",
    "\n",
    "import seawater as sw\n",
    "\n",
    "#from numpy import *\n",
    "#from scipy import *\n",
    "import matplotlib.pyplot as plt\n",
    "#from matplotlib import reload\n",
    "plt.style.use('seaborn-bright')\n",
    "import netCDF4 as nc\n",
    "import numpy as np\n",
    "import cmocean as cm\n",
    "\n",
    "\"\"\n",
    "from salishsea_tools import (\n",
    "    nc_tools,\n",
    "    viz_tools,\n",
    "    geo_tools,\n",
    "    tidetools\n",
    ")\n",
    "\n",
    "%matplotlib inline"
   ]
  },
  {
   "cell_type": "markdown",
   "metadata": {},
   "source": [
    "## Rivers we have data for and their watersheds"
   ]
  },
  {
   "cell_type": "code",
   "execution_count": 6,
   "metadata": {},
   "outputs": [],
   "source": [
    "\n",
    "watersheds = rv.prop_dict.keys()\n",
    "riv_i = []\n",
    "riv_j = []\n",
    "riv_shed = []\n",
    "riv_name = []\n",
    "i = 0\n",
    "for watshed in watersheds:\n",
    "    #print('~~')\n",
    "    rivs = rv.prop_dict[watshed].keys()\n",
    "    for riv in rivs:\n",
    "        ti = rv.prop_dict[watshed][riv]['j']\n",
    "        tj = rv.prop_dict[watshed][riv]['i']\n",
    "        riv_i.append(ti)\n",
    "        riv_j.append(tj)\n",
    "        riv_shed.append(watshed)\n",
    "        riv_name.append(riv)\n",
    "        i = i+1\n",
    "\n",
    "\n",
    "gauge_riv = ['Squamish','SanJuan','Elwha','DungenessMatriotti','Hoko','LittleBigQuilcene',\\\n",
    "            'Duckabush','Skokomish','DeerJohnsGoldboroughMill','Deschutes','Chambers',\\\n",
    "            'Chambers','NisquallyMcAllister','Puyallup','CedarSammamish','Skagit1',\\\n",
    "            'Samish','Stillaguamish1','SnohomishAllenQuilceda','Tulalip','Mission',\\\n",
    "            'Nooksack','Fraser','Oyster','Qunisam','SalmonSayward','Theodosia',\n",
    "             'Homathko','Cowichan1','Chemanius1','Nanaimo1','Englishman',\n",
    "             'LittleQualicum','Puntledge']\n",
    "\n",
    "cols = ['darkgray','red','powderblue','tan','orange',\\\n",
    "    'navy','palegreen','mediumaquamarine','dodgerblue','violet']\n",
    "watersheds = ['howe', 'jdf', 'puget', 'skagit', 'fraser', 'evi_n', 'jervis', 'toba', 'bute', 'evi_s']"
   ]
  },
  {
   "cell_type": "code",
   "execution_count": 7,
   "metadata": {},
   "outputs": [],
   "source": [
    "#'/results/forcing/rivers/R201702DFraCElse_\n",
    "\n",
    "\n",
    "ro_2015 = np.zeros([365,898,398])\n",
    "import arrow\n",
    "start = '2015-01-01'\n",
    "end = '2015-12-31'\n",
    "\n",
    "start_run = arrow.get(start)\n",
    "end_run = arrow.get(end)\n",
    "arrow_array = []\n",
    "nc_ar = []\n",
    "for r in arrow.Arrow.span_range('day', start_run, end_run):\n",
    "    arrow_array.append(r)\n",
    "    \n",
    "for i in range(0,len(arrow_array)):\n",
    "    tdate = arrow_array[i][0]\n",
    "    yy = tdate.format('YYYY')\n",
    "    mm = tdate.format('MM')\n",
    "    dd = tdate.format('DD')\n",
    "    tstr = f\"/results/forcing/rivers/R201702DFraCElse_y{yy}m{mm}d{dd}.nc\"\n",
    "    nc_ar.append(tstr)\n",
    "\n",
    "for i in range(0,365):\n",
    "#     if i%20 ==0:\n",
    "#         print(i)\n",
    "    t_nc = nc.Dataset(nc_ar[i])\n",
    "    ro = (np.squeeze(t_nc['rorunoff'][:,:,:]))\n",
    "    ro_2015[i,:,:] = ro"
   ]
  },
  {
   "cell_type": "code",
   "execution_count": null,
   "metadata": {},
   "outputs": [],
   "source": []
  },
  {
   "cell_type": "code",
   "execution_count": 8,
   "metadata": {},
   "outputs": [
    {
     "ename": "FileNotFoundError",
     "evalue": "[Errno 2] No such file or directory: b'/results/SalishSea/hindcast.201812/09may15/SalishSea_1d_20150509_20150509_grid_T.nc'",
     "output_type": "error",
     "traceback": [
      "\u001b[0;31m---------------------------------------\u001b[0m",
      "\u001b[0;31mFileNotFoundError\u001b[0mTraceback (most recent call last)",
      "\u001b[0;32m<ipython-input-8-85709c120c40>\u001b[0m in \u001b[0;36m<module>\u001b[0;34m\u001b[0m\n\u001b[0;32m----> 1\u001b[0;31m \u001b[0mtnc\u001b[0m \u001b[0;34m=\u001b[0m \u001b[0mnc\u001b[0m\u001b[0;34m.\u001b[0m\u001b[0mDataset\u001b[0m\u001b[0;34m(\u001b[0m\u001b[0;34m'/results/SalishSea/hindcast.201812/09may15/SalishSea_1d_20150509_20150509_grid_T.nc'\u001b[0m\u001b[0;34m)\u001b[0m\u001b[0;34m\u001b[0m\u001b[0;34m\u001b[0m\u001b[0m\n\u001b[0m\u001b[1;32m      2\u001b[0m \u001b[0mprint\u001b[0m\u001b[0;34m(\u001b[0m\u001b[0mtnc\u001b[0m\u001b[0;34m)\u001b[0m\u001b[0;34m\u001b[0m\u001b[0;34m\u001b[0m\u001b[0m\n",
      "\u001b[0;32mnetCDF4/_netCDF4.pyx\u001b[0m in \u001b[0;36mnetCDF4._netCDF4.Dataset.__init__\u001b[0;34m()\u001b[0m\n",
      "\u001b[0;32mnetCDF4/_netCDF4.pyx\u001b[0m in \u001b[0;36mnetCDF4._netCDF4._ensure_nc_success\u001b[0;34m()\u001b[0m\n",
      "\u001b[0;31mFileNotFoundError\u001b[0m: [Errno 2] No such file or directory: b'/results/SalishSea/hindcast.201812/09may15/SalishSea_1d_20150509_20150509_grid_T.nc'"
     ]
    }
   ],
   "source": [
    "# tnc = nc.Dataset('/results/SalishSea/hindcast.201812/09may15/SalishSea_1d_20150509_20150509_grid_T.nc')\n",
    "# print(tnc)"
   ]
  },
  {
   "cell_type": "code",
   "execution_count": 9,
   "metadata": {},
   "outputs": [
    {
     "name": "stdout",
     "output_type": "stream",
     "text": [
      "435.3644908755905\n"
     ]
    }
   ],
   "source": [
    "tnc = nc.Dataset('/data/tjarniko/results/SAMPL/SalishSea_1ts_20141121_20141121_grid_T_20141121-20141121.nc')\n",
    "tnc2 = nc.Dataset('/data/tjarniko/MEOPAR/grid/mesh_mask201702.nc')\n",
    "e1t = tnc2.variables['e1t']\n",
    "e2t = tnc2.variables['e2t']\n",
    "print(e1t[0,500,20])\n"
   ]
  },
  {
   "cell_type": "code",
   "execution_count": 10,
   "metadata": {},
   "outputs": [
    {
     "data": {
      "text/plain": [
       "Text(0.5, 1.0, 'Fraser river discharge, year 2015')"
      ]
     },
     "execution_count": 10,
     "metadata": {},
     "output_type": "execute_result"
    },
    {
     "data": {
      "image/png": "[encoded data removed]",
      "text/plain": [
       "<Figure size 432x288 with 1 Axes>"
      ]
     },
     "metadata": {
      "needs_background": "light"
     },
     "output_type": "display_data"
    }
   ],
   "source": [
    "# #  Hi Tereza,\n",
    "# #  I'm not the least surprised that you are confused.  Rivers are treated like rain, added from above.  So kg of water/m2 /s where the m2 is horizontal area.  This we will call nf (nemo flux)\n",
    "\n",
    "# # So for m3/s first we convert from mass to volume\n",
    "\n",
    "# # nf / rho (fresh water so 1000 kg/m3)  so now we have m/s\n",
    "\n",
    "# # Then multiply by the area of the grid cell\n",
    "\n",
    "# # nf  / rho * e1t(i,j) *e2t(i,j)\n",
    "ro_2015 = np.zeros([365,898,398])\n",
    "import arrow\n",
    "start = '2015-01-01'\n",
    "end = '2015-12-31'\n",
    "\n",
    "start_run = arrow.get(start)\n",
    "end_run = arrow.get(end)\n",
    "arrow_array = []\n",
    "nc_ar = []\n",
    "for r in arrow.Arrow.span_range('day', start_run, end_run):\n",
    "    arrow_array.append(r)\n",
    "    \n",
    "for i in range(0,len(arrow_array)):\n",
    "    tdate = arrow_array[i][0]\n",
    "    yy = tdate.format('YYYY')\n",
    "    mm = tdate.format('MM')\n",
    "    dd = tdate.format('DD')\n",
    "    tstr = f\"/results/forcing/rivers/R201702DFraCElse_y{yy}m{mm}d{dd}.nc\"\n",
    "    nc_ar.append(tstr)\n",
    "\n",
    "for i in range(0,365):\n",
    "#     if i%20 ==0:\n",
    "#         print(i)\n",
    "    t_nc = nc.Dataset(nc_ar[i])\n",
    "    ro = (np.squeeze(t_nc['rorunoff'][:,:,:]))\n",
    "    ro_2015[i,:,:] = ro\n",
    "\n",
    "\n",
    "watersheds = rv.prop_dict.keys()\n",
    "riv_i = []\n",
    "riv_j = []\n",
    "riv_shed = []\n",
    "riv_name = []\n",
    "i = 0\n",
    "for watshed in watersheds:\n",
    "    rivs = rv.prop_dict[watshed].keys()\n",
    "    for riv in rivs:\n",
    "        ti = rv.prop_dict[watshed][riv]['j']\n",
    "        tj = rv.prop_dict[watshed][riv]['i']\n",
    "        riv_i.append(ti)\n",
    "        riv_j.append(tj)\n",
    "        riv_shed.append(watshed)\n",
    "        riv_name.append(riv)\n",
    "        i = i+1\n",
    "        \n",
    "tnc = nc.Dataset('/data/tjarniko/results/SAMPL/SalishSea_1ts_20141121_20141121_grid_T_20141121-20141121.nc')\n",
    "tnc2 = nc.Dataset('/data/tjarniko/MEOPAR/grid/mesh_mask201702.nc')\n",
    "\n",
    "#93 is \n",
    "for r in range(93,94):\n",
    "    ti = riv_i[r]\n",
    "    tj = riv_j[r]\n",
    "    runoff = ro_2015[:,tj,ti]\n",
    "    t_area = (tnc.variables['area'][tj,ti])\n",
    "    year_runoff_use_area = (runoff / 1000) * t_area\n",
    "    e1t = tnc2.variables['e1t']\n",
    "    e2t = tnc2.variables['e2t']\n",
    "    \n",
    "    year_runoff_use_et = (runoff/ 1000) * e1t[0,tj,ti] *e2t[0,tj,ti]\n",
    "plt.plot(year_runoff_use_area, label = 'discharge using area')\n",
    "plt.plot(year_runoff_use_et, linestyle = ':', label = 'discharge using e1t e2t')\n",
    "plt.legend()\n",
    "plt.title('Fraser river discharge, year 2015')"
   ]
  },
  {
   "cell_type": "code",
   "execution_count": null,
   "metadata": {},
   "outputs": [],
   "source": []
  }
 ],
 "metadata": {
  "kernelspec": {
   "display_name": "Python 3",
   "language": "python",
   "name": "python3"
  },
  "language_info": {
   "codemirror_mode": {
    "name": "ipython",
    "version": 3
   },
   "file_extension": ".py",
   "mimetype": "text/x-python",
   "name": "python",
   "nbconvert_exporter": "python",
   "pygments_lexer": "ipython3",
   "version": "3.7.4"
  }
 },
 "nbformat": 4,
 "nbformat_minor": 2
}
