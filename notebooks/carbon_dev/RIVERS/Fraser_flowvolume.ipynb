{
 "cells": [
  {
   "cell_type": "code",
   "execution_count": 31,
   "metadata": {},
   "outputs": [
    {
     "name": "stdout",
     "output_type": "stream",
     "text": [
      "Once deleted, variables cannot be recovered. Proceed (y/[n])? y\n"
     ]
    }
   ],
   "source": [
    "%reset"
   ]
  },
  {
   "cell_type": "code",
   "execution_count": 32,
   "metadata": {
    "collapsed": true
   },
   "outputs": [],
   "source": [
    "import sys\n",
    "#sys.path.append('/data/tjarniko/MEOPAR/mocsy')\n",
    "sys.path.append('/data/tjarniko/mocsy')\n",
    "sys.path.append('/data/tjarniko/MEOPAR/at3/notebooks/carbon_dev/VIZ')\n",
    "sys.path.append('/data/tjarniko/MEOPAR/tools/SalishSeaTools/salishsea_tools/')\n",
    "import mocsy\n",
    "import river_201702 as rv\n",
    "import VIZ_plots as VP\n",
    "\n",
    "import time\n",
    "import numpy as np\n",
    "import matplotlib.pyplot as plt\n",
    "import matplotlib.patches as patches\n",
    "\n",
    "import seawater as sw\n",
    "from __future__ import print_function\n",
    "from numpy import *\n",
    "from scipy import *\n",
    "import matplotlib.pyplot as plt\n",
    "from matplotlib import reload\n",
    "plt.style.use('seaborn-bright')\n",
    "import netCDF4 as nc\n",
    "import numpy as np\n",
    "import cmocean as cm\n",
    "\n",
    "\"\"\n",
    "from salishsea_tools import (\n",
    "    nc_tools,\n",
    "    viz_tools,\n",
    "    geo_tools,\n",
    "    tidetools\n",
    ")\n",
    "\n",
    "%matplotlib inline"
   ]
  },
  {
   "cell_type": "markdown",
   "metadata": {},
   "source": [
    "## Rivers we have data for and their watersheds"
   ]
  },
  {
   "cell_type": "code",
   "execution_count": 33,
   "metadata": {
    "collapsed": true
   },
   "outputs": [],
   "source": [
    "\n",
    "watersheds = rv.prop_dict.keys()\n",
    "riv_i = []\n",
    "riv_j = []\n",
    "riv_shed = []\n",
    "riv_name = []\n",
    "i = 0\n",
    "for watshed in watersheds:\n",
    "    #print('~~')\n",
    "    rivs = rv.prop_dict[watshed].keys()\n",
    "    for riv in rivs:\n",
    "        ti = rv.prop_dict[watshed][riv]['j']\n",
    "        tj = rv.prop_dict[watshed][riv]['i']\n",
    "        riv_i.append(ti)\n",
    "        riv_j.append(tj)\n",
    "        riv_shed.append(watshed)\n",
    "        riv_name.append(riv)\n",
    "        i = i+1\n",
    "\n",
    "\n",
    "gauge_riv = ['Squamish','SanJuan','Elwha','DungenessMatriotti','Hoko','LittleBigQuilcene',\\\n",
    "            'Duckabush','Skokomish','DeerJohnsGoldboroughMill','Deschutes','Chambers',\\\n",
    "            'Chambers','NisquallyMcAllister','Puyallup','CedarSammamish','Skagit1',\\\n",
    "            'Samish','Stillaguamish1','SnohomishAllenQuilceda','Tulalip','Mission',\\\n",
    "            'Nooksack','Fraser','Oyster','Qunisam','SalmonSayward','Theodosia',\n",
    "             'Homathko','Cowichan1','Chemanius1','Nanaimo1','Englishman',\n",
    "             'LittleQualicum','Puntledge']\n",
    "\n",
    "cols = ['darkgray','red','powderblue','tan','orange',\\\n",
    "    'navy','palegreen','mediumaquamarine','dodgerblue','violet']\n",
    "watersheds = ['howe', 'jdf', 'puget', 'skagit', 'fraser', 'evi_n', 'jervis', 'toba', 'bute', 'evi_s']"
   ]
  },
  {
   "cell_type": "code",
   "execution_count": 34,
   "metadata": {},
   "outputs": [],
   "source": [
    "#'/results/forcing/rivers/R201702DFraCElse_\n",
    "\n",
    "\n",
    "ro_2015 = np.zeros([365,898,398])\n",
    "import arrow\n",
    "start = '2015-01-01'\n",
    "end = '2015-12-31'\n",
    "\n",
    "start_run = arrow.get(start)\n",
    "end_run = arrow.get(end)\n",
    "arrow_array = []\n",
    "nc_ar = []\n",
    "for r in arrow.Arrow.span_range('day', start_run, end_run):\n",
    "    arrow_array.append(r)\n",
    "    \n",
    "for i in range(0,len(arrow_array)):\n",
    "    tdate = arrow_array[i][0]\n",
    "    yy = tdate.format('YYYY')\n",
    "    mm = tdate.format('MM')\n",
    "    dd = tdate.format('DD')\n",
    "    tstr = f\"/results/forcing/rivers/R201702DFraCElse_y{yy}m{mm}d{dd}.nc\"\n",
    "    nc_ar.append(tstr)\n",
    "\n",
    "for i in range(0,365):\n",
    "#     if i%20 ==0:\n",
    "#         print(i)\n",
    "    t_nc = nc.Dataset(nc_ar[i])\n",
    "    ro = (np.squeeze(t_nc['rorunoff'][:,:,:]))\n",
    "    ro_2015[i,:,:] = ro"
   ]
  },
  {
   "cell_type": "code",
   "execution_count": null,
   "metadata": {
    "collapsed": true
   },
   "outputs": [],
   "source": []
  },
  {
   "cell_type": "code",
   "execution_count": 35,
   "metadata": {},
   "outputs": [
    {
     "name": "stdout",
     "output_type": "stream",
     "text": [
      "<class 'netCDF4._netCDF4.Dataset'>\n",
      "root group (NETCDF4 data model, file format HDF5):\n",
      "    name: SalishSea_1d_20150501_20150510\n",
      "    description: ocean T grid variables\n",
      "    title: ocean T grid variables\n",
      "    Conventions: CF-1.6\n",
      "    timeStamp: 2018-Dec-30 10:04:43 GMT\n",
      "    uuid: 524cd807-5ce1-4d3f-b0cd-56b502c514d6\n",
      "    dimensions(sizes): axis_nbounds(2), x(398), y(898), nvertex(4), deptht(40), time_counter(1)\n",
      "    variables(dimensions): float32 \u001b[4mnav_lat\u001b[0m(y,x), float32 \u001b[4mnav_lon\u001b[0m(y,x), float32 \u001b[4mbounds_lon\u001b[0m(y,x,nvertex), float32 \u001b[4mbounds_lat\u001b[0m(y,x,nvertex), float32 \u001b[4marea\u001b[0m(y,x), float32 \u001b[4mdeptht\u001b[0m(deptht), float32 \u001b[4mdeptht_bounds\u001b[0m(deptht,axis_nbounds), float32 \u001b[4msossheig\u001b[0m(time_counter,y,x), float64 \u001b[4mtime_centered\u001b[0m(time_counter), float64 \u001b[4mtime_centered_bounds\u001b[0m(time_counter,axis_nbounds), float64 \u001b[4mtime_counter\u001b[0m(time_counter), float64 \u001b[4mtime_counter_bounds\u001b[0m(time_counter,axis_nbounds), float32 \u001b[4mvotemper\u001b[0m(time_counter,deptht,y,x), float32 \u001b[4mvosaline\u001b[0m(time_counter,deptht,y,x)\n",
      "    groups: \n",
      "\n"
     ]
    }
   ],
   "source": [
    "tnc = nc.Dataset('/results/SalishSea/hindcast.201812/09may15/SalishSea_1d_20150509_20150509_grid_T.nc')\n",
    "print(tnc)"
   ]
  },
  {
   "cell_type": "code",
   "execution_count": 36,
   "metadata": {},
   "outputs": [
    {
     "name": "stdout",
     "output_type": "stream",
     "text": [
      "435.3644908755905\n"
     ]
    }
   ],
   "source": [
    "tnc = nc.Dataset('/data/tjarniko/results/SAMPL/SalishSea_1ts_20141121_20141121_grid_T_20141121-20141121.nc')\n",
    "tnc2 = nc.Dataset('/data/tjarniko/MEOPAR/grid/mesh_mask201702.nc')\n",
    "e1t = tnc2.variables['e1t']\n",
    "e2t = tnc2.variables['e2t']\n",
    "print(e1t[0,500,20])\n"
   ]
  },
  {
   "cell_type": "code",
   "execution_count": 37,
   "metadata": {},
   "outputs": [
    {
     "data": {
      "text/plain": [
       "<matplotlib.text.Text at 0x7f954af00e10>"
      ]
     },
     "execution_count": 37,
     "metadata": {},
     "output_type": "execute_result"
    },
    {
     "data": {
      "image/png": "[encoded data removed]",
      "text/plain": [
       "<matplotlib.figure.Figure at 0x7f958b926358>"
      ]
     },
     "metadata": {},
     "output_type": "display_data"
    }
   ],
   "source": [
    "# #  Hi Tereza,\n",
    "# #  I'm not the least surprised that you are confused.  Rivers are treated like rain, added from above.  So kg of water/m2 /s where the m2 is horizontal area.  This we will call nf (nemo flux)\n",
    "\n",
    "# # So for m3/s first we convert from mass to volume\n",
    "\n",
    "# # nf / rho (fresh water so 1000 kg/m3)  so now we have m/s\n",
    "\n",
    "# # Then multiply by the area of the grid cell\n",
    "\n",
    "# # nf  / rho * e1t(i,j) *e2t(i,j)\n",
    "watersheds = rv.prop_dict.keys()\n",
    "riv_i = []\n",
    "riv_j = []\n",
    "riv_shed = []\n",
    "riv_name = []\n",
    "i = 0\n",
    "for watshed in watersheds:\n",
    "    rivs = rv.prop_dict[watshed].keys()\n",
    "    for riv in rivs:\n",
    "        ti = rv.prop_dict[watshed][riv]['j']\n",
    "        tj = rv.prop_dict[watshed][riv]['i']\n",
    "        riv_i.append(ti)\n",
    "        riv_j.append(tj)\n",
    "        riv_shed.append(watshed)\n",
    "        riv_name.append(riv)\n",
    "        i = i+1\n",
    "        \n",
    "tnc = nc.Dataset('/data/tjarniko/results/SAMPL/SalishSea_1ts_20141121_20141121_grid_T_20141121-20141121.nc')\n",
    "tnc2 = nc.Dataset('/data/tjarniko/MEOPAR/grid/mesh_mask201702.nc')\n",
    "\n",
    "#93 is \n",
    "for r in range(93,94):\n",
    "    ti = riv_i[r]\n",
    "    tj = riv_j[r]\n",
    "    runoff = ro_2015[:,tj,ti]\n",
    "    t_area = (tnc.variables['area'][tj,ti])\n",
    "    year_runoff_use_area = (runoff / 1000) * t_area\n",
    "    e1t = tnc2.variables['e1t']\n",
    "    e2t = tnc2.variables['e2t']\n",
    "    \n",
    "    year_runoff_use_et = (runoff/ 1000) * e1t[0,tj,ti] *e2t[0,tj,ti]\n",
    "plt.plot(year_runoff_use_area, label = 'discharge using area')\n",
    "plt.plot(year_runoff_use_et, linestyle = ':', label = 'discharge using e1t e2t')\n",
    "plt.legend()\n",
    "plt.title('Fraser river discharge, year 2015')"
   ]
  },
  {
   "cell_type": "code",
   "execution_count": null,
   "metadata": {
    "collapsed": true
   },
   "outputs": [],
   "source": []
  }
 ],
 "metadata": {
  "kernelspec": {
   "display_name": "Python 3",
   "language": "python",
   "name": "python3"
  },
  "language_info": {
   "codemirror_mode": {
    "name": "ipython",
    "version": 3
   },
   "file_extension": ".py",
   "mimetype": "text/x-python",
   "name": "python",
   "nbconvert_exporter": "python",
   "pygments_lexer": "ipython3",
   "version": "3.6.0"
  }
 },
 "nbformat": 4,
 "nbformat_minor": 2
}
