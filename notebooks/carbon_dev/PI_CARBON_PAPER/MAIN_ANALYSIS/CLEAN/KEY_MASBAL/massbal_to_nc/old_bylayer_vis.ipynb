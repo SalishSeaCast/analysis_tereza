{
 "cells": [
  {
   "cell_type": "markdown",
   "metadata": {},
   "source": [
    "## things to try\n",
    "    is average conc. coming out the same as (mass total/ volume total)?\n",
    "    why is the mid depth higher in DIC than the low depth?\n",
    "    where are those jumps? \n",
    "    annotate\n",
    "    visualise fluxes\n",
    "    "
   ]
  },
  {
   "cell_type": "code",
   "execution_count": 1,
   "metadata": {},
   "outputs": [
    {
     "name": "stdout",
     "output_type": "stream",
     "text": [
      "Once deleted, variables cannot be recovered. Proceed (y/[n])? y\n"
     ]
    }
   ],
   "source": [
    "%reset"
   ]
  },
  {
   "cell_type": "code",
   "execution_count": 2,
   "metadata": {},
   "outputs": [
    {
     "data": {
      "text/html": [
       "<script>\n",
       "code_show=true; \n",
       "function code_toggle() {\n",
       " if (code_show){\n",
       " $('div.input').hide();\n",
       " } else {\n",
       " $('div.input').show();\n",
       " }\n",
       " code_show = !code_show\n",
       "} \n",
       "$( document ).ready(code_toggle);\n",
       "</script>\n",
       "<form action=\"javascript:code_toggle()\"><input type=\"submit\" value=\"Click here to toggle on/off the raw code.\"></form>"
      ],
      "text/plain": [
       "<IPython.core.display.HTML object>"
      ]
     },
     "execution_count": 2,
     "metadata": {},
     "output_type": "execute_result"
    }
   ],
   "source": [
    "from IPython.display import HTML\n",
    "\n",
    "HTML('''<script>\n",
    "code_show=true; \n",
    "function code_toggle() {\n",
    " if (code_show){\n",
    " $('div.input').hide();\n",
    " } else {\n",
    " $('div.input').show();\n",
    " }\n",
    " code_show = !code_show\n",
    "} \n",
    "$( document ).ready(code_toggle);\n",
    "</script>\n",
    "<form action=\"javascript:code_toggle()\"><input type=\"submit\" value=\"Click here to toggle on/off the raw code.\"></form>''')"
   ]
  },
  {
   "cell_type": "code",
   "execution_count": 3,
   "metadata": {},
   "outputs": [
    {
     "data": {
      "application/javascript": [
       "IPython.OutputArea.prototype._should_scroll = function(lines) {\n",
       "    return false;\n",
       "}\n"
      ],
      "text/plain": [
       "<IPython.core.display.Javascript object>"
      ]
     },
     "metadata": {},
     "output_type": "display_data"
    }
   ],
   "source": [
    "%%javascript\n",
    "IPython.OutputArea.prototype._should_scroll = function(lines) {\n",
    "    return false;\n",
    "}"
   ]
  },
  {
   "cell_type": "code",
   "execution_count": 4,
   "metadata": {},
   "outputs": [],
   "source": [
    "import matplotlib.pyplot as plt\n",
    "plt.style.use('seaborn-whitegrid')\n",
    "import netCDF4 as nc\n",
    "import numpy as np\n",
    "import scipy as sp\n",
    "import datetime as dt\n",
    "import netCDF4 as nc\n",
    "import pickle\n",
    "import cmocean as cm\n",
    "import glob\n",
    "\n",
    "%matplotlib inline"
   ]
  },
  {
   "cell_type": "code",
   "execution_count": 6,
   "metadata": {},
   "outputs": [],
   "source": [
    "\n",
    "\n",
    "BR1 = 'BR_1st_2015'; BR2 = 'BR_2nd_2015'; LA1 = 'PI_1st_2015'; LA2 = 'PI_2nd_2015'; LA3 = 'PI_3rd_2015';\n",
    "PI1 = 'PI_ACBC_2015'; PI2 = 'PI_ACBC_2015_2'; PI3 = 'PI_ACBC_2015_3'\n",
    "\n",
    "car_suffix = '_dissolved_inorganic_carbon_sums_perday.pkl'\n",
    "nit_suffix = '_nitrate_sums_perday.pkl'\n",
    "\n",
    "#DIC\n",
    "BR1_DIC = pickle.load(open('./pickles/'+BR1+car_suffix , 'rb')) \n",
    "LA1_DIC = pickle.load(open('./pickles/'+LA1+car_suffix , 'rb'))\n",
    "PI1_DIC = pickle.load(open('./pickles/'+PI1+car_suffix , 'rb'))\n",
    "BR2_DIC = pickle.load(open('./pickles/'+BR2+car_suffix , 'rb')) \n",
    "LA2_DIC = pickle.load(open('./pickles/'+LA2+car_suffix , 'rb'))\n",
    "PI2_DIC = pickle.load(open('./pickles/'+PI2+car_suffix , 'rb'))\n",
    "LA3_DIC = pickle.load(open('./pickles/'+LA3+car_suffix , 'rb'))\n",
    "PI3_DIC = pickle.load(open('./pickles/'+PI3+car_suffix , 'rb'))\n",
    "#NIT\n",
    "BR1_NIT = pickle.load(open('./pickles/'+BR1+nit_suffix , 'rb')) \n",
    "LA1_NIT = pickle.load(open('./pickles/'+LA1+nit_suffix , 'rb'))\n",
    "PI1_NIT = pickle.load(open('./pickles/'+PI1+nit_suffix , 'rb'))\n",
    "BR2_NIT = pickle.load(open('./pickles/'+BR2+nit_suffix , 'rb')) \n",
    "LA2_NIT = pickle.load(open('./pickles/'+LA2+nit_suffix , 'rb'))\n",
    "PI2_NIT = pickle.load(open('./pickles/'+PI2+nit_suffix , 'rb'))\n",
    "LA3_NIT = pickle.load(open('./pickles/'+LA3+nit_suffix , 'rb'))\n",
    "PI3_NIT = pickle.load(open('./pickles/'+PI3+nit_suffix , 'rb'))\n",
    "\n",
    "csize = pickle.load(open('./pickles//cellsize.pkl', 'rb'))\n",
    "\n",
    "mesh = nc.Dataset('/data/tjarniko/MEOPAR/grid/mesh_mask201702.nc')\n",
    "bath = nc.Dataset('/data/tjarniko/MEOPAR/grid/bathymetry_201702.nc')"
   ]
  },
  {
   "cell_type": "code",
   "execution_count": 33,
   "metadata": {},
   "outputs": [],
   "source": [
    "grid = nc.Dataset('/data/tjarniko/MEOPAR/grid/mesh_mask201702.nc')\n",
    "#get udir, vdir, wdir\n",
    "vdir = grid['e2t'][0,:,:]\n",
    "udir = grid['e1t'][0,:,:]\n",
    "wdir = grid['e3t_0'][0,:,:,:]\n",
    "tmask = grid['tmask'][0,:,:,:]\n",
    "\n",
    "# w = np.array([[2,3],[2,3]])\n",
    "# x = np.array([[2,4],[2,3]])\n",
    "# print(w*x)\n",
    "surfa = vdir*udir\n",
    "surfa_broad = np.zeros([40,898,398])\n",
    "for i in range(0,40):\n",
    "    surfa_broad[i,:,:] = surfa\n",
    "\n",
    "csize_recalc = surfa_broad*wdir*tmask\n",
    "csize_recalc[:,878:898,:] = 0\n",
    "csize_recalc[:,:,0:20] = 0\n",
    "csize_recalc[csize_recalc==0] = np.nan\n"
   ]
  },
  {
   "cell_type": "code",
   "execution_count": 16,
   "metadata": {},
   "outputs": [
    {
     "data": {
      "text/plain": [
       "[<matplotlib.lines.Line2D at 0x7f2a908abc50>]"
      ]
     },
     "execution_count": 16,
     "metadata": {},
     "output_type": "execute_result"
    },
    {
     "data": {
      "image/png": "[encoded data removed]",
      "text/plain": [
       "<Figure size 432x288 with 1 Axes>"
      ]
     },
     "metadata": {
      "needs_background": "light"
     },
     "output_type": "display_data"
    }
   ],
   "source": [
    "cr_r = np.ravel(csize_recalc)\n",
    "c_r = np.ravel(csize)\n",
    "\n",
    "plt.plot(cr_r,c_r,'r.')"
   ]
  },
  {
   "cell_type": "code",
   "execution_count": 19,
   "metadata": {},
   "outputs": [],
   "source": [
    "sdir = 'MAIN/BR_2nd_2015'\n",
    "sdir_short = 'BR_2nd_2015'\n",
    "ftype = 'carp'\n",
    "ymd = '20150601'\n",
    "nc_sens = '/data/tjarniko/results/BASERUN_EXP/' \\\n",
    "+ sdir + '/ncs/SKOG_1d_*'+ ftype +'*' + ymd + '-' + ymd + '.nc'\n",
    "w = (glob.glob(nc_sens))\n",
    "td = nc.Dataset(w[0])\n",
    "\n",
    "td_dic =td['dissolved_inorganic_carbon']"
   ]
  },
  {
   "cell_type": "code",
   "execution_count": 40,
   "metadata": {},
   "outputs": [
    {
     "name": "stdout",
     "output_type": "stream",
     "text": [
      "prof\n",
      "(40,)\n",
      "[1572.2125 1597.9929 1633.2594 1667.5873 1704.8857 1748.7549 1785.9296\n",
      " 1815.4675 1845.8112 1870.8143 1888.803  1904.2338 1918.1552 1933.5764\n",
      " 1945.8677 1959.3948 1970.1283 1981.4083 1992.5958 2005.1364 2020.5399\n",
      " 2039.4346 2061.1047 2085.2876 2111.7273 2133.2734 2147.9226 2159.3057\n",
      " 2168.024  2172.6963 2156.2307 2147.149  2141.37   2139.3657 2133.9785\n",
      " 2136.7217 2137.4636 2137.797  2137.3196       nan]\n"
     ]
    },
    {
     "name": "stderr",
     "output_type": "stream",
     "text": [
      "/home/tjarniko/anaconda3/lib/python3.7/site-packages/ipykernel_launcher.py:12: RuntimeWarning: Mean of empty slice\n",
      "  if sys.path[0] == '':\n"
     ]
    },
    {
     "data": {
      "text/plain": [
       "[<matplotlib.lines.Line2D at 0x7f2a90806cd0>]"
      ]
     },
     "execution_count": 40,
     "metadata": {},
     "output_type": "execute_result"
    },
    {
     "data": {
      "image/png": "[encoded data removed]",
      "text/plain": [
       "<Figure size 432x288 with 1 Axes>"
      ]
     },
     "metadata": {
      "needs_background": "light"
     },
     "output_type": "display_data"
    }
   ],
   "source": [
    "dic_day = td_dic[0,:,:,:]\n",
    "jst = 500\n",
    "ist = 230\n",
    "d = 38\n",
    "#print(dic_day[d,jst:jst+10,ist:ist+10])\n",
    "\n",
    "#print(csize_recalc[d,jst:jst+10,ist:ist+10])\n",
    "print('prof')\n",
    "dic_day[dic_day == 0 ] = np.nan\n",
    "#print(dic_day[:,jst:jst+1,ist:ist+1])\n",
    "\n",
    "domain_avg = np.nanmean(np.nanmean(dic_day,axis=1),axis = 1)\n",
    "print(np.shape(domain_avg))\n",
    "print(domain_avg)\n",
    "plt.plot(domain_avg)\n"
   ]
  },
  {
   "cell_type": "code",
   "execution_count": 77,
   "metadata": {},
   "outputs": [
    {
     "name": "stdout",
     "output_type": "stream",
     "text": [
      "13710373240415.625\n",
      "463235410439838.56\n"
     ]
    }
   ],
   "source": [
    "BR2_DIC_alg1 = \\\n",
    "pickle.load(open('./pickles/BR_2nd_2015_dissolved_inorganic_carbon_sums_perday.pkl' , 'rb'))\n",
    "BR2_DIC_alg2 = \\\n",
    "pickle.load(open('./pickles/BR_2nd_2015_dissolved_inorganic_carbon_sums_perday_alg2.pkl' , 'rb'))\n",
    "\n",
    "BR2_DIC_alg1r = np.ravel(BR2_DIC_alg1)\n",
    "\n",
    "# print(np.shape(BR2_DIC_alg1r))\n",
    "BR2_DIC_alg2r = np.ravel(BR2_DIC_alg2)\n",
    "\n",
    "diff = BR2_DIC_alg1-BR2_DIC_alg2\n",
    "print(np.max(diff))\n",
    "print(np.max(BR2_DIC_alg1) )\n",
    "# # plt.plot(BR2_DIC_alg1r[0:2000],BR2_DIC_alg2r[0:2000])\n",
    "\n",
    "# fig = plt.figure(figsize=(10,10))\n",
    "# ax = fig.add_subplot(1,1,1)\n",
    "# ax.plot(BR2_DIC_alg1r[:],BR2_DIC_alg2r[:],'r*')\n",
    "# ax.set_xlim([4e14,5e14])\n",
    "# ax.set_ylim([4e14,5e14])\n",
    "# print(BR2_DIC_alg1r[0:10])\n",
    "# print(BR2_DIC_alg2r[0:10])"
   ]
  },
  {
   "cell_type": "code",
   "execution_count": 98,
   "metadata": {},
   "outputs": [
    {
     "name": "stdout",
     "output_type": "stream",
     "text": [
      "(40, 898, 398)\n",
      "(40,)\n",
      "(40, 365)\n",
      "[1797.52481917 1802.01268102 1812.73506689 1826.43870755 1851.73723687\n",
      " 1871.09932566 1889.80005008 1906.8799017  1922.94765635 1938.11739094\n",
      " 1953.01527458 1965.82259595 1977.51363888 1988.48684484 1998.35295384\n",
      " 2007.67345667 2015.97982733 2024.07049166 2031.88724273 2040.91471796\n",
      " 2051.33643691 2064.07174378 2078.65734802 2095.76373697 2113.98719075\n",
      " 2135.46384132 2154.5607759  2172.25764922 2190.87878512 2209.5689569\n",
      " 2223.36712895 2230.5319142  2216.58046429 2186.17993207 2179.30325192\n",
      " 2173.05281191 2167.24061661 2158.10235514 2137.9989485            nan]\n",
      "[1723.11450195 1727.63916016 1740.80395508 1758.53967285 1774.5958252\n",
      " 1798.00793457 1821.86669922 1845.29943848 1872.40869141 1896.48962402\n",
      " 1913.76721191 1928.01171875 1940.29650879 1953.45751953 1963.23303223\n",
      " 1974.1081543  1981.97607422 1990.20043945 1997.87988281 2006.27697754\n",
      " 2016.04223633 2028.1159668  2042.86401367 2059.81616211 2080.29003906\n",
      " 2103.32543945 2123.61547852 2139.14672852 2151.71899414 2160.48120117\n",
      " 2148.58081055 2143.11743164 2138.96459961 2138.41064453 2134.80883789\n",
      " 2137.76196289 2138.83422852 2138.40722656 2137.72460938           nan]\n"
     ]
    },
    {
     "data": {
      "text/plain": [
       "[<matplotlib.lines.Line2D at 0x7f2a8d9631d0>]"
      ]
     },
     "execution_count": 98,
     "metadata": {},
     "output_type": "execute_result"
    },
    {
     "data": {
      "image/png": "[encoded data removed]",
      "text/plain": [
       "<Figure size 432x288 with 1 Axes>"
      ]
     },
     "metadata": {
      "needs_background": "light"
     },
     "output_type": "display_data"
    }
   ],
   "source": [
    "## compare means to sums\n",
    "BR2_means = pickle.load(open('./pickles/BR_2nd_2015_dissolved_inorganic_carbon_means_perday.pkl','rb'))\n",
    "BR2_sums = pickle.load(open('./pickles/BR_2nd_2015_dissolved_inorganic_carbon_sums_perday.pkl','rb'))\n",
    "csize2 = pickle.load(open('./pickles/cellsize_alg2.pkl','rb'))\n",
    "print(np.shape(csize2))\n",
    "csize2_domainsum = np.nansum((np.nansum(csize2,axis=1)),axis=1)\n",
    "print(np.shape(csize2_domainsum))\n",
    "csum_broad = np.zeros([40,365])\n",
    "for i in range(0,365):\n",
    "    csum_broad[:,i] = csize2_domainsum\n",
    "    \n",
    "print(np.shape(BR2_sums))\n",
    "BR2_means_fromsums = BR2_sums/csum_broad\n",
    "\n",
    "print(BR2_means_fromsums[:,100])\n",
    "print(BR2_means[:,100])\n",
    "plt.plot(BR2_means_fromsums[:,100],BR2_means[:,100],'.r')"
   ]
  },
  {
   "cell_type": "code",
   "execution_count": 102,
   "metadata": {},
   "outputs": [
    {
     "name": "stdout",
     "output_type": "stream",
     "text": [
      "(40, 898, 398)\n",
      "(40,)\n",
      "(40, 365)\n",
      "[1744.28984215 1748.66941659 1759.14667826 1772.58029918 1796.0150747\n",
      " 1815.04764979 1833.36742019 1849.96359896 1865.73385379 1880.56146049\n",
      " 1895.27166536 1907.6700604  1918.88466067 1929.50588068 1938.98747411\n",
      " 1947.85649196 1955.9267929  1963.75472549 1971.449428   1979.81980829\n",
      " 1989.53924998 2001.20747841 2014.98076691 2031.94712718 2052.62164592\n",
      " 2074.03825331 2091.26684886 2105.16020448 2118.60738118 2129.06825581\n",
      " 2132.15357731 2134.67336863 2135.74780234 2138.9970595  2141.04513367\n",
      " 2141.5970338  2141.23498971 2140.33623321 2136.10990776           nan]\n",
      "[1759.04724121 1763.47338867 1774.0690918  1787.64672852 1811.01257324\n",
      " 1830.10424805 1848.82617188 1865.6439209  1881.4017334  1896.20751953\n",
      " 1910.9017334  1923.1875     1934.57531738 1945.61242676 1955.15893555\n",
      " 1964.16955566 1972.40026855 1980.30810547 1988.11279297 1996.51794434\n",
      " 2006.21801758 2017.67602539 2030.984375   2046.55273438 2064.57714844\n",
      " 2083.54858398 2099.75561523 2112.75341797 2124.79980469 2133.02148438\n",
      " 2135.90600586 2138.70800781 2138.52905273 2139.22753906 2140.40551758\n",
      " 2141.29638672 2141.35546875 2140.98266602 2138.546875             nan]\n"
     ]
    },
    {
     "data": {
      "text/plain": [
       "[<matplotlib.lines.Line2D at 0x7f2a8d97d2d0>]"
      ]
     },
     "execution_count": 102,
     "metadata": {},
     "output_type": "execute_result"
    },
    {
     "data": {
      "image/png": "[encoded data removed]",
      "text/plain": [
       "<Figure size 432x288 with 1 Axes>"
      ]
     },
     "metadata": {
      "needs_background": "light"
     },
     "output_type": "display_data"
    }
   ],
   "source": [
    "## compare means to sums\n",
    "BR2_means = pickle.load(open('./pickles/BR_2nd_2015_dissolved_inorganic_carbon_means_perday_alg2.pkl','rb'))\n",
    "BR2_sums = pickle.load(open('./pickles/BR_2nd_2015_dissolved_inorganic_carbon_sums_perday_alg2.pkl','rb'))\n",
    "csize2 = pickle.load(open('./pickles/cellsize_alg2.pkl','rb'))\n",
    "print(np.shape(csize2))\n",
    "csize2_domainsum = np.nansum((np.nansum(csize2,axis=1)),axis=1)\n",
    "print(np.shape(csize2_domainsum))\n",
    "csum_broad = np.zeros([40,365])\n",
    "for i in range(0,365):\n",
    "    csum_broad[:,i] = csize2_domainsum\n",
    "    \n",
    "print(np.shape(BR2_sums))\n",
    "BR2_means_fromsums = BR2_sums/csum_broad\n",
    "\n",
    "print(BR2_means_fromsums[:,100])\n",
    "print(BR2_means[:,100])\n",
    "plt.plot(BR2_means_fromsums[:,100],BR2_means[:,100],'.r')"
   ]
  },
  {
   "cell_type": "code",
   "execution_count": 101,
   "metadata": {},
   "outputs": [
    {
     "name": "stdout",
     "output_type": "stream",
     "text": [
      "(40, 898, 398)\n",
      "1577.6609\n",
      "1610.5231\n",
      "1657.75\n",
      "1697.5906\n",
      "1742.6697\n",
      "1780.9065\n",
      "1812.479\n",
      "1835.6019\n",
      "1853.8076\n",
      "1869.3558\n",
      "1885.1503\n",
      "1899.4478\n",
      "1913.4541\n",
      "1927.3716\n",
      "1939.4055\n",
      "1950.6348\n",
      "1960.921\n",
      "1970.9973\n",
      "1981.3309\n",
      "1992.8601\n",
      "2006.6604\n",
      "2023.6497\n",
      "2043.3899\n",
      "2065.7654\n",
      "2089.3455\n",
      "2108.4426\n",
      "2121.5686\n",
      "2130.8823\n",
      "2138.1702\n",
      "2141.666\n",
      "2140.1406\n",
      "2139.232\n",
      "2136.745\n",
      "2136.0527\n",
      "2136.9102\n",
      "2138.104\n",
      "2139.117\n",
      "2140.1064\n",
      "2138.1812\n",
      "nan\n"
     ]
    },
    {
     "name": "stderr",
     "output_type": "stream",
     "text": [
      "/home/tjarniko/anaconda3/lib/python3.7/site-packages/ipykernel_launcher.py:4: RuntimeWarning: Mean of empty slice\n",
      "  after removing the cwd from sys.path.\n"
     ]
    }
   ],
   "source": [
    "print(np.shape(dic_day))\n",
    "dic_day[dic_day == 0] = np.nan\n",
    "for q in range(0,40):\n",
    "    tdat_alldomain = np.nanmean(dic_day[q,:,:])\n",
    "    print(tdat_alldomain)"
   ]
  },
  {
   "cell_type": "code",
   "execution_count": 67,
   "metadata": {},
   "outputs": [
    {
     "name": "stdout",
     "output_type": "stream",
     "text": [
      "(40, 898, 398)\n",
      "[222394.0735048354 222394.9319619551 222396.6040073753 222399.86070437636\n",
      " 222406.2038734285 222418.5586396645 222442.62228648047 222489.49129408682\n",
      " 222580.77746888244 222758.5703635084 223104.8321696096 223779.13872585937\n",
      " 225092.0559661927 227647.5539318632 232618.48573435555 242275.95886774448\n",
      " 260993.43949150215 297102.3475433178 366142.0205610042 495916.60563571716\n",
      " 732228.4538390547 1138653.0241194807 1773482.841893663 2629872.979318921\n",
      " 3582301.9059373247 4438692.043362583 5073521.861136765 3190013.0298313075\n",
      " nan nan nan nan nan nan nan nan nan nan nan nan]\n",
      "[1925.1319580078125 1928.3023681640625 1934.334228515625 1938.406005859375\n",
      " 1942.4461669921875 1945.7696533203125 1949.195068359375 1952.572265625\n",
      " 1955.75732421875 1958.675537109375 1961.5665283203125 1964.1287841796875\n",
      " 1966.3568115234375 1968.9615478515625 1971.9603271484375\n",
      " 1974.7366943359375 1977.586181640625 1980.5184326171875\n",
      " 1984.6654052734375 1989.76708984375 1997.9871826171875 2014.658447265625\n",
      " 2038.357177734375 2089.720947265625 2146.397705078125 2191.329345703125\n",
      " 2207.27490234375 2215.12890625 nan nan nan nan nan nan nan nan nan nan\n",
      " nan nan]\n",
      "[428137938.17569715 428844673.96992356 430189363.4371013 431101225.6916515\n",
      " 432012078.22922415 432775281.73630357 433584062.3537349 434426810.0938488\n",
      " 435313985.76507056 436311762.4524613 437634971.0904271 439531047.6703998\n",
      " 442611297.4689379 448229280.15430343 458714425.2294939 478431226.1315593\n",
      " 516137019.43725324 588416675.6833787 726669401.6243407 986758541.2009716\n",
      " 1462983065.518032 2293996933.546861 3614991480.3627057 5495700653.530607\n",
      " 7689044589.800867 9726636131.159395 11198657470.579535 7066290073.693473\n",
      " nan nan nan nan nan nan nan nan nan nan nan nan]\n"
     ]
    }
   ],
   "source": [
    "csize_alg2 = \\\n",
    "pickle.load(open('./pickles/cellsize_alg2.pkl' , 'rb'))\n",
    "print(np.shape(csize_alg2))\n",
    "print(csize_alg2[:,250,250])\n",
    "print(dic_day[:,250,250])\n",
    "dic_day[np.isnan(dic_day)] =0\n",
    "tot = csize_alg2[:,250,250]*dic_day[:,250,250]\n",
    "print(tot)"
   ]
  },
  {
   "cell_type": "code",
   "execution_count": null,
   "metadata": {},
   "outputs": [],
   "source": [
    "depth = mesh['e3t_0'][0,:,250,250]"
   ]
  },
  {
   "cell_type": "code",
   "execution_count": null,
   "metadata": {},
   "outputs": [],
   "source": [
    "BR_DIC = np.zeros([40,365*3])\n",
    "#always spunup\n",
    "BR_DICsp = np.zeros([40,365*3])\n",
    "LA_DIC = np.zeros([40,365*3])\n",
    "PI_DIC = np.zeros([40,365*3])\n",
    "\n",
    "BR_NIT = np.zeros([40,365*3])\n",
    "LA_NIT = np.zeros([40,365*3])\n",
    "PI_NIT = np.zeros([40,365*3])\n",
    "\n",
    "#load into one array\n",
    "BR_DIC[:,0:365] = BR1_DIC\n",
    "LA_DIC[:,0:365] = LA1_DIC\n",
    "PI_DIC[:,0:365] = PI1_DIC\n",
    "BR_DIC[:,365:2*365] = BR2_DIC\n",
    "LA_DIC[:,365:2*365] = LA2_DIC\n",
    "PI_DIC[:,365:2*365] = PI2_DIC\n",
    "BR_DIC[:,2*365:3*365] = np.nan\n",
    "LA_DIC[:,2*365:3*365] = LA3_DIC\n",
    "PI_DIC[:,2*365:3*365] = PI3_DIC\n",
    "\n",
    "BR_DICsp[:,0:365] = BR2_DIC\n",
    "BR_DICsp[:,365:2*365] = BR2_DIC\n",
    "BR_DICsp[:,2*365:3*365] = BR2_DIC\n"
   ]
  },
  {
   "cell_type": "markdown",
   "metadata": {},
   "source": [
    "### Visualize layer totals on one plot"
   ]
  },
  {
   "cell_type": "code",
   "execution_count": null,
   "metadata": {},
   "outputs": [],
   "source": [
    "#print(np.shape(csize))\n",
    "csize = pickle.load(open('./pickles/cellsize.pkl', 'rb'))\n",
    "print(np.shape(csize))\n",
    "ti = 0\n",
    "js = 380\n",
    "je = 420\n",
    "#print(csize[0:20,js:je,ti])\n",
    "#print(csize[0,450,0])\n",
    "\n",
    "#plt.pcolormesh(csize[0,:,:])\n",
    "\n",
    "csize2 = np.copy(csize)\n",
    "#[0,27:40,0:878,20:398]\n",
    "csize2[:,:,0:20] = 0\n",
    "csize2[:,878:898,:] = 0\n",
    "# print('m')\n",
    "# print(csize2[0:20,js:je,1])"
   ]
  },
  {
   "cell_type": "code",
   "execution_count": null,
   "metadata": {},
   "outputs": [],
   "source": [
    "cellsize_alldomain = np.sum(np.sum(csize2,axis = 1),axis = 1)\n",
    "csize_broad = np.zeros((40,365*3))\n",
    "for i in range(0,365*3):\n",
    "    csize_broad[:,i] = cellsize_alldomain"
   ]
  },
  {
   "cell_type": "code",
   "execution_count": null,
   "metadata": {},
   "outputs": [],
   "source": [
    "fact = 0.7\n",
    "depth = mesh['e3t_0'][0,:,250,250]\n",
    "fig = plt.figure(figsize=(19*fact,14*fact))\n",
    "days_in = np.arange(0,365*3,1)\n",
    "lw = 2\n",
    "tcm = cm.cm.deep\n",
    "ymin = 1600\n",
    "ymax = 2280\n",
    "\n",
    "#BR\n",
    "ax = fig.add_subplot(3,1,1)\n",
    "for i in range(0,40):\n",
    "    zdepth = np.sum(depth[0:i])\n",
    "    if i%5 !=0: \n",
    "        ax.plot(days_in,BR_DIC[i,:]/csize_broad[i,:],color = tcm(1.*i/40), linewidth = lw)\n",
    "    if i%5 == 0:\n",
    "            ax.plot(days_in,BR_DIC[i,:]/csize_broad[i,:],color = tcm(1.*i/40),\\\n",
    "                    label = 'Approx. depth: '+str(int(zdepth))+' m', linewidth = lw)\n",
    "plt.xlim([0,365*3])\n",
    "plt.ylim([ymin,ymax])\n",
    "ax.set_xticklabels([])\n",
    "ax.set_ylabel('mmol DIC $m^{-3}$', fontsize = 15)\n",
    "ax.legend(bbox_to_anchor=[1.0, 1.3, 0, 0], fontsize = 12)\n",
    "plt.title('BR Run: Mean DIC concentration by depth', fontsize = 14 )\n",
    "\n",
    "#LA\n",
    "ax = fig.add_subplot(3,1,2)\n",
    "for i in range(0,40):\n",
    "    zdepth = np.sum(depth[0:i])\n",
    "    ax.plot(days_in,LA_DIC[i,:]/csize_broad[i,:],color = tcm(1.*i/40), linewidth = lw)\n",
    "\n",
    "plt.xlim([0,365*3])\n",
    "plt.ylim([ymin,ymax])\n",
    "ax.set_xticklabels([])\n",
    "ax.set_ylabel('mmol DIC $m^{-3}$', fontsize = 15)\n",
    "plt.title('LA Run: Mean DIC concentration by depth', fontsize = 14 )\n",
    "\n",
    "#PI\n",
    "ax = fig.add_subplot(3,1,3)\n",
    "for i in range(0,40):\n",
    "    zdepth = np.sum(depth[0:i])\n",
    "    ax.plot(days_in,PI_DIC[i,:]/csize_broad[i,:],color = tcm(1.*i/40), linewidth = lw)\n",
    "\n",
    "plt.xlim([0,365*3])\n",
    "plt.ylim([ymin,ymax])\n",
    "ax.set_xticklabels([])\n",
    "ax.set_ylabel('mmol DIC $m^{-3}$', fontsize = 15)\n",
    "plt.title('PI Run: Mean DIC concentration by depth', fontsize = 14 )\n",
    "\n"
   ]
  },
  {
   "cell_type": "code",
   "execution_count": null,
   "metadata": {},
   "outputs": [],
   "source": [
    "fact = 0.7\n",
    "depth = mesh['e3t_0'][0,:,250,250]\n",
    "fig = plt.figure(figsize=(19*fact,14*fact))\n",
    "days_in = np.arange(0,365*3,1)\n",
    "lw = 2\n",
    "tcm = cm.cm.deep\n",
    "ymin = 1600\n",
    "ymax = 2100\n",
    "\n",
    "#BR\n",
    "ax = fig.add_subplot(3,1,1)\n",
    "for i in range(0,10):\n",
    "    zdepth = np.sum(depth[0:i])\n",
    "    if i%1 !=0: \n",
    "        ax.plot(days_in,BR_DIC[i,:]/csize_broad[i,:],color = tcm(1.*i/10), linewidth = lw)\n",
    "    if i%1 == 0:\n",
    "            ax.plot(days_in,BR_DIC[i,:]/csize_broad[i,:],color = tcm(1.*i/10),\\\n",
    "                    label = 'Approx. depth: '+str(int(zdepth))+' m', linewidth = lw)\n",
    "plt.xlim([0,365*3])\n",
    "plt.ylim([ymin,ymax])\n",
    "ax.set_xticklabels([])\n",
    "ax.set_ylabel('mmol DIC $m^{-3}$', fontsize = 15)\n",
    "ax.legend(bbox_to_anchor=[1.0, 1.3, 0, 0], fontsize = 12)\n",
    "plt.title('BR Run: Mean DIC concentration by depth - 1st 10 layers', fontsize = 14 )\n",
    "\n",
    "#LA\n",
    "ax = fig.add_subplot(3,1,2)\n",
    "for i in range(0,10):\n",
    "    zdepth = np.sum(depth[0:i])\n",
    "    ax.plot(days_in,LA_DIC[i,:]/csize_broad[i,:],color = tcm(1.*i/10), linewidth = lw)\n",
    "\n",
    "plt.xlim([0,365*3])\n",
    "plt.ylim([ymin,ymax])\n",
    "ax.set_xticklabels([])\n",
    "ax.set_ylabel('mmol DIC $m^{-3}$', fontsize = 15)\n",
    "ax.legend(bbox_to_anchor=[1.0, 1.3, 0, 0], fontsize = 12)\n",
    "plt.title('LA Run: Mean DIC concentration by depth', fontsize = 14 )\n",
    "\n",
    "#PI\n",
    "ax = fig.add_subplot(3,1,3)\n",
    "for i in range(0,10):\n",
    "    zdepth = np.sum(depth[0:i])\n",
    "    ax.plot(days_in,PI_DIC[i,:]/csize_broad[i,:],color = tcm(1.*i/10), linewidth = lw)\n",
    "\n",
    "plt.xlim([0,365*3])\n",
    "plt.ylim([ymin,ymax])\n",
    "ax.set_xticklabels([])\n",
    "ax.set_ylabel('mmol DIC $m^{-3}$', fontsize = 15)\n",
    "ax.legend(bbox_to_anchor=[1.0, 1.3, 0, 0], fontsize = 12)\n",
    "plt.title('PI Run: Mean DIC concentration by depth', fontsize = 14 )\n",
    "\n",
    "plt.suptitle('Top 10 layers', fontsize = 30)\n",
    "\n"
   ]
  },
  {
   "cell_type": "code",
   "execution_count": null,
   "metadata": {},
   "outputs": [],
   "source": [
    "fact = 0.7\n",
    "depth = mesh['e3t_0'][0,:,250,250]\n",
    "fig = plt.figure(figsize=(19*fact,14*fact))\n",
    "days_in = np.arange(0,365*3,1)\n",
    "lw = 2\n",
    "tcm = cm.cm.deep\n",
    "ymin = 2080\n",
    "ymax = 2280\n",
    "\n",
    "#BR\n",
    "ax = fig.add_subplot(3,1,1)\n",
    "for i in range(30,40):\n",
    "    zdepth = np.sum(depth[0:i])\n",
    "    if i%1 !=0: \n",
    "        ax.plot(days_in,BR_DIC[i,:]/csize_broad[i,:],color = tcm(1.*(i-30)/10), linewidth = lw)\n",
    "    if i%1 == 0:\n",
    "            ax.plot(days_in,BR_DIC[i,:]/csize_broad[i,:],color = tcm(1.*(i-30)/10),\\\n",
    "                    label = 'Approx. depth: '+str(int(zdepth))+' m', linewidth = lw)\n",
    "plt.xlim([0,365*3])\n",
    "plt.ylim([ymin,ymax])\n",
    "ax.set_xticklabels([])\n",
    "ax.set_ylabel('mmol DIC $m^{-3}$', fontsize = 15)\n",
    "ax.legend(bbox_to_anchor=[1.0, 1.3, 0, 0], fontsize = 12)\n",
    "plt.title('BR Run: Mean DIC concentration by depth', fontsize = 14 )\n",
    "\n",
    "#LA\n",
    "ax = fig.add_subplot(3,1,2)\n",
    "for i in range(30,40):\n",
    "    zdepth = np.sum(depth[0:i])\n",
    "    ax.plot(days_in,LA_DIC[i,:]/csize_broad[i,:],color = tcm(1.*(i-30)/10), linewidth = lw)\n",
    "\n",
    "plt.xlim([0,365*3])\n",
    "plt.ylim([ymin,ymax])\n",
    "ax.set_xticklabels([])\n",
    "ax.set_ylabel('mmol DIC $m^{-3}$', fontsize = 15)\n",
    "ax.legend(bbox_to_anchor=[1.0, 1.3, 0, 0], fontsize = 12)\n",
    "plt.title('LA Run: Mean DIC concentration by depth', fontsize = 14 )\n",
    "\n",
    "#PI\n",
    "ax = fig.add_subplot(3,1,3)\n",
    "for i in range(30,40):\n",
    "    zdepth = np.sum(depth[0:i])\n",
    "    ax.plot(days_in,PI_DIC[i,:]/csize_broad[i,:],color = tcm(1.*(i-30)/10), linewidth = lw)\n",
    "\n",
    "plt.xlim([0,365*3])\n",
    "plt.ylim([ymin,ymax])\n",
    "ax.set_xticklabels([])\n",
    "ax.set_ylabel('mmol DIC $m^{-3}$', fontsize = 15)\n",
    "ax.legend(bbox_to_anchor=[1.0, 1.3, 0, 0], fontsize = 12)\n",
    "plt.title('PI Run: Mean DIC concentration by depth', fontsize = 14 )\n",
    "\n",
    "plt.suptitle('Bottom 10 layers', fontsize = 30)\n",
    "\n"
   ]
  },
  {
   "cell_type": "code",
   "execution_count": null,
   "metadata": {},
   "outputs": [],
   "source": []
  },
  {
   "cell_type": "code",
   "execution_count": null,
   "metadata": {},
   "outputs": [],
   "source": [
    "fact = 0.7\n",
    "depth = mesh['e3t_0'][0,:,250,250]\n",
    "fig = plt.figure(figsize=(19*fact,14*fact))\n",
    "days_in = np.arange(0,365*1,1)\n",
    "lw = 2\n",
    "tcm = cm.cm.deep\n",
    "ymin = -40\n",
    "ymax = 40\n",
    "\n",
    "#BR\n",
    "ax = fig.add_subplot(3,1,1)\n",
    "for i in range(0,40):\n",
    "    ti = i\n",
    "    zdepth = np.sum(depth[0:ti])\n",
    "    if i%5 !=0: \n",
    "        ax.plot(days_in,(BR2_DIC[i,:]-BR1_DIC[i,:])/csize_broad[i,0:365],color = tcm(1.*(i)/40), linewidth = lw)\n",
    "    if i%5 == 0:\n",
    "            ax.plot(days_in,(BR2_DIC[i,:]-BR1_DIC[i,:])/csize_broad[i,0:365],color = tcm(1.*(i)/40),\\\n",
    "                    label = 'Approx. depth: '+str(int(zdepth))+' m', linewidth = lw)\n",
    "plt.xlim([0,365*1])\n",
    "plt.ylim([ymin,ymax])\n",
    "ax.set_xticklabels([])\n",
    "ax.set_ylabel('mmol DIC $m^{-3}$', fontsize = 15)\n",
    "ax.legend(bbox_to_anchor=[1.0, 1.05, 0, 0], fontsize = 12)\n",
    "plt.title('BR2 Run - BR1 Run: Mean DIC concentration by depth - all depths', fontsize = 14 )\n",
    "\n",
    "ax = fig.add_subplot(3,1,2)\n",
    "for i in range(0,10):\n",
    "    ti = i\n",
    "    zdepth = np.sum(depth[0:ti])\n",
    "    if i%1 !=0: \n",
    "        ax.plot(days_in,(BR2_DIC[i,:]-BR1_DIC[i,:])/csize_broad[i,0:365],color = tcm(1.*(i)/10), linewidth = lw)\n",
    "    if i%1 == 0:\n",
    "            ax.plot(days_in,(BR2_DIC[i,:]-BR1_DIC[i,:])/csize_broad[i,0:365],color = tcm(1.*(i)/10),\\\n",
    "                    label = 'Approx. depth: '+str(int(zdepth))+' m', linewidth = lw)\n",
    "plt.xlim([0,365*1])\n",
    "plt.ylim([ymin,ymax])\n",
    "ax.set_xticklabels([])\n",
    "ax.set_ylabel('mmol DIC $m^{-3}$', fontsize = 15)\n",
    "ax.legend(bbox_to_anchor=[1.0, 1.05, 0, 0], fontsize = 12)\n",
    "plt.title('BR2 Run - BR1 Run: Mean DIC concentration by depth - top 10 depths', fontsize = 14 )\n",
    "\n",
    "ax = fig.add_subplot(3,1,3)\n",
    "for i in range(30,40):\n",
    "    ti = i\n",
    "    zdepth = np.sum(depth[0:ti])\n",
    "    if i%1 !=0: \n",
    "        ax.plot(days_in,(BR2_DIC[i,:]-BR1_DIC[i,:])/csize_broad[i,0:365],color = tcm(1.*(i-30)/10), linewidth = lw)\n",
    "    if i%1 == 0:\n",
    "            ax.plot(days_in,(BR2_DIC[i,:]-BR1_DIC[i,:])/csize_broad[i,0:365],color = tcm(1.*(i-30)/10),\\\n",
    "                    label = 'Approx. depth: '+str(int(zdepth))+' m', linewidth = lw)\n",
    "plt.xlim([0,365*1])\n",
    "plt.ylim([ymin,ymax])\n",
    "ax.set_xticklabels([])\n",
    "ax.set_ylabel('mmol DIC $m^{-3}$', fontsize = 15)\n",
    "ax.legend(bbox_to_anchor=[1.0, 1.05, 0, 0], fontsize = 12)\n",
    "plt.title('BR2 Run - BR1 Run: Mean DIC concentration by depth - bottom 10 depths', fontsize = 14 )\n",
    "\n",
    "\n",
    "plt.suptitle('BR2 - BR1', fontsize = 30)\n",
    "\n"
   ]
  },
  {
   "cell_type": "code",
   "execution_count": null,
   "metadata": {},
   "outputs": [],
   "source": [
    "print(np.shape(csize_broad))"
   ]
  },
  {
   "cell_type": "code",
   "execution_count": null,
   "metadata": {},
   "outputs": [],
   "source": [
    "fact = 0.7\n",
    "depth = mesh['e3t_0'][0,:,250,250]\n",
    "fig = plt.figure(figsize=(19*fact,14*fact))\n",
    "days_in = np.arange(0,365*3,1)\n",
    "lw = 2\n",
    "tcm = cm.cm.deep\n",
    "ymin = -50\n",
    "ymax = 50\n",
    "\n",
    "#BR\n",
    "ax = fig.add_subplot(3,1,1)\n",
    "for i in range(0,40):\n",
    "    zdepth = np.sum(depth[0:i])\n",
    "    if i%5 !=0: \n",
    "        ax.plot(days_in,BR_DICsp[i,:]/csize_broad[i,:],color = tcm(1.*i/40), linewidth = lw)\n",
    "    if i%5 == 0:\n",
    "            ax.plot(days_in,BR_DICsp[i,:]/csize_broad[i,:],color = tcm(1.*i/40),\\\n",
    "                    label = 'Approx. depth: '+str(int(zdepth))+' m', linewidth = lw)\n",
    "plt.xlim([0,365*3])\n",
    "plt.ylim([1600,2280])\n",
    "ax.set_xticklabels([])\n",
    "ax.set_ylabel('mmol DIC $m^{-3}$', fontsize = 15)\n",
    "ax.legend(bbox_to_anchor=[1.0, 1.3, 0, 0], fontsize = 12)\n",
    "plt.title('BR Run: Mean DIC concentration by depth (repeating BR2 3 times)', fontsize = 14 )\n",
    "\n",
    "#LA\n",
    "ax = fig.add_subplot(3,1,2)\n",
    "for i in range(0,40):\n",
    "    zdepth = np.sum(depth[0:i])\n",
    "    ax.plot(days_in,(BR_DICsp[i,:]-LA_DIC[i,:])/csize_broad[i,:],color = tcm(1.*i/40), linewidth = lw)\n",
    "\n",
    "plt.xlim([0,365*3])\n",
    "plt.ylim([ymin,ymax])\n",
    "ax.set_xticklabels([])\n",
    "ax.set_ylabel('mmol DIC $m^{-3}$', fontsize = 15)\n",
    "plt.title('LA Run: Mean DIC concentration by depth', fontsize = 14 )\n",
    "\n",
    "#PI\n",
    "ax = fig.add_subplot(3,1,3)\n",
    "for i in range(0,40):\n",
    "    zdepth = np.sum(depth[0:i])\n",
    "    ax.plot(days_in,(BR_DICsp[i,:]-PI_DIC[i,:])/csize_broad[i,:],color = tcm(1.*i/40), linewidth = lw)\n",
    "\n",
    "plt.xlim([0,365*3])\n",
    "plt.ylim([ymin,ymax])\n",
    "ax.set_xticklabels([])\n",
    "ax.set_ylabel('mmol DIC $m^{-3}$', fontsize = 15)\n",
    "plt.title('PI Run: Mean DIC concentration by depth', fontsize = 14 )\n",
    "\n"
   ]
  },
  {
   "cell_type": "markdown",
   "metadata": {},
   "source": [
    "### notes - \n",
    "why is deep strait lower than mid-depth strait? seems suspicious\n",
    "test with depth profiles\n",
    "test with averaging\n",
    "\n",
    "## same analysis for nitrate\n"
   ]
  },
  {
   "cell_type": "code",
   "execution_count": null,
   "metadata": {},
   "outputs": [],
   "source": [
    "fact = 0.7\n",
    "depth = mesh['e3t_0'][0,:,250,250]\n",
    "fig = plt.figure(figsize=(19*fact,14*fact))\n",
    "days_in = np.arange(0,365*3,1)\n",
    "lw = 2\n",
    "tcm = cm.cm.deep\n",
    "ymin = 0\n",
    "ymax = 10\n",
    "\n",
    "#BR\n",
    "ax = fig.add_subplot(3,1,1)\n",
    "for i in range(0,40):\n",
    "    zdepth = np.sum(depth[0:i])\n",
    "    if i%5 !=0: \n",
    "        ax.plot(days_in,BR_NIT[i,:]/csize_broad[i,:],color = tcm(1.*i/40), linewidth = lw)\n",
    "    if i%5 == 0:\n",
    "            ax.plot(days_in,BR_NIT[i,:]/csize_broad[i,:],color = tcm(1.*i/40),\\\n",
    "                    label = 'Approx. depth: '+str(int(zdepth))+' m', linewidth = lw)\n",
    "plt.xlim([0,365*3])\n",
    "plt.ylim([ymin,ymax])\n",
    "ax.set_xticklabels([])\n",
    "ax.set_ylabel('mmol NIT $m^{-3}$', fontsize = 15)\n",
    "ax.legend(bbox_to_anchor=[1.0, 1.3, 0, 0], fontsize = 12)\n",
    "plt.title('BR Run: Mean NIT concentration by depth', fontsize = 14 )\n",
    "\n",
    "#LA\n",
    "ax = fig.add_subplot(3,1,2)\n",
    "for i in range(0,40):\n",
    "    zdepth = np.sum(depth[0:i])\n",
    "    ax.plot(days_in,LA_NIT[i,:]/csize_broad[i,:],color = tcm(1.*i/40), linewidth = lw)\n",
    "\n",
    "plt.xlim([0,365*3])\n",
    "plt.ylim([ymin,ymax])\n",
    "ax.set_xticklabels([])\n",
    "ax.set_ylabel('mmol NIT $m^{-3}$', fontsize = 15)\n",
    "plt.title('LA Run: Mean NIT concentration by depth', fontsize = 14 )\n",
    "\n",
    "#PI\n",
    "ax = fig.add_subplot(3,1,3)\n",
    "for i in range(0,40):\n",
    "    zdepth = np.sum(depth[0:i])\n",
    "    ax.plot(days_in,PI_NIT[i,:]/csize_broad[i,:],color = tcm(1.*i/40), linewidth = lw)\n",
    "\n",
    "plt.xlim([0,365*3])\n",
    "plt.ylim([ymin,ymax])\n",
    "ax.set_xticklabels([])\n",
    "ax.set_ylabel('mmol NIT $m^{-3}$', fontsize = 15)\n",
    "plt.title('PI Run: Mean NIT concentration by depth', fontsize = 14 )\n",
    "\n"
   ]
  },
  {
   "cell_type": "code",
   "execution_count": null,
   "metadata": {},
   "outputs": [],
   "source": [
    "np.max(LA_NIT)"
   ]
  },
  {
   "cell_type": "code",
   "execution_count": null,
   "metadata": {},
   "outputs": [],
   "source": []
  }
 ],
 "metadata": {
  "kernelspec": {
   "display_name": "Python 3",
   "language": "python",
   "name": "python3"
  },
  "language_info": {
   "codemirror_mode": {
    "name": "ipython",
    "version": 3
   },
   "file_extension": ".py",
   "mimetype": "text/x-python",
   "name": "python",
   "nbconvert_exporter": "python",
   "pygments_lexer": "ipython3",
   "version": "3.7.4"
  }
 },
 "nbformat": 4,
 "nbformat_minor": 2
}
