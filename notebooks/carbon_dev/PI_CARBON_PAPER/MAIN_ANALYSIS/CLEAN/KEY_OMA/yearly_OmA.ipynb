{
 "cells": [
  {
   "cell_type": "code",
   "execution_count": 14,
   "metadata": {},
   "outputs": [
    {
     "name": "stdout",
     "output_type": "stream",
     "text": [
      "Once deleted, variables cannot be recovered. Proceed (y/[n])? y\n"
     ]
    }
   ],
   "source": [
    "%reset"
   ]
  },
  {
   "cell_type": "code",
   "execution_count": 15,
   "metadata": {},
   "outputs": [
    {
     "data": {
      "text/html": [
       "<script>\n",
       "code_show=true; \n",
       "function code_toggle() {\n",
       " if (code_show){\n",
       " $('div.input').hide();\n",
       " } else {\n",
       " $('div.input').show();\n",
       " }\n",
       " code_show = !code_show\n",
       "} \n",
       "$( document ).ready(code_toggle);\n",
       "</script>\n",
       "<form action=\"javascript:code_toggle()\"><input type=\"submit\" value=\"Click here to toggle on/off the raw code.\"></form>"
      ],
      "text/plain": [
       "<IPython.core.display.HTML object>"
      ]
     },
     "execution_count": 15,
     "metadata": {},
     "output_type": "execute_result"
    }
   ],
   "source": [
    "from IPython.display import HTML\n",
    "\n",
    "HTML('''<script>\n",
    "code_show=true; \n",
    "function code_toggle() {\n",
    " if (code_show){\n",
    " $('div.input').hide();\n",
    " } else {\n",
    " $('div.input').show();\n",
    " }\n",
    " code_show = !code_show\n",
    "} \n",
    "$( document ).ready(code_toggle);\n",
    "</script>\n",
    "<form action=\"javascript:code_toggle()\"><input type=\"submit\" value=\"Click here to toggle on/off the raw code.\"></form>''')"
   ]
  },
  {
   "cell_type": "code",
   "execution_count": 16,
   "metadata": {
    "collapsed": true
   },
   "outputs": [],
   "source": [
    "from __future__ import print_function\n",
    "from numpy import *\n",
    "from scipy import *\n",
    "import matplotlib.pyplot as plt\n",
    "\n",
    "import matplotlib.pyplot as plt\n",
    "import netCDF4 as nc\n",
    "import numpy as np\n",
    "import scipy as sp\n",
    "import warnings\n",
    "warnings.filterwarnings('ignore')\n",
    "\n",
    "import seawater\n",
    "import datetime as dt\n",
    "\"\"\n",
    "from salishsea_tools import (\n",
    "    nc_tools,\n",
    "    viz_tools,\n",
    "    geo_tools,\n",
    "    tidetools\n",
    ")\n",
    "\n",
    "import matplotlib\n",
    "matplotlib.use('Agg')\n",
    "import matplotlib.pyplot as plt\n",
    "import matplotlib.patches as patches\n",
    "plt.style.use('seaborn-whitegrid')\n",
    "import netCDF4 as nc\n",
    "import time\n",
    "import cmocean as cm\n",
    "import glob\n",
    "import sys\n",
    "sys.path.append('/data/tjarniko/mocsy')\n",
    "sys.path.append('/data/tjarniko/MEOPAR/at3/notebooks/carbon_dev/CCCmaDEV/CCCma_src')\n",
    "import mocsy\n",
    "import CCCma\n",
    "import CCCma_stations as cs\n",
    "from matplotlib import reload\n",
    "import arrow\n",
    "import gsw\n",
    "%matplotlib inline\n",
    "\n",
    "import xarray as xr\n",
    "from datetime import datetime\n",
    "from salishsea_tools import grid_tools, viz_tools\n",
    "\n",
    "\n"
   ]
  },
  {
   "cell_type": "code",
   "execution_count": null,
   "metadata": {
    "collapsed": true
   },
   "outputs": [],
   "source": [
    "\n"
   ]
  },
  {
   "cell_type": "code",
   "execution_count": 17,
   "metadata": {},
   "outputs": [
    {
     "name": "stdout",
     "output_type": "stream",
     "text": [
      "['/data/tjarniko/results/BASERUN_EXP/MAIN/BR_2nd_2015/ncs/SKOG_1d_20150101_20150130_grid_T_20150101-20150101.nc']\n",
      "['/data/tjarniko/results/BASERUN_EXP/MAIN/BR_2nd_2015/ncs/SKOG_1d_20150101_20150130_carp_T_20150101-20150101.nc']\n"
     ]
    }
   ],
   "source": [
    "tdir = '/data/tjarniko/results/BASERUN_EXP/MAIN/BR_2nd_2015/ncs/'\n",
    "gridnc = 'SKOG_*_grid_T_20150101-20150101.nc'\n",
    "carpnc = 'SKOG_*_carp_T_20150101-20150101.nc'\n",
    "\n",
    "tgrid = glob.glob(tdir+gridnc)\n",
    "print(tgrid)\n",
    "grid = nc.Dataset(tgrid[0])\n",
    "\n",
    "tcarp = glob.glob(tdir+carpnc)\n",
    "print(tcarp)\n",
    "carp = nc.Dataset(tcarp[0])"
   ]
  },
  {
   "cell_type": "code",
   "execution_count": 18,
   "metadata": {},
   "outputs": [],
   "source": [
    "# start = time.time()\n",
    "# pHr, OmAr = OmA_3D(grid,carp)\n",
    "# end = time.time()\n",
    "\n",
    "# print(end-start)"
   ]
  },
  {
   "cell_type": "code",
   "execution_count": 19,
   "metadata": {
    "collapsed": true
   },
   "outputs": [],
   "source": [
    "def make_nclen(start,end,ftype, sdir):\n",
    "    fn_ar = []\n",
    "    start_run = arrow.get(start)\n",
    "    end_run = arrow.get(end)\n",
    "    arrow_array = []\n",
    "    for r in arrow.Arrow.span_range('day', start_run, end_run):\n",
    "        arrow_array.append(r)\n",
    "\n",
    "    dayslen = len(arrow_array)\n",
    "    for i in range(0,dayslen):\n",
    "        tdate = arrow_array[i][0]\n",
    "        ddmmmyy = tdate.format('DDMMMYY').lower()\n",
    "        ymd = tdate.format('YYYYMMDD')\n",
    "        nc_sens = '/data/tjarniko/results/BASERUN_EXP/MAIN/' + sdir + '/ncs/SKOG_1d_*'+ ftype +'*' + ymd + '-' + ymd + '.nc'\n",
    "        tnc_sens = glob.glob(nc_sens)\n",
    "        fn_ar.append(tnc_sens[0])\n",
    "\n",
    "    return fn_ar\n",
    "\n",
    "def make_fname_ar(start,end,runtype):\n",
    "    fn_ar = []\n",
    "    start_run = arrow.get(start)\n",
    "    end_run = arrow.get(end)\n",
    "    arrow_array = []\n",
    "    for r in arrow.Arrow.span_range('day', start_run, end_run):\n",
    "        arrow_array.append(r)\n",
    "\n",
    "    dayslen = len(arrow_array)\n",
    "    for i in range(0,dayslen):\n",
    "        tdate = arrow_array[i][0]\n",
    "        ymd = tdate.format('YYYYMMDD')\n",
    "        fname = runtype + '_OmA_pH_' + ymd +'.nc'\n",
    "        fn_ar.append(fname)\n",
    "    \n",
    "    return fn_ar\n",
    "\n",
    "def OmA_3D(grid,carp):\n",
    "    tsal = grid.variables['vosaline'][0,:,:,:]\n",
    "    ttemp = grid.variables['votemper'][0,:,:,:]\n",
    "    tdic = carp.variables['dissolved_inorganic_carbon'][0,:,:,:]\n",
    "    tta = carp.variables['total_alkalinity'][0,:,:,:]\n",
    "\n",
    "    tsra = np.ravel(tsal)\n",
    "    ttera = np.ravel(ttemp)\n",
    "    ttara = np.ravel(tta) * 1e-3\n",
    "    tdra = np.ravel(tdic) * 1e-3\n",
    "    tzero = np.zeros_like(tsra)\n",
    "    tpressure = np.zeros_like(tsra)\n",
    "    tpressure[:] =1\n",
    "    tzero = tpressure * 0 \n",
    "        \n",
    "    tsra_psu = tsra*35/35.16504\n",
    "    ttera_is = gsw.t_from_CT(tsra,ttera,tzero)\n",
    "\n",
    "    response_tup = mocsy.mvars(temp=ttera_is, sal=tsra_psu, alk=ttara, dic=tdra, \n",
    "                       sil=tzero, phos=tzero, patm=tpressure, depth=tzero, lat=tzero, \n",
    "                        optcon='mol/m3', optt='Tinsitu', optp='m',\n",
    "                        optb = 'l10', optk1k2='m10', optkf = 'dg', optgas = 'Pinsitu')\n",
    "    pH,pco2,fco2,co2,hco3,co3,OmegaA,OmegaC,BetaD,DENis,p,Tis = response_tup\n",
    "\n",
    "    pHr = pH.reshape(40,898,398)\n",
    "    OmAr = OmegaA.reshape(40,898,398)\n",
    "    \n",
    "    return pHr, OmAr"
   ]
  },
  {
   "cell_type": "code",
   "execution_count": 24,
   "metadata": {},
   "outputs": [
    {
     "name": "stdout",
     "output_type": "stream",
     "text": [
      "/data/tjarniko/results/BASERUN_EXP/MAIN/BR_2nd_2015/ncs/SKOG_1d_20150101_20150130_carp_T_20150101-20150101.nc\n",
      "<class 'netCDF4._netCDF4.Dataset'>\n",
      "root group (NETCDF4 data model, file format HDF5):\n",
      "    name: SKOG_1d_20150101_20150130_grid_T\n",
      "    description: ocean T grid variables\n",
      "    title: ocean T grid variables\n",
      "    Conventions: CF-1.6\n",
      "    timeStamp: 2019-May-07 16:48:45 GMT\n",
      "    uuid: 547ae1ed-bb29-43d3-86ec-7c8e45f827f3\n",
      "    history: Wed May 15 17:31:17 2019: ncks -4 -L4 -O /data/tjarniko/results/BR_2nd_2015_cop/SKOG_2/ncs/SKOG_1d_20150101_20150130_grid_T_20150101-20150101.nc /data/tjarniko/results/BR_2nd_2015_cop/SKOG_2/ncs/SKOG_1d_20150101_20150130_grid_T_20150101-20150101.nc\n",
      "    NCO: \"4.5.4\"\n",
      "    dimensions(sizes): y(898), x(398), nvertex(4), deptht(40), axis_nbounds(2), time_counter(1)\n",
      "    variables(dimensions): float32 \u001b[4marea\u001b[0m(y,x), float32 \u001b[4mbounds_nav_lat\u001b[0m(y,x,nvertex), float32 \u001b[4mbounds_nav_lon\u001b[0m(y,x,nvertex), float32 \u001b[4mdeptht\u001b[0m(deptht), float32 \u001b[4mdeptht_bounds\u001b[0m(deptht,axis_nbounds), float32 \u001b[4mnav_lat\u001b[0m(y,x), float32 \u001b[4mnav_lon\u001b[0m(y,x), float32 \u001b[4msossheig\u001b[0m(time_counter,y,x), float64 \u001b[4mtime_centered\u001b[0m(time_counter), float64 \u001b[4mtime_centered_bounds\u001b[0m(time_counter,axis_nbounds), float64 \u001b[4mtime_counter\u001b[0m(time_counter), float64 \u001b[4mtime_counter_bounds\u001b[0m(time_counter,axis_nbounds), float32 \u001b[4mvosaline\u001b[0m(time_counter,deptht,y,x), float32 \u001b[4mvotemper\u001b[0m(time_counter,deptht,y,x)\n",
      "    groups: \n",
      "\n",
      "BR_OmA_pH_20150101.nc\n",
      "/data/tjarniko/results/BASERUN_EXP/MAIN/BR_2nd_2015/ncs/SKOG_1d_20150101_20150130_carp_T_20150102-20150102.nc\n",
      "<class 'netCDF4._netCDF4.Dataset'>\n",
      "root group (NETCDF4 data model, file format HDF5):\n",
      "    name: SKOG_1d_20150101_20150130_grid_T\n",
      "    description: ocean T grid variables\n",
      "    title: ocean T grid variables\n",
      "    Conventions: CF-1.6\n",
      "    timeStamp: 2019-May-07 17:04:37 GMT\n",
      "    uuid: f16a83c4-4ea7-4bbd-9122-ea917eee08e7\n",
      "    history: Wed May 15 15:35:33 2019: ncks -4 -L4 -O /data/tjarniko/results/BR_2nd_2015_cop/SKOG_2/ncs/SKOG_1d_20150101_20150130_grid_T_20150102-20150102.nc /data/tjarniko/results/BR_2nd_2015_cop/SKOG_2/ncs/SKOG_1d_20150101_20150130_grid_T_20150102-20150102.nc\n",
      "    NCO: \"4.5.4\"\n",
      "    dimensions(sizes): y(898), x(398), nvertex(4), deptht(40), axis_nbounds(2), time_counter(1)\n",
      "    variables(dimensions): float32 \u001b[4marea\u001b[0m(y,x), float32 \u001b[4mbounds_nav_lat\u001b[0m(y,x,nvertex), float32 \u001b[4mbounds_nav_lon\u001b[0m(y,x,nvertex), float32 \u001b[4mdeptht\u001b[0m(deptht), float32 \u001b[4mdeptht_bounds\u001b[0m(deptht,axis_nbounds), float32 \u001b[4mnav_lat\u001b[0m(y,x), float32 \u001b[4mnav_lon\u001b[0m(y,x), float32 \u001b[4msossheig\u001b[0m(time_counter,y,x), float64 \u001b[4mtime_centered\u001b[0m(time_counter), float64 \u001b[4mtime_centered_bounds\u001b[0m(time_counter,axis_nbounds), float64 \u001b[4mtime_counter\u001b[0m(time_counter), float64 \u001b[4mtime_counter_bounds\u001b[0m(time_counter,axis_nbounds), float32 \u001b[4mvosaline\u001b[0m(time_counter,deptht,y,x), float32 \u001b[4mvotemper\u001b[0m(time_counter,deptht,y,x)\n",
      "    groups: \n",
      "\n",
      "BR_OmA_pH_20150102.nc\n"
     ]
    }
   ],
   "source": [
    "#get a list of filenames for the LA, BR, PI cases\n",
    "#make a list of .nc names for the new files\n",
    "#for each day, do calculation and save appropriate file\n",
    "\n",
    "sdir = 'BR_2nd_2015'\n",
    "runtype = 'BR'\n",
    "\n",
    "\n",
    "start = '2015-01-01'\n",
    "end = '2015-12-31'\n",
    "\n",
    "carp_ar = make_nclen(start,end,'carp_T', sdir)\n",
    "grid_ar = make_nclen(start,end,'grid_T', sdir)\n",
    "fn_ar = make_fname_ar(start,end,runtype)\n",
    "\n",
    "for i in range(0,2):\n",
    "    \n",
    "    tcarp = carp_ar[i]\n",
    "    print(tcarp)\n",
    "    carp = nc.Dataset(tcarp)\n",
    "    tgrid = grid_ar[i]\n",
    "    grid = nc.Dataset(tgrid)\n",
    "    fn = fn_ar[i]\n",
    "    \n",
    "    pHr, OmAr = OmA_3D(grid,carp)\n",
    "\n",
    "    tdir = '/data/tjarniko/results/BASERUN_EXP/MAIN/OmA_pH_calculated/'\n",
    "    ncname = tdir + fn\n",
    "\n",
    "    f = nc.Dataset(ncname,'w', format='NETCDF4') #'w' stands for write\n",
    "    g = f.createGroup('model_output')\n",
    "    g.createDimension('depths', 40)\n",
    "    g.createDimension('ydir',898)\n",
    "    g.createDimension('xdir',398)\n",
    "\n",
    "    ts = g.createVariable('pHr','f4',('depths','ydir','xdir'))\n",
    "    ts[:] = pHr\n",
    "    ts2 = g.createVariable('OmAr','f4',('depths','ydir','xdir'))\n",
    "    ts2[:] = OmAr\n",
    "\n",
    "    f.close()"
   ]
  },
  {
   "cell_type": "code",
   "execution_count": 30,
   "metadata": {},
   "outputs": [
    {
     "name": "stdout",
     "output_type": "stream",
     "text": [
      "1.0997624\n"
     ]
    }
   ],
   "source": [
    "\n",
    "w = nc.Dataset('/data/tjarniko/results/BASERUN_EXP/MAIN/OmA_pH_calculated/'+ 'BR_OmA_pH_20150101.nc')\n",
    "print(w['model_output']['OmAr'][0,250,250])\n",
    "\n",
    "\n"
   ]
  },
  {
   "cell_type": "code",
   "execution_count": null,
   "metadata": {
    "collapsed": true
   },
   "outputs": [],
   "source": []
  }
 ],
 "metadata": {
  "kernelspec": {
   "display_name": "Python 3",
   "language": "python",
   "name": "python3"
  },
  "language_info": {
   "codemirror_mode": {
    "name": "ipython",
    "version": 3
   },
   "file_extension": ".py",
   "mimetype": "text/x-python",
   "name": "python",
   "nbconvert_exporter": "python",
   "pygments_lexer": "ipython3",
   "version": "3.6.0"
  }
 },
 "nbformat": 4,
 "nbformat_minor": 2
}
