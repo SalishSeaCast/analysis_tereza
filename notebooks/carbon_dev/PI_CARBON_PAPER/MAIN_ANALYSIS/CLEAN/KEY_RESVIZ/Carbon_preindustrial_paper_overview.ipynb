{
 "cells": [
  {
   "cell_type": "markdown",
   "metadata": {
    "collapsed": true
   },
   "source": [
    "# The inorganic carbon balance and fate of anthropogenic carbon in a temperate fjord system\n",
    "\n",
    "We are trying to write a paper investigating the fate of anthropogenic carbon in a fjord system, using the SalishSeaCast Model, with custom-built carbonate chemistry module, as our tool. The basic idea is to run the SKØG model in 3 configurations - present-day co2 forcing; preindustrial co2 forcing + present-day boundary conditions; and preindustrial co2 forcing + preindustrial boundary conditions. \n",
    "\n",
    "Then we try to see \n",
    "\n",
    "a) where the extra carbon is \n",
    "\n",
    "\n",
    "b) how it gets transported thru lateral (b1) and air-sea (b2) boundary and how that changes\n",
    "\n",
    "c) the effect this has on ecologically-meaningful quantities (eg $\\Omega_A$, pH)  \n",
    "\n",
    "This notebook tries to keep track of where the model code is, the run files, the results, and all the different bits of analysis are for a) Tereza, who could stand to be more organized, and b) advisors/collaborators - Debby, Susan, etc. The idea is to put links to relatively tidy notebooks that distill what has been done. The paper is being written on Overleaf.   \n",
    "\n",
    "Outline of doc:\n",
    "\n",
    "* **1a** Model Code/ Config\n",
    "* **1b** Init atmospheric CO2\n",
    "* **1c** PI boundary conditions\n",
    "* **2** Model Runs Description\n",
    "* **3** Model Evaluations\n",
    "* **4** Results\n",
    "\n",
    "TD means to fill in"
   ]
  },
  {
   "cell_type": "markdown",
   "metadata": {},
   "source": [
    "### 1a) Model Code/ Configuration:\n",
    "    \n",
    "    Changeset:\n",
    "    changeset:   1702:7bb2e93c05d8\n",
    "    Main code of SKOG is in p4zcar.F90 and p4zflx.F90,\n",
    "    and we couple the mocsy system of subroutines. \n",
    "    Equations from Moore-Maley 2016\n",
    "    \n",
    "\n",
    "### 1b) Figuring out how to initialize atmospheric CO2 \n",
    "\n",
    "We have seasonally varying CO2. Ultimately we have found a sum-of-gaussians expression for CO2 based on means of empirical observations by NOAA at La Jolla and Pt Barrow. \n",
    "\n",
    "The notebook in which I figured all this out is qq here.\n",
    "\n",
    "\n",
    "The final code is here, from p4zflx: \n",
    "    \n",
    "          zz_yearcyc =  zz_amp * exp( -((zz_day - zz_ctr)/zz_wid)**2)&\n",
    "              + zz_amp2 * exp( -((zz_day - zz_ctr2)/zz_wid2)**2)&\n",
    "              + zz_amp3 * exp( -((zz_day - zz_ctr3)/zz_wid3)**2)\n",
    "\n",
    "      zz_atcco2 = (zz_year+(zz_day/365))*zZ_LRslop+zz_LRint + zz_yearcyc\n",
    "      \n",
    "The zz_amp, zz_wid, zz_ctr get set in namelist_smelt_skog which is in, eg: \n",
    "\n",
    "    SS-run-sets/SalishSea/nemo3.6/tereza/BASERUN_PREIND_EXP/PI_ACBC_1st2015_nolatflux\n",
    "      \n",
    "\n",
    "### 1c) Figuring out the (bloody) preindustrial boundary conditions\n",
    "\n",
    "We thought about several ways to set the preindustrial boundary conditions. This is a 2 part process - figuring out the age of the water and then figuring out the relationship between age and CO2. The idea is that older water, that was last at the surface a long time ago, will have a bigger difference in the preindustrial CO2.\n",
    "\n",
    "For age: We looked at various options:\n",
    ">Tetjana Ross's isopycnal vs local ventilation\n",
    ">Making a convoluted argument about watermass identity & age based partly on Thomson/Krassowski\n",
    ">Andrew Shao's suggestion: CFC freon age. We ended up using freon-11 from P01_with_age.csv which\n",
    "\n",
    "notebooks/notebooks/carbon_dev/PI_CARBON_PAPER/PI_BOUND_COND/CLEAN/Andrew_age_cfc_to_pco2_conv_to_new_DIC_ncs.ipynb\n",
    "\n",
    "1) Dick Feely's method of 2 different relationship"
   ]
  },
  {
   "cell_type": "markdown",
   "metadata": {},
   "source": [
    "### 2) Model Runs:\n",
    "\n",
    "3 runs\n",
    "> main run directory is: /SS-run-sets/SalishSea/nemo3.6/tereza/BASERUN_PREIND_EXP/\n",
    "\n",
    "> main results directory (on salish) is: /data/tjarniko/results/BASERUN_EXP\n",
    "\n",
    "* BR: present-day atmo CO2 with present-day boundary conditions\n",
    "    \n",
    "> yamls/forcings: BR_1st2015, BR_2nd2015  \n",
    "\n",
    "> results: MAIN/BR_2nd_2015 MAIN/BR_2016\n",
    "\n",
    "> results of spinup: NOT_MAIN_ANALYSIS/BR_1st_2015\n",
    "    \n",
    "* PI_AC: preindustrial atmo CO2 with present-day BC\n",
    "\n",
    "> yamls/forcings: PREIND_2015_year3\n",
    "\n",
    "> results: MAIN/PI_3rd_2015/ MAIN/PI_2016\n",
    "\n",
    "> results of spinup: NOT_MAIN_ANALYSIS/: PI_1st_2015/ PI_2nd_2015/\n",
    "\n",
    "* PI_ACBC: preindustrial atmo CO2 with preindustrial BC\n",
    "\n",
    "> yamls/forcings: PI_ACBC_1st2015_nolatflux\n",
    "\n",
    "> results: MAIN/PI_ACBC_2015/\n",
    "\n",
    "> results of spinup: MAIN/PI_ACBC_2015_2/\n"
   ]
  },
  {
   "cell_type": "code",
   "execution_count": 94,
   "metadata": {},
   "outputs": [
    {
     "data": {
      "text/html": [
       "<script>\n",
       "code_show=true; \n",
       "function code_toggle() {\n",
       " if (code_show){\n",
       " $('div.input').hide();\n",
       " } else {\n",
       " $('div.input').show();\n",
       " }\n",
       " code_show = !code_show\n",
       "} \n",
       "$( document ).ready(code_toggle);\n",
       "</script>\n",
       "<form action=\"javascript:code_toggle()\"><input type=\"submit\" value=\"Click here to toggle on/off the raw code.\"></form>"
      ],
      "text/plain": [
       "<IPython.core.display.HTML object>"
      ]
     },
     "execution_count": 94,
     "metadata": {},
     "output_type": "execute_result"
    }
   ],
   "source": [
    "from IPython.display import HTML\n",
    "\n",
    "HTML('''<script>\n",
    "code_show=true; \n",
    "function code_toggle() {\n",
    " if (code_show){\n",
    " $('div.input').hide();\n",
    " } else {\n",
    " $('div.input').show();\n",
    " }\n",
    " code_show = !code_show\n",
    "} \n",
    "$( document ).ready(code_toggle);\n",
    "</script>\n",
    "<form action=\"javascript:code_toggle()\"><input type=\"submit\" value=\"Click here to toggle on/off the raw code.\"></form>''')"
   ]
  },
  {
   "cell_type": "markdown",
   "metadata": {},
   "source": [
    "### 3) Checking Spinup\n",
    "\n",
    "### 4) Model Evaluation:\n",
    "\n",
    "### 5) Results:\n",
    "\n",
    "#### 5a) Mass Balances\n",
    "\n",
    "#### 5b1) Lateral Fluxes\n",
    "\n",
    "#### 5b2) Air-Sea Fluxes\n",
    "\n",
    "#### 5c) Ecologically Relevant Quanitities and horizon shoaling and things"
   ]
  }
 ],
 "metadata": {
  "kernelspec": {
   "display_name": "Python 3",
   "language": "python",
   "name": "python3"
  },
  "language_info": {
   "codemirror_mode": {
    "name": "ipython",
    "version": 3
   },
   "file_extension": ".py",
   "mimetype": "text/x-python",
   "name": "python",
   "nbconvert_exporter": "python",
   "pygments_lexer": "ipython3",
   "version": "3.6.0"
  }
 },
 "nbformat": 4,
 "nbformat_minor": 2
}
