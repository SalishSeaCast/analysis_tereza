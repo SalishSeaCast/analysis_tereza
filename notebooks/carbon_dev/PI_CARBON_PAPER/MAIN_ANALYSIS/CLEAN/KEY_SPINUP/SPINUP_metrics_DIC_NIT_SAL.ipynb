{
 "cells": [
  {
   "cell_type": "markdown",
   "metadata": {},
   "source": [
    "to get these mass ball ncs look in SPINUP_extract.py\n",
    "which is in pyscripts/extraction pyscripsts"
   ]
  },
  {
   "cell_type": "code",
   "execution_count": 1,
   "metadata": {},
   "outputs": [
    {
     "name": "stdout",
     "output_type": "stream",
     "text": [
      "Once deleted, variables cannot be recovered. Proceed (y/[n])? y\n"
     ]
    }
   ],
   "source": [
    "%reset"
   ]
  },
  {
   "cell_type": "code",
   "execution_count": 2,
   "metadata": {},
   "outputs": [
    {
     "data": {
      "text/html": [
       "<script>\n",
       "code_show=true; \n",
       "function code_toggle() {\n",
       " if (code_show){\n",
       " $('div.input').hide();\n",
       " } else {\n",
       " $('div.input').show();\n",
       " }\n",
       " code_show = !code_show\n",
       "} \n",
       "$( document ).ready(code_toggle);\n",
       "</script>\n",
       "<form action=\"javascript:code_toggle()\"><input type=\"submit\" value=\"Click here to toggle on/off the raw code.\"></form>"
      ],
      "text/plain": [
       "<IPython.core.display.HTML object>"
      ]
     },
     "execution_count": 2,
     "metadata": {},
     "output_type": "execute_result"
    }
   ],
   "source": [
    "from IPython.display import HTML\n",
    "\n",
    "HTML('''<script>\n",
    "code_show=true; \n",
    "function code_toggle() {\n",
    " if (code_show){\n",
    " $('div.input').hide();\n",
    " } else {\n",
    " $('div.input').show();\n",
    " }\n",
    " code_show = !code_show\n",
    "} \n",
    "$( document ).ready(code_toggle);\n",
    "</script>\n",
    "<form action=\"javascript:code_toggle()\"><input type=\"submit\" value=\"Click here to toggle on/off the raw code.\"></form>''')"
   ]
  },
  {
   "cell_type": "code",
   "execution_count": 3,
   "metadata": {},
   "outputs": [
    {
     "name": "stderr",
     "output_type": "stream",
     "text": [
      "/home/tjarniko/anaconda3/lib/python3.6/site-packages/matplotlib/__init__.py:1357: UserWarning:  This call to matplotlib.use() has no effect\n",
      "because the backend has already been chosen;\n",
      "matplotlib.use() must be called *before* pylab, matplotlib.pyplot,\n",
      "or matplotlib.backends is imported for the first time.\n",
      "\n",
      "  warnings.warn(_use_error_msg)\n"
     ]
    }
   ],
   "source": [
    "from __future__ import print_function\n",
    "from numpy import *\n",
    "from scipy import *\n",
    "import matplotlib.pyplot as plt\n",
    "\n",
    "import matplotlib.pyplot as plt\n",
    "import netCDF4 as nc\n",
    "import numpy as np\n",
    "import scipy as sp\n",
    "\n",
    "\n",
    "import seawater\n",
    "import datetime as dt\n",
    "\"\"\n",
    "from salishsea_tools import (\n",
    "    nc_tools,\n",
    "    viz_tools,\n",
    "    geo_tools,\n",
    "    tidetools\n",
    ")\n",
    "\n",
    "import matplotlib\n",
    "matplotlib.use('Agg')\n",
    "import matplotlib.pyplot as plt\n",
    "import matplotlib.patches as patches\n",
    "plt.style.use('seaborn-whitegrid')\n",
    "import netCDF4 as nc\n",
    "\n",
    "import cmocean as cm\n",
    "import glob\n",
    "import sys\n",
    "sys.path.append('/data/tjarniko/mocsy')\n",
    "sys.path.append('/data/tjarniko/MEOPAR/at3/notebooks/carbon_dev/CCCmaDEV/CCCma_src')\n",
    "import mocsy\n",
    "import CCCma\n",
    "import CCCma_stations as cs\n",
    "from matplotlib import reload\n",
    "import arrow\n",
    "import gsw"
   ]
  },
  {
   "cell_type": "code",
   "execution_count": 4,
   "metadata": {},
   "outputs": [
    {
     "ename": "OSError",
     "evalue": "No such file or directory",
     "output_type": "error",
     "traceback": [
      "\u001b[0;31m------------------------------------------------------------\u001b[0m",
      "\u001b[0;31mOSError\u001b[0m                    Traceback (most recent call last)",
      "\u001b[0;32m<ipython-input-4-c395f1388977>\u001b[0m in \u001b[0;36m<module>\u001b[0;34m()\u001b[0m\n\u001b[0;32m----> 1\u001b[0;31m \u001b[0mw\u001b[0m \u001b[0;34m=\u001b[0m\u001b[0mnc\u001b[0m\u001b[0;34m.\u001b[0m\u001b[0mDataset\u001b[0m\u001b[0;34m(\u001b[0m\u001b[0;34m'/data/tjarniko/MEOPAR/analysis-tereza/notebooks/carbon_dev/PI_CARBON_PAPER/MAIN_ANALYSIS/CLEAN/NCS/SPINUP_BR2015_to1231.nc'\u001b[0m\u001b[0;34m)\u001b[0m\u001b[0;34m\u001b[0m\u001b[0m\n\u001b[0m\u001b[1;32m      2\u001b[0m \u001b[0mBR_surf_dic_1st\u001b[0m \u001b[0;34m=\u001b[0m \u001b[0mw\u001b[0m\u001b[0;34m[\u001b[0m\u001b[0;34m'model_output'\u001b[0m\u001b[0;34m]\u001b[0m\u001b[0;34m[\u001b[0m\u001b[0;34m'surf_dic_1st'\u001b[0m\u001b[0;34m]\u001b[0m\u001b[0;34m[\u001b[0m\u001b[0;34m:\u001b[0m\u001b[0;34m]\u001b[0m\u001b[0;34m\u001b[0m\u001b[0m\n\u001b[1;32m      3\u001b[0m \u001b[0mBR_surf_dic_2nd\u001b[0m \u001b[0;34m=\u001b[0m \u001b[0mw\u001b[0m\u001b[0;34m[\u001b[0m\u001b[0;34m'model_output'\u001b[0m\u001b[0;34m]\u001b[0m\u001b[0;34m[\u001b[0m\u001b[0;34m'surf_dic_2nd'\u001b[0m\u001b[0;34m]\u001b[0m\u001b[0;34m[\u001b[0m\u001b[0;34m:\u001b[0m\u001b[0;34m]\u001b[0m\u001b[0;34m\u001b[0m\u001b[0m\n\u001b[1;32m      4\u001b[0m \u001b[0mBR_surf_nit_1st\u001b[0m \u001b[0;34m=\u001b[0m \u001b[0mw\u001b[0m\u001b[0;34m[\u001b[0m\u001b[0;34m'model_output'\u001b[0m\u001b[0;34m]\u001b[0m\u001b[0;34m[\u001b[0m\u001b[0;34m'surf_nit_1st'\u001b[0m\u001b[0;34m]\u001b[0m\u001b[0;34m[\u001b[0m\u001b[0;34m:\u001b[0m\u001b[0;34m]\u001b[0m\u001b[0;34m\u001b[0m\u001b[0m\n\u001b[1;32m      5\u001b[0m \u001b[0mBR_surf_nit_2nd\u001b[0m \u001b[0;34m=\u001b[0m \u001b[0mw\u001b[0m\u001b[0;34m[\u001b[0m\u001b[0;34m'model_output'\u001b[0m\u001b[0;34m]\u001b[0m\u001b[0;34m[\u001b[0m\u001b[0;34m'surf_nit_2nd'\u001b[0m\u001b[0;34m]\u001b[0m\u001b[0;34m[\u001b[0m\u001b[0;34m:\u001b[0m\u001b[0;34m]\u001b[0m\u001b[0;34m\u001b[0m\u001b[0m\n",
      "\u001b[0;32mnetCDF4/_netCDF4.pyx\u001b[0m in \u001b[0;36mnetCDF4._netCDF4.Dataset.__init__ (netCDF4/_netCDF4.c:13231)\u001b[0;34m()\u001b[0m\n",
      "\u001b[0;31mOSError\u001b[0m: No such file or directory"
     ]
    }
   ],
   "source": [
    "w =nc.Dataset('/data/tjarniko/MEOPAR/analysis-tereza/notebooks/carbon_dev/PI_CARBON_PAPER/MAIN_ANALYSIS/CLEAN/NCS/SPINUP_BR2015_to1231.nc')\n",
    "BR_surf_dic_1st = w['model_output']['surf_dic_1st'][:]\n",
    "BR_surf_dic_2nd = w['model_output']['surf_dic_2nd'][:]\n",
    "BR_surf_nit_1st = w['model_output']['surf_nit_1st'][:]\n",
    "BR_surf_nit_2nd = w['model_output']['surf_nit_2nd'][:]\n",
    "BR_surf_sal_1st = w['model_output']['surf_sal_1st'][:]\n",
    "BR_surf_sal_2nd = w['model_output']['surf_sal_2nd'][:]\n",
    "\n",
    "ts_BR = np.arange(0,len(BR_surf_sal_2nd),1)\n",
    "\n",
    "w =nc.Dataset('/data/tjarniko/MEOPAR/analysis-tereza/notebooks/carbon_dev/PI_CARBON_PAPER/MAIN_ANALYSIS/CLEAN/NCS/SPINUP_PI2015_to1229.nc')\n",
    "PI_surf_dic_1st = w['model_output']['surf_dic_1st'][:]\n",
    "PI_surf_dic_2nd = w['model_output']['surf_dic_2nd'][:]\n",
    "PI_surf_nit_1st = w['model_output']['surf_nit_1st'][:]\n",
    "PI_surf_nit_2nd = w['model_output']['surf_nit_2nd'][:]\n",
    "PI_surf_sal_1st = w['model_output']['surf_sal_1st'][:]\n",
    "PI_surf_sal_2nd = w['model_output']['surf_sal_2nd'][:]\n",
    "ts_PI = np.arange(0,len(PI_surf_sal_2nd),1)\n"
   ]
  },
  {
   "cell_type": "code",
   "execution_count": null,
   "metadata": {
    "collapsed": true
   },
   "outputs": [],
   "source": [
    "figstring = 'this'\n",
    "fig = plt.figure(figsize=(10,8))\n",
    "\n",
    "ax = fig.add_subplot(3,1,1)\n",
    "ax.plot(ts_BR,BR_surf_dic_1st,color = 'red',label = '2015 spinup BR')\n",
    "ax.plot(ts_BR,BR_surf_dic_2nd,color = 'brown', label = '2015 2nd BR')\n",
    "\n",
    "ax.plot(ts_PI,PI_surf_dic_1st,color = 'dimgrey',label = '2015 spinup PI')\n",
    "ax.plot(ts_PI,PI_surf_dic_2nd,color = 'black', label = '2015 2nd PI')\n",
    "ax.legend(loc = 'best')\n",
    "\n",
    "plt.xlim([0,365])\n",
    "plt.title('Cumulative surface DIC')\n",
    "\n",
    "ax = fig.add_subplot(3,1,2)\n",
    "ax.plot(ts_BR,BR_surf_nit_1st,color = 'red',label = '2015 spinup BR')\n",
    "ax.plot(ts_BR,BR_surf_nit_2nd,color = 'brown', label = '2015 2nd BR')\n",
    "\n",
    "ax.plot(ts_PI,PI_surf_nit_1st,color = 'dimgrey',label = '2015 spinup PI')\n",
    "ax.plot(ts_PI,PI_surf_nit_2nd,color = 'black', label = '2015 2nd PI')\n",
    "ax.legend(loc = 'best')\n",
    "\n",
    "plt.xlim([0,365])\n",
    "plt.title('Cumulative surface NIT')\n",
    "\n",
    "ax = fig.add_subplot(3,1,3)\n",
    "ax.plot(ts_BR,BR_surf_sal_1st,color = 'red',label = '2015 spinup BR')\n",
    "ax.plot(ts_BR,BR_surf_sal_2nd,color = 'brown', label = '2015 2nd BR')\n",
    "\n",
    "ax.plot(ts_PI,PI_surf_sal_1st,color = 'dimgrey',label = '2015 spinup PI')\n",
    "ax.plot(ts_PI,PI_surf_sal_2nd,color = 'black', label = '2015 2nd PI')\n",
    "ax.legend(loc = 'best')\n",
    "\n",
    "plt.xlim([0,365])\n",
    "plt.title('Cumulative surface sal')\n",
    "plt.show()\n",
    "\n",
    "t_figstring = './FIGS/' + figstring + 'cumuflx.jpg'\n",
    "\n",
    "\n",
    "#fig.savefig(t_figstring)\n"
   ]
  },
  {
   "cell_type": "code",
   "execution_count": null,
   "metadata": {
    "collapsed": true
   },
   "outputs": [],
   "source": []
  },
  {
   "cell_type": "code",
   "execution_count": null,
   "metadata": {
    "collapsed": true
   },
   "outputs": [],
   "source": [
    "figstring = 'this'\n",
    "fig = plt.figure(figsize=(10,8))\n",
    "\n",
    "ax = fig.add_subplot(3,1,1)\n",
    "ax.plot(ts_BR,BR_surf_dic_1st - BR_surf_dic_2nd ,color = 'red',label = '2015 spinup BR - 2nd BR')\n",
    "ax.plot(ts_PI,PI_surf_dic_1st-PI_surf_dic_2nd,color = 'dimgrey',label = '2015 spinup PI - 2nd PI')\n",
    "\n",
    "ax.legend(loc = 'best')\n",
    "\n",
    "plt.xlim([0,365])\n",
    "plt.title('Cumulative surface DIC difference')\n",
    "\n",
    "ax = fig.add_subplot(3,1,2)\n",
    "ax.plot(ts_BR,BR_surf_nit_1st-BR_surf_nit_2nd,color = 'red',label = '2015 spinup BR - 2nd BR')\n",
    "ax.plot(ts_PI,PI_surf_nit_1st-PI_surf_nit_2nd,color = 'dimgrey',label = '2015 spinup PI - 2nd PI')\n",
    "\n",
    "ax.legend(loc = 'best')\n",
    "\n",
    "plt.xlim([0,365])\n",
    "plt.title('Cumulative surface NIT difference')\n",
    "\n",
    "ax = fig.add_subplot(3,1,3)\n",
    "ax.plot(ts_BR,BR_surf_sal_1st-BR_surf_sal_2nd,color = 'red',label = '2015 spinup BR - 2nd BR')\n",
    "ax.plot(ts_PI,PI_surf_sal_1st-PI_surf_sal_2nd,color = 'dimgrey',label = '2015 spinup PI - 2nd PI')\n",
    "\n",
    "ax.legend(loc = 'best')\n",
    "\n",
    "plt.xlim([0,365])\n",
    "plt.title('Cumulative surface sal difference')\n",
    "plt.show()\n",
    "\n",
    "t_figstring = './FIGS/' + figstring + 'cumuflx.jpg'\n",
    "\n",
    "\n",
    "#fig.savefig(t_figstring)\n"
   ]
  },
  {
   "cell_type": "code",
   "execution_count": null,
   "metadata": {
    "collapsed": true
   },
   "outputs": [],
   "source": []
  }
 ],
 "metadata": {
  "kernelspec": {
   "display_name": "Python 3",
   "language": "python",
   "name": "python3"
  },
  "language_info": {
   "codemirror_mode": {
    "name": "ipython",
    "version": 3
   },
   "file_extension": ".py",
   "mimetype": "text/x-python",
   "name": "python",
   "nbconvert_exporter": "python",
   "pygments_lexer": "ipython3",
   "version": "3.6.0"
  }
 },
 "nbformat": 4,
 "nbformat_minor": 2
}
