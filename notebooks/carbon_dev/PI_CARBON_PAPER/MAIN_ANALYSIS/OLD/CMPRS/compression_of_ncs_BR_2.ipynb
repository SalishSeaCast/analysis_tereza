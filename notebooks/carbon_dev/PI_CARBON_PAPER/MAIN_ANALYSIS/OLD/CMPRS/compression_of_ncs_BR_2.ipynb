{
 "cells": [
  {
   "cell_type": "code",
   "execution_count": null,
   "metadata": {},
   "outputs": [
    {
     "name": "stderr",
     "output_type": "stream",
     "text": [
      "/home/tjarniko/anaconda3/lib/python3.6/site-packages/matplotlib/__init__.py:1357: UserWarning:  This call to matplotlib.use() has no effect\n",
      "because the backend has already been chosen;\n",
      "matplotlib.use() must be called *before* pylab, matplotlib.pyplot,\n",
      "or matplotlib.backends is imported for the first time.\n",
      "\n",
      "  warnings.warn(_use_error_msg)\n"
     ]
    }
   ],
   "source": [
    "from __future__ import print_function\n",
    "from numpy import *\n",
    "from scipy import *\n",
    "import netCDF4 as nc\n",
    "import numpy as np\n",
    "import scipy as sp\n",
    "import seawater\n",
    "\n",
    "import datetime as dt\n",
    "import sys\n",
    "import subprocess\n",
    "# import river_201702 as rv\n",
    "\"\"\n",
    "from salishsea_tools import (\n",
    "    nc_tools,\n",
    "    viz_tools, \n",
    "    geo_tools,\n",
    "    tidetools\n",
    ")\n",
    "import matplotlib.pyplot as plt\n",
    "#matplotlib.use('Agg')\n",
    "import matplotlib.patches as patches\n",
    "plt.style.use('seaborn-whitegrid')\n",
    "import netCDF4 as nc\n",
    "\n",
    "import cmocean as cm\n",
    "import glob\n",
    "import sys\n",
    "sys.path.append('/data/tjarniko/mocsy')\n",
    "sys.path.append('/data/tjarniko/MEOPAR/at3/notebooks/carbon_dev/CCCmaDEV/CCCma_src')\n",
    "sys.path.append('/data/tjarniko/MEOPAR/tools/SalishSeaTools/salishsea_tools/')\n",
    "import mocsy\n",
    "import CCCma\n",
    "import CCCma_stations as cs\n",
    "from matplotlib import reload\n",
    "import arrow\n",
    "import gsw\n",
    "\n",
    "%matplotlib inline"
   ]
  },
  {
   "cell_type": "code",
   "execution_count": 1,
   "metadata": {},
   "outputs": [],
   "source": [
    "import glob\n",
    "import subprocess\n",
    "\n",
    "for fn in glob.iglob('/data/tjarniko/results/BR_2nd_2015_cop/SKOG_2/ncs/*.nc'):\n",
    "    print(fn)\n",
    "    output_fn = fn\n",
    "    \n",
    "    subprocess.run(['ncks', '-4', '-L4', '-O', fn, output_fn])\n",
    "    \n",
    "#     output = subprocess.call(['ncks', '-4', '-L', '-0', '-o', fn, output_fn], shell=True)\n",
    "# #     print(output)"
   ]
  },
  {
   "cell_type": "code",
   "execution_count": null,
   "metadata": {
    "collapsed": true
   },
   "outputs": [],
   "source": []
  }
 ],
 "metadata": {
  "kernelspec": {
   "display_name": "Python 3",
   "language": "python",
   "name": "python3"
  },
  "language_info": {
   "codemirror_mode": {
    "name": "ipython",
    "version": 3
   },
   "file_extension": ".py",
   "mimetype": "text/x-python",
   "name": "python",
   "nbconvert_exporter": "python",
   "pygments_lexer": "ipython3",
   "version": "3.6.0"
  }
 },
 "nbformat": 4,
 "nbformat_minor": 2
}
