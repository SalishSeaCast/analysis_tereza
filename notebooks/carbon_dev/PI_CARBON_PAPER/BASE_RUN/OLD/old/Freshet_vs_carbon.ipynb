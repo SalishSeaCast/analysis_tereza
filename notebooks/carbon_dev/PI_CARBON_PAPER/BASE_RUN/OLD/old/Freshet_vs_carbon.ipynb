{
 "cells": [
  {
   "cell_type": "code",
   "execution_count": 1,
   "metadata": {},
   "outputs": [
    {
     "name": "stderr",
     "output_type": "stream",
     "text": [
      "/home/tjarniko/anaconda3/lib/python3.6/site-packages/matplotlib/__init__.py:1357: UserWarning:  This call to matplotlib.use() has no effect\n",
      "because the backend has already been chosen;\n",
      "matplotlib.use() must be called *before* pylab, matplotlib.pyplot,\n",
      "or matplotlib.backends is imported for the first time.\n",
      "\n",
      "  warnings.warn(_use_error_msg)\n"
     ]
    }
   ],
   "source": [
    "from __future__ import print_function\n",
    "from numpy import *\n",
    "from scipy import *\n",
    "import netCDF4 as nc\n",
    "import numpy as np\n",
    "import scipy as sp\n",
    "import seawater\n",
    "import datetime as dt\n",
    "import sys\n",
    "sys.path.append('/data/tjarniko/MEOPAR/tools/SalishSeaTools/salishsea_tools/')\n",
    "sys.path.append('/data/tjarniko/mocsy')\n",
    "sys.path.append('/data/tjarniko/MEOPAR/at3/notebooks/carbon_dev/CCCmaDEV/CCCma_src')\n",
    "import mocsy\n",
    "import river_201702 as rv\n",
    "\"\"\n",
    "from salishsea_tools import (\n",
    "    nc_tools,\n",
    "    viz_tools, \n",
    "    geo_tools,\n",
    "    tidetools\n",
    ")\n",
    "import matplotlib.pyplot as plt\n",
    "#matplotlib.use('Agg')\n",
    "import matplotlib.patches as patches\n",
    "plt.style.use('seaborn-whitegrid')\n",
    "import netCDF4 as nc\n",
    "\n",
    "import cmocean as cm\n",
    "import glob\n",
    "\n",
    "\n",
    "import mocsy\n",
    "import CCCma\n",
    "import CCCma_stations as cs\n",
    "from matplotlib import reload\n",
    "import arrow\n",
    "import gsw\n",
    "\n",
    "%matplotlib inline"
   ]
  },
  {
   "cell_type": "code",
   "execution_count": 13,
   "metadata": {},
   "outputs": [],
   "source": [
    "start = '2015-01-01'\n",
    "end = '2015-12-31'\n",
    "\n",
    "start_run = arrow.get(start)\n",
    "end_run = arrow.get(end)\n",
    "arrow_array = []\n",
    "date_array = []\n",
    "for r in arrow.Arrow.span_range('day', start_run, end_run):\n",
    "    arrow_array.append(r)\n",
    "\n",
    "for i in range(0,len(arrow_array)):\n",
    "    r = arrow_array[i][0]\n",
    "    yyyymmdd = r.format('YYYYMMDD')\n",
    "    tstr = 'y'+str(yyyymmdd[0:4]) + 'm' + str(yyyymmdd[4:6]) + 'd' + str(yyyymmdd[6:8])\n",
    "    date_array.append(tstr)\n",
    "    \n",
    "Fraser_disc = np.zeros(365)\n",
    "fras_i = 500\n",
    "fras_j = 394\n",
    "\n",
    "for i in range(0,len(Fraser_disc)):\n",
    "    tdir = '/results/forcing/rivers/'\n",
    "    tstr = 'RFraserCElse_' + date_array[i] +'.nc'\n",
    "\n",
    "    w = nc.Dataset(tdir + tstr)\n",
    "    t_disc = w['rorunoff'][0,fras_i,fras_j]\n",
    "    Fraser_disc[i] = t_disc\n",
    "    \n",
    "    "
   ]
  },
  {
   "cell_type": "code",
   "execution_count": 11,
   "metadata": {},
   "outputs": [
    {
     "data": {
      "text/plain": [
       "<class 'netCDF4._netCDF4.Dataset'>\n",
       "root group (NETCDF4 data model, file format HDF5):\n",
       "    description: Real Fraser Values, Daily Climatology for Other Rivers\n",
       "    dimensions(sizes): x(398), y(898), time_counter(1)\n",
       "    variables(dimensions): float32 \u001b[4mnav_lat\u001b[0m(y,x), float32 \u001b[4mnav_lon\u001b[0m(y,x), float32 \u001b[4mtime_counter\u001b[0m(time_counter), float32 \u001b[4mrorunoff\u001b[0m(time_counter,y,x), float32 \u001b[4mrodepth\u001b[0m(y,x)\n",
       "    groups: "
      ]
     },
     "execution_count": 11,
     "metadata": {},
     "output_type": "execute_result"
    }
   ],
   "source": [
    "w"
   ]
  },
  {
   "cell_type": "code",
   "execution_count": 4,
   "metadata": {},
   "outputs": [
    {
     "data": {
      "text/plain": [
       "{'Chuckanut': {'depth': 1,\n",
       "  'di': 1,\n",
       "  'dj': 1,\n",
       "  'i': 298,\n",
       "  'j': 361,\n",
       "  'prop': 0.00064},\n",
       " 'Dakota': {'depth': 1, 'di': 1, 'dj': 1, 'i': 363, 'j': 357, 'prop': 0.00096},\n",
       " 'Fraser': {'depth': 3, 'di': 1, 'dj': 1, 'i': 500, 'j': 394, 'prop': 0.984},\n",
       " 'Lakethingo': {'depth': 1,\n",
       "  'di': 1,\n",
       "  'dj': 1,\n",
       "  'i': 302,\n",
       "  'j': 367,\n",
       "  'prop': 0.00096},\n",
       " 'Nooksack': {'depth': 1, 'di': 1, 'dj': 4, 'i': 312, 'j': 354, 'prop': 0.012},\n",
       " 'Squallum': {'depth': 1,\n",
       "  'di': 1,\n",
       "  'dj': 1,\n",
       "  'i': 305,\n",
       "  'j': 365,\n",
       "  'prop': 0.0008},\n",
       " 'Terrel': {'depth': 1, 'di': 1, 'dj': 1, 'i': 353, 'j': 350, 'prop': 0.00064}}"
      ]
     },
     "execution_count": 4,
     "metadata": {},
     "output_type": "execute_result"
    }
   ],
   "source": [
    "rv.prop_dict['fraser']"
   ]
  },
  {
   "cell_type": "code",
   "execution_count": null,
   "metadata": {
    "collapsed": true
   },
   "outputs": [],
   "source": []
  }
 ],
 "metadata": {
  "kernelspec": {
   "display_name": "Python 3",
   "language": "python",
   "name": "python3"
  },
  "language_info": {
   "codemirror_mode": {
    "name": "ipython",
    "version": 3
   },
   "file_extension": ".py",
   "mimetype": "text/x-python",
   "name": "python",
   "nbconvert_exporter": "python",
   "pygments_lexer": "ipython3",
   "version": "3.6.0"
  }
 },
 "nbformat": 4,
 "nbformat_minor": 2
}
