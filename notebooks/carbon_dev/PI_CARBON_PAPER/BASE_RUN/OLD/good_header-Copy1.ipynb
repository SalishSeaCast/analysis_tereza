{
 "cells": [
  {
   "cell_type": "code",
   "execution_count": 10,
   "metadata": {},
   "outputs": [
    {
     "name": "stdout",
     "output_type": "stream",
     "text": [
      "Once deleted, variables cannot be recovered. Proceed (y/[n])? y\n",
      "Help on module VIZ_plots:\n",
      "\n",
      "NAME\n",
      "    VIZ_plots\n",
      "\n",
      "FUNCTIONS\n",
      "    ONC_animator(plotdat, tstart, tend, v_min, v_max, stepsize, tit1, tit2, figtit, dirstr, tcmap, clabel, indexer)\n",
      "    \n",
      "    animate_surf(hrly_dat, tit, v_min, v_max, t_cmap)\n",
      "        TESTED\n",
      "    \n",
      "    nice_CN_plot(tit1, tit2, plotdat, physdat, t, v_min, v_max, tcmap, clabel)\n",
      "        NOT TESTED\n",
      "    \n",
      "    one_panel_plot(surfdat_1, tit1, t_cmap, xsize, ysize, v_min1, v_max1, cl1, bigtit)\n",
      "        TESTED\n",
      "    \n",
      "    phpco2om_plot(surfdat_1, surfdat_2, surfdat_3, tit1, tit2, tit3, t_cmap1, t_cmap2, t_cmap3, xsize, ysize, v_min1, v_max1, v_min2, v_max2, v_min3, v_max3, cl1, cl2, cl3, bigtit, dirstr, ind)\n",
      "        TESTED\n",
      "    \n",
      "    thalweg_animator(plotdat, tstart, tend, vmin, vmax, stepsize, tit, tit2, figtit, dirstr, indexer, t_cmap, clabel)\n",
      "        TESTED\n",
      "    \n",
      "    two_panel_plot(surfdat_1, surfdat_2, tit1, tit2, t_cmap, xsize, ysize, v_min1, v_max1, v_min2, v_max2, cl1, cl2, bigtit)\n",
      "        TESTED\n",
      "\n",
      "FILE\n",
      "    /data/tjarniko/MEOPAR/at3/notebooks/carbon_dev/VIZ/VIZ_plots.py\n",
      "\n",
      "\n"
     ]
    }
   ],
   "source": [
    "from __future__ import print_function\n",
    "from numpy import *\n",
    "from scipy import *\n",
    "import netCDF4 as nc\n",
    "import numpy as np\n",
    "import scipy as sp\n",
    "import seawater\n",
    "import datetime as dt\n",
    "sys.path.append('/data/tjarniko/MEOPAR/tools/SalishSeaTools/salishsea_tools/')\n",
    "import mocsy\n",
    "import river_201702 as rv\n",
    "\"\"\n",
    "from salishsea_tools import (\n",
    "    nc_tools,\n",
    "    viz_tools, \n",
    "    geo_tools,\n",
    "    tidetools\n",
    ")\n",
    "import matplotlib.pyplot as plt\n",
    "#matplotlib.use('Agg')\n",
    "import matplotlib.patches as patches\n",
    "plt.style.use('seaborn-whitegrid')\n",
    "import netCDF4 as nc\n",
    "\n",
    "import cmocean as cm\n",
    "import glob\n",
    "import sys\n",
    "sys.path.append('/data/tjarniko/mocsy')\n",
    "sys.path.append('/data/tjarniko/MEOPAR/at3/notebooks/carbon_dev/CCCmaDEV/CCCma_src')\n",
    "import mocsy\n",
    "import CCCma\n",
    "import CCCma_stations as cs\n",
    "from matplotlib import reload\n",
    "import arrow\n",
    "import gsw\n",
    "\n",
    "%matplotlib inline"
   ]
  },
  {
   "cell_type": "code",
   "execution_count": 2,
   "metadata": {},
   "outputs": [
    {
     "ename": "ModuleNotFoundError",
     "evalue": "No module named 'nco'",
     "output_type": "error",
     "traceback": [
      "\u001b[0;31m-------------------------------------\u001b[0m",
      "\u001b[0;31mModuleNotFoundError\u001b[0mTraceback (most recent call last)",
      "\u001b[0;32m<ipython-input-2-16d07a6501f3>\u001b[0m in \u001b[0;36m<module>\u001b[0;34m()\u001b[0m\n\u001b[0;32m----> 1\u001b[0;31m \u001b[0;32mfrom\u001b[0m \u001b[0mnco\u001b[0m \u001b[0;32mimport\u001b[0m \u001b[0mNco\u001b[0m\u001b[0;34m\u001b[0m\u001b[0m\n\u001b[0m",
      "\u001b[0;31mModuleNotFoundError\u001b[0m: No module named 'nco'"
     ]
    }
   ],
   "source": [
    "from nco import Nco"
   ]
  },
  {
   "cell_type": "code",
   "execution_count": null,
   "metadata": {
    "collapsed": true
   },
   "outputs": [],
   "source": []
  }
 ],
 "metadata": {
  "kernelspec": {
   "display_name": "Python 3",
   "language": "python",
   "name": "python3"
  },
  "language_info": {
   "codemirror_mode": {
    "name": "ipython",
    "version": 3
   },
   "file_extension": ".py",
   "mimetype": "text/x-python",
   "name": "python",
   "nbconvert_exporter": "python",
   "pygments_lexer": "ipython3",
   "version": "3.6.0"
  }
 },
 "nbformat": 4,
 "nbformat_minor": 2
}
