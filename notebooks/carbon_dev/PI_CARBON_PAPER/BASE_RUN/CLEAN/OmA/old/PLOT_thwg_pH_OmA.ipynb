{
 "cells": [
  {
   "cell_type": "code",
   "execution_count": 1,
   "metadata": {},
   "outputs": [
    {
     "name": "stdout",
     "output_type": "stream",
     "text": [
      "Once deleted, variables cannot be recovered. Proceed (y/[n])? y\n"
     ]
    }
   ],
   "source": [
    "%reset"
   ]
  },
  {
   "cell_type": "code",
   "execution_count": 2,
   "metadata": {},
   "outputs": [
    {
     "data": {
      "text/html": [
       "<script>\n",
       "code_show=true; \n",
       "function code_toggle() {\n",
       " if (code_show){\n",
       " $('div.input').hide();\n",
       " } else {\n",
       " $('div.input').show();\n",
       " }\n",
       " code_show = !code_show\n",
       "} \n",
       "$( document ).ready(code_toggle);\n",
       "</script>\n",
       "<form action=\"javascript:code_toggle()\"><input type=\"submit\" value=\"Click here to toggle on/off the raw code.\"></form>"
      ],
      "text/plain": [
       "<IPython.core.display.HTML object>"
      ]
     },
     "execution_count": 2,
     "metadata": {},
     "output_type": "execute_result"
    }
   ],
   "source": [
    "from IPython.display import HTML\n",
    "\n",
    "HTML('''<script>\n",
    "code_show=true; \n",
    "function code_toggle() {\n",
    " if (code_show){\n",
    " $('div.input').hide();\n",
    " } else {\n",
    " $('div.input').show();\n",
    " }\n",
    " code_show = !code_show\n",
    "} \n",
    "$( document ).ready(code_toggle);\n",
    "</script>\n",
    "<form action=\"javascript:code_toggle()\"><input type=\"submit\" value=\"Click here to toggle on/off the raw code.\"></form>''')"
   ]
  },
  {
   "cell_type": "code",
   "execution_count": 2,
   "metadata": {},
   "outputs": [],
   "source": [
    "from __future__ import print_function\n",
    "from numpy import *\n",
    "from scipy import *\n",
    "import netCDF4 as nc\n",
    "import numpy as np\n",
    "import scipy as sp\n",
    "import seawater\n",
    "import datetime as dt\n",
    "\n",
    "\"\"\n",
    "from salishsea_tools import (\n",
    "    nc_tools,\n",
    "    viz_tools, \n",
    "    geo_tools,\n",
    "    tidetools\n",
    ")\n",
    "from salishsea_tools import visualisations as vis\n",
    "import matplotlib.pyplot as plt\n",
    "#import matplotlib.patches as patches\n",
    "import netCDF4 as nc\n",
    "\n",
    "import cmocean as cm\n",
    "import glob\n",
    "import sys\n",
    "sys.path.append('/data/tjarniko/mocsy')\n",
    "sys.path.append('/data/tjarniko/MEOPAR/at3/notebooks/carbon_dev/CCCmaDEV/CCCma_src')\n",
    "sys.path.append('/data/tjarniko/MEOPAR/tools/SalishSeaTools/salishsea_tools/')\n",
    "import mocsy\n",
    "import river_201702 as rv\n",
    "import mocsy\n",
    "import CCCma\n",
    "import CCCma_stations as cs\n",
    "from matplotlib import reload\n",
    "import arrow\n",
    "import gsw\n",
    "import datetime as dt\n",
    "\n",
    "%matplotlib inline"
   ]
  },
  {
   "cell_type": "markdown",
   "metadata": {},
   "source": [
    "## code to create an array of paths to netcdfs"
   ]
  },
  {
   "cell_type": "code",
   "execution_count": 4,
   "metadata": {
    "collapsed": true
   },
   "outputs": [],
   "source": [
    "def make_nclen(start,end,ftype, sdir):\n",
    "    date_ar = []\n",
    "    sens_ar = []\n",
    "    doy_ar = []\n",
    "    start_run = arrow.get(start)\n",
    "    end_run = arrow.get(end)\n",
    "    arrow_array = []\n",
    "    for r in arrow.Arrow.span_range('day', start_run, end_run):\n",
    "        arrow_array.append(r)\n",
    "\n",
    "    dayslen = len(arrow_array)\n",
    "    for i in range(0,dayslen):\n",
    "        tdate = arrow_array[i][0]\n",
    "        ddmmmyy = tdate.format('DDMMMYY').lower()\n",
    "        ymd = tdate.format('YYYYMMDD')\n",
    "        dddd = tdate.format('DDDD')\n",
    "        nc_sens = sdir + '/SKOG_1d_*'+ ftype +'*' + ymd + '-' + ymd + '.nc'\n",
    "        tnc_sens = glob.glob(nc_sens)\n",
    "        sens_ar.append(tnc_sens[0])\n",
    "        date_ar.append(ddmmmyy)\n",
    "        doy_ar.append(dddd)\n",
    "    return date_ar, sens_ar, doy_ar"
   ]
  },
  {
   "cell_type": "markdown",
   "metadata": {},
   "source": [
    "## wrapper code for mocsy\n",
    "\n",
    "    has to make 1d arrays out of model fields"
   ]
  },
  {
   "cell_type": "code",
   "execution_count": 5,
   "metadata": {
    "collapsed": true
   },
   "outputs": [],
   "source": [
    "def oned_moxy(tsal, ttemp, tdic, tta, pres_atm, depth_this):\n",
    "\n",
    "    size_box = np.shape(tdic)\n",
    "    size_0 = size_box[0]\n",
    "    size_1= size_box[1]\n",
    "    size_2 = size_box[2]\n",
    "\n",
    "    tsra = np.ravel(tsal)\n",
    "    ttera = np.ravel(ttemp)\n",
    "    ttara = np.ravel(tta) * 1e-3\n",
    "    tdra = np.ravel(tdic) * 1e-3\n",
    "    tzero = np.zeros_like(tsra)\n",
    "    tpressure = np.zeros_like(tsra)\n",
    "    tpressure[:] = pres_atm\n",
    "    tdepth = np.ravel(depth_this)\n",
    "    tzero = tpressure * 0 \n",
    "        \n",
    "    tsra_psu = tsra*35/35.16504\n",
    "    ttera_is = gsw.t_from_CT(tsra,ttera,tzero)\n",
    "\n",
    "    response_tup = mocsy.mvars(temp=ttera_is, sal=tsra_psu, alk=ttara, dic=tdra, \n",
    "                       sil=tzero, phos=tzero, patm=tpressure, depth=tdepth, lat=tzero, \n",
    "                        optcon='mol/m3', optt='Tinsitu', optp='m',\n",
    "                        optb = 'l10', optk1k2='m10', optkf = 'dg', optgas = 'Pinsitu')\n",
    "    pH,pco2,fco2,co2,hco3,co3,OmegaA,OmegaC,BetaD,DENis,p,Tis = response_tup\n",
    "\n",
    "    pHr = pH.reshape(size_0,size_1,size_2)\n",
    "    OmAr = OmegaA.reshape(size_0,size_1,size_2)\n",
    "    pco2r = pco2.reshape(size_0,size_1,size_2)\n",
    "    \n",
    "    return pHr, OmAr, pco2r"
   ]
  },
  {
   "cell_type": "code",
   "execution_count": 6,
   "metadata": {},
   "outputs": [
    {
     "name": "stdout",
     "output_type": "stream",
     "text": [
      "1\n",
      "364\n"
     ]
    }
   ],
   "source": [
    "start = '2015-01-01'\n",
    "end = '2015-12-30'\n",
    "\n",
    "st = dt.datetime(2015,1,1)\n",
    "en = dt.datetime(2015,12,30)\n",
    "\n",
    "y_st = st.timetuple().tm_yday\n",
    "print(y_st)\n",
    "y_en = en.timetuple().tm_yday\n",
    "print(y_en)\n",
    "ts_BR = np.arange(y_st,y_en+1,1)\n",
    "\n",
    "sdir_preind = '/data/tjarniko/results/BASERUN_EXP/PI_3rd_2015/ncs/'\n",
    "sdir_br = '/data/tjarniko/results/BASERUN_EXP/BR_2nd_2015/ncs/'\n",
    "\n",
    "dates_preind_carp, files_preind_carp, doy_preind = make_nclen(start,end,'carp', sdir_preind)\n",
    "dates_br_carp, files_br_carp, doy_br = make_nclen(start,end,'carp', sdir_br)\n",
    "dates_preind_grid, files_preind_grid, doy_preind = make_nclen(start,end,'grid_T', sdir_preind)\n",
    "dates_br_grid, files_br_grid, doy_br = make_nclen(start,end,'grid_T', sdir_br)"
   ]
  },
  {
   "cell_type": "code",
   "execution_count": 7,
   "metadata": {
    "collapsed": true
   },
   "outputs": [],
   "source": [
    "day = 90\n",
    "test_br_grid = nc.Dataset(files_br_grid[day])\n",
    "test_br_carp = nc.Dataset(files_br_carp[day])\n",
    "test_preind_grid = nc.Dataset(files_preind_grid[day])\n",
    "test_preind_carp = nc.Dataset(files_preind_carp[day])\n",
    "\n",
    "depth_t = test_br_grid['deptht'][:]\n",
    "\n",
    "a = 40\n",
    "b = 898\n",
    "c = 398\n",
    "d = depth_t\n",
    "depth_broad = np.empty((a, b, c))\n",
    "for b in range(0,898):\n",
    "    for c in range(0,398):\n",
    "        depth_broad[:,b,c] = depth_t"
   ]
  },
  {
   "cell_type": "code",
   "execution_count": 8,
   "metadata": {
    "collapsed": true
   },
   "outputs": [],
   "source": [
    "DIC_br = test_br_carp['dissolved_inorganic_carbon'][0,:,:,:]\n",
    "TA_br = test_br_carp['total_alkalinity'][0,:,:,:]\n",
    "SAL_br = test_br_grid['vosaline'][0,:,:,:]\n",
    "TEMP_br = test_br_grid['votemper'][0,:,:,:]\n",
    "\n",
    "DIC_preind = test_preind_carp['dissolved_inorganic_carbon'][0,:,:,:]\n",
    "TA_preind = test_preind_carp['total_alkalinity'][0,:,:,:]\n",
    "SAL_preind = test_preind_grid['vosaline'][0,:,:,:]\n",
    "TEMP_preind = test_preind_grid['votemper'][0,:,:,:]\n",
    "\n",
    "pHr_preind, OmAr_preind, pco2r_preind = oned_moxy(SAL_preind, TEMP_preind, DIC_preind, TA_preind, 1, depth_broad)\n",
    "pHr_br, OmAr_br, pco2r_br = oned_moxy(SAL_br, TEMP_br, DIC_br, TA_br, 1, depth_broad)\n",
    "\n",
    "bathy = nc.Dataset('/data/tjarniko/MEOPAR/grid/bathymetry_201702.nc')\n",
    "mesh = nc.Dataset('/data/tjarniko/MEOPAR/grid/mesh_mask201702.nc')"
   ]
  },
  {
   "cell_type": "code",
   "execution_count": 9,
   "metadata": {
    "collapsed": true
   },
   "outputs": [],
   "source": [
    "zlevels = (test_br_grid['deptht'])"
   ]
  },
  {
   "cell_type": "code",
   "execution_count": 10,
   "metadata": {
    "collapsed": true
   },
   "outputs": [],
   "source": [
    "\n",
    "# t_cmap = cm.cm.deep\n",
    "# t_vmin = 7.5\n",
    "# t_vmax = 8.5\n",
    "# stepsize = 0.01\n",
    "# fig, (ax1, ax2, ax3) = plt.subplots(3,1,figsize=(10,10))\n",
    "# vis.contour_thalweg(ax1, pHr_preind, bathy, mesh, np.arange(t_vmin, t_vmax, stepsize), cmap = t_cmap)\n",
    "# ax1.set_title('pH - preindustrial, date: '+dates_br_carp[day], fontsize = 18)\n",
    "\n",
    "# t_cmap = cm.cm.deep\n",
    "# t_vmin = 7.5\n",
    "# t_vmax = 8.5\n",
    "# stepsize = 0.01\n",
    "# vis.contour_thalweg(ax2, pHr_br, bathy, mesh, np.arange(t_vmin, t_vmax, stepsize), cmap = t_cmap)\n",
    "# ax2.set_title('pH - present-day, date: '+dates_br_carp[day], fontsize = 18)\n",
    "\n",
    "# t_cmap = cm.cm.balance\n",
    "# t_vmin = -0.2\n",
    "# t_vmax = 0.2\n",
    "# stepsize = 0.01\n",
    "# vis.contour_thalweg(ax3, pHr_br - pHr_preind, bathy, mesh, np.arange(t_vmin, t_vmax, stepsize), cmap = t_cmap)\n",
    "# ax3.set_title('pH - present-day - preindustrial, date: '+dates_br_carp[day], fontsize = 18)\n",
    "\n",
    "# fig.tight_layout()\n",
    "\n",
    "\n"
   ]
  },
  {
   "cell_type": "code",
   "execution_count": 11,
   "metadata": {
    "collapsed": true
   },
   "outputs": [],
   "source": [
    "def contour_thalweg(\n",
    "    axes, var, bathy, mesh_mask, sat_hor, clevels=None,\n",
    "    mesh_mask_depth_var='gdept_0', cmap='hsv', land_colour='burlywood',\n",
    "    xcoord_distance=True,\n",
    "    thalweg_file='/home/sallen/MEOPAR/Tools/bathymetry/thalweg_working.txt',\n",
    "    cbar_args=None,\n",
    "    mesh_args=None,\n",
    "    method='contourf'\n",
    "):\n",
    "\n",
    "    thalweg_pts = np.loadtxt(thalweg_file, delimiter=' ', dtype=int)\n",
    "    depth = mesh_mask.variables[mesh_mask_depth_var][:]\n",
    "    dep_thal, distance, var_thal = load_thalweg(\n",
    "        depth[0, ...], var, bathy['nav_lon'][:], bathy['nav_lat'][:],\n",
    "        thalweg_pts)\n",
    "    if xcoord_distance:\n",
    "        xx_thal = distance\n",
    "        axes.set_xlabel('Distance along thalweg [km]')\n",
    "    else:\n",
    "        xx_thal, _ = np.meshgrid(np.arange(var_thal.shape[-1]), dep_thal[:, 0])\n",
    "        axes.set_xlabel('Thalweg index')\n",
    "    # Determine contour levels\n",
    "    clevels_default = {\n",
    "        'salinity': [\n",
    "            26, 27, 28, 29, 30, 30.2, 30.4, 30.6, 30.8, 31, 32, 33, 34\n",
    "        ],\n",
    "        'temperature': [\n",
    "            6.9, 7, 7.5, 8, 8.5, 9, 9.8, 9.9, 10.3, 10.5, 11, 11.5, 12,\n",
    "            13, 14, 15, 16, 17, 18, 19\n",
    "        ]\n",
    "    }\n",
    "    if isinstance(clevels, str):\n",
    "        try:\n",
    "            clevels = clevels_default[clevels]\n",
    "        except KeyError:\n",
    "            raise KeyError('no default clevels defined for {}'.format(clevels))\n",
    "    # Prepare for plotting by filling in grid points just above bathymetry\n",
    "    var_plot = _fill_in_bathy(var_thal, mesh_mask, thalweg_pts)\n",
    "\n",
    "    if method == 'pcolormesh':\n",
    "        if mesh_args is None:\n",
    "            mesh = axes.pcolormesh(xx_thal, dep_thal, var_plot, cmap=cmap)\n",
    "\n",
    "        else:\n",
    "            mesh = axes.pcolormesh(xx_thal, dep_thal, var_plot, cmap=cmap, **mesh_args)\n",
    "\n",
    "        axes.set_xlim((np.min(xx_thal),np.max(xx_thal)))\n",
    "\n",
    "           \n",
    "    else:\n",
    "        if mesh_args is None:\n",
    "            mesh = axes.contourf(xx_thal, dep_thal, var_plot, clevels, cmap=cmap,\n",
    "                        extend='both')\n",
    "            print(np.shape(xx_thal))\n",
    "            print(np.shape(dep_thal))\n",
    "            axes.plot( xx_thal[20,:],sat_hor[:], '-k')\n",
    "            #axes.plot([-1, 1], [-1, 1], '-k')\n",
    "\n",
    "        else:\n",
    "            mesh = axes.contourf(xx_thal, dep_thal, var_plot, clevels, cmap=cmap,\n",
    "                        extend='both', **mesh_args)\n",
    "\n",
    "    _add_bathy_patch(\n",
    "        xx_thal, bathy['Bathymetry'][:], thalweg_pts, axes, color=land_colour)\n",
    "    #if cbar_args is None:\n",
    "    #    cbar = plt.colorbar(mesh, ax=axes)\n",
    "    #else:\n",
    "    #    cbar = plt.colorbar(mesh, ax=axes, **cbar_args)\n",
    "    cbar = 0\n",
    "    axes.invert_yaxis()\n",
    "    axes.set_ylabel('Depth [m]')\n",
    "    return cbar\n",
    "\n",
    "\n",
    "\n",
    "def _add_bathy_patch(xcoord, bathy, thalweg_pts, ax, color, zmin=450):\n",
    "\n",
    "    # Look up bottom bathymetry along thalweg\n",
    "    thalweg_bottom = bathy[thalweg_pts[:, 0], thalweg_pts[:, 1]]\n",
    "    # Construct bathy polygon\n",
    "    poly = np.zeros((thalweg_bottom.shape[0]+2, 2))\n",
    "    poly[0, :] = 0, zmin\n",
    "    poly[1:-1, 0] = xcoord[0, :]\n",
    "    poly[1:-1:, 1] = thalweg_bottom\n",
    "    poly[-1, :] = xcoord[0, -1], zmin\n",
    "    ax.add_patch(patches.Polygon(poly, facecolor=color, edgecolor=color))\n",
    "\n",
    "def load_thalweg(depths, var, lons, lats, thalweg_pts):\n",
    "\n",
    "\n",
    "    lons_thal = lons[thalweg_pts[:, 0], thalweg_pts[:, 1]]\n",
    "    lats_thal = lats[thalweg_pts[:, 0], thalweg_pts[:, 1]]\n",
    "    var_thal = var[:, thalweg_pts[:, 0], thalweg_pts[:, 1]]\n",
    "\n",
    "    xx_thal = geo_tools.distance_along_curve(lons_thal, lats_thal)\n",
    "    xx_thal = xx_thal + np.zeros(var_thal.shape)\n",
    "\n",
    "    if depths.ndim > 1:\n",
    "        dep_thal = depths[:, thalweg_pts[:, 0], thalweg_pts[:, 1]]\n",
    "    else:\n",
    "        _, dep_thal = np.meshgrid(xx_thal[0, :], depths)\n",
    "    return dep_thal, xx_thal, var_thal\n",
    "\n",
    "def _fill_in_bathy(variable, mesh_mask, thalweg_pts):\n",
    "\n",
    "    mbathy = mesh_mask.variables['mbathy'][0, :, :]\n",
    "    newvar = np.copy(variable)\n",
    "\n",
    "    mbathy = mbathy[thalweg_pts[:, 0], thalweg_pts[:, 1]]\n",
    "    for i, level in enumerate(mbathy):\n",
    "        newvar[level, i] = variable[level-1, i]\n",
    "    return newvar\n",
    "\n",
    "def contour_layer_grid(axes,data,mask,clevels=10,lat=None,lon=None,cmap=None,var_name=None,\n",
    "                       land_colour='burlywood',is_depth_avg=False,is_pcolmesh=False,title='',cbar_args=None):\n",
    "\n",
    "    mdata = np.ma.masked_where(mask==0,data)\n",
    "\n",
    "    viz_tools.set_aspect(axes)\n",
    "\n",
    "    if cmap == None:\n",
    "        cbMIN, cbMAX, cmap = visualisations.retrieve_cmap(var_name,is_depth_avg)\n",
    "        cmap = plt.get_cmap(cmocean.cm.algae)\n",
    "\n",
    "    if is_pcolmesh:\n",
    "        mesh = axes.pcolormesh(mdata, cmap=cmap)\n",
    "    else:\n",
    "        mesh= axes.contourf(mdata,clevels,cmap=cmap)\n",
    "\n",
    "    axes.set_xlabel('X index')\n",
    "    axes.set_ylabel('Y index')\n",
    "    axes.set_title(title)\n",
    "\n",
    "    axes.set_axis_bgcolor(land_colour)\n",
    "\n",
    "\n",
    "    if cbar_args is None:\n",
    "        cbar = plt.colorbar(mesh, ax=axes)\n",
    "    else:\n",
    "        cbar = plt.colorbar(mesh, ax=axes, **cbar_args)\n",
    "\n",
    "    return cbar"
   ]
  },
  {
   "cell_type": "code",
   "execution_count": 12,
   "metadata": {
    "collapsed": true
   },
   "outputs": [],
   "source": [
    "# thalweg_pts = np.loadtxt(thalweg_file, delimiter=' ', dtype=int)\n",
    "# depth = mesh.variables['gdept_0'][:]\n",
    "# dep_thal, distance, var_thal = load_thalweg(\n",
    "#     depth[0, ...], var, bathy['nav_lon'][:], bathy['nav_lat'][:],\n",
    "#     thalweg_pts)\n",
    "# if xcoord_distance:\n",
    "#     xx_thal = distance"
   ]
  },
  {
   "cell_type": "code",
   "execution_count": 13,
   "metadata": {
    "collapsed": true
   },
   "outputs": [],
   "source": [
    "#OmAr_preind\n",
    "\n",
    "# mbathy = mesh_mask.variables['mbathy'][0, :, :]\n",
    "# newvar = np.copy(variable)\n",
    "# section_slice = np.arange(0,1533,1)\n",
    "\n",
    "\n",
    "# xxthal_2 = np.copy(xx_thal)\n",
    "\n",
    "\n",
    "#             print(np.shape(xx_thal))\n",
    "#             print(np.shape(dep_thal))\n",
    "#             axes.plot( xx_thal[20,:],dep_thal[20,:], '-k')\n",
    "#plt.pcolormesh(T_OmAr)\n",
    "# for i, level in enumerate(mbathy):\n",
    "#     newvar[level, i] = variable[level-1, i]\n",
    "\n",
    "# fig, (ax1) = plt.subplots(1,1,figsize=(10,5))\n",
    "# tcmap = cm.cm.balance\n",
    "# cmap = tcmap\n",
    "# cbar1 = ax1.pcolormesh(section_slice[:], zlevels[:], T_OmAr, cmap = cm.cm.balance, vmin = 0, vmax = 2)\n",
    "# ax1.plot(xx_thal[20,:],oma_depths[20,:],'-k')\n",
    "# ax1.invert_yaxis()\n",
    "# land_colour = 'slategrey'\n",
    "# cmap.set_bad(land_colour)"
   ]
  },
  {
   "cell_type": "code",
   "execution_count": 15,
   "metadata": {},
   "outputs": [
    {
     "name": "stdout",
     "output_type": "stream",
     "text": [
      "(40, 1533)\n"
     ]
    }
   ],
   "source": [
    "thalweg_file='/home/sallen/MEOPAR/Tools/bathymetry/thalweg_working.txt'\n",
    "thalweg_pts = np.loadtxt(thalweg_file, delimiter=' ', dtype=int)\n",
    "oma_depths = np.zeros([1533])\n",
    "T_OmAr = OmAr_preind[:,thalweg_pts[:, 0], thalweg_pts[:, 1]]\n",
    "\n",
    "\n",
    "def find_nearest(array, value):\n",
    "    array = np.asarray(array)\n",
    "    idx = (np.abs(array - value)).argmin()\n",
    "    return array[idx], idx\n",
    "\n",
    "print(np.shape(T_OmAr))\n",
    "for i in range(0,1533):\n",
    "    t_slice = T_OmAr[:,i]\n",
    "    val, idx = find_nearest(t_slice,1)\n",
    "    oma_depths[i] = zlevels[idx]\n",
    "    "
   ]
  },
  {
   "cell_type": "code",
   "execution_count": null,
   "metadata": {
    "collapsed": true
   },
   "outputs": [],
   "source": [
    "t_cmap = cm.cm.balance\n",
    "t_vmin_OmA = 0\n",
    "t_vmax_OmA = 2\n",
    "stepsize = 0.01\n",
    "fig, (ax1, ax2, ax3) = plt.subplots(3,1,figsize=(10,10))\n",
    "cbar1 = contour_thalweg(ax1, OmAr_preind, bathy, mesh, oma_depths, np.arange(t_vmin_OmA, t_vmax_OmA, stepsize), cmap = t_cmap)\n",
    "ax1.set_title('April 1, 2015 Aragonite Saturation (Preindustrial Air $CO_2$ levels)', fontsize = 16)\n",
    "ax1.set_ylabel('Depth (m)', fontsize = 20)\n",
    "#cbar1.set_label('$\\Omega_A$', fontsize = 20)\n",
    "ax1.set_xlabel('', fontsize = 20)\n",
    "ax1.tick_params(axis='both', which='major', labelsize=15)\n",
    "ax1.set_xticklabels([])\n",
    "\n",
    "# t_cmap = cm.cm.balance\n",
    "# t_vmin_OmA = 0\n",
    "# t_vmax_OmA = 2\n",
    "# stepsize = 0.01\n",
    "# cbar2 = contour_thalweg(ax2, OmAr_br, bathy, mesh, np.arange(t_vmin_OmA, t_vmax_OmA, stepsize), cmap = t_cmap)\n",
    "# ax2.set_title('April 1, 2015 Aragonite Saturation (Present-day Air $CO_2$ levels)', fontsize = 16)\n",
    "# ax2.set_ylabel('Depth (m)', fontsize = 20)\n",
    "# cbar2.set_label('$\\Omega_A$', fontsize = 20)\n",
    "# ax2.set_xlabel('', fontsize = 20)\n",
    "# ax2.tick_params(axis='both', which='major', labelsize=15)\n",
    "# ax2.set_xticklabels([])\n",
    "\n",
    "# t_cmap = cm.cm.balance\n",
    "# t_vmin = -0.4\n",
    "# t_vmax = 0.4\n",
    "# stepsize = 0.01\n",
    "# cbar = contour_thalweg(ax3, OmAr_br - OmAr_preind, bathy, mesh, np.arange(t_vmin, t_vmax, stepsize), cmap = t_cmap)\n",
    "# ax3.set_title('April 1, 2015 Aragonite Saturation Difference (Present-day - Preindustrial Air $CO_2$ levels)', fontsize = 14.5)\n",
    "# ax3.set_ylabel('Depth (m)', fontsize = 20)\n",
    "# cbar.set_label('$\\Omega_A$', fontsize = 20)\n",
    "# ax3.set_xlabel('Distance along thalweg (km)', fontsize = 20)\n",
    "\n",
    "# ax3.tick_params(axis='both', which='major', labelsize=15)\n",
    "# # cbar.tick_params(labelsize = 15)\n",
    "\n",
    "fig.tight_layout()"
   ]
  },
  {
   "cell_type": "code",
   "execution_count": null,
   "metadata": {
    "collapsed": true
   },
   "outputs": [],
   "source": []
  },
  {
   "cell_type": "code",
   "execution_count": null,
   "metadata": {
    "collapsed": true
   },
   "outputs": [],
   "source": [
    "t_cmap = cm.cm.balance\n",
    "t_vmin_OmA = 0\n",
    "t_vmax_OmA = 2\n",
    "stepsize = 0.01\n",
    "fig, (ax1, ax2, ax3) = plt.subplots(3,1,figsize=(10,10))\n",
    "cbar1 = vis.contour_thalweg(ax1, OmAr_preind, bathy, mesh, np.arange(t_vmin_OmA, t_vmax_OmA, stepsize), cmap = t_cmap)\n",
    "ax1.set_title('April 1, 2015 Aragonite Saturation (Preindustrial Air $CO_2$ levels)', fontsize = 16)\n",
    "ax1.set_ylabel('Depth (m)', fontsize = 20)\n",
    "cbar1.set_label('$\\Omega_A$', fontsize = 20)\n",
    "ax1.set_xlabel('', fontsize = 20)\n",
    "ax1.tick_params(axis='both', which='major', labelsize=15)\n",
    "ax1.set_xticklabels([])\n",
    "\n",
    "t_cmap = cm.cm.balance\n",
    "t_vmin_OmA = 0\n",
    "t_vmax_OmA = 2\n",
    "stepsize = 0.01\n",
    "cbar2 = vis.contour_thalweg(ax2, OmAr_br, bathy, mesh, np.arange(t_vmin_OmA, t_vmax_OmA, stepsize), cmap = t_cmap)\n",
    "ax2.set_title('April 1, 2015 Aragonite Saturation (Present-day Air $CO_2$ levels)', fontsize = 16)\n",
    "ax2.set_ylabel('Depth (m)', fontsize = 20)\n",
    "cbar2.set_label('$\\Omega_A$', fontsize = 20)\n",
    "ax2.set_xlabel('', fontsize = 20)\n",
    "ax2.tick_params(axis='both', which='major', labelsize=15)\n",
    "ax2.set_xticklabels([])\n",
    "\n",
    "t_cmap = cm.cm.balance\n",
    "t_vmin = -0.4\n",
    "t_vmax = 0.4\n",
    "stepsize = 0.01\n",
    "cbar = vis.contour_thalweg(ax3, OmAr_br - OmAr_preind, bathy, mesh, np.arange(t_vmin, t_vmax, stepsize), cmap = t_cmap)\n",
    "ax3.set_title('April 1, 2015 Aragonite Saturation Difference (Present-day - Preindustrial Air $CO_2$ levels)', fontsize = 14.5)\n",
    "ax3.set_ylabel('Depth (m)', fontsize = 20)\n",
    "cbar.set_label('$\\Omega_A$', fontsize = 20)\n",
    "ax3.set_xlabel('Distance along thalweg (km)', fontsize = 20)\n",
    "\n",
    "ax3.tick_params(axis='both', which='major', labelsize=15)\n",
    "\n",
    "fig.tight_layout()"
   ]
  },
  {
   "cell_type": "code",
   "execution_count": null,
   "metadata": {
    "collapsed": true
   },
   "outputs": [],
   "source": [
    "help(vis.contour_thalweg)"
   ]
  },
  {
   "cell_type": "code",
   "execution_count": null,
   "metadata": {
    "collapsed": true
   },
   "outputs": [],
   "source": [
    "\n"
   ]
  },
  {
   "cell_type": "code",
   "execution_count": null,
   "metadata": {
    "collapsed": true
   },
   "outputs": [],
   "source": []
  },
  {
   "cell_type": "code",
   "execution_count": null,
   "metadata": {
    "collapsed": true
   },
   "outputs": [],
   "source": [
    "# thalweg_file='/home/sallen/MEOPAR/Tools/bathymetry/thalweg_working.txt'\n",
    "# thalweg_pts = np.loadtxt(thalweg_file, delimiter=' ', dtype=int)\n",
    "# jss = thalweg_pts[:, 0]\n",
    "# iss = thalweg_pts[:, 1]\n",
    "\n",
    "# t_dat = test_file['dissolved_inorganic_carbon'][0,:,jss,iss]\n",
    "# plt.plot(t_dat)"
   ]
  },
  {
   "cell_type": "markdown",
   "metadata": {},
   "source": [
    " "
   ]
  },
  {
   "cell_type": "markdown",
   "metadata": {
    "collapsed": true
   },
   "source": [
    "then run bash mov5.sh ./FLUX_plot/ TWGDIFF_OmA_2015spunup_\n"
   ]
  },
  {
   "cell_type": "code",
   "execution_count": null,
   "metadata": {
    "collapsed": true
   },
   "outputs": [],
   "source": [
    "from salishsea_tools import visualisations as vis\n",
    "bathy = nc.Dataset('/data/tjarniko/MEOPAR/grid/bathymetry_201702.nc')\n",
    "mesh = nc.Dataset('/data/tjarniko/MEOPAR/grid/mesh_mask201702.nc')\n",
    "\n",
    "startplot = 328\n",
    "\n",
    "for i in range(startplot,len(doy_br)):\n",
    "\n",
    "    print(i)\n",
    "    test_br_grid = nc.Dataset(files_br_grid[i])\n",
    "    test_br_carp = nc.Dataset(files_br_carp[i])\n",
    "    test_preind_grid = nc.Dataset(files_preind_grid[i])\n",
    "    test_preind_carp = nc.Dataset(files_preind_carp[i])\n",
    "    doy = doy_br[i]\n",
    "    tdate = dates_br_carp[i]\n",
    "\n",
    "    DIC_br = test_br_carp['dissolved_inorganic_carbon'][0,:,:,:]\n",
    "    TA_br = test_br_carp['total_alkalinity'][0,:,:,:]\n",
    "    SAL_br = test_br_grid['vosaline'][0,:,:,:]\n",
    "    TEMP_br = test_br_grid['votemper'][0,:,:,:]\n",
    "\n",
    "    DIC_preind = test_preind_carp['dissolved_inorganic_carbon'][0,:,:,:]\n",
    "    TA_preind = test_preind_carp['total_alkalinity'][0,:,:,:]\n",
    "    SAL_preind = test_preind_grid['vosaline'][0,:,:,:]\n",
    "    TEMP_preind = test_preind_grid['votemper'][0,:,:,:]\n",
    "\n",
    "    pHr_preind, OmAr_preind, pco2r_preind = oned_moxy(SAL_preind, TEMP_preind, DIC_preind, TA_preind, 1, depth_broad)\n",
    "    pHr_br, OmAr_br, pco2r_br = oned_moxy(SAL_br, TEMP_br, DIC_br, TA_br, 1, depth_broad)\n",
    "    \n",
    "    t_cmap = cm.cm.deep\n",
    "    t_vmin = 7.5\n",
    "    t_vmax = 8.5\n",
    "    stepsize = 0.01\n",
    "    fig, (ax1, ax2, ax3) = plt.subplots(3,1,figsize=(10,10))\n",
    "    vis.contour_thalweg(ax1, pHr_preind, bathy, mesh, np.arange(t_vmin, t_vmax, stepsize), cmap = t_cmap)\n",
    "    ax1.set_title('pH - preindustrial, date: '+dates_br_carp[i], fontsize = 18)\n",
    "\n",
    "    t_cmap = cm.cm.deep\n",
    "    t_vmin = 7.5\n",
    "    t_vmax = 8.5\n",
    "    stepsize = 0.01\n",
    "    vis.contour_thalweg(ax2, pHr_br, bathy, mesh, np.arange(t_vmin, t_vmax, stepsize), cmap = t_cmap)\n",
    "    ax2.set_title('pH - present-day, date: '+dates_br_carp[i], fontsize = 18)\n",
    "\n",
    "    t_cmap = cm.cm.balance\n",
    "    t_vmin = -0.2\n",
    "    t_vmax = 0.2\n",
    "    stepsize = 0.01\n",
    "    vis.contour_thalweg(ax3, pHr_br - pHr_preind, bathy, mesh, np.arange(t_vmin, t_vmax, stepsize), cmap = t_cmap)\n",
    "    ax3.set_title('pH - present-day - preindustrial, date: '+dates_br_carp[i], fontsize = 18)\n",
    "\n",
    "    fig.tight_layout()\n",
    "    fname = './TWG_DIFF/TWGDIFF_pH_2015spunup_' + doy +'.png'\n",
    "\n",
    "    fig.savefig(fname)\n",
    "    plt.close()\n",
    "\n",
    "    t_cmap_OmA = cm.cm.balance\n",
    "    t_vmin_OmA = 0\n",
    "    t_vmax_OmA = 2\n",
    "    stepsize = 0.01\n",
    "    fig, (ax1, ax2, ax3) = plt.subplots(3,1,figsize=(10,10))\n",
    "    vis.contour_thalweg(ax1, OmAr_preind, bathy, mesh, np.arange(t_vmin_OmA, t_vmax_OmA, stepsize), cmap = t_cmap)\n",
    "    ax1.set_title('Omega A - preindustrial, date: '+dates_br_carp[i], fontsize = 18)\n",
    "\n",
    "    t_cmap = cm.cm.balance\n",
    "    t_vmin_OmA = 0\n",
    "    t_vmax_OmA = 2\n",
    "    stepsize = 0.01\n",
    "    vis.contour_thalweg(ax2, OmAr_br, bathy, mesh, np.arange(t_vmin_OmA, t_vmax_OmA, stepsize), cmap = t_cmap)\n",
    "    ax2.set_title('Omega A - present-day, date: '+dates_br_carp[i], fontsize = 18)\n",
    "\n",
    "    t_cmap = cm.cm.balance\n",
    "    t_vmin = -0.4\n",
    "    t_vmax = 0.4\n",
    "    stepsize = 0.01\n",
    "    vis.contour_thalweg(ax3, OmAr_br - OmAr_preind, bathy, mesh, np.arange(t_vmin, t_vmax, stepsize), cmap = t_cmap)\n",
    "    ax3.set_title('Omega A - present-day - preindustrial, date: '+dates_br_carp[i], fontsize = 18)\n",
    "\n",
    "    fig.tight_layout()\n",
    "    fname = './TWG_DIFF/TWGDIFF_OmA_2015spunup_' + doy +'.png'\n",
    "\n",
    "    fig.savefig(fname)\n",
    "    plt.close()"
   ]
  },
  {
   "cell_type": "code",
   "execution_count": null,
   "metadata": {
    "collapsed": true
   },
   "outputs": [],
   "source": [
    "#190"
   ]
  },
  {
   "cell_type": "code",
   "execution_count": null,
   "metadata": {
    "collapsed": true
   },
   "outputs": [],
   "source": [
    "test_preind_carp = nc.Dataset(files_preind_carp[363])\n",
    "print(test_preind_carp)\n",
    "print(files_preind_carp[363])"
   ]
  },
  {
   "cell_type": "code",
   "execution_count": null,
   "metadata": {
    "collapsed": true
   },
   "outputs": [],
   "source": []
  }
 ],
 "metadata": {
  "kernelspec": {
   "display_name": "Python 3",
   "language": "python",
   "name": "python3"
  },
  "language_info": {
   "codemirror_mode": {
    "name": "ipython",
    "version": 3
   },
   "file_extension": ".py",
   "mimetype": "text/x-python",
   "name": "python",
   "nbconvert_exporter": "python",
   "pygments_lexer": "ipython3",
   "version": "3.6.0"
  }
 },
 "nbformat": 4,
 "nbformat_minor": 2
}
