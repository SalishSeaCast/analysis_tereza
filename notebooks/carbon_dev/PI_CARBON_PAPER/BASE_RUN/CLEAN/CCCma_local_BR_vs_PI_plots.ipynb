{
 "cells": [
  {
   "cell_type": "code",
   "execution_count": 1,
   "metadata": {},
   "outputs": [
    {
     "name": "stdout",
     "output_type": "stream",
     "text": [
      "Once deleted, variables cannot be recovered. Proceed (y/[n])? y\n"
     ]
    }
   ],
   "source": [
    "%reset"
   ]
  },
  {
   "cell_type": "code",
   "execution_count": 2,
   "metadata": {},
   "outputs": [
    {
     "data": {
      "text/html": [
       "<script>\n",
       "code_show=true; \n",
       "function code_toggle() {\n",
       " if (code_show){\n",
       " $('div.input').hide();\n",
       " } else {\n",
       " $('div.input').show();\n",
       " }\n",
       " code_show = !code_show\n",
       "} \n",
       "$( document ).ready(code_toggle);\n",
       "</script>\n",
       "<form action=\"javascript:code_toggle()\"><input type=\"submit\" value=\"Click here to toggle on/off the raw code.\"></form>"
      ],
      "text/plain": [
       "<IPython.core.display.HTML object>"
      ]
     },
     "execution_count": 2,
     "metadata": {},
     "output_type": "execute_result"
    }
   ],
   "source": [
    "from IPython.display import HTML\n",
    "\n",
    "HTML('''<script>\n",
    "code_show=true; \n",
    "function code_toggle() {\n",
    " if (code_show){\n",
    " $('div.input').hide();\n",
    " } else {\n",
    " $('div.input').show();\n",
    " }\n",
    " code_show = !code_show\n",
    "} \n",
    "$( document ).ready(code_toggle);\n",
    "</script>\n",
    "<form action=\"javascript:code_toggle()\"><input type=\"submit\" value=\"Click here to toggle on/off the raw code.\"></form>''')"
   ]
  },
  {
   "cell_type": "code",
   "execution_count": 2,
   "metadata": {},
   "outputs": [
    {
     "name": "stderr",
     "output_type": "stream",
     "text": [
      "/home/tjarniko/anaconda3/lib/python3.6/site-packages/matplotlib/__init__.py:1357: UserWarning:  This call to matplotlib.use() has no effect\n",
      "because the backend has already been chosen;\n",
      "matplotlib.use() must be called *before* pylab, matplotlib.pyplot,\n",
      "or matplotlib.backends is imported for the first time.\n",
      "\n",
      "  warnings.warn(_use_error_msg)\n"
     ]
    }
   ],
   "source": [
    "from __future__ import print_function\n",
    "from numpy import *\n",
    "from scipy import *\n",
    "import matplotlib.pyplot as plt\n",
    "\n",
    "import matplotlib.pyplot as plt\n",
    "import netCDF4 as nc\n",
    "import numpy as np\n",
    "import scipy as sp\n",
    "\n",
    "\n",
    "import seawater\n",
    "import datetime as dt\n",
    "\"\"\n",
    "from salishsea_tools import (\n",
    "    nc_tools,\n",
    "    viz_tools,\n",
    "    geo_tools,\n",
    "    tidetools\n",
    ")\n",
    "\n",
    "import matplotlib\n",
    "matplotlib.use('Agg')\n",
    "import matplotlib.pyplot as plt\n",
    "import matplotlib.patches as patches\n",
    "plt.style.use('seaborn-whitegrid')\n",
    "import netCDF4 as nc\n",
    "\n",
    "import cmocean as cm\n",
    "import glob\n",
    "import sys\n",
    "sys.path.append('/data/tjarniko/mocsy')\n",
    "sys.path.append('/data/tjarniko/MEOPAR/analysis-tereza/notebooks/carbon_dev/BASE_RUN/CLEAN/CCCma_src')\n",
    "import mocsy\n",
    "import CCCma\n",
    "import CCCma_fwk as Cfwk\n",
    "import CCCma_stations as cs\n",
    "from matplotlib import reload\n",
    "import arrow\n",
    "import gsw\n",
    "%matplotlib inline\n",
    "\n",
    "import xarray as xr\n",
    "from datetime import datetime\n",
    "from salishsea_tools import grid_tools, viz_tools\n"
   ]
  },
  {
   "cell_type": "code",
   "execution_count": 22,
   "metadata": {},
   "outputs": [
    {
     "data": {
      "text/plain": [
       "<module 'CCCma_fwk' from '/data/tjarniko/MEOPAR/analysis-tereza/notebooks/carbon_dev/BASE_RUN/CLEAN/CCCma_src/CCCma_fwk.py'>"
      ]
     },
     "execution_count": 22,
     "metadata": {},
     "output_type": "execute_result"
    }
   ],
   "source": []
  },
  {
   "cell_type": "code",
   "execution_count": 15,
   "metadata": {},
   "outputs": [
    {
     "name": "stdout",
     "output_type": "stream",
     "text": [
      "01jan15\n",
      "<class 'netCDF4._netCDF4.Group'>\n",
      "group /Station_Averages:\n",
      "    dimensions(sizes): stn(12), z_pt(3), time(0)\n",
      "    variables(dimensions): float32 \u001b[4mdepth\u001b[0m(z_pt), <class 'str'> \u001b[4mstation\u001b[0m(stn), float32 \u001b[4msal_pt\u001b[0m(stn,z_pt), float32 \u001b[4mtemp_pt\u001b[0m(stn,z_pt), float32 \u001b[4mDIC_pt\u001b[0m(stn,z_pt), float32 \u001b[4mTA_pt\u001b[0m(stn,z_pt), float32 \u001b[4mOmA_pt\u001b[0m(stn,z_pt), float32 \u001b[4mpH_pt\u001b[0m(stn,z_pt), float32 \u001b[4mO2_pt\u001b[0m(stn,z_pt), float32 \u001b[4msal_ptSD\u001b[0m(stn,z_pt), float32 \u001b[4mtemp_ptSD\u001b[0m(stn,z_pt), float32 \u001b[4mDIC_ptSD\u001b[0m(stn,z_pt), float32 \u001b[4mTA_ptSD\u001b[0m(stn,z_pt), float32 \u001b[4mOmA_ptSD\u001b[0m(stn,z_pt), float32 \u001b[4mpH_ptSD\u001b[0m(stn,z_pt), float32 \u001b[4mO2_ptSD\u001b[0m(stn,z_pt)\n",
      "    groups: \n",
      "\n"
     ]
    }
   ],
   "source": [
    "reload(Cfwk)\n",
    "start = '2015-01-01'\n",
    "end = '2015-01-01'\n",
    "\n",
    "start_run = arrow.get(start)\n",
    "end_run = arrow.get(end)\n",
    "arrow_array = []\n",
    "for r in arrow.Arrow.span_range('day', start_run, end_run):\n",
    "    arrow_array.append(r)\n",
    "    \n",
    "run_date = arrow_array[0][0]\n",
    "\n",
    "ddmmmyy = run_date.format('DDMMMYY').lower()\n",
    "print(ddmmmyy)\n",
    "tdir = '/data/tjarniko/MEOPAR/analysis-tereza/notebooks/carbon_dev/BASE_RUN/CLEAN/pngs/'\n",
    "\n",
    "tstr_BR = f'{tdir}BR2015_{ddmmmyy}_prof.nc'\n",
    "td = nc.Dataset(tstr_BR)\n",
    "tstr_PI = f'{tdir}PI2015_{ddmmmyy}_prof.nc'\n",
    "td = nc.Dataset(tstr_PI)\n",
    "print(td['Station_Averages'])\n",
    "# rdir = '/data/tjarniko/MEOPAR/analysis-tereza/notebooks/carbon_dev/BASE_RUN/CLEAN/pngs/BR2015_'\n",
    "# tdir = '/data/tjarniko/results/BASERUN_EXP/BR_2nd_2015/ncs'\n",
    "# Cfwk.range_analyzer(tdir, start,end, rdir, prof = False, ncb = True, surfmap = False, \\\n",
    "#                    buffmap = False, plume = False, pspace = False, pH_T = False)"
   ]
  },
  {
   "cell_type": "code",
   "execution_count": null,
   "metadata": {
    "collapsed": true
   },
   "outputs": [],
   "source": []
  },
  {
   "cell_type": "code",
   "execution_count": null,
   "metadata": {
    "collapsed": true
   },
   "outputs": [],
   "source": []
  }
 ],
 "metadata": {
  "kernelspec": {
   "display_name": "Python 3",
   "language": "python",
   "name": "python3"
  },
  "language_info": {
   "codemirror_mode": {
    "name": "ipython",
    "version": 3
   },
   "file_extension": ".py",
   "mimetype": "text/x-python",
   "name": "python",
   "nbconvert_exporter": "python",
   "pygments_lexer": "ipython3",
   "version": "3.6.0"
  }
 },
 "nbformat": 4,
 "nbformat_minor": 2
}
