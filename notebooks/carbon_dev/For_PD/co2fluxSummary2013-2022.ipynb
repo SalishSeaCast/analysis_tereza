{
 "cells": [
  {
   "cell_type": "code",
   "execution_count": 1,
   "metadata": {},
   "outputs": [],
   "source": [
    "import xarray as xr\n",
    "import pickle\n",
    "import cmocean as cm\n",
    "import matplotlib.pyplot as plt\n",
    "import pickle\n",
    "import netCDF4 as nc\n",
    "import numpy as np\n",
    "plt.style.use('seaborn-whitegrid')\n",
    "import warnings\n",
    "warnings.filterwarnings('ignore')\n",
    "import cmocean as cm\n",
    "import glob\n",
    "from salishsea_tools import viz_tools\n",
    "import arrow\n",
    "\n",
    "%matplotlib inline"
   ]
  },
  {
   "cell_type": "code",
   "execution_count": 2,
   "metadata": {},
   "outputs": [],
   "source": [
    "import time"
   ]
  },
  {
   "cell_type": "markdown",
   "metadata": {},
   "source": [
    "## goal: contemporary climatology of air-sea CO2 fluxes for patrick duke collaboration\n",
    "\n"
   ]
  },
  {
   "cell_type": "markdown",
   "metadata": {},
   "source": [
    "## technical notes from SEA:\n",
    "\n",
    "- using model version 201905, from here:\n",
    "\n",
    "`/results2/SalishSea/nowcast-green.201905/ddmmmyy/SalishSea_1d_YYYYMMDD_YYYYMMDD_prod_T.nc`\n",
    "\n",
    "- for 2013-2017 use wrap version, should be better (SEA)\n",
    "\n",
    "`/results2/SalishSea/nowcast-green.201905_wrap/ddmmmyy/SalishSea_1d_YYYYMMDD_YYYYMMDD_prod_T.nc`\n",
    "\n",
    "processing notes - for this analysis we need xarray > 0.15, \n",
    "I use a special python environment that I built  `conda activate py37` to get the xarray I need.\n",
    "\n",
    "I believe we may not have prod_T on salish for nowcast-green.201905, corresp. with SEA: is on nearline if we need it. "
   ]
  },
  {
   "cell_type": "markdown",
   "metadata": {},
   "source": [
    "### workhorse fxns"
   ]
  },
  {
   "cell_type": "code",
   "execution_count": 3,
   "metadata": {},
   "outputs": [],
   "source": [
    "\n",
    "def get_arrow_array(start,end):\n",
    "    start_run = arrow.get(start)\n",
    "    end_run = arrow.get(end)\n",
    "    arrow_array = []\n",
    "    for r in arrow.Arrow.span_range('day', start_run, end_run):\n",
    "        arrow_array.append(r)\n",
    "    return arrow_array\n",
    "\n",
    "def get_filear(arrow_array):\n",
    "    dayslen = len(arrow_array)\n",
    "    filear = []\n",
    "    for i in range(0,dayslen):\n",
    "        tdate = arrow_array[i][0]\n",
    "        ddmmmyy = tdate.format('DDMMMYY').lower()\n",
    "        ymd = tdate.format('YYYYMMDD')\n",
    "        nc_sens = f'/results2/SalishSea/nowcast-green.201905/*/SalishSea*{ymd}*prod_T.nc'\n",
    "        w = glob.glob(nc_sens)\n",
    "        filear.append(w)\n",
    "    return filear\n",
    "\n",
    "def get_filear_wrap(arrow_array):\n",
    "    dayslen = len(arrow_array)\n",
    "    filear = []\n",
    "    for i in range(0,dayslen):\n",
    "        tdate = arrow_array[i][0]\n",
    "        ddmmmyy = tdate.format('DDMMMYY').lower()\n",
    "        ymd = tdate.format('YYYYMMDD')\n",
    "        nc_sens = f'/results2/SalishSea/nowcast-green.201905_wrap/*/SalishSea*{ymd}*prod_T.nc'\n",
    "        w = glob.glob(nc_sens)\n",
    "        filear.append(w)\n",
    "    return filear\n",
    "\n",
    "\n",
    "\n",
    "def get_areaweighted_nc(yr, wrap = False ):\n",
    "    ncnam = f'SalishSeaCast201905_co2flux_mmol_m2_day_yr{yr}.nc'\n",
    "    print(ncnam)\n",
    "    start = f'{yr}-01-01'\n",
    "    end = f'{yr}-12-31'\n",
    "\n",
    "    w = time.time()\n",
    "    arrow_array = get_arrow_array(start,end)\n",
    "    if wrap:\n",
    "        filear = get_filear_wrap(arrow_array)\n",
    "    else:\n",
    "        filear = get_filear(arrow_array)\n",
    "\n",
    "    tdat = xr.open_mfdataset(filear)\n",
    "    w3 = time.time()\n",
    "    print('opened')\n",
    "    print(w3-w)\n",
    "\n",
    "    sec_day = 60*60*24 #CONVERT FROM MMOL/M2/SEC TO MMOL/M2/DAY\n",
    "    #factor of 1.11 is asselin filter factor correction\n",
    "\n",
    "    co2 = tdat.co2_flux_mmol_m2_s.weighted(tmesh.area).mean(dim=[\"y\", \"x\"]) * 1.11 * sec_day \n",
    "    co2.name = 'co2flux'\n",
    "    co2.attrs=dict(\n",
    "            description=\"201905 area-weighted co2 flux, asselin correction applied (1.11)\",\n",
    "            units=\"mmol/m2/day\",\n",
    "        )\n",
    "    co2.to_netcdf(ncnam)"
   ]
  },
  {
   "cell_type": "code",
   "execution_count": 4,
   "metadata": {},
   "outputs": [],
   "source": [
    "## open mesh mask \n",
    "\n",
    "tmesh = xr.open_dataset('/data/tjarniko/MEOPAR/grid/mesh_mask201702.nc')\n",
    "tmesh['area'] = tmesh['e1t'][0,:,:] * tmesh['e2t'][0,:,:] * tmesh['tmaskutil'][0,:,:] \n"
   ]
  },
  {
   "cell_type": "code",
   "execution_count": 5,
   "metadata": {},
   "outputs": [],
   "source": [
    "extract = True\n",
    "# if extract:\n",
    "#     get_areaweighted_nc(2013, wrap = False )\n",
    "#     get_areaweighted_nc(2014, wrap = False )\n",
    "#     get_areaweighted_nc(2015, wrap = False )\n",
    "#     get_areaweighted_nc(2016, wrap = False )\n",
    "#     get_areaweighted_nc(2017, wrap = False )\n",
    "\n",
    "    # get_areaweighted_nc(2018, wrap = False )\n",
    "    # get_areaweighted_nc(2019, wrap = False )\n",
    "    # get_areaweighted_nc(2020, wrap = False )\n",
    "    # get_areaweighted_nc(2021, wrap = False )\n",
    "    # get_areaweighted_nc(2022, wrap = False )"
   ]
  },
  {
   "cell_type": "markdown",
   "metadata": {},
   "source": [
    "## open and plot 5 years of data"
   ]
  },
  {
   "cell_type": "code",
   "execution_count": 6,
   "metadata": {},
   "outputs": [],
   "source": [
    "y2013 = xr.open_dataset('old/SalishSeaCast201905_co2flux_mmol_m2_day_yr2013.nc')\n",
    "y2014 = xr.open_dataset('old/SalishSeaCast201905_co2flux_mmol_m2_day_yr2014.nc')\n",
    "y2015 = xr.open_dataset('old/SalishSeaCast201905_co2flux_mmol_m2_day_yr2015.nc')\n",
    "y2016 = xr.open_dataset('old/SalishSeaCast201905_co2flux_mmol_m2_day_yr2016.nc')\n",
    "y2017 = xr.open_dataset('old/SalishSeaCast201905_co2flux_mmol_m2_day_yr2017.nc')\n"
   ]
  },
  {
   "cell_type": "code",
   "execution_count": null,
   "metadata": {},
   "outputs": [],
   "source": []
  },
  {
   "cell_type": "code",
   "execution_count": 7,
   "metadata": {},
   "outputs": [
    {
     "data": {
      "text/plain": [
       "<matplotlib.lines.Line2D at 0x7f4956a86750>"
      ]
     },
     "execution_count": 7,
     "metadata": {},
     "output_type": "execute_result"
    },
    {
     "data": {
      "image/png": "[encoded data removed]",
      "text/plain": [
       "<Figure size 1008x230.4 with 1 Axes>"
      ]
     },
     "metadata": {},
     "output_type": "display_data"
    }
   ],
   "source": [
    "fact = 0.4\n",
    "fig, axs = plt.subplots(1,1, figsize=(35*fact, 8*fact), facecolor='w', edgecolor='k')\n",
    "\n",
    "\n",
    "y2013.co2flux.plot(ax = axs)\n",
    "y2014.co2flux.plot(ax = axs)\n",
    "y2015.co2flux.plot(ax = axs)\n",
    "y2016.co2flux.plot(ax = axs)\n",
    "y2017.co2flux.plot(ax = axs)\n",
    "\n",
    "axs.axhline(y=0)"
   ]
  },
  {
   "cell_type": "code",
   "execution_count": 8,
   "metadata": {},
   "outputs": [],
   "source": [
    "\n",
    "c2013 = y2013.co2flux.values\n",
    "c2014 = y2014.co2flux.values\n",
    "c2015 = y2015.co2flux.values\n",
    "c2016 = y2016.co2flux.values\n",
    "c2017 = y2017.co2flux.values\n",
    "\n",
    "c2016_nl = np.delete(c2016, 59) #remove leap day\n",
    "\n",
    "# put 5 available years, \n",
    "climat = np.zeros([5,365])\n",
    "climat[0,:] = c2013\n",
    "climat[1,:] = c2014\n",
    "climat[2,:] = c2015\n",
    "climat[3,:] = c2016_nl\n",
    "climat[4,:] = c2017\n",
    "\n",
    "climatology_2013_2017 = np.nanmean(climat, axis = 0)"
   ]
  },
  {
   "cell_type": "code",
   "execution_count": 9,
   "metadata": {},
   "outputs": [
    {
     "data": {
      "image/png": "[encoded data removed]",
      "text/plain": [
       "<Figure size 432x288 with 1 Axes>"
      ]
     },
     "metadata": {
      "needs_background": "light"
     },
     "output_type": "display_data"
    }
   ],
   "source": [
    "import pandas as pd\n",
    "\n",
    "plt.plot(climatology_2013_2017)\n",
    "plt.title('climatology 2013-2017 fluxes, mmol/m2/day')\n",
    "#np.nanmean(climatology_2013_2017)\n",
    "\n",
    "yr = 2015\n",
    "times = pd.date_range(f\"{yr}/01/01\",f\"{yr+1}/01/01\",freq='D',closed='left')\n",
    "savenam = 'SSC201905.wrap-climatology_2013-2017.nc'\n",
    "data_vars = {'co2flux':(['time_counter'], climatology_2013_2017,\n",
    "{'units': 'mmol/m2/day',\n",
    "'long_name':'co2flux'}),\n",
    "}\n",
    "# define coordinates\n",
    "coords = {'time_counter': (['time_counter'], times),\n",
    "        }\n",
    "# define global attributes\n",
    "attrs = {'made in':'analysis_tereza/notebooks/carbon_dev/For_PD/co2fluxSummary2013-2022',\n",
    "'desc': '5 year averaged climatology, area-weighted, 2013-2017, asselin filt applied'\n",
    "}\n",
    "ds = xr.Dataset(data_vars=data_vars,\n",
    "coords=coords,\n",
    "attrs=attrs)\n",
    "ds.to_netcdf(savenam)"
   ]
  },
  {
   "cell_type": "markdown",
   "metadata": {},
   "source": [
    "### monthly gridded product and climatology. "
   ]
  },
  {
   "cell_type": "code",
   "execution_count": 10,
   "metadata": {},
   "outputs": [
    {
     "name": "stdout",
     "output_type": "stream",
     "text": [
      "SalishSeaCast201905_co2flux_mmol_m2_day_yr2013.nc\n",
      "opened\n",
      "132.13596987724304\n"
     ]
    }
   ],
   "source": [
    "yr = 2013; wrap = False\n",
    "ncnam = f'SalishSeaCast201905_co2flux_mmol_m2_day_yr{yr}.nc'\n",
    "print(ncnam)\n",
    "start = f'{yr}-01-01'\n",
    "end = f'{yr}-12-31'\n",
    "\n",
    "w = time.time()\n",
    "arrow_array = get_arrow_array(start,end)\n",
    "if wrap:\n",
    "    filear = get_filear_wrap(arrow_array)\n",
    "else:\n",
    "    filear = get_filear(arrow_array)\n",
    "\n",
    "tdat = xr.open_mfdataset(filear)\n",
    "w3 = time.time()\n",
    "print('opened')\n",
    "print(w3-w)\n",
    "\n",
    "sec_day = 60*60*24 #CONVERT FROM MMOL/M2/SEC TO MMOL/M2/DAY\n",
    "#factor of 1.11 is asselin filter factor correction\n",
    "\n",
    "#     co2 = tdat.co2_flux_mmol_m2_s.weighted(tmesh.area).mean(dim=[\"y\", \"x\"]) * 1.11 * sec_day \n",
    "#     co2.name = 'co2flux'\n",
    "#     co2.attrs=dict(\n",
    "#             description=\"201905 area-weighted co2 flux, asselin correction applied (1.11)\",\n",
    "#             units=\"mmol/m2/day\",\n",
    "#         )\n",
    "#     co2.to_netcdf(ncnam)"
   ]
  },
  {
   "cell_type": "code",
   "execution_count": 18,
   "metadata": {},
   "outputs": [],
   "source": [
    "yr = 2013; wrap = False\n",
    "\n",
    "def get_monthly_data_gridded(yr, wrap = False):\n",
    "    ncnam = f'SalishSeaCast201905_co2flux_monthly_yr{yr}.nc'\n",
    "    print(ncnam)\n",
    "    start = f'{yr}-01-01'\n",
    "    end = f'{yr}-12-31'\n",
    "\n",
    "    w = time.time()\n",
    "    arrow_array = get_arrow_array(start,end)\n",
    "    if wrap:\n",
    "        filear = get_filear_wrap(arrow_array)\n",
    "    else:\n",
    "        filear = get_filear(arrow_array)\n",
    "\n",
    "    tdat2 = xr.open_mfdataset(filear)\n",
    "    w3 = time.time()\n",
    "    print('opened')\n",
    "    print(w3-w)\n",
    "\n",
    "    sec_day = 60*60*24 #CONVERT FROM MMOL/M2/SEC TO MMOL/M2/DAY\n",
    "    #factor of 1.11 is asselin filter factor correction\n",
    "\n",
    "    co2 = tdat.co2_flux_mmol_m2_s.groupby('time_counter.month').mean()  * 1.11 * sec_day \n",
    "    co2.name = 'co2flux'\n",
    "    co2.attrs=dict(\n",
    "            description=\"201905 monthly co2 flux, asselin correction applied (1.11)\",\n",
    "            units=\"mmol/m2/day\",\n",
    "        )\n",
    "    co2.to_netcdf(ncnam)\n",
    "        \n"
   ]
  },
  {
   "cell_type": "code",
   "execution_count": 19,
   "metadata": {},
   "outputs": [
    {
     "name": "stdout",
     "output_type": "stream",
     "text": [
      "SalishSeaCast201905_co2flux_monthly_yr2013.nc\n",
      "opened\n",
      "131.26869893074036\n",
      "SalishSeaCast201905_co2flux_monthly_yr2014.nc\n",
      "opened\n",
      "188.2368667125702\n",
      "SalishSeaCast201905_co2flux_monthly_yr2015.nc\n",
      "opened\n",
      "189.8788447380066\n",
      "SalishSeaCast201905_co2flux_monthly_yr2016.nc\n",
      "opened\n",
      "203.59533262252808\n",
      "SalishSeaCast201905_co2flux_monthly_yr2017.nc\n"
     ]
    },
    {
     "ename": "IndexError",
     "evalue": "list index out of range",
     "output_type": "error",
     "traceback": [
      "\u001b[0;31m---------------------------------------------------------------------------\u001b[0m",
      "\u001b[0;31mIndexError\u001b[0m                                Traceback (most recent call last)",
      "\u001b[0;32m<ipython-input-19-8337a5c9b699>\u001b[0m in \u001b[0;36m<module>\u001b[0;34m\u001b[0m\n\u001b[1;32m      4\u001b[0m     \u001b[0mget_monthly_data_gridded\u001b[0m\u001b[0;34m(\u001b[0m\u001b[0;36m2015\u001b[0m\u001b[0;34m)\u001b[0m\u001b[0;34m\u001b[0m\u001b[0;34m\u001b[0m\u001b[0m\n\u001b[1;32m      5\u001b[0m     \u001b[0mget_monthly_data_gridded\u001b[0m\u001b[0;34m(\u001b[0m\u001b[0;36m2016\u001b[0m\u001b[0;34m)\u001b[0m\u001b[0;34m\u001b[0m\u001b[0;34m\u001b[0m\u001b[0m\n\u001b[0;32m----> 6\u001b[0;31m     \u001b[0mget_monthly_data_gridded\u001b[0m\u001b[0;34m(\u001b[0m\u001b[0;36m2017\u001b[0m\u001b[0;34m)\u001b[0m\u001b[0;34m\u001b[0m\u001b[0;34m\u001b[0m\u001b[0m\n\u001b[0m",
      "\u001b[0;32m<ipython-input-18-1e91ffec5e47>\u001b[0m in \u001b[0;36mget_monthly_data_gridded\u001b[0;34m(yr, wrap)\u001b[0m\n\u001b[1;32m     14\u001b[0m         \u001b[0mfilear\u001b[0m \u001b[0;34m=\u001b[0m \u001b[0mget_filear\u001b[0m\u001b[0;34m(\u001b[0m\u001b[0marrow_array\u001b[0m\u001b[0;34m)\u001b[0m\u001b[0;34m\u001b[0m\u001b[0;34m\u001b[0m\u001b[0m\n\u001b[1;32m     15\u001b[0m \u001b[0;34m\u001b[0m\u001b[0m\n\u001b[0;32m---> 16\u001b[0;31m     \u001b[0mtdat2\u001b[0m \u001b[0;34m=\u001b[0m \u001b[0mxr\u001b[0m\u001b[0;34m.\u001b[0m\u001b[0mopen_mfdataset\u001b[0m\u001b[0;34m(\u001b[0m\u001b[0mfilear\u001b[0m\u001b[0;34m)\u001b[0m\u001b[0;34m\u001b[0m\u001b[0;34m\u001b[0m\u001b[0m\n\u001b[0m\u001b[1;32m     17\u001b[0m     \u001b[0mw3\u001b[0m \u001b[0;34m=\u001b[0m \u001b[0mtime\u001b[0m\u001b[0;34m.\u001b[0m\u001b[0mtime\u001b[0m\u001b[0;34m(\u001b[0m\u001b[0;34m)\u001b[0m\u001b[0;34m\u001b[0m\u001b[0;34m\u001b[0m\u001b[0m\n\u001b[1;32m     18\u001b[0m     \u001b[0mprint\u001b[0m\u001b[0;34m(\u001b[0m\u001b[0;34m'opened'\u001b[0m\u001b[0;34m)\u001b[0m\u001b[0;34m\u001b[0m\u001b[0;34m\u001b[0m\u001b[0m\n",
      "\u001b[0;32m~/conda_envs/py37/lib/python3.7/site-packages/xarray/backends/api.py\u001b[0m in \u001b[0;36mopen_mfdataset\u001b[0;34m(paths, chunks, concat_dim, compat, preprocess, engine, lock, data_vars, coords, combine, autoclose, parallel, join, attrs_file, **kwargs)\u001b[0m\n\u001b[1;32m   1000\u001b[0m         \u001b[0mcombined\u001b[0m\u001b[0;34m.\u001b[0m\u001b[0mattrs\u001b[0m \u001b[0;34m=\u001b[0m \u001b[0mdatasets\u001b[0m\u001b[0;34m[\u001b[0m\u001b[0mpaths\u001b[0m\u001b[0;34m.\u001b[0m\u001b[0mindex\u001b[0m\u001b[0;34m(\u001b[0m\u001b[0mattrs_file\u001b[0m\u001b[0;34m)\u001b[0m\u001b[0;34m]\u001b[0m\u001b[0;34m.\u001b[0m\u001b[0mattrs\u001b[0m\u001b[0;34m\u001b[0m\u001b[0;34m\u001b[0m\u001b[0m\n\u001b[1;32m   1001\u001b[0m     \u001b[0;32melse\u001b[0m\u001b[0;34m:\u001b[0m\u001b[0;34m\u001b[0m\u001b[0;34m\u001b[0m\u001b[0m\n\u001b[0;32m-> 1002\u001b[0;31m         \u001b[0mcombined\u001b[0m\u001b[0;34m.\u001b[0m\u001b[0mattrs\u001b[0m \u001b[0;34m=\u001b[0m \u001b[0mdatasets\u001b[0m\u001b[0;34m[\u001b[0m\u001b[0;36m0\u001b[0m\u001b[0;34m]\u001b[0m\u001b[0;34m.\u001b[0m\u001b[0mattrs\u001b[0m\u001b[0;34m\u001b[0m\u001b[0;34m\u001b[0m\u001b[0m\n\u001b[0m\u001b[1;32m   1003\u001b[0m \u001b[0;34m\u001b[0m\u001b[0m\n\u001b[1;32m   1004\u001b[0m     \u001b[0;32mreturn\u001b[0m \u001b[0mcombined\u001b[0m\u001b[0;34m\u001b[0m\u001b[0;34m\u001b[0m\u001b[0m\n",
      "\u001b[0;31mIndexError\u001b[0m: list index out of range"
     ]
    }
   ],
   "source": [
    "if extract:\n",
    "    get_monthly_data_gridded(2013)\n",
    "    get_monthly_data_gridded(2014) \n",
    "    get_monthly_data_gridded(2015)\n",
    "    get_monthly_data_gridded(2016)\n",
    "#     get_monthly_data_gridded(2017)"
   ]
  },
  {
   "cell_type": "markdown",
   "metadata": {},
   "source": [
    "# 12 x 4 full dataset, gridded"
   ]
  },
  {
   "cell_type": "code",
   "execution_count": 20,
   "metadata": {},
   "outputs": [],
   "source": [
    "yr = 2017\n",
    "start = f'{yr}-01-01'\n",
    "end = f'{yr}-12-31'\n",
    "\n",
    "w = time.time()\n",
    "arrow_array = get_arrow_array(start,end)\n",
    "filear = get_filear(arrow_array)"
   ]
  },
  {
   "cell_type": "code",
   "execution_count": null,
   "metadata": {},
   "outputs": [],
   "source": []
  },
  {
   "cell_type": "code",
   "execution_count": null,
   "metadata": {},
   "outputs": [],
   "source": []
  }
 ],
 "metadata": {
  "kernelspec": {
   "display_name": "Python 3",
   "language": "python",
   "name": "python3"
  },
  "language_info": {
   "codemirror_mode": {
    "name": "ipython",
    "version": 3
   },
   "file_extension": ".py",
   "mimetype": "text/x-python",
   "name": "python",
   "nbconvert_exporter": "python",
   "pygments_lexer": "ipython3",
   "version": "3.7.8"
  }
 },
 "nbformat": 4,
 "nbformat_minor": 4
}
