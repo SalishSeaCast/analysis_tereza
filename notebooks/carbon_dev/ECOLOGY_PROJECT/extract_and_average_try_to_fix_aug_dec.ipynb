{
 "cells": [
  {
   "cell_type": "code",
   "execution_count": 29,
   "metadata": {},
   "outputs": [
    {
     "name": "stdout",
     "output_type": "stream",
     "text": [
      "Once deleted, variables cannot be recovered. Proceed (y/[n])? y\n"
     ]
    }
   ],
   "source": [
    "%reset"
   ]
  },
  {
   "cell_type": "code",
   "execution_count": 30,
   "metadata": {},
   "outputs": [
    {
     "data": {
      "text/html": [
       "<script>\n",
       "code_show=true; \n",
       "function code_toggle() {\n",
       " if (code_show){\n",
       " $('div.input').hide();\n",
       " } else {\n",
       " $('div.input').show();\n",
       " }\n",
       " code_show = !code_show\n",
       "} \n",
       "$( document ).ready(code_toggle);\n",
       "</script>\n",
       "<form action=\"javascript:code_toggle()\"><input type=\"submit\" value=\"Click here to toggle on/off the raw code.\"></form>"
      ],
      "text/plain": [
       "<IPython.core.display.HTML object>"
      ]
     },
     "execution_count": 30,
     "metadata": {},
     "output_type": "execute_result"
    }
   ],
   "source": [
    "from IPython.display import HTML\n",
    "\n",
    "HTML('''<script>\n",
    "code_show=true; \n",
    "function code_toggle() {\n",
    " if (code_show){\n",
    " $('div.input').hide();\n",
    " } else {\n",
    " $('div.input').show();\n",
    " }\n",
    " code_show = !code_show\n",
    "} \n",
    "$( document ).ready(code_toggle);\n",
    "</script>\n",
    "<form action=\"javascript:code_toggle()\"><input type=\"submit\" value=\"Click here to toggle on/off the raw code.\"></form>''')"
   ]
  },
  {
   "cell_type": "code",
   "execution_count": 31,
   "metadata": {
    "collapsed": true
   },
   "outputs": [],
   "source": [
    "from __future__ import print_function\n",
    "from numpy import *\n",
    "from scipy import *\n",
    "import matplotlib.pyplot as plt\n",
    "import pickle\n",
    "\n",
    "import matplotlib.pyplot as plt\n",
    "import netCDF4 as nc\n",
    "import numpy as np\n",
    "import scipy as sp\n",
    "import warnings\n",
    "warnings.filterwarnings('ignore')\n",
    "\n",
    "import seawater\n",
    "import datetime as dt\n",
    "\"\"\n",
    "from salishsea_tools import (\n",
    "    nc_tools,\n",
    "    viz_tools,\n",
    "    geo_tools,\n",
    "    tidetools\n",
    ")\n",
    "\n",
    "import matplotlib\n",
    "matplotlib.use('Agg')\n",
    "import matplotlib.pyplot as plt\n",
    "import matplotlib.patches as patches\n",
    "plt.style.use('seaborn-whitegrid')\n",
    "import netCDF4 as nc\n",
    "\n",
    "import cmocean as cm\n",
    "import glob\n",
    "import sys\n",
    "sys.path.append('/data/tjarniko/mocsy')\n",
    "sys.path.append('/data/tjarniko/MEOPAR/at3/notebooks/carbon_dev/CCCmaDEV/CCCma_src')\n",
    "import mocsy\n",
    "import CCCma\n",
    "import CCCma_stations as cs\n",
    "from matplotlib import reload\n",
    "import arrow\n",
    "import gsw\n",
    "%matplotlib inline\n",
    "\n",
    "import xarray as xr\n",
    "from datetime import datetime\n",
    "from salishsea_tools import grid_tools, viz_tools\n",
    "\n",
    "from math import log10, floor\n"
   ]
  },
  {
   "cell_type": "code",
   "execution_count": 32,
   "metadata": {
    "collapsed": true
   },
   "outputs": [],
   "source": [
    "def make_nclist(start,end, var, tdir, verbose):\n",
    "    \n",
    "    rootdir = '/data/tjarniko/results/BASERUN_EXP/MAIN/'\n",
    "    nc_array = []\n",
    "    start_run = arrow.get(start)\n",
    "    end_run = arrow.get(end)\n",
    "    \n",
    "    \n",
    "    arrow_array = []\n",
    "    for r in arrow.Arrow.span_range('day', start_run, end_run):\n",
    "        arrow_array.append(r)\n",
    "\n",
    "    dayslen = len(arrow_array)\n",
    "    \n",
    "    for i in range(0,dayslen):\n",
    "        tdate = arrow_array[i][0]\n",
    "        ymd = tdate.format('YYYYMMDD')\n",
    "        if verbose == True:\n",
    "            print(ymd)\n",
    "\n",
    "        ##SKOG_1d_20151127_20151231_ptrc_T_20151231-20151231.nc    \n",
    "        t_nc = rootdir + tdir + '/ncs/' \\\n",
    "        '/SKOG_1d_*' + '_'+var+'_' +str(ymd) + '-' + str(ymd) + '.nc'\n",
    "        t_ncname = glob.glob(t_nc)\n",
    "        if verbose == True:\n",
    "            print('file is: ' + t_ncname[0])\n",
    "            print('')\n",
    "        nc_array.append(t_ncname[0])\n",
    "        \n",
    "    return nc_array\n"
   ]
  },
  {
   "cell_type": "code",
   "execution_count": 33,
   "metadata": {
    "collapsed": true
   },
   "outputs": [],
   "source": [
    "tdir = 'PI_ACBC_2015_3'\n",
    "verbose = False\n",
    "#apr\n",
    "start = '2015-04-01'\n",
    "end = '2015-04-30'\n",
    "var ='carp_T'\n",
    "nc_C_PI_apr = make_nclist(start,end, var, tdir, verbose)\n",
    "var = 'grid_T'\n",
    "nc_TS_PI_apr = make_nclist(start,end, var, tdir, verbose)\n",
    "#aug\n",
    "start = '2015-08-01'\n",
    "end = '2015-08-31'\n",
    "var ='carp_T'\n",
    "nc_C_PI_aug = make_nclist(start,end, var, tdir, verbose)\n",
    "var = 'grid_T'\n",
    "nc_TS_PI_aug = make_nclist(start,end, var, tdir, verbose)\n",
    "#aug\n",
    "start = '2015-12-01'\n",
    "end = '2015-12-31'\n",
    "var ='carp_T'\n",
    "nc_C_PI_dec = make_nclist(start,end, var, tdir, verbose)\n",
    "var = 'grid_T'\n",
    "nc_TS_PI_dec = make_nclist(start,end, var, tdir, verbose)"
   ]
  },
  {
   "cell_type": "code",
   "execution_count": 34,
   "metadata": {
    "collapsed": true
   },
   "outputs": [],
   "source": [
    "tdir = 'BR_2nd_2015'\n",
    "verbose = False\n",
    "#apr\n",
    "start = '2015-04-01'\n",
    "end = '2015-04-30'\n",
    "var ='carp_T'\n",
    "nc_C_BR_apr = make_nclist(start,end, var, tdir, verbose)\n",
    "var = 'grid_T'\n",
    "nc_TS_BR_apr = make_nclist(start,end, var, tdir, verbose)\n",
    "#aug\n",
    "start = '2015-08-01'\n",
    "end = '2015-08-31'\n",
    "var ='carp_T'\n",
    "nc_C_BR_aug = make_nclist(start,end, var, tdir, verbose)\n",
    "var = 'grid_T'\n",
    "nc_TS_BR_aug = make_nclist(start,end, var, tdir, verbose)\n",
    "#aug\n",
    "start = '2015-12-01'\n",
    "end = '2015-12-31'\n",
    "var ='carp_T'\n",
    "nc_C_BR_dec = make_nclist(start,end, var, tdir, verbose)\n",
    "var = 'grid_T'\n",
    "nc_TS_BR_dec = make_nclist(start,end, var, tdir, verbose)"
   ]
  },
  {
   "cell_type": "code",
   "execution_count": 35,
   "metadata": {},
   "outputs": [
    {
     "name": "stdout",
     "output_type": "stream",
     "text": [
      "0\n",
      "5\n",
      "10\n",
      "15\n",
      "20\n",
      "25\n"
     ]
    }
   ],
   "source": [
    "PI_DIC_apr = np.zeros([30,40,898,398])\n",
    "PI_TA_apr = np.zeros([30,40,898,398])\n",
    "PI_T_apr = np.zeros([30,40,898,398])\n",
    "PI_S_apr = np.zeros([30,40,898,398])\n",
    "#\n",
    "BR_DIC_apr = np.zeros([30,40,898,398])\n",
    "BR_TA_apr = np.zeros([30,40,898,398])\n",
    "BR_T_apr = np.zeros([30,40,898,398])\n",
    "BR_S_apr = np.zeros([30,40,898,398])\n",
    "#\n",
    "for i in range(0,len(nc_TS_PI_apr)):\n",
    "    if (i%5 == 0):\n",
    "        print(i)\n",
    "    grid_PI = nc.Dataset(nc_TS_PI_apr[i])\n",
    "    carp_PI = nc.Dataset(nc_C_PI_apr[i])\n",
    "    grid_BR = nc.Dataset(nc_TS_BR_apr[i])\n",
    "    carp_BR = nc.Dataset(nc_C_BR_apr[i])\n",
    "    #carbon\n",
    "    PI_DIC_apr[i,:,:,:]=carp_PI['dissolved_inorganic_carbon'][0,:,:,:]\n",
    "    PI_TA_apr[i,:,:,:]=carp_PI['total_alkalinity'][0,:,:,:]\n",
    "    BR_DIC_apr[i,:,:,:]=carp_BR['dissolved_inorganic_carbon'][0,:,:,:]\n",
    "    BR_TA_apr[i,:,:,:]=carp_BR['total_alkalinity'][0,:,:,:]\n",
    "    #TS\n",
    "    PI_T_apr[i,:,:,:]=grid_PI['votemper'][0,:,:,:]\n",
    "    PI_S_apr[i,:,:,:]=grid_PI['vosaline'][0,:,:,:]\n",
    "    BR_T_apr[i,:,:,:]=grid_BR['votemper'][0,:,:,:]\n",
    "    BR_S_apr[i,:,:,:]=grid_BR['vosaline'][0,:,:,:]"
   ]
  },
  {
   "cell_type": "code",
   "execution_count": 36,
   "metadata": {},
   "outputs": [
    {
     "name": "stdout",
     "output_type": "stream",
     "text": [
      "0\n",
      "5\n",
      "10\n",
      "15\n",
      "20\n",
      "25\n",
      "30\n"
     ]
    }
   ],
   "source": [
    "PI_DIC_aug = np.zeros([31,40,898,398])\n",
    "PI_TA_aug = np.zeros([31,40,898,398])\n",
    "PI_T_aug = np.zeros([31,40,898,398])\n",
    "PI_S_aug = np.zeros([31,40,898,398])\n",
    "#\n",
    "BR_DIC_aug = np.zeros([31,40,898,398])\n",
    "BR_TA_aug = np.zeros([31,40,898,398])\n",
    "BR_T_aug = np.zeros([31,40,898,398])\n",
    "BR_S_aug = np.zeros([31,40,898,398])\n",
    "#\n",
    "for i in range(0,len(nc_TS_PI_aug)):\n",
    "    if (i%5 == 0):\n",
    "        print(i)\n",
    "    grid_PI = nc.Dataset(nc_TS_PI_aug[i])\n",
    "    carp_PI = nc.Dataset(nc_C_PI_aug[i])\n",
    "    grid_BR = nc.Dataset(nc_TS_BR_aug[i])\n",
    "    carp_BR = nc.Dataset(nc_C_BR_aug[i])\n",
    "    #carbon\n",
    "    PI_DIC_aug[i,:,:,:]=carp_PI['dissolved_inorganic_carbon'][0,:,:,:]\n",
    "    PI_TA_aug[i,:,:,:]=carp_PI['total_alkalinity'][0,:,:,:]\n",
    "    BR_DIC_aug[i,:,:,:]=carp_BR['dissolved_inorganic_carbon'][0,:,:,:]\n",
    "    BR_TA_aug[i,:,:,:]=carp_BR['total_alkalinity'][0,:,:,:]\n",
    "    #TS\n",
    "    PI_T_aug[i,:,:,:]=grid_PI['votemper'][0,:,:,:]\n",
    "    PI_S_aug[i,:,:,:]=grid_PI['vosaline'][0,:,:,:]\n",
    "    BR_T_aug[i,:,:,:]=grid_BR['votemper'][0,:,:,:]\n",
    "    BR_S_aug[i,:,:,:]=grid_BR['vosaline'][0,:,:,:]"
   ]
  },
  {
   "cell_type": "code",
   "execution_count": 37,
   "metadata": {},
   "outputs": [
    {
     "name": "stdout",
     "output_type": "stream",
     "text": [
      "0\n",
      "5\n",
      "10\n",
      "15\n",
      "20\n",
      "25\n",
      "30\n"
     ]
    }
   ],
   "source": [
    "PI_DIC_dec = np.zeros([31,40,898,398])\n",
    "PI_TA_dec = np.zeros([31,40,898,398])\n",
    "PI_T_dec = np.zeros([31,40,898,398])\n",
    "PI_S_dec = np.zeros([31,40,898,398])\n",
    "#\n",
    "BR_DIC_dec = np.zeros([31,40,898,398])\n",
    "BR_TA_dec = np.zeros([31,40,898,398])\n",
    "BR_T_dec = np.zeros([31,40,898,398])\n",
    "BR_S_dec = np.zeros([31,40,898,398])\n",
    "#\n",
    "for i in range(0,len(nc_TS_PI_dec)):\n",
    "    if (i%5 == 0):\n",
    "        print(i)\n",
    "    grid_PI = nc.Dataset(nc_TS_PI_dec[i])\n",
    "    carp_PI = nc.Dataset(nc_C_PI_dec[i])\n",
    "    grid_BR = nc.Dataset(nc_TS_BR_dec[i])\n",
    "    carp_BR = nc.Dataset(nc_C_BR_dec[i])\n",
    "    #carbon\n",
    "    PI_DIC_dec[i,:,:,:]=carp_PI['dissolved_inorganic_carbon'][0,:,:,:]\n",
    "    PI_TA_dec[i,:,:,:]=carp_PI['total_alkalinity'][0,:,:,:]\n",
    "    BR_DIC_dec[i,:,:,:]=carp_BR['dissolved_inorganic_carbon'][0,:,:,:]\n",
    "    BR_TA_dec[i,:,:,:]=carp_BR['total_alkalinity'][0,:,:,:]\n",
    "    #TS\n",
    "    PI_T_dec[i,:,:,:]=grid_PI['votemper'][0,:,:,:]\n",
    "    PI_S_dec[i,:,:,:]=grid_PI['vosaline'][0,:,:,:]\n",
    "    BR_T_dec[i,:,:,:]=grid_BR['votemper'][0,:,:,:]\n",
    "    BR_S_dec[i,:,:,:]=grid_BR['vosaline'][0,:,:,:]"
   ]
  },
  {
   "cell_type": "code",
   "execution_count": 38,
   "metadata": {},
   "outputs": [
    {
     "name": "stdout",
     "output_type": "stream",
     "text": [
      "walrus\n",
      "walrus\n",
      "walrus\n",
      "walrus\n",
      "walrus\n",
      "walrus\n",
      "walrus\n",
      "walrus\n",
      "walrus\n",
      "walrus\n",
      "walrus\n",
      "walrus\n"
     ]
    }
   ],
   "source": [
    "print('walrus')\n",
    "PI_DIC_apr_mean = np.nanmean(PI_DIC_apr,axis=0)\n",
    "print('walrus')\n",
    "PI_TA_apr_mean = np.nanmean(PI_TA_apr,axis=0)\n",
    "print('walrus')\n",
    "PI_T_apr_mean = np.nanmean(PI_T_apr,axis=0)\n",
    "print('walrus')\n",
    "PI_S_apr_mean = np.nanmean(PI_S_apr,axis=0)\n",
    "#\n",
    "PI_DIC_aug_mean = np.nanmean(PI_DIC_aug,axis=0)\n",
    "print('walrus')\n",
    "PI_TA_aug_mean = np.nanmean(PI_TA_aug,axis=0)\n",
    "print('walrus')\n",
    "PI_T_aug_mean = np.nanmean(PI_T_aug,axis=0)\n",
    "print('walrus')\n",
    "PI_S_aug_mean = np.nanmean(PI_S_aug,axis=0)\n",
    "print('walrus')\n",
    "#\n",
    "PI_DIC_dec_mean = np.nanmean(PI_DIC_dec,axis=0)\n",
    "print('walrus')\n",
    "PI_TA_dec_mean = np.nanmean(PI_TA_dec,axis=0)\n",
    "print('walrus')\n",
    "PI_T_dec_mean = np.nanmean(PI_T_dec,axis=0)\n",
    "print('walrus')\n",
    "PI_S_dec_mean = np.nanmean(PI_S_dec,axis=0)\n",
    "print('walrus')"
   ]
  },
  {
   "cell_type": "code",
   "execution_count": 39,
   "metadata": {},
   "outputs": [
    {
     "name": "stdout",
     "output_type": "stream",
     "text": [
      "walrus\n",
      "walrus\n",
      "walrus\n",
      "walrus\n",
      "walrus\n",
      "walrus\n",
      "walrus\n",
      "walrus\n",
      "walrus\n",
      "walrus\n",
      "walrus\n"
     ]
    }
   ],
   "source": [
    "BR_DIC_apr_mean = np.nanmean(BR_DIC_apr,axis=0)\n",
    "print('walrus')\n",
    "BR_TA_apr_mean = np.nanmean(BR_TA_apr,axis=0)\n",
    "print('walrus')\n",
    "BR_T_apr_mean = np.nanmean(BR_T_apr,axis=0)\n",
    "print('walrus')\n",
    "BR_S_apr_mean = np.nanmean(BR_S_apr,axis=0)\n",
    "#\n",
    "BR_DIC_aug_mean = np.nanmean(BR_DIC_aug,axis=0)\n",
    "print('walrus')\n",
    "BR_TA_aug_mean = np.nanmean(BR_TA_aug,axis=0)\n",
    "print('walrus')\n",
    "BR_T_aug_mean = np.nanmean(BR_T_aug,axis=0)\n",
    "print('walrus')\n",
    "BR_S_aug_mean = np.nanmean(BR_S_aug,axis=0)\n",
    "print('walrus')\n",
    "#\n",
    "BR_DIC_dec_mean = np.nanmean(BR_DIC_dec,axis=0)\n",
    "print('walrus')\n",
    "BR_TA_dec_mean = np.nanmean(BR_TA_dec,axis=0)\n",
    "print('walrus')\n",
    "BR_T_dec_mean = np.nanmean(BR_T_dec,axis=0)\n",
    "print('walrus')\n",
    "BR_S_dec_mean = np.nanmean(BR_S_dec,axis=0)\n",
    "print('walrus')"
   ]
  },
  {
   "cell_type": "code",
   "execution_count": 40,
   "metadata": {},
   "outputs": [
    {
     "name": "stdout",
     "output_type": "stream",
     "text": [
      "walrus\n",
      "walrus\n",
      "walrus\n"
     ]
    }
   ],
   "source": [
    "print('walrus')\n",
    "pickle.dump(PI_DIC_apr_mean, open(\"PI_DIC_apr_mean.pkl\", 'wb'))\n",
    "pickle.dump(PI_TA_apr_mean, open(\"PI_TA_apr_mean.pkl\", 'wb'))\n",
    "pickle.dump(PI_T_apr_mean, open(\"PI_T_apr_mean.pkl\", 'wb'))\n",
    "pickle.dump(PI_S_apr_mean, open(\"PI_S_apr_mean.pkl\", 'wb'))\n",
    "#\n",
    "print('walrus')\n",
    "pickle.dump(PI_DIC_aug_mean, open(\"PI_DIC_aug_mean.pkl\", 'wb'))\n",
    "pickle.dump(PI_TA_aug_mean, open(\"PI_TA_aug_mean.pkl\", 'wb'))\n",
    "pickle.dump(PI_T_aug_mean, open(\"PI_T_aug_mean.pkl\", 'wb'))\n",
    "pickle.dump(PI_S_aug_mean, open(\"PI_S_aug_mean.pkl\", 'wb'))\n",
    "#\n",
    "print('walrus')\n",
    "pickle.dump(PI_DIC_dec_mean, open(\"PI_DIC_dec_mean.pkl\", 'wb'))\n",
    "pickle.dump(PI_TA_dec_mean, open(\"PI_TA_dec_mean.pkl\", 'wb'))\n",
    "pickle.dump(PI_T_dec_mean, open(\"PI_T_dec_mean.pkl\", 'wb'))\n",
    "pickle.dump(PI_S_dec_mean, open(\"PI_S_dec_mean.pkl\", 'wb'))\n"
   ]
  },
  {
   "cell_type": "code",
   "execution_count": 41,
   "metadata": {},
   "outputs": [
    {
     "name": "stdout",
     "output_type": "stream",
     "text": [
      "walrus\n",
      "walrus\n",
      "walrus\n"
     ]
    }
   ],
   "source": [
    "print('walrus')\n",
    "pickle.dump(BR_DIC_apr_mean, open(\"BR_DIC_apr_mean.pkl\", 'wb'))\n",
    "pickle.dump(BR_TA_apr_mean, open(\"BR_TA_apr_mean.pkl\", 'wb'))\n",
    "pickle.dump(BR_T_apr_mean, open(\"BR_T_apr_mean.pkl\", 'wb'))\n",
    "pickle.dump(BR_S_apr_mean, open(\"BR_S_apr_mean.pkl\", 'wb'))\n",
    "#\n",
    "print('walrus')\n",
    "pickle.dump(BR_DIC_aug_mean, open(\"BR_DIC_aug_mean.pkl\", 'wb'))\n",
    "pickle.dump(BR_TA_aug_mean, open(\"BR_TA_aug_mean.pkl\", 'wb'))\n",
    "pickle.dump(BR_T_aug_mean, open(\"BR_T_aug_mean.pkl\", 'wb'))\n",
    "pickle.dump(BR_S_aug_mean, open(\"BR_S_aug_mean.pkl\", 'wb'))\n",
    "#\n",
    "print('walrus')\n",
    "pickle.dump(BR_DIC_dec_mean, open(\"BR_DIC_dec_mean.pkl\", 'wb'))\n",
    "pickle.dump(BR_TA_dec_mean, open(\"BR_TA_dec_mean.pkl\", 'wb'))\n",
    "pickle.dump(BR_T_dec_mean, open(\"BR_T_dec_mean.pkl\", 'wb'))\n",
    "pickle.dump(BR_S_dec_mean, open(\"BR_S_dec_mean.pkl\", 'wb'))\n"
   ]
  },
  {
   "cell_type": "code",
   "execution_count": 42,
   "metadata": {
    "collapsed": true
   },
   "outputs": [],
   "source": [
    "def mocsy_3d_getOmA(tsal,ttemp,tdic,tta):\n",
    "    tsra = np.ravel(tsal)\n",
    "    ttera = np.ravel(ttemp)\n",
    "    ttara = np.ravel(tta) * 1e-3\n",
    "    tdra = np.ravel(tdic) * 1e-3\n",
    "    tzero = np.zeros_like(tsra)\n",
    "    tpressure = np.zeros_like(tsra)\n",
    "    tpressure[:] =1\n",
    "    tzero = tpressure * 0 \n",
    "\n",
    "    tsra_psu = tsra*35/35.16504\n",
    "    ttera_is = gsw.t_from_CT(tsra,ttera,tzero)\n",
    "\n",
    "    response_tup = mocsy.mvars(temp=ttera_is, sal=tsra_psu, alk=ttara, dic=tdra, \n",
    "                       sil=tzero, phos=tzero, patm=tpressure, depth=tzero, lat=tzero, \n",
    "                        optcon='mol/m3', optt='Tinsitu', optp='m',\n",
    "                        optb = 'l10', optk1k2='m10', optkf = 'dg', optgas = 'Pinsitu')\n",
    "    pH,pco2,fco2,co2,hco3,co3,OmegaA,OmegaC,BetaD,DENis,p,Tis = response_tup\n",
    "\n",
    "\n",
    "    OmegaAR = OmegaA.reshape(40,898,398)\n",
    "    return OmegaAR"
   ]
  },
  {
   "cell_type": "code",
   "execution_count": 43,
   "metadata": {},
   "outputs": [
    {
     "name": "stdout",
     "output_type": "stream",
     "text": [
      "(40, 898, 398)\n"
     ]
    }
   ],
   "source": [
    "#\n",
    "f = open('PI_DIC_apr_mean.pkl', 'rb')\n",
    "PI_DIC_apr_mean = pickle.load(f)   \n",
    "print(np.shape(PI_DIC_apr_mean))\n",
    "\n",
    "f = open('PI_TA_apr_mean.pkl', 'rb')\n",
    "PI_TA_apr_mean = pickle.load(f)  \n",
    "f = open('PI_T_apr_mean.pkl', 'rb')\n",
    "PI_T_apr_mean = pickle.load(f)  \n",
    "f = open('PI_S_apr_mean.pkl', 'rb')\n",
    "PI_S_apr_mean = pickle.load(f)  \n",
    "#\n",
    "f = open('BR_DIC_apr_mean.pkl', 'rb')\n",
    "BR_DIC_apr_mean = pickle.load(f)   \n",
    "f = open('BR_TA_apr_mean.pkl', 'rb')\n",
    "BR_TA_apr_mean = pickle.load(f)  \n",
    "f = open('BR_T_apr_mean.pkl', 'rb')\n",
    "BR_T_apr_mean = pickle.load(f)  \n",
    "f = open('BR_S_apr_mean.pkl', 'rb')\n",
    "BR_S_apr_mean = pickle.load(f)  \n",
    "#\n",
    "f = open('PI_DIC_aug_mean.pkl', 'rb')\n",
    "PI_DIC_aug_mean = pickle.load(f)   \n",
    "f = open('PI_TA_aug_mean.pkl', 'rb')\n",
    "PI_TA_aug_mean = pickle.load(f)  \n",
    "f = open('PI_T_aug_mean.pkl', 'rb')\n",
    "PI_T_aug_mean = pickle.load(f)  \n",
    "f = open('PI_S_aug_mean.pkl', 'rb')\n",
    "PI_S_aug_mean = pickle.load(f)  \n",
    "#\n",
    "f = open('BR_DIC_aug_mean.pkl', 'rb')\n",
    "BR_DIC_aug_mean = pickle.load(f)   \n",
    "f = open('BR_TA_aug_mean.pkl', 'rb')\n",
    "BR_TA_aug_mean = pickle.load(f)  \n",
    "f = open('BR_T_aug_mean.pkl', 'rb')\n",
    "BR_T_aug_mean = pickle.load(f)  \n",
    "f = open('BR_S_aug_mean.pkl', 'rb')\n",
    "BR_S_aug_mean = pickle.load(f) \n",
    "#\n",
    "f = open('PI_DIC_dec_mean.pkl', 'rb')\n",
    "PI_DIC_dec_mean = pickle.load(f)   \n",
    "f = open('PI_TA_dec_mean.pkl', 'rb')\n",
    "PI_TA_dec_mean = pickle.load(f)  \n",
    "f = open('PI_T_dec_mean.pkl', 'rb')\n",
    "PI_T_dec_mean = pickle.load(f)  \n",
    "f = open('PI_S_dec_mean.pkl', 'rb')\n",
    "PI_S_dec_mean = pickle.load(f)  \n",
    "#\n",
    "f = open('BR_DIC_dec_mean.pkl', 'rb')\n",
    "BR_DIC_dec_mean = pickle.load(f)   \n",
    "f = open('BR_TA_dec_mean.pkl', 'rb')\n",
    "BR_TA_dec_mean = pickle.load(f)  \n",
    "f = open('BR_T_dec_mean.pkl', 'rb')\n",
    "BR_T_dec_mean = pickle.load(f)  \n",
    "f = open('BR_S_dec_mean.pkl', 'rb')\n",
    "BR_S_dec_mean = pickle.load(f) "
   ]
  },
  {
   "cell_type": "code",
   "execution_count": 44,
   "metadata": {},
   "outputs": [
    {
     "name": "stdout",
     "output_type": "stream",
     "text": [
      "walrus\n"
     ]
    }
   ],
   "source": [
    "PI_OmA_apr_mean = mocsy_3d_getOmA(PI_S_apr_mean,PI_T_apr_mean,\\\n",
    "                                  PI_DIC_apr_mean,PI_TA_apr_mean)\n",
    "\n",
    "BR_OmA_apr_mean = mocsy_3d_getOmA(BR_S_apr_mean,BR_T_apr_mean,\\\n",
    "                                  BR_DIC_apr_mean,BR_TA_apr_mean)\n",
    "print('walrus')\n",
    "PI_OmA_aug_mean = mocsy_3d_getOmA(PI_S_aug_mean,PI_T_aug_mean,\\\n",
    "                                  PI_DIC_aug_mean,PI_TA_aug_mean)\n",
    "BR_OmA_aug_mean = mocsy_3d_getOmA(BR_S_aug_mean,BR_T_aug_mean,\\\n",
    "                                  BR_DIC_aug_mean,BR_TA_aug_mean)\n",
    "PI_OmA_dec_mean = mocsy_3d_getOmA(PI_S_dec_mean,PI_T_dec_mean,\\\n",
    "                                  PI_DIC_dec_mean,PI_TA_dec_mean)\n",
    "BR_OmA_dec_mean = mocsy_3d_getOmA(BR_S_dec_mean,BR_T_dec_mean,\\\n",
    "                                  BR_DIC_dec_mean,BR_TA_dec_mean)"
   ]
  },
  {
   "cell_type": "code",
   "execution_count": 45,
   "metadata": {
    "collapsed": true
   },
   "outputs": [],
   "source": [
    "pickle.dump(PI_OmA_apr_mean, open(\"PI_OmA_apr_mean.pkl\", 'wb'))\n",
    "pickle.dump(BR_OmA_apr_mean, open(\"BR_OmA_apr_mean.pkl\", 'wb'))\n",
    "pickle.dump(PI_OmA_aug_mean, open(\"PI_OmA_aug_mean.pkl\", 'wb'))\n",
    "pickle.dump(BR_OmA_aug_mean, open(\"BR_OmA_aug_mean.pkl\", 'wb'))\n",
    "pickle.dump(PI_OmA_dec_mean, open(\"PI_OmA_dec_mean.pkl\", 'wb'))\n",
    "pickle.dump(BR_OmA_dec_mean, open(\"BR_OmA_dec_mean.pkl\", 'wb'))\n",
    "\n"
   ]
  },
  {
   "cell_type": "code",
   "execution_count": 46,
   "metadata": {
    "collapsed": true
   },
   "outputs": [],
   "source": [
    "f = open('PI_OmA_apr_mean.pkl', 'rb')\n",
    "PI_OmA_apr_mean = pickle.load(f)   \n",
    "f = open('BR_OmA_apr_mean.pkl', 'rb')\n",
    "BR_OmA_apr_mean = pickle.load(f)  \n",
    "\n",
    "f = open('PI_OmA_aug_mean.pkl', 'rb')\n",
    "PI_OmA_aug_mean = pickle.load(f)  \n",
    "f = open('BR_OmA_dec_mean.pkl', 'rb')\n",
    "BR_OmA_aug_mean = pickle.load(f)  \n",
    "\n",
    "f = open('PI_OmA_dec_mean.pkl', 'rb')\n",
    "PI_OmA_dec_mean = pickle.load(f)\n",
    "f = open('BR_OmA_dec_mean.pkl', 'rb')\n",
    "BR_OmA_dec_mean = pickle.load(f)\n",
    "\n",
    "f = open('BR_T_aug_mean.pkl', 'rb')\n",
    "BR_T_aug_mean = pickle.load(f) \n",
    "t = BR_T_aug_mean"
   ]
  },
  {
   "cell_type": "code",
   "execution_count": 47,
   "metadata": {},
   "outputs": [
    {
     "name": "stdout",
     "output_type": "stream",
     "text": [
      "0\n",
      "50\n",
      "100\n",
      "150\n",
      "200\n",
      "250\n",
      "300\n",
      "350\n",
      "400\n",
      "450\n",
      "500\n",
      "550\n",
      "600\n",
      "650\n",
      "700\n",
      "750\n",
      "800\n",
      "850\n"
     ]
    }
   ],
   "source": [
    "benthos_index = np.zeros([898,398])\n",
    "for j in range(0,898):\n",
    "    if j%50 == 0:\n",
    "        print(j)\n",
    "    for i in range(0,398):\n",
    "        test = t[:,j,i]\n",
    "        dat = np.where((test>0)&(test<1e19))\n",
    "        W = not all(dat)\n",
    "\n",
    "        if (W == False):#:np.isempty(dat):\n",
    "            benthos = 1e20\n",
    "        else:\n",
    "            benthos = (np.max(dat))\n",
    "        benthos_index[j,i] = (benthos)\n",
    "    "
   ]
  },
  {
   "cell_type": "code",
   "execution_count": 48,
   "metadata": {
    "collapsed": true
   },
   "outputs": [],
   "source": [
    "pickle.dump(benthos_index, open(\"benthos_index.pkl\", 'wb'))"
   ]
  },
  {
   "cell_type": "code",
   "execution_count": null,
   "metadata": {
    "collapsed": true
   },
   "outputs": [],
   "source": []
  },
  {
   "cell_type": "code",
   "execution_count": 49,
   "metadata": {},
   "outputs": [
    {
     "data": {
      "text/plain": [
       "(898, 398)"
      ]
     },
     "execution_count": 49,
     "metadata": {},
     "output_type": "execute_result"
    }
   ],
   "source": [
    "np.shape(benthos_index)"
   ]
  },
  {
   "cell_type": "code",
   "execution_count": 50,
   "metadata": {},
   "outputs": [
    {
     "data": {
      "image/png": "[encoded data removed]",
      "text/plain": [
       "<matplotlib.figure.Figure at 0x7f4293757eb8>"
      ]
     },
     "metadata": {},
     "output_type": "display_data"
    }
   ],
   "source": [
    "#bath = nc.Dataset('/data/tjarniko/MEOPAR/grid/bathymetry_201702.nc')\n",
    "#bath1 = bath.variables['Bathymetry']\n",
    "\n",
    "def plot_bathy(surfdat_1,tit1,t_cmap,xsize,ysize,v_min1,v_max1,cl1,bigtit):\n",
    "\n",
    "    fig, ax = plt.subplots(1, 1, figsize=(xsize, ysize), sharey=True)\n",
    "    cmap = t_cmap\n",
    "\n",
    "    tplt = np.ma.masked_values(surfdat_1,0)\n",
    "    ax.set_title(tit1,fontsize = 15 )\n",
    "    v_min = v_min1\n",
    "    v_max = v_max1\n",
    "    clabel = cl1\n",
    "\n",
    "    viz_tools.set_aspect(ax)\n",
    "    mesh = ax.pcolormesh(tplt, cmap=t_cmap, vmin=v_min, vmax=v_max) \n",
    "    ax.set_xlabel('x Index', fontsize = 20 )\n",
    "    ax.set_ylabel('y Index', fontsize = 20 )\n",
    "\n",
    "    plt.xlim([0,398])\n",
    "    plt.ylim([0,898])\n",
    "    plt.xticks(fontsize=8)\n",
    "    plt.yticks(fontsize=8)\n",
    "    cmap.set_bad('lightslategray')\n",
    "    plt.suptitle(bigtit,fontsize=20)\n",
    "    cbar = plt.colorbar(mesh)\n",
    "    cbar.set_label(clabel)\n",
    "\n",
    "fact = 0.19\n",
    "\n",
    "plot_bathy(benthos_index,'Bathymetry index of the Salish Sea', \\\n",
    "               cm.cm.dense,20*fact,30*fact,0,40,'bathymetry (m)','')"
   ]
  },
  {
   "cell_type": "code",
   "execution_count": 51,
   "metadata": {},
   "outputs": [
    {
     "data": {
      "image/png": "[encoded data removed]",
      "text/plain": [
       "<matplotlib.figure.Figure at 0x7f2fc6df40f0>"
      ]
     },
     "metadata": {},
     "output_type": "display_data"
    }
   ],
   "source": [
    "mesh = xr.open_dataset('/home/sallen/MEOPAR/grid/mesh_mask201702.nc')\n",
    "mbathys = np.array(mesh.mbathy[0])\n",
    "\n",
    "#bath = nc.Dataset('/data/tjarniko/MEOPAR/grid/bathymetry_201702.nc')\n",
    "#bath1 = bath.variables['Bathymetry']\n",
    "\n",
    "def plot_bathy(surfdat_1,tit1,t_cmap,xsize,ysize,v_min1,v_max1,cl1,bigtit):\n",
    "\n",
    "    fig, ax = plt.subplots(1, 1, figsize=(xsize, ysize), sharey=True)\n",
    "    cmap = t_cmap\n",
    "\n",
    "    tplt = np.ma.masked_values(surfdat_1,0)\n",
    "    ax.set_title(tit1,fontsize = 15 )\n",
    "    v_min = v_min1\n",
    "    v_max = v_max1\n",
    "    clabel = cl1\n",
    "\n",
    "    viz_tools.set_aspect(ax)\n",
    "    mesh = ax.pcolormesh(tplt, cmap=t_cmap, vmin=v_min, vmax=v_max) \n",
    "    ax.set_xlabel('x Index', fontsize = 20 )\n",
    "    ax.set_ylabel('y Index', fontsize = 20 )\n",
    "\n",
    "    plt.xlim([0,398])\n",
    "    plt.ylim([0,898])\n",
    "    plt.xticks(fontsize=8)\n",
    "    plt.yticks(fontsize=8)\n",
    "    cmap.set_bad('lightslategray')\n",
    "    plt.suptitle(bigtit,fontsize=20)\n",
    "    cbar = plt.colorbar(mesh)\n",
    "    cbar.set_label(clabel)\n",
    "\n",
    "fact = 0.19\n",
    "\n",
    "plot_bathy(benthos_index-(mbathys-1),'Bathymetry index of the Salish Sea', \\\n",
    "               cm.cm.balance,20*fact,30*fact,-3,3,'bathymetry (m)','')"
   ]
  },
  {
   "cell_type": "code",
   "execution_count": 52,
   "metadata": {},
   "outputs": [
    {
     "data": {
      "text/plain": [
       "0.0"
      ]
     },
     "execution_count": 52,
     "metadata": {},
     "output_type": "execute_result"
    }
   ],
   "source": [
    "w = benthos_index-(mbathys-1)\n",
    "w[250,250]"
   ]
  },
  {
   "cell_type": "code",
   "execution_count": 53,
   "metadata": {},
   "outputs": [
    {
     "data": {
      "image/png": "[encoded data removed]",
      "text/plain": [
       "<matplotlib.figure.Figure at 0x7f3594ba3eb8>"
      ]
     },
     "metadata": {},
     "output_type": "display_data"
    }
   ],
   "source": [
    "plot_bathy(mbathys-1,'Bathymetry index of the Salish Sea', \\\n",
    "               cm.cm.dense,20*fact,30*fact,0,40,'bathymetry (m)','')"
   ]
  },
  {
   "cell_type": "code",
   "execution_count": 54,
   "metadata": {},
   "outputs": [
    {
     "name": "stdout",
     "output_type": "stream",
     "text": [
      "0\n",
      "50\n",
      "100\n",
      "150\n",
      "200\n",
      "250\n",
      "300\n",
      "350\n",
      "400\n",
      "450\n",
      "500\n",
      "550\n",
      "600\n",
      "650\n",
      "700\n",
      "750\n",
      "800\n",
      "850\n",
      "1e+20\n",
      "0\n",
      "50\n",
      "100\n",
      "150\n",
      "200\n",
      "250\n",
      "300\n",
      "350\n",
      "400\n",
      "450\n",
      "500\n",
      "550\n",
      "600\n",
      "650\n",
      "700\n",
      "750\n",
      "800\n",
      "850\n"
     ]
    }
   ],
   "source": [
    "f = open('PI_OmA_apr_mean.pkl', 'rb')\n",
    "PI_OmA_apr_mean = pickle.load(f)   \n",
    "f = open('BR_OmA_apr_mean.pkl', 'rb')\n",
    "BR_OmA_apr_mean = pickle.load(f)  \n",
    "\n",
    "f = open('PI_OmA_aug_mean.pkl', 'rb')\n",
    "PI_OmA_aug_mean = pickle.load(f)  \n",
    "f = open('BR_OmA_dec_mean.pkl', 'rb')\n",
    "BR_OmA_aug_mean = pickle.load(f)  \n",
    "\n",
    "f = open('PI_OmA_dec_mean.pkl', 'rb')\n",
    "PI_OmA_dec_mean = pickle.load(f)\n",
    "f = open('BR_OmA_dec_mean.pkl', 'rb')\n",
    "BR_OmA_dec_mean = pickle.load(f)\n",
    "\n",
    "f = open('BR_T_aug_mean.pkl', 'rb')\n",
    "BR_T_aug_mean = pickle.load(f) \n",
    "t = BR_T_aug_mean\n",
    "\n",
    "benthos_index = np.zeros([898,398])\n",
    "for j in range(0,898):\n",
    "    if j%50 == 0:\n",
    "        print(j)\n",
    "    for i in range(0,398):\n",
    "        test = t[:,j,i]\n",
    "        dat = np.where((test>0)&(test<1e19))\n",
    "        W = not all(dat)\n",
    "\n",
    "        if (W == False):#:np.isempty(dat):\n",
    "            benthos = 1e20\n",
    "        else:\n",
    "            benthos = (np.max(dat))\n",
    "        benthos_index[j,i] = (benthos)\n",
    "\n",
    "print(PI_OmA_apr_mean[0,0,0])\n",
    "PI_OmA_apr_benthos = np.zeros([898,398])\n",
    "BR_OmA_apr_benthos = np.zeros([898,398])\n",
    "PI_OmA_aug_benthos = np.zeros([898,398])\n",
    "BR_OmA_aug_benthos = np.zeros([898,398])\n",
    "PI_OmA_dec_benthos = np.zeros([898,398])\n",
    "BR_OmA_dec_benthos = np.zeros([898,398])\n",
    "\n",
    "for j in range(0,898):\n",
    "    if j%50 == 0:\n",
    "        print(j)\n",
    "    for i in range(0,398):\n",
    "        benth = int(benthos_index[j,i])\n",
    "        if benth > 1e10:\n",
    "            PI_OmA_apr_benthos[j,i] = 1e20\n",
    "            BR_OmA_apr_benthos[j,i] = 1e20\n",
    "            PI_OmA_aug_benthos[j,i] = 1e20\n",
    "            BR_OmA_aug_benthos[j,i] = 1e20\n",
    "            PI_OmA_dec_benthos[j,i] = 1e20\n",
    "            BR_OmA_dec_benthos[j,i] = 1e20      \n",
    "        else:   \n",
    "            PI_OmA_apr_benthos[j,i] = PI_OmA_apr_mean[benth,j,i]\n",
    "            BR_OmA_apr_benthos[j,i] = BR_OmA_apr_mean[benth,j,i]\n",
    "            PI_OmA_aug_benthos[j,i] = PI_OmA_aug_mean[benth,j,i]\n",
    "            BR_OmA_aug_benthos[j,i] = BR_OmA_aug_mean[benth,j,i]\n",
    "            PI_OmA_dec_benthos[j,i] = PI_OmA_dec_mean[benth,j,i]\n",
    "            BR_OmA_dec_benthos[j,i] = BR_OmA_dec_mean[benth,j,i]"
   ]
  },
  {
   "cell_type": "code",
   "execution_count": 55,
   "metadata": {},
   "outputs": [
    {
     "data": {
      "text/plain": [
       "27"
      ]
     },
     "execution_count": 55,
     "metadata": {},
     "output_type": "execute_result"
    }
   ],
   "source": [
    "mbathys_cor = mbathys-1\n",
    "mbathys_cor[250,250]"
   ]
  },
  {
   "cell_type": "code",
   "execution_count": 56,
   "metadata": {},
   "outputs": [
    {
     "name": "stdout",
     "output_type": "stream",
     "text": [
      "0\n",
      "50\n",
      "100\n",
      "150\n",
      "200\n",
      "250\n",
      "300\n",
      "350\n",
      "400\n",
      "450\n",
      "500\n",
      "550\n",
      "600\n",
      "650\n",
      "700\n",
      "750\n",
      "800\n",
      "850\n"
     ]
    }
   ],
   "source": [
    "f = open('PI_OmA_apr_mean.pkl', 'rb')\n",
    "PI_OmA_apr_mean = pickle.load(f)   \n",
    "f = open('BR_OmA_apr_mean.pkl', 'rb')\n",
    "BR_OmA_apr_mean = pickle.load(f)  \n",
    "\n",
    "f = open('PI_OmA_aug_mean.pkl', 'rb')\n",
    "PI_OmA_aug_mean = pickle.load(f)  \n",
    "f = open('BR_OmA_dec_mean.pkl', 'rb')\n",
    "BR_OmA_aug_mean = pickle.load(f)  \n",
    "\n",
    "f = open('PI_OmA_dec_mean.pkl', 'rb')\n",
    "PI_OmA_dec_mean = pickle.load(f)\n",
    "f = open('BR_OmA_dec_mean.pkl', 'rb')\n",
    "BR_OmA_dec_mean = pickle.load(f)\n",
    "\n",
    "PI_OmA_apr_benthos = np.zeros([898,398])\n",
    "BR_OmA_apr_benthos = np.zeros([898,398])\n",
    "PI_OmA_aug_benthos = np.zeros([898,398])\n",
    "BR_OmA_aug_benthos = np.zeros([898,398])\n",
    "PI_OmA_dec_benthos = np.zeros([898,398])\n",
    "BR_OmA_dec_benthos = np.zeros([898,398])\n",
    "\n",
    "mbathys_cor = mbathys-1\n",
    "for j in range(0,898):\n",
    "    if j%50 == 0:\n",
    "        print(j)\n",
    "    for i in range(0,398):\n",
    "        benth = int(mbathys_cor[j,i])\n",
    "        if benth < 0:\n",
    "            PI_OmA_apr_benthos[j,i] = 1e20\n",
    "            BR_OmA_apr_benthos[j,i] = 1e20\n",
    "            PI_OmA_aug_benthos[j,i] = 1e20\n",
    "            BR_OmA_aug_benthos[j,i] = 1e20\n",
    "            PI_OmA_dec_benthos[j,i] = 1e20\n",
    "            BR_OmA_dec_benthos[j,i] = 1e20      \n",
    "        else:   \n",
    "            PI_OmA_apr_benthos[j,i] = PI_OmA_apr_mean[benth,j,i]\n",
    "            BR_OmA_apr_benthos[j,i] = BR_OmA_apr_mean[benth,j,i]\n",
    "            PI_OmA_aug_benthos[j,i] = PI_OmA_aug_mean[benth,j,i]\n",
    "            BR_OmA_aug_benthos[j,i] = BR_OmA_aug_mean[benth,j,i]\n",
    "            PI_OmA_dec_benthos[j,i] = PI_OmA_dec_mean[benth,j,i]\n",
    "            BR_OmA_dec_benthos[j,i] = BR_OmA_dec_mean[benth,j,i]"
   ]
  },
  {
   "cell_type": "code",
   "execution_count": 57,
   "metadata": {
    "collapsed": true
   },
   "outputs": [],
   "source": [
    "pickle.dump(PI_OmA_apr_benthos, open(\"PI_OmA_apr_benthos_mbath.pkl\", 'wb'))\n",
    "pickle.dump(BR_OmA_apr_benthos, open(\"BR_OmA_apr_benthos_mbath.pkl\", 'wb'))\n",
    "pickle.dump(PI_OmA_aug_benthos, open(\"PI_OmA_aug_benthos_mbath.pkl\", 'wb'))\n",
    "pickle.dump(BR_OmA_aug_benthos, open(\"BR_OmA_aug_benthos_mbath.pkl\", 'wb'))\n",
    "pickle.dump(PI_OmA_dec_benthos, open(\"PI_OmA_dec_benthos_mbath.pkl\", 'wb'))\n",
    "pickle.dump(BR_OmA_dec_benthos, open(\"BR_OmA_dec_benthos_mbath.pkl\", 'wb'))\n"
   ]
  },
  {
   "cell_type": "code",
   "execution_count": 58,
   "metadata": {},
   "outputs": [],
   "source": [
    "import pickle\n",
    "f = open('BR_OmA_aug_mean.pkl', 'rb')\n",
    "BR_OmA_aug_mean = pickle.load(f) \n",
    "f = open('BR_OmA_dec_mean.pkl', 'rb')\n",
    "BR_OmA_dec_mean = pickle.load(f) "
   ]
  },
  {
   "cell_type": "code",
   "execution_count": 59,
   "metadata": {},
   "outputs": [
    {
     "data": {
      "text/plain": [
       "array([[8.76939926e-01, 8.81809405e-01, 1.00000000e+20, 1.00000000e+20,\n",
       "        1.00000000e+20],\n",
       "       [8.76674119e-01, 8.82068040e-01, 1.00000000e+20, 1.00000000e+20,\n",
       "        1.00000000e+20],\n",
       "       [8.75878003e-01, 8.81687125e-01, 1.00000000e+20, 1.00000000e+20,\n",
       "        1.00000000e+20],\n",
       "       [8.76003721e-01, 8.80644070e-01, 1.00000000e+20, 1.00000000e+20,\n",
       "        1.00000000e+20],\n",
       "       [8.76924639e-01, 8.80788023e-01, 1.00000000e+20, 1.00000000e+20,\n",
       "        1.00000000e+20]])"
      ]
     },
     "execution_count": 59,
     "metadata": {},
     "output_type": "execute_result"
    }
   ],
   "source": [
    "BR_OmA_aug_mean[27,250:255,250:255]"
   ]
  },
  {
   "cell_type": "code",
   "execution_count": 60,
   "metadata": {},
   "outputs": [
    {
     "data": {
      "text/plain": [
       "array([[1.05710249e+00, 1.05830494e+00, 1.00000000e+20, 1.00000000e+20,\n",
       "        1.00000000e+20],\n",
       "       [1.05689042e+00, 1.05766790e+00, 1.00000000e+20, 1.00000000e+20,\n",
       "        1.00000000e+20],\n",
       "       [1.05653955e+00, 1.05680491e+00, 1.00000000e+20, 1.00000000e+20,\n",
       "        1.00000000e+20],\n",
       "       [1.05466577e+00, 1.05511824e+00, 1.00000000e+20, 1.00000000e+20,\n",
       "        1.00000000e+20],\n",
       "       [1.05377080e+00, 1.05379679e+00, 1.00000000e+20, 1.00000000e+20,\n",
       "        1.00000000e+20]])"
      ]
     },
     "execution_count": 60,
     "metadata": {},
     "output_type": "execute_result"
    }
   ],
   "source": [
    "BR_OmA_dec_mean[27,250:255,250:255]"
   ]
  },
  {
   "cell_type": "code",
   "execution_count": 61,
   "metadata": {
    "collapsed": true
   },
   "outputs": [],
   "source": [
    "f = open('BR_OmA_aug_benthos_mbath.pkl', 'rb')\n",
    "BR_OmA_aug_benthos_mbath = pickle.load(f) \n",
    "f = open('BR_OmA_dec_benthos_mbath.pkl', 'rb')\n",
    "BR_OmA_dec_benthos_mbath = pickle.load(f)"
   ]
  },
  {
   "cell_type": "code",
   "execution_count": 62,
   "metadata": {},
   "outputs": [
    {
     "data": {
      "text/plain": [
       "array([[1.05710249, 1.05830494, 1.06195089, 1.06572591, 1.06769118],\n",
       "       [1.05689042, 1.0576679 , 1.06006089, 1.06388912, 1.07807263],\n",
       "       [1.05653955, 1.05680491, 1.05836165, 1.06072398, 1.07463373],\n",
       "       [1.05466577, 1.05511824, 1.057342  , 1.05665142, 1.06205454],\n",
       "       [1.0537708 , 1.05379679, 1.05702346, 1.05687216, 1.05645374]])"
      ]
     },
     "execution_count": 62,
     "metadata": {},
     "output_type": "execute_result"
    }
   ],
   "source": [
    "BR_OmA_aug_benthos_mbath[250:255,250:255]"
   ]
  },
  {
   "cell_type": "code",
   "execution_count": 63,
   "metadata": {},
   "outputs": [
    {
     "data": {
      "text/plain": [
       "array([[1.05710249, 1.05830494, 1.06195089, 1.06572591, 1.06769118],\n",
       "       [1.05689042, 1.0576679 , 1.06006089, 1.06388912, 1.07807263],\n",
       "       [1.05653955, 1.05680491, 1.05836165, 1.06072398, 1.07463373],\n",
       "       [1.05466577, 1.05511824, 1.057342  , 1.05665142, 1.06205454],\n",
       "       [1.0537708 , 1.05379679, 1.05702346, 1.05687216, 1.05645374]])"
      ]
     },
     "execution_count": 63,
     "metadata": {},
     "output_type": "execute_result"
    }
   ],
   "source": [
    "BR_OmA_dec_benthos_mbath[250:255,250:255]"
   ]
  },
  {
   "cell_type": "code",
   "execution_count": null,
   "metadata": {
    "collapsed": true
   },
   "outputs": [],
   "source": []
  }
 ],
 "metadata": {
  "kernelspec": {
   "display_name": "Python 3",
   "language": "python",
   "name": "python3"
  },
  "language_info": {
   "codemirror_mode": {
    "name": "ipython",
    "version": 3
   },
   "file_extension": ".py",
   "mimetype": "text/x-python",
   "name": "python",
   "nbconvert_exporter": "python",
   "pygments_lexer": "ipython3",
   "version": "3.6.0"
  }
 },
 "nbformat": 4,
 "nbformat_minor": 2
}
