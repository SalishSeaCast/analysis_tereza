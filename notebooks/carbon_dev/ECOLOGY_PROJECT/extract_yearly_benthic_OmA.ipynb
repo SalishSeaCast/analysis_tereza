{
 "cells": [
  {
   "cell_type": "code",
   "execution_count": 6,
   "metadata": {},
   "outputs": [],
   "source": [
    "import xarray as xr\n",
    "import netCDF4 as nc\n",
    "import numpy as np"
   ]
  },
  {
   "cell_type": "code",
   "execution_count": 7,
   "metadata": {},
   "outputs": [],
   "source": [
    "tdir = '/data/tjarniko/MEOPAR/analysis-tereza/notebooks/carbon_dev/PI_CARBON_PAPER/MAIN_ANALYSIS/CLEAN/KEY_OMA/'\n",
    "\n",
    "BR = nc.Dataset(tdir +'BR_OmA.nc')\n",
    "BR_OmA = BR['model_output']['OmA'][:]\n",
    "PI = nc.Dataset(tdir +'PI_OmA.nc')\n",
    "PI_OmA = PI['model_output']['OmA'][:]"
   ]
  },
  {
   "cell_type": "code",
   "execution_count": 9,
   "metadata": {},
   "outputs": [
    {
     "name": "stdout",
     "output_type": "stream",
     "text": [
      "0\n",
      "10\n",
      "20\n",
      "30\n",
      "40\n",
      "50\n",
      "60\n",
      "70\n",
      "80\n",
      "90\n",
      "100\n",
      "110\n",
      "120\n",
      "130\n",
      "140\n",
      "150\n",
      "160\n",
      "170\n",
      "180\n",
      "190\n",
      "200\n",
      "210\n",
      "220\n",
      "230\n",
      "240\n",
      "250\n",
      "260\n",
      "270\n",
      "280\n",
      "290\n",
      "300\n",
      "310\n",
      "320\n",
      "330\n",
      "340\n",
      "350\n",
      "360\n"
     ]
    }
   ],
   "source": [
    "mesh = xr.open_dataset('/home/sallen/MEOPAR/grid/mesh_mask201702.nc')\n",
    "mbathys = np.array(mesh.mbathy[0])\n",
    "mbathys_cor = mbathys -1 \n",
    "\n",
    "PI_year_benthos = np.zeros([365,898,398])\n",
    "BR_year_benthos = np.zeros([365,898,398])\n",
    "\n",
    "mbathys_cor = mbathys-1\n",
    "for d in range(0,365):\n",
    "    if d%10 == 0:\n",
    "        print(d)\n",
    "    for j in range(0,898):\n",
    "        for i in range(0,398):\n",
    "            benth = int(mbathys_cor[j,i])\n",
    "            if benth < 0:\n",
    "                PI_year_benthos[d,j,i] = 1e20\n",
    "                BR_year_benthos[d,j,i] = 1e20\n",
    "\n",
    "            else:   \n",
    "                PI_year_benthos[d,j,i] = PI_OmA[d,benth,j,i]\n",
    "                BR_year_benthos[d,j,i] = BR_OmA[d,benth,j,i]"
   ]
  },
  {
   "cell_type": "code",
   "execution_count": 11,
   "metadata": {},
   "outputs": [],
   "source": [
    "import pickle\n",
    "pickle.dump(PI_year_benthos, open(\"PI_year_benthos_daily.pkl\", 'wb'))\n",
    "pickle.dump(BR_year_benthos, open(\"BR_year_benthos_daily.pkl\", 'wb'))"
   ]
  },
  {
   "cell_type": "code",
   "execution_count": null,
   "metadata": {
    "collapsed": true
   },
   "outputs": [],
   "source": []
  }
 ],
 "metadata": {
  "kernelspec": {
   "display_name": "Python 3",
   "language": "python",
   "name": "python3"
  },
  "language_info": {
   "codemirror_mode": {
    "name": "ipython",
    "version": 3
   },
   "file_extension": ".py",
   "mimetype": "text/x-python",
   "name": "python",
   "nbconvert_exporter": "python",
   "pygments_lexer": "ipython3",
   "version": "3.6.0"
  }
 },
 "nbformat": 4,
 "nbformat_minor": 2
}
