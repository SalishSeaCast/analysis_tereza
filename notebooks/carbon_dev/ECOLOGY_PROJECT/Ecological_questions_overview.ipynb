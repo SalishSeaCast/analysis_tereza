{
 "cells": [
  {
   "cell_type": "markdown",
   "metadata": {
    "collapsed": true
   },
   "source": [
    "# Effect of anthropogenic carbon on aragonite saturation state and benthic habitat according to the SKØG model\n",
    "\n"
   ]
  },
  {
   "cell_type": "markdown",
   "metadata": {},
   "source": [
    "# Questions we have formulated:\n",
    "\n",
    "#### 1) If we use an aragonite threshold to define suitable benthic habitat, how much benthic habitat was lost from preindustrial to present-day?\n",
    "\n",
    "#### 1b) how much of benthic habitat shallower than 50m was lost?\n",
    "\n",
    "#### 1c) What if we use a threshold in T as well as aragonite?\n",
    "\n",
    "#### 2) What is the change in aragonite saturation horizon/ aragonite-related conditions in Pendrell Sound?\n",
    "\n",
    "I am defining Pendrell Sound as 50.270, -124.715 here, which corresponds to model point i: j: .\n"
   ]
  },
  {
   "cell_type": "code",
   "execution_count": null,
   "metadata": {
    "collapsed": true
   },
   "outputs": [],
   "source": []
  },
  {
   "cell_type": "code",
   "execution_count": null,
   "metadata": {
    "collapsed": true
   },
   "outputs": [],
   "source": []
  }
 ],
 "metadata": {
  "kernelspec": {
   "display_name": "Python 3",
   "language": "python",
   "name": "python3"
  },
  "language_info": {
   "codemirror_mode": {
    "name": "ipython",
    "version": 3
   },
   "file_extension": ".py",
   "mimetype": "text/x-python",
   "name": "python",
   "nbconvert_exporter": "python",
   "pygments_lexer": "ipython3",
   "version": "3.6.0"
  }
 },
 "nbformat": 4,
 "nbformat_minor": 2
}
