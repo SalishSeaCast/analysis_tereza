{
 "cells": [
  {
   "cell_type": "code",
   "execution_count": 108,
   "metadata": {},
   "outputs": [
    {
     "name": "stdout",
     "output_type": "stream",
     "text": [
      "Once deleted, variables cannot be recovered. Proceed (y/[n])? y\n"
     ]
    }
   ],
   "source": [
    "%reset"
   ]
  },
  {
   "cell_type": "code",
   "execution_count": 109,
   "metadata": {},
   "outputs": [
    {
     "data": {
      "text/html": [
       "<script>\n",
       "code_show=true; \n",
       "function code_toggle() {\n",
       " if (code_show){\n",
       " $('div.input').hide();\n",
       " } else {\n",
       " $('div.input').show();\n",
       " }\n",
       " code_show = !code_show\n",
       "} \n",
       "$( document ).ready(code_toggle);\n",
       "</script>\n",
       "<form action=\"javascript:code_toggle()\"><input type=\"submit\" value=\"Click here to toggle on/off the raw code.\"></form>"
      ],
      "text/plain": [
       "<IPython.core.display.HTML object>"
      ]
     },
     "execution_count": 109,
     "metadata": {},
     "output_type": "execute_result"
    }
   ],
   "source": [
    "from IPython.display import HTML\n",
    "\n",
    "HTML('''<script>\n",
    "code_show=true; \n",
    "function code_toggle() {\n",
    " if (code_show){\n",
    " $('div.input').hide();\n",
    " } else {\n",
    " $('div.input').show();\n",
    " }\n",
    " code_show = !code_show\n",
    "} \n",
    "$( document ).ready(code_toggle);\n",
    "</script>\n",
    "<form action=\"javascript:code_toggle()\"><input type=\"submit\" value=\"Click here to toggle on/off the raw code.\"></form>''')"
   ]
  },
  {
   "cell_type": "code",
   "execution_count": 110,
   "metadata": {},
   "outputs": [],
   "source": [
    "from __future__ import print_function\n",
    "from numpy import *\n",
    "from scipy import *\n",
    "\n",
    "import matplotlib\n",
    "import matplotlib.pyplot as plt\n",
    "from matplotlib import reload\n",
    "import matplotlib.patches as patches\n",
    "\n",
    "import netCDF4 as nc\n",
    "import numpy as np\n",
    "import scipy as sp\n",
    "\n",
    "import seawater\n",
    "import datetime as dt\n",
    "\"\"\n",
    "from salishsea_tools import (\n",
    "    nc_tools,\n",
    "    viz_tools,\n",
    "    geo_tools,\n",
    "    tidetools\n",
    ")\n",
    "\n",
    "# matplotlib.use('Agg')\n",
    "# plt.style.use('seaborn-whitegrid')\n",
    "import cmocean as cm\n",
    "import glob\n",
    "import sys\n",
    "sys.path.append('/data/tjarniko/mocsy')\n",
    "sys.path.append('/data/tjarniko/MEOPAR/at3/notebooks/carbon_dev/CCCmaDEV/CCCma_src')\n",
    "import mocsy\n",
    "import CCCma\n",
    "import CCCma_stations as cs\n",
    "\n",
    "from scipy import optimize\n",
    "import arrow\n",
    "import gsw\n",
    "import pandas as pd\n",
    "%matplotlib inline"
   ]
  },
  {
   "cell_type": "markdown",
   "metadata": {},
   "source": [
    "## METHOD SUMMARY: Essentially, we ask: how old is this water? We get a proxy for how old the water is via how dense it is. Then we ask: What atmospheric CO2 did it see when it was last at the surface? How different is that CO2 from preindustrial CO2? This is the CO2 anthropogenic intrusion. So, surface water will have a big intrusion, deep water won't. We then subtract the intrusion (in pco2) from the mocsy-calculated pco2 of the present-day boundary conditions to get preindustrial pco2. THEN we use the same TA and all other conditions, with this different pco2, to calculate the preindustrial DIC."
   ]
  },
  {
   "cell_type": "markdown",
   "metadata": {},
   "source": [
    "## Part 1: Use  isopycnal vs ventilation age relationship to get age of watermass estimate, then use co2 levels at that age to get identity of co2 intrusion\n",
    "\n",
    "\n",
    "\n",
    "    1) plot age of water as fxn of isopycnal - use scipy-optimize...\n",
    "    2) plot intrusion of pco2 as fxn of age...what is the 'correct' reference here?\n",
    "    \n",
    "problem - the age of water as a function of isopycnal gets very exponential very quickly- an isopycnal of 25.7 has an age of ~320 years. \n",
    "\n",
    "\n",
    "##### atmospheric CO2 - used co2levels.org data sources, \n",
    "###### smoothed yearly product (ice core 1832-1959, maunaloa 1959-pres)\n",
    "\n",
    "    1832- 1958: https://cdiac.ess-dive.lbl.gov/ftp/trends/co2/lawdome.combined.dat\n",
    "    1959 - pres: https://www.co2levels.org/#sources\n",
    "\n",
    "\n"
   ]
  },
  {
   "cell_type": "markdown",
   "metadata": {},
   "source": [
    "### PPM CO2 from 1832-2018, using above sources, and code to look up atmco2 for a given year from 1832-2018"
   ]
  },
  {
   "cell_type": "code",
   "execution_count": 111,
   "metadata": {
    "collapsed": true,
    "scrolled": true
   },
   "outputs": [],
   "source": [
    "co2_rec = pd.read_csv('lawdome_maunaloa.csv') \n"
   ]
  },
  {
   "cell_type": "code",
   "execution_count": 112,
   "metadata": {},
   "outputs": [
    {
     "data": {
      "text/plain": [
       "<matplotlib.text.Text at 0x7fbb6c36ef60>"
      ]
     },
     "execution_count": 112,
     "metadata": {},
     "output_type": "execute_result"
    },
    {
     "data": {
      "image/png": "[encoded data removed]",
      "text/plain": [
       "<matplotlib.figure.Figure at 0x7fbb69efccf8>"
      ]
     },
     "metadata": {},
     "output_type": "display_data"
    }
   ],
   "source": [
    "plt.plot(co2_rec['YEAR'],co2_rec['PPMCO2'])\n",
    "plt.ylabel('pco2 uatm')\n",
    "plt.xlabel('year')"
   ]
  },
  {
   "cell_type": "code",
   "execution_count": 113,
   "metadata": {
    "collapsed": true
   },
   "outputs": [],
   "source": [
    "co2_rec = pd.read_csv('lawdome_maunaloa.csv') \n",
    "def co2_from_year(year):\n",
    "    '''takes a value for a year, converts year to int,\n",
    "    and finds appropriate co2 values  from pandas lookup table. \n",
    "    if year < 1832, value is for year 1832, if year > 2018, value is for year 2018'''\n",
    "    \n",
    "    whole_year = int(year)\n",
    "    \n",
    "    if whole_year >= 2018:\n",
    "        whole_year = 2018     \n",
    "        #print('year > 2018, using value for 2018')\n",
    "        \n",
    "    if whole_year <= 1832:\n",
    "        whole_year = 1832\n",
    "        #print('year < 1832, using value for 1832')\n",
    "\n",
    "    match = (co2_rec['YEAR'] == whole_year) \n",
    "    atmco2 = co2_rec['PPMCO2'][match]\n",
    "    t_co2 = atmco2.values[0]\n",
    "    return t_co2"
   ]
  },
  {
   "cell_type": "code",
   "execution_count": 114,
   "metadata": {},
   "outputs": [
    {
     "name": "stdout",
     "output_type": "stream",
     "text": [
      "year: 1000, pco2: 284.3\n",
      "year: 1900, pco2: 295.8\n",
      "year: 2004, pco2: 377.52\n"
     ]
    }
   ],
   "source": [
    "#test\n",
    "ty = 1000\n",
    "tco2 = co2_from_year(ty)\n",
    "print('year: '+str(ty) +', pco2: '+str(tco2))\n",
    "ty = 1900\n",
    "tco2 = co2_from_year(ty)\n",
    "print('year: '+str(ty) +', pco2: '+str(tco2))\n",
    "ty = 2004\n",
    "tco2 = co2_from_year(ty)\n",
    "print('year: '+str(ty) +', pco2: '+str(tco2))"
   ]
  },
  {
   "cell_type": "markdown",
   "metadata": {},
   "source": [
    "## from Tetjana's plot, define pycnals and ventilation age, use scipy curve_fit to make a fxn of ventilation time/year last at surface vs pycnal, use above code to find atm co2 when pycnal was last at surface"
   ]
  },
  {
   "cell_type": "code",
   "execution_count": null,
   "metadata": {
    "collapsed": true
   },
   "outputs": [],
   "source": []
  },
  {
   "cell_type": "code",
   "execution_count": 116,
   "metadata": {},
   "outputs": [
    {
     "name": "stdout",
     "output_type": "stream",
     "text": [
      "0.5406570488955575\n",
      "11.595484591464743\n",
      "0.2153367515219747\n"
     ]
    }
   ],
   "source": [
    "\n",
    "pycnal = np.array([24.4, 25.15, 25.4, 25.6])\n",
    "pycnal_age = np.array([0,1,10,100])\n",
    "\n",
    "pycnal_forfunc = np.arange(24.4,27,0.01)\n",
    "\n",
    "def test_func(x, a, b, c):\n",
    "    return a * np.exp(-b * (25.15-x)) + c\n",
    "\n",
    "params, params_covariance = optimize.curve_fit(test_func, pycnal, pycnal_age,\n",
    "                                               p0=[1, -0.05, -25.15])\n",
    "params0 = params[0]\n",
    "params1 = params[1]\n",
    "params2 = params[2]\n",
    "print(params0)\n",
    "print(params1)\n",
    "print(params2)\n",
    "\n",
    "pycnal_last_at_surface = 2019 - params0 *np.exp(-params1*(25.15-pycnal_forfunc))+params2\n",
    "\n",
    "pycnal_original_co2 = np.zeros_like(pycnal_last_at_surface)\n",
    "\n",
    "for i in range(0,len(pycnal_original_co2)):\n",
    "    ty = pycnal_last_at_surface[i]\n",
    "    tco2 = co2_from_year(ty)\n",
    "    pycnal_original_co2[i] = tco2\n",
    "    \n",
    "    \n",
    "pycnal_intrusion = 409 - pycnal_original_co2\n"
   ]
  },
  {
   "cell_type": "code",
   "execution_count": 117,
   "metadata": {},
   "outputs": [
    {
     "name": "stdout",
     "output_type": "stream",
     "text": [
      "189.02691868769068\n"
     ]
    }
   ],
   "source": [
    "pff = 25.655\n",
    "paf = params0 *np.exp(-params1*(25.15-pff))+params2\n",
    "print(paf)\n",
    "\n",
    "pycnal_forfunc =np.arange(24.4,27,0.01)\n",
    "pycnal_age_fromfunc = params0 *np.exp(-params1*(25.15-pycnal_forfunc))+params2\n",
    "pycnal_age_fromfunc[pycnal_forfunc>=25.655] = paf"
   ]
  },
  {
   "cell_type": "code",
   "execution_count": null,
   "metadata": {},
   "outputs": [],
   "source": []
  },
  {
   "cell_type": "code",
   "execution_count": 118,
   "metadata": {},
   "outputs": [
    {
     "data": {
      "image/png": "[encoded data removed]",
      "text/plain": [
       "<matplotlib.figure.Figure at 0x7fbb6c521fd0>"
      ]
     },
     "metadata": {},
     "output_type": "display_data"
    }
   ],
   "source": [
    "fig = plt.figure(figsize=(4,4))\n",
    "nop = 1\n",
    "for i in range(1,nop+1):\n",
    "\n",
    "    if i == 1:\n",
    "        ax = fig.add_subplot(1,1,i)\n",
    "        #ax.plot(pycnal,pycnal_age,'r*', markersize = 15)\n",
    "        ax.plot(pycnal_forfunc,pycnal_age_fromfunc)\n",
    "        ax.plot(pycnal_forfunc,pycnal_age_fromfunc)\n",
    "        ax.set_xlabel('isopycnal')\n",
    "        ax.set_ylabel('ventilation age')\n",
    "        ax.set_xlim([24.0,27.0])\n",
    "        ax.set_ylim([0,200])"
   ]
  },
  {
   "cell_type": "code",
   "execution_count": 120,
   "metadata": {},
   "outputs": [
    {
     "name": "stdout",
     "output_type": "stream",
     "text": [
      "[26.6]\n"
     ]
    },
    {
     "data": {
      "image/png": "[encoded data removed]",
      "text/plain": [
       "<matplotlib.figure.Figure at 0x7fbb6987e668>"
      ]
     },
     "metadata": {},
     "output_type": "display_data"
    }
   ],
   "source": [
    "from scipy.optimize import curve_fit\n",
    "import numpy as np\n",
    "import matplotlib.pyplot as plt\n",
    "\n",
    "pycnal_forfunc2 =np.arange(24.4,27,0.01)\n",
    "pycnal_age2 = np.zeros_like(pycnal_forfunc2)\n",
    "print(pycnal_forfunc2[np.abs(pycnal_forfunc2- 26.6)<0.005])\n",
    "pycnal_age2[np.abs(pycnal_forfunc2- 26.6)<0.025] = 50 - paf\n",
    "\n",
    "x = pycnal_forfunc2\n",
    "y = pycnal_age2\n",
    "\n",
    "\n",
    "y_fin = np.zeros_like(x)\n",
    "amp = -1.39e+02  \n",
    "wid = 1.50e-02  \n",
    "ctr = 2.66e+01\n",
    "ctr_bef = 2.658e+01\n",
    "ctr_aft = 2.662e+01\n",
    "\n",
    "#simple gaussian\n",
    "y_fin = y_fin + amp * np.exp( -((x - ctr)/wid)**2) \n",
    "#piecwise gaussian\n",
    "y_fin2 = np.zeros_like(x)\n",
    "y_fin2 = amp * np.exp( -((x - ctr_bef)/wid)**2) \n",
    "y_fin3 = amp * np.exp( -((x - ctr_aft)/wid)**2) \n",
    "y_fin2[(x>=ctr_bef) & (x<=ctr_aft)] = amp\n",
    "y_fin2[x>=ctr_aft] = y_fin3[x>=ctr_aft]\n",
    "\n",
    "y = y + paf\n",
    "y_fin = y_fin + paf\n",
    "y_fin2 = y_fin2 + paf\n",
    "\n",
    "# print(popt2)\n",
    "y_fin3 = np.copy(y_fin2)\n",
    "y_fin3[x<=26.0] = pycnal_age_fromfunc[x<26.0]\n",
    "plt.plot(x, y)\n",
    "plt.plot(x, y_fin, 'r:',linewidth = 2, label = 'simple gaussian')\n",
    "plt.plot(x,y_fin2, 'k:',linewidth = 2, label = 'piecewise gaussian')\n",
    "plt.plot(x,y_fin3, 'g:',linewidth = 2, label = 'combined curve')\n",
    "\n",
    "\n",
    "\n",
    "plt.title('2 gaussian fit to raw data')\n",
    "plt.legend(bbox_to_anchor=(1.5, 1))\n",
    "plt.show()\n",
    "\n"
   ]
  },
  {
   "cell_type": "code",
   "execution_count": 126,
   "metadata": {},
   "outputs": [
    {
     "data": {
      "image/png": "[encoded data removed]",
      "text/plain": [
       "<matplotlib.figure.Figure at 0x7fbb6bf052e8>"
      ]
     },
     "metadata": {},
     "output_type": "display_data"
    }
   ],
   "source": [
    "pycnal_age_ff_int = y_fin3\n",
    "\n",
    "#pycnal_last_at_surface = 2019 - params0 *np.exp(-params1*(25.15-pycnal_forfunc))+params2\n",
    "pycnal_last_at_surface = 2019 - pycnal_age_ff_int\n",
    "\n",
    "pycnal_original_co2 = np.zeros_like(pycnal_last_at_surface)\n",
    "\n",
    "for i in range(0,len(pycnal_original_co2)):\n",
    "    ty = pycnal_last_at_surface[i]\n",
    "    tco2 = co2_from_year(ty)\n",
    "    pycnal_original_co2[i] = tco2\n",
    "    \n",
    "    \n",
    "pycnal_intrusion = 409 - pycnal_original_co2\n",
    "\n",
    "fig = plt.figure(figsize=(10,10))\n",
    "nop = 4\n",
    "for i in range(1,nop+1):\n",
    "\n",
    "    if i == 1:\n",
    "        ax = fig.add_subplot(2,2,i)\n",
    "        ax.plot(pycnal,pycnal_age,'r*', markersize = 15)\n",
    "        #ax.plot(pycnal_forfunc,pycnal_age_fromfunc)\n",
    "        ax.plot(pycnal_forfunc,pycnal_age_ff_int)\n",
    "        ax.set_xlabel('isopycnal')\n",
    "        ax.set_ylabel('ventilation age')\n",
    "        ax.set_xlim([24.0,27.0])\n",
    "        ax.set_ylim([0,200])\n",
    "        \n",
    "    if i == 2:\n",
    "        ax = fig.add_subplot(2,2,i)\n",
    "        #ax.plot(pycnal,pycnal_age,'r*', markersize = 15)\n",
    "        ax.plot(pycnal_forfunc,pycnal_last_at_surface)\n",
    "        ax.plot(25.654,1832.1497986658724,'g*', markersize = 15)\n",
    "        ax.set_ylim([1700,2020])\n",
    "        ax.set_xlabel('isopycnal')\n",
    "        ax.set_ylabel('pycnal last at surface')\n",
    "        ax.set_title('green star = last isopycnal in fxn (25.654)')\n",
    "\n",
    "    if i == 3:\n",
    "        ax = fig.add_subplot(2,2,i)\n",
    "        #ax.plot(pycnal,pycnal_age,'r*', markersize = 15)\n",
    "        ax.plot(pycnal_forfunc,pycnal_original_co2)\n",
    "        ax.set_xlabel('isopycnal')\n",
    "        ax.set_ylabel('co2 when pycnal last at surface')\n",
    "\n",
    "\n",
    "    if i == 4:\n",
    "        ax = fig.add_subplot(2,2,i)\n",
    "        #ax.plot(pycnal,pycnal_age,'r*', markersize = 15)\n",
    "        ax.plot(pycnal_forfunc,pycnal_intrusion)\n",
    "        ax.set_xlabel('isopycnal')\n",
    "        ax.set_ylabel('difference betweeen present-day co2 and co2')\n",
    "\n",
    "   \n",
    "        \n",
    "plt.tight_layout()"
   ]
  },
  {
   "cell_type": "markdown",
   "metadata": {},
   "source": [
    "\n",
    "## ventilation age as a fxn of isopycnal, station P04, km 220\n",
    "\n",
    "## we see that 25.4-25.7 is the critical interval where age matters."
   ]
  },
  {
   "cell_type": "code",
   "execution_count": null,
   "metadata": {},
   "outputs": [],
   "source": [
    "fig = plt.figure(figsize=(10,10))\n",
    "nop = 4\n",
    "for i in range(1,nop+1):\n",
    "\n",
    "    if i == 1:\n",
    "        ax = fig.add_subplot(2,2,i)\n",
    "        ax.plot(pycnal,pycnal_age,'r*', markersize = 15)\n",
    "        ax.plot(pycnal_forfunc,pycnal_age_fromfunc)\n",
    "        ax.set_xlabel('isopycnal')\n",
    "        ax.set_ylabel('ventilation age')\n",
    "        ax.set_xlim([24.0,26.0])\n",
    "        ax.set_ylim([0,200])\n",
    "        \n",
    "\n",
    "    if i == 2:\n",
    "        ax = fig.add_subplot(2,2,i)\n",
    "        #ax.plot(pycnal,pycnal_age,'r*', markersize = 15)\n",
    "        ax.plot(pycnal_forfunc,pycnal_last_at_surface)\n",
    "        ax.plot(25.654,1832.1497986658724,'g*', markersize = 15)\n",
    "        ax.set_ylim([1700,2020])\n",
    "        ax.set_xlabel('isopycnal')\n",
    "        ax.set_ylabel('pycnal last at surface')\n",
    "        ax.set_title('green star = last isopycnal in fxn (25.654)')\n",
    "\n",
    "    if i == 3:\n",
    "        ax = fig.add_subplot(2,2,i)\n",
    "        #ax.plot(pycnal,pycnal_age,'r*', markersize = 15)\n",
    "        ax.plot(pycnal_forfunc,pycnal_original_co2)\n",
    "        ax.set_xlabel('isopycnal')\n",
    "        ax.set_ylabel('co2 when pycnal last at surface')\n",
    "\n",
    "\n",
    "    if i == 4:\n",
    "        ax = fig.add_subplot(2,2,i)\n",
    "        #ax.plot(pycnal,pycnal_age,'r*', markersize = 15)\n",
    "        ax.plot(pycnal_forfunc,pycnal_intrusion)\n",
    "        ax.set_xlabel('isopycnal')\n",
    "        ax.set_ylabel('difference betweeen present-day co2 and co2')\n",
    "\n",
    "   \n",
    "        \n",
    "plt.tight_layout()"
   ]
  },
  {
   "cell_type": "code",
   "execution_count": null,
   "metadata": {},
   "outputs": [],
   "source": [
    "pycnal_forfunc2 = 24.4\n",
    "pycnal_age_fromfunc = params[0] *np.exp(-params[1]*(25.15-pycnal_forfunc2))+params[2]\n",
    "pycnal_last_at_surface = 2019 - pycnal_age_fromfunc\n",
    "print('minimum pycnal for function: ', pycnal_forfunc2)\n",
    "print('last at surface:', pycnal_last_at_surface)\n",
    "pycnal_forfunc2 = 25.654\n",
    "pycnal_age_fromfunc = params[0] *np.exp(-params[1]*(25.15-pycnal_forfunc2))+params[2]\n",
    "pycnal_last_at_surface = 2019 - pycnal_age_fromfunc\n",
    "print('Max pycnal for function: ', pycnal_forfunc2)\n",
    "print('last at surface:', pycnal_last_at_surface)"
   ]
  },
  {
   "cell_type": "code",
   "execution_count": null,
   "metadata": {
    "collapsed": true
   },
   "outputs": [],
   "source": [
    "test_LO = nc.Dataset('/results/forcing/LiveOcean/boundary_conditions/LiveOcean_v201905_y2018m06d01.nc')\n",
    "zlevels = (test_LO['deptht'][:])\n",
    "sal = test_LO['vosaline'][0,:,0,:]\n",
    "temp = test_LO['votemper'][0,:,0,:]\n",
    "potdens = gsw.sigma0(sal,temp)\n",
    "potdens_mask = np.copy(potdens)\n",
    "potdens_mask[potdens>24.4] = 1\n",
    "potdens_mask[potdens<=24.4] = -1\n",
    "\n",
    "DIC = test_LO['DIC'][0,:,0,:]\n",
    "TA = test_LO['TA'][0,:,0,:]\n",
    "\n",
    "depth_this = np.zeros_like(TA)\n",
    "\n",
    "for i in range(0,950):\n",
    "    depth_this[:,i] = zlevels"
   ]
  },
  {
   "cell_type": "code",
   "execution_count": null,
   "metadata": {
    "collapsed": true
   },
   "outputs": [],
   "source": [
    "\n",
    "pycnal_last_at_surface = 2019 - params0 *np.exp(-params1*(25.15-potdens))+params2\n",
    "\n",
    "pycnal_original_co2 = np.zeros_like(pycnal_last_at_surface)\n",
    "np.shape(pycnal_original_co2)\n",
    "for i in range(0,40):\n",
    "    for j in range(0,950):\n",
    "        ty = pycnal_last_at_surface[i,j]\n",
    "        tco2 = co2_from_year(ty)\n",
    "        pycnal_original_co2[i,j] = tco2\n",
    "\n",
    "\n",
    "pycnal_intrusion = 409 - pycnal_original_co2"
   ]
  },
  {
   "cell_type": "code",
   "execution_count": null,
   "metadata": {},
   "outputs": [],
   "source": [
    "fig = plt.figure(figsize=(11,3.5))\n",
    "nop = 4\n",
    "for i in range(1,nop+1):\n",
    "\n",
    "    if i == 1:\n",
    "        ax = fig.add_subplot(1,4,i)\n",
    "        section_slice = np.arange(0, 95)\n",
    "        sd = (potdens)\n",
    "        tplt = np.ma.masked_values(sd,0)\n",
    "        tcmap = cm.cm.deep\n",
    "        cmap = tcmap\n",
    "        mesh = ax.pcolormesh(section_slice[:],zlevels[:],tplt[:,0:95], cmap = tcmap, vmin=20, vmax=30)\n",
    "        cbar = fig.colorbar(mesh, ax=ax)\n",
    "        ax.invert_yaxis()\n",
    "        land_colour = 'slategrey'\n",
    "        cmap.set_bad(land_colour)\n",
    "        plt.title('potential density of BC') \n",
    "        ax.set_ylabel('depth')\n",
    "        ax.set_xticklabels([])\n",
    "        \n",
    "    if i == 2:\n",
    "        ax = fig.add_subplot(1,4,i)\n",
    "        section_slice = np.arange(0, 95)\n",
    "        sd = (potdens_mask)\n",
    "        tplt = np.ma.masked_values(sd,0)\n",
    "        tcmap = cm.cm.balance\n",
    "        cmap = tcmap\n",
    "        mesh = ax.pcolormesh(section_slice[:],zlevels[:],tplt[:,0:95], cmap = tcmap, vmin=-1, vmax=1)\n",
    "        cbar = fig.colorbar(mesh, ax=ax)\n",
    "        ax.invert_yaxis()\n",
    "        land_colour = 'slategrey'\n",
    "        cmap.set_bad(land_colour)\n",
    "        plt.title('potential density of BC (1 means >24.4)') \n",
    "        ax.set_ylabel('depth')\n",
    "        ax.set_xticklabels([])\n",
    "        \n",
    "    if i == 3:\n",
    "        ax = fig.add_subplot(1,4,i)\n",
    "        section_slice = np.arange(0, 95)\n",
    "        sd = (pycnal_intrusion)\n",
    "        tplt = np.ma.masked_values(sd,0)\n",
    "        tcmap = cm.cm.balance\n",
    "        cmap = tcmap\n",
    "        mesh = ax.pcolormesh(section_slice[:],zlevels[:],tplt[:,0:95], cmap = tcmap, vmin=0, vmax=129)\n",
    "        cbar = fig.colorbar(mesh, ax=ax)\n",
    "        ax.invert_yaxis()\n",
    "        land_colour = 'slategrey'\n",
    "        cmap.set_bad(land_colour)\n",
    "        plt.title('intrusion according to ventilation age') \n",
    "        ax.set_ylabel('depth')\n",
    "        ax.set_xticklabels([])   \n",
    "        \n",
    "    if i == 4:\n",
    "        ax = fig.add_subplot(1,4,i)\n",
    "        section_slice = np.arange(0, 95)\n",
    "        sd = (pycnal_original_co2)\n",
    "        tplt = np.ma.masked_values(sd,0)\n",
    "        tcmap = cm.cm.balance\n",
    "        cmap = tcmap\n",
    "        mesh = ax.pcolormesh(section_slice[:],zlevels[:],tplt[:,0:95], cmap = tcmap, vmin=280, vmax=420)\n",
    "        cbar = fig.colorbar(mesh, ax=ax)\n",
    "        ax.invert_yaxis()\n",
    "        land_colour = 'slategrey'\n",
    "        cmap.set_bad(land_colour)\n",
    "        plt.title(' pco2 when last at surface') \n",
    "        ax.set_ylabel('depth')\n",
    "        ax.set_xticklabels([])    \n",
    "\n",
    "\n",
    "        \n",
    "plt.suptitle('y2018m06d01', fontsize = 15)\n",
    "plt.tight_layout()"
   ]
  },
  {
   "cell_type": "code",
   "execution_count": null,
   "metadata": {
    "collapsed": true
   },
   "outputs": [],
   "source": [
    "def oned_moxy(tsal, ttemp, tdic, tta, pres_atm, depth_this):\n",
    "\n",
    "    size_box = np.shape(tdic)\n",
    "    size_0 = size_box[0]\n",
    "    size_1= size_box[1]\n",
    "\n",
    "\n",
    "    tsra = np.ravel(tsal)\n",
    "    ttera = np.ravel(ttemp)\n",
    "    ttara = np.ravel(tta) * 1e-3\n",
    "    tdra = np.ravel(tdic) * 1e-3\n",
    "    tzero = np.zeros_like(tsra)\n",
    "    tpressure = np.zeros_like(tsra)\n",
    "    #tdepth = np.zeros_like(tsra)\n",
    "    tpressure[:] = pres_atm\n",
    "    tdepth = np.ravel(depth_this)\n",
    "    tzero = tpressure * 0 \n",
    "        \n",
    "    tsra_psu = tsra*35/35.16504\n",
    "    ttera_is = gsw.t_from_CT(tsra,ttera,tzero)\n",
    "\n",
    "    response_tup = mocsy.mvars(temp=ttera_is, sal=tsra_psu, alk=ttara, dic=tdra, \n",
    "                       sil=tzero, phos=tzero, patm=tpressure, depth=tdepth, lat=tzero, \n",
    "                        optcon='mol/m3', optt='Tinsitu', optp='m',\n",
    "                        optb = 'l10', optk1k2='m10', optkf = 'dg', optgas = 'Pinsitu')\n",
    "    pH,pco2,fco2,co2,hco3,co3,OmegaA,OmegaC,BetaD,DENis,p,Tis = response_tup\n",
    "\n",
    "    pHr = pH.reshape(size_0,size_1)\n",
    "    OmAr = OmegaA.reshape(size_0,size_1)\n",
    "    pco2r = pco2.reshape(size_0,size_1)\n",
    "    \n",
    "    return pHr, OmAr, pco2r\n",
    "\n",
    "def find_nearest(array, value):\n",
    "    array = np.asarray(array)\n",
    "    idx = (np.abs(array - value)).argmin()\n",
    "    return idx, array[idx]\n",
    "\n",
    "def find_DIC_corresp_to_pco2(tsal, ttemp, tpco2, tta, pres_atm, depth_this):\n",
    "    \n",
    "    steps = 10000\n",
    "    tsal_r = np.zeros([steps])\n",
    "    tsal_r[:] = tsal\n",
    "    ttemp_r = np.zeros([steps])\n",
    "    ttemp_r[:] = ttemp\n",
    "    tta_r = np.zeros([steps])\n",
    "    tta_r[:] = tta * 1e-3\n",
    "    tpres_r = np.zeros([steps])\n",
    "    tpres_r[:] = pres_atm\n",
    "    depth_r = np.zeros([steps])\n",
    "    depth_r[:] = depth_this\n",
    "    tzero = np.zeros([steps])\n",
    "\n",
    "    end_d = 2400\n",
    "    start_d = 600\n",
    "    intvl = (end_d - start_d)/steps\n",
    "    tdic_r = np.arange(start_d,end_d-0.1,intvl) * 1e-3\n",
    "    \n",
    "    response_tup = mocsy.mvars(temp=ttemp_r, sal=tsal_r, alk=tta_r, dic=tdic_r, \n",
    "                       sil=tzero, phos=tzero, patm=tpres_r, depth=depth_r, lat=tzero, \n",
    "                        optcon='mol/m3', optt='Tinsitu', optp='m',\n",
    "                        optb = 'l10', optk1k2='m10', optkf = 'dg', optgas = 'Pinsitu')\n",
    "    pH,pco2,fco2,co2,hco3,co3,OmegaA,OmegaC,BetaD,DENis,p,Tis = response_tup    \n",
    "    \n",
    "    diffmat = pco2 - tpco2\n",
    "    idx, ans = find_nearest( diffmat,0 )\n",
    "    \n",
    "    if ans> 2:\n",
    "        print('Danger, pco2 found >2 uatm from pco2 given')\n",
    "#     print(idx)\n",
    "#     print('difference between real pco2 and pco2 from calc. dic: ',ans)\n",
    "#     print('DIC found this way:', tdic_r[idx]*1e3)\n",
    "    fin_dic = tdic_r[idx]*1e3\n",
    "    \n",
    "    return fin_dic\n",
    "    \n"
   ]
  },
  {
   "cell_type": "markdown",
   "metadata": {},
   "source": [
    "## Steps to creating a BC file with preindustrial DIC\n",
    "\n",
    "#### 1) open a boundary condition file and visualize DIC and POT DENS\n",
    "\n",
    "#### 2) find and visualize present-day PCO2 \n",
    "\n",
    "#### 3) find and visualize intrusion from pot-dens\n",
    "\n",
    "#### 4) find supposed preindustrial PCO2 by subtracting intrusion from present-day PCO2\n",
    "\n",
    "#### 5) calculate DIC from said preindustrial PCO2, present-day TA\n",
    "\n",
    "#### 5b) write a new boundary condition file"
   ]
  },
  {
   "cell_type": "code",
   "execution_count": null,
   "metadata": {
    "collapsed": true
   },
   "outputs": [],
   "source": [
    "##1) \n",
    "\n",
    "test_LO = nc.Dataset('/results/forcing/LiveOcean/boundary_conditions/LiveOcean_v201905_y2018m01d01.nc')\n",
    "zlevels = (test_LO['deptht'][:])\n",
    "sal = test_LO['vosaline'][0,:,0,:]\n",
    "temp = test_LO['votemper'][0,:,0,:]\n",
    "potdens = gsw.sigma0(sal,temp)\n",
    "potdens_mask = np.copy(potdens)\n",
    "potdens_mask[potdens>24.4] = 1\n",
    "potdens_mask[potdens<=24.4] = -1\n",
    "\n",
    "zlevels = (test_LO['deptht'][:])\n",
    "sal = test_LO['vosaline'][0,:,0,:]\n",
    "temp = test_LO['votemper'][0,:,0,:]\n",
    "DIC = test_LO['DIC'][0,:,0,:]\n",
    "TA = test_LO['TA'][0,:,0,:]\n",
    "\n",
    "depth_this = np.zeros_like(TA)\n",
    "\n",
    "for i in range(0,950):\n",
    "    depth_this[:,i] = zlevels\n",
    "\n",
    "pHr, OmAr, pco2r = oned_moxy(sal, temp, DIC, TA, 1, depth_this)\n",
    "\n",
    "pco2_resh = pco2r.reshape(40,950)\n"
   ]
  },
  {
   "cell_type": "markdown",
   "metadata": {},
   "source": [
    "## 1) open a boundary condition file and visualize DIC and POT DENS"
   ]
  },
  {
   "cell_type": "code",
   "execution_count": null,
   "metadata": {},
   "outputs": [],
   "source": [
    "fig = plt.figure(figsize=(11,3.5))\n",
    "nop = 4\n",
    "for i in range(1,nop+1):\n",
    "\n",
    "    if i == 1:\n",
    "        ax = fig.add_subplot(1,2,i)\n",
    "        section_slice = np.arange(0, 95)\n",
    "        sd = (potdens)\n",
    "        tplt = np.ma.masked_values(sd,0)\n",
    "        tcmap = cm.cm.deep\n",
    "        cmap = tcmap\n",
    "        mesh = ax.pcolormesh(section_slice[:],zlevels[:],tplt[:,0:95], cmap = tcmap, vmin=24, vmax=27)\n",
    "        cbar = fig.colorbar(mesh, ax=ax)\n",
    "        ax.invert_yaxis()\n",
    "        land_colour = 'slategrey'\n",
    "        cmap.set_bad(land_colour)\n",
    "        plt.title('potential density of BC') \n",
    "        ax.set_ylabel('depth')\n",
    "        ax.set_xticklabels([])\n",
    "        \n",
    "    if i == 2:\n",
    "        ax = fig.add_subplot(1,2,i)\n",
    "        section_slice = np.arange(0, 95)\n",
    "        sd = (DIC)\n",
    "        tplt = np.ma.masked_values(sd,0)\n",
    "        tcmap = cm.cm.matter\n",
    "        cmap = tcmap\n",
    "        mesh = ax.pcolormesh(section_slice[:],zlevels[:],tplt[:,0:95], cmap = tcmap, vmin=2100, vmax=2300)\n",
    "        cbar = fig.colorbar(mesh, ax=ax)\n",
    "        ax.invert_yaxis()\n",
    "        land_colour = 'slategrey'\n",
    "        cmap.set_bad(land_colour)\n",
    "        plt.title('DIC at BC') \n",
    "        ax.set_ylabel('depth')\n",
    "        ax.set_xticklabels([])\n",
    "\n",
    "plt.suptitle('y2018m01d01', fontsize = 15)\n",
    "plt.tight_layout()"
   ]
  },
  {
   "cell_type": "markdown",
   "metadata": {},
   "source": [
    "## 2) find and visualize present-day PCO2 "
   ]
  },
  {
   "cell_type": "code",
   "execution_count": null,
   "metadata": {},
   "outputs": [],
   "source": [
    "pco2_resh\n",
    "\n",
    "fig = plt.figure(figsize=(4,4))\n",
    "nop = 4\n",
    "for i in range(1,nop+1):\n",
    "\n",
    "    if i == 1:\n",
    "        ax = fig.add_subplot(1,1,i)\n",
    "        section_slice = np.arange(0, 95)\n",
    "        sd = (pco2_resh)\n",
    "        tplt = np.ma.masked_values(sd,0)\n",
    "        tcmap = cm.cm.deep\n",
    "        cmap = tcmap\n",
    "        mesh = ax.pcolormesh(section_slice[:],zlevels[:],tplt[:,0:95], cmap = tcmap, vmin=300, vmax=1700)\n",
    "        cbar = fig.colorbar(mesh, ax=ax)\n",
    "        ax.invert_yaxis()\n",
    "        land_colour = 'slategrey'\n",
    "        cmap.set_bad(land_colour)\n",
    "        plt.title('pco2 of BC') \n",
    "        ax.set_ylabel('depth')\n",
    "        ax.set_xticklabels([])\n",
    "        \n",
    "\n",
    "#plt.suptitle('y2018m01d01', fontsize = 15)\n",
    "plt.tight_layout()"
   ]
  },
  {
   "cell_type": "code",
   "execution_count": null,
   "metadata": {
    "collapsed": true
   },
   "outputs": [],
   "source": [
    "pycnal_last_at_surface = 2019 - params0 *np.exp(-params1*(25.15-potdens))+params2\n",
    "\n",
    "pycnal_original_co2 = np.zeros_like(pycnal_last_at_surface)\n",
    "np.shape(pycnal_original_co2)\n",
    "for i in range(0,40):\n",
    "    for j in range(0,950):\n",
    "        ty = pycnal_last_at_surface[i,j]\n",
    "        tco2 = co2_from_year(ty)\n",
    "        pycnal_original_co2[i,j] = tco2\n",
    "\n",
    "\n",
    "pycnal_intrusion =  pycnal_original_co2 - 284"
   ]
  },
  {
   "cell_type": "code",
   "execution_count": null,
   "metadata": {},
   "outputs": [],
   "source": [
    "pco2_resh\n",
    "\n",
    "fig = plt.figure(figsize=(4,4))\n",
    "nop = 4\n",
    "for i in range(1,nop+1):\n",
    "\n",
    "    if i == 1:\n",
    "        ax = fig.add_subplot(1,1,i)\n",
    "        section_slice = np.arange(0, 95)\n",
    "        sd = (pycnal_intrusion)\n",
    "        tplt = np.ma.masked_values(sd,0)\n",
    "        tcmap = cm.cm.deep\n",
    "        cmap = tcmap\n",
    "        mesh = ax.pcolormesh(section_slice[:],zlevels[:],tplt[:,0:95], cmap = tcmap, vmin=0, vmax=140)\n",
    "        cbar = fig.colorbar(mesh, ax=ax)\n",
    "        ax.invert_yaxis()\n",
    "        land_colour = 'slategrey'\n",
    "        cmap.set_bad(land_colour)\n",
    "        plt.title('pco2 intrusion of BC') \n",
    "        ax.set_ylabel('depth')\n",
    "        ax.set_xticklabels([])\n",
    "        \n",
    "\n",
    "#plt.suptitle('y2018m01d01', fontsize = 15)\n",
    "plt.tight_layout()"
   ]
  },
  {
   "cell_type": "code",
   "execution_count": null,
   "metadata": {
    "collapsed": true
   },
   "outputs": [],
   "source": [
    "preind_pco2 = pco2_resh - pycnal_intrusion"
   ]
  },
  {
   "cell_type": "code",
   "execution_count": null,
   "metadata": {},
   "outputs": [],
   "source": [
    "pco2_resh\n",
    "\n",
    "fig = plt.figure(figsize=(8,4))\n",
    "nop = 4\n",
    "for i in range(1,nop+1):\n",
    "\n",
    "    if i == 1:\n",
    "        ax = fig.add_subplot(1,2,i)\n",
    "        section_slice = np.arange(0, 95)\n",
    "        sd = (pco2_resh)\n",
    "        tplt = np.ma.masked_values(sd,0)\n",
    "        tcmap = cm.cm.deep\n",
    "        cmap = tcmap\n",
    "        mesh = ax.pcolormesh(section_slice[:],zlevels[:],tplt[:,0:95], cmap = tcmap, vmin=400, vmax=1500)\n",
    "        cbar = fig.colorbar(mesh, ax=ax)\n",
    "        ax.invert_yaxis()\n",
    "        land_colour = 'slategrey'\n",
    "        cmap.set_bad(land_colour)\n",
    "        plt.title('pco2 of BC') \n",
    "        ax.set_ylabel('depth')\n",
    "        ax.set_xticklabels([])\n",
    "        \n",
    "    if i == 2:\n",
    "        ax = fig.add_subplot(1,2,i)\n",
    "        section_slice = np.arange(0, 95)\n",
    "        sd = (preind_pco2)\n",
    "        tplt = np.ma.masked_values(sd,0)\n",
    "        tcmap = cm.cm.deep\n",
    "        cmap = tcmap\n",
    "        mesh = ax.pcolormesh(section_slice[:],zlevels[:],tplt[:,0:95], cmap = tcmap, vmin=400, vmax=1500)\n",
    "        cbar = fig.colorbar(mesh, ax=ax)\n",
    "        ax.invert_yaxis()\n",
    "        land_colour = 'slategrey'\n",
    "        cmap.set_bad(land_colour)\n",
    "        plt.title('pco2 of BC - preindustrial') \n",
    "        ax.set_ylabel('depth')\n",
    "        ax.set_xticklabels([])\n",
    "#plt.suptitle('y2018m01d01', fontsize = 15)\n",
    "plt.tight_layout()"
   ]
  },
  {
   "cell_type": "code",
   "execution_count": null,
   "metadata": {
    "collapsed": true
   },
   "outputs": [],
   "source": [
    "# this code can calculate preindustrial DIC\n",
    "#\n",
    "\n",
    "\n",
    "# preind_dic = np.zeros_like(DIC)\n",
    "# preind_dic_r = np.ravel(preind_dic)\n",
    "# pco2r_preind_r = np.ravel(preind_pco2)\n",
    "# depth_r = np.ravel(depth_this)\n",
    "# sal_r = np.ravel(sal)\n",
    "# temp_r = np.ravel(temp)\n",
    "# DIC_r = np.ravel(DIC)\n",
    "# TA_r = np.ravel(TA)\n",
    "# for i in range(0,len(depth_r)):\n",
    "#     if i%950 == 0:\n",
    "#         print(i)\n",
    "#     t_dic = find_DIC_corresp_to_pco2(sal_r[i], temp_r[i], pco2r_preind_r[i], TA_r[i], 1, depth_r[i])\n",
    "#     preind_dic_r[i] = t_dic\n",
    "\n",
    "# preind_dic_fin = preind_dic_r.reshape(40,950)"
   ]
  },
  {
   "cell_type": "markdown",
   "metadata": {},
   "source": [
    "## how much extra DIC does this translate to? (Jan 1st, one example)"
   ]
  },
  {
   "cell_type": "code",
   "execution_count": null,
   "metadata": {},
   "outputs": [],
   "source": [
    "fig = plt.figure(figsize=(12,4))\n",
    "nop = 3\n",
    "for i in range(1,nop+1):\n",
    "\n",
    "    if i == 1:\n",
    "        ax = fig.add_subplot(1,3,i)\n",
    "        tcmap = cm.cm.deep\n",
    "        cmap = tcmap\n",
    "        tplt = preind_mean_DIC\n",
    "        mesh = ax.pcolormesh(tplt, cmap = tcmap, vmin=2000, vmax=2300)\n",
    "        cbar = fig.colorbar(mesh, ax=ax)\n",
    "        ax.invert_yaxis()\n",
    "        land_colour = 'slategrey'\n",
    "        cmap.set_bad(land_colour)\n",
    "        plt.title('preindustrial mean BC') \n",
    "        ax.set_ylabel('depth')\n",
    "        ax.set_xticklabels([])\n",
    "        \n",
    "    if i == 2:\n",
    "        ax = fig.add_subplot(1,3,i)\n",
    "        tcmap = cm.cm.deep\n",
    "        cmap = tcmap\n",
    "        tplt = presday_mean_DIC\n",
    "        mesh = ax.pcolormesh(tplt, cmap = tcmap, vmin=2000, vmax=2300)\n",
    "        cbar = fig.colorbar(mesh, ax=ax)\n",
    "        ax.invert_yaxis()\n",
    "        land_colour = 'slategrey'\n",
    "        cmap.set_bad(land_colour)\n",
    "        plt.title('presday mean BC') \n",
    "        ax.set_ylabel('depth')\n",
    "        ax.set_xticklabels([])\n",
    "        \n",
    "    if i == 3:\n",
    "        ax = fig.add_subplot(1,3,i)\n",
    "        tcmap = cm.cm.balance\n",
    "        cmap = tcmap\n",
    "        tplt = presday_mean_DIC - preind_mean_DIC\n",
    "        mesh = ax.pcolormesh(tplt, cmap = tcmap, vmin=-80, vmax=80)\n",
    "        cbar = fig.colorbar(mesh, ax=ax)\n",
    "        ax.invert_yaxis()\n",
    "        land_colour = 'slategrey'\n",
    "        cmap.set_bad(land_colour)\n",
    "        plt.title('presday mean BC - preindustrial mean BC') \n",
    "        ax.set_ylabel('depth')\n",
    "        ax.set_xticklabels([])"
   ]
  },
  {
   "cell_type": "code",
   "execution_count": null,
   "metadata": {
    "collapsed": true
   },
   "outputs": [],
   "source": [
    "x = np.arange(0.0,27,0.01)\n",
    "Q = 1\n",
    "AMP = 30\n",
    "C = -26.3\n",
    "D = 1\n",
    "y =  AMP*(np.exp(x+C)/(1*Q*np.exp(x+C)+D))\n",
    "\n",
    "plt.plot(x,y)\n",
    "# y = 30*1/(1*np.exp(x)+1)\n",
    "\n",
    "#logistic\n",
    "# Q = 5\n",
    "# y = 30*1/(1*Q*np.exp(x)+1)\n",
    "\n",
    "# plt.plot(x,y)\n",
    "# plt.plot(x2,y2,'-r')\n",
    "\n",
    "\n",
    "\n",
    "xdata = [26.2,26.3,26.4,26.5,26.6]\n",
    "ydata = [0,0,25,30,30]\n",
    "\n",
    "def sigmoid(x, a, b):\n",
    "     y = 1 / (1 + np.exp(-b*(x-a)))\n",
    "     return y\n",
    "popt, pcov = curve_fit(sigmoid, xdata, ydata, p0=[26.5, 0.001])\n",
    "\n",
    "fit2 = sigmoid(x, popt)\n",
    "\n",
    "\n",
    "### from scipy.optimize import curve_fit\n",
    "import numpy as np\n",
    "import matplotlib.pyplot as plt\n",
    "%matplotlib inline\n",
    "\n",
    "x = np.arange(26.0,27.2,0.02)\n",
    "y = np.zeros_like(x)\n",
    "y[(x>=26.4) & (x<=26.8)] = 30\n",
    "# y[x==26.6] = 30\n",
    "# y[x]\n",
    "\n",
    "\n",
    "def func(x, *params):\n",
    "    y = np.zeros_like(x)\n",
    "    for i in range(0, len(params), 3):\n",
    "        ctr = params[i]\n",
    "        amp = params[i+1]\n",
    "        wid = params[i+2]\n",
    "        y = y + amp * np.exp( -((x - ctr)/wid)**2)\n",
    "    return y\n",
    "\n",
    "guess2 = [0.8*27, 30, 0.5]\n",
    "\n",
    "popt2_fin, pcov2 = curve_fit(func, x, y, p0=guess2)\n",
    "fit2 = func(x, *popt2_fin)\n",
    "print(popt2_fin)\n",
    "y2 = np.zeros_like(x)\n",
    "ctr = 2.16000000e+01  \n",
    "amp = 1.19652199e-09\n",
    "wid = 5.00000000e-01 \n",
    "\n",
    "y2 = y2 + amp * np.exp( -((x - ctr)/wid)**2) \n",
    "\n",
    "\n",
    "print('*')\n",
    "# print(*popt2)\n",
    "# print(popt2)\n",
    "plt.plot(x, y)\n",
    "plt.xlim([26,30])\n",
    "plt.ylim([0,40])\n",
    "#plt.plot(x, fit2 , 'k-')\n",
    "plt.plot(x, y2, 'r:',linewidth = 2)\n",
    "plt.title('2 gaussian fit to raw data')\n",
    "plt.show()"
   ]
  }
 ],
 "metadata": {
  "kernelspec": {
   "display_name": "Python 3",
   "language": "python",
   "name": "python3"
  },
  "language_info": {
   "codemirror_mode": {
    "name": "ipython",
    "version": 3
   },
   "file_extension": ".py",
   "mimetype": "text/x-python",
   "name": "python",
   "nbconvert_exporter": "python",
   "pygments_lexer": "ipython3",
   "version": "3.6.0"
  }
 },
 "nbformat": 4,
 "nbformat_minor": 2
}
