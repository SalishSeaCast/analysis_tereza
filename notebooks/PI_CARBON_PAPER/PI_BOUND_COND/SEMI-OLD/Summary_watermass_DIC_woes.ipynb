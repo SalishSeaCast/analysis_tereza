{
 "cells": [
  {
   "cell_type": "markdown",
   "metadata": {},
   "source": [
    "## Notebook explaining DIC/watermass problems\n",
    "\n",
    "\n",
    "Summary of problem:\n",
    "\n",
    "We are trying to come up with a reasonable estimate for preindustrial IDC boundary conditions at the Juan de Fuca and Johnstone Strait summary of our model. For this, we need to estimate the anthropogenic increase in DIC  for a given watermass (isopycnal). We have taken the approach of using watermass age as a proxy for anthropogenic increase in DIC. However, we don't really know watermass age, and we don't know watermass identity.  \n",
    "\n",
    "    1) Base assumption: most water "
   ]
  },
  {
   "cell_type": "markdown",
   "metadata": {},
   "source": [
    "## Watermass Identity. Sources - Saurav, TK2010\n"
   ]
  },
  {
   "cell_type": "markdown",
   "metadata": {},
   "source": [
    "![title](./pngs/picture.png)"
   ]
  },
  {
   "cell_type": "code",
   "execution_count": null,
   "metadata": {
    "collapsed": true
   },
   "outputs": [],
   "source": []
  }
 ],
 "metadata": {
  "kernelspec": {
   "display_name": "Python 3",
   "language": "python",
   "name": "python3"
  },
  "language_info": {
   "codemirror_mode": {
    "name": "ipython",
    "version": 3
   },
   "file_extension": ".py",
   "mimetype": "text/x-python",
   "name": "python",
   "nbconvert_exporter": "python",
   "pygments_lexer": "ipython3",
   "version": "3.7.4"
  }
 },
 "nbformat": 4,
 "nbformat_minor": 2
}
