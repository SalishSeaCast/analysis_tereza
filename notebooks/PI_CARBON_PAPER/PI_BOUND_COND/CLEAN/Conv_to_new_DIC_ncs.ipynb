{
 "cells": [
  {
   "cell_type": "code",
   "execution_count": 1,
   "metadata": {},
   "outputs": [
    {
     "name": "stdout",
     "output_type": "stream",
     "text": [
      "Once deleted, variables cannot be recovered. Proceed (y/[n])? y\n"
     ]
    }
   ],
   "source": [
    "%reset"
   ]
  },
  {
   "cell_type": "code",
   "execution_count": 2,
   "metadata": {},
   "outputs": [
    {
     "data": {
      "text/html": [
       "<script>\n",
       "code_show=true; \n",
       "function code_toggle() {\n",
       " if (code_show){\n",
       " $('div.input').hide();\n",
       " } else {\n",
       " $('div.input').show();\n",
       " }\n",
       " code_show = !code_show\n",
       "} \n",
       "$( document ).ready(code_toggle);\n",
       "</script>\n",
       "<form action=\"javascript:code_toggle()\"><input type=\"submit\" value=\"Click here to toggle on/off the raw code.\"></form>"
      ],
      "text/plain": [
       "<IPython.core.display.HTML object>"
      ]
     },
     "execution_count": 2,
     "metadata": {},
     "output_type": "execute_result"
    }
   ],
   "source": [
    "from IPython.display import HTML\n",
    "\n",
    "HTML('''<script>\n",
    "code_show=true; \n",
    "function code_toggle() {\n",
    " if (code_show){\n",
    " $('div.input').hide();\n",
    " } else {\n",
    " $('div.input').show();\n",
    " }\n",
    " code_show = !code_show\n",
    "} \n",
    "$( document ).ready(code_toggle);\n",
    "</script>\n",
    "<form action=\"javascript:code_toggle()\"><input type=\"submit\" value=\"Click here to toggle on/off the raw code.\"></form>''')"
   ]
  },
  {
   "cell_type": "code",
   "execution_count": 3,
   "metadata": {},
   "outputs": [
    {
     "name": "stderr",
     "output_type": "stream",
     "text": [
      "/home/tjarniko/anaconda3/lib/python3.6/site-packages/matplotlib/__init__.py:1357: UserWarning:  This call to matplotlib.use() has no effect\n",
      "because the backend has already been chosen;\n",
      "matplotlib.use() must be called *before* pylab, matplotlib.pyplot,\n",
      "or matplotlib.backends is imported for the first time.\n",
      "\n",
      "  warnings.warn(_use_error_msg)\n"
     ]
    }
   ],
   "source": [
    "from __future__ import print_function\n",
    "from numpy import *\n",
    "from scipy import *\n",
    "\n",
    "import matplotlib\n",
    "import matplotlib.pyplot as plt\n",
    "from matplotlib import reload\n",
    "import matplotlib.patches as patches\n",
    "\n",
    "import netCDF4 as nc\n",
    "import numpy as np\n",
    "import scipy as sp\n",
    "\n",
    "import seawater\n",
    "import datetime as dt\n",
    "\"\"\n",
    "from salishsea_tools import (\n",
    "    nc_tools,\n",
    "    viz_tools,\n",
    "    geo_tools,\n",
    "    tidetools\n",
    ")\n",
    "\n",
    "# matplotlib.use('Agg')\n",
    "# plt.style.use('seaborn-whitegrid')\n",
    "import cmocean as cm\n",
    "import glob\n",
    "import sys\n",
    "sys.path.append('/data/tjarniko/mocsy')\n",
    "sys.path.append('/data/tjarniko/MEOPAR/at3/notebooks/carbon_dev/CCCmaDEV/CCCma_src')\n",
    "import mocsy\n",
    "import CCCma\n",
    "import CCCma_stations as cs\n",
    "\n",
    "from scipy import optimize\n",
    "import arrow\n",
    "import gsw\n",
    "import pandas as pd\n",
    "import xarray as xr\n",
    "%matplotlib inline"
   ]
  },
  {
   "cell_type": "code",
   "execution_count": 4,
   "metadata": {
    "collapsed": true
   },
   "outputs": [],
   "source": [
    "def preind_dic_ncmaker(startind, endind, year):\n",
    "#1 open given boundary conditions file and findpco2 and potential density \n",
    "    daymon = [31,28,31,30,31,30,31,31,30,31,30,31]\n",
    "    daymon_LY = [31,29,31,30,31,30,31,31,30,31,30,31]\n",
    "\n",
    "    year_ar = []\n",
    "    noday = 365\n",
    "    if year == 2016:\n",
    "        t_daymon = daymon_LY\n",
    "        noday = 366\n",
    "    else:\n",
    "        t_daymon = daymon\n",
    "\n",
    "    for m in range(1,13):\n",
    "        if m>=10:\n",
    "            tm = str(m)\n",
    "        if m<10:\n",
    "            tm = '0' + str(m)\n",
    "        print(tm)\n",
    "        for d in range(1,t_daymon[m-1]+1):\n",
    "            if d>=10:\n",
    "                td = str(d)\n",
    "            if d<10:\n",
    "                td = '0' + str(d)\n",
    "\n",
    "            tstr = 'y' + str(year) + 'm' + tm + 'd' + td\n",
    "            year_ar.append(tstr)\n",
    "                            \n",
    "    for ind in range(startind,endind):\n",
    "\n",
    "        print(year_ar[ind])\n",
    "        test_LO = nc.Dataset('/results/forcing/LiveOcean/boundary_conditions/LiveOcean_v201905_' + year_ar[ind] +'.nc')        \n",
    "        dsin = test_LO\n",
    "        #output file\n",
    "        ncname = './preind_DIC/PREIND_BC_v201905_' + year_ar[ind] +'.nc'\n",
    "        print(ncname)\n",
    "        dsout = nc.Dataset(ncname, \"w\", format=\"NETCDF4\")\n",
    "        #Copy dimensions\n",
    "        for dname, the_dim in dsin.dimensions.items():\n",
    "            print(dname)\n",
    "            print(len(the_dim))\n",
    "            dsout.createDimension(dname, len(the_dim) if not the_dim.isunlimited() else None)\n",
    "        # Copy variables\n",
    "        for v_name, varin in dsin.variables.items():\n",
    "            print(v_name)\n",
    "            if (v_name != 'DIC'):\n",
    "                outVar = dsout.createVariable(v_name, varin.datatype, varin.dimensions)\n",
    "            # Copy variable attributes\n",
    "                outVar.setncatts({k: varin.getncattr(k) for k in varin.ncattrs()})\n",
    "\n",
    "                outVar[:] = varin[:]\n",
    "            if (v_name == 'DIC'):\n",
    "                print('not copying DIC!')\n",
    "        w = nc.Dataset('./preind_DIC/diseq/LO_AOUmethod_stoicCO_diseq_'+ year_ar[ind] +'_preind_DIC.nc')\n",
    "        piDIC = w['preindustrial_DIC']['preind_dic']\n",
    "        t_DIC = np.zeros([1, 40, 1, 950])\n",
    "        t_DIC[0,:,0,:] = piDIC[:,:]\n",
    "        \n",
    "        DIC = dsout.createVariable('DIC',np.float32,('time_counter','deptht','yb','xbT'))\n",
    "        DIC[:] = t_DIC\n",
    "        \n",
    "        dsout.close()"
   ]
  },
  {
   "cell_type": "code",
   "execution_count": 5,
   "metadata": {},
   "outputs": [],
   "source": [
    "# startind = 0\n",
    "# endind = 365\n",
    "# year = 2015\n",
    "# preind_dic_ncmaker(startind, endind, year)"
   ]
  },
  {
   "cell_type": "code",
   "execution_count": 6,
   "metadata": {},
   "outputs": [],
   "source": [
    "# w = nc.Dataset('./PREIND_BC_v201905_AndrewAge_y2015m01d01.nc')"
   ]
  },
  {
   "cell_type": "code",
   "execution_count": 15,
   "metadata": {},
   "outputs": [
    {
     "name": "stdout",
     "output_type": "stream",
     "text": [
      "./preind_DIC/PREIND_BC_v201905_JS.nc\n",
      "time_counter\n",
      "12\n",
      "deptht\n",
      "40\n",
      "yb\n",
      "10\n",
      "xbT\n",
      "30\n",
      "DIC\n",
      "not copying DIC!\n",
      "TA\n",
      "deptht\n",
      "time_counter\n",
      "vosaline\n",
      "votemper\n"
     ]
    }
   ],
   "source": [
    "## code for JS\n",
    "\n",
    "test_LO = nc.Dataset('/data/tjarniko/MEOPAR/tracers/north/Dosser_north_TEOS10_DICTA_preind_080819.nc')        \n",
    "dsin = test_LO\n",
    "#output file\n",
    "ncname = './preind_DIC/PREIND_BC_v201905_JS.nc'\n",
    "print(ncname)\n",
    "dsout = nc.Dataset(ncname, \"w\", format=\"NETCDF4\")\n",
    "#Copy dimensions\n",
    "for dname, the_dim in dsin.dimensions.items():\n",
    "    print(dname)\n",
    "    print(len(the_dim))\n",
    "    dsout.createDimension(dname, len(the_dim) if not the_dim.isunlimited() else None)\n",
    "# Copy variables\n",
    "for v_name, varin in dsin.variables.items():\n",
    "    print(v_name)\n",
    "    if (v_name != 'DIC'):\n",
    "        outVar = dsout.createVariable(v_name, varin.datatype, varin.dimensions)\n",
    "    # Copy variable attributes\n",
    "        outVar.setncatts({k: varin.getncattr(k) for k in varin.ncattrs()})\n",
    "\n",
    "        outVar[:] = varin[:]\n",
    "    if (v_name == 'DIC'):\n",
    "        print('not copying DIC!')\n",
    "w = nc.Dataset('/data/tjarniko/MEOPAR/analysis-tereza/notebooks/carbon_dev/PI_BOUND_COND/CLEAN/preind_DIC/JS_diseq_preind_DIC.nc')\n",
    "piDIC = w['preindustrial_DIC']['preind_dic']\n",
    "#     t_DIC = np.zeros([1, 40, 1, 950])\n",
    "#     t_DIC[0,:,0,:] = piDIC[:,:]\n",
    "\n",
    "DIC = dsout.createVariable('DIC',np.float32,('time_counter','deptht','yb','xbT'))\n",
    "DIC[:] = piDIC\n",
    "\n",
    "dsout.close()"
   ]
  },
  {
   "cell_type": "code",
   "execution_count": 9,
   "metadata": {
    "collapsed": true
   },
   "outputs": [],
   "source": [
    "w = nc.Dataset('/data/tjarniko/MEOPAR/analysis-tereza/notebooks/carbon_dev/PI_BOUND_COND/CLEAN/preind_DIC/JS_diseq_preind_DIC.nc')"
   ]
  },
  {
   "cell_type": "code",
   "execution_count": 13,
   "metadata": {},
   "outputs": [
    {
     "name": "stdout",
     "output_type": "stream",
     "text": [
      "<class 'netCDF4._netCDF4.Variable'>\n",
      "float32 preind_dic(month, depth, xval, yval)\n",
      "path = /preindustrial_DIC\n",
      "unlimited dimensions: \n",
      "current shape = (12, 40, 10, 30)\n",
      "filling on, default _FillValue of 9.969209968386869e+36 used\n",
      "\n"
     ]
    }
   ],
   "source": [
    "print(w['preindustrial_DIC']['preind_dic'])"
   ]
  },
  {
   "cell_type": "code",
   "execution_count": null,
   "metadata": {
    "collapsed": true
   },
   "outputs": [],
   "source": []
  }
 ],
 "metadata": {
  "kernelspec": {
   "display_name": "Python 3",
   "language": "python",
   "name": "python3"
  },
  "language_info": {
   "codemirror_mode": {
    "name": "ipython",
    "version": 3
   },
   "file_extension": ".py",
   "mimetype": "text/x-python",
   "name": "python",
   "nbconvert_exporter": "python",
   "pygments_lexer": "ipython3",
   "version": "3.7.4"
  }
 },
 "nbformat": 4,
 "nbformat_minor": 2
}
