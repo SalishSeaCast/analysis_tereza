{
 "cells": [
  {
   "cell_type": "code",
   "execution_count": 1,
   "metadata": {},
   "outputs": [],
   "source": [
    "import netCDF4 as nc\n",
    "import numpy as np\n",
    "import scipy as sp\n",
    "import matplotlib.pyplot as plt\n",
    "import gsw\n",
    "import cmocean as cm\n",
    "\n",
    "import warnings\n",
    "warnings.filterwarnings('ignore')"
   ]
  },
  {
   "cell_type": "markdown",
   "metadata": {},
   "source": [
    "#### are LiveOcean BC's more or the same between 201712 and 201905? YES"
   ]
  },
  {
   "cell_type": "code",
   "execution_count": 5,
   "metadata": {},
   "outputs": [],
   "source": [
    "conddir = '/results/forcing/LiveOcean/boundary_conditions/'\n",
    "\n",
    "LO19 = 'LiveOcean_v201905_y2015m09d18.nc'\n",
    "LO17 = 'LiveOcean_v201712_y2015m09d18.nc'\n",
    "\n",
    "LO19nc = nc.Dataset(f'{conddir}{LO19}')\n",
    "LO17nc = nc.Dataset(f'{conddir}{LO17}')"
   ]
  },
  {
   "cell_type": "code",
   "execution_count": 7,
   "metadata": {},
   "outputs": [],
   "source": [
    "diff = (LO19nc['DIC'][:]-LO17nc['DIC'][:])\n",
    "np.nanmin(diff)"
   ]
  },
  {
   "cell_type": "markdown",
   "metadata": {},
   "source": [
    "#### are the preindustrial conditions values the same from how I did it (what went in model) \n",
    "        in tracers/west/PREIND_BCCOND/PREIND_BC_v201905 on GRAHAM\n",
    "        copied to notebooks/PI_CARBON_PAPER/PI_BOUND_COND/CLEAN/PREIND_BCCOND\n",
    "#### how i redid it (in the intent of recreating it)?\n",
    "        in notebooks/PI_CARBON_PAPER/PI_BOUND_COND/CLEAN/preind_DIC\n",
    "#### YES THANK GOD        "
   ]
  },
  {
   "cell_type": "code",
   "execution_count": 11,
   "metadata": {},
   "outputs": [],
   "source": [
    "newcalc_dir = '/ocean/tjarniko/MEOPAR/analysis_tereza/notebooks/PI_CARBON_PAPER/PI_BOUND_COND/CLEAN/preind_DIC/'\n",
    "newcalc_pi = nc.Dataset(f'{newcalc_dir}LO_AOUmethod_stoicCO_diseq_y2015m02d09_preind_DIC.nc')\n",
    "oldcalc_dir = '/ocean/tjarniko/MEOPAR/analysis_tereza/notebooks/PI_CARBON_PAPER/PI_BOUND_COND/CLEAN/PREIND_BCCOND/'\n",
    "oldcalc_pi = nc.Dataset(f'{oldcalc_dir}PREIND_BC_v201905_y2015m02d09.nc')"
   ]
  },
  {
   "cell_type": "code",
   "execution_count": 26,
   "metadata": {},
   "outputs": [
    {
     "name": "stdout",
     "output_type": "stream",
     "text": [
      "(40, 950)\n",
      "0.0\n",
      "0.0\n"
     ]
    }
   ],
   "source": [
    "newcalc_dic = newcalc_pi['preindustrial_DIC']['preind_dic'][:]\n",
    "oldcalc_dic = oldcalc_pi['DIC'][0,:,0,:]\n",
    "print(np.shape(oldcalc_dic))\n",
    "diff = oldcalc_dic-newcalc_dic\n",
    "print(np.nanmin(diff))\n",
    "print(np.nanmax(diff))"
   ]
  },
  {
   "cell_type": "code",
   "execution_count": 21,
   "metadata": {},
   "outputs": [],
   "source": []
  },
  {
   "cell_type": "code",
   "execution_count": 25,
   "metadata": {},
   "outputs": [
    {
     "name": "stdout",
     "output_type": "stream",
     "text": [
      "0.0\n"
     ]
    }
   ],
   "source": []
  },
  {
   "cell_type": "code",
   "execution_count": null,
   "metadata": {},
   "outputs": [],
   "source": []
  }
 ],
 "metadata": {
  "kernelspec": {
   "display_name": "Python 3",
   "language": "python",
   "name": "python3"
  },
  "language_info": {
   "codemirror_mode": {
    "name": "ipython",
    "version": 3
   },
   "file_extension": ".py",
   "mimetype": "text/x-python",
   "name": "python",
   "nbconvert_exporter": "python",
   "pygments_lexer": "ipython3",
   "version": "3.7.4"
  }
 },
 "nbformat": 4,
 "nbformat_minor": 2
}
