{
 "cells": [
  {
   "cell_type": "code",
   "execution_count": 1,
   "metadata": {},
   "outputs": [],
   "source": [
    "import sys\n",
    "sys.path.append('/data/tjarniko/mocsy')\n",
    "import mocsy\n",
    "\n",
    "import netCDF4 as nc\n",
    "import numpy as np\n",
    "import scipy as sp\n",
    "import matplotlib.pyplot as plt\n",
    "import gsw\n",
    "import cmocean as cm\n",
    "\n",
    "import warnings\n",
    "warnings.filterwarnings('ignore')"
   ]
  },
  {
   "cell_type": "markdown",
   "metadata": {},
   "source": [
    "#### are LiveOcean BC's more or the same between 201712 and 201905? YES"
   ]
  },
  {
   "cell_type": "code",
   "execution_count": 2,
   "metadata": {},
   "outputs": [],
   "source": [
    "conddir = '/results/forcing/LiveOcean/boundary_conditions/'\n",
    "\n",
    "LO19 = 'LiveOcean_v201905_y2015m09d18.nc'\n",
    "LO17 = 'LiveOcean_v201712_y2015m09d18.nc'\n",
    "\n",
    "LO19nc = nc.Dataset(f'{conddir}{LO19}')\n",
    "LO17nc = nc.Dataset(f'{conddir}{LO17}')"
   ]
  },
  {
   "cell_type": "code",
   "execution_count": 3,
   "metadata": {},
   "outputs": [
    {
     "data": {
      "text/plain": [
       "0.0"
      ]
     },
     "execution_count": 3,
     "metadata": {},
     "output_type": "execute_result"
    }
   ],
   "source": [
    "diff = (LO19nc['DIC'][:]-LO17nc['DIC'][:])\n",
    "np.nanmin(diff)"
   ]
  },
  {
   "cell_type": "markdown",
   "metadata": {},
   "source": [
    "#### are the preindustrial conditions values the same from how I did it (what went in model) \n",
    "        in tracers/west/PREIND_BCCOND/PREIND_BC_v201905 on GRAHAM\n",
    "        copied to notebooks/PI_CARBON_PAPER/PI_BOUND_COND/CLEAN/PREIND_BCCOND\n",
    "#### how i redid it (in the intent of recreating it)?\n",
    "        in notebooks/PI_CARBON_PAPER/PI_BOUND_COND/CLEAN/preind_DIC\n",
    "#### YES THANK GOD        "
   ]
  },
  {
   "cell_type": "code",
   "execution_count": 4,
   "metadata": {},
   "outputs": [],
   "source": [
    "newcalc_dir = '/ocean/tjarniko/MEOPAR/analysis_tereza/notebooks/PI_CARBON_PAPER/PI_BOUND_COND/CLEAN/preind_DIC/'\n",
    "newcalc_pi = nc.Dataset(f'{newcalc_dir}LO_AOUmethod_stoicCO_diseq_y2015m02d09_preind_DIC.nc')\n",
    "oldcalc_dir = '/ocean/tjarniko/MEOPAR/analysis_tereza/notebooks/PI_CARBON_PAPER/PI_BOUND_COND/CLEAN/PREIND_BCCOND/'\n",
    "oldcalc_pi = nc.Dataset(f'{oldcalc_dir}PREIND_BC_v201905_y2015m02d09.nc')"
   ]
  },
  {
   "cell_type": "code",
   "execution_count": 5,
   "metadata": {},
   "outputs": [
    {
     "name": "stdout",
     "output_type": "stream",
     "text": [
      "(40, 950)\n",
      "0.0\n",
      "0.0\n"
     ]
    }
   ],
   "source": [
    "newcalc_dic = newcalc_pi['preindustrial_DIC']['preind_dic'][:]\n",
    "oldcalc_dic = oldcalc_pi['DIC'][0,:,0,:]\n",
    "print(np.shape(oldcalc_dic))\n",
    "diff = oldcalc_dic-newcalc_dic\n",
    "print(np.nanmin(diff))\n",
    "print(np.nanmax(diff))"
   ]
  },
  {
   "cell_type": "code",
   "execution_count": null,
   "metadata": {},
   "outputs": [],
   "source": []
  },
  {
   "cell_type": "code",
   "execution_count": 27,
   "metadata": {},
   "outputs": [
    {
     "name": "stdout",
     "output_type": "stream",
     "text": [
      "[403.2440443]\n",
      "[424.28784739]\n",
      "[446.44188569]\n",
      "[469.76523551]\n",
      "[494.32013689]\n",
      "[520.17216372]\n",
      "[547.39040313]\n",
      "[576.04764455]\n",
      "[606.2205789]\n",
      "[637.99000861]\n"
     ]
    }
   ],
   "source": [
    "import sys\n",
    "sys.path.append('/data/tjarniko/mocsy')\n",
    "import mocsy\n",
    "import gsw\n",
    "from matplotlib import pyplot as plt\n",
    "import numpy as np\n",
    "\n",
    "temp = np.arange(5,20,0.5)\n",
    "oma = np.zeros_like(temp)\n",
    "# print(temp)\n",
    "temp = 10\n",
    "tdepths = np.arange(0,1000,100)\n",
    "tsra = 30\n",
    "ttera = 7\n",
    "ttara = 2200 * 1e-3\n",
    "tdra = 2050 * 1e-3\n",
    "tzero = 0\n",
    "#tpressure = 0\n",
    "tpressure =1\n",
    "tzero = tpressure * 0 \n",
    "\n",
    "tsra_psu = tsra*35/35.16504\n",
    "tsra_psu = tsra\n",
    "\n",
    "ttera_is = gsw.t_from_CT(tsra,ttera,tzero)\n",
    "for i in range(0,len(tdepths)):\n",
    "    \n",
    "    ttera = temp\n",
    "    ttera_is = gsw.t_from_CT(tsra,ttera,tzero)\n",
    "    response_tup = mocsy.mvars(temp=ttera_is, sal=tsra_psu, alk=ttara, dic=tdra, \n",
    "                       sil=tzero, phos=tzero, patm=tpressure, depth=tdepths[i], lat=50, \n",
    "                        optcon='mol/m3', optt='Tpot', optp='m',\n",
    "                        optb = 'l10', optk1k2='m10', optkf = 'dg', optgas = 'Pinsitu')\n",
    "    pH,pco2,fco2,co2,hco3,co3,OmegaA,OmegaC,BetaD,DENis,p,Tis = response_tup\n",
    "    #print(OmegaA)\n",
    "\n",
    "    \n",
    "    print(pco2)"
   ]
  },
  {
   "cell_type": "code",
   "execution_count": 13,
   "metadata": {},
   "outputs": [
    {
     "data": {
      "text/plain": [
       "2.22"
      ]
     },
     "execution_count": 13,
     "metadata": {},
     "output_type": "execute_result"
    }
   ],
   "source": []
  },
  {
   "cell_type": "code",
   "execution_count": null,
   "metadata": {},
   "outputs": [],
   "source": []
  }
 ],
 "metadata": {
  "kernelspec": {
   "display_name": "Python 3",
   "language": "python",
   "name": "python3"
  },
  "language_info": {
   "codemirror_mode": {
    "name": "ipython",
    "version": 3
   },
   "file_extension": ".py",
   "mimetype": "text/x-python",
   "name": "python",
   "nbconvert_exporter": "python",
   "pygments_lexer": "ipython3",
   "version": "3.7.4"
  }
 },
 "nbformat": 4,
 "nbformat_minor": 2
}
