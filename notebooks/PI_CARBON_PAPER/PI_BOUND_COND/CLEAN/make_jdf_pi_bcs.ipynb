{
 "cells": [
  {
   "cell_type": "code",
   "execution_count": 33,
   "metadata": {},
   "outputs": [],
   "source": [
    "import netCDF4 as nc\n",
    "import numpy as np\n",
    "import arrow\n"
   ]
  },
  {
   "cell_type": "code",
   "execution_count": 34,
   "metadata": {},
   "outputs": [
    {
     "name": "stdout",
     "output_type": "stream",
     "text": [
      "0.0\n"
     ]
    }
   ],
   "source": [
    "## are the non dic cells of the PREIND BCs equivalent to the liveocean ones and are the 2 LLO equivalent to each other?\n",
    "\n",
    "LO = \\\n",
    "nc.Dataset('/results/forcing/LiveOcean/boundary_conditions/LiveOcean_v201905_y2015m04d10.nc')\n",
    "LO2 = \\\n",
    "nc.Dataset('/results/forcing/LiveOcean/boundary_conditions/LiveOcean_v201712_y2015m04d10.nc')\n",
    "\n",
    "PI = nc.Dataset('./PREIND_BCCOND/PREIND_BC_v201905_y2015m04d10.nc')\n",
    "w = LO['TA'][:]-LO2['TA'][:]\n",
    "w2 = LO['TA'][:]-PI['TA'][:]\n",
    "print(np.min(w2))\n",
    "# print(LO2)"
   ]
  },
  {
   "cell_type": "code",
   "execution_count": 35,
   "metadata": {},
   "outputs": [],
   "source": [
    "start ='2015-01-01'\n",
    "end ='2015-12-31'\n",
    "\n",
    "start_run = arrow.get(start)\n",
    "end_run = arrow.get(end)\n",
    "\n",
    "arrow_array = []\n",
    "\n",
    "for r in arrow.Arrow.span_range('day', start_run, end_run):\n",
    "    arrow_array.append(r)"
   ]
  },
  {
   "cell_type": "code",
   "execution_count": 36,
   "metadata": {},
   "outputs": [],
   "source": [
    "newPI_DIC = np.zeros([365,40,950])\n",
    "newPI_sigma0 = np.zeros([365,40,950])\n",
    "for i in range(0,365):\n",
    "\n",
    "    tdate = arrow_array[i][0]\n",
    "    yy = tdate.format('YYYY')\n",
    "    mm = tdate.format('MM')\n",
    "    dd = tdate.format('DD')\n",
    "    ymd = f'y{yy}m{mm}d{dd}'\n",
    "\n",
    "#     if i%60 == 0:\n",
    "        #print(ymd)\n",
    "    newPI = nc.Dataset(f'./preind_DIC/LO_AOUmethod_stoicCO_diseq_allup_{ymd}_preind_DIC.nc')\n",
    "   # print(newPI)\n",
    "    newPI_DIC[i,:,:] = newPI['preindustrial_DIC']['preind_dic'][:,:] \n",
    "    newPI_sigma0[i,:,:] = newPI['preindustrial_DIC']['sigma0'][:,:] \n",
    "    newPI.close()"
   ]
  },
  {
   "cell_type": "code",
   "execution_count": 37,
   "metadata": {},
   "outputs": [],
   "source": [
    "#retreive present day DIC and salinity\n",
    "presday_DIC = np.zeros([365,40,950])\n",
    "presday_TA = np.zeros([365,40,950])\n",
    "presday_sal = np.zeros([365,40,950])\n",
    "\n",
    "for i in range(0,365):\n",
    "\n",
    "    tdate = arrow_array[i][0]\n",
    "    #ymd = tdate.format('YYYY')\n",
    "    yy = tdate.format('YYYY')\n",
    "    mm = tdate.format('MM')\n",
    "    dd = tdate.format('DD')\n",
    "    ymd = f'y{yy}m{mm}d{dd}.nc'\n",
    "\n",
    "#     if i%60 == 0:\n",
    "#         #print(ymd)\n",
    "    presday = nc.Dataset(f'/results/forcing/LiveOcean/boundary_conditions/LiveOcean_v201905_{ymd}')\n",
    "    presday_DIC[i,:,:] = presday['DIC'][0,:,0,:]\n",
    "    presday_TA[i,:,:] = presday['TA'][0,:,0,:]\n",
    "    presday_sal[i,:,:] = presday['vosaline'][0,:,0,:]\n",
    "    presday.close()\n",
    "\n"
   ]
  },
  {
   "cell_type": "code",
   "execution_count": 38,
   "metadata": {},
   "outputs": [],
   "source": [
    "def toy_interpolator(sigma0_prof,PI_dic_prof, presday_dic_prof, surf_dic):\n",
    "    \n",
    "#tp testprof\n",
    "    presday_DIC_tp = presday_dic_prof\n",
    "    newPI_DIC_tp = PI_dic_prof\n",
    "    newPI_sigma0_tp = sigma0_prof\n",
    "    \n",
    "#     print(newPI_sigma0_tp)\n",
    "\n",
    "    min_over25 = (np.min(newPI_sigma0_tp[newPI_sigma0_tp>25]))\n",
    "    loc_min_over25 = (np.where(newPI_sigma0_tp == min_over25))\n",
    "    intrusion_at_min = presday_DIC_tp[loc_min_over25] - \\\n",
    "        newPI_DIC_tp[loc_min_over25]\n",
    "\n",
    "    # print(intrusion_at_min)\n",
    "\n",
    "    #print(depths[loc_min_over25])\n",
    "    surf_int = 60\n",
    "    diff = surf_int - intrusion_at_min\n",
    "    depth_way = depths/depths[loc_min_over25]\n",
    "\n",
    "    #print(depth_way)\n",
    "\n",
    "    surf_intr = np.zeros_like(newPI_sigma0_tp)\n",
    "    surf_intr = surf_int - (depth_way) * (diff)\n",
    "    #print(surf_intr)\n",
    "    #print(surf_intr[22])\n",
    "\n",
    "    newPI_DIC_surfadj_tp = np.copy(newPI_DIC_tp)\n",
    "    #print(loc_min_over25[0][0])\n",
    "    newPI_DIC_surfadj_tp[0:loc_min_over25[0][0]] = \\\n",
    "    presday_DIC_tp[0:loc_min_over25[0][0]]-surf_intr[0:loc_min_over25[0][0]]\n",
    "    \n",
    "    return newPI_DIC_surfadj_tp\n"
   ]
  },
  {
   "cell_type": "code",
   "execution_count": 39,
   "metadata": {},
   "outputs": [
    {
     "name": "stdout",
     "output_type": "stream",
     "text": [
      "(365, 40, 950)\n",
      "0\n",
      "60\n",
      "120\n",
      "180\n",
      "240\n",
      "300\n",
      "360\n"
     ]
    }
   ],
   "source": [
    "w = nc.Dataset('/data/tjarniko/MEOPAR/grid/mesh_mask201702.nc')\n",
    "depths = w['gdept_1d'][0,:]\n",
    "\n",
    "#newPI_sigma0\n",
    "newPI_DIC_surfadj = np.copy(newPI_DIC)\n",
    "print(np.shape(newPI_DIC_surfadj))\n",
    "\n",
    "for d in range(0,365):\n",
    "    if d%60 == 0:\n",
    "        print(d)\n",
    "    for w in range(0,950):\n",
    "        \n",
    "        surfadj =\\\n",
    "        toy_interpolator(newPI_sigma0[d,:,w],newPI_DIC[d,:,w], presday_DIC[d,:,w], 60)\n",
    "#         print(np.shape(surfadj))\n",
    "#         print(surfadj)\n",
    "        newPI_DIC_surfadj[d,:,w] = surfadj\n",
    "        \n",
    "        "
   ]
  },
  {
   "cell_type": "code",
   "execution_count": 57,
   "metadata": {},
   "outputs": [],
   "source": [
    "for i in range(0,365):\n",
    "\n",
    "    tdate = arrow_array[i][0]\n",
    "    yy = tdate.format('YYYY')\n",
    "    mm = tdate.format('MM')\n",
    "    dd = tdate.format('DD')\n",
    "    ymd = f'y{yy}m{mm}d{dd}'\n",
    "    \n",
    "    #input file\n",
    "    test_LO = nc.Dataset(f'/results/forcing/LiveOcean/boundary_conditions/LiveOcean_v201905_{ymd}.nc')\n",
    "    #print(test_LO)\n",
    "    #input file for preindustrial DIC\n",
    "    dsin = test_LO \n",
    "    #output filename\n",
    "    ncname = f'./PREIND_BCCOND/PI_AOU_SIGADJ_v201905_{ymd}.nc'\n",
    "\n",
    "    dsout = nc.Dataset(ncname, \"w\", format=\"NETCDF4\")\n",
    "    #Copy dimensions\n",
    "    for dname, the_dim in dsin.dimensions.items():\n",
    "        #print(dname)\n",
    "        #print(len(the_dim))\n",
    "        dsout.createDimension(dname, len(the_dim) if not the_dim.isunlimited() else None)\n",
    "        \n",
    "    # Copy variables\n",
    "    for v_name, varin in dsin.variables.items():\n",
    "        #print(v_name)\n",
    "        #if (v_name != 'DIC'):\n",
    "        outVar = dsout.createVariable(v_name, varin.datatype, varin.dimensions)\n",
    "        # Copy variable attributes\n",
    "        outVar.setncatts({k: varin.getncattr(k) for k in varin.ncattrs()})\n",
    "\n",
    "        outVar[:] = varin[:]\n",
    "    \n",
    "    # copy new DIC variables\n",
    "    piDIC = newPI_DIC_surfadj[i,:,:]\n",
    "    t_DIC = np.zeros([1, 40, 1, 950])\n",
    "    t_DIC[0,:,0,:] = piDIC[:,:]    \n",
    "    dsout['DIC'][:] = t_DIC\n",
    "\n",
    "    dsout.close()"
   ]
  },
  {
   "cell_type": "code",
   "execution_count": null,
   "metadata": {},
   "outputs": [],
   "source": []
  },
  {
   "cell_type": "code",
   "execution_count": null,
   "metadata": {},
   "outputs": [],
   "source": []
  }
 ],
 "metadata": {
  "kernelspec": {
   "display_name": "Python 3",
   "language": "python",
   "name": "python3"
  },
  "language_info": {
   "codemirror_mode": {
    "name": "ipython",
    "version": 3
   },
   "file_extension": ".py",
   "mimetype": "text/x-python",
   "name": "python",
   "nbconvert_exporter": "python",
   "pygments_lexer": "ipython3",
   "version": "3.7.4"
  }
 },
 "nbformat": 4,
 "nbformat_minor": 2
}
