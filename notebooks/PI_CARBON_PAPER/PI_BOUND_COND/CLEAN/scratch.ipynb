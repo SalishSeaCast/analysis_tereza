{
 "cells": [
  {
   "cell_type": "code",
   "execution_count": 1,
   "metadata": {},
   "outputs": [],
   "source": [
    "import sys\n",
    "sys.path.append('/data/tjarniko/mocsy')\n",
    "import mocsy\n",
    "\n",
    "import netCDF4 as nc\n",
    "import numpy as np\n",
    "import scipy as sp\n",
    "import matplotlib.pyplot as plt\n",
    "import gsw\n",
    "import cmocean as cm\n",
    "\n",
    "import warnings\n",
    "warnings.filterwarnings('ignore')"
   ]
  },
  {
   "cell_type": "markdown",
   "metadata": {},
   "source": [
    "#### are LiveOcean BC's more or the same between 201712 and 201905? YES"
   ]
  },
  {
   "cell_type": "code",
   "execution_count": 2,
   "metadata": {},
   "outputs": [],
   "source": [
    "conddir = '/results/forcing/LiveOcean/boundary_conditions/'\n",
    "\n",
    "LO19 = 'LiveOcean_v201905_y2015m09d18.nc'\n",
    "LO17 = 'LiveOcean_v201712_y2015m09d18.nc'\n",
    "\n",
    "LO19nc = nc.Dataset(f'{conddir}{LO19}')\n",
    "LO17nc = nc.Dataset(f'{conddir}{LO17}')"
   ]
  },
  {
   "cell_type": "code",
   "execution_count": 3,
   "metadata": {},
   "outputs": [
    {
     "data": {
      "text/plain": [
       "0.0"
      ]
     },
     "execution_count": 3,
     "metadata": {},
     "output_type": "execute_result"
    }
   ],
   "source": [
    "diff = (LO19nc['DIC'][:]-LO17nc['DIC'][:])\n",
    "np.nanmin(diff)"
   ]
  },
  {
   "cell_type": "markdown",
   "metadata": {},
   "source": [
    "#### are the preindustrial conditions values the same from how I did it (what went in model) \n",
    "        in tracers/west/PREIND_BCCOND/PREIND_BC_v201905 on GRAHAM\n",
    "        copied to notebooks/PI_CARBON_PAPER/PI_BOUND_COND/CLEAN/PREIND_BCCOND\n",
    "#### how i redid it (in the intent of recreating it)?\n",
    "        in notebooks/PI_CARBON_PAPER/PI_BOUND_COND/CLEAN/preind_DIC\n",
    "#### YES THANK GOD        "
   ]
  },
  {
   "cell_type": "code",
   "execution_count": 4,
   "metadata": {},
   "outputs": [],
   "source": [
    "newcalc_dir = '/ocean/tjarniko/MEOPAR/analysis_tereza/notebooks/PI_CARBON_PAPER/PI_BOUND_COND/CLEAN/preind_DIC/'\n",
    "newcalc_pi = nc.Dataset(f'{newcalc_dir}LO_AOUmethod_stoicCO_diseq_y2015m02d09_preind_DIC.nc')\n",
    "oldcalc_dir = '/ocean/tjarniko/MEOPAR/analysis_tereza/notebooks/PI_CARBON_PAPER/PI_BOUND_COND/CLEAN/PREIND_BCCOND/'\n",
    "oldcalc_pi = nc.Dataset(f'{oldcalc_dir}PREIND_BC_v201905_y2015m02d09.nc')"
   ]
  },
  {
   "cell_type": "code",
   "execution_count": 5,
   "metadata": {},
   "outputs": [
    {
     "name": "stdout",
     "output_type": "stream",
     "text": [
      "(40, 950)\n",
      "0.0\n",
      "0.0\n"
     ]
    }
   ],
   "source": [
    "newcalc_dic = newcalc_pi['preindustrial_DIC']['preind_dic'][:]\n",
    "oldcalc_dic = oldcalc_pi['DIC'][0,:,0,:]\n",
    "print(np.shape(oldcalc_dic))\n",
    "diff = oldcalc_dic-newcalc_dic\n",
    "print(np.nanmin(diff))\n",
    "print(np.nanmax(diff))"
   ]
  },
  {
   "cell_type": "code",
   "execution_count": null,
   "metadata": {},
   "outputs": [],
   "source": []
  },
  {
   "cell_type": "code",
   "execution_count": 17,
   "metadata": {},
   "outputs": [
    {
     "name": "stdout",
     "output_type": "stream",
     "text": [
      "temp (cons) is 7\n",
      "salinity (g/kg) is 30\n",
      "DIC 2050 umol/L, TA 2200 umol/L\n",
      "depth (m) is 0\n",
      " pco2 (uatm) is [274.74369571]\n",
      "depth (m) is 100\n",
      " pco2 (uatm) is [274.20613546]\n",
      "depth (m) is 200\n",
      " pco2 (uatm) is [273.67318076]\n",
      "depth (m) is 300\n",
      " pco2 (uatm) is [273.14480322]\n",
      "depth (m) is 400\n",
      " pco2 (uatm) is [272.62097445]\n",
      "depth (m) is 500\n",
      " pco2 (uatm) is [272.10166603]\n",
      "depth (m) is 600\n",
      " pco2 (uatm) is [271.58684956]\n",
      "depth (m) is 700\n",
      " pco2 (uatm) is [271.07649661]\n",
      "depth (m) is 800\n",
      " pco2 (uatm) is [270.57057875]\n",
      "depth (m) is 900\n",
      " pco2 (uatm) is [270.06906756]\n"
     ]
    }
   ],
   "source": [
    "import sys\n",
    "sys.path.append('/data/tjarniko/mocsy')\n",
    "import mocsy\n",
    "import gsw\n",
    "from matplotlib import pyplot as plt\n",
    "import numpy as np\n",
    "\n",
    "temp = np.arange(5,20,0.5)\n",
    "#temp \n",
    "temp = np.zeros_like(temp)\n",
    "temp[:] = 10 \n",
    "# print(temp)\n",
    "temp = 10\n",
    "tdepths = np.arange(0,1000,100)\n",
    "tsra = 30\n",
    "ttera = 7\n",
    "ttara = 2200 * 1e-3\n",
    "tdra = 2050 * 1e-3\n",
    "tzero = 0\n",
    "#tpressure = 0\n",
    "tpressure =1\n",
    "tzero = tpressure * 0 \n",
    "\n",
    "tsra_psu = tsra*35/35.16504\n",
    "tsra_psu = tsra\n",
    "\n",
    "ttera_is = gsw.t_from_CT(tsra,ttera,tzero)\n",
    "print(f'temp (cons) is {ttera}')\n",
    "print(f'salinity (g/kg) is {tsra}')\n",
    "print(f'DIC 2050 umol/L, TA 2200 umol/L')\n",
    "for i in range(0,len(tdepths)):\n",
    "    \n",
    "    \n",
    "    print(f'depth (m) is {tdepths[i]}')\n",
    "    ttera_is = gsw.t_from_CT(tsra,ttera,tzero)\n",
    "    response_tup = mocsy.mvars(temp=ttera, sal=tsra_psu, alk=ttara, dic=tdra, \n",
    "                       sil=tzero, phos=tzero, patm=tpressure, depth=tdepths[i], lat=50, \n",
    "                        optcon='mol/m3', optt='Tpot', optp='m',\n",
    "                        optb = 'l10', optk1k2='m10', optkf = 'dg', optgas = 'Ppot')\n",
    "    pH,pco2,fco2,co2,hco3,co3,OmegaA,OmegaC,BetaD,DENis,p,Tis = response_tup\n",
    "    #print(OmegaA)\n",
    "\n",
    "    \n",
    "    print(f' pco2 (uatm) is {pco2}')"
   ]
  },
  {
   "cell_type": "code",
   "execution_count": 45,
   "metadata": {},
   "outputs": [],
   "source": [
    "w = nc.Dataset('/data/tjarniko/MEOPAR/grid/mesh_mask201702.nc')\n",
    "mask_bdy = w['tmask'][0,:,375:470,10]"
   ]
  },
  {
   "cell_type": "code",
   "execution_count": 55,
   "metadata": {},
   "outputs": [],
   "source": [
    "## unit update back of env calcs\n",
    "\n",
    "unitupdate = nc.Dataset('./preind_DIC/LO_AOUmethod_stoicCO_diseq_unitupdate_y2015m01d01_preind_DIC.nc')\n",
    "origunits = nc.Dataset('./preind_DIC/LO_AOUmethod_stoicCO_diseq_y2015m01d01_preind_DIC.nc')\n",
    "zeroedpreformed = nc.Dataset('./preind_DIC/LO_AOUmethod_stoicCO_diseq_prefC_zeroed_y2015m01d01_preind_DIC.nc')\n",
    "allchanges = nc.Dataset('./preind_DIC/LO_AOUmethod_stoicCO_diseq_allup_y2015m01d01_preind_DIC.nc')\n",
    "\n",
    "unitupdate_DIC = unitupdate['preindustrial_DIC']['preind_dic'][:]\n",
    "origunits_DIC = origunits['preindustrial_DIC']['preind_dic'][:]\n",
    "zeroedpreformed_DIC = zeroedpreformed['preindustrial_DIC']['preind_dic'][:]\n",
    "allchanges_DIC = allchanges['preindustrial_DIC']['preind_dic'][:]\n",
    "\n",
    "diff_in_units = unitupdate_DIC[:,950-95:950]-origunits_DIC[:,950-95:950]\n",
    "diff_in_zeroing = zeroedpreformed_DIC[:,950-95:950]*mask_bdy-origunits_DIC[:,950-95:950]*mask_bdy\n",
    "diff_in_all = allchanges_DIC[:,950-95:950]*mask_bdy-origunits_DIC[:,950-95:950]*mask_bdy\n"
   ]
  },
  {
   "cell_type": "code",
   "execution_count": 56,
   "metadata": {},
   "outputs": [
    {
     "data": {
      "text/plain": [
       "30.997314"
      ]
     },
     "execution_count": 56,
     "metadata": {},
     "output_type": "execute_result"
    }
   ],
   "source": [
    "np.nanmax(diff_in_all)"
   ]
  },
  {
   "cell_type": "code",
   "execution_count": 61,
   "metadata": {},
   "outputs": [
    {
     "data": {
      "text/plain": [
       "<matplotlib.colorbar.Colorbar at 0x7ffade225610>"
      ]
     },
     "execution_count": 61,
     "metadata": {},
     "output_type": "execute_result"
    },
    {
     "data": {
      "image/png": "[encoded data removed]",
      "text/plain": [
       "<Figure size 432x288 with 2 Axes>"
      ]
     },
     "metadata": {
      "needs_background": "light"
     },
     "output_type": "display_data"
    }
   ],
   "source": [
    "tplt = allchanges_DIC[:,950-95:950]*mask_bdy-origunits_DIC[:,950-95:950]*mask_bdy\n",
    "plt.pcolormesh(tplt)\n",
    "plt.colorbar()"
   ]
  },
  {
   "cell_type": "code",
   "execution_count": 10,
   "metadata": {},
   "outputs": [
    {
     "name": "stdout",
     "output_type": "stream",
     "text": [
      "9.917438532553858\n",
      "285.4302787488476\n",
      "284.81255129575356\n"
     ]
    }
   ],
   "source": [
    "import gsw\n",
    "SA = 30\n",
    "CT = 10\n",
    "pt = gsw.pt_from_CT(SA,CT)\n",
    "print(pt)\n",
    "\n",
    "osol = gsw.O2sol(SA,CT,0,-125,50)\n",
    "print(osol)\n",
    "osol = gsw.O2sol(SA,CT+0.1,0,-125,50)\n",
    "print(osol)"
   ]
  },
  {
   "cell_type": "code",
   "execution_count": null,
   "metadata": {},
   "outputs": [],
   "source": []
  }
 ],
 "metadata": {
  "kernelspec": {
   "display_name": "Python 3",
   "language": "python",
   "name": "python3"
  },
  "language_info": {
   "codemirror_mode": {
    "name": "ipython",
    "version": 3
   },
   "file_extension": ".py",
   "mimetype": "text/x-python",
   "name": "python",
   "nbconvert_exporter": "python",
   "pygments_lexer": "ipython3",
   "version": "3.7.4"
  }
 },
 "nbformat": 4,
 "nbformat_minor": 2
}
