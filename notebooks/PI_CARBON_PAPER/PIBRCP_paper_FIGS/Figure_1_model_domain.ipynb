{
 "cells": [
  {
   "cell_type": "code",
   "execution_count": 1,
   "metadata": {},
   "outputs": [
    {
     "data": {
      "text/html": [
       "<script>\n",
       "code_show=true; \n",
       "function code_toggle() {\n",
       " if (code_show){\n",
       " $('div.input').hide();\n",
       " } else {\n",
       " $('div.input').show();\n",
       " }\n",
       " code_show = !code_show\n",
       "} \n",
       "$( document ).ready(code_toggle);\n",
       "</script>\n",
       "<form action=\"javascript:code_toggle()\"><input type=\"submit\" value=\"Click here to toggle on/off the raw code.\"></form>"
      ],
      "text/plain": [
       "<IPython.core.display.HTML object>"
      ]
     },
     "execution_count": 1,
     "metadata": {},
     "output_type": "execute_result"
    }
   ],
   "source": [
    "from IPython.display import HTML\n",
    "\n",
    "HTML('''<script>\n",
    "code_show=true; \n",
    "function code_toggle() {\n",
    " if (code_show){\n",
    " $('div.input').hide();\n",
    " } else {\n",
    " $('div.input').show();\n",
    " }\n",
    " code_show = !code_show\n",
    "} \n",
    "$( document ).ready(code_toggle);\n",
    "</script>\n",
    "<form action=\"javascript:code_toggle()\"><input type=\"submit\" value=\"Click here to toggle on/off the raw code.\"></form>''')"
   ]
  },
  {
   "cell_type": "code",
   "execution_count": 2,
   "metadata": {},
   "outputs": [
    {
     "ename": "ModuleNotFoundError",
     "evalue": "No module named 'mpl_toolkits.basemap'",
     "output_type": "error",
     "traceback": [
      "\u001b[0;31m----------------\u001b[0m",
      "\u001b[0;31mModuleNotFoundError\u001b[0mTraceback (most recent call last)",
      "\u001b[0;32m<ipython-input-2-a4b0f51d4ce9>\u001b[0m in \u001b[0;36m<module>\u001b[0;34m\u001b[0m\n\u001b[1;32m      3\u001b[0m \u001b[0;32mfrom\u001b[0m \u001b[0mcmocean\u001b[0m \u001b[0;32mimport\u001b[0m \u001b[0mcm\u001b[0m\u001b[0;34m\u001b[0m\u001b[0;34m\u001b[0m\u001b[0m\n\u001b[1;32m      4\u001b[0m \u001b[0;32mimport\u001b[0m \u001b[0mmatplotlib\u001b[0m\u001b[0;34m.\u001b[0m\u001b[0mpyplot\u001b[0m \u001b[0;32mas\u001b[0m \u001b[0mplt\u001b[0m\u001b[0;34m\u001b[0m\u001b[0;34m\u001b[0m\u001b[0m\n\u001b[0;32m----> 5\u001b[0;31m \u001b[0;32mfrom\u001b[0m \u001b[0mmpl_toolkits\u001b[0m\u001b[0;34m.\u001b[0m\u001b[0mbasemap\u001b[0m \u001b[0;32mimport\u001b[0m \u001b[0mBasemap\u001b[0m\u001b[0;34m\u001b[0m\u001b[0;34m\u001b[0m\u001b[0m\n\u001b[0m\u001b[1;32m      6\u001b[0m \u001b[0;32mfrom\u001b[0m \u001b[0mmatplotlib\u001b[0m\u001b[0;34m.\u001b[0m\u001b[0mpatches\u001b[0m \u001b[0;32mimport\u001b[0m \u001b[0mRectangle\u001b[0m\u001b[0;34m\u001b[0m\u001b[0;34m\u001b[0m\u001b[0m\n\u001b[1;32m      7\u001b[0m \u001b[0;32mfrom\u001b[0m \u001b[0mscipy\u001b[0m\u001b[0;34m.\u001b[0m\u001b[0mio\u001b[0m \u001b[0;32mimport\u001b[0m \u001b[0mloadmat\u001b[0m\u001b[0;34m\u001b[0m\u001b[0;34m\u001b[0m\u001b[0m\n",
      "\u001b[0;31mModuleNotFoundError\u001b[0m: No module named 'mpl_toolkits.basemap'"
     ]
    }
   ],
   "source": [
    "from salishsea_tools import nc_tools, viz_tools\n",
    "\n",
    "from cmocean import cm\n",
    "import matplotlib.pyplot as plt\n",
    "from mpl_toolkits.basemap import Basemap\n",
    "from matplotlib.patches import Rectangle\n",
    "from scipy.io import loadmat\n",
    "import numpy as np\n",
    "import xarray as xr\n",
    "import netCDF4 as nc\n",
    "\n",
    "%matplotlib notebook"
   ]
  },
  {
   "cell_type": "code",
   "execution_count": null,
   "metadata": {},
   "outputs": [],
   "source": [
    "plt.rcParams['font.size'] = 14"
   ]
  },
  {
   "cell_type": "code",
   "execution_count": null,
   "metadata": {},
   "outputs": [],
   "source": [
    "def plot_annotations(ax, m, annotations, zorder=None):\n",
    "    \"\"\"\n",
    "    \"\"\"\n",
    "    \n",
    "    # Plot Locations\n",
    "    for annotation_label, annotation in annotations.items():\n",
    "        ax.text(*annotation['text'], annotation_label, transform=ax.transAxes,\n",
    "                fontsize=annotation['font']+1, rotation=annotation['rotate'], zorder=zorder)\n",
    "        if annotation['marker'] is not None:\n",
    "            x, y = m(*annotation['marker'])\n",
    "            ax.plot(x, y, 'ko', markersize=8, markerfacecolor=annotation['color'], zorder=zorder)\n",
    "        if annotation['arrow'] is not None:\n",
    "            ax.arrow(*annotation['arrow'], head_width=0.01, fc='k', transform=ax.transAxes, zorder=zorder)"
   ]
  },
  {
   "cell_type": "code",
   "execution_count": null,
   "metadata": {},
   "outputs": [],
   "source": [
    "def plot_basemap(ax, w_map, lons=None, lats=None, offset=[None, None], zorder=[0, 1, 2]):\n",
    "    \"\"\"\n",
    "    \"\"\"\n",
    "    \n",
    "    # Define map window\n",
    "    lon_0 = (w_map[1] - w_map[0]) / 2 + w_map[0]\n",
    "    lat_0 = (w_map[3] - w_map[2]) / 2 + w_map[2]\n",
    "\n",
    "    # Make projection\n",
    "    m = Basemap(projection='lcc', resolution='h',\n",
    "                lon_0=lon_0, lat_0=lat_0,\n",
    "                llcrnrlon=w_map[0], urcrnrlon=w_map[1],\n",
    "                llcrnrlat=w_map[2], urcrnrlat=w_map[3], ax=ax)\n",
    "    \n",
    "    # Default lon/lat intervals\n",
    "    if lons is None:\n",
    "        lons = np.floor([w_map[0], w_map[1] + 1])\n",
    "    if lats is None:\n",
    "        lats = np.floor([w_map[2], w_map[3] + 1])\n",
    "    \n",
    "    # Add features and labels\n",
    "    m.drawcoastlines(zorder=zorder[1])\n",
    "    m.fillcontinents(color='Burlywood', zorder=zorder[0])\n",
    "    m.drawmeridians(np.arange(*lons), labels=[0, 0, 1, 0], color='dimgray', yoffset=offset[1], zorder=zorder[2])\n",
    "    m.drawparallels(np.arange(*lats), labels=[0, 1, 0, 0], color='dimgray', xoffset=offset[0], zorder=zorder[2])\n",
    "    \n",
    "    return m"
   ]
  },
  {
   "cell_type": "code",
   "execution_count": null,
   "metadata": {},
   "outputs": [],
   "source": [
    "def plot_thalweg(ax, T_lon, T_lat):\n",
    "    lines = np.loadtxt('/home/sallen/MEOPAR/Tools/bathymetry/thalweg_working.txt', delimiter=\" \", unpack=False)\n",
    "    lines = lines.astype(int)\n",
    "\n",
    "    thalweg_lon = T_lon[lines[:,0],lines[:,1]]\n",
    "    thalweg_lat = T_lat[lines[:,0],lines[:,1]]\n",
    "    ax.plot(thalweg_lon, thalweg_lat, 'r')\n"
   ]
  },
  {
   "cell_type": "code",
   "execution_count": null,
   "metadata": {},
   "outputs": [],
   "source": [
    "def plot_map(ax, cst, bounds, grid, T, tplt, w_map = [-129, -121, 47, 51.2], idepth=0):\n",
    "    \"\"\"Plot Strait of Georgia study area on Basemap object\n",
    "    \"\"\"\n",
    "    \n",
    "    # Plot Basemap\n",
    "    m = plot_basemap(ax, w_map, offset=[-30000, -15000], zorder=[0, 1, 7])\n",
    "    \n",
    "    # Plot Fraser River\n",
    "    for bound in bounds:\n",
    "        i_old = 0\n",
    "        for i in np.argwhere(np.isnan(cst['ncst'][bound[0]:bound[1], 1]))[:, 0]:\n",
    "            x, y = m(cst['ncst'][bound[0]:bound[1], 0][i_old:i],\n",
    "                     cst['ncst'][bound[0]:bound[1], 1][i_old:i])\n",
    "            ax.plot(x, y, 'k-')\n",
    "            i_old = i + 1\n",
    "    \n",
    "    # Convert lon/lat to x, y\n",
    "    x, y = m(grid['nav_lon'].values, grid['nav_lat'].values)\n",
    "\n",
    "    #Overlay model domain\n",
    "    #C = ax.contourf(x, y, T['vosaline'].isel(time_counter=23, deptht=idepth), range(21, 34), cmap=cm.haline, extend='both', zorder=.2)\n",
    "    \n",
    "    #dat = T['dissolved_inorganic_carbon'].isel(time_counter=0, deptht=idepth)\n",
    "    dat = T_NEMO['Bathymetry']\n",
    "    C = ax.contourf(x, y, dat, levels=np.arange(0, 450, 10), cmap=cm.deep, extend = 'both') # extend='both', zorder=.2)\n",
    "\n",
    "    ax.contourf(x, y, grid['Bathymetry'], [-0.01, 0.01], colors='lightgray', zorder=3)\n",
    "    ax.contour( x, y, grid['Bathymetry'], [0], colors='Black', zorder=4)\n",
    "\n",
    "    #Colorbar\n",
    "    fig.subplots_adjust(bottom=0.0)\n",
    "    cax = fig.add_axes([0.15, 0.1, 0.73, 0.01])\n",
    "    cbar = fig.colorbar(C, cax=cax, orientation='horizontal', label='DIC [μmol/kg]')\n",
    "    cbar.set_label(label='water depth (m)', size=14)\n",
    "    cbar.ax.set_yticklabels(cbar.ax.get_yticklabels(), size=14)\n",
    "    cbar.set_ticks(range(0, 450, 50))\n",
    "\n",
    "    # Box around model domain\n",
    "    ax.plot(x[ :,  0], y[ :,  0], 'k-', zorder=6)\n",
    "    ax.plot(x[ :, -1], y[ :, -1], 'k-', zorder=6)\n",
    "    ax.plot(x[ 0,  :], y[ 0,  :], 'k-', zorder=6)\n",
    "    ax.plot(x[-1,  :], y[-1,  :], 'k-', zorder=6)\n",
    "    \n",
    "    #ax.scatter(-123.43,49.04,s=650,c='darkorange',marker='o')\n",
    "    # Define Significant Landmarks and Locations\n",
    "    annotations = {\n",
    "       'Pacific\\nOcean'     : {'text': [0.10, 0.250], 'font': 14, 'rotate':   0, 'color': 'r', 'marker': None, 'arrow': None},\n",
    "       'British\\nColumbia'  : {'text': [0.65, 0.850], 'font': 14, 'rotate':   0, 'color': 'r', 'marker': None, 'arrow': None},\n",
    "       #'Washington\\nState'  : {'text': [0.70, 0.030], 'font': 14, 'rotate':   0, 'color': 'r', 'marker': None, 'arrow': None},\n",
    "       #'Strait of Georgia'  : {'text': [0.50, 0.575], 'font': 13, 'rotate': -40, 'color': 'r', 'marker': None, 'arrow': None},\n",
    "       #'Juan de Fuca Strait': {'text': [0.36, 0.400], 'font': 13, 'rotate': -21, 'color': 'r', 'marker': None, 'arrow': None},\n",
    "       'Fraser River'       : {'text': [0.80, 0.90], 'font': 13, 'rotate':  0, 'color': 'r', 'marker': None, 'arrow': None},\n",
    "       #'Puget\\nSound'       : {'text': [0.60, 0.120], 'font': 13, 'rotate':   0, 'color': 'r', 'marker': None, 'arrow': None},\n",
    "       #' ' : {'text': [0.68, 0.550], 'font': 14, 'rotate':   0, 'color': 'azure', 'marker': [-123.43, 49.04], 'markersize': 600, 'arrow': None},\n",
    "       #'Victoria'           : {'text': [0.25, 0.39], 'font': 12, 'rotate':   0, 'color': 'r', 'marker': [-123.37, 48.43], 'arrow': None},\n",
    "       #'Seattle'            : {'text': [0.81, 0.230], 'font': 12, 'rotate':   0, 'color': 'r', 'marker': [-122.33, 47.61], 'arrow': None},\n",
    "    }\n",
    "    \n",
    "    \n",
    "    # Timestamp\n",
    "    #ax.text(0.02, 0.01, '1 September 2016 0000 UTC: surface', transform=ax.transAxes)\n",
    "    \n",
    "    # Plot Annotations\n",
    "    plot_annotations(ax, m, annotations, zorder=7)\n",
    "    \n",
    "    # Plot Thalweg\n",
    "    #plot_thalweg(ax, x, y)\n",
    "    \n",
    "    fig.savefig('Fig1.png')"
   ]
  },
  {
   "cell_type": "code",
   "execution_count": null,
   "metadata": {},
   "outputs": [],
   "source": [
    "# Load NEMO grid\n",
    "grid_NEMO = xr.open_dataset(\n",
    "    '/home/sallen/MEOPAR/grid/bathymetry_201702.nc', mask_and_scale=False)\n",
    "\n",
    "#T_NEMO = xr.open_dataset('/data/tjarniko/results/SAMPL/SalishSea_1ts_20141121_20141121_ptrc_T_20141121-20141121.nc')\n",
    "T_NEMO = xr.open_dataset('/home/sallen/MEOPAR/grid/bathymetry_201702.nc')\n",
    "# Load Fraser coastline\n",
    "print(T_NEMO['Bathymetry'])\n",
    "PNWrivers = loadmat('/ocean/rich/more/mmapbase/bcgeo/PNWrivers.mat')"
   ]
  },
  {
   "cell_type": "code",
   "execution_count": null,
   "metadata": {},
   "outputs": [],
   "source": [
    "w = T_NEMO['Bathymetry'][:]\n",
    "print(np.max(w))"
   ]
  },
  {
   "cell_type": "code",
   "execution_count": null,
   "metadata": {},
   "outputs": [],
   "source": [
    "# ptt = '/results/SalishSea/nowcast-green/01sep16/'\n",
    "# tr = 'SalishSea_1d_20160901_20160901_ptrc_T.nc'\n",
    "ptt = '//data/tjarniko/results/SAMPL/'\n",
    "tr = 'SalishSea_1ts_20141121_20141121_ptrc_T_20141121-20141121.nc'\n",
    "tracers = nc.Dataset(ptt+tr)\n",
    "print(tracers)\n",
    "\n",
    "hrly_dat = tracers.variables['nitrate']\n",
    "print(hrly_dat)\n",
    "\n",
    "surf_dat = hrly_dat[0,0,:,:]\n",
    "tplt = surf_dat"
   ]
  },
  {
   "cell_type": "markdown",
   "metadata": {},
   "source": [
    "## Look at this really professional looking domain map!\n",
    "\n",
    "    adapted from Ben Moore-Maley\n",
    "    if you don't want a thalweg, comment out plot_thalweg in the plot_map code..\n",
    "    "
   ]
  },
  {
   "cell_type": "code",
   "execution_count": null,
   "metadata": {
    "scrolled": true
   },
   "outputs": [],
   "source": [
    "# Define Fraser coastline regions\n",
    "bounds = [[0, 26000], [61500, 77000], [107500, 114000], [200000, 203000], [326000, 327000]]\n",
    "\n",
    "# Make figure window\n",
    "fig, ax = plt.subplots(1, 1, figsize=(10, 13))\n",
    "\n",
    "# Plot Model Domain\n",
    "plot_map(ax, PNWrivers, bounds, grid_NEMO, T_NEMO, tplt, w_map = [-127, -121, 47, 51.2], idepth=0)"
   ]
  },
  {
   "cell_type": "code",
   "execution_count": null,
   "metadata": {},
   "outputs": [],
   "source": []
  },
  {
   "cell_type": "code",
   "execution_count": null,
   "metadata": {},
   "outputs": [],
   "source": []
  }
 ],
 "metadata": {
  "kernelspec": {
   "display_name": "Python 3",
   "language": "python",
   "name": "python3"
  },
  "language_info": {
   "codemirror_mode": {
    "name": "ipython",
    "version": 3
   },
   "file_extension": ".py",
   "mimetype": "text/x-python",
   "name": "python",
   "nbconvert_exporter": "python",
   "pygments_lexer": "ipython3",
   "version": "3.7.4"
  }
 },
 "nbformat": 4,
 "nbformat_minor": 2
}
