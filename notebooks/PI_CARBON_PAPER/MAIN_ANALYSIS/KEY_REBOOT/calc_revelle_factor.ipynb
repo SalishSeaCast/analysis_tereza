{
 "cells": [
  {
   "cell_type": "code",
   "execution_count": 111,
   "metadata": {},
   "outputs": [
    {
     "name": "stdout",
     "output_type": "stream",
     "text": [
      "Once deleted, variables cannot be recovered. Proceed (y/[n])? y\n"
     ]
    }
   ],
   "source": [
    "%reset"
   ]
  },
  {
   "cell_type": "code",
   "execution_count": 112,
   "metadata": {},
   "outputs": [
    {
     "data": {
      "text/html": [
       "<script>\n",
       "code_show=true; \n",
       "function code_toggle() {\n",
       " if (code_show){\n",
       " $('div.input').hide();\n",
       " } else {\n",
       " $('div.input').show();\n",
       " }\n",
       " code_show = !code_show\n",
       "} \n",
       "$( document ).ready(code_toggle);\n",
       "</script>\n",
       "<form action=\"javascript:code_toggle()\"><input type=\"submit\" value=\"Mythical code button\"></form>"
      ],
      "text/plain": [
       "<IPython.core.display.HTML object>"
      ]
     },
     "execution_count": 112,
     "metadata": {},
     "output_type": "execute_result"
    }
   ],
   "source": [
    "from IPython.display import HTML\n",
    "\n",
    "HTML('''<script>\n",
    "code_show=true; \n",
    "function code_toggle() {\n",
    " if (code_show){\n",
    " $('div.input').hide();\n",
    " } else {\n",
    " $('div.input').show();\n",
    " }\n",
    " code_show = !code_show\n",
    "} \n",
    "$( document ).ready(code_toggle);\n",
    "</script>\n",
    "<form action=\"javascript:code_toggle()\"><input type=\"submit\" value=\"Mythical code button\"></form>''')"
   ]
  },
  {
   "cell_type": "code",
   "execution_count": 113,
   "metadata": {},
   "outputs": [],
   "source": [
    "import arrow\n",
    "import numpy as np\n",
    "import xarray as xr\n",
    "import matplotlib.pyplot as plt\n",
    "#plt.style.use('classic')\n",
    "from matplotlib.patches import Rectangle\n",
    "import pickle\n",
    "from cmocean import cm\n",
    "import warnings\n",
    "import netCDF4 as nc\n",
    "import sys\n",
    "sys.path.append('../pyscripts/bylayer_extract/')\n",
    "import extract_bylayer_mean_BOXMASK as ebmBOX \n",
    "from importlib import reload\n",
    "from salishsea_tools import viz_tools\n",
    "\n",
    "import sys\n",
    "sys.path.append('/data/tjarniko/mocsy')\n",
    "import mocsy\n",
    "\n",
    "%matplotlib inline\n",
    "warnings.simplefilter('ignore')\n",
    "\n",
    "# plt.rcParams.update({'font.size': 13,\n",
    "#                      'xtick.labelsize' : 13,\n",
    "#                      'ytick.labelsize' : 13})"
   ]
  },
  {
   "cell_type": "markdown",
   "metadata": {},
   "source": [
    "### egleston calculations"
   ]
  },
  {
   "cell_type": "code",
   "execution_count": 114,
   "metadata": {},
   "outputs": [],
   "source": [
    "\n",
    "def calculate_Egleston_factors(ttemp, tsal, talk, tdic_A, dep, del_dic):\n",
    "\n",
    "    tdic_B = tdic_A + del_dic\n",
    "    \n",
    "    tzero = np.zeros_like(tdic_A)\n",
    "    \n",
    "    response_tup = mocsy.mvars(temp=ttemp, sal=tsal, alk=talk, dic=tdic_A, \n",
    "                           sil=tzero, phos=tzero, patm=tzero+1, depth=dep, lat=tzero, \n",
    "                            optcon='mol/m3', optt='Tinsitu', optp='m',\n",
    "                            optb = 'l10', optk1k2='m10', optkf = 'dg', optgas = 'Pinsitu')\n",
    "\n",
    "    pH_A,pco2_A,fco2,co2_A,hco3,co3,OmegaA_A,OmegaC,BetaD,DENis,p,Tis = response_tup\n",
    "\n",
    "    response_tup = mocsy.mvars(temp=ttemp, sal=tsal, alk=talk, dic=tdic_B, \n",
    "                           sil=tzero, phos=tzero, patm=tzero+1, depth=dep, lat=tzero, \n",
    "                            optcon='mol/m3', optt='Tinsitu', optp='m',\n",
    "                            optb = 'l10', optk1k2='m10', optkf = 'dg', optgas = 'Pinsitu')\n",
    "\n",
    "    pH_B,pco2_B,fco2,co2_B,hco3,co3,OmegaA_B,OmegaC,BetaD,DENis,p,Tis = response_tup\n",
    "\n",
    "    omega_DIC = 1/((np.log(OmegaA_B)-np.log(OmegaA_A))/(del_dic))\n",
    "    \n",
    "    Hplus_A = 10**(-1*pH_A); Hplus_B = 10**(-1*pH_B)\n",
    "    beta_DIC = 1/((np.log(Hplus_B)-np.log(Hplus_A))/(del_dic))\n",
    "    \n",
    "    gamma_DIC = 1/((np.log(co2_B)-np.log(co2_A))/(del_dic))\n",
    "    \n",
    "    \n",
    "    \n",
    "    return omega_DIC, beta_DIC, gamma_DIC, OmegaA_A, BetaD\n",
    "\n",
    "# t_omega_DIC, t_beta_DIC, t_gammaDIC, t_OmegaA_A = \\\n",
    "# calculate_Egleston_factors\\\n",
    "# (tTEMP, tSAL, tALK*1e-3, tDIC*1e-3, tPRES, 0.01)\n",
    "\n",
    "\n",
    "\n",
    "def calculate_Egleston_factors_tPOT(ttemp, tsal, talk, tdic_A, dep, del_dic):\n",
    "\n",
    "    tdic_B = tdic_A + del_dic\n",
    "    \n",
    "    tzero = np.zeros_like(tdic_A)\n",
    "    \n",
    "    response_tup = mocsy.mvars(temp=ttemp, sal=tsal, alk=talk, dic=tdic_A, \n",
    "                           sil=tzero, phos=tzero, patm=tzero+1, depth=dep, lat=tzero, \n",
    "                            optcon='mol/m3', optt='Tpot', optp='m',\n",
    "                            optb = 'l10', optk1k2='m10', optkf = 'dg', optgas = 'Pinsitu')\n",
    "\n",
    "    pH_A,pco2_A,fco2,co2_A,hco3,co3,OmegaA_A,OmegaC,BetaD,DENis,p,Tis = response_tup\n",
    "\n",
    "    response_tup = mocsy.mvars(temp=ttemp, sal=tsal, alk=talk, dic=tdic_B, \n",
    "                           sil=tzero, phos=tzero, patm=tzero+1, depth=dep, lat=tzero, \n",
    "                            optcon='mol/m3', optt='Tpot', optp='m',\n",
    "                            optb = 'l10', optk1k2='m10', optkf = 'dg', optgas = 'Pinsitu')\n",
    "\n",
    "    pH_B,pco2_B,fco2,co2_B,hco3,co3,OmegaA_B,OmegaC,BetaD,DENis,p,Tis = response_tup\n",
    "\n",
    "    omega_DIC = 1/((np.log(OmegaA_B)-np.log(OmegaA_A))/(del_dic))\n",
    "    \n",
    "    Hplus_A = 10**(-1*pH_A); Hplus_B = 10**(-1*pH_B)\n",
    "    beta_DIC = 1/((np.log(Hplus_B)-np.log(Hplus_A))/(del_dic))\n",
    "    \n",
    "    gamma_DIC = 1/((np.log(co2_B)-np.log(co2_A))/(del_dic))\n",
    "    \n",
    "    return omega_DIC, beta_DIC, gamma_DIC, OmegaA_A, BetaD\n",
    "\n"
   ]
  },
  {
   "cell_type": "markdown",
   "metadata": {},
   "source": [
    "## calculating BR3 oma, oma_dic and pickling\n",
    "\n",
    "# convert salinity from g/kg, make sure to use potential temperature T option and convert cons T to pot T"
   ]
  },
  {
   "cell_type": "code",
   "execution_count": 115,
   "metadata": {},
   "outputs": [
    {
     "name": "stdout",
     "output_type": "stream",
     "text": [
      "ready to calculate Egleston\n",
      "done and pickled\n"
     ]
    }
   ],
   "source": [
    "import gsw\n",
    "\n",
    "tdir = '/ocean/tjarniko/MEOPAR/analysis_tereza/notebooks/PI_CARBON_PAPER/MAIN_ANALYSIS/pkls/'\n",
    "BR3_dic_s = np.ravel(pickle.load(open(tdir+'BR3_DIC_summer_mean.pkl', 'rb')))\n",
    "BR3_dic_s[BR3_dic_s == 0] = np.nan\n",
    "BR3_dic_s[BR3_dic_s > 1e5] = np.nan\n",
    "\n",
    "BR3_ta_s = np.ravel(pickle.load(open(tdir+'BR3_TA_summer_mean.pkl', 'rb')))\n",
    "BR3_ta_s[BR3_ta_s> 1e5] = np.nan\n",
    "BR3_ta_s[BR3_dic_s == 0] = np.nan\n",
    "\n",
    "BR3_temp_s2 = np.ravel(pickle.load(open(tdir+'BR3_temp_summer_mean.pkl', 'rb')))\n",
    "BR3_temp_s2[BR3_temp_s2> 1e5] = np.nan\n",
    "BR3_temp_s2[BR3_dic_s == 0] = np.nan\n",
    "\n",
    "BR3_sal_s2 = np.ravel(pickle.load(open(tdir+'BR3_sal_summer_mean.pkl', 'rb')))\n",
    "BR3_sal_s2[BR3_sal_s2> 1e5] = np.nan\n",
    "BR3_sal_s2[BR3_dic_s == 0] = np.nan\n",
    "\n",
    "BR3_temp_s = gsw.pt_from_CT(BR3_sal_s2,BR3_temp_s2)\n",
    "BR3_sal_s= BR3_sal_s2*35/35.16504\n",
    "\n",
    "\n",
    "tdir = '/ocean/tjarniko/MEOPAR/analysis_tereza/notebooks/PI_CARBON_PAPER/MAIN_ANALYSIS/pkls/'\n",
    "BR3_dic_w = np.ravel(pickle.load(open(tdir+'BR3_DIC_winter_mean.pkl', 'rb')))\n",
    "BR3_dic_w[BR3_dic_w == 0] = np.nan\n",
    "BR3_dic_w[BR3_dic_w > 1e5] = np.nan\n",
    "\n",
    "BR3_ta_w = np.ravel(pickle.load(open(tdir+'BR3_TA_winter_mean.pkl', 'rb')))\n",
    "BR3_ta_w[BR3_ta_w> 1e5] = np.nan\n",
    "BR3_ta_w[BR3_dic_w == 0] = np.nan\n",
    "\n",
    "BR3_temp_w2 = np.ravel(pickle.load(open(tdir+'BR3_temp_winter_mean.pkl', 'rb')))\n",
    "BR3_temp_w2[BR3_temp_w2> 1e5] = np.nan\n",
    "BR3_temp_w2[BR3_dic_w == 0] = np.nan\n",
    "\n",
    "BR3_sal_w2 = np.ravel(pickle.load(open(tdir+'BR3_sal_winter_mean.pkl', 'rb')))\n",
    "BR3_sal_w2[BR3_sal_w2> 1e5] = np.nan\n",
    "BR3_sal_w2[BR3_dic_w == 0] = np.nan\n",
    "\n",
    "BR3_temp_w = gsw.pt_from_CT(BR3_sal_w2,BR3_temp_w2)\n",
    "BR3_sal_w= BR3_sal_w2*35/35.16504\n",
    "\n",
    "print('ready to calculate Egleston')\n",
    "w = nc.Dataset('/data/tjarniko/MEOPAR/grid/mesh_mask201702.nc')\n",
    "dep = np.ravel((w['gdept_0'][0,:,:,:]))\n",
    "\n",
    "\n",
    "#clculate rev fact\n",
    "# BR3_sss_omega_dic, BR3_sss_beta_dic, BR3_sss_gamma_dic, BR3_sss_OmegaA_A, BR3_sss_BetaD = \\\n",
    "# calculate_Egleston_factors_tPOT\\\n",
    "# (BR3_temp_s, BR3_sal_s, BR3_ta_s*1e-3, BR3_dic_s*1e-3, dep, 0.01)\n",
    "\n",
    "# BR3_ssw_omega_dic, BR3_ssw_beta_dic, BR3_ssw_gamma_dic, BR3_ssw_OmegaA_A, BR3_ssw_BetaD = \\\n",
    "# calculate_Egleston_factors_tPOT\\\n",
    "# (BR3_temp_w, BR3_sal_w, BR3_ta_w*1e-3, BR3_dic_w*1e-3, dep, 0.01)\n",
    "\n",
    "# BR3_sss_omega_dic = BR3_sss_omega_dic.reshape(40,898,398)\n",
    "# pickle.dump(BR3_sss_omega_dic, open(\"../pkls/BR3_omega_dic_summer_mean.pkl\", 'wb'))\n",
    "# BR3_ssw_omega_dic = BR3_ssw_omega_dic.reshape(40,898,398)\n",
    "# pickle.dump(BR3_ssw_omega_dic, open(\"../pkls/BR3_omega_dic_winter_mean.pkl\", 'wb'))\n",
    "\n",
    "# BR3_sss_gamma_dic = BR3_sss_gamma_dic.reshape(40,898,398)\n",
    "# pickle.dump(BR3_sss_gamma_dic, open(\"../pkls/BR3_gamma_DIC_summer_mean.pkl\", 'wb'))\n",
    "# BR3_ssw_gamma_dic = BR3_ssw_gamma_dic.reshape(40,898,398)\n",
    "# pickle.dump(BR3_ssw_gamma_dic, open(\"../pkls/BR3_gamma_DIC_winter_mean.pkl\", 'wb'))\n",
    "\n",
    "# BR3_sss_BetaD = BR3_sss_BetaD.reshape(40,898,398)\n",
    "# pickle.dump(BR3_sss_BetaD, open(\"../pkls/BR3_BetaD_summer_mean.pkl\", 'wb'))\n",
    "# BR3_ssw_BetaD = BR3_ssw_BetaD.reshape(40,898,398)\n",
    "# pickle.dump(BR3_ssw_BetaD, open(\"../pkls/BR3_BetaD_winter_mean.pkl\", 'wb'))\n",
    "\n",
    "print('done and pickled')"
   ]
  },
  {
   "cell_type": "code",
   "execution_count": null,
   "metadata": {},
   "outputs": [],
   "source": []
  },
  {
   "cell_type": "markdown",
   "metadata": {},
   "source": [
    "    ## same for PI8"
   ]
  },
  {
   "cell_type": "code",
   "execution_count": 116,
   "metadata": {},
   "outputs": [
    {
     "name": "stdout",
     "output_type": "stream",
     "text": [
      "ready to calculate Egleston\n",
      "done and pickled\n"
     ]
    }
   ],
   "source": [
    "import gsw\n",
    "\n",
    "tdir = '/ocean/tjarniko/MEOPAR/analysis_tereza/notebooks/PI_CARBON_PAPER/MAIN_ANALYSIS/pkls/'\n",
    "PI9_dic_s = np.ravel(pickle.load(open(tdir+'PI9_DIC_summer_mean.pkl', 'rb')))\n",
    "PI9_dic_s[PI9_dic_s == 0] = np.nan\n",
    "PI9_dic_s[PI9_dic_s > 1e5] = np.nan\n",
    "\n",
    "PI9_ta_s = np.ravel(pickle.load(open(tdir+'PI9_TA_summer_mean.pkl', 'rb')))\n",
    "PI9_ta_s[PI9_ta_s> 1e5] = np.nan\n",
    "PI9_ta_s[PI9_dic_s == 0] = np.nan\n",
    "\n",
    "PI9_temp_s2 = np.ravel(pickle.load(open(tdir+'PI9_temp_summer_mean.pkl', 'rb')))\n",
    "PI9_temp_s2[PI9_temp_s2> 1e5] = np.nan\n",
    "PI9_temp_s2[PI9_dic_s == 0] = np.nan\n",
    "\n",
    "PI9_sal_s2 = np.ravel(pickle.load(open(tdir+'PI9_sal_summer_mean.pkl', 'rb')))\n",
    "PI9_sal_s2[PI9_sal_s2> 1e5] = np.nan\n",
    "PI9_sal_s2[PI9_dic_s == 0] = np.nan\n",
    "\n",
    "PI9_temp_s = gsw.pt_from_CT(PI9_sal_s2,PI9_temp_s2)\n",
    "PI9_sal_s= PI9_sal_s2*35/35.16504\n",
    "\n",
    "\n",
    "tdir = '/ocean/tjarniko/MEOPAR/analysis_tereza/notebooks/PI_CARBON_PAPER/MAIN_ANALYSIS/pkls/'\n",
    "PI9_dic_w = np.ravel(pickle.load(open(tdir+'PI9_DIC_winter_mean.pkl', 'rb')))\n",
    "PI9_dic_w[PI9_dic_w == 0] = np.nan\n",
    "PI9_dic_w[PI9_dic_w > 1e5] = np.nan\n",
    "\n",
    "PI9_ta_w = np.ravel(pickle.load(open(tdir+'PI9_TA_winter_mean.pkl', 'rb')))\n",
    "PI9_ta_w[PI9_ta_w> 1e5] = np.nan\n",
    "PI9_ta_w[PI9_dic_w == 0] = np.nan\n",
    "\n",
    "PI9_temp_w2 = np.ravel(pickle.load(open(tdir+'PI9_temp_winter_mean.pkl', 'rb')))\n",
    "PI9_temp_w2[PI9_temp_w2> 1e5] = np.nan\n",
    "PI9_temp_w2[PI9_dic_w == 0] = np.nan\n",
    "\n",
    "PI9_sal_w2 = np.ravel(pickle.load(open(tdir+'PI9_sal_winter_mean.pkl', 'rb')))\n",
    "PI9_sal_w2[PI9_sal_w2> 1e5] = np.nan\n",
    "PI9_sal_w2[PI9_dic_w == 0] = np.nan\n",
    "\n",
    "PI9_temp_w = gsw.pt_from_CT(PI9_sal_w2,PI9_temp_w2)\n",
    "PI9_sal_w= PI9_sal_w2*35/35.16504\n",
    "\n",
    "print('ready to calculate Egleston')\n",
    "w = nc.Dataset('/data/tjarniko/MEOPAR/grid/mesh_mask201702.nc')\n",
    "dep = np.ravel((w['gdept_0'][0,:,:,:]))\n",
    "\n",
    "\n",
    "# #clculate rev fact\n",
    "# PI9_sss_omega_dic, PI9_sss_beta_dic, PI9_sss_gamma_dic, PI9_sss_OmegaA_A, PI9_sss_BetaD = \\\n",
    "# calculate_Egleston_factors_tPOT\\\n",
    "# (PI9_temp_s, PI9_sal_s, PI9_ta_s*1e-3, PI9_dic_s*1e-3, dep, 0.01)\n",
    "\n",
    "# PI9_ssw_omega_dic, PI9_ssw_beta_dic, PI9_ssw_gamma_dic, PI9_ssw_OmegaA_A, PI9_ssw_BetaD = \\\n",
    "# calculate_Egleston_factors_tPOT\\\n",
    "# (PI9_temp_w, PI9_sal_w, PI9_ta_w*1e-3, PI9_dic_w*1e-3, dep, 0.01)\n",
    "\n",
    "# PI9_sss_omega_dic = PI9_sss_omega_dic.reshape(40,898,398)\n",
    "# pickle.dump(PI9_sss_omega_dic, open(\"../pkls/PI9_omega_dic_summer_mean.pkl\", 'wb'))\n",
    "# PI9_ssw_omega_dic = PI9_ssw_omega_dic.reshape(40,898,398)\n",
    "# pickle.dump(PI9_ssw_omega_dic, open(\"../pkls/PI9_omega_dic_winter_mean.pkl\", 'wb'))\n",
    "\n",
    "# PI9_sss_gamma_dic = PI9_sss_gamma_dic.reshape(40,898,398)\n",
    "# pickle.dump(PI9_sss_gamma_dic, open(\"../pkls/PI9_gamma_DIC_summer_mean.pkl\", 'wb'))\n",
    "# PI9_ssw_gamma_dic = PI9_ssw_gamma_dic.reshape(40,898,398)\n",
    "# pickle.dump(PI9_ssw_gamma_dic, open(\"../pkls/PI9_gamma_DIC_winter_mean.pkl\", 'wb'))\n",
    "\n",
    "# PI9_sss_BetaD = PI9_sss_BetaD.reshape(40,898,398)\n",
    "# pickle.dump(PI9_sss_BetaD, open(\"../pkls/PI9_BetaD_summer_mean.pkl\", 'wb'))\n",
    "# PI9_ssw_BetaD = PI9_ssw_BetaD.reshape(40,898,398)\n",
    "# pickle.dump(PI9_ssw_BetaD, open(\"../pkls/PI9_BetaD_winter_mean.pkl\", 'wb'))\n",
    "\n",
    "\n",
    "print('done and pickled')"
   ]
  },
  {
   "cell_type": "code",
   "execution_count": 117,
   "metadata": {},
   "outputs": [],
   "source": [
    "# \"np.nanmin(BR3_sss_BetaD-BR3_ssw_BetaD)\""
   ]
  },
  {
   "cell_type": "code",
   "execution_count": null,
   "metadata": {},
   "outputs": [],
   "source": []
  },
  {
   "cell_type": "code",
   "execution_count": null,
   "metadata": {},
   "outputs": [],
   "source": []
  },
  {
   "cell_type": "markdown",
   "metadata": {},
   "source": [
    "## surface"
   ]
  },
  {
   "cell_type": "code",
   "execution_count": 121,
   "metadata": {},
   "outputs": [],
   "source": [
    "# tdir = '/data/tjarniko/MEOPAR/analysis_tereza/notebooks/PI_CARBON_PAPER/MAIN_ANALYSIS/pkls/'\n",
    "\n",
    "# gamma_DIC_summer_mean = (pickle.load(open(\"../pkls/gamma_DIC_summer_mean.pkl\", 'rb')))  \n",
    "# gamma_DIC_winter_mean = (pickle.load(open(\"../pkls/gamma_DIC_winter_mean.pkl\", 'rb')))  \n",
    "\n",
    "# dic_w = (pickle.load(open(tdir+'BR3_DIC_winter_mean.pkl', 'rb')))\n",
    "# dic_w[dic_w > 1e5] = np.nan\n",
    "# dic_w[dic_w == 0] = np.nan\n",
    "\n",
    "# dic_s = (pickle.load(open(tdir+'BR3_DIC_summer_mean.pkl', 'rb')))\n",
    "# dic_s[dic_s > 1e5] = np.nan\n",
    "# dic_s[dic_s == 0] = np.nan\n",
    "# print(np.nanmin(dic_s))\n",
    "\n",
    "# gamma_DIC_winter_mean[dic_w > 1e5] = np.nan\n",
    "# gamma_DIC_winter_mean[dic_w == 0] = np.nan\n",
    "\n",
    "# gamma_DIC_summer_mean[dic_s > 1e5] = np.nan\n",
    "# gamma_DIC_summer_mean[dic_s == 0] = np.nan\n",
    "\n",
    "# print(np.nanmax(gamma_DIC_summer_mean))\n",
    "\n",
    "# Revelle_w = dic_w/(gamma_DIC_winter_mean*1000)\n",
    "\n",
    "# Revelle_s = dic_s/(gamma_DIC_summer_mean*1000)\n"
   ]
  },
  {
   "cell_type": "code",
   "execution_count": 122,
   "metadata": {},
   "outputs": [],
   "source": [
    "##load and mask\n",
    "tdir = '/ocean/tjarniko/MEOPAR/analysis_tereza/notebooks/PI_CARBON_PAPER/MAIN_ANALYSIS/pkls/'\n",
    "### DIC, gamma, sal\n",
    "BR3_dic_w = (pickle.load(open(tdir+'BR3_DIC_winter_mean.pkl', 'rb')))\n",
    "BR3_dic_s = (pickle.load(open(tdir+'BR3_DIC_summer_mean.pkl', 'rb')))\n",
    "\n",
    "BR3_dic_w_surf = BR3_dic_w[0,:,:]\n",
    "BR3_dic_s_surf = BR3_dic_s[0,:,:]\n",
    "####\n",
    "BR3_gamma_DIC_summer_mean = (pickle.load(open(\"../pkls/BR3_gamma_DIC_summer_mean.pkl\", 'rb')))  \n",
    "BR3_gamma_DIC_winter_mean = (pickle.load(open(\"../pkls/BR3_gamma_DIC_winter_mean.pkl\", 'rb'))) \n",
    "\n",
    "BR3_BetaD_summer_mean = (pickle.load(open(\"../pkls/BR3_BetaD_summer_mean.pkl\", 'rb')))  \n",
    "BR3_BetaD_winter_mean = (pickle.load(open(\"../pkls/BR3_BetaD_winter_mean.pkl\", 'rb'))) \n",
    "BR3_BetaD_summer_mean_surf = BR3_BetaD_summer_mean[0,:,:]\n",
    "BR3_BetaD_winter_mean_surf = BR3_BetaD_winter_mean[0,:,:]\n",
    "\n",
    "BR3_gamma_DIC_summer_mean_surf = BR3_gamma_DIC_summer_mean[0,:,:]\n",
    "BR3_gamma_DIC_winter_mean_surf = BR3_gamma_DIC_winter_mean[0,:,:]\n",
    "\n",
    "BR3_sal_w = (pickle.load(open(tdir+'BR3_sal_winter_mean.pkl', 'rb')))\n",
    "BR3_sal_s = (pickle.load(open(tdir+'BR3_sal_summer_mean.pkl', 'rb')))\n",
    "\n",
    "BR3_sal_w_surf = BR3_sal_w[0,:,:]\n",
    "BR3_sal_s_surf = BR3_sal_s[0,:,:]\n",
    "\n",
    "BR3_Revelle_w_surf = BR3_dic_w_surf/(BR3_gamma_DIC_winter_mean_surf*1000)\n",
    "BR3_Revelle_s_surf = BR3_dic_s_surf/(BR3_gamma_DIC_summer_mean_surf*1000)\n",
    "\n",
    "# BR3_Revelle_w_surf[BR3_sal_w_surf<5] = 0\n",
    "# BR3_Revelle_s_surf[BR3_sal_s_surf<5] = 0"
   ]
  },
  {
   "cell_type": "code",
   "execution_count": 123,
   "metadata": {},
   "outputs": [
    {
     "name": "stdout",
     "output_type": "stream",
     "text": [
      "-11.727340334763142\n"
     ]
    }
   ],
   "source": [
    "print(np.nanmin(BR3_BetaD_summer_mean-BR3_BetaD_winter_mean))"
   ]
  },
  {
   "cell_type": "code",
   "execution_count": 124,
   "metadata": {},
   "outputs": [],
   "source": [
    "diffvibe = BR3_BetaD_summer_mean[0,:,:]-BR3_Revelle_s_surf"
   ]
  },
  {
   "cell_type": "code",
   "execution_count": 125,
   "metadata": {},
   "outputs": [],
   "source": [
    "##load and mask\n",
    "tdir = '/ocean/tjarniko/MEOPAR/analysis_tereza/notebooks/PI_CARBON_PAPER/MAIN_ANALYSIS/pkls/'\n",
    "### DIC, gamma, sal\n",
    "PI9_dic_w = (pickle.load(open(tdir+'PI9_DIC_winter_mean.pkl', 'rb')))\n",
    "PI9_dic_s = (pickle.load(open(tdir+'PI9_DIC_summer_mean.pkl', 'rb')))\n",
    "\n",
    "PI9_dic_w_surf = PI9_dic_w[0,:,:]\n",
    "PI9_dic_s_surf = PI9_dic_s[0,:,:]\n",
    "####\n",
    "PI9_gamma_DIC_summer_mean = (pickle.load(open(\"../pkls/PI9_gamma_DIC_summer_mean.pkl\", 'rb')))  \n",
    "PI9_gamma_DIC_winter_mean = (pickle.load(open(\"../pkls/PI9_gamma_DIC_winter_mean.pkl\", 'rb'))) \n",
    "PI9_BetaD_summer_mean = (pickle.load(open(\"../pkls/PI9_BetaD_summer_mean.pkl\", 'rb')))  \n",
    "PI9_BetaD_winter_mean = (pickle.load(open(\"../pkls/PI9_BetaD_winter_mean.pkl\", 'rb'))) \n",
    "\n",
    "PI9_BetaD_summer_mean_surf = PI9_BetaD_summer_mean[0,:,:]\n",
    "PI9_BetaD_winter_mean_surf = PI9_BetaD_winter_mean[0,:,:]\n",
    "\n",
    "PI9_gamma_DIC_summer_mean_surf = PI9_gamma_DIC_summer_mean[0,:,:]\n",
    "PI9_gamma_DIC_winter_mean_surf = PI9_gamma_DIC_winter_mean[0,:,:]\n",
    "\n",
    "PI9_sal_w = (pickle.load(open(tdir+'PI9_sal_winter_mean.pkl', 'rb')))\n",
    "PI9_sal_s = (pickle.load(open(tdir+'PI9_sal_summer_mean.pkl', 'rb')))\n",
    "\n",
    "PI9_sal_w_surf = PI9_sal_w[0,:,:]\n",
    "PI9_sal_s_surf = PI9_sal_s[0,:,:]\n",
    "\n",
    "PI9_Revelle_w_surf = PI9_dic_w_surf/(PI9_gamma_DIC_winter_mean_surf*1000)\n",
    "PI9_Revelle_s_surf = PI9_dic_s_surf/(PI9_gamma_DIC_summer_mean_surf*1000)\n",
    "\n",
    "# PI9_Revelle_w_surf[PI9_sal_w_surf<5] = 0\n",
    "# PI9_Revelle_s_surf[PI9_sal_s_surf<5] = 0"
   ]
  },
  {
   "cell_type": "code",
   "execution_count": 126,
   "metadata": {},
   "outputs": [],
   "source": [
    "PI9_BetaD_summer_mean_surf[PI9_BetaD_summer_mean_surf>1e10] = np.nan\n",
    "PI9_BetaD_winter_mean_surf[PI9_BetaD_winter_mean_surf>1e10] = np.nan\n",
    "\n",
    "BR3_BetaD_summer_mean_surf[BR3_BetaD_summer_mean_surf>1e10] = np.nan\n",
    "BR3_BetaD_winter_mean_surf[BR3_BetaD_winter_mean_surf>1e10] = np.nan"
   ]
  },
  {
   "cell_type": "code",
   "execution_count": 127,
   "metadata": {},
   "outputs": [
    {
     "name": "stdout",
     "output_type": "stream",
     "text": [
      "8.761886742715127\n"
     ]
    }
   ],
   "source": [
    "print(np.nanmin(PI9_BetaD_summer_mean_surf))"
   ]
  },
  {
   "cell_type": "markdown",
   "metadata": {},
   "source": [
    "## calculate revelle factor as R = DIC/gammaDIC"
   ]
  },
  {
   "cell_type": "code",
   "execution_count": 128,
   "metadata": {},
   "outputs": [
    {
     "name": "stdout",
     "output_type": "stream",
     "text": [
      "(40, 898, 398)\n",
      "222394.0735048354\n"
     ]
    }
   ],
   "source": [
    "csize = pickle.load(open('../pkls/cellsize_alg2.pkl', 'rb'))\n",
    "csize[BR3_dic_s > 1e10 ] = 0\n",
    "csize2 = np.concatenate((csize,csize), axis = 0 )\n",
    "csize2[np.isnan(csize2)] = 0\n",
    "\n",
    "print(np.shape(csize))\n",
    "\n",
    "csize_surf = csize[0,:,:]\n",
    "print(csize_surf[250,250])"
   ]
  },
  {
   "cell_type": "code",
   "execution_count": 138,
   "metadata": {},
   "outputs": [
    {
     "name": "stdout",
     "output_type": "stream",
     "text": [
      "0.05944060758576491\n",
      "0.013127961731200193\n"
     ]
    }
   ],
   "source": [
    "# \n",
    "# \n",
    "\n",
    "tdir = '/ocean/tjarniko/MEOPAR/analysis_tereza/notebooks/PI_CARBON_PAPER/MAIN_ANALYSIS/pkls/'\n",
    "PI9_dic_s = (pickle.load(open(tdir+'PI9_DIC_summer_mean.pkl', 'rb')))\n",
    "PI9_dic_s[PI9_dic_s == 0] = np.nan\n",
    "PI9_dic_s[PI9_dic_s > 1e5] = np.nan\n",
    "PI9_ta_s = (pickle.load(open(tdir+'PI9_TA_summer_mean.pkl', 'rb')))\n",
    "PI9_ta_s[PI9_ta_s == 0] = np.nan\n",
    "PI9_ta_s[PI9_ta_s > 1e5] = np.nan\n",
    "\n",
    "PI9_ta_dic_s = PI9_ta_s-PI9_dic_s\n",
    "PI9_csize_less50 = np.copy(csize) \n",
    "PI9_csize_less50[PI9_ta_dic_s>=50] = 0\n",
    "print(np.nansum(PI9_csize_less50)/np.nansum(csize))\n",
    "\n",
    "tdir = '/ocean/tjarniko/MEOPAR/analysis_tereza/notebooks/PI_CARBON_PAPER/MAIN_ANALYSIS/pkls/'\n",
    "PI9_dic_w = (pickle.load(open(tdir+'PI9_DIC_winter_mean.pkl', 'rb')))\n",
    "PI9_dic_w[PI9_dic_w == 0] = np.nan\n",
    "PI9_dic_w[PI9_dic_w > 1e5] = np.nan\n",
    "PI9_ta_w = (pickle.load(open(tdir+'PI9_TA_winter_mean.pkl', 'rb')))\n",
    "PI9_ta_w[PI9_ta_w == 0] = np.nan\n",
    "PI9_ta_w[PI9_ta_w > 1e5] = np.nan\n",
    "\n",
    "PI9_ta_dic_w = PI9_ta_w-PI9_dic_w\n",
    "PI9_csize_less50 = np.copy(csize) \n",
    "PI9_csize_less50[PI9_ta_dic_w>=50] = 0\n",
    "print(np.nansum(PI9_csize_less50)/np.nansum(csize))"
   ]
  },
  {
   "cell_type": "code",
   "execution_count": 139,
   "metadata": {},
   "outputs": [
    {
     "name": "stdout",
     "output_type": "stream",
     "text": [
      "0.4515570754049126\n",
      "0.3830945692101064\n"
     ]
    }
   ],
   "source": [
    "# \n",
    "# \n",
    "\n",
    "tdir = '/ocean/tjarniko/MEOPAR/analysis_tereza/notebooks/PI_CARBON_PAPER/MAIN_ANALYSIS/pkls/'\n",
    "BR3_dic_s = (pickle.load(open(tdir+'BR3_DIC_summer_mean.pkl', 'rb')))\n",
    "BR3_dic_s[BR3_dic_s == 0] = np.nan\n",
    "BR3_dic_s[BR3_dic_s > 1e5] = np.nan\n",
    "BR3_ta_s = (pickle.load(open(tdir+'BR3_TA_summer_mean.pkl', 'rb')))\n",
    "BR3_ta_s[BR3_ta_s == 0] = np.nan\n",
    "BR3_ta_s[BR3_ta_s > 1e5] = np.nan\n",
    "\n",
    "BR3_ta_dic_s = BR3_ta_s-BR3_dic_s\n",
    "BR3_csize_less50 = np.copy(csize) \n",
    "BR3_csize_less50[BR3_ta_dic_s>=50] = 0\n",
    "print(np.nansum(BR3_csize_less50)/np.nansum(csize))\n",
    "\n",
    "tdir = '/ocean/tjarniko/MEOPAR/analysis_tereza/notebooks/PI_CARBON_PAPER/MAIN_ANALYSIS/pkls/'\n",
    "BR3_dic_w = (pickle.load(open(tdir+'BR3_DIC_winter_mean.pkl', 'rb')))\n",
    "BR3_dic_w[BR3_dic_w == 0] = np.nan\n",
    "BR3_dic_w[BR3_dic_w > 1e5] = np.nan\n",
    "BR3_ta_w = (pickle.load(open(tdir+'BR3_TA_winter_mean.pkl', 'rb')))\n",
    "BR3_ta_w[BR3_ta_w == 0] = np.nan\n",
    "BR3_ta_w[BR3_ta_w > 1e5] = np.nan\n",
    "\n",
    "BR3_ta_dic_w = BR3_ta_w-BR3_dic_w\n",
    "BR3_csize_less50 = np.copy(csize) \n",
    "BR3_csize_less50[BR3_ta_dic_w>=50] = 0\n",
    "print(np.nansum(BR3_csize_less50)/np.nansum(csize))"
   ]
  },
  {
   "cell_type": "code",
   "execution_count": 110,
   "metadata": {},
   "outputs": [
    {
     "name": "stdout",
     "output_type": "stream",
     "text": [
      "[ 5.25  5.75  6.25  6.75  7.25  7.75  8.25  8.75  9.25  9.75 10.25 10.75\n",
      " 11.25 11.75 12.25 12.75 13.25 13.75 14.25 14.75 15.25 15.75 16.25 16.75\n",
      " 17.25 17.75 18.25 18.75 19.25 19.75 20.25 20.75 21.25 21.75 22.25 22.75\n",
      " 23.25 23.75 24.25 24.75 25.25]\n"
     ]
    },
    {
     "data": {
      "image/png": "[encoded data removed]",
      "text/plain": [
       "<Figure size 691.2x432 with 1 Axes>"
      ]
     },
     "metadata": {
      "needs_background": "light"
     },
     "output_type": "display_data"
    }
   ],
   "source": [
    "#concatenate winter summer\n",
    "nbins = 40\n",
    "#year_TA_DIC = np.concatenate((summer_TA_DIC_BR3,winter_TA_DIC_BR3),axis=0)\n",
    "fact = 0.8\n",
    "tdat = PI9_Revelle_w_surf\n",
    "\n",
    "# print(hist)\n",
    "\n",
    "\n",
    "fig = plt.figure(figsize=(12*fact, 7.5*fact))\n",
    "\n",
    "ax6 = plt.subplot(1,1,1)\n",
    "mask = (PI9_BetaD_winter_mean_surf>0) & ~np.isnan(PI9_BetaD_winter_mean_surf) & (csize_surf>0)\n",
    "PI9_w, bins = np.histogram(PI9_BetaD_winter_mean_surf[mask], \\\n",
    "                                       bins=nbins, range = [5, 25], \\\n",
    "                                       weights=csize_surf[mask])\n",
    "mask = (BR3_BetaD_winter_mean_surf>0) & ~np.isnan(BR3_BetaD_winter_mean_surf) & (csize_surf>0)\n",
    "BR3_w, bins = np.histogram(BR3_BetaD_winter_mean_surf[mask], \\\n",
    "                                       bins=nbins, range = [5, 25], \\\n",
    "                                       weights=csize_surf[mask])\n",
    "\n",
    "mask = (PI9_BetaD_summer_mean_surf>0) & ~np.isnan(PI9_BetaD_summer_mean_surf) & (csize_surf>0)\n",
    "PI9_s, bins = np.histogram(PI9_BetaD_summer_mean_surf[mask], \\\n",
    "                                       bins=nbins, range = [5, 25], \\\n",
    "                                       weights=csize_surf[mask])\n",
    "\n",
    "mask = (BR3_BetaD_summer_mean_surf>0) & ~np.isnan(BR3_BetaD_summer_mean_surf) & (csize_surf>0)\n",
    "BR3_s, bins = np.histogram(BR3_BetaD_summer_mean_surf[mask], \\\n",
    "                                       bins=nbins, range = [5, 25], \\\n",
    "                                       weights=csize_surf[mask])\n",
    "\n",
    "bin_cent = bins + (bins[1]-bins[0])/2\n",
    "print(bin_cent)\n",
    "tot_count = np.nansum(PI9_w)\n",
    "ax6.plot(bin_cent[0:nbins],PI9_w/tot_count, color = 'slategray', linestyle = ':',\\\n",
    "         lw = 3.4,label = 'pre-industrial - winter mean')\n",
    "tot_count = np.nansum(BR3_w)\n",
    "ax6.plot(bin_cent[0:nbins],BR3_w/tot_count, color = 'slategray', linestyle = '-',\\\n",
    "         lw = 3.4,label = 'present day - winter mean')\n",
    "\n",
    "# ##\n",
    "tot_count = np.nansum(PI9_s)\n",
    "ax6.plot(bin_cent[0:nbins],PI9_s/tot_count, color = 'chartreuse', linestyle = ':',\\\n",
    "         lw = 3.4,label = 'pre-industrial - summer mean')\n",
    "tot_count = np.nansum(BR3_s)\n",
    "ax6.plot(bin_cent[0:nbins],BR3_s/tot_count, color = 'chartreuse', linestyle = '-',\\\n",
    "         lw = 3.4,label = 'present day - summer mean')\n",
    "\n",
    "ax6.legend(loc = 'best')\n",
    "#ax6.set_xlim([-100,400])\n",
    "ax6.set_title('Revelle factor distribution')\n",
    "#ax6.axvline(x = 1, color = 'red', lw = 2)\n",
    "ax6.set_xlabel('Revelle factor')\n",
    "ax6.set_ylabel('proportion of domain')\n",
    "ax6.grid()\n",
    "\n",
    "\n"
   ]
  },
  {
   "cell_type": "code",
   "execution_count": 103,
   "metadata": {},
   "outputs": [
    {
     "data": {
      "text/plain": [
       "array([0.00000000e+00, 0.00000000e+00, 0.00000000e+00, 0.00000000e+00,\n",
       "       0.00000000e+00, 0.00000000e+00, 0.00000000e+00, 0.00000000e+00,\n",
       "       0.00000000e+00, 0.00000000e+00, 4.54240085e+07, 1.79384088e+07,\n",
       "       6.79382094e+06, 5.16200811e+06, 4.13516644e+06, 3.97017443e+07,\n",
       "       2.22151428e+08, 6.19916435e+08, 1.36724232e+09, 2.44794836e+09,\n",
       "       6.23793799e+09, 4.18450895e+09, 7.22018290e+08, 4.52052793e+08,\n",
       "       2.62966635e+08, 2.49009706e+08, 2.10372458e+08, 1.72476873e+08,\n",
       "       1.17210502e+08, 8.69139280e+07])"
      ]
     },
     "execution_count": 103,
     "metadata": {},
     "output_type": "execute_result"
    }
   ],
   "source": [
    "PI9_w"
   ]
  },
  {
   "cell_type": "code",
   "execution_count": 107,
   "metadata": {},
   "outputs": [
    {
     "name": "stdout",
     "output_type": "stream",
     "text": [
      "15.465589702242783\n",
      "10.952919476994795\n",
      "17.283817694928224\n",
      "12.075164913156271\n"
     ]
    }
   ],
   "source": [
    "print(np.average(PI9_BetaD_winter_mean_surf[mask], weights=csize_surf[mask]))\n",
    "print(np.average(PI9_BetaD_summer_mean_surf[mask], weights=csize_surf[mask]))\n",
    "\n",
    "print(np.average(BR3_BetaD_winter_mean_surf[mask], weights=csize_surf[mask]))\n",
    "print(np.average(BR3_BetaD_summer_mean_surf[mask], weights=csize_surf[mask]))\n",
    "\n"
   ]
  },
  {
   "cell_type": "code",
   "execution_count": null,
   "metadata": {},
   "outputs": [],
   "source": [
    "889/(898*398*0.3)"
   ]
  },
  {
   "cell_type": "code",
   "execution_count": null,
   "metadata": {},
   "outputs": [],
   "source": [
    "# print(np.size(PI8_Revelle_w_surf[mask]))\n",
    "# print(np.max(PI8_Revelle_w_surf[mask]))\n",
    "# print(tot_count)\n",
    "# print(hist_year_omega_A)"
   ]
  },
  {
   "cell_type": "code",
   "execution_count": 69,
   "metadata": {},
   "outputs": [
    {
     "name": "stdout",
     "output_type": "stream",
     "text": [
      "0.44359305728989185\n"
     ]
    },
    {
     "data": {
      "image/png": "[encoded data removed]",
      "text/plain": [
       "<Figure size 576x604.8 with 4 Axes>"
      ]
     },
     "metadata": {
      "needs_background": "light"
     },
     "output_type": "display_data"
    }
   ],
   "source": [
    "\n",
    "fact = 0.8\n",
    "fig = plt.figure(figsize=(10*fact, 10.5*fact)) \n",
    "fs = 8\n",
    "ax3 = plt.subplot2grid((1,2), (0,0), colspan=1,rowspan = 2)\n",
    "tplt = diffvibe\n",
    "print(tplt[860,270])\n",
    "viz_tools.set_aspect(ax3)\n",
    "mesh = ax3.pcolormesh(tplt, cmap=cm.balance, vmin = -1, vmax = 1)#, cmap=cm.balance, vmin=-120, vmax=120)\n",
    "viz_tools.plot_land_mask(ax3, '/data/tjarniko/MEOPAR/NEMO-forcing/grid/bathymetry_201702.nc', color = 'burlywood')\n",
    "ax3.set_title('BR3 winter surface revelle factor', fontsize = fs)\n",
    "# plt.xticks([])\n",
    "# plt.yticks([])\n",
    "cbar = plt.colorbar(mesh)\n",
    "\n",
    "\n",
    "ax5 = plt.subplot2grid((1,2), (0,1), colspan=1,rowspan = 2)\n",
    "tplt = BR3_Revelle_s_surf\n",
    "viz_tools.set_aspect(ax5)\n",
    "mesh = ax5.pcolormesh(tplt, cmap=cm.deep, vmin = 10, vmax = 25)\n",
    "viz_tools.plot_land_mask(ax5, '/data/tjarniko/MEOPAR/NEMO-forcing/grid/bathymetry_201702.nc', color = 'burlywood')\n",
    "#ax5.set_title('Annual Air-Sea Flux \\n (preindustrial run)', fontsize = fs)\n",
    "ax5.set_title('BR3 summer surface revelle factor \\n (if salinity<20 , R == nan)', fontsize = fs)\n",
    "plt.xticks([])\n",
    "plt.yticks([])\n",
    "cbar = plt.colorbar(mesh)\n",
    "#cbar.ax.tick_params(labelsize=fs, rotation = 90)\n",
    "#cbar.set_label('g C $m^{-2}$$yr^{-1}$', fontsize = fs)\n",
    "#ax5.text(0.03, 0.03, 'b)', transform=ax5.transAxes, fontsize=16, fontweight='bold', va='bottom')\n",
    "\n",
    "\n",
    "plt.tight_layout()\n",
    "# plt.savefig('Fig3_ab.jpg', dpi = 600)"
   ]
  },
  {
   "cell_type": "markdown",
   "metadata": {},
   "source": [
    "## summer and winter mean temps BR3 (commented out)"
   ]
  },
  {
   "cell_type": "code",
   "execution_count": null,
   "metadata": {},
   "outputs": [],
   "source": [
    "import glob\n",
    "# summer and winter mean \n",
    "\n",
    "#winter1 - december\n",
    "\n",
    "start ='2015-12-01'\n",
    "end ='2015-12-31'\n",
    "\n",
    "start_run = arrow.get(start)\n",
    "end_run = arrow.get(end)\n",
    "\n",
    "arrow_array1 = []\n",
    "\n",
    "for r in arrow.Arrow.span_range('day', start_run, end_run):\n",
    "    arrow_array1.append(r)\n",
    "dayslen = len(arrow_array1)\n",
    "\n",
    "BR_winter1 = np.zeros([dayslen,40,898,398])\n",
    "\n",
    "for i in range(0,dayslen):\n",
    "\n",
    "    tdate = arrow_array1[i][0]\n",
    "    ymd = tdate.format('YYYYMMDD')\n",
    "\n",
    "    if i%20 == 0:\n",
    "        print(ymd)\n",
    "    tstr = glob.glob('//data/tjarniko/results/BASERUN_EXP/PI8/ncs/SKOG*carp*'+ymd+'*.nc')\n",
    "    tnc = tstr[0]\n",
    "    tn = nc.Dataset(tnc)\n",
    "    t_dic = tn['dissolved_inorganic_carbon'][0,:,:,:]\n",
    "    BR_winter1[i,:,:,:] = t_dic\n",
    "\n",
    "#winter 2 is january-february\n",
    "start ='2015-01-01'\n",
    "end ='2015-02-28'\n",
    "\n",
    "start_run = arrow.get(start)\n",
    "end_run = arrow.get(end)\n",
    "arrow_array2 = []\n",
    "\n",
    "for r in arrow.Arrow.span_range('day', start_run, end_run):\n",
    "    arrow_array2.append(r)\n",
    "dayslen = len(arrow_array2)\n",
    "\n",
    "BR_winter2 = np.zeros([dayslen,40,898,398])\n",
    "\n",
    "for i in range(0,dayslen):\n",
    "\n",
    "    tdate = arrow_array2[i][0]\n",
    "    ymd = tdate.format('YYYYMMDD')\n",
    "\n",
    "    if i%20 == 0:\n",
    "        print(ymd)\n",
    "    tstr = glob.glob('//data/tjarniko/results/BASERUN_EXP/PI8/ncs/SKOG*carp*'+ymd+'*.nc')\n",
    "    tnc = tstr[0]\n",
    "    tn = nc.Dataset(tnc)\n",
    "    t_dic = tn['dissolved_inorganic_carbon'][0,:,:,:]\n",
    "    BR_winter2[i,:,:,:] = t_dic\n",
    "\n",
    "\n",
    "BR_winter = np.concatenate((BR_winter1,BR_winter2),axis=0)\n",
    "print(np.shape(BR_winter))\n",
    "BR_winter_mean = np.nanmean(BR_winter,axis=0)\n",
    "pickle.dump(BR_winter_mean, open(\"./pkls/PI8_DIC_winter_mean.pkl\", 'wb'))\n",
    "\n",
    "start ='2015-06-01'\n",
    "end ='2015-08-31'\n",
    "\n",
    "start_run = arrow.get(start)\n",
    "end_run = arrow.get(end)\n",
    "\n",
    "arrow_array1 = []\n",
    "\n",
    "for r in arrow.Arrow.span_range('day', start_run, end_run):\n",
    "    arrow_array1.append(r)\n",
    "dayslen = len(arrow_array1)\n",
    "\n",
    "BR_oma_summer1 = np.zeros([dayslen,40,898,398])\n",
    "\n",
    "for i in range(0,dayslen):\n",
    "\n",
    "    tdate = arrow_array1[i][0]\n",
    "    ymd = tdate.format('YYYYMMDD')\n",
    "\n",
    "    if i%10 == 0:\n",
    "        print(ymd)\n",
    "    tstr = glob.glob('//data/tjarniko/results/BASERUN_EXP/MAIN/BR_3rd_2015/ncs/SKOG*carp*'+ymd+'*.nc')\n",
    "    tnc = tstr[0]\n",
    "    tn = nc.Dataset(tnc)\n",
    "    t_dic = tn['dissolved_inorganic_carbon'][0,:,:,:]\n",
    "    BR_oma_summer1[i,:,:,:] = t_dic\n",
    "\n",
    "\n",
    "print(np.shape(BR_oma_summer1))\n",
    "BR_oma_summer_mean = np.nanmean(BR_oma_summer1,axis=0)\n",
    "pickle.dump(BR_oma_summer_mean, open(\"./pkls/PI8_DIC_summer_mean.pkl\", 'wb'))"
   ]
  },
  {
   "cell_type": "code",
   "execution_count": null,
   "metadata": {},
   "outputs": [],
   "source": [
    "import glob\n",
    "# summer and winter mean \n",
    "\n",
    "#winter1 - december\n",
    "\n",
    "start ='2015-12-01'\n",
    "end ='2015-12-31'\n",
    "\n",
    "start_run = arrow.get(start)\n",
    "end_run = arrow.get(end)\n",
    "\n",
    "arrow_array1 = []\n",
    "\n",
    "for r in arrow.Arrow.span_range('day', start_run, end_run):\n",
    "    arrow_array1.append(r)\n",
    "dayslen = len(arrow_array1)\n",
    "\n",
    "BR_winter1 = np.zeros([dayslen,40,898,398])\n",
    "\n",
    "for i in range(0,dayslen):\n",
    "\n",
    "    tdate = arrow_array1[i][0]\n",
    "    ymd = tdate.format('YYYYMMDD')\n",
    "\n",
    "    if i%20 == 0:\n",
    "        print(ymd)\n",
    "    tstr = glob.glob('//data/tjarniko/results/BASERUN_EXP/PI8/ncs/SKOG*carp*'+ymd+'*.nc')\n",
    "    tnc = tstr[0]\n",
    "    tn = nc.Dataset(tnc)\n",
    "    t_TA = tn['dissolved_inorganic_carbon'][0,:,:,:]\n",
    "    BR_winter1[i,:,:,:] = t_TA\n",
    "\n",
    "#winter 2 is january-february\n",
    "start ='2015-01-01'\n",
    "end ='2015-02-28'\n",
    "\n",
    "start_run = arrow.get(start)\n",
    "end_run = arrow.get(end)\n",
    "arrow_array2 = []\n",
    "\n",
    "for r in arrow.Arrow.span_range('day', start_run, end_run):\n",
    "    arrow_array2.append(r)\n",
    "dayslen = len(arrow_array2)\n",
    "\n",
    "BR_winter2 = np.zeros([dayslen,40,898,398])\n",
    "\n",
    "for i in range(0,dayslen):\n",
    "\n",
    "    tdate = arrow_array2[i][0]\n",
    "    ymd = tdate.format('YYYYMMDD')\n",
    "\n",
    "    if i%20 == 0:\n",
    "        print(ymd)\n",
    "    tstr = glob.glob('//data/tjarniko/results/BASERUN_EXP/PI8/ncs/SKOG*carp*'+ymd+'*.nc')\n",
    "    tnc = tstr[0]\n",
    "    tn = nc.Dataset(tnc)\n",
    "    t_TA = tn['total_alkalinity'][0,:,:,:]\n",
    "    BR_winter2[i,:,:,:] = t_TA\n",
    "\n",
    "\n",
    "BR_winter = np.concatenate((BR_winter1,BR_winter2),axis=0)\n",
    "print(np.shape(BR_winter))\n",
    "BR_winter_mean = np.nanmean(BR_winter,axis=0)\n",
    "pickle.dump(BR_winter_mean, open(\"./pkls/PI8_TA_winter_mean.pkl\", 'wb'))\n",
    "\n",
    "start ='2015-06-01'\n",
    "end ='2015-08-31'\n",
    "\n",
    "start_run = arrow.get(start)\n",
    "end_run = arrow.get(end)\n",
    "\n",
    "arrow_array1 = []\n",
    "\n",
    "for r in arrow.Arrow.span_range('day', start_run, end_run):\n",
    "    arrow_array1.append(r)\n",
    "dayslen = len(arrow_array1)\n",
    "\n",
    "BR_oma_summer1 = np.zeros([dayslen,40,898,398])\n",
    "\n",
    "for i in range(0,dayslen):\n",
    "\n",
    "    tdate = arrow_array1[i][0]\n",
    "    ymd = tdate.format('YYYYMMDD')\n",
    "\n",
    "    if i%10 == 0:\n",
    "        print(ymd)\n",
    "    tstr = glob.glob('//data/tjarniko/results/BASERUN_EXP/PI8/ncs/SKOG*carp*'+ymd+'*.nc')\n",
    "    tnc = tstr[0]\n",
    "    tn = nc.Dataset(tnc)\n",
    "    t_TA = tn['total_alkalinity'][0,:,:,:]\n",
    "    BR_oma_summer1[i,:,:,:] = t_TA\n",
    "\n",
    "\n",
    "print(np.shape(BR_oma_summer1))\n",
    "BR_oma_summer_mean = np.nanmean(BR_oma_summer1,axis=0)\n",
    "pickle.dump(BR_oma_summer_mean, open(\"./pkls/PI8_TA_summer_mean.pkl\", 'wb'))"
   ]
  },
  {
   "cell_type": "code",
   "execution_count": null,
   "metadata": {},
   "outputs": [],
   "source": [
    "# #concatenate winter summer\n",
    "# nbins = 50\n",
    "# # year_TA_DIC = np.concatenate((summer_TA_DIC_BR3,winter_TA_DIC_BR3),axis=0)\n",
    "\n",
    "# # print(hist)\n",
    "# bin_cent = bins + (bins[1]-bins[0])/2\n",
    "\n",
    "# fig = plt.figure(figsize=(12*fact, 9.5*fact))\n",
    "\n",
    "# ax6 = plt.subplot(3,1,1)\n",
    "# hist_year_omega_A, bins = np.histogram(year_omega_A[year_omega_A>0], \\\n",
    "#                                        bins=nbins, range = [0, 3], \\\n",
    "#                                        weights=csize2[year_omega_A>0])\n",
    "# tot_count = np.sum(hist_year_omega_A)\n",
    "# ax6.plot(bin_cent[0:nbins],hist_year_omega_A/tot_count, color = 'slategray',\\\n",
    "#          lw = 3.4,label = 'BR - winter mean')\n",
    "\n",
    "# ax6.legend(loc = 'best')\n",
    "# #ax6.set_xlim([-100,400])\n",
    "# ax6.set_title('$TA-DIC$ distribution')\n",
    "# ax6.axvline(x = 1, color = 'red', lw = 2)\n",
    "# ax6.set_xlabel('$TA-DIC$')\n",
    "# ax6.set_ylabel('proportion of domain')\n",
    "\n",
    "\n"
   ]
  }
 ],
 "metadata": {
  "kernelspec": {
   "display_name": "Python 3",
   "language": "python",
   "name": "python3"
  },
  "language_info": {
   "codemirror_mode": {
    "name": "ipython",
    "version": 3
   },
   "file_extension": ".py",
   "mimetype": "text/x-python",
   "name": "python",
   "nbconvert_exporter": "python",
   "pygments_lexer": "ipython3",
   "version": "3.7.4"
  }
 },
 "nbformat": 4,
 "nbformat_minor": 2
}
