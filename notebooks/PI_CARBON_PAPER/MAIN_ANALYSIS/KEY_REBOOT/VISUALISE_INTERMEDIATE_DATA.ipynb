{
 "cells": [
  {
   "cell_type": "code",
   "execution_count": 2,
   "metadata": {},
   "outputs": [],
   "source": [
    "import netCDF4 as nc\n",
    "import numpy as np"
   ]
  },
  {
   "cell_type": "code",
   "execution_count": 4,
   "metadata": {},
   "outputs": [],
   "source": [
    "w = nc.Dataset('/data/tjarniko/results/BASERUN_EXP/PI7/SKOG_1d_20150928_20151027_carp_T_20151027-20151027.nc')"
   ]
  },
  {
   "cell_type": "code",
   "execution_count": 5,
   "metadata": {},
   "outputs": [],
   "source": [
    "DIC = w['dissolved_inorganic_carbon'][:]"
   ]
  },
  {
   "cell_type": "code",
   "execution_count": 6,
   "metadata": {},
   "outputs": [
    {
     "name": "stdout",
     "output_type": "stream",
     "text": [
      "[2058.044189453125 2059.01318359375 2060.189208984375 2061.131591796875\n",
      " 2061.93359375 2062.64453125 2063.319580078125 2063.88916015625\n",
      " 2064.4130859375 2064.8779296875 2065.32763671875 2065.786865234375\n",
      " 2066.2607421875 2066.843994140625 2067.3662109375 2067.92822265625\n",
      " 2068.534423828125 2069.169677734375 2069.938232421875 2071.0205078125\n",
      " 2072.45068359375 2075.198486328125 2079.5458984375 2092.048095703125\n",
      " 2109.921142578125 2136.966796875 2155.712158203125 2158.677490234375 0.0\n",
      " 0.0 0.0 0.0 0.0 0.0 0.0 0.0 0.0 0.0 0.0 0.0]\n"
     ]
    }
   ],
   "source": [
    "print((DIC[0,:,250,250]))"
   ]
  },
  {
   "cell_type": "code",
   "execution_count": 7,
   "metadata": {},
   "outputs": [
    {
     "name": "stdout",
     "output_type": "stream",
     "text": [
      "<class 'netCDF4._netCDF4.Dataset'>\n",
      "root group (NETCDF4 data model, file format HDF5):\n",
      "    name: SKOG_1d_20150928_20151027\n",
      "    description: auxilary variables\n",
      "    title: auxilary variables\n",
      "    Conventions: CF-1.6\n",
      "    timeStamp: 2021-Feb-22 13:07:14 GMT\n",
      "    uuid: 2ce5b6e1-0dc2-41ef-893e-33c933428b37\n",
      "    dimensions(sizes): axis_nbounds(2), x(398), y(898), nvertex(4), deptht(40), time_counter(1)\n",
      "    variables(dimensions): float32 \u001b[4mnav_lat\u001b[0m(y,x), float32 \u001b[4mnav_lon\u001b[0m(y,x), float32 \u001b[4mbounds_lon\u001b[0m(y,x,nvertex), float32 \u001b[4mbounds_lat\u001b[0m(y,x,nvertex), float32 \u001b[4marea\u001b[0m(y,x), float32 \u001b[4mdeptht\u001b[0m(deptht), float32 \u001b[4mdeptht_bounds\u001b[0m(deptht,axis_nbounds), float32 \u001b[4mPAR\u001b[0m(time_counter,deptht,y,x), float64 \u001b[4mtime_centered\u001b[0m(time_counter), float64 \u001b[4mtime_centered_bounds\u001b[0m(time_counter,axis_nbounds), float64 \u001b[4mtime_counter\u001b[0m(time_counter), float64 \u001b[4mtime_counter_bounds\u001b[0m(time_counter,axis_nbounds), float32 \u001b[4msigma_theta\u001b[0m(time_counter,deptht,y,x), float32 \u001b[4me3t\u001b[0m(time_counter,deptht,y,x), float32 \u001b[4mdissolved_inorganic_carbon\u001b[0m(time_counter,deptht,y,x), float32 \u001b[4mtotal_alkalinity\u001b[0m(time_counter,deptht,y,x), float32 \u001b[4mdissolved_oxygen\u001b[0m(time_counter,deptht,y,x), float32 \u001b[4mco2_flux_mmol_m2_s\u001b[0m(time_counter,y,x)\n",
      "    groups: \n",
      "\n"
     ]
    }
   ],
   "source": [
    "print(w[nav_lat])"
   ]
  },
  {
   "cell_type": "code",
   "execution_count": 11,
   "metadata": {},
   "outputs": [],
   "source": [
    "jdf_x = 85; jdf_y = 325; jdf_col = 'teal'\n",
    "jdf2_x = 50; jdf2_y = 370; jdf2_col = 'mediumaquamarine'\n",
    "jdf3_x = 130; jdf3_y = 290; jdf3_col = 'lightseagreen'\n",
    "\n",
    "cs_x = 250; cs_y = 500; cs_col = 'royalblue'\n",
    "cs2_x = 280; cs2_y = 440; cs2_col = 'navy'\n",
    "cs3_x = 220; cs3_y = 540; cs3_col = 'dodgerblue'\n",
    "\n",
    "haro_x = 230; haro_y = 310; haro_col = 'tomato'\n",
    "haro2_x = 340; haro2_y = 290; haro2_col = 'firebrick'\n",
    "haro3_x = 260; haro3_y = 335; haro3_col = 'indianred'\n",
    "\n",
    "\n",
    "ns_x = 160; ns_y = 680; ns_col = 'olive'\n",
    "ns2_x = 150; ns2_y = 640; ns2_col = 'yellowgreen'\n",
    "ns3_x = 155; ns3_y = 710; ns3_col = 'palegoldenrod'\n"
   ]
  },
  {
   "cell_type": "code",
   "execution_count": 10,
   "metadata": {},
   "outputs": [],
   "source": [
    "nav_lat = w['nav_lat'][:]\n",
    "nav_lon = w['nav_lon'][:]"
   ]
  },
  {
   "cell_type": "code",
   "execution_count": null,
   "metadata": {},
   "outputs": [],
   "source": [
    "i\n",
    "\n",
    "# ax1.scatter(x[jdf_y,jdf_x],y[jdf_y,jdf_x], marker = 'o', edgecolor = 'k', s = 68, color = 'teal', zorder = 10)\n",
    "# ax1.scatter(x[jdf2_y,jdf2_x],y[jdf2_y,jdf2_x], marker = 'o', edgecolor = 'k',s = 68, color = 'mediumaquamarine', zorder = 10)\n",
    "# ax1.scatter(x[jdf3_y,jdf3_x],y[jdf3_y,jdf3_x], marker = 'o', edgecolor = 'k',s = 68, color = 'lightseagreen', zorder = 10)\n",
    "# ax1.scatter(x[cs_y,cs_x],y[cs_y,cs_x], marker = 'o', s = 68, edgecolor = 'k',color = 'royalblue', zorder = 10)\n",
    "# ax1.scatter(x[cs2_y,cs2_x],y[cs2_y,cs2_x], marker = 'o', s = 68, edgecolor = 'k',color = 'navy', zorder = 10)\n",
    "# ax1.scatter(x[cs3_y,cs3_x],y[cs3_y,cs3_x], marker = 'o', s = 68, edgecolor = 'k',color = 'dodgerblue', zorder = 10)\n",
    "# ax1.scatter(x[ns_y,ns_x],y[ns_y,ns_x], marker = 'o', s = 68, edgecolor = 'k',color = 'olive', zorder = 10)\n",
    "# ax1.scatter(x[ns2_y,ns2_x],y[ns2_y,ns2_x], marker = 'o', s = 68, edgecolor = 'k',color = 'yellowgreen', zorder = 10)\n",
    "# ax1.scatter(x[ns3_y,ns3_x],y[ns3_y,ns3_x], marker = 'o', s = 68, edgecolor = 'k',color = 'palegoldenrod', zorder = 10)\n",
    "# ax1.scatter(x[haro_y,haro_x],y[haro_y,haro_x], marker = 'o', s = 68, edgecolor = 'k',color = 'tomato', zorder = 10)\n",
    "# ax1.scatter(x[haro2_y,haro2_x],y[haro2_y,haro2_x], marker = 'o', s = 68, edgecolor = 'k',color = 'firebrick', zorder = 10)\n",
    "# ax1.scatter(x[haro3_y,haro3_x],y[haro3_y,haro3_x], marker = 'o', s = 68, edgecolor = 'k', color = 'indianred', zorder = 10)\n"
   ]
  }
 ],
 "metadata": {
  "kernelspec": {
   "display_name": "Python 3",
   "language": "python",
   "name": "python3"
  },
  "language_info": {
   "codemirror_mode": {
    "name": "ipython",
    "version": 3
   },
   "file_extension": ".py",
   "mimetype": "text/x-python",
   "name": "python",
   "nbconvert_exporter": "python",
   "pygments_lexer": "ipython3",
   "version": "3.7.4"
  }
 },
 "nbformat": 4,
 "nbformat_minor": 2
}
