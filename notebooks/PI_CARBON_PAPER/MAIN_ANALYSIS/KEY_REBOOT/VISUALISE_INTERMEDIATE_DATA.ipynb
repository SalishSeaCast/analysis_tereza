{
 "cells": [
  {
   "cell_type": "code",
   "execution_count": 1,
   "metadata": {},
   "outputs": [],
   "source": [
    "import netCDF4 as nc\n",
    "import numpy as np"
   ]
  },
  {
   "cell_type": "code",
   "execution_count": 2,
   "metadata": {},
   "outputs": [],
   "source": [
    "w = nc.Dataset('/data/tjarniko/results/SKOG_1d_20150302_20150331_carp_T_20150330-20150330.nc')"
   ]
  },
  {
   "cell_type": "code",
   "execution_count": 4,
   "metadata": {},
   "outputs": [],
   "source": [
    "DIC = w['dissolved_inorganic_carbon'][:]"
   ]
  },
  {
   "cell_type": "code",
   "execution_count": 10,
   "metadata": {},
   "outputs": [
    {
     "name": "stdout",
     "output_type": "stream",
     "text": [
      "[1943.682373046875 1945.5029296875 1947.3812255859375 1950.0294189453125\n",
      " 1952.73974609375 1955.216064453125 1957.4586181640625 1959.4522705078125\n",
      " 1961.2083740234375 1962.898681640625 1964.533935546875 1966.03369140625\n",
      " 1967.4876708984375 1969.028564453125 1970.6568603515625 1972.21142578125\n",
      " 1973.8983154296875 1975.6246337890625 1977.337890625 1979.91015625\n",
      " 1982.36181640625 1988.570068359375 1998.9190673828125 2021.712158203125\n",
      " 2039.184326171875 2066.34033203125 2080.610107421875 2084.77880859375 0.0\n",
      " 0.0 0.0 0.0 0.0 0.0 0.0 0.0 0.0 0.0 0.0 0.0]\n"
     ]
    }
   ],
   "source": [
    "print((DIC[0,:,250,250]))"
   ]
  },
  {
   "cell_type": "code",
   "execution_count": null,
   "metadata": {},
   "outputs": [],
   "source": []
  }
 ],
 "metadata": {
  "kernelspec": {
   "display_name": "Python 3",
   "language": "python",
   "name": "python3"
  },
  "language_info": {
   "codemirror_mode": {
    "name": "ipython",
    "version": 3
   },
   "file_extension": ".py",
   "mimetype": "text/x-python",
   "name": "python",
   "nbconvert_exporter": "python",
   "pygments_lexer": "ipython3",
   "version": "3.7.4"
  }
 },
 "nbformat": 4,
 "nbformat_minor": 2
}
