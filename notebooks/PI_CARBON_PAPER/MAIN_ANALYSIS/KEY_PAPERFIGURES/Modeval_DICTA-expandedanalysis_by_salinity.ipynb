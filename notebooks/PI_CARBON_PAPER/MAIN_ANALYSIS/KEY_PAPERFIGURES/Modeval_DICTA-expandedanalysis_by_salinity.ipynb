{
 "cells": [
  {
   "cell_type": "code",
   "execution_count": 3,
   "metadata": {},
   "outputs": [
    {
     "data": {
      "application/javascript": [
       "IPython.OutputArea.prototype._should_scroll = function(lines) {\n",
       "    return false;\n",
       "}\n"
      ],
      "text/plain": [
       "<IPython.core.display.Javascript object>"
      ]
     },
     "metadata": {},
     "output_type": "display_data"
    }
   ],
   "source": [
    "%%javascript\n",
    "IPython.OutputArea.prototype._should_scroll = function(lines) {\n",
    "    return false;\n",
    "}"
   ]
  },
  {
   "cell_type": "code",
   "execution_count": 4,
   "metadata": {},
   "outputs": [
    {
     "name": "stdout",
     "output_type": "stream",
     "text": [
      "Once deleted, variables cannot be recovered. Proceed (y/[n])? y\n"
     ]
    }
   ],
   "source": [
    "%reset"
   ]
  },
  {
   "cell_type": "code",
   "execution_count": 5,
   "metadata": {},
   "outputs": [
    {
     "data": {
      "text/html": [
       "<script>\n",
       "code_show=true; \n",
       "function code_toggle() {\n",
       " if (code_show){\n",
       " $('div.input').hide();\n",
       " } else {\n",
       " $('div.input').show();\n",
       " }\n",
       " code_show = !code_show\n",
       "} \n",
       "$( document ).ready(code_toggle);\n",
       "</script>\n",
       "<form action=\"javascript:code_toggle()\"><input type=\"submit\" value=\"Click here to toggle on/off the raw code.\"></form>"
      ],
      "text/plain": [
       "<IPython.core.display.HTML object>"
      ]
     },
     "execution_count": 5,
     "metadata": {},
     "output_type": "execute_result"
    }
   ],
   "source": [
    "from IPython.display import HTML\n",
    "\n",
    "HTML('''<script>\n",
    "code_show=true; \n",
    "function code_toggle() {\n",
    " if (code_show){\n",
    " $('div.input').hide();\n",
    " } else {\n",
    " $('div.input').show();\n",
    " }\n",
    " code_show = !code_show\n",
    "} \n",
    "$( document ).ready(code_toggle);\n",
    "</script>\n",
    "<form action=\"javascript:code_toggle()\"><input type=\"submit\" value=\"Click here to toggle on/off the raw code.\"></form>''')"
   ]
  },
  {
   "cell_type": "markdown",
   "metadata": {},
   "source": [
    "# Evaluation of model DIC and TA bias matched to salinity\n",
    "\n",
    "**Notebook overview:** We understand that our carbon model, SalishSeaCast-SKØG, has a slight bias ($\\sim$+25 umol/L) in the total alkalinity field. This small bias results in a non-negligible bias in the environmentally-relevant $\\Omega_A$ metric that we often consider ($\\sim$+0.2). However"
   ]
  },
  {
   "cell_type": "code",
   "execution_count": 6,
   "metadata": {},
   "outputs": [],
   "source": [
    "#imports\n",
    "import numpy as np\n",
    "import xarray as xr\n",
    "import matplotlib.pyplot as plt\n",
    "import seawater\n",
    "import netCDF4 as nc\n",
    "from scipy import stats\n",
    "\n",
    "from numpy import *\n",
    "from scipy import *\n",
    "\n",
    "import netCDF4 as nc\n",
    "import numpy as np\n",
    "import scipy as sp\n",
    "import cmocean\n",
    "import glob\n",
    "import seawater\n",
    "import arrow\n",
    "from salishsea_tools import (\n",
    "    nc_tools,\n",
    "    viz_tools,\n",
    "    geo_tools,\n",
    "    tidetools\n",
    ")\n"
   ]
  },
  {
   "cell_type": "code",
   "execution_count": 7,
   "metadata": {},
   "outputs": [],
   "source": [
    "infil = np.loadtxt('./Datasets/grl2016_nu.txt')\n",
    "\n",
    "crid= infil[:,0]\n",
    "ln = infil[:,2]\n",
    "stn = infil[:,3]\n",
    "mon = infil[:,4]\n",
    "day = infil[:,5]\n",
    "lat_or = infil[:,6]\n",
    "lon_or = infil[:,7]\n",
    "lat = infil[:,6]\n",
    "lon = infil[:,7]\n",
    "P = infil[:,8]\n",
    "T = infil[:,9]\n",
    "S = infil[:,10]\n",
    "ox = infil[:,11]\n",
    "ox_qf = infil[:,12]\n",
    "dic = infil[:,13]\n",
    "alk = infil[:,15]\n",
    "dic_qf = infil[:,14]\n",
    "alk_qf = infil[:,16]\n",
    "no3 = infil[:,17]\n",
    "no3_qf = infil[:,18]\n",
    "si = infil[:,19]\n",
    "si_qf = infil[:, 20]\n",
    "po4 = infil[:,21]\n",
    "po4_qf = infil[:, 22]\n",
    "\n",
    "##add model coords\n",
    "obs_i = np.zeros_like(alk)\n",
    "obs_j = np.zeros_like(alk)\n",
    "moddepth = np.zeros_like(alk)\n",
    "depthdist_modobs = np.zeros_like(alk)\n",
    "\n",
    "mesh = nc.Dataset('/data/tjarniko/MEOPAR/grid/bathymetry_201702.nc')\n",
    "grid = nc.Dataset('/data/tjarniko/MEOPAR/grid/mesh_mask201702.nc')\n",
    "nav_lon = mesh.variables['nav_lon'][:]\n",
    "nav_lat = mesh.variables['nav_lat'][:]\n",
    "bathy = mesh.variables['Bathymetry'][:]\n",
    "depth = grid.variables['gdept_1d'][:]\n",
    "\n",
    "dist = []\n",
    "for w in range(0,len(lat)):\n",
    "    j, i = geo_tools.find_closest_model_point(lon[w],lat[w],nav_lon,nav_lat)\n",
    "    obs_j[w] = j\n",
    "    obs_i[w] = i\n",
    "    close = np.abs(depth-P[w])\n",
    "    # smallest\n",
    "    depthdist_modobs[w] = (np.min(close))\n",
    "    moddepth[w] = (np.argmin(close))\n",
    "    "
   ]
  },
  {
   "cell_type": "code",
   "execution_count": null,
   "metadata": {},
   "outputs": [],
   "source": []
  },
  {
   "cell_type": "code",
   "execution_count": 9,
   "metadata": {},
   "outputs": [
    {
     "name": "stdout",
     "output_type": "stream",
     "text": [
      "(425,)\n"
     ]
    }
   ],
   "source": [
    "mask = (((dic_qf==2) | (dic_qf==6)) & \\\n",
    "        ((alk_qf==2) | (alk_qf==6)) & \\\n",
    "        (dic > 0) & (alk >0))\n",
    "print(np.shape(dic[mask]))\n",
    "\n",
    "### get accessable subset\n",
    "\n",
    "\n",
    "dens = seawater.dens(S,T,P)\n",
    "sal_conv = S * 35.16504/35\n",
    "# CONVERT FROM UMOL TO MMOL/M3\n",
    "ta_conv=alk*dens/1000\n",
    "dic_conv=dic*dens/1000\n",
    "sal_conv = S * 35.16504/35\n",
    "\n",
    "### subset, converted to model units\n",
    "dic_SSconv = dic_conv[mask]\n",
    "ta_SSconv = ta_conv[mask]\n",
    "sal_SSconv = sal_conv[mask]\n",
    "depth_SSconv = P[mask]; lat_SSconv = lat[mask]; lon_SSconv = lon[mask]\n",
    "mon_SSconv = mon[mask]; day_SSconv = day[mask]; i_SSconv = obs_i[mask].astype(int);\n",
    "j_SSconv = (obs_j[mask].astype(int))\n",
    "moddepth_SSconv = moddepth[mask]; depthdist_modobs_SSconv = depthdist_modobs[mask]\n"
   ]
  },
  {
   "cell_type": "code",
   "execution_count": 14,
   "metadata": {},
   "outputs": [],
   "source": [
    "def find_model_dat_bysal(w, yr):\n",
    "    \n",
    "    sal_marker = 1\n",
    "    TA_int = np.nan\n",
    "    \n",
    "    #find data file \n",
    "    mon = mon_SSconv[w]; day = day_SSconv[w]\n",
    "    tdate = f'{yr}-{int(mon)}-{int(day)}'\n",
    "    td = arrow.get(tdate)\n",
    "    ymd = td.format('YYYYMMDD')\n",
    "    #print(ymd)\n",
    "    \n",
    "    #open the relevant carp and grid files\n",
    "    ptd = f'/data/tjarniko/results/hindcast.201905_dayavg_DIC-TA-T-S/carp_1d_{ymd}.nc'\n",
    "    ptd2 = glob.glob(ptd)\n",
    "    carpnc = nc.Dataset(ptd2[0])\n",
    "    ptd = f'/data/tjarniko/results/hindcast.201905_dayavg_DIC-TA-T-S/grid_1d_{ymd}.nc'\n",
    "    ptd2 = glob.glob(ptd)\n",
    "    gridnc = nc.Dataset(ptd2[0])\n",
    "    \n",
    "    # extract salinity, temperature, etc\n",
    "    salvec = gridnc['model_output']['SAL'][:,j_SSconv[w],i_SSconv[w]]\n",
    "    salvec[salvec == 0] = np.nan\n",
    "    \n",
    "    tempvec = gridnc['model_output']['TEMP'][:,j_SSconv[w],i_SSconv[w]]\n",
    "    tempvec[tempvec == 0] = np.nan\n",
    "\n",
    "    TAvec = carpnc['model_output']['TA'][:,j_SSconv[w],i_SSconv[w]]\n",
    "    TAvec[TAvec == 0] = np.nan\n",
    "\n",
    "    DICvec = carpnc['model_output']['DIC'][:,j_SSconv[w],i_SSconv[w]]\n",
    "    DICvec[DICvec == 0] = np.nan\n",
    "    \n",
    "\n",
    "    try:\n",
    "        sal_lb = (np.max(salvec[salvec<sal_SSconv[w]]))\n",
    "        lb_loc = np.where(salvec == sal_lb)\n",
    "        TA_lb = TAvec[lb_loc]; DIC_lb = DICvec[lb_loc]; \n",
    "    except:\n",
    "        #print(f'obs fresher than all mod points here, mod min sal is:{np.nanmin(salvec)}')\n",
    "        sal_marker = 2\n",
    "    ### min of things higher than the obs\n",
    "    try:\n",
    "        sal_ub = (np.min(salvec[salvec>sal_SSconv[w]]))\n",
    "        ub_loc = np.where(salvec == sal_ub)\n",
    "        TA_ub = TAvec[ub_loc]\n",
    "        #print(ub_loc)\n",
    "    except:\n",
    "        #print(f'obs saltier than all mod points here, mod max sal is:{np.nanmax(salvec)}')\n",
    "        sal_marker = 3\n",
    "\n",
    "    if sal_marker == 1:\n",
    "        \n",
    "        saldiff = sal_ub-sal_lb\n",
    "        \n",
    "        TAdiff2 = TA_ub-TA_lb\n",
    "        TAdiff = TAdiff2[0]\n",
    "        \n",
    "        \n",
    "        \n",
    "        #print(TAdiff)\n",
    "#         if (TA_ub-TA_lb<0):\n",
    "#             print(w)\n",
    "        sal_extraprop = (sal_SSconv[w] - sal_lb)/saldiff\n",
    "        #print(sal_extraprop)\n",
    "        \n",
    "        TA_int = TA_lb + sal_extraprop * TAdiff\n",
    "        \n",
    "    gridnc.close(); carpnc.close()\n",
    "    \n",
    "    return lb_loc, ub_loc, sal_marker, TA_int\n",
    "    \n",
    "\n"
   ]
  },
  {
   "cell_type": "code",
   "execution_count": 15,
   "metadata": {},
   "outputs": [
    {
     "name": "stdout",
     "output_type": "stream",
     "text": [
      "0\n",
      "(array([], dtype=int64),)\n"
     ]
    },
    {
     "name": "stderr",
     "output_type": "stream",
     "text": [
      "/home/tjarniko/anaconda3/lib/python3.7/site-packages/ipykernel_launcher.py:37: RuntimeWarning: invalid value encountered in less\n",
      "/home/tjarniko/anaconda3/lib/python3.7/site-packages/ipykernel_launcher.py:46: RuntimeWarning: invalid value encountered in greater\n"
     ]
    },
    {
     "ename": "NameError",
     "evalue": "name 'clossal' is not defined",
     "output_type": "error",
     "traceback": [
      "\u001b[0;31m---------------------------------------\u001b[0m",
      "\u001b[0;31mNameError\u001b[0mTraceback (most recent call last)",
      "\u001b[0;32m<ipython-input-15-1eb97929ca47>\u001b[0m in \u001b[0;36m<module>\u001b[0;34m\u001b[0m\n\u001b[1;32m      7\u001b[0m     \u001b[0;32mif\u001b[0m \u001b[0mi\u001b[0m\u001b[0;34m%\u001b[0m\u001b[0;36m10\u001b[0m \u001b[0;34m==\u001b[0m \u001b[0;36m0\u001b[0m\u001b[0;34m:\u001b[0m\u001b[0;34m\u001b[0m\u001b[0;34m\u001b[0m\u001b[0m\n\u001b[1;32m      8\u001b[0m         \u001b[0mprint\u001b[0m\u001b[0;34m(\u001b[0m\u001b[0mi\u001b[0m\u001b[0;34m)\u001b[0m\u001b[0;34m\u001b[0m\u001b[0;34m\u001b[0m\u001b[0m\n\u001b[0;32m----> 9\u001b[0;31m     \u001b[0mclos_S\u001b[0m\u001b[0;34m[\u001b[0m\u001b[0mi\u001b[0m\u001b[0;34m]\u001b[0m\u001b[0;34m,\u001b[0m \u001b[0mplclos_S\u001b[0m\u001b[0;34m[\u001b[0m\u001b[0mi\u001b[0m\u001b[0;34m]\u001b[0m\u001b[0;34m,\u001b[0m \u001b[0msms\u001b[0m\u001b[0;34m[\u001b[0m\u001b[0mi\u001b[0m\u001b[0;34m]\u001b[0m\u001b[0;34m,\u001b[0m \u001b[0mTA_ints\u001b[0m\u001b[0;34m[\u001b[0m\u001b[0mi\u001b[0m\u001b[0;34m]\u001b[0m \u001b[0;34m=\u001b[0m \u001b[0mfind_model_dat_bysal\u001b[0m\u001b[0;34m(\u001b[0m\u001b[0mi\u001b[0m\u001b[0;34m,\u001b[0m\u001b[0;36m2015\u001b[0m\u001b[0;34m)\u001b[0m\u001b[0;34m\u001b[0m\u001b[0;34m\u001b[0m\u001b[0m\n\u001b[0m",
      "\u001b[0;32m<ipython-input-14-cc332098656e>\u001b[0m in \u001b[0;36mfind_model_dat_bysal\u001b[0;34m(w, yr)\u001b[0m\n\u001b[1;32m     71\u001b[0m     \u001b[0mgridnc\u001b[0m\u001b[0;34m.\u001b[0m\u001b[0mclose\u001b[0m\u001b[0;34m(\u001b[0m\u001b[0;34m)\u001b[0m\u001b[0;34m;\u001b[0m \u001b[0mcarpnc\u001b[0m\u001b[0;34m.\u001b[0m\u001b[0mclose\u001b[0m\u001b[0;34m(\u001b[0m\u001b[0;34m)\u001b[0m\u001b[0;34m\u001b[0m\u001b[0;34m\u001b[0m\u001b[0m\n\u001b[1;32m     72\u001b[0m \u001b[0;34m\u001b[0m\u001b[0m\n\u001b[0;32m---> 73\u001b[0;31m     \u001b[0;32mreturn\u001b[0m \u001b[0mclossal\u001b[0m\u001b[0;34m,\u001b[0m \u001b[0mplace_clossal\u001b[0m\u001b[0;34m,\u001b[0m \u001b[0msal_marker\u001b[0m\u001b[0;34m,\u001b[0m \u001b[0mTA_int\u001b[0m\u001b[0;34m\u001b[0m\u001b[0;34m\u001b[0m\u001b[0m\n\u001b[0m\u001b[1;32m     74\u001b[0m \u001b[0;34m\u001b[0m\u001b[0m\n\u001b[1;32m     75\u001b[0m \u001b[0;34m\u001b[0m\u001b[0m\n",
      "\u001b[0;31mNameError\u001b[0m: name 'clossal' is not defined"
     ]
    }
   ],
   "source": [
    "clos_S = np.zeros(425)\n",
    "plclos_S = np.zeros(425)\n",
    "sms = np.zeros(425)\n",
    "TA_ints = np.zeros(425)\n",
    "\n",
    "for i in range(0,1):\n",
    "    if i%10 == 0: \n",
    "        print(i)\n",
    "    clos_S[i], plclos_S[i], sms[i], TA_ints[i] = find_model_dat_bysal(i,2015)"
   ]
  },
  {
   "cell_type": "code",
   "execution_count": 119,
   "metadata": {},
   "outputs": [
    {
     "data": {
      "text/plain": [
       "12.49126532913624"
      ]
     },
     "execution_count": 119,
     "metadata": {},
     "output_type": "execute_result"
    }
   ],
   "source": [
    "np.nanmean(TA_ints[~np.isnan(TA_ints)]) - np.nanmean(ta_SSconv[~np.isnan(TA_ints)])"
   ]
  },
  {
   "cell_type": "code",
   "execution_count": 125,
   "metadata": {},
   "outputs": [
    {
     "name": "stdout",
     "output_type": "stream",
     "text": [
      "(331,)\n",
      "(56,)\n",
      "(38,)\n"
     ]
    }
   ],
   "source": [
    "print(np.shape(sms[sms==1]))\n",
    "print(np.shape(sms[sms==2]))\n",
    "print(np.shape(sms[sms==3]))"
   ]
  },
  {
   "cell_type": "code",
   "execution_count": 126,
   "metadata": {},
   "outputs": [
    {
     "data": {
      "text/plain": [
       "425"
      ]
     },
     "execution_count": 126,
     "metadata": {},
     "output_type": "execute_result"
    }
   ],
   "source": [
    "331+56+38"
   ]
  },
  {
   "cell_type": "code",
   "execution_count": null,
   "metadata": {},
   "outputs": [],
   "source": []
  }
 ],
 "metadata": {
  "kernelspec": {
   "display_name": "Python 3",
   "language": "python",
   "name": "python3"
  },
  "language_info": {
   "codemirror_mode": {
    "name": "ipython",
    "version": 3
   },
   "file_extension": ".py",
   "mimetype": "text/x-python",
   "name": "python",
   "nbconvert_exporter": "python",
   "pygments_lexer": "ipython3",
   "version": "3.7.4"
  }
 },
 "nbformat": 4,
 "nbformat_minor": 2
}
