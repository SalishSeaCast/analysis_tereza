{
 "cells": [
  {
   "cell_type": "code",
   "execution_count": 1,
   "metadata": {},
   "outputs": [
    {
     "data": {
      "application/javascript": [
       "IPython.OutputArea.prototype._should_scroll = function(lines) {\n",
       "    return false;\n",
       "}\n"
      ],
      "text/plain": [
       "<IPython.core.display.Javascript object>"
      ]
     },
     "metadata": {},
     "output_type": "display_data"
    }
   ],
   "source": [
    "%%javascript\n",
    "IPython.OutputArea.prototype._should_scroll = function(lines) {\n",
    "    return false;\n",
    "}"
   ]
  },
  {
   "cell_type": "code",
   "execution_count": 2,
   "metadata": {},
   "outputs": [
    {
     "name": "stdout",
     "output_type": "stream",
     "text": [
      "Once deleted, variables cannot be recovered. Proceed (y/[n])? y\n"
     ]
    }
   ],
   "source": [
    "%reset"
   ]
  },
  {
   "cell_type": "code",
   "execution_count": 3,
   "metadata": {},
   "outputs": [
    {
     "data": {
      "text/html": [
       "<script>\n",
       "code_show=true; \n",
       "function code_toggle() {\n",
       " if (code_show){\n",
       " $('div.input').hide();\n",
       " } else {\n",
       " $('div.input').show();\n",
       " }\n",
       " code_show = !code_show\n",
       "} \n",
       "$( document ).ready(code_toggle);\n",
       "</script>\n",
       "<form action=\"javascript:code_toggle()\"><input type=\"submit\" value=\"Click here to toggle on/off the raw code.\"></form>"
      ],
      "text/plain": [
       "<IPython.core.display.HTML object>"
      ]
     },
     "execution_count": 3,
     "metadata": {},
     "output_type": "execute_result"
    }
   ],
   "source": [
    "from IPython.display import HTML\n",
    "\n",
    "HTML('''<script>\n",
    "code_show=true; \n",
    "function code_toggle() {\n",
    " if (code_show){\n",
    " $('div.input').hide();\n",
    " } else {\n",
    " $('div.input').show();\n",
    " }\n",
    " code_show = !code_show\n",
    "} \n",
    "$( document ).ready(code_toggle);\n",
    "</script>\n",
    "<form action=\"javascript:code_toggle()\"><input type=\"submit\" value=\"Click here to toggle on/off the raw code.\"></form>''')"
   ]
  },
  {
   "cell_type": "markdown",
   "metadata": {},
   "source": [
    "# Figure description\n",
    "\n",
    "\n",
    "#### 5 subplots of model results vs observations for hindcast 201905 (only values where model>1800 are shown)\n",
    "#### a table of model statistics, both for full dataset and for \n"
   ]
  },
  {
   "cell_type": "code",
   "execution_count": null,
   "metadata": {},
   "outputs": [],
   "source": []
  },
  {
   "cell_type": "code",
   "execution_count": 5,
   "metadata": {},
   "outputs": [],
   "source": [
    "import numpy as np\n",
    "import xarray as xr\n",
    "import matplotlib.pyplot as plt\n",
    "import seawater\n",
    "import netCDF4 as nc\n",
    "\n",
    "TA_WSS = np.zeros(5)\n",
    "TA_RMSE = np.zeros(5)\n",
    "TA_bias = np.zeros(5)\n",
    "TA_modstd = np.zeros(5)\n",
    "TA_obsstd = np.zeros(5)\n",
    "\n",
    "TA_WSS_over1800 = np.zeros(5)\n",
    "TA_RMSE_over1800 = np.zeros(5)\n",
    "TA_modstd_over1800 = np.zeros(5)\n",
    "TA_obsstd_over1800 = np.zeros(5)"
   ]
  },
  {
   "cell_type": "markdown",
   "metadata": {},
   "source": [
    "#### LOAD OBSERVATIONAL DATA"
   ]
  },
  {
   "cell_type": "code",
   "execution_count": 6,
   "metadata": {},
   "outputs": [],
   "source": [
    "infil = np.loadtxt('./Datasets/grl2016_nu.txt')\n",
    "P = infil[:,8]\n",
    "T = infil[:,9]\n",
    "S = infil[:,10]\n",
    "dic = infil[:,13]\n",
    "alk = infil[:,15]\n",
    "dens = seawater.dens(S,T,P)\n",
    "# CONVERT FROM UMOL TO MMOL/M3\n",
    "ta_conv=alk*dens/1000\n",
    "dic_conv=dic*dens/1000"
   ]
  },
  {
   "cell_type": "markdown",
   "metadata": {},
   "source": [
    "#### CALCULATE EVALUATION STATISTICS FOR YEARS 2013-2017"
   ]
  },
  {
   "cell_type": "code",
   "execution_count": 10,
   "metadata": {},
   "outputs": [],
   "source": [
    "TA_WSS = np.zeros(5)\n",
    "TA_RMSE = np.zeros(5)\n",
    "TA_bias = np.zeros(5)\n",
    "TA_modstd = np.zeros(5)\n",
    "TA_obsstd = np.zeros(5)\n",
    "\n",
    "TA_WSS_over1800 = np.zeros(5)\n",
    "TA_RMSE_over1800 = np.zeros(5)\n",
    "TA_bias_over1800 = np.zeros(5)\n",
    "TA_modstd_over1800 = np.zeros(5)\n",
    "TA_obsstd_over1800 = np.zeros(5)\n",
    "\n",
    "for yr in range(2013,2018):\n",
    "    index = yr - 2013\n",
    "\n",
    "    scrdir = './MODEL_EVAL_scripts/'\n",
    "    DIC = nc.Dataset(scrdir+'/DIC_hindcast201905_GRL_comp_' + str(yr) + '.nc')\n",
    "    TA = nc.Dataset(scrdir+'/TA_hindcast201905_GRL_comp_' + str(yr) + '.nc')\n",
    "\n",
    "    #extractions\n",
    "#     DIC_mod = DIC['model_output']['mod_point'][:]\n",
    "#     DIC_mod[DIC_mod==0]=np.nan\n",
    "#     dic_compbl = dic_conv[~(np.isnan(TA_mod))&(~np.isnan(ta_conv))]\n",
    "#     DIC_mod_compbl = DIC_mod[~(np.isnan(TA_mod))&(~np.isnan(ta_conv))]\n",
    "\n",
    "    TA_mod = TA['model_output']['mod_point'][:]\n",
    "    TA_mod[TA_mod==0]=np.nan\n",
    "    TA_compbl = ta_conv[~(np.isnan(TA_mod))&(~np.isnan(ta_conv))]\n",
    "    TA_mod_compbl = TA_mod[~(np.isnan(TA_mod))&(~np.isnan(ta_conv))]\n",
    "    \n",
    "    \n",
    "    obs =TA_compbl\n",
    "    mod = TA_mod_compbl\n",
    "    xbar = np.mean(obs)\n",
    "  \n",
    "    TA_bias[index] = (-np.mean(obs) + np.mean(mod))\n",
    "    TA_RMSE[index] = (np.sqrt(np.sum((mod - obs)**2) /len(obs)))\n",
    "    TA_WSS[index] = (1-(np.sum((mod - obs)**2)  / np.sum((np.abs(mod - xbar) + np.abs(obs - xbar))**2)))\n",
    "    TA_modstd[index] = np.std(mod)\n",
    "    TA_obsstd[index] = np.std(obs)\n",
    "    \n",
    "\n",
    "    obs =TA_compbl[TA_compbl>1800]\n",
    "    mod = TA_mod_compbl[TA_compbl>1800]\n",
    "    xbar = np.mean(obs)\n",
    "\n",
    "    TA_bias_over1800[index] = (-np.mean(obs) + np.mean(mod))\n",
    "    TA_RMSE_over1800[index] = (np.sqrt(np.sum((mod - obs)**2) /len(obs)))\n",
    "    TA_WSS_over1800[index] = (1-(np.sum((mod - obs)**2)  / np.sum((np.abs(mod - xbar) + np.abs(obs - xbar))**2)))\n",
    "    TA_modstd_over1800[index] = np.std(mod)\n",
    "    TA_obsstd_over1800[index] = np.std(obs)\n",
    "    \n"
   ]
  },
  {
   "cell_type": "code",
   "execution_count": 12,
   "metadata": {},
   "outputs": [
    {
     "name": "stdout",
     "output_type": "stream",
     "text": [
      "0.7041251879698632\n"
     ]
    },
    {
     "data": {
      "image/png": "[encoded data removed]",
      "text/plain": [
       "<Figure size 432x288 with 1 Axes>"
      ]
     },
     "metadata": {
      "needs_background": "light"
     },
     "output_type": "display_data"
    }
   ],
   "source": [
    "\n",
    "plt.plot(TA_compbl,TA_mod_compbl,'r.')\n",
    "\n",
    "correlation_matrix = np.corrcoef(TA_compbl, TA_mod_compbl)\n",
    "correlation_xy = correlation_matrix[0,1]\n",
    "r_squared = correlation_xy**2\n",
    "\n",
    "print(r_squared)"
   ]
  },
  {
   "cell_type": "code",
   "execution_count": null,
   "metadata": {},
   "outputs": [],
   "source": [
    "print(TA_bias)"
   ]
  },
  {
   "cell_type": "code",
   "execution_count": null,
   "metadata": {},
   "outputs": [],
   "source": [
    "fig = plt.figure(figsize=(13,8))\n",
    "fs = 12\n",
    "\n",
    "for yr in range(2013,2018):\n",
    "    i = yr - 2012\n",
    "    scrdir = './MODEL_EVAL_scripts/'\n",
    "    TA = nc.Dataset(scrdir+'/TA_hindcast201905_GRL_comp_' + str(yr) + '.nc')\n",
    "\n",
    "    #extractions\n",
    "\n",
    "    TA_mod = TA['model_output']['mod_point'][:]\n",
    "    is_ref = TA['model_output']['mod_x'][:]\n",
    "    js_ref = TA['model_output']['mod_y'][:]\n",
    "\n",
    "\n",
    "    #locations \n",
    "    loc_tag = np.zeros_like(TA_mod)\n",
    "    loc_tag[:] = 4\n",
    "\n",
    "    for w in range(0,len(loc_tag)):\n",
    "        x = is_ref[w]\n",
    "        y = js_ref[w]\n",
    "        #jdf is 1\n",
    "        if  (x <200) & (y>220) & (y<500) :\n",
    "            loc_tag[w] = 1\n",
    "            #n strait\n",
    "        if  (y >= 550):\n",
    "            loc_tag[w] = 2\n",
    "            #central strait\n",
    "        if (x> 150) & (y>380) & (y<550):\n",
    "            loc_tag[w] = 3\n",
    "            #4 is haro/puget\n",
    "        if ((x>150) & (y>320) & (y<370)):\n",
    "            loc_tag[w] =4\n",
    "\n",
    "    TA_mod[TA_mod==0]=np.nan\n",
    "\n",
    "    #TA\n",
    "    TA_jdf=ta_conv[~(np.isnan(TA_mod))&(loc_tag==1)]\n",
    "    TA_haro=ta_conv[~(np.isnan(TA_mod))&(loc_tag==4)]\n",
    "    TA_ns =ta_conv[~(np.isnan(TA_mod))&(loc_tag==2)]\n",
    "    TA_cs=ta_conv[~(np.isnan(TA_mod))&(loc_tag==3)]\n",
    "\n",
    "    TA_MODjdf=TA_mod[~(np.isnan(TA_mod))&(loc_tag==1)]\n",
    "    TA_MODharo=TA_mod[~(np.isnan(TA_mod))&(loc_tag==4)]\n",
    "    TA_MODns =TA_mod[~(np.isnan(TA_mod))&(loc_tag==2)]\n",
    "    TA_MODcs=TA_mod[~(np.isnan(TA_mod))&(loc_tag==3)]\n",
    "\n",
    "    TA_compbl = ta_conv[~(np.isnan(TA_mod))]\n",
    "    TA_mod_compbl = TA_mod[~(np.isnan(TA_mod))]\n",
    "\n",
    "    #plot\n",
    "\n",
    "    ax = fig.add_subplot(2,3,i)\n",
    "    ax.grid(color='k', linestyle=':', linewidth=1)\n",
    "    ax.plot(TA_jdf,TA_MODjdf,'ko',markersize=5, label = 'Juan de Fuca')\n",
    "    ax.plot(TA_haro,TA_MODharo,c='fuchsia', marker='o',linestyle='None',markersize=5, label = 'Haro Strait')\n",
    "    ax.plot(TA_ns,TA_MODns,c='orange', marker='o',linestyle='None',markersize=5, label = 'Northern Strait')\n",
    "    ax.plot(TA_cs,TA_MODcs,c='green', marker='o',linestyle='None',markersize=5, label = 'Central Strait')\n",
    "\n",
    "    ax.set_xlabel('observations (mmol $m^{-3}$)', fontsize = fs)\n",
    "    ax.set_ylabel('model (mmol $m^{-3}$)', fontsize = fs)\n",
    "    ax.set_title('year' + str(yr))\n",
    "    #ax.legend( ['Juan de Fuca','Haro Strait','Northern Strait','Central Strait'],loc='best', fontsize = 20)\n",
    "    if yr == 2017:\n",
    "        plt.legend(bbox_to_anchor=(1.05, 1), loc=2, borderaxespad=0.)\n",
    "    ax.set_xlim(1800,2350)\n",
    "    ax.set_ylim(1800,2350)\n",
    "    ax.plot([1800,2400],[1800,2400],'k')\n",
    "\n",
    "    plt.title(str(yr), fontsize = 16)\n",
    "    \n",
    "plt.suptitle('TA model evaluation, years 2013-2017', y = 1.05, fontsize = 20)\n",
    "\n",
    "plt.tight_layout()"
   ]
  },
  {
   "cell_type": "markdown",
   "metadata": {},
   "source": [
    "#### PUT SKILL METRICS IN ARRAY FOR PLOTTING, CONVERT TABLE TO LIST AND PLOT"
   ]
  },
  {
   "cell_type": "code",
   "execution_count": null,
   "metadata": {},
   "outputs": [],
   "source": [
    "#matrix of evaluation metrics\n",
    "tablemat = np.zeros([5,3])\n",
    "tablemat[:,0] = TA_bias\n",
    "tablemat[:,1] = TA_RMSE\n",
    "tablemat[:,2] = TA_WSS\n",
    "\n",
    "\n",
    "tablelist = np.zeros([5,3])\n",
    "np.ndarray.tolist(tablelist)\n",
    "\n",
    "#list of evaluation metrics\n",
    "for i in range(0,len(tablelist)):\n",
    "    for j in range(0,len(tablelist[i])):\n",
    "        tablelist[i,j] = '%s' % float('%.3g' % tablemat[i,j]) # ('{:.3f}'.format(tablemat[i,j]))\n",
    "\n",
    "tablemat_over1800 = np.zeros([5,3])\n",
    "tablemat_over1800[:,0] = TA_bias_over1800\n",
    "tablemat_over1800[:,1] = TA_RMSE_over1800\n",
    "tablemat_over1800[:,2] = TA_WSS_over1800\n",
    "\n",
    "\n",
    "tablelist_over1800 = np.zeros([5,3])\n",
    "np.ndarray.tolist(tablelist_over1800)\n",
    "\n",
    "#list of evaluation metrics\n",
    "for i in range(0,len(tablelist_over1800)):\n",
    "    for j in range(0,len(tablelist_over1800[i])):\n",
    "        tablelist_over1800[i,j] = '%s' % float('%.3g' % tablemat_over1800[i,j]) # ('{:.3f}'.format(tablemat[i,j]))"
   ]
  },
  {
   "cell_type": "code",
   "execution_count": null,
   "metadata": {},
   "outputs": [],
   "source": []
  },
  {
   "cell_type": "code",
   "execution_count": null,
   "metadata": {},
   "outputs": [],
   "source": []
  },
  {
   "cell_type": "code",
   "execution_count": null,
   "metadata": {},
   "outputs": [],
   "source": [
    "fig = plt.figure()\n",
    "fig = plt.figure(figsize=(10,4))\n",
    "ax = fig.add_subplot(121)\n",
    "fs = 10\n",
    "sc1 = 2.5\n",
    "sc2 = 2.5\n",
    "y = [1, 2, 3, 4, 5, 4, 3, 2, 1, 1, 1, 1, 1, 1, 1, 1]    \n",
    "col_labels = ['bias\\n (mmol $m^{-3}$)', 'RMSE\\n (mmol $m^{-3}$)', 'WSS']\n",
    "row_labels = ['2013', '2014', '2015','2016','2017']\n",
    "table_vals = [[11, 12, 13], [21, 22, 23], [31, 32, 33],[21, 22, 23],[21, 22, 23]]\n",
    "\n",
    "\n",
    "\n",
    "# Draw table\n",
    "the_table = plt.table(cellText=tablelist,\n",
    "                      colWidths=[0.1] * 3,\n",
    "                      rowLabels=row_labels,\n",
    "                      colLabels=col_labels,\n",
    "                      loc='center')\n",
    "the_table.auto_set_font_size(False)\n",
    "the_table.set_fontsize(fs)\n",
    "the_table.scale(sc1, sc2)\n",
    "\n",
    "# Removing ticks and spines enables you to get the figure only with table\n",
    "plt.tick_params(axis='x', which='both', bottom=False, top=False, labelbottom=False)\n",
    "plt.tick_params(axis='y', which='both', right=False, left=False, labelleft=False)\n",
    "for pos in ['right','top','bottom','left']:\n",
    "    plt.gca().spines[pos].set_visible(False)\n",
    "    \n",
    "plt.title('Model Evaluation Metrics \\n (all TA observations)')\n",
    "    \n",
    "ax = fig.add_subplot(122)\n",
    "y = [1, 2, 3, 4, 5, 4, 3, 2, 1, 1, 1, 1, 1, 1, 1, 1]    \n",
    "col_labels = ['bias \\n (mmol $m^{-3}$)', 'RMSE\\n (mmol $m^{-3}$)', 'WSS']\n",
    "row_labels = ['2013', '2014', '2015','2016','2017']\n",
    "table_vals = [[11, 12, 13], [21, 22, 23], [31, 32, 33],[21, 22, 23],[21, 22, 23]]\n",
    "\n",
    "# Draw table\n",
    "the_table = plt.table(cellText=tablelist_over1800,\n",
    "                      colWidths=[0.1] * 3,\n",
    "                      rowLabels=row_labels,\n",
    "                      colLabels=col_labels,\n",
    "                      loc='center')\n",
    "the_table.auto_set_font_size(False)\n",
    "the_table.set_fontsize(fs)\n",
    "the_table.scale(sc1, sc2)\n",
    "plt.title('Model Evaluation Metrics \\n (TA observations where DIC > 1800 (mmol $m^{-3}$))')\n",
    "# Removing ticks and spines enables you to get the figure only with table\n",
    "plt.tick_params(axis='x', which='both', bottom=False, top=False, labelbottom=False)\n",
    "plt.tick_params(axis='y', which='both', right=False, left=False, labelleft=False)\n",
    "for pos in ['right','top','bottom','left']:\n",
    "    plt.gca().spines[pos].set_visible(False)\n",
    "\n",
    "plt.tight_layout()"
   ]
  },
  {
   "cell_type": "code",
   "execution_count": null,
   "metadata": {},
   "outputs": [],
   "source": []
  },
  {
   "cell_type": "code",
   "execution_count": null,
   "metadata": {},
   "outputs": [],
   "source": []
  },
  {
   "cell_type": "code",
   "execution_count": null,
   "metadata": {},
   "outputs": [],
   "source": [
    "print('Mean bias: '+str(np.mean(TA_bias)))\n",
    "print('Mean RMSE: '+str(np.mean(TA_RMSE)))\n",
    "print('Mean WSS: '+str(np.mean(TA_WSS)))\n",
    "print()\n",
    "print('Mean bias over 1800: '+str(np.mean(TA_bias_over1800)))\n",
    "print('Mean RMSE over 1800: '+str(np.mean(TA_RMSE_over1800)))\n",
    "print('Mean WSS over 1800: '+str(np.mean(TA_WSS_over1800)))"
   ]
  },
  {
   "cell_type": "code",
   "execution_count": null,
   "metadata": {},
   "outputs": [],
   "source": []
  }
 ],
 "metadata": {
  "kernelspec": {
   "display_name": "Python 3",
   "language": "python",
   "name": "python3"
  },
  "language_info": {
   "codemirror_mode": {
    "name": "ipython",
    "version": 3
   },
   "file_extension": ".py",
   "mimetype": "text/x-python",
   "name": "python",
   "nbconvert_exporter": "python",
   "pygments_lexer": "ipython3",
   "version": "3.7.4"
  }
 },
 "nbformat": 4,
 "nbformat_minor": 2
}
