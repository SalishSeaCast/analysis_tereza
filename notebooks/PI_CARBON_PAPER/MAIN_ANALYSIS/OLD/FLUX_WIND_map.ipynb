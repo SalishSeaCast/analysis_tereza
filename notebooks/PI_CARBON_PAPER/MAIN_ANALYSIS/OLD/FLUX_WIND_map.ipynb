{
 "cells": [
  {
   "cell_type": "code",
   "execution_count": 1,
   "metadata": {},
   "outputs": [
    {
     "name": "stdout",
     "output_type": "stream",
     "text": [
      "Once deleted, variables cannot be recovered. Proceed (y/[n])? y\n"
     ]
    }
   ],
   "source": [
    "%reset"
   ]
  },
  {
   "cell_type": "code",
   "execution_count": 2,
   "metadata": {},
   "outputs": [
    {
     "data": {
      "text/html": [
       "<script>\n",
       "code_show=true; \n",
       "function code_toggle() {\n",
       " if (code_show){\n",
       " $('div.input').hide();\n",
       " } else {\n",
       " $('div.input').show();\n",
       " }\n",
       " code_show = !code_show\n",
       "} \n",
       "$( document ).ready(code_toggle);\n",
       "</script>\n",
       "<form action=\"javascript:code_toggle()\"><input type=\"submit\" value=\"Click here to toggle on/off the raw code.\"></form>"
      ],
      "text/plain": [
       "<IPython.core.display.HTML object>"
      ]
     },
     "execution_count": 2,
     "metadata": {},
     "output_type": "execute_result"
    }
   ],
   "source": [
    "from IPython.display import HTML\n",
    "\n",
    "HTML('''<script>\n",
    "code_show=true; \n",
    "function code_toggle() {\n",
    " if (code_show){\n",
    " $('div.input').hide();\n",
    " } else {\n",
    " $('div.input').show();\n",
    " }\n",
    " code_show = !code_show\n",
    "} \n",
    "$( document ).ready(code_toggle);\n",
    "</script>\n",
    "<form action=\"javascript:code_toggle()\"><input type=\"submit\" value=\"Click here to toggle on/off the raw code.\"></form>''')"
   ]
  },
  {
   "cell_type": "code",
   "execution_count": 3,
   "metadata": {},
   "outputs": [
    {
     "name": "stderr",
     "output_type": "stream",
     "text": [
      "/home/tjarniko/anaconda3/lib/python3.6/site-packages/matplotlib/__init__.py:1357: UserWarning:  This call to matplotlib.use() has no effect\n",
      "because the backend has already been chosen;\n",
      "matplotlib.use() must be called *before* pylab, matplotlib.pyplot,\n",
      "or matplotlib.backends is imported for the first time.\n",
      "\n",
      "  warnings.warn(_use_error_msg)\n"
     ]
    }
   ],
   "source": [
    "from __future__ import print_function\n",
    "from numpy import *\n",
    "from scipy import *\n",
    "import netCDF4 as nc\n",
    "import numpy as np\n",
    "import scipy as sp\n",
    "import seawater\n",
    "import datetime as dt\n",
    "\n",
    "\"\"\n",
    "from salishsea_tools import (\n",
    "    nc_tools,\n",
    "    viz_tools, \n",
    "    geo_tools,\n",
    "    tidetools\n",
    ")\n",
    "import matplotlib.pyplot as plt\n",
    "#matplotlib.use('Agg')\n",
    "import matplotlib.patches as patches\n",
    "plt.style.use('seaborn-whitegrid')\n",
    "import netCDF4 as nc\n",
    "\n",
    "import cmocean as cm\n",
    "import glob\n",
    "import sys\n",
    "sys.path.append('/data/tjarniko/mocsy')\n",
    "sys.path.append('/data/tjarniko/MEOPAR/at3/notebooks/carbon_dev/CCCmaDEV/CCCma_src')\n",
    "sys.path.append('/data/tjarniko/MEOPAR/tools/SalishSeaTools/salishsea_tools/')\n",
    "import mocsy\n",
    "import river_201702 as rv\n",
    "import mocsy\n",
    "import CCCma\n",
    "import CCCma_stations as cs\n",
    "from matplotlib import reload\n",
    "import arrow\n",
    "import gsw\n",
    "import datetime as dt\n",
    "\n",
    "%matplotlib inline"
   ]
  },
  {
   "cell_type": "code",
   "execution_count": 4,
   "metadata": {
    "collapsed": true
   },
   "outputs": [],
   "source": [
    "def make_nclen(start,end,ftype, sdir):\n",
    "    date_ar = []\n",
    "    sens_ar = []\n",
    "    doy_ar = []\n",
    "    start_run = arrow.get(start)\n",
    "    end_run = arrow.get(end)\n",
    "    arrow_array = []\n",
    "    for r in arrow.Arrow.span_range('day', start_run, end_run):\n",
    "        arrow_array.append(r)\n",
    "\n",
    "    dayslen = len(arrow_array)\n",
    "    for i in range(0,dayslen):\n",
    "        tdate = arrow_array[i][0]\n",
    "        ddmmmyy = tdate.format('DDMMMYY').lower()\n",
    "        ymd = tdate.format('YYYYMMDD')\n",
    "        dddd = tdate.format('DDDD')\n",
    "        nc_sens = sdir + '/SKOG_1d_*'+ ftype +'*' + ymd + '-' + ymd + '.nc'\n",
    "        tnc_sens = glob.glob(nc_sens)\n",
    "        sens_ar.append(tnc_sens[0])\n",
    "        date_ar.append(ddmmmyy)\n",
    "        doy_ar.append(dddd)\n",
    "    return date_ar, sens_ar, doy_ar"
   ]
  },
  {
   "cell_type": "code",
   "execution_count": 5,
   "metadata": {},
   "outputs": [
    {
     "name": "stdout",
     "output_type": "stream",
     "text": [
      "1\n",
      "269\n"
     ]
    }
   ],
   "source": [
    "start = '2015-01-01'\n",
    "end = '2015-09-26'\n",
    "\n",
    "st = dt.datetime(2015,1,1)\n",
    "en = dt.datetime(2015,9,26)\n",
    "\n",
    "y_st = st.timetuple().tm_yday\n",
    "print(y_st)\n",
    "y_en = en.timetuple().tm_yday\n",
    "print(y_en)\n",
    "ts_BR = np.arange(y_st,y_en+1,1)\n",
    "\n",
    "sdir_preind = '/data/tjarniko/results/PREIND_2nd_2015/PI_2/ncs/'\n",
    "sdir_br = '/data/tjarniko/results/BR_2nd_2015_cop/SKOG_2/ncs'\n",
    "\n",
    "dates_preind, files_preind, doy_preind = make_nclen(start,end,'carp', sdir_preind)\n",
    "dates_br, files_br, doy_br = make_nclen(start,end,'carp', sdir_br)\n"
   ]
  },
  {
   "cell_type": "markdown",
   "metadata": {},
   "source": [
    " "
   ]
  },
  {
   "cell_type": "code",
   "execution_count": 6,
   "metadata": {},
   "outputs": [
    {
     "name": "stdout",
     "output_type": "stream",
     "text": [
      "0\n",
      "10\n",
      "20\n",
      "30\n",
      "40\n",
      "50\n",
      "60\n",
      "70\n",
      "80\n",
      "90\n",
      "100\n",
      "110\n",
      "120\n",
      "130\n",
      "140\n",
      "150\n",
      "160\n",
      "170\n",
      "180\n",
      "190\n",
      "200\n",
      "210\n",
      "220\n",
      "230\n",
      "240\n",
      "250\n",
      "260\n"
     ]
    }
   ],
   "source": [
    "for i in range(0,len(doy_br)):\n",
    "    if i % 10 == 0:\n",
    "        print(i)\n",
    "    pi_1 = nc.Dataset(files_preind[i])\n",
    "    br_1 = nc.Dataset(files_br[i])\n",
    "    doy = doy_br[i]\n",
    "    tdate = dates_br[i]\n",
    "\n",
    "    br_1_co2 = br_1['co2_flux_mmol_m2_s'][0,:,:]\n",
    "    pi_1_co2 = pi_1['co2_flux_mmol_m2_s'][0,:,:]\n",
    "    diff_co2 = br_1['co2_flux_mmol_m2_s'][0,:,:] -pi_1['co2_flux_mmol_m2_s'][0,:,:]\n",
    "\n",
    "\n",
    "    t_cmap = cm.cm.balance\n",
    "    t_vmin = -0.0008\n",
    "    t_vmax = 0.0008\n",
    "    fig = plt.figure(figsize=(12,8))\n",
    "\n",
    "    ax = fig.add_subplot(1,3,1)\n",
    "    tplt = np.ma.masked_values(br_1_co2,0)\n",
    "    mesh = ax.pcolormesh(tplt, cmap=t_cmap, vmin=t_vmin, vmax=t_vmax)\n",
    "    ax.set_xticklabels([])\n",
    "    ax.set_yticklabels([])\n",
    "    ax.set_title('baserun')\n",
    "    cbar = fig.colorbar(mesh, ax=ax)\n",
    "\n",
    "    ax = fig.add_subplot(1,3,2)\n",
    "    tplt = np.ma.masked_values(pi_1_co2,0)\n",
    "    mesh = ax.pcolormesh(tplt, cmap=t_cmap, vmin=t_vmin, vmax=t_vmax)\n",
    "    ax.set_xticklabels([])\n",
    "    ax.set_yticklabels([])\n",
    "    ax.set_title('preind')\n",
    "    cbar = fig.colorbar(mesh, ax=ax)\n",
    "\n",
    "    ax = fig.add_subplot(1,3,3)\n",
    "    tplt = np.ma.masked_values(br_1_co2-pi_1_co2,0)\n",
    "    mesh = ax.pcolormesh(tplt, cmap=t_cmap, vmin=t_vmin, vmax=t_vmax)\n",
    "    ax.set_xticklabels([])\n",
    "    ax.set_yticklabels([])\n",
    "    ax.set_title('br-preind')\n",
    "    cbar = fig.colorbar(mesh, ax=ax)\n",
    "    fig.suptitle(tdate + ' flux differences, DOY '+ doy, fontsize = 30)\n",
    "    fname = './FLUX_plot/FLUXDIFF_2NDYR_' + doy +'.png'\n",
    "\n",
    "    fig.savefig(fname)\n",
    "    plt.close()\n",
    "    "
   ]
  },
  {
   "cell_type": "markdown",
   "metadata": {
    "collapsed": true
   },
   "source": [
    "then run bash mov5.sh ./FLUX_plot/ FLUXDIFF_2NDYR_"
   ]
  },
  {
   "cell_type": "code",
   "execution_count": 7,
   "metadata": {},
   "outputs": [
    {
     "name": "stdout",
     "output_type": "stream",
     "text": [
      "0\n",
      "10\n",
      "20\n",
      "30\n",
      "40\n",
      "50\n",
      "60\n",
      "70\n",
      "80\n",
      "90\n",
      "100\n",
      "110\n",
      "120\n",
      "130\n",
      "140\n",
      "150\n",
      "160\n",
      "170\n",
      "180\n",
      "190\n",
      "200\n",
      "210\n",
      "220\n",
      "230\n",
      "240\n",
      "250\n",
      "260\n"
     ]
    }
   ],
   "source": [
    "from salishsea_tools import visualisations as vis\n",
    "bathy = nc.Dataset('/data/tjarniko/MEOPAR/grid/bathymetry_201702.nc')\n",
    "mesh = nc.Dataset('/data/tjarniko/MEOPAR/grid/mesh_mask201702.nc')\n",
    "\n",
    "for i in range(0,len(doy_br)):\n",
    "    if i % 10 == 0:\n",
    "        print(i)\n",
    "    pi_1 = nc.Dataset(files_preind[i])\n",
    "    br_1 = nc.Dataset(files_br[i])\n",
    "    doy = doy_br[i]\n",
    "    tdate = dates_br[i]\n",
    "\n",
    "    br_1_dic = br_1['dissolved_inorganic_carbon'][0,:,:,:]\n",
    "    pi_1_dic = pi_1['dissolved_inorganic_carbon'][0,:,:,:]\n",
    "    diff_dic = br_1['dissolved_inorganic_carbon'][0,:,:,:] -pi_1['dissolved_inorganic_carbon'][0,:,:,:]\n",
    "\n",
    "    t_cmap = cm.cm.balance\n",
    "    t_vmin = -50\n",
    "    t_vmax = 50\n",
    "    stepsize = 0.5\n",
    "    fig,ax = plt.subplots(1,1,figsize=(15,5))\n",
    "    vis.contour_thalweg(ax, diff_dic, bathy, mesh, np.arange(t_vmin, t_vmax, stepsize), cmap = t_cmap)\n",
    "    ax.set_title(tdate + ' DIC differences, DOY '+ doy, fontsize = 30)\n",
    "    fname = './FLUX_plot/TWGDIFF_2NDYR_' + doy +'.png'\n",
    "\n",
    "    fig.savefig(fname)\n",
    "    plt.close()\n",
    "    "
   ]
  },
  {
   "cell_type": "code",
   "execution_count": null,
   "metadata": {
    "collapsed": true
   },
   "outputs": [],
   "source": []
  }
 ],
 "metadata": {
  "kernelspec": {
   "display_name": "Python 3",
   "language": "python",
   "name": "python3"
  },
  "language_info": {
   "codemirror_mode": {
    "name": "ipython",
    "version": 3
   },
   "file_extension": ".py",
   "mimetype": "text/x-python",
   "name": "python",
   "nbconvert_exporter": "python",
   "pygments_lexer": "ipython3",
   "version": "3.7.4"
  }
 },
 "nbformat": 4,
 "nbformat_minor": 2
}
