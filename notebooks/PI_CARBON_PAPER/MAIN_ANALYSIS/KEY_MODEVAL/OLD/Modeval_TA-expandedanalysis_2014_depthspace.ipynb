{
 "cells": [
  {
   "cell_type": "code",
   "execution_count": 42,
   "metadata": {},
   "outputs": [
    {
     "data": {
      "application/javascript": [
       "IPython.OutputArea.prototype._should_scroll = function(lines) {\n",
       "    return false;\n",
       "}\n"
      ],
      "text/plain": [
       "<IPython.core.display.Javascript object>"
      ]
     },
     "metadata": {},
     "output_type": "display_data"
    }
   ],
   "source": [
    "%%javascript\n",
    "IPython.OutputArea.prototype._should_scroll = function(lines) {\n",
    "    return false;\n",
    "}"
   ]
  },
  {
   "cell_type": "code",
   "execution_count": 43,
   "metadata": {},
   "outputs": [
    {
     "name": "stdout",
     "output_type": "stream",
     "text": [
      "Once deleted, variables cannot be recovered. Proceed (y/[n])? y\n"
     ]
    }
   ],
   "source": [
    "%reset"
   ]
  },
  {
   "cell_type": "code",
   "execution_count": 44,
   "metadata": {},
   "outputs": [
    {
     "data": {
      "text/html": [
       "<script>\n",
       "code_show=true; \n",
       "function code_toggle() {\n",
       " if (code_show){\n",
       " $('div.input').hide();\n",
       " } else {\n",
       " $('div.input').show();\n",
       " }\n",
       " code_show = !code_show\n",
       "} \n",
       "$( document ).ready(code_toggle);\n",
       "</script>\n",
       "<form action=\"javascript:code_toggle()\"><input type=\"submit\" value=\"Click here to toggle on/off the raw code.\"></form>"
      ],
      "text/plain": [
       "<IPython.core.display.HTML object>"
      ]
     },
     "execution_count": 44,
     "metadata": {},
     "output_type": "execute_result"
    }
   ],
   "source": [
    "from IPython.display import HTML\n",
    "\n",
    "HTML('''<script>\n",
    "code_show=true; \n",
    "function code_toggle() {\n",
    " if (code_show){\n",
    " $('div.input').hide();\n",
    " } else {\n",
    " $('div.input').show();\n",
    " }\n",
    " code_show = !code_show\n",
    "} \n",
    "$( document ).ready(code_toggle);\n",
    "</script>\n",
    "<form action=\"javascript:code_toggle()\"><input type=\"submit\" value=\"Click here to toggle on/off the raw code.\"></form>''')"
   ]
  },
  {
   "cell_type": "markdown",
   "metadata": {},
   "source": [
    "# Evaluation of model TA bias by depth (2014 data) \n",
    "\n",
    "**Notebook overview:** We understand that our carbon model, SalishSeaCast-SKØG, has a slight bias ($\\sim$+25 umol/L) in the total alkalinity field. This small bias results in a non-negligible bias in the environmentally-relevant $\\Omega_A$ metric that we often consider ($\\sim$+0.2). "
   ]
  },
  {
   "cell_type": "code",
   "execution_count": 45,
   "metadata": {},
   "outputs": [],
   "source": [
    "#imports\n",
    "import numpy as np\n",
    "import xarray as xr\n",
    "import matplotlib.pyplot as plt\n",
    "import seawater\n",
    "import netCDF4 as nc\n",
    "from scipy import stats"
   ]
  },
  {
   "cell_type": "code",
   "execution_count": 46,
   "metadata": {},
   "outputs": [],
   "source": [
    "#warnings\n",
    "import warnings\n",
    "warnings.filterwarnings('ignore')\n"
   ]
  },
  {
   "cell_type": "code",
   "execution_count": 47,
   "metadata": {},
   "outputs": [],
   "source": [
    "#arrays for storing metrics - first dimension is year, second is region (1-4 is JDF/NSOG/CSOG/HARO, 5 is overall)\n",
    "\n",
    "reg_cols = ['k', 'orange','green', 'fuchsia',  'blue']\n",
    "\n",
    "TA_WSS = np.zeros([1,5])\n",
    "TA_RMSE = np.zeros([1,5])\n",
    "TA_bias = np.zeros([1,5])\n",
    "TA_modstd = np.zeros([1,5])\n",
    "TA_obsstd = np.zeros([1,5])\n",
    "\n",
    "TA_WSS_over1800 = np.zeros([1,5])\n",
    "TA_RMSE_over1800 = np.zeros([1,5])\n",
    "TA_bias_over1800 = np.zeros([1,5])\n",
    "TA_modstd_over1800 = np.zeros([1,5])\n",
    "TA_obsstd_over1800 = np.zeros([1,5])\n",
    "\n",
    "DIC_WSS = np.zeros([1,5])\n",
    "DIC_RMSE = np.zeros([1,5])\n",
    "DIC_bias = np.zeros([1,5])\n",
    "DIC_modstd = np.zeros([1,5])\n",
    "DIC_obsstd = np.zeros([1,5])\n",
    "\n",
    "DIC_WSS_over1800 = np.zeros([1,5])\n",
    "DIC_RMSE_over1800 = np.zeros([1,5])\n",
    "DIC_bias_over1800 = np.zeros([1,5])\n",
    "DIC_modstd_over1800 = np.zeros([1,5])\n",
    "DIC_obsstd_over1800 = np.zeros([1,5])"
   ]
  },
  {
   "cell_type": "markdown",
   "metadata": {},
   "source": [
    "###### Load observations. "
   ]
  },
  {
   "cell_type": "code",
   "execution_count": 48,
   "metadata": {},
   "outputs": [
    {
     "name": "stdout",
     "output_type": "stream",
     "text": [
      "(72,)\n"
     ]
    }
   ],
   "source": [
    "infil = np.loadtxt('./Datasets/2014_50_for_Tereza_nohead.txt')\n",
    "P = infil[:,8]\n",
    "T = infil[:,9]\n",
    "S = infil[:,10]\n",
    "dic = infil[:,13]\n",
    "alk = infil[:,15]\n",
    "dic_qf = infil[:,14]\n",
    "alk_qf = infil[:,16]\n",
    "dens = seawater.dens(S,T,P)\n",
    "\n",
    "mask = (((dic_qf==2) | (dic_qf==6)) & \\\n",
    "        ((alk_qf==2) | (alk_qf==6)) & \\\n",
    "        (dic > 0) & (alk >0))\n",
    "print(np.shape(dic[mask]))\n",
    "\n",
    "#set non-good values to nan\n",
    "dic[~mask] = np.nan\n",
    "\n",
    "\n",
    "# CONVERT FROM UMOL TO MMOL/M3\n",
    "ta_conv=alk*dens/1000\n",
    "dic_conv=dic*dens/1000\n",
    "sal_conv = S * 35.16504/35\n",
    "\n",
    "dic_SSconv = dic_conv[mask]\n",
    "ta_SSconv = ta_conv[mask]\n",
    "sal_SSconv = sal_conv[mask]\n",
    "depth_SSconv = P[mask]; \n",
    "# #lat_SSconv = lat[mask]; lon_SSconv = lon[mask]\n",
    "# mon_SSconv = mon[mask]; day_SSconv = day[mask];\n",
    "# i_SSconv = obs_i[mask].astype(int);\n",
    "# j_SSconv = (obs_j[mask].astype(int))\n",
    "# moddepth_SSconv = moddepth[mask]; depthdist_modobs_SSconv = depthdist_modobs[mask]\n",
    "\n",
    "\n",
    "#dens check\n",
    "dens2 = seawater.dens(0.0,0,0); #print(dens)"
   ]
  },
  {
   "cell_type": "code",
   "execution_count": 49,
   "metadata": {},
   "outputs": [
    {
     "name": "stdout",
     "output_type": "stream",
     "text": [
      "(89,)\n",
      "(72,)\n"
     ]
    }
   ],
   "source": [
    "print(np.shape(dic))\n",
    "print(np.shape(dic[mask]))\n"
   ]
  },
  {
   "cell_type": "markdown",
   "metadata": {},
   "source": [
    "##### Get coordinates of comparable obs and sort into subregions - just once. also get lats, lons of observations"
   ]
  },
  {
   "cell_type": "code",
   "execution_count": 50,
   "metadata": {},
   "outputs": [
    {
     "name": "stdout",
     "output_type": "stream",
     "text": [
      "<class 'netCDF4._netCDF4.Group'>\n",
      "group /model_output:\n",
      "    dimensions(sizes): ref(72)\n",
      "    variables(dimensions): float32 \u001b[4mmodel_j\u001b[0m(ref), float32 \u001b[4mmodel_i\u001b[0m(ref), float32 \u001b[4msal_int\u001b[0m(ref), float32 \u001b[4mTA_int\u001b[0m(ref), float32 \u001b[4mDIC_int\u001b[0m(ref), float32 \u001b[4mtemp_int\u001b[0m(ref)\n",
      "    groups: \n",
      "\n"
     ]
    }
   ],
   "source": [
    "w = nc.Dataset('/data/tjarniko/MEOPAR/grid/mesh_mask201702.nc')\n",
    "#print(w['gdept_1d'])\n",
    "nav_lon = w['nav_lon']\n",
    "nav_lat = w['nav_lat']\n",
    "\n",
    "tnc = nc.Dataset('./ncs/YR2014_2014DAT_depthspace_modeval.nc')\n",
    "print(tnc['model_output'])\n",
    "\n",
    "is_ref = tnc['model_output']['model_i'][:]\n",
    "js_ref = tnc['model_output']['model_j'][:]\n",
    "# ds_ref = TA['model_output']['depth_index'][:]\n",
    "\n",
    "loc_tag = np.zeros_like(is_ref)\n",
    "loc_tag[:] = 4\n",
    "obs_lon = np.zeros_like(loc_tag)\n",
    "obs_lat = np.zeros_like(loc_tag)\n",
    "\n",
    "for w in range(0,len(loc_tag)):\n",
    "    x = is_ref[w]\n",
    "    y = js_ref[w]\n",
    "    \n",
    "    obs_lon[w] = nav_lon[y,x]\n",
    "    obs_lat[w] = nav_lat[y,x]\n",
    "    #jdf is 1\n",
    "    if  (x <200) & (y>220) & (y<500) :\n",
    "        loc_tag[w] = 1\n",
    "        #n strait\n",
    "    if  (y >= 550):\n",
    "        loc_tag[w] = 2\n",
    "        #central strait\n",
    "    if (x> 150) & (y>380) & (y<550):\n",
    "        loc_tag[w] = 3\n",
    "        #4 is haro/puget\n",
    "    if ((x>150) & (y>320) & (y<370)):\n",
    "        loc_tag[w] =4"
   ]
  },
  {
   "cell_type": "markdown",
   "metadata": {},
   "source": [
    "##### extract model DIC and TA for years 2013-2017 "
   ]
  },
  {
   "cell_type": "code",
   "execution_count": 51,
   "metadata": {},
   "outputs": [],
   "source": [
    "TA_mod_ar = np.zeros([1,72])\n",
    "DIC_mod_ar = np.zeros([1,72])\n",
    "sal_mod_ar = np.zeros([1,72])\n",
    "\n",
    "for yr in range(2014,2015):\n",
    "    index = yr - 2014\n",
    "\n",
    "    tnc = nc.Dataset('./ncs/YR2014_2014DAT_depthspace_modeval.nc')\n",
    "    \n",
    "#     TA = nc.Dataset(scrdir+'/TA_hindcast201905_GRL_comp_' + str(yr) + '.nc')\n",
    "#     DIC = nc.Dataset(scrdir+'/DIC_hindcast201905_GRL_comp_' + str(yr) + '.nc')\n",
    "#     sal = nc.Dataset(scrdir+'/sal_hindcast201905_GRL_comp_' + str(yr) + '.nc')\n",
    "\n",
    "    TA_mod = tnc['model_output']['TA_int'][:]\n",
    "    DIC_mod = tnc['model_output']['DIC_int'][:]\n",
    "    sal_mod = tnc['model_output']['sal_int'][:]\n",
    "    \n",
    "    TA_mod[TA_mod==0]=np.nan\n",
    "    DIC_mod[TA_mod==0]=np.nan\n",
    "    sal_mod[sal_mod==0]=np.nan\n",
    "    \n",
    "    #mask - both carbonate vars have to exist in both model and observations\n",
    "    mask = (~np.isnan(TA_mod))&(~np.isnan(ta_SSconv)) & (~np.isnan(DIC_mod))&(~np.isnan(dic_SSconv))\n",
    "    \n",
    "    # apply mask and store in relative indices\n",
    "    TA_mod_compbl = TA_mod[mask]\n",
    "    DIC_mod_compbl = DIC_mod[mask]\n",
    "    sal_mod_compbl = sal_mod[mask]\n",
    "    \n",
    "    TA_mod_ar[index,:] = TA_mod_compbl\n",
    "    sal_mod_ar[index,:] = sal_mod_compbl\n",
    "    DIC_mod_ar[index,:] = DIC_mod_compbl\n",
    "    \n",
    "    # also extract compbl obs\n",
    "    TA_compbl = ta_SSconv[mask]\n",
    "    DIC_compbl = dic_SSconv[mask]\n",
    "    sal_compbl = sal_SSconv[mask]\n",
    "    loc_tag_compbl = loc_tag[mask]\n",
    "    \n",
    "    #also extract SPACE INFORMATION (geographic information)\n",
    "#     is_ref_compbl = is_ref[mask]; js_ref_compbl = js_ref[mask];\n",
    "#     ds_ref_compbl = ds_ref[mask]\n",
    "#     loc_tag_compbl = loc_tag[mask]\n",
    "#     obs_lon_compbl = obs_lon[mask]\n",
    "#     obs_lat_compbl = obs_lat[mask]"
   ]
  },
  {
   "cell_type": "markdown",
   "metadata": {},
   "source": [
    "#### calculate the metrics WSS, RMSE, and BIAS for DIC AND TA for all 5 years"
   ]
  },
  {
   "cell_type": "code",
   "execution_count": 52,
   "metadata": {},
   "outputs": [],
   "source": [
    "sal_bias = np.zeros([5,5])\n",
    "\n",
    "for yr in range(0,1):\n",
    "    \n",
    "    TA_mod = TA_mod_ar[yr,:]\n",
    "    TA_obs =TA_compbl\n",
    "    \n",
    "    for i in range(1,5):\n",
    "        mask = (loc_tag_compbl == i)\n",
    "        mod = TA_mod[mask]; obs = TA_obs[mask]\n",
    "        xbar = np.mean(obs)\n",
    "  \n",
    "        TA_bias[yr,i-1] = (-np.mean(obs) + np.mean(mod))\n",
    "        TA_RMSE[yr,i-1] = (np.sqrt(np.sum((mod - obs)**2) /len(obs)))\n",
    "        TA_WSS[yr,i-1] = (1-(np.sum((mod - obs)**2)  / np.sum((np.abs(mod - xbar) + np.abs(obs - xbar))**2)))\n",
    "        TA_modstd[yr,i-1] = np.std(mod)\n",
    "        TA_obsstd[yr,i-1] = np.std(obs)\n",
    "    \n",
    "    mod = TA_mod; obs = TA_obs; xbar = np.mean(obs)\n",
    "    \n",
    "    TA_bias[yr,4] = (-np.mean(obs) + np.mean(mod))\n",
    "    TA_RMSE[yr,4] = (np.sqrt(np.sum((mod - obs)**2) /len(obs)))\n",
    "    TA_WSS[yr,4] = (1-(np.sum((mod - obs)**2)  / np.sum((np.abs(mod - xbar) + np.abs(obs - xbar))**2)))\n",
    "    TA_modstd[yr,4] = np.std(mod)\n",
    "    TA_obsstd[yr,4] = np.std(obs)\n",
    "\n",
    "for yr in range(0,1):\n",
    "    \n",
    "    DIC_mod = DIC_mod_ar[yr,:]\n",
    "    DIC_obs =DIC_compbl\n",
    "    \n",
    "    for i in range(1,5):\n",
    "        mask = (loc_tag_compbl == i)\n",
    "        mod = DIC_mod[mask]; obs = DIC_obs[mask]\n",
    "        xbar = np.mean(obs)\n",
    "  \n",
    "        DIC_bias[yr,i-1] = (-np.mean(obs) + np.mean(mod))\n",
    "        DIC_RMSE[yr,i-1] = (np.sqrt(np.sum((mod - obs)**2) /len(obs)))\n",
    "        DIC_WSS[yr,i-1] = (1-(np.sum((mod - obs)**2)  / np.sum((np.abs(mod - xbar) + np.abs(obs - xbar))**2)))\n",
    "        DIC_modstd[yr,i-1] = np.std(mod)\n",
    "        DIC_obsstd[yr,i-1] = np.std(obs)\n",
    "    \n",
    "    mod = DIC_mod; obs = DIC_obs; xbar = np.mean(obs)\n",
    "\n",
    "    DIC_bias[yr,4] = (-np.mean(obs) + np.mean(mod))\n",
    "    DIC_RMSE[yr,4] = (np.sqrt(np.sum((mod - obs)**2) /len(obs)))\n",
    "    DIC_WSS[yr,4] = (1-(np.sum((mod - obs)**2)  / np.sum((np.abs(mod - xbar) + np.abs(obs - xbar))**2)))\n",
    "    DIC_modstd[yr,4] = np.std(mod)\n",
    "    DIC_obsstd[yr,4] = np.std(obs)\n",
    "    \n",
    "# for yr in range(0,5):\n",
    "    \n",
    "#     sal_mod = sal_mod_ar[yr,:]\n",
    "#     sal_obs =sal_compbl\n",
    "    \n",
    "#     for i in range(1,5):\n",
    "#         mask = (loc_tag_compbl == i)\n",
    "#         mod = sal_mod[mask]; obs = sal_obs[mask]\n",
    "#         xbar = np.mean(obs)\n",
    "  \n",
    "#         sal_bias[yr,i-1] = (-np.mean(obs) + np.mean(mod))\n",
    "    \n",
    "#     sal_bias[yr,4] = (-np.mean(obs) + np.mean(mod))\n",
    "    \n",
    "    "
   ]
  },
  {
   "cell_type": "code",
   "execution_count": 53,
   "metadata": {},
   "outputs": [
    {
     "name": "stdout",
     "output_type": "stream",
     "text": [
      "TA bias (columns: JdF, Nsog, Csog, Haro, all)\n",
      "[[33.96955903  0.3290339  30.31714076  0.41681525 21.86825355]]\n",
      "DIC bias (columns: JdF, Nsog, Csog, Haro, all)\n",
      "[[ 29.61902813 -30.63957957   6.3144022   -5.42667076   5.83266742]]\n"
     ]
    }
   ],
   "source": [
    "print('TA bias (columns: JdF, Nsog, Csog, Haro, all)')\n",
    "print(TA_bias)\n",
    "print('DIC bias (columns: JdF, Nsog, Csog, Haro, all)')\n",
    "print(DIC_bias)"
   ]
  },
  {
   "cell_type": "markdown",
   "metadata": {},
   "source": [
    "### plot evaluation metrics, overall and by region. \n",
    "\n",
    "We see that the TA bias is lowest near the western boundary and highest near the Johnstone Strait boundary. Willmott Skill scores are consistently high for a model of this type but lowest in the Northern Strait. We capture much of the variability (ratio of std. devs) and our bias is much less than our root mean square error. \n"
   ]
  },
  {
   "cell_type": "code",
   "execution_count": 54,
   "metadata": {},
   "outputs": [],
   "source": [
    "## calculate observational ratio\n",
    "TA_stdrat = np.zeros([1,5])\n",
    "DIC_stdrat = np.zeros([1,5])\n",
    "\n",
    "for i in range(0,1):\n",
    "    \n",
    "    TA_stdrat[i,:] = TA_modstd[i,:]/TA_obsstd[i,:]\n",
    "    DIC_stdrat[i,:] = DIC_modstd[i,:]/DIC_obsstd[i,:]\n",
    "    \n",
    "    #p\n",
    "    #print(np.divide(TA_modstd[i,:]/TA_obsstd[i,:]))\n",
    "    #DIC_stdrat[i,:] = np.divide(DIC_modstd[i,:]/DIC_obsstd[i,:])"
   ]
  },
  {
   "cell_type": "code",
   "execution_count": 55,
   "metadata": {},
   "outputs": [
    {
     "data": {
      "image/png": "[encoded data removed]",
      "text/plain": [
       "<Figure size 864x864 with 8 Axes>"
      ]
     },
     "metadata": {},
     "output_type": "display_data"
    }
   ],
   "source": [
    "#### extract model DIC and TA for years 2013-2017 \n",
    "\n",
    "plotabs = [DIC_bias, TA_bias, DIC_RMSE, TA_RMSE, DIC_WSS, TA_WSS, DIC_stdrat, TA_stdrat]\n",
    "reglabs = ['JDF','NSOG','CSOG','HARO','full domain']\n",
    "titles = ['DIC bias (umol/L)','TA bias (umol/L)', \\\n",
    "          'DIC RMSE (umol/L)', 'TA RMSE (umol/L)',\\\n",
    "          'DIC Wilmott SS (0-1)', 'TA Wilmott SS (0-1)',\n",
    "         'DIC ratio std. dev (mod/obs)', 'TA ratio std. dev (mod/obs)']\n",
    "\n",
    "yrs = np.arange(2013,2018,1)\n",
    "yrs = 2014\n",
    "fact = 0.6\n",
    "fig, axs = plt.subplots(4,2, figsize=(20*fact, 20*fact), facecolor='w', edgecolor='k')\n",
    "axs = axs.ravel()\n",
    "\n",
    "for i in range(0,8):\n",
    "    tplot = plotabs[i]\n",
    "    \n",
    "    for y in range(0,5):\n",
    "        axs[i].plot(yrs,tplot[:,y],color = reg_cols[y], marker = 'o', label = reglabs[y])\n",
    "        axs[i].set_xticks([2013,2014,2015]); axs[i].set_xlim([2013.5,2014.5])\n",
    "        axs[i].grid(); axs[i].set_title(titles[i])\n",
    "    \n",
    "    if i == 0:\n",
    "        axs[i].legend(ncol =2, loc = 'best')\n",
    "\n",
    "plt.suptitle('Year 2014 evaluation data - by depth')        \n",
    "plt.tight_layout()"
   ]
  },
  {
   "cell_type": "markdown",
   "metadata": {},
   "source": [
    "#### Plot TA model vs. obs, as well as TA vs salinity"
   ]
  },
  {
   "cell_type": "code",
   "execution_count": null,
   "metadata": {},
   "outputs": [],
   "source": []
  },
  {
   "cell_type": "code",
   "execution_count": null,
   "metadata": {},
   "outputs": [],
   "source": []
  },
  {
   "cell_type": "markdown",
   "metadata": {},
   "source": [
    "## binned mean bias as a function of salinity, for whole domain as well as JdF only..."
   ]
  },
  {
   "cell_type": "code",
   "execution_count": 56,
   "metadata": {},
   "outputs": [
    {
     "ename": "IndexError",
     "evalue": "index 1 is out of bounds for axis 0 with size 1",
     "output_type": "error",
     "traceback": [
      "\u001b[0;31m------------------------------------\u001b[0m",
      "\u001b[0;31mIndexError\u001b[0mTraceback (most recent call last)",
      "\u001b[0;32m<ipython-input-56-10d7e657480e>\u001b[0m in \u001b[0;36m<module>\u001b[0;34m\u001b[0m\n\u001b[1;32m      6\u001b[0m     \u001b[0;32mfor\u001b[0m \u001b[0mi\u001b[0m \u001b[0;32min\u001b[0m \u001b[0mrange\u001b[0m\u001b[0;34m(\u001b[0m\u001b[0;36m0\u001b[0m\u001b[0;34m,\u001b[0m\u001b[0mlen\u001b[0m\u001b[0;34m(\u001b[0m\u001b[0mbinned_sal\u001b[0m\u001b[0;34m)\u001b[0m\u001b[0;34m)\u001b[0m\u001b[0;34m:\u001b[0m\u001b[0;34m\u001b[0m\u001b[0;34m\u001b[0m\u001b[0m\n\u001b[1;32m      7\u001b[0m \u001b[0;34m\u001b[0m\u001b[0m\n\u001b[0;32m----> 8\u001b[0;31m         \u001b[0mtsal\u001b[0m \u001b[0;34m=\u001b[0m \u001b[0msal_mod_ar\u001b[0m\u001b[0;34m[\u001b[0m\u001b[0mj\u001b[0m\u001b[0;34m,\u001b[0m\u001b[0;34m:\u001b[0m\u001b[0;34m]\u001b[0m\u001b[0;34m;\u001b[0m \u001b[0mtTA\u001b[0m \u001b[0;34m=\u001b[0m \u001b[0mTA_mod_ar\u001b[0m\u001b[0;34m[\u001b[0m\u001b[0mj\u001b[0m\u001b[0;34m,\u001b[0m\u001b[0;34m:\u001b[0m\u001b[0;34m]\u001b[0m\u001b[0;34m\u001b[0m\u001b[0;34m\u001b[0m\u001b[0m\n\u001b[0m\u001b[1;32m      9\u001b[0m         \u001b[0mtsal_sel\u001b[0m \u001b[0;34m=\u001b[0m \u001b[0;34m(\u001b[0m\u001b[0mtsal\u001b[0m \u001b[0;34m>=\u001b[0m \u001b[0mbinned_sal\u001b[0m\u001b[0;34m[\u001b[0m\u001b[0mi\u001b[0m\u001b[0;34m]\u001b[0m\u001b[0;34m)\u001b[0m \u001b[0;34m&\u001b[0m \u001b[0;34m(\u001b[0m\u001b[0mtsal\u001b[0m \u001b[0;34m<\u001b[0m \u001b[0mbinned_sal\u001b[0m\u001b[0;34m[\u001b[0m\u001b[0mi\u001b[0m\u001b[0;34m]\u001b[0m\u001b[0;34m+\u001b[0m\u001b[0;36m0.5\u001b[0m\u001b[0;34m)\u001b[0m\u001b[0;34m\u001b[0m\u001b[0;34m\u001b[0m\u001b[0m\n\u001b[1;32m     10\u001b[0m         \u001b[0mbinned_mean_bias\u001b[0m\u001b[0;34m[\u001b[0m\u001b[0mj\u001b[0m\u001b[0;34m,\u001b[0m\u001b[0mi\u001b[0m\u001b[0;34m]\u001b[0m \u001b[0;34m=\u001b[0m \u001b[0mnp\u001b[0m\u001b[0;34m.\u001b[0m\u001b[0mnanmean\u001b[0m\u001b[0;34m(\u001b[0m\u001b[0mtTA\u001b[0m\u001b[0;34m[\u001b[0m\u001b[0mtsal_sel\u001b[0m\u001b[0;34m]\u001b[0m\u001b[0;34m-\u001b[0m\u001b[0mTA_compbl\u001b[0m\u001b[0;34m[\u001b[0m\u001b[0mtsal_sel\u001b[0m\u001b[0;34m]\u001b[0m\u001b[0;34m)\u001b[0m\u001b[0;34m\u001b[0m\u001b[0;34m\u001b[0m\u001b[0m\n",
      "\u001b[0;31mIndexError\u001b[0m: index 1 is out of bounds for axis 0 with size 1"
     ]
    }
   ],
   "source": [
    "binned_sal = np.arange(10,35,0.5)\n",
    "binned_mean_bias = np.zeros([5,len(binned_sal)])\n",
    "\n",
    "\n",
    "for j in range (0,5):\n",
    "    for i in range(0,len(binned_sal)):\n",
    "        \n",
    "        tsal = sal_mod_ar[j,:]; tTA = TA_mod_ar[j,:]\n",
    "        tsal_sel = (tsal >= binned_sal[i]) & (tsal < binned_sal[i]+0.5)\n",
    "        binned_mean_bias[j,i] = np.nanmean(tTA[tsal_sel]-TA_compbl[tsal_sel])\n",
    "\n",
    "binned_mean_bias_jdf = np.zeros([5,len(binned_sal)])\n",
    "\n",
    "for j in range (0,5):\n",
    "    for i in range(0,len(binned_sal)):\n",
    "        \n",
    "        tsal = sal_mod_ar[j,:]; tTA = TA_mod_ar[j,:]\n",
    "        tsal_sel = (tsal >= binned_sal[i]) & (tsal < binned_sal[i]+0.5) & (loc_tag_compbl ==1)\n",
    "        binned_mean_bias_jdf[j,i] = np.nanmean(tTA[tsal_sel]-TA_compbl[tsal_sel])\n",
    "    "
   ]
  },
  {
   "cell_type": "code",
   "execution_count": null,
   "metadata": {},
   "outputs": [],
   "source": [
    "print()\n",
    "print('points available for comparison in JdF')\n",
    "print(np.shape(loc_tag_compbl[loc_tag_compbl == 1]))\n",
    "print('points in comparison where sal >= 30 g/kg (year 2013)')\n",
    "print(np.shape(loc_tag_compbl[sal_mod_ar[0,:] >=30]))\n",
    "print('points in JdF with salinity > 30')\n",
    "print(np.shape(loc_tag_compbl[(sal_mod_ar[0,:] >=30) & (loc_tag_compbl == 1) ]))\n",
    "print('points in JdF with salinity > 31')\n",
    "print(np.shape(loc_tag_compbl[(sal_mod_ar[0,:] >=31) & (loc_tag_compbl == 1) ]))\n",
    "print('points in JdF with salinity > 32')\n",
    "print(np.shape(loc_tag_compbl[(sal_mod_ar[0,:] >=32)]))\n",
    "print('points in JdF with salinity > 33')\n",
    "print(np.shape(loc_tag_compbl[(sal_mod_ar[0,:] >=33)]))\n",
    "print('points in JdF with salinity > 34')\n",
    "print(np.shape(loc_tag_compbl[(sal_mod_ar[0,:] >=34)]))"
   ]
  },
  {
   "cell_type": "code",
   "execution_count": null,
   "metadata": {},
   "outputs": [],
   "source": [
    "colours = ['red','darkgrey','teal','orange','skyblue']\n",
    "fact = 0.4\n",
    "axs = axs.ravel()\n",
    "fig, axs = plt.subplots(3,1, figsize=(27*fact, 21*fact), facecolor='w', edgecolor='k')\n",
    "\n",
    "\n",
    "for i in range(0,5):\n",
    "        axs[0].plot(binned_sal,binned_mean_bias[i,:],color = colours[i], marker = '.', \n",
    "                    linestyle = '-', label = str(i+2013))\n",
    "        axs[0].grid(); axs[0].set_xlabel('Model Salinity'); axs[0].set_ylabel('mean model TA bias ')\n",
    "        axs[0].set_title('Model bias as a function of salinity (binned by 0.5 g/kg intervals)')\n",
    "        axs[0].legend()\n",
    "        \n",
    "        \n",
    "        axs[1].plot(binned_sal,binned_mean_bias[i,:],color = colours[i], marker = '.', \n",
    "                    linestyle = '-', label = str(i+2013))\n",
    "        axs[1].set_xlim([30,35]);axs[1].set_ylim([-50,50]);\n",
    "        axs[1].plot([30,35],[0,0],'k-')\n",
    "        axs[1].grid()\n",
    "        axs[1].set_title('zoom-in of the above')\n",
    "        \n",
    "        axs[2].plot(binned_sal,binned_mean_bias_jdf[i,:],color = colours[i], marker = '.', \n",
    "                    linestyle = '-', label = str(i+2013))\n",
    "        axs[2].set_xlim([30,35]);axs[2].set_ylim([-50,50]);\n",
    "        axs[2].plot([30,35],[0,0],'k-')\n",
    "        axs[2].grid()\n",
    "        axs[2].set_title('bias just for JdF')\n",
    "        #axs[0].plot([0,2400],[0,2400],'k-')\n",
    "        \n",
    "plt.tight_layout()"
   ]
  },
  {
   "cell_type": "code",
   "execution_count": null,
   "metadata": {},
   "outputs": [],
   "source": [
    "np.shape(loc_tag_compbl)"
   ]
  },
  {
   "cell_type": "markdown",
   "metadata": {},
   "source": [
    "## exploring TA-salinity regressions"
   ]
  },
  {
   "cell_type": "code",
   "execution_count": null,
   "metadata": {},
   "outputs": [],
   "source": [
    "slopeTA, interceptTA, r_valueTA, p_valueTA, std_errTA = stats.linregress(sal_compbl,TA_compbl)\n",
    "lineTA = slopeTA*sal_compbl+interceptTA\n",
    "slopeTA_1, interceptTA_1, r_valueTA_1, p_valueTA_1, std_errTA_1 = \\\n",
    "stats.linregress(sal_compbl[loc_tag_compbl ==1],TA_compbl[loc_tag_compbl ==1])\n",
    "lineTA_1 = slopeTA_1*sal_compbl[loc_tag_compbl ==1]+interceptTA_1\n",
    "slopeTA_2, interceptTA_2, r_valueTA_2, p_valueTA_2, std_errTA_2 = \\\n",
    "stats.linregress(sal_compbl[loc_tag_compbl ==2],TA_compbl[loc_tag_compbl ==2])\n",
    "lineTA_2 = slopeTA_2*sal_compbl[loc_tag_compbl ==2]+interceptTA_2\n",
    "slopeTA_3, interceptTA_3, r_valueTA_3, p_valueTA_3, std_errTA_3 = \\\n",
    "stats.linregress(sal_compbl[loc_tag_compbl ==3],TA_compbl[loc_tag_compbl ==3])\n",
    "lineTA_3 = slopeTA_3*sal_compbl[loc_tag_compbl ==3]+interceptTA_3\n",
    "slopeTA_4, interceptTA_4, r_valueTA_4, p_valueTA_4, std_errTA_4 = \\\n",
    "stats.linregress(sal_compbl[loc_tag_compbl ==4],TA_compbl[loc_tag_compbl ==4])\n",
    "lineTA_4 = slopeTA_4*sal_compbl[loc_tag_compbl ==4]+interceptTA_4"
   ]
  },
  {
   "cell_type": "code",
   "execution_count": null,
   "metadata": {},
   "outputs": [],
   "source": []
  },
  {
   "cell_type": "code",
   "execution_count": null,
   "metadata": {},
   "outputs": [],
   "source": [
    "#TA_compbl, TA_mod_ar #sal_compbl, sal_mod_ar, loc_tag_compbl\n",
    "\n",
    "reglabs = ['JDF','NSOG','CSOG','HARO','full domain']\n",
    "reg_cols = ['k', 'orange','green', 'fuchsia',  'blue']\n",
    "\n",
    "\n",
    "fact = 0.55\n",
    "fig, axs = plt.subplots(1,1, figsize=(15*fact, 15*fact), facecolor='w', edgecolor='k')\n",
    "\n",
    "\n",
    "axs.plot(sal_compbl,TA_compbl,'b.')\n",
    "axs.plot(sal_compbl,lineTA,'b-'); \n",
    "\n",
    "\n",
    "axs.plot(sal_compbl[loc_tag_compbl == 1],TA_compbl[loc_tag_compbl == 1],'k.')\n",
    "axs.plot(sal_compbl[loc_tag_compbl == 1], lineTA_1, linestyle = '-', color = 'k', linewidth = 5)\n",
    "\n",
    "axs.plot(sal_compbl[loc_tag_compbl == 2],TA_compbl[loc_tag_compbl == 2],marker = '.', color = 'orange', linestyle = 'none')\n",
    "axs.plot(sal_compbl[loc_tag_compbl == 2], lineTA_2, linestyle = '-', color = 'orange', linewidth = 5)\n",
    "\n",
    "axs.plot(sal_compbl[loc_tag_compbl == 3],TA_compbl[loc_tag_compbl == 3],marker = '.', color = 'green', linestyle = 'none')\n",
    "axs.plot(sal_compbl[loc_tag_compbl == 3], lineTA_3, linestyle = '-', color = 'green', linewidth = 5)\n",
    "\n",
    "axs.plot(sal_compbl[loc_tag_compbl == 4],TA_compbl[loc_tag_compbl == 4], marker = '.', color = 'fuchsia', linestyle = 'none')\n",
    "axs.plot(sal_compbl[loc_tag_compbl == 4], lineTA_4, linestyle = '-', color = 'fuchsia', linewidth = 5)\n",
    "\n",
    "axs.text(5,2300,f'r^2: {r_valueTA}',fontsize = 14,color = 'blue')\n",
    "axs.text(5,2220,f'JDF r^2: {r_valueTA_1}',fontsize = 14,color = 'black')\n",
    "axs.text(5,2140,f'NSOG r^2: {r_valueTA_2}',fontsize = 14,color = 'orange')\n",
    "axs.text(5,2060,f'CSOG r^2: {r_valueTA_3}',fontsize = 14,color = 'green')\n",
    "axs.text(5,1980,f'HARO r^2: {r_valueTA_4}',fontsize = 14,color = 'fuchsia')\n",
    "axs.grid(); axs.set_title('Derived linear regressions \\n (IANSON 2016 regional dataset)')\n",
    "axs.set_xlabel('salinity (converted to reference salinity g/kg)')\n",
    "axs.set_ylabel('TA (converted to model units uMol/L)')\n",
    "axs.set_xlim([5,35]); axs.set_ylim([1000,2400])\n",
    "\n",
    "#### relationships from data\n",
    "for i in range(0,5):\n",
    "    sal_mod = sal_mod_ar[i,:]; TA_mod = TA_mod_ar[i,:]\n",
    "    slopeTA_mod1, interceptTA_mod1, r_valueTA_mod1, p_valueTA_mod1, std_errTA_mod1 = \\\n",
    "    stats.linregress(sal_mod[loc_tag_compbl ==1],TA_mod[loc_tag_compbl ==1])\n",
    "    #print(slopeTA_mod1)\n",
    "    lineTA_mod1 = slopeTA_mod1*sal_mod[loc_tag_compbl ==1]+interceptTA_mod1\n",
    "    axs.plot(sal_mod[loc_tag_compbl == 1], lineTA_mod1, linestyle = ':', color = 'k')\n",
    "    axs.plot(sal_mod,TA_mod, marker = '+', color = 'black', linestyle = '')\n",
    "    \n",
    "for i in range(0,5):\n",
    "    sal_mod = sal_mod_ar[i,:]; TA_mod = TA_mod_ar[i,:]\n",
    "    slopeTA_mod2, interceptTA_mod2, r_valueTA_mod2, p_valueTA_mod2, std_errTA_mod2 = \\\n",
    "    stats.linregress(sal_mod[loc_tag_compbl ==2],TA_mod[loc_tag_compbl ==2])\n",
    "    #print(slopeTA_mod2)\n",
    "    lineTA_mod2 = slopeTA_mod2*sal_mod[loc_tag_compbl ==2]+interceptTA_mod2\n",
    "    axs.plot(sal_mod[loc_tag_compbl == 2], lineTA_mod2, linestyle = ':', color = 'orange')\n",
    "    axs.plot(sal_mod,TA_mod, marker = '+', color = 'orange', linestyle = '')\n",
    "\n",
    "for i in range(0,5):\n",
    "    sal_mod = sal_mod_ar[i,:]; TA_mod = TA_mod_ar[i,:]\n",
    "    slopeTA_mod3, interceptTA_mod3, r_valueTA_mod3, p_valueTA_mod3, std_errTA_mod3 = \\\n",
    "    stats.linregress(sal_mod[loc_tag_compbl ==3],TA_mod[loc_tag_compbl ==3])\n",
    "    #print(slopeTA_mod3)\n",
    "    lineTA_mod3 = slopeTA_mod3*sal_mod[loc_tag_compbl ==3]+interceptTA_mod3\n",
    "    axs.plot(sal_mod[loc_tag_compbl == 3], lineTA_mod3, linestyle = ':', color = 'green')\n",
    "    axs.plot(sal_mod,TA_mod, marker = '+', color = 'green', linestyle = '')\n",
    "    \n",
    "for i in range(0,5):\n",
    "    sal_mod = sal_mod_ar[i,:]; TA_mod = TA_mod_ar[i,:]\n",
    "    slopeTA_mod4, interceptTA_mod4, r_valueTA_mod4, p_valueTA_mod4, std_errTA_mod4 = \\\n",
    "    stats.linregress(sal_mod[loc_tag_compbl ==4],TA_mod[loc_tag_compbl ==4])\n",
    "    #print(slopeTA_mod4)\n",
    "    lineTA_mod4 = slopeTA_mod4*sal_mod[loc_tag_compbl ==4]+interceptTA_mod4\n",
    "    axs.plot(sal_mod[loc_tag_compbl == 4], lineTA_mod4, linestyle = ':', color = 'fuchsia')\n",
    "    axs.plot(sal_mod,TA_mod, marker = '+', color = 'fuchsia', linestyle = '')\n",
    "    \n",
    "for i in range(0,5):\n",
    "    sal_mod = sal_mod_ar[i,:]; TA_mod = TA_mod_ar[i,:]\n",
    "    slopeTA_mod1, interceptTA_mod1, r_valueTA_mod1, p_valueTA_mod1, std_errTA_mod1 = \\\n",
    "    stats.linregress(sal_mod,TA_mod)\n",
    "    #print(slopeTA_mod1)\n",
    "    lineTA_mod1 = slopeTA_mod1*sal_mod+interceptTA_mod1\n",
    "    axs.plot(sal_mod, lineTA_mod1, linestyle = ':', color = 'b')    \n",
    "    \n",
    "    \n",
    "    \n",
    "axs.grid(); axs.set_title('Derived linear regressions \\n yearly model data 2013-2017 (solid = obs, dotted = model) \\n corresp to points of IANSON 2016 regional dataset - shown as dots)')\n",
    "axs.set_xlabel('salinity (reference salinity g/kg)')\n",
    "axs.set_ylabel('TA (model units uMol/L)'); axs.set_xlim([5,35]); axs.set_ylim([1000,2400])\n",
    "axs.grid()\n",
    "#model stuff\n",
    "\n",
    "#for i in range(0,5):\n",
    "#        axs.plot(TA_compbl,TA_mod_ar[i,:],color = colours[i], marker = '.', linestyle = '', label = str(i+2013))\n"
   ]
  },
  {
   "cell_type": "code",
   "execution_count": null,
   "metadata": {},
   "outputs": [],
   "source": [
    "#TA_compbl, TA_mod_ar #sal_compbl, sal_mod_ar, loc_tag_compbl\n",
    "\n",
    "reglabs = ['JDF','NSOG','CSOG','HARO','full domain']\n",
    "reg_cols = ['k', 'orange','green', 'fuchsia',  'blue']\n",
    "\n",
    "\n",
    "fact = 0.7\n",
    "fig, axsall = plt.subplots(2,2, figsize=(15*fact, 15*fact), facecolor='w', edgecolor='k')\n",
    "axs2 = axsall.ravel()\n",
    "\n",
    "axs = axs2[0]\n",
    "\n",
    "axs.plot(sal_compbl[loc_tag_compbl == 1],TA_compbl[loc_tag_compbl == 1],'k.')\n",
    "slopeTA_compbl1, interceptTA_compbl1, r_valueTA_compbl1, p_valueTA_compbl1, std_errTA_compbl1 = \\\n",
    "    stats.linregress(sal_compbl[loc_tag_compbl ==1],TA_compbl[loc_tag_compbl ==1])\n",
    "lineTA_compbl1 = slopeTA_compbl1*sal_compbl[loc_tag_compbl ==1]+interceptTA_compbl1\n",
    "axs.plot(sal_compbl[loc_tag_compbl == 1], lineTA_compbl1, linestyle = '-', color = 'r', linewidth = 3)\n",
    "\n",
    "for i in range(0,5):\n",
    "    sal_mod = sal_mod_ar[i,:]; TA_mod = TA_mod_ar[i,:]\n",
    "    axs.plot(sal_mod[loc_tag_compbl == 1],TA_mod[loc_tag_compbl == 1],\\\n",
    "             marker = '+', color = 'black', linestyle = '')\n",
    "    slopeTA_mod1, interceptTA_mod1, r_valueTA_mod1, p_valueTA_mod1, std_errTA_mod1 = \\\n",
    "    stats.linregress(sal_mod[loc_tag_compbl ==1],TA_mod[loc_tag_compbl ==1])\n",
    "    lineTA_mod1 = slopeTA_mod1*sal_mod[loc_tag_compbl ==1]+interceptTA_mod1\n",
    "    axs.plot(sal_mod[loc_tag_compbl ==1], lineTA_mod1, linestyle = ':', color = 'black')\n",
    "\n",
    "axs.grid(); axs.set_xlabel('sal g/kg'); axs.set_ylabel('TA umol/L');\n",
    "axs.set_title('JdF obs = dots, model = crosses, \\n obs relationship = red')\n",
    "\n",
    "axs = axs2[1]\n",
    "axs.plot(sal_compbl[loc_tag_compbl ==2],TA_compbl[loc_tag_compbl ==2],'k.')\n",
    "slopeTA_compbl1, interceptTA_compbl1, r_valueTA_compbl1, p_valueTA_compbl1, std_errTA_compbl1 = \\\n",
    "    stats.linregress(sal_compbl[loc_tag_compbl ==2],TA_compbl[loc_tag_compbl ==2])\n",
    "lineTA_compbl1 = slopeTA_compbl1*sal_compbl[loc_tag_compbl ==2]+interceptTA_compbl1\n",
    "axs.plot(sal_compbl[loc_tag_compbl ==2], lineTA_compbl1, linestyle = '-', color = 'r', linewidth = 3)\n",
    "\n",
    "for i in range(0,5):\n",
    "    sal_mod = sal_mod_ar[i,:]; TA_mod = TA_mod_ar[i,:]\n",
    "    axs.plot(sal_mod[loc_tag_compbl ==2],TA_mod[loc_tag_compbl ==2],\\\n",
    "             marker = '+', color = 'black', linestyle = '')\n",
    "    slopeTA_mod1, interceptTA_mod1, r_valueTA_mod1, p_valueTA_mod1, std_errTA_mod1 = \\\n",
    "    stats.linregress(sal_mod[loc_tag_compbl ==2],TA_mod[loc_tag_compbl ==2])\n",
    "    lineTA_mod1 = slopeTA_mod1*sal_mod[loc_tag_compbl ==2]+interceptTA_mod1\n",
    "    axs.plot(sal_mod[loc_tag_compbl ==2], lineTA_mod1, linestyle = ':', color = 'black')\n",
    "axs.grid(); axs.set_xlabel('sal g/kg'); axs.set_ylabel('TA umol/L');\n",
    "axs.set_title('NSOG obs = dots, model = crosses, \\n obs relationship = red')    \n",
    "\n",
    "axs = axs2[2]\n",
    "axs.plot(sal_compbl[loc_tag_compbl ==3],TA_compbl[loc_tag_compbl ==3],'k.')\n",
    "slopeTA_compbl1, interceptTA_compbl1, r_valueTA_compbl1, p_valueTA_compbl1, std_errTA_compbl1 = \\\n",
    "    stats.linregress(sal_compbl[loc_tag_compbl ==3],TA_compbl[loc_tag_compbl ==3])\n",
    "lineTA_compbl1 = slopeTA_compbl1*sal_compbl[loc_tag_compbl ==3]+interceptTA_compbl1\n",
    "axs.plot(sal_compbl[loc_tag_compbl ==3], lineTA_compbl1, linestyle = '-', color = 'r', linewidth = 3)\n",
    "\n",
    "for i in range(0,5):\n",
    "    sal_mod = sal_mod_ar[i,:]; TA_mod = TA_mod_ar[i,:]\n",
    "    axs.plot(sal_mod[loc_tag_compbl ==3],TA_mod[loc_tag_compbl ==3],\\\n",
    "             marker = '+', color = 'black', linestyle = '')\n",
    "    slopeTA_mod1, interceptTA_mod1, r_valueTA_mod1, p_valueTA_mod1, std_errTA_mod1 = \\\n",
    "    stats.linregress(sal_mod[loc_tag_compbl ==3],TA_mod[loc_tag_compbl ==3])\n",
    "    lineTA_mod1 = slopeTA_mod1*sal_mod[loc_tag_compbl ==3]+interceptTA_mod1\n",
    "    axs.plot(sal_mod[loc_tag_compbl ==3], lineTA_mod1, linestyle = ':', color = 'black')\n",
    "axs.grid(); axs.set_xlabel('sal g/kg'); axs.set_ylabel('TA umol/L');\n",
    "axs.set_title('CSOG obs = dots, model = crosses, \\n obs relationship = red') \n",
    "    \n",
    "axs = axs2[3]\n",
    "axs.plot(sal_compbl[loc_tag_compbl ==4],TA_compbl[loc_tag_compbl ==4],'k.')\n",
    "slopeTA_compbl1, interceptTA_compbl1, r_valueTA_compbl1, p_valueTA_compbl1, std_errTA_compbl1 = \\\n",
    "    stats.linregress(sal_compbl[loc_tag_compbl ==4],TA_compbl[loc_tag_compbl ==4])\n",
    "lineTA_compbl1 = slopeTA_compbl1*sal_compbl[loc_tag_compbl ==4]+interceptTA_compbl1\n",
    "axs.plot(sal_compbl[loc_tag_compbl ==4], lineTA_compbl1, linestyle = '-', color = 'r', linewidth = 3)\n",
    "\n",
    "for i in range(0,5):\n",
    "    sal_mod = sal_mod_ar[i,:]; TA_mod = TA_mod_ar[i,:]\n",
    "    axs.plot(sal_mod[loc_tag_compbl ==4],TA_mod[loc_tag_compbl ==4],\\\n",
    "             marker = '+', color = 'black', linestyle = '')\n",
    "    slopeTA_mod1, interceptTA_mod1, r_valueTA_mod1, p_valueTA_mod1, std_errTA_mod1 = \\\n",
    "    stats.linregress(sal_mod[loc_tag_compbl ==4],TA_mod[loc_tag_compbl ==4])\n",
    "    lineTA_mod1 = slopeTA_mod1*sal_mod[loc_tag_compbl ==4]+interceptTA_mod1\n",
    "    axs.plot(sal_mod[loc_tag_compbl ==4], lineTA_mod1, linestyle = ':', color = 'black')\n",
    "axs.grid(); axs.set_xlabel('sal g/kg'); axs.set_ylabel('TA umol/L');\n",
    "axs.set_title('HARO obs = dots, model = crosses, \\n obs relationship = red') \n",
    "\n",
    "plt.tight_layout()"
   ]
  },
  {
   "cell_type": "markdown",
   "metadata": {},
   "source": [
    "### Parker's code to calculate alkalinity\n",
    "\n",
    "##### note that they are in psu. however alk is in uM > classic model units\n",
    "\n",
    "    elif vn == 'alkalinity':\n",
    "        mm = 0*salt\n",
    "        bb = 0*salt\n",
    "        if np.nanmax(salt) > 36:\n",
    "            print('Salt out of range for alkalinity regression')\n",
    "        # Salinity vs. alkalinity [uM]\n",
    "        # alkalinity = mm*salt + bb\n",
    "        ind = (salt < 31.477)\n",
    "        mm[ind] = 37.0543\n",
    "        bb[ind] = 1031.0726\n",
    "        ind = ((salt >= 31.477) & (salt < 33.915))\n",
    "        mm[ind] = 48.5821\n",
    "        bb[ind] = 668.2143\n",
    "        ind = ((salt >= 33.915) & (salt < 35))\n",
    "        mm[ind] = 246.2214\n",
    "        bb[ind] = -6034.6841\n",
    "        alkalinity = mm*salt + bb\n",
    "        return alkalinity\n",
    "        \n",
    " -- plot our JS data regression\n",
    " -- plot theirs\n",
    " "
   ]
  },
  {
   "cell_type": "code",
   "execution_count": null,
   "metadata": {},
   "outputs": [],
   "source": [
    "def alkfinder(salt):\n",
    "    mm = 0\n",
    "    bb = 0\n",
    "    if np.nanmax(salt) > 36:\n",
    "        print('Salt out of range for alkalinity regression')\n",
    "    # Salinity vs. alkalinity [uM]\n",
    "    # alkalinity = mm*salt + bb\n",
    "    if (salt < 31.477):\n",
    "        mm = 37.0543\n",
    "        bb = 1031.0726\n",
    "    if ((salt >= 31.477) & (salt < 33.915)):\n",
    "        mm = 48.5821\n",
    "        bb = 668.2143\n",
    "    if ((salt >= 33.915) & (salt < 35)):\n",
    "        mm = 246.2214\n",
    "        bb = -6034.6841\n",
    "    alkalinity = mm*salt + bb\n",
    "    return alkalinity\n",
    "\n",
    "salt_PM = np.arange(24,35,0.1)\n",
    "alk_PM = np.zeros_like(salt_PM)\n",
    "\n",
    "for i in range(0,len(alk_PM)):\n",
    "    alk_PM[i] = alkfinder(salt_PM[i])\n",
    "saltRS_PM = salt_PM * 35.16504/35\n",
    "\n",
    "#our northern boundary \n",
    "alk_JS = 42.62406567350401*saltRS_PM + 835.5069210175448"
   ]
  },
  {
   "cell_type": "code",
   "execution_count": null,
   "metadata": {},
   "outputs": [],
   "source": [
    " \n"
   ]
  },
  {
   "cell_type": "code",
   "execution_count": null,
   "metadata": {},
   "outputs": [],
   "source": [
    "#TA_compbl, TA_mod_ar #sal_compbl, sal_mod_ar, loc_tag_compbl\n",
    "\n",
    "reglabs = ['JDF','NSOG','CSOG','HARO','full domain']\n",
    "reg_cols = ['k', 'orange','green', 'fuchsia',  'blue']\n",
    "\n",
    "\n",
    "fact = 0.8\n",
    "fig, axs = plt.subplots(1,1, figsize=(10*fact, 10*fact), facecolor='w', edgecolor='k')\n",
    "#axs = axs.ravel()\n",
    "\n",
    "axs.plot(sal_compbl,TA_compbl,'b.')\n",
    "axs.plot(sal_compbl,lineTA,'b-'); \n",
    "\n",
    "\n",
    "axs.plot(sal_compbl[loc_tag_compbl == 1],TA_compbl[loc_tag_compbl == 1],'k.')\n",
    "axs.plot(sal_compbl[loc_tag_compbl == 1], lineTA_1, linestyle = '-', color = 'k')\n",
    "\n",
    "axs.plot(sal_compbl[loc_tag_compbl == 2],TA_compbl[loc_tag_compbl == 2],marker = '.', color = 'orange', linestyle = 'none')\n",
    "axs.plot(sal_compbl[loc_tag_compbl == 2], lineTA_2, linestyle = '-', color = 'orange')\n",
    "\n",
    "axs.plot(sal_compbl[loc_tag_compbl == 3],TA_compbl[loc_tag_compbl == 3],marker = '.', color = 'green', linestyle = 'none')\n",
    "axs.plot(sal_compbl[loc_tag_compbl == 3], lineTA_3, linestyle = '-', color = 'green')\n",
    "\n",
    "axs.plot(sal_compbl[loc_tag_compbl == 4],TA_compbl[loc_tag_compbl == 4], marker = '.', color = 'fuchsia', linestyle = 'none')\n",
    "axs.plot(sal_compbl[loc_tag_compbl == 4], lineTA_4, linestyle = '-', color = 'fuchsia')\n",
    "axs.plot(saltRS_PM,alk_PM,linestyle = '-', color = 'red', linewidth = 4, label = 'LiveOcean Bound.Cond. TA:S relationship')\n",
    "axs.plot(saltRS_PM,alk_JS,linestyle = '-', color = 'skyblue', linewidth = 4, label = 'Johnstone Strait relationship in SKOG')\n",
    "\n",
    "axs.text(5,2300,f'r^2: {r_valueTA}',fontsize = 14,color = 'blue')\n",
    "axs.text(5,2220,f'JDF r^2: {r_valueTA_1}',fontsize = 14,color = 'black')\n",
    "axs.text(5,2140,f'NSOG r^2: {r_valueTA_2}',fontsize = 14,color = 'orange')\n",
    "axs.text(5,2060,f'CSOG r^2: {r_valueTA_3}',fontsize = 14,color = 'green')\n",
    "axs.text(5,1980,f'HARO r^2: {r_valueTA_4}',fontsize = 14,color = 'fuchsia')\n",
    "axs.grid(); axs.set_title('Derived linear regressions \\n (IANSON 2016 regional dataset)')\n",
    "axs.legend(loc=4)\n",
    "axs.set_xlabel('salinity (converted to reference salinity g/kg)')\n",
    "axs.set_ylabel('TA (converted to model units uMol/L)')\n",
    "axs.set_xlim([5,35]); axs.set_ylim([1000,2400])\n",
    "\n"
   ]
  },
  {
   "cell_type": "code",
   "execution_count": null,
   "metadata": {},
   "outputs": [],
   "source": [
    "#TA_compbl, TA_mod_ar #sal_compbl, sal_mod_ar, loc_tag_compbl\n",
    "\n",
    "reglabs = ['JDF','NSOG','CSOG','HARO','full domain']\n",
    "reg_cols = ['k', 'orange','green', 'fuchsia',  'blue']\n",
    "\n",
    "\n",
    "fact = 0.8\n",
    "fig, axs = plt.subplots(1,1, figsize=(10*fact, 10*fact), facecolor='w', edgecolor='k')\n",
    "#axs = axs.ravel()\n",
    "\n",
    "axs.plot(sal_compbl,TA_compbl,'b.')\n",
    "axs.plot(sal_compbl,lineTA,'b-'); \n",
    "\n",
    "\n",
    "axs.plot(sal_compbl[loc_tag_compbl == 1],TA_compbl[loc_tag_compbl == 1],'k.')\n",
    "axs.plot(sal_compbl[loc_tag_compbl == 1], lineTA_1, linestyle = '-', color = 'k', label = 'JDF')\n",
    "\n",
    "axs.plot(sal_compbl[loc_tag_compbl == 2],TA_compbl[loc_tag_compbl == 2],marker = '.', color = 'orange', linestyle = 'none')\n",
    "axs.plot(sal_compbl[loc_tag_compbl == 2], lineTA_2, linestyle = '-', color = 'orange', label = 'NSOG')\n",
    "\n",
    "axs.plot(sal_compbl[loc_tag_compbl == 3],TA_compbl[loc_tag_compbl == 3],marker = '.', color = 'green', linestyle = 'none')\n",
    "axs.plot(sal_compbl[loc_tag_compbl == 3], lineTA_3, linestyle = '-', color = 'green', label = 'CSOG')\n",
    "\n",
    "axs.plot(sal_compbl[loc_tag_compbl == 4],TA_compbl[loc_tag_compbl == 4], marker = '.', color = 'fuchsia', linestyle = 'none')\n",
    "axs.plot(sal_compbl[loc_tag_compbl == 4], lineTA_4, linestyle = '-', color = 'fuchsia', label = 'HARO')\n",
    "axs.plot(saltRS_PM,alk_PM,linestyle = '-', color = 'red', linewidth = 4, label = 'LiveOcean Bound.Cond. TA:S relationship')\n",
    "axs.plot(saltRS_PM,alk_JS,linestyle = '-', color = 'skyblue', linewidth = 4, label = 'Johnstone Strait relationship in SKOG')\n",
    "\n",
    "axs.grid(); axs.set_title('Derived linear regressions \\n (IANSON 2016 regional dataset) \\n and LO and JS linear regressions')\n",
    "axs.legend(loc=4)\n",
    "axs.set_xlabel('salinity (converted to reference salinity g/kg)')\n",
    "axs.set_ylabel('TA (converted to model units uMol/L)')\n",
    "axs.set_xlim([25,35]); axs.set_ylim([1800,2400])\n"
   ]
  },
  {
   "cell_type": "code",
   "execution_count": null,
   "metadata": {},
   "outputs": [],
   "source": []
  },
  {
   "cell_type": "code",
   "execution_count": null,
   "metadata": {},
   "outputs": [],
   "source": []
  },
  {
   "cell_type": "code",
   "execution_count": null,
   "metadata": {},
   "outputs": [],
   "source": []
  }
 ],
 "metadata": {
  "kernelspec": {
   "display_name": "Python 3",
   "language": "python",
   "name": "python3"
  },
  "language_info": {
   "codemirror_mode": {
    "name": "ipython",
    "version": 3
   },
   "file_extension": ".py",
   "mimetype": "text/x-python",
   "name": "python",
   "nbconvert_exporter": "python",
   "pygments_lexer": "ipython3",
   "version": "3.7.4"
  }
 },
 "nbformat": 4,
 "nbformat_minor": 2
}
