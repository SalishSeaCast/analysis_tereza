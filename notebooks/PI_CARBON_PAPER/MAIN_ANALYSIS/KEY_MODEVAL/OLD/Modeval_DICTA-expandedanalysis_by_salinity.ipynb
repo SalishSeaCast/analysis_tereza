{
 "cells": [
  {
   "cell_type": "code",
   "execution_count": 1,
   "metadata": {},
   "outputs": [
    {
     "data": {
      "application/javascript": [
       "IPython.OutputArea.prototype._should_scroll = function(lines) {\n",
       "    return false;\n",
       "}\n"
      ],
      "text/plain": [
       "<IPython.core.display.Javascript object>"
      ]
     },
     "metadata": {},
     "output_type": "display_data"
    }
   ],
   "source": [
    "%%javascript\n",
    "IPython.OutputArea.prototype._should_scroll = function(lines) {\n",
    "    return false;\n",
    "}"
   ]
  },
  {
   "cell_type": "code",
   "execution_count": 2,
   "metadata": {},
   "outputs": [
    {
     "name": "stdout",
     "output_type": "stream",
     "text": [
      "Once deleted, variables cannot be recovered. Proceed (y/[n])? y\n"
     ]
    }
   ],
   "source": [
    "%reset"
   ]
  },
  {
   "cell_type": "code",
   "execution_count": 3,
   "metadata": {},
   "outputs": [
    {
     "data": {
      "text/html": [
       "<script>\n",
       "code_show=true; \n",
       "function code_toggle() {\n",
       " if (code_show){\n",
       " $('div.input').hide();\n",
       " } else {\n",
       " $('div.input').show();\n",
       " }\n",
       " code_show = !code_show\n",
       "} \n",
       "$( document ).ready(code_toggle);\n",
       "</script>\n",
       "<form action=\"javascript:code_toggle()\"><input type=\"submit\" value=\"Click here to toggle on/off the raw code.\"></form>"
      ],
      "text/plain": [
       "<IPython.core.display.HTML object>"
      ]
     },
     "execution_count": 3,
     "metadata": {},
     "output_type": "execute_result"
    }
   ],
   "source": [
    "from IPython.display import HTML\n",
    "\n",
    "HTML('''<script>\n",
    "code_show=true; \n",
    "function code_toggle() {\n",
    " if (code_show){\n",
    " $('div.input').hide();\n",
    " } else {\n",
    " $('div.input').show();\n",
    " }\n",
    " code_show = !code_show\n",
    "} \n",
    "$( document ).ready(code_toggle);\n",
    "</script>\n",
    "<form action=\"javascript:code_toggle()\"><input type=\"submit\" value=\"Click here to toggle on/off the raw code.\"></form>''')"
   ]
  },
  {
   "cell_type": "markdown",
   "metadata": {},
   "source": [
    "# Evaluation of model DIC and TA bias matched to salinity\n",
    "\n",
    "**Notebook overview:** We understand that our carbon model, SalishSeaCast-SKØG, has a slight bias ($\\sim$+25 umol/L) in the total alkalinity field. This small bias results in a non-negligible bias in the environmentally-relevant $\\Omega_A$ metric that we often consider ($\\sim$+0.2). However"
   ]
  },
  {
   "cell_type": "code",
   "execution_count": 4,
   "metadata": {},
   "outputs": [],
   "source": [
    "#imports\n",
    "import numpy as np\n",
    "import xarray as xr\n",
    "import matplotlib.pyplot as plt\n",
    "import seawater\n",
    "import netCDF4 as nc\n",
    "from scipy import stats\n",
    "\n",
    "from numpy import *\n",
    "from scipy import *\n",
    "\n",
    "import netCDF4 as nc\n",
    "import numpy as np\n",
    "import scipy as sp\n",
    "import cmocean\n",
    "import glob\n",
    "import seawater\n",
    "import arrow\n",
    "from salishsea_tools import (\n",
    "    nc_tools,\n",
    "    viz_tools,\n",
    "    geo_tools,\n",
    "    tidetools\n",
    ")\n",
    "\n",
    "import warnings\n",
    "warnings.filterwarnings('ignore')"
   ]
  },
  {
   "cell_type": "code",
   "execution_count": 5,
   "metadata": {},
   "outputs": [],
   "source": [
    "infil = np.loadtxt('./Datasets/grl2016_nu.txt')\n",
    "\n",
    "crid= infil[:,0]\n",
    "ln = infil[:,2]\n",
    "stn = infil[:,3]\n",
    "mon = infil[:,4]\n",
    "day = infil[:,5]\n",
    "lat_or = infil[:,6]\n",
    "lon_or = infil[:,7]\n",
    "lat = infil[:,6]\n",
    "lon = infil[:,7]\n",
    "P = infil[:,8]\n",
    "T = infil[:,9]\n",
    "S = infil[:,10]\n",
    "ox = infil[:,11]\n",
    "ox_qf = infil[:,12]\n",
    "dic = infil[:,13]\n",
    "alk = infil[:,15]\n",
    "dic_qf = infil[:,14]\n",
    "alk_qf = infil[:,16]\n",
    "no3 = infil[:,17]\n",
    "no3_qf = infil[:,18]\n",
    "si = infil[:,19]\n",
    "si_qf = infil[:, 20]\n",
    "po4 = infil[:,21]\n",
    "po4_qf = infil[:, 22]\n",
    "\n",
    "\n",
    "\n",
    "##add model coords\n",
    "obs_i = np.zeros_like(alk)\n",
    "obs_j = np.zeros_like(alk)\n",
    "moddepth = np.zeros_like(alk)\n",
    "depthdist_modobs = np.zeros_like(alk)\n",
    "\n",
    "mesh = nc.Dataset('/data/tjarniko/MEOPAR/grid/bathymetry_201702.nc')\n",
    "grid = nc.Dataset('/data/tjarniko/MEOPAR/grid/mesh_mask201702.nc')\n",
    "nav_lon = mesh.variables['nav_lon'][:]\n",
    "nav_lat = mesh.variables['nav_lat'][:]\n",
    "bathy = mesh.variables['Bathymetry'][:]\n",
    "depth = grid.variables['gdept_1d'][:]\n",
    "\n",
    "dist = []\n",
    "for w in range(0,len(lat)):\n",
    "    j, i = geo_tools.find_closest_model_point(lon[w],lat[w],nav_lon,nav_lat)\n",
    "    obs_j[w] = j\n",
    "    obs_i[w] = i\n",
    "    close = np.abs(depth-P[w])\n",
    "    # smallest\n",
    "    depthdist_modobs[w] = (np.min(close))\n",
    "    moddepth[w] = (np.argmin(close))\n",
    "    "
   ]
  },
  {
   "cell_type": "code",
   "execution_count": null,
   "metadata": {},
   "outputs": [],
   "source": []
  },
  {
   "cell_type": "code",
   "execution_count": 6,
   "metadata": {},
   "outputs": [
    {
     "name": "stdout",
     "output_type": "stream",
     "text": [
      "(425,)\n"
     ]
    }
   ],
   "source": [
    "mask = (((dic_qf==2) | (dic_qf==6)) & \\\n",
    "        ((alk_qf==2) | (alk_qf==6)) & \\\n",
    "        (dic > 0) & (alk >0))\n",
    "print(np.shape(dic[mask]))\n",
    "\n",
    "### get accessable subset\n",
    "\n",
    "\n",
    "dens = seawater.dens(S,T,P)\n",
    "sal_conv = S * 35.16504/35\n",
    "# CONVERT FROM UMOL TO MMOL/M3\n",
    "ta_conv=alk*dens/1000\n",
    "dic_conv=dic*dens/1000\n",
    "sal_conv = S * 35.16504/35\n",
    "\n",
    "### subset, converted to model units\n",
    "dic_SSconv = dic_conv[mask]\n",
    "ta_SSconv = ta_conv[mask]\n",
    "sal_SSconv = sal_conv[mask]\n",
    "depth_SSconv = P[mask]; lat_SSconv = lat[mask]; lon_SSconv = lon[mask]\n",
    "mon_SSconv = mon[mask]; day_SSconv = day[mask]; i_SSconv = obs_i[mask].astype(int);\n",
    "j_SSconv = (obs_j[mask].astype(int))\n",
    "moddepth_SSconv = moddepth[mask]; depthdist_modobs_SSconv = depthdist_modobs[mask]\n"
   ]
  },
  {
   "cell_type": "code",
   "execution_count": 7,
   "metadata": {},
   "outputs": [],
   "source": [
    "def find_model_dat_bysal(w, yr):\n",
    "    \n",
    "    sal_marker = 1\n",
    "    lb_loc = np.nan; ub_loc = np.nan\n",
    "    TA_int = np.nan; DIC_int = np.nan; temp_int = np.nan\n",
    "    \n",
    "    #find data file \n",
    "    mon = mon_SSconv[w]; day = day_SSconv[w]\n",
    "    tdate = f'{yr}-{int(mon)}-{int(day)}'\n",
    "    td = arrow.get(tdate)\n",
    "    ymd = td.format('YYYYMMDD')\n",
    "    #print(ymd)\n",
    "    \n",
    "    #open the relevant carp and grid files\n",
    "    ptd = f'/data/tjarniko/results/hindcast.201905_dayavg_DIC-TA-T-S/carp_1d_{ymd}.nc'\n",
    "    ptd2 = glob.glob(ptd)\n",
    "    carpnc = nc.Dataset(ptd2[0])\n",
    "    ptd = f'/data/tjarniko/results/hindcast.201905_dayavg_DIC-TA-T-S/grid_1d_{ymd}.nc'\n",
    "    ptd2 = glob.glob(ptd)\n",
    "    gridnc = nc.Dataset(ptd2[0])\n",
    "    \n",
    "    # extract salinity, temperature, etc\n",
    "    salvec = gridnc['model_output']['SAL'][:,j_SSconv[w],i_SSconv[w]]\n",
    "    salvec[salvec == 0] = np.nan\n",
    "    \n",
    "    tempvec = gridnc['model_output']['TEMP'][:,j_SSconv[w],i_SSconv[w]]\n",
    "    tempvec[tempvec == 0] = np.nan\n",
    "\n",
    "    TAvec = carpnc['model_output']['TA'][:,j_SSconv[w],i_SSconv[w]]\n",
    "    TAvec[TAvec == 0] = np.nan\n",
    "\n",
    "    DICvec = carpnc['model_output']['DIC'][:,j_SSconv[w],i_SSconv[w]]\n",
    "    DICvec[DICvec == 0] = np.nan\n",
    "    \n",
    "\n",
    "    try:\n",
    "        sal_lb = (np.max(salvec[salvec<sal_SSconv[w]]))\n",
    "        lb_loc = np.where(salvec == sal_lb)\n",
    "        lb_loc = lb_loc[0][0]\n",
    "    except:\n",
    "        #print(f'obs fresher than all mod points here, mod min sal is:{np.nanmin(salvec)}')\n",
    "        sal_marker = 2\n",
    "    ### min of things higher than the obs\n",
    "    try:\n",
    "        sal_ub = (np.min(salvec[salvec>sal_SSconv[w]]))\n",
    "        ub_loc = np.where(salvec == sal_ub)\n",
    "        ub_loc = ub_loc[0][0]\n",
    "    except:\n",
    "        #print(f'obs saltier than all mod points here, mod max sal is:{np.nanmax(salvec)}')\n",
    "        sal_marker = 3\n",
    "\n",
    "    if sal_marker == 1:\n",
    "        \n",
    "        #finding lower (lb) and upper (ub) bounds\n",
    "        TA_lb = TAvec[lb_loc]; DIC_lb = DICvec[lb_loc]; temp_lb = tempvec[lb_loc]; \n",
    "        TA_ub = TAvec[ub_loc]; DIC_ub = DICvec[ub_loc]; temp_ub = tempvec[ub_loc]; \n",
    "        \n",
    "        \n",
    "        saldiff = sal_ub-sal_lb\n",
    "        #where between the two salinity model measurements are we (interpolation)\n",
    "        sal_extraprop = (sal_SSconv[w] - sal_lb)/saldiff\n",
    "        \n",
    "        #interpolation of TA, etc\n",
    "        TAdiff = TA_ub-TA_lb; \n",
    "        TA_int = TA_lb + sal_extraprop * TAdiff\n",
    "        \n",
    "        DICdiff = DIC_ub-DIC_lb; \n",
    "        DIC_int = DIC_lb + sal_extraprop * DICdiff\n",
    "        \n",
    "        tempdiff = temp_ub-temp_lb; \n",
    "        temp_int = temp_lb + sal_extraprop * tempdiff\n",
    "        \n",
    "    gridnc.close(); carpnc.close()\n",
    "    \n",
    "    return lb_loc, ub_loc, sal_marker, TA_int, DIC_int, temp_int\n",
    "    \n",
    "\n"
   ]
  },
  {
   "cell_type": "code",
   "execution_count": null,
   "metadata": {},
   "outputs": [],
   "source": [
    "# lb_loc_ar = np.zeros(425)\n",
    "# ub_loc_ar = np.zeros(425)\n",
    "# sal_marker_ar = np.zeros(425)\n",
    "# TA_int_ar = np.zeros(425)\n",
    "# DIC_int_ar = np.zeros(425)\n",
    "# temp_int_ar = np.zeros(425)\n",
    "\n",
    "# for i in range(0,425):\n",
    "#     if i%10 == 0: \n",
    "#         print(i)\n",
    "#     lb_loc_ar[i], ub_loc_ar[i], sal_marker_ar[i],\\\n",
    "#     TA_int_ar[i], DIC_int_ar[i], temp_int_ar[i] = find_model_dat_bysal(i,2015)"
   ]
  },
  {
   "cell_type": "code",
   "execution_count": null,
   "metadata": {},
   "outputs": [],
   "source": [
    "# lb_loc_ar = np.zeros(425)\n",
    "# ub_loc_ar = np.zeros(425)\n",
    "# sal_marker_ar = np.zeros(425)\n",
    "# TA_int_ar = np.zeros(425)\n",
    "# DIC_int_ar = np.zeros(425)\n",
    "# temp_int_ar = np.zeros(425)"
   ]
  },
  {
   "cell_type": "code",
   "execution_count": null,
   "metadata": {},
   "outputs": [],
   "source": [
    "# ncname = 'YR2015_salspace_modeval.nc'\n",
    "# f = nc.Dataset(ncname,'w', format='NETCDF4') #'w' stands for write\n",
    "# g = f.createGroup('model_output')\n",
    "# g.createDimension('ref', 425)\n",
    "# ts = g.createVariable('model_j','f4',('ref'))\n",
    "# ts[:] = j_SSconv[:]\n",
    "# ts = g.createVariable('model_i','f4',('ref'))\n",
    "# ts[:] = i_SSconv[:]\n",
    "# ts = g.createVariable('lb_loc','f4',('ref'))\n",
    "# ts[:] = lb_loc_ar[:]\n",
    "# ts2 = g.createVariable('ub_loc','f4',('ref'))\n",
    "# ts2[:] = ub_loc_ar[:]\n",
    "# ts3 = g.createVariable('sal_marker','f4',('ref'))\n",
    "# ts3[:] = sal_marker_ar[:]\n",
    "# ts3 = g.createVariable('TA_int','f4',('ref'))\n",
    "# ts3[:] = TA_int_ar[:]\n",
    "# ts3 = g.createVariable('DIC_int','f4',('ref'))\n",
    "# ts3[:] = DIC_int_ar[:]\n",
    "# ts3 = g.createVariable('temp_int','f4',('ref'))\n",
    "# ts3[:] = temp_int_ar[:]\n",
    "# f.close()"
   ]
  },
  {
   "cell_type": "code",
   "execution_count": null,
   "metadata": {},
   "outputs": [],
   "source": [
    "np.nanmean(TA_ints[~np.isnan(TA_ints)]) - np.nanmean(ta_SSconv[~np.isnan(TA_ints)])"
   ]
  },
  {
   "cell_type": "code",
   "execution_count": null,
   "metadata": {},
   "outputs": [],
   "source": [
    "np.size(sal_marker_ar[sal_marker_ar == 1])"
   ]
  },
  {
   "cell_type": "code",
   "execution_count": null,
   "metadata": {},
   "outputs": [],
   "source": [
    "# ### subset, converted to model units\n",
    "# dic_SSconv = dic_conv[mask]\n",
    "# ta_SSconv = ta_conv[mask]\n",
    "# sal_SSconv = sal_conv[mask]\n",
    "# depth_SSconv = P[mask]; lat_SSconv = lat[mask]; lon_SSconv = lon[mask]\n",
    "# mon_SSconv = mon[mask]; day_SSconv = day[mask]; i_SSconv = obs_i[mask].astype(int);\n",
    "# j_SSconv = (obs_j[mask].astype(int))\n",
    "# moddepth_SSconv = moddepth[mask]; depthdist_modobs_SSconv = depthdist_modobs[mask]\n",
    "\n",
    "\n"
   ]
  },
  {
   "cell_type": "code",
   "execution_count": 17,
   "metadata": {},
   "outputs": [],
   "source": [
    "\n",
    "# f = nc.Dataset(ncname,'w', format='NETCDF4') #'w' stands for write\n",
    "# g = f.createGroup('model_output')\n",
    "# g.createDimension('ref', 425)\n",
    "# ts = g.createVariable('model_j','f4',('ref'))\n",
    "# ts[:] = j_SSconv[:]\n",
    "# ts = g.createVariable('model_i','f4',('ref'))\n",
    "# ts[:] = i_SSconv[:]\n",
    "# ts = g.createVariable('lb_loc','f4',('ref'))\n",
    "# ts[:] = lb_loc_ar[:]\n",
    "# ts2 = g.createVariable('ub_loc','f4',('ref'))\n",
    "# ts2[:] = ub_loc_ar[:]\n",
    "# ts3 = g.createVariable('sal_marker','f4',('ref'))\n",
    "# ts3[:] = sal_marker_ar[:]\n",
    "# ts3 = g.createVariable('TA_int','f4',('ref'))\n",
    "# ts3[:] = TA_int_ar[:]\n",
    "# ts3 = g.createVariable('DIC_int','f4',('ref'))\n",
    "# ts3[:] = DIC_int_ar[:]\n",
    "# ts3 = g.createVariable('temp_int','f4',('ref'))\n",
    "# ts3[:] = temp_int_ar[:]\n",
    "# f.close()\n",
    "\n",
    "ncname = 'YR2015_salspace_modeval.nc'\n",
    "w = nc.Dataset(ncname)\n",
    "\n",
    "yr15_DIC = w['model_output']['DIC_int'][:]\n",
    "yr15_TA = w['model_output']['TA_int'][:]\n",
    "\n",
    "ncname = 'YR2014_salspace_modeval.nc'\n",
    "w = nc.Dataset(ncname)\n",
    "\n",
    "yr14_DIC = w['model_output']['DIC_int'][:]\n",
    "yr14_TA = w['model_output']['TA_int'][:]\n",
    "\n",
    "ncname = 'YR2013_salspace_modeval.nc'\n",
    "w = nc.Dataset(ncname)\n",
    "\n",
    "yr13_DIC = w['model_output']['DIC_int'][:]\n",
    "yr13_TA = w['model_output']['TA_int'][:]"
   ]
  },
  {
   "cell_type": "code",
   "execution_count": 22,
   "metadata": {},
   "outputs": [
    {
     "name": "stdout",
     "output_type": "stream",
     "text": [
      "(83,)\n",
      "(85,)\n",
      "(94,)\n"
     ]
    }
   ],
   "source": [
    "\n",
    "print(np.shape(yr13_DIC[np.isnan(yr13_DIC)]))\n",
    "print(np.shape(yr14_DIC[np.isnan(yr14_DIC)]))\n",
    "print(np.shape(yr15_DIC[np.isnan(yr15_DIC)]))"
   ]
  },
  {
   "cell_type": "code",
   "execution_count": 27,
   "metadata": {},
   "outputs": [
    {
     "name": "stdout",
     "output_type": "stream",
     "text": [
      "bias (salinity matched) 2013-dic\n",
      "-16.84225871442004\n",
      "bias (salinity matched) 2014-dic\n",
      "-12.378087612676154\n",
      "bias (salinity matched) 2015-dic\n",
      "-13.099251436387476\n",
      "bias (salinity matched) 2013-ta\n",
      "9.714985613101362\n",
      "bias (salinity matched) 2014-ta\n",
      "12.437008558263642\n",
      "bias (salinity matched) 2015-ta\n",
      "12.491253158983454\n"
     ]
    }
   ],
   "source": [
    "dic_SSconv13 = np.copy(dic_SSconv)\n",
    "dic_SSconv13[np.isnan(yr13_DIC)] = np.nan\n",
    "dic_SSconv14 = np.copy(dic_SSconv)\n",
    "dic_SSconv14[np.isnan(yr14_DIC)] = np.nan\n",
    "dic_SSconv15 = np.copy(dic_SSconv)\n",
    "dic_SSconv15[np.isnan(yr15_DIC)] = np.nan\n",
    "\n",
    "#model minus obs\n",
    "print('bias (salinity matched) 2013-dic')\n",
    "bias_dic13 = np.nanmean(yr13_DIC) - (np.nanmean(dic_SSconv13)) \n",
    "print(bias_dic13)\n",
    "print('bias (salinity matched) 2014-dic')\n",
    "bias_dic14 = np.nanmean(yr14_DIC) - (np.nanmean(dic_SSconv14)) \n",
    "print(bias_dic14)\n",
    "print('bias (salinity matched) 2015-dic')\n",
    "bias_dic15 = np.nanmean(yr15_DIC) - (np.nanmean(dic_SSconv15)) \n",
    "print(bias_dic15)\n",
    "\n",
    "ta_SSconv13 = np.copy(ta_SSconv)\n",
    "ta_SSconv13[np.isnan(yr13_TA)] = np.nan\n",
    "ta_SSconv14 = np.copy(ta_SSconv)\n",
    "ta_SSconv14[np.isnan(yr14_TA)] = np.nan\n",
    "ta_SSconv15 = np.copy(ta_SSconv)\n",
    "ta_SSconv15[np.isnan(yr15_TA)] = np.nan\n",
    "\n",
    "#model minus obs\n",
    "print('bias (salinity matched) 2013-ta')\n",
    "bias_ta13 = np.nanmean(yr13_TA) - (np.nanmean(ta_SSconv13)) \n",
    "print(bias_ta13)\n",
    "print('bias (salinity matched) 2014-ta')\n",
    "bias_ta14 = np.nanmean(yr14_TA) - (np.nanmean(ta_SSconv14)) \n",
    "print(bias_ta14)\n",
    "print('bias (salinity matched) 2015-ta')\n",
    "bias_ta15 = np.nanmean(yr15_TA) - (np.nanmean(ta_SSconv15)) \n",
    "print(bias_ta15)"
   ]
  },
  {
   "cell_type": "code",
   "execution_count": null,
   "metadata": {},
   "outputs": [],
   "source": []
  }
 ],
 "metadata": {
  "kernelspec": {
   "display_name": "Python 3",
   "language": "python",
   "name": "python3"
  },
  "language_info": {
   "codemirror_mode": {
    "name": "ipython",
    "version": 3
   },
   "file_extension": ".py",
   "mimetype": "text/x-python",
   "name": "python",
   "nbconvert_exporter": "python",
   "pygments_lexer": "ipython3",
   "version": "3.7.4"
  }
 },
 "nbformat": 4,
 "nbformat_minor": 2
}
