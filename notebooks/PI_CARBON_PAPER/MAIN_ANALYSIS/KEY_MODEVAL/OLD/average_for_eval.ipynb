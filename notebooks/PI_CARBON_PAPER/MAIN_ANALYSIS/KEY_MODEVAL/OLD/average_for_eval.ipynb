{
 "cells": [
  {
   "cell_type": "code",
   "execution_count": 18,
   "metadata": {},
   "outputs": [
    {
     "name": "stdout",
     "output_type": "stream",
     "text": [
      "Once deleted, variables cannot be recovered. Proceed (y/[n])? y\n"
     ]
    }
   ],
   "source": [
    "%reset"
   ]
  },
  {
   "cell_type": "markdown",
   "metadata": {},
   "source": [
    "### making a way to average hourly to daily"
   ]
  },
  {
   "cell_type": "code",
   "execution_count": 1,
   "metadata": {},
   "outputs": [],
   "source": [
    "\n"
   ]
  },
  {
   "cell_type": "code",
   "execution_count": 15,
   "metadata": {},
   "outputs": [
    {
     "name": "stdout",
     "output_type": "stream",
     "text": [
      "/results/SalishSea/hindcast.201905/20jul13/SalishSea_1h_20130720_20130720_carp_T.nc\n",
      "carp_1d_20130720.nc\n",
      "carp_1d_20130101.nc\n",
      "carp_1d_20130102.nc\n"
     ]
    },
    {
     "ename": "KeyboardInterrupt",
     "evalue": "",
     "output_type": "error",
     "traceback": [
      "\u001b[0;31m---------------------------------------\u001b[0m",
      "\u001b[0;31mKeyboardInterrupt\u001b[0mTraceback (most recent call last)",
      "\u001b[0;32m<ipython-input-15-3d670f939e19>\u001b[0m in \u001b[0;36m<module>\u001b[0;34m\u001b[0m\n\u001b[1;32m     55\u001b[0m \u001b[0;34m\u001b[0m\u001b[0m\n\u001b[1;32m     56\u001b[0m     \u001b[0mcarp\u001b[0m \u001b[0;34m=\u001b[0m \u001b[0mnc\u001b[0m\u001b[0;34m.\u001b[0m\u001b[0mDataset\u001b[0m\u001b[0;34m(\u001b[0m\u001b[0mtcarp\u001b[0m\u001b[0;34m)\u001b[0m\u001b[0;34m\u001b[0m\u001b[0;34m\u001b[0m\u001b[0m\n\u001b[0;32m---> 57\u001b[0;31m     \u001b[0mDIC\u001b[0m \u001b[0;34m=\u001b[0m \u001b[0mcarp\u001b[0m\u001b[0;34m[\u001b[0m\u001b[0;34m'dissolved_inorganic_carbon'\u001b[0m\u001b[0;34m]\u001b[0m\u001b[0;34m[\u001b[0m\u001b[0;34m:\u001b[0m\u001b[0;34m]\u001b[0m\u001b[0;34m\u001b[0m\u001b[0;34m\u001b[0m\u001b[0m\n\u001b[0m\u001b[1;32m     58\u001b[0m     \u001b[0mDIC_d\u001b[0m \u001b[0;34m=\u001b[0m \u001b[0mnp\u001b[0m\u001b[0;34m.\u001b[0m\u001b[0mnanmean\u001b[0m\u001b[0;34m(\u001b[0m\u001b[0mDIC\u001b[0m\u001b[0;34m,\u001b[0m \u001b[0maxis\u001b[0m \u001b[0;34m=\u001b[0m \u001b[0;36m0\u001b[0m\u001b[0;34m)\u001b[0m\u001b[0;34m\u001b[0m\u001b[0;34m\u001b[0m\u001b[0m\n\u001b[1;32m     59\u001b[0m     \u001b[0mTA\u001b[0m \u001b[0;34m=\u001b[0m \u001b[0mcarp\u001b[0m\u001b[0;34m[\u001b[0m\u001b[0;34m'total_alkalinity'\u001b[0m\u001b[0;34m]\u001b[0m\u001b[0;34m[\u001b[0m\u001b[0;34m:\u001b[0m\u001b[0;34m]\u001b[0m\u001b[0;34m\u001b[0m\u001b[0;34m\u001b[0m\u001b[0m\n",
      "\u001b[0;32mnetCDF4/_netCDF4.pyx\u001b[0m in \u001b[0;36mnetCDF4._netCDF4.Variable.__getitem__\u001b[0;34m()\u001b[0m\n",
      "\u001b[0;32mnetCDF4/_netCDF4.pyx\u001b[0m in \u001b[0;36mnetCDF4._netCDF4.Variable._toma\u001b[0;34m()\u001b[0m\n",
      "\u001b[0;32m~/anaconda3/lib/python3.7/site-packages/numpy/core/_methods.py\u001b[0m in \u001b[0;36m_any\u001b[0;34m(a, axis, dtype, out, keepdims)\u001b[0m\n\u001b[1;32m     42\u001b[0m     \u001b[0;32mreturn\u001b[0m \u001b[0mumr_prod\u001b[0m\u001b[0;34m(\u001b[0m\u001b[0ma\u001b[0m\u001b[0;34m,\u001b[0m \u001b[0maxis\u001b[0m\u001b[0;34m,\u001b[0m \u001b[0mdtype\u001b[0m\u001b[0;34m,\u001b[0m \u001b[0mout\u001b[0m\u001b[0;34m,\u001b[0m \u001b[0mkeepdims\u001b[0m\u001b[0;34m,\u001b[0m \u001b[0minitial\u001b[0m\u001b[0;34m,\u001b[0m \u001b[0mwhere\u001b[0m\u001b[0;34m)\u001b[0m\u001b[0;34m\u001b[0m\u001b[0;34m\u001b[0m\u001b[0m\n\u001b[1;32m     43\u001b[0m \u001b[0;34m\u001b[0m\u001b[0m\n\u001b[0;32m---> 44\u001b[0;31m \u001b[0;32mdef\u001b[0m \u001b[0m_any\u001b[0m\u001b[0;34m(\u001b[0m\u001b[0ma\u001b[0m\u001b[0;34m,\u001b[0m \u001b[0maxis\u001b[0m\u001b[0;34m=\u001b[0m\u001b[0;32mNone\u001b[0m\u001b[0;34m,\u001b[0m \u001b[0mdtype\u001b[0m\u001b[0;34m=\u001b[0m\u001b[0;32mNone\u001b[0m\u001b[0;34m,\u001b[0m \u001b[0mout\u001b[0m\u001b[0;34m=\u001b[0m\u001b[0;32mNone\u001b[0m\u001b[0;34m,\u001b[0m \u001b[0mkeepdims\u001b[0m\u001b[0;34m=\u001b[0m\u001b[0;32mFalse\u001b[0m\u001b[0;34m)\u001b[0m\u001b[0;34m:\u001b[0m\u001b[0;34m\u001b[0m\u001b[0;34m\u001b[0m\u001b[0m\n\u001b[0m\u001b[1;32m     45\u001b[0m     \u001b[0;32mreturn\u001b[0m \u001b[0mumr_any\u001b[0m\u001b[0;34m(\u001b[0m\u001b[0ma\u001b[0m\u001b[0;34m,\u001b[0m \u001b[0maxis\u001b[0m\u001b[0;34m,\u001b[0m \u001b[0mdtype\u001b[0m\u001b[0;34m,\u001b[0m \u001b[0mout\u001b[0m\u001b[0;34m,\u001b[0m \u001b[0mkeepdims\u001b[0m\u001b[0;34m)\u001b[0m\u001b[0;34m\u001b[0m\u001b[0;34m\u001b[0m\u001b[0m\n\u001b[1;32m     46\u001b[0m \u001b[0;34m\u001b[0m\u001b[0m\n",
      "\u001b[0;31mKeyboardInterrupt\u001b[0m: "
     ]
    }
   ],
   "source": [
    "start = '2013-01-01'\n",
    "end = '2013-12-31'\n",
    "\n",
    "import matplotlib.pyplot as plt\n",
    "import netCDF4 as nc\n",
    "import numpy as np\n",
    "import scipy as sp\n",
    "import warnings\n",
    "warnings.filterwarnings('ignore')\n",
    "import datetime as dt\n",
    "import glob\n",
    "import arrow\n",
    "import time\n",
    "from datetime import datetime\n",
    "\n",
    "def make_nclen(start,end):\n",
    "    fn_ar_carp = []\n",
    "    fn_ar_grid = []\n",
    "    start_run = arrow.get(start)\n",
    "    end_run = arrow.get(end)\n",
    "    arrow_array = []\n",
    "    for r in arrow.Arrow.span_range('day', start_run, end_run):\n",
    "        arrow_array.append(r)\n",
    "\n",
    "    dayslen = len(arrow_array)\n",
    "    for i in range(0,dayslen):\n",
    "        tdate = arrow_array[i][0]\n",
    "        ddmmmyy = tdate.format('DDMMMYY').lower()\n",
    "        ymd = tdate.format('YYYYMMDD')\n",
    "        nc_sens_carp = '/results/SalishSea/hindcast.201905/' + ddmmmyy + '/*carp*.nc'\n",
    "        tnc_sens_carp = glob.glob(nc_sens_carp)\n",
    "        fn_ar_carp.append(tnc_sens_carp[0])\n",
    "        nc_sens_grid = '/results/SalishSea/hindcast.201905/' + ddmmmyy + '/*grid*.nc'\n",
    "        tnc_sens_grid = glob.glob(nc_sens_grid)\n",
    "        fn_ar_grid.append(tnc_sens_grid[0])\n",
    "        \n",
    "    return fn_ar_carp, fn_ar_grid\n",
    "\n",
    "def make_fname_ar(start,end,tstr):\n",
    "    fn_ar = []\n",
    "    start_run = arrow.get(start)\n",
    "    end_run = arrow.get(end)\n",
    "    arrow_array = []\n",
    "    for r in arrow.Arrow.span_range('day', start_run, end_run):\n",
    "        arrow_array.append(r)\n",
    "\n",
    "    dayslen = len(arrow_array)\n",
    "    for i in range(0,dayslen):\n",
    "        tdate = arrow_array[i][0]\n",
    "        ymd = tdate.format('YYYYMMDD')\n",
    "        fname = tstr + ymd +'.nc'\n",
    "        fn_ar.append(fname)\n",
    "    \n",
    "    return fn_ar\n",
    "\n",
    "fn_ar_carp, fn_ar_grid = make_nclen(start,end)\n",
    "tstr = 'carp_1d_'\n",
    "avgdnc_ar_carp = make_fname_ar(start,end,tstr)\n",
    "\n",
    "for i in range(0,365):\n",
    "    \n",
    "    tcarp = fn_ar_carp[i]\n",
    "    fn = avgdnc_ar_carp[i]\n",
    "    print(fn)\n",
    "    \n",
    "    t = time.time()\n",
    "    carp = nc.Dataset(tcarp)\n",
    "    DIC = carp['dissolved_inorganic_carbon'][:]\n",
    "    DIC_d = np.nanmean(DIC, axis = 0)\n",
    "    TA = carp['total_alkalinity'][:]\n",
    "    TA_d = np.nanmean(TA, axis = 0)\n",
    "    t2 = time.time()\n",
    "    print(t2-t)\n",
    "\n",
    "    tdir = '/data/tjarniko/results/hindcast.201905_dayavg/'\n",
    "    ncname = tdir + fn\n",
    "\n",
    "    f = nc.Dataset(ncname,'w', format='NETCDF4') #'w' stands for write\n",
    "    g = f.createGroup('model_output')\n",
    "    g.createDimension('depths', 40)\n",
    "    g.createDimension('ydir',898)\n",
    "    g.createDimension('xdir',398)\n",
    "\n",
    "    ts = g.createVariable('DIC','f4',('depths','ydir','xdir'))\n",
    "    ts[:] = DIC_d\n",
    "    ts = g.createVariable('TA','f4',('depths','ydir','xdir'))\n",
    "    ts[:] = TA_d\n",
    "\n",
    "    f.close()"
   ]
  },
  {
   "cell_type": "code",
   "execution_count": 16,
   "metadata": {},
   "outputs": [
    {
     "name": "stdout",
     "output_type": "stream",
     "text": [
      "0.00024890899658203125\n"
     ]
    }
   ],
   "source": [
    "import time\n",
    "\n",
    "w = 205893745*3589426\n"
   ]
  },
  {
   "cell_type": "code",
   "execution_count": 17,
   "metadata": {},
   "outputs": [
    {
     "name": "stdout",
     "output_type": "stream",
     "text": [
      "36.94014024734497\n"
     ]
    }
   ],
   "source": [
    "t = time.time()\n",
    "carp = nc.Dataset(tcarp)\n",
    "DIC = carp['dissolved_inorganic_carbon'][:]\n",
    "DIC_d = np.nanmean(DIC, axis = 0)\n",
    "t2 = time.time()\n",
    "print(t2-t)"
   ]
  },
  {
   "cell_type": "code",
   "execution_count": null,
   "metadata": {},
   "outputs": [],
   "source": [
    "\n",
    "############let's get extractin bro\n",
    "\n",
    "\n",
    "\n",
    "carp_ar = make_nclen(start,end,'carp_T', sdir)\n",
    "grid_ar = make_nclen(start,end,'grid_T', sdir)\n",
    "fn_ar = make_fname_ar(start,end,runtype)\n",
    "\n"
   ]
  }
 ],
 "metadata": {
  "kernelspec": {
   "display_name": "Python 3",
   "language": "python",
   "name": "python3"
  },
  "language_info": {
   "codemirror_mode": {
    "name": "ipython",
    "version": 3
   },
   "file_extension": ".py",
   "mimetype": "text/x-python",
   "name": "python",
   "nbconvert_exporter": "python",
   "pygments_lexer": "ipython3",
   "version": "3.7.4"
  }
 },
 "nbformat": 4,
 "nbformat_minor": 2
}
