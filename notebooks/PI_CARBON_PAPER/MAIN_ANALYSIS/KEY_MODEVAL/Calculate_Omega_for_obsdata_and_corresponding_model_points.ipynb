{
 "cells": [
  {
   "cell_type": "code",
   "execution_count": null,
   "metadata": {},
   "outputs": [],
   "source": [
    "\n",
    "import numpy as np\n",
    "import xarray as xr\n",
    "import matplotlib.pyplot as plt\n",
    "import seawater\n",
    "import netCDF4 as nc\n",
    "import sys\n",
    "sys.path.append('/data/tjarniko/mocsy')\n",
    "import mocsy\n",
    "import gsw\n",
    "import warnings\n"
   ]
  },
  {
   "cell_type": "code",
   "execution_count": null,
   "metadata": {},
   "outputs": [],
   "source": [
    "df = pd.read_csv('./Datasets/2015dat_fromdf.csv')\n",
    "dsetname = 'D15'\n",
    "\n",
    "dic = df['dic'].to_numpy()\n",
    "alk = df['alk'].to_numpy()\n",
    "dic_qf = df['dic_qf'].to_numpy()\n",
    "alk_qf = df['alk_qf'].to_numpy()\n",
    "lat = df['lat'].to_numpy()\n",
    "lon = df['lon'].to_numpy()\n",
    "S = df['S'].to_numpy()\n",
    "T = df['T'].to_numpy()\n",
    "P = df['P'].to_numpy()\n",
    "mon = df['mon'].to_numpy()\n",
    "day = df['day'].to_numpy()\n",
    "\n",
    "\n",
    "\n",
    "\n",
    "tzero = np.zeros_like(ta)\n",
    "dens = seawater.dens(S,T,P)\n",
    "# CONVERT FROM UMOL TO MMOL/M3\n",
    "dic_conv=dic*dens/1000 * 1e-3\n",
    "ta_conv = ta*dens/1000 * 1e-3\n",
    "tpressure = tzero +1 \n",
    "\n",
    "response_tup = mocsy.mvars(temp=T, sal=S, alk=ta_conv, dic=dic_conv,\n",
    "                   sil=tzero, phos=tzero, patm=tpressure, depth=P, lat=tzero,\n",
    "                    optcon='mol/m3', optt='Tinsitu', optp='m',\n",
    "                    optb = 'l10', optk1k2='m10', optkf = 'dg', optgas = 'Pinsitu')\n",
    "pH,pco2,fco2,co2,hco3,co3,OmegaA_OBS,OmegaC,BetaD,DENis,p,Tis = response_tup"
   ]
  }
 ],
 "metadata": {
  "kernelspec": {
   "display_name": "Python 3",
   "language": "python",
   "name": "python3"
  },
  "language_info": {
   "codemirror_mode": {
    "name": "ipython",
    "version": 3
   },
   "file_extension": ".py",
   "mimetype": "text/x-python",
   "name": "python",
   "nbconvert_exporter": "python",
   "pygments_lexer": "ipython3",
   "version": "3.7.4"
  }
 },
 "nbformat": 4,
 "nbformat_minor": 2
}
