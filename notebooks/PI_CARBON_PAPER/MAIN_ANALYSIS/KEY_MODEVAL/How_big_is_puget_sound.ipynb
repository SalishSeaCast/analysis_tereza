{
 "cells": [
  {
   "cell_type": "markdown",
   "metadata": {},
   "source": [
    "# Dear American scientists, the Puget Sound is not a synonym for the Salish Sea and should not be treated as such.\n",
    "\n",
    "From EPA:\n",
    "https://www.epa.gov/puget-sound/about-epas-work-puget-sound#:~:text=There%20is%20no%20boundary%20that,Strait%20of%20Juan%20de%20Fuca.\n",
    "\n",
    "There is no boundary that officially defines Puget Sound, but for regulatory purposes we refer to it as the marine areas south of the U.S.-Canada border and east of the Strait of Juan de Fuca.\n",
    "\n",
    "## non-PS is 2, PS is 1\n",
    "\n",
    "Wikipedia also has the 5 main basins coloured - I made sure they were included in my mask\n",
    "\n",
    "\n",
    "## Answer - this gives me <9%, for R1 I shall say <10%\n"
   ]
  },
  {
   "cell_type": "code",
   "execution_count": 3,
   "metadata": {},
   "outputs": [
    {
     "data": {
      "text/html": [
       "<script>\n",
       "code_show=true; \n",
       "function code_toggle() {\n",
       " if (code_show){\n",
       " $('div.input').hide();\n",
       " } else {\n",
       " $('div.input').show();\n",
       " }\n",
       " code_show = !code_show\n",
       "} \n",
       "$( document ).ready(code_toggle);\n",
       "</script>\n",
       "<form action=\"javascript:code_toggle()\"><input type=\"submit\" value=\"Click here to toggle on/off the raw code.\"></form>"
      ],
      "text/plain": [
       "<IPython.core.display.HTML object>"
      ]
     },
     "execution_count": 3,
     "metadata": {},
     "output_type": "execute_result"
    }
   ],
   "source": [
    "from IPython.display import HTML\n",
    "\n",
    "HTML('''<script>\n",
    "code_show=true; \n",
    "function code_toggle() {\n",
    " if (code_show){\n",
    " $('div.input').hide();\n",
    " } else {\n",
    " $('div.input').show();\n",
    " }\n",
    " code_show = !code_show\n",
    "} \n",
    "$( document ).ready(code_toggle);\n",
    "</script>\n",
    "<form action=\"javascript:code_toggle()\"><input type=\"submit\" value=\"Click here to toggle on/off the raw code.\"></form>''')"
   ]
  },
  {
   "cell_type": "code",
   "execution_count": 4,
   "metadata": {},
   "outputs": [],
   "source": [
    "import matplotlib.pyplot as plt\n",
    "import pickle\n",
    "\n",
    "import netCDF4 as nc\n",
    "import numpy as np\n",
    "import scipy as sp\n",
    "import warnings\n",
    "warnings.filterwarnings('ignore')\n",
    "import cmocean as cm\n",
    "import glob\n",
    "import sys\n",
    "import gsw\n",
    "%matplotlib inline\n",
    "from salishsea_tools import grid_tools, viz_tools\n",
    "from statsmodels.stats.weightstats import DescrStatsW\n",
    "from math import log10, floor"
   ]
  },
  {
   "cell_type": "code",
   "execution_count": 15,
   "metadata": {},
   "outputs": [
    {
     "name": "stdout",
     "output_type": "stream",
     "text": [
      "(40, 898, 398)\n"
     ]
    },
    {
     "data": {
      "text/plain": [
       "Text(0.5, 1.0, 'regional mask')"
      ]
     },
     "execution_count": 15,
     "metadata": {},
     "output_type": "execute_result"
    },
    {
     "data": {
      "image/png": "[encoded data removed]",
      "text/plain": [
       "<Figure size 936x748.8 with 2 Axes>"
      ]
     },
     "metadata": {
      "needs_background": "light"
     },
     "output_type": "display_data"
    }
   ],
   "source": [
    "tm = nc.Dataset('/data/tjarniko/MEOPAR/grid/mesh_mask201702.nc')\n",
    "tmask = tm.variables['tmask'][0, 0, :, :]\n",
    "mask_depth = tm.variables['tmask'][0, :, :, :]\n",
    "print(np.shape(mask_depth))\n",
    "mask = np.zeros_like(tmask)\n",
    "mask[tmask>0] = 2\n",
    "\n",
    "for y in range(0,898):\n",
    "    for x in range(0,398):\n",
    "        \n",
    "#         if  (x <185) & (y>220) & (y<500) & (tmask[y,x] >0) :\n",
    "#             mask[y,x] = 1\n",
    "        if (y<220) & (tmask[y,x] >0) :\n",
    "                mask[y,x] = 1\n",
    "        if (x>250) & (y<250) & (tmask[y,x] >0) :\n",
    "                mask[y,x] = 1\n",
    "        \n",
    "#         if  (y >= 630) & (tmask[y,x] > 0): #changed from 550\n",
    "#             mask[y,x] = 2\n",
    "#         if (x> 185) & (y>320) & (y<630) & (tmask[y,x]>0):\n",
    "#             mask[y,x] = 3\n",
    "#         if (y>500) & (y<650) & (tmask[y,x]>0):\n",
    "#             mask[y,x] = 3\n",
    "\n",
    "mask[mask == 4] = 2\n",
    "pickle.dump(mask, open(\"reg_mask.pkl\", 'wb'))\n",
    "\n",
    "\n",
    "reg_mask = pickle.load(open('./reg_mask.pkl', 'rb'))  \n",
    "\n",
    "fact = 0.65\n",
    "fig, ax = plt.subplots(1, 1, figsize=(20*fact, 16*fact))\n",
    "viz_tools.set_aspect(ax)\n",
    "mesh = ax.pcolormesh(reg_mask, cmap=cm.cm.thermal)\n",
    "fig.colorbar(mesh)\n",
    "plt.title('regional mask',fontsize=20)"
   ]
  },
  {
   "cell_type": "code",
   "execution_count": 24,
   "metadata": {},
   "outputs": [
    {
     "name": "stdout",
     "output_type": "stream",
     "text": [
      "(40, 898, 398)\n"
     ]
    }
   ],
   "source": [
    "csize  = pickle.load(open('../pkls/cellsize_alg2.pkl', 'rb'))  \n",
    "print(np.shape(csize))\n",
    "reg_mask_vol = np.zeros([40,898,398])\n",
    "\n",
    "for i in range(0,40):\n",
    "    \n",
    "    reg_mask_vol[i,:,:] = reg_mask\n",
    "    \n",
    "reg_mask_all_ss = np.copy(reg_mask_vol)"
   ]
  },
  {
   "cell_type": "code",
   "execution_count": 20,
   "metadata": {},
   "outputs": [
    {
     "name": "stdout",
     "output_type": "stream",
     "text": [
      "1.0000011545549246\n",
      "440.54666691637465\n",
      "504.8133000202094\n",
      "222394.0735048354\n",
      "222394.0735048354\n"
     ]
    }
   ],
   "source": [
    "print(tm['e3t_0'][0,0,250,250])\n",
    "print(tm['e1t'][0,250,250])\n",
    "print(tm['e2t'][0,250,250])\n",
    "\n",
    "print((tm['e3t_0'][0,0,250,250])*\n",
    "(tm['e1t'][0,250,250])*\n",
    "(tm['e2t'][0,250,250]))\n",
    "print(csize[0,250,250])\n",
    "\n",
    "print(csi)"
   ]
  },
  {
   "cell_type": "code",
   "execution_count": 31,
   "metadata": {},
   "outputs": [
    {
     "name": "stdout",
     "output_type": "stream",
     "text": [
      "volume of model domanin in cubin kilometers\n",
      "2276.9183288408403\n",
      "volume of non-puget-sound in cubic kilometers\n",
      "2091.117303646216\n",
      "volume of puget sound in cubic kilometers\n",
      "185.8010251946245\n",
      "what percent of the model domain is puget sound\n",
      "8.885251194213211\n"
     ]
    }
   ],
   "source": [
    "#total volume in m3 of the model domain\n",
    "print('volume of model domanin in cubin kilometers')\n",
    "print(np.nansum(csize)*1e-9)\n",
    "print('volume of non-puget-sound in cubic kilometers')\n",
    "print(np.nansum(csize[reg_mask_vol==2])*1e-9)\n",
    "print('volume of puget sound in cubic kilometers')\n",
    "print(np.nansum(csize[reg_mask_vol==1])*1e-9)\n",
    "print('what percent of the model domain is puget sound')\n",
    "print((np.nansum(csize[reg_mask_vol==1])*1e-9)/(np.nansum(csize[reg_mask_vol==2])*1e-9)*100)"
   ]
  },
  {
   "cell_type": "code",
   "execution_count": null,
   "metadata": {},
   "outputs": [],
   "source": []
  }
 ],
 "metadata": {
  "kernelspec": {
   "display_name": "Python 3",
   "language": "python",
   "name": "python3"
  },
  "language_info": {
   "codemirror_mode": {
    "name": "ipython",
    "version": 3
   },
   "file_extension": ".py",
   "mimetype": "text/x-python",
   "name": "python",
   "nbconvert_exporter": "python",
   "pygments_lexer": "ipython3",
   "version": "3.7.4"
  }
 },
 "nbformat": 4,
 "nbformat_minor": 2
}
