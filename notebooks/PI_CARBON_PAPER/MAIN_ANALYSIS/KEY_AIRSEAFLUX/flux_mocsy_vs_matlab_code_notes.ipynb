{
 "cells": [
  {
   "cell_type": "markdown",
   "metadata": {},
   "source": [
    "## Notes on difference between mocsy and fCO2.m \n",
    "\n",
    "\n",
    "# mocsy co2 flux \n",
    "\n",
    "####  module gas_transfer.f90, line 124 - getting kw660 and kwco2\n",
    "\n",
    "    #eqn = 7, wannikhof 2014\n",
    "    #a(7) / 0.251 data b(7) / 0.0   /\n",
    "    ! Calculate gas transfer velocity (cm/h)\n",
    "          tmp_k = (a(eqn) * wind**2) + (b(eqn) * wind)\n",
    "    !\n",
    "    ! Convert tmp_k from cm/h to m/s\n",
    "          kw660 = tmp_k / (100. * 3600.)\n",
    "   \n",
    "#### mocsywrapper.f90 line 285  \n",
    "\n",
    "\n",
    "    kwco2 = kw660 * (660./schmidtco2)**0.5\n",
    "\n",
    "#### we could combine this as\n",
    "\n",
    "    kwco2 = (a(eqn) * wind**2) / (100. * 3600.)  * (660./schmidtco2)**0.5\n",
    "    \n",
    "    or\n",
    "    kwco2 = (0.251 * wind**2) / (100. * 3600.)  * (660./schmidtco2)**0.5\n",
    "    \n",
    "    this should give a transfer velocity in m/s \n",
    "    if we multiply it by 3600*24, this would give us m/day\n",
    "    \n",
    "      co2starair = K0 * fco2atm * 1.0e-6_wp * rhoSW ! Equil. [CO2*] for atm CO2 at Patm & sfc-water T,S [mol/m3]\n",
    "      co2star    = co2                              ! Oceanic [CO2*] in [mol/m3] from vars.f90\n",
    "      co2flux    = kwco2 * (co2starair - co2star)\n",
    "    \n",
    "# matlab code\n",
    "\n",
    "      Sc=Schmidt(T);\n",
    "    if u<=6:\n",
    "        K=0.31*(u**2)*((Sc/660)**-0.5); #for slower steadier wind cm/hr\n",
    "        \n",
    "    else:    \n",
    "        K=0.39*(u**2)*((Sc/660)**-0.5);\n",
    "        \n",
    "     then gas transfer is \n",
    "     \n",
    "     \n",
    "         F_CO2 =0.24*K*a*dpCO2;\n",
    "     where the 0.24 is her converting from cm/hr to m/day, K is transfer velocity, a is solubility\n",
    "     \n",
    "#### this should be (roughly) equivalent to mocsy. \n",
    "    \n",
    "    \n",
    "        \n",
    "        "
   ]
  },
  {
   "cell_type": "code",
   "execution_count": null,
   "metadata": {},
   "outputs": [],
   "source": []
  }
 ],
 "metadata": {
  "kernelspec": {
   "display_name": "Python 3",
   "language": "python",
   "name": "python3"
  },
  "language_info": {
   "codemirror_mode": {
    "name": "ipython",
    "version": 3
   },
   "file_extension": ".py",
   "mimetype": "text/x-python",
   "name": "python",
   "nbconvert_exporter": "python",
   "pygments_lexer": "ipython3",
   "version": "3.7.4"
  }
 },
 "nbformat": 4,
 "nbformat_minor": 2
}
