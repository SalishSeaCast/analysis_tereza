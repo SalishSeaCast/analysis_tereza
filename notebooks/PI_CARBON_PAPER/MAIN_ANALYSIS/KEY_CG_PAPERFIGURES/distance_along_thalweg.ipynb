{
 "cells": [
  {
   "cell_type": "markdown",
   "metadata": {},
   "source": [
    "## get distance along thalweg and quickly plot (not on a projected map)"
   ]
  },
  {
   "cell_type": "code",
   "execution_count": 13,
   "metadata": {},
   "outputs": [],
   "source": [
    "import netCDF4 as nc\n",
    "import numpy as np\n",
    "import matplotlib.pyplot as plt"
   ]
  },
  {
   "cell_type": "markdown",
   "metadata": {},
   "source": [
    "#### extraction code for thalweg data (mostly from nancy's fxns)"
   ]
  },
  {
   "cell_type": "code",
   "execution_count": 42,
   "metadata": {},
   "outputs": [],
   "source": [
    "def haversine(lon1, lat1, lon2, lat2):\n",
    "    \"\"\"Calculate the great-circle distance in kilometers between two points\n",
    "    on a sphere from their longitudes and latitudes.\n",
    "    Reference: http://www.movable-type.co.uk/scripts/latlong.html\n",
    "    :arg lon1: Longitude of point 1.\n",
    "    :type lon1: float or :py:class:`numpy.ndarray`\n",
    "    :arg lat1: Latitude of point 1.\n",
    "    :type lat1: float or :py:class:`numpy.ndarray`\n",
    "    :arg lon2: Longitude of point 2.\n",
    "    :type lon2: float or :py:class:`numpy.ndarray`\n",
    "    :arg lat2: Latitude of point 2.\n",
    "    :type lat2: float or :py:class:`numpy.ndarray`\n",
    "    :returns: Great-circle distance between two points in km\n",
    "    :rtype: float or :py:class:`numpy.ndarray`\n",
    "    \"\"\"\n",
    "    lon1, lat1, lon2, lat2 = map(np.radians, [lon1, lat1, lon2, lat2])\n",
    "    dlon = lon2 - lon1\n",
    "    dlat = lat2 - lat1\n",
    "    a = np.sin(dlat/2)**2 + np.cos(lat1) * np.cos(lat2) * np.sin(dlon/2)**2\n",
    "    c = 2 * np.arcsin(np.sqrt(a))\n",
    "    km = 6367 * c\n",
    "    return km\n",
    "\n",
    "def distance_along_curve(lons, lats):\n",
    "    \"\"\"Calculate cumulative distance between points in lons, lats\n",
    "    :arg lons: longitude points\n",
    "    :type lons: numpy array\n",
    "    :arg lats: latitude points\n",
    "    :type lats: numpy array\n",
    "    :returns: dist, a numpy array with distance along track\n",
    "    \"\"\"\n",
    "    dist = [0]\n",
    "    for i in np.arange(1, lons.shape[0]):\n",
    "        newdist = dist[i-1] + haversine(lons[i], lats[i],\n",
    "                                                  lons[i-1], lats[i-1])\n",
    "        dist.append(newdist)\n",
    "    dist = np.array(dist)\n",
    "    return dist\n",
    "\n",
    "\n",
    "def load_thalweg(\n",
    "    gdept, lons, lats,\n",
    "    filename='/data/nsoontie/MEOPAR/tools/bathymetry/thalweg_working.txt'\n",
    "):\n",
    "    \"\"\"Thalweg grid indices, depths and disatance.\n",
    "    :arg gdept: full model depth array (shape 40x898x398)\n",
    "    :type gdept: numpy array\n",
    "    :arg lons: model longitude array (shape 898x398)\n",
    "    :type lons: numpy array\n",
    "    :arg lats: model latitude array (shape 898x398)\n",
    "    :type lats: numpy array\n",
    "    :returns: tpoints, gdept_thal, xx_thal\n",
    "    An array of thalweg grid indices, depths and distance.\n",
    "    \"\"\"\n",
    "    tpoints = np.loadtxt(filename, delimiter=' ', dtype=int)\n",
    "    gdept_thal = gdept[:, tpoints[:, 0], tpoints[:, 1]]\n",
    "    lons_thal = lons[tpoints[:, 0], tpoints[:, 1]]\n",
    "    lats_thal = lats[tpoints[:, 0], tpoints[:, 1]]\n",
    "    xx_thal = distance_along_curve(lons_thal, lats_thal)\n",
    "    xx_thal = xx_thal + np.zeros(gdept_thal.shape)\n",
    "    return tpoints, gdept_thal, xx_thal, lons_thal, lats_thal\n",
    "\n",
    "\n"
   ]
  },
  {
   "cell_type": "markdown",
   "metadata": {},
   "source": [
    "#### load required data"
   ]
  },
  {
   "cell_type": "code",
   "execution_count": 43,
   "metadata": {},
   "outputs": [],
   "source": [
    "grid_B = nc.Dataset('/data/nsoontie/MEOPAR/NEMO-forcing/grid/bathymetry_201702.nc')\n",
    "mesh_mask = nc.Dataset('/data/nsoontie/MEOPAR/NEMO-forcing/grid/mesh_mask201702.nc')\n",
    "lons = grid_B['nav_lon'][:]\n",
    "lats = grid_B['nav_lat'][:]\n",
    "gdept = mesh_mask.variables['gdept_0'][0,:,:,:]"
   ]
  },
  {
   "cell_type": "markdown",
   "metadata": {},
   "source": [
    "#### use the load_thalweg function to get what we need"
   ]
  },
  {
   "cell_type": "code",
   "execution_count": 24,
   "metadata": {},
   "outputs": [],
   "source": [
    "thalweg_points, gdept_thal, xx_thal, lons_thal, lats_thal = load_thalweg(gdept, lons, lats)\n",
    "distance_along_thalweg = xx_thal[0,:]\n",
    "thalweg_xs = thalweg_points[:,1]\n",
    "thalweg_ys = thalweg_points[:,0]"
   ]
  },
  {
   "cell_type": "markdown",
   "metadata": {},
   "source": [
    "### we now have several useful arrays that we can use in whatever map we want:\n",
    "\n",
    "    -lons_thal \n",
    "    -lats_thal\n",
    "    -distance_along_thalweg\n",
    "    -thalweg_xs\n",
    "    -thalweg_ys\n",
    "    \n",
    "I haven't projected onto mapping software because I don't know what you use, but we can look at what we have just in a plot of thalweg points as lats and lons. We will highlight one point and annotate it"
   ]
  },
  {
   "cell_type": "code",
   "execution_count": 55,
   "metadata": {},
   "outputs": [
    {
     "data": {
      "text/plain": [
       "Text(0, 0.5, 'latitude')"
      ]
     },
     "execution_count": 55,
     "metadata": {},
     "output_type": "execute_result"
    },
    {
     "data": {
      "image/png": "[encoded data removed]",
      "text/plain": [
       "<Figure size 432x288 with 1 Axes>"
      ]
     },
     "metadata": {
      "needs_background": "light"
     },
     "output_type": "display_data"
    }
   ],
   "source": [
    "#what index along the thalweg do we want?\n",
    "index_along_thalweg = 1200\n",
    "#here's the distance label\n",
    "distance_label = f'{int(distance_along_thalweg[index_along_thalweg])} km'\n",
    "plt.figure()\n",
    "#here we are plotting all the thalweg points\n",
    "plt.scatter(lons_thal, lats_thal, marker = 'o', s = 2, color = 'k')\n",
    "\n",
    "## here we are making the point that we wanted (above) red\n",
    "plt.scatter(lons_thal[index_along_thalweg], lats_thal[index_along_thalweg],  marker = 'o', s = 50, color = 'r')\n",
    "# here we are annotating it - you can move it a\n",
    "plt.text(lons_thal[index_along_thalweg], lats_thal[index_along_thalweg], distance_label, fontsize = 14)\n",
    "plt.xlabel('longitude')\n",
    "plt.ylabel('latitude')"
   ]
  },
  {
   "cell_type": "code",
   "execution_count": 18,
   "metadata": {},
   "outputs": [
    {
     "data": {
      "text/plain": [
       "(1540, 2)"
      ]
     },
     "execution_count": 18,
     "metadata": {},
     "output_type": "execute_result"
    }
   ],
   "source": []
  },
  {
   "cell_type": "code",
   "execution_count": 20,
   "metadata": {},
   "outputs": [
    {
     "data": {
      "text/plain": [
       "<matplotlib.collections.PathCollection at 0x7f92e58cd050>"
      ]
     },
     "execution_count": 20,
     "metadata": {},
     "output_type": "execute_result"
    },
    {
     "data": {
      "image/png": "[encoded data removed]",
      "text/plain": [
       "<Figure size 432x288 with 1 Axes>"
      ]
     },
     "metadata": {
      "needs_background": "light"
     },
     "output_type": "display_data"
    }
   ],
   "source": []
  },
  {
   "cell_type": "code",
   "execution_count": null,
   "metadata": {},
   "outputs": [],
   "source": []
  }
 ],
 "metadata": {
  "kernelspec": {
   "display_name": "Python 3",
   "language": "python",
   "name": "python3"
  },
  "language_info": {
   "codemirror_mode": {
    "name": "ipython",
    "version": 3
   },
   "file_extension": ".py",
   "mimetype": "text/x-python",
   "name": "python",
   "nbconvert_exporter": "python",
   "pygments_lexer": "ipython3",
   "version": "3.7.4"
  }
 },
 "nbformat": 4,
 "nbformat_minor": 2
}
