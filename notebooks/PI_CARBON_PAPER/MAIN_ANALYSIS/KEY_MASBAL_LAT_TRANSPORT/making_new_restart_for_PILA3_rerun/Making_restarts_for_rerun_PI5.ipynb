{
 "cells": [
  {
   "cell_type": "code",
   "execution_count": 1,
   "metadata": {},
   "outputs": [],
   "source": [
    "import numpy as np\n",
    "import netCDF4 as nc"
   ]
  },
  {
   "cell_type": "markdown",
   "metadata": {},
   "source": [
    "## objective - start out all fields except DIC, TA the same as the end of BR2\n",
    "\n",
    "we are rerunning PI4,  starting all fields at the end of BR2 except DIC and TA, which start at end of PI4 "
   ]
  },
  {
   "cell_type": "code",
   "execution_count": 2,
   "metadata": {},
   "outputs": [],
   "source": [
    "br_restart = nc.Dataset('/data/tjarniko/results/BASERUN_EXP/MAIN/BR_3rd_2015/SKOG_02471040_restart_trc.nc')\n",
    "\n",
    "\n",
    "pi_restart = nc.Dataset('/data/tjarniko/results/BASERUN_EXP/PILA4/PI4/ncs/SKOG_03259440_restart_trc.nc')\n",
    "\n",
    "#la_restart = nc.Dataset('/data/tjarniko/results/BASERUN_EXP/PILA3_rerun/LA3/ncs/SKOG_03259440_restart_trc.nc')\n"
   ]
  },
  {
   "cell_type": "code",
   "execution_count": 3,
   "metadata": {},
   "outputs": [
    {
     "name": "stdout",
     "output_type": "stream",
     "text": [
      "<class 'netCDF4._netCDF4.Dataset'>\n",
      "root group (NETCDF4 data model, file format HDF5):\n",
      "    file_name: SKOG_02471040_restart_trc.nc\n",
      "    TimeStamp: 18/05/2019 21:41:43 -0400\n",
      "    dimensions(sizes): x(398), y(898), z(40), t(1)\n",
      "    variables(dimensions): float32 \u001b[4mnav_lon\u001b[0m(y,x), float32 \u001b[4mnav_lat\u001b[0m(y,x), float32 \u001b[4mnav_lev\u001b[0m(z), float64 \u001b[4mtime_counter\u001b[0m(t), float64 \u001b[4mkt\u001b[0m(), float64 \u001b[4mndastp\u001b[0m(), float64 \u001b[4madatrj\u001b[0m(), float64 \u001b[4mrnf_pis_NO3_b\u001b[0m(t,y,x), float64 \u001b[4mrnf_pis_NH4_b\u001b[0m(t,y,x), float64 \u001b[4mrnf_pis_Si_b\u001b[0m(t,y,x), float64 \u001b[4mrnf_pis_DIAT_b\u001b[0m(t,y,x), float64 \u001b[4mrnf_pis_PHY_b\u001b[0m(t,y,x), float64 \u001b[4mrnf_pis_MYRI_b\u001b[0m(t,y,x), float64 \u001b[4mrnf_pis_MICZ_b\u001b[0m(t,y,x), float64 \u001b[4mrnf_pis_DON_b\u001b[0m(t,y,x), float64 \u001b[4mrnf_pis_PON_b\u001b[0m(t,y,x), float64 \u001b[4mrnf_pis_bSi_b\u001b[0m(t,y,x), float64 \u001b[4mrnf_pis_TRA_b\u001b[0m(t,y,x), float64 \u001b[4mrnf_pis_DIC_b\u001b[0m(t,y,x), float64 \u001b[4mrnf_pis_TA_b\u001b[0m(t,y,x), float64 \u001b[4mrnf_pis_O2_b\u001b[0m(t,y,x), float64 \u001b[4msbc_NO3_b\u001b[0m(t,y,x), float64 \u001b[4msbc_NH4_b\u001b[0m(t,y,x), float64 \u001b[4msbc_Si_b\u001b[0m(t,y,x), float64 \u001b[4msbc_DIAT_b\u001b[0m(t,y,x), float64 \u001b[4msbc_PHY_b\u001b[0m(t,y,x), float64 \u001b[4msbc_MYRI_b\u001b[0m(t,y,x), float64 \u001b[4msbc_MICZ_b\u001b[0m(t,y,x), float64 \u001b[4msbc_DON_b\u001b[0m(t,y,x), float64 \u001b[4msbc_PON_b\u001b[0m(t,y,x), float64 \u001b[4msbc_bSi_b\u001b[0m(t,y,x), float64 \u001b[4msbc_TRA_b\u001b[0m(t,y,x), float64 \u001b[4msbc_DIC_b\u001b[0m(t,y,x), float64 \u001b[4msbc_TA_b\u001b[0m(t,y,x), float64 \u001b[4msbc_O2_b\u001b[0m(t,y,x), float64 \u001b[4msbc_MYTRC1_b\u001b[0m(t,y,x), float64 \u001b[4mrdttrc1\u001b[0m(), float64 \u001b[4mTRNNO3\u001b[0m(t,z,y,x), float64 \u001b[4mTRNNH4\u001b[0m(t,z,y,x), float64 \u001b[4mTRNSi\u001b[0m(t,z,y,x), float64 \u001b[4mTRNDIAT\u001b[0m(t,z,y,x), float64 \u001b[4mTRNPHY\u001b[0m(t,z,y,x), float64 \u001b[4mTRNMYRI\u001b[0m(t,z,y,x), float64 \u001b[4mTRNMICZ\u001b[0m(t,z,y,x), float64 \u001b[4mTRNDON\u001b[0m(t,z,y,x), float64 \u001b[4mTRNPON\u001b[0m(t,z,y,x), float64 \u001b[4mTRNbSi\u001b[0m(t,z,y,x), float64 \u001b[4mTRNTRA\u001b[0m(t,z,y,x), float64 \u001b[4mTRNDIC\u001b[0m(t,z,y,x), float64 \u001b[4mTRNTA\u001b[0m(t,z,y,x), float64 \u001b[4mTRNO2\u001b[0m(t,z,y,x), float64 \u001b[4mTRNMYTRC1\u001b[0m(t,z,y,x), float64 \u001b[4mTRBNO3\u001b[0m(t,z,y,x), float64 \u001b[4mTRBNH4\u001b[0m(t,z,y,x), float64 \u001b[4mTRBSi\u001b[0m(t,z,y,x), float64 \u001b[4mTRBDIAT\u001b[0m(t,z,y,x), float64 \u001b[4mTRBPHY\u001b[0m(t,z,y,x), float64 \u001b[4mTRBMYRI\u001b[0m(t,z,y,x), float64 \u001b[4mTRBMICZ\u001b[0m(t,z,y,x), float64 \u001b[4mTRBDON\u001b[0m(t,z,y,x), float64 \u001b[4mTRBPON\u001b[0m(t,z,y,x), float64 \u001b[4mTRBbSi\u001b[0m(t,z,y,x), float64 \u001b[4mTRBTRA\u001b[0m(t,z,y,x), float64 \u001b[4mTRBDIC\u001b[0m(t,z,y,x), float64 \u001b[4mTRBTA\u001b[0m(t,z,y,x), float64 \u001b[4mTRBO2\u001b[0m(t,z,y,x), float64 \u001b[4mTRBMYTRC1\u001b[0m(t,z,y,x)\n",
      "    groups: \n",
      "\n",
      "[2471040.]\n"
     ]
    }
   ],
   "source": [
    "print(br_restart)\n",
    "print(br_restart['time_counter'][:])"
   ]
  },
  {
   "cell_type": "code",
   "execution_count": 4,
   "metadata": {},
   "outputs": [],
   "source": [
    "# dsin = br_restart\n",
    "\n",
    "# #output file\n",
    "# ncname = '/data/tjarniko/results/BASERUN_EXP/PILA4/SKOG_LA_02471040_restart_trc.nc'\n",
    "# dsout = nc.Dataset(ncname, \"w\", format=\"NETCDF4\")\n",
    "# #Copy dimensions\n",
    "# for dname, the_dim in dsin.dimensions.items():\n",
    "#     print(dname)\n",
    "#     print(len(the_dim))\n",
    "#     dsout.createDimension(dname, len(the_dim) if not the_dim.isunlimited() else None)\n",
    "# # Copy variables\n",
    "# for v_name, varin in dsin.variables.items():\n",
    "#     outVar = dsout.createVariable(v_name, varin.datatype, varin.dimensions)\n",
    "#     print(varin.datatype)\n",
    "    \n",
    "#     # Copy variable attributes\n",
    "#     outVar.setncatts({k: varin.getncattr(k) for k in varin.ncattrs()})\n",
    "    \n",
    "#     outVar[:] = varin[:]\n",
    "    \n",
    "\n",
    "# dsout['TRBDIC'][:] = la_restart['TRBDIC'][:]\n",
    "# dsout['TRBTA'][:] = la_restart['TRBTA'][:]\n",
    "# dsout['TRNDIC'][:] = la_restart['TRNDIC'][:]\n",
    "# dsout['TRNTA'][:] = la_restart['TRNTA'][:]\n",
    "\n",
    "# dsout.close()"
   ]
  },
  {
   "cell_type": "code",
   "execution_count": 5,
   "metadata": {},
   "outputs": [
    {
     "name": "stdout",
     "output_type": "stream",
     "text": [
      "x\n",
      "398\n",
      "y\n",
      "898\n",
      "z\n",
      "40\n",
      "t\n",
      "1\n",
      "float32\n",
      "float32\n",
      "float32\n",
      "float64\n",
      "float64\n",
      "float64\n",
      "float64\n",
      "float64\n",
      "float64\n",
      "float64\n",
      "float64\n",
      "float64\n",
      "float64\n",
      "float64\n",
      "float64\n",
      "float64\n",
      "float64\n",
      "float64\n",
      "float64\n",
      "float64\n",
      "float64\n",
      "float64\n",
      "float64\n",
      "float64\n",
      "float64\n",
      "float64\n",
      "float64\n",
      "float64\n",
      "float64\n",
      "float64\n",
      "float64\n",
      "float64\n",
      "float64\n",
      "float64\n",
      "float64\n",
      "float64\n",
      "float64\n",
      "float64\n",
      "float64\n",
      "float64\n",
      "float64\n",
      "float64\n",
      "float64\n",
      "float64\n",
      "float64\n",
      "float64\n",
      "float64\n",
      "float64\n",
      "float64\n",
      "float64\n",
      "float64\n",
      "float64\n",
      "float64\n",
      "float64\n",
      "float64\n",
      "float64\n",
      "float64\n",
      "float64\n",
      "float64\n",
      "float64\n",
      "float64\n",
      "float64\n",
      "float64\n",
      "float64\n",
      "float64\n",
      "float64\n",
      "float64\n"
     ]
    }
   ],
   "source": [
    "dsin = br_restart\n",
    "\n",
    "ncname = '/data/tjarniko/results/BASERUN_EXP/PI5/SKOG_PI_02471040_restart_trc.nc'\n",
    "dsout = nc.Dataset(ncname, \"w\", format=\"NETCDF4\")\n",
    "#Copy dimensions\n",
    "for dname, the_dim in dsin.dimensions.items():\n",
    "    print(dname)\n",
    "    print(len(the_dim))\n",
    "    dsout.createDimension(dname, len(the_dim) if not the_dim.isunlimited() else None)\n",
    "# Copy variables\n",
    "for v_name, varin in dsin.variables.items():\n",
    "    outVar = dsout.createVariable(v_name, varin.datatype, varin.dimensions)\n",
    "    print(varin.datatype)\n",
    "    \n",
    "    # Copy variable attributes\n",
    "    outVar.setncatts({k: varin.getncattr(k) for k in varin.ncattrs()})\n",
    "    \n",
    "    outVar[:] = varin[:]\n",
    "    \n",
    "\n",
    "dsout['TRBDIC'][:] = pi_restart['TRBDIC'][:]\n",
    "dsout['TRBTA'][:] = pi_restart['TRBTA'][:]\n",
    "dsout['TRNDIC'][:] = pi_restart['TRNDIC'][:]\n",
    "dsout['TRNTA'][:] = pi_restart['TRNTA'][:]\n",
    "\n",
    "dsout.close()"
   ]
  },
  {
   "cell_type": "code",
   "execution_count": 6,
   "metadata": {},
   "outputs": [
    {
     "name": "stdout",
     "output_type": "stream",
     "text": [
      "x\n",
      "398\n",
      "y\n",
      "898\n",
      "z\n",
      "40\n",
      "t\n",
      "1\n",
      "nav_lon\n",
      "nav_lat\n",
      "nav_lev\n",
      "time_counter\n",
      "kt\n",
      "ndastp\n",
      "adatrj\n",
      "ssh_ibb\n",
      "rnf_b\n",
      "rnf_hc_b\n",
      "rnf_sc_b\n",
      "utau_b\n",
      "vtau_b\n",
      "qns_b\n",
      "emp_b\n",
      "sfx_b\n",
      "en\n",
      "avt\n",
      "avm\n",
      "avmu\n",
      "avmv\n",
      "mxln\n",
      "ub2_b\n",
      "vb2_b\n",
      "sbc_hc_b\n",
      "sbc_sc_b\n",
      "qsr_hc_b\n",
      "fraqsr_1lev\n",
      "fse3t_b\n",
      "fse3t_n\n",
      "rdt\n",
      "rdttra1\n",
      "ub\n",
      "vb\n",
      "tb\n",
      "sb\n",
      "rotb\n",
      "hdivb\n",
      "sshb\n",
      "un\n",
      "vn\n",
      "tn\n",
      "sn\n",
      "rotn\n",
      "hdivn\n",
      "sshn\n",
      "rhop\n"
     ]
    }
   ],
   "source": [
    "dsin = nc.Dataset('/data/tjarniko/results/BASERUN_EXP/\\\n",
    "MAIN/BR_3rd_2015/SKOG_02471040_restart.nc')\n",
    "\n",
    "ncname = '/data/tjarniko/results/BASERUN_EXP/PI5/SKOG_PI_02471040_restart.nc'\n",
    "dsout = nc.Dataset(ncname, \"w\", format=\"NETCDF4\")\n",
    "#Copy dimensions\n",
    "for dname, the_dim in dsin.dimensions.items():\n",
    "    print(dname)\n",
    "    print(len(the_dim))\n",
    "    dsout.createDimension(dname, len(the_dim) if not the_dim.isunlimited() else None)\n",
    "# Copy variables\n",
    "for v_name, varin in dsin.variables.items():\n",
    "    outVar = dsout.createVariable(v_name, varin.datatype, varin.dimensions)\n",
    "    print(v_name)\n",
    "    \n",
    "    # Copy variable attributes\n",
    "    outVar.setncatts({k: varin.getncattr(k) for k in varin.ncattrs()})\n",
    "    \n",
    "    outVar[:] = varin[:]\n",
    "    \n",
    "\n",
    "\n",
    "dsout.close()"
   ]
  },
  {
   "cell_type": "code",
   "execution_count": 7,
   "metadata": {},
   "outputs": [],
   "source": [
    "# dsin = nc.Dataset('/data/tjarniko/results/BASERUN_EXP/\\\n",
    "# MAIN/BR_3rd_2015/SKOG_02471040_restart.nc')\n",
    "\n",
    "# ncname = '/data/tjarniko/results/BASERUN_EXP/PILA4/SKOG_LA_02471040_restart.nc'\n",
    "# dsout = nc.Dataset(ncname, \"w\", format=\"NETCDF4\")\n",
    "# #Copy dimensions\n",
    "# for dname, the_dim in dsin.dimensions.items():\n",
    "#     print(dname)\n",
    "#     print(len(the_dim))\n",
    "#     dsout.createDimension(dname, len(the_dim) if not the_dim.isunlimited() else None)\n",
    "# # Copy variables\n",
    "# for v_name, varin in dsin.variables.items():\n",
    "#     outVar = dsout.createVariable(v_name, varin.datatype, varin.dimensions)\n",
    "#     print(v_name)\n",
    "    \n",
    "#     # Copy variable attributes\n",
    "#     outVar.setncatts({k: varin.getncattr(k) for k in varin.ncattrs()})\n",
    "    \n",
    "#     outVar[:] = varin[:]\n",
    "    \n",
    "\n",
    "\n",
    "# dsout.close()"
   ]
  },
  {
   "cell_type": "code",
   "execution_count": 9,
   "metadata": {},
   "outputs": [],
   "source": [
    "tdir = '/data/tjarniko/results/BASERUN_EXP/PI5/'\n",
    "\n",
    "pi_newres = nc.Dataset(tdir + 'SKOG_PI_02471040_restart_trc.nc')\n",
    "#la_newres = nc.Dataset(tdir + 'SKOG_LA_02471040_restart_trc.nc')\n",
    "\n",
    "br_pi_trndic = br_restart['TRNDIC'][:]-pi_newres['TRNDIC'][:]\n",
    "#br_la_trndic = br_restart['TRNDIC'][:]-la_newres['TRNDIC'][:]\n",
    "#la_pi_trndic = la_newres['TRNDIC'][:]-pi_newres['TRNDIC'][:]"
   ]
  },
  {
   "cell_type": "code",
   "execution_count": 10,
   "metadata": {},
   "outputs": [
    {
     "name": "stdout",
     "output_type": "stream",
     "text": [
      "(1, 40, 898, 398)\n"
     ]
    }
   ],
   "source": [
    "print(np.shape(br_pi_trndic[:]))"
   ]
  },
  {
   "cell_type": "code",
   "execution_count": 12,
   "metadata": {},
   "outputs": [
    {
     "data": {
      "image/png": "[encoded data removed]",
      "text/plain": [
       "<Figure size 820.8x444.6 with 2 Axes>"
      ]
     },
     "metadata": {
      "needs_background": "light"
     },
     "output_type": "display_data"
    }
   ],
   "source": [
    "import matplotlib.pyplot as plt\n",
    "import cmocean as cm \n",
    "from salishsea_tools import (\n",
    "    nc_tools,\n",
    "    viz_tools,\n",
    "    geo_tools,\n",
    "    tidetools\n",
    ")\n",
    "\n",
    "\n",
    "fact = 0.95\n",
    "tf = 16\n",
    "\n",
    "\n",
    "fig = plt.figure(figsize=(12*fact,6.5*fact))\n",
    "\n",
    "ax1 = fig.add_subplot(1,3,1)\n",
    "tplt = br_pi_trndic[0,30,:,:]\n",
    "viz_tools.set_aspect(ax1)\n",
    "mesh = ax1.pcolormesh(tplt, cmap=cm.cm.balance, vmin=0, vmax=60)\n",
    "viz_tools.plot_land_mask(ax1, '/data/tjarniko/MEOPAR/NEMO-forcing/grid/bathy_meter_SalishSea2.nc', color = 'burlywood')\n",
    "ax1.set_title('BR-PI trndic', fontsize = tf)\n",
    "plt.xticks([])\n",
    "plt.yticks([])\n",
    "cbar = plt.colorbar(mesh)\n",
    "\n",
    "# ax2 = fig.add_subplot(1,3,3)\n",
    "# tplt = PI_flx_gC_m2_yr\n",
    "# viz_tools.set_aspect(ax2)\n",
    "# mesh = ax2.pcolormesh(tplt, cmap=cm.cm.balance, vmin=-170, vmax=170)\n",
    "# viz_tools.plot_land_mask(ax2, '/data/tjarniko/MEOPAR/NEMO-forcing/grid/bathy_meter_SalishSea2.nc', color = 'burlywood')\n",
    "# ax2.set_title('PI_flx_gC_m2_yr', fontsize = tf)\n",
    "# plt.xticks([])\n",
    "# plt.yticks([])\n",
    "#\n",
    "# cbar.ax.tick_params(labelsize=tf)\n",
    "# cbar.set_label('g C $m^{-2}$$yr^{-1}$', fontsize = tf)\n",
    "\n",
    "# ax3 = fig.add_subplot(1,3,2)\n",
    "# tplt = LA_flx_gC_m2_yr\n",
    "# viz_tools.set_aspect(ax3)\n",
    "# mesh = ax3.pcolormesh(tplt, cmap=cm.cm.balance, vmin=-170, vmax=170)\n",
    "# viz_tools.plot_land_mask(ax3, '/data/tjarniko/MEOPAR/NEMO-forcing/grid/bathy_meter_SalishSea2.nc', color = 'burlywood')\n",
    "\n",
    "# ax3.set_title('LA_flx_gC_m2_yr', fontsize = tf)\n",
    "# plt.xticks([])\n",
    "# plt.yticks([])\n",
    "\n",
    "\n",
    "plt.tight_layout()"
   ]
  },
  {
   "cell_type": "code",
   "execution_count": 16,
   "metadata": {},
   "outputs": [],
   "source": [
    "tdir = '/data/tjarniko/results/BASERUN_EXP/PI5/'\n",
    "\n",
    "pi_newres = nc.Dataset(tdir + 'SKOG_PI_02471040_restart_trc.nc')\n",
    "#la_newres = nc.Dataset(tdir + 'SKOG_LA_02471040_restart_trc.nc')\n",
    "\n",
    "br_pi_trndon = br_restart['TRNDON'][:]-pi_newres['TRNDON'][:]\n",
    "#br_la_trndon = br_restart['TRNDON'][:]-la_newres['TRNDON'][:]\n",
    "#la_pi_trndon = la_newres['TRNDON'][:]-pi_newres['TRNDON'][:]"
   ]
  },
  {
   "cell_type": "code",
   "execution_count": 17,
   "metadata": {},
   "outputs": [
    {
     "data": {
      "image/png": "[encoded data removed]",
      "text/plain": [
       "<Figure size 820.8x444.6 with 2 Axes>"
      ]
     },
     "metadata": {
      "needs_background": "light"
     },
     "output_type": "display_data"
    }
   ],
   "source": [
    "import matplotlib.pyplot as plt\n",
    "import cmocean as cm \n",
    "from salishsea_tools import (\n",
    "    nc_tools,\n",
    "    viz_tools,\n",
    "    geo_tools,\n",
    "    tidetools\n",
    ")\n",
    "\n",
    "\n",
    "fact = 0.95\n",
    "tf = 16\n",
    "\n",
    "\n",
    "fig = plt.figure(figsize=(12*fact,6.5*fact))\n",
    "\n",
    "ax1 = fig.add_subplot(1,3,1)\n",
    "tplt = br_pi_trndon[0,10,:,:]\n",
    "viz_tools.set_aspect(ax1)\n",
    "mesh = ax1.pcolormesh(tplt, cmap=cm.cm.balance, vmin=0, vmax=60)\n",
    "viz_tools.plot_land_mask(ax1, '/data/tjarniko/MEOPAR/NEMO-forcing/grid/bathy_meter_SalishSea2.nc', color = 'burlywood')\n",
    "ax1.set_title('BR-PI trndic', fontsize = tf)\n",
    "plt.xticks([])\n",
    "plt.yticks([])\n",
    "cbar = plt.colorbar(mesh)\n",
    "\n",
    "# ax2 = fig.add_subplot(1,3,3)\n",
    "# tplt = PI_flx_gC_m2_yr\n",
    "# viz_tools.set_aspect(ax2)\n",
    "# mesh = ax2.pcolormesh(tplt, cmap=cm.cm.balance, vmin=-170, vmax=170)\n",
    "# viz_tools.plot_land_mask(ax2, '/data/tjarniko/MEOPAR/NEMO-forcing/grid/bathy_meter_SalishSea2.nc', color = 'burlywood')\n",
    "# ax2.set_title('PI_flx_gC_m2_yr', fontsize = tf)\n",
    "# plt.xticks([])\n",
    "# plt.yticks([])\n",
    "#\n",
    "# cbar.ax.tick_params(labelsize=tf)\n",
    "# cbar.set_label('g C $m^{-2}$$yr^{-1}$', fontsize = tf)\n",
    "\n",
    "# ax3 = fig.add_subplot(1,3,2)\n",
    "# tplt = LA_flx_gC_m2_yr\n",
    "# viz_tools.set_aspect(ax3)\n",
    "# mesh = ax3.pcolormesh(tplt, cmap=cm.cm.balance, vmin=-170, vmax=170)\n",
    "# viz_tools.plot_land_mask(ax3, '/data/tjarniko/MEOPAR/NEMO-forcing/grid/bathy_meter_SalishSea2.nc', color = 'burlywood')\n",
    "\n",
    "# ax3.set_title('LA_flx_gC_m2_yr', fontsize = tf)\n",
    "# plt.xticks([])\n",
    "# plt.yticks([])\n",
    "\n",
    "\n",
    "plt.tight_layout()"
   ]
  },
  {
   "cell_type": "code",
   "execution_count": null,
   "metadata": {},
   "outputs": [],
   "source": []
  }
 ],
 "metadata": {
  "kernelspec": {
   "display_name": "Python 3",
   "language": "python",
   "name": "python3"
  },
  "language_info": {
   "codemirror_mode": {
    "name": "ipython",
    "version": 3
   },
   "file_extension": ".py",
   "mimetype": "text/x-python",
   "name": "python",
   "nbconvert_exporter": "python",
   "pygments_lexer": "ipython3",
   "version": "3.7.4"
  }
 },
 "nbformat": 4,
 "nbformat_minor": 2
}
