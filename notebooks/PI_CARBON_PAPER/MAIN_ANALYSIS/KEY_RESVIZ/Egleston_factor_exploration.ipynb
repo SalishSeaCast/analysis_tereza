{
 "cells": [
  {
   "cell_type": "markdown",
   "metadata": {},
   "source": [
    "#### GUIDING QUESTION:\n",
    "\n",
    "following Cai's 2013 paper, we explore the impact of mixing between endmembers in the salish sea and its impact on pH and OmegaA"
   ]
  },
  {
   "cell_type": "code",
   "execution_count": 1,
   "metadata": {},
   "outputs": [
    {
     "name": "stdout",
     "output_type": "stream",
     "text": [
      "Once deleted, variables cannot be recovered. Proceed (y/[n])? y\n"
     ]
    }
   ],
   "source": [
    "%reset"
   ]
  },
  {
   "cell_type": "code",
   "execution_count": 2,
   "metadata": {},
   "outputs": [
    {
     "data": {
      "application/javascript": [
       "IPython.OutputArea.prototype._should_scroll = function(lines) {\n",
       "    return false;\n",
       "}\n"
      ],
      "text/plain": [
       "<IPython.core.display.Javascript object>"
      ]
     },
     "metadata": {},
     "output_type": "display_data"
    }
   ],
   "source": [
    "%%javascript\n",
    "IPython.OutputArea.prototype._should_scroll = function(lines) {\n",
    "    return false;\n",
    "}"
   ]
  },
  {
   "cell_type": "code",
   "execution_count": 3,
   "metadata": {},
   "outputs": [
    {
     "data": {
      "text/html": [
       "<script>\n",
       "code_show=true; \n",
       "function code_toggle() {\n",
       " if (code_show){\n",
       " $('div.input').hide();\n",
       " } else {\n",
       " $('div.input').show();\n",
       " }\n",
       " code_show = !code_show\n",
       "} \n",
       "$( document ).ready(code_toggle);\n",
       "</script>\n",
       "<form action=\"javascript:code_toggle()\"><input type=\"submit\" value=\"Mythical code button\"></form>"
      ],
      "text/plain": [
       "<IPython.core.display.HTML object>"
      ]
     },
     "execution_count": 3,
     "metadata": {},
     "output_type": "execute_result"
    }
   ],
   "source": [
    "from IPython.display import HTML\n",
    "\n",
    "HTML('''<script>\n",
    "code_show=true; \n",
    "function code_toggle() {\n",
    " if (code_show){\n",
    " $('div.input').hide();\n",
    " } else {\n",
    " $('div.input').show();\n",
    " }\n",
    " code_show = !code_show\n",
    "} \n",
    "$( document ).ready(code_toggle);\n",
    "</script>\n",
    "<form action=\"javascript:code_toggle()\"><input type=\"submit\" value=\"Mythical code button\"></form>''')"
   ]
  },
  {
   "cell_type": "code",
   "execution_count": null,
   "metadata": {},
   "outputs": [],
   "source": []
  },
  {
   "cell_type": "code",
   "execution_count": 4,
   "metadata": {},
   "outputs": [],
   "source": [
    "import arrow\n",
    "import numpy as np\n",
    "import xarray as xr\n",
    "import matplotlib.pyplot as plt\n",
    "plt.style.use('classic')\n",
    "from matplotlib.patches import Rectangle\n",
    "import pickle\n",
    "from cmocean import cm\n",
    "import warnings\n",
    "import netCDF4 as nc\n",
    "import sys\n",
    "sys.path.append('../pyscripts/bylayer_extract/')\n",
    "import extract_bylayer_mean_BOXMASK as ebmBOX \n",
    "from importlib import reload\n",
    "from salishsea_tools import viz_tools\n",
    "\n",
    "import sys\n",
    "sys.path.append('/data/tjarniko/mocsy')\n",
    "import mocsy\n",
    "\n",
    "%matplotlib inline\n",
    "warnings.simplefilter('ignore')\n",
    "\n",
    "plt.rcParams.update({'font.size': 13,\n",
    "                     'xtick.labelsize' : 13,\n",
    "                     'ytick.labelsize' : 13})"
   ]
  },
  {
   "cell_type": "code",
   "execution_count": 5,
   "metadata": {},
   "outputs": [],
   "source": [
    "ttemp = 10\n",
    "tsal = 35\n",
    "talk = 2.200\n",
    "tdic_A = 2.190\n",
    "del_dic = 0.001\n",
    "tdic_B = tdic_A + del_dic\n",
    "tzero = 0\n",
    "\n",
    "def calculate_Egleston_factors(ttemp, tsal, talk, tdic_A, del_dic):\n",
    "\n",
    "    tdic_B = tdic_A + del_dic\n",
    "    \n",
    "    tzero = 0\n",
    "    response_tup = mocsy.mvars(temp=ttemp, sal=tsal, alk=talk, dic=tdic_A, \n",
    "                           sil=tzero, phos=tzero, patm=tzero, depth=tzero, lat=tzero, \n",
    "                            optcon='mol/m3', optt='Tinsitu', optp='m',\n",
    "                            optb = 'l10', optk1k2='m10', optkf = 'dg', optgas = 'Pinsitu')\n",
    "\n",
    "    pH_A,pco2_A,fco2,co2_A,hco3,co3,OmegaA_A,OmegaC,BetaD,DENis,p,Tis = response_tup\n",
    "\n",
    "    response_tup = mocsy.mvars(temp=ttemp, sal=tsal, alk=talk, dic=tdic_B, \n",
    "                           sil=tzero, phos=tzero, patm=tzero, depth=tzero, lat=tzero, \n",
    "                            optcon='mol/m3', optt='Tinsitu', optp='m',\n",
    "                            optb = 'l10', optk1k2='m10', optkf = 'dg', optgas = 'Pinsitu')\n",
    "\n",
    "    pH_B,pco2_B,fco2,co2_B,hco3,co3,OmegaA_B,OmegaC,BetaD,DENis,p,Tis = response_tup\n",
    "\n",
    "    omega_DIC = 1/((np.log(OmegaA_B)-np.log(OmegaA_A))/(del_dic))\n",
    "    \n",
    "    Hplus_A = 10**(-1*pH_A); Hplus_B = 10**(-1*pH_B)\n",
    "    beta_DIC = 1/((np.log(Hplus_B)-np.log(Hplus_A))/(del_dic))\n",
    "    \n",
    "    gamma_DIC = 1/((np.log(co2_B)-np.log(co2_A))/(del_dic))\n",
    "    \n",
    "    return omega_DIC, beta_DIC, gamma_DIC\n",
    "\n"
   ]
  },
  {
   "cell_type": "code",
   "execution_count": 6,
   "metadata": {},
   "outputs": [
    {
     "data": {
      "text/plain": [
       "<matplotlib.legend.Legend at 0x7f7b15c8c510>"
      ]
     },
     "execution_count": 6,
     "metadata": {},
     "output_type": "execute_result"
    },
    {
     "data": {
      "image/png": "[encoded data removed]",
      "text/plain": [
       "<Figure size 518.4x410.4 with 1 Axes>"
      ]
     },
     "metadata": {
      "needs_background": "light"
     },
     "output_type": "display_data"
    }
   ],
   "source": [
    "ttemp = 20\n",
    "tsal = 35\n",
    "talk = 2.25\n",
    "dic = np.arange(1.8,2.8,0.005)\n",
    "omega_DICs = np.zeros_like(dic)\n",
    "beta_DICs = np.zeros_like(dic)\n",
    "gamma_DICs = np.zeros_like(dic)\n",
    "del_dic = 0.010\n",
    "\n",
    "for i in range(0,len(dic)):\n",
    "    \n",
    "    tdic_A = dic[i]\n",
    "    omega_DIC, beta_DIC, gamma_DIC =\\\n",
    "    calculate_Egleston_factors(ttemp, tsal, talk, tdic_A, del_dic)\n",
    "    \n",
    "    omega_DICs[i] = omega_DIC\n",
    "    beta_DICs[i] = beta_DIC\n",
    "    gamma_DICs[i] = gamma_DIC\n",
    "    \n",
    "# gamma_DICs[79] = np.nan\n",
    "\n",
    "ts = 14 # title font\n",
    "fs = 10.5 # all other font sizes\n",
    "fact = 0.6\n",
    "fig = plt.figure(figsize=(12*fact, 9.5*fact))\n",
    "\n",
    "ax1 = plt.subplot(1,1,1)\n",
    "\n",
    "ax1.plot(dic,gamma_DICs, label = 'gamma_DIC (sens of co2)')\n",
    "ax1.plot(dic,beta_DICs, label = 'beta_{DIC} (sens of pH)')\n",
    "ax1.plot(dic,-omega_DICs, label = 'omega_DIC (sens of $\\Omega$)')\n",
    "ax1.legend(loc = 'best')\n"
   ]
  },
  {
   "cell_type": "code",
   "execution_count": null,
   "metadata": {},
   "outputs": [],
   "source": []
  }
 ],
 "metadata": {
  "kernelspec": {
   "display_name": "Python 3",
   "language": "python",
   "name": "python3"
  },
  "language_info": {
   "codemirror_mode": {
    "name": "ipython",
    "version": 3
   },
   "file_extension": ".py",
   "mimetype": "text/x-python",
   "name": "python",
   "nbconvert_exporter": "python",
   "pygments_lexer": "ipython3",
   "version": "3.7.4"
  }
 },
 "nbformat": 4,
 "nbformat_minor": 2
}
