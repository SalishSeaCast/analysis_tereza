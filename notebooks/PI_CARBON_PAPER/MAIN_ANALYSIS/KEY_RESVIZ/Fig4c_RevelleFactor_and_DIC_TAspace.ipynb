{
 "cells": [
  {
   "cell_type": "code",
   "execution_count": 2,
   "metadata": {},
   "outputs": [
    {
     "name": "stdout",
     "output_type": "stream",
     "text": [
      "Once deleted, variables cannot be recovered. Proceed (y/[n])? Y\n"
     ]
    }
   ],
   "source": [
    "%reset"
   ]
  },
  {
   "cell_type": "code",
   "execution_count": 3,
   "metadata": {},
   "outputs": [
    {
     "data": {
      "text/html": [
       "<script>\n",
       "code_show=true; \n",
       "function code_toggle() {\n",
       " if (code_show){\n",
       " $('div.input').hide();\n",
       " } else {\n",
       " $('div.input').show();\n",
       " }\n",
       " code_show = !code_show\n",
       "} \n",
       "$( document ).ready(code_toggle);\n",
       "</script>\n",
       "<form action=\"javascript:code_toggle()\"><input type=\"submit\" value=\"Mythical code button\"></form>"
      ],
      "text/plain": [
       "<IPython.core.display.HTML object>"
      ]
     },
     "execution_count": 3,
     "metadata": {},
     "output_type": "execute_result"
    }
   ],
   "source": [
    "from IPython.display import HTML\n",
    "\n",
    "HTML('''<script>\n",
    "code_show=true; \n",
    "function code_toggle() {\n",
    " if (code_show){\n",
    " $('div.input').hide();\n",
    " } else {\n",
    " $('div.input').show();\n",
    " }\n",
    " code_show = !code_show\n",
    "} \n",
    "$( document ).ready(code_toggle);\n",
    "</script>\n",
    "<form action=\"javascript:code_toggle()\"><input type=\"submit\" value=\"Mythical code button\"></form>''')"
   ]
  },
  {
   "cell_type": "code",
   "execution_count": 4,
   "metadata": {},
   "outputs": [],
   "source": [
    "import numpy as np\n",
    "import xarray as xr\n",
    "import matplotlib.pyplot as plt\n",
    "from matplotlib.patches import Rectangle\n",
    "from mpl_toolkits.basemap import Basemap\n",
    "from scipy.io import loadmat\n",
    "import cmocean\n",
    "import warnings\n",
    "import arrow\n",
    "from salishsea_tools import viz_tools, places\n",
    "import netCDF4 as nc\n",
    "import pickle\n",
    "from salishsea_tools import visualisations as vis\n",
    "#import LambertConformalTicks as lct\n",
    "\n",
    "%matplotlib inline\n",
    "plt.rcParams['font.size'] = 11\n",
    "warnings.simplefilter('ignore')"
   ]
  },
  {
   "cell_type": "markdown",
   "metadata": {},
   "source": [
    "# code for extracting Revelle averages -summer\n",
    "\n",
    "#### - BR3 summer  jun 1-aug31\n",
    "#### - PI34 summer - jun 1-aug31\n",
    "\n",
    "#summer is june 20th to sept 22\n",
    "#winter is dec 21 to thursday march 19"
   ]
  },
  {
   "cell_type": "code",
   "execution_count": 5,
   "metadata": {},
   "outputs": [],
   "source": [
    "# #BR3\n",
    "\n",
    "# start ='2015-06-01'\n",
    "# end ='2015-08-31'\n",
    "\n",
    "# start_run = arrow.get(start)\n",
    "# end_run = arrow.get(end)\n",
    "\n",
    "# arrow_array = []\n",
    "\n",
    "# for r in arrow.Arrow.span_range('day', start_run, end_run):\n",
    "#     arrow_array.append(r)\n",
    "\n",
    "# dayslen = len(arrow_array)\n",
    "\n",
    "# BR_OmC_summer = np.zeros([dayslen,40,898,398])\n",
    "\n",
    "# for i in range(0,dayslen):\n",
    "\n",
    "#     tdate = arrow_array[i][0]\n",
    "#     ymd = tdate.format('YYYYMMDD')\n",
    "\n",
    "#     if i%10 == 0:\n",
    "#         print(ymd)\n",
    "#     t_pco2 = nc.Dataset('//data/tjarniko/results/BASERUN_EXP/Oma_calc/BR3_Revelle_'+ymd+'.nc')\n",
    "#     t_OmC = t_pco2['model_output']['RF'][:,:,:]\n",
    "#     BR_OmC_summer[i,:,:,:] = t_OmC\n",
    "\n",
    "# BR_OmC_summer_mean = np.nanmean(BR_OmC_summer,axis=0)\n",
    "# pickle.dump(BR_OmC_summer_mean, open(\"../pkls/BR3_Revelle_SUMMERmean_01jun_31aug.pkl\", 'wb'))\n",
    "\n",
    "# print(np.shape(BR_OmC_summer_mean))\n",
    "\n"
   ]
  },
  {
   "cell_type": "code",
   "execution_count": null,
   "metadata": {},
   "outputs": [],
   "source": []
  },
  {
   "cell_type": "markdown",
   "metadata": {},
   "source": [
    "# code for extracting OmA averages -winter\n",
    "\n",
    "#### - BR3 winter - dec 21 - mar 19 and dec 1- feb 28\n",
    "#### - PI4 winter - dec 21 - mar 19 and dec 1- feb 28\n"
   ]
  },
  {
   "cell_type": "code",
   "execution_count": null,
   "metadata": {},
   "outputs": [],
   "source": []
  },
  {
   "cell_type": "code",
   "execution_count": null,
   "metadata": {},
   "outputs": [],
   "source": []
  },
  {
   "cell_type": "code",
   "execution_count": 6,
   "metadata": {},
   "outputs": [],
   "source": [
    "BR3_summer_3mon = pickle.load(open('../pkls/BR3_Revelle_SUMMERmean_01jun_31aug.pkl', 'rb'))  \n",
    "BR3_winter_3mon = pickle.load(open('../pkls/BR3_Revelle_WINTERmean_01dec_28feb.pkl', 'rb'))  \n",
    "\n",
    "PI4_summer_3mon = pickle.load(open('../pkls/PI4_Revelle_SUMMERmean_01jun_31aug.pkl', 'rb'))  \n",
    "PI4_winter_3mon = pickle.load(open('../pkls/PI4_Revelle_WINTERmean_01dec_28feb.pkl', 'rb'))  \n",
    "\n"
   ]
  },
  {
   "cell_type": "markdown",
   "metadata": {},
   "source": [
    "# 3 month (winter = dec-feb, summer = jun-aug) definition of seasons"
   ]
  },
  {
   "cell_type": "code",
   "execution_count": 8,
   "metadata": {},
   "outputs": [],
   "source": [
    "# bathy = nc.Dataset('/data/tjarniko/MEOPAR/grid/bathymetry_201702.nc')\n",
    "# mesh = nc.Dataset('/data/tjarniko/MEOPAR/grid/mesh_mask201702.nc')\n",
    "# ts = 14 # title font\n",
    "# fs = 10.5 # all other font sizes\n",
    "# fact = 1\n",
    "# tmin= 10\n",
    "# tmax = 20\n",
    "# tstep = 0.1\n",
    "# tcm = cmocean.cm.deep\n",
    "\n",
    "# fig = plt.figure(figsize=(12*fact, 9.5*fact))\n",
    "\n",
    "# ax1 = plt.subplot2grid((3,4), (0,0), colspan=2, rowspan=1)\n",
    "# cbar = \\\n",
    "# vis.contour_thalweg(ax1, PI4_summer_3mon, bathy, mesh,\\\n",
    "#                     np.arange(tmin, tmax, tstep), cmap = tcm)\n",
    "# ax1.set_title('Revelle Factor Summer Average (PI Run)',fontsize = ts)\n",
    "# cbar.ax.tick_params(labelsize=fs) \n",
    "# cbar.set_label('RF', fontsize = fs)\n",
    "# ax1.tick_params(axis='both', which='major', labelsize=fs)\n",
    "# ax1.set_xlabel('km along thalweg')\n",
    "\n",
    "# ax2 = plt.subplot2grid((3,4), (0,2), colspan=2, rowspan=1)\n",
    "# cbar = \\\n",
    "# vis.contour_thalweg(ax2, PI4_winter_3mon, bathy, mesh,\\\n",
    "#                     np.arange(tmin, tmax, tstep), cmap = tcm)\n",
    "# ax2.set_title('Revelle Factor Winter Average (PI Run)',fontsize = ts)\n",
    "# cbar.ax.tick_params(labelsize=fs) \n",
    "# cbar.set_label('RF', fontsize = fs)\n",
    "# ax2.tick_params(axis='both', which='major', labelsize=fs)\n",
    "# ax2.set_xticklabels([])\n",
    "# ax2.set_xlabel('')\n",
    "# ax2.set_xlabel('km along thalweg')\n",
    "\n",
    "# ax3 = plt.subplot2grid((3,4), (1,0), colspan=2, rowspan=1)\n",
    "# cbar = \\\n",
    "# vis.contour_thalweg(ax3, BR3_summer_3mon, bathy, mesh,\\\n",
    "#                     np.arange(tmin, tmax, tstep), cmap = tcm)\n",
    "# ax3.set_title('Revelle Factor Summer Average (BR Run)',fontsize = ts)\n",
    "# cbar.ax.tick_params(labelsize=fs) \n",
    "# cbar.set_label('RF', fontsize = fs)\n",
    "# ax3.tick_params(axis='both', which='major', labelsize=fs)\n",
    "# ax3.set_xlabel('km along thalweg')\n",
    "\n",
    "# ax4 = plt.subplot2grid((3,4), (1,2), colspan=2, rowspan=1)\n",
    "# cbar = \\\n",
    "# vis.contour_thalweg(ax4, BR3_winter_3mon, bathy, mesh,\\\n",
    "#                     np.arange(tmin, tmax, tstep), cmap = tcm)\n",
    "# ax4.set_title('Revelle Factor Winter Average (BR Run)',fontsize = ts)\n",
    "# cbar.ax.tick_params(labelsize=fs) \n",
    "# cbar.set_label('RF', fontsize = fs)\n",
    "# ax4.tick_params(axis='both', which='major', labelsize=fs)\n",
    "# ax4.set_xlabel('km along thalweg')\n",
    "\n",
    "  \n",
    "# fig.tight_layout()"
   ]
  },
  {
   "cell_type": "code",
   "execution_count": 10,
   "metadata": {},
   "outputs": [],
   "source": [
    "# bathy = nc.Dataset('/data/tjarniko/MEOPAR/grid/bathymetry_201702.nc')\n",
    "# mesh = nc.Dataset('/data/tjarniko/MEOPAR/grid/mesh_mask201702.nc')\n",
    "# ts = 14 # title font\n",
    "# fs = 10.5 # all other font sizes\n",
    "# fact = 1\n",
    "# tmin= 0\n",
    "# tmax = 5\n",
    "# tstep = 0.1\n",
    "# tcm = cmocean.cm.deep\n",
    "\n",
    "# fig = plt.figure(figsize=(12*fact, 9.5*fact))\n",
    "\n",
    "# ax1 = plt.subplot2grid((3,4), (0,0), colspan=2, rowspan=1)\n",
    "# cbar = \\\n",
    "# vis.contour_thalweg(ax1, BR3_summer_3mon-PI4_summer_3mon, bathy, mesh,\\\n",
    "#                     np.arange(tmin, tmax, tstep), cmap = tcm)\n",
    "# ax1.set_title('Revelle Factor Summer Average \\n Difference (BR-PI Run)',fontsize = ts)\n",
    "# cbar.ax.tick_params(labelsize=fs) \n",
    "# cbar.set_label('RF', fontsize = fs)\n",
    "# ax1.tick_params(axis='both', which='major', labelsize=fs)\n",
    "# ax1.set_xlabel('km along thalweg')\n",
    "\n",
    "# ax2 = plt.subplot2grid((3,4), (0,2), colspan=2, rowspan=1)\n",
    "# cbar = \\\n",
    "# vis.contour_thalweg(ax2, BR3_winter_3mon-PI4_winter_3mon, bathy, mesh,\\\n",
    "#                     np.arange(tmin, tmax, tstep), cmap = tcm)\n",
    "# ax2.set_title('Revelle Factor Winter Average \\n Difference (BR-PI Run)',fontsize = ts)\n",
    "# cbar.ax.tick_params(labelsize=fs) \n",
    "# cbar.set_label('RF', fontsize = fs)\n",
    "# ax2.tick_params(axis='both', which='major', labelsize=fs)\n",
    "# ax2.set_xticklabels([])\n",
    "# ax2.set_xlabel('')\n",
    "# ax2.set_xlabel('km along thalweg')\n",
    "\n",
    "\n",
    "\n",
    "  \n",
    "# fig.tight_layout()"
   ]
  },
  {
   "cell_type": "code",
   "execution_count": 11,
   "metadata": {},
   "outputs": [],
   "source": [
    "BR3_summer_3mon = pickle.load(open('../pkls/BR3_Revelle_SUMMERmean_01jun_31aug.pkl', 'rb'))  \n",
    "BR3_winter_3mon = pickle.load(open('../pkls/BR3_Revelle_WINTERmean_01dec_28feb.pkl', 'rb'))  \n",
    "\n",
    "PI4_summer_3mon = pickle.load(open('../pkls/PI4_Revelle_SUMMERmean_01jun_31aug.pkl', 'rb'))  \n",
    "PI4_winter_3mon = pickle.load(open('../pkls/PI4_Revelle_WINTERmean_01dec_28feb.pkl', 'rb'))  \n",
    "\n",
    "csize = pickle.load(open('../pkls/cellsize_alg2.pkl', 'rb'))\n",
    "csize[BR3_summer_3mon > 1e10 ] = 0\n",
    "\n",
    "\n",
    "BR3_summer_nn = BR3_summer_3mon[BR3_summer_3mon<1e10]\n",
    "BR3_winter_nn = BR3_winter_3mon[BR3_winter_3mon<1e10]\n",
    "PI4_summer_nn = PI4_summer_3mon[PI4_summer_3mon<1e10]\n",
    "PI4_winter_nn = PI4_winter_3mon[PI4_winter_3mon<1e10]\n",
    "\n",
    "\n",
    "\n",
    "csize_nn = csize[BR3_summer_3mon<1e10]\n",
    "csize_nn[np.isnan(csize_nn)] = 0\n",
    "\n",
    "\n",
    "nbins = 84\n",
    "hist_BR3_summer, bins = np.histogram(BR3_summer_nn, bins=nbins, range = [0, 20], weights=csize_nn)\n",
    "hist_PI4_summer, bins = np.histogram(PI4_summer_nn, bins=nbins, range = [0, 20], weights=csize_nn)\n",
    "hist_BR3_winter, bins = np.histogram(BR3_winter_nn, bins=nbins, range = [0, 20], weights=csize_nn)\n",
    "hist_PI4_winter, bins = np.histogram(PI4_winter_nn, bins=nbins, range = [0, 20], weights=csize_nn)\n",
    "\n",
    "\n",
    "bin_cent = bins + (bins[1]-bins[0])/2\n",
    "\n",
    "tot_count = np.sum(hist_BR3_summer)"
   ]
  },
  {
   "cell_type": "code",
   "execution_count": 12,
   "metadata": {},
   "outputs": [
    {
     "data": {
      "text/plain": [
       "Text(0, 0.5, 'proportion of domain')"
      ]
     },
     "execution_count": 12,
     "metadata": {},
     "output_type": "execute_result"
    },
    {
     "data": {
      "image/png": "[encoded data removed]",
      "text/plain": [
       "<Figure size 864x684 with 1 Axes>"
      ]
     },
     "metadata": {
      "needs_background": "light"
     },
     "output_type": "display_data"
    }
   ],
   "source": [
    "fig = plt.figure(figsize=(12*fact, 9.5*fact))\n",
    "\n",
    "ax6 = plt.subplot(3,1,1)\n",
    "\n",
    "ax6.plot(bin_cent[0:nbins],hist_BR3_winter/tot_count, color = 'slategray', lw = 3.4,label = 'BR - winter mean')\n",
    "ax6.plot(bin_cent[0:nbins],hist_PI4_winter/tot_count, \\\n",
    "         color = 'slategray', lw = 3.4, linestyle = '--', label = 'PI - winter mean')\n",
    "ax6.plot(bin_cent[0:nbins],hist_BR3_summer/tot_count, color = 'springgreen', lw = 3.4,label = 'BR - summer mean')\n",
    "ax6.plot(bin_cent[0:nbins],hist_PI4_summer/tot_count, \\\n",
    "         color = 'springgreen', lw = 3.4, linestyle = '--', label = 'PI - summer mean')\n",
    "ax6.legend(loc = 'best')\n",
    "ax6.set_xlim([5,20])\n",
    "ax6.set_title('$RF$ distribution')\n",
    "ax6.axvline(x = 1, color = 'red', lw = 2)\n",
    "ax6.set_xlabel('$RF$')\n",
    "ax6.set_ylabel('proportion of domain')"
   ]
  },
  {
   "cell_type": "code",
   "execution_count": 13,
   "metadata": {},
   "outputs": [],
   "source": [
    "BR3_summer_3mon = pickle.load(open('../pkls/BR3_Revelle_SUMMERmean_01jun_31aug.pkl', 'rb'))  \n",
    "BR3_winter_3mon = pickle.load(open('../pkls/BR3_Revelle_WINTERmean_01dec_28feb.pkl', 'rb'))  \n",
    "\n",
    "PI4_summer_3mon = pickle.load(open('../pkls/PI4_Revelle_SUMMERmean_01jun_31aug.pkl', 'rb'))  \n",
    "PI4_winter_3mon = pickle.load(open('../pkls/PI4_Revelle_WINTERmean_01dec_28feb.pkl', 'rb'))  \n",
    "\n",
    "csize = pickle.load(open('../pkls/cellsize_alg2.pkl', 'rb'))\n",
    "csize[BR3_summer_3mon > 1e10 ] = 0\n",
    "\n",
    "BR3_summer_nn = BR3_summer_3mon[BR3_summer_3mon<1e10]\n",
    "BR3_winter_nn = BR3_winter_3mon[BR3_summer_3mon<1e10]\n",
    "PI4_summer_nn = PI4_summer_3mon[BR3_summer_3mon<1e10]\n",
    "PI4_winter_nn = PI4_winter_3mon[BR3_summer_3mon<1e10]\n",
    "\n",
    "summerdiff = BR3_summer_nn-PI4_summer_nn\n",
    "winterdiff = BR3_winter_nn-PI4_winter_nn\n",
    "\n",
    "\n",
    "csize_nn = csize[BR3_summer_3mon<1e10]\n",
    "csize_nn[np.isnan(csize_nn)] = 0\n",
    "\n",
    "\n",
    "nbins = 84\n",
    "hist_summerdiff, bins = np.histogram(summerdiff, bins=nbins, range = [-10, 10], weights=csize_nn)\n",
    "hist_winterdiff, bins = np.histogram(winterdiff, bins=nbins, range = [-10, 10], weights=csize_nn)\n",
    "\n",
    "bin_cent = bins + (bins[1]-bins[0])/2\n",
    "tot_count = np.sum(hist_summerdiff)"
   ]
  },
  {
   "cell_type": "code",
   "execution_count": null,
   "metadata": {},
   "outputs": [],
   "source": []
  },
  {
   "cell_type": "code",
   "execution_count": 14,
   "metadata": {},
   "outputs": [
    {
     "data": {
      "text/plain": [
       "Text(0, 0.5, 'proportion of domain')"
      ]
     },
     "execution_count": 14,
     "metadata": {},
     "output_type": "execute_result"
    },
    {
     "data": {
      "image/png": "[encoded data removed]",
      "text/plain": [
       "<Figure size 864x684 with 1 Axes>"
      ]
     },
     "metadata": {
      "needs_background": "light"
     },
     "output_type": "display_data"
    }
   ],
   "source": [
    "fig = plt.figure(figsize=(12*fact, 9.5*fact))\n",
    "\n",
    "ax6 = plt.subplot(3,1,1)\n",
    "\n",
    "ax6.plot(bin_cent[0:nbins],hist_winterdiff/tot_count, color = 'slategray', lw = 3.4,label = 'BR - winter mean')\n",
    "ax6.plot(bin_cent[0:nbins],hist_summerdiff/tot_count, color = 'springgreen', lw = 3.4,label = 'BR - summer mean')\n",
    "\n",
    "ax6.legend(loc = 'best')\n",
    "ax6.set_xlim([0,5])\n",
    "ax6.set_title('$RF$ difference distribution')\n",
    "ax6.set_xlabel('$RF$ (BR-PI)')\n",
    "ax6.set_ylabel('proportion of domain')"
   ]
  },
  {
   "cell_type": "markdown",
   "metadata": {},
   "source": [
    "## What proportion of the domain has DIC-TA <50?\n",
    "## What proportion of the domain has salinity<20?\n"
   ]
  },
  {
   "cell_type": "code",
   "execution_count": 50,
   "metadata": {},
   "outputs": [],
   "source": [
    "BR3_DIC_winter = pickle.load(open('../pkls/BR3_DIC_winter_mean.pkl', 'rb'))  \n",
    "BR3_DIC_summer = pickle.load(open('../pkls/BR3_DIC_summer_mean.pkl', 'rb'))  \n",
    "PI4_DIC_winter = pickle.load(open('../pkls/PI4_DIC_winter_mean.pkl', 'rb'))  \n",
    "PI4_DIC_summer = pickle.load(open('../pkls/PI4_DIC_summer_mean.pkl', 'rb'))  \n",
    "PI4_TA_winter = pickle.load(open('../pkls/BR3_TA_winter_mean.pkl', 'rb'))  \n",
    "PI4_TA_summer = pickle.load(open('../pkls/PI4_TA_summer_mean.pkl', 'rb'))  \n",
    "PI4_sal_winter = pickle.load(open('../pkls/BR3_sal_winter_mean.pkl', 'rb'))  \n",
    "PI4_sal_summer = pickle.load(open('../pkls/BR3_sal_summer_mean.pkl', 'rb'))  \n",
    "\n",
    "mask = nc.Dataset('/data/tjarniko/MEOPAR/grid/mesh_mask201702.nc')\n",
    "lmask = mask['tmask'][0,:,:,:]\n",
    "#print(lmask[0,250,250])\n"
   ]
  },
  {
   "cell_type": "code",
   "execution_count": 51,
   "metadata": {},
   "outputs": [],
   "source": [
    "# BR3_DIC_winter[31:40,:,:] = np.nan\n",
    "# BR3_DIC_summer[31:40,:,:] = np.nan\n",
    "# PI4_DIC_winter = PI4_DIC_winter - 2\n",
    "# PI4_DIC_summer = PI4_DIC_summer - 2\n",
    "# PI4_DIC_winter[31:40,:,:] = np.nan\n",
    "# PI4_DIC_summer[31:40,:,:] = np.nan\n",
    "# PI4_TA_winter[31:40,:,:] = np.nan\n",
    "# PI4_TA_summer[31:40,:,:] = np.nan\n",
    "\n",
    "# BR3_DIC_winter[31:40,:,:] = np.nan\n",
    "\n",
    "# BR3_DIC_winter = pickle.load(open('../pkls/BR3_DIC_winter_mean.pkl', 'rb'))  \n",
    "# BR3_DIC_summer = pickle.load(open('../pkls/BR3_DIC_summer_mean.pkl', 'rb'))  \n",
    "# PI4_DIC_winter = pickle.load(open('../pkls/PI4_DIC_winter_mean.pkl', 'rb'))  \n",
    "# PI4_DIC_summer = pickle.load(open('../pkls/PI4_DIC_summer_mean.pkl', 'rb'))  \n",
    "# PI4_TA_winter = pickle.load(open('../pkls/BR3_TA_winter_mean.pkl', 'rb'))  \n",
    "# PI4_TA_summer = pickle.load(open('../pkls/PI4_TA_summer_mean.pkl', 'rb'))  \n"
   ]
  },
  {
   "cell_type": "code",
   "execution_count": 52,
   "metadata": {},
   "outputs": [
    {
     "name": "stdout",
     "output_type": "stream",
     "text": [
      "302.60562001103926\n",
      "-73.40050606105649\n"
     ]
    }
   ],
   "source": [
    "\n",
    "\n",
    "summer_TA_DIC_BR3 = PI4_TA_summer-BR3_DIC_summer\n",
    "winter_TA_DIC_BR3 = PI4_TA_winter-BR3_DIC_winter\n",
    "summer_TA_DIC_PI4 = PI4_TA_summer-PI4_DIC_summer\n",
    "winter_TA_DIC_PI4 = PI4_TA_winter-PI4_DIC_winter\n",
    "\n",
    "summer_TA_DIC_BR3 = summer_TA_DIC_BR3[lmask == 1]\n",
    "winter_TA_DIC_BR3 = winter_TA_DIC_BR3[lmask == 1]\n",
    "summer_TA_DIC_PI4 = summer_TA_DIC_PI4[lmask == 1]\n",
    "winter_TA_DIC_PI4 = winter_TA_DIC_PI4[lmask == 1]\n",
    "\n",
    "print(np.nanmax(summer_TA_DIC_BR3))\n",
    "print(np.nanmin(summer_TA_DIC_BR3))"
   ]
  },
  {
   "cell_type": "code",
   "execution_count": 53,
   "metadata": {},
   "outputs": [
    {
     "name": "stdout",
     "output_type": "stream",
     "text": [
      "[-95. -85. -75. -65. -55. -45. -35. -25. -15.  -5.   5.  15.  25.  35.\n",
      "  45.  55.  65.  75.  85.  95. 105. 115. 125. 135. 145. 155. 165. 175.\n",
      " 185. 195. 205. 215. 225. 235. 245. 255. 265. 275. 285. 295. 305. 315.\n",
      " 325. 335. 345. 355. 365. 375. 385. 395. 405.]\n"
     ]
    }
   ],
   "source": [
    "\n",
    "nbins = 50\n",
    "hist_summer_TA_DIC_BR3, bins = np.histogram(summer_TA_DIC_BR3, bins=nbins, range = [-100, 400], weights=csize_nn)\n",
    "hist_winter_TA_DIC_BR3, bins = np.histogram(winter_TA_DIC_BR3, bins=nbins, range = [-100, 400], weights=csize_nn)\n",
    "hist_summer_TA_DIC_PI4, bins = np.histogram(summer_TA_DIC_PI4, bins=nbins, range = [-100, 400], weights=csize_nn)\n",
    "hist_winter_TA_DIC_PI4, bins = np.histogram(winter_TA_DIC_PI4, bins=nbins, range = [-100, 400], weights=csize_nn)\n",
    "\n",
    "\n",
    "bin_cent = bins + (bins[1]-bins[0])/2\n",
    "print(bin_cent)\n",
    "tot_count = np.sum(hist_summerdiff)"
   ]
  },
  {
   "cell_type": "code",
   "execution_count": 54,
   "metadata": {},
   "outputs": [
    {
     "data": {
      "text/plain": [
       "Text(0, 0.5, 'proportion of domain')"
      ]
     },
     "execution_count": 54,
     "metadata": {},
     "output_type": "execute_result"
    },
    {
     "data": {
      "image/png": "[encoded data removed]",
      "text/plain": [
       "<Figure size 864x684 with 1 Axes>"
      ]
     },
     "metadata": {
      "needs_background": "light"
     },
     "output_type": "display_data"
    }
   ],
   "source": [
    "fig = plt.figure(figsize=(12*fact, 9.5*fact))\n",
    "\n",
    "ax6 = plt.subplot(3,1,1)\n",
    "\n",
    "ax6.plot(bin_cent[0:nbins],hist_winter_TA_DIC_BR3/tot_count, color = 'slategray', lw = 3.4,label = 'BR - winter mean')\n",
    "ax6.plot(bin_cent[0:nbins],hist_winter_TA_DIC_PI4/tot_count, \\\n",
    "         color = 'slategray', lw = 3.4, linestyle = '--', label = 'PI - winter mean')\n",
    "ax6.plot(bin_cent[0:nbins],hist_summer_TA_DIC_BR3/tot_count, color = 'springgreen', lw = 3.4,label = 'BR - summer mean')\n",
    "ax6.plot(bin_cent[0:nbins],hist_summer_TA_DIC_PI4/tot_count, \\\n",
    "         color = 'springgreen', lw = 3.4, linestyle = '--', label = 'PI - summer mean')\n",
    "ax6.legend(loc = 'best')\n",
    "ax6.set_xlim([-100,400])\n",
    "ax6.set_title('$TA-DIC$ distribution')\n",
    "ax6.axvline(x = 1, color = 'red', lw = 2)\n",
    "ax6.set_xlabel('$TA-DIC$')\n",
    "ax6.set_ylabel('proportion of domain')"
   ]
  },
  {
   "cell_type": "code",
   "execution_count": 55,
   "metadata": {},
   "outputs": [
    {
     "name": "stdout",
     "output_type": "stream",
     "text": [
      "present day proportion of domain where TA-DIC < 50\n",
      "0.3830945692101053\n",
      "0.4122788779317652\n",
      "preindustrial proportion of domain where TA-DIC < 50\n",
      "0.021817972761332495\n",
      "0.016728341654868962\n"
     ]
    }
   ],
   "source": [
    "print('present day proportion of domain where TA-DIC < 50')\n",
    "print(np.sum(hist_winter_TA_DIC_BR3[0:15]/tot_count))\n",
    "print(np.sum(hist_summer_TA_DIC_BR3[0:15]/tot_count))\n",
    "\n",
    "print('preindustrial proportion of domain where TA-DIC < 50')\n",
    "print(np.sum(hist_winter_TA_DIC_PI4[0:15]/tot_count))\n",
    "print(np.sum(hist_summer_TA_DIC_PI4[0:15]/tot_count))"
   ]
  },
  {
   "cell_type": "code",
   "execution_count": 41,
   "metadata": {},
   "outputs": [
    {
     "data": {
      "text/plain": [
       "masked_array(data=[  0.50000027,   1.50000314,   2.5000115 ,   3.50003055,\n",
       "                     4.50007042,   5.50015083,   6.50031022,   7.50062342,\n",
       "                     8.50123623,   9.50243254,  10.5047653 ,  11.50931127,\n",
       "                    12.51816684,  13.53541212,  14.56898216,  15.63428737,\n",
       "                    16.76117342,  18.00713456,  19.48178514,  21.38997868,\n",
       "                    24.10025665,  28.22991514,  34.68575798,  44.51772486,\n",
       "                    58.48433368,  76.58558445,  98.06295924, 121.8665184 ,\n",
       "                   147.08945807, 173.11448217, 199.57304923],\n",
       "             mask=False,\n",
       "       fill_value=1e+20)"
      ]
     },
     "execution_count": 41,
     "metadata": {},
     "output_type": "execute_result"
    }
   ],
   "source": [
    "mesh['gdept_1d'][0,0:31]"
   ]
  },
  {
   "cell_type": "code",
   "execution_count": 42,
   "metadata": {},
   "outputs": [
    {
     "ename": "IndexError",
     "evalue": "too many indices for array",
     "output_type": "error",
     "traceback": [
      "\u001b[0;31m---------------------------------------\u001b[0m",
      "\u001b[0;31mIndexError\u001b[0mTraceback (most recent call last)",
      "\u001b[0;32m<ipython-input-42-25625d079f5d>\u001b[0m in \u001b[0;36m<module>\u001b[0;34m\u001b[0m\n\u001b[1;32m      4\u001b[0m \u001b[0mwinter_TA_DIC_PI4\u001b[0m \u001b[0;34m=\u001b[0m \u001b[0mPI4_TA_winter\u001b[0m\u001b[0;34m-\u001b[0m\u001b[0mPI4_DIC_winter\u001b[0m\u001b[0;34m\u001b[0m\u001b[0;34m\u001b[0m\u001b[0m\n\u001b[1;32m      5\u001b[0m \u001b[0;34m\u001b[0m\u001b[0m\n\u001b[0;32m----> 6\u001b[0;31m \u001b[0msummer_TA_DIC_BR3\u001b[0m \u001b[0;34m=\u001b[0m \u001b[0msummer_TA_DIC_BR3\u001b[0m\u001b[0;34m[\u001b[0m\u001b[0mlmask\u001b[0m \u001b[0;34m==\u001b[0m \u001b[0;36m1\u001b[0m\u001b[0;34m]\u001b[0m\u001b[0;34m\u001b[0m\u001b[0;34m\u001b[0m\u001b[0m\n\u001b[0m\u001b[1;32m      7\u001b[0m \u001b[0mwinter_TA_DIC_BR3\u001b[0m \u001b[0;34m=\u001b[0m \u001b[0mwinter_TA_DIC_BR3\u001b[0m\u001b[0;34m[\u001b[0m\u001b[0mlmask\u001b[0m \u001b[0;34m==\u001b[0m \u001b[0;36m1\u001b[0m\u001b[0;34m]\u001b[0m\u001b[0;34m\u001b[0m\u001b[0;34m\u001b[0m\u001b[0m\n\u001b[1;32m      8\u001b[0m \u001b[0msummer_TA_DIC_PI4\u001b[0m \u001b[0;34m=\u001b[0m \u001b[0msummer_TA_DIC_PI4\u001b[0m\u001b[0;34m[\u001b[0m\u001b[0mlmask\u001b[0m \u001b[0;34m==\u001b[0m \u001b[0;36m1\u001b[0m\u001b[0;34m]\u001b[0m\u001b[0;34m\u001b[0m\u001b[0;34m\u001b[0m\u001b[0m\n",
      "\u001b[0;31mIndexError\u001b[0m: too many indices for array"
     ]
    }
   ],
   "source": [
    "summer_TA_DIC_BR3_TOP = PI4_TA_summer-BR3_DIC_summer\n",
    "winter_TA_DIC_BR3 = PI4_TA_winter-BR3_DIC_winter\n",
    "summer_TA_DIC_PI4 = PI4_TA_summer-PI4_DIC_summer\n",
    "winter_TA_DIC_PI4 = PI4_TA_winter-PI4_DIC_winter\n",
    "\n",
    "summer_TA_DIC_BR3 = summer_TA_DIC_BR3[lmask == 1]\n",
    "winter_TA_DIC_BR3 = winter_TA_DIC_BR3[lmask == 1]\n",
    "summer_TA_DIC_PI4 = summer_TA_DIC_PI4[lmask == 1]\n",
    "winter_TA_DIC_PI4 = winter_TA_DIC_PI4[lmask == 1]\n",
    "\n",
    "print(np.max(summer_TA_DIC_BR3))\n",
    "print(np.min(summer_TA_DIC_BR3))"
   ]
  },
  {
   "cell_type": "code",
   "execution_count": null,
   "metadata": {},
   "outputs": [],
   "source": [
    "\n",
    "nbins = 50\n",
    "hist_summer_TA_DIC_BR3, bins = np.histogram(summer_TA_DIC_BR3, bins=nbins, range = [-100, 400], weights=csize_nn)\n",
    "hist_winter_TA_DIC_BR3, bins = np.histogram(winter_TA_DIC_BR3, bins=nbins, range = [-100, 400], weights=csize_nn)\n",
    "hist_summer_TA_DIC_PI4, bins = np.histogram(summer_TA_DIC_PI4, bins=nbins, range = [-100, 400], weights=csize_nn)\n",
    "hist_winter_TA_DIC_PI4, bins = np.histogram(winter_TA_DIC_PI4, bins=nbins, range = [-100, 400], weights=csize_nn)\n",
    "\n",
    "\n",
    "bin_cent = bins + (bins[1]-bins[0])/2\n",
    "print(bin_cent)\n",
    "tot_count = np.sum(hist_summerdiff)"
   ]
  }
 ],
 "metadata": {
  "kernelspec": {
   "display_name": "Python 3",
   "language": "python",
   "name": "python3"
  },
  "language_info": {
   "codemirror_mode": {
    "name": "ipython",
    "version": 3
   },
   "file_extension": ".py",
   "mimetype": "text/x-python",
   "name": "python",
   "nbconvert_exporter": "python",
   "pygments_lexer": "ipython3",
   "version": "3.7.4"
  }
 },
 "nbformat": 4,
 "nbformat_minor": 2
}
