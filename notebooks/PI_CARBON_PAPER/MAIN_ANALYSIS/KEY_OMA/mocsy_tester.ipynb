{
 "cells": [
  {
   "cell_type": "code",
   "execution_count": 3,
   "metadata": {},
   "outputs": [],
   "source": [
    "import sys\n",
    "sys.path.append('/data/tjarniko/mocsy')\n",
    "import mocsy\n",
    "import gsw\n",
    "\n",
    "tdepths = 30\n",
    "tsra = 29\n",
    "ttera = 7\n",
    "ttara = 2200 * 1e-3\n",
    "tdra = 2150 * 1e-3\n",
    "tzero = 0\n",
    "#tpressure = 0\n",
    "tpressure =1\n",
    "tzero = tpressure * 0 \n",
    "\n",
    "tsra_psu = tsra*35/35.16504\n",
    "ttera_is = gsw.t_from_CT(tsra,ttera,tzero)\n",
    "\n",
    "response_tup = mocsy.mvars(temp=ttera_is, sal=tsra_psu, alk=ttara, dic=tdra, \n",
    "                   sil=tzero, phos=tzero, patm=tpressure, depth=tdepths, lat=tzero, \n",
    "                    optcon='mol/m3', optt='Tinsitu', optp='m',\n",
    "                    optb = 'l10', optk1k2='m10', optkf = 'dg', optgas = 'Pinsitu')\n",
    "pH,pco2,fco2,co2,hco3,co3,OmegaA,OmegaC,BetaD,DENis,p,Tis = response_tup"
   ]
  },
  {
   "cell_type": "code",
   "execution_count": 4,
   "metadata": {},
   "outputs": [
    {
     "name": "stdout",
     "output_type": "stream",
     "text": [
      "[7.78451342]\n"
     ]
    }
   ],
   "source": [
    "print(pH)"
   ]
  },
  {
   "cell_type": "code",
   "execution_count": 5,
   "metadata": {},
   "outputs": [
    {
     "name": "stdout",
     "output_type": "stream",
     "text": [
      "ChangeLog                         \u001b[0m\u001b[01;34mlogo\u001b[0m/\r\n",
      "Doxyfile                          mainpage.txt\r\n",
      "dual_num_auto_diff.mod            Makefile\r\n",
      "\u001b[01;34mexamples\u001b[0m/                         MANIFEST.in\r\n",
      "gsw_mod_baltic_data.mod           \u001b[01;34mmocsy\u001b[0m/\r\n",
      "gsw_mod_error_functions.mod       \u001b[01;32mmocsy.cpython-37m-x86_64-linux-gnu.so\u001b[0m*\r\n",
      "gsw_mod_kinds.mod                 \u001b[01;34mnotebooks\u001b[0m/\r\n",
      "gsw_mod_saar_data.mod             README.rst\r\n",
      "gsw_mod_specvol_coefficients.mod  requirements.txt\r\n",
      "gsw_mod_teos10_constants.mod      setup.py\r\n",
      "gsw_mod_toolbox.mod               \u001b[01;34msrc\u001b[0m/\r\n",
      "LICENSE                           \u001b[01;34mtest\u001b[0m/\r\n"
     ]
    }
   ],
   "source": [
    "ls /data/tjarniko/mocsy "
   ]
  },
  {
   "cell_type": "code",
   "execution_count": null,
   "metadata": {},
   "outputs": [],
   "source": []
  }
 ],
 "metadata": {
  "kernelspec": {
   "display_name": "Python 3",
   "language": "python",
   "name": "python3"
  },
  "language_info": {
   "codemirror_mode": {
    "name": "ipython",
    "version": 3
   },
   "file_extension": ".py",
   "mimetype": "text/x-python",
   "name": "python",
   "nbconvert_exporter": "python",
   "pygments_lexer": "ipython3",
   "version": "3.7.4"
  }
 },
 "nbformat": 4,
 "nbformat_minor": 2
}
