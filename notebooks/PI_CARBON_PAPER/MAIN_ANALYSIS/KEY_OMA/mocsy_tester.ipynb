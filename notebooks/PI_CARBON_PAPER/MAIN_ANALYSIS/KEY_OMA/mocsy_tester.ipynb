{
 "cells": [
  {
   "cell_type": "code",
   "execution_count": 1,
   "metadata": {},
   "outputs": [
    {
     "name": "stdout",
     "output_type": "stream",
     "text": [
      "[ 5.   5.5  6.   6.5  7.   7.5  8.   8.5  9.   9.5 10.  10.5 11.  11.5\n",
      " 12.  12.5 13.  13.5 14.  14.5 15.  15.5 16.  16.5 17.  17.5 18.  18.5\n",
      " 19.  19.5]\n",
      "[0.50003143 0.50223221 0.50448825 0.50679994 0.50916771 0.51159196\n",
      " 0.51407313 0.51661169 0.5192081  0.52186285 0.52457643 0.52734937\n",
      " 0.53018219 0.53307545 0.5360297  0.53904554 0.54212356 0.54526437\n",
      " 0.5484686  0.55173691 0.55506996 0.55846843 0.56193303 0.56546448\n",
      " 0.5690635  0.57273087 0.57646734 0.58027373 0.58415083 0.58809948]\n",
      "0.0022007776817782876\n",
      "0.002256040655721603\n",
      "0.0023116971671414133\n",
      "0.0023677621740081367\n",
      "0.0024242507462461926\n",
      "0.0024811780695875862\n",
      "0.0025385594505054065\n",
      "0.0025964103202661404\n",
      "0.0026547462399789667\n",
      "0.0027135829051097016\n",
      "0.002772936150255978\n",
      "0.0028328219542865796\n",
      "0.002893256444898018\n",
      "0.002954255903986791\n",
      "0.003015836772830016\n",
      "0.0030780156567236094\n",
      "0.0031408093315133945\n",
      "0.0032042347474036115\n",
      "0.0032683090359622025\n",
      "0.0033330495147254613\n",
      "0.0033984736934636883\n",
      "0.0034645992794946068\n",
      "0.0035314441841247657\n",
      "0.0035990265279386424\n",
      "0.003667364647815141\n",
      "0.003736477102165958\n",
      "0.0038063826780262433\n",
      "0.0038771003970522466\n",
      "0.003948649522478198\n"
     ]
    }
   ],
   "source": [
    "import sys\n",
    "sys.path.append('/data/tjarniko/mocsy')\n",
    "import mocsy\n",
    "import gsw\n",
    "from matplotlib import pyplot as plt\n",
    "import numpy as np\n",
    "\n",
    "temp = np.arange(5,20,0.5)\n",
    "oma = np.zeros_like(temp)\n",
    "print(temp)\n",
    "tdepths = 30\n",
    "tsra = 30\n",
    "ttera = 7\n",
    "ttara = 2200 * 1e-3\n",
    "tdra = 2220 * 1e-3\n",
    "tzero = 0\n",
    "#tpressure = 0\n",
    "tpressure =1\n",
    "tzero = tpressure * 0 \n",
    "\n",
    "tsra_psu = tsra*35/35.16504\n",
    "ttera_is = gsw.t_from_CT(tsra,ttera,tzero)\n",
    "for i in range(0,len(temp)):\n",
    "    \n",
    "    ttera = temp[i]\n",
    "    ttera_is = gsw.t_from_CT(tsra,ttera,tzero)\n",
    "    response_tup = mocsy.mvars(temp=ttera_is, sal=tsra_psu, alk=ttara, dic=tdra, \n",
    "                       sil=tzero, phos=tzero, patm=tpressure, depth=tdepths, lat=tzero, \n",
    "                        optcon='mol/m3', optt='Tinsitu', optp='m',\n",
    "                        optb = 'l10', optk1k2='m10', optkf = 'dg', optgas = 'Pinsitu')\n",
    "    pH,pco2,fco2,co2,hco3,co3,OmegaA,OmegaC,BetaD,DENis,p,Tis = response_tup\n",
    "    #print(OmegaA)\n",
    "    oma[i] = OmegaA\n",
    "    \n",
    "plt.plot(temp,oma)\n",
    "print(oma)\n",
    "plt.xlabel('temp in situ')\n",
    "plt.ylabel('oma')\n",
    "plt.title('DIC = 2050, TA = 2200, S = 30, depth = 30')\n",
    "for i in range(0,len(oma)-1):\n",
    "    print(oma[i+1]-oma[i])"
   ]
  },
  {
   "cell_type": "code",
   "execution_count": 2,
   "metadata": {},
   "outputs": [
    {
     "name": "stdout",
     "output_type": "stream",
     "text": [
      "[7.78451342]\n"
     ]
    }
   ],
   "source": [
    "print(pH)"
   ]
  },
  {
   "cell_type": "code",
   "execution_count": 5,
   "metadata": {},
   "outputs": [
    {
     "name": "stdout",
     "output_type": "stream",
     "text": [
      "ChangeLog                         \u001b[0m\u001b[01;34mlogo\u001b[0m/\n",
      "Doxyfile                          mainpage.txt\n",
      "dual_num_auto_diff.mod            Makefile\n",
      "\u001b[01;34mexamples\u001b[0m/                         MANIFEST.in\n",
      "gsw_mod_baltic_data.mod           \u001b[01;34mmocsy\u001b[0m/\n",
      "gsw_mod_error_functions.mod       \u001b[01;32mmocsy.cpython-37m-x86_64-linux-gnu.so\u001b[0m*\n",
      "gsw_mod_kinds.mod                 \u001b[01;34mnotebooks\u001b[0m/\n",
      "gsw_mod_saar_data.mod             README.rst\n",
      "gsw_mod_specvol_coefficients.mod  requirements.txt\n",
      "gsw_mod_teos10_constants.mod      setup.py\n",
      "gsw_mod_toolbox.mod               \u001b[01;34msrc\u001b[0m/\n",
      "LICENSE                           \u001b[01;34mtest\u001b[0m/\n"
     ]
    }
   ],
   "source": [
    "ls /data/tjarniko/mocsy "
   ]
  },
  {
   "cell_type": "code",
   "execution_count": 9,
   "metadata": {},
   "outputs": [
    {
     "name": "stdout",
     "output_type": "stream",
     "text": [
      "9.998795810085364\n",
      "Help on function pt_from_CT in module gsw._wrapped_ufuncs:\n",
      "\n",
      "pt_from_CT(SA, CT)\n",
      "    Calculates potential temperature (with a reference sea pressure of\n",
      "    zero dbar) from Conservative Temperature.  This function uses 1.5\n",
      "    iterations through a modified Newton-Raphson (N-R) iterative solution\n",
      "    proceedure, starting from a rational-function-based initial condition\n",
      "    for both pt and dCT_dpt.\n",
      "    \n",
      "    Parameters\n",
      "    ----------\n",
      "    SA : array-like\n",
      "        Absolute Salinity, g/kg\n",
      "    CT : array-like\n",
      "        Conservative Temperature (ITS-90), degrees C\n",
      "    \n",
      "    Returns\n",
      "    -------\n",
      "    pt : array-like, deg C\n",
      "        potential temperature referenced to a sea pressure\n",
      "        of zero dbar (ITS-90)\n",
      "\n"
     ]
    }
   ],
   "source": [
    "import gsw\n",
    "CT = 10.01\n",
    "SA = 34\n",
    "pt = gsw.pt_from_CT(SA,CT)\n",
    "print(pt)\n",
    "\n",
    "help(gsw.pt_from_CT)"
   ]
  },
  {
   "cell_type": "code",
   "execution_count": 17,
   "metadata": {},
   "outputs": [
    {
     "name": "stdout",
     "output_type": "stream",
     "text": [
      "9.950113165589174\n",
      "9.917438532553858\n"
     ]
    }
   ],
   "source": [
    "SA = 30\n",
    "CT = 10\n",
    "ttera_is = gsw.t_from_CT(SA,CT,300)\n",
    "print(ttera_is)\n",
    "pt = gsw.pt_from_CT(SA,CT)\n",
    "print(pt)"
   ]
  },
  {
   "cell_type": "code",
   "execution_count": 20,
   "metadata": {},
   "outputs": [
    {
     "name": "stdout",
     "output_type": "stream",
     "text": [
      "285.4302787488476\n",
      "285.42991466623835\n"
     ]
    }
   ],
   "source": [
    "osol = gsw.O2sol(SA,CT,0,-125,50)\n",
    "print(osol)\n",
    "osol = gsw.O2sol(SA,CT,100,-125,50)\n",
    "print(osol)"
   ]
  },
  {
   "cell_type": "code",
   "execution_count": null,
   "metadata": {},
   "outputs": [],
   "source": []
  }
 ],
 "metadata": {
  "kernelspec": {
   "display_name": "Python 3",
   "language": "python",
   "name": "python3"
  },
  "language_info": {
   "codemirror_mode": {
    "name": "ipython",
    "version": 3
   },
   "file_extension": ".py",
   "mimetype": "text/x-python",
   "name": "python",
   "nbconvert_exporter": "python",
   "pygments_lexer": "ipython3",
   "version": "3.7.4"
  }
 },
 "nbformat": 4,
 "nbformat_minor": 4
}
