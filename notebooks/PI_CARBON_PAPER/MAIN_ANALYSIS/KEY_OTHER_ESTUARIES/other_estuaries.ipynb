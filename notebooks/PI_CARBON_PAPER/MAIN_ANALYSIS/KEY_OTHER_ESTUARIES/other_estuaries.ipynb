{
 "cells": [
  {
   "cell_type": "markdown",
   "metadata": {},
   "source": [
    "### WHAT ARE OTHER ESTUARIES LIKE?\n",
    "\n",
    "\n",
    "Idea: find evidence of increased sensitivity in other estuaries, using DIC-TA metrics.\n",
    "\n",
    "Problems: are we comparing apples and oranges - ie, cherry-picking \n",
    "\n",
    "\n",
    "\n",
    "## CHINA: YANGTZE RIVER\n",
    "\n",
    "Zhai et al:\n",
    "https://www.sciencedirect.com/science/article/pii/S030442030700059X?casa_token=_wgdGDMxjyEAAAAA:KE-QxFBcHsgIyovIr_QQKd57yzGuoHvhJRPCOPJeKxS7kiULHmXcT2Rq-EpnSADSeYUA3NEENQ#!\n",
    "\n",
    "Fig3, Fig7 - I assume these are surface measurements\n",
    "\n",
    "![title](data_papers/zhai_fig3.png)\n",
    "![title](data_papers/zhai_fig7.png)"
   ]
  },
  {
   "cell_type": "markdown",
   "metadata": {},
   "source": [
    "### WILLAPA BAY, WASHINGTON\n",
    "\n",
    "https://academic.oup.com/icesjms/article/75/1/340/4061476\n",
    "\n",
    "    DIC/TA doesn't come that close, and OmA is much > 1 (this is an august study):\n",
    "\n",
    "    CT μmol kg−1 \tWest \t1 815 (28) \t1 860 (31) \t1 944 (17) \t \n",
    "                   East \t1 812 (35) \t1 811 (71) \t1 908 (58) \t \n",
    "    TA μmol kg−1 \tWest \t1 998 (34) \t2 017 (41) \t2 102 (21) \t \n",
    "                   East \t1 947 (67) \t1 916 (114) 2 026 (84) \t "
   ]
  },
  {
   "cell_type": "markdown",
   "metadata": {},
   "source": [
    "### BRUNEI BAY, BORNEO, SOUTH CHINA SEA\n",
    "\n",
    "Proum\n",
    "https://www.sciencedirect.com/science/article/abs/pii/S235248551730169X?casa_token=zqd6Lo-v3iQAAAAA:A_XIgicwwD1jJfA2EhFidn2UMuhj8qBwUVzOq6ccraFK8mOfwb9k6qUZwz8TA2vsVjLdVm100Q#!\n",
    "\n",
    "Acidified estuary because of ASS discharge (acid sulfite soils...)\n",
    "TA = 230.9+ 61.15 Sal; (c) DIC = 677.65+ 39.01 Sal;\n",
    "these rel >.94 r2\n",
    "![title](./data_papers/proum_fig7.jpg)"
   ]
  },
  {
   "cell_type": "markdown",
   "metadata": {},
   "source": [
    "\n",
    "Coccolithophores and calcite saturation state in the\n",
    "Baltic and Black Seas\n",
    "\n",
    "http://eprints.uni-kiel.de/7085/1/80_Tyrell_2008_CoccolithophoresAndCalciteSaturationState_Artzeit_pubid9130.pdf\n",
    "measure CT and pCO2, but no TA"
   ]
  },
  {
   "cell_type": "markdown",
   "metadata": {
    "collapsed": true
   },
   "source": [
    "### OCADS\n",
    "\n",
    "Texas A&M corpus christi - TA>>DIC\n",
    "https://www.nodc.noaa.gov/ocads/data/0189592.xml\n",
    "\n",
    "Delaware Bay\n",
    "https://www.nodc.noaa.gov/ocads/data/0168767.xml\n",
    "    have TA-DIC as a negative!\n",
    "    \n",
    "    ABSTRACT: This NCEI accession includes measurements of sea surface temperature, salinity, dissolved inorganic carbon, total alkalinity, pH_NBS and Colored Dissolved Organic Matter (CDOM) from time series stations in Delaware Bay from 2016-05-09 to 2016-08-24. In the environment of the Murderkill Estuary and Delaware Bay (Delaware, USA), the Honeywell Durafet proved capable of making high-resolution and high-frequency pH measurements on the total scale between pH 6.8 and 8.4. Natural pH fluctuations of >1 pH were routinely captured over a range of timescales. The experiment demonstrated the viability of the Honeywell Durafet to the measurement of pH to within the weather-level precision defined by the Global Ocean Acidification Observing Network (GOA-ON, less than 0.02 pH) as a part of future estuarine CO2 chemistry studies undertaken in dynamic environments.\n",
    "\n",
    "    CITE AS: Gonski, Stephen F.; Cai, Wei-Jun; Ullman, William J.; Joesoef, Andrew A.; Main, Christopher R.; Pettay, Daniel T.; Martz, Todd R. (2017). Measurements of pH, dissolved inorganic carbon, total alkalinity and other variables for the assessment of the suitability of Durafet-based sensors for pH measurement in dynamic estuarine environments (Delaware Bay) from 2016-05-09 to 2016-08-24 (NCEI Accession 0168767). [indicate subset used]. NOAA National Centers for Environmental Information. Dataset. https://doi.org/10.7289/v5zp44d7. Accessed [date].\n"
   ]
  },
  {
   "cell_type": "markdown",
   "metadata": {
    "collapsed": true
   },
   "source": [
    "### CAI 2017 N-COMM\n",
    "\n",
    "https://www.nature.com/articles/s41467-017-00417-7\n",
    "\n",
    "Cai, W., Huang, W., Luther, G.W. et al. Redox reactions and weak buffering capacity lead to acidification in the Chesapeake Bay. Nat Commun 8, 369 (2017). https://doi.org/10.1038/s41467-017-00417-7"
   ]
  },
  {
   "cell_type": "code",
   "execution_count": 19,
   "metadata": {},
   "outputs": [
    {
     "data": {
      "text/plain": [
       "'/Users/terezajana/Sync/phd_other/WRITING_PI_CARBON/other_estuaries'"
      ]
     },
     "execution_count": 19,
     "metadata": {},
     "output_type": "execute_result"
    }
   ],
   "source": [
    "import pandas as pd\n",
    "import os\n",
    "import numpy as np\n",
    "os.getcwd()"
   ]
  },
  {
   "cell_type": "code",
   "execution_count": 40,
   "metadata": {
    "collapsed": true
   },
   "outputs": [],
   "source": [
    "df = pd.read_csv('estuaries.csv')"
   ]
  },
  {
   "cell_type": "code",
   "execution_count": 41,
   "metadata": {},
   "outputs": [],
   "source": [
    "df['TA_DIC'] = df['TA']-df['DIC']"
   ]
  },
  {
   "cell_type": "code",
   "execution_count": 42,
   "metadata": {},
   "outputs": [],
   "source": [
    "# w = np.arange(0,20,1)\n",
    "# print(np.shape(w))\n",
    "# tw = df.as_matrix(columns=[df['Estuary']])\n",
    "# print(tw)"
   ]
  },
  {
   "cell_type": "code",
   "execution_count": 43,
   "metadata": {},
   "outputs": [
    {
     "data": {
      "text/html": [
       "<div>\n",
       "<table border=\"1\" class=\"dataframe\">\n",
       "  <thead>\n",
       "    <tr style=\"text-align: right;\">\n",
       "      <th></th>\n",
       "      <th>Paper</th>\n",
       "      <th>Estuary</th>\n",
       "      <th>Bordering_Ocean</th>\n",
       "      <th>Season</th>\n",
       "      <th>DIC</th>\n",
       "      <th>TA</th>\n",
       "      <th>S</th>\n",
       "      <th>Fig_reference_notes</th>\n",
       "      <th>TA_DIC</th>\n",
       "    </tr>\n",
       "  </thead>\n",
       "  <tbody>\n",
       "    <tr>\n",
       "      <th>0</th>\n",
       "      <td>Zhai_2007</td>\n",
       "      <td>Yangtze</td>\n",
       "      <td>East China Sea</td>\n",
       "      <td>winter</td>\n",
       "      <td>2100.00</td>\n",
       "      <td>2050.00</td>\n",
       "      <td>0</td>\n",
       "      <td>fig3- km minus50 estimate</td>\n",
       "      <td>-50.00</td>\n",
       "    </tr>\n",
       "    <tr>\n",
       "      <th>1</th>\n",
       "      <td>Zhai_2007</td>\n",
       "      <td>Yangtze</td>\n",
       "      <td>East China Sea</td>\n",
       "      <td>spring</td>\n",
       "      <td>2100.00</td>\n",
       "      <td>2000.00</td>\n",
       "      <td>0</td>\n",
       "      <td>fig3 - km minus50</td>\n",
       "      <td>-100.00</td>\n",
       "    </tr>\n",
       "    <tr>\n",
       "      <th>2</th>\n",
       "      <td>Zhai_2007</td>\n",
       "      <td>Yangtze</td>\n",
       "      <td>East China Sea</td>\n",
       "      <td>autumn</td>\n",
       "      <td>1800.00</td>\n",
       "      <td>1850.00</td>\n",
       "      <td>3</td>\n",
       "      <td>fig3 - km 0</td>\n",
       "      <td>50.00</td>\n",
       "    </tr>\n",
       "    <tr>\n",
       "      <th>3</th>\n",
       "      <td>Zhai_2007</td>\n",
       "      <td>Yangtze</td>\n",
       "      <td>East China Sea</td>\n",
       "      <td>spring</td>\n",
       "      <td>1800.00</td>\n",
       "      <td>1850.00</td>\n",
       "      <td>3</td>\n",
       "      <td>fig3 - km 0</td>\n",
       "      <td>50.00</td>\n",
       "    </tr>\n",
       "    <tr>\n",
       "      <th>4</th>\n",
       "      <td>Zhai_2007</td>\n",
       "      <td>Yangtze</td>\n",
       "      <td>East China Sea</td>\n",
       "      <td>winter</td>\n",
       "      <td>1900.00</td>\n",
       "      <td>1950.00</td>\n",
       "      <td>10</td>\n",
       "      <td>fig3 - km 0</td>\n",
       "      <td>50.00</td>\n",
       "    </tr>\n",
       "    <tr>\n",
       "      <th>5</th>\n",
       "      <td>Proum_2018</td>\n",
       "      <td>Brunei</td>\n",
       "      <td>South China Sea</td>\n",
       "      <td>NaN</td>\n",
       "      <td>677.65</td>\n",
       "      <td>230.90</td>\n",
       "      <td>0</td>\n",
       "      <td>Calc from fig 7 relationship</td>\n",
       "      <td>-446.75</td>\n",
       "    </tr>\n",
       "    <tr>\n",
       "      <th>6</th>\n",
       "      <td>Proum_2018</td>\n",
       "      <td>Brunei</td>\n",
       "      <td>South China Sea</td>\n",
       "      <td>NaN</td>\n",
       "      <td>872.70</td>\n",
       "      <td>536.65</td>\n",
       "      <td>5</td>\n",
       "      <td>Calc from fig 7 relationship TA = 230.9+ 61.15...</td>\n",
       "      <td>-336.05</td>\n",
       "    </tr>\n",
       "    <tr>\n",
       "      <th>7</th>\n",
       "      <td>Proum_2018</td>\n",
       "      <td>Brunei</td>\n",
       "      <td>South China Sea</td>\n",
       "      <td>NaN</td>\n",
       "      <td>1067.75</td>\n",
       "      <td>842.40</td>\n",
       "      <td>10</td>\n",
       "      <td>Calc from fig 7 relationship</td>\n",
       "      <td>-225.35</td>\n",
       "    </tr>\n",
       "    <tr>\n",
       "      <th>8</th>\n",
       "      <td>Proum_2018</td>\n",
       "      <td>Brunei</td>\n",
       "      <td>South China Sea</td>\n",
       "      <td>NaN</td>\n",
       "      <td>1457.85</td>\n",
       "      <td>1453.90</td>\n",
       "      <td>20</td>\n",
       "      <td>Calc from fig 7 relationship</td>\n",
       "      <td>-3.95</td>\n",
       "    </tr>\n",
       "  </tbody>\n",
       "</table>\n",
       "</div>"
      ],
      "text/plain": [
       "        Paper  Estuary  Bordering_Ocean  Season      DIC       TA   S  \\\n",
       "0   Zhai_2007  Yangtze   East China Sea  winter  2100.00  2050.00   0   \n",
       "1   Zhai_2007  Yangtze   East China Sea  spring  2100.00  2000.00   0   \n",
       "2   Zhai_2007  Yangtze   East China Sea  autumn  1800.00  1850.00   3   \n",
       "3   Zhai_2007  Yangtze   East China Sea  spring  1800.00  1850.00   3   \n",
       "4   Zhai_2007  Yangtze   East China Sea  winter  1900.00  1950.00  10   \n",
       "5  Proum_2018   Brunei  South China Sea     NaN   677.65   230.90   0   \n",
       "6  Proum_2018   Brunei  South China Sea     NaN   872.70   536.65   5   \n",
       "7  Proum_2018   Brunei  South China Sea     NaN  1067.75   842.40  10   \n",
       "8  Proum_2018   Brunei  South China Sea     NaN  1457.85  1453.90  20   \n",
       "\n",
       "                                 Fig_reference_notes  TA_DIC  \n",
       "0                          fig3- km minus50 estimate  -50.00  \n",
       "1                                  fig3 - km minus50 -100.00  \n",
       "2                                        fig3 - km 0   50.00  \n",
       "3                                        fig3 - km 0   50.00  \n",
       "4                                        fig3 - km 0   50.00  \n",
       "5                       Calc from fig 7 relationship -446.75  \n",
       "6  Calc from fig 7 relationship TA = 230.9+ 61.15... -336.05  \n",
       "7                       Calc from fig 7 relationship -225.35  \n",
       "8                       Calc from fig 7 relationship   -3.95  "
      ]
     },
     "execution_count": 43,
     "metadata": {},
     "output_type": "execute_result"
    }
   ],
   "source": [
    "df"
   ]
  },
  {
   "cell_type": "code",
   "execution_count": 45,
   "metadata": {},
   "outputs": [
    {
     "name": "stdout",
     "output_type": "stream",
     "text": [
      "0     0\n",
      "1     0\n",
      "2     3\n",
      "3     3\n",
      "4    10\n",
      "5     0\n",
      "6     5\n",
      "7    10\n",
      "8    20\n",
      "Name: S, dtype: int64\n"
     ]
    },
    {
     "data": {
      "text/plain": [
       "[<matplotlib.lines.Line2D at 0x11c584320>]"
      ]
     },
     "execution_count": 45,
     "metadata": {},
     "output_type": "execute_result"
    }
   ],
   "source": [
    "DIC = df['DIC']\n",
    "TA = df['TA']\n",
    "S = df['S']\n",
    "print(S)\n",
    "TA_DIC = DIC-TA\n",
    "\n",
    "import matplotlib.pyplot as plt\n",
    "\n",
    "plt.plot(S,TA_DIC)"
   ]
  },
  {
   "cell_type": "code",
   "execution_count": 46,
   "metadata": {},
   "outputs": [
    {
     "data": {
      "text/plain": [
       "<function matplotlib.pyplot.plot>"
      ]
     },
     "execution_count": 46,
     "metadata": {},
     "output_type": "execute_result"
    }
   ],
   "source": [
    "plt.plot"
   ]
  },
  {
   "cell_type": "code",
   "execution_count": null,
   "metadata": {
    "collapsed": true
   },
   "outputs": [],
   "source": []
  }
 ],
 "metadata": {
  "kernelspec": {
   "display_name": "Python 3",
   "language": "python",
   "name": "python3"
  },
  "language_info": {
   "codemirror_mode": {
    "name": "ipython",
    "version": 3
   },
   "file_extension": ".py",
   "mimetype": "text/x-python",
   "name": "python",
   "nbconvert_exporter": "python",
   "pygments_lexer": "ipython3",
   "version": "3.7.4"
  }
 },
 "nbformat": 4,
 "nbformat_minor": 2
}
