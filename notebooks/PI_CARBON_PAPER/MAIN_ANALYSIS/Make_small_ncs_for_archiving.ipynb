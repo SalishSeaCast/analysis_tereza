{
 "cells": [
  {
   "cell_type": "code",
   "execution_count": null,
   "metadata": {},
   "outputs": [],
   "source": []
  },
  {
   "cell_type": "code",
   "execution_count": null,
   "metadata": {},
   "outputs": [],
   "source": [
    "for ind in range(startind,endind):\n",
    "\n",
    "        print(year_ar[ind])\n",
    "        test_LO = nc.Dataset('/results/forcing/LiveOcean/boundary_conditions/LiveOcean_v201905_' + year_ar[ind] +'.nc')        \n",
    "        dsin = test_LO\n",
    "        #output file\n",
    "        tdir = '/data/tjarniko/results/PI_CARBON_ARCHIVE/'\n",
    "        ncname = './preind_DIC/PREIND_BC_v201905_' + year_ar[ind] +'.nc'\n",
    "        print(ncname)\n",
    "        dsout = nc.Dataset(ncname, \"w\", format=\"NETCDF4\")\n",
    "        #Copy dimensions\n",
    "        for dname, the_dim in dsin.dimensions.items():\n",
    "            print(dname)\n",
    "            print(len(the_dim))\n",
    "            dsout.createDimension(dname, len(the_dim) if not the_dim.isunlimited() else None)\n",
    "        # Copy variables\n",
    "        for v_name, varin in dsin.variables.items():\n",
    "            print(v_name)\n",
    "            if (v_name != 'DIC'):\n",
    "                outVar = dsout.createVariable(v_name, varin.datatype, varin.dimensions)\n",
    "            # Copy variable attributes\n",
    "                outVar.setncatts({k: varin.getncattr(k) for k in varin.ncattrs()})\n",
    "\n",
    "                outVar[:] = varin[:]\n",
    "            if (v_name == 'DIC'):\n",
    "                print('not copying DIC!')\n",
    "        w = nc.Dataset('./preind_DIC/diseq/LO_AOUmethod_stoicCO_diseq_'+ year_ar[ind] +'_preind_DIC.nc')\n",
    "        piDIC = w['preindustrial_DIC']['preind_dic']\n",
    "        t_DIC = np.zeros([1, 40, 1, 950])\n",
    "        t_DIC[0,:,0,:] = piDIC[:,:]\n",
    "        \n",
    "        DIC = dsout.createVariable('DIC',np.float32,('time_counter','deptht','yb','xbT'))\n",
    "        DIC[:] = t_DIC\n",
    "        \n",
    "        dsout.close()"
   ]
  }
 ],
 "metadata": {
  "kernelspec": {
   "display_name": "Python 3",
   "language": "python",
   "name": "python3"
  },
  "language_info": {
   "codemirror_mode": {
    "name": "ipython",
    "version": 3
   },
   "file_extension": ".py",
   "mimetype": "text/x-python",
   "name": "python",
   "nbconvert_exporter": "python",
   "pygments_lexer": "ipython3",
   "version": "3.7.4"
  }
 },
 "nbformat": 4,
 "nbformat_minor": 2
}
