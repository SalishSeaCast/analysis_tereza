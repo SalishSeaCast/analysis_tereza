{
 "cells": [
  {
   "cell_type": "code",
   "execution_count": 3,
   "metadata": {},
   "outputs": [
    {
     "data": {
      "text/plain": [
       "masked_array(data=[ 1.        ,  1.00000277,  1.00000815,  1.00001865,\n",
       "                    1.00003908,  1.00007889,  1.00015642,  1.00030743,\n",
       "                    1.00060155,  1.00117439,  1.00229008,  1.00446285,\n",
       "                    1.00869379,  1.01693058,  1.03295863,  1.06412017,\n",
       "                    1.12459981,  1.24158994,  1.46643748,  1.89327204,\n",
       "                    2.68485706,  4.0913131 ,  6.40988864,  9.79767798,\n",
       "                   13.96660882, 18.13553966, 21.523329  , 18.8604349 ,\n",
       "                   14.34398256, 26.0399456 , 26.46678016, 26.69162771,\n",
       "                   26.80861783, 26.86909747, 26.90025901, 26.91628706,\n",
       "                   26.92452385, 26.92875479, 26.93092757, 26.93204325],\n",
       "             mask=False,\n",
       "       fill_value=1e+20)"
      ]
     },
     "execution_count": 3,
     "metadata": {},
     "output_type": "execute_result"
    }
   ],
   "source": [
    "import netCDF4 as nc\n",
    "\n",
    "grid2 = nc.Dataset('/data/tjarniko/MEOPAR/grid/mesh_mask201702.nc')\n",
    "\n",
    "grid2['e3w_0'][0,:,250,250]"
   ]
  },
  {
   "cell_type": "code",
   "execution_count": 9,
   "metadata": {},
   "outputs": [],
   "source": [
    "def yearved_de(spacing,stn_b,stn_e,year):\n",
    "    \n",
    "    import map_fxn as mf\n",
    "    import time\n",
    "    import xarray as xr\n",
    "    import numpy as np\n",
    "    print('Spacing between stations: ' + str(spacing))\n",
    "    \n",
    "    bath = '/results/nowcast-sys/NEMO-forcing/grid/mesh_mask_SalishSea2.nc'\n",
    "    grid = mf.import_bathy(bath)\n",
    "    fmask = (grid.fmask[0,0,:,:])\n",
    "    \n",
    "    stn_x, stn_y = mf.make_stns(spacing)\n",
    "    d_stn_x, d_stn_y = mf.filter_stn_in_domain(stn_x,stn_y,fmask)\n",
    "    \n",
    "    no_stns = len(d_stn_x)\n",
    "    monlist = ['jan','feb','mar','apr','may','jun','jul','aug','sep',\n",
    "              'oct','nov','dec']\n",
    "    if year == 2016: \n",
    "\n",
    "        daylist = [31,29,31,30,31,30,31,31,30,31,30,31]\n",
    "        noday = 366\n",
    "        print(noday)\n",
    "    if year != 2016:\n",
    "        daylist = [31,28,31,30,31,30,31,31,30,31,30,31]\n",
    "        noday = 365\n",
    "        print(noday)\n",
    "        \n",
    "\n",
    "    # a list of all the model outputs (tracers) for this year    \n",
    "    trace_list = mf.create_physlist_W(year)\n",
    "    print(trace_list)\n",
    "    print(\"Number of stations:\" + str(no_stns))\n",
    "    \n",
    "    for stn in range(stn_b,stn_e):\n",
    "    \n",
    "        print('station is: ' ,str(stn))\n",
    "        print('x is :', d_stn_x[stn])\n",
    "        print('y is :', d_stn_y[stn])\n",
    "        \n",
    "        ts_x = d_stn_x[stn]\n",
    "        ts_y = d_stn_y[stn]\n",
    "        \n",
    "        daily_ved = np.zeros(noday)\n",
    "        \n",
    "        end_day = noday\n",
    "        for day in range(1,2):#end_day+1):\n",
    "            if (day%20 ==0) :\n",
    "                print(day)\n",
    "            trc = trace_list[day-1]\n",
    "            print(trc)\n",
    "            #print(trc)\n",
    "            nemo = xr.open_mfdataset(trc)\n",
    "            #print(nemo)\n",
    "            ved = np.array(nemo.variables['vert_eddy_diff'])\n",
    "            ved = np.squeeze(ved)\n",
    "            \n",
    "            depth = np.array(nemo.variables['depthw_bounds'])\n",
    "            depth = depth[:,1]\n",
    "            if day == 1:\n",
    "                print(depth)\n",
    "            ved_here = ved[:,ts_y,ts_x]\n",
    "            #ved_here = np.squeeze(ved_here)\n",
    "            where0 = np.where(ved_here == 0)\n",
    "            if day == 1:\n",
    "                print(where0)\n",
    "            #where0 = np.squeeze(where0)\n",
    "            first_oob = (where0[1])#surface is also always zero\n",
    "            depth_here = depth[first_oob-1]\n",
    "            if day == 1:\n",
    "                print(depth_here)\n",
    "            total_ved = np.sum(ved_here[0:first_oob])\n",
    "            avg_ved = total_ved/depth_here\n",
    "            \n",
    "            daily_ved[day-1] = avg_ved\n",
    "    \n",
    "        ved = xr.Dataset({'daily_ved':(['t'], daily_ved)})\n",
    "        \n",
    "        dirname = '/data/tjarniko/MEOPAR/analysis-tereza/notebooks/CLUSTER_201905/NC_HINDCAST/' + str(year) +'/VED_TS/'\n",
    "        stn_name = dirname + 'stn_' + str(stn)  + 'avg_ved_sp' + str(spacing)+ '.nc'\n",
    "        \n",
    "        ved.to_netcdf(stn_name)\n"
   ]
  },
  {
   "cell_type": "code",
   "execution_count": 11,
   "metadata": {},
   "outputs": [
    {
     "name": "stdout",
     "output_type": "stream",
     "text": [
      "Spacing between stations: 10\n",
      "365\n",
      "20130101\n",
      "/data/tjarniko/avg/SalishSea_1d_20130101_20130101_grid_W.nc\n",
      "20130102\n"
     ]
    },
    {
     "ename": "IndexError",
     "evalue": "list index out of range",
     "output_type": "error",
     "traceback": [
      "\u001b[0;31m---\u001b[0m",
      "\u001b[0;31mIndexError\u001b[0mTraceback (most recent call last)",
      "\u001b[0;32m<ipython-input-11-00e88f08e0c7>\u001b[0m in \u001b[0;36m<module>\u001b[0;34m\u001b[0m\n\u001b[0;32m----> 1\u001b[0;31m \u001b[0myearved_de\u001b[0m\u001b[0;34m(\u001b[0m\u001b[0;36m10\u001b[0m\u001b[0;34m,\u001b[0m\u001b[0;36m0\u001b[0m\u001b[0;34m,\u001b[0m\u001b[0;36m1\u001b[0m\u001b[0;34m,\u001b[0m\u001b[0;36m2013\u001b[0m\u001b[0;34m)\u001b[0m\u001b[0;34m\u001b[0m\u001b[0;34m\u001b[0m\u001b[0m\n\u001b[0m",
      "\u001b[0;32m<ipython-input-9-9512ce0aa4fe>\u001b[0m in \u001b[0;36myearved_de\u001b[0;34m(spacing, stn_b, stn_e, year)\u001b[0m\n\u001b[1;32m     29\u001b[0m \u001b[0;34m\u001b[0m\u001b[0m\n\u001b[1;32m     30\u001b[0m     \u001b[0;31m# a list of all the model outputs (tracers) for this year\u001b[0m\u001b[0;34m\u001b[0m\u001b[0;34m\u001b[0m\u001b[0;34m\u001b[0m\u001b[0m\n\u001b[0;32m---> 31\u001b[0;31m     \u001b[0mtrace_list\u001b[0m \u001b[0;34m=\u001b[0m \u001b[0mmf\u001b[0m\u001b[0;34m.\u001b[0m\u001b[0mcreate_physlist_W\u001b[0m\u001b[0;34m(\u001b[0m\u001b[0myear\u001b[0m\u001b[0;34m)\u001b[0m\u001b[0;34m\u001b[0m\u001b[0;34m\u001b[0m\u001b[0m\n\u001b[0m\u001b[1;32m     32\u001b[0m     \u001b[0mprint\u001b[0m\u001b[0;34m(\u001b[0m\u001b[0mtrace_list\u001b[0m\u001b[0;34m)\u001b[0m\u001b[0;34m\u001b[0m\u001b[0;34m\u001b[0m\u001b[0m\n\u001b[1;32m     33\u001b[0m     \u001b[0mprint\u001b[0m\u001b[0;34m(\u001b[0m\u001b[0;34m\"Number of stations:\"\u001b[0m \u001b[0;34m+\u001b[0m \u001b[0mstr\u001b[0m\u001b[0;34m(\u001b[0m\u001b[0mno_stns\u001b[0m\u001b[0;34m)\u001b[0m\u001b[0;34m)\u001b[0m\u001b[0;34m\u001b[0m\u001b[0;34m\u001b[0m\u001b[0m\n",
      "\u001b[0;32m/data/tjarniko/MEOPAR/analysis_tereza/notebooks/CLUSTER_PAPER/map_fxn.py\u001b[0m in \u001b[0;36mcreate_physlist_W\u001b[0;34m(year)\u001b[0m\n\u001b[1;32m    151\u001b[0m         \u001b[0mptt\u001b[0m \u001b[0;34m=\u001b[0m \u001b[0mrespath\u001b[0m \u001b[0;34m+\u001b[0m \u001b[0mtracers\u001b[0m\u001b[0;34m\u001b[0m\u001b[0;34m\u001b[0m\u001b[0m\n\u001b[1;32m    152\u001b[0m         \u001b[0mtrace\u001b[0m \u001b[0;34m=\u001b[0m \u001b[0mglob\u001b[0m\u001b[0;34m.\u001b[0m\u001b[0mglob\u001b[0m\u001b[0;34m(\u001b[0m\u001b[0mptt\u001b[0m\u001b[0;34m)\u001b[0m\u001b[0;34m\u001b[0m\u001b[0;34m\u001b[0m\u001b[0m\n\u001b[0;32m--> 153\u001b[0;31m         \u001b[0mtrace\u001b[0m \u001b[0;34m=\u001b[0m \u001b[0;34m(\u001b[0m\u001b[0mtrace\u001b[0m\u001b[0;34m[\u001b[0m\u001b[0;36m0\u001b[0m\u001b[0;34m]\u001b[0m\u001b[0;34m)\u001b[0m\u001b[0;34m\u001b[0m\u001b[0;34m\u001b[0m\u001b[0m\n\u001b[0m\u001b[1;32m    154\u001b[0m         \u001b[0mprint\u001b[0m\u001b[0;34m(\u001b[0m\u001b[0mtrace\u001b[0m\u001b[0;34m)\u001b[0m\u001b[0;34m\u001b[0m\u001b[0;34m\u001b[0m\u001b[0m\n\u001b[1;32m    155\u001b[0m         \u001b[0mtrace_list\u001b[0m\u001b[0;34m.\u001b[0m\u001b[0mappend\u001b[0m\u001b[0;34m(\u001b[0m\u001b[0mtrace\u001b[0m\u001b[0;34m)\u001b[0m\u001b[0;34m\u001b[0m\u001b[0;34m\u001b[0m\u001b[0m\n",
      "\u001b[0;31mIndexError\u001b[0m: list index out of range"
     ]
    }
   ],
   "source": [
    "yearved_de(10,0,1,2013)"
   ]
  },
  {
   "cell_type": "code",
   "execution_count": 52,
   "metadata": {},
   "outputs": [
    {
     "name": "stdout",
     "output_type": "stream",
     "text": [
      "station is:  0\n",
      "x is : 2\n",
      "y is : 392\n"
     ]
    },
    {
     "ename": "NameError",
     "evalue": "name 'stn_name' is not defined",
     "output_type": "error",
     "traceback": [
      "\u001b[0;31m---\u001b[0m",
      "\u001b[0;31mNameError\u001b[0mTraceback (most recent call last)",
      "\u001b[0;32m<ipython-input-52-696a12f4104f>\u001b[0m in \u001b[0;36m<module>\u001b[0;34m\u001b[0m\n\u001b[1;32m     61\u001b[0m \u001b[0;31m#     stn_name = dirname + 'stn_' + str(stn)  + 'avg_ved_sp' + str(spacing)+ '.nc'\u001b[0m\u001b[0;34m\u001b[0m\u001b[0;34m\u001b[0m\u001b[0;34m\u001b[0m\u001b[0m\n\u001b[1;32m     62\u001b[0m \u001b[0;34m\u001b[0m\u001b[0m\n\u001b[0;32m---> 63\u001b[0;31m     \u001b[0mved\u001b[0m\u001b[0;34m.\u001b[0m\u001b[0mto_netcdf\u001b[0m\u001b[0;34m(\u001b[0m\u001b[0mstn_name\u001b[0m\u001b[0;34m)\u001b[0m\u001b[0;34m\u001b[0m\u001b[0;34m\u001b[0m\u001b[0m\n\u001b[0m",
      "\u001b[0;31mNameError\u001b[0m: name 'stn_name' is not defined"
     ]
    }
   ],
   "source": [
    "spacing = 10\n",
    "noday = 365\n",
    "\n",
    "import map_fxn as mf\n",
    "import time\n",
    "import netCDF4 as nc\n",
    "import numpy as np\n",
    "\n",
    "bath = '/results/nowcast-sys/NEMO-forcing/grid/mesh_mask_SalishSea2.nc'\n",
    "grid = mf.import_bathy(bath)\n",
    "#use grid slightly differently to get z-direction \n",
    "grid2 = nc.Dataset('/data/tjarniko/MEOPAR/grid/mesh_mask201702.nc')\n",
    "fmask = (grid.fmask[0,0,:,:])\n",
    "\n",
    "stn_x, stn_y = mf.make_stns(spacing)\n",
    "d_stn_x, d_stn_y = mf.filter_stn_in_domain(stn_x,stn_y,fmask)\n",
    "\n",
    "\n",
    "for stn in range(0,1):\n",
    "\n",
    "    print('station is: ' ,str(stn))\n",
    "    print('x is :', d_stn_x[stn])\n",
    "    print('y is :', d_stn_y[stn])\n",
    "\n",
    "    ts_x = d_stn_x[stn]\n",
    "    ts_y = d_stn_y[stn]\n",
    "\n",
    "    daily_ved = np.zeros(noday)\n",
    "\n",
    "    end_day = noday\n",
    "    for day in range(1,2):#end_day+1):\n",
    "        if (day%20 ==0) :\n",
    "            print(day)\n",
    "        trc = trace_list[day-1]\n",
    "        nemo = nc.Dataset(trc)\n",
    "        #print(nemo)\n",
    "        ved = np.array(nemo.variables['vert_eddy_diff'])\n",
    "        ved  = w['vert_eddy_diff'][0,:,ts_y,ts_x]\n",
    "        where0 = (np.where(ved == 0))\n",
    "        #first out of bounds cell\n",
    "        stop = where0[0][1]\n",
    "        #get only applicable veds\n",
    "        veds = ved[0:stop]\n",
    "        #get applicable depths\n",
    "        depths = grid2['e3w_0'][0,0:stop,ts_y,ts_x]\n",
    "\n",
    "        #get total depth to fially divide by \n",
    "        totdepth = np.sum(depths)\n",
    "        #weight veds by depths - ie size of cell\n",
    "        veds_depths = veds*depths\n",
    "        #get avg\n",
    "        avg_ved = np.sum(veds_depths/totdepth)\n",
    "\n",
    "        daily_ved[day-1] = avg_ved\n",
    "\n",
    "    ved = xr.Dataset({'daily_ved':(['t'], daily_ved)})\n",
    "\n",
    "    dirname = '/data/tjarniko/MEOPAR/analysis-tereza/notebooks/CLUSTER_201905/NC_HINDCAST/' + str(year) +'/VED_TS/'\n",
    "    stn_name = dirname + 'stn_' + str(stn)  + 'avg_ved_sp' + str(spacing)+ '.nc'\n",
    "\n",
    "    ved.to_netcdf(stn_name)"
   ]
  },
  {
   "cell_type": "code",
   "execution_count": 51,
   "metadata": {},
   "outputs": [
    {
     "name": "stdout",
     "output_type": "stream",
     "text": [
      "<class 'netCDF4._netCDF4.Dataset'>\n",
      "root group (NETCDF4 data model, file format HDF5):\n",
      "    name: SalishSea_1h_20130101_20130105\n",
      "    description: ocean W grid variables\n",
      "    title: ocean W grid variables\n",
      "    Conventions: CF-1.6\n",
      "    timeStamp: 2019-Sep-14 19:05:52 GMT\n",
      "    uuid: 46a011b2-205e-4e89-bfc7-7e4b804910bd\n",
      "    history: Thu Aug 20 06:24:28 2020: ncra /results2/SalishSea/hindcast.201905/01jan13/SalishSea_1h_20130101_20130101_grid_W.nc /data/tjarniko/avg/SalishSea_1d_20130101_20130101_grid_W.nc\n",
      "    NCO: \"4.5.4\"\n",
      "    nco_openmp_thread_number: 1\n",
      "    dimensions(sizes): y(898), x(398), nvertex(4), depthw(40), axis_nbounds(2), time_counter(1)\n",
      "    variables(dimensions): float32 \u001b[4mnav_lat\u001b[0m(y,x), float32 \u001b[4mnav_lon\u001b[0m(y,x), float32 \u001b[4mbounds_lon\u001b[0m(y,x,nvertex), float32 \u001b[4mbounds_lat\u001b[0m(y,x,nvertex), float32 \u001b[4marea\u001b[0m(y,x), float32 \u001b[4mdepthw\u001b[0m(depthw), float32 \u001b[4mdepthw_bounds\u001b[0m(depthw,axis_nbounds), float32 \u001b[4mvovecrtz\u001b[0m(time_counter,depthw,y,x), float64 \u001b[4mtime_centered\u001b[0m(time_counter), float64 \u001b[4mtime_centered_bounds\u001b[0m(time_counter,axis_nbounds), float64 \u001b[4mtime_counter\u001b[0m(time_counter), float64 \u001b[4mtime_counter_bounds\u001b[0m(time_counter,axis_nbounds), float32 \u001b[4mvert_eddy_diff\u001b[0m(time_counter,depthw,y,x), float32 \u001b[4mvert_eddy_visc\u001b[0m(time_counter,depthw,y,x), float32 \u001b[4mdissipation\u001b[0m(time_counter,depthw,y,x)\n",
      "    groups: \n",
      "\n",
      "0.01058939422877848\n"
     ]
    }
   ],
   "source": [
    "w = nc.Dataset('/data/tjarniko/avg/SalishSea_1d_20130101_20130101_grid_W.nc')\n",
    "grid2 = nc.Dataset('/data/tjarniko/MEOPAR/grid/mesh_mask201702.nc')\n",
    "print(w)\n",
    "\n",
    "ved  = w['vert_eddy_diff'][0,:,250,250]\n",
    "where0 = (np.where(ved == 0))\n",
    "#first out of bounds cell\n",
    "stop = where0[0][1]\n",
    "#get only applicable veds\n",
    "veds = ved[0:stop]\n",
    "#get applicable depths\n",
    "depths = grid2['e3w_0'][0,0:stop,250,250]\n",
    "\n",
    "#get total depth to fially divide by \n",
    "totdepth = np.sum(depths)\n",
    "#weight veds by depths - ie size of cell\n",
    "veds_depths = veds*depths\n",
    "#get avg\n",
    "avg_ved = np.sum(veds_depths/totdepth)\n",
    "print(avg_ved)"
   ]
  },
  {
   "cell_type": "code",
   "execution_count": null,
   "metadata": {},
   "outputs": [],
   "source": []
  }
 ],
 "metadata": {
  "kernelspec": {
   "display_name": "Python 3",
   "language": "python",
   "name": "python3"
  },
  "language_info": {
   "codemirror_mode": {
    "name": "ipython",
    "version": 3
   },
   "file_extension": ".py",
   "mimetype": "text/x-python",
   "name": "python",
   "nbconvert_exporter": "python",
   "pygments_lexer": "ipython3",
   "version": "3.7.4"
  }
 },
 "nbformat": 4,
 "nbformat_minor": 2
}
