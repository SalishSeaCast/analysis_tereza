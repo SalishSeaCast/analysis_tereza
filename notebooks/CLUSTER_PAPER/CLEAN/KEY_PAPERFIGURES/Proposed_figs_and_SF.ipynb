{
 "cells": [
  {
   "cell_type": "markdown",
   "metadata": {},
   "source": [
    "## Title, Abstract, Key Points, and proposed figures/subfigures for Cluster paper\n",
    "\n",
    "\n",
    "### Title: A Clustering Approach to Identifying Physical Drivers of Primary Productivity Dynamics in the Salish Sea\n",
    "\n",
    "###### Key points\n",
    "\n",
    "Notes: should address interannual persistence of regimes, coincidence of mixing scheme regime with biological regimes (deeper haloclines = more summer productivity), utility of cluster methods. \n",
    "\n",
    "\n",
    "    1. In the Salish Sea, interannually persistent regional differences in freshwater input drive similarly persistent regional differences in summer mixing, expressed as halocline depth and variability. \n",
    "    \n",
    "    2. Deeper and more variable haloclines in the northern Strait of Georgia spatially coincide with higher summertime primary productivity in all four analyzed years.\n",
    "    \n",
    "    3. Clustering methods can provide a way to understand underlying patterns in large model-derived datasets. \n",
    "    [needs work.]\n",
    "    \n",
    "    \n",
    "###### Abstract\n",
    "Ocean mixing exerts a control on primary productivity by influencing light limitation and nutrient supply in the euphotic ocean. Here, we apply a static clustering algorithm to four metrics of mixing and to phytoplankton abundance extracted from a biophysical regional ocean model of the Salish Sea (SalishSeaCast) to assess for spatial coocurrence. Running the clustering algorithm on four years' worth of model output, we find a strong interannually persisting difference between mixing and productivity dynamics in the Northern and Central Strait of Georgia. In the Northern Strait, a deeper winter halocline and episodic mixing events that persist throughout summer coincide with higher phytoplankton biomass, while in the Fraser river stratified Central Strait, shallower haloclines and less summer mixing coincide with lower summer phytoplankton productivity. Our approach elucidates a possible physical mechanism for this difference while demonstrating the usefulness of data science techniques for finding structure in large model-derived datasets.  \n",
    "\n",
    "###### Proposed main figure list\n",
    "1. model domain\n",
    "2. schematic\n",
    "2a (maybe). signal illustration\n",
    "3. interannual variability and coherence of signal - halocline\n",
    "4. final figure - 3 fields, 4 years"
   ]
  },
  {
   "cell_type": "code",
   "execution_count": null,
   "metadata": {},
   "outputs": [],
   "source": []
  },
  {
   "cell_type": "markdown",
   "metadata": {},
   "source": []
  },
  {
   "cell_type": "markdown",
   "metadata": {},
   "source": [
    "## MF1: model domain with sample output - diatoms?\n",
    "\n",
    "<img src=\"./cf_figs/MF1_model_domain.png\" width=\"600\">"
   ]
  },
  {
   "cell_type": "markdown",
   "metadata": {},
   "source": [
    "## MF2: modified schematic of mixing\n",
    "\n",
    "<img src=\"./cf_figs/MF02_schematic.png\" width=\"600\">"
   ]
  },
  {
   "cell_type": "markdown",
   "metadata": {},
   "source": [
    "### Potential MF2a - one example of the signals we are talking about? (In METHODS)\n",
    "\n",
    "<img src=\"./cf_figs/SF_examplestation.png\" width=\"600\">"
   ]
  },
  {
   "cell_type": "markdown",
   "metadata": {},
   "source": [
    "here it's a bit more tricky - communicating the coherence of the structure FWI, HALO, and BIO fields as well as its persistence throughout interannual variability. I would start with the halocline figure as it's compelling - and maybe put the other two as supplemental figures?\n",
    "\n",
    "## MF3: clustering outputs and interannual variability\n",
    "\n",
    "<img src=\"./cf_figs/MF_halo.png\" width=\"600\">"
   ]
  },
  {
   "cell_type": "markdown",
   "metadata": {},
   "source": [
    "## MF4: BIO, HALO, FWI \n",
    "\n",
    "This (large) figure does a good job of showing the big-picture coherence, but what it doesn't do is show the signals. \n",
    "\n",
    "Options: tack on the signals on the right (only the regions of interest)\n",
    "show only one year, 3 variables, with signals below (see the surf_oma example figure)\n",
    "\n",
    "<img src=\"./cf_figs/MF_final_figure.png\" width=\"850\">"
   ]
  },
  {
   "cell_type": "markdown",
   "metadata": {},
   "source": [
    "#### Surf_oma example figure - one way to show clusters/signals\n",
    "This (large) figure does a good job of showing the big-picture coherence, but what it doesn't do is show the signals. \n",
    "\n",
    "Options: tack on the signals on the right (only the regions of interest)\n",
    "show only one year, 3 variables, with signals below (see the surf_oma example figure)\n",
    "\n",
    "<img src=\"./cf_figs/surf_oma.png\" width=\"400\">"
   ]
  },
  {
   "cell_type": "markdown",
   "metadata": {},
   "source": [
    "# SUPPLEMENTAL AND OTHER FIGURES"
   ]
  },
  {
   "cell_type": "markdown",
   "metadata": {},
   "source": [
    "##### STRUCTURE OF WIND CLUSTERING\n",
    "\n",
    "CHANGE of wind product changes nature of clustering!\n",
    "\n",
    "<img src=\"./cf_figs/wind_clustering.png\" width=\"650\">"
   ]
  },
  {
   "cell_type": "markdown",
   "metadata": {},
   "source": [
    "## SF - like halocline figure but for other fields \n",
    "\n",
    "2 different ways to show FWI\n",
    "way 1:\n",
    "<img src=\"./cf_figs/MF_fwi0.png\" width=\"400\">\n",
    "<img src=\"./cf_figs/MF_fwi1.png\" width=\"400\">\n",
    "\n",
    "## way 2 \n",
    "<img src=\"./cf_figs/MF_fwi2.png\" width=\"650\">"
   ]
  },
  {
   "cell_type": "markdown",
   "metadata": {},
   "source": [
    "## SF - dendrograms\n",
    "\n",
    "right now, we could make 20 of these supplemental figures - 5 signals x 4 years...\n",
    "\n",
    "<img src=\"./cf_figs/SF_halo2014.png\" width=\"650\">"
   ]
  },
  {
   "cell_type": "markdown",
   "metadata": {},
   "source": [
    "## SF - illustration of wards method\n",
    "\n",
    "<img src=\"./cf_figs/SF_wardsillustration.png\" width=\"650\">"
   ]
  },
  {
   "cell_type": "code",
   "execution_count": null,
   "metadata": {},
   "outputs": [],
   "source": []
  }
 ],
 "metadata": {
  "kernelspec": {
   "display_name": "Python 3",
   "language": "python",
   "name": "python3"
  },
  "language_info": {
   "codemirror_mode": {
    "name": "ipython",
    "version": 3
   },
   "file_extension": ".py",
   "mimetype": "text/x-python",
   "name": "python",
   "nbconvert_exporter": "python",
   "pygments_lexer": "ipython3",
   "version": "3.7.4"
  }
 },
 "nbformat": 4,
 "nbformat_minor": 2
}
