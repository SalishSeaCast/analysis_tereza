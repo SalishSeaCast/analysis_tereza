{
 "cells": [
  {
   "cell_type": "markdown",
   "metadata": {},
   "source": [
    "## Title, Abstract, Key Points, and proposed figures/subfigures for Cluster paper\n",
    "\n",
    "\n",
    "### Title: A Clustering Approach to Identifying Physical Drivers of Primary Productivity Dynamics in the Salish Sea\n",
    "\n",
    "###### Key points\n",
    "\n",
    "Notes: should address interannual persistence of regimes, coincidence of mixing scheme regime with biological regimes (deeper haloclines = more summer productivity), utility of cluster methods. \n",
    "\n",
    "\n",
    "    1. In the Salish Sea, interannually persistent regional differences in freshwater input drive similarly persistent regional differences in summer mixing, expressed as halocline depth and variability. \n",
    "    \n",
    "    2. Deeper and more variable haloclines in the northern Strait of Georgia spatially coincide with higher summertime primary productivity in all four analyzed years.\n",
    "    \n",
    "    3. Clustering methods can provide a way to understand underlying patterns in large model-derived datasets. \n",
    "    [needs work.]\n",
    "    \n",
    "    \n",
    "###### Abstract\n",
    "Ocean mixing exerts a control on primary productivity by influencing light limitation and nutrient supply in the euphotic ocean. Here, we apply a static clustering algorithm to four metrics of mixing and to phytoplankton abundance extracted from a biophysical regional ocean model of the Salish Sea (SalishSeaCast) to assess for spatial coocurrence. Running the clustering algorithm on four years' worth of model output, we find a strong interannually persisting difference between mixing and productivity dynamics in the Northern and Central Strait of Georgia. In the Northern Strait, a deeper winter halocline and episodic mixing events that persist throughout summer coincide with higher phytoplankton biomass, while in the Fraser river stratified Central Strait, shallower haloclines and less summer mixing coincide with lower summer phytoplankton productivity. Our approach elucidates a possible physical mechanism for this difference while demonstrating the usefulness of data science techniques for finding structure in large model-derived datasets.  \n",
    "\n",
    "###### Proposed figure list\n",
    "1. model domain\n",
    "2. "
   ]
  },
  {
   "cell_type": "code",
   "execution_count": null,
   "metadata": {},
   "outputs": [],
   "source": []
  }
 ],
 "metadata": {
  "kernelspec": {
   "display_name": "Python 3",
   "language": "python",
   "name": "python3"
  },
  "language_info": {
   "codemirror_mode": {
    "name": "ipython",
    "version": 3
   },
   "file_extension": ".py",
   "mimetype": "text/x-python",
   "name": "python",
   "nbconvert_exporter": "python",
   "pygments_lexer": "ipython3",
   "version": "3.7.4"
  }
 },
 "nbformat": 4,
 "nbformat_minor": 2
}
