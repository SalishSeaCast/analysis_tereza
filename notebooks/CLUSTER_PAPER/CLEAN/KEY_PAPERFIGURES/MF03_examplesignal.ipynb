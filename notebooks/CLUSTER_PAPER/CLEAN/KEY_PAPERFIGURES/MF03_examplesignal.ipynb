{
 "cells": [
  {
   "cell_type": "code",
   "execution_count": 1,
   "metadata": {},
   "outputs": [
    {
     "data": {
      "application/javascript": [
       "IPython.OutputArea.prototype._should_scroll = function(lines) {\n",
       "    return false;\n",
       "}\n"
      ],
      "text/plain": [
       "<IPython.core.display.Javascript object>"
      ]
     },
     "metadata": {},
     "output_type": "display_data"
    }
   ],
   "source": [
    "%%javascript\n",
    "IPython.OutputArea.prototype._should_scroll = function(lines) {\n",
    "    return false;\n",
    "}"
   ]
  },
  {
   "cell_type": "code",
   "execution_count": 4,
   "metadata": {},
   "outputs": [],
   "source": [
    "import matplotlib.pyplot as plt\n",
    "\n",
    "import sys\n",
    "sys.path.append('./extraction_scripts')\n",
    "import map_fxn as mf\n",
    "import numpy as np\n",
    "import netCDF4 as nc\n",
    "from matplotlib.patches import Rectangle\n",
    "\n",
    "from salishsea_tools import (\n",
    "    viz_tools)\n",
    "\n",
    "plt.rcParams.update({'font.size': 10})"
   ]
  },
  {
   "cell_type": "code",
   "execution_count": 5,
   "metadata": {},
   "outputs": [
    {
     "data": {
      "text/html": [
       "<script>\n",
       "code_show=true; \n",
       "function code_toggle() {\n",
       " if (code_show){\n",
       " $('div.input').hide();\n",
       " } else {\n",
       " $('div.input').show();\n",
       " }\n",
       " code_show = !code_show\n",
       "} \n",
       "$( document ).ready(code_toggle);\n",
       "</script>\n",
       "<form action=\"javascript:code_toggle()\"><input type=\"submit\" value=\"Click here to toggle on/off the raw code.\"></form>"
      ],
      "text/plain": [
       "<IPython.core.display.HTML object>"
      ]
     },
     "execution_count": 5,
     "metadata": {},
     "output_type": "execute_result"
    }
   ],
   "source": [
    "from IPython.display import HTML\n",
    "\n",
    "HTML('''<script>\n",
    "code_show=true; \n",
    "function code_toggle() {\n",
    " if (code_show){\n",
    " $('div.input').hide();\n",
    " } else {\n",
    " $('div.input').show();\n",
    " }\n",
    " code_show = !code_show\n",
    "} \n",
    "$( document ).ready(code_toggle);\n",
    "</script>\n",
    "<form action=\"javascript:code_toggle()\"><input type=\"submit\" value=\"Click here to toggle on/off the raw code.\"></form>''')"
   ]
  },
  {
   "cell_type": "markdown",
   "metadata": {},
   "source": [
    "    # STRATOGEM STATION S3(lat,lon)=(49 7.5 N, 123 33.5 W)\n",
    "    'S3': {\n",
    "        'lon lat': (-123.558, 49.125),\n",
    "        'NEMO grid ji': (450, 258),\n",
    "        'GEM2.5 grid ji': (138, 144),"
   ]
  },
  {
   "cell_type": "code",
   "execution_count": 6,
   "metadata": {},
   "outputs": [
    {
     "name": "stdout",
     "output_type": "stream",
     "text": [
      "(array([417]),)\n"
     ]
    }
   ],
   "source": [
    "bath = '/results/nowcast-sys/NEMO-forcing/grid/mesh_mask_SalishSea2.nc'\n",
    "grid = mf.import_bathy(bath)\n",
    "fmask = (grid.fmask[0,0,:,:]) \n",
    "\n",
    "stn_x, stn_y = mf.make_stns(10)\n",
    "d_stn_x, d_stn_y = mf.filter_stn_in_domain(stn_x,stn_y,fmask)\n",
    "\n",
    "d_stn_xar = np.array(d_stn_x)\n",
    "d_stn_yar = np.array(d_stn_y)\n",
    "\n",
    "### edgelord things\n",
    "\n",
    "edge = np.where((d_stn_xar<=10) | (d_stn_yar>=888))\n",
    "np.squeeze(edge)\n",
    "np.shape(edge)\n",
    "edgear = np.array(edge)\n",
    "edgear = edgear[0]\n",
    "\n",
    "d_stn_xar_noedge =np.delete(d_stn_xar,edge)\n",
    "d_stn_yar_noedge = np.delete(d_stn_yar,edge)\n",
    "\n",
    "# print(np.size(d_stn_xar))\n",
    "\n",
    "#'NEMO grid ji': (450, 258), #262 #452, \n",
    "\n",
    "## station 417 is our winner!!\n",
    "print(np.where((d_stn_yar == 452) & (d_stn_xar == 262)))\n",
    "#d_stn_yar[(d_stn_yar > 440) & (d_stn_yar < 465)]"
   ]
  },
  {
   "cell_type": "code",
   "execution_count": 7,
   "metadata": {},
   "outputs": [],
   "source": [
    "# "
   ]
  },
  {
   "cell_type": "code",
   "execution_count": 8,
   "metadata": {},
   "outputs": [],
   "source": [
    "## extracting signals\n",
    "yr = 2014\n",
    "# one year\n",
    "bdir = \\\n",
    "f'/data/tjarniko/MEOPAR/analysis_tereza/\\\n",
    "notebooks/CLUSTER_PAPER/CLEAN/NC_HINDCAST/{yr}/'\n",
    "\n",
    "#wind\n",
    "\n",
    "#fresh water index\n",
    "fwidat = nc.Dataset(bdir+ 'FWI_TS/stn_417_fwi4m_data_sp10_threshold50.nc')\n",
    "fwi = fwidat['freshwater_index'][:]\n",
    "#\n",
    "halodat = nc.Dataset(bdir+'HALO_TS/stn_417halo_depth_sp10.nc')\n",
    "halo = halodat['halocline_depth'][:]\n",
    "\n",
    "veddat = nc.Dataset(bdir+'VED_TS/stn_417avg_ved_sp10.nc')\n",
    "ved = veddat['daily_ved'][:]\n",
    "\n",
    "#wind dat\n",
    "winddat = nc.Dataset(bdir+'WIND_TS/stn_417_wind_data_sp10.nc')\n",
    "wind = winddat['wind_energy'][:]\n",
    "\n",
    "\n",
    "#biodat\n",
    "biodat = nc.Dataset(bdir+'BIO_TS/stn_417_sp10.nc')\n",
    "cili = biodat['MYRI'][:]/218509 #to get to per m2\n",
    "flag = biodat['PHY2'][:]/218509\n",
    "diat = biodat['PHY'][:]/218509\n",
    "\n",
    "\n",
    "\n",
    "daze = np.arange(0,365,1)"
   ]
  },
  {
   "cell_type": "code",
   "execution_count": null,
   "metadata": {
    "scrolled": true
   },
   "outputs": [],
   "source": [
    "fact = .85\n",
    "tfs = 10\n",
    "markersize = 8.5\n",
    "fig = plt.figure(figsize=(9.1*fact, 9.09*fact))\n",
    "plt.rcParams['image.cmap'] = 'YlGnBu'\n",
    "\n",
    "ax5 = plt.subplot2grid((5,6), (0,0), colspan=4, rowspan=1)\n",
    "ax5.plot(daze,wind,'k-',lw = 2); ax5.set_xlim(0,365)\n",
    "ax5.set_title('Wind Energy', fontsize = tfs + 2); ax5.set_xticks(np.arange(0,400,50))\n",
    "ax5.set_ylabel('m$^{3}$s$^{-3}$', fontsize = tfs); ax5.set_yticks(np.arange(0,3500,1000))\n",
    "ax5.text(0.02,.76,'a)', fontsize = 12, weight = 'bold', transform=ax5.transAxes)\n",
    "\n",
    "ax5 = plt.subplot2grid((5,6), (1,0), colspan=4, rowspan=1)\n",
    "ax5.text(0.02,.76,'b)', fontsize = 12, weight = 'bold', transform=ax5.transAxes); \n",
    "ax5.set_yticks(np.arange(0,70,20))\n",
    "ax5.plot(daze,ved,'k-',lw = 2); ax5.set_xlim(0,365); ax5.set_yticks(np.arange(0,0.01,0.002))\n",
    "ax5.set_title('Watercolumn-averaged Vertical Eddy Diffusivity', fontsize = tfs + 2); \n",
    "ax5.set_ylabel('m s$^{-2}$', fontsize = tfs)\n",
    "\n",
    "\n",
    "ax5 = plt.subplot2grid((5,6), (2,0), colspan=4, rowspan=1)\n",
    "ax5.text(0.02,.76,'c)', fontsize = 12, weight = 'bold', transform=ax5.transAxes)\n",
    "ax5.plot(daze,fwi/4,'k-',lw = 2); ax5.set_xlim(0,365); ax5.set_yticks(np.arange(0,25,5))\n",
    "ax5.set_title('Freshwater Index', fontsize = tfs + 2); ax5.set_xticks(np.arange(0,400,50))\n",
    "ax5.set_ylabel('g kg$^{-1}$', fontsize = tfs)\n",
    "\n",
    "#halocline depth\n",
    "ax5 = plt.subplot2grid((5,6), (3,0), colspan=4, rowspan=1)\n",
    "ax5.text(0.02,.76,'d)', fontsize = 12, weight = 'bold', transform=ax5.transAxes)\n",
    "ax5.plot(daze,halo,'k-',lw = 2); ax5.set_xlim(0,365); ax5.set_yticks(np.arange(0,35,10))\n",
    "ax5.set_title('Halocline', fontsize = tfs + 2); ax5.set_xticks(np.arange(0,400,50))\n",
    "ax5.set_ylabel('meters', fontsize = tfs)\n",
    "\n",
    "ax5 = plt.subplot2grid((5,6), (4,0), colspan=4, rowspan=1)\n",
    "ax5.text(0.02,.76,'e)', fontsize = 12, weight = 'bold', transform=ax5.transAxes)\n",
    "ax5.plot(daze,diat,color = 'forestgreen',lw = 2, label = 'diatoms'); ax5.set_xlim(0,365)\n",
    "ax5.plot(daze,cili, color = 'olive',lw = 2, label = 'ciliates'); ax5.set_xlim(0,365)\n",
    "ax5.plot(daze,flag,color = 'goldenrod',lw = 2, label = 'flagellates'); ax5.set_xlim(0,365)\n",
    "ax5.set_xlabel('yearday')\n",
    "ax5.legend(loc = 'upper right', fontsize = tfs -1)\n",
    "ax5.set_title('Watercolumn-Integrated Biomass', fontsize = tfs + 2); ax5.set_xticks(np.arange(0,400,50))\n",
    "ax5.set_ylabel('mmol N m$^{-2}$', fontsize = tfs); ax5.set_yticks(np.arange(0,70,20))\n",
    "\n",
    "ax = plt.subplot2grid((5,6), (0,4), colspan=2, rowspan=5)\n",
    "ax.text(0.04,.94,'f)', fontsize = 12, weight = 'bold', transform=ax.transAxes)\n",
    "viz_tools.set_aspect(ax)   \n",
    "fmask = (grid.fmask[0,0,:,:])    \n",
    "mesh = ax.pcolormesh(fmask, vmin=0, vmax=1)\n",
    "pts = ax.scatter(d_stn_xar_noedge,d_stn_yar_noedge,\\\n",
    "                 s=markersize,c='lightblue',marker='o')\n",
    "pts = ax.scatter(d_stn_xar[417],d_stn_yar[417],\\\n",
    "                 s=140 ,c='red',marker='*')\n",
    "\n",
    "ax.set_xticklabels( () ) \n",
    "ax.set_yticklabels( () ) \n",
    "ax.patch.set_visible(False)\n",
    "ax.axis('off')\n",
    "ax.add_patch(Rectangle([0,0],397,898,\\\n",
    "                       fill=False, edgecolor='k', zorder=10))\n",
    "\n",
    "plt.tight_layout()\n",
    "\n",
    "#out=ax.set(title='Domain Extent')\n",
    "\n",
    "fig.savefig('./paper_figs/MF03_samplesignal.pdf', bbox_inches='tight')"
   ]
  },
  {
   "cell_type": "code",
   "execution_count": null,
   "metadata": {},
   "outputs": [],
   "source": []
  },
  {
   "cell_type": "code",
   "execution_count": null,
   "metadata": {},
   "outputs": [],
   "source": []
  },
  {
   "cell_type": "code",
   "execution_count": null,
   "metadata": {},
   "outputs": [],
   "source": []
  },
  {
   "cell_type": "code",
   "execution_count": null,
   "metadata": {},
   "outputs": [],
   "source": []
  }
 ],
 "metadata": {
  "kernelspec": {
   "display_name": "Python 3",
   "language": "python",
   "name": "python3"
  },
  "language_info": {
   "codemirror_mode": {
    "name": "ipython",
    "version": 3
   },
   "file_extension": ".py",
   "mimetype": "text/x-python",
   "name": "python",
   "nbconvert_exporter": "python",
   "pygments_lexer": "ipython3",
   "version": "3.7.4"
  }
 },
 "nbformat": 4,
 "nbformat_minor": 2
}
