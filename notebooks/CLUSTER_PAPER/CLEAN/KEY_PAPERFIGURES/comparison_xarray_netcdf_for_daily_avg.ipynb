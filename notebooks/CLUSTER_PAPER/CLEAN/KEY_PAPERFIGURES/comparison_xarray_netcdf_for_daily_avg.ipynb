{
 "cells": [
  {
   "cell_type": "code",
   "execution_count": 1,
   "metadata": {},
   "outputs": [],
   "source": [
    "import arrow\n",
    "import netCDF4 as nc\n",
    "import glob\n",
    "import numpy as np\n",
    "import time\n",
    "import xarray as xr"
   ]
  },
  {
   "cell_type": "markdown",
   "metadata": {},
   "source": [
    "# Comparison "
   ]
  },
  {
   "cell_type": "code",
   "execution_count": 3,
   "metadata": {},
   "outputs": [
    {
     "name": "stdout",
     "output_type": "stream",
     "text": [
      "2\n",
      "/results2/SalishSea/hindcast.201905/01jun15/SalishSea_1h_20150601_20150601_ptrc_T.nc\n",
      "seconds taken: 46.35651397705078\n",
      "/results2/SalishSea/hindcast.201905/02jun15/SalishSea_1h_20150602_20150602_ptrc_T.nc\n",
      "seconds taken: 52.43098044395447\n"
     ]
    }
   ],
   "source": [
    "spr_st = 59; spr_e = 151; sum_st = 151; sum_e = 243;\n",
    "#'2015-03-01' '2015-06-01'\n",
    "#'2015-06-01' '2015-08-31\n",
    "\n",
    "#/results2/SalishSea/hindcast.201905/'\n",
    "yr = '2015'\n",
    "start =f'{yr}-06-01'\n",
    "end =f'{yr}-06-02'\n",
    "\n",
    "start_run = arrow.get(start)\n",
    "end_run = arrow.get(end)\n",
    "\n",
    "arrow_array = []\n",
    "for r in arrow.Arrow.span_range('day', start_run, end_run):\n",
    "    arrow_array.append(r)\n",
    "dayslen = len(arrow_array)\n",
    "print(dayslen)\n",
    "    \n",
    "diat = np.zeros([dayslen,40,898,398])\n",
    "myri = np.zeros([dayslen,40,898,398])\n",
    "cili = np.zeros([dayslen,40,898,398])\n",
    "nit = np.zeros([dayslen,40,898,398])\n",
    "\n",
    "\n",
    "\n",
    "\n",
    "\n",
    "for i in range(0,dayslen):\n",
    "    t0 = time.time()\n",
    "\n",
    "    tdate = arrow_array[i][0]\n",
    "    \n",
    "    mm = tdate.format('MMM').lower()\n",
    "    dd = tdate.format('DD')\n",
    "    yy = tdate.format('YY')\n",
    "    d_str = f'{dd}{mm}{yy}'\n",
    "    ptrc_str = f'/results2/SalishSea/hindcast.201905/{d_str}/*_ptrc_T.nc'\n",
    "    t_dat = glob.glob(ptrc_str)\n",
    "    print(t_dat[0])\n",
    "    t0 = time.time()\n",
    "    w = nc.Dataset(t_dat[0])\n",
    "    t_diat = w['diatoms'][:]\n",
    "    diat[i,:,:,:] = np.nanmean(t_diat,axis = 0)\n",
    "    w.close()\n",
    "    t1 = time.time()\n",
    "    total = t1-t0\n",
    "    print(f'seconds taken: {str(total)}')\n",
    "    \n",
    "\n"
   ]
  },
  {
   "cell_type": "markdown",
   "metadata": {},
   "source": [
    "## xarray code"
   ]
  },
  {
   "cell_type": "code",
   "execution_count": 4,
   "metadata": {},
   "outputs": [
    {
     "name": "stdout",
     "output_type": "stream",
     "text": [
      "2\n",
      "/results2/SalishSea/hindcast.201905/01jun15/SalishSea_1h_20150601_20150601_ptrc_T.nc\n"
     ]
    },
    {
     "name": "stderr",
     "output_type": "stream",
     "text": [
      "/home/tjarniko/anaconda3/lib/python3.7/site-packages/xarray/core/nanops.py:140: RuntimeWarning: Mean of empty slice\n",
      "  return np.nanmean(a, axis=axis, dtype=dtype)\n"
     ]
    },
    {
     "name": "stdout",
     "output_type": "stream",
     "text": [
      "seconds taken: 61.34442591667175\n",
      "/results2/SalishSea/hindcast.201905/02jun15/SalishSea_1h_20150602_20150602_ptrc_T.nc\n",
      "seconds taken: 45.91248607635498\n"
     ]
    },
    {
     "name": "stderr",
     "output_type": "stream",
     "text": [
      "/home/tjarniko/anaconda3/lib/python3.7/site-packages/xarray/core/nanops.py:140: RuntimeWarning: Mean of empty slice\n",
      "  return np.nanmean(a, axis=axis, dtype=dtype)\n"
     ]
    }
   ],
   "source": [
    "spr_st = 59; spr_e = 151; sum_st = 151; sum_e = 243;\n",
    "#'2015-03-01' '2015-06-01'\n",
    "#'2015-06-01' '2015-08-31\n",
    "\n",
    "#/results2/SalishSea/hindcast.201905/'\n",
    "yr = '2015'\n",
    "start =f'{yr}-06-01'\n",
    "end =f'{yr}-06-02'\n",
    "\n",
    "start_run = arrow.get(start)\n",
    "end_run = arrow.get(end)\n",
    "\n",
    "arrow_array = []\n",
    "for r in arrow.Arrow.span_range('day', start_run, end_run):\n",
    "    arrow_array.append(r)\n",
    "dayslen = len(arrow_array)\n",
    "print(dayslen)\n",
    "    \n",
    "diat = np.zeros([dayslen,40,898,398])\n",
    "myri = np.zeros([dayslen,40,898,398])\n",
    "cili = np.zeros([dayslen,40,898,398])\n",
    "nit = np.zeros([dayslen,40,898,398])\n",
    "\n",
    "\n",
    "for i in range(0,dayslen):\n",
    "    \n",
    "\n",
    "    tdate = arrow_array[i][0]\n",
    "    \n",
    "    mm = tdate.format('MMM').lower()\n",
    "    dd = tdate.format('DD')\n",
    "    yy = tdate.format('YY')\n",
    "    d_str = f'{dd}{mm}{yy}'\n",
    "    ptrc_str = f'/results2/SalishSea/hindcast.201905/{d_str}/*_ptrc_T.nc'\n",
    "    t_dat = glob.glob(ptrc_str)\n",
    "    print(t_dat[0])\n",
    "    t0 = time.time()\n",
    "    w = xr.open_dataset(t_dat[0])\n",
    "    diat[i,:,:,:] = w['diatoms'].mean(dim=\"time_counter\")\n",
    "    w.close()\n",
    "    t1 = time.time()\n",
    "    total = t1-t0\n",
    "    print(f'seconds taken: {str(total)}')\n",
    "    \n",
    "\n"
   ]
  },
  {
   "cell_type": "code",
   "execution_count": null,
   "metadata": {},
   "outputs": [],
   "source": []
  },
  {
   "cell_type": "code",
   "execution_count": null,
   "metadata": {},
   "outputs": [],
   "source": [
    "\n",
    "# start = '2013-03-01'\n",
    "# end = '2013-08-31'\n",
    "# noday = 365\n",
    "\n",
    "# import matplotlib.pyplot as plt\n",
    "# import netCDF4 as nc\n",
    "# import numpy as np\n",
    "# import scipy as sp\n",
    "# import warnings\n",
    "# warnings.filterwarnings('ignore')\n",
    "# import datetime as dt\n",
    "# import glob\n",
    "# import arrow\n",
    "# import time\n",
    "# from datetime import datetime\n",
    "\n",
    "# def make_nclen(start,end):\n",
    "#     fn_ar_ptrc = []\n",
    "#     fn_ar_grid = []\n",
    "#     start_run = arrow.get(start)\n",
    "#     end_run = arrow.get(end)\n",
    "#     arrow_array = []\n",
    "#     for r in arrow.Arrow.span_range('day', start_run, end_run):\n",
    "#         arrow_array.append(r)\n",
    "\n",
    "#     dayslen = len(arrow_array)\n",
    "#     for i in range(0,dayslen):\n",
    "#         tdate = arrow_array[i][0]\n",
    "#         ddmmmyy = tdate.format('DDMMMYY').lower()\n",
    "#         ymd = tdate.format('YYYYMMDD')\n",
    "#         nc_sens_ptrc = '/results2/SalishSea/hindcast.201905/' + ddmmmyy + '/*ptrc*.nc'\n",
    "#         tnc_sens_ptrc = glob.glob(nc_sens_ptrc)\n",
    "#         fn_ar_ptrc.append(tnc_sens_ptrc[0])\n",
    "#         nc_sens_grid = '/results2/SalishSea/hindcast.201905/' + ddmmmyy + '/*grid*.nc'\n",
    "#         tnc_sens_grid = glob.glob(nc_sens_grid)\n",
    "#         fn_ar_grid.append(tnc_sens_grid[0])\n",
    "\n",
    "#     return fn_ar_ptrc, fn_ar_grid\n",
    "\n",
    "# def make_fname_ar(start,end,tstr):\n",
    "#     fn_ar = []\n",
    "#     start_run = arrow.get(start)\n",
    "#     end_run = arrow.get(end)\n",
    "#     arrow_array = []\n",
    "#     for r in arrow.Arrow.span_range('day', start_run, end_run):\n",
    "#         arrow_array.append(r)\n",
    "\n",
    "#     dayslen = len(arrow_array)\n",
    "#     for i in range(0,dayslen):\n",
    "#         tdate = arrow_array[i][0]\n",
    "#         ymd = tdate.format('YYYYMMDD')\n",
    "#         fname = tstr + ymd +'.nc'\n",
    "#         fn_ar.append(fname)\n",
    "\n",
    "#     return fn_ar\n",
    "\n",
    "# fn_ar_ptrc, fn_ar_grid = make_nclen(start,end)\n",
    "# tstr = 'ptrc_phyto_1d_'\n",
    "# avgdnc_ar_ptrc = make_fname_ar(start,end,tstr)\n",
    "\n",
    "# for i in range(0,noday):\n",
    "\n",
    "#     tptrc = fn_ar_ptrc[i]\n",
    "#     fn = avgdnc_ar_ptrc[i]\n",
    "#     print(fn)\n",
    "\n",
    "#     t = time.time()\n",
    "#     ptrc = nc.Dataset(tptrc)\n",
    "# #     print(ptrc)\n",
    "#     diat = ptrc['diatoms'][:]\n",
    "#     diat_d = np.nanmean(diat, axis = 0)\n",
    "#     flag = ptrc['flagellates'][:]\n",
    "#     flag_d = np.nanmean(flag, axis = 0)\n",
    "#     cili = ptrc['ciliates'][:]\n",
    "#     cili_d = np.nanmean(cili, axis = 0)\n",
    "#     ptrc.close()\n",
    "#     t2 = time.time()\n",
    "#     print(t2-t)\n",
    "\n",
    "#     tdir = '/data/tjarniko/results/hindcast.201905_dayavg_phyto/'\n",
    "#     ncname = tdir + fn\n",
    "\n",
    "#     f = nc.Dataset(ncname,'w', format='NETCDF4') #'w' stands for write\n",
    "#     g = f.createGroup('model_output')\n",
    "#     g.createDimension('depths', 40)\n",
    "#     g.createDimension('ydir',898)\n",
    "#     g.createDimension('xdir',398)\n",
    "\n",
    "#     ts = g.createVariable('diatoms','f4',('depths','ydir','xdir'))\n",
    "#     ts[:] = diat_d\n",
    "#     ts = g.createVariable('flagellates','f4',('depths','ydir','xdir'))\n",
    "#     ts[:] = flag_d\n",
    "#     ts = g.createVariable('ciliates','f4',('depths','ydir','xdir'))\n",
    "#     ts[:] = cili_d\n",
    "\n",
    "#     f.close()\n"
   ]
  },
  {
   "cell_type": "code",
   "execution_count": null,
   "metadata": {},
   "outputs": [],
   "source": []
  },
  {
   "cell_type": "code",
   "execution_count": null,
   "metadata": {},
   "outputs": [],
   "source": []
  }
 ],
 "metadata": {
  "kernelspec": {
   "display_name": "Python 3",
   "language": "python",
   "name": "python3"
  },
  "language_info": {
   "codemirror_mode": {
    "name": "ipython",
    "version": 3
   },
   "file_extension": ".py",
   "mimetype": "text/x-python",
   "name": "python",
   "nbconvert_exporter": "python",
   "pygments_lexer": "ipython3",
   "version": "3.7.4"
  }
 },
 "nbformat": 4,
 "nbformat_minor": 2
}
