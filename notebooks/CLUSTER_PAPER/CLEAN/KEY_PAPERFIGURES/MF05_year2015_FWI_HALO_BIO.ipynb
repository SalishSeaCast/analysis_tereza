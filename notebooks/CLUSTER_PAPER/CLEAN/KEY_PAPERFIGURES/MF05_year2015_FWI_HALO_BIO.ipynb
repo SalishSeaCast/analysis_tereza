{
 "cells": [
  {
   "cell_type": "code",
   "execution_count": 1,
   "metadata": {},
   "outputs": [],
   "source": [
    "### HALO index clustering - python-only pipeline\n",
    "\n"
   ]
  },
  {
   "cell_type": "code",
   "execution_count": 2,
   "metadata": {},
   "outputs": [
    {
     "data": {
      "text/html": [
       "<script>\n",
       "code_show=true; \n",
       "function code_toggle() {\n",
       " if (code_show){\n",
       " $('div.input').hide();\n",
       " } else {\n",
       " $('div.input').show();\n",
       " }\n",
       " code_show = !code_show\n",
       "} \n",
       "$( document ).ready(code_toggle);\n",
       "</script>\n",
       "<form action=\"javascript:code_toggle()\"><input type=\"submit\" value=\"Mythical code button\"></form>"
      ],
      "text/plain": [
       "<IPython.core.display.HTML object>"
      ]
     },
     "execution_count": 2,
     "metadata": {},
     "output_type": "execute_result"
    }
   ],
   "source": [
    "from IPython.display import HTML\n",
    "\n",
    "HTML('''<script>\n",
    "code_show=true; \n",
    "function code_toggle() {\n",
    " if (code_show){\n",
    " $('div.input').hide();\n",
    " } else {\n",
    " $('div.input').show();\n",
    " }\n",
    " code_show = !code_show\n",
    "} \n",
    "$( document ).ready(code_toggle);\n",
    "</script>\n",
    "<form action=\"javascript:code_toggle()\"><input type=\"submit\" value=\"Mythical code button\"></form>''')"
   ]
  },
  {
   "cell_type": "code",
   "execution_count": 3,
   "metadata": {},
   "outputs": [
    {
     "data": {
      "text/plain": [
       "<module 'pipvis' from '../pipvis.py'>"
      ]
     },
     "execution_count": 3,
     "metadata": {},
     "output_type": "execute_result"
    }
   ],
   "source": [
    "import scipy\n",
    "import netCDF4 as nc\n",
    "import numpy as np\n",
    "import pickle\n",
    "from matplotlib import pyplot as plt\n",
    "from scipy.cluster.hierarchy import dendrogram, linkage\n",
    "from scipy.cluster.hierarchy import fcluster\n",
    "import sys\n",
    "sys.path.append('../extraction_scripts')\n",
    "sys.path.append('..')\n",
    "import map_fxn as mf\n",
    "from importlib import reload\n",
    "\n",
    "import cmocean as cm\n",
    "import pipvis as vp\n",
    "reload(vp)\n",
    "\n",
    "\n",
    "\n",
    "import sys\n",
    "sys.path.append('../extraction_scripts')\n",
    "sys.path.append('..')\n",
    "import map_fxn as mf\n",
    "reload(vp)\n"
   ]
  },
  {
   "cell_type": "markdown",
   "metadata": {},
   "source": [
    "## masking edges"
   ]
  },
  {
   "cell_type": "code",
   "execution_count": 4,
   "metadata": {},
   "outputs": [
    {
     "name": "stdout",
     "output_type": "stream",
     "text": [
      "571\n"
     ]
    }
   ],
   "source": [
    "bath = '/results/nowcast-sys/NEMO-forcing/grid/mesh_mask_SalishSea2.nc'\n",
    "grid = mf.import_bathy(bath)\n",
    "fmask = (grid.fmask[0,0,:,:]) \n",
    "\n",
    "stn_x, stn_y = mf.make_stns(10)\n",
    "d_stn_x, d_stn_y = mf.filter_stn_in_domain(stn_x,stn_y,fmask)\n",
    "\n",
    "d_stn_xar = np.array(d_stn_x)\n",
    "d_stn_yar = np.array(d_stn_y)\n",
    "\n",
    "edge = np.where((d_stn_xar<=10) | (d_stn_yar>=888))\n",
    "np.squeeze(edge)\n",
    "np.shape(edge)\n",
    "edgear = np.array(edge)\n",
    "edgear = edgear[0]\n",
    "\n",
    "d_stn_xar =np.delete(d_stn_xar,edge)\n",
    "d_stn_yar = np.delete(d_stn_yar,edge)\n",
    "\n",
    "print(np.size(d_stn_xar))\n"
   ]
  },
  {
   "cell_type": "markdown",
   "metadata": {},
   "source": [
    "\n",
    "#### agglomerate signals extracted and save as .pkl, for year in 2013-2016"
   ]
  },
  {
   "cell_type": "code",
   "execution_count": 5,
   "metadata": {},
   "outputs": [
    {
     "name": "stdout",
     "output_type": "stream",
     "text": [
      "2013\n",
      "2014\n",
      "2015\n",
      "2016\n"
     ]
    }
   ],
   "source": [
    "# do this for years 2013  to 2016\n",
    "years = ['2013','2014','2015','2016']\n",
    "\n",
    "for year in years:\n",
    "    if year == '2016':\n",
    "        noday = 366\n",
    "    if year != '2016':\n",
    "        noday = 365\n",
    "        \n",
    "    print(year)\n",
    "    basedir = '/data/tjarniko/MEOPAR/analysis_tereza/notebooks/CLUSTER_PAPER/CLEAN/NC_HINDCAST/'\n",
    "\n",
    "\n",
    "    varfolder = 'HALO_TS'\n",
    "    tname = '../pkls/halo_datamat_'+year+'.pkl'\n",
    "    signalmat = np.zeros([np.size(d_stn_xar),noday])\n",
    "    count = 0 \n",
    "    for i in range(0,580):\n",
    "        \n",
    "        if i not in edgear:\n",
    "\n",
    "            pattern  = f'stn_{i}halo_depth_sp10.nc'\n",
    "            tdat = nc.Dataset(basedir+year +'/'+ varfolder +'/'+pattern)\n",
    "            signalmat[count,:] = tdat['halocline_depth'][:]\n",
    "            count = count+1\n",
    "\n",
    "    pickle.dump(signalmat, open(tname, 'wb'))\n"
   ]
  },
  {
   "cell_type": "markdown",
   "metadata": {},
   "source": [
    "## open the resulting signalmats, cluster from 2-N (N=100) clusters, save linkage matrix and cluster matrices, visualise dendrograms"
   ]
  },
  {
   "cell_type": "code",
   "execution_count": 6,
   "metadata": {},
   "outputs": [
    {
     "name": "stdout",
     "output_type": "stream",
     "text": [
      "2013\n",
      "2014\n",
      "2015\n",
      "2016\n"
     ]
    }
   ],
   "source": [
    "for year in years:\n",
    "    print(year)\n",
    "    signalmat = pickle.load(open('../pkls/halo_datamat_'+year+'.pkl', 'rb'))\n",
    "\n",
    "    Z = linkage(signalmat, 'ward')\n",
    "    pickle.dump(Z, open('../pkls/halo_linkmat_'+year+'.pkl', 'wb'))\n",
    "    \n",
    "    clustermat = np.zeros([100,np.size(d_stn_xar)])                           \n",
    "    for k in range(0,100): \n",
    "        clustermat[k,:] = fcluster(Z, k+1, criterion='maxclust')\n",
    "    pickle.dump(clustermat, open('../pkls/halo_clustmat_'+year+'.pkl', 'wb'))"
   ]
  },
  {
   "cell_type": "markdown",
   "metadata": {},
   "source": [
    "#### 'objective' measures of clustering are sometimes hard to defend\n",
    "\n",
    "##### one way to circumvent this obvious problem is to look manually at the visual clusters provided\n"
   ]
  },
  {
   "cell_type": "markdown",
   "metadata": {},
   "source": [
    "## 2013"
   ]
  },
  {
   "cell_type": "code",
   "execution_count": 9,
   "metadata": {},
   "outputs": [
    {
     "ename": "FileNotFoundError",
     "evalue": "[Errno 2] No such file or directory: './pkls/bio_clustmat_2013.pkl'",
     "output_type": "error",
     "traceback": [
      "\u001b[0;31m------------------------------\u001b[0m",
      "\u001b[0;31mFileNotFoundError\u001b[0mTraceback (most recent call last)",
      "\u001b[0;32m<ipython-input-9-bfd2b604a65c>\u001b[0m in \u001b[0;36m<module>\u001b[0;34m\u001b[0m\n\u001b[1;32m     22\u001b[0m \u001b[0mvp\u001b[0m\u001b[0;34m.\u001b[0m\u001b[0mclusters\u001b[0m\u001b[0;34m(\u001b[0m\u001b[0maxs\u001b[0m\u001b[0;34m[\u001b[0m\u001b[0;36m0\u001b[0m\u001b[0;34m,\u001b[0m\u001b[0;36m1\u001b[0m\u001b[0;34m]\u001b[0m\u001b[0;34m,\u001b[0m\u001b[0;34m'2013'\u001b[0m\u001b[0;34m,\u001b[0m\u001b[0;34m'fwi'\u001b[0m\u001b[0;34m,\u001b[0m\u001b[0;36m5\u001b[0m\u001b[0;34m)\u001b[0m\u001b[0;34m\u001b[0m\u001b[0;34m\u001b[0m\u001b[0m\n\u001b[1;32m     23\u001b[0m \u001b[0mvp\u001b[0m\u001b[0;34m.\u001b[0m\u001b[0mclusters\u001b[0m\u001b[0;34m(\u001b[0m\u001b[0maxs\u001b[0m\u001b[0;34m[\u001b[0m\u001b[0;36m0\u001b[0m\u001b[0;34m,\u001b[0m\u001b[0;36m2\u001b[0m\u001b[0;34m]\u001b[0m\u001b[0;34m,\u001b[0m\u001b[0;34m'2013'\u001b[0m\u001b[0;34m,\u001b[0m\u001b[0;34m'halo'\u001b[0m\u001b[0;34m,\u001b[0m\u001b[0;36m3\u001b[0m\u001b[0;34m)\u001b[0m\u001b[0;34m\u001b[0m\u001b[0;34m\u001b[0m\u001b[0m\n\u001b[0;32m---> 24\u001b[0;31m \u001b[0mvp\u001b[0m\u001b[0;34m.\u001b[0m\u001b[0mclusters\u001b[0m\u001b[0;34m(\u001b[0m\u001b[0maxs\u001b[0m\u001b[0;34m[\u001b[0m\u001b[0;36m0\u001b[0m\u001b[0;34m,\u001b[0m\u001b[0;36m3\u001b[0m\u001b[0;34m]\u001b[0m\u001b[0;34m,\u001b[0m\u001b[0;34m'2013'\u001b[0m\u001b[0;34m,\u001b[0m\u001b[0;34m'bio'\u001b[0m\u001b[0;34m,\u001b[0m\u001b[0;36m4\u001b[0m\u001b[0;34m)\u001b[0m\u001b[0;34m\u001b[0m\u001b[0;34m\u001b[0m\u001b[0m\n\u001b[0m\u001b[1;32m     25\u001b[0m \u001b[0;34m\u001b[0m\u001b[0m\n\u001b[1;32m     26\u001b[0m \u001b[0mplt\u001b[0m\u001b[0;34m.\u001b[0m\u001b[0mtight_layout\u001b[0m\u001b[0;34m(\u001b[0m\u001b[0;34m)\u001b[0m\u001b[0;34m\u001b[0m\u001b[0;34m\u001b[0m\u001b[0m\n",
      "\u001b[0;32m/data/tjarniko/MEOPAR/analysis_tereza/notebooks/CLUSTER_PAPER/CLEAN/pipvis.py\u001b[0m in \u001b[0;36mclusters\u001b[0;34m(ax1, year, var, no_clusters, markersize, legfontsize)\u001b[0m\n\u001b[1;32m     21\u001b[0m     \u001b[0mgrid\u001b[0m \u001b[0;34m=\u001b[0m \u001b[0mmf\u001b[0m\u001b[0;34m.\u001b[0m\u001b[0mimport_bathy\u001b[0m\u001b[0;34m(\u001b[0m\u001b[0mbath\u001b[0m\u001b[0;34m)\u001b[0m\u001b[0;34m\u001b[0m\u001b[0;34m\u001b[0m\u001b[0m\n\u001b[1;32m     22\u001b[0m     \u001b[0mtpkl\u001b[0m \u001b[0;34m=\u001b[0m \u001b[0;34mf'./pkls/{var}_clustmat_{year}.pkl'\u001b[0m\u001b[0;34m\u001b[0m\u001b[0;34m\u001b[0m\u001b[0m\n\u001b[0;32m---> 23\u001b[0;31m     \u001b[0mcl\u001b[0m \u001b[0;34m=\u001b[0m \u001b[0mpickle\u001b[0m\u001b[0;34m.\u001b[0m\u001b[0mload\u001b[0m\u001b[0;34m(\u001b[0m\u001b[0mopen\u001b[0m\u001b[0;34m(\u001b[0m\u001b[0mtpkl\u001b[0m\u001b[0;34m,\u001b[0m \u001b[0;34m'rb'\u001b[0m\u001b[0;34m)\u001b[0m\u001b[0;34m)\u001b[0m\u001b[0;34m\u001b[0m\u001b[0;34m\u001b[0m\u001b[0m\n\u001b[0m\u001b[1;32m     24\u001b[0m \u001b[0;34m\u001b[0m\u001b[0m\n\u001b[1;32m     25\u001b[0m \u001b[0;34m\u001b[0m\u001b[0m\n",
      "\u001b[0;31mFileNotFoundError\u001b[0m: [Errno 2] No such file or directory: './pkls/bio_clustmat_2013.pkl'"
     ]
    },
    {
     "data": {
      "image/png": "[encoded data removed]",
      "text/plain": [
       "<Figure size 1166.4x972 with 15 Axes>"
      ]
     },
     "metadata": {
      "needs_background": "light"
     },
     "output_type": "display_data"
    }
   ],
   "source": [
    "reload(vp)\n",
    "\n",
    "fact = 0.9\n",
    "\n",
    "#fig = plt.figure(figsize=(15*fact, 15*fact))\n",
    "fig, axs = plt.subplots(3,5,figsize=(18*fact,15*fact))\n",
    "\n",
    "plt.subplot(3,5,1)\n",
    "Z = pickle.load(open('../pkls/halo_linkmat_2013.pkl', 'rb'))\n",
    "dendrogram(\n",
    "    Z,\n",
    "    truncate_mode='lastp',  # show only the last p merged clusters\n",
    "    p=25,  # show only the last p merged clusters\n",
    "    leaf_rotation=90.,\n",
    "    leaf_font_size=12.,\n",
    "    color_threshold = 0,\n",
    "    show_contracted=True,  # to get a distribution impression in truncated branches\n",
    ")\n",
    "plt.title('year 2013'); plt.xlabel('cluster size'); plt.ylabel('distance')\n",
    "\n",
    "\n",
    "vp.clusters(axs[0,1],'2013','fwi',5)\n",
    "vp.clusters(axs[0,2],'2013','halo',3)\n",
    "vp.clusters(axs[0,3],'2013','bio',4)\n",
    "\n",
    "plt.tight_layout()\n",
    "\n"
   ]
  },
  {
   "cell_type": "markdown",
   "metadata": {},
   "source": [
    "## 2014"
   ]
  },
  {
   "cell_type": "code",
   "execution_count": null,
   "metadata": {},
   "outputs": [],
   "source": [
    "reload(vp)\n",
    "\n",
    "fact = 0.9\n",
    "\n",
    "#fig = plt.figure(figsize=(15*fact, 15*fact))\n",
    "fig, axs = plt.subplots(3,5,figsize=(18*fact,15*fact))\n",
    "\n",
    "plt.subplot(3,5,1)\n",
    "Z = pickle.load(open('../pkls/halo_linkmat_2014.pkl', 'rb'))\n",
    "dendrogram(\n",
    "    Z,\n",
    "    truncate_mode='lastp',  # show only the last p merged clusters\n",
    "    p=25,  # show only the last p merged clusters\n",
    "    leaf_rotation=90.,\n",
    "    leaf_font_size=12.,\n",
    "    color_threshold = 0,\n",
    "    show_contracted=True,  # to get a distribution impression in truncated branches\n",
    ")\n",
    "plt.title('year 2014'); plt.xlabel('cluster size'); plt.ylabel('distance')\n",
    "\n",
    "\n",
    "vp.clusters(axs[0,1],'2014','halo',2)\n",
    "vp.clusters(axs[0,2],'2014','halo',3)\n",
    "vp.clusters(axs[0,3],'2014','halo',4)\n",
    "vp.clusters(axs[0,4],'2014','halo',5)\n",
    "\n",
    "vp.clusters(axs[1,0],'2014','halo',6)\n",
    "vp.clusters(axs[1,1],'2014','halo',7)\n",
    "vp.clusters(axs[1,2],'2014','halo',8)\n",
    "vp.clusters(axs[1,3],'2014','halo',9)\n",
    "vp.clusters(axs[1,4],'2014','halo',10)\n",
    "\n",
    "vp.clusters(axs[2,0],'2014','halo',11)\n",
    "vp.clusters(axs[2,1],'2014','halo',12)\n",
    "vp.clusters(axs[2,2],'2014','halo',13)\n",
    "vp.clusters(axs[2,3],'2014','halo',14)\n",
    "vp.clusters(axs[2,4],'2014','halo',15)\n",
    "\n",
    "plt.tight_layout()\n",
    "\n"
   ]
  },
  {
   "cell_type": "markdown",
   "metadata": {},
   "source": [
    "## 2015 "
   ]
  },
  {
   "cell_type": "code",
   "execution_count": null,
   "metadata": {},
   "outputs": [],
   "source": [
    "reload(vp)\n",
    "\n",
    "fact = 0.9\n",
    "\n",
    "#fig = plt.figure(figsize=(15*fact, 15*fact))\n",
    "fig, axs = plt.subplots(3,5,figsize=(18*fact,15*fact))\n",
    "\n",
    "plt.subplot(3,5,1)\n",
    "Z = pickle.load(open('../pkls/halo_linkmat_2015.pkl', 'rb'))\n",
    "dendrogram(\n",
    "    Z,\n",
    "    truncate_mode='lastp',  # show only the last p merged clusters\n",
    "    p=25,  # show only the last p merged clusters\n",
    "    leaf_rotation=90.,\n",
    "    leaf_font_size=12.,\n",
    "    color_threshold = 0,\n",
    "    show_contracted=True,  # to get a distribution impression in truncated branches\n",
    ")\n",
    "plt.title('year 2015'); plt.xlabel('cluster size'); plt.ylabel('distance')\n",
    "\n",
    "\n",
    "vp.clusters(axs[0,1],'2015','halo',2)\n",
    "vp.clusters(axs[0,2],'2015','halo',3)\n",
    "vp.clusters(axs[0,3],'2015','halo',4)\n",
    "vp.clusters(axs[0,4],'2015','halo',5)\n",
    "\n",
    "vp.clusters(axs[1,0],'2015','halo',6)\n",
    "vp.clusters(axs[1,1],'2015','halo',7)\n",
    "vp.clusters(axs[1,2],'2015','halo',8)\n",
    "vp.clusters(axs[1,3],'2015','halo',9)\n",
    "vp.clusters(axs[1,4],'2015','halo',10)\n",
    "\n",
    "vp.clusters(axs[2,0],'2015','halo',11)\n",
    "vp.clusters(axs[2,1],'2015','halo',12)\n",
    "vp.clusters(axs[2,2],'2015','halo',13)\n",
    "vp.clusters(axs[2,3],'2015','halo',14)\n",
    "vp.clusters(axs[2,4],'2015','halo',15)\n",
    "\n",
    "plt.tight_layout()\n",
    "\n"
   ]
  },
  {
   "cell_type": "markdown",
   "metadata": {},
   "source": [
    "## 2016"
   ]
  },
  {
   "cell_type": "code",
   "execution_count": null,
   "metadata": {},
   "outputs": [],
   "source": [
    "reload(vp)\n",
    "\n",
    "fact = 0.9\n",
    "\n",
    "#fig = plt.figure(figsize=(15*fact, 15*fact))\n",
    "fig, axs = plt.subplots(3,5,figsize=(18*fact,15*fact))\n",
    "\n",
    "plt.subplot(3,5,1)\n",
    "Z = pickle.load(open('../pkls/halo_linkmat_2016.pkl', 'rb'))\n",
    "dendrogram(\n",
    "    Z,\n",
    "    truncate_mode='lastp',  # show only the last p merged clusters\n",
    "    p=25,  # show only the last p merged clusters\n",
    "    leaf_rotation=90.,\n",
    "    leaf_font_size=12.,\n",
    "    color_threshold = 0,\n",
    "    show_contracted=True,  # to get a distribution impression in truncated branches\n",
    ")\n",
    "plt.title('year 2016'); plt.xlabel('cluster size'); plt.ylabel('distance')\n",
    "\n",
    "\n",
    "vp.clusters(axs[0,1],'2016','halo',2)\n",
    "vp.clusters(axs[0,2],'2016','halo',3)\n",
    "vp.clusters(axs[0,3],'2016','halo',4)\n",
    "vp.clusters(axs[0,4],'2016','halo',5)\n",
    "\n",
    "vp.clusters(axs[1,0],'2016','halo',6)\n",
    "vp.clusters(axs[1,1],'2016','halo',7)\n",
    "vp.clusters(axs[1,2],'2016','halo',8)\n",
    "vp.clusters(axs[1,3],'2016','halo',9)\n",
    "vp.clusters(axs[1,4],'2016','halo',10)\n",
    "\n",
    "vp.clusters(axs[2,0],'2016','halo',11)\n",
    "vp.clusters(axs[2,1],'2016','halo',12)\n",
    "vp.clusters(axs[2,2],'2016','halo',13)\n",
    "vp.clusters(axs[2,3],'2016','halo',14)\n",
    "vp.clusters(axs[2,4],'2016','halo',15)\n",
    "\n",
    "plt.tight_layout()\n",
    "\n"
   ]
  },
  {
   "cell_type": "markdown",
   "metadata": {},
   "source": [
    "#### "
   ]
  },
  {
   "cell_type": "code",
   "execution_count": null,
   "metadata": {},
   "outputs": [],
   "source": [
    "cl_2013 = pickle.load(open('../pkls/halo_clustmat_2013.pkl', 'rb'))\n",
    "cl_2014 = pickle.load(open('../pkls/halo_clustmat_2014.pkl', 'rb'))\n",
    "cl_2015 = pickle.load(open('../pkls/halo_clustmat_2015.pkl', 'rb'))\n",
    "cl_2016 = pickle.load(open('../pkls/halo_clustmat_2016.pkl', 'rb'))\n",
    "sig_2013 = pickle.load(open('../pkls/halo_datamat_2013.pkl', 'rb'))\n",
    "sig_2014 = pickle.load(open('../pkls/halo_datamat_2014.pkl', 'rb'))\n",
    "sig_2015 = pickle.load(open('../pkls/halo_datamat_2015.pkl', 'rb'))\n",
    "sig_2016 = pickle.load(open('../pkls/halo_datamat_2016.pkl', 'rb'))\n"
   ]
  },
  {
   "cell_type": "markdown",
   "metadata": {},
   "source": [
    "## visualize original clusterings by size and do manual relabeling"
   ]
  },
  {
   "cell_type": "code",
   "execution_count": null,
   "metadata": {},
   "outputs": [],
   "source": [
    "fact = 0.6\n",
    "fig, axs = plt.subplots(1,4,figsize=(18*fact,15*fact))\n",
    "\n",
    "vp.clusters(axs[0],'2013','halo',5)\n",
    "vp.clusters(axs[1],'2014','halo',5)\n",
    "vp.clusters(axs[2],'2015','halo',5)\n",
    "vp.clusters(axs[3],'2016','halo',5)\n",
    "\n",
    "var = 'halo'\n",
    "year = 2013\n",
    "tpkl = f'../pkls/{var}_clustmat_{year}.pkl'  \n",
    "cl = pickle.load(open(tpkl, 'rb'))\n",
    "no_clusters = 5    \n",
    "cl_this = cl[no_clusters-1,:]\n",
    "cldes_2013_reass = np.zeros_like(cl_this)\n",
    "cldes_2013_reass[cl_this == 3] = 1\n",
    "cldes_2013_reass[cl_this == 4] = 2\n",
    "cldes_2013_reass[cl_this == 1] = 3\n",
    "cldes_2013_reass[cl_this == 2] = 4\n",
    "cldes_2013_reass[cl_this == 5] = 5\n",
    "\n",
    "year = 2014\n",
    "tpkl = f'../pkls/{var}_clustmat_{year}.pkl'  \n",
    "cl = pickle.load(open(tpkl, 'rb'))\n",
    "no_clusters = 5    \n",
    "cl_this = cl[no_clusters-1,:]\n",
    "cldes_2014_reass = np.zeros_like(cl_this)\n",
    "cldes_2014_reass[cl_this == 3] = 1\n",
    "cldes_2014_reass[cl_this == 5] = 2\n",
    "cldes_2014_reass[cl_this == 1] = 3\n",
    "cldes_2014_reass[cl_this == 2] = 4\n",
    "cldes_2014_reass[cl_this == 4] = 5\n",
    "\n",
    "year = 2015\n",
    "tpkl = f'../pkls/{var}_clustmat_{year}.pkl'  \n",
    "cl = pickle.load(open(tpkl, 'rb'))\n",
    "no_clusters = 5    \n",
    "cl_this = cl[no_clusters-1,:]\n",
    "cldes_2015_reass = np.zeros_like(cl_this)\n",
    "cldes_2015_reass[cl_this == 3] = 1\n",
    "cldes_2015_reass[cl_this == 4] = 2\n",
    "cldes_2015_reass[cl_this == 1] = 3\n",
    "cldes_2015_reass[cl_this == 2] = 4\n",
    "cldes_2015_reass[cl_this == 5] = 5\n",
    "\n",
    "year = 2016\n",
    "tpkl = f'../pkls/{var}_clustmat_{year}.pkl'  \n",
    "cl = pickle.load(open(tpkl, 'rb'))\n",
    "no_clusters = 5    \n",
    "cl_this = cl[no_clusters-1,:]\n",
    "cldes_2016_reass = np.zeros_like(cl_this)\n",
    "cldes_2016_reass[cl_this == 4] = 1\n",
    "cldes_2016_reass[cl_this == 5] = 2\n",
    "cldes_2016_reass[cl_this == 2] = 3\n",
    "cldes_2016_reass[cl_this == 3] = 4\n",
    "cldes_2016_reass[cl_this == 1] = 5\n",
    "\n",
    "\n"
   ]
  },
  {
   "cell_type": "markdown",
   "metadata": {},
   "source": [
    "## chceck that reassigning worked"
   ]
  },
  {
   "cell_type": "code",
   "execution_count": null,
   "metadata": {},
   "outputs": [],
   "source": [
    "colors = ['white',\n",
    "          'goldenrod',\n",
    "          'forestgreen',\n",
    "          'deepskyblue',\n",
    "          'red',\n",
    "          'midnightblue',\n",
    "          'deepskyblue','gray','peru',\n",
    "'olive','sandybrown','teal','pink','tan',\n",
    "'yellow','thistle']\n",
    "    \n",
    "reload(vp)\n",
    "fig, axs = plt.subplots(1,4,figsize=(18*fact,15*fact))\n",
    "\n",
    "vp.clusters_basic(axs[0],'2013','halo',5,cldes_2013_reass, colors)\n",
    "vp.clusters_basic(axs[1],'2014','halo',5,cldes_2014_reass, colors)\n",
    "vp.clusters_basic(axs[2],'2015','halo',5,cldes_2015_reass, colors)\n",
    "vp.clusters_basic(axs[3],'2016','halo',5,cldes_2016_reass, colors)"
   ]
  },
  {
   "cell_type": "code",
   "execution_count": null,
   "metadata": {},
   "outputs": [],
   "source": [
    "import cluster_fxn as cf\n",
    "\n",
    "no_clust = 5\n",
    "\n",
    "fact = 0.8\n",
    "fig, axs = plt.subplots(5,1,figsize=(10*fact,10*fact))\n",
    "\n",
    "#blues\n",
    "linestyl = ['-',':','-.','--']\n",
    "sigmats = [sig_2013,sig_2014,sig_2015,sig_2016]\n",
    "clustmats = [cldes_2013_reass,cldes_2014_reass,cldes_2015_reass,cldes_2016_reass]\n",
    "clustnos = [5,5,5,5]\n",
    "nodays =  [365,365,365,366]\n",
    "labs = ['2013','2014','2015','2016']\n",
    "\n",
    "clustdes = [1,1,1,1]\n",
    "for i in range(0,len(clustdes)):\n",
    "    tclmat = clustmats[i]; clustno = clustnos[i]\n",
    "    tmean = vp.cluster_patterns_mean(sigmats[i],tclmat,clustdes[i],nodays[i])\n",
    "    axs[0].plot(np.arange(0,nodays[i],1),np.squeeze(tmean), color = colors[1],\\\n",
    "                linestyle = linestyl[i], label = labs[i])\n",
    "axs[0].set_xlim([0,365])\n",
    "axs[0].legend(loc = 'best', ncol = 2)\n",
    "\n",
    "clustdes = [2,2,2,2]\n",
    "for i in range(0,len(clustdes)):\n",
    "    tclmat = clustmats[i]; clustno = clustnos[i]\n",
    "    tmean = vp.cluster_patterns_mean(sigmats[i],tclmat,clustdes[i],nodays[i])\n",
    "    axs[1].plot(np.arange(0,nodays[i],1),np.squeeze(tmean), color = colors[2],\\\n",
    "                linestyle = linestyl[i], label = labs[i])\n",
    "axs[1].set_xlim([0,365])\n",
    "\n",
    "clustdes = [3,3,3,3]\n",
    "\n",
    "for i in range(0,len(clustdes)):\n",
    "    tclmat = clustmats[i]; clustno = clustnos[i]\n",
    "    tmean = vp.cluster_patterns_mean(sigmats[i],tclmat,clustdes[i],nodays[i])\n",
    "    axs[2].plot(np.arange(0,nodays[i],1),np.squeeze(tmean), color = colors[3],\\\n",
    "                linestyle = linestyl[i], label = labs[i])\n",
    "axs[2].set_xlim([0,365])\n",
    "\n",
    "clustdes = [4,4,4,4]\n",
    "for i in range(0,len(clustdes)):\n",
    "    tclmat = clustmats[i]; clustno = clustnos[i]\n",
    "    tmean = vp.cluster_patterns_mean(sigmats[i],tclmat,clustdes[i],nodays[i])\n",
    "    axs[3].plot(np.arange(0,nodays[i],1),np.squeeze(tmean), color = colors[4],\\\n",
    "                linestyle = linestyl[i], label = labs[i])\n",
    "axs[3].set_xlim([0,365])\n",
    "\n",
    "clustdes = [5,5,5,5]\n",
    "for i in range(0,len(clustdes)):\n",
    "    tclmat = clustmats[i]; clustno = clustnos[i]\n",
    "    tmean = vp.cluster_patterns_mean(sigmats[i],tclmat,clustdes[i],nodays[i])\n",
    "    axs[4].plot(np.arange(0,nodays[i],1),np.squeeze(tmean), color = colors[5],\\\n",
    "                linestyle = linestyl[i], label = labs[i])\n",
    "axs[4].set_xlim([0,365])\n",
    "\n",
    "for i in range(0,5):\n",
    "    axs[i].set_ylim([0,125])\n",
    "    axs[i].set_ylabel('Freshwater \\n Index')\n",
    "    axs[i].set_xticks([])\n",
    "w = axs[4].set_xticks(np.arange(0,390,30))\n",
    "w = axs[4].set_xlabel('days of year')"
   ]
  },
  {
   "cell_type": "code",
   "execution_count": null,
   "metadata": {},
   "outputs": [],
   "source": [
    "def clusters_basic(ax1,year,var,noclust,cl_this, colors, legend = True, markersize = 20, legfontsize = 12 ):\n",
    "    \n",
    "    import pickle\n",
    "    import numpy as np\n",
    "    import cmocean as cm\n",
    "    import sys\n",
    "    sys.path.append('./extraction_scripts')\n",
    "    import map_fxn as mf\n",
    "    from salishsea_tools import (\n",
    "    viz_tools)\n",
    "    \n",
    "    bath = '/results/nowcast-sys/NEMO-forcing/grid/mesh_mask_SalishSea2.nc'\n",
    "    grid = mf.import_bathy(bath)\n",
    "    tpkl = f'./pkls/{var}_clustmat_{year}.pkl'\n",
    "    cl = pickle.load(open(tpkl, 'rb'))\n",
    "\n",
    "    viz_tools.set_aspect(ax1)   \n",
    "    fmask = (grid.fmask[0,0,:,:])    \n",
    "    mesh = ax1.pcolormesh(fmask, vmin=0, vmax=1, cmap = cm.cm.deep)\n",
    "\n",
    "    ax1.set_ylim([0,898])\n",
    "    ax1.set_xlim([0,398])\n",
    "\n",
    "    stn_x, stn_y = mf.make_stns(10)\n",
    "    d_stn_x, d_stn_y = mf.filter_stn_in_domain(stn_x,stn_y,fmask)\n",
    "\n",
    "    d_stn_xar = np.array(d_stn_x)\n",
    "    d_stn_yar = np.array(d_stn_y)\n",
    "\n",
    "    edge = np.where((d_stn_xar<=10) | (d_stn_yar>=888))\n",
    "    np.squeeze(edge)\n",
    "    np.shape(edge)\n",
    "    edgear = np.array(edge)\n",
    "    edgear = edgear[0]\n",
    "\n",
    "    d_stn_xar =np.delete(d_stn_xar,edge)\n",
    "    d_stn_yar = np.delete(d_stn_yar,edge)\n",
    "\n",
    "    for j in range(1,noclust+1):\n",
    "\n",
    "        cluster = np.where(cl_this == j)\n",
    "        cluster = np.squeeze(cluster)\n",
    "        \n",
    "        \n",
    "        c1_x = np.take(d_stn_xar,cluster)\n",
    "        c1_y = np.take(d_stn_yar,cluster)\n",
    "        pts = ax1.scatter(c1_x,c1_y,s=markersize,c=colors[j], label=str(j), marker='o')\n",
    "        ax1.set_xticklabels( () ) \n",
    "        ax1.set_yticklabels( () ) \n",
    "    \n",
    "    tit = var + ', year: ' + year + ' \\n n. clusters = '+ str(noclust)\n",
    "    if legend:\n",
    "        ax1.legend(bbox_to_anchor=(1.1, 1), fontsize = legfontsize)\n",
    "    ax1.set_title(tit,fontsize = legfontsize + 2)"
   ]
  },
  {
   "cell_type": "code",
   "execution_count": null,
   "metadata": {},
   "outputs": [],
   "source": [
    "linestyl = ['-',':','-.','--']\n",
    "sigmats = [sig_2013,sig_2014,sig_2015,sig_2016]\n",
    "clustmats = [cldes_2013_reass,cldes_2014_reass,cldes_2015_reass,cldes_2016_reass]\n",
    "clustnos = [5,5,5,5]\n",
    "nodays =  [365,365,365,366]\n",
    "labs = ['2013','2014','2015','2016']\n",
    "\n",
    "\n",
    "\n",
    "fact = 2\n",
    "fig = plt.figure(figsize=(7*fact, 7*fact))\n",
    "\n",
    "ax1 = plt.subplot2grid((7,4), (0,0), colspan=1, rowspan=4) \n",
    "vp.clusters_basic(ax1,'2013','halo',5,cldes_2013_reass, colors)\n",
    "ax1 = plt.subplot2grid((7,4), (0,1), colspan=1, rowspan=4) \n",
    "vp.clusters_basic(ax1,'2014','halo',5,cldes_2014_reass, colors)\n",
    "ax1 = plt.subplot2grid((7,4), (0,2), colspan=1, rowspan=4) \n",
    "vp.clusters_basic(ax1,'2015','halo',5,cldes_2015_reass, colors)\n",
    "ax1 = plt.subplot2grid((7,4), (0,3), colspan=1, rowspan=4) \n",
    "vp.clusters_basic(ax1,'2016','halo',5,cldes_2016_reass, colors)\n",
    "\n",
    "ax1 = plt.subplot2grid((7,4), (4,0), colspan=2, rowspan=1)\n",
    "clustdes = [1,1,1,1]\n",
    "for i in range(0,len(clustdes)):\n",
    "    tclmat = clustmats[i]; clustno = clustnos[i]\n",
    "    tmean = vp.cluster_patterns_mean(sigmats[i],tclmat,clustdes[i],nodays[i])\n",
    "    ax1.plot(np.arange(0,nodays[i],1),np.squeeze(tmean), color = colors[1],\\\n",
    "                linestyle = linestyl[i], label = labs[i])\n",
    "ax1.set_xlim([0,365])\n",
    "ax1.set_ylim([0,125])\n",
    "ax1.legend(loc = 'best', ncol = 2)\n",
    "\n",
    "ax1 = plt.subplot2grid((7,4), (4,2), colspan=2, rowspan=1) \n",
    "clustdes = [2,2,2,2]\n",
    "for i in range(0,len(clustdes)):\n",
    "    tclmat = clustmats[i]; clustno = clustnos[i]\n",
    "    tmean = vp.cluster_patterns_mean(sigmats[i],tclmat,clustdes[i],nodays[i])\n",
    "    ax1.plot(np.arange(0,nodays[i],1),np.squeeze(tmean), color = colors[2],\\\n",
    "                linestyle = linestyl[i], label = labs[i])\n",
    "ax1.set_xlim([0,365])\n",
    "ax1.set_ylim([0,125])\n",
    "ax1.legend(loc = 'best', ncol = 2)\n",
    "\n",
    "ax1 = plt.subplot2grid((7,4), (5,0), colspan=2, rowspan=1) \n",
    "clustdes = [3,3,3,3]\n",
    "for i in range(0,len(clustdes)):\n",
    "    tclmat = clustmats[i]; clustno = clustnos[i]\n",
    "    tmean = vp.cluster_patterns_mean(sigmats[i],tclmat,clustdes[i],nodays[i])\n",
    "    ax1.plot(np.arange(0,nodays[i],1),np.squeeze(tmean), color = colors[3],\\\n",
    "                linestyle = linestyl[i], label = labs[i])\n",
    "ax1.set_xlim([0,365])\n",
    "ax1.set_ylim([0,125])\n",
    "\n",
    "ax1 = plt.subplot2grid((7,4), (5,2), colspan=2, rowspan=1) \n",
    "clustdes = [4,4,4,4]\n",
    "for i in range(0,len(clustdes)):\n",
    "    tclmat = clustmats[i]; clustno = clustnos[i]\n",
    "    tmean = vp.cluster_patterns_mean(sigmats[i],tclmat,clustdes[i],nodays[i])\n",
    "    ax1.plot(np.arange(0,nodays[i],1),np.squeeze(tmean), color = colors[4],\\\n",
    "                linestyle = linestyl[i], label = labs[i])\n",
    "ax1.set_xlim([0,365])\n",
    "ax1.set_ylim([0,125])\n",
    "\n",
    "ax1 = plt.subplot2grid((7,4), (6,0), colspan=2, rowspan=1) \n",
    "clustdes = [5,5,5,5]\n",
    "for i in range(0,len(clustdes)):\n",
    "    tclmat = clustmats[i]; clustno = clustnos[i]\n",
    "    tmean = vp.cluster_patterns_mean(sigmats[i],tclmat,clustdes[i],nodays[i])\n",
    "    ax1.plot(np.arange(0,nodays[i],1),np.squeeze(tmean), color = colors[5],\\\n",
    "                linestyle = linestyl[i], label = labs[i])\n",
    "ax1.set_xlim([0,365])\n",
    "ax1.set_ylim([0,125])\n",
    "# ax1 = plt.subplot2grid((7,4), (6,2), colspan=2, rowspan=1) \n",
    "# ax1.set_xticks([])\n",
    "# ax1.set_yticks([])\n",
    "\n",
    "plt.tight_layout()\n",
    "\n",
    "\n",
    "\n",
    "fig.savefig('./paper_figs/MF04_halocline_clustering.pdf', bbox_inches='tight')\n",
    "\n",
    "\n"
   ]
  },
  {
   "cell_type": "code",
   "execution_count": null,
   "metadata": {},
   "outputs": [],
   "source": []
  }
 ],
 "metadata": {
  "kernelspec": {
   "display_name": "Python 3",
   "language": "python",
   "name": "python3"
  },
  "language_info": {
   "codemirror_mode": {
    "name": "ipython",
    "version": 3
   },
   "file_extension": ".py",
   "mimetype": "text/x-python",
   "name": "python",
   "nbconvert_exporter": "python",
   "pygments_lexer": "ipython3",
   "version": "3.7.4"
  }
 },
 "nbformat": 4,
 "nbformat_minor": 2
}
