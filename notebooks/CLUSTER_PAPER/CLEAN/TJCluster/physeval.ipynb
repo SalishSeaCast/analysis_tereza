{
 "cells": [
  {
   "cell_type": "code",
   "execution_count": 1,
   "id": "20553f17",
   "metadata": {},
   "outputs": [],
   "source": [
    "import numpy as np\n",
    "import matplotlib.pyplot as plt\n",
    "import os\n",
    "import pandas as pd\n",
    "import netCDF4 as nc\n",
    "import datetime as dt\n",
    "from salishsea_tools import evaltools as et, viz_tools\n",
    "import gsw\n",
    "import matplotlib.gridspec as gridspec\n",
    "import matplotlib as mpl\n",
    "import matplotlib.dates as mdates\n",
    "import cmocean as cmo\n",
    "import scipy.interpolate as sinterp\n",
    "import pickle\n",
    "import cmocean\n",
    "from matplotlib.colors import LogNorm\n",
    "\n",
    "mpl.rc('xtick', labelsize=8)\n",
    "mpl.rc('ytick', labelsize=8)\n",
    "mpl.rc('legend', fontsize=8)\n",
    "mpl.rc('axes', titlesize=8)\n",
    "mpl.rc('axes', labelsize=8)\n",
    "mpl.rc('figure', titlesize=8)\n",
    "mpl.rc('font', size=8)\n",
    "mpl.rc('text', usetex=True)\n",
    "mpl.rc('text.latex', preamble =r'''\n",
    " \\usepackage{txfonts}\n",
    " \\usepackage{lmodern}\n",
    " ''')\n",
    "mpl.rc('font', family='sans-serif', weight='normal', style='normal')\n",
    "\n",
    "%matplotlib inline"
   ]
  },
  {
   "cell_type": "code",
   "execution_count": 2,
   "id": "0b7a2e79",
   "metadata": {},
   "outputs": [],
   "source": [
    "PATH= '/results2/SalishSea/nowcast-green.201905/'\n",
    "modver='HC1905'\n",
    "start_date = dt.datetime(2013,1,1)\n",
    "end_date = dt.datetime(2017,1,1)\n",
    "flen=1\n",
    "namfmt='nowcast'\n",
    "#varmap={'N':'nitrate','Si':'silicon','Ammonium':'ammonium'}\n",
    "filemap={'vosaline':'grid_T','votemper':'grid_T'}\n",
    "#gridmap={'nitrate':'tmask','silicon':'tmask','ammonium':'tmask'}\n",
    "fdict={'ptrc_T':1,'grid_T':1}\n",
    "rematch=False\n",
    "if rematch==True:\n",
    "    df1=et.loadDFOCTD()\n",
    "    df1.head()"
   ]
  },
  {
   "cell_type": "code",
   "execution_count": 5,
   "id": "d428f833",
   "metadata": {},
   "outputs": [],
   "source": [
    "saveloc='./'\n",
    "fname=f'data_DFOCTD_{modver}_{start_date.strftime(\"%Y%m%d\")}_{end_date.strftime(\"%Y%m%d\")}'\n",
    "if rematch==True:\n",
    "    data=et.matchData(df1,filemap, fdict, start_date, end_date, namfmt, PATH, flen)\n",
    "    pickle.dump(data,open(os.path.join(saveloc,fname)+'.pkl','wb'))\n",
    "else:\n",
    "    data=pickle.load(open(os.path.join(saveloc,fname)+'.pkl','rb'))"
   ]
  },
  {
   "cell_type": "code",
   "execution_count": 4,
   "id": "0974d764",
   "metadata": {},
   "outputs": [],
   "source": [
    "#data=pickle.load(open(os.path.join(saveloc,fname)+'.pkl','rb'))"
   ]
  },
  {
   "cell_type": "code",
   "execution_count": 6,
   "id": "fe1a214a",
   "metadata": {},
   "outputs": [
    {
     "name": "stdout",
     "output_type": "stream",
     "text": [
      "     Year  Month   Day       Hour        Lat      Lon         Z         SA  \\\n",
      "0  2014.0    1.0  15.0  17.465556  49.329667 -124.081  0.991487  28.448958   \n",
      "1  2014.0    1.0  15.0  17.465556  49.329667 -124.081  1.982969  28.449707   \n",
      "2  2014.0    1.0  15.0  17.465556  49.329667 -124.081  2.974446  28.451662   \n",
      "3  2014.0    1.0  15.0  17.465556  49.329667 -124.081  3.965919  28.483562   \n",
      "4  2014.0    1.0  15.0  17.465556  49.329667 -124.081  4.957386  28.738536   \n",
      "\n",
      "         CT  Fluor               dtUTC    j    i  mod_vosaline  mod_votemper  \\\n",
      "0  7.535776    NaN 2014-01-15 17:27:56  526  206     26.507793      6.950379   \n",
      "1  7.536083    NaN 2014-01-15 17:27:56  526  206     26.509628      6.957670   \n",
      "2  7.534659    NaN 2014-01-15 17:27:56  526  206     26.525661      6.976134   \n",
      "3  7.535744    NaN 2014-01-15 17:27:56  526  206     26.583195      7.010254   \n",
      "4  7.582821    NaN 2014-01-15 17:27:56  526  206     26.700645      7.064485   \n",
      "\n",
      "   k  \n",
      "0  0  \n",
      "1  1  \n",
      "2  2  \n",
      "3  3  \n",
      "4  4  \n"
     ]
    }
   ],
   "source": [
    "print(data.head())"
   ]
  },
  {
   "cell_type": "code",
   "execution_count": 7,
   "id": "6530a5ad",
   "metadata": {},
   "outputs": [],
   "source": [
    "def rotmap(lon,lat,lon0,lat0,phi):\n",
    "    # rotate around point (pick one near center of domain)\n",
    "    # phi in degrees\n",
    "    # first scale lats to match and center around lat0,lon0:\n",
    "    lon1=(lon-lon0)*np.cos(lat0*np.pi/180)\n",
    "    lat1=lat-lat0\n",
    "    # now rotate:\n",
    "    lon2=lon1*np.cos(phi*np.pi/180)-lat1*np.sin(phi*np.pi/180)\n",
    "    lat2=lon1*np.sin(phi*np.pi/180)+lat1*np.cos(phi*np.pi/180)\n",
    "    return lon2,lat2"
   ]
  },
  {
   "cell_type": "code",
   "execution_count": 8,
   "id": "aa432cc8",
   "metadata": {},
   "outputs": [],
   "source": [
    "cm1=cmocean.cm.thermal\n",
    "#plt.get_cmap('PuBuGn')\n",
    "#cm1=cmo.cm.matter\n",
    "theta=-30\n",
    "lon0=-123.9\n",
    "lat0=49.3\n",
    "with nc.Dataset('/data/eolson/results/MEOPAR/NEMO-forcing-new/grid/bathymetry_201702.nc') as bathy:\n",
    "    bathylon=np.copy(bathy.variables['nav_lon'][:,:])\n",
    "    bathylat=np.copy(bathy.variables['nav_lat'][:,:])\n",
    "    bathyZ=np.copy(bathy.variables['Bathymetry'][:,:])\n",
    "blon,blat=rotmap(bathylon,bathylat,lon0,lat0,theta)"
   ]
  },
  {
   "cell_type": "code",
   "execution_count": 9,
   "id": "2fc0ab56",
   "metadata": {},
   "outputs": [
    {
     "name": "stdout",
     "output_type": "stream",
     "text": [
      "Cluster version is: BIO\n",
      "0\n",
      "5000\n",
      "10000\n",
      "15000\n",
      "20000\n",
      "25000\n",
      "30000\n",
      "35000\n",
      "40000\n",
      "45000\n",
      "50000\n",
      "55000\n",
      "60000\n",
      "65000\n",
      "70000\n",
      "75000\n",
      "80000\n",
      "85000\n",
      "90000\n",
      "95000\n",
      "100000\n",
      "105000\n",
      "110000\n",
      "115000\n",
      "120000\n",
      "125000\n",
      "130000\n",
      "135000\n",
      "140000\n",
      "145000\n",
      "150000\n",
      "155000\n",
      "160000\n",
      "165000\n",
      "170000\n",
      "175000\n",
      "180000\n",
      "185000\n",
      "190000\n",
      "195000\n",
      "200000\n",
      "205000\n",
      "210000\n",
      "215000\n",
      "220000\n",
      "225000\n",
      "230000\n",
      "235000\n",
      "240000\n",
      "245000\n",
      "250000\n",
      "255000\n",
      "260000\n",
      "265000\n",
      "270000\n",
      "275000\n",
      "280000\n",
      "285000\n",
      "290000\n",
      "295000\n",
      "300000\n",
      "305000\n",
      "310000\n",
      "315000\n",
      "320000\n",
      "325000\n",
      "330000\n",
      "335000\n",
      "340000\n",
      "345000\n",
      "350000\n",
      "355000\n",
      "360000\n",
      "365000\n",
      "370000\n",
      "375000\n",
      "380000\n",
      "385000\n",
      "390000\n",
      "395000\n",
      "400000\n",
      "405000\n",
      "410000\n",
      "415000\n"
     ]
    }
   ],
   "source": [
    "cver = \"BIO\"\n",
    "clusterD='/data/tjarniko/MEOPAR/analysis_tereza/notebooks/CLUSTER_PAPER/CLEAN/KEY_PAPERFIGURES/pkls/'\n",
    "cfile = {2013:\"BIO_clno_5_2013_reass.pkl\",2014:\"BIO_clno_5_2014_reass.pkl\", \n",
    "         2015: \"BIO_clno_5_2015_reass.pkl\", 2016: \"BIO_clno_5_2016_reass.pkl\"}\n",
    "cxf='Xcoords_for571_stations.pkl'\n",
    "cyf='Ycoords_for571_stations.pkl'\n",
    "print('Cluster version is:', cver)\n",
    "# papermill reads dictionary keys as strings, so add code to correct this\n",
    "cfile2=dict()\n",
    "for key,val in cfile.items():\n",
    "    cfile2[int(key)]=val\n",
    "cfile=cfile2\n",
    "cx=pickle.load(open(clusterD+cxf, 'rb'))\n",
    "cy=pickle.load(open(clusterD+cyf, 'rb'))\n",
    "cf=dict()\n",
    "for iyear in cfile.keys():\n",
    "    cf[iyear]=pickle.load(open(clusterD+cfile[iyear],'rb'))\n",
    "\n",
    "def round2(num):\n",
    "    return int(np.trunc((num+2)/10)*10+2)\n",
    "\n",
    "data['Cluster']=np.zeros(len(data))\n",
    "for ir, row in data.iterrows():\n",
    "    if (ir%5000 == 0):\n",
    "        print(ir)\n",
    "    ii=(cx==round2(row['i']))&(cy==round2(row['j']))\n",
    "    if sum(ii)==1:\n",
    "        cluster=cf[row['Year']][ii]\n",
    "        data.at[ir,'Cluster']=int(cluster)"
   ]
  },
  {
   "cell_type": "code",
   "execution_count": null,
   "id": "5c28c40d",
   "metadata": {},
   "outputs": [],
   "source": [
    "# tdir = '/data/eolson/MEOPAR/SS36runs/calcFiles/evalMatches/'\n",
    "# w = pd.read_csv(tdir+'data_DFOCTD_HC1905_20130101_20170101.csv')\n",
    "# print(w.head())\n",
    "\n",
    "# np.nanmin(w['Year'])"
   ]
  },
  {
   "cell_type": "code",
   "execution_count": 10,
   "id": "2267fad1",
   "metadata": {},
   "outputs": [],
   "source": [
    "fname2=f'data_DFOCTD_byCLUST_{modver}_{start_date.strftime(\"%Y%m%d\")}_{end_date.strftime(\"%Y%m%d\")}'\n",
    "pickle.dump(data,open(os.path.join(saveloc,fname2)+'.pkl','wb'))"
   ]
  },
  {
   "cell_type": "code",
   "execution_count": 11,
   "id": "18287413",
   "metadata": {},
   "outputs": [],
   "source": [
    "data=pickle.load(open(os.path.join(saveloc,fname2)+'.pkl','rb'))"
   ]
  },
  {
   "cell_type": "code",
   "execution_count": 12,
   "id": "980469da",
   "metadata": {},
   "outputs": [
    {
     "name": "stdout",
     "output_type": "stream",
     "text": [
      "     Year  Month   Day       Hour        Lat      Lon         Z         SA  \\\n",
      "0  2014.0    1.0  15.0  17.465556  49.329667 -124.081  0.991487  28.448958   \n",
      "1  2014.0    1.0  15.0  17.465556  49.329667 -124.081  1.982969  28.449707   \n",
      "2  2014.0    1.0  15.0  17.465556  49.329667 -124.081  2.974446  28.451662   \n",
      "3  2014.0    1.0  15.0  17.465556  49.329667 -124.081  3.965919  28.483562   \n",
      "4  2014.0    1.0  15.0  17.465556  49.329667 -124.081  4.957386  28.738536   \n",
      "\n",
      "         CT  Fluor               dtUTC    j    i  mod_vosaline  mod_votemper  \\\n",
      "0  7.535776    NaN 2014-01-15 17:27:56  526  206     26.507793      6.950379   \n",
      "1  7.536083    NaN 2014-01-15 17:27:56  526  206     26.509628      6.957670   \n",
      "2  7.534659    NaN 2014-01-15 17:27:56  526  206     26.525661      6.976134   \n",
      "3  7.535744    NaN 2014-01-15 17:27:56  526  206     26.583195      7.010254   \n",
      "4  7.582821    NaN 2014-01-15 17:27:56  526  206     26.700645      7.064485   \n",
      "\n",
      "   k  Cluster  \n",
      "0  0      3.0  \n",
      "1  1      3.0  \n",
      "2  2      3.0  \n",
      "3  3      3.0  \n",
      "4  4      3.0  \n"
     ]
    }
   ],
   "source": [
    "print(data.head())"
   ]
  },
  {
   "cell_type": "code",
   "execution_count": 26,
   "id": "a9d9748b",
   "metadata": {},
   "outputs": [
    {
     "name": "stdout",
     "output_type": "stream",
     "text": [
      "[ 0  1  2  3  4  5  6  7  8  9 10 11 12 13 14 15 16 17 18 19 20 21 22 23\n",
      " 24 25 26 27 28 29 30]\n"
     ]
    }
   ],
   "source": [
    "y_ar = np.arange(0,31,1)\n",
    "print(y_ar)\n",
    "bins=[y_ar,y_ar]\n",
    "\n"
   ]
  },
  {
   "cell_type": "code",
   "execution_count": 31,
   "id": "f640e7c2",
   "metadata": {},
   "outputs": [
    {
     "data": {
      "image/png": "[encoded data removed]",
      "text/plain": [
       "<Figure size 583.2x230.4 with 5 Axes>"
      ]
     },
     "metadata": {
      "needs_background": "light"
     },
     "output_type": "display_data"
    },
    {
     "data": {
      "image/png": "[encoded data removed]",
      "text/plain": [
       "<Figure size 583.2x230.4 with 5 Axes>"
      ]
     },
     "metadata": {
      "needs_background": "light"
     },
     "output_type": "display_data"
    },
    {
     "data": {
      "image/png": "[encoded data removed]",
      "text/plain": [
       "<Figure size 583.2x230.4 with 5 Axes>"
      ]
     },
     "metadata": {
      "needs_background": "light"
     },
     "output_type": "display_data"
    },
    {
     "data": {
      "image/png": "[encoded data removed]",
      "text/plain": [
       "<Figure size 583.2x230.4 with 5 Axes>"
      ]
     },
     "metadata": {
      "needs_background": "light"
     },
     "output_type": "display_data"
    },
    {
     "data": {
      "image/png": "[encoded data removed]",
      "text/plain": [
       "<Figure size 583.2x230.4 with 5 Axes>"
      ]
     },
     "metadata": {
      "needs_background": "light"
     },
     "output_type": "display_data"
    },
    {
     "data": {
      "image/png": "[encoded data removed]",
      "text/plain": [
       "<Figure size 583.2x230.4 with 5 Axes>"
      ]
     },
     "metadata": {
      "needs_background": "light"
     },
     "output_type": "display_data"
    }
   ],
   "source": [
    "clnams = ['No match', 'Tidal Mixing', 'Nearshore',\\\n",
    "          'Central Strait of Georgia', 'Northern Strait of Georgia', 'Juan de Fuca Strait']\n",
    "fs = 11\n",
    "for ic in np.unique(data['Cluster']):\n",
    "    clnam = clnams[int(ic)]\n",
    "    bounds = np.array([0,5,10,15,20,40,100,200,450])\n",
    "    norm = mpl.colors.BoundaryNorm(boundaries=bounds, ncolors=256)\n",
    "    #pcm = ax[1].pcolormesh(X, Y, Z1, norm=norm, cmap='RdBu_r')\n",
    "    tm=40\n",
    "    sm=40\n",
    "\n",
    "    fig = plt.figure(figsize = (8.1,3.2))\n",
    "    gsv = gridspec.GridSpec(2,1,left=.08,right=.98,hspace=1,bottom=.1,top=.85,height_ratios=[4,.2])\n",
    "    gs1=gridspec.GridSpecFromSubplotSpec(1,5,subplot_spec=gsv[0],wspace=.3,hspace=.34,\n",
    "                                         width_ratios=[1,1,.05,.05,.6])\n",
    "    axSA = fig.add_subplot(gs1[0])\n",
    "    axCT = fig.add_subplot(gs1[1])\n",
    "    axLmap = fig.add_subplot(gs1[-1])\n",
    "\n",
    "    gscb = gridspec.GridSpecFromSubplotSpec(11,1,subplot_spec=gs1[2])\n",
    "    axcb = fig.add_subplot(gscb[1:-1])\n",
    "\n",
    "    axL=fig.add_subplot(gsv[1])\n",
    "\n",
    "    axSA.plot((0,sm),(0,sm),'k-',lw=.5)\n",
    "    axCT.plot((0,tm),(0,tm),'k-',lw=.5)\n",
    "\n",
    "    vm0=-150\n",
    "    args={'marker':'.','s':2,'norm':norm}\n",
    "    dataCl=data.loc[(data.Cluster==ic)]\n",
    "    #ps=et.varvarScatter(axSA,dataCl,'SA','mod_vosaline','Z',vmin=vm0,vmax=450,cm=cm1,args=args)\n",
    "    #ps=et.varvarScatter(axCT,dataCl,'CT','mod_votemper','Z',vmin=vm0,vmax=450,cm=cm1,args=args)\n",
    "    \n",
    "    iiT=(~np.isnan(dataCl['CT']))&(~np.isnan(dataCl['mod_votemper']))\n",
    "    iiS=(~np.isnan(dataCl['SA']))&(~np.isnan(dataCl['mod_vosaline']))\n",
    "    counts, xedges, yedges, m1=axCT.hist2d(dataCl.loc[iiT,['CT']].values.flatten(),\n",
    "                                          dataCl.loc[iiT,['mod_votemper']].values.flatten(),bins=[y_ar,y_ar],norm=LogNorm(vmin=1,vmax=5*10**3),\n",
    "                                           cmin=1,cmax=5*10**3)\n",
    "    counts, xedges, yedges, m2=axSA.hist2d(dataCl.loc[iiS,['SA']].values.flatten(),\n",
    "                                          dataCl.loc[iiS,['mod_vosaline']].values.flatten(),bins=[y_ar,y_ar],norm=LogNorm(vmin=1,vmax=5*10**3),\n",
    "                                           cmin=1,cmax=5*10**3)\n",
    "    cb=fig.colorbar(m1,cax=axcb)\n",
    "    cb.set_label('Count')\n",
    "    #cb.set_ylim(0,450)\n",
    "\n",
    "    ntick=np.arange(0,sm,int(sm/4))\n",
    "    ntickl=[str(i) for i in ntick]\n",
    "    for ax in (axSA,):\n",
    "        ax.set_xlim((0,sm))\n",
    "        ax.set_ylim((0,sm))\n",
    "        ax.set_xticks(ntick)\n",
    "        ax.set_xticklabels(ntickl)\n",
    "        ax.set_yticks(ntick)\n",
    "        ax.set_yticklabels(ntickl)\n",
    "\n",
    "    stick=np.arange(0,tm,int(tm/4))\n",
    "    stickl=[str(i) for i in stick]\n",
    "    for ax in (axCT,):\n",
    "        ax.set_xlim((0,tm))\n",
    "        ax.set_ylim((0,tm))\n",
    "        ax.set_xticks(stick)\n",
    "        ax.set_xticklabels(stickl)\n",
    "        ax.set_yticks(stick)\n",
    "        ax.set_yticklabels(stickl)\n",
    "\n",
    "\n",
    "    for ax in (axSA,axCT,):\n",
    "        ax.set_aspect(1, adjustable='box')\n",
    "        #ax.set_xlabel('Observed')\n",
    "\n",
    "    axSA.set_ylabel('Modeled',fontsize=11)\n",
    "    axCT.set_ylabel('Modeled',fontsize=11)\n",
    "    axSA.set_xlabel('Observed',fontsize=11)\n",
    "    axCT.set_xlabel('Observed',fontsize=11)\n",
    "\n",
    "\n",
    "    axSA.set_title('S$_A$ (g kg$^{-1}$)',fontsize=11)\n",
    "    axCT.set_title('$\\Theta$ ($^{\\circ}$C)',fontsize=11)\n",
    "\n",
    "    #viz_tools.set_aspect(axLmap)\n",
    "    for axLi in (axLmap,):\n",
    "        axLi.set_aspect(1, adjustable='box')\n",
    "        contour_lines = axLi.contour(blon,blat,bathyZ,[1e-5],\n",
    "                    colors='black',zorder=2,linewidths=.5)\n",
    "        axLi.set_xlim(-1.02,0.81)\n",
    "        axLi.set_ylim(-1.5,1.8)\n",
    "        axLi.axis('off')\n",
    "    dataTSCl=dataCl.loc[(dataCl.SA>=0)|(dataCl.CT>=0)]\n",
    "\n",
    "    lons15,lats15=rotmap(dataTSCl['Lon'], dataTSCl['Lat'],lon0,lat0,theta)\n",
    "    axLmap.plot(lons15,lats15, '.',color='blue',markersize=2)\n",
    "    axLmap.set_title('Observation\\nLocations',fontsize=11)\n",
    "\n",
    "    axL.set_title('Observation Times',fontsize=11)\n",
    "    p1a,=axL.plot(dataTSCl.dtUTC,np.zeros(np.shape(dataTSCl.dtUTC)),'.',color='blue',markersize=6)\n",
    "    axL.set_yticks(());\n",
    "    \n",
    "    \n",
    "    axL.xaxis.set_ticks([\n",
    "                         dt.datetime(2014,1,1), dt.datetime(2014,6,1),\n",
    "                         dt.datetime(2015,1,1), dt.datetime(2015,6,1),\n",
    "                         dt.datetime(2016,1,1), dt.datetime(2016,6,1),\n",
    "                         dt.datetime(2017,1,1)])\n",
    "     \n",
    "    #labels=axL.xaxis.get_ticklabels()\n",
    "    labels = ['01 Jan \\n2014','01 Jun \\n2014',\\\n",
    "              '01 Jan \\n2015','01 Jun \\n2015','01 Jan \\n2016','01 Jun \\n2016',\n",
    "              '01 Jan \\n2017']\n",
    "    \n",
    "    axL.xaxis.set_ticklabels(labels, fontsize = fs)\n",
    "#    yearsFmt = mdates.DateFormatter('%d %b %Y')\n",
    "#    axL.xaxis.set_major_formatter(yearsFmt)\n",
    "\n",
    "#     axL.xaxis.set_ticks([dt.datetime(2013,1,1),\n",
    "#                          dt.datetime(2014,1,1),\n",
    "#                          dt.datetime(2015,1,1),\n",
    "#                          dt.datetime(2016,1,1), \n",
    "#                          dt.datetime(2017,1,1)])\n",
    "#     #labels=axL.xaxis.get_ticklabels()\n",
    "#     for tick in axL.get_xticklabels():\n",
    "#             #tick.set_rotation(90)\n",
    "#             tick.set_horizontalalignment('center')\n",
    "    axL.set_ylim(-.1,.3)\n",
    "    axLpos=axL.get_position()\n",
    "    new = mpl.transforms.Bbox.from_bounds(axLpos.bounds[0],axLpos.bounds[1],axLpos.bounds[2]-.05,axLpos.bounds[3])\n",
    "    axL.set_position(new)\n",
    "    #axL.legend(handles=[p1,p2,p3],loc=8,ncol=3,bbox_to_anchor=[.5,-4])\n",
    "    axL.set_frame_on(False)\n",
    "    #axL.axes.get_yaxis().set_visible(False)\n",
    "    #axL.axes.get_xaxis().set_visible(True)\n",
    "    xmin, xmax = axL.get_xaxis().get_view_interval()\n",
    "    ymin, ymax = axL.get_yaxis().get_view_interval()\n",
    "    axL.add_artist(mpl.lines.Line2D((xmin, xmax), (ymin, ymin), color='black', linewidth=2))\n",
    "#     fig.suptitle('Cluster '+str(ic))\n",
    "    fig.suptitle(f'Cluster {str(int(ic))} - {clnam}', fontsize = 11)\n",
    "    #fig.savefig(f'/data/eolson/results/MEOPAR/figs/eval/dfoCTDEval{modver}_Cluster{int(ic)}.png',dpi=200,transparent=True)"
   ]
  },
  {
   "cell_type": "code",
   "execution_count": 32,
   "id": "ca1942d1",
   "metadata": {},
   "outputs": [
    {
     "data": {
      "text/plain": [
       "Text(0.5, 0.98, 'All Data')"
      ]
     },
     "execution_count": 32,
     "metadata": {},
     "output_type": "execute_result"
    },
    {
     "data": {
      "image/png": "[encoded data removed]",
      "text/plain": [
       "<Figure size 583.2x230.4 with 5 Axes>"
      ]
     },
     "metadata": {
      "needs_background": "light"
     },
     "output_type": "display_data"
    }
   ],
   "source": [
    "clnams = ['No match', 'Tidal Mixing', 'Nearshore',\\\n",
    "      'Central Strait of Georgia', 'Northern Strait of Georgia', 'Juan de Fuca Strait']\n",
    "fs = 11\n",
    "#for ic in np.unique(data['Cluster']):\n",
    "clnam = clnams[int(ic)]\n",
    "bounds = np.array([0,5,10,15,20,40,100,200,450])\n",
    "norm = mpl.colors.BoundaryNorm(boundaries=bounds, ncolors=256)\n",
    "#pcm = ax[1].pcolormesh(X, Y, Z1, norm=norm, cmap='RdBu_r')\n",
    "tm=40\n",
    "sm=40\n",
    "\n",
    "fig = plt.figure(figsize = (8.1,3.2))\n",
    "gsv = gridspec.GridSpec(2,1,left=.08,right=.98,hspace=1,bottom=.1,top=.85,height_ratios=[4,.2])\n",
    "gs1=gridspec.GridSpecFromSubplotSpec(1,5,subplot_spec=gsv[0],wspace=.3,hspace=.34,\n",
    "                                     width_ratios=[1,1,.05,.05,.6])\n",
    "axSA = fig.add_subplot(gs1[0])\n",
    "axCT = fig.add_subplot(gs1[1])\n",
    "axLmap = fig.add_subplot(gs1[-1])\n",
    "\n",
    "gscb = gridspec.GridSpecFromSubplotSpec(11,1,subplot_spec=gs1[2])\n",
    "axcb = fig.add_subplot(gscb[1:-1])\n",
    "\n",
    "axL=fig.add_subplot(gsv[1])\n",
    "\n",
    "axSA.plot((0,sm),(0,sm),'k-',lw=.5)\n",
    "axCT.plot((0,tm),(0,tm),'k-',lw=.5)\n",
    "\n",
    "vm0=-150\n",
    "args={'marker':'.','s':2,'norm':norm}\n",
    "dataCl=data.loc[(data.Cluster<10)]\n",
    "#ps=et.varvarScatter(axSA,dataCl,'SA','mod_vosaline','Z',vmin=vm0,vmax=450,cm=cm1,args=args)\n",
    "#ps=et.varvarScatter(axCT,dataCl,'CT','mod_votemper','Z',vmin=vm0,vmax=450,cm=cm1,args=args)\n",
    "\n",
    "iiT=(~np.isnan(dataCl['CT']))&(~np.isnan(dataCl['mod_votemper']))\n",
    "iiS=(~np.isnan(dataCl['SA']))&(~np.isnan(dataCl['mod_vosaline']))\n",
    "counts, xedges, yedges, m1=axCT.hist2d(dataCl.loc[iiT,['CT']].values.flatten(),\n",
    "                                      dataCl.loc[iiT,['mod_votemper']].values.flatten(),bins=[y_ar,y_ar],norm=LogNorm(vmin=1,vmax=5*10**3),\n",
    "                                       cmin=1,cmax=5*10**3)\n",
    "counts, xedges, yedges, m2=axSA.hist2d(dataCl.loc[iiS,['SA']].values.flatten(),\n",
    "                                      dataCl.loc[iiS,['mod_vosaline']].values.flatten(),bins=[y_ar,y_ar],norm=LogNorm(vmin=1,vmax=5*10**3),\n",
    "                                       cmin=1,cmax=5*10**3)\n",
    "cb=fig.colorbar(m1,cax=axcb)\n",
    "cb.set_label('Count')\n",
    "#cb.set_ylim(0,450)\n",
    "\n",
    "ntick=np.arange(0,sm,int(sm/4))\n",
    "ntickl=[str(i) for i in ntick]\n",
    "for ax in (axSA,):\n",
    "    ax.set_xlim((0,sm))\n",
    "    ax.set_ylim((0,sm))\n",
    "    ax.set_xticks(ntick)\n",
    "    ax.set_xticklabels(ntickl)\n",
    "    ax.set_yticks(ntick)\n",
    "    ax.set_yticklabels(ntickl)\n",
    "\n",
    "stick=np.arange(0,tm,int(tm/4))\n",
    "stickl=[str(i) for i in stick]\n",
    "for ax in (axCT,):\n",
    "    ax.set_xlim((0,tm))\n",
    "    ax.set_ylim((0,tm))\n",
    "    ax.set_xticks(stick)\n",
    "    ax.set_xticklabels(stickl)\n",
    "    ax.set_yticks(stick)\n",
    "    ax.set_yticklabels(stickl)\n",
    "\n",
    "\n",
    "for ax in (axSA,axCT,):\n",
    "    ax.set_aspect(1, adjustable='box')\n",
    "    #ax.set_xlabel('Observed')\n",
    "\n",
    "axSA.set_ylabel('Modeled',fontsize=11)\n",
    "axCT.set_ylabel('Modeled',fontsize=11)\n",
    "axSA.set_xlabel('Observed',fontsize=11)\n",
    "axCT.set_xlabel('Observed',fontsize=11)\n",
    "\n",
    "\n",
    "axSA.set_title('S$_A$ (g kg$^{-1}$)',fontsize=11)\n",
    "axCT.set_title('$\\Theta$ ($^{\\circ}$C)',fontsize=11)\n",
    "\n",
    "#viz_tools.set_aspect(axLmap)\n",
    "for axLi in (axLmap,):\n",
    "    axLi.set_aspect(1, adjustable='box')\n",
    "    contour_lines = axLi.contour(blon,blat,bathyZ,[1e-5],\n",
    "                colors='black',zorder=2,linewidths=.5)\n",
    "    axLi.set_xlim(-1.02,0.81)\n",
    "    axLi.set_ylim(-1.5,1.8)\n",
    "    axLi.axis('off')\n",
    "dataTSCl=dataCl.loc[(dataCl.SA>=0)|(dataCl.CT>=0)]\n",
    "\n",
    "lons15,lats15=rotmap(dataTSCl['Lon'], dataTSCl['Lat'],lon0,lat0,theta)\n",
    "axLmap.plot(lons15,lats15, '.',color='blue',markersize=2)\n",
    "axLmap.set_title('Observation\\nLocations',fontsize=11)\n",
    "\n",
    "axL.set_title('Observation Times',fontsize=11)\n",
    "p1a,=axL.plot(dataTSCl.dtUTC,np.zeros(np.shape(dataTSCl.dtUTC)),'.',color='blue',markersize=6)\n",
    "axL.set_yticks(());\n",
    "\n",
    "\n",
    "axL.xaxis.set_ticks([\n",
    "                     dt.datetime(2014,1,1), dt.datetime(2014,6,1),\n",
    "                     dt.datetime(2015,1,1), dt.datetime(2015,6,1),\n",
    "                     dt.datetime(2016,1,1), dt.datetime(2016,6,1),\n",
    "                     dt.datetime(2017,1,1)])\n",
    "\n",
    "#labels=axL.xaxis.get_ticklabels()\n",
    "labels = ['01 Jan \\n2014','01 Jun \\n2014',\\\n",
    "          '01 Jan \\n2015','01 Jun \\n2015','01 Jan \\n2016','01 Jun \\n2016',\n",
    "          '01 Jan \\n2017']\n",
    "\n",
    "axL.xaxis.set_ticklabels(labels, fontsize = fs)\n",
    "#    yearsFmt = mdates.DateFormatter('%d %b %Y')\n",
    "#    axL.xaxis.set_major_formatter(yearsFmt)\n",
    "\n",
    "#     axL.xaxis.set_ticks([dt.datetime(2013,1,1),\n",
    "#                          dt.datetime(2014,1,1),\n",
    "#                          dt.datetime(2015,1,1),\n",
    "#                          dt.datetime(2016,1,1), \n",
    "#                          dt.datetime(2017,1,1)])\n",
    "#     #labels=axL.xaxis.get_ticklabels()\n",
    "#     for tick in axL.get_xticklabels():\n",
    "#             #tick.set_rotation(90)\n",
    "#             tick.set_horizontalalignment('center')\n",
    "axL.set_ylim(-.1,.3)\n",
    "axLpos=axL.get_position()\n",
    "new = mpl.transforms.Bbox.from_bounds(axLpos.bounds[0],axLpos.bounds[1],axLpos.bounds[2]-.05,axLpos.bounds[3])\n",
    "axL.set_position(new)\n",
    "#axL.legend(handles=[p1,p2,p3],loc=8,ncol=3,bbox_to_anchor=[.5,-4])\n",
    "axL.set_frame_on(False)\n",
    "#axL.axes.get_yaxis().set_visible(False)\n",
    "#axL.axes.get_xaxis().set_visible(True)\n",
    "xmin, xmax = axL.get_xaxis().get_view_interval()\n",
    "ymin, ymax = axL.get_yaxis().get_view_interval()\n",
    "axL.add_artist(mpl.lines.Line2D((xmin, xmax), (ymin, ymin), color='black', linewidth=2))\n",
    "#     fig.suptitle('Cluster '+str(ic))\n",
    "fig.suptitle(f'All Data', fontsize = 11)\n",
    "#fig.savefig(f'/data/eolson/results/MEOPAR/figs/eval/dfoCTDEval{modver}_Cluster{int(ic)}.png',dpi=200,transparent=True)"
   ]
  },
  {
   "cell_type": "code",
   "execution_count": 34,
   "id": "92730f4a",
   "metadata": {},
   "outputs": [
    {
     "name": "stdout",
     "output_type": "stream",
     "text": [
      "All temp:\n",
      "all:\n",
      "0= no cluster\n",
      "9.628354352540807\n",
      "  N: 410261\n",
      "  bias: -0.010468468579214019\n",
      "  RMSE: 0.4665724731415262\n",
      "  WSS: 0.9673432149760973\n",
      "cluster 3\n",
      "9.61814765636049\n",
      "  N: 250724\n",
      "  bias: 0.021702880923099244\n",
      "  RMSE: 0.4493010063682143\n",
      "  WSS: 0.9638283470139344\n",
      "cluster 4\n",
      "9.717182535309686\n",
      "  N: 48302\n",
      "  bias: -0.11829103504720351\n",
      "  RMSE: 0.4646746002895805\n",
      "  WSS: 0.9565483213381973\n",
      "cluster 5\n",
      "8.779493843827227\n",
      "  N: 28652\n",
      "  bias: -0.07356112155602013\n",
      "  RMSE: 0.47620326667322116\n",
      "  WSS: 0.9711747232268341\n"
     ]
    }
   ],
   "source": [
    "print('All temp:')\n",
    "print('all:')\n",
    "print('0= no cluster')\n",
    "print(np.nanmean(data['mod_votemper'][(data.Cluster<10)]))\n",
    "et.printstats(data,'CT','mod_votemper')\n",
    "for icl in range(3,6):\n",
    "    print('cluster',icl)\n",
    "    print(np.nanmean(data['mod_votemper'][(data.Cluster==icl)]))\n",
    "    et.printstats(data.loc[(data.Cluster==icl),:],'CT','mod_votemper')"
   ]
  },
  {
   "cell_type": "code",
   "execution_count": 35,
   "id": "7a558f0d",
   "metadata": {},
   "outputs": [
    {
     "name": "stdout",
     "output_type": "stream",
     "text": [
      "All temp:\n",
      "all:\n",
      "0= no cluster\n",
      "30.54960089800006\n",
      "  N: 410261\n",
      "  bias: 0.0459855811462937\n",
      "  RMSE: 0.47359226415981664\n",
      "  WSS: 0.9669355249059375\n",
      "cluster 3\n",
      "30.440881418500407\n",
      "  N: 250724\n",
      "  bias: 0.06816243174801784\n",
      "  RMSE: 0.4882028692927097\n",
      "  WSS: 0.9591226699090586\n",
      "cluster 4\n",
      "30.306701830077795\n",
      "  N: 48302\n",
      "  bias: 0.15028677162934656\n",
      "  RMSE: 0.32123238268657717\n",
      "  WSS: 0.9679980163744655\n",
      "cluster 5\n",
      "32.30347350498013\n",
      "  N: 28652\n",
      "  bias: -0.05555698545868637\n",
      "  RMSE: 0.4370658745697662\n",
      "  WSS: 0.9711005419088771\n"
     ]
    }
   ],
   "source": [
    "print('All temp:')\n",
    "print('all:')\n",
    "print('0= no cluster')\n",
    "print(np.nanmean(data['mod_vosaline'][(data.Cluster<10)]))\n",
    "et.printstats(data,'SA','mod_vosaline')\n",
    "for icl in range(3,6):\n",
    "    print('cluster',icl)\n",
    "    print(np.nanmean(data['mod_vosaline'][(data.Cluster==icl)]))\n",
    "    et.printstats(data.loc[(data.Cluster==icl),:],'SA','mod_vosaline')"
   ]
  },
  {
   "cell_type": "code",
   "execution_count": null,
   "id": "63474eb1",
   "metadata": {},
   "outputs": [],
   "source": []
  }
 ],
 "metadata": {
  "kernelspec": {
   "display_name": "Python 3",
   "language": "python",
   "name": "python3"
  },
  "language_info": {
   "codemirror_mode": {
    "name": "ipython",
    "version": 3
   },
   "file_extension": ".py",
   "mimetype": "text/x-python",
   "name": "python",
   "nbconvert_exporter": "python",
   "pygments_lexer": "ipython3",
   "version": "3.9.2"
  }
 },
 "nbformat": 4,
 "nbformat_minor": 5
}
