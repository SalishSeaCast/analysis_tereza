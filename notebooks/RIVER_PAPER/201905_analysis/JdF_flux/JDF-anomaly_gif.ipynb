{
 "cells": [
  {
   "cell_type": "markdown",
   "metadata": {},
   "source": [
    "### JDF - boundary condition analysis and transports"
   ]
  },
  {
   "cell_type": "code",
   "execution_count": 1,
   "metadata": {},
   "outputs": [
    {
     "name": "stdout",
     "output_type": "stream",
     "text": [
      "Once deleted, variables cannot be recovered. Proceed (y/[n])? y\n"
     ]
    }
   ],
   "source": [
    "%reset"
   ]
  },
  {
   "cell_type": "code",
   "execution_count": 2,
   "metadata": {},
   "outputs": [
    {
     "data": {
      "text/html": [
       "<script>\n",
       "code_show=true; \n",
       "function code_toggle() {\n",
       " if (code_show){\n",
       " $('div.input').hide();\n",
       " } else {\n",
       " $('div.input').show();\n",
       " }\n",
       " code_show = !code_show\n",
       "} \n",
       "$( document ).ready(code_toggle);\n",
       "</script>\n",
       "<form action=\"javascript:code_toggle()\"><input type=\"submit\" value=\"Click here to toggle on/off the raw code.\"></form>"
      ],
      "text/plain": [
       "<IPython.core.display.HTML object>"
      ]
     },
     "execution_count": 2,
     "metadata": {},
     "output_type": "execute_result"
    }
   ],
   "source": [
    "from IPython.display import HTML\n",
    "\n",
    "HTML('''<script>\n",
    "code_show=true; \n",
    "function code_toggle() {\n",
    " if (code_show){\n",
    " $('div.input').hide();\n",
    " } else {\n",
    " $('div.input').show();\n",
    " }\n",
    " code_show = !code_show\n",
    "} \n",
    "$( document ).ready(code_toggle);\n",
    "</script>\n",
    "<form action=\"javascript:code_toggle()\"><input type=\"submit\" value=\"Click here to toggle on/off the raw code.\"></form>''')"
   ]
  },
  {
   "cell_type": "code",
   "execution_count": 3,
   "metadata": {},
   "outputs": [],
   "source": [
    "import warnings\n",
    "warnings.filterwarnings('ignore') "
   ]
  },
  {
   "cell_type": "code",
   "execution_count": 14,
   "metadata": {},
   "outputs": [],
   "source": [
    "import netCDF4 as nc\n",
    "import matplotlib\n",
    "from matplotlib import pyplot as plt\n",
    "from salishsea_tools import (\n",
    "    viz_tools)\n",
    "import cmocean as cm\n",
    "import numpy as np\n",
    "import seawater\n",
    "import arrow\n",
    "import xarray as xr\n",
    "import pickle\n",
    "\n",
    "import mpl_interactions.ipyplot as iplt\n",
    "from mpl_interactions import indexer\n",
    "%matplotlib ipympl"
   ]
  },
  {
   "cell_type": "markdown",
   "metadata": {},
   "source": [
    "## Visualize where transports are output in the model"
   ]
  },
  {
   "cell_type": "code",
   "execution_count": 5,
   "metadata": {},
   "outputs": [
    {
     "data": {
      "image/png": "[encoded data removed]",
      "text/plain": [
       "<Figure size 540x540 with 1 Axes>"
      ]
     },
     "metadata": {
      "needs_background": "light"
     },
     "output_type": "display_data"
    }
   ],
   "source": [
    "fact = 0.5\n",
    "fig = plt.figure(figsize=(15*fact, 15*fact))\n",
    "ax1 = plt.subplot2grid((1,1), (0,0), colspan=1, rowspan=1) \n",
    "bath = '/data/tjarniko/MEOPAR/grid/mesh_mask201702.nc'\n",
    "grid = nc.Dataset(bath)\n",
    "viz_tools.set_aspect(ax1)   \n",
    "fmask = (grid['fmask'][0,0,:,:])    \n",
    "mesh = ax1.pcolormesh(fmask, vmin=0, vmax=1, cmap = cm.cm.deep)\n",
    "# for i in range(370,480):\n",
    "#     pts = ax1.scatter(5,i,s=3,c='red', marker='o')\n",
    "    \n",
    "for i in range(361,(361+75)):\n",
    "    pts = ax1.scatter(23,i,s=3,c='chartreuse', marker='o')\n",
    "    \n",
    "w = plt.title('Model domain with location of flux transport \\n (chartreuse line)')"
   ]
  },
  {
   "cell_type": "code",
   "execution_count": 6,
   "metadata": {},
   "outputs": [],
   "source": [
    "anomsal_flux_stor_conc = \\\n",
    "pickle.load(open('./pkls_pyscripts/anomsal_flux_stor_conc.pkl', 'rb'))  \n",
    "anomDIC_2050_flux_stor_conc = \\\n",
    "pickle.load(open('./pkls_pyscripts/anomDIC_2050_flux_stor.pkl', 'rb'))  \n",
    "\n",
    "tcmap = cm.cm.phase\n",
    "colsamplr = np.zeros([12,4])\n",
    "\n",
    "for i in range(0,12):\n",
    "    colsamplr[i,:]  = tcmap(i/12)\n",
    "# print(color)\n",
    "# print(np.shape(color))\n",
    "\n",
    "testcol = np.zeros([480,4])\n",
    "for i in range(0,480):\n",
    "    \n",
    "    testcol[i,:] = colsamplr[i%12,:]"
   ]
  },
  {
   "cell_type": "code",
   "execution_count": 7,
   "metadata": {},
   "outputs": [],
   "source": [
    "# def sal(year):\n",
    "#     ts = anomsal_flux_stor_conc[year-2013,:,:]\n",
    "#     #print(np.shape(ts))\n",
    "#     ts2 = np.reshape(ts,(40*12))\n",
    "#     #print(np.shape(ts2))\n",
    "#     return ts2\n",
    "\n",
    "# # w = (sal(2013))\n",
    "# def DIC(sal,year):\n",
    "#     tdic = anomDIC_2050_flux_stor_conc[year-2013,:,:]\n",
    "#     tdic2 = np.reshape(tdic,(40*12))\n",
    "#     return tdic2\n",
    "\n"
   ]
  },
  {
   "cell_type": "markdown",
   "metadata": {},
   "source": [
    "![legend](legend.png)"
   ]
  },
  {
   "cell_type": "code",
   "execution_count": 12,
   "metadata": {
    "scrolled": true
   },
   "outputs": [
    {
     "ename": "NameError",
     "evalue": "name 'sal' is not defined",
     "output_type": "error",
     "traceback": [
      "\u001b[0;31m----------------------------------------------------------------------\u001b[0m",
      "\u001b[0;31mNameError\u001b[0m                            Traceback (most recent call last)",
      "\u001b[0;32m<ipython-input-12-b250457a7009>\u001b[0m in \u001b[0;36m<module>\u001b[0;34m\u001b[0m\n\u001b[1;32m      1\u001b[0m \u001b[0mfig\u001b[0m\u001b[0;34m,\u001b[0m \u001b[0max\u001b[0m \u001b[0;34m=\u001b[0m \u001b[0mplt\u001b[0m\u001b[0;34m.\u001b[0m\u001b[0msubplots\u001b[0m\u001b[0;34m(\u001b[0m\u001b[0mfigsize\u001b[0m\u001b[0;34m=\u001b[0m\u001b[0;34m(\u001b[0m\u001b[0;36m6\u001b[0m\u001b[0;34m,\u001b[0m \u001b[0;36m4.8\u001b[0m\u001b[0;34m)\u001b[0m\u001b[0;34m)\u001b[0m\u001b[0;34m\u001b[0m\u001b[0;34m\u001b[0m\u001b[0m\n\u001b[1;32m      2\u001b[0m controls = iplt.scatter(\n\u001b[0;32m----> 3\u001b[0;31m     \u001b[0msal\u001b[0m\u001b[0;34m,\u001b[0m\u001b[0;34m\u001b[0m\u001b[0;34m\u001b[0m\u001b[0m\n\u001b[0m\u001b[1;32m      4\u001b[0m     \u001b[0mDIC\u001b[0m\u001b[0;34m,\u001b[0m\u001b[0;34m\u001b[0m\u001b[0;34m\u001b[0m\u001b[0m\n\u001b[1;32m      5\u001b[0m \u001b[0;34m\u001b[0m\u001b[0m\n",
      "\u001b[0;31mNameError\u001b[0m: name 'sal' is not defined"
     ]
    },
    {
     "data": {
      "image/png": "[encoded data removed]",
      "text/plain": [
       "<Figure size 432x345.6 with 1 Axes>"
      ]
     },
     "metadata": {
      "needs_background": "light"
     },
     "output_type": "display_data"
    }
   ],
   "source": [
    "\n",
    "\n",
    "\n",
    "# fig, ax = plt.subplots(figsize=(6, 4.8))\n",
    "# controls = iplt.scatter(\n",
    "#     sal,\n",
    "#     DIC,\n",
    "    \n",
    "#     s=10,\n",
    "#     year=np.arange(2013, 2020),\n",
    "#     c=testcol,\n",
    "#     #edgecolors=\"k\",\n",
    "#     slider_formats=\"{:d}\",\n",
    "#     play_buttons=True,\n",
    "#     play_button_pos=\"left\",\n",
    "# )\n",
    "\n",
    "# # for m in range(0,12):\n",
    "# #     iplt.scatter(indexer(datX[:, 0, m]), indexer(datY[:, 0, m]),\\\n",
    "# #                  color = 'k', label=f'month: {m+1}', controls=ctrls)\n",
    "\n",
    "    \n",
    "# fs = 15\n",
    "# plt.grid()\n",
    "# #ax.set_xscale(\"log\")\n",
    "# ax.axhline(y=0); ax.axvline(x=0) \n",
    "# ax.set_xlim([-20000, 20000])\n",
    "# ax.set_ylim([-1500,1500])\n",
    "# ax.set_xlabel(\"Salinity anomaly (kg m$^{-2}$ d$^{-1}$)\", fontsize=12)\n",
    "# _ = ax.set_ylabel(\"DIC anomaly (mol m$^{-2}$ d$^{-1}$)\", fontsize=12)"
   ]
  },
  {
   "cell_type": "code",
   "execution_count": 15,
   "metadata": {},
   "outputs": [
    {
     "data": {
      "application/vnd.jupyter.widget-view+json": {
       "model_id": "fffce62f7eb248daafad22b6068f5ddb",
       "version_major": 2,
       "version_minor": 0
      },
      "text/plain": [
       "Canvas(toolbar=Toolbar(toolitems=[('Home', 'Reset original view', 'home', 'home'), ('Back', 'Back to previous …"
      ]
     },
     "metadata": {},
     "output_type": "display_data"
    },
    {
     "data": {
      "application/vnd.jupyter.widget-view+json": {
       "model_id": "44798baa05b140cd8b8a770105e3693e",
       "version_major": 2,
       "version_minor": 0
      },
      "text/plain": [
       "VBox(children=(HBox(children=(IntSlider(value=0, description='year', max=6, readout=False), Label(value='0.00'…"
      ]
     },
     "metadata": {},
     "output_type": "display_data"
    },
    {
     "data": {
      "text/plain": [
       "Text(0.5, 1.0, 'SEASONALITY OF JDF FLUXES BY YEAR: YEAR 0 = 2013')"
      ]
     },
     "execution_count": 15,
     "metadata": {},
     "output_type": "execute_result"
    }
   ],
   "source": [
    "datY = anomDIC_2050_flux_stor_conc\n",
    "datX = anomsal_flux_stor_conc\n",
    "\n",
    "fig, ax = plt.subplots(figsize=(6, 4.8))\n",
    "\n",
    "# plot the first month in order to generate the controls\n",
    "ctrls = iplt.plot(\n",
    "    indexer(datX[:, :, 0], \"year\"),\n",
    "    indexer(datY[:, :, 0], \"year\"),\n",
    "    \"o\",\n",
    "    color = colsamplr[0,:],\n",
    "    label=f\"mon: {1}\",\n",
    "    year=np.arange(7),\n",
    ")\n",
    "for m in range(1, 12):\n",
    "    iplt.plot(\n",
    "        indexer(datX[:, :, m], \"year\"),\n",
    "        indexer(datY[:, :, m], \"year\"),\n",
    "        \"o\",\n",
    "        color = colsamplr[m,:],\n",
    "        label=f\"mon: {m+1}\",\n",
    "        controls=ctrls,\n",
    "        #controls=ctrls[\"year\"]\n",
    "    )\n",
    "plt.grid()\n",
    "plt.xlim([-25000,25000])\n",
    "plt.ylim([-1500,1500])\n",
    "plt.legend(loc=4, fontsize = 8, ncol = 2)\n",
    "ax.set_xlabel(\"Salinity anomaly (kg m$^{-2}$ d$^{-1}$)\", fontsize=12)\n",
    "_ = ax.set_ylabel(\"DIC anomaly (mol m$^{-2}$ d$^{-1}$)\", fontsize=12)\n",
    "plt.title('SEASONALITY OF JDF FLUXES BY YEAR: YEAR 0 = 2013')\n",
    "\n",
    "#anim = ctrls.save_animation(\"JDF_seasonality.gif\", fig, \"year\", interval=35)\n",
    "\n",
    "#anim = ctrls.save_animation(\"JDF_seasonality.gif\", fig, \"year\")"
   ]
  },
  {
   "cell_type": "code",
   "execution_count": 10,
   "metadata": {},
   "outputs": [],
   "source": [
    "# fact = 0.3\n",
    "# fig, axs = plt.subplots(2,4, figsize=(11, 9), facecolor='w', edgecolor='k')\n",
    "# fig.subplots_adjust(hspace = .5, wspace=.21)\n",
    "\n",
    "# axs = axs.ravel()\n",
    "# months = [5,6,7,8,11,12,1,2]\n",
    "# for i in range(8):\n",
    "\n",
    "#     #axs[i].contourf(np.random.rand(10,10),5,cmap=plt.cm.Oranges)\n",
    "#     axs[i].plot(anomsal_flux_stor_conc[0,:,months[i]-1],\\\n",
    "#                  anomDIC_2050_flux_stor_conc[0,:,months[i]-1])\n",
    "#     axs[i].set_title(f'month {months[i]}')\n",
    "#     axs[i].set_xlim([-25000,25000])\n",
    "#     axs[i].set_ylim([-1500,1500])\n",
    "    \n",
    "# # plt.tight_layout()"
   ]
  },
  {
   "cell_type": "code",
   "execution_count": 11,
   "metadata": {},
   "outputs": [],
   "source": [
    "# np.shape(anomDIC_2050_flux_stor_conc)"
   ]
  },
  {
   "cell_type": "code",
   "execution_count": null,
   "metadata": {},
   "outputs": [],
   "source": []
  }
 ],
 "metadata": {
  "kernelspec": {
   "display_name": "Python 3",
   "language": "python",
   "name": "python3"
  },
  "language_info": {
   "codemirror_mode": {
    "name": "ipython",
    "version": 3
   },
   "file_extension": ".py",
   "mimetype": "text/x-python",
   "name": "python",
   "nbconvert_exporter": "python",
   "pygments_lexer": "ipython3",
   "version": "3.7.4"
  }
 },
 "nbformat": 4,
 "nbformat_minor": 2
}
