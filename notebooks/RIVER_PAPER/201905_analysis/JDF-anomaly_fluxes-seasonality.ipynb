{
 "cells": [
  {
   "cell_type": "markdown",
   "metadata": {},
   "source": [
    "### JDF - boundary condition analysis and transports"
   ]
  },
  {
   "cell_type": "code",
   "execution_count": 1,
   "metadata": {},
   "outputs": [
    {
     "data": {
      "text/html": [
       "<script>\n",
       "code_show=true; \n",
       "function code_toggle() {\n",
       " if (code_show){\n",
       " $('div.input').hide();\n",
       " } else {\n",
       " $('div.input').show();\n",
       " }\n",
       " code_show = !code_show\n",
       "} \n",
       "$( document ).ready(code_toggle);\n",
       "</script>\n",
       "<form action=\"javascript:code_toggle()\"><input type=\"submit\" value=\"Click here to toggle on/off the raw code.\"></form>"
      ],
      "text/plain": [
       "<IPython.core.display.HTML object>"
      ]
     },
     "execution_count": 1,
     "metadata": {},
     "output_type": "execute_result"
    }
   ],
   "source": [
    "from IPython.display import HTML\n",
    "\n",
    "HTML('''<script>\n",
    "code_show=true; \n",
    "function code_toggle() {\n",
    " if (code_show){\n",
    " $('div.input').hide();\n",
    " } else {\n",
    " $('div.input').show();\n",
    " }\n",
    " code_show = !code_show\n",
    "} \n",
    "$( document ).ready(code_toggle);\n",
    "</script>\n",
    "<form action=\"javascript:code_toggle()\"><input type=\"submit\" value=\"Click here to toggle on/off the raw code.\"></form>''')"
   ]
  },
  {
   "cell_type": "code",
   "execution_count": 2,
   "metadata": {},
   "outputs": [],
   "source": [
    "import warnings\n",
    "warnings.filterwarnings('ignore') "
   ]
  },
  {
   "cell_type": "code",
   "execution_count": 3,
   "metadata": {},
   "outputs": [],
   "source": [
    "import netCDF4 as nc\n",
    "import matplotlib\n",
    "from matplotlib import pyplot as plt\n",
    "from salishsea_tools import (\n",
    "    viz_tools)\n",
    "import cmocean as cm\n",
    "import numpy as np\n",
    "import seawater\n",
    "import arrow\n",
    "import xarray as xr\n",
    "import pickle\n",
    "\n",
    "import mpl_interactions.ipyplot as iplt\n",
    "from mpl_interactions import indexer\n"
   ]
  },
  {
   "cell_type": "markdown",
   "metadata": {},
   "source": [
    "## Visualize where transports are output in the model"
   ]
  },
  {
   "cell_type": "code",
   "execution_count": 4,
   "metadata": {},
   "outputs": [
    {
     "data": {
      "image/png": "[encoded data removed]",
      "text/plain": [
       "<Figure size 756x756 with 1 Axes>"
      ]
     },
     "metadata": {
      "needs_background": "light"
     },
     "output_type": "display_data"
    }
   ],
   "source": [
    "fact = 0.7\n",
    "fig = plt.figure(figsize=(15*fact, 15*fact))\n",
    "ax1 = plt.subplot2grid((1,1), (0,0), colspan=1, rowspan=1) \n",
    "bath = '/data/tjarniko/MEOPAR/grid/mesh_mask201702.nc'\n",
    "grid = nc.Dataset(bath)\n",
    "viz_tools.set_aspect(ax1)   \n",
    "fmask = (grid['fmask'][0,0,:,:])    \n",
    "mesh = ax1.pcolormesh(fmask, vmin=0, vmax=1, cmap = cm.cm.deep)\n",
    "# for i in range(370,480):\n",
    "#     pts = ax1.scatter(5,i,s=3,c='red', marker='o')\n",
    "    \n",
    "for i in range(361,(361+75)):\n",
    "    pts = ax1.scatter(23,i,s=3,c='chartreuse', marker='o')\n",
    "    \n",
    "w = plt.title('Model domain with location of flux transport \\n (chartreuse line)')"
   ]
  },
  {
   "cell_type": "code",
   "execution_count": 5,
   "metadata": {},
   "outputs": [],
   "source": [
    "# pickle.dump(anomsal_flux_stor_conc, open(\"./pkls_pyscripts/anomsal_flux_stor_conc.pkl\", 'wb'))\n",
    "# pickle.dump(anomDIC_2050_flux_stor_conc, open(\"./pkls_pyscripts/anomDIC_2050_flux_stor.pkl\", 'wb'))\n",
    "\n",
    "anomsal_flux_stor_conc = \\\n",
    "pickle.load(open('./pkls_pyscripts/anomsal_flux_stor_conc.pkl', 'rb'))  \n",
    "anomDIC_2050_flux_stor_conc = \\\n",
    "pickle.load(open('./pkls_pyscripts/anomDIC_2050_flux_stor.pkl', 'rb'))  "
   ]
  },
  {
   "cell_type": "markdown",
   "metadata": {},
   "source": [
    "![legend](legend.png)"
   ]
  },
  {
   "cell_type": "code",
   "execution_count": 6,
   "metadata": {
    "scrolled": true
   },
   "outputs": [
    {
     "ename": "NameError",
     "evalue": "name 'sal' is not defined",
     "output_type": "error",
     "traceback": [
      "\u001b[0;31m---------------------------------------\u001b[0m",
      "\u001b[0;31mNameError\u001b[0mTraceback (most recent call last)",
      "\u001b[0;32m<ipython-input-6-39356b6192b5>\u001b[0m in \u001b[0;36m<module>\u001b[0;34m\u001b[0m\n\u001b[1;32m      5\u001b[0m \u001b[0mfig\u001b[0m\u001b[0;34m,\u001b[0m \u001b[0max\u001b[0m \u001b[0;34m=\u001b[0m \u001b[0mplt\u001b[0m\u001b[0;34m.\u001b[0m\u001b[0msubplots\u001b[0m\u001b[0;34m(\u001b[0m\u001b[0mfigsize\u001b[0m\u001b[0;34m=\u001b[0m\u001b[0;34m(\u001b[0m\u001b[0;36m6\u001b[0m\u001b[0;34m,\u001b[0m \u001b[0;36m4.8\u001b[0m\u001b[0;34m)\u001b[0m\u001b[0;34m)\u001b[0m\u001b[0;34m\u001b[0m\u001b[0;34m\u001b[0m\u001b[0m\n\u001b[1;32m      6\u001b[0m controls = iplt.scatter(\n\u001b[0;32m----> 7\u001b[0;31m     \u001b[0msal\u001b[0m\u001b[0;34m,\u001b[0m\u001b[0;34m\u001b[0m\u001b[0;34m\u001b[0m\u001b[0m\n\u001b[0m\u001b[1;32m      8\u001b[0m     \u001b[0mDIC\u001b[0m\u001b[0;34m,\u001b[0m\u001b[0;34m\u001b[0m\u001b[0;34m\u001b[0m\u001b[0m\n\u001b[1;32m      9\u001b[0m \u001b[0;34m\u001b[0m\u001b[0m\n",
      "\u001b[0;31mNameError\u001b[0m: name 'sal' is not defined"
     ]
    },
    {
     "data": {
      "image/png": "[encoded data removed]",
      "text/plain": [
       "<Figure size 432x345.6 with 1 Axes>"
      ]
     },
     "metadata": {
      "needs_background": "light"
     },
     "output_type": "display_data"
    }
   ],
   "source": [
    "datY = anomDIC_2050_flux_stor_conc\n",
    "datX = anomsal_flux_stor_conc\n",
    "\n",
    "\n",
    "fig, ax = plt.subplots(figsize=(6, 4.8))\n",
    "controls = iplt.scatter(\n",
    "    sal,\n",
    "    DIC,\n",
    "    \n",
    "    s=10,\n",
    "    year=np.arange(2013, 2020),\n",
    "    c=testcol,\n",
    "    #edgecolors=\"k\",\n",
    "    slider_formats=\"{:d}\",\n",
    "    play_buttons=True,\n",
    "    play_button_pos=\"left\",\n",
    ")\n",
    "\n",
    "# for m in range(0,12):\n",
    "#     iplt.scatter(indexer(datX[:, 0, m]), indexer(datY[:, 0, m]),\\\n",
    "#                  color = 'k', label=f'month: {m+1}', controls=ctrls)\n",
    "\n",
    "    \n",
    "fs = 15\n",
    "plt.grid()\n",
    "#ax.set_xscale(\"log\")\n",
    "ax.axhline(y=0); ax.axvline(x=0) \n",
    "ax.set_xlim([-20000, 20000])\n",
    "ax.set_ylim([-1500,1500])\n",
    "ax.set_xlabel(\"Salinity anomaly (kg m$^{-2}$ d$^{-1}$)\", fontsize=12)\n",
    "_ = ax.set_ylabel(\"DIC anomaly (mol m$^{-2}$ d$^{-1}$)\", fontsize=12)"
   ]
  },
  {
   "cell_type": "code",
   "execution_count": null,
   "metadata": {},
   "outputs": [],
   "source": [
    "\n",
    "\n",
    "fig, ax = plt.subplots()\n",
    "\n",
    "# plot the first month in order to generate the controls\n",
    "ctrls = iplt.plot(\n",
    "    indexer(datX[:, :, 0], \"year\"),\n",
    "    indexer(datY[:, :, 0], \"year\"),\n",
    "    \"o\",\n",
    "    label=f\"month: {0}\",\n",
    "    year=np.arange(7),\n",
    ")\n",
    "for m in range(1, 12):\n",
    "    iplt.plot(\n",
    "        indexer(datX[:, :, m], \"year\"),\n",
    "        indexer(datY[:, :, m], \"year\"),\n",
    "        \"o\",\n",
    "        label=f\"month: {m}\",\n",
    "        controls=ctrls,\n",
    "    )\n",
    "plt.legend(loc=1)"
   ]
  },
  {
   "cell_type": "code",
   "execution_count": null,
   "metadata": {},
   "outputs": [],
   "source": [
    "datY = anomDIC_2050_flux_stor_conc\n",
    "datX = anomsal_flux_stor_conc\n",
    "\n",
    "fig, ax = plt.subplots()\n",
    "year = 0\n",
    "\n",
    "def indexer(arr, axis=0):\n",
    "    def f(*args, **kwargs):\n",
    "        if 'year' in kwargs:\n",
    "            return np.take(arr, kwargs['year'], axis=axis)\n",
    "        raise ValueError(f\"indexer did not receive a kwarg with a name in {idxs}\")\n",
    "    return f\n",
    "\n",
    "ctrls = iplt.scatter(indexer(datX[:, 0, :]), indexer(datY[:, 0, :]), label=f'month: {m}', year=np.arange(7))\n",
    "\n",
    "for m in range(1,12):\n",
    "    iplt.scatter(indexer(datX[:, m, :]), indexer(datY[:, m, :]), label=f'month: {m}', controls=ctrls)\n",
    "plt.legend()"
   ]
  },
  {
   "cell_type": "code",
   "execution_count": null,
   "metadata": {},
   "outputs": [],
   "source": [
    "import pandas as pd\n",
    "from matplotlib.colors import to_rgba_array, TABLEAU_COLORS, XKCD_COLORS\n",
    "\n",
    "data = pd.read_json('nations.json')\n",
    "def clean_data(data):\n",
    "    for column in ['income', 'lifeExpectancy', 'population']:\n",
    "        data = data.drop(data[data[column].apply(len) <= 4].index)\n",
    "    return data\n",
    "\n",
    "def extrap_interp(data):\n",
    "    data = np.array(data)\n",
    "    x_range = np.arange(1800, 2009, 1.)\n",
    "    y_range = np.interp(x_range, data[:, 0], data[:, 1])\n",
    "    return y_range\n",
    "\n",
    "def extrap_data(data):\n",
    "    for column in ['income', 'lifeExpectancy', 'population']:\n",
    "        data[column] = data[column].apply(extrap_interp)\n",
    "    return data\n",
    "data = clean_data(data)\n",
    "data = extrap_data(data)\n",
    "income_min, income_max = np.min(data['income'].apply(np.min)), np.max(data['income'].apply(np.max))\n",
    "life_exp_min, life_exp_max = np.min(data['lifeExpectancy'].apply(np.min)), np.max(data['lifeExpectancy'].apply(np.max))\n",
    "pop_min, pop_max = np.min(data['population'].apply(np.min)), np.max(data['population'].apply(np.max))"
   ]
  },
  {
   "cell_type": "code",
   "execution_count": null,
   "metadata": {},
   "outputs": [],
   "source": [
    "def x(year):\n",
    "    return data[\"income\"].apply(lambda x: x[year - 1800])\n",
    "\n",
    "\n",
    "def y(x, year):\n",
    "    return data[\"lifeExpectancy\"].apply(lambda x: x[year - 1800])\n",
    "\n",
    "\n",
    "def s(x, y, year):\n",
    "    pop = data[\"population\"].apply(lambda x: x[year - 1800])\n",
    "    return 6000 * pop.values / pop_max\n",
    "\n",
    "\n",
    "regions = data[\"region\"].unique().tolist()\n",
    "c = data[\"region\"].apply(lambda x: list(TABLEAU_COLORS)[regions.index(x)]).values"
   ]
  },
  {
   "cell_type": "code",
   "execution_count": null,
   "metadata": {},
   "outputs": [],
   "source": [
    "print(y(x,1850))"
   ]
  },
  {
   "cell_type": "code",
   "execution_count": null,
   "metadata": {},
   "outputs": [],
   "source": [
    "fig, ax = plt.subplots(figsize=(10, 4.8))\n",
    "controls = iplt.scatter(\n",
    "    x,\n",
    "    y,\n",
    "    s=s,\n",
    "    year=np.arange(1800, 2009),\n",
    "    c=c,\n",
    "    edgecolors=\"k\",\n",
    "    slider_formats=\"{:d}\",\n",
    "    play_buttons=True,\n",
    "    play_button_pos=\"left\",\n",
    ")\n",
    "fs = 15\n",
    "ax.set_xscale(\"log\")\n",
    "ax.set_ylim([0, 100])\n",
    "ax.set_xlim([200, income_max * 1.05])\n",
    "ax.set_xlabel(\"Income\", fontsize=fs)\n",
    "_ = ax.set_ylabel(\"Life Expectancy\", fontsize=fs)"
   ]
  },
  {
   "cell_type": "code",
   "execution_count": null,
   "metadata": {},
   "outputs": [],
   "source": [
    "np.shape(anomDIC_2050_flux_stor)"
   ]
  },
  {
   "cell_type": "code",
   "execution_count": null,
   "metadata": {},
   "outputs": [],
   "source": []
  },
  {
   "cell_type": "code",
   "execution_count": null,
   "metadata": {},
   "outputs": [],
   "source": []
  },
  {
   "cell_type": "code",
   "execution_count": null,
   "metadata": {},
   "outputs": [],
   "source": []
  },
  {
   "cell_type": "code",
   "execution_count": null,
   "metadata": {},
   "outputs": [],
   "source": [
    "print(np.max(sal(DIC,2014)))"
   ]
  },
  {
   "cell_type": "code",
   "execution_count": null,
   "metadata": {},
   "outputs": [],
   "source": [
    "DIC(2014)"
   ]
  },
  {
   "cell_type": "code",
   "execution_count": null,
   "metadata": {},
   "outputs": [],
   "source": []
  }
 ],
 "metadata": {
  "kernelspec": {
   "display_name": "Python 3",
   "language": "python",
   "name": "python3"
  },
  "language_info": {
   "codemirror_mode": {
    "name": "ipython",
    "version": 3
   },
   "file_extension": ".py",
   "mimetype": "text/x-python",
   "name": "python",
   "nbconvert_exporter": "python",
   "pygments_lexer": "ipython3",
   "version": "3.7.4"
  }
 },
 "nbformat": 4,
 "nbformat_minor": 2
}
