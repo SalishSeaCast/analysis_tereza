{
 "cells": [
  {
   "cell_type": "markdown",
   "metadata": {},
   "source": [
    "### Further AIRSEA flux"
   ]
  },
  {
   "cell_type": "code",
   "execution_count": 29,
   "metadata": {},
   "outputs": [
    {
     "data": {
      "text/html": [
       "<script>\n",
       "code_show=true; \n",
       "function code_toggle() {\n",
       " if (code_show){\n",
       " $('div.input').hide();\n",
       " } else {\n",
       " $('div.input').show();\n",
       " }\n",
       " code_show = !code_show\n",
       "} \n",
       "$( document ).ready(code_toggle);\n",
       "</script>\n",
       "<form action=\"javascript:code_toggle()\"><input type=\"submit\" value=\"Click here to toggle on/off the raw code.\"></form>"
      ],
      "text/plain": [
       "<IPython.core.display.HTML object>"
      ]
     },
     "execution_count": 29,
     "metadata": {},
     "output_type": "execute_result"
    }
   ],
   "source": [
    "from IPython.display import HTML\n",
    "\n",
    "HTML('''<script>\n",
    "code_show=true; \n",
    "function code_toggle() {\n",
    " if (code_show){\n",
    " $('div.input').hide();\n",
    " } else {\n",
    " $('div.input').show();\n",
    " }\n",
    " code_show = !code_show\n",
    "} \n",
    "$( document ).ready(code_toggle);\n",
    "</script>\n",
    "<form action=\"javascript:code_toggle()\"><input type=\"submit\" value=\"Click here to toggle on/off the raw code.\"></form>''')"
   ]
  },
  {
   "cell_type": "code",
   "execution_count": 30,
   "metadata": {},
   "outputs": [],
   "source": [
    "import netCDF4 as nc\n",
    "from matplotlib import pyplot as plt\n",
    "from salishsea_tools import (\n",
    "    viz_tools)\n",
    "import cmocean as cm\n",
    "import numpy as np\n",
    "import seawater\n",
    "import arrow\n",
    "import xarray as xr\n",
    "import pickle\n",
    "\n",
    "plt.rcParams.update({'font.size': 12})"
   ]
  },
  {
   "cell_type": "markdown",
   "metadata": {},
   "source": [
    "#### establish and store a regional mask"
   ]
  },
  {
   "cell_type": "code",
   "execution_count": 31,
   "metadata": {},
   "outputs": [],
   "source": [
    "# mesh = nc.Dataset('/data/tjarniko/MEOPAR/grid/mesh_mask201702.nc')\n",
    "# tmask = mesh.variables['tmask'][0, 0, :, :]\n",
    "\n",
    "# mask = np.zeros_like(tmask)\n",
    "# mask[tmask>0] = 4\n",
    "\n",
    "# for y in range(0,898):\n",
    "#     for x in range(0,398):\n",
    "        \n",
    "#         if  (x <185) & (y>220) & (y<500) & (tmask[y,x] >0) :\n",
    "#             mask[y,x] = 1\n",
    "#         if  (y >= 550) & (tmask[y,x] > 0):\n",
    "#             mask[y,x] = 2\n",
    "#         if (x> 150) & (y>355) & (y<550) & (tmask[y,x]>0):\n",
    "#             mask[y,x] = 3\n",
    "\n",
    "# pickle.dump(mask, open(\"reg_mask.pkl\", 'wb'))"
   ]
  },
  {
   "cell_type": "code",
   "execution_count": 32,
   "metadata": {},
   "outputs": [
    {
     "data": {
      "text/plain": [
       "Text(0.5, 1.0, 'regional mask')"
      ]
     },
     "execution_count": 32,
     "metadata": {},
     "output_type": "execute_result"
    },
    {
     "data": {
      "image/png": "[encoded data removed]",
      "text/plain": [
       "<Figure size 936x748.8 with 2 Axes>"
      ]
     },
     "metadata": {
      "needs_background": "light"
     },
     "output_type": "display_data"
    }
   ],
   "source": [
    "\n",
    "reg_mask = pickle.load(open('./reg_mask.pkl', 'rb'))  \n",
    "\n",
    "fact = 0.65\n",
    "fig, ax = plt.subplots(1, 1, figsize=(20*fact, 16*fact))\n",
    "viz_tools.set_aspect(ax)\n",
    "mesh = ax.pcolormesh(reg_mask, cmap=cm.cm.thermal)\n",
    "fig.colorbar(mesh)\n",
    "plt.title('regional mask',fontsize=20)\n"
   ]
  },
  {
   "cell_type": "markdown",
   "metadata": {},
   "source": [
    "### load calculated AS flux (from PI carbon paper work), and calculate mean monthly fluxes for each of the above regions for each of years 2013-2017 (2018-2019 not available)"
   ]
  },
  {
   "cell_type": "code",
   "execution_count": null,
   "metadata": {},
   "outputs": [],
   "source": [
    "sec_day = 60*60*24 #CONVERT FROM MMOL/M2/SEC TO MMOL/M2/DAY\n",
    "#factor of 1.11 is asselin filter mishap\n",
    "hindcast2013_co2_flx = pickle.load(open('/data/tjarniko/MEOPAR/analysis_tereza/notebooks/PI_CARBON_PAPER/MAIN_ANALYSIS/pkls/hind_insitu_2013.pkl', 'rb'))  * sec_day * 1.11\n",
    "hindcast2014_co2_flx = pickle.load(open('/data/tjarniko/MEOPAR/analysis_tereza/notebooks/PI_CARBON_PAPER/MAIN_ANALYSIS/pkls/hind_insitu_2014.pkl', 'rb'))  * sec_day * 1.11\n",
    "hindcast2015_co2_flx = pickle.load(open('/data/tjarniko/MEOPAR/analysis_tereza/notebooks/PI_CARBON_PAPER/MAIN_ANALYSIS/pkls/hind_insitu_2015.pkl', 'rb'))  * sec_day * 1.11\n",
    "hindcast2016_co2_flx = pickle.load(open('/data/tjarniko/MEOPAR/analysis_tereza/notebooks/PI_CARBON_PAPER/MAIN_ANALYSIS/pkls/hind_insitu_2016.pkl', 'rb'))  * sec_day * 1.11\n",
    "hindcast2017_co2_flx = pickle.load(open('/data/tjarniko/MEOPAR/analysis_tereza/notebooks/PI_CARBON_PAPER/MAIN_ANALYSIS/pkls/hind_insitu_2017.pkl', 'rb'))  * sec_day * 1.11"
   ]
  },
  {
   "cell_type": "code",
   "execution_count": null,
   "metadata": {},
   "outputs": [],
   "source": [
    "# flux_monthly_stor = np.zeros([5,4,12])\n",
    "\n",
    "# hinds = [hindcast2013_co2_flx,hindcast2014_co2_flx,hindcast2015_co2_flx,\n",
    "#          hindcast2016_co2_flx,hindcast2017_co2_flx]\n",
    "\n",
    "# for yr in range(0,5):\n",
    "#     hind = hinds[yr]\n",
    "#     print(yr+2013)\n",
    "#     for m in range(0,12):\n",
    "#         print(m+1)\n",
    "#         hind_month = np.nanmean(hind[m*30:m*30+30:,:],axis =0)\n",
    "#         for reg in range(1,5):\n",
    "#             flux_monthly_stor[yr,reg-1,m] = np.nanmean(hind_month[reg_mask == reg])\n",
    "            \n",
    "# pickle.dump(flux_monthly_stor, open(\"flux_monthly_stor.pkl\", 'wb'))"
   ]
  },
  {
   "cell_type": "code",
   "execution_count": null,
   "metadata": {},
   "outputs": [],
   "source": [
    "flux_monthly_stor = pickle.load(open('./flux_monthly_stor.pkl', 'rb'))"
   ]
  },
  {
   "cell_type": "code",
   "execution_count": null,
   "metadata": {},
   "outputs": [],
   "source": [
    "fact = 1.2\n",
    "fig = plt.figure(figsize=(10.5*fact, 10.5*fact)) \n",
    "\n",
    "section_slice = np.arange(1,14,1)\n",
    "tmesh = nc.Dataset('/data/tjarniko/MEOPAR/grid/mesh_mask201702.nc')\n",
    "regs = np.arange(0,5,1)\n",
    "\n",
    "ax1 = plt.subplot2grid((3,2), (0,0), colspan=1,rowspan = 1)\n",
    "tdat = np.nanmean(flux_monthly_stor[:,:,:],axis=0)\n",
    "ax1.set_yticks([0.5,1.5,2.5,3.5]); ax1.set_yticklabels(['JDF','N. Strait','C. Strait','Tidal \\n Mixing'])\n",
    "ax1.set_xticks(np.arange(1.5,13.5,1)); ax1.set_xticklabels(['1','2','3','4','5','6','7','8','9','10','11','12'])\n",
    "mesh = ax1.pcolormesh(section_slice[:],regs,tdat, \n",
    "                       cmap = cm.cm.balance_r, vmin = -20, vmax = 20)\n",
    "cbar = plt.colorbar(mesh); ax1.set_xlabel('month')\n",
    "ax1.set_title('Mean regional monthly climatology, 2013-2017')\n",
    "cbar.set_label('flux C mmol m$^{-2}$d$^{-1}$', fontsize = 12)\n",
    "\n",
    "\n",
    "ax1 = plt.subplot2grid((3,2), (0,1), colspan=1,rowspan = 1)\n",
    "tdat = (flux_monthly_stor[0,:,:])\n",
    "ax1.set_yticks([0.5,1.5,2.5,3.5]); ax1.set_yticklabels(['JDF','N. Strait','C. Strait','Tidal \\n Mixing'])\n",
    "ax1.set_xticks(np.arange(1.5,13.5,1)); ax1.set_xticklabels(['1','2','3','4','5','6','7','8','9','10','11','12'])\n",
    "mesh = ax1.pcolormesh(section_slice[:],regs,tdat, \n",
    "                       cmap = cm.cm.balance_r, vmin = -20, vmax = 20)\n",
    "cbar = plt.colorbar(mesh); ax1.set_xlabel('month')\n",
    "ax1.set_title('monthly climatology 2013')\n",
    "cbar.set_label('flux C mmol m$^{-2}$d$^{-1}$', fontsize = 12)\n",
    "\n",
    "ax1 = plt.subplot2grid((3,2), (1,0), colspan=1,rowspan = 1)\n",
    "tdat = (flux_monthly_stor[1,:,:])\n",
    "ax1.set_yticks([0.5,1.5,2.5,3.5]); ax1.set_yticklabels(['JDF','N. Strait','C. Strait','Tidal \\n Mixing'])\n",
    "ax1.set_xticks(np.arange(1.5,13.5,1)); ax1.set_xticklabels(['1','2','3','4','5','6','7','8','9','10','11','12'])\n",
    "mesh = ax1.pcolormesh(section_slice[:],regs,tdat, \n",
    "                       cmap = cm.cm.balance_r, vmin = -20, vmax = 20)\n",
    "cbar = plt.colorbar(mesh); ax1.set_xlabel('month')\n",
    "ax1.set_title('monthly climatology 2014')\n",
    "cbar.set_label('flux C mmol m$^{-2}$d$^{-1}$', fontsize = 12)\n",
    "\n",
    "ax1 = plt.subplot2grid((3,2), (1,1), colspan=1,rowspan = 1)\n",
    "tdat = (flux_monthly_stor[2,:,:])\n",
    "ax1.set_yticks([0.5,1.5,2.5,3.5]); ax1.set_yticklabels(['JDF','N. Strait','C. Strait','Tidal \\n Mixing'])\n",
    "ax1.set_xticks(np.arange(1.5,13.5,1)); ax1.set_xticklabels(['1','2','3','4','5','6','7','8','9','10','11','12'])\n",
    "mesh = ax1.pcolormesh(section_slice[:],regs,tdat, \n",
    "                       cmap = cm.cm.balance_r, vmin = -20, vmax = 20)\n",
    "cbar = plt.colorbar(mesh); ax1.set_xlabel('month')\n",
    "ax1.set_title('monthly climatology 2015')\n",
    "cbar.set_label('flux C mmol m$^{-2}$d$^{-1}$', fontsize = 12)\n",
    "\n",
    "ax1 = plt.subplot2grid((3,2), (2,0), colspan=1,rowspan = 1)\n",
    "tdat = (flux_monthly_stor[3,:,:])\n",
    "ax1.set_yticks([0.5,1.5,2.5,3.5]); ax1.set_yticklabels(['JDF','N. Strait','C. Strait','Tidal \\n Mixing'])\n",
    "ax1.set_xticks(np.arange(1.5,13.5,1)); ax1.set_xticklabels(['1','2','3','4','5','6','7','8','9','10','11','12'])\n",
    "mesh = ax1.pcolormesh(section_slice[:],regs,tdat, \n",
    "                       cmap = cm.cm.balance_r, vmin = -20, vmax = 20)\n",
    "cbar = plt.colorbar(mesh); ax1.set_xlabel('month')\n",
    "ax1.set_title('monthly climatology 2016')\n",
    "cbar.set_label('flux C mmol m$^{-2}$d$^{-1}$', fontsize = 12)\n",
    "\n",
    "ax1 = plt.subplot2grid((3,2), (2,1), colspan=1,rowspan = 1)\n",
    "tdat = (flux_monthly_stor[4,:,:])\n",
    "ax1.set_yticks([0.5,1.5,2.5,3.5]); ax1.set_yticklabels(['JDF','N. Strait','C. Strait','Tidal \\n Mixing'])\n",
    "ax1.set_xticks(np.arange(1.5,13.5,1)); ax1.set_xticklabels(['1','2','3','4','5','6','7','8','9','10','11','12'])\n",
    "mesh = ax1.pcolormesh(section_slice[:],regs,tdat, \n",
    "                       cmap = cm.cm.balance_r, vmin = -20, vmax = 20)\n",
    "cbar = plt.colorbar(mesh); ax1.set_xlabel('month')\n",
    "ax1.set_title('monthly climatology 2017')\n",
    "cbar.set_label('flux C mmol m$^{-2}$d$^{-1}$', fontsize = 12)\n",
    "\n",
    "\n",
    "plt.tight_layout()"
   ]
  },
  {
   "cell_type": "code",
   "execution_count": null,
   "metadata": {},
   "outputs": [],
   "source": [
    "fact = 1.2\n",
    "fig = plt.figure(figsize=(10.5*fact, 10.5*fact)) \n",
    "\n",
    "section_slice = np.arange(1,14,1)\n",
    "tmesh = nc.Dataset('/data/tjarniko/MEOPAR/grid/mesh_mask201702.nc')\n",
    "regs = np.arange(0,5,1)\n",
    "\n",
    "ax1 = plt.subplot2grid((3,2), (0,0), colspan=1,rowspan = 1)\n",
    "tmean = np.nanmean(flux_monthly_stor[:,:,:],axis=0)\n",
    "#tdat_t = (flux_monthly_stor[0,:,:]); tdat = np.divide((tdat_t-tmean), tdat) *100\n",
    "ax1.set_yticks([0.5,1.5,2.5,3.5]); ax1.set_yticklabels(['JDF','N. Strait','C. Strait','Tidal \\n Mixing'])\n",
    "ax1.set_xticks(np.arange(1.5,13.5,1)); ax1.set_xticklabels(['1','2','3','4','5','6','7','8','9','10','11','12'])\n",
    "mesh = ax1.pcolormesh(section_slice[:],regs,tmean, \n",
    "                       cmap = cm.cm.balance_r, vmin = -20, vmax = 20)\n",
    "cbar = plt.colorbar(mesh); ax1.set_xlabel('month')\n",
    "ax1.set_title('Mean regional monthly climatology, 2013-2017')\n",
    "cbar.set_label('flux C mmol m$^{-2}$d$^{-1}$', fontsize = 12)\n",
    "\n",
    "\n",
    "ax1 = plt.subplot2grid((3,2), (0,1), colspan=1,rowspan = 1)\n",
    "tdat_t = (flux_monthly_stor[0,:,:]); tdat = np.divide((tdat_t-tmean), tdat_t) *100\n",
    "ax1.set_yticks([0.5,1.5,2.5,3.5]); ax1.set_yticklabels(['JDF','N. Strait','C. Strait','Tidal \\n Mixing'])\n",
    "ax1.set_xticks(np.arange(1.5,13.5,1)); ax1.set_xticklabels(['1','2','3','4','5','6','7','8','9','10','11','12'])\n",
    "mesh = ax1.pcolormesh(section_slice[:],regs,tdat, \n",
    "                       cmap = cm.cm.balance_r, vmin = -100, vmax = 100)\n",
    "cbar = plt.colorbar(mesh); ax1.set_xlabel('month')\n",
    "ax1.set_title('monthly climatology 2013')\n",
    "cbar.set_label('flux C difference (percent)', fontsize = 12)\n",
    "\n",
    "ax1 = plt.subplot2grid((3,2), (1,0), colspan=1,rowspan = 1)\n",
    "tdat_t = (flux_monthly_stor[1,:,:]); tdat = np.divide((tdat_t-tmean), tdat_t) *100\n",
    "ax1.set_yticks([0.5,1.5,2.5,3.5]); ax1.set_yticklabels(['JDF','N. Strait','C. Strait','Tidal \\n Mixing'])\n",
    "ax1.set_xticks(np.arange(1.5,13.5,1)); ax1.set_xticklabels(['1','2','3','4','5','6','7','8','9','10','11','12'])\n",
    "mesh = ax1.pcolormesh(section_slice[:],regs,tdat, \n",
    "                       cmap = cm.cm.balance_r, vmin = -100, vmax = 100)\n",
    "cbar = plt.colorbar(mesh); ax1.set_xlabel('month')\n",
    "ax1.set_title('monthly climatology 2014')\n",
    "cbar.set_label('flux C difference (percent)', fontsize = 12)\n",
    "\n",
    "ax1 = plt.subplot2grid((3,2), (1,1), colspan=1,rowspan = 1)\n",
    "tdat_t = (flux_monthly_stor[2,:,:]); tdat = np.divide((tdat_t-tmean), tdat_t) *100\n",
    "ax1.set_yticks([0.5,1.5,2.5,3.5]); ax1.set_yticklabels(['JDF','N. Strait','C. Strait','Tidal \\n Mixing'])\n",
    "ax1.set_xticks(np.arange(1.5,13.5,1)); ax1.set_xticklabels(['1','2','3','4','5','6','7','8','9','10','11','12'])\n",
    "mesh = ax1.pcolormesh(section_slice[:],regs,tdat, \n",
    "                       cmap = cm.cm.balance_r, vmin = -100, vmax = 100)\n",
    "cbar = plt.colorbar(mesh); ax1.set_xlabel('month')\n",
    "ax1.set_title('monthly climatology 2015')\n",
    "cbar.set_label('flux C difference (percent)', fontsize = 12)\n",
    "\n",
    "ax1 = plt.subplot2grid((3,2), (2,0), colspan=1,rowspan = 1)\n",
    "tdat_t = (flux_monthly_stor[3,:,:]); tdat = np.divide((tdat_t-tmean), tdat_t) *100\n",
    "ax1.set_yticks([0.5,1.5,2.5,3.5]); ax1.set_yticklabels(['JDF','N. Strait','C. Strait','Tidal \\n Mixing'])\n",
    "ax1.set_xticks(np.arange(1.5,13.5,1)); ax1.set_xticklabels(['1','2','3','4','5','6','7','8','9','10','11','12'])\n",
    "mesh = ax1.pcolormesh(section_slice[:],regs,tdat, \n",
    "                       cmap = cm.cm.balance_r, vmin = -100, vmax = 100)\n",
    "cbar = plt.colorbar(mesh); ax1.set_xlabel('month')\n",
    "ax1.set_title('monthly climatology 2016')\n",
    "cbar.set_label('flux C difference (percent)', fontsize = 12)\n",
    "\n",
    "ax1 = plt.subplot2grid((3,2), (2,1), colspan=1,rowspan = 1)\n",
    "tdat_t = (flux_monthly_stor[4,:,:]); tdat = np.divide((tdat_t-tmean), tdat_t) *100\n",
    "ax1.set_yticks([0.5,1.5,2.5,3.5]); ax1.set_yticklabels(['JDF','N. Strait','C. Strait','Tidal \\n Mixing'])\n",
    "ax1.set_xticks(np.arange(1.5,13.5,1)); ax1.set_xticklabels(['1','2','3','4','5','6','7','8','9','10','11','12'])\n",
    "mesh = ax1.pcolormesh(section_slice[:],regs,tdat, \n",
    "                       cmap = cm.cm.balance_r, vmin = -100, vmax = 100)\n",
    "cbar = plt.colorbar(mesh); ax1.set_xlabel('month')\n",
    "ax1.set_title('monthly climatology 2017')\n",
    "cbar.set_label('flux C difference (percent)', fontsize = 12)\n",
    "\n",
    "plt.suptitle('Changes from mean climatology', y = 1.02)\n",
    "plt.tight_layout()"
   ]
  },
  {
   "cell_type": "code",
   "execution_count": null,
   "metadata": {},
   "outputs": [],
   "source": [
    "\n",
    "fact = 0.7\n",
    "fig = plt.figure(figsize=( 9*2*fact,9.5*fact)) \n",
    "\n",
    "ax1 = plt.subplot2grid((1,2), (0,0), colspan=1,rowspan = 1)\n",
    "tdat = np.nanmean(flux_monthly_stor[:,:,:],axis=0)\n",
    "colors = ['k','orange','green','fuchsia']; labels = ['JDF','N. Strait','C. Strait','Tidal \\n Mixing']\n",
    "for i in range(0,4):\n",
    "    ax1.plot(np.arange(1,13,1),tdat[i,:],linewidth = 3, color = colors[i], label = labels[i])\n",
    "ax1.set_xlim([1,12]); ax1.axhline(y=0,color = 'k'); ax1.legend(); ax1.set_xlabel('month')\n",
    "ax1.set_title('mean monthly reginal climatology \\n of air-sea CO$_2$ flux')\n",
    "ax1.set_ylabel('flux C mmol m$^{-2}$d$^{-1}$ \\n (positive = into-ocean)')\n",
    "\n",
    "ax1 = plt.subplot2grid((1,2), (0,1), colspan=1,rowspan = 1)\n",
    "tdat = np.nanmean(flux_monthly_stor[:,:,:],axis=0)\n",
    "colors = ['k','orange','green','fuchsia']; \n",
    "linestyles = [':', '--', '-', '-.', ':']\n",
    "labels = ['JDF','N. Strait','C. Strait','Tidal \\n Mixing']\n",
    "for i in range(0,4):\n",
    "    ax1.plot(np.arange(1,13,1),tdat[i,:],linewidth = 3, color = colors[i])\n",
    "for i in range(0,4):\n",
    "    for j in range(0,5):\n",
    "        le = 1\n",
    "        if j == 0: le = 2.2\n",
    "        if i == 0:\n",
    "            ax1.plot(np.arange(1,13,1),flux_monthly_stor[j,i,:],linewidth = le, \\\n",
    "                 linestyle = linestyles[j],color = colors[i], label = str(2013+j))\n",
    "        else:\n",
    "            ax1.plot(np.arange(1,13,1),flux_monthly_stor[j,i,:],linewidth = le, \\\n",
    "                 linestyle = linestyles[j],color = colors[i])\n",
    "\n",
    "\n",
    "ax1.set_xlim([1,12]); ax1.axhline(y=0,color = 'k'); ax1.legend(); ax1.set_xlabel('month')\n",
    "ax1.set_title('mean monthly reginal climatology \\n of air-sea CO$_2$ flux with individual years shown')\n",
    "ax1.set_ylabel('flux C mmol m$^{-2}$d$^{-1}$ \\n (positive = into-ocean)')\n",
    "\n",
    "plt.tight_layout()\n"
   ]
  },
  {
   "cell_type": "code",
   "execution_count": null,
   "metadata": {},
   "outputs": [],
   "source": [
    "fact = 0.7\n",
    "fig = plt.figure(figsize=( 9*2*fact,9.5*fact)) \n",
    "\n",
    "ax1 = plt.subplot2grid((1,1), (0,0), colspan=1,rowspan = 1)\n",
    "tdat = np.nanmean(flux_monthly_stor[:,:,:],axis=0)\n",
    "colors = ['k','orange','green','fuchsia']; \n",
    "linestyles = [':', '--', '-', '-.', ':']\n",
    "labels = ['JDF','N. Strait','C. Strait','Tidal \\n Mixing']\n",
    "\n",
    "for i in range(0,4):\n",
    "    for j in range(0,5):\n",
    "#         print(np.nanmean(flux_monthly_stor[j,i,:]))\n",
    "        if j == 0:\n",
    "            ax1.plot(j+2013,np.nanmean(flux_monthly_stor[j,i,:]), marker = 'o', markersize = 10,\n",
    "                         color = colors[i], label = labels[i])\n",
    "        if j != 0:\n",
    "            ax1.plot(j+2013,np.nanmean(flux_monthly_stor[j,i,:]), marker = 'o', markersize = 10,\n",
    "                         color = colors[i])\n",
    "\n",
    "ax1.legend()\n",
    "ax1.set_xlim([2012,2018]); \n",
    "ax1.axhline(y=0,color = 'k'); ax1.legend(); ax1.set_xlabel('month')\n",
    "ax1.set_title('mean yearly reginal climatology \\n of air-sea CO$_2$ flux with individual years shown')\n",
    "ax1.set_ylabel('flux C mmol m$^{-2}$d$^{-1}$ \\n (positive = into-ocean)')\n",
    "\n",
    "plt.tight_layout()\n"
   ]
  },
  {
   "cell_type": "code",
   "execution_count": null,
   "metadata": {},
   "outputs": [],
   "source": []
  }
 ],
 "metadata": {
  "kernelspec": {
   "display_name": "Python 3",
   "language": "python",
   "name": "python3"
  },
  "language_info": {
   "codemirror_mode": {
    "name": "ipython",
    "version": 3
   },
   "file_extension": ".py",
   "mimetype": "text/x-python",
   "name": "python",
   "nbconvert_exporter": "python",
   "pygments_lexer": "ipython3",
   "version": "3.7.4"
  }
 },
 "nbformat": 4,
 "nbformat_minor": 2
}
