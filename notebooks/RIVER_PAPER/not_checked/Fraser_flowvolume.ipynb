{
 "cells": [
  {
   "cell_type": "code",
   "execution_count": 2,
   "metadata": {},
   "outputs": [
    {
     "name": "stdout",
     "output_type": "stream",
     "text": [
      "Once deleted, variables cannot be recovered. Proceed (y/[n])? y\n"
     ]
    }
   ],
   "source": [
    "%reset"
   ]
  },
  {
   "cell_type": "code",
   "execution_count": 4,
   "metadata": {},
   "outputs": [],
   "source": [
    "import sys\n",
    "#sys.path.append('/data/tjarniko/MEOPAR/mocsy')\n",
    "sys.path.append('/data/tjarniko/mocsy')\n",
    "sys.path.append('/data/tjarniko/MEOPAR/at3/notebooks/carbon_dev/VIZ')\n",
    "sys.path.append('/data/tjarniko/MEOPAR/tools/SalishSeaTools/salishsea_tools/')\n",
    "import mocsy\n",
    "import river_201702 as rv\n",
    "# import VIZ_plots as VP\n",
    "\n",
    "import time\n",
    "import numpy as np\n",
    "import matplotlib.pyplot as plt\n",
    "import matplotlib.patches as patches\n",
    "\n",
    "import seawater as sw\n",
    "\n",
    "#from numpy import *\n",
    "#from scipy import *\n",
    "import matplotlib.pyplot as plt\n",
    "#from matplotlib import reload\n",
    "plt.style.use('seaborn-bright')\n",
    "import netCDF4 as nc\n",
    "import numpy as np\n",
    "import cmocean as cm\n",
    "\n",
    "\"\"\n",
    "from salishsea_tools import (\n",
    "    nc_tools,\n",
    "    viz_tools,\n",
    "    geo_tools,\n",
    "    tidetools\n",
    ")\n",
    "\n",
    "%matplotlib inline"
   ]
  },
  {
   "cell_type": "markdown",
   "metadata": {},
   "source": [
    "## Rivers we have data for and their watersheds"
   ]
  },
  {
   "cell_type": "code",
   "execution_count": 5,
   "metadata": {},
   "outputs": [],
   "source": [
    "\n",
    "watersheds = rv.prop_dict.keys()\n",
    "riv_i = []\n",
    "riv_j = []\n",
    "riv_shed = []\n",
    "riv_name = []\n",
    "i = 0\n",
    "for watshed in watersheds:\n",
    "    #print('~~')\n",
    "    rivs = rv.prop_dict[watshed].keys()\n",
    "    for riv in rivs:\n",
    "        ti = rv.prop_dict[watshed][riv]['j']\n",
    "        tj = rv.prop_dict[watshed][riv]['i']\n",
    "        riv_i.append(ti)\n",
    "        riv_j.append(tj)\n",
    "        riv_shed.append(watshed)\n",
    "        riv_name.append(riv)\n",
    "        i = i+1\n",
    "\n",
    "\n",
    "gauge_riv = ['Squamish','SanJuan','Elwha','DungenessMatriotti','Hoko','LittleBigQuilcene',\\\n",
    "            'Duckabush','Skokomish','DeerJohnsGoldboroughMill','Deschutes','Chambers',\\\n",
    "            'Chambers','NisquallyMcAllister','Puyallup','CedarSammamish','Skagit1',\\\n",
    "            'Samish','Stillaguamish1','SnohomishAllenQuilceda','Tulalip','Mission',\\\n",
    "            'Nooksack','Fraser','Oyster','Qunisam','SalmonSayward','Theodosia',\n",
    "             'Homathko','Cowichan1','Chemanius1','Nanaimo1','Englishman',\n",
    "             'LittleQualicum','Puntledge']\n",
    "\n",
    "cols = ['darkgray','red','powderblue','tan','orange',\\\n",
    "    'navy','palegreen','mediumaquamarine','dodgerblue','violet']\n",
    "watersheds = ['howe', 'jdf', 'puget', 'skagit', 'fraser', 'evi_n', 'jervis', 'toba', 'bute', 'evi_s']"
   ]
  },
  {
   "cell_type": "code",
   "execution_count": 6,
   "metadata": {},
   "outputs": [],
   "source": [
    "#'/results/forcing/rivers/R201702DFraCElse_\n",
    "\n",
    "\n",
    "ro_2015 = np.zeros([365,898,398])\n",
    "import arrow\n",
    "start = '2015-01-01'\n",
    "end = '2015-12-31'\n",
    "\n",
    "start_run = arrow.get(start)\n",
    "end_run = arrow.get(end)\n",
    "arrow_array = []\n",
    "nc_ar = []\n",
    "for r in arrow.Arrow.span_range('day', start_run, end_run):\n",
    "    arrow_array.append(r)\n",
    "    \n",
    "for i in range(0,len(arrow_array)):\n",
    "    tdate = arrow_array[i][0]\n",
    "    yy = tdate.format('YYYY')\n",
    "    mm = tdate.format('MM')\n",
    "    dd = tdate.format('DD')\n",
    "    tstr = f\"/results/forcing/rivers/R201702DFraCElse_y{yy}m{mm}d{dd}.nc\"\n",
    "    nc_ar.append(tstr)\n",
    "\n",
    "for i in range(0,365):\n",
    "#     if i%20 ==0:\n",
    "#         print(i)\n",
    "    t_nc = nc.Dataset(nc_ar[i])\n",
    "    ro = (np.squeeze(t_nc['rorunoff'][:,:,:]))\n",
    "    ro_2015[i,:,:] = ro"
   ]
  },
  {
   "cell_type": "code",
   "execution_count": null,
   "metadata": {},
   "outputs": [],
   "source": []
  },
  {
   "cell_type": "code",
   "execution_count": 7,
   "metadata": {},
   "outputs": [],
   "source": [
    "# tnc = nc.Dataset('/results/SalishSea/hindcast.201812/09may15/SalishSea_1d_20150509_20150509_grid_T.nc')\n",
    "# print(tnc)"
   ]
  },
  {
   "cell_type": "code",
   "execution_count": 9,
   "metadata": {},
   "outputs": [
    {
     "name": "stdout",
     "output_type": "stream",
     "text": [
      "435.3644908755905\n"
     ]
    }
   ],
   "source": [
    "#tnc = nc.Dataset('/data/tjarniko/results/SAMPL/SalishSea_1ts_20141121_20141121_grid_T_20141121-20141121.nc')\n",
    "tnc2 = nc.Dataset('/data/tjarniko/MEOPAR/grid/mesh_mask201702.nc')\n",
    "e1t = tnc2.variables['e1t']\n",
    "e2t = tnc2.variables['e2t']\n",
    "print(e1t[0,500,20])\n"
   ]
  },
  {
   "cell_type": "code",
   "execution_count": 17,
   "metadata": {},
   "outputs": [
    {
     "data": {
      "text/plain": [
       "Text(0.5, 1.0, 'Fraser river discharge, year 2015')"
      ]
     },
     "execution_count": 17,
     "metadata": {},
     "output_type": "execute_result"
    },
    {
     "data": {
      "image/png": "[encoded data removed]",
      "text/plain": [
       "<Figure size 432x288 with 1 Axes>"
      ]
     },
     "metadata": {
      "needs_background": "light"
     },
     "output_type": "display_data"
    }
   ],
   "source": [
    "# #  Hi Tereza,\n",
    "# #  I'm not the least surprised that you are confused.  Rivers are treated like rain, added from above.  So kg of water/m2 /s where the m2 is horizontal area.  This we will call nf (nemo flux)\n",
    "\n",
    "# # So for m3/s first we convert from mass to volume\n",
    "\n",
    "# # nf / rho (fresh water so 1000 kg/m3)  so now we have m/s\n",
    "\n",
    "# # Then multiply by the area of the grid cell\n",
    "\n",
    "# # nf  / rho * e1t(i,j) *e2t(i,j)\n",
    "ro_2015 = np.zeros([365,898,398])\n",
    "import arrow\n",
    "start = '2015-01-01'\n",
    "end = '2015-12-31'\n",
    "\n",
    "start_run = arrow.get(start)\n",
    "end_run = arrow.get(end)\n",
    "arrow_array = []\n",
    "nc_ar = []\n",
    "for r in arrow.Arrow.span_range('day', start_run, end_run):\n",
    "    arrow_array.append(r)\n",
    "    \n",
    "for i in range(0,len(arrow_array)):\n",
    "    tdate = arrow_array[i][0]\n",
    "    yy = tdate.format('YYYY')\n",
    "    mm = tdate.format('MM')\n",
    "    dd = tdate.format('DD')\n",
    "    tstr = f\"/results/forcing/rivers/R201702DFraCElse_y{yy}m{mm}d{dd}.nc\"\n",
    "    nc_ar.append(tstr)\n",
    "\n",
    "for i in range(0,365):\n",
    "#     if i%20 ==0:\n",
    "#         print(i)\n",
    "    t_nc = nc.Dataset(nc_ar[i])\n",
    "    ro = (np.squeeze(t_nc['rorunoff'][:,:,:]))\n",
    "    ro_2015[i,:,:] = ro\n",
    "\n",
    "\n",
    "watersheds = rv.prop_dict.keys()\n",
    "riv_i = []\n",
    "riv_j = []\n",
    "riv_shed = []\n",
    "riv_name = []\n",
    "i = 0\n",
    "for watshed in watersheds:\n",
    "    rivs = rv.prop_dict[watshed].keys()\n",
    "    for riv in rivs:\n",
    "        ti = rv.prop_dict[watshed][riv]['j']\n",
    "        tj = rv.prop_dict[watshed][riv]['i']\n",
    "        riv_i.append(ti)\n",
    "        riv_j.append(tj)\n",
    "        riv_shed.append(watshed)\n",
    "        riv_name.append(riv)\n",
    "        i = i+1\n",
    "        \n",
    "tnc = nc.Dataset('/data/tjarniko/results/BASERUN_EXP/PI7/ncs/SKOG_1d_20150829_20150927_grid_T_20150927-20150927.nc')\n",
    "tnc2 = nc.Dataset('/data/tjarniko/MEOPAR/grid/mesh_mask201702.nc')\n",
    "\n",
    "#93 is \n",
    "for r in range(93,94):\n",
    "    ti = riv_i[r]\n",
    "    tj = riv_j[r]\n",
    "    runoff = ro_2015[:,tj,ti]\n",
    "    t_area = (tnc.variables['area'][tj,ti])\n",
    "    year_runoff_use_area = (runoff / 1000) * t_area\n",
    "    e1t = tnc2.variables['e1t']\n",
    "    e2t = tnc2.variables['e2t']\n",
    "    \n",
    "    year_runoff_use_et = (runoff/ 1000) * e1t[0,tj,ti] *e2t[0,tj,ti]\n",
    "plt.plot(year_runoff_use_area, label = 'discharge using area')\n",
    "plt.plot(year_runoff_use_et, linestyle = ':', label = 'discharge using e1t e2t')\n",
    "plt.legend()\n",
    "plt.title('Fraser river discharge, year 2015')"
   ]
  },
  {
   "cell_type": "code",
   "execution_count": 19,
   "metadata": {},
   "outputs": [
    {
     "name": "stdout",
     "output_type": "stream",
     "text": [
      "(365,)\n",
      "3684.9115288597663\n"
     ]
    }
   ],
   "source": [
    "print(np.shape(year_runoff_use_et))\n",
    "print(np.nanmean(year_runoff_use_et))"
   ]
  },
  {
   "cell_type": "code",
   "execution_count": 15,
   "metadata": {},
   "outputs": [],
   "source": [
    "tnc2 = nc.Dataset('/data/tjarniko/MEOPAR/grid/mesh_mask201702.nc')\n"
   ]
  },
  {
   "cell_type": "code",
   "execution_count": 16,
   "metadata": {},
   "outputs": [
    {
     "data": {
      "text/plain": [
       "<class 'netCDF4._netCDF4.Dataset'>\n",
       "root group (NETCDF4 data model, file format HDF5):\n",
       "    DOMAIN_number_total: 1\n",
       "    DOMAIN_number: 0\n",
       "    DOMAIN_dimensions_ids: [1 2]\n",
       "    DOMAIN_size_global: [398 898]\n",
       "    DOMAIN_size_local: [398 898]\n",
       "    DOMAIN_position_first: [1 1]\n",
       "    DOMAIN_position_last: [398 898]\n",
       "    DOMAIN_halo_size_start: [0 0]\n",
       "    DOMAIN_halo_size_end: [0 0]\n",
       "    DOMAIN_type: BOX\n",
       "    file_name: NEMO-forcing/grid/mesh_mask201702.nc\n",
       "    TimeStamp: 14/03/2019 15:00:00 -0700\n",
       "    Conventions: CF-1.6\n",
       "    title: Salish Sea NEMO bathymetry_201702 Bathymetry Mesh Mask\n",
       "    institution: Dept of Earth, Ocean & Atmospheric Sciences, University of British Columbia\n",
       "    source: NEMO-3.6 Salish Sea configuration\n",
       "    references: https://salishsea.eos.ubc.ca/erddap/info/\n",
       "https://bitbucket.org/salishsea/nemo-forcing/src/tip/grid/bathymetery_201702.nc\n",
       "\n",
       "    history: [2019-03-14 15:00] ncks -4 -L4 -O mesh_mask.nc mesh_mask201702.nc\n",
       "[2019-03-16 17:30] Added metadata to variable in preparation for creation of ERDDAP datasets.\n",
       "    dimensions(sizes): t(1), y(898), x(398), z(40)\n",
       "    variables(dimensions): float32 \u001b[4mnav_lon\u001b[0m(y,x), float32 \u001b[4mnav_lat\u001b[0m(y,x), float64 \u001b[4mtime_counter\u001b[0m(t), int8 \u001b[4mtmask\u001b[0m(t,z,y,x), int8 \u001b[4mumask\u001b[0m(t,z,y,x), int8 \u001b[4mvmask\u001b[0m(t,z,y,x), int8 \u001b[4mfmask\u001b[0m(t,z,y,x), int8 \u001b[4mtmaskutil\u001b[0m(t,y,x), int8 \u001b[4mumaskutil\u001b[0m(t,y,x), int8 \u001b[4mvmaskutil\u001b[0m(t,y,x), int8 \u001b[4mfmaskutil\u001b[0m(t,y,x), float32 \u001b[4mglamt\u001b[0m(t,y,x), float32 \u001b[4mglamu\u001b[0m(t,y,x), float32 \u001b[4mglamv\u001b[0m(t,y,x), float32 \u001b[4mglamf\u001b[0m(t,y,x), float32 \u001b[4mgphit\u001b[0m(t,y,x), float32 \u001b[4mgphiu\u001b[0m(t,y,x), float32 \u001b[4mgphiv\u001b[0m(t,y,x), float32 \u001b[4mgphif\u001b[0m(t,y,x), float64 \u001b[4me1t\u001b[0m(t,y,x), float64 \u001b[4me1u\u001b[0m(t,y,x), float64 \u001b[4me1v\u001b[0m(t,y,x), float64 \u001b[4me1f\u001b[0m(t,y,x), float64 \u001b[4me2t\u001b[0m(t,y,x), float64 \u001b[4me2u\u001b[0m(t,y,x), float64 \u001b[4me2v\u001b[0m(t,y,x), float64 \u001b[4me2f\u001b[0m(t,y,x), float64 \u001b[4mff\u001b[0m(t,y,x), int16 \u001b[4mmbathy\u001b[0m(t,y,x), int16 \u001b[4mmisf\u001b[0m(t,y,x), float32 \u001b[4misfdraft\u001b[0m(t,y,x), float64 \u001b[4me3t_0\u001b[0m(t,z,y,x), float64 \u001b[4me3u_0\u001b[0m(t,z,y,x), float64 \u001b[4me3v_0\u001b[0m(t,z,y,x), float64 \u001b[4me3w_0\u001b[0m(t,z,y,x), float32 \u001b[4mgdept_0\u001b[0m(t,z,y,x), float32 \u001b[4mgdepu\u001b[0m(t,z,y,x), float32 \u001b[4mgdepv\u001b[0m(t,z,y,x), float32 \u001b[4mgdepw_0\u001b[0m(t,z,y,x), float64 \u001b[4mgdept_1d\u001b[0m(t,z), float64 \u001b[4mgdepw_1d\u001b[0m(t,z), float64 \u001b[4me3t_1d\u001b[0m(t,z), float64 \u001b[4me3w_1d\u001b[0m(t,z)\n",
       "    groups: "
      ]
     },
     "execution_count": 16,
     "metadata": {},
     "output_type": "execute_result"
    }
   ],
   "source": [
    "tnc2"
   ]
  },
  {
   "cell_type": "code",
   "execution_count": null,
   "metadata": {},
   "outputs": [],
   "source": []
  }
 ],
 "metadata": {
  "kernelspec": {
   "display_name": "Python 3",
   "language": "python",
   "name": "python3"
  },
  "language_info": {
   "codemirror_mode": {
    "name": "ipython",
    "version": 3
   },
   "file_extension": ".py",
   "mimetype": "text/x-python",
   "name": "python",
   "nbconvert_exporter": "python",
   "pygments_lexer": "ipython3",
   "version": "3.7.4"
  }
 },
 "nbformat": 4,
 "nbformat_minor": 2
}
