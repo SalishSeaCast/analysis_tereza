{
 "cells": [
  {
   "cell_type": "markdown",
   "metadata": {},
   "source": [
    "## Making init files:\n",
    "\n",
    "- need air temperature\n",
    "\n",
    "- need rivers deltat\n",
    "\n",
    "- need both boundary conditions. \n",
    "\n",
    "- need to interpolate deltat's onto our depth grid"
   ]
  },
  {
   "cell_type": "code",
   "execution_count": 2,
   "metadata": {},
   "outputs": [],
   "source": [
    "## \n",
    "import arrow\n",
    "import netCDF4 as nc\n",
    "import glob\n",
    "import numpy as np\n",
    "%matplotlib inline\n",
    "import matplotlib.pyplot as plt\n",
    "\n",
    "import cartopy.crs as ccrs\n",
    "import cartopy"
   ]
  },
  {
   "cell_type": "markdown",
   "metadata": {},
   "source": [
    "## atmospheric files\n",
    "\n",
    "downloaded from:\n",
    "/home/tjarnik/projects/def-allen/SalishSea/forcing/atmospheric/GEM2.5/operational/FOR_TEPLO"
   ]
  },
  {
   "cell_type": "code",
   "execution_count": 3,
   "metadata": {},
   "outputs": [],
   "source": [
    "tair_delta = 2.12"
   ]
  },
  {
   "cell_type": "code",
   "execution_count": 7,
   "metadata": {},
   "outputs": [
    {
     "name": "stdout",
     "output_type": "stream",
     "text": [
      "<class 'netCDF4._netCDF4.Dataset'>\n",
      "root group (NETCDF4 data model, file format HDF5):\n",
      "    Conventions: CF-1.0\n",
      "    History: Mon Sep  4 11:56:49 2017: ncks -4 -L4 -O /results/forcing/atmospheric/GEM2.5/operational/ops_y2017m09d04.nc /results/forcing/atmospheric/GEM2.5/operational/ops_y2017m09d04.nc\n",
      "created by wgrib2\n",
      "    GRIB2_grid_template: 20\n",
      "    NCO: 4.4.2\n",
      "    dimensions(sizes): time_counter(24), y(266), x(256)\n",
      "    variables(dimensions): float32 \u001b[4matmpres\u001b[0m(time_counter,y,x), float64 \u001b[4mnav_lat\u001b[0m(y,x), float64 \u001b[4mnav_lon\u001b[0m(y,x), float32 \u001b[4mpercentcloud\u001b[0m(time_counter,y,x), float32 \u001b[4mprecip\u001b[0m(time_counter,y,x), float32 \u001b[4mqair\u001b[0m(time_counter,y,x), float32 \u001b[4msolar\u001b[0m(time_counter,y,x), float32 \u001b[4mtair\u001b[0m(time_counter,y,x), float32 \u001b[4mtherm_rad\u001b[0m(time_counter,y,x), float64 \u001b[4mtime_counter\u001b[0m(time_counter), float32 \u001b[4mu_wind\u001b[0m(time_counter,y,x), float32 \u001b[4mv_wind\u001b[0m(time_counter,y,x), float64 \u001b[4mx\u001b[0m(x), float64 \u001b[4my\u001b[0m(y)\n",
      "    groups: \n",
      "\n",
      "<class 'netCDF4._netCDF4.Variable'>\n",
      "float32 solar(time_counter, y, x)\n",
      "    _FillValue: 9.999e+20\n",
      "    short_name: DSWRF_surface\n",
      "    long_name: Downward Short-Wave Radiation Flux\n",
      "    level: surface\n",
      "    units: W/m^2\n",
      "    coordinates: longitude latitude\n",
      "unlimited dimensions: time_counter\n",
      "current shape = (24, 266, 256)\n",
      "filling on\n",
      "<class 'netCDF4._netCDF4.Variable'>\n",
      "float32 therm_rad(time_counter, y, x)\n",
      "    _FillValue: 9.999e+20\n",
      "    short_name: DLWRF_surface\n",
      "    long_name: Downward Long-Wave Rad. Flux\n",
      "    level: surface\n",
      "    units: W/m^2\n",
      "    coordinates: longitude latitude\n",
      "unlimited dimensions: time_counter\n",
      "current shape = (24, 266, 256)\n",
      "filling on\n"
     ]
    }
   ],
   "source": [
    "w = nc.Dataset('./FOR_TEPLO/ops_y2017m09d04.nc')\n",
    "print(w)\n",
    "print(w['solar'])\n",
    "print(w['therm_rad'])"
   ]
  },
  {
   "cell_type": "code",
   "execution_count": 5,
   "metadata": {},
   "outputs": [],
   "source": [
    "def dilley_unsworth(lat, rpn_vp_on_ops, rpn_NT_on_ops, rpn_TT_on_ops, sigma):\n",
    "    \n",
    "    # rpn_TT_on_ops >> temperature in kelvin\n",
    "    # \n",
    "# https://agupubs.onlinelibrary.wiley.com/doi/full/10.1029/2008WR007394\n",
    "# Dilley clear sky algorithm\n",
    "    eo = rpn_vp_on_ops/1000.\n",
    "    To = rpn_TT_on_ops\n",
    "    w = 465*eo/To\n",
    "    Lclr = 59.38 + 113.7*(To/273.16)**6 + 96.96*np.sqrt(w/2.5) # Dilley\n",
    "    eclr = Lclr/(sigma * To**4)\n",
    "\n",
    "    # Unsworth\n",
    "    cf = rpn_NT_on_ops\n",
    "    ewc = (1 - 0.84*cf)*eclr + 0.84*cf\n",
    "#\n",
    "    Lwc = ewc * sigma * To**4\n",
    "    return Lwc"
   ]
  },
  {
   "cell_type": "markdown",
   "metadata": {},
   "source": []
  }
 ],
 "metadata": {
  "kernelspec": {
   "display_name": "Python 3",
   "language": "python",
   "name": "python3"
  },
  "language_info": {
   "codemirror_mode": {
    "name": "ipython",
    "version": 3
   },
   "file_extension": ".py",
   "mimetype": "text/x-python",
   "name": "python",
   "nbconvert_exporter": "python",
   "pygments_lexer": "ipython3",
   "version": "3.7.4"
  }
 },
 "nbformat": 4,
 "nbformat_minor": 2
}
