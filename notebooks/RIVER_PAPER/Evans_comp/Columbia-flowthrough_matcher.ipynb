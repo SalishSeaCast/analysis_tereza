{
 "cells": [
  {
   "cell_type": "code",
   "execution_count": 133,
   "metadata": {},
   "outputs": [
    {
     "name": "stdout",
     "output_type": "stream",
     "text": [
      "Once deleted, variables cannot be recovered. Proceed (y/[n])? y\n"
     ]
    }
   ],
   "source": [
    "%reset"
   ]
  },
  {
   "cell_type": "code",
   "execution_count": 134,
   "metadata": {},
   "outputs": [
    {
     "data": {
      "text/html": [
       "<script>\n",
       "code_show=true; \n",
       "function code_toggle() {\n",
       " if (code_show){\n",
       " $('div.input').hide();\n",
       " } else {\n",
       " $('div.input').show();\n",
       " }\n",
       " code_show = !code_show\n",
       "} \n",
       "$( document ).ready(code_toggle);\n",
       "</script>\n",
       "<form action=\"javascript:code_toggle()\"><input type=\"submit\" value=\"Click here to toggle on/off the raw code.\"></form>"
      ],
      "text/plain": [
       "<IPython.core.display.HTML object>"
      ]
     },
     "execution_count": 134,
     "metadata": {},
     "output_type": "execute_result"
    }
   ],
   "source": [
    "from IPython.display import HTML\n",
    "\n",
    "HTML('''<script>\n",
    "code_show=true; \n",
    "function code_toggle() {\n",
    " if (code_show){\n",
    " $('div.input').hide();\n",
    " } else {\n",
    " $('div.input').show();\n",
    " }\n",
    " code_show = !code_show\n",
    "} \n",
    "$( document ).ready(code_toggle);\n",
    "</script>\n",
    "<form action=\"javascript:code_toggle()\"><input type=\"submit\" value=\"Click here to toggle on/off the raw code.\"></form>''')"
   ]
  },
  {
   "cell_type": "code",
   "execution_count": 46,
   "metadata": {},
   "outputs": [],
   "source": [
    "import numpy as np\n",
    "import matplotlib.pyplot as plt\n",
    "from matplotlib.patches import Rectangle\n",
    "import netCDF4 as nc\n",
    "from salishsea_tools import (\n",
    "    nc_tools,\n",
    "    viz_tools,\n",
    "    geo_tools,\n",
    "    tidetools\n",
    ")\n",
    "import cmocean as cm\n",
    "import glob\n",
    "from datetime import datetime, timedelta\n",
    "import datetime as dt\n",
    "import pandas as pd\n",
    "import pickle\n",
    "\n",
    "import sys\n",
    "sys.path.append('/data/tjarniko/mocsy')\n",
    "import mocsy\n",
    "import arrow\n",
    "import gsw"
   ]
  },
  {
   "cell_type": "markdown",
   "metadata": {},
   "source": [
    "## looking at the Columbia flowthrough data\n",
    "\n",
    "    problems:\n",
    "    cruise ships go fast! 20 knots/ 37 km/hr \n",
    "    sampling freq.: once every 2-3 minutes\n",
    "    we very rarely sample the same box (500x500m) more than once a day\n",
    "    so how do we do stats on this?\n",
    "    bin by 'latitude'? (boxes in this case). let's try that!) \n",
    "    \n",
    "\n",
    "###### read data as dataframe, get relevant variables"
   ]
  },
  {
   "cell_type": "markdown",
   "metadata": {},
   "source": [
    "###### load those pickles back and now fun can start"
   ]
  },
  {
   "cell_type": "code",
   "execution_count": 2,
   "metadata": {},
   "outputs": [],
   "source": [
    "decdesc_sub51 = \\\n",
    "pickle.load(open('./pkls/decdesc_sub51.pkl', 'rb')) \n",
    "i_sub51 = \\\n",
    "pickle.load(open('./pkls/i_sub51.pkl', 'rb')) \n",
    "j_sub51 = \\\n",
    "pickle.load(open('./pkls/j_sub51.pkl', 'rb')) \n",
    "pco2_sub51 = \\\n",
    "pickle.load(open('./pkls/pco2_sub51.pkl', 'rb')) \n",
    "sst_sub51 = \\\n",
    "pickle.load(open('./pkls/sst_sub51.pkl', 'rb')) \n",
    "lat_sub51 = \\\n",
    "pickle.load(open('./pkls/lat_sub51.pkl', 'rb')) \n",
    "lon_sub51 = \\\n",
    "pickle.load(open('./pkls/lon_sub51.pkl', 'rb')) \n",
    "dts_sub51 = \\\n",
    "pickle.load(open('./pkls/dts_sub51.pkl', 'rb')) "
   ]
  },
  {
   "cell_type": "code",
   "execution_count": 143,
   "metadata": {},
   "outputs": [
    {
     "name": "stdout",
     "output_type": "stream",
     "text": [
      "(1, 12717)\n",
      "(63022,)\n"
     ]
    }
   ],
   "source": [
    "mons = np.zeros_like(lon_sub51)\n",
    "yrs = np.zeros_like(lon_sub51)\n",
    "days = np.zeros_like(lon_sub51)\n",
    "for i in range(0,len(mons)):\n",
    "    \n",
    "    mons[i] = dts_sub51[i].month\n",
    "    yrs[i] = dts_sub51[i].year\n",
    "    days[i] = dts_sub51[i].day"
   ]
  },
  {
   "cell_type": "code",
   "execution_count": 7,
   "metadata": {},
   "outputs": [
    {
     "name": "stdout",
     "output_type": "stream",
     "text": [
      "2013-12-14 05:00:00\n",
      "2013-12-14 00:00:00\n"
     ]
    }
   ],
   "source": [
    "dt = datetime(2013, 12, 14, 5, 0, 0)\n",
    "print(dt)\n",
    "dt = datetime(*dt.timetuple()[:3])\n",
    "print(dt)"
   ]
  },
  {
   "cell_type": "code",
   "execution_count": 13,
   "metadata": {},
   "outputs": [
    {
     "name": "stdout",
     "output_type": "stream",
     "text": [
      "2017-11-03 00:00:00\n",
      "(131,)\n"
     ]
    }
   ],
   "source": [
    "## round datetimes to get list of dates\n",
    "dts_rounded = np.zeros_like(dts_sub51)\n",
    "\n",
    "from datetime import date,timedelta\n",
    "\n",
    "for i in range(0,len(dts_rounded)):\n",
    "    td = dts_sub51[i]\n",
    "    dts_rounded[i] = datetime(*td.timetuple()[:3])\n",
    "    \n",
    "print(dts_rounded[0])\n",
    "\n",
    "uniq_days = np.unique(dts_rounded)\n",
    "print(np.shape(uniq_days))"
   ]
  },
  {
   "cell_type": "code",
   "execution_count": 14,
   "metadata": {},
   "outputs": [
    {
     "name": "stdout",
     "output_type": "stream",
     "text": [
      "[datetime.datetime(2017, 11, 3, 0, 0) datetime.datetime(2017, 11, 4, 0, 0)\n",
      " datetime.datetime(2017, 11, 10, 0, 0)\n",
      " datetime.datetime(2017, 11, 11, 0, 0)\n",
      " datetime.datetime(2017, 11, 17, 0, 0)\n",
      " datetime.datetime(2017, 11, 18, 0, 0)\n",
      " datetime.datetime(2017, 11, 24, 0, 0)\n",
      " datetime.datetime(2017, 11, 25, 0, 0)\n",
      " datetime.datetime(2017, 12, 1, 0, 0) datetime.datetime(2017, 12, 2, 0, 0)\n",
      " datetime.datetime(2017, 12, 8, 0, 0) datetime.datetime(2017, 12, 9, 0, 0)\n",
      " datetime.datetime(2017, 12, 15, 0, 0)\n",
      " datetime.datetime(2017, 12, 16, 0, 0)\n",
      " datetime.datetime(2017, 12, 22, 0, 0)\n",
      " datetime.datetime(2017, 12, 23, 0, 0)\n",
      " datetime.datetime(2017, 12, 29, 0, 0)\n",
      " datetime.datetime(2017, 12, 30, 0, 0) datetime.datetime(2018, 1, 5, 0, 0)\n",
      " datetime.datetime(2018, 1, 6, 0, 0) datetime.datetime(2018, 1, 12, 0, 0)\n",
      " datetime.datetime(2018, 1, 13, 0, 0) datetime.datetime(2018, 2, 2, 0, 0)\n",
      " datetime.datetime(2018, 2, 3, 0, 0) datetime.datetime(2018, 2, 9, 0, 0)\n",
      " datetime.datetime(2018, 2, 10, 0, 0) datetime.datetime(2018, 2, 16, 0, 0)\n",
      " datetime.datetime(2018, 2, 17, 0, 0) datetime.datetime(2018, 2, 23, 0, 0)\n",
      " datetime.datetime(2018, 2, 24, 0, 0) datetime.datetime(2018, 3, 2, 0, 0)\n",
      " datetime.datetime(2018, 3, 3, 0, 0) datetime.datetime(2018, 3, 9, 0, 0)\n",
      " datetime.datetime(2018, 3, 10, 0, 0) datetime.datetime(2018, 3, 16, 0, 0)\n",
      " datetime.datetime(2018, 3, 17, 0, 0) datetime.datetime(2018, 3, 23, 0, 0)\n",
      " datetime.datetime(2018, 3, 24, 0, 0) datetime.datetime(2018, 3, 30, 0, 0)\n",
      " datetime.datetime(2018, 3, 31, 0, 0) datetime.datetime(2018, 4, 6, 0, 0)\n",
      " datetime.datetime(2018, 4, 7, 0, 0) datetime.datetime(2018, 4, 13, 0, 0)\n",
      " datetime.datetime(2018, 4, 14, 0, 0) datetime.datetime(2018, 4, 20, 0, 0)\n",
      " datetime.datetime(2018, 4, 21, 0, 0) datetime.datetime(2018, 4, 27, 0, 0)\n",
      " datetime.datetime(2018, 4, 28, 0, 0) datetime.datetime(2018, 5, 4, 0, 0)\n",
      " datetime.datetime(2018, 5, 5, 0, 0) datetime.datetime(2018, 5, 11, 0, 0)\n",
      " datetime.datetime(2018, 5, 12, 0, 0) datetime.datetime(2018, 5, 18, 0, 0)\n",
      " datetime.datetime(2018, 5, 19, 0, 0) datetime.datetime(2018, 6, 1, 0, 0)\n",
      " datetime.datetime(2018, 6, 2, 0, 0) datetime.datetime(2018, 6, 8, 0, 0)\n",
      " datetime.datetime(2018, 6, 9, 0, 0) datetime.datetime(2018, 6, 22, 0, 0)\n",
      " datetime.datetime(2018, 6, 23, 0, 0) datetime.datetime(2018, 6, 29, 0, 0)\n",
      " datetime.datetime(2018, 6, 30, 0, 0) datetime.datetime(2018, 7, 1, 0, 0)\n",
      " datetime.datetime(2018, 7, 2, 0, 0) datetime.datetime(2018, 7, 3, 0, 0)\n",
      " datetime.datetime(2018, 7, 12, 0, 0) datetime.datetime(2018, 7, 13, 0, 0)\n",
      " datetime.datetime(2018, 7, 14, 0, 0) datetime.datetime(2018, 8, 3, 0, 0)\n",
      " datetime.datetime(2018, 8, 4, 0, 0) datetime.datetime(2018, 8, 10, 0, 0)\n",
      " datetime.datetime(2018, 8, 11, 0, 0) datetime.datetime(2018, 8, 17, 0, 0)\n",
      " datetime.datetime(2018, 8, 18, 0, 0) datetime.datetime(2018, 8, 24, 0, 0)\n",
      " datetime.datetime(2018, 8, 25, 0, 0) datetime.datetime(2018, 8, 31, 0, 0)\n",
      " datetime.datetime(2018, 9, 1, 0, 0) datetime.datetime(2018, 9, 7, 0, 0)\n",
      " datetime.datetime(2018, 9, 8, 0, 0) datetime.datetime(2018, 9, 9, 0, 0)\n",
      " datetime.datetime(2018, 9, 14, 0, 0) datetime.datetime(2018, 9, 15, 0, 0)\n",
      " datetime.datetime(2018, 9, 21, 0, 0) datetime.datetime(2018, 9, 22, 0, 0)\n",
      " datetime.datetime(2018, 9, 28, 0, 0) datetime.datetime(2018, 9, 29, 0, 0)\n",
      " datetime.datetime(2019, 3, 1, 0, 0) datetime.datetime(2019, 3, 2, 0, 0)\n",
      " datetime.datetime(2019, 3, 7, 0, 0) datetime.datetime(2019, 3, 8, 0, 0)\n",
      " datetime.datetime(2019, 3, 9, 0, 0) datetime.datetime(2019, 3, 15, 0, 0)\n",
      " datetime.datetime(2019, 3, 16, 0, 0) datetime.datetime(2019, 3, 21, 0, 0)\n",
      " datetime.datetime(2019, 3, 22, 0, 0) datetime.datetime(2019, 3, 23, 0, 0)\n",
      " datetime.datetime(2019, 3, 29, 0, 0) datetime.datetime(2019, 3, 30, 0, 0)\n",
      " datetime.datetime(2019, 4, 4, 0, 0) datetime.datetime(2019, 4, 5, 0, 0)\n",
      " datetime.datetime(2019, 4, 6, 0, 0) datetime.datetime(2019, 4, 12, 0, 0)\n",
      " datetime.datetime(2019, 4, 13, 0, 0) datetime.datetime(2019, 4, 19, 0, 0)\n",
      " datetime.datetime(2019, 4, 20, 0, 0) datetime.datetime(2019, 4, 26, 0, 0)\n",
      " datetime.datetime(2019, 4, 27, 0, 0) datetime.datetime(2019, 5, 3, 0, 0)\n",
      " datetime.datetime(2019, 5, 4, 0, 0) datetime.datetime(2019, 5, 17, 0, 0)\n",
      " datetime.datetime(2019, 5, 18, 0, 0) datetime.datetime(2019, 5, 24, 0, 0)\n",
      " datetime.datetime(2019, 6, 7, 0, 0) datetime.datetime(2019, 6, 8, 0, 0)\n",
      " datetime.datetime(2019, 6, 14, 0, 0) datetime.datetime(2019, 6, 15, 0, 0)\n",
      " datetime.datetime(2019, 6, 21, 0, 0) datetime.datetime(2019, 6, 22, 0, 0)\n",
      " datetime.datetime(2019, 6, 28, 0, 0) datetime.datetime(2019, 7, 12, 0, 0)\n",
      " datetime.datetime(2019, 7, 13, 0, 0) datetime.datetime(2019, 7, 19, 0, 0)\n",
      " datetime.datetime(2019, 7, 20, 0, 0) datetime.datetime(2019, 8, 23, 0, 0)\n",
      " datetime.datetime(2019, 8, 24, 0, 0) datetime.datetime(2019, 8, 30, 0, 0)\n",
      " datetime.datetime(2019, 8, 31, 0, 0) datetime.datetime(2019, 9, 7, 0, 0)\n",
      " datetime.datetime(2019, 9, 27, 0, 0) datetime.datetime(2019, 9, 28, 0, 0)]\n"
     ]
    }
   ],
   "source": [
    "# print(uniq_days)"
   ]
  },
  {
   "cell_type": "code",
   "execution_count": 23,
   "metadata": {},
   "outputs": [
    {
     "data": {
      "text/plain": [
       "Text(0.5, 1.0, 'date coverage of the columbia dataset')"
      ]
     },
     "execution_count": 23,
     "metadata": {},
     "output_type": "execute_result"
    },
    {
     "data": {
      "image/png": "[encoded data removed]",
      "text/plain": [
       "<Figure size 583.2x216 with 1 Axes>"
      ]
     },
     "metadata": {},
     "output_type": "display_data"
    }
   ],
   "source": [
    "fact = 0.3\n",
    "fig, axs = plt.subplots(1,1, figsize=(27*fact, 10*fact), facecolor='w', edgecolor='k')\n",
    "\n",
    "for i in range(0, len(uniq_days)):\n",
    "    \n",
    "    axs.plot(uniq_days[i],1, color = 'red',marker = '.')\n",
    "\n",
    "w = plt.xticks(rotation=45, ha='right')\n",
    "axs.set_yticklabels([])\n",
    "axs.grid()\n",
    "axs.set_title('date coverage of the columbia dataset')"
   ]
  },
  {
   "cell_type": "code",
   "execution_count": 54,
   "metadata": {},
   "outputs": [],
   "source": [
    "ymds = []\n",
    "for i in range(0,len(uniq_days)):\n",
    "    \n",
    "    today = uniq_days[i]\n",
    "    todays = str(today)\n",
    "    boop = (todays[0:10])\n",
    "    tdate = arrow.get(boop)\n",
    "\n",
    "    ymd = tdate.format('YYYYMMDD')\n",
    "    doy = tdate.format('DDD')\n",
    "    yy = tdate.format('YYYY')\n",
    "    mm = tdate.format('MMM').lower()\n",
    "    sy = tdate.format('YY')\n",
    "    dd = tdate.format('DD')\n",
    "    dayfolder = f'{dd}{mm}{sy}'\n",
    "    \n",
    "    ymds.append(ymd)\n",
    "\n",
    "#     print(dayfolder)\n",
    "    \n",
    "#     w = f'/results2/SalishSea/nowcast-green.201905/{dayfolder}/SalishSea_1h_{ymd}_{ymd}_grid_T.nc'\n",
    "#     w2 = glob.glob(w); gridT = nc.Dataset(w2[0])\n",
    "#     temp = gridT['votemper'][:,0,:,:]\n",
    "#     sal = gridT['vosaline'][:,0,:,:]\n",
    "    \n",
    "#     w = f'/results2/SalishSea/nowcast-green.201905/{dayfolder}/SalishSea_1h_{ymd}_{ymd}_carp_T.nc'\n",
    "#     w2 = glob.glob(w); carpT = nc.Dataset(w2[0])\n",
    "#     DIC = carpT['dissolved_inorganic_carbon'][:,0,:,:]\n",
    "#     TA = carpT['total_alkalinity'][:,0,:,:]\n",
    "\n",
    "#     sal_r = np.ravel(sal)\n",
    "#     temp_r = np.ravel(temp)\n",
    "#     tzero = np.zeros_like(sal_r)\n",
    "#     DIC_r = np.ravel(DIC)\n",
    "#     TA_r = np.ravel(TA)\n",
    "#     tpressure = tzero+1\n",
    "#     tsra_psu = sal_r*35/35.16504\n",
    "#     ttera_is = gsw.t_from_CT(sal_r,temp_r,tzero)\n",
    "\n",
    "#     response_tup = mocsy.mvars(temp=ttera_is, sal=tsra_psu, alk=TA_r*1e-3, dic=DIC_r*1e-3, \n",
    "#                        sil=tzero, phos=tzero, patm=tpressure, depth=tzero, lat=tzero, \n",
    "#                         optcon='mol/m3', optt='Tinsitu', optp='m',\n",
    "#                         optb = 'l10', optk1k2='m10', optkf = 'dg', optgas = 'Pinsitu')\n",
    "#     pH,pco2_mod,fco2,co2,hco3,co3,OmegaA,OmegaC,BetaD,DENis,p,Tis = response_tup\n",
    "\n",
    "#     pco2_mod_r = pco2_mod.reshape(24,898,398)\n",
    "#     daily_pco2 = np.nanmean(pco2_mod_r, axis = 0)\n",
    "#     fluxnam = f'./pkls/pco2_{ymd}.pkl'\n",
    "#    pickle.dump(daily_pco2, open(fluxnam, 'wb'))\n"
   ]
  },
  {
   "cell_type": "code",
   "execution_count": 56,
   "metadata": {},
   "outputs": [
    {
     "name": "stdout",
     "output_type": "stream",
     "text": [
      "['20171103', '20171104', '20171110', '20171111', '20171117', '20171118', '20171124', '20171125', '20171201', '20171202', '20171208', '20171209', '20171215', '20171216', '20171222', '20171223', '20171229', '20171230', '20180105', '20180106', '20180112', '20180113', '20180202', '20180203', '20180209', '20180210', '20180216', '20180217', '20180223', '20180224', '20180302', '20180303', '20180309', '20180310', '20180316', '20180317', '20180323', '20180324', '20180330', '20180331', '20180406', '20180407', '20180413', '20180414', '20180420', '20180421', '20180427', '20180428', '20180504', '20180505', '20180511', '20180512', '20180518', '20180519', '20180601', '20180602', '20180608', '20180609', '20180622', '20180623', '20180629', '20180630', '20180701', '20180702', '20180703', '20180712', '20180713', '20180714', '20180803', '20180804', '20180810', '20180811', '20180817', '20180818', '20180824', '20180825', '20180831', '20180901', '20180907', '20180908', '20180909', '20180914', '20180915', '20180921', '20180922', '20180928', '20180929', '20190301', '20190302', '20190307', '20190308', '20190309', '20190315', '20190316', '20190321', '20190322', '20190323', '20190329', '20190330', '20190404', '20190405', '20190406', '20190412', '20190413', '20190419', '20190420', '20190426', '20190427', '20190503', '20190504', '20190517', '20190518', '20190524', '20190607', '20190608', '20190614', '20190615', '20190621', '20190622', '20190628', '20190712', '20190713', '20190719', '20190720', '20190823', '20190824', '20190830', '20190831', '20190907', '20190927', '20190928']\n"
     ]
    }
   ],
   "source": [
    "print(ymds)"
   ]
  },
  {
   "cell_type": "code",
   "execution_count": 81,
   "metadata": {},
   "outputs": [
    {
     "name": "stdout",
     "output_type": "stream",
     "text": [
      "CPU times: user 0 ns, sys: 0 ns, total: 0 ns\n",
      "Wall time: 17.6 µs\n",
      "20171103\n",
      "(1, 463)\n",
      "20171104\n",
      "(1, 420)\n",
      "20171110\n",
      "(1, 453)\n",
      "20171111\n",
      "(1, 383)\n",
      "20171117\n",
      "(1, 639)\n",
      "20171118\n",
      "(1, 417)\n",
      "20171124\n",
      "(1, 630)\n",
      "20171125\n",
      "(1, 404)\n",
      "20171201\n",
      "(1, 588)\n",
      "20171202\n",
      "(1, 401)\n",
      "20171208\n",
      "(1, 603)\n",
      "20171209\n",
      "(1, 404)\n",
      "20171215\n",
      "(1, 542)\n",
      "20171216\n",
      "(1, 401)\n",
      "20171222\n",
      "(1, 631)\n",
      "20171223\n",
      "(1, 402)\n",
      "20171229\n",
      "(1, 641)\n",
      "20171230\n",
      "(1, 428)\n",
      "20180105\n",
      "(1, 660)\n",
      "20180106\n",
      "(1, 399)\n",
      "20180112\n",
      "(1, 610)\n",
      "20180113\n",
      "(1, 409)\n",
      "20180202\n",
      "(1, 166)\n",
      "20180203\n",
      "(1, 470)\n",
      "20180209\n",
      "(1, 606)\n",
      "20180210\n",
      "(1, 431)\n",
      "20180216\n",
      "(1, 648)\n",
      "20180217\n",
      "(1, 461)\n",
      "20180223\n",
      "(1, 616)\n",
      "20180224\n",
      "(1, 416)\n",
      "20180302\n",
      "(1, 588)\n",
      "20180303\n",
      "(1, 441)\n",
      "20180309\n",
      "(1, 588)\n",
      "20180310\n",
      "(1, 409)\n",
      "20180316\n",
      "(1, 624)\n",
      "20180317\n",
      "(1, 443)\n",
      "20180323\n",
      "(1, 649)\n",
      "20180324\n",
      "(1, 390)\n",
      "20180330\n",
      "(1, 650)\n",
      "20180331\n",
      "(1, 418)\n",
      "20180406\n",
      "(1, 637)\n",
      "20180407\n",
      "(1, 375)\n",
      "20180413\n",
      "(1, 642)\n",
      "20180414\n",
      "(1, 426)\n",
      "20180420\n",
      "(1, 584)\n",
      "20180421\n",
      "(1, 385)\n",
      "20180427\n",
      "(1, 643)\n",
      "20180428\n",
      "(1, 393)\n",
      "20180504\n",
      "(1, 644)\n",
      "20180505\n",
      "(1, 377)\n",
      "20180511\n",
      "(1, 630)\n",
      "20180512\n",
      "(1, 424)\n",
      "20180518\n",
      "(1, 658)\n",
      "20180519\n",
      "(1, 368)\n",
      "20180601\n",
      "(1, 226)\n",
      "20180602\n",
      "(1, 384)\n",
      "20180608\n",
      "(1, 631)\n",
      "20180609\n",
      "(1, 393)\n",
      "20180622\n",
      "(1, 598)\n",
      "20180623\n",
      "(1, 372)\n",
      "20180629\n",
      "(1, 684)\n",
      "20180630\n",
      "(1, 695)\n",
      "20180701\n",
      "(1, 696)\n",
      "20180702\n",
      "(1, 694)\n",
      "20180703\n",
      "(1, 491)\n",
      "20180712\n",
      "(1, 211)\n",
      "20180713\n",
      "(1, 698)\n",
      "20180714\n",
      "(1, 88)\n",
      "20180803\n",
      "(1, 660)\n",
      "20180804\n",
      "(1, 395)\n",
      "20180810\n",
      "(1, 646)\n",
      "20180811\n",
      "(1, 422)\n",
      "20180817\n",
      "(1, 551)\n",
      "20180818\n",
      "(1, 372)\n",
      "20180824\n",
      "(1, 573)\n",
      "20180825\n",
      "(1, 407)\n",
      "20180831\n",
      "(1, 600)\n",
      "20180901\n",
      "(1, 392)\n",
      "20180907\n",
      "(1, 592)\n",
      "20180908\n",
      "(1, 695)\n",
      "20180909\n",
      "(1, 19)\n",
      "20180914\n",
      "(1, 505)\n",
      "20180915\n",
      "(1, 382)\n",
      "20180921\n",
      "(1, 624)\n",
      "20180922\n",
      "(1, 395)\n",
      "20180928\n",
      "(1, 685)\n",
      "20180929\n",
      "(1, 367)\n",
      "20190301\n",
      "(1, 88)\n",
      "20190302\n",
      "(1, 396)\n",
      "20190307\n",
      "(1, 24)\n",
      "20190308\n",
      "(1, 680)\n",
      "20190309\n",
      "(1, 366)\n",
      "20190315\n",
      "(1, 686)\n",
      "20190316\n",
      "(1, 348)\n",
      "20190321\n",
      "(1, 1)\n",
      "20190322\n",
      "(1, 704)\n",
      "20190323\n",
      "(1, 373)\n",
      "20190329\n",
      "(1, 644)\n",
      "20190330\n",
      "(1, 380)\n",
      "20190404\n",
      "(1, 6)\n",
      "20190405\n",
      "(1, 698)\n",
      "20190406\n",
      "(1, 27)\n",
      "20190412\n",
      "(1, 652)\n",
      "20190413\n",
      "(1, 354)\n",
      "20190419\n",
      "(1, 640)\n",
      "20190420\n",
      "(1, 437)\n",
      "20190426\n",
      "(1, 667)\n",
      "20190427\n",
      "(1, 381)\n",
      "20190503\n",
      "(1, 660)\n",
      "20190504\n",
      "(1, 406)\n",
      "20190517\n",
      "(1, 577)\n",
      "20190518\n",
      "(1, 414)\n",
      "20190524\n",
      "(1, 425)\n",
      "20190607\n",
      "(1, 591)\n",
      "20190608\n",
      "(1, 406)\n",
      "20190614\n",
      "(1, 632)\n",
      "20190615\n",
      "(1, 389)\n",
      "20190621\n",
      "(1, 468)\n",
      "20190622\n",
      "(1, 394)\n",
      "20190628\n",
      "(1, 464)\n",
      "20190712\n",
      "(1, 635)\n",
      "20190713\n",
      "(1, 381)\n",
      "20190719\n",
      "(1, 664)\n",
      "20190720\n",
      "(1, 375)\n",
      "20190823\n",
      "(1, 657)\n",
      "20190824\n",
      "(1, 310)\n",
      "20190830\n",
      "(1, 507)\n",
      "20190831\n",
      "(1, 427)\n",
      "20190907\n",
      "(1, 371)\n",
      "20190927\n",
      "(1, 643)\n",
      "20190928\n",
      "(1, 403)\n"
     ]
    }
   ],
   "source": [
    "%time\n",
    "pco2_mod = np.zeros_like(pco2_sub51)\n",
    "\n",
    "for u in range(0,len(uniq_days)):\n",
    "    \n",
    "    ymd = ymds[u]\n",
    "    print(ymd)\n",
    "    fluxnam = f'./pkls/pco2_{ymd}.pkl'\n",
    "    tpco2 = pickle.load(open(fluxnam, 'rb'))\n",
    "    \n",
    "    today = uniq_days[u]\n",
    "    \n",
    "    where_td = np.where(dts_rounded == today)\n",
    "    sset = dts_rounded[where_td]\n",
    "    print(np.shape(where_td))\n",
    "    where_td = np.squeeze(where_td)\n",
    "    if np.size(where_td) >1:\n",
    "        for i in range(0, len(where_td)):\n",
    "            tind = where_td[i]\n",
    "            ti = i_sub51[tind]; tj = j_sub51[tind]\n",
    "            pco2_mod[tind] = tpco2[int(tj),int(ti)]\n",
    "#     print(np.shape(sset))\n",
    "#     print(where_td[0:10])\n",
    "\n"
   ]
  },
  {
   "cell_type": "code",
   "execution_count": 88,
   "metadata": {},
   "outputs": [
    {
     "name": "stderr",
     "output_type": "stream",
     "text": [
      "/home/tjarniko/anaconda3/lib/python3.7/site-packages/ipykernel_launcher.py:1: RuntimeWarning: invalid value encountered in greater\n",
      "  \"\"\"Entry point for launching an IPython kernel.\n"
     ]
    }
   ],
   "source": [
    "pco2_mod[pco2_mod>1e19] = np.nan\n",
    "pickle.dump(pco2_mod, open(\"./pkls/pco2_mod.pkl\", 'wb'))"
   ]
  },
  {
   "cell_type": "code",
   "execution_count": 87,
   "metadata": {},
   "outputs": [
    {
     "name": "stderr",
     "output_type": "stream",
     "text": [
      "/home/tjarniko/anaconda3/lib/python3.7/site-packages/ipykernel_launcher.py:1: RuntimeWarning: invalid value encountered in less\n",
      "  \"\"\"Entry point for launching an IPython kernel.\n"
     ]
    },
    {
     "data": {
      "text/plain": [
       "(array([1.0000e+00, 1.3000e+03, 1.8699e+04, 8.3940e+03, 3.9520e+03,\n",
       "        8.8050e+03, 1.0306e+04, 6.6130e+03, 4.0650e+03, 6.0400e+02]),\n",
       " array([  0.        ,  82.24408956, 164.48817911, 246.73226867,\n",
       "        328.97635822, 411.22044778, 493.46453734, 575.70862689,\n",
       "        657.95271645, 740.19680601, 822.44089556]),\n",
       " <BarContainer object of 10 artists>)"
      ]
     },
     "execution_count": 87,
     "metadata": {},
     "output_type": "execute_result"
    },
    {
     "data": {
      "image/png": "[encoded data removed]",
      "text/plain": [
       "<Figure size 432x288 with 1 Axes>"
      ]
     },
     "metadata": {
      "needs_background": "light"
     },
     "output_type": "display_data"
    }
   ],
   "source": [
    "plt.hist(pco2_mod[pco2_mod<1e19])"
   ]
  },
  {
   "cell_type": "code",
   "execution_count": null,
   "metadata": {},
   "outputs": [],
   "source": []
  }
 ],
 "metadata": {
  "kernelspec": {
   "display_name": "Python 3",
   "language": "python",
   "name": "python3"
  },
  "language_info": {
   "codemirror_mode": {
    "name": "ipython",
    "version": 3
   },
   "file_extension": ".py",
   "mimetype": "text/x-python",
   "name": "python",
   "nbconvert_exporter": "python",
   "pygments_lexer": "ipython3",
   "version": "3.7.4"
  }
 },
 "nbformat": 4,
 "nbformat_minor": 2
}
