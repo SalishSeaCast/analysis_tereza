{
 "cells": [
  {
   "cell_type": "code",
   "execution_count": null,
   "metadata": {},
   "outputs": [],
   "source": []
  },
  {
   "cell_type": "code",
   "execution_count": 13,
   "metadata": {},
   "outputs": [
    {
     "data": {
      "text/html": [
       "<script>\n",
       "code_show=true; \n",
       "function code_toggle() {\n",
       " if (code_show){\n",
       " $('div.input').hide();\n",
       " } else {\n",
       " $('div.input').show();\n",
       " }\n",
       " code_show = !code_show\n",
       "} \n",
       "$( document ).ready(code_toggle);\n",
       "</script> so much code! click <a href=\"javascript:code_toggle()\">here</a>."
      ],
      "text/plain": [
       "<IPython.core.display.HTML object>"
      ]
     },
     "execution_count": 13,
     "metadata": {},
     "output_type": "execute_result"
    }
   ],
   "source": [
    "from IPython.display import HTML\n",
    "HTML('''<script>\n",
    "code_show=true; \n",
    "function code_toggle() {\n",
    " if (code_show){\n",
    " $('div.input').hide();\n",
    " } else {\n",
    " $('div.input').show();\n",
    " }\n",
    " code_show = !code_show\n",
    "} \n",
    "$( document ).ready(code_toggle);\n",
    "</script> so much code! click <a href=\"javascript:code_toggle()\">here</a>.''')"
   ]
  },
  {
   "cell_type": "code",
   "execution_count": 14,
   "metadata": {},
   "outputs": [],
   "source": [
    "import matplotlib.pyplot as plt\n",
    "import netCDF4 as nc\n",
    "import numpy as np\n",
    "import scipy as sp\n",
    "import pandas as pd\n",
    "import seawater\n",
    "import datetime as dt\n",
    "\"\"\n",
    "from salishsea_tools import (\n",
    "    nc_tools,\n",
    "    viz_tools,\n",
    "    geo_tools,\n",
    "    tidetools\n",
    ")\n",
    "\n",
    "import matplotlib\n",
    "matplotlib.use('Agg')\n",
    "import matplotlib.pyplot as plt\n",
    "import matplotlib.patches as patches\n",
    "plt.style.use('seaborn-whitegrid')\n",
    "import netCDF4 as nc\n",
    "import pickle\n",
    "import cmocean as cm\n",
    "import glob\n",
    "import sys\n",
    "sys.path.append('/data/tjarniko/mocsy')\n",
    "import mocsy\n",
    "\n",
    "#from matplotlib import reload\n",
    "import arrow\n",
    "import gsw\n",
    "import time\n",
    "\n",
    "%matplotlib inline\n",
    "\n",
    "plt.rcParams.update({'font.size': 20,\n",
    "                     'xtick.labelsize' : 20,\n",
    "                     'ytick.labelsize' : 20})"
   ]
  },
  {
   "cell_type": "code",
   "execution_count": 15,
   "metadata": {},
   "outputs": [
    {
     "name": "stdout",
     "output_type": "stream",
     "text": [
      "<class 'netCDF4._netCDF4.Group'>\n",
      "group /preindustrial_DIC:\n",
      "    dimensions(sizes): xval(950), depth(1)\n",
      "    variables(dimensions): float32 \u001b[4mDIC_intrusion\u001b[0m(depth,xval)\n",
      "    groups: \n",
      "\n",
      "<class 'netCDF4._netCDF4.Group'>\n",
      "group /preindustrial_DIC:\n",
      "    dimensions(sizes): xval(950), depth(40), single(1)\n",
      "    variables(dimensions): float32 \u001b[4msigma0\u001b[0m(depth,xval), float32 \u001b[4mwater_age\u001b[0m(depth,xval), float32 \u001b[4mtarget_year\u001b[0m(single), float32 \u001b[4mAOU_stoich\u001b[0m(depth,xval), float32 \u001b[4mobsyear_pref_pco2\u001b[0m(depth,xval), float32 \u001b[4mtargetyear_pref_pco2\u001b[0m(depth,xval), float32 \u001b[4mobsyear_pref_dic\u001b[0m(depth,xval), float32 \u001b[4mtargetyear_pref_dic\u001b[0m(depth,xval), float32 \u001b[4mfinal_target_DIC\u001b[0m(depth,xval)\n",
      "    groups: \n",
      "\n"
     ]
    }
   ],
   "source": [
    "target_year = 2050\n",
    "scen = '2_4pt5'\n",
    "ymd = 'y2017m01d01'\n",
    "\n",
    "#f = nc.Dataset(f'./JdF_future_DIC/LO_TY_{target_year}_scen_{scen}_{ymd}_DIC_PacellaSurf.nc','w', format='NETCDF4') #'w' stands for write\n",
    "\n",
    "fdeep =  nc.Dataset('./JdF_future_DIC/LO_TY_2050_scen_2_4pt5_y2017m01d01_DIC_nosurfnodeep.nc')\n",
    "fsurf =  nc.Dataset('./JdF_future_DIC/LO_TY_2050_scen_2_4pt5_y2017m01d01_DIC_PacellaSurf.nc')\n",
    "# LO_TY_2050_scen_2_4pt5_y2017m12d31_DIC_PacellaSurf.nc\n",
    "\n",
    "print(fsurf['preindustrial_DIC'])\n",
    "\n",
    "print(fdeep['preindustrial_DIC'])\n",
    "\n",
    "presday = nc.Dataset(f'/results/forcing/LiveOcean/boundary_conditions/LiveOcean_v201905_{ymd}.nc')\n",
    "    "
   ]
  },
  {
   "cell_type": "code",
   "execution_count": 16,
   "metadata": {},
   "outputs": [],
   "source": [
    "start ='2017-01-01'\n",
    "end ='2017-12-31'\n",
    "\n",
    "start_run = arrow.get(start)\n",
    "end_run = arrow.get(end)\n",
    "\n",
    "arrow_array = []\n",
    "\n",
    "for r in arrow.Arrow.span_range('day', start_run, end_run):\n",
    "    arrow_array.append(r)"
   ]
  },
  {
   "cell_type": "code",
   "execution_count": 17,
   "metadata": {},
   "outputs": [],
   "source": [
    "newCAR_DIC = np.zeros([365,40,950])\n",
    "newCAR_sigma0 = np.zeros([365,40,950])\n",
    "for i in range(0,1):\n",
    "\n",
    "    tdate = arrow_array[i][0]\n",
    "    yy = tdate.format('YYYY')\n",
    "    mm = tdate.format('MM')\n",
    "    dd = tdate.format('DD')\n",
    "    ymd = f'y{yy}m{mm}d{dd}'\n",
    "\n",
    "#     if i%60 == 0:\n",
    "        #print(ymd)\n",
    "    newCAR = nc.Dataset(f'./JdF_future_DIC/LO_TY_2050_scen_2_4pt5_{ymd}_DIC_nosurfnodeep.nc')\n",
    "   # print(newCAR)\n",
    "    newCAR_DIC[i,:,:] = newCAR['preindustrial_DIC']['final_target_DIC'][:,:] \n",
    "    newCAR_sigma0[i,:,:] = newCAR['preindustrial_DIC']['sigma0'][:,:] \n",
    "    newCAR.close()"
   ]
  },
  {
   "cell_type": "code",
   "execution_count": 18,
   "metadata": {},
   "outputs": [],
   "source": [
    "w = nc.Dataset('/data/tjarniko/MEOPAR/grid/mesh_mask201702.nc')\n",
    "depths = w['gdept_1d'][0,:]"
   ]
  },
  {
   "cell_type": "code",
   "execution_count": 19,
   "metadata": {},
   "outputs": [
    {
     "name": "stdout",
     "output_type": "stream",
     "text": [
      "present-day DIC:\n",
      "[2073.42191446 2073.53044709 2074.35632189 2074.80450841 2075.30230533\n",
      " 2075.97217841 2076.90431307 2078.00994637 2079.091462   2080.15256918\n",
      " 2081.23370389 2082.33381313 2083.31135646 2084.23676319 2085.17543902\n",
      " 2086.14977372 2087.23220447 2088.49412667 2090.00728044 2092.01586619\n",
      " 2095.1052878  2110.23358038 2121.81385195 2137.03919739 2177.04895854\n",
      " 2206.79027819 2236.14774234 2255.04322935 2265.11551916 2273.51686283\n",
      " 2282.52541014 2289.89831815 2291.43705912 2294.16642653 2297.80097147\n",
      " 2297.80097147 2297.80097147 2297.80097147 2297.80097147 2297.80097147]\n",
      "test surface intrusion\n",
      "31.32\n",
      "intrusion (2050 DIC - present-day DIC):\n",
      "[        nan         nan         nan         nan         nan         nan\n",
      "         nan         nan         nan         nan         nan         nan\n",
      "         nan         nan         nan         nan         nan         nan\n",
      "         nan         nan         nan         nan         nan         nan\n",
      " 26.61998677 27.42627454 27.80342953 27.98753236 27.29390467 27.61863522\n",
      " 26.45798829 24.26525606 23.30976705 22.90657152 20.632134           nan\n",
      "         nan         nan         nan         nan]\n"
     ]
    }
   ],
   "source": [
    "test_DIC = (newCAR_DIC[0,:,200])\n",
    "test_sigma = newCAR_sigma0[0,:,200]\n",
    "test_surfint = fsurf['preindustrial_DIC']['DIC_intrusion'][0,200]\n",
    "presday_DIC = presday['DIC'][0,:,0,200]\n",
    "\n",
    "\n",
    "\n",
    "\n",
    "print('present-day DIC:')\n",
    "print(presday_DIC)\n",
    "print('test surface intrusion')\n",
    "print(test_surfint)\n",
    "print('intrusion (2050 DIC - present-day DIC):')\n",
    "intr = test_DIC-presday_DIC\n",
    "intr[intr > 3000] = np.nan\n",
    "print(intr)\n",
    "\n"
   ]
  },
  {
   "cell_type": "code",
   "execution_count": 25,
   "metadata": {},
   "outputs": [
    {
     "name": "stdout",
     "output_type": "stream",
     "text": [
      "0\n",
      "60\n",
      "120\n",
      "180\n",
      "240\n",
      "300\n",
      "360\n"
     ]
    }
   ],
   "source": [
    "### sigma 365 x 950 x 40\n",
    "### pres-day dic \n",
    "### forward car50 dic\n",
    "### \n",
    "\n",
    "big_sigma = np.zeros([365,40,950])\n",
    "big_presdayDIC = np.zeros([365,40,950])\n",
    "big_forwardDIC = np.zeros([365,40,950])\n",
    "big_surfintr = np.zeros([365,950])\n",
    "\n",
    "for i in range(0,365):\n",
    "    if (i%60 == 0):\n",
    "        print(i)\n",
    "    tdate = arrow_array[i][0]\n",
    "    yy = tdate.format('YYYY')\n",
    "    mm = tdate.format('MM')\n",
    "    dd = tdate.format('DD')\n",
    "    ymd = f'y{yy}m{mm}d{dd}'\n",
    "\n",
    "#     if i%60 == 0:\n",
    "        #print(ymd)\n",
    "    newCAR = nc.Dataset(f'./JdF_future_DIC/LO_TY_2050_scen_2_4pt5_{ymd}_DIC_nosurfnodeep.nc')\n",
    "   # print(newCAR)\n",
    "    big_forwardDIC[i,:,:] = newCAR['preindustrial_DIC']['final_target_DIC'][:,:] \n",
    "    big_sigma[i,:,:] = newCAR['preindustrial_DIC']['sigma0'][:,:] \n",
    "    presday = nc.Dataset(f'/results/forcing/LiveOcean/boundary_conditions/LiveOcean_v201905_{ymd}.nc')\n",
    "    big_presdayDIC[i,:,:] = presday['DIC'][0,:,0,:]\n",
    "    fsurf =  nc.Dataset(f'./JdF_future_DIC/LO_TY_2050_scen_2_4pt5_{ymd}_DIC_PacellaSurf.nc')\n",
    "    big_surfintr[i,:] = fsurf['preindustrial_DIC']['DIC_intrusion'][0,:]\n",
    "\n",
    "    \n",
    "    newCAR.close()\n",
    "    presday.close()\n",
    "    fsurf.close()\n",
    "    \n",
    "big_gruberintr = big_forwardDIC - big_presdayDIC \n",
    "\n",
    "big_gruberintr[big_gruberintr > 3000 ] = np.nan "
   ]
  },
  {
   "cell_type": "code",
   "execution_count": 21,
   "metadata": {},
   "outputs": [],
   "source": [
    "\n",
    "def toy_interpolator(sigma0_prof, surf_intr, gruber_intr, verbose = True):\n",
    "    \n",
    "#tp testprof\n",
    "#     presday_DIC_tp = presday_dic_prof\n",
    "#     newCAR_DIC_tp = CAR_dic_prof\n",
    "    newCAR_sigma0_tp = sigma0_prof\n",
    "    \n",
    "#     print(newCAR_sigma0_tp)\n",
    "\n",
    "    min_over25 = (np.min(newCAR_sigma0_tp[newCAR_sigma0_tp>25]))\n",
    "    loc_min_over25 = (np.where(newCAR_sigma0_tp == min_over25))\n",
    "    intrusion_at_min = gruber_intr[loc_min_over25] \n",
    "\n",
    "    # print(intrusion_at_min)\n",
    "\n",
    "    #\n",
    "    diff = surf_intr - intrusion_at_min\n",
    "    depth_way = depths/depths[loc_min_over25]\n",
    "\n",
    "\n",
    "    shallows = np.zeros_like(newCAR_sigma0_tp)\n",
    "    shallows = surf_intr - (depth_way) * (diff)\n",
    "   # print(shallows)\n",
    "#     #print(surf_intr[22])\n",
    "\n",
    "    new_intr = np.copy(gruber_intr)\n",
    "    #print(loc_min_over25[0][0])\n",
    "    new_intr[0:loc_min_over25[0][0]] = \\\n",
    "    shallows[0:loc_min_over25[0][0]]\n",
    "    \n",
    "    if verbose: \n",
    "        print('this is surface intr')\n",
    "        print(surf_intr)\n",
    "        print('this is gruber intr')\n",
    "        print(gruber_intr)\n",
    "        print('this is combined intr')\n",
    "        print(new_intr)\n",
    "        \n",
    "        \n",
    "    wherereal = np.where(~np.isnan(new_intr))\n",
    "    endofreal = (np.max(wherereal))\n",
    "    new_intr[endofreal:40] = new_intr[endofreal]\n",
    "\n",
    "    if verbose:\n",
    "        plt.plot(depths,new_intr)\n",
    "        \n",
    "        \n",
    "    \n",
    "    return new_intr\n",
    "\n",
    "\n"
   ]
  },
  {
   "cell_type": "code",
   "execution_count": 22,
   "metadata": {},
   "outputs": [
    {
     "name": "stdout",
     "output_type": "stream",
     "text": [
      "this is surface intr\n",
      "31.32\n",
      "this is gruber intr\n",
      "[        nan         nan         nan         nan         nan         nan\n",
      "         nan         nan         nan         nan         nan         nan\n",
      "         nan         nan         nan         nan         nan         nan\n",
      "         nan         nan         nan         nan         nan         nan\n",
      " 26.61998677 27.42627454 27.80342953 27.98753236 27.29390467 27.61863522\n",
      " 26.45798829 24.26525606 23.30976705 22.90657152 20.632134           nan\n",
      "         nan         nan         nan         nan]\n",
      "this is combined intr\n",
      "[31.27981786 31.19945401 31.11908971 31.03872456 30.95835773 30.87798765\n",
      " 30.79761122 30.71722242 30.63680955 30.55634979 30.4757987  30.39506975\n",
      " 30.31399446 30.23224494 30.14918351 30.06357172 29.97301108 29.87288113\n",
      " 29.75437287 29.60102352 29.38321576 29.05134145 28.53252653 27.74239405\n",
      " 26.61998677 27.42627454 27.80342953 27.98753236 27.29390467 27.61863522\n",
      " 26.45798829 24.26525606 23.30976705 22.90657152 20.632134           nan\n",
      "         nan         nan         nan         nan]\n"
     ]
    },
    {
     "data": {
      "image/png": "[encoded data removed]",
      "text/plain": [
       "<Figure size 432x288 with 1 Axes>"
      ]
     },
     "metadata": {
      "needs_background": "light"
     },
     "output_type": "display_data"
    }
   ],
   "source": [
    "new_intr = toy_interpolator(test_sigma, test_surfint, intr, verbose = False)\n",
    "\n",
    "new_intr = toy_interpolator(test_sigma, test_surfint, intr, verbose = True)\n",
    "\n"
   ]
  },
  {
   "cell_type": "code",
   "execution_count": 26,
   "metadata": {},
   "outputs": [
    {
     "name": "stdout",
     "output_type": "stream",
     "text": [
      "0\n",
      "30\n",
      "60\n",
      "90\n",
      "120\n",
      "150\n",
      "180\n",
      "210\n",
      "240\n",
      "270\n",
      "300\n",
      "330\n",
      "360\n"
     ]
    }
   ],
   "source": [
    "big_combinedintr = np.zeros([365,40,950])\n",
    "# big_sigma = np.zeros([365,40,950])\n",
    "# big_presdayDIC = np.zeros([365,40,950])\n",
    "# big_forwardDIC = np.zeros([365,40,950])\n",
    "# big_surfintr = np.zeros([365,950])\n",
    "\n",
    "for d in range(0,365):\n",
    "    \n",
    "    if (d%30 == 0): \n",
    "        print(d)\n",
    "    for x in range(0,950):\n",
    "        \n",
    "        test_sigma = big_sigma[d,:,x]\n",
    "        intr = big_gruberintr[d,:,x]\n",
    "        test_surfint = big_surfintr[d,x]\n",
    "        new_intr = toy_interpolator(test_sigma, test_surfint, intr, verbose = False)\n",
    "        big_combinedintr[d,:,x] = new_intr\n",
    "        \n",
    "    \n",
    "# big_gruberintr[0,:,250]\n",
    "\n"
   ]
  },
  {
   "cell_type": "code",
   "execution_count": null,
   "metadata": {},
   "outputs": [],
   "source": []
  },
  {
   "cell_type": "code",
   "execution_count": 27,
   "metadata": {},
   "outputs": [],
   "source": [
    "pickle.dump(big_combinedintr, open(\"co2_2050_ssp245_finalintr.pkl\", 'wb'))"
   ]
  },
  {
   "cell_type": "code",
   "execution_count": 30,
   "metadata": {},
   "outputs": [],
   "source": [
    "big_futuredic = big_presdayDIC + big_combinedintr"
   ]
  },
  {
   "cell_type": "code",
   "execution_count": 32,
   "metadata": {},
   "outputs": [
    {
     "name": "stdout",
     "output_type": "stream",
     "text": [
      "0\n",
      "30\n",
      "60\n",
      "90\n",
      "120\n",
      "150\n",
      "180\n",
      "210\n",
      "240\n",
      "270\n",
      "300\n",
      "330\n",
      "360\n"
     ]
    },
    {
     "data": {
      "text/plain": [
       "[<matplotlib.lines.Line2D at 0x7ff8c515ecd0>]"
      ]
     },
     "execution_count": 32,
     "metadata": {},
     "output_type": "execute_result"
    },
    {
     "data": {
      "image/png": "[encoded data removed]",
      "text/plain": [
       "<Figure size 432x288 with 1 Axes>"
      ]
     },
     "metadata": {
      "needs_background": "light"
     },
     "output_type": "display_data"
    }
   ],
   "source": [
    "for i in range(0,365):\n",
    "\n",
    "    if i%30 == 0:\n",
    "        print(i)\n",
    "    \n",
    "    tdate = arrow_array[i][0]\n",
    "    yy = tdate.format('YYYY')\n",
    "    mm = tdate.format('MM')\n",
    "    dd = tdate.format('DD')\n",
    "    ymd = f'y{yy}m{mm}d{dd}'\n",
    "    \n",
    "    #input file\n",
    "    test_LO = nc.Dataset(f'/results/forcing/LiveOcean/boundary_conditions/LiveOcean_v201905_{ymd}.nc')\n",
    "    #print(test_LO)\n",
    "    #input file for preindustrial DIC\n",
    "    dsin = test_LO \n",
    "    #output filename\n",
    "    ncname = f'./JdF_future_DIC/CAR50_SSP245_v201905_{ymd}.nc'\n",
    "\n",
    "    dsout = nc.Dataset(ncname, \"w\", format=\"NETCDF4\")\n",
    "    #Copy dimensions\n",
    "    for dname, the_dim in dsin.dimensions.items():\n",
    "        #print(dname)\n",
    "        #print(len(the_dim))\n",
    "        dsout.createDimension(dname, len(the_dim) if not the_dim.isunlimited() else None)\n",
    "        \n",
    "    # Copy variables\n",
    "    for v_name, varin in dsin.variables.items():\n",
    "        #print(v_name)\n",
    "        #if (v_name != 'DIC'):\n",
    "        outVar = dsout.createVariable(v_name, varin.datatype, varin.dimensions)\n",
    "        # Copy variable attributes\n",
    "        outVar.setncatts({k: varin.getncattr(k) for k in varin.ncattrs()})\n",
    "\n",
    "        outVar[:] = varin[:]\n",
    "    \n",
    "    # copy new DIC variables\n",
    "    \n",
    "    t_DIC = np.zeros([1, 40, 1, 950])\n",
    "    t_DIC[0,:,0,:] = big_futuredic[i,:,:]    \n",
    "    dsout['DIC'][:] = t_DIC\n",
    "\n",
    "    dsout.close()\n",
    "    \n",
    "plt.plot(big_combinedintr[d,:,x])"
   ]
  },
  {
   "cell_type": "code",
   "execution_count": null,
   "metadata": {},
   "outputs": [],
   "source": []
  }
 ],
 "metadata": {
  "kernelspec": {
   "display_name": "Python 3",
   "language": "python",
   "name": "python3"
  },
  "language_info": {
   "codemirror_mode": {
    "name": "ipython",
    "version": 3
   },
   "file_extension": ".py",
   "mimetype": "text/x-python",
   "name": "python",
   "nbconvert_exporter": "python",
   "pygments_lexer": "ipython3",
   "version": "3.7.4"
  }
 },
 "nbformat": 4,
 "nbformat_minor": 2
}
