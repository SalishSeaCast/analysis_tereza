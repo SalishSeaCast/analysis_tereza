{
 "cells": [
  {
   "cell_type": "code",
   "execution_count": 1,
   "metadata": {},
   "outputs": [],
   "source": [
    "import matplotlib.pyplot as plt\n",
    "import netCDF4 as nc\n",
    "import numpy as np\n",
    "import scipy as sp\n",
    "import pandas as pd\n",
    "import seawater\n",
    "import datetime as dt\n",
    "\"\"\n",
    "from salishsea_tools import (\n",
    "    nc_tools,\n",
    "    viz_tools,\n",
    "    geo_tools,\n",
    "    tidetools\n",
    ")\n",
    "\n",
    "import matplotlib\n",
    "matplotlib.use('Agg')\n",
    "import matplotlib.pyplot as plt\n",
    "import matplotlib.patches as patches\n",
    "plt.style.use('seaborn-whitegrid')\n",
    "import netCDF4 as nc\n",
    "import pickle\n",
    "import cmocean as cm\n",
    "import glob\n",
    "import sys\n",
    "sys.path.append('/data/tjarniko/mocsy')\n",
    "import mocsy\n",
    "\n",
    "#from matplotlib import reload\n",
    "import arrow\n",
    "import gsw\n",
    "import time\n",
    "\n",
    "%matplotlib inline\n",
    "\n",
    "plt.rcParams.update({'font.size': 20,\n",
    "                     'xtick.labelsize' : 20,\n",
    "                     'ytick.labelsize' : 20})\n",
    "\n"
   ]
  },
  {
   "cell_type": "code",
   "execution_count": null,
   "metadata": {},
   "outputs": [],
   "source": []
  },
  {
   "cell_type": "code",
   "execution_count": 2,
   "metadata": {},
   "outputs": [
    {
     "data": {
      "text/plain": [
       "0.37142857142857144"
      ]
     },
     "execution_count": 2,
     "metadata": {},
     "output_type": "execute_result"
    }
   ],
   "source": [
    "13/35"
   ]
  },
  {
   "cell_type": "markdown",
   "metadata": {},
   "source": [
    "    namelist_smelt_ref :\n",
    "\n",
    "    !>>>>>>>>>>>>>>>>>>>>>>>>>>>>>>>>>>>>>>>>>>>>>>>>>>>>>>>>>>>>>>>>>>>>>>>\n",
    "    !'''''''''''''''''''''''''''''''''''''''''''''''''''''''''''''''''''''''\n",
    "    &nampisext     !   air-sea exchange\n",
    "    !,,,,,,,,,,,,,,,,,,,,,,,,,,,,,,,,,,,,,,,,,,,,,,,,,,,,,,,,,,,,,,,,,,,,,,,\n",
    "       ln_co2int  =  .false. ! read atm pco2 from a file (T) or calculate (F)\n",
    "       clname     =  'atcco2.txt'  ! Name of atm pCO2 file - ln_co2int = T\n",
    "       zz_carbon_year =  -999     ! model year for calculating co2 < 0, use model year\n",
    "       zz_LR_slope   =  2.149     !  linear regression + gaussian fit\n",
    "       zz_LR_int     =  -3929.359 !  to seasonal cycle of atmospheric co2\n",
    "       zz_ctr        =  161.898   !  based on scripps observations at ptbarrow and lajolla\n",
    "       zz_amp        =  7.083     !  calc notebook by TJSJ\n",
    "       zz_wid        =  44.703    !  notebook loc:\n",
    "       zz_ctr2       =  218.832   !  carbon_dev/MOCSY_and_FLUX/CO2_obs.ipynb\n",
    "       zz_amp2       =  -19.004   !\n",
    "       zz_wid2       =  87.8836   !\n",
    "       zz_ctr3       =  199.430   !\n",
    "       zz_amp3       =  8.026     !\n",
    "       zz_wid3       =  -185.920  !\n",
    "    /\n",
    "    !'''''''''''''''''''''''''''''''''''''''''''''''''''''''''''''''''''''''\n",
    "    \n",
    "    \n",
    "    from p4zflx.f90:\n",
    "\n",
    "      IF( zz_carbon_year .lt. 0) THEN\n",
    "         zz_year = nyear\n",
    "      ELSE\n",
    "         zz_year = zz_carbon_year\n",
    "      ENDIF\n",
    "      zz_day = nday_year\n",
    "\n",
    "      zz_yearcyc =  zz_amp * exp( -((zz_day - zz_ctr)/zz_wid)**2)&\n",
    "              + zz_amp2 * exp( -((zz_day - zz_ctr2)/zz_wid2)**2)&\n",
    "              + zz_amp3 * exp( -((zz_day - zz_ctr3)/zz_wid3)**2)\n",
    "\n",
    "      zz_atcco2 = (zz_year+(zz_day/365))*zz_LR_slope+zz_LR_int + zz_yearcyc"
   ]
  },
  {
   "cell_type": "code",
   "execution_count": 9,
   "metadata": {},
   "outputs": [
    {
     "data": {
      "text/plain": [
       "[<matplotlib.lines.Line2D at 0x7f3e2c21fbd0>]"
      ]
     },
     "execution_count": 9,
     "metadata": {},
     "output_type": "execute_result"
    },
    {
     "data": {
      "image/png": "[encoded data removed]",
      "text/plain": [
       "<Figure size 432x288 with 1 Axes>"
      ]
     },
     "metadata": {
      "needs_background": "light"
     },
     "output_type": "display_data"
    }
   ],
   "source": [
    "zz_LR_slope   =  0     # linear regression + gaussian fit\n",
    "zz_LR_int     =  509.24 # to seasonal cycle of atmospheric co2\n",
    "zz_ctr        =  161.898   # based on scripps observations at ptbarrow and lajolla\n",
    "zz_amp        =  7.083     # calc notebook by TJSJ\n",
    "zz_wid        =  44.703    # notebook loc:\n",
    "zz_ctr2       =  218.832   # carbon_dev/MOCSY_and_FLUX/CO2_obs.ipynb\n",
    "zz_amp2       =  -19.004   #\n",
    "zz_wid2       =  87.8836   #\n",
    "zz_ctr3       =  199.430   #\n",
    "zz_amp3       =  8.026     #\n",
    "zz_wid3       =  -185.920  #\n",
    "\n",
    "zz_year = 2015\n",
    "zz_day = 1\n",
    "\n",
    "zz_yearcyc =  zz_amp * np.exp( -((zz_day - zz_ctr)/zz_wid)**2)\\\n",
    "      + zz_amp2 * np.exp( -((zz_day - zz_ctr2)/zz_wid2)**2)\\\n",
    "      + zz_amp3 * np.exp( -((zz_day - zz_ctr3)/zz_wid3)**2)\n",
    "\n",
    "zz_atcco2 = (zz_year+(zz_day/365))*zz_LR_slope+zz_LR_int + zz_yearcyc\n",
    "\n",
    "\n",
    "atcco2_ar = np.zeros(365)\n",
    "\n",
    "for i in range(0,365):\n",
    "    zz_day = i\n",
    "    \n",
    "    zz_yearcyc =  zz_amp * np.exp( -((zz_day - zz_ctr)/zz_wid)**2)\\\n",
    "      + zz_amp2 * np.exp( -((zz_day - zz_ctr2)/zz_wid2)**2)\\\n",
    "      + zz_amp3 * np.exp( -((zz_day - zz_ctr3)/zz_wid3)**2)\n",
    "    \n",
    "    atcco2_ar[i] = (zz_year+(zz_day/365))*zz_LR_slope+zz_LR_int + zz_yearcyc\n",
    "plt.plot(atcco2_ar)"
   ]
  },
  {
   "cell_type": "code",
   "execution_count": null,
   "metadata": {},
   "outputs": [],
   "source": []
  }
 ],
 "metadata": {
  "kernelspec": {
   "display_name": "Python 3",
   "language": "python",
   "name": "python3"
  },
  "language_info": {
   "codemirror_mode": {
    "name": "ipython",
    "version": 3
   },
   "file_extension": ".py",
   "mimetype": "text/x-python",
   "name": "python",
   "nbconvert_exporter": "python",
   "pygments_lexer": "ipython3",
   "version": "3.7.4"
  }
 },
 "nbformat": 4,
 "nbformat_minor": 2
}
