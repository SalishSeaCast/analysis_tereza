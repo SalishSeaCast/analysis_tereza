{
 "cells": [
  {
   "cell_type": "code",
   "execution_count": 1,
   "metadata": {},
   "outputs": [
    {
     "name": "stdout",
     "output_type": "stream",
     "text": [
      "Once deleted, variables cannot be recovered. Proceed (y/[n])? y\n"
     ]
    }
   ],
   "source": [
    "%reset"
   ]
  },
  {
   "cell_type": "code",
   "execution_count": 2,
   "metadata": {},
   "outputs": [
    {
     "data": {
      "text/html": [
       "<script>\n",
       "code_show=true; \n",
       "function code_toggle() {\n",
       " if (code_show){\n",
       " $('div.input').hide();\n",
       " } else {\n",
       " $('div.input').show();\n",
       " }\n",
       " code_show = !code_show\n",
       "} \n",
       "$( document ).ready(code_toggle);\n",
       "</script> so much code! click <a href=\"javascript:code_toggle()\">here</a>."
      ],
      "text/plain": [
       "<IPython.core.display.HTML object>"
      ]
     },
     "execution_count": 2,
     "metadata": {},
     "output_type": "execute_result"
    }
   ],
   "source": [
    "from IPython.display import HTML\n",
    "HTML('''<script>\n",
    "code_show=true; \n",
    "function code_toggle() {\n",
    " if (code_show){\n",
    " $('div.input').hide();\n",
    " } else {\n",
    " $('div.input').show();\n",
    " }\n",
    " code_show = !code_show\n",
    "} \n",
    "$( document ).ready(code_toggle);\n",
    "</script> so much code! click <a href=\"javascript:code_toggle()\">here</a>.''')"
   ]
  },
  {
   "cell_type": "code",
   "execution_count": 3,
   "metadata": {},
   "outputs": [],
   "source": [
    "import matplotlib.pyplot as plt\n",
    "import netCDF4 as nc\n",
    "import numpy as np\n",
    "import scipy as sp\n",
    "import pandas as pd\n",
    "import seawater\n",
    "import datetime as dt\n",
    "\"\"\n",
    "from salishsea_tools import (\n",
    "    nc_tools,\n",
    "    viz_tools,\n",
    "    geo_tools,\n",
    "    tidetools\n",
    ")\n",
    "\n",
    "import matplotlib\n",
    "matplotlib.use('Agg')\n",
    "import matplotlib.pyplot as plt\n",
    "import matplotlib.patches as patches\n",
    "plt.style.use('seaborn-whitegrid')\n",
    "import netCDF4 as nc\n",
    "import pickle\n",
    "import cmocean as cm\n",
    "import glob\n",
    "import sys\n",
    "sys.path.append('/data/tjarniko/mocsy')\n",
    "import mocsy\n",
    "\n",
    "#from matplotlib import reload\n",
    "import arrow\n",
    "import gsw\n",
    "import time\n",
    "\n",
    "%matplotlib inline\n",
    "\n",
    "plt.rcParams.update({'font.size': 20,\n",
    "                     'xtick.labelsize' : 20,\n",
    "                     'ytick.labelsize' : 20})\n",
    "\n"
   ]
  },
  {
   "cell_type": "code",
   "execution_count": 4,
   "metadata": {},
   "outputs": [
    {
     "data": {
      "text/plain": [
       "<module 'BC_helper_methods' from '/ocean/tjarniko/MEOPAR/analysis_tereza/notebooks/RIVER_PAPER/future_pilot/BC_helper_methods.py'>"
      ]
     },
     "execution_count": 4,
     "metadata": {},
     "output_type": "execute_result"
    }
   ],
   "source": [
    "\n",
    "import BC_helper_methods as hm\n",
    "import importlib\n",
    "importlib.reload(hm)"
   ]
  },
  {
   "cell_type": "code",
   "execution_count": 5,
   "metadata": {},
   "outputs": [],
   "source": [
    "def calc_preind_co2_AOU_method(arrowdate, obs_year, target_year, scen):\n",
    "    import numpy as np\n",
    "    import netCDF4 as nc\n",
    "    import gsw\n",
    "    \n",
    "    test_LO = hm.load_nc(arrowdate)\n",
    "    \n",
    "    tdate = arrowdate\n",
    "    yy = tdate.format('YYYY')\n",
    "    mm = tdate.format('MM')\n",
    "    dd = tdate.format('DD')\n",
    "    ymd = f'y{yy}m{mm}d{dd}'\n",
    "    #open dataset & retrieve relevant variables, calculate potential density\n",
    "\n",
    "    zlevels = (test_LO['deptht'][:])\n",
    "    sal = test_LO['vosaline'][0,:,0,:]\n",
    "    temp = test_LO['votemper'][0,:,0,:]\n",
    "    sigma0 = gsw.sigma0(sal,temp)\n",
    "    DIC = test_LO['DIC'][0,:,0,:]\n",
    "    TA = test_LO['TA'][0,:,0,:]\n",
    "    O2 = test_LO['OXY'][0,:,0,:]\n",
    "    depth_this = np.zeros_like(TA)\n",
    "    zeros = np.zeros_like(TA)\n",
    "    #depth_this - array of depths of same shape as DIC\n",
    "    for i in range(0,950):\n",
    "        depth_this[:,i] = zlevels\n",
    " \n",
    " ### GET AGE AND WATERMASS WITNESSED CO2   \n",
    "    #calculate pycnal's last surfacing, according to exp function\n",
    "    #found using cfc ages\n",
    "    params0 = 0.1301889490932413\n",
    "    params1 = 3.8509914822057825\n",
    "    params2 = 8.301166081413104 #change to 2015 since model year is 2015\n",
    "\n",
    "\n",
    "    water_age = (params0 *np.exp(-params1*(25.15-sigma0))+params2)\n",
    "    # year_watermass_at_surface = int(targetyear - age)\n",
    "    # watermass_witnessed_co2_obs = int(hm.co2_from_year(scen,year_watermass_at_surface))\n",
    "\n",
    "    #get witnessed co2 both of the present day water parcel and the target year water parcel\n",
    "    obs_year_ar = np.zeros_like(water_age)\n",
    "    obs_year_ar[:] = obs_year\n",
    "    \n",
    "    target_year_ar = np.zeros_like(water_age)\n",
    "    target_year_ar[:] = target_year\n",
    "    \n",
    "    year_watermass_at_surface = (obs_year_ar - water_age).astype(int)\n",
    "    watermass_witnessed_co2_obs = hm.co2_from_year(scen,year_watermass_at_surface)\n",
    "    print(np.min(watermass_witnessed_co2_obs))\n",
    "    print(np.shape(watermass_witnessed_co2_obs))\n",
    "    watermass_witnessed_co2_target = \\\n",
    "    hm.co2_from_year(scen,year_watermass_at_surface+(target_year_ar-obs_year_ar))\n",
    "\n",
    "###GET AOU\n",
    "#(1) estimate AOU on 26 (assoc with water parcel with DIC_{w,2019,26,jdf})\n",
    "# = f(O2_{w,2019,26,jdf},S_{w,2019,26,jdf},T_{w,2019,26,jdf}, P_{w,2019,26,jdf})\n",
    "#(P is there to determine T when last at surface - I'll call it preT next)\n",
    "    AOU_stoich = hm.get_AOU_stoich(sal,temp,O2,sigma0,water_age)\n",
    "\n",
    " ### GET PREFORMED DIC        \n",
    "    obs_preformed_dic = DIC - AOU_stoich\n",
    "\n",
    "#### get preformed pco2 and target year preformed pco2\n",
    "    pHr, OmAr, pco2r = hm.oned_moxy(sal, temp, obs_preformed_dic, TA, 1, np.zeros_like(sal))\n",
    "    obsyear_pref_pco2 = pco2r\n",
    "    diseqPCO2 = obsyear_pref_pco2 - watermass_witnessed_co2_obs\n",
    "    targetyear_pref_pco2 = watermass_witnessed_co2_target + diseqPCO2\n",
    "\n",
    "    print('calculating target year preformed DIC')    \n",
    "    target_preformed_dic = np.zeros_like(DIC)\n",
    "    target_preformed_dic_r = np.ravel(target_preformed_dic)\n",
    "    targetyear_pref_pco2_r = np.ravel(targetyear_pref_pco2)\n",
    "    depth_r = np.ravel(depth_this)\n",
    "    sal_r = np.ravel(sal)\n",
    "    temp_r = np.ravel(temp)\n",
    "    TA_r = np.ravel(TA)\n",
    "    zeros_r = np.zeros_like(TA_r)\n",
    "    sigma0_r = np.ravel(sigma0)\n",
    " \n",
    "    start = time.time()\n",
    "    \n",
    "    for i in range(0,len(TA_r)):\n",
    "        if i%(950*5) == 0:\n",
    "            print(f'level: {i/(950*5)}')\n",
    "        ### the surface needs better handling    \n",
    "        if sigma0_r[i] < 25.0:\n",
    "            target_preformed_dic_r[i] = 9999\n",
    "        #### the bottom can be actually taken from the cell right above it, no need to do this painful calculation\n",
    "        if depth_r[i] > 330:\n",
    "            target_preformed_dic_r[i] = 6666\n",
    "        else: \n",
    "            t_dic = hm.find_DIC_corresp_to_pco2(sal_r[i], temp_r[i], targetyear_pref_pco2_r[i], TA_r[i], 1, 0)\n",
    "            target_preformed_dic_r[i] = t_dic\n",
    "    \n",
    "    \n",
    "    print('seconds taken at the hard part')\n",
    "    print(time.time()-start)\n",
    "    \n",
    "#     deltaDIC = obs_preformed_dic - target_preformed_dic\n",
    "            \n",
    "#     print('max deltaDIC: '+str(np.max(deltaDIC)) + ', min deltaDIC: '+ str(np.min(deltaDIC)))\n",
    "\n",
    "#     final_target_DIC = DIC - deltaDIC\n",
    "    \n",
    "    ## the top and bottom can be dealt with differently\n",
    "\n",
    "    DIC_r = np.ravel(DIC)\n",
    "    obs_preformed_dic_r = np.ravel(obs_preformed_dic)\n",
    "    deltaDIC_r = obs_preformed_dic_r - target_preformed_dic_r\n",
    "    final_target_DIC_r = DIC_r - deltaDIC_r\n",
    "    \n",
    "    for i in range(0,len(TA_r)):\n",
    "        if sigma0_r[i] < 25.0:\n",
    "            deltaDIC_r[i] = 9999\n",
    "            obs_preformed_dic_r[i] = 9999\n",
    "            target_preformed_dic_r[i] = 9999\n",
    "            final_target_DIC_r[i] = 9999\n",
    "            \n",
    "        if depth_r[i] > 330:    \n",
    "            deltaDIC_r[i] = 6666\n",
    "            obs_preformed_dic_r[i] = 6666\n",
    "            target_preformed_dic_r[i] = 6666\n",
    "            final_target_DIC_r[i] = 6666\n",
    "\n",
    "    deltaDIC = deltaDIC_r.reshape(40,950)\n",
    "    obs_preformed_dic = obs_preformed_dic_r.reshape(40,950)\n",
    "    target_preformed_dic = target_preformed_dic_r.reshape(40,950)\n",
    "    final_target_DIC = final_target_DIC_r.reshape(40,950)\n",
    "    #target_preformed_dic = target_preformed_dic_r.reshape(40,950)\n",
    "            \n",
    "#     target_year_ar = np.zeros_like(final_target_DIC)\n",
    "#     target_year_ar[:] = target_year\n",
    "    \n",
    "    f = nc.Dataset(f'./JdF_future_DIC/LO_TY_{target_year}_scen_{scen}_{ymd}_DIC_nosurfnodeep.nc','w', format='NETCDF4') #'w' stands for write\n",
    "    g = f.createGroup('preindustrial_DIC')\n",
    "    g.createDimension('xval', 950)\n",
    "    g.createDimension('depth', 40)\n",
    "    g.createDimension('single', 1)\n",
    "    \n",
    "    ts = g.createVariable('sigma0','f4',('depth','xval'))\n",
    "    ts[:] = sigma0\n",
    "\n",
    "    ts2 = g.createVariable('water_age','f4',('depth','xval'))\n",
    "    ts2[:] = water_age\n",
    "\n",
    "    ts2a = g.createVariable('target_year','f4',('single'))\n",
    "    ts2a[:] = target_year  \n",
    "\n",
    "#     ts3 = g.createVariable('watermass_witnessed_co2_obs','f4',('depth','xval'))\n",
    "#     ts3[:] = watermass_witnessed_co2_obs\n",
    "\n",
    "#     ts3a = g.createVariable('watermass_witnessed_co2_target','f4',('depth','xval'))\n",
    "#     ts3a[:] = watermass_witnessed_co2_target\n",
    "    \n",
    "    ts4 = g.createVariable('AOU_stoich','f4',('depth','xval'))\n",
    "    ts4[:] = AOU_stoich\n",
    "    \n",
    "    ts5 = g.createVariable('obsyear_pref_pco2','f4',('depth','xval'))\n",
    "    ts5[:] = obsyear_pref_pco2\n",
    "    ts5a = g.createVariable('targetyear_pref_pco2','f4',('depth','xval'))\n",
    "    ts5a[:] = targetyear_pref_pco2\n",
    "    \n",
    "    ts5b = g.createVariable('obsyear_pref_dic','f4',('depth','xval'))\n",
    "    ts5b[:] = obs_preformed_dic\n",
    "    ts5c = g.createVariable('targetyear_pref_dic','f4',('depth','xval'))\n",
    "    ts5c[:] = target_preformed_dic\n",
    "    \n",
    "    ts6 = g.createVariable('final_target_DIC','f4',('depth','xval'))\n",
    "    ts6[:] = final_target_DIC\n",
    "\n",
    "    f.close()\n",
    "\n"
   ]
  },
  {
   "cell_type": "code",
   "execution_count": 6,
   "metadata": {},
   "outputs": [],
   "source": [
    "# ymd = 'y2017m01d06'\n",
    "# tstr = f'/results/forcing/LiveOcean/boundary_conditions/LiveOcean_v201905_{ymd}.nc'\n",
    "\n",
    "# test_LO = nc.Dataset(tstr)\n",
    "\n",
    "# zlevels = (test_LO['deptht'][:])\n",
    "# sal = test_LO['vosaline'][0,:,0,:]\n",
    "# temp = test_LO['votemper'][0,:,0,:]\n",
    "# sigma0 = gsw.sigma0(sal,temp)\n",
    "# DIC = test_LO['DIC'][0,:,0,:]\n",
    "# TA = test_LO['TA'][0,:,0,:]\n",
    "# O2 = test_LO['OXY'][0,:,0,:]\n",
    "# depth_this = np.zeros_like(TA)\n",
    "# zeros = np.zeros_like(TA)\n",
    "# #depth_this - array of depths of same shape as DIC\n",
    "# for i in range(0,950):\n",
    "#     depth_this[:,i] = zlevels\n",
    "\n",
    "# tshal = 34\n",
    "# print(w['deptht'][tshal:-1])\n",
    "# print()\n",
    "# print(w['TA'][0,tshal:-1,0,50])\n",
    "# print()\n",
    "# print(w['TA'][0,tshal:-1,0,90])\n",
    "\n",
    "# print(w['deptht'][35])\n",
    "# for i in range (0,95):\n",
    "#     print(w['votemper'][0,35,0,i]-w['votemper'][0,34,0,i])"
   ]
  },
  {
   "cell_type": "code",
   "execution_count": 7,
   "metadata": {},
   "outputs": [
    {
     "name": "stdout",
     "output_type": "stream",
     "text": [
      "2017-01-01T00:00:00+00:00\n",
      "341\n",
      "(40, 950)\n",
      "calculating target year preformed DIC\n",
      "level: 0.0\n"
     ]
    },
    {
     "ename": "KeyboardInterrupt",
     "evalue": "",
     "output_type": "error",
     "traceback": [
      "\u001b[0;31m---------------------------------------------------------------------------\u001b[0m",
      "\u001b[0;31mKeyboardInterrupt\u001b[0m                         Traceback (most recent call last)",
      "\u001b[0;32m<ipython-input-7-fa87c0971daf>\u001b[0m in \u001b[0;36m<module>\u001b[0;34m\u001b[0m\n\u001b[1;32m      9\u001b[0m \u001b[0;34m\u001b[0m\u001b[0m\n\u001b[1;32m     10\u001b[0m \u001b[0mstart\u001b[0m \u001b[0;34m=\u001b[0m \u001b[0mtime\u001b[0m\u001b[0;34m.\u001b[0m\u001b[0mtime\u001b[0m\u001b[0;34m(\u001b[0m\u001b[0;34m)\u001b[0m\u001b[0;34m\u001b[0m\u001b[0;34m\u001b[0m\u001b[0m\n\u001b[0;32m---> 11\u001b[0;31m \u001b[0mcalc_preind_co2_AOU_method\u001b[0m\u001b[0;34m(\u001b[0m\u001b[0mstart_run\u001b[0m\u001b[0;34m,\u001b[0m \u001b[0;36m2017\u001b[0m\u001b[0;34m,\u001b[0m \u001b[0;36m2050\u001b[0m\u001b[0;34m,\u001b[0m \u001b[0;34m'2_4pt5'\u001b[0m\u001b[0;34m)\u001b[0m\u001b[0;34m\u001b[0m\u001b[0;34m\u001b[0m\u001b[0m\n\u001b[0m\u001b[1;32m     12\u001b[0m \u001b[0mprint\u001b[0m\u001b[0;34m(\u001b[0m\u001b[0;34m'seconds taken'\u001b[0m\u001b[0;34m)\u001b[0m\u001b[0;34m\u001b[0m\u001b[0;34m\u001b[0m\u001b[0m\n\u001b[1;32m     13\u001b[0m \u001b[0mprint\u001b[0m\u001b[0;34m(\u001b[0m\u001b[0mtime\u001b[0m\u001b[0;34m.\u001b[0m\u001b[0mtime\u001b[0m\u001b[0;34m(\u001b[0m\u001b[0;34m)\u001b[0m\u001b[0;34m-\u001b[0m\u001b[0mstart\u001b[0m\u001b[0;34m)\u001b[0m\u001b[0;34m\u001b[0m\u001b[0;34m\u001b[0m\u001b[0m\n",
      "\u001b[0;32m<ipython-input-5-302ecf567b8c>\u001b[0m in \u001b[0;36mcalc_preind_co2_AOU_method\u001b[0;34m(arrowdate, obs_year, target_year, scen)\u001b[0m\n\u001b[1;32m     90\u001b[0m             \u001b[0mtarget_preformed_dic_r\u001b[0m\u001b[0;34m[\u001b[0m\u001b[0mi\u001b[0m\u001b[0;34m]\u001b[0m \u001b[0;34m=\u001b[0m \u001b[0;36m6666\u001b[0m\u001b[0;34m\u001b[0m\u001b[0;34m\u001b[0m\u001b[0m\n\u001b[1;32m     91\u001b[0m         \u001b[0;32melse\u001b[0m\u001b[0;34m:\u001b[0m\u001b[0;34m\u001b[0m\u001b[0;34m\u001b[0m\u001b[0m\n\u001b[0;32m---> 92\u001b[0;31m             \u001b[0mt_dic\u001b[0m \u001b[0;34m=\u001b[0m \u001b[0mhm\u001b[0m\u001b[0;34m.\u001b[0m\u001b[0mfind_DIC_corresp_to_pco2\u001b[0m\u001b[0;34m(\u001b[0m\u001b[0msal_r\u001b[0m\u001b[0;34m[\u001b[0m\u001b[0mi\u001b[0m\u001b[0;34m]\u001b[0m\u001b[0;34m,\u001b[0m \u001b[0mtemp_r\u001b[0m\u001b[0;34m[\u001b[0m\u001b[0mi\u001b[0m\u001b[0;34m]\u001b[0m\u001b[0;34m,\u001b[0m \u001b[0mtargetyear_pref_pco2_r\u001b[0m\u001b[0;34m[\u001b[0m\u001b[0mi\u001b[0m\u001b[0;34m]\u001b[0m\u001b[0;34m,\u001b[0m \u001b[0mTA_r\u001b[0m\u001b[0;34m[\u001b[0m\u001b[0mi\u001b[0m\u001b[0;34m]\u001b[0m\u001b[0;34m,\u001b[0m \u001b[0;36m1\u001b[0m\u001b[0;34m,\u001b[0m \u001b[0;36m0\u001b[0m\u001b[0;34m)\u001b[0m\u001b[0;34m\u001b[0m\u001b[0;34m\u001b[0m\u001b[0m\n\u001b[0m\u001b[1;32m     93\u001b[0m             \u001b[0mtarget_preformed_dic_r\u001b[0m\u001b[0;34m[\u001b[0m\u001b[0mi\u001b[0m\u001b[0;34m]\u001b[0m \u001b[0;34m=\u001b[0m \u001b[0mt_dic\u001b[0m\u001b[0;34m\u001b[0m\u001b[0;34m\u001b[0m\u001b[0m\n\u001b[1;32m     94\u001b[0m \u001b[0;34m\u001b[0m\u001b[0m\n",
      "\u001b[0;32m/ocean/tjarniko/MEOPAR/analysis_tereza/notebooks/RIVER_PAPER/future_pilot/BC_helper_methods.py\u001b[0m in \u001b[0;36mfind_DIC_corresp_to_pco2\u001b[0;34m(tsal, ttemp, tpco2, tta, pres_atm, depth_this)\u001b[0m\n\u001b[1;32m     44\u001b[0m                        \u001b[0msil\u001b[0m\u001b[0;34m=\u001b[0m\u001b[0mtzero\u001b[0m\u001b[0;34m,\u001b[0m \u001b[0mphos\u001b[0m\u001b[0;34m=\u001b[0m\u001b[0mtzero\u001b[0m\u001b[0;34m,\u001b[0m \u001b[0mpatm\u001b[0m\u001b[0;34m=\u001b[0m\u001b[0mtpres_r\u001b[0m\u001b[0;34m,\u001b[0m \u001b[0mdepth\u001b[0m\u001b[0;34m=\u001b[0m\u001b[0mdepth_r\u001b[0m\u001b[0;34m,\u001b[0m \u001b[0mlat\u001b[0m\u001b[0;34m=\u001b[0m\u001b[0mtzero\u001b[0m\u001b[0;34m,\u001b[0m\u001b[0;34m\u001b[0m\u001b[0;34m\u001b[0m\u001b[0m\n\u001b[1;32m     45\u001b[0m                         \u001b[0moptcon\u001b[0m\u001b[0;34m=\u001b[0m\u001b[0;34m'mol/m3'\u001b[0m\u001b[0;34m,\u001b[0m \u001b[0moptt\u001b[0m\u001b[0;34m=\u001b[0m\u001b[0;34m'Tpot'\u001b[0m\u001b[0;34m,\u001b[0m \u001b[0moptp\u001b[0m\u001b[0;34m=\u001b[0m\u001b[0;34m'm'\u001b[0m\u001b[0;34m,\u001b[0m\u001b[0;34m\u001b[0m\u001b[0;34m\u001b[0m\u001b[0m\n\u001b[0;32m---> 46\u001b[0;31m                         optb = 'l10', optk1k2='m10', optkf = 'dg', optgas = 'Pinsitu')\n\u001b[0m\u001b[1;32m     47\u001b[0m     \u001b[0mpH\u001b[0m\u001b[0;34m,\u001b[0m\u001b[0mpco2\u001b[0m\u001b[0;34m,\u001b[0m\u001b[0mfco2\u001b[0m\u001b[0;34m,\u001b[0m\u001b[0mco2\u001b[0m\u001b[0;34m,\u001b[0m\u001b[0mhco3\u001b[0m\u001b[0;34m,\u001b[0m\u001b[0mco3\u001b[0m\u001b[0;34m,\u001b[0m\u001b[0mOmegaA\u001b[0m\u001b[0;34m,\u001b[0m\u001b[0mOmegaC\u001b[0m\u001b[0;34m,\u001b[0m\u001b[0mBetaD\u001b[0m\u001b[0;34m,\u001b[0m\u001b[0mDENis\u001b[0m\u001b[0;34m,\u001b[0m\u001b[0mp\u001b[0m\u001b[0;34m,\u001b[0m\u001b[0mTis\u001b[0m \u001b[0;34m=\u001b[0m \u001b[0mresponse_tup\u001b[0m\u001b[0;34m\u001b[0m\u001b[0;34m\u001b[0m\u001b[0m\n\u001b[1;32m     48\u001b[0m \u001b[0;34m\u001b[0m\u001b[0m\n",
      "\u001b[0;31mKeyboardInterrupt\u001b[0m: "
     ]
    }
   ],
   "source": [
    "import time\n",
    "import BC_helper_methods as hm\n",
    "import importlib\n",
    "importlib.reload(hm)\n",
    "\n",
    "\n",
    "start = '2017-01-01'\n",
    "start_run = arrow.get(start)\n",
    "\n",
    "start = time.time()\n",
    "calc_preind_co2_AOU_method(start_run, 2017, 2050, '2_4pt5')\n",
    "print('seconds taken')\n",
    "print(time.time()-start)"
   ]
  },
  {
   "cell_type": "code",
   "execution_count": 8,
   "metadata": {},
   "outputs": [
    {
     "ename": "SyntaxError",
     "evalue": "invalid syntax (<ipython-input-8-49a9c3d84a4c>, line 1)",
     "output_type": "error",
     "traceback": [
      "\u001b[0;36m  File \u001b[0;32m\"<ipython-input-8-49a9c3d84a4c>\"\u001b[0;36m, line \u001b[0;32m1\u001b[0m\n\u001b[0;31m    def deltaDIC_method()\u001b[0m\n\u001b[0m                         ^\u001b[0m\n\u001b[0;31mSyntaxError\u001b[0m\u001b[0;31m:\u001b[0m invalid syntax\n"
     ]
    }
   ],
   "source": [
    "def deltaDIC_method()"
   ]
  },
  {
   "cell_type": "code",
   "execution_count": 9,
   "metadata": {},
   "outputs": [
    {
     "name": "stdout",
     "output_type": "stream",
     "text": [
      "<class 'netCDF4._netCDF4.Group'>\n",
      "group /preindustrial_DIC:\n",
      "    dimensions(sizes): xval(950), depth(40), single(1)\n",
      "    variables(dimensions): float32 \u001b[4msigma0\u001b[0m(depth,xval), float32 \u001b[4mwater_age\u001b[0m(depth,xval), float32 \u001b[4mtarget_year\u001b[0m(single), float32 \u001b[4mAOU_stoich\u001b[0m(depth,xval), float32 \u001b[4mobsyear_pref_pco2\u001b[0m(depth,xval), float32 \u001b[4mtargetyear_pref_pco2\u001b[0m(depth,xval), float32 \u001b[4mobsyear_pref_dic\u001b[0m(depth,xval), float32 \u001b[4mtargetyear_pref_dic\u001b[0m(depth,xval), float32 \u001b[4mfinal_target_DIC\u001b[0m(depth,xval)\n",
      "    groups: \n",
      "\n"
     ]
    }
   ],
   "source": [
    "w = nc.Dataset('./JdF_future_DIC/LO_TY_2050_scen_2_4pt5_y2017m01d01_DIC_nosurfnodeep.nc')\n",
    "print(w['preindustrial_DIC'])"
   ]
  },
  {
   "cell_type": "code",
   "execution_count": 11,
   "metadata": {},
   "outputs": [
    {
     "name": "stderr",
     "output_type": "stream",
     "text": [
      "/home/tjarniko/anaconda3/lib/python3.7/site-packages/ipykernel_launcher.py:12: MatplotlibDeprecationWarning: shading='flat' when X and Y have the same dimensions as C is deprecated since 3.3.  Either specify the corners of the quadrilaterals with X and Y, or pass shading='auto', 'nearest' or 'gouraud', or set rcParams['pcolor.shading'].  This will become an error two minor releases later.\n",
      "  if sys.path[0] == '':\n",
      "/home/tjarniko/anaconda3/lib/python3.7/site-packages/ipykernel_launcher.py:23: MatplotlibDeprecationWarning: shading='flat' when X and Y have the same dimensions as C is deprecated since 3.3.  Either specify the corners of the quadrilaterals with X and Y, or pass shading='auto', 'nearest' or 'gouraud', or set rcParams['pcolor.shading'].  This will become an error two minor releases later.\n",
      "/home/tjarniko/anaconda3/lib/python3.7/site-packages/ipykernel_launcher.py:35: MatplotlibDeprecationWarning: shading='flat' when X and Y have the same dimensions as C is deprecated since 3.3.  Either specify the corners of the quadrilaterals with X and Y, or pass shading='auto', 'nearest' or 'gouraud', or set rcParams['pcolor.shading'].  This will become an error two minor releases later.\n",
      "/home/tjarniko/anaconda3/lib/python3.7/site-packages/ipykernel_launcher.py:46: MatplotlibDeprecationWarning: shading='flat' when X and Y have the same dimensions as C is deprecated since 3.3.  Either specify the corners of the quadrilaterals with X and Y, or pass shading='auto', 'nearest' or 'gouraud', or set rcParams['pcolor.shading'].  This will become an error two minor releases later.\n",
      "/home/tjarniko/anaconda3/lib/python3.7/site-packages/ipykernel_launcher.py:59: MatplotlibDeprecationWarning: shading='flat' when X and Y have the same dimensions as C is deprecated since 3.3.  Either specify the corners of the quadrilaterals with X and Y, or pass shading='auto', 'nearest' or 'gouraud', or set rcParams['pcolor.shading'].  This will become an error two minor releases later.\n"
     ]
    },
    {
     "data": {
      "image/png": "[encoded data removed]",
      "text/plain": [
       "<Figure size 792x252 with 10 Axes>"
      ]
     },
     "metadata": {
      "needs_background": "light"
     },
     "output_type": "display_data"
    }
   ],
   "source": [
    "tcmap = cm.cm.deep\n",
    "cmap = tcmap\n",
    "test_LO = nc.Dataset('/results/forcing/LiveOcean/boundary_conditions/LiveOcean_v201905_y2018m01d01.nc')\n",
    "zlevels = (test_LO['deptht'][:])\n",
    "\n",
    "fig = plt.figure(figsize=(11,3.5))\n",
    "\n",
    "ax = fig.add_subplot(1,5,1)\n",
    "section_slice = np.arange(0, 95)\n",
    "sd = (w['preindustrial_DIC']['sigma0'][:,0:95])\n",
    "tplt = np.ma.masked_values(sd,0)\n",
    "mesh = ax.pcolormesh(section_slice[:],zlevels[:],tplt[:,:], cmap = tcmap)\n",
    "cbar = fig.colorbar(mesh, ax=ax)\n",
    "ax.invert_yaxis()\n",
    "plt.title('sigma0') \n",
    "ax.set_ylabel('depth')\n",
    "ax.set_xticklabels([])\n",
    "\n",
    "ax = fig.add_subplot(1,5,2)\n",
    "section_slice = np.arange(0, 95)\n",
    "sd = (w['preindustrial_DIC']['water_age'][:,0:95])\n",
    "tplt = np.ma.masked_values(sd,0)\n",
    "mesh = ax.pcolormesh(section_slice[:],zlevels[:],tplt[:,:], cmap = tcmap)\n",
    "cbar = fig.colorbar(mesh, ax=ax)\n",
    "ax.invert_yaxis()\n",
    "plt.title('water_age') \n",
    "ax.set_ylabel('depth')\n",
    "ax.set_xticklabels([])\n",
    "\n",
    "\n",
    "ax = fig.add_subplot(1,5,3)\n",
    "section_slice = np.arange(0, 95)\n",
    "sd = (w['preindustrial_DIC']['AOU_stoich'][:,0:95])\n",
    "tplt = np.ma.masked_values(sd,0)\n",
    "mesh = ax.pcolormesh(section_slice[:],zlevels[:],tplt[:,:], cmap = tcmap)\n",
    "cbar = fig.colorbar(mesh, ax=ax)\n",
    "ax.invert_yaxis()\n",
    "plt.title('stoichiometric AOU') \n",
    "ax.set_ylabel('depth')\n",
    "ax.set_xticklabels([])\n",
    "\n",
    "ax = fig.add_subplot(1,5,4)\n",
    "section_slice = np.arange(0, 95)\n",
    "sd = (w['preindustrial_DIC']['final_target_DIC'][:,0:95])\n",
    "tplt = np.ma.masked_values(sd,0)\n",
    "mesh = ax.pcolormesh(section_slice[:],zlevels[:],tplt[:,:], cmap = tcmap)\n",
    "cbar = fig.colorbar(mesh, ax=ax)\n",
    "ax.invert_yaxis()\n",
    "plt.title('final target DIC') \n",
    "ax.set_ylabel('depth')\n",
    "ax.set_xticklabels([])\n",
    "\n",
    "\n",
    "ax = fig.add_subplot(1,5,5)\n",
    "section_slice = np.arange(0, 95)\n",
    "sd = (w['preindustrial_DIC']['targetyear_pref_dic'][:,0:95]-\\\n",
    "     w['preindustrial_DIC']['obsyear_pref_dic'][:,0:95])\n",
    "tplt = np.ma.masked_values(sd,0)\n",
    "mesh = ax.pcolormesh(section_slice[:],zlevels[:],tplt[:,:], cmap = tcmap)\n",
    "cbar = fig.colorbar(mesh, ax=ax)\n",
    "ax.invert_yaxis()\n",
    "plt.title('DIC intrusion yr 2050') \n",
    "ax.set_ylabel('depth')\n",
    "ax.set_xticklabels([])\n",
    "        \n",
    "plt.suptitle('y2015m01d01 - basic parameters and extra DIC, year 2050, SSP245 ', fontsize = 15)\n",
    "plt.tight_layout()"
   ]
  },
  {
   "cell_type": "code",
   "execution_count": null,
   "metadata": {},
   "outputs": [],
   "source": [
    "q = w['preindustrial_DIC']['AOU_stoich'][:,0:95]\n",
    "print(q)"
   ]
  },
  {
   "cell_type": "code",
   "execution_count": null,
   "metadata": {},
   "outputs": [],
   "source": []
  }
 ],
 "metadata": {
  "kernelspec": {
   "display_name": "Python 3",
   "language": "python",
   "name": "python3"
  },
  "language_info": {
   "codemirror_mode": {
    "name": "ipython",
    "version": 3
   },
   "file_extension": ".py",
   "mimetype": "text/x-python",
   "name": "python",
   "nbconvert_exporter": "python",
   "pygments_lexer": "ipython3",
   "version": "3.7.4"
  }
 },
 "nbformat": 4,
 "nbformat_minor": 2
}
