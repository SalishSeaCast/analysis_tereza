{
 "cells": [
  {
   "cell_type": "code",
   "execution_count": null,
   "metadata": {},
   "outputs": [],
   "source": []
  },
  {
   "cell_type": "markdown",
   "metadata": {},
   "source": [
    "#### this notebook did it for PILA:\n",
    "http://localhost:8805/notebooks/notebooks/PI_CARBON_PAPER/PI_BOUND_COND/CLEAN/calculate_JS_bcs_using_AOU.ipynb\n",
    "\n",
    "### 1 find surface intrusion at JS with PACELLA method\n",
    "\n",
    "\n",
    "### 2 locate at-depth intrusion at 26.1 at JDF\n",
    "\n",
    "### plot linear relationship of means intrusion vs salinity.\n",
    "\n",
    "### get intrusion from salinity\n",
    "\n"
   ]
  },
  {
   "cell_type": "code",
   "execution_count": 1,
   "metadata": {},
   "outputs": [],
   "source": [
    "import matplotlib.pyplot as plt\n",
    "import netCDF4 as nc\n",
    "import numpy as np\n",
    "import scipy as sp\n",
    "import pandas as pd\n",
    "import seawater\n",
    "import datetime as dt\n",
    "\"\"\n",
    "from salishsea_tools import (\n",
    "    nc_tools,\n",
    "    viz_tools,\n",
    "    geo_tools,\n",
    "    tidetools\n",
    ")\n",
    "\n",
    "import matplotlib\n",
    "matplotlib.use('Agg')\n",
    "import matplotlib.pyplot as plt\n",
    "import matplotlib.patches as patches\n",
    "plt.style.use('seaborn-whitegrid')\n",
    "import netCDF4 as nc\n",
    "import pickle\n",
    "import cmocean as cm\n",
    "import glob\n",
    "import sys\n",
    "sys.path.append('/data/tjarniko/mocsy')\n",
    "import mocsy\n",
    "\n",
    "#from matplotlib import reload\n",
    "import arrow\n",
    "import gsw\n",
    "import time\n",
    "\n",
    "%matplotlib inline\n",
    "\n",
    "plt.rcParams.update({'font.size': 20,\n",
    "                     'xtick.labelsize' : 20,\n",
    "                     'ytick.labelsize' : 20})"
   ]
  },
  {
   "cell_type": "code",
   "execution_count": 2,
   "metadata": {},
   "outputs": [],
   "source": [
    "#LO_AOUmethod_stoicCO_diseq_allup_y2015m12d29_preind_DIC.nc\n",
    "start ='2017-01-01'\n",
    "end ='2017-12-31'\n",
    "\n",
    "start_run = arrow.get(start)\n",
    "end_run = arrow.get(end)\n",
    "\n",
    "arrow_array = []\n",
    "\n",
    "for r in arrow.Arrow.span_range('day', start_run, end_run):\n",
    "    arrow_array.append(r)\n",
    "\n",
    "\n",
    "newCAR_DIC = np.zeros([365,40,950])\n",
    "newCAR_sigma0 = np.zeros([365,40,950])\n",
    "for i in range(0,365):\n",
    "\n",
    "    tdate = arrow_array[i][0]\n",
    "    yy = tdate.format('YYYY')\n",
    "    mm = tdate.format('MM')\n",
    "    dd = tdate.format('DD')\n",
    "    ymd = f'y{yy}m{mm}d{dd}'\n",
    "\n",
    "#     if i%60 == 0:\n",
    "        #print(ymd)\n",
    "    \n",
    "    newCAR =  nc.Dataset(f'./JdF_future_DIC/stitched/LO_TY_2050_scen_2_4pt5_{ymd}_DIC_nosurfnodeep.nc')\n",
    "    #print(newCAR['preindustrial_DIC'])\n",
    "    #newCAR = nc.Dataset(f'./preind_DIC/LO_AOUmethod_stoicCO_diseq_allup_{ymd}_preind_DIC.nc')\n",
    "   # print(newCAR)\n",
    "    #newCAR_DIC[i,:,:] = newCAR['preindustrial_DIC']['preind_dic'][:,:] \n",
    "    newCAR_sigma0[i,:,:] = newCAR['preindustrial_DIC']['sigma0'][:,:] \n",
    "    newCAR_DIC[i,:,:] = newCAR['preindustrial_DIC']['final_target_DIC'][:,:] \n",
    "    newCAR.close()"
   ]
  },
  {
   "cell_type": "code",
   "execution_count": 3,
   "metadata": {},
   "outputs": [],
   "source": [
    "#retreive present day DIC and salinity\n",
    "presday_DIC = np.zeros([365,40,950])\n",
    "presday_TA = np.zeros([365,40,950])\n",
    "presday_sal = np.zeros([365,40,950])\n",
    "\n",
    "for i in range(0,365):\n",
    "\n",
    "    tdate = arrow_array[i][0]\n",
    "    #ymd = tdate.format('YYYY')\n",
    "    yy = tdate.format('YYYY')\n",
    "    mm = tdate.format('MM')\n",
    "    dd = tdate.format('DD')\n",
    "    ymd = f'y{yy}m{mm}d{dd}.nc'\n",
    "\n",
    "#     if i%60 == 0:\n",
    "#         #print(ymd)\n",
    "    presday = nc.Dataset(f'/results/forcing/LiveOcean/boundary_conditions/LiveOcean_v201905_{ymd}')\n",
    "    presday_DIC[i,:,:] = presday['DIC'][0,:,0,:]\n",
    "    presday_TA[i,:,:] = presday['TA'][0,:,0,:]\n",
    "    presday_sal[i,:,:] = presday['vosaline'][0,:,0,:]\n",
    "    presday.close()\n",
    "\n"
   ]
  },
  {
   "cell_type": "code",
   "execution_count": 6,
   "metadata": {},
   "outputs": [
    {
     "name": "stdout",
     "output_type": "stream",
     "text": [
      "9999.0\n"
     ]
    }
   ],
   "source": [
    "print(np.max(newCAR_DIC))\n",
    "\n",
    "newCAR_DIC[newCAR_DIC>3000] = np.nan"
   ]
  },
  {
   "cell_type": "code",
   "execution_count": 17,
   "metadata": {},
   "outputs": [],
   "source": [
    "### monthly means\n",
    "mean_sal_deep_EM = np.zeros([12])\n",
    "mean_intr_deep_EM = np.zeros([12])\n",
    "for i in range(0,12):\n",
    "#presday_sal \n",
    "    DIC_intrusion_mon = DIC_intrusion[i*30:(i+1)*30,:,:]\n",
    "    sig26 = (newCAR_sigma0[i*30:(i+1)*30,:,:] >26.0) & (newCAR_sigma0[i*30:(i+1)*30,:,:] < 26.1)\n",
    "    presday_sal_mon = presday_sal[i*30:(i+1)*30,:,:]\n",
    "    \n",
    "    mean_intr_deep_EM[i] = np.nanmean(DIC_intrusion_mon[sig26])\n",
    "    mean_sal_deep_EM[i] = np.nanmean(presday_sal_mon[sig26])"
   ]
  },
  {
   "cell_type": "code",
   "execution_count": 34,
   "metadata": {},
   "outputs": [
    {
     "name": "stdout",
     "output_type": "stream",
     "text": [
      "22.882837720044055\n",
      "28.05065373708155\n",
      "nan\n"
     ]
    },
    {
     "name": "stderr",
     "output_type": "stream",
     "text": [
      "/home/tjarniko/anaconda3/lib/python3.7/site-packages/ipykernel_launcher.py:9: RuntimeWarning: Mean of empty slice\n",
      "  if __name__ == '__main__':\n"
     ]
    },
    {
     "data": {
      "text/plain": [
       "Text(0, 0.5, 'DIC intrusion umol/L')"
      ]
     },
     "execution_count": 34,
     "metadata": {},
     "output_type": "execute_result"
    },
    {
     "data": {
      "image/png": "[encoded data removed]",
      "text/plain": [
       "<Figure size 691.2x345.6 with 1 Axes>"
      ]
     },
     "metadata": {
      "needs_background": "light"
     },
     "output_type": "display_data"
    }
   ],
   "source": [
    "np.shape(newCAR_sigma0)\n",
    "DIC_intrusion = newCAR_DIC-presday_DIC\n",
    "#presday_sal \n",
    "sig25 = (newCAR_sigma0 >25.0) & (newCAR_sigma0 < 25.1)\n",
    "print(np.nanmean(DIC_intrusion[sig25]))\n",
    "sig26 = (newCAR_sigma0 >26.0) & (newCAR_sigma0 < 26.1)\n",
    "print(np.nanmean(DIC_intrusion[sig26]))\n",
    "sig27 = (newCAR_sigma0 >27.0) & (newCAR_sigma0 < 27.1)\n",
    "print(np.nanmean(DIC_intrusion[sig27]))\n",
    "\n",
    "\n",
    "fact = 0.8\n",
    "fig, axs = plt.subplots(1,1, figsize=(12*fact, 6*fact), edgecolor='k')\n",
    "#axs = axs.ravel()\n",
    "\n",
    "#plt.xticks(rotation=70)\n",
    "axs.plot(presday_sal[sig25],DIC_intrusion[sig25],\n",
    "            color = 'k', marker = '.', linestyle = '', \\\n",
    "            label = 'JDF BC intrusion estimate \\n sigma0 >25 & sigma0 <25.1' )\n",
    "axs.plot(presday_sal[sig26],DIC_intrusion[sig26],\n",
    "            color = 'darkblue', marker = '.', linestyle = '', \\\n",
    "            label = 'JDF BC intrusion estimate \\n sigma0 >26 & sigma0 <26.1' )\n",
    "axs.plot(mean_sal_deep_EM,mean_intr_deep_EM, color = 'gold',\\\n",
    "         marker = '*',linestyle = '',\\\n",
    "         label = 'monthly means of the intrusion around sigma 26-26.1')\n",
    "\n",
    "#tsal_r_psu = tsal_r*35/35.16504\n",
    "\n",
    "axs.grid(b=True, which='major', color='b', linestyle='-')\n",
    "axs.legend(bbox_to_anchor = [1,1])\n",
    "axs.set_xlabel('salinity g/kg')\n",
    "axs.set_ylabel('DIC intrusion umol/L')\n"
   ]
  },
  {
   "cell_type": "code",
   "execution_count": 43,
   "metadata": {},
   "outputs": [
    {
     "data": {
      "text/plain": [
       "<module 'BC_helper_methods' from '/ocean/tjarniko/MEOPAR/analysis_tereza/notebooks/RIVER_PAPER/future_pilot/BC_helper_methods.py'>"
      ]
     },
     "execution_count": 43,
     "metadata": {},
     "output_type": "execute_result"
    }
   ],
   "source": [
    "\n",
    "import BC_helper_methods as hm\n",
    "import importlib\n",
    "importlib.reload(hm)"
   ]
  },
  {
   "cell_type": "code",
   "execution_count": 44,
   "metadata": {},
   "outputs": [
    {
     "name": "stdout",
     "output_type": "stream",
     "text": [
      "30.866781\n",
      "31.67721\n"
     ]
    },
    {
     "data": {
      "text/plain": [
       "[<matplotlib.lines.Line2D at 0x7f4a5d69f750>]"
      ]
     },
     "execution_count": 44,
     "metadata": {},
     "output_type": "execute_result"
    },
    {
     "data": {
      "image/png": "[encoded data removed]",
      "text/plain": [
       "<Figure size 432x288 with 1 Axes>"
      ]
     },
     "metadata": {
      "needs_background": "light"
     },
     "output_type": "display_data"
    }
   ],
   "source": [
    "presday_JS_bc = nc.Dataset('/data/tjarniko/MEOPAR/tracers/north/Dosser_north_TEOS10_DICTA.nc')\n",
    "presday_JS_bc_sal = presday_JS_bc['vosaline']\n",
    "presday_JS_bc_temp = presday_JS_bc['votemper']\n",
    "presday_JS_bc_DIC = presday_JS_bc['DIC']\n",
    "presday_JS_bc_TA = presday_JS_bc['TA']\n",
    "print(np.nanmean(presday_JS_bc_sal[:,0,:,:]))\n",
    "print(np.nanmean(presday_JS_bc_sal[:,39,:,:]))\n",
    "\n",
    "import gsw\n",
    "\n",
    "## basically 6 months 40 values\n",
    "\n",
    "# print(np.shape(presday_JS_bc_DIC))\n",
    "# print(presday_JS_bc_DIC[6,4,:,:])\n",
    "\n",
    "surface_sal_baby = presday_JS_bc_sal[:,0,0,0]\n",
    "surface_DIC_baby = presday_JS_bc_DIC[:,0,0,0]\n",
    "surface_TA_baby = presday_JS_bc_TA[:,0,0,0]\n",
    "surface_temp_baby = presday_JS_bc_temp[:,0,0,0]\n",
    "\n",
    "plt.plot(surface_sal_baby,surface_DIC_baby,'r*')\n",
    "plt.plot(surface_sal_baby,surface_TA_baby,'k*')\n",
    "\n"
   ]
  },
  {
   "cell_type": "code",
   "execution_count": 39,
   "metadata": {},
   "outputs": [],
   "source": [
    "def Pacella_TCO2(obs_year,target_year, scen, tsal, ttemp, dic, ta, verbose = False):\n",
    "    \n",
    "\n",
    "    watermass_witnessed_co2_obs = int(hm.co2_from_year_pointmeas(scen,obs_year))\n",
    "    watermass_witnessed_co2_target = int(hm.co2_from_year_pointmeas(scen,target_year))\n",
    "    \n",
    "    if verbose:\n",
    "        print(f'obs year: {obs_year}')\n",
    "        print(f'obs year co2: {watermass_witnessed_co2_obs}')\n",
    "        print(f'target year: {target_year}')\n",
    "        print(f'target year co2: {watermass_witnessed_co2_target}')\n",
    "    \n",
    "    DIC_obs_eq = hm.find_DIC_corresp_to_pco2(tsal, ttemp, watermass_witnessed_co2_obs, ta, 1, 0)\n",
    "    del_TCO2 = dic - DIC_obs_eq\n",
    "    \n",
    "    DIC_target_eq = hm.find_DIC_corresp_to_pco2(tsal, ttemp, watermass_witnessed_co2_target, ta, 1, 0)\n",
    "    DIC_target_final = DIC_target_eq + del_TCO2\n",
    "    DIC_intrusion = DIC_target_final-dic\n",
    "    #DIC_obs_real = hm.find_DIC_corresp_to_pco2(tsal, ttemp, watermass_witnessed_co2_obs, tta, 1, 0)\n",
    "    if verbose:\n",
    "        print('')\n",
    "        #print(del_TCO2)\n",
    "        print(f'this is what DIC would be at equilibrium (obs): {DIC_obs_eq}')\n",
    "        print(f'this is what DIC actually is (obs): {dic}')\n",
    "        print(f'this is the del TCO2: {del_TCO2}')\n",
    "        print(f'this is what DIC would be at equilibrium (target): {DIC_target_eq}')\n",
    "        print(f'this is what DIC actually should/would be (target): {DIC_target_eq + del_TCO2}')\n",
    "        print(f'this is the intrusion: {DIC_intrusion}')\n",
    "        \n",
    "    #print(f'this is the intrusion: {DIC_intrusion}')\n",
    "    return DIC_intrusion"
   ]
  },
  {
   "cell_type": "code",
   "execution_count": 45,
   "metadata": {},
   "outputs": [
    {
     "name": "stdout",
     "output_type": "stream",
     "text": [
      "obs year: 2017\n",
      "obs year co2: 407\n",
      "target year: 2050\n",
      "target year co2: 509\n",
      "\n",
      "this is what DIC would be at equilibrium (obs): 2010.659999999608\n",
      "this is what DIC actually is (obs): 2025.777587890625\n",
      "this is the del TCO2: 15.11758789101691\n",
      "this is what DIC would be at equilibrium (target): 2040.3599999995995\n",
      "this is what DIC actually should/would be (target): 2055.4775878906166\n",
      "this is the intrusion: 29.699999999991633\n",
      "walrus\n",
      "obs year: 2017\n",
      "obs year co2: 407\n",
      "target year: 2050\n",
      "target year co2: 509\n",
      "\n",
      "this is what DIC would be at equilibrium (obs): 2006.5199999996094\n",
      "this is what DIC actually is (obs): 2015.063232421875\n",
      "this is the del TCO2: 8.543232422265646\n",
      "this is what DIC would be at equilibrium (target): 2035.8599999996009\n",
      "this is what DIC actually should/would be (target): 2044.4032324218665\n",
      "this is the intrusion: 29.339999999991505\n",
      "walrus\n",
      "obs year: 2017\n",
      "obs year co2: 407\n",
      "target year: 2050\n",
      "target year co2: 509\n",
      "\n",
      "this is what DIC would be at equilibrium (obs): 2017.8599999996059\n",
      "this is what DIC actually is (obs): 2042.162109375\n",
      "this is the del TCO2: 24.30210937539414\n",
      "this is what DIC would be at equilibrium (target): 2047.559999999598\n",
      "this is what DIC actually should/would be (target): 2071.862109374992\n",
      "this is the intrusion: 29.699999999992087\n",
      "walrus\n",
      "obs year: 2017\n",
      "obs year co2: 407\n",
      "target year: 2050\n",
      "target year co2: 509\n",
      "\n",
      "this is what DIC would be at equilibrium (obs): 2002.0199999996105\n",
      "this is what DIC actually is (obs): 2017.6630859375\n",
      "this is the del TCO2: 15.64308593788951\n",
      "this is what DIC would be at equilibrium (target): 2032.0799999996023\n",
      "this is what DIC actually should/would be (target): 2047.7230859374918\n",
      "this is the intrusion: 30.05999999999176\n",
      "walrus\n",
      "obs year: 2017\n",
      "obs year co2: 407\n",
      "target year: 2050\n",
      "target year co2: 509\n",
      "\n",
      "this is what DIC would be at equilibrium (obs): 2009.0399999996084\n",
      "this is what DIC actually is (obs): 2043.723876953125\n",
      "this is the del TCO2: 34.683876953516574\n",
      "this is what DIC would be at equilibrium (target): 2039.8199999996\n",
      "this is what DIC actually should/would be (target): 2074.5038769531166\n",
      "this is the intrusion: 30.77999999999156\n",
      "walrus\n",
      "obs year: 2017\n",
      "obs year co2: 407\n",
      "target year: 2050\n",
      "target year co2: 509\n",
      "\n",
      "this is what DIC would be at equilibrium (obs): 1996.0799999996123\n",
      "this is what DIC actually is (obs): 2023.64794921875\n",
      "this is the del TCO2: 27.567949219137745\n",
      "this is what DIC would be at equilibrium (target): 2026.8599999996036\n",
      "this is what DIC actually should/would be (target): 2054.4279492187416\n",
      "this is the intrusion: 30.77999999999156\n",
      "walrus\n",
      "obs year: 2017\n",
      "obs year co2: 407\n",
      "target year: 2050\n",
      "target year co2: 509\n",
      "\n",
      "this is what DIC would be at equilibrium (obs): 2003.8199999996102\n",
      "this is what DIC actually is (obs): 2046.85302734375\n",
      "this is the del TCO2: 43.03302734413978\n",
      "this is what DIC would be at equilibrium (target): 2035.1399999996008\n",
      "this is what DIC actually should/would be (target): 2078.1730273437406\n",
      "this is the intrusion: 31.319999999990614\n",
      "walrus\n",
      "obs year: 2017\n",
      "obs year co2: 407\n",
      "target year: 2050\n",
      "target year co2: 509\n",
      "\n",
      "this is what DIC would be at equilibrium (obs): 2022.179999999605\n",
      "this is what DIC actually is (obs): 2092.08056640625\n",
      "this is the del TCO2: 69.90056640664511\n",
      "this is what DIC would be at equilibrium (target): 2054.219999999596\n",
      "this is what DIC actually should/would be (target): 2124.120566406241\n",
      "this is the intrusion: 32.03999999999087\n",
      "walrus\n",
      "obs year: 2017\n",
      "obs year co2: 407\n",
      "target year: 2050\n",
      "target year co2: 509\n",
      "\n",
      "this is what DIC would be at equilibrium (obs): 2026.3199999996036\n",
      "this is what DIC actually is (obs): 2095.943603515625\n",
      "this is the del TCO2: 69.62360351602138\n",
      "this is what DIC would be at equilibrium (target): 2058.1799999995947\n",
      "this is what DIC actually should/would be (target): 2127.803603515616\n",
      "this is the intrusion: 31.859999999991032\n",
      "walrus\n",
      "obs year: 2017\n",
      "obs year co2: 407\n",
      "target year: 2050\n",
      "target year co2: 509\n",
      "\n",
      "this is what DIC would be at equilibrium (obs): 2022.179999999605\n",
      "this is what DIC actually is (obs): 2081.117919921875\n",
      "this is the del TCO2: 58.93791992227011\n",
      "this is what DIC would be at equilibrium (target): 2053.4999999995966\n",
      "this is what DIC actually should/would be (target): 2112.4379199218665\n",
      "this is the intrusion: 31.319999999991524\n",
      "walrus\n",
      "obs year: 2017\n",
      "obs year co2: 407\n",
      "target year: 2050\n",
      "target year co2: 509\n",
      "\n",
      "this is what DIC would be at equilibrium (obs): 2017.4999999996062\n",
      "this is what DIC actually is (obs): 2062.322265625\n",
      "this is the del TCO2: 44.82226562539381\n",
      "this is what DIC would be at equilibrium (target): 2048.2799999995977\n",
      "this is what DIC actually should/would be (target): 2093.1022656249916\n",
      "this is the intrusion: 30.77999999999156\n",
      "walrus\n",
      "obs year: 2017\n",
      "obs year co2: 407\n",
      "target year: 2050\n",
      "target year co2: 509\n",
      "\n",
      "this is what DIC would be at equilibrium (obs): 2017.679999999606\n",
      "this is what DIC actually is (obs): 2054.12451171875\n",
      "this is the del TCO2: 36.444511719143975\n",
      "this is what DIC would be at equilibrium (target): 2048.0999999995975\n",
      "this is what DIC actually should/would be (target): 2084.5445117187414\n",
      "this is the intrusion: 30.419999999991433\n",
      "walrus\n"
     ]
    }
   ],
   "source": [
    "\n",
    "# surface_sal_baby = presday_JS_bc_sal[:,0,0,0]\n",
    "# surface_DIC_baby = presday_JS_bc_DIC[:,0,0,0]\n",
    "# surface_TA_baby = presday_JS_bc_TA[:,0,0,0]\n",
    "# surface_temp_baby = presday_JS_bc_temp[:,0,0,0]\n",
    "\n",
    "intrusion_baby = np.zeros_like(surface_sal_baby)\n",
    "\n",
    "for i in range(0,12):\n",
    "    intrusion_baby[i] = Pacella_TCO2(2017, 2050, '2_4pt5', \\\n",
    "                                surface_sal_baby[i], surface_temp_baby[i], \\\n",
    "                                     surface_DIC_baby[i], surface_TA_baby[i], verbose = True)\n",
    "    print('walrus')"
   ]
  },
  {
   "cell_type": "code",
   "execution_count": 49,
   "metadata": {},
   "outputs": [
    {
     "name": "stdout",
     "output_type": "stream",
     "text": [
      "30.866781\n",
      "31.67721\n"
     ]
    },
    {
     "data": {
      "text/plain": [
       "<matplotlib.legend.Legend at 0x7f4a5d309510>"
      ]
     },
     "execution_count": 49,
     "metadata": {},
     "output_type": "execute_result"
    },
    {
     "data": {
      "image/png": "[encoded data removed]",
      "text/plain": [
       "<Figure size 432x288 with 1 Axes>"
      ]
     },
     "metadata": {
      "needs_background": "light"
     },
     "output_type": "display_data"
    }
   ],
   "source": [
    "presday_JS_bc = nc.Dataset('/data/tjarniko/MEOPAR/tracers/north/Dosser_north_TEOS10_DICTA.nc')\n",
    "presday_JS_bc_sal = presday_JS_bc['vosaline']\n",
    "presday_JS_bc_temp = presday_JS_bc['votemper']\n",
    "presday_JS_bc_DIC = presday_JS_bc['DIC']\n",
    "presday_JS_bc_TA = presday_JS_bc['TA']\n",
    "print(np.nanmean(presday_JS_bc_sal[:,0,:,:]))\n",
    "print(np.nanmean(presday_JS_bc_sal[:,39,:,:]))\n",
    "\n",
    "import gsw\n",
    "\n",
    "## basically 6 months 40 values\n",
    "\n",
    "# print(np.shape(presday_JS_bc_DIC))\n",
    "# print(presday_JS_bc_DIC[6,4,:,:])\n",
    "\n",
    "surface_sal_baby = presday_JS_bc_sal[:,0,0,0]\n",
    "surface_DIC_baby = presday_JS_bc_DIC[:,0,0,0]\n",
    "surface_TA_baby = presday_JS_bc_TA[:,0,0,0]\n",
    "surface_temp_baby = presday_JS_bc_temp[:,0,0,0]\n",
    "\n",
    "plt.plot(surface_sal_baby,surface_DIC_baby,'r+', label = 'present-day DIC')\n",
    "plt.plot(surface_sal_baby,surface_DIC_baby+intrusion_baby,'ro', label = '2050 SSP245 DIC')\n",
    "plt.plot(surface_sal_baby,surface_TA_baby,'k+', label = 'TA')\n",
    "plt.legend()\n"
   ]
  },
  {
   "cell_type": "code",
   "execution_count": 52,
   "metadata": {},
   "outputs": [
    {
     "name": "stdout",
     "output_type": "stream",
     "text": [
      "22.882837720044055\n",
      "28.05065373708155\n",
      "nan\n"
     ]
    },
    {
     "name": "stderr",
     "output_type": "stream",
     "text": [
      "/home/tjarniko/anaconda3/lib/python3.7/site-packages/ipykernel_launcher.py:9: RuntimeWarning: Mean of empty slice\n",
      "  if __name__ == '__main__':\n"
     ]
    },
    {
     "data": {
      "text/plain": [
       "Text(0, 0.5, 'DIC intrusion umol/L')"
      ]
     },
     "execution_count": 52,
     "metadata": {},
     "output_type": "execute_result"
    },
    {
     "data": {
      "image/png": "[encoded data removed]",
      "text/plain": [
       "<Figure size 691.2x345.6 with 1 Axes>"
      ]
     },
     "metadata": {
      "needs_background": "light"
     },
     "output_type": "display_data"
    }
   ],
   "source": [
    "np.shape(newCAR_sigma0)\n",
    "DIC_intrusion = newCAR_DIC-presday_DIC\n",
    "#presday_sal \n",
    "sig25 = (newCAR_sigma0 >25.0) & (newCAR_sigma0 < 25.1)\n",
    "print(np.nanmean(DIC_intrusion[sig25]))\n",
    "sig26 = (newCAR_sigma0 >26.0) & (newCAR_sigma0 < 26.1)\n",
    "print(np.nanmean(DIC_intrusion[sig26]))\n",
    "sig27 = (newCAR_sigma0 >27.0) & (newCAR_sigma0 < 27.1)\n",
    "print(np.nanmean(DIC_intrusion[sig27]))\n",
    "\n",
    "\n",
    "fact = 0.8\n",
    "fig, axs = plt.subplots(1,1, figsize=(12*fact, 6*fact), edgecolor='k')\n",
    "#axs = axs.ravel()\n",
    "\n",
    "#plt.xticks(rotation=70)\n",
    "axs.plot(presday_sal[sig25],DIC_intrusion[sig25],\n",
    "            color = 'k', marker = '.', linestyle = '', \\\n",
    "            label = 'JDF BC intrusion estimate \\n sigma0 >25 & sigma0 <25.1' )\n",
    "axs.plot(presday_sal[sig26],DIC_intrusion[sig26],\n",
    "            color = 'darkblue', marker = '.', linestyle = '', \\\n",
    "            label = 'JDF BC intrusion estimate \\n sigma0 >26 & sigma0 <26.1' )\n",
    "axs.plot(mean_sal_deep_EM,mean_intr_deep_EM, color = 'gold',\\\n",
    "         marker = '*',linestyle = '',\\\n",
    "         label = 'monthly means of the intrusion around sigma 26-26.1')\n",
    "plt.plot(surface_sal_baby,intrusion_baby,'ro', label = '2050 SSP245 DIC at JS, surface')\n",
    "\n",
    "\n",
    "intr_concat2 = np.concatenate((mean_intr_deep_EM,intrusion_baby), axis=0)\n",
    "sal_concat2 = np.concatenate((mean_sal_deep_EM,surface_sal_baby), axis=0)\n",
    "m2, b2 = np.polyfit(sal_concat2, intr_concat2, 1)\n",
    "\n",
    "\n",
    "axs.plot(sal_concat2, m2*sal_concat2 + b2, linestyle = '-', color = 'teal', label = 'lin. rel. - based on monthly means')\n",
    "\n",
    "\n",
    "\n",
    "#tsal_r_psu = tsal_r*35/35.16504\n",
    "\n",
    "axs.grid(b=True, which='major', color='b', linestyle='-')\n",
    "axs.legend(bbox_to_anchor = [1,1])\n",
    "axs.set_xlabel('salinity g/kg')\n",
    "axs.set_ylabel('DIC intrusion umol/L')\n"
   ]
  },
  {
   "cell_type": "code",
   "execution_count": 56,
   "metadata": {},
   "outputs": [
    {
     "name": "stdout",
     "output_type": "stream",
     "text": [
      "30.922537\n",
      "29.415043\n"
     ]
    }
   ],
   "source": [
    "#http://localhost:8807/notebooks/notebooks/\n",
    "#PI_CARBON_PAPER/PI_BOUND_COND/CLEAN/\n",
    "#JS_dic_alg_DIC_int_vs_salinity_and_make_JS_BCs.ipynb\n",
    "\n",
    "intr2 = m2*sal_concat2 + b2\n",
    "\n",
    "presday_JS_bc = nc.Dataset('/data/tjarniko/MEOPAR/tracers/north/Dosser_north_TEOS10_DICTA.nc')\n",
    "presday_JS_bc_sal = presday_JS_bc['vosaline']\n",
    "\n",
    "car50_intr = m2*presday_JS_bc_sal + b2\n",
    "print(np.max(car50_intr))\n",
    "print(np.min(car50_intr))\n",
    "\n",
    "car50_DIC = car50_intr + presday_JS_bc_DIC "
   ]
  },
  {
   "cell_type": "code",
   "execution_count": 57,
   "metadata": {},
   "outputs": [],
   "source": [
    "\n",
    "\n",
    "#input file\n",
    "test_LO = nc.Dataset(f'//data/tjarniko/MEOPAR/tracers/north/Dosser_north_TEOS10_DICTA.nc')\n",
    "#print(test_LO)\n",
    "#input file for preindustrial DIC\n",
    "dsin = test_LO \n",
    "#output filename\n",
    "ncname = f'./Dosser_north_TEOS10_CAR50_SSP245_JS.nc'\n",
    "\n",
    "dsout = nc.Dataset(ncname, \"w\", format=\"NETCDF4\")\n",
    "#Copy dimensions\n",
    "for dname, the_dim in dsin.dimensions.items():\n",
    "    #print(dname)\n",
    "    #print(len(the_dim))\n",
    "    dsout.createDimension(dname, len(the_dim) if not the_dim.isunlimited() else None)\n",
    "\n",
    "# Copy variables\n",
    "for v_name, varin in dsin.variables.items():\n",
    "    #print(v_name)\n",
    "    #if (v_name != 'DIC'):\n",
    "    outVar = dsout.createVariable(v_name, varin.datatype, varin.dimensions)\n",
    "    # Copy variable attributes\n",
    "    outVar.setncatts({k: varin.getncattr(k) for k in varin.ncattrs()})\n",
    "\n",
    "    outVar[:] = varin[:]\n",
    "\n",
    "# copy new DIC variables\n",
    "dsout['DIC'][:] = car50_DIC\n",
    "\n",
    "dsout.close()"
   ]
  },
  {
   "cell_type": "code",
   "execution_count": null,
   "metadata": {},
   "outputs": [],
   "source": []
  }
 ],
 "metadata": {
  "kernelspec": {
   "display_name": "Python 3",
   "language": "python",
   "name": "python3"
  },
  "language_info": {
   "codemirror_mode": {
    "name": "ipython",
    "version": 3
   },
   "file_extension": ".py",
   "mimetype": "text/x-python",
   "name": "python",
   "nbconvert_exporter": "python",
   "pygments_lexer": "ipython3",
   "version": "3.7.4"
  }
 },
 "nbformat": 4,
 "nbformat_minor": 2
}
