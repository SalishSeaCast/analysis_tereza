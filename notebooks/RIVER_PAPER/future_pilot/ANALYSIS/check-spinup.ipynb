{
 "cells": [
  {
   "cell_type": "code",
   "execution_count": 1,
   "metadata": {},
   "outputs": [],
   "source": [
    "import numpy as np\n",
    "# import xarray as xr\n",
    "import matplotlib.pyplot as plt\n",
    "# from matplotlib.patches import Rectangle\n",
    "# from mpl_toolkits.basemap import Basemap\n",
    "# from scipy.io import loadmat\n",
    "from cmocean import cm\n",
    "import pandas as pd\n",
    "import warnings\n",
    "import pickle\n",
    "import arrow\n",
    "#from cartopy import crs, feature\n",
    "#from cartopy.mpl.gridliner import LONGITUDE_FORMATTER, LATITUDE_FORMATTER\n",
    "from salishsea_tools import viz_tools\n",
    "import netCDF4 as nc\n",
    "import glob\n",
    "from decimal import Decimal\n",
    "\n",
    "#import LambertConformalTicks as lct\n",
    "\n",
    "%matplotlib inline\n",
    "plt.rcParams['font.size'] = 11\n",
    "warnings.simplefilter('ignore')"
   ]
  },
  {
   "cell_type": "code",
   "execution_count": null,
   "metadata": {},
   "outputs": [],
   "source": []
  }
 ],
 "metadata": {
  "kernelspec": {
   "display_name": "Python 3",
   "language": "python",
   "name": "python3"
  },
  "language_info": {
   "codemirror_mode": {
    "name": "ipython",
    "version": 3
   },
   "file_extension": ".py",
   "mimetype": "text/x-python",
   "name": "python",
   "nbconvert_exporter": "python",
   "pygments_lexer": "ipython3",
   "version": "3.7.4"
  }
 },
 "nbformat": 4,
 "nbformat_minor": 2
}
