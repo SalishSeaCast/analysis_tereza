{
 "cells": [
  {
   "cell_type": "code",
   "execution_count": 1,
   "metadata": {},
   "outputs": [],
   "source": [
    "import numpy as np\n",
    "# import xarray as xr\n",
    "import matplotlib.pyplot as plt\n",
    "# from matplotlib.patches import Rectangle\n",
    "# from mpl_toolkits.basemap import Basemap\n",
    "# from scipy.io import loadmat\n",
    "from cmocean import cm\n",
    "import pandas as pd\n",
    "import warnings\n",
    "import pickle\n",
    "import arrow\n",
    "#from cartopy import crs, feature\n",
    "#from cartopy.mpl.gridliner import LONGITUDE_FORMATTER, LATITUDE_FORMATTER\n",
    "from salishsea_tools import viz_tools\n",
    "import netCDF4 as nc\n",
    "import glob\n",
    "from decimal import Decimal\n",
    "\n",
    "#import LambertConformalTicks as lct\n",
    "\n",
    "%matplotlib inline\n",
    "plt.rcParams['font.size'] = 11\n",
    "warnings.simplefilter('ignore')"
   ]
  },
  {
   "cell_type": "markdown",
   "metadata": {},
   "source": [
    "## Quick check that things are as expected"
   ]
  },
  {
   "cell_type": "code",
   "execution_count": 6,
   "metadata": {},
   "outputs": [],
   "source": [
    "t_nc = 'SalishSeaCast_1d_20170101_20170130_carp_T_20170130-20170130.nc'\n",
    "\n",
    "CAR50 = '/data/tjarniko/results/FUTURE_runs/CAR50/01jan17_RIVTA5/'\n",
    "BUDGET = '/data/tjarniko/results/FUTURE_runs/NEWBUDGET/01jan17_RIVTA5/'\n",
    "\n",
    "CAR50_nc = nc.Dataset(f'{CAR50}{t_nc}')\n",
    "BUDGET_nc = nc.Dataset(f'{BUDGET}{t_nc}')"
   ]
  },
  {
   "cell_type": "code",
   "execution_count": 11,
   "metadata": {},
   "outputs": [
    {
     "name": "stdout",
     "output_type": "stream",
     "text": [
      "[24.625244 24.643433 24.68103  24.716064 24.753906 24.795166 24.846802\n",
      " 24.90857  24.969727 25.019775 25.09314  25.174805 25.233276 25.297363\n",
      " 25.352295 25.415283 25.471191 25.545898 25.640137 25.773682 25.915283\n",
      " 26.084229 26.29956  26.559814 26.949951 27.319092 27.773193 28.353271\n",
      " 28.876465 29.169678  0.        0.        0.        0.        0.\n",
      "  0.        0.        0.        0.        0.      ]\n"
     ]
    }
   ],
   "source": [
    "js_CAR50 = CAR50_nc['dissolved_inorganic_carbon'][0,:,878,60]\n",
    "js_BUDGET = BUDGET_nc['dissolved_inorganic_carbon'][0,:,878,60]\n",
    "\n",
    "print(js_CAR50-js_BUDGET)"
   ]
  },
  {
   "cell_type": "code",
   "execution_count": 15,
   "metadata": {},
   "outputs": [
    {
     "name": "stdout",
     "output_type": "stream",
     "text": [
      "[12.850342  12.884277  13.065918  13.155518  13.183838  13.177246\n",
      " 13.135254  13.114502  13.0686035 13.031006  13.004639  12.976318\n",
      " 12.995117  13.036621  13.064209  13.119141  13.20459   13.249512\n",
      " 13.412598  13.374268  13.612061  13.594482  13.703369  13.585449\n",
      " 15.746582  17.96997   20.655518  23.473145  25.273438  26.282715\n",
      " 27.16748   27.688477   0.         0.         0.         0.\n",
      "  0.         0.         0.         0.       ]\n"
     ]
    }
   ],
   "source": [
    "jdf_CAR50 = CAR50_nc['dissolved_inorganic_carbon'][0,:,410,20]\n",
    "jdf_BUDGET = BUDGET_nc['dissolved_inorganic_carbon'][0,:,410,20]\n",
    "\n",
    "print(jdf_CAR50-jdf_BUDGET)"
   ]
  },
  {
   "cell_type": "code",
   "execution_count": 16,
   "metadata": {},
   "outputs": [],
   "source": [
    " zz_carbon_year =   -999.000000000000\n",
    " zz_LR_slope =   0.000000000000000E+000\n",
    " zz_LR_int =    509.240000000000"
   ]
  },
  {
   "cell_type": "code",
   "execution_count": null,
   "metadata": {},
   "outputs": [],
   "source": []
  }
 ],
 "metadata": {
  "kernelspec": {
   "display_name": "Python 3",
   "language": "python",
   "name": "python3"
  },
  "language_info": {
   "codemirror_mode": {
    "name": "ipython",
    "version": 3
   },
   "file_extension": ".py",
   "mimetype": "text/x-python",
   "name": "python",
   "nbconvert_exporter": "python",
   "pygments_lexer": "ipython3",
   "version": "3.7.4"
  }
 },
 "nbformat": 4,
 "nbformat_minor": 2
}
