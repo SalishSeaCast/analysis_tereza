{
 "cells": [
  {
   "cell_type": "code",
   "execution_count": 17,
   "metadata": {},
   "outputs": [],
   "source": [
    "import sys\n",
    "sys.path.append('./extraction_scripts/')\n",
    "import arrow\n",
    "import xarray as xr\n",
    "import numpy as np\n",
    "import glob\n",
    "import netCDF4 as nc\n",
    "import map_fxn as mf"
   ]
  },
  {
   "cell_type": "code",
   "execution_count": 106,
   "metadata": {},
   "outputs": [],
   "source": [
    "def find_depth_deepalg(dp,prof,ts_y,ts_x, verbose = True):\n",
    "    \n",
    "    horizon = -9999\n",
    "    water_depth = bathy['Bathymetry'][ts_y,ts_x]\n",
    "    \n",
    "    #case where no undersaturated water\n",
    "    where_undersat = np.where(prof < 1); where_undersat = np.array(where_undersat)\n",
    "    where_ssat = np.where((prof >= 1) & (prof < 1e19)); where_ssat = np.array(where_ssat)\n",
    "    \n",
    "    if(where_undersat.size == 0):\n",
    "        if verbose:\n",
    "            print('supersaturated to bottom')\n",
    "        horizon = water_depth\n",
    "        return horizon\n",
    "    \n",
    "    #case where only undersaturated water\n",
    "    if(where_ssat.size == 0):\n",
    "        if verbose:\n",
    "            print('max aragonite found')\n",
    "            print(np.max(prof[prof<1e19]))\n",
    "        horizon = 0\n",
    "        return horizon\n",
    "    \n",
    "    #case where last water cell is >1\n",
    "    prof_water = prof[prof<1e20]\n",
    "    last_water = prof_water[-1]\n",
    "    if last_water >=1 :\n",
    "        horizon = water_depth\n",
    "        return horizon\n",
    "    \n",
    "    #case where there is some undersat water below all supersat water\n",
    "    deepest_ssat = np.max(where_ssat)\n",
    "    first_proper_undersat = (np.min(where_undersat[where_undersat>deepest_ssat]))\n",
    "    horizon = (dp[first_proper_undersat]+dp[first_proper_undersat-1])/2\n",
    "    \n",
    "    return(horizon)"
   ]
  },
  {
   "cell_type": "code",
   "execution_count": 107,
   "metadata": {},
   "outputs": [],
   "source": []
  },
  {
   "cell_type": "code",
   "execution_count": 108,
   "metadata": {},
   "outputs": [],
   "source": [
    "#### get stations - spacing 10\n",
    "\n"
   ]
  },
  {
   "cell_type": "code",
   "execution_count": 101,
   "metadata": {},
   "outputs": [
    {
     "name": "stdout",
     "output_type": "stream",
     "text": [
      "(1, 40)\n"
     ]
    }
   ],
   "source": []
  },
  {
   "cell_type": "code",
   "execution_count": 109,
   "metadata": {},
   "outputs": [
    {
     "name": "stdout",
     "output_type": "stream",
     "text": [
      "station is:  0\n",
      "x is : 2\n",
      "y is : 392\n",
      "0\n",
      "20\n",
      "40\n",
      "60\n",
      "80\n",
      "100\n",
      "120\n",
      "140\n",
      "160\n",
      "180\n",
      "200\n",
      "220\n",
      "240\n",
      "260\n",
      "280\n",
      "300\n",
      "320\n",
      "340\n",
      "360\n"
     ]
    }
   ],
   "source": []
  },
  {
   "cell_type": "code",
   "execution_count": 117,
   "metadata": {},
   "outputs": [
    {
     "data": {
      "text/plain": [
       "[<matplotlib.lines.Line2D at 0x7f565100eb50>]"
      ]
     },
     "execution_count": 117,
     "metadata": {},
     "output_type": "execute_result"
    },
    {
     "data": {
      "image/png": "[encoded data removed]",
      "text/plain": [
       "<Figure size 432x288 with 1 Axes>"
      ]
     },
     "metadata": {
      "needs_background": "light"
     },
     "output_type": "display_data"
    }
   ],
   "source": [
    "daily = nc.Dataset('./ncs/BR3_7asat_depth_sp10.nc')\n",
    "daily_halocline = daily['arag_hor'][:]\n",
    "\n",
    "from matplotlib import pyplot as plt\n",
    "%matplotlib inline\n",
    "plt.plot(daily_halocline)"
   ]
  },
  {
   "cell_type": "code",
   "execution_count": 88,
   "metadata": {},
   "outputs": [
    {
     "name": "stdout",
     "output_type": "stream",
     "text": [
      "23\n"
     ]
    }
   ],
   "source": [
    "dp = np.array([1,2,3,4,5])\n",
    "testar = np.array([0.5, 1.5, 0.5, 1.5, 1e20])\n",
    "\n",
    "t = [2.1220067e+00 ,2.1157651e+00, 2.1026301e+00, 2.0881994e+00 2.0722318e+00\n",
    " 2.0556872e+00 2.0376987e+00 2.0144215e+00 1.9877462e+00 1.9568869e+00\n",
    " 1.9150203e+00 1.8680321e+00 1.8088342e+00 1.7404130e+00 1.6730932e+00\n",
    " 1.6019267e+00 1.5287690e+00 1.4637965e+00 1.3955457e+00 1.3200153e+00\n",
    " 1.2311723e+00 1.1432377e+00 1.0954510e+00 1.0620425e+00 1.0305014e+00\n",
    " 9.9139780e-01 1.0000000e+20 1.0000000e+20 1.0000000e+20 1.0000000e+20\n",
    " 1.0000000e+20 1.0000000e+20 1.0000000e+20 1.0000000e+20 1.0000000e+20\n",
    " 1.0000000e+20 1.0000000e+20 1.0000000e+20 1.0000000e+20 1.0000000e+20]\n",
    "water_depth = 23\n",
    "\n",
    "\n",
    "\n",
    "horizon = find_depth_deepalg(dp,testar,ts_y,ts_x)\n",
    "print(horizon) "
   ]
  },
  {
   "cell_type": "code",
   "execution_count": 97,
   "metadata": {},
   "outputs": [
    {
     "name": "stdout",
     "output_type": "stream",
     "text": [
      "84.3125\n",
      "3.5\n"
     ]
    }
   ],
   "source": [
    "dp = grid['gdept_0'][:]\n",
    "\n",
    "# def find_depth_deepalg(dp,prof,ts_y,ts_x, verbose = True):\n",
    "    \n",
    "#     horizon = -9999\n",
    "#     water_depth = bathy['Bathymetry'][ts_y,ts_x]\n",
    "    \n",
    "#     #case where no undersaturated water\n",
    "#     where_undersat = np.where(prof < 1); where_undersat = np.array(where_undersat)\n",
    "#     where_ssat = np.where((prof >= 1) & (prof < 1e19)); where_ssat = np.array(where_ssat)\n",
    "    \n",
    "#     if(where_undersat.size == 0):\n",
    "#         if verbose:\n",
    "#             print('supersaturated to bottom')\n",
    "#         horizon = water_depth\n",
    "#         return horizon\n",
    "    \n",
    "#     #case where only undersaturated water\n",
    "#     if(where_ssat.size == 0):\n",
    "#         if verbose:\n",
    "#             print('max aragonite found')\n",
    "#             print(np.max(prof[prof<1e19]))\n",
    "#         horizon = 0\n",
    "#         return horizon\n",
    "    \n",
    "#     #case where last water cell is >1\n",
    "#     prof_water = prof[prof<1e20]\n",
    "#     last_water = prof_water[-1]\n",
    "#     if last_water >=1 :\n",
    "#         horizon = water_depth\n",
    "#         return horizon\n",
    "    \n",
    "#     #case where there is some undersat water below all supersat water\n",
    "#     deepest_ssat = np.max(where_ssat)\n",
    "#     first_proper_undersat = (np.min(where_undersat[where_undersat>deepest_ssat]))\n",
    "#     horizon = (dp[first_proper_undersat]+dp[first_proper_undersat-1])/2\n",
    "    \n",
    "#     return(horizon)\n",
    "\n",
    "\n",
    "\n",
    "bathy = nc.Dataset('/data/tjarniko/MEOPAR/grid/bathymetry_201702.nc')\n",
    "print(bathy['Bathymetry'][ts_y,ts_x])\n",
    "\n",
    "dp = np.array([1,2,3,4,5])\n",
    "toma2 = np.array([2,2,2,.9,1e20])\n",
    "tdepth = find_depth_deepalg(dp,toma2,ts_y,ts_x)\n",
    "\n",
    "print(tdepth)"
   ]
  },
  {
   "cell_type": "code",
   "execution_count": 89,
   "metadata": {},
   "outputs": [],
   "source": [
    "def find_depth_deepalg(dp,prof,ts_y,ts_x, verbose = True):\n",
    "    \n",
    "    horizon = -9999\n",
    "    water_depth = bathy['Bathymetry'][ts_y,ts_x]\n",
    "    \n",
    "    #case where no undersaturated water\n",
    "    where_undersat = np.where(prof < 1); where_undersat = np.array(where_undersat)\n",
    "    where_ssat = np.where((prof >= 1) & (prof < 1e19)); where_ssat = np.array(where_ssat)\n",
    "    \n",
    "    if(where_undersat.size == 0):\n",
    "        if verbose:\n",
    "            print('supersaturated to bottom')\n",
    "        horizon = water_depth\n",
    "        return horizon\n",
    "    \n",
    "    #case where only undersaturated water\n",
    "    if(where_ssat.size == 0):\n",
    "        if verbose:\n",
    "            print('max aragonite found')\n",
    "            print(np.max(prof[prof<1e19]))\n",
    "        horizon = 0\n",
    "        return horizon\n",
    "    \n",
    "    #case where last water cell is >1\n",
    "    prof_water = prof[prof<1e20]\n",
    "    last_water = prof_water[-1]\n",
    "    if last_water >=1 :\n",
    "        horizon = water_depth\n",
    "        return horizon\n",
    "    \n",
    "    #case where there is some undersat water below all supersat water\n",
    "    deepest_ssat = np.max(where_ssat)\n",
    "    first_proper_undersat = (np.min(where_undersat[where_undersat>deepest_ssat]))\n",
    "    horizon = (dp[first_proper_undersat]+dp[first_proper_undersat-1])/2\n",
    "    \n",
    "    return(horizon)\n"
   ]
  },
  {
   "cell_type": "code",
   "execution_count": 2,
   "metadata": {},
   "outputs": [],
   "source": [
    "def yearomahor_de(spacing,stn_b,stn_e,year):\n",
    "    \n",
    "    import map_fxn as mf\n",
    "    import time\n",
    "    import xarray as xr\n",
    "    import numpy as np\n",
    "    print('Spacing between stations: ' + str(spacing))\n",
    "    \n",
    "    bath = '/data/tjarniko/MEOPAR/grid/mesh_mask201702.nc'\n",
    "    grid = mf.import_bathy(bath)\n",
    "    fmask = (grid.fmask[0,0,:,:])\n",
    "    \n",
    "    stn_x, stn_y = mf.make_stns(spacing)\n",
    "    d_stn_x, d_stn_y = mf.filter_stn_in_domain(stn_x,stn_y,fmask)\n",
    "    \n",
    "#     no_stns = len(d_stn_x)\n",
    "#     monlist = ['jan','feb','mar','apr','may','jun','jul','aug','sep',\n",
    "#               'oct','nov','dec']\n",
    "\n",
    "#     if year == 2016: \n",
    "#         daylist = [31,29,31,30,31,30,31,31,30,31,30,31]\n",
    "#         noday = 366  \n",
    "#     else:\n",
    "#         daylist = [31,28,31,30,31,30,31,31,30,31,30,31]\n",
    "#         noday = 365    \n",
    "\n",
    "    \n",
    "#     print(year)\n",
    "#     print(noday)\n",
    "        \n",
    "#     # a list of all the model outputs (tracers) for this year\n",
    "#     trace_list = mf.create_physlist(year)\n",
    "    \n",
    "    print(\"Number of stations:\" + str(no_stns))\n",
    "    bath = '/results/nowcast-sys/NEMO-forcing/grid/mesh_mask_SalishSea2.nc'\n",
    "    grid = mf.import_bathy(bath)\n",
    "    fmask = (grid.fmask[0,0,:,:])\n",
    "\n",
    "    for stn in range(stn_b,stn_e):\n",
    "    \n",
    "        print('station is: ' ,str(stn))\n",
    "        print('x is :', d_stn_x[stn])\n",
    "        print('y is :', d_stn_y[stn])\n",
    "        \n",
    "        ts_x = d_stn_x[stn]\n",
    "        ts_y = d_stn_y[stn]\n",
    "        \n",
    "        daily_halocline = np.zeros(noday)\n",
    "        \n",
    "        end_day = noday\n",
    "        for day in range(1,end_day+1):\n",
    "            if (day%20 ==0) :\n",
    "                print(day)\n",
    "            trc = trace_list[day-1]\n",
    "            #print(trc)\n",
    "            nemo = xr.open_mfdataset(trc)\n",
    "            halo = halo_de(nemo,grid,ts_x,ts_y)\n",
    "            q = isinstance(halo, (np.ndarray))\n",
    "            if (q == True) :\n",
    "                print('found an array!')\n",
    "                daily_halocline[day-1] = halo[0]\n",
    "            else:\n",
    "                daily_halocline[day-1] = halo\n",
    "\n",
    "        halo = xr.Dataset({'halocline_depth':(['t'], daily_halocline)})\n",
    "        stn_name = '/data/tjarniko/MEOPAR/analysis-tereza/notebooks/CLUSTER_201905/NC_HINDCAST/' +  str(year)+ '/HALO_TS/stn_' + str(stn)  + 'halo_depth_sp' + str(spacing)+ '.nc'\n",
    "        halo.to_netcdf(stn_name)\n",
    "        \n",
    "\n",
    "def halo_de(nemo,grid,ts_x,ts_y):\n",
    "    import numpy as np\n",
    "    \n",
    "    #retreive distances between grid cells (\"distance between this grid cell and the one before it\")\n",
    "\n",
    "    delt_z = grid.variables['e3t'][0,:,ts_y:ts_y+1,ts_x:ts_x+1]\n",
    "    #remove the stupid singletons\n",
    "    delt_z = delt_z.values\n",
    "    delt_z = np.squeeze(delt_z)\n",
    "    \n",
    "    sal = nemo.vosaline[0,:,ts_y:ts_y+1,ts_x:ts_x+1]\n",
    "    depth = nemo.deptht\n",
    "    dv = depth.values[:]\n",
    "    sv = sal.values[:]\n",
    "    sv = np.squeeze(sv)\n",
    "\n",
    "    #for this grid cell, where do we no longer have salinity values?\n",
    "    bottom = np.where(sv ==0)\n",
    "    bottom = bottom[0]\n",
    "    bottom = bottom[0]\n",
    "\n",
    "    fxnl_sal = sv[0:bottom]\n",
    "    fxnl_e3t = delt_z[0:bottom]\n",
    "    fxnl_depth = dv[0:bottom]\n",
    "    \n",
    "    sal_gradient = np.zeros_like(fxnl_depth)\n",
    "\n",
    "    #calculating gradient\n",
    "    for i in range(1,bottom):\n",
    "        sal_gradient[i] = (fxnl_sal[i]-fxnl_sal[i-1])/fxnl_e3t[i]\n",
    "        \n",
    "    mg = max(sal_gradient)\n",
    "    #print(mg)\n",
    "\n",
    "    halocline = np.where(sal_gradient == mg)\n",
    "    halocline = np.squeeze(halocline)\n",
    "\n",
    "    halocline = fxnl_depth[halocline]\n",
    "\n",
    "    \n",
    "    return halocline\n"
   ]
  },
  {
   "cell_type": "code",
   "execution_count": 7,
   "metadata": {},
   "outputs": [
    {
     "name": "stdout",
     "output_type": "stream",
     "text": [
      "20151201\n",
      "['/data/tjarniko/results/BASERUN_EXP/Oma_calc/BR3_OmA_plus_20151201.nc']\n",
      "['/data/tjarniko/results/BASERUN_EXP/Oma_calc/BR3_OmA_plus_20151202.nc']\n",
      "['/data/tjarniko/results/BASERUN_EXP/Oma_calc/BR3_OmA_plus_20151203.nc']\n",
      "['/data/tjarniko/results/BASERUN_EXP/Oma_calc/BR3_OmA_plus_20151204.nc']\n",
      "['/data/tjarniko/results/BASERUN_EXP/Oma_calc/BR3_OmA_plus_20151205.nc']\n",
      "['/data/tjarniko/results/BASERUN_EXP/Oma_calc/BR3_OmA_plus_20151206.nc']\n",
      "['/data/tjarniko/results/BASERUN_EXP/Oma_calc/BR3_OmA_plus_20151207.nc']\n",
      "['/data/tjarniko/results/BASERUN_EXP/Oma_calc/BR3_OmA_plus_20151208.nc']\n",
      "['/data/tjarniko/results/BASERUN_EXP/Oma_calc/BR3_OmA_plus_20151209.nc']\n",
      "['/data/tjarniko/results/BASERUN_EXP/Oma_calc/BR3_OmA_plus_20151210.nc']\n",
      "['/data/tjarniko/results/BASERUN_EXP/Oma_calc/BR3_OmA_plus_20151211.nc']\n",
      "['/data/tjarniko/results/BASERUN_EXP/Oma_calc/BR3_OmA_plus_20151212.nc']\n",
      "['/data/tjarniko/results/BASERUN_EXP/Oma_calc/BR3_OmA_plus_20151213.nc']\n",
      "['/data/tjarniko/results/BASERUN_EXP/Oma_calc/BR3_OmA_plus_20151214.nc']\n",
      "['/data/tjarniko/results/BASERUN_EXP/Oma_calc/BR3_OmA_plus_20151215.nc']\n",
      "['/data/tjarniko/results/BASERUN_EXP/Oma_calc/BR3_OmA_plus_20151216.nc']\n",
      "['/data/tjarniko/results/BASERUN_EXP/Oma_calc/BR3_OmA_plus_20151217.nc']\n",
      "['/data/tjarniko/results/BASERUN_EXP/Oma_calc/BR3_OmA_plus_20151218.nc']\n",
      "['/data/tjarniko/results/BASERUN_EXP/Oma_calc/BR3_OmA_plus_20151219.nc']\n",
      "['/data/tjarniko/results/BASERUN_EXP/Oma_calc/BR3_OmA_plus_20151220.nc']\n",
      "20151221\n",
      "['/data/tjarniko/results/BASERUN_EXP/Oma_calc/BR3_OmA_plus_20151221.nc']\n",
      "['/data/tjarniko/results/BASERUN_EXP/Oma_calc/BR3_OmA_plus_20151222.nc']\n",
      "['/data/tjarniko/results/BASERUN_EXP/Oma_calc/BR3_OmA_plus_20151223.nc']\n",
      "['/data/tjarniko/results/BASERUN_EXP/Oma_calc/BR3_OmA_plus_20151224.nc']\n",
      "['/data/tjarniko/results/BASERUN_EXP/Oma_calc/BR3_OmA_plus_20151225.nc']\n",
      "['/data/tjarniko/results/BASERUN_EXP/Oma_calc/BR3_OmA_plus_20151226.nc']\n",
      "['/data/tjarniko/results/BASERUN_EXP/Oma_calc/BR3_OmA_plus_20151227.nc']\n",
      "['/data/tjarniko/results/BASERUN_EXP/Oma_calc/BR3_OmA_plus_20151228.nc']\n",
      "['/data/tjarniko/results/BASERUN_EXP/Oma_calc/BR3_OmA_plus_20151229.nc']\n",
      "['/data/tjarniko/results/BASERUN_EXP/Oma_calc/BR3_OmA_plus_20151230.nc']\n",
      "['/data/tjarniko/results/BASERUN_EXP/Oma_calc/BR3_OmA_plus_20151231.nc']\n"
     ]
    }
   ],
   "source": [
    "\n",
    "\n"
   ]
  },
  {
   "cell_type": "code",
   "execution_count": 8,
   "metadata": {},
   "outputs": [
    {
     "data": {
      "text/plain": [
       "'/data/tjarniko/results/BASERUN_EXP/Oma_calc/BR3_OmA_plus_20151207.nc'"
      ]
     },
     "execution_count": 8,
     "metadata": {},
     "output_type": "execute_result"
    }
   ],
   "source": [
    "dayar[6]"
   ]
  },
  {
   "cell_type": "code",
   "execution_count": null,
   "metadata": {},
   "outputs": [],
   "source": []
  }
 ],
 "metadata": {
  "kernelspec": {
   "display_name": "Python 3",
   "language": "python",
   "name": "python3"
  },
  "language_info": {
   "codemirror_mode": {
    "name": "ipython",
    "version": 3
   },
   "file_extension": ".py",
   "mimetype": "text/x-python",
   "name": "python",
   "nbconvert_exporter": "python",
   "pygments_lexer": "ipython3",
   "version": "3.7.4"
  }
 },
 "nbformat": 4,
 "nbformat_minor": 2
}
