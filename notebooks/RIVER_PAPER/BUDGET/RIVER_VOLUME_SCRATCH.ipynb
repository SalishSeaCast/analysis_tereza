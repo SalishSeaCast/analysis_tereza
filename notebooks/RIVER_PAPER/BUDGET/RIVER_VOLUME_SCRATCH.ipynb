{
 "cells": [
  {
   "cell_type": "code",
   "execution_count": 2,
   "metadata": {},
   "outputs": [
    {
     "data": {
      "text/html": [
       "<script>\n",
       "code_show=true; \n",
       "function code_toggle() {\n",
       " if (code_show){\n",
       " $('div.input').hide();\n",
       " } else {\n",
       " $('div.input').show();\n",
       " }\n",
       " code_show = !code_show\n",
       "} \n",
       "$( document ).ready(code_toggle);\n",
       "</script>\n",
       "<form action=\"javascript:code_toggle()\"><input type=\"submit\" value=\"Click here to toggle on/off the raw code.\"></form>"
      ],
      "text/plain": [
       "<IPython.core.display.HTML object>"
      ]
     },
     "execution_count": 2,
     "metadata": {},
     "output_type": "execute_result"
    }
   ],
   "source": [
    "from IPython.display import HTML\n",
    "\n",
    "HTML('''<script>\n",
    "code_show=true; \n",
    "function code_toggle() {\n",
    " if (code_show){\n",
    " $('div.input').hide();\n",
    " } else {\n",
    " $('div.input').show();\n",
    " }\n",
    " code_show = !code_show\n",
    "} \n",
    "$( document ).ready(code_toggle);\n",
    "</script>\n",
    "<form action=\"javascript:code_toggle()\"><input type=\"submit\" value=\"Click here to toggle on/off the raw code.\"></form>''')"
   ]
  },
  {
   "cell_type": "code",
   "execution_count": 1,
   "metadata": {},
   "outputs": [],
   "source": [
    "import numpy as np\n",
    "# import xarray as xr\n",
    "import matplotlib.pyplot as plt\n",
    "# from matplotlib.patches import Rectangle\n",
    "# from mpl_toolkits.basemap import Basemap\n",
    "# from scipy.io import loadmat\n",
    "from cmocean import cm\n",
    "import pandas as pd\n",
    "\n",
    "import pickle\n",
    "import arrow\n",
    "#from cartopy import crs, feature\n",
    "#from cartopy.mpl.gridliner import LONGITUDE_FORMATTER, LATITUDE_FORMATTER\n",
    "from salishsea_tools import viz_tools\n",
    "import netCDF4 as nc\n",
    "import glob\n",
    "from decimal import Decimal\n",
    "\n",
    "#import LambertConformalTicks as lct\n",
    "\n",
    "%matplotlib inline\n",
    "plt.rcParams['font.size'] = 11\n",
    "\n",
    "import warnings\n",
    "warnings.simplefilter('ignore')"
   ]
  },
  {
   "cell_type": "code",
   "execution_count": 7,
   "metadata": {},
   "outputs": [],
   "source": [
    "# dimensional conversion variables \n",
    "\n",
    "#meshmask\n",
    "mmk = nc.Dataset('/data/tjarniko/MEOPAR/grid/mesh_mask201702.nc')\n",
    "e2t = (mmk['e2t'][0,:,:])\n",
    "e1t = (mmk['e1t'][0,:,:])\n",
    "#\n",
    "e1v = (mmk['e1v'][0,:,:])\n",
    "e2u = (mmk['e2u'][0,:,:])\n",
    "surfar_m2 = e1t * e2t\n",
    "tmask_orig = mmk['tmask'][0,:,:,:]\n",
    "tmask = (mmk['tmask'][0,:,:,:])\n",
    "\n",
    "# cut edges\n",
    "tmask[:,878:898,0:100] = 0\n",
    "tmask[:,:,0:20] = 0\n",
    "\n",
    "surfar_m2[878:898,0:100] = 0\n",
    "surfar_m2[:,0:20] = 0\n",
    "\n",
    "surfar_m2_broad = np.zeros([40,898,398])\n",
    "\n",
    "for i in range(0,40):\n",
    "    surfar_m2_broad[i,:,:] = surfar_m2\n",
    "\n",
    "surfar_m2_mask = surfar_m2_broad * tmask\n",
    "\n",
    "#seconds in day\n",
    "sid = 60*60*24"
   ]
  },
  {
   "cell_type": "code",
   "execution_count": 10,
   "metadata": {},
   "outputs": [],
   "source": [
    "\n"
   ]
  },
  {
   "cell_type": "code",
   "execution_count": 19,
   "metadata": {},
   "outputs": [],
   "source": [
    "# dimensional conversion variables \n",
    "\n",
    "#meshmask\n",
    "mmk = nc.Dataset('/data/tjarniko/MEOPAR/grid/mesh_mask201702.nc')\n",
    "e2t = (mmk['e2t'][0,:,:])\n",
    "e1t = (mmk['e1t'][0,:,:])\n",
    "#\n",
    "e1v = (mmk['e1v'][0,:,:])\n",
    "e2u = (mmk['e2u'][0,:,:])\n",
    "surfar_m2 = e1t * e2t\n",
    "tmask_orig = mmk['tmask'][0,:,:,:]\n",
    "tmask = (mmk['tmask'][0,:,:,:])\n",
    "\n",
    "# cut edges\n",
    "tmask[:,878:898,0:100] = 0\n",
    "tmask[:,:,0:20] = 0\n",
    "\n",
    "surfar_m2[878:898,0:100] = 0\n",
    "surfar_m2[:,0:20] = 0\n",
    "\n",
    "surfar_m2_broad = np.zeros([40,898,398])\n",
    "\n",
    "for i in range(0,40):\n",
    "    surfar_m2_broad[i,:,:] = surfar_m2\n",
    "\n",
    "surfar_m2_mask = surfar_m2_broad * tmask\n",
    "\n",
    "#seconds in day\n",
    "sid = 60*60*24\n",
    "\n",
    "masked_surface_area = surfar_m2_mask[0,:,:]\n",
    "\n",
    "yy = 2017\n",
    "mm = '01'\n",
    "dd = '01'\n",
    "\n",
    "fformatFlow=f'/results/forcing/rivers/R201702DFraCElse_y{yy}m{mm}d{dd}.nc'\n",
    "w = nc.Dataset(fformatFlow)\n",
    "runoff_kg_m2_s = (w['rorunoff'][0,:,:])\n",
    "runoff_kg_s = runoff_kg_m2_s * masked_surface_area\n",
    "runoff_m3_day = runoff_kg_s * sid * (1/1000) # 1000 kg per m3\n",
    "tot_runoff_m3_day = np.sum(np.sum(runoff_m3_day))\n",
    "\n"
   ]
  },
  {
   "cell_type": "code",
   "execution_count": 27,
   "metadata": {},
   "outputs": [],
   "source": [
    "start ='2017-01-01'\n",
    "end ='2017-12-31'\n",
    "\n",
    "start_run = arrow.get(start)\n",
    "end_run = arrow.get(end)\n",
    "\n",
    "arrow_array = []\n",
    "\n",
    "for r in arrow.Arrow.span_range('day', start_run, end_run):\n",
    "    arrow_array.append(r)\n",
    "\n",
    "#dayslen = 265\n",
    "runoff_stor_m3_day = np.zeros([365])\n",
    "\n",
    "for i in range(0,365):\n",
    "\n",
    "        tdate = arrow_array[i][0]\n",
    "        #print(tdate)\n",
    "        yy = tdate.format('YYYY')\n",
    "        mm = tdate.format('MM')\n",
    "        dd = tdate.format('DD')\n",
    "        tdat = (f'y{yy}m{mm}d{dd}')\n",
    "\n",
    "        fformatFlow=f'/results/forcing/rivers/R201702DFraCElse_{tdat}.nc'\n",
    "        w = nc.Dataset(fformatFlow)\n",
    "        runoff_kg_m2_s = (w['rorunoff'][0,:,:])\n",
    "        runoff_kg_s = runoff_kg_m2_s * masked_surface_area\n",
    "        runoff_m3_day = runoff_kg_s * sid * (1/1000) # 1000 kg per m3\n",
    "        #runoff_stor_m3_dayprint(np.shape(runoff_m3_day))\n",
    "        tot_runoff_m3_day = np.sum(np.sum(runoff_m3_day))\n",
    "        #print(np.shape(tot_runoff_m3_day))\n",
    "        runoff_stor_m3_day[i] = tot_runoff_m3_day"
   ]
  },
  {
   "cell_type": "code",
   "execution_count": 26,
   "metadata": {},
   "outputs": [
    {
     "data": {
      "image/png": "[encoded data removed]",
      "text/plain": [
       "<Figure size 432x288 with 1 Axes>"
      ]
     },
     "metadata": {
      "needs_background": "light"
     },
     "output_type": "display_data"
    }
   ],
   "source": [
    "w = plt.plot(runoff_stor_m3_day,'r-')"
   ]
  },
  {
   "cell_type": "code",
   "execution_count": 24,
   "metadata": {},
   "outputs": [
    {
     "name": "stdout",
     "output_type": "stream",
     "text": [
      "(898, 398)\n"
     ]
    }
   ],
   "source": [
    "print(np.shape(runoff_m3_day))"
   ]
  },
  {
   "cell_type": "code",
   "execution_count": null,
   "metadata": {},
   "outputs": [],
   "source": []
  }
 ],
 "metadata": {
  "kernelspec": {
   "display_name": "Python 3",
   "language": "python",
   "name": "python3"
  },
  "language_info": {
   "codemirror_mode": {
    "name": "ipython",
    "version": 3
   },
   "file_extension": ".py",
   "mimetype": "text/x-python",
   "name": "python",
   "nbconvert_exporter": "python",
   "pygments_lexer": "ipython3",
   "version": "3.7.4"
  }
 },
 "nbformat": 4,
 "nbformat_minor": 2
}
